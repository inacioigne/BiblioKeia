{
 "cells": [
  {
   "cell_type": "code",
   "execution_count": 6,
   "metadata": {},
   "outputs": [],
   "source": [
    "from rdflib import Graph\n",
    "from typing import Optional\n",
    "from pydantic import BaseModel\n",
    "from api.src.function.loc.getType import GetType"
   ]
  },
  {
   "cell_type": "code",
   "execution_count": 54,
   "metadata": {},
   "outputs": [],
   "source": [
    "from api.src.schemas.authorities.authority import Uri, Variant, AdminMetadata, Element\n",
    "class Agents(BaseModel):\n",
    "    type: str \n",
    "    # adminMetadata: AdminMetadata \n",
    "    elementList: list[Element]\n",
    "    fullerName: Optional[Element]\n",
    "    # note: Optional[str]\n",
    "    # hasReciprocalAuthority: Optional[list[Uri]]\n",
    "    # hasReciprocalExternalAuthority: Optional[list[Uri]]\n",
    "    # hasBroaderAuthority: Optional[list[Uri]]\n",
    "    # hasBroaderExternalAuthority: Optional[list[Uri]]\n",
    "    # hasNarrowerAuthority: Optional[list[Uri]]\n",
    "    # hasNarrowerExternalAuthority: Optional[list[Uri]]\n",
    "    # hasCloseExternalAuthority: Optional[list[Uri]]\n",
    "    # hasExactExternalAuthority: Optional[list[Uri]]\n",
    "    # hasVariant: Optional[list[Variant]]\n",
    "    # subjectOf: Optional[list[Uri]]\n",
    "    # isMemberOfMADSCollection: str"
   ]
  },
  {
   "cell_type": "code",
   "execution_count": 15,
   "metadata": {},
   "outputs": [
    {
     "data": {
      "text/plain": [
       "<Graph identifier=N0c3d1fbdee144e1781c329f2d6d0dd75 (<class 'rdflib.graph.Graph'>)>"
      ]
     },
     "execution_count": 15,
     "metadata": {},
     "output_type": "execute_result"
    }
   ],
   "source": [
    "authority = 'http://id.loc.gov/authorities/names/n80002329'\n",
    "graph = Graph()\n",
    "graph.parse(f'{authority}.madsrdf.rdf')"
   ]
  },
  {
   "cell_type": "code",
   "execution_count": 67,
   "metadata": {},
   "outputs": [],
   "source": [
    "def getElementList(graph, authority, obj):\n",
    "    \n",
    "  qElementList = f\"\"\"PREFIX rdf: <http://www.w3.org/1999/02/22-rdf-syntax-ns#>\n",
    "    PREFIX madsrdf: <http://www.loc.gov/mads/rdf/v1#>\n",
    "    SELECT ?type ?value \n",
    "    WHERE  {{\n",
    "    <{authority}> madsrdf:elementList ?elementList .\n",
    "    ?elementList rdf:rest* ?rest .\n",
    "    ?rest rdf:first ?first .\n",
    "    ?first rdf:type ?type  .\n",
    "    ?first madsrdf:elementValue ?value\n",
    "      }}\"\"\"\n",
    "  r = graph.query(qElementList)\n",
    "  bindings = r.bindings\n",
    "  elementList = list()\n",
    "\n",
    "  for i in bindings:\n",
    "    element = {\n",
    "            \"type\": i.get('type').split(\"#\")[1],\n",
    "          \"elementValue\": {\n",
    "            \"value\":  i.get('value').toPython(),\n",
    "            \"lang\": i.get('lang')\n",
    "          }\n",
    "        }\n",
    "    elementList.append(element)\n",
    "  obj['elementList'] = elementList\n",
    "\n",
    "  return obj\n",
    "\n",
    "def getFullerName(graph, authority, obj):\n",
    "    \n",
    "  qFullerName = f\"\"\"PREFIX rdf: <http://www.w3.org/1999/02/22-rdf-syntax-ns#>\n",
    "    PREFIX madsrdf: <http://www.loc.gov/mads/rdf/v1#>\n",
    "    SELECT ?type ?value \n",
    "    WHERE  {{\n",
    "    <{authority}> madsrdf:fullerName ?fullerName .\n",
    "      ?fullerName rdf:type ?type .\n",
    "      ?fullerName rdfs:label ?value\n",
    "      }}\"\"\"\n",
    "  r = graph.query(qFullerName)\n",
    "  bindings = r.bindings\n",
    "  if len(bindings) > 0:\n",
    "    result = bindings[0]\n",
    "    element = {\n",
    "              \"type\": result.get('type').split(\"#\")[1],\n",
    "            \"elementValue\": {\n",
    "              \"value\": result.get('value').toPython(),\n",
    "              \"lang\": result.get('lang')\n",
    "            }\n",
    "          }\n",
    "    obj['fullerName'] = element\n",
    "    \n",
    "  return obj\n",
    "\n",
    "def GetExternalUri(authority, graph, metadata, obj):\n",
    "\n",
    "    query = f\"\"\"PREFIX madsrdf: <http://www.loc.gov/mads/rdf/v1#>\n",
    "            SELECT * WHERE  {{\n",
    "              <{authority}> madsrdf:has{metadata}Authority ?value .\n",
    "              ?value madsrdf:authoritativeLabel ?label\n",
    "              }}\"\"\"\n",
    "    response = graph.query(query)\n",
    "    if len(response.bindings) > 0:\n",
    "        external = list()\n",
    "        for i in response.bindings:\n",
    "            url = i.get('value')\n",
    "            base = url.split(\"//\")[1].split(\"/\")[0]\n",
    "            uri = {\n",
    "                   \"value\": url,\n",
    "                   \"base\": base,\n",
    "                   \"label\": {\n",
    "                       \"value\": i.get('label').value,\n",
    "                       \"lang\": i.get('label').language } }\n",
    "            external.append(uri)\n",
    "        return external\n",
    "    else:\n",
    "        return False"
   ]
  },
  {
   "cell_type": "code",
   "execution_count": 68,
   "metadata": {},
   "outputs": [
    {
     "data": {
      "text/plain": [
       "False"
      ]
     },
     "execution_count": 68,
     "metadata": {},
     "output_type": "execute_result"
    }
   ],
   "source": [
    "hasCloseExternal = GetExternalUri(authority, graph, \"hasCloseExternalAuthority\", {})\n",
    "hasCloseExternal "
   ]
  },
  {
   "cell_type": "code",
   "execution_count": 64,
   "metadata": {},
   "outputs": [
    {
     "name": "stdout",
     "output_type": "stream",
     "text": [
      "{'type': 'PersonalName', 'adminMetadata': {'assigner': 'http://id.loc.gov/vocabulary/organizations/dlc', 'identifiedBy': [{'type': 'Lccn', 'assigner': 'http://id.loc.gov/vocabulary/organizations/dlc', 'value': 'n80002329'}]}, 'isMemberOfMADSCollection': 'http://bibliokeia.com/authorities/PersonalName/', 'elementList': [{'type': 'FullNameElement', 'elementValue': {'value': 'Machado de Assis,', 'lang': None}}, {'type': 'DateNameElement', 'elementValue': {'value': '1839-1908', 'lang': None}}]}\n"
     ]
    },
    {
     "data": {
      "text/plain": [
       "{'type': 'PersonalName',\n",
       " 'adminMetadata': {'assigner': 'http://id.loc.gov/vocabulary/organizations/dlc',\n",
       "  'identifiedBy': [{'type': 'Lccn',\n",
       "    'assigner': 'http://id.loc.gov/vocabulary/organizations/dlc',\n",
       "    'value': 'n80002329'}]},\n",
       " 'isMemberOfMADSCollection': 'http://bibliokeia.com/authorities/PersonalName/',\n",
       " 'elementList': [{'type': 'FullNameElement',\n",
       "   'elementValue': {'value': 'Machado de Assis,', 'lang': None}},\n",
       "  {'type': 'DateNameElement',\n",
       "   'elementValue': {'value': '1839-1908', 'lang': None}}],\n",
       " 'fullerName': {'type': 'PersonalName',\n",
       "  'elementValue': {'value': 'Joaquim Maria Machado', 'lang': None}}}"
      ]
     },
     "execution_count": 64,
     "metadata": {},
     "output_type": "execute_result"
    }
   ],
   "source": [
    "def ParserAgents(graph, authority):\n",
    "    # Type\n",
    "    tipo = GetType(graph, authority)\n",
    "\n",
    "    # adminMetadata\n",
    "    adminMetadata = {\n",
    "      \"assigner\": \"http://id.loc.gov/vocabulary/organizations/dlc\",\n",
    "      \"identifiedBy\": [ {\n",
    "         \"type\": \"Lccn\",\n",
    "          \"assigner\": \"http://id.loc.gov/vocabulary/organizations/dlc\",\n",
    "          \"value\": authority.split('/')[-1]        \n",
    "      }]}\n",
    "    \n",
    "    obj = {\n",
    "     \"type\": tipo,\n",
    "      \"adminMetadata\": adminMetadata,\n",
    "      \"isMemberOfMADSCollection\": f'http://bibliokeia.com/authorities/{tipo}/'}\n",
    "    \n",
    "    # ElementList\n",
    "    obj = getElementList(graph, authority, obj)\n",
    "    print(obj)\n",
    "    \n",
    "    # fullerName\n",
    "    obj = getFullerName(graph, authority, obj)\n",
    "    # hasCloseExternalAuthority\n",
    "\n",
    "    \n",
    "    return obj\n",
    "\n",
    "\n",
    "\n",
    "obj = ParserAgents(graph, authority)\n",
    "obj"
   ]
  },
  {
   "cell_type": "code",
   "execution_count": 65,
   "metadata": {},
   "outputs": [
    {
     "data": {
      "text/plain": [
       "Agents(type='PersonalName', elementList=[Element(type='FullNameElement', elementValue=Label(value='Machado de Assis,', lang=None)), Element(type='DateNameElement', elementValue=Label(value='1839-1908', lang=None))], fullerName=Element(type='PersonalName', elementValue=Label(value='Joaquim Maria Machado', lang=None)))"
      ]
     },
     "execution_count": 65,
     "metadata": {},
     "output_type": "execute_result"
    }
   ],
   "source": [
    "request = Agents(**obj)\n",
    "request"
   ]
  },
  {
   "cell_type": "code",
   "execution_count": 36,
   "metadata": {},
   "outputs": [
    {
     "data": {
      "text/plain": [
       "{'FullNameElement': 'Machado de Assis,', 'DateNameElement': '1839-1908'}"
      ]
     },
     "execution_count": 36,
     "metadata": {},
     "output_type": "execute_result"
    }
   ],
   "source": [
    "element = {}\n",
    "for i in bindings:\n",
    "    tipo = i.get('type').split('#')[-1]\n",
    "    element[tipo] = i.get('value').toPython()\n",
    "    \n",
    "\n",
    "element"
   ]
  }
 ],
 "metadata": {
  "kernelspec": {
   "display_name": "venv",
   "language": "python",
   "name": "python3"
  },
  "language_info": {
   "codemirror_mode": {
    "name": "ipython",
    "version": 3
   },
   "file_extension": ".py",
   "mimetype": "text/x-python",
   "name": "python",
   "nbconvert_exporter": "python",
   "pygments_lexer": "ipython3",
   "version": "3.10.4"
  },
  "orig_nbformat": 4
 },
 "nbformat": 4,
 "nbformat_minor": 2
}
