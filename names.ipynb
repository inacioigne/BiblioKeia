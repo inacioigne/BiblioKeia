{
 "cells": [
  {
   "cell_type": "code",
   "execution_count": 99,
   "metadata": {},
   "outputs": [],
   "source": [
    "from rdflib import Graph, Namespace, URIRef\n",
    "from typing import Optional\n",
    "from pydantic import BaseModel\n",
    "from api.src.function.loc.getType import GetType\n",
    "from pyfuseki import FusekiUpdate\n",
    "import httpx\n",
    "from pysolr import Solr"
   ]
  },
  {
   "cell_type": "code",
   "execution_count": 10,
   "metadata": {},
   "outputs": [
    {
     "data": {
      "text/plain": [
       "{'statusCode': 200, 'message': 'Update succeeded'}"
      ]
     },
     "execution_count": 10,
     "metadata": {},
     "output_type": "execute_result"
    }
   ],
   "source": [
    "au_update = FusekiUpdate('http://localhost:3030', 'authorities')\n",
    "\n",
    "r = au_update.run_sparql('DROP DEFAULT')\n",
    "r.convert()"
   ]
  },
  {
   "cell_type": "code",
   "execution_count": 2,
   "metadata": {},
   "outputs": [],
   "source": [
    "from api.src.schemas.authorities.authority import Variant, AdminMetadata, Element\n",
    "class Uri(BaseModel):\n",
    "    value: str\n",
    "    label: str\n",
    "    base: Optional[str]\n",
    "\n",
    "class Affiliation(BaseModel):\n",
    "    organization: Uri\n",
    "    affiliationStart: str\n",
    "    affiliationEnd: Optional[str]\n",
    "    \n",
    "class Agents(BaseModel):\n",
    "    type: str \n",
    "    adminMetadata: AdminMetadata \n",
    "    elementList: list[Element]\n",
    "    fullerName: Optional[Element]\n",
    "    birthDate: Optional[str]\n",
    "    birthPlace: Optional[str]\n",
    "    deathDate: Optional[str]\n",
    "    hasAffiliation: Optional[list[Affiliation]]\n",
    "    occupation: Optional[list[Uri]]\n",
    "    hasCloseExternalAuthority: Optional[list[Uri]]\n",
    "    hasExactExternalAuthority: Optional[list[Uri]]\n",
    "    hasVariant: Optional[list[Variant]]\n",
    "    subjectOf: Optional[list[Uri]]\n",
    "    contributorOf: Optional[list[Uri]]\n",
    "    isMemberOfMADSCollection: str\n",
    "    "
   ]
  },
  {
   "cell_type": "code",
   "execution_count": 55,
   "metadata": {},
   "outputs": [
    {
     "data": {
      "text/plain": [
       "<Graph identifier=N2efcebb891464f7990a9e03beadc0c76 (<class 'rdflib.graph.Graph'>)>"
      ]
     },
     "execution_count": 55,
     "metadata": {},
     "output_type": "execute_result"
    }
   ],
   "source": [
    "authority = 'http://id.loc.gov/authorities/names/n80002329'\n",
    "graph = Graph()\n",
    "graph.parse(f'{authority}.rdf')\n",
    "# graph.serialize('saramago.ttl')"
   ]
  },
  {
   "cell_type": "code",
   "execution_count": 56,
   "metadata": {},
   "outputs": [
    {
     "data": {
      "text/plain": [
       "200"
      ]
     },
     "execution_count": 56,
     "metadata": {},
     "output_type": "execute_result"
    }
   ],
   "source": [
    "# authority = 'http://id.loc.gov/authorities/names/n80002329'\n",
    "url = f'http://localhost:8000/authorities/import/loc/agents?authority={authority}'\n",
    "r = httpx.get(url)\n",
    "r.status_code"
   ]
  },
  {
   "cell_type": "code",
   "execution_count": 57,
   "metadata": {},
   "outputs": [
    {
     "data": {
      "text/plain": [
       "Agents(type='PersonalName', adminMetadata=AdminMetadata(assigner='http://id.loc.gov/vocabulary/organizations/dlc', descriptionModifier='http://id.loc.gov/vocabulary/organizations/brmninpa', creationDate=datetime.date(2023, 5, 26), descriptionLanguage='http://id.loc.gov/vocabulary/languages/por', generationProcess='BiblioKeia v.1', generationDate=datetime.datetime(2023, 5, 26, 14, 49, 50), identifiedBy=[IdentifiedBy(type='Lccn', assigner='http://id.loc.gov/vocabulary/organizations/dlc', value='n80002329')], status=Status(value='mstatus:new', label='novo')), elementList=[Element(type='FullNameElement', elementValue=Label(value='Machado de Assis,', lang=None)), Element(type='DateNameElement', elementValue=Label(value='1839-1908', lang=None))], fullerName=Element(type='PersonalName', elementValue=Label(value='Joaquim Maria Machado', lang=None)), birthDate='1839-06-21', birthPlace='Rio de Janeiro (Brazil)', deathDate='1908-09-29', hasAffiliation=[Affiliation(organization=Uri(value='http://id.loc.gov/authorities/names/n82059239', label='Academia Brasileira de Letras', base='id.loc.gov'), affiliationStart='1897', affiliationEnd='1908')], occupation=[Uri(value='http://id.loc.gov/authorities/subjects/sh85092863', label='Novelists', base='id.loc.gov'), Uri(value='http://id.loc.gov/authorities/subjects/sh85103733', label='Poets', base='id.loc.gov'), Uri(value='http://id.loc.gov/authorities/subjects/sh85039342', label='Dramatists', base='id.loc.gov'), Uri(value='http://id.loc.gov/authorities/subjects/sh85034154', label='Critics', base='id.loc.gov'), Uri(value='http://id.loc.gov/authorities/subjects/sh85108733', label='Public officers', base='id.loc.gov')], hasCloseExternalAuthority=[Uri(value='http://www.wikidata.org/entity/Q311145', label='Joaquim Maria Machado de Assis', base='www.wikidata.org'), Uri(value='http://id.worldcat.org/fast/48407', label='Machado de Assis, 1839-1908', base='id.worldcat.org')], hasExactExternalAuthority=None, hasVariant=[Variant(type='PersonalName', elementList=[Element(type='FullNameElement', elementValue=Label(value='Assis, Joaquim Maria Machado de,', lang=None)), Element(type='DateNameElement', elementValue=Label(value='1839-1908', lang=None))]), Variant(type='PersonalName', elementList=[Element(type='FullNameElement', elementValue=Label(value='Assis, Machado de,', lang=None)), Element(type='DateNameElement', elementValue=Label(value='1839-1908', lang=None))]), Variant(type='PersonalName', elementList=[Element(type='FullNameElement', elementValue=Label(value='De Assis, Joaquim Maria Machado,', lang=None)), Element(type='DateNameElement', elementValue=Label(value='1839-1908', lang=None))]), Variant(type='PersonalName', elementList=[Element(type='FullNameElement', elementValue=Label(value='De Assis, Machado,', lang=None)), Element(type='DateNameElement', elementValue=Label(value='1839-1908', lang=None))]), Variant(type='PersonalName', elementList=[Element(type='FullNameElement', elementValue=Label(value='Machado de Assis, Joaquim Maria,', lang=None)), Element(type='DateNameElement', elementValue=Label(value='1839-1908', lang=None))]), Variant(type='PersonalName', elementList=[Element(type='FullNameElement', elementValue=Label(value='Machado de Assis, Joaquín María,', lang=None)), Element(type='DateNameElement', elementValue=Label(value='1839-1908', lang=None))]), Variant(type='PersonalName', elementList=[Element(type='FullNameElement', elementValue=Label(value='Mashado de Assiz, Zhoakin,', lang=None)), Element(type='DateNameElement', elementValue=Label(value='1839-1908', lang=None))]), Variant(type='PersonalName', elementList=[Element(type='FullNameElement', elementValue=Label(value='Semana', lang=None)), Element(type='TermsOfAddressNameElement', elementValue=Label(value='Dr.,', lang=None)), Element(type='DateNameElement', elementValue=Label(value='1839-1908', lang=None))])], subjectOf=None, contributorOf=None, isMemberOfMADSCollection='http://bibliokeia.com/authorities/PersonalName/')"
      ]
     },
     "execution_count": 57,
     "metadata": {},
     "output_type": "execute_result"
    }
   ],
   "source": [
    "request = Agents(**r.json())\n",
    "request"
   ]
  },
  {
   "cell_type": "code",
   "execution_count": null,
   "metadata": {},
   "outputs": [],
   "source": [
    "def getElementList(graph, authority, obj):\n",
    "    \n",
    "  qElementList = f\"\"\"PREFIX rdf: <http://www.w3.org/1999/02/22-rdf-syntax-ns#>\n",
    "    PREFIX madsrdf: <http://www.loc.gov/mads/rdf/v1#>\n",
    "    SELECT ?type ?value \n",
    "    WHERE  {{\n",
    "    <{authority}> madsrdf:elementList ?elementList .\n",
    "    ?elementList rdf:rest* ?rest .\n",
    "    ?rest rdf:first ?first .\n",
    "    ?first rdf:type ?type  .\n",
    "    ?first madsrdf:elementValue ?value\n",
    "      }}\"\"\"\n",
    "  r = graph.query(qElementList)\n",
    "  bindings = r.bindings\n",
    "  elementList = list()\n",
    "\n",
    "  for i in bindings:\n",
    "    element = {\n",
    "            \"type\": i.get('type').split(\"#\")[1],\n",
    "          \"elementValue\": {\n",
    "            \"value\":  i.get('value').toPython(),\n",
    "            \"lang\": i.get('lang')\n",
    "          }\n",
    "        }\n",
    "    elementList.append(element)\n",
    "  obj['elementList'] = elementList\n",
    "\n",
    "  return obj \n",
    "\n",
    "def getFullerName(graph, authority, obj):\n",
    "    \n",
    "  qFullerName = f\"\"\"PREFIX rdf: <http://www.w3.org/1999/02/22-rdf-syntax-ns#>\n",
    "    PREFIX madsrdf: <http://www.loc.gov/mads/rdf/v1#>\n",
    "    SELECT ?type ?value \n",
    "    WHERE  {{\n",
    "    <{authority}> madsrdf:fullerName ?fullerName .\n",
    "      ?fullerName rdf:type ?type .\n",
    "      ?fullerName rdfs:label ?value\n",
    "      }}\"\"\"\n",
    "  r = graph.query(qFullerName)\n",
    "  bindings = r.bindings\n",
    "  if len(bindings) > 0:\n",
    "    result = bindings[0]\n",
    "    element = {\n",
    "              \"type\": result.get('type').split(\"#\")[1],\n",
    "            \"elementValue\": {\n",
    "              \"value\": result.get('value').toPython(),\n",
    "              \"lang\": result.get('lang')\n",
    "            }\n",
    "          }\n",
    "    obj['fullerName'] = element\n",
    "    \n",
    "  return obj\n",
    "\n",
    "def GetUri(authority, graph, metadata, obj):\n",
    "\n",
    "    query = f\"\"\"PREFIX madsrdf: <http://www.loc.gov/mads/rdf/v1#>\n",
    "            SELECT * WHERE  {{\n",
    "              <{authority}> madsrdf:{metadata} ?value .\n",
    "              ?value madsrdf:authoritativeLabel ?label\n",
    "              }}\"\"\"\n",
    "    response = graph.query(query)\n",
    "    if len(response.bindings) > 0:\n",
    "        external = list()\n",
    "        for i in response.bindings:\n",
    "            url = i.get('value').toPython()\n",
    "            base = url.split(\"//\")[1].split(\"/\")[0]\n",
    "            uri = {\n",
    "                   \"value\": url,\n",
    "                   \"base\": base,\n",
    "                   \"label\": i.get('label').value }\n",
    "            external.append(uri)\n",
    "        obj[metadata] = external\n",
    "        \n",
    "    return obj\n",
    "\n",
    "def GetVariant(authority, graph, obj):\n",
    "    \n",
    "  q = f\"\"\"PREFIX madsrdf: <http://www.loc.gov/mads/rdf/v1#>\n",
    "  PREFIX rdf: <http://www.w3.org/1999/02/22-rdf-syntax-ns#>\n",
    "  SELECT ?typeVariant ?elementList ?elementValue ?typeElement \n",
    "  WHERE  {{      \t\n",
    "  <{authority}> madsrdf:hasVariant ?variant .\n",
    "                  ?variant rdf:type ?typeVariant .\n",
    "                  ?variant madsrdf:elementList ?elementList .\n",
    "                  ?elementList rdf:rest* ?node .\n",
    "                    ?node rdf:first ?e .\n",
    "                    ?e madsrdf:elementValue ?elementValue .\n",
    "                  ?e rdf:type ?typeElement .\n",
    "                  FILTER ( ?typeVariant != madsrdf:Variant )\n",
    "                  }}\"\"\"\n",
    "  result = graph.query(q)\n",
    "  \n",
    "  if len(result.bindings) > 0:\n",
    "    d = {}\n",
    "    for i in result.bindings:\n",
    "        bn = i.get('elementList').n3()\n",
    "        typeVariant = i.get('typeVariant').split(\"#\")[-1]\n",
    "        elementValue = i.get('elementValue').toPython()\n",
    "        tipo = i.get('typeElement').split(\"#\")[-1]\n",
    "        element = {'type': tipo, 'elementValue': {'value': elementValue}}\n",
    "        \n",
    "        if bn in d.keys():\n",
    "            d[bn]['elementList'].append(element)\n",
    "        else:\n",
    "            d[bn] = {'type': typeVariant, 'elementList': [element]}\n",
    "    variants = list(d.values())\n",
    "    obj['hasVariant'] = variants\n",
    "    return obj\n",
    "  else:\n",
    "     return obj\n",
    "\n",
    "def GetDate(rwo, typeDate, graph, obj):\n",
    "\n",
    "    q = f\"\"\"PREFIX madsrdf: <http://www.loc.gov/mads/rdf/v1#>\n",
    "    SELECT ?date\n",
    "    WHERE  {{      \t\n",
    "    <{rwo}> madsrdf:{typeDate} ?date . }}\"\"\"\n",
    "    result = graph.query(q)\n",
    "\n",
    "    if len(result.bindings) > 0:\n",
    "        [birthDate] = result.bindings\n",
    "        obj[typeDate] = birthDate.get('date').n3().split('\"')[1]\n",
    "    return obj\n",
    "\n",
    "def GetBirthPlace(rwo, graph, obj):\n",
    "\n",
    "    q = f\"\"\"PREFIX madsrdf: <http://www.loc.gov/mads/rdf/v1#>\n",
    "    PREFIX rdfs: <http://www.w3.org/2000/01/rdf-schema#>\n",
    "    SELECT ?label\n",
    "    WHERE  {{      \t\n",
    "    <{rwo}> madsrdf:birthPlace ?birthPlace .\n",
    "  ?birthPlace rdfs:label ?label }}\"\"\"\n",
    "    result = graph.query(q)\n",
    "\n",
    "    if len(result.bindings) > 0:\n",
    "        [birthPlace] = result.bindings\n",
    "        obj['birthPlace'] = birthPlace.get('label').toPython()\n",
    "\n",
    "    return obj\n",
    "\n",
    "def GetAffiliation(rwo, graph, obj):\n",
    "\n",
    "    q = f\"\"\"PREFIX madsrdf: <http://www.loc.gov/mads/rdf/v1#>\n",
    "    SELECT ?organization ?labelOrg ?start ?end\n",
    "    WHERE  {{      \t\n",
    "    <{rwo}> madsrdf:hasAffiliation ?hasAffiliation .\n",
    "  ?hasAffiliation madsrdf:organization ?organization .\n",
    "  ?organization madsrdf:authoritativeLabel ?labelOrg .\n",
    "  ?hasAffiliation madsrdf:affiliationStart ?start .\n",
    "  OPTIONAL {{ ?hasAffiliation madsrdf:affiliationEnd ?end  }} }}\"\"\"\n",
    "    result = graph.query(q)\n",
    "    \n",
    "    if len(result.bindings) > 0:\n",
    "        affiliations = list()\n",
    "        for i in result.bindings:\n",
    "          # organization\n",
    "          orgUri = i.get('organization').toPython()\n",
    "          orgBase = orgUri.split('//')[1].split(\"/\")[0]\n",
    "          organization = {'value': orgUri, 'label': i.get('labelOrg').toPython(), 'base': orgBase}\n",
    "          affiliation = {'organization': organization,\n",
    "                         'affiliationStart': i.get('start').toPython(),\n",
    "                         'affiliationEnd': i.get('end').toPython()}\n",
    "          affiliations.append(affiliation)\n",
    "        obj['hasAffiliation'] = affiliations\n",
    "\n",
    "    return obj\n",
    "\n",
    "def GetOccuption(rwo, graph, obj):\n",
    "\n",
    "    q = f\"\"\"PREFIX madsrdf: <http://www.loc.gov/mads/rdf/v1#>\n",
    "    SELECT ?occupation ?label\n",
    "    WHERE  {{      \t\n",
    "    <{rwo}> madsrdf:occupation ?occupation .\n",
    "   ?occupation madsrdf:authoritativeLabel ?label  }} \"\"\"\n",
    "    result = graph.query(q)\n",
    "    if len(result.bindings) > 0:\n",
    "        occupations = list()\n",
    "        for i in result.bindings:\n",
    "            value = i.get('occupation').toPython()\n",
    "            base = value.split('//')[1].split(\"/\")[0]\n",
    "            occupation = {'value': value,\n",
    "                        'label': i.get('label').value,\n",
    "                        'base': base}\n",
    "            occupations.append(occupation)\n",
    "        obj['occupation'] = occupations\n",
    "    \n",
    "    return obj\n",
    "\n",
    "\n",
    "token = authority.split(\"/\")[-1]\n",
    "rwo = f'http://id.loc.gov/rwo/agents/{token}'\n",
    "obj = GetOccuption(rwo, graph, {})\n",
    "obj"
   ]
  },
  {
   "cell_type": "code",
   "execution_count": 10,
   "metadata": {},
   "outputs": [],
   "source": [
    "def ParserAgents(graph, authority):\n",
    "    # Type\n",
    "    tipo = GetType(graph, authority)\n",
    "\n",
    "    # adminMetadata\n",
    "    adminMetadata = {\n",
    "      \"assigner\": \"http://id.loc.gov/vocabulary/organizations/dlc\",\n",
    "      \"identifiedBy\": [ {\n",
    "         \"type\": \"Lccn\",\n",
    "          \"assigner\": \"http://id.loc.gov/vocabulary/organizations/dlc\",\n",
    "          \"value\": authority.split('/')[-1]        \n",
    "      }]}\n",
    "    \n",
    "    obj = {\n",
    "     \"type\": tipo,\n",
    "      \"adminMetadata\": adminMetadata,\n",
    "      \"isMemberOfMADSCollection\": f'http://bibliokeia.com/authorities/{tipo}/'}\n",
    "    \n",
    "    # ElementList\n",
    "    obj = getElementList(graph, authority, obj)\n",
    "    \n",
    "    # fullerName\n",
    "    obj = getFullerName(graph, authority, obj)\n",
    "\n",
    "    # hasCloseExternalAuthority\n",
    "    obj = GetUri(authority, graph, \"hasCloseExternalAuthority\", obj)\n",
    "\n",
    "    # hasExactExternalAuthority\n",
    "    obj = GetUri(authority, graph, \"hasExactExternalAuthority\", obj)\n",
    "\n",
    "    # Variant\n",
    "    obj = GetVariant(authority, graph, obj)\n",
    "\n",
    "    # RWO\n",
    "    token = authority.split(\"/\")[-1]\n",
    "    rwo = f'http://id.loc.gov/rwo/agents/{token}'\n",
    "    # BirthDate\n",
    "    obj = GetDate(rwo, 'birthDate', graph, obj)\n",
    "    # deathDate\n",
    "    obj = GetDate(rwo, 'deathDate', graph, obj)\n",
    "    # BirthPlace\n",
    "    obj = GetBirthPlace(rwo, graph, obj)\n",
    "    # Affiliation\n",
    "    obj = GetAffiliation(rwo, graph, obj)\n",
    "    # Occuptions\n",
    "    obj = GetOccuption(rwo, graph, obj)\n",
    "    \n",
    "    return obj\n",
    "\n",
    "obj = ParserAgents(graph, authority)\n",
    "request = Agents(**obj)\n",
    "request.hasAffiliation"
   ]
  },
  {
   "cell_type": "code",
   "execution_count": 37,
   "metadata": {},
   "outputs": [
    {
     "data": {
      "text/plain": [
       "{}"
      ]
     },
     "execution_count": 37,
     "metadata": {},
     "output_type": "execute_result"
    }
   ],
   "source": [
    "obj = GetUri(authority, graph, \"hasExactExternalAuthority\", {})\n",
    "obj"
   ]
  },
  {
   "cell_type": "code",
   "execution_count": 20,
   "metadata": {},
   "outputs": [
    {
     "data": {
      "text/plain": [
       "'[ a madsrdf:PersonalName,\\n                madsrdf:Variant ;\\n            madsrdf:elementList ( [ a madsrdf:FullNameElement ;\\n                madsrdf:elementValue \"Salamage, Ruoze\" ] ) ;\\n            madsrdf:variantLabel \"Salamage, Ruoze\" ], [ a madsrdf:PersonalName,\\n                madsrdf:Variant ;\\n            madsrdf:elementList ( [ a madsrdf:FullNameElement ;\\n                madsrdf:elementValue \"Saramago, Zhoze\" ] ) ;\\n            madsrdf:variantLabel \"Saramago, Zhoze\" ], [ a madsrdf:PersonalName,\\n                madsrdf:Variant ;\\n            madsrdf:elementList ( [ a madsrdf:FullNameElement ;\\n                madsrdf:elementValue \"Сарамаго, Жозе\" ] ) ;\\n            madsrdf:variantLabel \"Сарамаго, Жозе\" ], [ a madsrdf:PersonalName,\\n                madsrdf:Variant ;\\n            madsrdf:elementList ( [ a madsrdf:FullNameElement ;\\n                madsrdf:elementValue \"סאראמאגו, ז׳וזה\" ] ) ;\\n            madsrdf:variantLabel \"סאראמאגו, ז׳וזה\" ], [ a madsrdf:PersonalName,\\n                madsrdf:Variant ;\\n            madsrdf:elementList ( [ a madsrdf:FullNameElement ;\\n                madsrdf:elementValue \"סאראמאגו, ז׳וזה. טבעון, מרים\" ] ) ;\\n            madsrdf:variantLabel \"סאראמאגו, ז׳וזה. טבעון, מרים\" ], [ a madsrdf:PersonalName,\\n                madsrdf:Variant ;\\n            madsrdf:elementList ( [ a madsrdf:FullNameElement ;\\n                madsrdf:elementValue \"Sousa Saramago, José de\" ] ) ;\\n            madsrdf:variantLabel \"Sousa Saramago, José de\" ], [ a madsrdf:PersonalName,\\n                madsrdf:Variant ;\\n            madsrdf:elementList ( [ a madsrdf:FullNameElement ;\\n                madsrdf:elementValue \"De Sousa Saramago, José\" ] ) ;\\n            madsrdf:variantLabel \"De Sousa Saramago, José\" ], [ a madsrdf:PersonalName,\\n                madsrdf:Variant ;\\n            madsrdf:elementList ( [ a madsrdf:FullNameElement ;\\n                madsrdf:elementValue \"ジョゼ・サラマーゴ\" ] ) ;\\n            madsrdf:variantLabel \"ジョゼ・サラマーゴ\" ]'"
      ]
     },
     "execution_count": 20,
     "metadata": {},
     "output_type": "execute_result"
    }
   ],
   "source": [
    "from api.src.function.authorities.makeElement import MakeElement\n",
    "from api.src.function.authorities.makeIdentifier import MakeIdentifier\n",
    "from api.src.function.authorities.makeLabel import MakeLabel\n",
    "from api.src.function.authorities.makeVariant import MakeVariant\n",
    "\n",
    "id = 'TESTE'\n",
    "MakeVariant(request.hasVariant)"
   ]
  },
  {
   "cell_type": "code",
   "execution_count": 52,
   "metadata": {},
   "outputs": [
    {
     "data": {
      "text/plain": [
       "[Uri(value='http://id.loc.gov/authorities/subjects/sh85092863', label='Novelists', base='id.loc.gov'),\n",
       " Uri(value='http://id.loc.gov/authorities/subjects/sh85039342', label='Dramatists', base='id.loc.gov'),\n",
       " Uri(value='http://id.loc.gov/authorities/subjects/sh85070788', label='Journalists', base='id.loc.gov'),\n",
       " Uri(value='http://id.loc.gov/authorities/subjects/sh2006004988', label='Nobel Prize winners', base='id.loc.gov')]"
      ]
     },
     "execution_count": 52,
     "metadata": {},
     "output_type": "execute_result"
    }
   ],
   "source": [
    "request.occupation"
   ]
  },
  {
   "cell_type": "code",
   "execution_count": 73,
   "metadata": {},
   "outputs": [
    {
     "name": "stdout",
     "output_type": "stream",
     "text": [
      "madsrdf:hasAffiliation [ a madsrdf:Affiliation ;\n",
      "           madsrdf:affiliationEnd \"1908\" ; \n",
      "            madsrdf:affiliationStart \"1897\" ;\n",
      "            madsrdf:organization <http://id.loc.gov/authorities/names/n82059239> ]  ;\n"
     ]
    }
   ],
   "source": [
    "def MakeAffiliation(hasAffiliation):\n",
    "    affiliationsList = list()\n",
    "    for i in hasAffiliation:\n",
    "        affiliation = f\"\"\"[ a madsrdf:Affiliation ;\n",
    "           { f'madsrdf:affiliationEnd \"{i.affiliationEnd}\" ;' if i. affiliationEnd else '' } \n",
    "            madsrdf:affiliationStart \"{i.affiliationStart}\" ;\n",
    "            madsrdf:organization <{i.organization.value}> ] \"\"\"\n",
    "        affiliationsList.append(affiliation)\n",
    "    a = \", \".join(affiliationsList)\n",
    "    affiliations = f\"\"\"madsrdf:hasAffiliation {a} ;\"\"\"\n",
    "    return affiliations\n",
    "affiliations = MakeAffiliation(request.hasAffiliation)\n",
    "print(affiliations)"
   ]
  },
  {
   "cell_type": "code",
   "execution_count": 53,
   "metadata": {},
   "outputs": [
    {
     "name": "stdout",
     "output_type": "stream",
     "text": [
      "PREFIX rdf: <http://www.w3.org/1999/02/22-rdf-syntax-ns#> \n",
      "    PREFIX madsrdf: <http://www.loc.gov/mads/rdf/v1#> \n",
      "    PREFIX owl: <http://www.w3.org/2002/07/owl#> \n",
      "    PREFIX ri: <http://id.loc.gov/ontologies/RecordInfo#> \n",
      "    PREFIX xsd: <http://www.w3.org/2001/XMLSchema#>\n",
      "    PREFIX rdfs: <http://www.w3.org/2000/01/rdf-schema#>\n",
      "    PREFIX identifiers: <http://id.loc.gov/vocabulary/identifiers/>\n",
      "    PREFIX bf: <http://id.loc.gov/ontologies/bibframe/> \n",
      "    PREFIX bflc: <http://id.loc.gov/ontologies/bflc/> \n",
      "    PREFIX bkw: <https://bibliokeia.com/resources/work/> \n",
      "    PREFIX menclvl: <http://id.loc.gov/vocabulary/menclvl/>\n",
      "    PREFIX mstatus: <http://id.loc.gov/vocabulary/mstatus/>\n",
      "    PREFIX contentTypes: <http://id.loc.gov/vocabulary/contentTypes/>\n",
      "    PREFIX relators: <http://id.loc.gov/vocabulary/relators/>\n",
      "    PREFIX genreForms: <http://id.loc.gov/authorities/genreForms/>\n",
      "    PREFIX msupplcont: <http://id.loc.gov/vocabulary/msupplcont/>\n",
      "    PREFIX millus: <http://id.loc.gov/vocabulary/millus/>    \n",
      "    INSERT DATA {\n",
      "        GRAPH <https://bibliokeia.com/authorities/PersonalName/TESTE>\n",
      "        {\n",
      "        <https://bibliokeia.com/authorities/PersonalName/TESTE> a madsrdf:Authority, \n",
      "            madsrdf:PersonalName ;\n",
      "            madsrdf:adminMetadata [ a bf:AdminMetadata ;\n",
      "            bf:assigner <http://id.loc.gov/vocabulary/organizations/dlc> ;\n",
      "            bf:creationDate \"2023-05-26\"^^xsd:date ;\n",
      "            bf:descriptionLanguage <http://id.loc.gov/vocabulary/languages/eng> ;\n",
      "            bf:descriptionModifier <http://id.loc.gov/vocabulary/organizations/dlc> ; \n",
      "            bf:generationProcess [ a bf:GenerationProcess ;\n",
      "                    rdfs:label \"BiblioKeia v.1\" ;\n",
      "                    bf:generationDate \"2023-05-26T13:41:49\"^^xsd:dateTime ] ;\n",
      "            bf:identifiedBy [ a bf:Lccn ;\n",
      "        bf:assigner <http://id.loc.gov/vocabulary/organizations/dlc> ;\n",
      "        rdf:value \"n85130797\" ], [ a bf:Local ;\n",
      "        bf:assigner <http://id.loc.gov/vocabulary/organizations/brmninpa> ;\n",
      "        rdf:value \"TESTE\" ] ; \n",
      "            bf:status mstatus:new ] ; \n",
      "            madsrdf:authoritativeLabel \"Saramago, José\" ;\n",
      "            madsrdf:elementList ( [ a madsrdf:FullNameElement ;\n",
      "                madsrdf:elementValue \"Saramago, José\" ] ) ; \n",
      "            madsrdf:fullerName [ a madsrdf:PersonalName ; \n",
      "                rdfs:label \"José de Sousa\" ] ;\n",
      "            madsrdf:birthDate \"1922-11-16\" ;\n",
      "            madsrdf:birthPlace [ a madsrdf:Geographic ;\n",
      "                rdfs:label \"Ribatejo (Portugal)\" ] ;\n",
      "            madsrdf:deathDate \"2010-06-18\" ;\n",
      "            madsrdf:occupation <http://id.worldcat.org/fast/166806>, <http://www.wikidata.org/entity/Q37060> ;\n",
      "            madsrdf:hasCloseExternalAuthority <http://id.worldcat.org/fast/166806>, <http://www.wikidata.org/entity/Q37060> ;\n",
      "            \n",
      "            madsrdf:hasVariant [ a madsrdf:PersonalName,\n",
      "                madsrdf:Variant ;\n",
      "            madsrdf:elementList ( [ a madsrdf:FullNameElement ;\n",
      "                madsrdf:elementValue \"Salamage, Ruoze\" ] ) ;\n",
      "            madsrdf:variantLabel \"Salamage, Ruoze\" ], [ a madsrdf:PersonalName,\n",
      "                madsrdf:Variant ;\n",
      "            madsrdf:elementList ( [ a madsrdf:FullNameElement ;\n",
      "                madsrdf:elementValue \"Saramago, Zhoze\" ] ) ;\n",
      "            madsrdf:variantLabel \"Saramago, Zhoze\" ], [ a madsrdf:PersonalName,\n",
      "                madsrdf:Variant ;\n",
      "            madsrdf:elementList ( [ a madsrdf:FullNameElement ;\n",
      "                madsrdf:elementValue \"Сарамаго, Жозе\" ] ) ;\n",
      "            madsrdf:variantLabel \"Сарамаго, Жозе\" ], [ a madsrdf:PersonalName,\n",
      "                madsrdf:Variant ;\n",
      "            madsrdf:elementList ( [ a madsrdf:FullNameElement ;\n",
      "                madsrdf:elementValue \"סאראמאגו, ז׳וזה\" ] ) ;\n",
      "            madsrdf:variantLabel \"סאראמאגו, ז׳וזה\" ], [ a madsrdf:PersonalName,\n",
      "                madsrdf:Variant ;\n",
      "            madsrdf:elementList ( [ a madsrdf:FullNameElement ;\n",
      "                madsrdf:elementValue \"סאראמאגו, ז׳וזה. טבעון, מרים\" ] ) ;\n",
      "            madsrdf:variantLabel \"סאראמאגו, ז׳וזה. טבעון, מרים\" ], [ a madsrdf:PersonalName,\n",
      "                madsrdf:Variant ;\n",
      "            madsrdf:elementList ( [ a madsrdf:FullNameElement ;\n",
      "                madsrdf:elementValue \"Sousa Saramago, José de\" ] ) ;\n",
      "            madsrdf:variantLabel \"Sousa Saramago, José de\" ], [ a madsrdf:PersonalName,\n",
      "                madsrdf:Variant ;\n",
      "            madsrdf:elementList ( [ a madsrdf:FullNameElement ;\n",
      "                madsrdf:elementValue \"De Sousa Saramago, José\" ] ) ;\n",
      "            madsrdf:variantLabel \"De Sousa Saramago, José\" ], [ a madsrdf:PersonalName,\n",
      "                madsrdf:Variant ;\n",
      "            madsrdf:elementList ( [ a madsrdf:FullNameElement ;\n",
      "                madsrdf:elementValue \"ジョゼ・サラマーゴ\" ] ) ;\n",
      "            madsrdf:variantLabel \"ジョゼ・サラマーゴ\" ] ;\n",
      "            madsrdf:isMemberOfMADSCollection <http://bibliokeia.com/authorities/PersonalName/> .          \n",
      "            } \n",
      "        }\n"
     ]
    }
   ],
   "source": [
    "prefix = \"\"\"PREFIX rdf: <http://www.w3.org/1999/02/22-rdf-syntax-ns#> \n",
    "    PREFIX madsrdf: <http://www.loc.gov/mads/rdf/v1#> \n",
    "    PREFIX owl: <http://www.w3.org/2002/07/owl#> \n",
    "    PREFIX ri: <http://id.loc.gov/ontologies/RecordInfo#> \n",
    "    PREFIX xsd: <http://www.w3.org/2001/XMLSchema#>\n",
    "    PREFIX rdfs: <http://www.w3.org/2000/01/rdf-schema#>\n",
    "    PREFIX identifiers: <http://id.loc.gov/vocabulary/identifiers/>\n",
    "    PREFIX bf: <http://id.loc.gov/ontologies/bibframe/> \n",
    "    PREFIX bflc: <http://id.loc.gov/ontologies/bflc/> \n",
    "    PREFIX bkw: <https://bibliokeia.com/resources/work/> \n",
    "    PREFIX menclvl: <http://id.loc.gov/vocabulary/menclvl/>\n",
    "    PREFIX mstatus: <http://id.loc.gov/vocabulary/mstatus/>\n",
    "    PREFIX contentTypes: <http://id.loc.gov/vocabulary/contentTypes/>\n",
    "    PREFIX relators: <http://id.loc.gov/vocabulary/relators/>\n",
    "    PREFIX genreForms: <http://id.loc.gov/authorities/genreForms/>\n",
    "    PREFIX msupplcont: <http://id.loc.gov/vocabulary/msupplcont/>\n",
    "    PREFIX millus: <http://id.loc.gov/vocabulary/millus/>\"\"\"\n",
    "\n",
    "def MakeGraphAgents(request, id):\n",
    "    graph = f\"\"\"{prefix}    \n",
    "    INSERT DATA {{\n",
    "        GRAPH <https://bibliokeia.com/authorities/{request.type}/{id}>\n",
    "        {{\n",
    "        <https://bibliokeia.com/authorities/{request.type}/{id}> a madsrdf:Authority, \n",
    "            madsrdf:{request.type} ;\n",
    "            madsrdf:adminMetadata [ a bf:AdminMetadata ;\n",
    "            bf:assigner <{request.adminMetadata.assigner}> ;\n",
    "            bf:creationDate \"{request.adminMetadata.creationDate}\"^^xsd:date ;\n",
    "            bf:descriptionLanguage <http://id.loc.gov/vocabulary/languages/eng> ;\n",
    "            bf:descriptionModifier <{request.adminMetadata.assigner}> ; \n",
    "            bf:generationProcess [ a bf:GenerationProcess ;\n",
    "                    rdfs:label \"{request.adminMetadata.generationProcess}\" ;\n",
    "                    bf:generationDate \"{request.adminMetadata.generationDate}\"^^xsd:dateTime ] ;\n",
    "            bf:identifiedBy {MakeIdentifier(request.adminMetadata.identifiedBy, id)} ; \n",
    "            bf:status {request.adminMetadata.status.value} ] ; \n",
    "            madsrdf:authoritativeLabel \"{MakeLabel(request.elementList)}\" ;\n",
    "            madsrdf:elementList ( {MakeElement(request.elementList)} ) ; \n",
    "            { FullerName(request) if request.fullerName else ''  }\n",
    "            { f'madsrdf:birthDate \"{request.birthDate}\" ;' if request.birthDate else ''  }\n",
    "            { BirthPlace(request) if request.birthPlace else ''  }\n",
    "            { f'madsrdf:deathDate \"{request.deathDate}\" ;' if request.deathDate else ''  }\n",
    "            { f'madsrdf:occupation {\", \".join([ f\"<{i.value}>\" for i in request.hasCloseExternalAuthority])} ;' if request.hasCloseExternalAuthority else ''}\n",
    "            { f'madsrdf:hasCloseExternalAuthority {\", \".join([ f\"<{i.value}>\" for i in request.hasCloseExternalAuthority])} ;' if request.hasCloseExternalAuthority else ''}\n",
    "            { f'madsrdf:hasExactExternalAuthority {\", \".join([ f\"<{i.value}>\" for i in request.hasExactExternalAuthority])} ;' if request.hasExactExternalAuthority else ''}\n",
    "            { f'madsrdf:hasVariant { MakeVariant(request.hasVariant) } ;' if request.hasVariant else ''  }\n",
    "            madsrdf:isMemberOfMADSCollection <{request.isMemberOfMADSCollection}> .          \n",
    "            }} \n",
    "        }}\"\"\"\n",
    "    return graph\n",
    "\n",
    "response = MakeGraphAgents(request, id)\n",
    "print(response)"
   ]
  },
  {
   "attachments": {},
   "cell_type": "markdown",
   "metadata": {},
   "source": [
    "SOLR"
   ]
  },
  {
   "cell_type": "code",
   "execution_count": null,
   "metadata": {},
   "outputs": [],
   "source": [
    "birthDate: Optional[str]\n",
    "    birthPlace: Optional[str]\n",
    "    deathDate: Optional[str]\n",
    "    hasAffiliation: Optional[list[Affiliation]]\n",
    "    occupation: Optional[list[Uri]]\n",
    "    hasCloseExternalAuthority: Optional[list[Uri]]\n",
    "    hasExactExternalAuthority: Optional[list[Uri]]\n",
    "    hasVariant: Optional[list[Variant]]\n",
    "    subjectOf: Optional[list[Uri]]\n",
    "    contributorOf: Optional[list[Uri]]\n",
    "    isMemberOfMADSCollection: str"
   ]
  },
  {
   "cell_type": "code",
   "execution_count": 131,
   "metadata": {},
   "outputs": [],
   "source": [
    "def GetImagem(uri):\n",
    "    id = uri.split('/')[-1]\n",
    "\n",
    "    url = 'https://www.wikidata.org/w/api.php'\n",
    "    params = {\n",
    "                'action': 'wbgetentities',\n",
    "                'ids': id,\n",
    "                'props': 'claims',\n",
    "                'languages': 'pt',\n",
    "                'format': 'json'\n",
    "            }\n",
    "    response = httpx.get(url, params=params) \n",
    "    response = response.json()\n",
    "    if response.get('error'):\n",
    "        return False\n",
    "    else:\n",
    "        file = response['entities'][id]['claims']['P18'][0]['mainsnak']['datavalue']['value']\n",
    "        imagem = f'http://commons.wikimedia.org/wiki/Special:FilePath/{file}'\n",
    "        return imagem"
   ]
  },
  {
   "cell_type": "code",
   "execution_count": 137,
   "metadata": {},
   "outputs": [
    {
     "data": {
      "text/plain": [
       "[Uri(value='http://id.loc.gov/authorities/subjects/sh85092863', label='Novelists', base='id.loc.gov'),\n",
       " Uri(value='http://id.loc.gov/authorities/subjects/sh85103733', label='Poets', base='id.loc.gov'),\n",
       " Uri(value='http://id.loc.gov/authorities/subjects/sh85039342', label='Dramatists', base='id.loc.gov'),\n",
       " Uri(value='http://id.loc.gov/authorities/subjects/sh85034154', label='Critics', base='id.loc.gov'),\n",
       " Uri(value='http://id.loc.gov/authorities/subjects/sh85108733', label='Public officers', base='id.loc.gov')]"
      ]
     },
     "execution_count": 137,
     "metadata": {},
     "output_type": "execute_result"
    }
   ],
   "source": [
    "request.occupation"
   ]
  },
  {
   "cell_type": "code",
   "execution_count": 133,
   "metadata": {},
   "outputs": [],
   "source": [
    "def MakeDocAgents(request, id):\n",
    "\n",
    "    doc = {\n",
    "            'id': id,\n",
    "            'type': request.type,\n",
    "            \"creationDate\": request.adminMetadata.creationDate.strftime('%Y-%m-%d'), \n",
    "            \"label\": f'{MakeLabel(request.elementList)}' ,\n",
    "            \"isMemberOfMADSCollection\": request.isMemberOfMADSCollection\n",
    "        }\n",
    "    \n",
    "    if request.fullerName:\n",
    "        doc['fullerName'] = request.fullerName.elementValue.value\n",
    "    if request.birthDate:\n",
    "        doc['birthDate'] = request.birthDate\n",
    "    if request.birthPlace:\n",
    "        doc['birthPlace'] = request.birthPlace\n",
    "    if request.deathDate:\n",
    "        doc['deathDate'] = request.deathDate\n",
    "    \n",
    "    # hasAffiliation\n",
    "    \n",
    "    if request.hasAffiliation:\n",
    "        affiliations = list()\n",
    "        for i in request.hasAffiliation:\n",
    "            a = {\n",
    "                'id': f\"{id}/hasAffiliation#{i.organization.value.split('/')[-1]}\",\n",
    "                'organization': i.organization.label,\n",
    "                'affiliationStart': i.affiliationStart,\n",
    "            }\n",
    "            if i.affiliationEnd:\n",
    "                a['affiliationEnd'] = i.affiliationEnd\n",
    "            affiliations.append(a)\n",
    "        doc['hasAffiliation'] = affiliations\n",
    "    \n",
    "    if request.hasVariant:\n",
    "        variants = list()\n",
    "        for i in request.hasVariant:\n",
    "            label = [j.elementValue.value for j in i.elementList]\n",
    "            label = \" \".join(label)\n",
    "            variants.append(label)\n",
    "        doc['variant'] = variants\n",
    "\n",
    "    # hasCloseExternalAuthority\n",
    "    uris = list()\n",
    "    for i in request.hasCloseExternalAuthority:\n",
    "        uri = {\n",
    "                'id': f\"{id}/hasCloseExternalAuthority#{i.value.split('/')[-1]}\",\n",
    "                'uri': i.value, \n",
    "                'label': i.label, \n",
    "                'base': i.base }\n",
    "        if i.base == 'www.wikidata.org':\n",
    "            imagem = GetImagem(i.value)\n",
    "            if imagem:\n",
    "                doc['imagem'] = imagem\n",
    "\n",
    "    uris.append(uri)\n",
    "    doc['hasCloseExternalAuthority'] = uris\n",
    "\n",
    "    return doc\n",
    "\n",
    "doc = MakeDocAgents(request, id)"
   ]
  },
  {
   "cell_type": "code",
   "execution_count": 134,
   "metadata": {},
   "outputs": [
    {
     "data": {
      "text/plain": [
       "{'id': 'TESTE',\n",
       " 'type': 'PersonalName',\n",
       " 'creationDate': '2023-05-26',\n",
       " 'label': 'Machado de Assis,, 1839-1908',\n",
       " 'isMemberOfMADSCollection': 'http://bibliokeia.com/authorities/PersonalName/',\n",
       " 'fullerName': 'Joaquim Maria Machado',\n",
       " 'birthDate': '1839-06-21',\n",
       " 'birthPlace': 'Rio de Janeiro (Brazil)',\n",
       " 'deathDate': '1908-09-29',\n",
       " 'hasAffiliation': [{'id': 'TESTE/hasAffiliation#n82059239',\n",
       "   'organization': 'Academia Brasileira de Letras',\n",
       "   'affiliationStart': '1897',\n",
       "   'affiliationEnd': '1908'}],\n",
       " 'variant': ['Assis, Joaquim Maria Machado de, 1839-1908',\n",
       "  'Assis, Machado de, 1839-1908',\n",
       "  'De Assis, Joaquim Maria Machado, 1839-1908',\n",
       "  'De Assis, Machado, 1839-1908',\n",
       "  'Machado de Assis, Joaquim Maria, 1839-1908',\n",
       "  'Machado de Assis, Joaquín María, 1839-1908',\n",
       "  'Mashado de Assiz, Zhoakin, 1839-1908',\n",
       "  'Semana Dr., 1839-1908'],\n",
       " 'imagem': 'http://commons.wikimedia.org/wiki/Special:FilePath/Machado de Assis aos 57 anos.jpg',\n",
       " 'hasCloseExternalAuthority': [{'id': 'TESTE/hasCloseExternalAuthority#48407',\n",
       "   'uri': 'http://id.worldcat.org/fast/48407',\n",
       "   'label': 'Machado de Assis, 1839-1908',\n",
       "   'base': 'id.worldcat.org'}]}"
      ]
     },
     "execution_count": 134,
     "metadata": {},
     "output_type": "execute_result"
    }
   ],
   "source": [
    "doc"
   ]
  },
  {
   "cell_type": "code",
   "execution_count": 107,
   "metadata": {},
   "outputs": [],
   "source": [
    "from rdflib.plugins.sparql import prepareQuery\n",
    "from SPARQLWrapper import SPARQLWrapper, JSON"
   ]
  },
  {
   "cell_type": "code",
   "execution_count": 136,
   "metadata": {},
   "outputs": [
    {
     "data": {
      "text/plain": [
       "{'uri': {'type': 'uri',\n",
       "  'value': 'https://bibliokeia.com/authorities/PersonalName/bkau-3'},\n",
       " 'label': {'type': 'literal', 'value': 'Saramago, José'}}"
      ]
     },
     "execution_count": 136,
     "metadata": {},
     "output_type": "execute_result"
    }
   ],
   "source": [
    "from api.src.function.loc.graphExist import GraphExist\n",
    "\n",
    "\n",
    "GraphExist('http://id.loc.gov/authorities/names/n85130797')"
   ]
  },
  {
   "cell_type": "code",
   "execution_count": 130,
   "metadata": {},
   "outputs": [],
   "source": [
    "\n"
   ]
  },
  {
   "cell_type": "code",
   "execution_count": 129,
   "metadata": {},
   "outputs": [
    {
     "data": {
      "text/plain": [
       "'http://commons.wikimedia.org/wiki/Special:FilePath/Machado de Assis aos 57 anos.jpg'"
      ]
     },
     "execution_count": 129,
     "metadata": {},
     "output_type": "execute_result"
    }
   ],
   "source": [
    "file = response['entities']['Q311145']['claims']['P18'][0]['mainsnak']['datavalue']['value']\n",
    "image = f'http://commons.wikimedia.org/wiki/Special:FilePath/{file}'\n",
    "image"
   ]
  },
  {
   "cell_type": "code",
   "execution_count": 121,
   "metadata": {},
   "outputs": [],
   "source": [
    "sparql.setReturnFormat(JSON)"
   ]
  },
  {
   "cell_type": "code",
   "execution_count": 122,
   "metadata": {},
   "outputs": [],
   "source": [
    "results = sparql.query().convert()"
   ]
  },
  {
   "cell_type": "code",
   "execution_count": 123,
   "metadata": {},
   "outputs": [
    {
     "data": {
      "text/plain": [
       "[]"
      ]
     },
     "execution_count": 123,
     "metadata": {},
     "output_type": "execute_result"
    }
   ],
   "source": [
    "results[\"results\"][\"bindings\"]"
   ]
  },
  {
   "cell_type": "code",
   "execution_count": 100,
   "metadata": {},
   "outputs": [],
   "source": [
    "solr = Solr('http://localhost:8983/solr/authorities/', timeout=10)"
   ]
  },
  {
   "cell_type": "code",
   "execution_count": 135,
   "metadata": {},
   "outputs": [
    {
     "data": {
      "text/plain": [
       "'{\\n  \"responseHeader\":{\\n    \"status\":0,\\n    \"QTime\":535}}\\n'"
      ]
     },
     "execution_count": 135,
     "metadata": {},
     "output_type": "execute_result"
    }
   ],
   "source": [
    "r = solr.add([doc], commit=True)\n",
    "r"
   ]
  },
  {
   "cell_type": "code",
   "execution_count": 104,
   "metadata": {},
   "outputs": [
    {
     "data": {
      "text/plain": [
       "{'id': 'TESTE',\n",
       " 'type': 'PersonalName',\n",
       " 'creationDate': '2023-05-26',\n",
       " 'label': 'Machado de Assis,, 1839-1908',\n",
       " 'isMemberOfMADSCollection': 'http://bibliokeia.com/authorities/PersonalName/',\n",
       " 'fullerName': 'Joaquim Maria Machado',\n",
       " 'birthDate': '1839-06-21',\n",
       " 'birthPlace': 'Rio de Janeiro (Brazil)',\n",
       " 'deathDate': '1908-09-29',\n",
       " 'hasAffiliation': [{'id': 'TESTE/hasAffiliation#n82059239',\n",
       "   'organization': 'Academia Brasileira de Letras',\n",
       "   'affiliationStart': '1897',\n",
       "   'affiliationEnd': '1908'}],\n",
       " 'variant': ['Assis, Joaquim Maria Machado de, 1839-1908',\n",
       "  'Assis, Machado de, 1839-1908',\n",
       "  'De Assis, Joaquim Maria Machado, 1839-1908',\n",
       "  'De Assis, Machado, 1839-1908',\n",
       "  'Machado de Assis, Joaquim Maria, 1839-1908',\n",
       "  'Machado de Assis, Joaquín María, 1839-1908',\n",
       "  'Mashado de Assiz, Zhoakin, 1839-1908',\n",
       "  'Semana Dr., 1839-1908'],\n",
       " 'hasCloseExternalAuthority': [{'id': 'TESTE/hasCloseExternalAuthority#48407',\n",
       "   'uri': 'http://id.worldcat.org/fast/48407',\n",
       "   'label': 'Machado de Assis, 1839-1908',\n",
       "   'base': 'id.worldcat.org'}]}"
      ]
     },
     "execution_count": 104,
     "metadata": {},
     "output_type": "execute_result"
    }
   ],
   "source": [
    "doc"
   ]
  }
 ],
 "metadata": {
  "kernelspec": {
   "display_name": "Python 3.11.3 ('venv': venv)",
   "language": "python",
   "name": "python3"
  },
  "language_info": {
   "codemirror_mode": {
    "name": "ipython",
    "version": 3
   },
   "file_extension": ".py",
   "mimetype": "text/x-python",
   "name": "python",
   "nbconvert_exporter": "python",
   "pygments_lexer": "ipython3",
   "version": "3.10.4"
  },
  "orig_nbformat": 4,
  "vscode": {
   "interpreter": {
    "hash": "5df21a170a08fe7c24b5b1091267edae5bad3984f1116f28e957af7dd8f192dc"
   }
  }
 },
 "nbformat": 4,
 "nbformat_minor": 2
}
