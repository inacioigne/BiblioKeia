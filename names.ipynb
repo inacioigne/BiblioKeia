{
 "cells": [
  {
   "cell_type": "code",
   "execution_count": 2,
   "metadata": {},
   "outputs": [],
   "source": [
    "from rdflib import Graph, Namespace, URIRef\n",
    "from typing import Optional\n",
    "from pydantic import BaseModel\n",
    "from api.src.function.loc.getType import GetType\n",
    "from pyfuseki import FusekiUpdate\n",
    "import httpx"
   ]
  },
  {
   "cell_type": "code",
   "execution_count": 10,
   "metadata": {},
   "outputs": [
    {
     "data": {
      "text/plain": [
       "{'statusCode': 200, 'message': 'Update succeeded'}"
      ]
     },
     "execution_count": 10,
     "metadata": {},
     "output_type": "execute_result"
    }
   ],
   "source": [
    "au_update = FusekiUpdate('http://localhost:3030', 'authorities')\n",
    "\n",
    "r = au_update.run_sparql('DROP DEFAULT')\n",
    "r.convert()"
   ]
  },
  {
   "cell_type": "code",
   "execution_count": 3,
   "metadata": {},
   "outputs": [
    {
     "data": {
      "text/plain": [
       "<Response [200 OK]>"
      ]
     },
     "execution_count": 3,
     "metadata": {},
     "output_type": "execute_result"
    }
   ],
   "source": [
    "authority = 'http://id.loc.gov/authorities/names/n80002329'\n",
    "url = f'http://localhost:8000/authorities/import/loc/agents?authority={authority}'\n",
    "r = httpx.get(url)\n",
    "r\n"
   ]
  },
  {
   "cell_type": "code",
   "execution_count": null,
   "metadata": {},
   "outputs": [],
   "source": [
    "r.json()"
   ]
  },
  {
   "cell_type": "code",
   "execution_count": 5,
   "metadata": {},
   "outputs": [],
   "source": [
    "from api.src.schemas.authorities.authority import Variant, AdminMetadata, Element\n",
    "class Uri(BaseModel):\n",
    "    value: str\n",
    "    label: str\n",
    "    base: Optional[str]\n",
    "\n",
    "class Affiliation(BaseModel):\n",
    "    organization: Uri\n",
    "    affiliationStart: str\n",
    "    affiliationEnd: Optional[str]\n",
    "    \n",
    "class Agents(BaseModel):\n",
    "    type: str \n",
    "    adminMetadata: AdminMetadata \n",
    "    elementList: list[Element]\n",
    "    fullerName: Optional[Element]\n",
    "    birthDate: Optional[str]\n",
    "    birthPlace: Optional[str]\n",
    "    deathDate: Optional[str]\n",
    "    hasAffiliation: Optional[list[Affiliation]]\n",
    "    occupation: Optional[list[Uri]]\n",
    "    hasCloseExternalAuthority: Optional[list[Uri]]\n",
    "    hasExactExternalAuthority: Optional[list[Uri]]\n",
    "    hasVariant: Optional[list[Variant]]\n",
    "    subjectOf: Optional[list[Uri]]\n",
    "    contributorOf: Optional[list[Uri]]\n",
    "    isMemberOfMADSCollection: str\n",
    "    "
   ]
  },
  {
   "cell_type": "code",
   "execution_count": 6,
   "metadata": {},
   "outputs": [
    {
     "data": {
      "text/plain": [
       "Agents(type='PersonalName', adminMetadata=AdminMetadata(assigner='http://id.loc.gov/vocabulary/organizations/dlc', descriptionModifier='http://id.loc.gov/vocabulary/organizations/brmninpa', creationDate=datetime.date(2023, 5, 25), descriptionLanguage='http://id.loc.gov/vocabulary/languages/por', generationProcess='BiblioKeia v.1', generationDate=datetime.datetime(2023, 5, 25, 9, 6, 30), identifiedBy=[IdentifiedBy(type='Lccn', assigner='http://id.loc.gov/vocabulary/organizations/dlc', value='n80002329')], status=Status(value='mstatus:new', label='novo')), elementList=[Element(type='FullNameElement', elementValue=Label(value='Machado de Assis,', lang=None)), Element(type='DateNameElement', elementValue=Label(value='1839-1908', lang=None))], fullerName=Element(type='PersonalName', elementValue=Label(value='Joaquim Maria Machado', lang=None)), birthDate='1839-06-21', birthPlace='Rio de Janeiro (Brazil)', deathDate='1908-09-29', hasAffiliation=[Affiliation(organization=Uri(value='http://id.loc.gov/authorities/names/n82059239', label='Academia Brasileira de Letras', base='id.loc.gov'), affiliationStart='1897', affiliationEnd='1908')], occupation=[Uri(value='http://id.loc.gov/authorities/subjects/sh85092863', label='Novelists', base='id.loc.gov'), Uri(value='http://id.loc.gov/authorities/subjects/sh85103733', label='Poets', base='id.loc.gov'), Uri(value='http://id.loc.gov/authorities/subjects/sh85039342', label='Dramatists', base='id.loc.gov'), Uri(value='http://id.loc.gov/authorities/subjects/sh85034154', label='Critics', base='id.loc.gov'), Uri(value='http://id.loc.gov/authorities/subjects/sh85108733', label='Public officers', base='id.loc.gov')], hasCloseExternalAuthority=[Uri(value='http://www.wikidata.org/entity/Q311145', label='Joaquim Maria Machado de Assis', base='www.wikidata.org'), Uri(value='http://id.worldcat.org/fast/48407', label='Machado de Assis, 1839-1908', base='id.worldcat.org')], hasExactExternalAuthority=None, hasVariant=[Variant(type='PersonalName', elementList=[Element(type='FullNameElement', elementValue=Label(value='Assis, Joaquim Maria Machado de,', lang=None)), Element(type='DateNameElement', elementValue=Label(value='1839-1908', lang=None))]), Variant(type='PersonalName', elementList=[Element(type='FullNameElement', elementValue=Label(value='Assis, Machado de,', lang=None)), Element(type='DateNameElement', elementValue=Label(value='1839-1908', lang=None))]), Variant(type='PersonalName', elementList=[Element(type='FullNameElement', elementValue=Label(value='De Assis, Joaquim Maria Machado,', lang=None)), Element(type='DateNameElement', elementValue=Label(value='1839-1908', lang=None))]), Variant(type='PersonalName', elementList=[Element(type='FullNameElement', elementValue=Label(value='De Assis, Machado,', lang=None)), Element(type='DateNameElement', elementValue=Label(value='1839-1908', lang=None))]), Variant(type='PersonalName', elementList=[Element(type='FullNameElement', elementValue=Label(value='Machado de Assis, Joaquim Maria,', lang=None)), Element(type='DateNameElement', elementValue=Label(value='1839-1908', lang=None))]), Variant(type='PersonalName', elementList=[Element(type='FullNameElement', elementValue=Label(value='Machado de Assis, Joaquín María,', lang=None)), Element(type='DateNameElement', elementValue=Label(value='1839-1908', lang=None))]), Variant(type='PersonalName', elementList=[Element(type='FullNameElement', elementValue=Label(value='Mashado de Assiz, Zhoakin,', lang=None)), Element(type='DateNameElement', elementValue=Label(value='1839-1908', lang=None))]), Variant(type='PersonalName', elementList=[Element(type='FullNameElement', elementValue=Label(value='Semana', lang=None)), Element(type='TermsOfAddressNameElement', elementValue=Label(value='Dr.,', lang=None)), Element(type='DateNameElement', elementValue=Label(value='1839-1908', lang=None))])], subjectOf=None, contributorOf=None, isMemberOfMADSCollection='http://bibliokeia.com/authorities/PersonalName/')"
      ]
     },
     "execution_count": 6,
     "metadata": {},
     "output_type": "execute_result"
    }
   ],
   "source": [
    "request = Agents(**r.json())\n",
    "request"
   ]
  },
  {
   "cell_type": "code",
   "execution_count": 2,
   "metadata": {},
   "outputs": [
    {
     "data": {
      "text/plain": [
       "<Graph identifier=N31c39298d6004c578ff4fa30d848ebce (<class 'rdflib.graph.Graph'>)>"
      ]
     },
     "execution_count": 2,
     "metadata": {},
     "output_type": "execute_result"
    }
   ],
   "source": [
    "authority = 'http://id.loc.gov/authorities/names/n80002329'\n",
    "graph = Graph()\n",
    "graph.parse(f'{authority}.rdf')"
   ]
  },
  {
   "cell_type": "code",
   "execution_count": 180,
   "metadata": {},
   "outputs": [
    {
     "data": {
      "text/plain": [
       "{'occupation': [{'value': 'http://id.loc.gov/authorities/subjects/sh85092863',\n",
       "   'label': 'Novelists',\n",
       "   'base': 'id.loc.gov'},\n",
       "  {'value': 'http://id.loc.gov/authorities/subjects/sh85103733',\n",
       "   'label': 'Poets',\n",
       "   'base': 'id.loc.gov'},\n",
       "  {'value': 'http://id.loc.gov/authorities/subjects/sh85039342',\n",
       "   'label': 'Dramatists',\n",
       "   'base': 'id.loc.gov'},\n",
       "  {'value': 'http://id.loc.gov/authorities/subjects/sh85034154',\n",
       "   'label': 'Critics',\n",
       "   'base': 'id.loc.gov'},\n",
       "  {'value': 'http://id.loc.gov/authorities/subjects/sh85108733',\n",
       "   'label': 'Public officers',\n",
       "   'base': 'id.loc.gov'}]}"
      ]
     },
     "execution_count": 180,
     "metadata": {},
     "output_type": "execute_result"
    }
   ],
   "source": [
    "def getElementList(graph, authority, obj):\n",
    "    \n",
    "  qElementList = f\"\"\"PREFIX rdf: <http://www.w3.org/1999/02/22-rdf-syntax-ns#>\n",
    "    PREFIX madsrdf: <http://www.loc.gov/mads/rdf/v1#>\n",
    "    SELECT ?type ?value \n",
    "    WHERE  {{\n",
    "    <{authority}> madsrdf:elementList ?elementList .\n",
    "    ?elementList rdf:rest* ?rest .\n",
    "    ?rest rdf:first ?first .\n",
    "    ?first rdf:type ?type  .\n",
    "    ?first madsrdf:elementValue ?value\n",
    "      }}\"\"\"\n",
    "  r = graph.query(qElementList)\n",
    "  bindings = r.bindings\n",
    "  elementList = list()\n",
    "\n",
    "  for i in bindings:\n",
    "    element = {\n",
    "            \"type\": i.get('type').split(\"#\")[1],\n",
    "          \"elementValue\": {\n",
    "            \"value\":  i.get('value').toPython(),\n",
    "            \"lang\": i.get('lang')\n",
    "          }\n",
    "        }\n",
    "    elementList.append(element)\n",
    "  obj['elementList'] = elementList\n",
    "\n",
    "  return obj \n",
    "\n",
    "def getFullerName(graph, authority, obj):\n",
    "    \n",
    "  qFullerName = f\"\"\"PREFIX rdf: <http://www.w3.org/1999/02/22-rdf-syntax-ns#>\n",
    "    PREFIX madsrdf: <http://www.loc.gov/mads/rdf/v1#>\n",
    "    SELECT ?type ?value \n",
    "    WHERE  {{\n",
    "    <{authority}> madsrdf:fullerName ?fullerName .\n",
    "      ?fullerName rdf:type ?type .\n",
    "      ?fullerName rdfs:label ?value\n",
    "      }}\"\"\"\n",
    "  r = graph.query(qFullerName)\n",
    "  bindings = r.bindings\n",
    "  if len(bindings) > 0:\n",
    "    result = bindings[0]\n",
    "    element = {\n",
    "              \"type\": result.get('type').split(\"#\")[1],\n",
    "            \"elementValue\": {\n",
    "              \"value\": result.get('value').toPython(),\n",
    "              \"lang\": result.get('lang')\n",
    "            }\n",
    "          }\n",
    "    obj['fullerName'] = element\n",
    "    \n",
    "  return obj\n",
    "\n",
    "def GetUri(authority, graph, metadata, obj):\n",
    "\n",
    "    query = f\"\"\"PREFIX madsrdf: <http://www.loc.gov/mads/rdf/v1#>\n",
    "            SELECT * WHERE  {{\n",
    "              <{authority}> madsrdf:{metadata} ?value .\n",
    "              ?value madsrdf:authoritativeLabel ?label\n",
    "              }}\"\"\"\n",
    "    response = graph.query(query)\n",
    "    if len(response.bindings) > 0:\n",
    "        external = list()\n",
    "        for i in response.bindings:\n",
    "            url = i.get('value').toPython()\n",
    "            base = url.split(\"//\")[1].split(\"/\")[0]\n",
    "            uri = {\n",
    "                   \"value\": url,\n",
    "                   \"base\": base,\n",
    "                   \"label\": i.get('label').value }\n",
    "            external.append(uri)\n",
    "        obj[metadata] = external\n",
    "        \n",
    "    return obj\n",
    "\n",
    "def GetVariant(authority, graph, obj):\n",
    "    \n",
    "  q = f\"\"\"PREFIX madsrdf: <http://www.loc.gov/mads/rdf/v1#>\n",
    "  PREFIX rdf: <http://www.w3.org/1999/02/22-rdf-syntax-ns#>\n",
    "  SELECT ?typeVariant ?elementList ?elementValue ?typeElement \n",
    "  WHERE  {{      \t\n",
    "  <{authority}> madsrdf:hasVariant ?variant .\n",
    "                  ?variant rdf:type ?typeVariant .\n",
    "                  ?variant madsrdf:elementList ?elementList .\n",
    "                  ?elementList rdf:rest* ?node .\n",
    "                    ?node rdf:first ?e .\n",
    "                    ?e madsrdf:elementValue ?elementValue .\n",
    "                  ?e rdf:type ?typeElement .\n",
    "                  FILTER ( ?typeVariant != madsrdf:Variant )\n",
    "                  }}\"\"\"\n",
    "  result = graph.query(q)\n",
    "  \n",
    "  if len(result.bindings) > 0:\n",
    "    d = {}\n",
    "    for i in result.bindings:\n",
    "        bn = i.get('elementList').n3()\n",
    "        typeVariant = i.get('typeVariant').split(\"#\")[-1]\n",
    "        elementValue = i.get('elementValue').toPython()\n",
    "        tipo = i.get('typeElement').split(\"#\")[-1]\n",
    "        element = {'type': tipo, 'elementValue': {'value': elementValue}}\n",
    "        \n",
    "        if bn in d.keys():\n",
    "            d[bn]['elementList'].append(element)\n",
    "        else:\n",
    "            d[bn] = {'type': typeVariant, 'elementList': [element]}\n",
    "    variants = list(d.values())\n",
    "    obj['hasVariant'] = variants\n",
    "    return obj\n",
    "  else:\n",
    "     return obj\n",
    "\n",
    "def GetDate(rwo, typeDate, graph, obj):\n",
    "\n",
    "    q = f\"\"\"PREFIX madsrdf: <http://www.loc.gov/mads/rdf/v1#>\n",
    "    SELECT ?date\n",
    "    WHERE  {{      \t\n",
    "    <{rwo}> madsrdf:{typeDate} ?date . }}\"\"\"\n",
    "    result = graph.query(q)\n",
    "\n",
    "    if len(result.bindings) > 0:\n",
    "        [birthDate] = result.bindings\n",
    "        obj[typeDate] = birthDate.get('date').n3().split('\"')[1]\n",
    "    return obj\n",
    "\n",
    "def GetBirthPlace(rwo, graph, obj):\n",
    "\n",
    "    q = f\"\"\"PREFIX madsrdf: <http://www.loc.gov/mads/rdf/v1#>\n",
    "    PREFIX rdfs: <http://www.w3.org/2000/01/rdf-schema#>\n",
    "    SELECT ?label\n",
    "    WHERE  {{      \t\n",
    "    <{rwo}> madsrdf:birthPlace ?birthPlace .\n",
    "  ?birthPlace rdfs:label ?label }}\"\"\"\n",
    "    result = graph.query(q)\n",
    "\n",
    "    if len(result.bindings) > 0:\n",
    "        [birthPlace] = result.bindings\n",
    "        obj['birthPlace'] = birthPlace.get('label').toPython()\n",
    "\n",
    "    return obj\n",
    "\n",
    "def GetAffiliation(rwo, graph, obj):\n",
    "\n",
    "    q = f\"\"\"PREFIX madsrdf: <http://www.loc.gov/mads/rdf/v1#>\n",
    "    SELECT ?organization ?labelOrg ?start ?end\n",
    "    WHERE  {{      \t\n",
    "    <{rwo}> madsrdf:hasAffiliation ?hasAffiliation .\n",
    "  ?hasAffiliation madsrdf:organization ?organization .\n",
    "  ?organization madsrdf:authoritativeLabel ?labelOrg .\n",
    "  ?hasAffiliation madsrdf:affiliationStart ?start .\n",
    "  OPTIONAL {{ ?hasAffiliation madsrdf:affiliationEnd ?end  }} }}\"\"\"\n",
    "    result = graph.query(q)\n",
    "    \n",
    "    if len(result.bindings) > 0:\n",
    "        affiliations = list()\n",
    "        for i in result.bindings:\n",
    "          # organization\n",
    "          orgUri = i.get('organization').toPython()\n",
    "          orgBase = orgUri.split('//')[1].split(\"/\")[0]\n",
    "          organization = {'value': orgUri, 'label': i.get('labelOrg').toPython(), 'base': orgBase}\n",
    "          affiliation = {'organization': organization,\n",
    "                         'affiliationStart': i.get('start').toPython(),\n",
    "                         'affiliationEnd': i.get('end').toPython()}\n",
    "          affiliations.append(affiliation)\n",
    "        obj['hasAffiliation'] = affiliations\n",
    "\n",
    "    return obj\n",
    "\n",
    "def GetOccuption(rwo, graph, obj):\n",
    "\n",
    "    q = f\"\"\"PREFIX madsrdf: <http://www.loc.gov/mads/rdf/v1#>\n",
    "    SELECT ?occupation ?label\n",
    "    WHERE  {{      \t\n",
    "    <{rwo}> madsrdf:occupation ?occupation .\n",
    "   ?occupation madsrdf:authoritativeLabel ?label  }} \"\"\"\n",
    "    result = graph.query(q)\n",
    "    if len(result.bindings) > 0:\n",
    "       occupations = list()\n",
    "       for i in result.bindings:\n",
    "        value = i.get('occupation').toPython()\n",
    "        base = value.split('//')[1].split(\"/\")[0]\n",
    "        occupation = {'value': value,\n",
    "                     'label': i.get('label').value,\n",
    "                     'base': base}\n",
    "        occupations.append(occupation)\n",
    "    obj['occupation'] = occupations\n",
    "    \n",
    "    return obj\n",
    "\n",
    "\n",
    "token = authority.split(\"/\")[-1]\n",
    "rwo = f'http://id.loc.gov/rwo/agents/{token}'\n",
    "obj = GetOccuption(rwo, graph, {})\n",
    "obj"
   ]
  },
  {
   "cell_type": "code",
   "execution_count": 181,
   "metadata": {},
   "outputs": [
    {
     "data": {
      "text/plain": [
       "[Affiliation(organization=Uri(value='http://id.loc.gov/authorities/names/n82059239', label='Academia Brasileira de Letras', base='id.loc.gov'), affiliationStart='1897', affiliationEnd='1908')]"
      ]
     },
     "execution_count": 181,
     "metadata": {},
     "output_type": "execute_result"
    }
   ],
   "source": [
    "def ParserAgents(graph, authority):\n",
    "    # Type\n",
    "    tipo = GetType(graph, authority)\n",
    "\n",
    "    # adminMetadata\n",
    "    adminMetadata = {\n",
    "      \"assigner\": \"http://id.loc.gov/vocabulary/organizations/dlc\",\n",
    "      \"identifiedBy\": [ {\n",
    "         \"type\": \"Lccn\",\n",
    "          \"assigner\": \"http://id.loc.gov/vocabulary/organizations/dlc\",\n",
    "          \"value\": authority.split('/')[-1]        \n",
    "      }]}\n",
    "    \n",
    "    obj = {\n",
    "     \"type\": tipo,\n",
    "      \"adminMetadata\": adminMetadata,\n",
    "      \"isMemberOfMADSCollection\": f'http://bibliokeia.com/authorities/{tipo}/'}\n",
    "    \n",
    "    # ElementList\n",
    "    obj = getElementList(graph, authority, obj)\n",
    "    \n",
    "    # fullerName\n",
    "    obj = getFullerName(graph, authority, obj)\n",
    "\n",
    "    # hasCloseExternalAuthority\n",
    "    obj = GetUri(authority, graph, \"hasCloseExternalAuthority\", obj)\n",
    "\n",
    "    # hasExactExternalAuthority\n",
    "    obj = GetUri(authority, graph, \"hasExactExternalAuthority\", obj)\n",
    "\n",
    "    # Variant\n",
    "    obj = GetVariant(authority, graph, obj)\n",
    "\n",
    "    # RWO\n",
    "    token = authority.split(\"/\")[-1]\n",
    "    rwo = f'http://id.loc.gov/rwo/agents/{token}'\n",
    "    # BirthDate\n",
    "    obj = GetDate(rwo, 'birthDate', graph, obj)\n",
    "    # deathDate\n",
    "    obj = GetDate(rwo, 'deathDate', graph, obj)\n",
    "    # BirthPlace\n",
    "    obj = GetBirthPlace(rwo, graph, obj)\n",
    "    # Affiliation\n",
    "    obj = GetAffiliation(rwo, graph, obj)\n",
    "    # Occuptions\n",
    "    obj = GetOccuption(rwo, graph, obj)\n",
    "    \n",
    "    return obj\n",
    "\n",
    "\n",
    "\n",
    "obj = ParserAgents(graph, authority)\n",
    "request = Agents(**obj)\n",
    "request.hasAffiliation"
   ]
  },
  {
   "cell_type": "code",
   "execution_count": 177,
   "metadata": {},
   "outputs": [
    {
     "ename": "KeyError",
     "evalue": "'occupation'",
     "output_type": "error",
     "traceback": [
      "\u001b[1;31m---------------------------------------------------------------------------\u001b[0m",
      "\u001b[1;31mKeyError\u001b[0m                                  Traceback (most recent call last)",
      "\u001b[1;32mc:\\Users\\Usuário\\Desktop\\BiblioKeia\\names.ipynb Cell 7\u001b[0m in \u001b[0;36m<cell line: 1>\u001b[1;34m()\u001b[0m\n\u001b[1;32m----> <a href='vscode-notebook-cell:/c%3A/Users/Usu%C3%A1rio/Desktop/BiblioKeia/names.ipynb#X30sZmlsZQ%3D%3D?line=0'>1</a>\u001b[0m obj[\u001b[39m'\u001b[39;49m\u001b[39moccupation\u001b[39;49m\u001b[39m'\u001b[39;49m]\n",
      "\u001b[1;31mKeyError\u001b[0m: 'occupation'"
     ]
    }
   ],
   "source": [
    "obj['occupation']"
   ]
  }
 ],
 "metadata": {
  "kernelspec": {
   "display_name": "Python 3.11.3 ('venv': venv)",
   "language": "python",
   "name": "python3"
  },
  "language_info": {
   "codemirror_mode": {
    "name": "ipython",
    "version": 3
   },
   "file_extension": ".py",
   "mimetype": "text/x-python",
   "name": "python",
   "nbconvert_exporter": "python",
   "pygments_lexer": "ipython3",
   "version": "3.11.3"
  },
  "orig_nbformat": 4,
  "vscode": {
   "interpreter": {
    "hash": "5df21a170a08fe7c24b5b1091267edae5bad3984f1116f28e957af7dd8f192dc"
   }
  }
 },
 "nbformat": 4,
 "nbformat_minor": 2
}
