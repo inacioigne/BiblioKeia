{
 "cells": [
  {
   "cell_type": "code",
   "execution_count": 1,
   "metadata": {},
   "outputs": [],
   "source": [
    "from rdflib import Graph, Namespace, URIRef\n",
    "from typing import Optional\n",
    "from pydantic import BaseModel\n",
    "from api.src.function.loc.getType import GetType\n",
    "from pyfuseki import FusekiUpdate"
   ]
  },
  {
   "cell_type": "code",
   "execution_count": 10,
   "metadata": {},
   "outputs": [
    {
     "data": {
      "text/plain": [
       "{'statusCode': 200, 'message': 'Update succeeded'}"
      ]
     },
     "execution_count": 10,
     "metadata": {},
     "output_type": "execute_result"
    }
   ],
   "source": [
    "au_update = FusekiUpdate('http://localhost:3030', 'authorities')\n",
    "\n",
    "r = au_update.run_sparql('DROP DEFAULT')\n",
    "r.convert()"
   ]
  },
  {
   "cell_type": "code",
   "execution_count": 111,
   "metadata": {},
   "outputs": [],
   "source": [
    "from api.src.schemas.authorities.authority import Uri, Variant, AdminMetadata, Element\n",
    "class Agents(BaseModel):\n",
    "    type: str \n",
    "    adminMetadata: AdminMetadata \n",
    "    elementList: list[Element]\n",
    "    fullerName: Optional[Element]\n",
    "    # note: Optional[str]\n",
    "    # hasReciprocalAuthority: Optional[list[Uri]]\n",
    "    # hasReciprocalExternalAuthority: Optional[list[Uri]]\n",
    "    # hasBroaderAuthority: Optional[list[Uri]]\n",
    "    # hasBroaderExternalAuthority: Optional[list[Uri]]\n",
    "    # hasNarrowerAuthority: Optional[list[Uri]]\n",
    "    # hasNarrowerExternalAuthority: Optional[list[Uri]]\n",
    "    hasCloseExternalAuthority: Optional[list[Uri]]\n",
    "    hasExactExternalAuthority: Optional[list[Uri]]\n",
    "    hasVariant: Optional[list[Variant]]\n",
    "    # subjectOf: Optional[list[Uri]]\n",
    "    # isMemberOfMADSCollection: str\n",
    "    "
   ]
  },
  {
   "cell_type": "code",
   "execution_count": 18,
   "metadata": {},
   "outputs": [],
   "source": [
    "from rdflib.collection import Collection\n",
    "from rdflib import RDF, Literal"
   ]
  },
  {
   "cell_type": "code",
   "execution_count": 3,
   "metadata": {},
   "outputs": [],
   "source": [
    "madsrdf = Namespace(\"http://www.loc.gov/mads/rdf/v1#\")\n",
    "rdf = Namespace(\"http://www.w3.org/1999/02/22-rdf-syntax-ns#\")"
   ]
  },
  {
   "cell_type": "code",
   "execution_count": 2,
   "metadata": {},
   "outputs": [
    {
     "data": {
      "text/plain": [
       "<Graph identifier=N4323f6a40bc04bdba55bcf4a379b6fe5 (<class 'rdflib.graph.Graph'>)>"
      ]
     },
     "execution_count": 2,
     "metadata": {},
     "output_type": "execute_result"
    }
   ],
   "source": [
    "authority = 'http://id.loc.gov/authorities/names/n80002329'\n",
    "graph = Graph()\n",
    "graph.parse(f'{authority}.rdf')"
   ]
  },
  {
   "cell_type": "code",
   "execution_count": null,
   "metadata": {},
   "outputs": [],
   "source": [
    "q = \"\"\"PREFIX madsrdf: <http://www.loc.gov/mads/rdf/v1#>\n",
    "PREFIX rdf: <http://www.w3.org/1999/02/22-rdf-syntax-ns#>\n",
    "SELECT ?typeVariant ?elementList ?elementValue ?typeElement \n",
    "WHERE  {         \t\n",
    "<http://id.loc.gov/authorities/names/n80002329> madsrdf:hasVariant ?variant .\n",
    "                ?variant rdf:type ?typeVariant .\n",
    "                ?variant madsrdf:elementList ?elementList .\n",
    "                ?elementList rdf:rest* ?node .\n",
    "                  ?node rdf:first ?e .\n",
    "                  ?e madsrdf:elementValue ?elementValue .\n",
    "                ?e rdf:type ?typeElement .\n",
    "                FILTER ( ?typeVariant != madsrdf:Variant )\n",
    "                }\"\"\"\n",
    "result = graph.query(q)     \n",
    "   "
   ]
  },
  {
   "cell_type": "code",
   "execution_count": 38,
   "metadata": {},
   "outputs": [
    {
     "data": {
      "text/plain": [
       "{rdflib.term.Variable('elementList'): rdflib.term.BNode('Nea87f9da482544feadcf8a50204d9486'), rdflib.term.Variable('typeVariant'): rdflib.term.URIRef('http://www.loc.gov/mads/rdf/v1#PersonalName'), rdflib.term.Variable('elementValue'): rdflib.term.Literal('Assis, Joaquim Maria Machado de,'), rdflib.term.Variable('typeElement'): rdflib.term.URIRef('http://www.loc.gov/mads/rdf/v1#FullNameElement')}"
      ]
     },
     "execution_count": 38,
     "metadata": {},
     "output_type": "execute_result"
    }
   ],
   "source": [
    "result.bindings[0]"
   ]
  },
  {
   "cell_type": "code",
   "execution_count": 39,
   "metadata": {},
   "outputs": [],
   "source": [
    "d = {'Nea87f9da482544feadcf8a50204d9486': ['x']}\n",
    "for i in result.bindings:\n",
    "    if i.get('elementList') in [d.keys()]:\n",
    "        print(i.get('elementList')) "
   ]
  },
  {
   "cell_type": "code",
   "execution_count": 48,
   "metadata": {},
   "outputs": [],
   "source": [
    "def getElementList(graph, authority, obj):\n",
    "    \n",
    "  qElementList = f\"\"\"PREFIX rdf: <http://www.w3.org/1999/02/22-rdf-syntax-ns#>\n",
    "    PREFIX madsrdf: <http://www.loc.gov/mads/rdf/v1#>\n",
    "    SELECT ?type ?value \n",
    "    WHERE  {{\n",
    "    <{authority}> madsrdf:elementList ?elementList .\n",
    "    ?elementList rdf:rest* ?rest .\n",
    "    ?rest rdf:first ?first .\n",
    "    ?first rdf:type ?type  .\n",
    "    ?first madsrdf:elementValue ?value\n",
    "      }}\"\"\"\n",
    "  r = graph.query(qElementList)\n",
    "  bindings = r.bindings\n",
    "  elementList = list()\n",
    "\n",
    "  for i in bindings:\n",
    "    element = {\n",
    "            \"type\": i.get('type').split(\"#\")[1],\n",
    "          \"elementValue\": {\n",
    "            \"value\":  i.get('value').toPython(),\n",
    "            \"lang\": i.get('lang')\n",
    "          }\n",
    "        }\n",
    "    elementList.append(element)\n",
    "  obj['elementList'] = elementList\n",
    "\n",
    "  return obj\n",
    "\n",
    "def getFullerName(graph, authority, obj):\n",
    "    \n",
    "  qFullerName = f\"\"\"PREFIX rdf: <http://www.w3.org/1999/02/22-rdf-syntax-ns#>\n",
    "    PREFIX madsrdf: <http://www.loc.gov/mads/rdf/v1#>\n",
    "    SELECT ?type ?value \n",
    "    WHERE  {{\n",
    "    <{authority}> madsrdf:fullerName ?fullerName .\n",
    "      ?fullerName rdf:type ?type .\n",
    "      ?fullerName rdfs:label ?value\n",
    "      }}\"\"\"\n",
    "  r = graph.query(qFullerName)\n",
    "  bindings = r.bindings\n",
    "  if len(bindings) > 0:\n",
    "    result = bindings[0]\n",
    "    element = {\n",
    "              \"type\": result.get('type').split(\"#\")[1],\n",
    "            \"elementValue\": {\n",
    "              \"value\": result.get('value').toPython(),\n",
    "              \"lang\": result.get('lang')\n",
    "            }\n",
    "          }\n",
    "    obj['fullerName'] = element\n",
    "    \n",
    "  return obj\n",
    "\n",
    "def GetUri(authority, graph, metadata, obj):\n",
    "\n",
    "    query = f\"\"\"PREFIX madsrdf: <http://www.loc.gov/mads/rdf/v1#>\n",
    "            SELECT * WHERE  {{\n",
    "              <{authority}> madsrdf:{metadata} ?value .\n",
    "              ?value madsrdf:authoritativeLabel ?label\n",
    "              }}\"\"\"\n",
    "    response = graph.query(query)\n",
    "    if len(response.bindings) > 0:\n",
    "        external = list()\n",
    "        for i in response.bindings:\n",
    "            url = i.get('value').toPython()\n",
    "            base = url.split(\"//\")[1].split(\"/\")[0]\n",
    "            uri = {\n",
    "                   \"value\": url,\n",
    "                   \"base\": base,\n",
    "                   \"label\": {\n",
    "                       \"value\": i.get('label').value,\n",
    "                       \"lang\": i.get('label').language } }\n",
    "            external.append(uri)\n",
    "        obj[metadata] = external\n",
    "    return obj\n",
    "\n",
    "def GetVariant(authority, graph, obj):\n",
    "\n",
    "    qVariant = f\"\"\"PREFIX identifiers: <http://id.loc.gov/vocabulary/identifiers/>\n",
    "                PREFIX rdf: <http://www.w3.org/1999/02/22-rdf-syntax-ns#>\n",
    "                PREFIX madsrdf: <http://www.loc.gov/mads/rdf/v1#>\n",
    "                SELECT ?typeVariant ?typeElement ?elementValue WHERE  {{\n",
    "                <{authority}> madsrdf:hasVariant ?variant .\n",
    "                ?variant rdf:type ?typeVariant .\n",
    "                ?variant madsrdf:elementList ?elementList .\n",
    "                ?elementList rdf:rest* ?node .\n",
    "                  ?node rdf:first ?e .\n",
    "                  ?e madsrdf:elementValue ?elementValue .\n",
    "                ?e rdf:type ?typeElement .\n",
    "                FILTER ( ?typeVariant != madsrdf:Variant )\n",
    "                }}\"\"\"\n",
    "    r = graph.query(qVariant)\n",
    "    if len(r.bindings) > 0:\n",
    "\n",
    "        variants = list()\n",
    "        for i in r.bindings:\n",
    "            value = i.get('elementValue').value\n",
    "            variant = {\n",
    "          'type': i.get('typeVariant').split(\"#\")[1],\n",
    "          'elementList': [{\n",
    "              'type': i.get('typeElement').split(\"#\")[1],\n",
    "              'elementValue': {\n",
    "                  'value': value.capitalize(),\n",
    "                  'lang': 'pt'\n",
    "              }\n",
    "          }]\n",
    "      }\n",
    "            variants.append(variant)\n",
    "        obj['hasVariant'] = variants\n",
    "    return obj\n"
   ]
  },
  {
   "cell_type": "code",
   "execution_count": 107,
   "metadata": {},
   "outputs": [],
   "source": [
    "madsrdf = Namespace(\"http://www.loc.gov/mads/rdf/v1#\")\n",
    "rdf = Namespace(\"http://www.w3.org/1999/02/22-rdf-syntax-ns#\")"
   ]
  },
  {
   "cell_type": "code",
   "execution_count": null,
   "metadata": {},
   "outputs": [],
   "source": [
    "type: str\n",
    "elementList: Optional[list[Element]]"
   ]
  },
  {
   "cell_type": "code",
   "execution_count": 200,
   "metadata": {},
   "outputs": [
    {
     "name": "stdout",
     "output_type": "stream",
     "text": [
      "http://www.w3.org/1999/02/22-rdf-syntax-ns#first N3a5f2250a73e43dd9982275939d23898\n",
      "http://www.w3.org/1999/02/22-rdf-syntax-ns#rest http://www.w3.org/1999/02/22-rdf-syntax-ns#nil\n"
     ]
    }
   ],
   "source": [
    "variants = graph.triples((URIRef(authority), madsrdf.hasVariant, None))\n",
    "for _, _, o in variants:\n",
    "    variant = graph.triples((o, None, None))\n",
    "    for s, p, o in variant:\n",
    "        if p == madsrdf.variantLabel:\n",
    "            pass\n",
    "            # print(\"VL: \",o)\n",
    "        if p == madsrdf.elementList:\n",
    "            elementList = graph.triples((o, None, None))\n",
    "            for s, p, o in elementList:\n",
    "                element = graph.triples((o, None, None))\n",
    "                for s, p, o in element:\n",
    "                    if p == rdf.type:\n",
    "                        pass\n",
    "                        # print(o)\n",
    "                    elif p == madsrdf.elementValue:\n",
    "                        pass\n",
    "                        # print(\"E: \", o)\n",
    "                    elif p == rdf.first:\n",
    "                        first = graph.triples((o, None, None))\n",
    "                        for s, p, o in first:\n",
    "                            pass\n",
    "                            # print(p, o)\n",
    "                    else:\n",
    "                        rest = graph.triples((o, None, None))\n",
    "                        for s, p, o in rest:\n",
    "                            print(p, o)\n",
    "                    \n",
    "\n",
    "                    \n",
    "        \n",
    "\n",
    "        \n"
   ]
  },
  {
   "cell_type": "code",
   "execution_count": 169,
   "metadata": {},
   "outputs": [],
   "source": [
    "def getElement(graph, Node):\n",
    "    e = {}\n",
    "    triples = graph.triples((Node, None, None))\n",
    "    for s, p, o in triples:\n",
    "        if p == rdf.type:\n",
    "                    e['type'] = o.split('#')[-1]\n",
    "        elif p == madsrdf.elementValue:\n",
    "                    e['elementValue'] = o.n3()\n",
    "        else:\n",
    "                print(\"P: \", p)\n",
    "    return e\n",
    "\n",
    "\n",
    "\n"
   ]
  },
  {
   "cell_type": "code",
   "execution_count": null,
   "metadata": {},
   "outputs": [],
   "source": [
    "elementList = graph.triples((variant, None, None))\n"
   ]
  },
  {
   "cell_type": "code",
   "execution_count": 106,
   "metadata": {},
   "outputs": [
    {
     "ename": "TypeError",
     "evalue": "throw expected at least 1 argument, got 0",
     "output_type": "error",
     "traceback": [
      "\u001b[1;31m---------------------------------------------------------------------------\u001b[0m",
      "\u001b[1;31mTypeError\u001b[0m                                 Traceback (most recent call last)",
      "\u001b[1;32mc:\\Users\\Usuário\\Desktop\\BiblioKeia\\names.ipynb Cell 11\u001b[0m in \u001b[0;36m<cell line: 1>\u001b[1;34m()\u001b[0m\n\u001b[1;32m----> <a href='vscode-notebook-cell:/c%3A/Users/Usu%C3%A1rio/Desktop/BiblioKeia/names.ipynb#X23sZmlsZQ%3D%3D?line=0'>1</a>\u001b[0m elementList\u001b[39m.\u001b[39;49mthrow()\n",
      "\u001b[1;31mTypeError\u001b[0m: throw expected at least 1 argument, got 0"
     ]
    }
   ],
   "source": [
    "elementList.send()"
   ]
  },
  {
   "cell_type": "code",
   "execution_count": 89,
   "metadata": {},
   "outputs": [
    {
     "name": "stdout",
     "output_type": "stream",
     "text": [
      "(rdflib.term.BNode('Nc947f08ba2154df8b104a95b228a757a'), rdflib.term.URIRef('http://www.w3.org/1999/02/22-rdf-syntax-ns#type'), rdflib.term.URIRef('http://www.loc.gov/mads/rdf/v1#PersonalName'))\n",
      "(rdflib.term.BNode('Nc947f08ba2154df8b104a95b228a757a'), rdflib.term.URIRef('http://www.w3.org/1999/02/22-rdf-syntax-ns#type'), rdflib.term.URIRef('http://www.loc.gov/mads/rdf/v1#Variant'))\n",
      "(rdflib.term.BNode('Nc947f08ba2154df8b104a95b228a757a'), rdflib.term.URIRef('http://www.loc.gov/mads/rdf/v1#variantLabel'), rdflib.term.Literal('Semana Dr., 1839-1908'))\n",
      "(rdflib.term.BNode('Nc947f08ba2154df8b104a95b228a757a'), rdflib.term.URIRef('http://www.loc.gov/mads/rdf/v1#elementList'), rdflib.term.BNode('N2a1b234a1c4043a5b195287cec126238'))\n"
     ]
    }
   ],
   "source": [
    "variant = graph.triples((o, None, None))\n",
    "for i in variant:\n",
    "    print(i)"
   ]
  },
  {
   "cell_type": "code",
   "execution_count": 70,
   "metadata": {},
   "outputs": [
    {
     "ename": "ParseException",
     "evalue": "Expected {SelectQuery | ConstructQuery | DescribeQuery | AskQuery}, found 'N6c29fe98927b417'  (at char 253), (line:5, col:16)",
     "output_type": "error",
     "traceback": [
      "\u001b[1;31m---------------------------------------------------------------------------\u001b[0m",
      "\u001b[1;31mParseException\u001b[0m                            Traceback (most recent call last)",
      "\u001b[1;32mc:\\Users\\Usuário\\Desktop\\BiblioKeia\\names.ipynb Cell 8\u001b[0m in \u001b[0;36m<cell line: 8>\u001b[1;34m()\u001b[0m\n\u001b[0;32m      <a href='vscode-notebook-cell:/c%3A/Users/Usu%C3%A1rio/Desktop/BiblioKeia/names.ipynb#X15sZmlsZQ%3D%3D?line=0'>1</a>\u001b[0m qVariant \u001b[39m=\u001b[39m \u001b[39mf\u001b[39m\u001b[39m\"\"\"\u001b[39m\u001b[39mPREFIX identifiers: <http://id.loc.gov/vocabulary/identifiers/>\u001b[39m\n\u001b[0;32m      <a href='vscode-notebook-cell:/c%3A/Users/Usu%C3%A1rio/Desktop/BiblioKeia/names.ipynb#X15sZmlsZQ%3D%3D?line=1'>2</a>\u001b[0m \u001b[39m                PREFIX rdf: <http://www.w3.org/1999/02/22-rdf-syntax-ns#>\u001b[39m\n\u001b[0;32m      <a href='vscode-notebook-cell:/c%3A/Users/Usu%C3%A1rio/Desktop/BiblioKeia/names.ipynb#X15sZmlsZQ%3D%3D?line=2'>3</a>\u001b[0m \u001b[39m                PREFIX madsrdf: <http://www.loc.gov/mads/rdf/v1#>\u001b[39m\n\u001b[1;32m   (...)\u001b[0m\n\u001b[0;32m      <a href='vscode-notebook-cell:/c%3A/Users/Usu%C3%A1rio/Desktop/BiblioKeia/names.ipynb#X15sZmlsZQ%3D%3D?line=5'>6</a>\u001b[0m \u001b[39m              \u001b[39m\n\u001b[0;32m      <a href='vscode-notebook-cell:/c%3A/Users/Usu%C3%A1rio/Desktop/BiblioKeia/names.ipynb#X15sZmlsZQ%3D%3D?line=6'>7</a>\u001b[0m \u001b[39m                \u001b[39m\u001b[39m}}\u001b[39;00m\u001b[39m\"\"\"\u001b[39m\n\u001b[1;32m----> <a href='vscode-notebook-cell:/c%3A/Users/Usu%C3%A1rio/Desktop/BiblioKeia/names.ipynb#X15sZmlsZQ%3D%3D?line=7'>8</a>\u001b[0m r \u001b[39m=\u001b[39m graph\u001b[39m.\u001b[39;49mquery(qVariant)\n\u001b[0;32m      <a href='vscode-notebook-cell:/c%3A/Users/Usu%C3%A1rio/Desktop/BiblioKeia/names.ipynb#X15sZmlsZQ%3D%3D?line=8'>9</a>\u001b[0m r\u001b[39m.\u001b[39mbindings\n",
      "File \u001b[1;32mc:\\Users\\Usuário\\Desktop\\BiblioKeia\\venv\\lib\\site-packages\\rdflib\\graph.py:1389\u001b[0m, in \u001b[0;36mGraph.query\u001b[1;34m(self, query_object, processor, result, initNs, initBindings, use_store_provided, **kwargs)\u001b[0m\n\u001b[0;32m   1386\u001b[0m \u001b[39mif\u001b[39;00m \u001b[39mnot\u001b[39;00m \u001b[39misinstance\u001b[39m(processor, query\u001b[39m.\u001b[39mProcessor):\n\u001b[0;32m   1387\u001b[0m     processor \u001b[39m=\u001b[39m plugin\u001b[39m.\u001b[39mget(processor, query\u001b[39m.\u001b[39mProcessor)(\u001b[39mself\u001b[39m)\n\u001b[1;32m-> 1389\u001b[0m \u001b[39mreturn\u001b[39;00m result(processor\u001b[39m.\u001b[39mquery(query_object, initBindings, initNs, \u001b[39m*\u001b[39m\u001b[39m*\u001b[39mkwargs))\n",
      "File \u001b[1;32mc:\\Users\\Usuário\\Desktop\\BiblioKeia\\venv\\lib\\site-packages\\rdflib\\plugins\\sparql\\processor.py:77\u001b[0m, in \u001b[0;36mSPARQLProcessor.query\u001b[1;34m(self, strOrQuery, initBindings, initNs, base, DEBUG)\u001b[0m\n\u001b[0;32m     70\u001b[0m \u001b[39m\"\"\"\u001b[39;00m\n\u001b[0;32m     71\u001b[0m \u001b[39mEvaluate a query with the given initial bindings, and initial\u001b[39;00m\n\u001b[0;32m     72\u001b[0m \u001b[39mnamespaces. The given base is used to resolve relative URIs in\u001b[39;00m\n\u001b[0;32m     73\u001b[0m \u001b[39mthe query and will be overridden by any BASE given in the query.\u001b[39;00m\n\u001b[0;32m     74\u001b[0m \u001b[39m\"\"\"\u001b[39;00m\n\u001b[0;32m     76\u001b[0m \u001b[39mif\u001b[39;00m \u001b[39mnot\u001b[39;00m \u001b[39misinstance\u001b[39m(strOrQuery, Query):\n\u001b[1;32m---> 77\u001b[0m     parsetree \u001b[39m=\u001b[39m parseQuery(strOrQuery)\n\u001b[0;32m     78\u001b[0m     query \u001b[39m=\u001b[39m translateQuery(parsetree, base, initNs)\n\u001b[0;32m     79\u001b[0m \u001b[39melse\u001b[39;00m:\n",
      "File \u001b[1;32mc:\\Users\\Usuário\\Desktop\\BiblioKeia\\venv\\lib\\site-packages\\rdflib\\plugins\\sparql\\parser.py:1536\u001b[0m, in \u001b[0;36mparseQuery\u001b[1;34m(q)\u001b[0m\n\u001b[0;32m   1533\u001b[0m     q \u001b[39m=\u001b[39m q\u001b[39m.\u001b[39mdecode(\u001b[39m\"\u001b[39m\u001b[39mutf-8\u001b[39m\u001b[39m\"\u001b[39m)\n\u001b[0;32m   1535\u001b[0m q \u001b[39m=\u001b[39m expandUnicodeEscapes(q)\n\u001b[1;32m-> 1536\u001b[0m \u001b[39mreturn\u001b[39;00m Query\u001b[39m.\u001b[39;49mparseString(q, parseAll\u001b[39m=\u001b[39;49m\u001b[39mTrue\u001b[39;49;00m)\n",
      "File \u001b[1;32mc:\\Users\\Usuário\\Desktop\\BiblioKeia\\venv\\lib\\site-packages\\pyparsing\\core.py:1141\u001b[0m, in \u001b[0;36mParserElement.parse_string\u001b[1;34m(self, instring, parse_all, parseAll)\u001b[0m\n\u001b[0;32m   1138\u001b[0m         \u001b[39mraise\u001b[39;00m\n\u001b[0;32m   1139\u001b[0m     \u001b[39melse\u001b[39;00m:\n\u001b[0;32m   1140\u001b[0m         \u001b[39m# catch and re-raise exception from here, clearing out pyparsing internal stack trace\u001b[39;00m\n\u001b[1;32m-> 1141\u001b[0m         \u001b[39mraise\u001b[39;00m exc\u001b[39m.\u001b[39mwith_traceback(\u001b[39mNone\u001b[39;00m)\n\u001b[0;32m   1142\u001b[0m \u001b[39melse\u001b[39;00m:\n\u001b[0;32m   1143\u001b[0m     \u001b[39mreturn\u001b[39;00m tokens\n",
      "\u001b[1;31mParseException\u001b[0m: Expected {SelectQuery | ConstructQuery | DescribeQuery | AskQuery}, found 'N6c29fe98927b417'  (at char 253), (line:5, col:16)"
     ]
    }
   ],
   "source": [
    "qVariant = f\"\"\"PREFIX identifiers: <http://id.loc.gov/vocabulary/identifiers/>\n",
    "                PREFIX rdf: <http://www.w3.org/1999/02/22-rdf-syntax-ns#>\n",
    "                PREFIX madsrdf: <http://www.loc.gov/mads/rdf/v1#>\n",
    "                SELECT * WHERE  {{\n",
    "               N6c29fe98927b417cb552d5e0a15999df ?p ?variant .\n",
    "              \n",
    "                }}\"\"\"\n",
    "r = graph.query(qVariant)\n",
    "r.bindings"
   ]
  },
  {
   "cell_type": "code",
   "execution_count": 45,
   "metadata": {},
   "outputs": [
    {
     "data": {
      "text/plain": [
       "{'type': 'PersonalName',\n",
       " 'adminMetadata': {'assigner': 'http://id.loc.gov/vocabulary/organizations/dlc',\n",
       "  'identifiedBy': [{'type': 'Lccn',\n",
       "    'assigner': 'http://id.loc.gov/vocabulary/organizations/dlc',\n",
       "    'value': 'n80002329'}]},\n",
       " 'isMemberOfMADSCollection': 'http://bibliokeia.com/authorities/PersonalName/',\n",
       " 'elementList': [{'type': 'FullNameElement',\n",
       "   'elementValue': {'value': 'Machado de Assis,', 'lang': None}},\n",
       "  {'type': 'DateNameElement',\n",
       "   'elementValue': {'value': '1839-1908', 'lang': None}}],\n",
       " 'fullerName': {'type': 'PersonalName',\n",
       "  'elementValue': {'value': 'Joaquim Maria Machado', 'lang': None}},\n",
       " 'hasCloseExternalAuthority': [{'value': 'http://www.wikidata.org/entity/Q311145',\n",
       "   'base': 'www.wikidata.org',\n",
       "   'label': {'value': 'Joaquim Maria Machado de Assis', 'lang': None}},\n",
       "  {'value': 'http://id.worldcat.org/fast/48407',\n",
       "   'base': 'id.worldcat.org',\n",
       "   'label': {'value': 'Machado de Assis, 1839-1908', 'lang': None}}]}"
      ]
     },
     "execution_count": 45,
     "metadata": {},
     "output_type": "execute_result"
    }
   ],
   "source": [
    "def ParserAgents(graph, authority):\n",
    "    # Type\n",
    "    tipo = GetType(graph, authority)\n",
    "\n",
    "    # adminMetadata\n",
    "    adminMetadata = {\n",
    "      \"assigner\": \"http://id.loc.gov/vocabulary/organizations/dlc\",\n",
    "      \"identifiedBy\": [ {\n",
    "         \"type\": \"Lccn\",\n",
    "          \"assigner\": \"http://id.loc.gov/vocabulary/organizations/dlc\",\n",
    "          \"value\": authority.split('/')[-1]        \n",
    "      }]}\n",
    "    \n",
    "    obj = {\n",
    "     \"type\": tipo,\n",
    "      \"adminMetadata\": adminMetadata,\n",
    "      \"isMemberOfMADSCollection\": f'http://bibliokeia.com/authorities/{tipo}/'}\n",
    "    \n",
    "    # ElementList\n",
    "    obj = getElementList(graph, authority, obj)\n",
    "    \n",
    "    # fullerName\n",
    "    obj = getFullerName(graph, authority, obj)\n",
    "\n",
    "    # hasCloseExternalAuthority\n",
    "    obj = GetUri(authority, graph, \"hasCloseExternalAuthority\", obj)\n",
    "\n",
    "    # hasExactExternalAuthority\n",
    "    obj = GetUri(authority, graph, \"hasExactExternalAuthority\", obj)\n",
    "\n",
    "    return obj\n",
    "\n",
    "\n",
    "\n",
    "obj = ParserAgents(graph, authority)\n",
    "obj"
   ]
  },
  {
   "cell_type": "code",
   "execution_count": 46,
   "metadata": {},
   "outputs": [
    {
     "data": {
      "text/plain": [
       "{}"
      ]
     },
     "execution_count": 46,
     "metadata": {},
     "output_type": "execute_result"
    }
   ],
   "source": [
    "obj = GetUri(authority, graph, \"hasExactExternalAuthority\", {})\n",
    "obj"
   ]
  },
  {
   "cell_type": "code",
   "execution_count": 26,
   "metadata": {},
   "outputs": [
    {
     "data": {
      "text/plain": [
       "[Uri(value=rdflib.term.URIRef('http://www.wikidata.org/entity/Q311145'), label=Label(value='Joaquim Maria Machado de Assis', lang=None), base='www.wikidata.org'),\n",
       " Uri(value=rdflib.term.URIRef('http://id.worldcat.org/fast/48407'), label=Label(value='Machado de Assis, 1839-1908', lang=None), base='id.worldcat.org')]"
      ]
     },
     "execution_count": 26,
     "metadata": {},
     "output_type": "execute_result"
    }
   ],
   "source": [
    "request = Agents(**obj)\n",
    "request.hasCloseExternalAuthority"
   ]
  },
  {
   "cell_type": "code",
   "execution_count": 35,
   "metadata": {},
   "outputs": [
    {
     "data": {
      "text/plain": [
       "'http://www.wikidata.org/entity/Q311145'"
      ]
     },
     "execution_count": 35,
     "metadata": {},
     "output_type": "execute_result"
    }
   ],
   "source": [
    "x = request.hasCloseExternalAuthority[0]\n",
    "value = x.value\n",
    "value.toPython()"
   ]
  }
 ],
 "metadata": {
  "kernelspec": {
   "display_name": "Python 3.11.3 ('venv': venv)",
   "language": "python",
   "name": "python3"
  },
  "language_info": {
   "codemirror_mode": {
    "name": "ipython",
    "version": 3
   },
   "file_extension": ".py",
   "mimetype": "text/x-python",
   "name": "python",
   "nbconvert_exporter": "python",
   "pygments_lexer": "ipython3",
   "version": "3.11.3"
  },
  "orig_nbformat": 4,
  "vscode": {
   "interpreter": {
    "hash": "5df21a170a08fe7c24b5b1091267edae5bad3984f1116f28e957af7dd8f192dc"
   }
  }
 },
 "nbformat": 4,
 "nbformat_minor": 2
}
