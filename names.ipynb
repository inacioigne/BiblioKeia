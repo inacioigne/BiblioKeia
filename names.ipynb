{
 "cells": [
  {
   "cell_type": "code",
   "execution_count": 1,
   "metadata": {},
   "outputs": [],
   "source": [
    "from rdflib import Graph, Namespace, URIRef\n",
    "from typing import Optional\n",
    "from pydantic import BaseModel\n",
    "from api.src.function.loc.getType import GetType\n",
    "from pyfuseki import FusekiUpdate\n",
    "import httpx\n",
    "from pysolr import Solr"
   ]
  },
  {
   "cell_type": "code",
   "execution_count": 10,
   "metadata": {},
   "outputs": [
    {
     "data": {
      "text/plain": [
       "{'statusCode': 200, 'message': 'Update succeeded'}"
      ]
     },
     "execution_count": 10,
     "metadata": {},
     "output_type": "execute_result"
    }
   ],
   "source": [
    "au_update = FusekiUpdate('http://localhost:3030', 'authorities')\n",
    "\n",
    "r = au_update.run_sparql('DROP DEFAULT')\n",
    "r.convert()"
   ]
  },
  {
   "cell_type": "code",
   "execution_count": 29,
   "metadata": {},
   "outputs": [
    {
     "data": {
      "text/plain": [
       "{'statusCode': 200, 'message': 'Update succeeded'}"
      ]
     },
     "execution_count": 29,
     "metadata": {},
     "output_type": "execute_result"
    }
   ],
   "source": [
    "upAcervo = FusekiUpdate('http://localhost:3030', 'authorities')\n",
    "\n",
    "d = \"\"\"DELETE { graph ?g { ?s ?p ?o } } \n",
    "        WHERE {\n",
    "        graph ?g {?s ?p ?o.}\n",
    "        }\"\"\"\n",
    "\n",
    "response = upAcervo.run_sparql(d)\n",
    "response.convert()"
   ]
  },
  {
   "cell_type": "code",
   "execution_count": 30,
   "metadata": {},
   "outputs": [
    {
     "data": {
      "text/plain": [
       "'<?xml version=\"1.0\" encoding=\"UTF-8\"?>\\n<response>\\n\\n<lst name=\"responseHeader\">\\n  <int name=\"status\">0</int>\\n  <int name=\"QTime\">118</int>\\n</lst>\\n</response>\\n'"
      ]
     },
     "execution_count": 30,
     "metadata": {},
     "output_type": "execute_result"
    }
   ],
   "source": [
    "solrAcervo = Solr('http://localhost:8983/solr/authorities/', timeout=10)\n",
    "solrAcervo.delete(q=\"*:*\",  commit=True)"
   ]
  },
  {
   "cell_type": "code",
   "execution_count": 45,
   "metadata": {},
   "outputs": [],
   "source": [
    "from api.src.schemas.authorities.authority import Variant, AdminMetadata, Element\n",
    "class Uri(BaseModel):\n",
    "    value: str\n",
    "    label: str\n",
    "    base: Optional[str]\n",
    "\n",
    "class Affiliation(BaseModel):\n",
    "    organization: Uri\n",
    "    affiliationStart: Optional[str]\n",
    "    affiliationEnd: Optional[str]\n",
    "    \n",
    "class Agents(BaseModel):\n",
    "    type: str \n",
    "    adminMetadata: AdminMetadata \n",
    "    elementList: list[Element]\n",
    "    fullerName: Optional[Element]\n",
    "    birthDate: Optional[str]\n",
    "    birthPlace: Optional[str]\n",
    "    deathDate: Optional[str]\n",
    "    hasAffiliation: Optional[list[Affiliation]]\n",
    "    occupation: Optional[list[Uri]]\n",
    "    fieldOfActivity: Optional[list[Uri]]\n",
    "    hasCloseExternalAuthority: Optional[list[Uri]]\n",
    "    hasExactExternalAuthority: Optional[list[Uri]]\n",
    "    hasVariant: Optional[list[Variant]]\n",
    "    subjectOf: Optional[list[Uri]]\n",
    "    contributorOf: Optional[list[Uri]]\n",
    "    isMemberOfMADSCollection: str\n",
    "    "
   ]
  },
  {
   "cell_type": "code",
   "execution_count": 31,
   "metadata": {},
   "outputs": [
    {
     "data": {
      "text/plain": [
       "<Graph identifier=N51b1ed98b4f7494abdf4a921a7d6139b (<class 'rdflib.graph.Graph'>)>"
      ]
     },
     "execution_count": 31,
     "metadata": {},
     "output_type": "execute_result"
    }
   ],
   "source": [
    "authority = 'http://id.loc.gov/authorities/names/n88090795'\n",
    "graph = Graph()\n",
    "graph.parse(f'{authority}.rdf')\n",
    "graph.serialize('damasio.ttl')"
   ]
  },
  {
   "cell_type": "code",
   "execution_count": 43,
   "metadata": {},
   "outputs": [
    {
     "data": {
      "text/plain": [
       "200"
      ]
     },
     "execution_count": 43,
     "metadata": {},
     "output_type": "execute_result"
    }
   ],
   "source": [
    "# authority = 'http://id.loc.gov/authorities/names/n80002329'\n",
    "url = f'http://localhost:8000/authorities/import/loc/agents?authority={authority}'\n",
    "r = httpx.get(url)\n",
    "r.status_code"
   ]
  },
  {
   "cell_type": "code",
   "execution_count": 46,
   "metadata": {},
   "outputs": [
    {
     "data": {
      "text/plain": [
       "Agents(type='PersonalName', adminMetadata=AdminMetadata(assigner='http://id.loc.gov/vocabulary/organizations/dlc', descriptionModifier='http://id.loc.gov/vocabulary/organizations/brmninpa', creationDate=datetime.date(2023, 5, 29), descriptionLanguage='http://id.loc.gov/vocabulary/languages/por', generationProcess='BiblioKeia v.1', generationDate=datetime.datetime(2023, 5, 29, 13, 36, 19), identifiedBy=[IdentifiedBy(type='Lccn', assigner='http://id.loc.gov/vocabulary/organizations/dlc', value='n88090795')], status=Status(value='mstatus:new', label='novo')), elementList=[Element(type='FullNameElement', elementValue=Label(value='Damasio, Antonio R.', lang=None))], fullerName=Element(type='PersonalName', elementValue=Label(value='Antonio Rosa', lang=None)), birthDate='1944-02-25', birthPlace='Lisbon (Portugal)', deathDate=None, hasAffiliation=[Affiliation(organization=Uri(value='http://id.loc.gov/authorities/names/n85299803', label='University of Iowa. Department of Neurology', base='id.loc.gov'), affiliationStart=None, affiliationEnd=None)], occupation=[Uri(value='http://id.loc.gov/authorities/subjects/sh2006000762', label='Neurobiologists', base='id.loc.gov'), Uri(value='http://id.loc.gov/authorities/subjects/sh85028378', label='College teachers', base='id.loc.gov')], fieldOfActivity=[Uri(value='http://id.loc.gov/authorities/subjects/sh85091114', label='Neurobiology', base='id.loc.gov'), Uri(value='http://id.loc.gov/authorities/subjects/sh89002432', label='Emotions and cognition', base='id.loc.gov')], hasCloseExternalAuthority=[Uri(value='http://id.worldcat.org/fast/1487281', label='Damasio, Antonio R.', base='id.worldcat.org'), Uri(value='http://www.wikidata.org/entity/Q380207', label='António Damásio', base='www.wikidata.org')], hasExactExternalAuthority=None, hasVariant=[Variant(type='PersonalName', elementList=[Element(type='FullNameElement', elementValue=Label(value='Damasio, A. R.', lang=None)), Element(type='FullNameElement', elementValue=Label(value='(Antonio R.)', lang=None))]), Variant(type='PersonalName', elementList=[Element(type='FullNameElement', elementValue=Label(value='דמאסיו, אנטוניו', lang=None))])], subjectOf=None, contributorOf=None, isMemberOfMADSCollection='http://bibliokeia.com/authorities/PersonalName/')"
      ]
     },
     "execution_count": 46,
     "metadata": {},
     "output_type": "execute_result"
    }
   ],
   "source": [
    "request = Agents(**r.json())\n",
    "request"
   ]
  },
  {
   "cell_type": "code",
   "execution_count": 47,
   "metadata": {},
   "outputs": [
    {
     "data": {
      "text/plain": [
       "[Affiliation(organization=Uri(value='http://id.loc.gov/authorities/names/n85299803', label='University of Iowa. Department of Neurology', base='id.loc.gov'), affiliationStart=None, affiliationEnd=None)]"
      ]
     },
     "execution_count": 47,
     "metadata": {},
     "output_type": "execute_result"
    }
   ],
   "source": [
    "request.hasAffiliation"
   ]
  },
  {
   "cell_type": "code",
   "execution_count": 35,
   "metadata": {},
   "outputs": [
    {
     "data": {
      "text/plain": [
       "Agents(type='PersonalName', adminMetadata=AdminMetadata(assigner='http://id.loc.gov/vocabulary/organizations/dlc', descriptionModifier='http://id.loc.gov/vocabulary/organizations/brmninpa', creationDate=datetime.date(2023, 5, 29), descriptionLanguage='http://id.loc.gov/vocabulary/languages/por', generationProcess='BiblioKeia v.1', generationDate='2023-05-29T12:17:14', identifiedBy=[IdentifiedBy(type='Lccn', assigner='http://id.loc.gov/vocabulary/organizations/dlc', value='n88090795')], status=Status(value='mstatus:new', label='novo')), elementList=[Element(type='FullNameElement', elementValue=Label(value='Damasio, Antonio R.', lang=None))], fullerName=Element(type='PersonalName', elementValue=Label(value='Antonio Rosa', lang=None)), birthDate='1944-02-25', birthPlace='Lisbon (Portugal)', deathDate=None, hasAffiliation=None, occupation=[Uri(value='http://id.loc.gov/authorities/subjects/sh2006000762', label='Neurobiologists', base='id.loc.gov'), Uri(value='http://id.loc.gov/authorities/subjects/sh85028378', label='College teachers', base='id.loc.gov')], hasCloseExternalAuthority=[Uri(value='http://id.worldcat.org/fast/1487281', label='Damasio, Antonio R.', base='id.worldcat.org'), Uri(value='http://www.wikidata.org/entity/Q380207', label='António Damásio', base='www.wikidata.org')], hasExactExternalAuthority=None, hasVariant=[Variant(type='PersonalName', elementList=[Element(type='FullNameElement', elementValue=Label(value='Damasio, A. R.', lang=None)), Element(type='FullNameElement', elementValue=Label(value='(Antonio R.)', lang=None))]), Variant(type='PersonalName', elementList=[Element(type='FullNameElement', elementValue=Label(value='דמאסיו, אנטוניו', lang=None))])], fieldOfActivity=None, subjectOf=None, contributorOf=None, isMemberOfMADSCollection='http://bibliokeia.com/authorities/PersonalName/')"
      ]
     },
     "execution_count": 35,
     "metadata": {},
     "output_type": "execute_result"
    }
   ],
   "source": [
    "from api.src.function.loc.agents.ElementList import GetElementList\n",
    "from api.src.function.loc.agents.FullerName import GetFullerName\n",
    "from api.src.function.loc.Uri import GetUri\n",
    "from api.src.function.loc.agents.Variant import GetVariant\n",
    "from api.src.function.loc.agents.Date import GetDate\n",
    "from api.src.function.loc.agents.BirthPlace import GetBirthPlace\n",
    "from api.src.function.loc.agents.Affiliation import GetAffiliation\n",
    "from api.src.function.loc.agents.Occuption import GetOccuption\n",
    "\n",
    "def ParserAgents(graph, authority):\n",
    "    # Type\n",
    "    tipo = GetType(graph, authority)\n",
    "    \n",
    "\n",
    "    # adminMetadata\n",
    "    adminMetadata = {\n",
    "      \"assigner\": \"http://id.loc.gov/vocabulary/organizations/dlc\",\n",
    "      \"identifiedBy\": [ {\n",
    "         \"type\": \"Lccn\",\n",
    "          \"assigner\": \"http://id.loc.gov/vocabulary/organizations/dlc\",\n",
    "          \"value\": authority.split('/')[-1]        \n",
    "      }]}\n",
    "    \n",
    "    obj = {\n",
    "     \"type\": tipo,\n",
    "      \"adminMetadata\": adminMetadata,\n",
    "      \"isMemberOfMADSCollection\": f'http://bibliokeia.com/authorities/{tipo}/'}\n",
    "    \n",
    "    # ElementList\n",
    "    obj = GetElementList(graph, authority, obj)\n",
    "    \n",
    "    \n",
    "    # fullerName\n",
    "    obj = GetFullerName(graph, authority, obj)\n",
    "    \n",
    "\n",
    "    # hasCloseExternalAuthority\n",
    "    obj = GetUri(authority, graph, \"hasCloseExternalAuthority\", obj)\n",
    "\n",
    "    # hasExactExternalAuthority\n",
    "    obj = GetUri(authority, graph, \"hasExactExternalAuthority\", obj)\n",
    "\n",
    "    # Variant\n",
    "    obj = GetVariant(authority, graph, obj)\n",
    "\n",
    "    # RWO\n",
    "    token = authority.split(\"/\")[-1]\n",
    "    rwo = f'http://id.loc.gov/rwo/agents/{token}'\n",
    "    # BirthDate\n",
    "    obj = GetDate(rwo, 'birthDate', graph, obj)\n",
    "    # deathDate\n",
    "    obj = GetDate(rwo, 'deathDate', graph, obj)\n",
    "    # BirthPlace\n",
    "    obj = GetBirthPlace(rwo, graph, obj)\n",
    "    # Affiliation\n",
    "    obj = GetAffiliation(rwo, graph, obj)\n",
    "    # Occuptions\n",
    "    obj = GetOccuption(rwo, graph, obj)\n",
    "\n",
    "    response = Agents(**obj)\n",
    "    \n",
    "    return response\n",
    "\n",
    "response = ParserAgents(graph, authority)\n",
    "response"
   ]
  },
  {
   "cell_type": "code",
   "execution_count": 36,
   "metadata": {},
   "outputs": [
    {
     "data": {
      "text/plain": [
       "{}"
      ]
     },
     "execution_count": 36,
     "metadata": {},
     "output_type": "execute_result"
    }
   ],
   "source": [
    "token = authority.split(\"/\")[-1]\n",
    "rwo = f'http://id.loc.gov/rwo/agents/{token}'\n",
    "\n",
    "obj = GetAffiliation(rwo, graph, {})\n",
    "obj"
   ]
  },
  {
   "cell_type": "code",
   "execution_count": 41,
   "metadata": {},
   "outputs": [
    {
     "data": {
      "text/plain": [
       "{'hasAffiliation': [{'organization': {'value': 'http://id.loc.gov/authorities/names/n85299803',\n",
       "    'label': 'University of Iowa. Department of Neurology',\n",
       "    'base': 'id.loc.gov'}}]}"
      ]
     },
     "execution_count": 41,
     "metadata": {},
     "output_type": "execute_result"
    }
   ],
   "source": [
    "def GetAffiliation(rwo, graph, obj):\n",
    "\n",
    "    q = f\"\"\"PREFIX madsrdf: <http://www.loc.gov/mads/rdf/v1#>\n",
    "    SELECT ?organization ?labelOrg ?start ?end\n",
    "    WHERE  {{      \t\n",
    "    <{rwo}> madsrdf:hasAffiliation ?hasAffiliation .\n",
    "  ?hasAffiliation madsrdf:organization ?organization .\n",
    "  ?organization madsrdf:authoritativeLabel ?labelOrg .\n",
    "  OPTIONAL {{ \n",
    "  ?hasAffiliation madsrdf:affiliationStart ?start .\n",
    "    ?hasAffiliation madsrdf:affiliationEnd ?end  }} }}\"\"\"\n",
    "    result = graph.query(q) \n",
    "    \n",
    "    if len(result.bindings) > 0:\n",
    "        affiliations = list()\n",
    "        for i in result.bindings:\n",
    "          # organization\n",
    "          orgUri = i.get('organization').toPython()\n",
    "          orgBase = orgUri.split('//')[1].split(\"/\")[0]\n",
    "          organization = {'value': orgUri, 'label': i.get('labelOrg').toPython(), 'base': orgBase}\n",
    "          affiliation = {'organization': organization }\n",
    "          if i.get('start'):\n",
    "            affiliation['affiliationStart'] = i.get('start').toPython()\n",
    "          if i.get('end'):\n",
    "            affiliation['affiliationEnd'] = i.get('end').toPython()  \n",
    "\n",
    "          affiliations.append(affiliation)\n",
    "        obj['hasAffiliation'] = affiliations\n",
    "\n",
    "    return obj\n",
    "\n",
    "obj = GetAffiliation(rwo, graph, {})\n",
    "obj"
   ]
  },
  {
   "cell_type": "code",
   "execution_count": 53,
   "metadata": {},
   "outputs": [
    {
     "name": "stdout",
     "output_type": "stream",
     "text": [
      "PREFIX rdf: <http://www.w3.org/1999/02/22-rdf-syntax-ns#> \n",
      "    PREFIX madsrdf: <http://www.loc.gov/mads/rdf/v1#> \n",
      "    PREFIX owl: <http://www.w3.org/2002/07/owl#> \n",
      "    PREFIX ri: <http://id.loc.gov/ontologies/RecordInfo#> \n",
      "    PREFIX xsd: <http://www.w3.org/2001/XMLSchema#>\n",
      "    PREFIX rdfs: <http://www.w3.org/2000/01/rdf-schema#>\n",
      "    PREFIX identifiers: <http://id.loc.gov/vocabulary/identifiers/>\n",
      "    PREFIX bf: <http://id.loc.gov/ontologies/bibframe/> \n",
      "    PREFIX bflc: <http://id.loc.gov/ontologies/bflc/> \n",
      "    PREFIX bkw: <https://bibliokeia.com/resources/work/> \n",
      "    PREFIX menclvl: <http://id.loc.gov/vocabulary/menclvl/>\n",
      "    PREFIX mstatus: <http://id.loc.gov/vocabulary/mstatus/>\n",
      "    PREFIX contentTypes: <http://id.loc.gov/vocabulary/contentTypes/>\n",
      "    PREFIX relators: <http://id.loc.gov/vocabulary/relators/>\n",
      "    PREFIX genreForms: <http://id.loc.gov/authorities/genreForms/>\n",
      "    PREFIX msupplcont: <http://id.loc.gov/vocabulary/msupplcont/>\n",
      "    PREFIX millus: <http://id.loc.gov/vocabulary/millus/>    \n",
      "    INSERT DATA {\n",
      "        GRAPH <https://bibliokeia.com/authorities/PersonalName/TESTE>\n",
      "        {\n",
      "        <https://bibliokeia.com/authorities/PersonalName/TESTE> a madsrdf:Authority, \n",
      "            madsrdf:PersonalName ;\n",
      "            madsrdf:adminMetadata [ a bf:AdminMetadata ;\n",
      "            bf:assigner <http://id.loc.gov/vocabulary/organizations/dlc> ;\n",
      "            bf:creationDate \"2023-05-26\"^^xsd:date ;\n",
      "            bf:descriptionLanguage <http://id.loc.gov/vocabulary/languages/eng> ;\n",
      "            bf:descriptionModifier <http://id.loc.gov/vocabulary/organizations/dlc> ; \n",
      "            bf:generationProcess [ a bf:GenerationProcess ;\n",
      "                    rdfs:label \"BiblioKeia v.1\" ;\n",
      "                    bf:generationDate \"2023-05-26T13:41:49\"^^xsd:dateTime ] ;\n",
      "            bf:identifiedBy [ a bf:Lccn ;\n",
      "        bf:assigner <http://id.loc.gov/vocabulary/organizations/dlc> ;\n",
      "        rdf:value \"n85130797\" ], [ a bf:Local ;\n",
      "        bf:assigner <http://id.loc.gov/vocabulary/organizations/brmninpa> ;\n",
      "        rdf:value \"TESTE\" ] ; \n",
      "            bf:status mstatus:new ] ; \n",
      "            madsrdf:authoritativeLabel \"Saramago, José\" ;\n",
      "            madsrdf:elementList ( [ a madsrdf:FullNameElement ;\n",
      "                madsrdf:elementValue \"Saramago, José\" ] ) ; \n",
      "            madsrdf:fullerName [ a madsrdf:PersonalName ; \n",
      "                rdfs:label \"José de Sousa\" ] ;\n",
      "            madsrdf:birthDate \"1922-11-16\" ;\n",
      "            madsrdf:birthPlace [ a madsrdf:Geographic ;\n",
      "                rdfs:label \"Ribatejo (Portugal)\" ] ;\n",
      "            madsrdf:deathDate \"2010-06-18\" ;\n",
      "            madsrdf:occupation <http://id.worldcat.org/fast/166806>, <http://www.wikidata.org/entity/Q37060> ;\n",
      "            madsrdf:hasCloseExternalAuthority <http://id.worldcat.org/fast/166806>, <http://www.wikidata.org/entity/Q37060> ;\n",
      "            \n",
      "            madsrdf:hasVariant [ a madsrdf:PersonalName,\n",
      "                madsrdf:Variant ;\n",
      "            madsrdf:elementList ( [ a madsrdf:FullNameElement ;\n",
      "                madsrdf:elementValue \"Salamage, Ruoze\" ] ) ;\n",
      "            madsrdf:variantLabel \"Salamage, Ruoze\" ], [ a madsrdf:PersonalName,\n",
      "                madsrdf:Variant ;\n",
      "            madsrdf:elementList ( [ a madsrdf:FullNameElement ;\n",
      "                madsrdf:elementValue \"Saramago, Zhoze\" ] ) ;\n",
      "            madsrdf:variantLabel \"Saramago, Zhoze\" ], [ a madsrdf:PersonalName,\n",
      "                madsrdf:Variant ;\n",
      "            madsrdf:elementList ( [ a madsrdf:FullNameElement ;\n",
      "                madsrdf:elementValue \"Сарамаго, Жозе\" ] ) ;\n",
      "            madsrdf:variantLabel \"Сарамаго, Жозе\" ], [ a madsrdf:PersonalName,\n",
      "                madsrdf:Variant ;\n",
      "            madsrdf:elementList ( [ a madsrdf:FullNameElement ;\n",
      "                madsrdf:elementValue \"סאראמאגו, ז׳וזה\" ] ) ;\n",
      "            madsrdf:variantLabel \"סאראמאגו, ז׳וזה\" ], [ a madsrdf:PersonalName,\n",
      "                madsrdf:Variant ;\n",
      "            madsrdf:elementList ( [ a madsrdf:FullNameElement ;\n",
      "                madsrdf:elementValue \"סאראמאגו, ז׳וזה. טבעון, מרים\" ] ) ;\n",
      "            madsrdf:variantLabel \"סאראמאגו, ז׳וזה. טבעון, מרים\" ], [ a madsrdf:PersonalName,\n",
      "                madsrdf:Variant ;\n",
      "            madsrdf:elementList ( [ a madsrdf:FullNameElement ;\n",
      "                madsrdf:elementValue \"Sousa Saramago, José de\" ] ) ;\n",
      "            madsrdf:variantLabel \"Sousa Saramago, José de\" ], [ a madsrdf:PersonalName,\n",
      "                madsrdf:Variant ;\n",
      "            madsrdf:elementList ( [ a madsrdf:FullNameElement ;\n",
      "                madsrdf:elementValue \"De Sousa Saramago, José\" ] ) ;\n",
      "            madsrdf:variantLabel \"De Sousa Saramago, José\" ], [ a madsrdf:PersonalName,\n",
      "                madsrdf:Variant ;\n",
      "            madsrdf:elementList ( [ a madsrdf:FullNameElement ;\n",
      "                madsrdf:elementValue \"ジョゼ・サラマーゴ\" ] ) ;\n",
      "            madsrdf:variantLabel \"ジョゼ・サラマーゴ\" ] ;\n",
      "            madsrdf:isMemberOfMADSCollection <http://bibliokeia.com/authorities/PersonalName/> .          \n",
      "            } \n",
      "        }\n"
     ]
    }
   ],
   "source": [
    "prefix = \"\"\"PREFIX rdf: <http://www.w3.org/1999/02/22-rdf-syntax-ns#> \n",
    "    PREFIX madsrdf: <http://www.loc.gov/mads/rdf/v1#> \n",
    "    PREFIX owl: <http://www.w3.org/2002/07/owl#> \n",
    "    PREFIX ri: <http://id.loc.gov/ontologies/RecordInfo#> \n",
    "    PREFIX xsd: <http://www.w3.org/2001/XMLSchema#>\n",
    "    PREFIX rdfs: <http://www.w3.org/2000/01/rdf-schema#>\n",
    "    PREFIX identifiers: <http://id.loc.gov/vocabulary/identifiers/>\n",
    "    PREFIX bf: <http://id.loc.gov/ontologies/bibframe/> \n",
    "    PREFIX bflc: <http://id.loc.gov/ontologies/bflc/> \n",
    "    PREFIX bkw: <https://bibliokeia.com/resources/work/> \n",
    "    PREFIX menclvl: <http://id.loc.gov/vocabulary/menclvl/>\n",
    "    PREFIX mstatus: <http://id.loc.gov/vocabulary/mstatus/>\n",
    "    PREFIX contentTypes: <http://id.loc.gov/vocabulary/contentTypes/>\n",
    "    PREFIX relators: <http://id.loc.gov/vocabulary/relators/>\n",
    "    PREFIX genreForms: <http://id.loc.gov/authorities/genreForms/>\n",
    "    PREFIX msupplcont: <http://id.loc.gov/vocabulary/msupplcont/>\n",
    "    PREFIX millus: <http://id.loc.gov/vocabulary/millus/>\"\"\"\n",
    "\n",
    "def MakeGraphAgents(request, id):\n",
    "    graph = f\"\"\"{prefix}    \n",
    "    INSERT DATA {{\n",
    "        GRAPH <https://bibliokeia.com/authorities/{request.type}/{id}>\n",
    "        {{\n",
    "        <https://bibliokeia.com/authorities/{request.type}/{id}> a madsrdf:Authority, \n",
    "            madsrdf:{request.type} ;\n",
    "            madsrdf:adminMetadata [ a bf:AdminMetadata ;\n",
    "            bf:assigner <{request.adminMetadata.assigner}> ;\n",
    "            bf:creationDate \"{request.adminMetadata.creationDate}\"^^xsd:date ;\n",
    "            bf:descriptionLanguage <http://id.loc.gov/vocabulary/languages/eng> ;\n",
    "            bf:descriptionModifier <{request.adminMetadata.assigner}> ; \n",
    "            bf:generationProcess [ a bf:GenerationProcess ;\n",
    "                    rdfs:label \"{request.adminMetadata.generationProcess}\" ;\n",
    "                    bf:generationDate \"{request.adminMetadata.generationDate}\"^^xsd:dateTime ] ;\n",
    "            bf:identifiedBy {MakeIdentifier(request.adminMetadata.identifiedBy, id)} ; \n",
    "            bf:status {request.adminMetadata.status.value} ] ; \n",
    "            madsrdf:authoritativeLabel \"{MakeLabel(request.elementList)}\" ;\n",
    "            madsrdf:elementList ( {MakeElement(request.elementList)} ) ; \n",
    "            { FullerName(request) if request.fullerName else ''  }\n",
    "            { f'madsrdf:birthDate \"{request.birthDate}\" ;' if request.birthDate else ''  }\n",
    "            { BirthPlace(request) if request.birthPlace else ''  }\n",
    "            { f'madsrdf:deathDate \"{request.deathDate}\" ;' if request.deathDate else ''  }\n",
    "            { f'madsrdf:occupation {\", \".join([ f\"<{i.value}>\" for i in request.hasCloseExternalAuthority])} ;' if request.hasCloseExternalAuthority else ''}\n",
    "            { f'madsrdf:hasCloseExternalAuthority {\", \".join([ f\"<{i.value}>\" for i in request.hasCloseExternalAuthority])} ;' if request.hasCloseExternalAuthority else ''}\n",
    "            { f'madsrdf:hasExactExternalAuthority {\", \".join([ f\"<{i.value}>\" for i in request.hasExactExternalAuthority])} ;' if request.hasExactExternalAuthority else ''}\n",
    "            { f'madsrdf:hasVariant { MakeVariant(request.hasVariant) } ;' if request.hasVariant else ''  }\n",
    "            madsrdf:isMemberOfMADSCollection <{request.isMemberOfMADSCollection}> .          \n",
    "            }} \n",
    "        }}\"\"\"\n",
    "    return graph\n",
    "\n",
    "response = MakeGraphAgents(request, id)\n",
    "print(response)"
   ]
  },
  {
   "attachments": {},
   "cell_type": "markdown",
   "metadata": {},
   "source": [
    "SOLR"
   ]
  },
  {
   "cell_type": "code",
   "execution_count": null,
   "metadata": {},
   "outputs": [],
   "source": [
    "birthDate: Optional[str]\n",
    "    birthPlace: Optional[str]\n",
    "    deathDate: Optional[str]\n",
    "    hasAffiliation: Optional[list[Affiliation]]\n",
    "    occupation: Optional[list[Uri]]\n",
    "    hasCloseExternalAuthority: Optional[list[Uri]]\n",
    "    hasExactExternalAuthority: Optional[list[Uri]]\n",
    "    hasVariant: Optional[list[Variant]]\n",
    "    subjectOf: Optional[list[Uri]]\n",
    "    contributorOf: Optional[list[Uri]]\n",
    "    isMemberOfMADSCollection: str"
   ]
  },
  {
   "cell_type": "code",
   "execution_count": 51,
   "metadata": {},
   "outputs": [],
   "source": [
    "solr = Solr('http://localhost:8983/solr/authorities/', timeout=10)\n",
    "uri = 'https://bibliokeia.com/authorities/PersonalName/bkau-1'\n",
    "uriID = uri.split(\"/\")[-1]\n",
    "r = solr.search(q=f'id:{uriID}', **{'fl': '*,[child]'})\n",
    "[doc] = r.docs\n",
    "ids = [uriID]"
   ]
  },
  {
   "cell_type": "code",
   "execution_count": 133,
   "metadata": {},
   "outputs": [],
   "source": [
    "def MakeDocAgents(request, id):\n",
    "\n",
    "    doc = {\n",
    "            'id': id,\n",
    "            'type': request.type,\n",
    "            \"creationDate\": request.adminMetadata.creationDate.strftime('%Y-%m-%d'), \n",
    "            \"label\": f'{MakeLabel(request.elementList)}' ,\n",
    "            \"isMemberOfMADSCollection\": request.isMemberOfMADSCollection\n",
    "        }\n",
    "    \n",
    "    if request.fullerName:\n",
    "        doc['fullerName'] = request.fullerName.elementValue.value\n",
    "    if request.birthDate:\n",
    "        doc['birthDate'] = request.birthDate\n",
    "    if request.birthPlace:\n",
    "        doc['birthPlace'] = request.birthPlace\n",
    "    if request.deathDate:\n",
    "        doc['deathDate'] = request.deathDate\n",
    "    \n",
    "    # hasAffiliation\n",
    "    \n",
    "    if request.hasAffiliation:\n",
    "        affiliations = list()\n",
    "        for i in request.hasAffiliation:\n",
    "            a = {\n",
    "                'id': f\"{id}/hasAffiliation#{i.organization.value.split('/')[-1]}\",\n",
    "                'organization': i.organization.label,\n",
    "                'affiliationStart': i.affiliationStart,\n",
    "            }\n",
    "            if i.affiliationEnd:\n",
    "                a['affiliationEnd'] = i.affiliationEnd\n",
    "            affiliations.append(a)\n",
    "        doc['hasAffiliation'] = affiliations\n",
    "    \n",
    "    if request.hasVariant:\n",
    "        variants = list()\n",
    "        for i in request.hasVariant:\n",
    "            label = [j.elementValue.value for j in i.elementList]\n",
    "            label = \" \".join(label)\n",
    "            variants.append(label)\n",
    "        doc['variant'] = variants\n",
    "\n",
    "    # hasCloseExternalAuthority\n",
    "    uris = list()\n",
    "    for i in request.hasCloseExternalAuthority:\n",
    "        uri = {\n",
    "                'id': f\"{id}/hasCloseExternalAuthority#{i.value.split('/')[-1]}\",\n",
    "                'uri': i.value, \n",
    "                'label': i.label, \n",
    "                'base': i.base }\n",
    "        if i.base == 'www.wikidata.org':\n",
    "            imagem = GetImagem(i.value)\n",
    "            if imagem:\n",
    "                doc['imagem'] = imagem\n",
    "\n",
    "    uris.append(uri)\n",
    "    doc['hasCloseExternalAuthority'] = uris\n",
    "\n",
    "    return doc\n",
    "\n",
    "doc = MakeDocAgents(request, id)"
   ]
  },
  {
   "cell_type": "code",
   "execution_count": 73,
   "metadata": {},
   "outputs": [],
   "source": [
    "class Data(BaseModel):\n",
    "    metadata: str\n",
    "    value: str\n",
    "\n",
    "class EditAuthority(BaseModel):\n",
    "    action: str\n",
    "    data: Data\n",
    "\n",
    "obj = {\n",
    "  \"action\": \"remove\",\n",
    "  \"data\": {\n",
    "    \"metadata\": \"birthPlace\",\n",
    "    \"value\": \"Rouen (France)\"\n",
    "  }\n",
    "}\n",
    "\n",
    "au_update = FusekiUpdate('http://localhost:3030', 'authorities')\n",
    "authority = 'https://bibliokeia.com/authorities/PersonalName/bkau-1'\n",
    "request = EditAuthority(**obj)\n",
    "\n",
    "\n",
    "def DeleteDataJena(authority, request):\n",
    "\n",
    "    delete = f\"\"\"PREFIX madsrdf: <http://www.loc.gov/mads/rdf/v1#>\n",
    "                 DELETE DATA\n",
    "                {{ GRAPH <{authority}> \n",
    "                {{ <{authority}>  madsrdf:{request.data.metadata}  \"{request.data.value}\" }} }} ;\"\"\"\n",
    "    response = au_update.run_sparql(delete)\n",
    "    return response.convert()\n",
    "\n",
    "# response = DeleteDataJena(authority, request)\n"
   ]
  },
  {
   "cell_type": "code",
   "execution_count": 74,
   "metadata": {},
   "outputs": [
    {
     "data": {
      "text/plain": [
       "{'statusCode': 200, 'message': 'Update succeeded'}"
      ]
     },
     "execution_count": 74,
     "metadata": {},
     "output_type": "execute_result"
    }
   ],
   "source": [
    "delete = f\"\"\"PREFIX madsrdf: <http://www.loc.gov/mads/rdf/v1#>\n",
    "            PREFIX rdf: <http://www.w3.org/1999/02/22-rdf-syntax-ns#>\n",
    "            WITH <{authority}> \n",
    "            DELETE {{ <{authority}>  madsrdf:{request.data.metadata}  ?birthPlace .\n",
    "                ?birthPlace ?p ?o }}\n",
    "            WHERE {{ <{authority}>  madsrdf:{request.data.metadata}  ?birthPlace .\n",
    "                ?birthPlace ?p ?o }}\"\"\"\n",
    "\n",
    "\n",
    "\n",
    "response = au_update.run_sparql(delete)\n",
    "response.convert()\n"
   ]
  },
  {
   "cell_type": "code",
   "execution_count": 69,
   "metadata": {},
   "outputs": [
    {
     "data": {
      "text/plain": [
       "'{\\n  \"responseHeader\":{\\n    \"status\":0,\\n    \"QTime\":242}}\\n'"
      ]
     },
     "execution_count": 69,
     "metadata": {},
     "output_type": "execute_result"
    }
   ],
   "source": [
    "doc = {'id': 'bkau-1',\n",
    "       f'{request.data.metadata}': {'remove':request.data.value }\n",
    "       }\n",
    "\n",
    "solrAu = Solr('http://localhost:8983/solr/authorities/', timeout=10)\n",
    "response = solrAu.add([doc], commit=True)\n",
    "response"
   ]
  },
  {
   "cell_type": "code",
   "execution_count": null,
   "metadata": {},
   "outputs": [],
   "source": [
    "obj = {\n",
    "  \"action\": \"add\",\n",
    "  \"data\": {\n",
    "    \"metadata\": \"birthDate\",\n",
    "    \"value\": \"Rouen (France)\"\n",
    "  }\n",
    "}\n",
    "\n",
    "PREFIX dc: <http://purl.org/dc/elements/1.1/>\n",
    "PREFIX ns: <http://example.org/ns#>\n",
    "INSERT DATA\n",
    "{ GRAPH <http://example/bookStore> { <http://example/book1>  ns:price  42 } }"
   ]
  }
 ],
 "metadata": {
  "kernelspec": {
   "display_name": "Python 3.11.3 ('venv': venv)",
   "language": "python",
   "name": "python3"
  },
  "language_info": {
   "codemirror_mode": {
    "name": "ipython",
    "version": 3
   },
   "file_extension": ".py",
   "mimetype": "text/x-python",
   "name": "python",
   "nbconvert_exporter": "python",
   "pygments_lexer": "ipython3",
   "version": "3.10.4"
  },
  "orig_nbformat": 4,
  "vscode": {
   "interpreter": {
    "hash": "5df21a170a08fe7c24b5b1091267edae5bad3984f1116f28e957af7dd8f192dc"
   }
  }
 },
 "nbformat": 4,
 "nbformat_minor": 2
}
