{
 "cells": [
  {
   "cell_type": "code",
   "execution_count": 1,
   "metadata": {},
   "outputs": [],
   "source": [
    "from rdflib import Graph\n",
    "from pydantic import BaseModel, Field\n",
    "from typing import Optional\n",
    "from api.src.schemas.authorities.authority import Uri, Variant, AdminMetadata, Element"
   ]
  },
  {
   "cell_type": "code",
   "execution_count": 2,
   "metadata": {},
   "outputs": [],
   "source": [
    "class Topic(BaseModel):\n",
    "    type: str = Field(default='Topic')\n",
    "    subjectOf: Optional[list[Uri]]\n",
    "    adminMetadata: AdminMetadata \n",
    "    elementList: list[Element]\n",
    "    hasBroaderAuthority: Optional[list[Uri]]\n",
    "    hasCloseExternalAuthority: Optional[list[Uri]]\n",
    "    hasExactExternalAuthority: Optional[list[Uri]]\n",
    "    hasNarrowerAuthority: Optional[list[Uri]]\n",
    "    hasNarrowerExternalAuthority: Optional[list[Uri]]\n",
    "    hasVariant: Optional[list[Variant]]\n",
    "    isMemberOfMADSCollection: str = Field(default='http://bibliokeia.com/authorities/Topic/')"
   ]
  },
  {
   "cell_type": "code",
   "execution_count": 3,
   "metadata": {},
   "outputs": [
    {
     "data": {
      "text/plain": [
       "<Graph identifier=N1f7adbcc546b496e8947d5c479d1742c (<class 'rdflib.graph.Graph'>)>"
      ]
     },
     "execution_count": 3,
     "metadata": {},
     "output_type": "execute_result"
    }
   ],
   "source": [
    "g = Graph()\n",
    "g.parse('http://id.loc.gov/authorities/subjects/sh2018002121.rdf')\n",
    "#g.serialize('exemples/topic.ttl')"
   ]
  },
  {
   "cell_type": "code",
   "execution_count": 4,
   "metadata": {},
   "outputs": [],
   "source": [
    "def getUri(obj, metadado, authority, graph):\n",
    "    query = f\"\"\"PREFIX madsrdf: <http://www.loc.gov/mads/rdf/v1#>\n",
    "            SELECT * WHERE  {{\n",
    "              <{authority}> madsrdf:{metadado} ?value .\n",
    "              ?value madsrdf:authoritativeLabel ?label\n",
    "              }}\"\"\"\n",
    "    response = graph.query(query)\n",
    "    if len(response.bindings) > 0:\n",
    "        uris = list()\n",
    "        for i in response.bindings:\n",
    "          uri = {\n",
    "                  \"value\": i.get('value').n3().replace('<','').replace('>',''),\n",
    "              \"label\": {\n",
    "                \"value\": i.get('label').value,\n",
    "                \"lang\": i.get('label').language\n",
    "              } }\n",
    "          uris.append(uri)\n",
    "        obj[metadado] = uris\n",
    "    return obj"
   ]
  },
  {
   "cell_type": "code",
   "execution_count": 22,
   "metadata": {},
   "outputs": [
    {
     "data": {
      "text/plain": [
       "{'type': 'Topic',\n",
       " 'subjectOf': None,\n",
       " 'adminMetadata': {'assigner': 'http://id.loc.gov/vocabulary/organizations/dlc',\n",
       "  'descriptionModifier': 'http://id.loc.gov/vocabulary/organizations/brmninpa',\n",
       "  'creationDate': datetime.date(2023, 5, 3),\n",
       "  'descriptionLanguage': 'http://id.loc.gov/vocabulary/languages/por',\n",
       "  'generationProcess': 'BiblioKeia v.1',\n",
       "  'generationDate': '2023-05-03T15:52:34',\n",
       "  'identifiedBy': [{'assigner': 'http://id.loc.gov/vocabulary/organizations/dlc',\n",
       "    'value': 'sh2018002121'}],\n",
       "  'status': {'value': 'mstatus:new', 'label': 'novo'}},\n",
       " 'elementList': [{'type': 'TopicElement',\n",
       "   'elementValue': {'value': 'Dark Web', 'lang': 'en'}}],\n",
       " 'hasBroaderAuthority': [{'value': 'http://id.loc.gov/authorities/subjects/sh2008009697',\n",
       "   'label': {'value': 'Invisible Web', 'lang': 'en'}}],\n",
       " 'hasCloseExternalAuthority': [{'value': 'http://id.worldcat.org/fast/2003430',\n",
       "   'label': {'value': 'Dark Web', 'lang': None}}],\n",
       " 'hasExactExternalAuthority': None,\n",
       " 'hasNarrowerAuthority': None,\n",
       " 'hasNarrowerExternalAuthority': None,\n",
       " 'hasVariant': [{'type': 'Topic',\n",
       "   'elementList': [{'type': 'TopicElement',\n",
       "     'elementValue': {'value': 'Dark Internet', 'lang': 'en'}}],\n",
       "   'componentList': None},\n",
       "  {'type': 'Topic',\n",
       "   'elementList': [{'type': 'TopicElement',\n",
       "     'elementValue': {'value': 'Darknet', 'lang': 'en'}}],\n",
       "   'componentList': None}],\n",
       " 'isMemberOfMADSCollection': 'http://bibliokeia.com/authorities/Topic/'}"
      ]
     },
     "execution_count": 22,
     "metadata": {},
     "output_type": "execute_result"
    }
   ],
   "source": [
    "def ParserTopic(graph):\n",
    "      \n",
    "  authority = 'http://id.loc.gov/authorities/subjects/sh2018002121'\n",
    "  prefix = \"\"\"PREFIX identifiers: <http://id.loc.gov/vocabulary/identifiers/>\n",
    "  PREFIX rdf: <http://www.w3.org/1999/02/22-rdf-syntax-ns#>\n",
    "  PREFIX madsrdf: <http://www.loc.gov/mads/rdf/v1#>\"\"\"\n",
    "\n",
    "  qlccn = f\"\"\"{prefix}\n",
    "  SELECT ?o WHERE {{ \n",
    "      <{authority}> identifiers:lccn ?o }}\"\"\"\n",
    "\n",
    "  [lccn] = [i[0].value for i in graph.query(qlccn) ]\n",
    "  adminMetadata = {\n",
    "      \"assigner\": \"http://id.loc.gov/vocabulary/organizations/dlc\",\n",
    "      \"identifiedBy\": [ {\n",
    "          \"assigner\": \"http://id.loc.gov/vocabulary/organizations/dlc\",\n",
    "          \"value\": lccn        \n",
    "      }]\n",
    "  }\n",
    "\n",
    "  qElementList = f\"\"\"{prefix}\n",
    "  SELECT ?elementValue ?type WHERE  {{\n",
    "    <{authority}> madsrdf:elementList ?o .\n",
    "    ?o rdf:rest* ?node .\n",
    "    ?node rdf:first ?e .\n",
    "    ?e madsrdf:elementValue ?elementValue .\n",
    "    ?e rdf:type ?type\n",
    "    }}\"\"\"\n",
    "\n",
    "  response = graph.query(qElementList)\n",
    "  elementList = list()\n",
    "  for i in response.bindings:\n",
    "      element = {\n",
    "            \"type\": i.get('type').split(\"#\")[1],\n",
    "          \"elementValue\": {\n",
    "            \"value\":  i.get('elementValue').value,\n",
    "            \"lang\": i.get('elementValue').language\n",
    "          }\n",
    "        }\n",
    "      elementList.append(element)\n",
    "  obj = {\n",
    "      \"adminMetadata\": adminMetadata,\n",
    "      \"elementList\": elementList\n",
    "  }\n",
    "# hasVariant\n",
    "  qVariant = f\"\"\"{prefix}\n",
    "  SELECT ?typeVariant ?typeElement ?elementValue WHERE  {{\n",
    "\t<{authority}> madsrdf:hasVariant ?variant .\n",
    "  ?variant rdf:type ?typeVariant .\n",
    "  ?variant madsrdf:elementList ?elementList .\n",
    "  ?elementList rdf:rest* ?node .\n",
    "    ?node rdf:first ?e .\n",
    "    ?e madsrdf:elementValue ?elementValue .\n",
    "\t?e rdf:type ?typeElement .\n",
    "  FILTER ( ?typeVariant != madsrdf:Variant )\n",
    "  }}\"\"\"\n",
    "  response = g.query(qVariant)\n",
    "  if len(response.bindings) > 0:\n",
    "    variants = list()\n",
    "    for i in response.bindings:\n",
    "      variant = {\n",
    "          'type': i.get('typeVariant').split(\"#\")[1],\n",
    "          'elementList': [{\n",
    "              'type': i.get('typeElement').split(\"#\")[1],\n",
    "              'elementValue': {\n",
    "                  'value': i.get('elementValue').value,\n",
    "                  'lang': i.get('elementValue').language\n",
    "              }\n",
    "          }]\n",
    "      }\n",
    "      variants.append(variant)\n",
    "  obj['hasVariant'] = variants\n",
    "\n",
    "  \n",
    "  # URIS\n",
    "  metadados = ['hasBroaderAuthority', \n",
    "               'hasCloseExternalAuthority',\n",
    "    'hasExactExternalAuthority',\n",
    "    'hasNarrowerAuthority',\n",
    "    'hasNarrowerExternalAuthority']\n",
    "  for metadado in metadados:\n",
    "     obj = getUri(obj, metadado, authority, graph)\n",
    "  \n",
    "  request = Topic(**obj)\n",
    "  return request\n",
    "\n",
    "request = ParserTopic(g)\n",
    "request.dict()"
   ]
  },
  {
   "cell_type": "code",
   "execution_count": 7,
   "metadata": {},
   "outputs": [
    {
     "data": {
      "text/plain": [
       "<rdflib.plugins.sparql.processor.SPARQLResult at 0x1de90d39a20>"
      ]
     },
     "execution_count": 7,
     "metadata": {},
     "output_type": "execute_result"
    }
   ],
   "source": [
    "q = \"\"\"PREFIX rdf: <http://www.w3.org/1999/02/22-rdf-syntax-ns#>\n",
    "  PREFIX madsrdf: <http://www.loc.gov/mads/rdf/v1#>\n",
    "SELECT ?typeVariant ?typeElement ?elementValue WHERE  {\n",
    "\t<http://id.loc.gov/authorities/subjects/sh2018002121> madsrdf:hasVariant ?variant .\n",
    "  ?variant rdf:type ?typeVariant .\n",
    "  ?variant madsrdf:elementList ?elementList .\n",
    "  ?elementList rdf:rest* ?node .\n",
    "    ?node rdf:first ?e .\n",
    "    ?e madsrdf:elementValue ?elementValue .\n",
    "\t?e rdf:type ?typeElement .\n",
    "  FILTER ( ?typeVariant != madsrdf:Variant )\n",
    "  }\"\"\"\n",
    "response = g.query(q)\n",
    "response"
   ]
  },
  {
   "cell_type": "code",
   "execution_count": 8,
   "metadata": {},
   "outputs": [
    {
     "data": {
      "text/plain": [
       "[{rdflib.term.Variable('typeVariant'): rdflib.term.URIRef('http://www.loc.gov/mads/rdf/v1#Topic'), rdflib.term.Variable('elementValue'): rdflib.term.Literal('Dark Internet', lang='en'), rdflib.term.Variable('typeElement'): rdflib.term.URIRef('http://www.loc.gov/mads/rdf/v1#TopicElement')},\n",
       " {rdflib.term.Variable('typeVariant'): rdflib.term.URIRef('http://www.loc.gov/mads/rdf/v1#Topic'), rdflib.term.Variable('elementValue'): rdflib.term.Literal('Darknet', lang='en'), rdflib.term.Variable('typeElement'): rdflib.term.URIRef('http://www.loc.gov/mads/rdf/v1#TopicElement')}]"
      ]
     },
     "execution_count": 8,
     "metadata": {},
     "output_type": "execute_result"
    }
   ],
   "source": [
    "response.bindings"
   ]
  },
  {
   "cell_type": "code",
   "execution_count": 18,
   "metadata": {},
   "outputs": [
    {
     "name": "stdout",
     "output_type": "stream",
     "text": [
      "{'type': 'Topic', 'elementList': [{'type': 'TopicElement', 'elementValue': {'value': 'Dark Internet', 'lang': 'en'}}]}\n",
      "{'type': 'Topic', 'elementList': [{'type': 'TopicElement', 'elementValue': {'value': 'Darknet', 'lang': 'en'}}]}\n"
     ]
    }
   ],
   "source": [
    "for i in response.bindings:\n",
    "    variant = {\n",
    "        'type': i.get('typeVariant').split(\"#\")[1],\n",
    "        'elementList': [{\n",
    "            'type': i.get('typeElement').split(\"#\")[1],\n",
    "            'elementValue': {\n",
    "                'value': i.get('elementValue').value,\n",
    "                'lang': i.get('elementValue').language\n",
    "            }\n",
    "        }]\n",
    "    }\n",
    "    print(variant)"
   ]
  }
 ],
 "metadata": {
  "kernelspec": {
   "display_name": "venv",
   "language": "python",
   "name": "python3"
  },
  "language_info": {
   "codemirror_mode": {
    "name": "ipython",
    "version": 3
   },
   "file_extension": ".py",
   "mimetype": "text/x-python",
   "name": "python",
   "nbconvert_exporter": "python",
   "pygments_lexer": "ipython3",
   "version": "3.10.4"
  },
  "orig_nbformat": 4
 },
 "nbformat": 4,
 "nbformat_minor": 2
}
