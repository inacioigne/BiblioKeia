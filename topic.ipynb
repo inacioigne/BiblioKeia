{
 "cells": [
  {
   "cell_type": "code",
   "execution_count": 1,
   "metadata": {},
   "outputs": [],
   "source": [
    "from rdflib import Graph\n",
    "from pydantic import BaseModel, Field\n",
    "from typing import Optional\n",
    "from api.src.schemas.authorities.authority import Uri, Variant, AdminMetadata, Element"
   ]
  },
  {
   "cell_type": "code",
   "execution_count": 34,
   "metadata": {},
   "outputs": [],
   "source": [
    "class Subject(BaseModel):\n",
    "    type: str \n",
    "    adminMetadata: AdminMetadata \n",
    "    elementList: list[Element]\n",
    "    hasBroaderAuthority: Optional[list[Uri]]\n",
    "    hasCloseExternalAuthority: Optional[list[Uri]]\n",
    "    hasExactExternalAuthority: Optional[list[Uri]]\n",
    "    hasNarrowerAuthority: Optional[list[Uri]]\n",
    "    hasNarrowerExternalAuthority: Optional[list[Uri]]\n",
    "    hasVariant: Optional[list[Variant]]\n",
    "    subjectOf: Optional[list[Uri]]\n",
    "    isMemberOfMADSCollection: str = Field(default='http://bibliokeia.com/authorities/Topic/')"
   ]
  },
  {
   "cell_type": "code",
   "execution_count": 54,
   "metadata": {},
   "outputs": [
    {
     "data": {
      "text/plain": [
       "<Graph identifier=N4416f8daf6b64973b329bf42753e3923 (<class 'rdflib.graph.Graph'>)>"
      ]
     },
     "execution_count": 54,
     "metadata": {},
     "output_type": "execute_result"
    }
   ],
   "source": [
    "authority = 'http://id.loc.gov/authorities/subjects/sh90003714-781'\n",
    "graph = Graph()\n",
    "graph.parse(f'{authority}.rdf')\n",
    "graph.serialize('exemples/Geographic.ttl')"
   ]
  },
  {
   "cell_type": "code",
   "execution_count": 44,
   "metadata": {},
   "outputs": [
    {
     "data": {
      "text/plain": [
       "[{rdflib.term.Variable('note'): rdflib.term.Literal('Use as a topical subdivision under occupational groups and types of employees.')}]"
      ]
     },
     "execution_count": 44,
     "metadata": {},
     "output_type": "execute_result"
    }
   ],
   "source": [
    "prefix = \"\"\"PREFIX identifiers: <http://id.loc.gov/vocabulary/identifiers/>\n",
    "  PREFIX rdf: <http://www.w3.org/1999/02/22-rdf-syntax-ns#>\n",
    "  PREFIX madsrdf: <http://www.loc.gov/mads/rdf/v1#>\n",
    "  PREFIX skos: <http://www.w3.org/2004/02/skos/core#>\"\"\"\n",
    "\n",
    "qNote = f\"\"\"{prefix}\n",
    "  SELECT ?note WHERE {{ \n",
    "      <{uri}> madsrdf:note ?note .\n",
    "       }}\"\"\"\n",
    "\n",
    "r = graph.query(qNote)\n",
    "r.bindings\n"
   ]
  },
  {
   "cell_type": "code",
   "execution_count": 4,
   "metadata": {},
   "outputs": [],
   "source": [
    "def getUri(obj, metadado, authority, graph):\n",
    "    query = f\"\"\"PREFIX madsrdf: <http://www.loc.gov/mads/rdf/v1#>\n",
    "            SELECT * WHERE  {{\n",
    "              <{authority}> madsrdf:{metadado} ?value .\n",
    "              ?value madsrdf:authoritativeLabel ?label\n",
    "              }}\"\"\"\n",
    "    response = graph.query(query)\n",
    "    if len(response.bindings) > 0:\n",
    "        uris = list()\n",
    "        for i in response.bindings:\n",
    "          uri = {\n",
    "                  \"value\": i.get('value').n3().replace('<','').replace('>',''),\n",
    "              \"label\": {\n",
    "                \"value\": i.get('label').value,\n",
    "                \"lang\": i.get('label').language\n",
    "              } }\n",
    "          uris.append(uri)\n",
    "        obj[metadado] = uris\n",
    "    return obj"
   ]
  },
  {
   "cell_type": "code",
   "execution_count": 51,
   "metadata": {},
   "outputs": [],
   "source": [
    "\n",
    "from api.src.function.authorities.getUri import GetUri\n",
    "\n",
    "\n",
    "def ParserSubject(graph, authority):\n",
    "      \n",
    "#   authority = 'http://id.loc.gov/authorities/subjects/sh2018002121'\n",
    "  prefix = \"\"\"PREFIX identifiers: <http://id.loc.gov/vocabulary/identifiers/>\n",
    "  PREFIX rdf: <http://www.w3.org/1999/02/22-rdf-syntax-ns#>\n",
    "  PREFIX madsrdf: <http://www.loc.gov/mads/rdf/v1#>\"\"\"\n",
    "\n",
    "  # Type\n",
    "  qtype = f\"\"\"{prefix}\n",
    "  SELECT ?type WHERE {{ \n",
    "      <{authority}> rdf:type ?type .\n",
    "      FILTER ( ?type != madsrdf:Authority ) \n",
    "      FILTER ( ?type != skos:Concept )\n",
    "       }}\"\"\"\n",
    "  r = graph.query(qtype)\n",
    "  tipo = r.bindings[0].get('type').split(\"#\")[1]\n",
    "\n",
    "  # identifiers\n",
    "  # qlccn = f\"\"\"{prefix}\n",
    "  # SELECT ?o WHERE {{ \n",
    "  #     <{authority}> identifiers:lccn ?o }}\"\"\"\n",
    "  # [lccn] = [i[0].value for i in graph.query(qlccn) ]\n",
    "\n",
    "  # adminMetadata\n",
    "  adminMetadata = {\n",
    "      \"assigner\": \"http://id.loc.gov/vocabulary/organizations/dlc\",\n",
    "      \"identifiedBy\": [ {\n",
    "          \"assigner\": \"http://id.loc.gov/vocabulary/organizations/dlc\",\n",
    "          \"value\": lccn        \n",
    "      }]\n",
    "  }\n",
    "  # ElementList\n",
    "  qElementList = f\"\"\"{prefix}\n",
    "  SELECT ?elementValue ?type WHERE  {{\n",
    "    <{authority}> madsrdf:elementList ?o .\n",
    "    ?o rdf:rest* ?node .\n",
    "    ?node rdf:first ?e .\n",
    "    ?e madsrdf:elementValue ?elementValue .\n",
    "    ?e rdf:type ?type\n",
    "    }}\"\"\"\n",
    "  r = graph.query(qElementList)\n",
    "  elementList = list()\n",
    "  for i in r.bindings:\n",
    "      element = {\n",
    "            \"type\": i.get('type').split(\"#\")[1],\n",
    "          \"elementValue\": {\n",
    "            \"value\":  i.get('elementValue').value,\n",
    "            \"lang\": i.get('elementValue').language\n",
    "          }\n",
    "        }\n",
    "      elementList.append(element)\n",
    "\n",
    "  obj = {\n",
    "     \"type\": tipo,\n",
    "      \"adminMetadata\": adminMetadata,\n",
    "      \"elementList\": elementList\n",
    "  }\n",
    "\n",
    "# hasVariant\n",
    "  qVariant = f\"\"\"{prefix}\n",
    "  SELECT ?typeVariant ?typeElement ?elementValue WHERE  {{\n",
    "\t<{authority}> madsrdf:hasVariant ?variant .\n",
    "  ?variant rdf:type ?typeVariant .\n",
    "  ?variant madsrdf:elementList ?elementList .\n",
    "  ?elementList rdf:rest* ?node .\n",
    "    ?node rdf:first ?e .\n",
    "    ?e madsrdf:elementValue ?elementValue .\n",
    "\t?e rdf:type ?typeElement .\n",
    "  FILTER ( ?typeVariant != madsrdf:Variant )\n",
    "  }}\"\"\"\n",
    "  r = graph.query(qVariant)\n",
    "  if len(r.bindings) > 0:\n",
    "    variants = list()\n",
    "    for i in r.bindings:\n",
    "      variant = {\n",
    "          'type': i.get('typeVariant').split(\"#\")[1],\n",
    "          'elementList': [{\n",
    "              'type': i.get('typeElement').split(\"#\")[1],\n",
    "              'elementValue': {\n",
    "                  'value': i.get('elementValue').value,\n",
    "                  'lang': i.get('elementValue').language\n",
    "              }\n",
    "          }]\n",
    "      }\n",
    "      variants.append(variant)\n",
    "    obj['hasVariant'] = variants\n",
    "\n",
    "  # URIS\n",
    "  metadados = ['hasBroaderAuthority', \n",
    "               'hasCloseExternalAuthority',\n",
    "    'hasExactExternalAuthority',\n",
    "    'hasNarrowerAuthority',\n",
    "    'hasNarrowerExternalAuthority']\n",
    "  for metadado in metadados:\n",
    "     obj = GetUri(obj, metadado, authority, graph)\n",
    "  \n",
    "  response = Subject(**obj)\n",
    "  return response\n"
   ]
  },
  {
   "cell_type": "code",
   "execution_count": 55,
   "metadata": {},
   "outputs": [
    {
     "ename": "ValueError",
     "evalue": "not enough values to unpack (expected 1, got 0)",
     "output_type": "error",
     "traceback": [
      "\u001b[1;31m---------------------------------------------------------------------------\u001b[0m",
      "\u001b[1;31mValueError\u001b[0m                                Traceback (most recent call last)",
      "\u001b[1;32mc:\\Users\\Usuário\\Desktop\\BiblioKeia\\topic.ipynb Cell 7\u001b[0m in \u001b[0;36m<cell line: 1>\u001b[1;34m()\u001b[0m\n\u001b[1;32m----> <a href='vscode-notebook-cell:/c%3A/Users/Usu%C3%A1rio/Desktop/BiblioKeia/topic.ipynb#X11sZmlsZQ%3D%3D?line=0'>1</a>\u001b[0m response \u001b[39m=\u001b[39m ParserSubject(graph, authority)\n\u001b[0;32m      <a href='vscode-notebook-cell:/c%3A/Users/Usu%C3%A1rio/Desktop/BiblioKeia/topic.ipynb#X11sZmlsZQ%3D%3D?line=1'>2</a>\u001b[0m response\u001b[39m.\u001b[39mdict()\n",
      "\u001b[1;32mc:\\Users\\Usuário\\Desktop\\BiblioKeia\\topic.ipynb Cell 7\u001b[0m in \u001b[0;36mParserSubject\u001b[1;34m(graph, authority)\u001b[0m\n\u001b[0;32m     <a href='vscode-notebook-cell:/c%3A/Users/Usu%C3%A1rio/Desktop/BiblioKeia/topic.ipynb#X11sZmlsZQ%3D%3D?line=20'>21</a>\u001b[0m \u001b[39m# identifiers\u001b[39;00m\n\u001b[0;32m     <a href='vscode-notebook-cell:/c%3A/Users/Usu%C3%A1rio/Desktop/BiblioKeia/topic.ipynb#X11sZmlsZQ%3D%3D?line=21'>22</a>\u001b[0m qlccn \u001b[39m=\u001b[39m \u001b[39mf\u001b[39m\u001b[39m\"\"\"\u001b[39m\u001b[39m{\u001b[39;00mprefix\u001b[39m}\u001b[39;00m\n\u001b[0;32m     <a href='vscode-notebook-cell:/c%3A/Users/Usu%C3%A1rio/Desktop/BiblioKeia/topic.ipynb#X11sZmlsZQ%3D%3D?line=22'>23</a>\u001b[0m \u001b[39mSELECT ?o WHERE \u001b[39m\u001b[39m{{\u001b[39;00m\u001b[39m \u001b[39m\n\u001b[0;32m     <a href='vscode-notebook-cell:/c%3A/Users/Usu%C3%A1rio/Desktop/BiblioKeia/topic.ipynb#X11sZmlsZQ%3D%3D?line=23'>24</a>\u001b[0m \u001b[39m    <\u001b[39m\u001b[39m{\u001b[39;00mauthority\u001b[39m}\u001b[39;00m\u001b[39m> identifiers:lccn ?o \u001b[39m\u001b[39m}}\u001b[39;00m\u001b[39m\"\"\"\u001b[39m\n\u001b[1;32m---> <a href='vscode-notebook-cell:/c%3A/Users/Usu%C3%A1rio/Desktop/BiblioKeia/topic.ipynb#X11sZmlsZQ%3D%3D?line=24'>25</a>\u001b[0m [lccn] \u001b[39m=\u001b[39m [i[\u001b[39m0\u001b[39m]\u001b[39m.\u001b[39mvalue \u001b[39mfor\u001b[39;00m i \u001b[39min\u001b[39;00m graph\u001b[39m.\u001b[39mquery(qlccn) ]\n\u001b[0;32m     <a href='vscode-notebook-cell:/c%3A/Users/Usu%C3%A1rio/Desktop/BiblioKeia/topic.ipynb#X11sZmlsZQ%3D%3D?line=26'>27</a>\u001b[0m \u001b[39m# adminMetadata\u001b[39;00m\n\u001b[0;32m     <a href='vscode-notebook-cell:/c%3A/Users/Usu%C3%A1rio/Desktop/BiblioKeia/topic.ipynb#X11sZmlsZQ%3D%3D?line=27'>28</a>\u001b[0m adminMetadata \u001b[39m=\u001b[39m {\n\u001b[0;32m     <a href='vscode-notebook-cell:/c%3A/Users/Usu%C3%A1rio/Desktop/BiblioKeia/topic.ipynb#X11sZmlsZQ%3D%3D?line=28'>29</a>\u001b[0m     \u001b[39m\"\u001b[39m\u001b[39massigner\u001b[39m\u001b[39m\"\u001b[39m: \u001b[39m\"\u001b[39m\u001b[39mhttp://id.loc.gov/vocabulary/organizations/dlc\u001b[39m\u001b[39m\"\u001b[39m,\n\u001b[0;32m     <a href='vscode-notebook-cell:/c%3A/Users/Usu%C3%A1rio/Desktop/BiblioKeia/topic.ipynb#X11sZmlsZQ%3D%3D?line=29'>30</a>\u001b[0m     \u001b[39m\"\u001b[39m\u001b[39midentifiedBy\u001b[39m\u001b[39m\"\u001b[39m: [ {\n\u001b[1;32m   (...)\u001b[0m\n\u001b[0;32m     <a href='vscode-notebook-cell:/c%3A/Users/Usu%C3%A1rio/Desktop/BiblioKeia/topic.ipynb#X11sZmlsZQ%3D%3D?line=32'>33</a>\u001b[0m     }]\n\u001b[0;32m     <a href='vscode-notebook-cell:/c%3A/Users/Usu%C3%A1rio/Desktop/BiblioKeia/topic.ipynb#X11sZmlsZQ%3D%3D?line=33'>34</a>\u001b[0m }\n",
      "\u001b[1;31mValueError\u001b[0m: not enough values to unpack (expected 1, got 0)"
     ]
    }
   ],
   "source": [
    "response = ParserSubject(graph, authority)\n",
    "response.dict()"
   ]
  },
  {
   "cell_type": "code",
   "execution_count": 53,
   "metadata": {},
   "outputs": [
    {
     "data": {
      "text/plain": [
       "{'type': 'Topic',\n",
       " 'adminMetadata': {'assigner': 'http://id.loc.gov/vocabulary/organizations/dlc',\n",
       "  'descriptionModifier': 'http://id.loc.gov/vocabulary/organizations/brmninpa',\n",
       "  'creationDate': datetime.date(2023, 5, 4),\n",
       "  'descriptionLanguage': 'http://id.loc.gov/vocabulary/languages/por',\n",
       "  'generationProcess': 'BiblioKeia v.1',\n",
       "  'generationDate': '2023-05-04T08:32:48',\n",
       "  'identifiedBy': [{'assigner': 'http://id.loc.gov/vocabulary/organizations/dlc',\n",
       "    'value': 'sh 85113459'}],\n",
       "  'status': {'value': 'mstatus:new', 'label': 'novo'}},\n",
       " 'elementList': [{'type': 'TopicElement',\n",
       "   'elementValue': {'value': 'Revolutionary literature, Portuguese',\n",
       "    'lang': 'en'}}],\n",
       " 'hasBroaderAuthority': [{'value': 'http://id.loc.gov/authorities/subjects/sh85105349',\n",
       "   'label': {'value': 'Portuguese literature', 'lang': 'en'}}],\n",
       " 'hasCloseExternalAuthority': [{'value': 'http://id.worldcat.org/fast/1096634',\n",
       "   'label': {'value': 'Revolutionary literature, Portuguese', 'lang': None}}],\n",
       " 'hasExactExternalAuthority': None,\n",
       " 'hasNarrowerAuthority': None,\n",
       " 'hasNarrowerExternalAuthority': None,\n",
       " 'hasVariant': [{'type': 'Topic',\n",
       "   'elementList': [{'type': 'TopicElement',\n",
       "     'elementValue': {'value': 'Portuguese revolutionary literature',\n",
       "      'lang': 'en'}}],\n",
       "   'componentList': None}],\n",
       " 'subjectOf': None,\n",
       " 'isMemberOfMADSCollection': 'http://bibliokeia.com/authorities/Topic/'}"
      ]
     },
     "execution_count": 53,
     "metadata": {},
     "output_type": "execute_result"
    }
   ],
   "source": []
  }
 ],
 "metadata": {
  "kernelspec": {
   "display_name": "venv",
   "language": "python",
   "name": "python3"
  },
  "language_info": {
   "codemirror_mode": {
    "name": "ipython",
    "version": 3
   },
   "file_extension": ".py",
   "mimetype": "text/x-python",
   "name": "python",
   "nbconvert_exporter": "python",
   "pygments_lexer": "ipython3",
   "version": "3.10.4"
  },
  "orig_nbformat": 4
 },
 "nbformat": 4,
 "nbformat_minor": 2
}
