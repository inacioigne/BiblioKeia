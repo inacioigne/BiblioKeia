{
 "cells": [
  {
   "cell_type": "code",
   "execution_count": 1,
   "metadata": {},
   "outputs": [],
   "source": [
    "from rdflib import Graph\n",
    "from pydantic import BaseModel, Field\n",
    "from typing import Optional\n",
    "from api.src.schemas.authorities.authority import Uri, Variant, AdminMetadata, Element"
   ]
  },
  {
   "cell_type": "code",
   "execution_count": 14,
   "metadata": {},
   "outputs": [],
   "source": [
    "class Subject(BaseModel):\n",
    "    type: str \n",
    "    adminMetadata: AdminMetadata \n",
    "    elementList: list[Element]\n",
    "    note: Optional[str]\n",
    "    hasBroaderAuthority: Optional[list[Uri]]\n",
    "    hasCloseExternalAuthority: Optional[list[Uri]]\n",
    "    hasExactExternalAuthority: Optional[list[Uri]]\n",
    "    hasNarrowerAuthority: Optional[list[Uri]]\n",
    "    hasNarrowerExternalAuthority: Optional[list[Uri]]\n",
    "    hasVariant: Optional[list[Variant]]\n",
    "    subjectOf: Optional[list[Uri]]\n",
    "    isMemberOfMADSCollection: str"
   ]
  },
  {
   "cell_type": "code",
   "execution_count": 34,
   "metadata": {},
   "outputs": [
    {
     "data": {
      "text/plain": [
       "<Graph identifier=Nf951ff8d9576447ba855bfe7ef809548 (<class 'rdflib.graph.Graph'>)>"
      ]
     },
     "execution_count": 34,
     "metadata": {},
     "output_type": "execute_result"
    }
   ],
   "source": [
    "authority = 'http://id.loc.gov/authorities/subjects/sh2010112128'\n",
    "graph = Graph()\n",
    "graph.parse(f'{authority}.rdf')\n",
    "graph.serialize('exemples/ComplexSubject.ttl')"
   ]
  },
  {
   "cell_type": "code",
   "execution_count": 3,
   "metadata": {},
   "outputs": [],
   "source": [
    "def getUri(obj, metadado, authority, graph):\n",
    "    query = f\"\"\"PREFIX madsrdf: <http://www.loc.gov/mads/rdf/v1#>\n",
    "            SELECT * WHERE  {{\n",
    "              <{authority}> madsrdf:{metadado} ?value .\n",
    "              ?value madsrdf:authoritativeLabel ?label\n",
    "              }}\"\"\"\n",
    "    response = graph.query(query)\n",
    "    if len(response.bindings) > 0:\n",
    "        uris = list()\n",
    "        for i in response.bindings:\n",
    "          uri = {\n",
    "                  \"value\": i.get('value').n3().replace('<','').replace('>',''),\n",
    "              \"label\": {\n",
    "                \"value\": i.get('label').value,\n",
    "                \"lang\": i.get('label').language\n",
    "              } }\n",
    "          uris.append(uri)\n",
    "        obj[metadado] = uris\n",
    "    return obj"
   ]
  },
  {
   "cell_type": "code",
   "execution_count": 11,
   "metadata": {},
   "outputs": [
    {
     "data": {
      "text/plain": [
       "'http://id.loc.gov/authorities/subjects/sh2003006908'"
      ]
     },
     "execution_count": 11,
     "metadata": {},
     "output_type": "execute_result"
    }
   ],
   "source": [
    "authority"
   ]
  },
  {
   "cell_type": "code",
   "execution_count": 30,
   "metadata": {},
   "outputs": [],
   "source": [
    "\n",
    "from api.src.function.authorities.getUri import GetUri\n",
    "\n",
    "\n",
    "def ParserSubject(graph, authority):\n",
    "      \n",
    "#   authority = 'http://id.loc.gov/authorities/subjects/sh2018002121'\n",
    "  prefix = \"\"\"PREFIX identifiers: <http://id.loc.gov/vocabulary/identifiers/>\n",
    "  PREFIX rdf: <http://www.w3.org/1999/02/22-rdf-syntax-ns#>\n",
    "  PREFIX madsrdf: <http://www.loc.gov/mads/rdf/v1#>\"\"\"\n",
    "\n",
    "  # Type\n",
    "  qtype = f\"\"\"{prefix}\n",
    "  SELECT ?type WHERE {{ \n",
    "      <{authority}> rdf:type ?type .\n",
    "      FILTER ( ?type != madsrdf:Authority ) \n",
    "      FILTER ( ?type != skos:Concept )\n",
    "       }}\"\"\"\n",
    "  r = graph.query(qtype)\n",
    "  tipo = r.bindings[0].get('type').split(\"#\")[1]\n",
    "  \n",
    "\n",
    "  # adminMetadata\n",
    "  adminMetadata = {\n",
    "      \"assigner\": \"http://id.loc.gov/vocabulary/organizations/dlc\",\n",
    "      \"identifiedBy\": [ {\n",
    "          \"assigner\": \"http://id.loc.gov/vocabulary/organizations/dlc\",\n",
    "          \"value\": authority.split('/')[-1]        \n",
    "      }]      \n",
    "  }\n",
    "  # ElementList\n",
    "  qElementList = f\"\"\"{prefix}\n",
    "  SELECT ?elementValue ?type WHERE  {{\n",
    "    <{authority}> madsrdf:elementList ?o .\n",
    "    ?o rdf:rest* ?node .\n",
    "    ?node rdf:first ?e .\n",
    "    ?e madsrdf:elementValue ?elementValue .\n",
    "    ?e rdf:type ?type\n",
    "    }}\"\"\"\n",
    "  r = graph.query(qElementList)\n",
    "  elementList = list()\n",
    "  for i in r.bindings:\n",
    "      element = {\n",
    "            \"type\": i.get('type').split(\"#\")[1],\n",
    "          \"elementValue\": {\n",
    "            \"value\":  i.get('elementValue').value,\n",
    "            \"lang\": i.get('elementValue').language\n",
    "          }\n",
    "        }\n",
    "      elementList.append(element)\n",
    "\n",
    "  obj = {\n",
    "     \"type\": tipo,\n",
    "      \"adminMetadata\": adminMetadata,\n",
    "      \"elementList\": elementList,\n",
    "      \"isMemberOfMADSCollection\": f'http://bibliokeia.com/authorities/{tipo}/'\n",
    "  }\n",
    "\n",
    "  # Note \n",
    "  qNote = f\"\"\"{prefix}\n",
    "  SELECT ?note WHERE {{ \n",
    "      <{authority}> madsrdf:note ?note .\n",
    "       }}\"\"\"\n",
    "  r = graph.query(qNote)\n",
    "  if len(r.bindings) > 0:\n",
    "     obj['note'] = r.bindings[0].get('note').value\n",
    "\n",
    "# hasVariant\n",
    "  qVariant = f\"\"\"{prefix}\n",
    "  SELECT ?typeVariant ?typeElement ?elementValue WHERE  {{\n",
    "\t<{authority}> madsrdf:hasVariant ?variant .\n",
    "  ?variant rdf:type ?typeVariant .\n",
    "  ?variant madsrdf:elementList ?elementList .\n",
    "  ?elementList rdf:rest* ?node .\n",
    "    ?node rdf:first ?e .\n",
    "    ?e madsrdf:elementValue ?elementValue .\n",
    "\t?e rdf:type ?typeElement .\n",
    "  FILTER ( ?typeVariant != madsrdf:Variant )\n",
    "  }}\"\"\"\n",
    "  r = graph.query(qVariant)\n",
    "  if len(r.bindings) > 0:\n",
    "    variants = list()\n",
    "    for i in r.bindings:\n",
    "      variant = {\n",
    "          'type': i.get('typeVariant').split(\"#\")[1],\n",
    "          'elementList': [{\n",
    "              'type': i.get('typeElement').split(\"#\")[1],\n",
    "              'elementValue': {\n",
    "                  'value': i.get('elementValue').value,\n",
    "                  'lang': i.get('elementValue').language\n",
    "              }\n",
    "          }]\n",
    "      }\n",
    "      variants.append(variant)\n",
    "    obj['hasVariant'] = variants\n",
    "\n",
    "  # URIS\n",
    "  metadados = ['hasBroaderAuthority', \n",
    "               'hasCloseExternalAuthority',\n",
    "    'hasExactExternalAuthority',\n",
    "    'hasNarrowerAuthority',\n",
    "    'hasNarrowerExternalAuthority']\n",
    "  for metadado in metadados:\n",
    "     obj = GetUri(obj, metadado, authority, graph)\n",
    "  \n",
    "  response = Subject(**obj)\n",
    "  return response\n"
   ]
  },
  {
   "cell_type": "code",
   "execution_count": 35,
   "metadata": {},
   "outputs": [
    {
     "data": {
      "text/plain": [
       "{'type': 'ComplexSubject',\n",
       " 'adminMetadata': {'assigner': 'http://id.loc.gov/vocabulary/organizations/dlc',\n",
       "  'descriptionModifier': 'http://id.loc.gov/vocabulary/organizations/brmninpa',\n",
       "  'creationDate': datetime.date(2023, 5, 4),\n",
       "  'descriptionLanguage': 'http://id.loc.gov/vocabulary/languages/por',\n",
       "  'generationProcess': 'BiblioKeia v.1',\n",
       "  'generationDate': '2023-05-04T18:28:26',\n",
       "  'identifiedBy': [{'assigner': 'http://id.loc.gov/vocabulary/organizations/dlc',\n",
       "    'value': 'sh2010112128'}],\n",
       "  'status': {'value': 'mstatus:new', 'label': 'novo'}},\n",
       " 'elementList': [],\n",
       " 'note': None,\n",
       " 'hasBroaderAuthority': None,\n",
       " 'hasCloseExternalAuthority': None,\n",
       " 'hasExactExternalAuthority': None,\n",
       " 'hasNarrowerAuthority': None,\n",
       " 'hasNarrowerExternalAuthority': None,\n",
       " 'hasVariant': None,\n",
       " 'subjectOf': None,\n",
       " 'isMemberOfMADSCollection': 'http://bibliokeia.com/authorities/ComplexSubject/'}"
      ]
     },
     "execution_count": 35,
     "metadata": {},
     "output_type": "execute_result"
    }
   ],
   "source": [
    "response = ParserSubject(graph, authority)\n",
    "response.dict()"
   ]
  }
 ],
 "metadata": {
  "kernelspec": {
   "display_name": "Python 3.11.3 ('venv': venv)",
   "language": "python",
   "name": "python3"
  },
  "language_info": {
   "codemirror_mode": {
    "name": "ipython",
    "version": 3
   },
   "file_extension": ".py",
   "mimetype": "text/x-python",
   "name": "python",
   "nbconvert_exporter": "python",
   "pygments_lexer": "ipython3",
   "version": "3.11.3"
  },
  "orig_nbformat": 4,
  "vscode": {
   "interpreter": {
    "hash": "5df21a170a08fe7c24b5b1091267edae5bad3984f1116f28e957af7dd8f192dc"
   }
  }
 },
 "nbformat": 4,
 "nbformat_minor": 2
}
