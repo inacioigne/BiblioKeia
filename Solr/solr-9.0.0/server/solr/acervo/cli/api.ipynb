{
 "cells": [
  {
   "cell_type": "code",
   "execution_count": 1,
   "metadata": {},
   "outputs": [],
   "source": [
    "import httpx"
   ]
  },
  {
   "cell_type": "code",
   "execution_count": 3,
   "metadata": {},
   "outputs": [
    {
     "data": {
      "text/plain": [
       "<Response [500 Server Error]>"
      ]
     },
     "execution_count": 3,
     "metadata": {},
     "output_type": "execute_result"
    }
   ],
   "source": [
    "json_data = {\n",
    "    'create': {\n",
    "        'name': 'search',\n",
    "        'configSet': 'search',\n",
    "    },\n",
    "}\n",
    "\n",
    "response = httpx.post('http://localhost:8983/api/cores', json=json_data)\n",
    "response\n",
    "\n"
   ]
  },
  {
   "cell_type": "code",
   "execution_count": 4,
   "metadata": {},
   "outputs": [
    {
     "data": {
      "text/plain": [
       "{'responseHeader': {'status': 500, 'QTime': 73},\n",
       " 'error': {'metadata': ['error-class',\n",
       "   'org.apache.solr.common.SolrException',\n",
       "   'root-error-class',\n",
       "   'org.apache.solr.common.SolrException'],\n",
       "  'msg': \"Core with name 'search' already exists.\",\n",
       "  'trace': \"org.apache.solr.common.SolrException: Core with name 'search' already exists.\\r\\n\\tat org.apache.solr.core.CoreContainer.create(CoreContainer.java:1401)\\r\\n\\tat org.apache.solr.handler.admin.CoreAdminOperation.lambda$static$0(CoreAdminOperation.java:92)\\r\\n\\tat org.apache.solr.handler.admin.CoreAdminOperation.execute(CoreAdminOperation.java:389)\\r\\n\\tat org.apache.solr.handler.admin.CoreAdminHandler$CallInfo.call(CoreAdminHandler.java:411)\\r\\n\\tat org.apache.solr.handler.admin.CoreAdminHandler.handleRequestBody(CoreAdminHandler.java:194)\\r\\n\\tat org.apache.solr.handler.admin.api.CreateCoreAPI.createCore(CreateCoreAPI.java:77)\\r\\n\\tat org.apache.solr.api.AnnotatedApi$Cmd.invoke(AnnotatedApi.java:310)\\r\\n\\tat org.apache.solr.api.AnnotatedApi.call(AnnotatedApi.java:218)\\r\\n\\tat org.apache.solr.api.V2HttpCall.handleAdmin(V2HttpCall.java:383)\\r\\n\\tat org.apache.solr.servlet.HttpSolrCall.handleAdminRequest(HttpSolrCall.java:893)\\r\\n\\tat org.apache.solr.servlet.HttpSolrCall.call(HttpSolrCall.java:584)\\r\\n\\tat org.apache.solr.servlet.SolrDispatchFilter.dispatch(SolrDispatchFilter.java:239)\\r\\n\\tat org.apache.solr.servlet.SolrDispatchFilter.lambda$doFilter$0(SolrDispatchFilter.java:207)\\r\\n\\tat org.apache.solr.servlet.ServletUtils.traceHttpRequestExecution2(ServletUtils.java:257)\\r\\n\\tat org.apache.solr.servlet.ServletUtils.rateLimitRequest(ServletUtils.java:227)\\r\\n\\tat org.apache.solr.servlet.SolrDispatchFilter.doFilter(SolrDispatchFilter.java:202)\\r\\n\\tat org.apache.solr.servlet.SolrDispatchFilter.doFilter(SolrDispatchFilter.java:184)\\r\\n\\tat org.eclipse.jetty.servlet.FilterHolder.doFilter(FilterHolder.java:193)\\r\\n\\tat org.eclipse.jetty.servlet.ServletHandler$Chain.doFilter(ServletHandler.java:1601)\\r\\n\\tat org.eclipse.jetty.servlets.CrossOriginFilter.handle(CrossOriginFilter.java:319)\\r\\n\\tat org.eclipse.jetty.servlets.CrossOriginFilter.doFilter(CrossOriginFilter.java:273)\\r\\n\\tat org.eclipse.jetty.servlet.FilterHolder.doFilter(FilterHolder.java:201)\\r\\n\\tat org.eclipse.jetty.servlet.ServletHandler$Chain.doFilter(ServletHandler.java:1601)\\r\\n\\tat org.eclipse.jetty.servlet.ServletHandler.doHandle(ServletHandler.java:548)\\r\\n\\tat org.eclipse.jetty.server.handler.ScopedHandler.handle(ScopedHandler.java:143)\\r\\n\\tat org.eclipse.jetty.security.SecurityHandler.handle(SecurityHandler.java:600)\\r\\n\\tat org.eclipse.jetty.server.handler.HandlerWrapper.handle(HandlerWrapper.java:127)\\r\\n\\tat org.eclipse.jetty.server.handler.ScopedHandler.nextHandle(ScopedHandler.java:235)\\r\\n\\tat org.eclipse.jetty.server.session.SessionHandler.doHandle(SessionHandler.java:1624)\\r\\n\\tat org.eclipse.jetty.server.handler.ScopedHandler.nextHandle(ScopedHandler.java:233)\\r\\n\\tat org.eclipse.jetty.server.handler.ContextHandler.doHandle(ContextHandler.java:1434)\\r\\n\\tat org.eclipse.jetty.server.handler.ScopedHandler.nextScope(ScopedHandler.java:188)\\r\\n\\tat org.eclipse.jetty.servlet.ServletHandler.doScope(ServletHandler.java:501)\\r\\n\\tat org.eclipse.jetty.server.session.SessionHandler.doScope(SessionHandler.java:1594)\\r\\n\\tat org.eclipse.jetty.server.handler.ScopedHandler.nextScope(ScopedHandler.java:186)\\r\\n\\tat org.eclipse.jetty.server.handler.ContextHandler.doScope(ContextHandler.java:1349)\\r\\n\\tat org.eclipse.jetty.server.handler.ScopedHandler.handle(ScopedHandler.java:141)\\r\\n\\tat org.eclipse.jetty.server.handler.ContextHandlerCollection.handle(ContextHandlerCollection.java:191)\\r\\n\\tat org.eclipse.jetty.server.handler.InetAccessHandler.handle(InetAccessHandler.java:177)\\r\\n\\tat org.eclipse.jetty.server.handler.HandlerCollection.handle(HandlerCollection.java:146)\\r\\n\\tat org.eclipse.jetty.server.handler.HandlerWrapper.handle(HandlerWrapper.java:127)\\r\\n\\tat org.eclipse.jetty.rewrite.handler.RewriteHandler.handle(RewriteHandler.java:322)\\r\\n\\tat org.eclipse.jetty.server.handler.gzip.GzipHandler.handle(GzipHandler.java:763)\\r\\n\\tat org.eclipse.jetty.server.handler.HandlerWrapper.handle(HandlerWrapper.java:127)\\r\\n\\tat org.eclipse.jetty.server.Server.handle(Server.java:516)\\r\\n\\tat org.eclipse.jetty.server.HttpChannel.lambda$handle$1(HttpChannel.java:400)\\r\\n\\tat org.eclipse.jetty.server.HttpChannel.dispatch(HttpChannel.java:645)\\r\\n\\tat org.eclipse.jetty.server.HttpChannel.handle(HttpChannel.java:392)\\r\\n\\tat org.eclipse.jetty.server.HttpConnection.onFillable(HttpConnection.java:277)\\r\\n\\tat org.eclipse.jetty.io.AbstractConnection$ReadCallback.succeeded(AbstractConnection.java:311)\\r\\n\\tat org.eclipse.jetty.io.FillInterest.fillable(FillInterest.java:105)\\r\\n\\tat org.eclipse.jetty.io.ChannelEndPoint$1.run(ChannelEndPoint.java:104)\\r\\n\\tat org.eclipse.jetty.util.thread.strategy.EatWhatYouKill.runTask(EatWhatYouKill.java:338)\\r\\n\\tat org.eclipse.jetty.util.thread.strategy.EatWhatYouKill.doProduce(EatWhatYouKill.java:315)\\r\\n\\tat org.eclipse.jetty.util.thread.strategy.EatWhatYouKill.tryProduce(EatWhatYouKill.java:173)\\r\\n\\tat org.eclipse.jetty.util.thread.strategy.EatWhatYouKill.produce(EatWhatYouKill.java:137)\\r\\n\\tat org.eclipse.jetty.util.thread.QueuedThreadPool.runJob(QueuedThreadPool.java:883)\\r\\n\\tat org.eclipse.jetty.util.thread.QueuedThreadPool$Runner.run(QueuedThreadPool.java:1034)\\r\\n\\tat java.base/java.lang.Thread.run(Thread.java:833)\\r\\n\",\n",
       "  'code': 500}}"
      ]
     },
     "execution_count": 4,
     "metadata": {},
     "output_type": "execute_result"
    }
   ],
   "source": [
    "solr = httpx.post(\n",
    "    f'http://localhost:8983/solr/search/update/json/docs?commit=true', json=doc)\n",
    "\n",
    "solr.status_code\n"
   ]
  }
 ],
 "metadata": {
  "kernelspec": {
   "display_name": "Python 3.10.1 64-bit",
   "language": "python",
   "name": "python3"
  },
  "language_info": {
   "codemirror_mode": {
    "name": "ipython",
    "version": 3
   },
   "file_extension": ".py",
   "mimetype": "text/x-python",
   "name": "python",
   "nbconvert_exporter": "python",
   "pygments_lexer": "ipython3",
   "version": "3.10.1"
  },
  "orig_nbformat": 4,
  "vscode": {
   "interpreter": {
    "hash": "b4cba39f77a629ec4f1316d9e8d4fef11aa6208097c7a8cc31e8e8227d97a5c0"
   }
  }
 },
 "nbformat": 4,
 "nbformat_minor": 2
}
