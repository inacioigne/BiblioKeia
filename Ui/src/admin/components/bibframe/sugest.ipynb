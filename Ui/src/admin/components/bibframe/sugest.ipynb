{
 "cells": [
  {
   "cell_type": "code",
   "execution_count": 1,
   "metadata": {},
   "outputs": [],
   "source": [
    "import httpx\n",
    "import json"
   ]
  },
  {
   "cell_type": "code",
   "execution_count": null,
   "metadata": {},
   "outputs": [],
   "source": [
    "authorities/subjects/suggest2/"
   ]
  },
  {
   "cell_type": "code",
   "execution_count": 23,
   "metadata": {},
   "outputs": [
    {
     "data": {
      "text/plain": [
       "{'q': 'Meta',\n",
       " 'count': 10,\n",
       " 'pagesize': 10,\n",
       " 'start': 1,\n",
       " 'sortmethod': 'alpha',\n",
       " 'searchtype': 'left-anchored',\n",
       " 'directory': '/authorities/subjects/',\n",
       " 'hits': [{'suggestLabel': 'Meta (African people)',\n",
       "   'uri': 'http://id.loc.gov/authorities/subjects/sh90000057',\n",
       "   'aLabel': 'Meta (African people)',\n",
       "   'vLabel': '',\n",
       "   'code': '',\n",
       "   'rank': ''},\n",
       "  {'suggestLabel': 'Meta language (Cameroon)',\n",
       "   'uri': 'http://id.loc.gov/authorities/subjects/sh2007002055',\n",
       "   'aLabel': 'Meta language (Cameroon)',\n",
       "   'vLabel': '',\n",
       "   'code': '',\n",
       "   'rank': ''},\n",
       "  {'suggestLabel': 'Meta Mountain (Italy)',\n",
       "   'uri': 'http://id.loc.gov/authorities/subjects/sh2005003182',\n",
       "   'aLabel': 'Meta Mountain (Italy)',\n",
       "   'vLabel': '',\n",
       "   'code': '',\n",
       "   'rank': ''},\n",
       "  {'suggestLabel': 'Meta Sudans (Rome, Italy)',\n",
       "   'uri': 'http://id.loc.gov/authorities/subjects/sh97004783',\n",
       "   'aLabel': 'Meta Sudans (Rome, Italy)',\n",
       "   'vLabel': '',\n",
       "   'code': '',\n",
       "   'rank': ''},\n",
       "  {'suggestLabel': 'Meta-analysis',\n",
       "   'uri': 'http://id.loc.gov/authorities/subjects/sh85084006',\n",
       "   'aLabel': 'Meta-analysis',\n",
       "   'vLabel': '',\n",
       "   'code': '',\n",
       "   'rank': ''},\n",
       "  {'suggestLabel': 'Meta-anthracite',\n",
       "   'uri': 'http://id.loc.gov/authorities/subjects/sh2005000388',\n",
       "   'aLabel': 'Meta-anthracite',\n",
       "   'vLabel': '',\n",
       "   'code': '',\n",
       "   'rank': ''},\n",
       "  {'suggestLabel': 'Meta-Contrast Technique',\n",
       "   'uri': 'http://id.loc.gov/authorities/subjects/sh2010012782',\n",
       "   'aLabel': 'Meta-Contrast Technique',\n",
       "   'vLabel': 'MCT (Meta-Contrast Technique)',\n",
       "   'code': '',\n",
       "   'rank': ''},\n",
       "  {'suggestLabel': 'Meta-harp',\n",
       "   'uri': 'http://id.loc.gov/authorities/subjects/sh2007002145',\n",
       "   'aLabel': 'Meta-harp',\n",
       "   'vLabel': '',\n",
       "   'code': '',\n",
       "   'rank': ''},\n",
       "  {'suggestLabel': 'Meta-harp music',\n",
       "   'uri': 'http://id.loc.gov/authorities/subjects/sh2007002148',\n",
       "   'aLabel': 'Meta-harp music',\n",
       "   'vLabel': '',\n",
       "   'code': '',\n",
       "   'rank': ''},\n",
       "  {'suggestLabel': 'Metabasite',\n",
       "   'uri': 'http://id.loc.gov/authorities/subjects/sh85084007',\n",
       "   'aLabel': 'Metabasite',\n",
       "   'vLabel': '',\n",
       "   'code': '',\n",
       "   'rank': ''}]}"
      ]
     },
     "execution_count": 23,
     "metadata": {},
     "output_type": "execute_result"
    }
   ],
   "source": [
    "urlBase = 'https://id.loc.gov/authorities/subjects/suggest2/'\n",
    "\n",
    "params = {\n",
    "    'q': 'Meta',\n",
    "    'offset': 1\n",
    "}\n",
    "\n",
    "names = httpx.get(urlBase, params=params)\n",
    "r = names.json()\n",
    "r"
   ]
  },
  {
   "cell_type": "code",
   "execution_count": 32,
   "metadata": {},
   "outputs": [
    {
     "data": {
      "text/plain": [
       "{'q': '',\n",
       " 'count': 1,\n",
       " 'pagesize': 10,\n",
       " 'start': 40,\n",
       " 'sortmethod': 'alpha',\n",
       " 'searchtype': 'left-anchored',\n",
       " 'directory': '/authorities/subjects/',\n",
       " 'hits': [{'suggestLabel': \"Abbadie dArrast family (USE Abbadie d'Arrast family)\",\n",
       "   'uri': 'http://id.loc.gov/authorities/subjects/sh98003585',\n",
       "   'aLabel': \"Abbadie d'Arrast family\",\n",
       "   'vLabel': 'Abbadie dArrast family',\n",
       "   'code': '',\n",
       "   'rank': ''}]}"
      ]
     },
     "execution_count": 32,
     "metadata": {},
     "output_type": "execute_result"
    }
   ],
   "source": [
    "urlBase = 'https://id.loc.gov/authorities/subjects/suggest2/'\n",
    "\n",
    "params = {\n",
    "    'q': '',\n",
    "    \"offset\": 40\n",
    "}\n",
    "\n",
    "names = httpx.get(urlBase, params=params)\n",
    "r = names.json()\n",
    "r"
   ]
  },
  {
   "cell_type": "code",
   "execution_count": 10,
   "metadata": {},
   "outputs": [
    {
     "name": "stdout",
     "output_type": "stream",
     "text": [
      "Methodology http://id.loc.gov/authorities/subjects/sh99001902\n",
      "Mental health service system reports. Series GN, Methodology http://id.loc.gov/authorities/names/no2010010393\n",
      "Methodology http://id.loc.gov/authorities/subjects/sh85084414\n",
      "Methodology & philosophy of economics http://id.loc.gov/authorities/names/n2004151149\n",
      "Methodology and history in anthropology http://id.loc.gov/authorities/names/no99024303\n",
      "Methodology and instrumentation for sampling and analysis in the verification of chemical disarmament. B, Systematic analysis of chemical warfare agents http://id.loc.gov/authorities/names/n91009771\n",
      "Methodology and instrumentation for sampling and analysis in the verification of chemical disarmament. C, Trace analysis of chemical warfare agents http://id.loc.gov/authorities/names/n86716073\n",
      "Methodology and instrumentation for sampling and analysis in the verification of chemical disarmament. D, Standard operating procedures for the verification of chemical disarmament http://id.loc.gov/authorities/names/n90612295\n",
      "Methodology and instrumentation for sampling and analysis in the verification of chemical disarmament. E, Computer-aided techniques for the verification of chemical disarmament http://id.loc.gov/authorities/names/n90612303\n",
      "Methodology and instrumentation for sampling and analysis in the verification of chemical disarmament. F, International interlaboratory comparison (round-robin) test for the verification of chemical disarmament http://id.loc.gov/authorities/names/n95102838\n"
     ]
    }
   ],
   "source": [
    "for hit in r['hits']:\n",
    "    print(hit['aLabel'], hit['uri'])"
   ]
  },
  {
   "cell_type": "code",
   "execution_count": 25,
   "metadata": {},
   "outputs": [],
   "source": [
    "url = 'https://id.loc.gov/authorities/suggest2/?q=Methodology'\n",
    "r = httpx.get(url)\n",
    "r = r.json()"
   ]
  },
  {
   "cell_type": "code",
   "execution_count": 26,
   "metadata": {},
   "outputs": [
    {
     "data": {
      "text/plain": [
       "10"
      ]
     },
     "execution_count": 26,
     "metadata": {},
     "output_type": "execute_result"
    }
   ],
   "source": [
    "r['count']"
   ]
  },
  {
   "cell_type": "code",
   "execution_count": 27,
   "metadata": {},
   "outputs": [
    {
     "data": {
      "text/plain": [
       "[{'suggestLabel': 'Methodology',\n",
       "  'uri': 'http://id.loc.gov/authorities/subjects/sh99001902',\n",
       "  'aLabel': 'Methodology',\n",
       "  'vLabel': '',\n",
       "  'code': '',\n",
       "  'rank': ''},\n",
       " {'suggestLabel': 'Methodology (USE Mental health service system reports. Series GN, Methodology)',\n",
       "  'uri': 'http://id.loc.gov/authorities/names/no2010010393',\n",
       "  'aLabel': 'Mental health service system reports. Series GN, Methodology',\n",
       "  'vLabel': 'National Institute of Mental Health (U.S.). Mental health service system reports. Series GN, Methodology',\n",
       "  'code': '',\n",
       "  'rank': ''},\n",
       " {'suggestLabel': 'Methodology',\n",
       "  'uri': 'http://id.loc.gov/authorities/subjects/sh85084414',\n",
       "  'aLabel': 'Methodology',\n",
       "  'vLabel': 'Philosophy--Methodology',\n",
       "  'code': '',\n",
       "  'rank': ''},\n",
       " {'suggestLabel': 'Methodology & philosophy of economics',\n",
       "  'uri': 'http://id.loc.gov/authorities/names/n2004151149',\n",
       "  'aLabel': 'Methodology & philosophy of economics',\n",
       "  'vLabel': '',\n",
       "  'code': '',\n",
       "  'rank': ''},\n",
       " {'suggestLabel': 'Methodology and history in anthropology',\n",
       "  'uri': 'http://id.loc.gov/authorities/names/no99024303',\n",
       "  'aLabel': 'Methodology and history in anthropology',\n",
       "  'vLabel': '',\n",
       "  'code': '',\n",
       "  'rank': ''},\n",
       " {'suggestLabel': 'Methodology and instrumentation for sampling and analysis in the verification of chemical disarmament. B, Systematic analysis of chemical warfare agents',\n",
       "  'uri': 'http://id.loc.gov/authorities/names/n91009771',\n",
       "  'aLabel': 'Methodology and instrumentation for sampling and analysis in the verification of chemical disarmament. B, Systematic analysis of chemical warfare agents',\n",
       "  'vLabel': '',\n",
       "  'code': '',\n",
       "  'rank': ''},\n",
       " {'suggestLabel': 'Methodology and instrumentation for sampling and analysis in the verification of chemical disarmament. C, Trace analysis of chemical warfare agents',\n",
       "  'uri': 'http://id.loc.gov/authorities/names/n86716073',\n",
       "  'aLabel': 'Methodology and instrumentation for sampling and analysis in the verification of chemical disarmament. C, Trace analysis of chemical warfare agents',\n",
       "  'vLabel': 'Finland. Ulkoasiainministeriö. Methodology and instrumentation for sampling and analysis in the verification of chemical disarmament. C, Trace analysis of chemical warfare agents',\n",
       "  'code': '',\n",
       "  'rank': ''},\n",
       " {'suggestLabel': 'Methodology and instrumentation for sampling and analysis in the verification of chemical disarmament. D, Standard operating procedures for the verification of chemical disarmament',\n",
       "  'uri': 'http://id.loc.gov/authorities/names/n90612295',\n",
       "  'aLabel': 'Methodology and instrumentation for sampling and analysis in the verification of chemical disarmament. D, Standard operating procedures for the verification of chemical disarmament',\n",
       "  'vLabel': 'Finland. Ulkoasiainministeriö. Methodology and instrumentation for sampling and analysis in the verification of chemical disarmament. D, Standard operating procedures for the verification of chemical disarmament',\n",
       "  'code': '',\n",
       "  'rank': ''},\n",
       " {'suggestLabel': 'Methodology and instrumentation for sampling and analysis in the verification of chemical disarmament. E, Computer-aided techniques for the verification of chemical disarmament',\n",
       "  'uri': 'http://id.loc.gov/authorities/names/n90612303',\n",
       "  'aLabel': 'Methodology and instrumentation for sampling and analysis in the verification of chemical disarmament. E, Computer-aided techniques for the verification of chemical disarmament',\n",
       "  'vLabel': 'Finland. Ulkoasiainministeriö. Methodology and instrumentation for sampling and analysis in the verification of chemical Disarmament. E, Computer-aided techniques for the verification of chemical disarmament',\n",
       "  'code': '',\n",
       "  'rank': ''},\n",
       " {'suggestLabel': 'Methodology and instrumentation for sampling and analysis in the verification of chemical disarmament. F, International interlaboratory comparison (round-robin) test for the verification of chemical disarmament',\n",
       "  'uri': 'http://id.loc.gov/authorities/names/n95102838',\n",
       "  'aLabel': 'Methodology and instrumentation for sampling and analysis in the verification of chemical disarmament. F, International interlaboratory comparison (round-robin) test for the verification of chemical disarmament',\n",
       "  'vLabel': 'Finland. Ulkoasiainministeriö. Methodology and instrumentation for sampling and analysis in the verification of chemical disarmament. F, International interlaboratory comparison (round-robin) test for the verification of chemical disarmament',\n",
       "  'code': '',\n",
       "  'rank': ''}]"
      ]
     },
     "execution_count": 27,
     "metadata": {},
     "output_type": "execute_result"
    }
   ],
   "source": [
    "r['hits']"
   ]
  },
  {
   "cell_type": "code",
   "execution_count": 9,
   "metadata": {},
   "outputs": [
    {
     "data": {
      "text/plain": [
       "dict_keys(['q', 'count', 'pagesize', 'start', 'sortmethod', 'searchtype', 'rdftype', 'directory', 'hits'])"
      ]
     },
     "execution_count": 9,
     "metadata": {},
     "output_type": "execute_result"
    }
   ],
   "source": [
    "r.keys()"
   ]
  },
  {
   "cell_type": "code",
   "execution_count": 18,
   "metadata": {},
   "outputs": [
    {
     "data": {
      "text/plain": [
       "{'suggestLabel': 'Methodology & philosophy of economics',\n",
       " 'uri': 'http://id.loc.gov/authorities/names/n2004151149',\n",
       " 'aLabel': 'Methodology & philosophy of economics',\n",
       " 'vLabel': '',\n",
       " 'code': '',\n",
       " 'rank': ''}"
      ]
     },
     "execution_count": 18,
     "metadata": {},
     "output_type": "execute_result"
    }
   ],
   "source": [
    "r['hits'][0]"
   ]
  },
  {
   "cell_type": "code",
   "execution_count": 17,
   "metadata": {},
   "outputs": [
    {
     "data": {
      "text/plain": [
       "10"
      ]
     },
     "execution_count": 17,
     "metadata": {},
     "output_type": "execute_result"
    }
   ],
   "source": [
    "len(r['hits'])"
   ]
  },
  {
   "cell_type": "code",
   "execution_count": null,
   "metadata": {},
   "outputs": [],
   "source": []
  }
 ],
 "metadata": {
  "kernelspec": {
   "display_name": "Python 3.10.4 ('venv': venv)",
   "language": "python",
   "name": "python3"
  },
  "language_info": {
   "codemirror_mode": {
    "name": "ipython",
    "version": 3
   },
   "file_extension": ".py",
   "mimetype": "text/x-python",
   "name": "python",
   "nbconvert_exporter": "python",
   "pygments_lexer": "ipython3",
   "version": "3.10.4"
  },
  "orig_nbformat": 4,
  "vscode": {
   "interpreter": {
    "hash": "7c803f0ee3b2b2cd03f94fb28d6f360d094e6843888122798203f226e128b66e"
   }
  }
 },
 "nbformat": 4,
 "nbformat_minor": 2
}
