{
 "cells": [
  {
   "cell_type": "code",
   "execution_count": 1,
   "metadata": {},
   "outputs": [],
   "source": [
    "import httpx"
   ]
  },
  {
   "cell_type": "code",
   "execution_count": 2,
   "metadata": {},
   "outputs": [],
   "source": [
    "urlBase = 'https://id.loc.gov/authorities/names/suggest2/'"
   ]
  },
  {
   "cell_type": "code",
   "execution_count": 13,
   "metadata": {},
   "outputs": [],
   "source": [
    "params = {\n",
    "    'q': 'Lotts',\n",
    "    'count': '25',\n",
    "    'blastdacache': '1665580722941',\n",
    "}"
   ]
  },
  {
   "cell_type": "code",
   "execution_count": 14,
   "metadata": {},
   "outputs": [],
   "source": [
    "r = httpx.get('https://id.loc.gov/authorities/names/suggest2/', params=params)"
   ]
  },
  {
   "cell_type": "code",
   "execution_count": 15,
   "metadata": {},
   "outputs": [
    {
     "data": {
      "text/plain": [
       "{'q': 'Lotts',\n",
       " 'count': 6,\n",
       " 'pagesize': 25,\n",
       " 'start': 1,\n",
       " 'sortmethod': 'alpha',\n",
       " 'searchtype': 'left-anchored',\n",
       " 'directory': '/authorities/names/',\n",
       " 'hits': [{'suggestLabel': 'Lotts Architecture and Urbanism Ltd.',\n",
       "   'uri': 'http://id.loc.gov/authorities/names/no2014158199',\n",
       "   'aLabel': 'Lotts Architecture and Urbanism Ltd.',\n",
       "   'vLabel': '',\n",
       "   'code': '',\n",
       "   'rank': ''},\n",
       "  {'suggestLabel': 'Lotts, A. L.',\n",
       "   'uri': 'http://id.loc.gov/authorities/names/n79069431',\n",
       "   'aLabel': 'Lotts, A. L.',\n",
       "   'vLabel': '',\n",
       "   'code': '',\n",
       "   'rank': ''},\n",
       "  {'suggestLabel': 'Lotts, Megan, 1974-',\n",
       "   'uri': 'http://id.loc.gov/authorities/names/n2021007686',\n",
       "   'aLabel': 'Lotts, Megan, 1974-',\n",
       "   'vLabel': '',\n",
       "   'code': '',\n",
       "   'rank': ''},\n",
       "  {'suggestLabel': 'Lotts, Scott J.',\n",
       "   'uri': 'http://id.loc.gov/authorities/names/n95035542',\n",
       "   'aLabel': 'Lotts, Scott J.',\n",
       "   'vLabel': '',\n",
       "   'code': '',\n",
       "   'rank': ''},\n",
       "  {'suggestLabel': 'Lottspeich, F. (Friedrich), 1947-',\n",
       "   'uri': 'http://id.loc.gov/authorities/names/n81120005',\n",
       "   'aLabel': 'Lottspeich, F. (Friedrich), 1947-',\n",
       "   'vLabel': '',\n",
       "   'code': '',\n",
       "   'rank': ''},\n",
       "  {'suggestLabel': 'Lotts, Jacob, 1760-1839 (USE Lotz, Jacob, 1760-1839)',\n",
       "   'uri': 'http://id.loc.gov/authorities/names/no95003696',\n",
       "   'aLabel': 'Lotz, Jacob, 1760-1839',\n",
       "   'vLabel': 'Lotts, Jacob, 1760-1839',\n",
       "   'code': '',\n",
       "   'rank': ''}]}"
      ]
     },
     "execution_count": 15,
     "metadata": {},
     "output_type": "execute_result"
    }
   ],
   "source": [
    "r.json()"
   ]
  }
 ],
 "metadata": {
  "kernelspec": {
   "display_name": "Python 3.10.1 ('venv': venv)",
   "language": "python",
   "name": "python3"
  },
  "language_info": {
   "codemirror_mode": {
    "name": "ipython",
    "version": 3
   },
   "file_extension": ".py",
   "mimetype": "text/x-python",
   "name": "python",
   "nbconvert_exporter": "python",
   "pygments_lexer": "ipython3",
   "version": "3.10.1"
  },
  "orig_nbformat": 4,
  "vscode": {
   "interpreter": {
    "hash": "5df21a170a08fe7c24b5b1091267edae5bad3984f1116f28e957af7dd8f192dc"
   }
  }
 },
 "nbformat": 4,
 "nbformat_minor": 2
}
