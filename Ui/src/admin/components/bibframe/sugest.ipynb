{
 "cells": [
  {
   "cell_type": "code",
   "execution_count": 1,
   "metadata": {},
   "outputs": [],
   "source": [
    "import httpx"
   ]
  },
  {
   "cell_type": "code",
   "execution_count": 2,
   "metadata": {},
   "outputs": [
    {
     "data": {
      "text/plain": [
       "<Response [200 OK]>"
      ]
     },
     "execution_count": 2,
     "metadata": {},
     "output_type": "execute_result"
    }
   ],
   "source": [
    "url = 'https://id.loc.gov/authorities/names/no97027235.json'\n",
    "r = httpx.get(url)\n",
    "r"
   ]
  },
  {
   "cell_type": "code",
   "execution_count": 11,
   "metadata": {},
   "outputs": [
    {
     "data": {
      "text/plain": [
       "<Response [200 OK]>"
      ]
     },
     "execution_count": 11,
     "metadata": {},
     "output_type": "execute_result"
    }
   ],
   "source": [
    "url = 'https://id.loc.gov/authorities/names/no97027235.madsrdf_raw.jsonld'\n",
    "r = httpx.get(url)\n",
    "r"
   ]
  },
  {
   "cell_type": "code",
   "execution_count": 12,
   "metadata": {},
   "outputs": [],
   "source": [
    "r = r.json()"
   ]
  },
  {
   "cell_type": "code",
   "execution_count": 17,
   "metadata": {},
   "outputs": [
    {
     "data": {
      "text/plain": [
       "{'@id': '_:b58iddOtlocdOtgovauthoritiesnamesno97027235',\n",
       " '@type': ['http://www.loc.gov/mads/rdf/v1#Occupation'],\n",
       " 'http://www.w3.org/2000/01/rdf-schema#label': [{'@value': '(lcsh) Anthropologists'}]}"
      ]
     },
     "execution_count": 17,
     "metadata": {},
     "output_type": "execute_result"
    }
   ],
   "source": [
    "r[3]"
   ]
  },
  {
   "cell_type": "code",
   "execution_count": 2,
   "metadata": {},
   "outputs": [],
   "source": [
    "urlBase = 'https://id.loc.gov/authorities/names/suggest2/'"
   ]
  },
  {
   "cell_type": "code",
   "execution_count": 13,
   "metadata": {},
   "outputs": [],
   "source": [
    "params = {\n",
    "    'q': 'Lotts',\n",
    "    'count': '25',\n",
    "    'blastdacache': '1665580722941',\n",
    "}"
   ]
  },
  {
   "cell_type": "code",
   "execution_count": 14,
   "metadata": {},
   "outputs": [],
   "source": [
    "r = httpx.get('https://id.loc.gov/authorities/names/suggest2/', params=params)"
   ]
  },
  {
   "cell_type": "code",
   "execution_count": 18,
   "metadata": {},
   "outputs": [],
   "source": [
    "from rdflib import Graph"
   ]
  },
  {
   "cell_type": "code",
   "execution_count": 23,
   "metadata": {},
   "outputs": [
    {
     "data": {
      "text/plain": [
       "<Graph identifier=Nafb74999e4364dbda600d88be54d3f35 (<class 'rdflib.graph.Graph'>)>"
      ]
     },
     "execution_count": 23,
     "metadata": {},
     "output_type": "execute_result"
    }
   ],
   "source": [
    "g = Graph()\n",
    "g.parse(\"https://id.loc.gov/authorities/names/no97027235.madsrdf_raw.jsonld\")"
   ]
  },
  {
   "cell_type": "code",
   "execution_count": 24,
   "metadata": {},
   "outputs": [
    {
     "name": "stdout",
     "output_type": "stream",
     "text": [
      "(rdflib.term.BNode('b66iddOtlocdOtgovauthoritiesnamesno97027235'), rdflib.term.URIRef('http://www.w3.org/1999/02/22-rdf-syntax-ns#type'), rdflib.term.URIRef('http://www.loc.gov/mads/rdf/v1#Occupation'))\n",
      "(rdflib.term.BNode('b75iddOtlocdOtgovauthoritiesnamesno97027235'), rdflib.term.URIRef('http://www.w3.org/1999/02/22-rdf-syntax-ns#type'), rdflib.term.URIRef('http://www.loc.gov/mads/rdf/v1#CorporateName'))\n",
      "(rdflib.term.BNode('b20iddOtlocdOtgovauthoritiesnamesno97027235'), rdflib.term.URIRef('http://www.w3.org/2000/01/rdf-schema#label'), rdflib.term.Literal('(edtf) 1961-02-12'))\n",
      "(rdflib.term.URIRef('http://id.loc.gov/rwo/agents/no97027235'), rdflib.term.URIRef('http://www.loc.gov/mads/rdf/v1#fieldOfActivity'), rdflib.term.BNode('b36iddOtlocdOtgovauthoritiesnamesno97027235'))\n",
      "(rdflib.term.URIRef('http://id.loc.gov/rwo/agents/no97027235'), rdflib.term.URIRef('http://www.loc.gov/mads/rdf/v1#occupation'), rdflib.term.BNode('b66iddOtlocdOtgovauthoritiesnamesno97027235'))\n",
      "(rdflib.term.BNode('b40iddOtlocdOtgovauthoritiesnamesno97027235'), rdflib.term.URIRef('http://www.w3.org/1999/02/22-rdf-syntax-ns#type'), rdflib.term.URIRef('http://www.w3.org/2004/02/skos/core#Concept'))\n",
      "(rdflib.term.BNode('b81iddOtlocdOtgovauthoritiesnamesno97027235'), rdflib.term.URIRef('http://www.w3.org/1999/02/22-rdf-syntax-ns#type'), rdflib.term.URIRef('http://www.loc.gov/mads/rdf/v1#NameElement'))\n",
      "(rdflib.term.BNode('b110iddOtlocdOtgovauthoritiesnamesno97027235'), rdflib.term.URIRef('http://www.loc.gov/mads/rdf/v1#citationNote'), rdflib.term.Literal('(David Graeber ; died in a Venice hospital on Wednesday [09/02/2020] at 59 ; anarchist and author of bestselling books on capitalism and bureaucracy ; anthropologist and anarchist author of bestselling books on bureaucracy and economics)'))\n",
      "(rdflib.term.URIRef('http://id.loc.gov/authorities/names/no97027235'), rdflib.term.URIRef('http://www.loc.gov/mads/rdf/v1#isMemberOfMADSCollection'), rdflib.term.URIRef('http://id.loc.gov/authorities/names/collection_LCNAF'))\n",
      "(rdflib.term.BNode('b110iddOtlocdOtgovauthoritiesnamesno97027235'), rdflib.term.URIRef('http://www.w3.org/1999/02/22-rdf-syntax-ns#type'), rdflib.term.URIRef('http://www.loc.gov/mads/rdf/v1#Source'))\n",
      "(rdflib.term.URIRef('http://id.loc.gov/rwo/agents/no97027235'), rdflib.term.URIRef('http://www.w3.org/2000/01/rdf-schema#label'), rdflib.term.Literal('Graeber, David'))\n",
      "(rdflib.term.BNode('b44iddOtlocdOtgovauthoritiesnamesno97027235'), rdflib.term.URIRef('http://www.w3.org/2000/01/rdf-schema#label'), rdflib.term.Literal('(lcsh) Ethnology'))\n",
      "(rdflib.term.BNode('b40iddOtlocdOtgovauthoritiesnamesno97027235'), rdflib.term.URIRef('http://www.w3.org/2000/01/rdf-schema#label'), rdflib.term.Literal('(lcsh) Economic anthropology'))\n",
      "(rdflib.term.URIRef('http://id.loc.gov/authorities/names/no97027235'), rdflib.term.URIRef('http://www.loc.gov/mads/rdf/v1#isMemberOfMADSCollection'), rdflib.term.URIRef('http://id.loc.gov/authorities/names/collection_NamesAuthorizedHeadings'))\n",
      "(rdflib.term.BNode('b131iddOtlocdOtgovauthoritiesnamesno97027235'), rdflib.term.URIRef('http://id.loc.gov/ontologies/RecordInfo#languageOfCataloging'), rdflib.term.URIRef('http://id.loc.gov/vocabulary/iso639-2/eng'))\n",
      "(rdflib.term.BNode('b139iddOtlocdOtgovauthoritiesnamesno97027235'), rdflib.term.URIRef('http://id.loc.gov/ontologies/RecordInfo#recordContentSource'), rdflib.term.URIRef('http://id.loc.gov/vocabulary/organizations/gvas'))\n",
      "(rdflib.term.URIRef('http://id.loc.gov/rwo/agents/no97027235'), rdflib.term.URIRef('http://www.loc.gov/mads/rdf/v1#occupation'), rdflib.term.BNode('b58iddOtlocdOtgovauthoritiesnamesno97027235'))\n",
      "(rdflib.term.URIRef('http://id.loc.gov/authorities/names/no97027235'), rdflib.term.URIRef('http://www.loc.gov/mads/rdf/v1#hasSource'), rdflib.term.BNode('b119iddOtlocdOtgovauthoritiesnamesno97027235'))\n",
      "(rdflib.term.BNode('b8iddOtlocdOtgovauthoritiesnamesno97027235'), rdflib.term.URIRef('http://www.loc.gov/mads/rdf/v1#elementValue'), rdflib.term.Literal('Graeber, David'))\n",
      "(rdflib.term.URIRef('http://id.loc.gov/authorities/names/no97027235'), rdflib.term.URIRef('http://www.loc.gov/mads/rdf/v1#isMemberOfMADSScheme'), rdflib.term.URIRef('http://id.loc.gov/authorities/names'))\n",
      "(rdflib.term.BNode('b85iddOtlocdOtgovauthoritiesnamesno97027235'), rdflib.term.URIRef('http://www.loc.gov/mads/rdf/v1#citationSource'), rdflib.term.Literal('Graeber, David. The disastrous ordeal of 1987, 1996:'))\n",
      "(rdflib.term.URIRef('http://id.loc.gov/authorities/names/no97027235'), rdflib.term.URIRef('http://id.loc.gov/vocabulary/identifiers/local'), rdflib.term.Literal('(OCoLC)oca04330968'))\n",
      "(rdflib.term.BNode('b24iddOtlocdOtgovauthoritiesnamesno97027235'), rdflib.term.URIRef('http://www.w3.org/2000/01/rdf-schema#label'), rdflib.term.Literal('(edtf) 2020-09-02'))\n",
      "(rdflib.term.URIRef('http://id.loc.gov/authorities/names/no97027235'), rdflib.term.URIRef('http://www.loc.gov/mads/rdf/v1#elementList'), rdflib.term.BNode('N63a90078da6b41bf8b066ea4b01b2f63'))\n",
      "(rdflib.term.BNode('b119iddOtlocdOtgovauthoritiesnamesno97027235'), rdflib.term.URIRef('http://www.loc.gov/mads/rdf/v1#citationSource'), rdflib.term.Literal('Canadiana, May 27, 2021'))\n",
      "(rdflib.term.BNode('b28iddOtlocdOtgovauthoritiesnamesno97027235'), rdflib.term.URIRef('http://www.w3.org/1999/02/22-rdf-syntax-ns#type'), rdflib.term.URIRef('http://www.loc.gov/mads/rdf/v1#Geographic'))\n",
      "(rdflib.term.URIRef('http://id.loc.gov/authorities/names/no97027235'), rdflib.term.URIRef('http://www.loc.gov/mads/rdf/v1#hasSource'), rdflib.term.BNode('b110iddOtlocdOtgovauthoritiesnamesno97027235'))\n",
      "(rdflib.term.BNode('b54iddOtlocdOtgovauthoritiesnamesno97027235'), rdflib.term.URIRef('http://www.w3.org/1999/02/22-rdf-syntax-ns#type'), rdflib.term.URIRef('http://www.loc.gov/mads/rdf/v1#Occupation'))\n",
      "(rdflib.term.URIRef('http://id.loc.gov/authorities/names/no97027235'), rdflib.term.URIRef('http://www.loc.gov/mads/rdf/v1#adminMetadata'), rdflib.term.BNode('b131iddOtlocdOtgovauthoritiesnamesno97027235'))\n",
      "(rdflib.term.URIRef('http://id.loc.gov/authorities/names/no97027235'), rdflib.term.URIRef('http://www.loc.gov/mads/rdf/v1#hasSource'), rdflib.term.BNode('b101iddOtlocdOtgovauthoritiesnamesno97027235'))\n",
      "(rdflib.term.BNode('b75iddOtlocdOtgovauthoritiesnamesno97027235'), rdflib.term.URIRef('http://www.loc.gov/mads/rdf/v1#authoritativeLabel'), rdflib.term.Literal('London School of Economics and Political Science'))\n",
      "(rdflib.term.BNode('b28iddOtlocdOtgovauthoritiesnamesno97027235'), rdflib.term.URIRef('http://www.w3.org/2000/01/rdf-schema#label'), rdflib.term.Literal('(naf) United States'))\n",
      "(rdflib.term.BNode('b24iddOtlocdOtgovauthoritiesnamesno97027235'), rdflib.term.URIRef('http://www.w3.org/1999/02/22-rdf-syntax-ns#type'), rdflib.term.URIRef('http://www.w3.org/2004/02/skos/core#Concept'))\n",
      "(rdflib.term.BNode('b20iddOtlocdOtgovauthoritiesnamesno97027235'), rdflib.term.URIRef('http://www.w3.org/1999/02/22-rdf-syntax-ns#type'), rdflib.term.URIRef('http://www.w3.org/2004/02/skos/core#Concept'))\n",
      "(rdflib.term.BNode('b85iddOtlocdOtgovauthoritiesnamesno97027235'), rdflib.term.URIRef('http://www.loc.gov/mads/rdf/v1#citationNote'), rdflib.term.Literal('title page (David Graeber)'))\n",
      "(rdflib.term.URIRef('http://id.loc.gov/authorities/names/no97027235'), rdflib.term.URIRef('http://www.loc.gov/mads/rdf/v1#adminMetadata'), rdflib.term.BNode('b139iddOtlocdOtgovauthoritiesnamesno97027235'))\n",
      "(rdflib.term.BNode('b50iddOtlocdOtgovauthoritiesnamesno97027235'), rdflib.term.URIRef('http://www.w3.org/2000/01/rdf-schema#label'), rdflib.term.Literal('(naf) London School of Economics and Political Science'))\n",
      "(rdflib.term.BNode('b58iddOtlocdOtgovauthoritiesnamesno97027235'), rdflib.term.URIRef('http://www.w3.org/2000/01/rdf-schema#label'), rdflib.term.Literal('(lcsh) Anthropologists'))\n",
      "(rdflib.term.BNode('b85iddOtlocdOtgovauthoritiesnamesno97027235'), rdflib.term.URIRef('http://www.w3.org/1999/02/22-rdf-syntax-ns#type'), rdflib.term.URIRef('http://www.loc.gov/mads/rdf/v1#Source'))\n",
      "(rdflib.term.BNode('b36iddOtlocdOtgovauthoritiesnamesno97027235'), rdflib.term.URIRef('http://www.w3.org/1999/02/22-rdf-syntax-ns#type'), rdflib.term.URIRef('http://www.w3.org/2004/02/skos/core#Concept'))\n",
      "(rdflib.term.BNode('b50iddOtlocdOtgovauthoritiesnamesno97027235'), rdflib.term.URIRef('http://www.w3.org/1999/02/22-rdf-syntax-ns#type'), rdflib.term.URIRef('http://www.loc.gov/mads/rdf/v1#Organization'))\n",
      "(rdflib.term.URIRef('http://id.loc.gov/authorities/names/no97027235'), rdflib.term.URIRef('http://www.loc.gov/mads/rdf/v1#identifiesRWO'), rdflib.term.URIRef('http://id.loc.gov/rwo/agents/no97027235'))\n",
      "(rdflib.term.BNode('b93iddOtlocdOtgovauthoritiesnamesno97027235'), rdflib.term.URIRef('http://www.loc.gov/mads/rdf/v1#citationNote'), rdflib.term.Literal('title page (David Graeber)'))\n",
      "(rdflib.term.BNode('b71iddOtlocdOtgovauthoritiesnamesno97027235'), rdflib.term.URIRef('http://www.w3.org/1999/02/22-rdf-syntax-ns#type'), rdflib.term.URIRef('http://www.loc.gov/mads/rdf/v1#PersonalName'))\n",
      "(rdflib.term.URIRef('http://id.loc.gov/rwo/agents/no97027235'), rdflib.term.URIRef('http://www.w3.org/1999/02/22-rdf-syntax-ns#type'), rdflib.term.URIRef('http://xmlns.com/foaf/0.1/Person'))\n",
      "(rdflib.term.BNode('N02642057aa554a549068b8c959673732'), rdflib.term.URIRef('http://www.w3.org/1999/02/22-rdf-syntax-ns#rest'), rdflib.term.URIRef('http://www.w3.org/1999/02/22-rdf-syntax-ns#nil'))\n",
      "(rdflib.term.URIRef('http://id.loc.gov/rwo/agents/no97027235'), rdflib.term.URIRef('http://www.loc.gov/mads/rdf/v1#associatedLocale'), rdflib.term.BNode('b28iddOtlocdOtgovauthoritiesnamesno97027235'))\n",
      "(rdflib.term.URIRef('http://id.loc.gov/rwo/agents/no97027235'), rdflib.term.URIRef('http://www.loc.gov/mads/rdf/v1#hasAffiliation'), rdflib.term.BNode('b48iddOtlocdOtgovauthoritiesnamesno97027235'))\n",
      "(rdflib.term.BNode('b131iddOtlocdOtgovauthoritiesnamesno97027235'), rdflib.term.URIRef('http://www.w3.org/1999/02/22-rdf-syntax-ns#type'), rdflib.term.URIRef('http://id.loc.gov/ontologies/RecordInfo#RecordInfo'))\n",
      "(rdflib.term.URIRef('http://id.loc.gov/authorities/names/no97027235'), rdflib.term.URIRef('http://www.w3.org/1999/02/22-rdf-syntax-ns#type'), rdflib.term.URIRef('http://www.loc.gov/mads/rdf/v1#PersonalName'))\n",
      "(rdflib.term.BNode('b36iddOtlocdOtgovauthoritiesnamesno97027235'), rdflib.term.URIRef('http://www.w3.org/2000/01/rdf-schema#label'), rdflib.term.Literal('(lcsh) Education, Higher'))\n",
      "(rdflib.term.BNode('b48iddOtlocdOtgovauthoritiesnamesno97027235'), rdflib.term.URIRef('http://www.loc.gov/mads/rdf/v1#organization'), rdflib.term.BNode('b50iddOtlocdOtgovauthoritiesnamesno97027235'))\n",
      "(rdflib.term.BNode('b139iddOtlocdOtgovauthoritiesnamesno97027235'), rdflib.term.URIRef('http://id.loc.gov/ontologies/RecordInfo#recordStatus'), rdflib.term.Literal('revised', datatype=rdflib.term.URIRef('http://www.w3.org/2001/XMLSchema#string')))\n",
      "(rdflib.term.URIRef('http://id.loc.gov/rwo/agents/no97027235'), rdflib.term.URIRef('http://www.w3.org/1999/02/22-rdf-syntax-ns#type'), rdflib.term.URIRef('http://id.loc.gov/ontologies/bibframe/Person'))\n",
      "(rdflib.term.BNode('b58iddOtlocdOtgovauthoritiesnamesno97027235'), rdflib.term.URIRef('http://www.w3.org/1999/02/22-rdf-syntax-ns#type'), rdflib.term.URIRef('http://www.loc.gov/mads/rdf/v1#Occupation'))\n",
      "(rdflib.term.BNode('b48iddOtlocdOtgovauthoritiesnamesno97027235'), rdflib.term.URIRef('http://www.w3.org/1999/02/22-rdf-syntax-ns#type'), rdflib.term.URIRef('http://www.loc.gov/mads/rdf/v1#Affiliation'))\n",
      "(rdflib.term.URIRef('http://id.loc.gov/rwo/agents/no97027235'), rdflib.term.URIRef('http://www.loc.gov/mads/rdf/v1#occupation'), rdflib.term.BNode('b62iddOtlocdOtgovauthoritiesnamesno97027235'))\n",
      "(rdflib.term.BNode('b85iddOtlocdOtgovauthoritiesnamesno97027235'), rdflib.term.URIRef('http://www.loc.gov/mads/rdf/v1#citationStatus'), rdflib.term.Literal('found'))\n",
      "(rdflib.term.URIRef('http://id.loc.gov/rwo/agents/no97027235'), rdflib.term.URIRef('http://www.loc.gov/mads/rdf/v1#fieldOfActivity'), rdflib.term.BNode('b44iddOtlocdOtgovauthoritiesnamesno97027235'))\n",
      "(rdflib.term.BNode('b101iddOtlocdOtgovauthoritiesnamesno97027235'), rdflib.term.URIRef('http://www.loc.gov/mads/rdf/v1#citationSource'), rdflib.term.URIRef('https://en.wikipedia.org/wiki/David_Graeber'))\n",
      "(rdflib.term.BNode('b110iddOtlocdOtgovauthoritiesnamesno97027235'), rdflib.term.URIRef('http://www.loc.gov/mads/rdf/v1#citationSource'), rdflib.term.Literal('Guardian, viewed September 4, 2020'))\n",
      "(rdflib.term.BNode('b32iddOtlocdOtgovauthoritiesnamesno97027235'), rdflib.term.URIRef('http://www.w3.org/2000/01/rdf-schema#label'), rdflib.term.Literal('(naf) London (England)'))\n",
      "(rdflib.term.URIRef('http://id.loc.gov/authorities/names/no97027235'), rdflib.term.URIRef('http://id.loc.gov/vocabulary/identifiers/lccn'), rdflib.term.Literal('no 97027235'))\n",
      "(rdflib.term.BNode('b101iddOtlocdOtgovauthoritiesnamesno97027235'), rdflib.term.URIRef('http://www.loc.gov/mads/rdf/v1#citationStatus'), rdflib.term.Literal('found'))\n",
      "(rdflib.term.URIRef('http://id.loc.gov/authorities/names/no97027235'), rdflib.term.URIRef('http://www.loc.gov/mads/rdf/v1#hasSource'), rdflib.term.BNode('b93iddOtlocdOtgovauthoritiesnamesno97027235'))\n",
      "(rdflib.term.BNode('b93iddOtlocdOtgovauthoritiesnamesno97027235'), rdflib.term.URIRef('http://www.loc.gov/mads/rdf/v1#citationStatus'), rdflib.term.Literal('found'))\n",
      "(rdflib.term.BNode('N63a90078da6b41bf8b066ea4b01b2f63'), rdflib.term.URIRef('http://www.w3.org/1999/02/22-rdf-syntax-ns#first'), rdflib.term.BNode('b8iddOtlocdOtgovauthoritiesnamesno97027235'))\n",
      "(rdflib.term.BNode('b119iddOtlocdOtgovauthoritiesnamesno97027235'), rdflib.term.URIRef('http://www.w3.org/1999/02/22-rdf-syntax-ns#type'), rdflib.term.URIRef('http://www.loc.gov/mads/rdf/v1#Source'))\n",
      "(rdflib.term.BNode('b44iddOtlocdOtgovauthoritiesnamesno97027235'), rdflib.term.URIRef('http://www.w3.org/1999/02/22-rdf-syntax-ns#type'), rdflib.term.URIRef('http://www.w3.org/2004/02/skos/core#Concept'))\n",
      "(rdflib.term.BNode('b75iddOtlocdOtgovauthoritiesnamesno97027235'), rdflib.term.URIRef('http://www.loc.gov/mads/rdf/v1#elementList'), rdflib.term.BNode('N02642057aa554a549068b8c959673732'))\n",
      "(rdflib.term.BNode('b62iddOtlocdOtgovauthoritiesnamesno97027235'), rdflib.term.URIRef('http://www.w3.org/1999/02/22-rdf-syntax-ns#type'), rdflib.term.URIRef('http://www.loc.gov/mads/rdf/v1#Occupation'))\n",
      "(rdflib.term.URIRef('http://id.loc.gov/authorities/names/no97027235'), rdflib.term.URIRef('http://www.loc.gov/mads/rdf/v1#hasSource'), rdflib.term.BNode('b85iddOtlocdOtgovauthoritiesnamesno97027235'))\n",
      "(rdflib.term.BNode('b75iddOtlocdOtgovauthoritiesnamesno97027235'), rdflib.term.URIRef('http://www.w3.org/1999/02/22-rdf-syntax-ns#type'), rdflib.term.URIRef('http://www.loc.gov/mads/rdf/v1#Authority'))\n",
      "(rdflib.term.URIRef('http://id.loc.gov/authorities/names/no97027235'), rdflib.term.URIRef('http://www.w3.org/1999/02/22-rdf-syntax-ns#type'), rdflib.term.URIRef('http://www.loc.gov/mads/rdf/v1#Authority'))\n",
      "(rdflib.term.URIRef('http://id.loc.gov/rwo/agents/no97027235'), rdflib.term.URIRef('http://www.loc.gov/mads/rdf/v1#associatedLocale'), rdflib.term.BNode('b32iddOtlocdOtgovauthoritiesnamesno97027235'))\n",
      "(rdflib.term.URIRef('http://id.loc.gov/authorities/names/no97027235'), rdflib.term.URIRef('http://www.loc.gov/mads/rdf/v1#authoritativeLabel'), rdflib.term.Literal('Graeber, David'))\n",
      "(rdflib.term.BNode('b131iddOtlocdOtgovauthoritiesnamesno97027235'), rdflib.term.URIRef('http://id.loc.gov/ontologies/RecordInfo#recordContentSource'), rdflib.term.URIRef('http://id.loc.gov/vocabulary/organizations/ien'))\n",
      "(rdflib.term.BNode('b110iddOtlocdOtgovauthoritiesnamesno97027235'), rdflib.term.URIRef('http://www.loc.gov/mads/rdf/v1#citationStatus'), rdflib.term.Literal('found'))\n",
      "(rdflib.term.BNode('b139iddOtlocdOtgovauthoritiesnamesno97027235'), rdflib.term.URIRef('http://www.w3.org/1999/02/22-rdf-syntax-ns#type'), rdflib.term.URIRef('http://id.loc.gov/ontologies/RecordInfo#RecordInfo'))\n",
      "(rdflib.term.URIRef('http://id.loc.gov/rwo/agents/no97027235'), rdflib.term.URIRef('http://www.w3.org/1999/02/22-rdf-syntax-ns#type'), rdflib.term.URIRef('http://www.loc.gov/mads/rdf/v1#RWO'))\n",
      "(rdflib.term.BNode('b62iddOtlocdOtgovauthoritiesnamesno97027235'), rdflib.term.URIRef('http://www.w3.org/2000/01/rdf-schema#label'), rdflib.term.Literal('(lcsh) Anarchists'))\n",
      "(rdflib.term.BNode('b139iddOtlocdOtgovauthoritiesnamesno97027235'), rdflib.term.URIRef('http://id.loc.gov/ontologies/RecordInfo#recordChangeDate'), rdflib.term.Literal('2022-05-04T06:45:56', datatype=rdflib.term.URIRef('http://www.w3.org/2001/XMLSchema#dateTime')))\n",
      "(rdflib.term.BNode('b81iddOtlocdOtgovauthoritiesnamesno97027235'), rdflib.term.URIRef('http://www.loc.gov/mads/rdf/v1#elementValue'), rdflib.term.Literal('London School of Economics and Political Science'))\n",
      "(rdflib.term.BNode('b101iddOtlocdOtgovauthoritiesnamesno97027235'), rdflib.term.URIRef('http://www.loc.gov/mads/rdf/v1#citationNote'), rdflib.term.Literal('(David Rolfe Graeber, born 12 February 1961; Residence: London, England; He is Professor of Anthropology at the London School of Economics)'))\n",
      "(rdflib.term.BNode('b139iddOtlocdOtgovauthoritiesnamesno97027235'), rdflib.term.URIRef('http://id.loc.gov/ontologies/RecordInfo#languageOfCataloging'), rdflib.term.URIRef('http://id.loc.gov/vocabulary/iso639-2/eng'))\n",
      "(rdflib.term.URIRef('http://id.loc.gov/authorities/names/no97027235'), rdflib.term.URIRef('http://www.loc.gov/mads/rdf/v1#fullerName'), rdflib.term.BNode('b71iddOtlocdOtgovauthoritiesnamesno97027235'))\n",
      "(rdflib.term.BNode('b32iddOtlocdOtgovauthoritiesnamesno97027235'), rdflib.term.URIRef('http://www.w3.org/1999/02/22-rdf-syntax-ns#type'), rdflib.term.URIRef('http://www.loc.gov/mads/rdf/v1#Geographic'))\n",
      "(rdflib.term.URIRef('http://id.loc.gov/rwo/agents/no97027235'), rdflib.term.URIRef('http://www.loc.gov/mads/rdf/v1#fieldOfActivity'), rdflib.term.BNode('b40iddOtlocdOtgovauthoritiesnamesno97027235'))\n",
      "(rdflib.term.BNode('b119iddOtlocdOtgovauthoritiesnamesno97027235'), rdflib.term.URIRef('http://www.loc.gov/mads/rdf/v1#citationStatus'), rdflib.term.Literal('found'))\n",
      "(rdflib.term.BNode('b93iddOtlocdOtgovauthoritiesnamesno97027235'), rdflib.term.URIRef('http://www.loc.gov/mads/rdf/v1#citationSource'), rdflib.term.Literal('The utopia of rules, 2015:'))\n",
      "(rdflib.term.BNode('b131iddOtlocdOtgovauthoritiesnamesno97027235'), rdflib.term.URIRef('http://id.loc.gov/ontologies/RecordInfo#recordChangeDate'), rdflib.term.Literal('1997-05-01T00:00:00', datatype=rdflib.term.URIRef('http://www.w3.org/2001/XMLSchema#dateTime')))\n",
      "(rdflib.term.BNode('N02642057aa554a549068b8c959673732'), rdflib.term.URIRef('http://www.w3.org/1999/02/22-rdf-syntax-ns#first'), rdflib.term.BNode('b81iddOtlocdOtgovauthoritiesnamesno97027235'))\n",
      "(rdflib.term.URIRef('http://id.loc.gov/authorities/names/no97027235'), rdflib.term.URIRef('http://www.loc.gov/mads/rdf/v1#hasRelatedAuthority'), rdflib.term.BNode('b75iddOtlocdOtgovauthoritiesnamesno97027235'))\n",
      "(rdflib.term.BNode('b66iddOtlocdOtgovauthoritiesnamesno97027235'), rdflib.term.URIRef('http://www.w3.org/2000/01/rdf-schema#label'), rdflib.term.Literal('(lcsh) Authors'))\n",
      "(rdflib.term.BNode('b101iddOtlocdOtgovauthoritiesnamesno97027235'), rdflib.term.URIRef('http://www.w3.org/1999/02/22-rdf-syntax-ns#type'), rdflib.term.URIRef('http://www.loc.gov/mads/rdf/v1#Source'))\n",
      "(rdflib.term.URIRef('http://id.loc.gov/rwo/agents/no97027235'), rdflib.term.URIRef('http://www.loc.gov/mads/rdf/v1#occupation'), rdflib.term.BNode('b54iddOtlocdOtgovauthoritiesnamesno97027235'))\n",
      "(rdflib.term.BNode('b93iddOtlocdOtgovauthoritiesnamesno97027235'), rdflib.term.URIRef('http://www.w3.org/1999/02/22-rdf-syntax-ns#type'), rdflib.term.URIRef('http://www.loc.gov/mads/rdf/v1#Source'))\n",
      "(rdflib.term.BNode('b8iddOtlocdOtgovauthoritiesnamesno97027235'), rdflib.term.URIRef('http://www.w3.org/1999/02/22-rdf-syntax-ns#type'), rdflib.term.URIRef('http://www.loc.gov/mads/rdf/v1#FullNameElement'))\n",
      "(rdflib.term.URIRef('http://id.loc.gov/rwo/agents/no97027235'), rdflib.term.URIRef('http://www.loc.gov/mads/rdf/v1#deathDate'), rdflib.term.BNode('b24iddOtlocdOtgovauthoritiesnamesno97027235'))\n",
      "(rdflib.term.URIRef('http://id.loc.gov/rwo/agents/no97027235'), rdflib.term.URIRef('http://www.loc.gov/mads/rdf/v1#birthDate'), rdflib.term.BNode('b20iddOtlocdOtgovauthoritiesnamesno97027235'))\n",
      "(rdflib.term.BNode('b101iddOtlocdOtgovauthoritiesnamesno97027235'), rdflib.term.URIRef('http://www.loc.gov/mads/rdf/v1#citationSource'), rdflib.term.Literal('Wikipedia, viewed August 10, 2015'))\n",
      "(rdflib.term.BNode('b71iddOtlocdOtgovauthoritiesnamesno97027235'), rdflib.term.URIRef('http://www.w3.org/2000/01/rdf-schema#label'), rdflib.term.Literal('David Rolfe'))\n",
      "(rdflib.term.BNode('b131iddOtlocdOtgovauthoritiesnamesno97027235'), rdflib.term.URIRef('http://id.loc.gov/ontologies/RecordInfo#recordStatus'), rdflib.term.Literal('new', datatype=rdflib.term.URIRef('http://www.w3.org/2001/XMLSchema#string')))\n",
      "(rdflib.term.BNode('b110iddOtlocdOtgovauthoritiesnamesno97027235'), rdflib.term.URIRef('http://www.loc.gov/mads/rdf/v1#citationSource'), rdflib.term.URIRef('https://www.theguardian.com/books/2020/sep/03/david-graeber-anthropologist-and-author-of-bullshit-jobs-dies-aged-59'))\n",
      "(rdflib.term.BNode('b54iddOtlocdOtgovauthoritiesnamesno97027235'), rdflib.term.URIRef('http://www.w3.org/2000/01/rdf-schema#label'), rdflib.term.Literal('(lcsh) College teachers'))\n",
      "(rdflib.term.BNode('b119iddOtlocdOtgovauthoritiesnamesno97027235'), rdflib.term.URIRef('http://www.loc.gov/mads/rdf/v1#citationNote'), rdflib.term.Literal('(access point: Graeber, David)'))\n",
      "(rdflib.term.URIRef('http://id.loc.gov/rwo/agents/no97027235'), rdflib.term.URIRef('http://www.loc.gov/mads/rdf/v1#associatedLanguage'), rdflib.term.URIRef('http://id.loc.gov/vocabulary/languages/eng'))\n",
      "(rdflib.term.BNode('N63a90078da6b41bf8b066ea4b01b2f63'), rdflib.term.URIRef('http://www.w3.org/1999/02/22-rdf-syntax-ns#rest'), rdflib.term.URIRef('http://www.w3.org/1999/02/22-rdf-syntax-ns#nil'))\n",
      "(rdflib.term.URIRef('http://id.loc.gov/authorities/names/no97027235'), rdflib.term.URIRef('http://www.loc.gov/mads/rdf/v1#hasExactExternalAuthority'), rdflib.term.URIRef('http://viaf.org/viaf/sourceID/LC%7Cno+97027235#skos:Concept'))\n"
     ]
    }
   ],
   "source": [
    "for i in g:\n",
    "    print(i)"
   ]
  }
 ],
 "metadata": {
  "kernelspec": {
   "display_name": "Python 3.10.4 ('venv': venv)",
   "language": "python",
   "name": "python3"
  },
  "language_info": {
   "codemirror_mode": {
    "name": "ipython",
    "version": 3
   },
   "file_extension": ".py",
   "mimetype": "text/x-python",
   "name": "python",
   "nbconvert_exporter": "python",
   "pygments_lexer": "ipython3",
   "version": "3.10.4"
  },
  "orig_nbformat": 4,
  "vscode": {
   "interpreter": {
    "hash": "7c803f0ee3b2b2cd03f94fb28d6f360d094e6843888122798203f226e128b66e"
   }
  }
 },
 "nbformat": 4,
 "nbformat_minor": 2
}
