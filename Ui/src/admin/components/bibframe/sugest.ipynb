{
 "cells": [
  {
   "cell_type": "code",
   "execution_count": 2,
   "metadata": {},
   "outputs": [],
   "source": [
    "import httpx\n",
    "from pyld import jsonld\n",
    "import json"
   ]
  },
  {
   "cell_type": "code",
   "execution_count": 3,
   "metadata": {},
   "outputs": [],
   "source": [
    "doc = {\n",
    "    \"http://schema.org/name\": \"Manu Sporny\",\n",
    "    \"http://schema.org/url\": {\"@id\": \"http://manu.sporny.org/\"},\n",
    "    \"http://schema.org/image\": {\"@id\": \"http://manu.sporny.org/images/manu.png\"}\n",
    "}\n",
    "\n",
    "context = {\n",
    "    \"name\": \"http://schema.org/name\",\n",
    "    \"homepage\": {\"@id\": \"http://schema.org/url\", \"@type\": \"@id\"},\n",
    "    \"image\": {\"@id\": \"http://schema.org/image\", \"@type\": \"@id\"}\n",
    "}"
   ]
  },
  {
   "cell_type": "code",
   "execution_count": 38,
   "metadata": {},
   "outputs": [
    {
     "data": {
      "text/plain": [
       "{'@context': {'name': 'http://schema.org/name',\n",
       "  'homepage': {'@id': 'http://schema.org/url', '@type': '@id'},\n",
       "  'image': {'@id': 'http://schema.org/image', '@type': '@id'}},\n",
       " 'image': 'http://manu.sporny.org/images/manu.png',\n",
       " 'name': 'Manu Sporny',\n",
       " 'homepage': 'http://manu.sporny.org/'}"
      ]
     },
     "execution_count": 38,
     "metadata": {},
     "output_type": "execute_result"
    }
   ],
   "source": [
    "compacted = jsonld.compact(doc, context)\n",
    "compacted"
   ]
  },
  {
   "cell_type": "code",
   "execution_count": 39,
   "metadata": {},
   "outputs": [
    {
     "data": {
      "text/plain": [
       "[{'http://schema.org/url': [{'@id': 'http://manu.sporny.org/'}],\n",
       "  'http://schema.org/image': [{'@id': 'http://manu.sporny.org/images/manu.png'}],\n",
       "  'http://schema.org/name': [{'@value': 'Manu Sporny'}]}]"
      ]
     },
     "execution_count": 39,
     "metadata": {},
     "output_type": "execute_result"
    }
   ],
   "source": [
    "expanded = jsonld.expand(compacted)\n",
    "expanded"
   ]
  },
  {
   "cell_type": "code",
   "execution_count": 84,
   "metadata": {},
   "outputs": [
    {
     "data": {
      "text/plain": [
       "{'@context': {'label': 'http://www.w3.org/2000/01/rdf-schema#label',\n",
       "  'citationSource': 'http://www.loc.gov/mads/rdf/v1#citationSource',\n",
       "  'citationNote': 'http://www.loc.gov/mads/rdf/v1#citationNote',\n",
       "  'citationStatus': 'http://www.loc.gov/mads/rdf/v1#citationStatus',\n",
       "  'organization': 'http://www.loc.gov/mads/rdf/v1#organization',\n",
       "  'dateTime': 'http://www.w3.org/2001/XMLSchema#dateTime',\n",
       "  'string': 'http://www.w3.org/2001/XMLSchema#string',\n",
       "  'elementValue': 'http://www.loc.gov/mads/rdf/v1#elementValue',\n",
       "  'authoritativeLabel': 'http://www.loc.gov/mads/rdf/v1#authoritativeLabel',\n",
       "  'elementList': 'http://www.loc.gov/mads/rdf/v1#elementList',\n",
       "  'birthDate': 'http://www.loc.gov/mads/rdf/v1#birthDate',\n",
       "  'deathDate': 'http://www.loc.gov/mads/rdf/v1#deathDate',\n",
       "  'associatedLocale': 'http://www.loc.gov/mads/rdf/v1#associatedLocale',\n",
       "  'fieldOfActivity': 'http://www.loc.gov/mads/rdf/v1#fieldOfActivity',\n",
       "  'hasAffiliation': 'http://www.loc.gov/mads/rdf/v1#hasAffiliation',\n",
       "  'occupation': 'http://www.loc.gov/mads/rdf/v1#occupation',\n",
       "  'associatedLanguage': 'http://www.loc.gov/mads/rdf/v1#associatedLanguage',\n",
       "  'Source': {'@id': 'http://www.loc.gov/mads/rdf/v1#Source', '@type': '@id'},\n",
       "  'Occupation': {'@id': 'http://www.loc.gov/mads/rdf/v1#Occupation',\n",
       "   '@type': '@id'},\n",
       "  'Geographic': {'@id': 'http://www.loc.gov/mads/rdf/v1#Geographic',\n",
       "   '@type': '@id'},\n",
       "  'PersonalName': {'@id': 'http://www.loc.gov/mads/rdf/v1#PersonalName',\n",
       "   '@type': '@id'},\n",
       "  'Concept': {'@id': 'http://www.w3.org/2004/02/skos/core#Concept',\n",
       "   '@type': '@id'},\n",
       "  'Organization': {'@id': 'http://www.loc.gov/mads/rdf/v1#Organization',\n",
       "   '@type': '@id'},\n",
       "  'Affiliation': {'@id': 'http://www.loc.gov/mads/rdf/v1#Affiliation',\n",
       "   '@type': '@id'},\n",
       "  'RecordInfo': {'@id': 'http://id.loc.gov/ontologies/RecordInfo#RecordInfo',\n",
       "   '@type': '@id'},\n",
       "  'recordChangeDate': {'@id': 'http://id.loc.gov/ontologies/RecordInfo#recordChangeDate',\n",
       "   '@type': '@id'},\n",
       "  'recordStatus': {'@id': 'http://id.loc.gov/ontologies/RecordInfo#recordStatus',\n",
       "   '@type': '@id'},\n",
       "  'recordContentSource': {'@id': 'http://id.loc.gov/ontologies/RecordInfo#recordContentSource',\n",
       "   '@type': '@id'},\n",
       "  'languageOfCataloging': {'@id': 'http://id.loc.gov/ontologies/RecordInfo#languageOfCataloging',\n",
       "   '@type': '@id'},\n",
       "  'NameElement': {'@id': 'http://www.loc.gov/mads/rdf/v1#NameElement',\n",
       "   '@type': '@id'},\n",
       "  'CorporateName': {'@id': 'http://www.loc.gov/mads/rdf/v1#CorporateName',\n",
       "   '@type': '@id'},\n",
       "  'Authority': {'@id': 'http://www.loc.gov/mads/rdf/v1#Authority',\n",
       "   '@type': '@id'},\n",
       "  'RWO': {'@id': 'http://www.loc.gov/mads/rdf/v1#RWO', '@type': '@id'},\n",
       "  'BFPerson': {'@id': 'http://id.loc.gov/ontologies/bibframe/Person',\n",
       "   '@type': '@id'},\n",
       "  'Person': {'@id': 'http://xmlns.com/foaf/0.1/Person', '@type': '@id'},\n",
       "  'FullNameElement': {'@id': 'http://www.loc.gov/mads/rdf/v1#FullNameElement',\n",
       "   '@type': '@id'}},\n",
       " '@graph': [{'@id': '_:b28iddOtlocdOtgovauthoritiesnamesno97027235',\n",
       "   '@type': 'Geographic',\n",
       "   'label': '(naf) United States'},\n",
       "  {'@id': '_:b32iddOtlocdOtgovauthoritiesnamesno97027235',\n",
       "   '@type': 'Geographic',\n",
       "   'label': '(naf) London (England)'},\n",
       "  {'@id': '_:b119iddOtlocdOtgovauthoritiesnamesno97027235',\n",
       "   '@type': 'Source',\n",
       "   'citationNote': '(access point: Graeber, David)',\n",
       "   'citationSource': 'Canadiana, May 27, 2021',\n",
       "   'citationStatus': 'found'},\n",
       "  {'@id': '_:b58iddOtlocdOtgovauthoritiesnamesno97027235',\n",
       "   '@type': 'Occupation',\n",
       "   'label': '(lcsh) Anthropologists'},\n",
       "  {'@id': '_:b71iddOtlocdOtgovauthoritiesnamesno97027235',\n",
       "   '@type': 'PersonalName',\n",
       "   'label': 'David Rolfe'},\n",
       "  {'@id': '_:b44iddOtlocdOtgovauthoritiesnamesno97027235',\n",
       "   '@type': 'Concept',\n",
       "   'label': '(lcsh) Ethnology'},\n",
       "  {'@id': '_:b50iddOtlocdOtgovauthoritiesnamesno97027235',\n",
       "   '@type': 'Organization',\n",
       "   'label': '(naf) London School of Economics and Political Science'},\n",
       "  {'@id': '_:b110iddOtlocdOtgovauthoritiesnamesno97027235',\n",
       "   '@type': 'Source',\n",
       "   'citationNote': '(David Graeber ; died in a Venice hospital on Wednesday [09/02/2020] at 59 ; anarchist and author of bestselling books on capitalism and bureaucracy ; anthropologist and anarchist author of bestselling books on bureaucracy and economics)',\n",
       "   'citationSource': ['Guardian, viewed September 4, 2020',\n",
       "    {'@id': 'https://www.theguardian.com/books/2020/sep/03/david-graeber-anthropologist-and-author-of-bullshit-jobs-dies-aged-59'}],\n",
       "   'citationStatus': 'found'},\n",
       "  {'@id': '_:b101iddOtlocdOtgovauthoritiesnamesno97027235',\n",
       "   '@type': 'Source',\n",
       "   'citationNote': '(David Rolfe Graeber, born 12 February 1961; Residence: London, England; He is Professor of Anthropology at the London School of Economics)',\n",
       "   'citationSource': ['Wikipedia, viewed August 10, 2015',\n",
       "    {'@id': 'https://en.wikipedia.org/wiki/David_Graeber'}],\n",
       "   'citationStatus': 'found'},\n",
       "  {'@id': '_:b48iddOtlocdOtgovauthoritiesnamesno97027235',\n",
       "   '@type': 'Affiliation',\n",
       "   'organization': {'@id': '_:b50iddOtlocdOtgovauthoritiesnamesno97027235'}},\n",
       "  {'@id': '_:b54iddOtlocdOtgovauthoritiesnamesno97027235',\n",
       "   '@type': 'Occupation',\n",
       "   'label': '(lcsh) College teachers'},\n",
       "  {'@id': '_:b139iddOtlocdOtgovauthoritiesnamesno97027235',\n",
       "   '@type': 'RecordInfo',\n",
       "   'languageOfCataloging': 'http://id.loc.gov/vocabulary/iso639-2/eng',\n",
       "   'http://id.loc.gov/ontologies/RecordInfo#recordChangeDate': {'@type': 'dateTime',\n",
       "    '@value': '2022-05-04T06:45:56'},\n",
       "   'recordContentSource': 'http://id.loc.gov/vocabulary/organizations/gvas',\n",
       "   'http://id.loc.gov/ontologies/RecordInfo#recordStatus': {'@type': 'string',\n",
       "    '@value': 'revised'}},\n",
       "  {'@id': '_:b81iddOtlocdOtgovauthoritiesnamesno97027235',\n",
       "   '@type': 'NameElement',\n",
       "   'elementValue': 'London School of Economics and Political Science'},\n",
       "  {'@id': '_:b75iddOtlocdOtgovauthoritiesnamesno97027235',\n",
       "   '@type': ['CorporateName', 'Authority'],\n",
       "   'authoritativeLabel': 'London School of Economics and Political Science',\n",
       "   'elementList': {'@list': [{'@id': '_:b81iddOtlocdOtgovauthoritiesnamesno97027235'}]}},\n",
       "  {'@id': '_:b93iddOtlocdOtgovauthoritiesnamesno97027235',\n",
       "   '@type': 'Source',\n",
       "   'citationNote': 'title page (David Graeber)',\n",
       "   'citationSource': 'The utopia of rules, 2015:',\n",
       "   'citationStatus': 'found'},\n",
       "  {'@id': 'http://id.loc.gov/rwo/agents/no97027235',\n",
       "   '@type': ['RWO', 'BFPerson', 'Person'],\n",
       "   'associatedLanguage': {'@id': 'http://id.loc.gov/vocabulary/languages/eng'},\n",
       "   'associatedLocale': [{'@id': '_:b28iddOtlocdOtgovauthoritiesnamesno97027235'},\n",
       "    {'@id': '_:b32iddOtlocdOtgovauthoritiesnamesno97027235'}],\n",
       "   'birthDate': {'@id': '_:b20iddOtlocdOtgovauthoritiesnamesno97027235'},\n",
       "   'deathDate': {'@id': '_:b24iddOtlocdOtgovauthoritiesnamesno97027235'},\n",
       "   'fieldOfActivity': [{'@id': '_:b36iddOtlocdOtgovauthoritiesnamesno97027235'},\n",
       "    {'@id': '_:b40iddOtlocdOtgovauthoritiesnamesno97027235'},\n",
       "    {'@id': '_:b44iddOtlocdOtgovauthoritiesnamesno97027235'}],\n",
       "   'hasAffiliation': {'@id': '_:b48iddOtlocdOtgovauthoritiesnamesno97027235'},\n",
       "   'occupation': [{'@id': '_:b54iddOtlocdOtgovauthoritiesnamesno97027235'},\n",
       "    {'@id': '_:b58iddOtlocdOtgovauthoritiesnamesno97027235'},\n",
       "    {'@id': '_:b62iddOtlocdOtgovauthoritiesnamesno97027235'},\n",
       "    {'@id': '_:b66iddOtlocdOtgovauthoritiesnamesno97027235'}],\n",
       "   'label': 'Graeber, David'},\n",
       "  {'@id': '_:b36iddOtlocdOtgovauthoritiesnamesno97027235',\n",
       "   '@type': 'Concept',\n",
       "   'label': '(lcsh) Education, Higher'},\n",
       "  {'@id': '_:b8iddOtlocdOtgovauthoritiesnamesno97027235',\n",
       "   '@type': 'FullNameElement',\n",
       "   'elementValue': 'Graeber, David'},\n",
       "  {'@id': '_:b40iddOtlocdOtgovauthoritiesnamesno97027235',\n",
       "   '@type': 'Concept',\n",
       "   'label': '(lcsh) Economic anthropology'},\n",
       "  {'@id': '_:b66iddOtlocdOtgovauthoritiesnamesno97027235',\n",
       "   '@type': 'Occupation',\n",
       "   'label': '(lcsh) Authors'},\n",
       "  {'@id': '_:b62iddOtlocdOtgovauthoritiesnamesno97027235',\n",
       "   '@type': 'Occupation',\n",
       "   'label': '(lcsh) Anarchists'},\n",
       "  {'@id': 'http://id.loc.gov/authorities/names/no97027235',\n",
       "   '@type': ['PersonalName', 'Authority'],\n",
       "   'http://id.loc.gov/vocabulary/identifiers/lccn': 'no 97027235',\n",
       "   'http://id.loc.gov/vocabulary/identifiers/local': '(OCoLC)oca04330968',\n",
       "   'http://www.loc.gov/mads/rdf/v1#adminMetadata': [{'@id': '_:b131iddOtlocdOtgovauthoritiesnamesno97027235'},\n",
       "    {'@id': '_:b139iddOtlocdOtgovauthoritiesnamesno97027235'}],\n",
       "   'authoritativeLabel': 'Graeber, David',\n",
       "   'elementList': {'@list': [{'@id': '_:b8iddOtlocdOtgovauthoritiesnamesno97027235'}]},\n",
       "   'http://www.loc.gov/mads/rdf/v1#fullerName': {'@id': '_:b71iddOtlocdOtgovauthoritiesnamesno97027235'},\n",
       "   'http://www.loc.gov/mads/rdf/v1#hasExactExternalAuthority': {'@id': 'http://viaf.org/viaf/sourceID/LC%7Cno+97027235#skos:Concept'},\n",
       "   'http://www.loc.gov/mads/rdf/v1#hasRelatedAuthority': {'@id': '_:b75iddOtlocdOtgovauthoritiesnamesno97027235'},\n",
       "   'http://www.loc.gov/mads/rdf/v1#hasSource': [{'@id': '_:b85iddOtlocdOtgovauthoritiesnamesno97027235'},\n",
       "    {'@id': '_:b93iddOtlocdOtgovauthoritiesnamesno97027235'},\n",
       "    {'@id': '_:b101iddOtlocdOtgovauthoritiesnamesno97027235'},\n",
       "    {'@id': '_:b110iddOtlocdOtgovauthoritiesnamesno97027235'},\n",
       "    {'@id': '_:b119iddOtlocdOtgovauthoritiesnamesno97027235'}],\n",
       "   'http://www.loc.gov/mads/rdf/v1#identifiesRWO': {'@id': 'http://id.loc.gov/rwo/agents/no97027235'},\n",
       "   'http://www.loc.gov/mads/rdf/v1#isMemberOfMADSCollection': [{'@id': 'http://id.loc.gov/authorities/names/collection_NamesAuthorizedHeadings'},\n",
       "    {'@id': 'http://id.loc.gov/authorities/names/collection_LCNAF'}],\n",
       "   'http://www.loc.gov/mads/rdf/v1#isMemberOfMADSScheme': {'@id': 'http://id.loc.gov/authorities/names'}},\n",
       "  {'@id': '_:b24iddOtlocdOtgovauthoritiesnamesno97027235',\n",
       "   '@type': 'Concept',\n",
       "   'label': '(edtf) 2020-09-02'},\n",
       "  {'@id': '_:b85iddOtlocdOtgovauthoritiesnamesno97027235',\n",
       "   '@type': 'Source',\n",
       "   'citationNote': 'title page (David Graeber)',\n",
       "   'citationSource': 'Graeber, David. The disastrous ordeal of 1987, 1996:',\n",
       "   'citationStatus': 'found'},\n",
       "  {'@id': '_:b131iddOtlocdOtgovauthoritiesnamesno97027235',\n",
       "   '@type': 'RecordInfo',\n",
       "   'languageOfCataloging': 'http://id.loc.gov/vocabulary/iso639-2/eng',\n",
       "   'http://id.loc.gov/ontologies/RecordInfo#recordChangeDate': {'@type': 'dateTime',\n",
       "    '@value': '1997-05-01T00:00:00'},\n",
       "   'recordContentSource': 'http://id.loc.gov/vocabulary/organizations/ien',\n",
       "   'http://id.loc.gov/ontologies/RecordInfo#recordStatus': {'@type': 'string',\n",
       "    '@value': 'new'}},\n",
       "  {'@id': '_:b20iddOtlocdOtgovauthoritiesnamesno97027235',\n",
       "   '@type': 'Concept',\n",
       "   'label': '(edtf) 1961-02-12'}]}"
      ]
     },
     "execution_count": 84,
     "metadata": {},
     "output_type": "execute_result"
    }
   ],
   "source": [
    "context = {\n",
    "    \"name\": \"http://schema.org/name\",\n",
    "    \"homepage\": {\"@id\": \"http://schema.org/url\", \"@type\": \"@id\"},\n",
    "    \"image\": {\"@id\": \"http://schema.org/image\", \"@type\": \"@id\"}\n",
    "}\n",
    "\n",
    "context = {\n",
    "    \"label\": \"http://www.w3.org/2000/01/rdf-schema#label\",\n",
    "    \"citationSource\": \"http://www.loc.gov/mads/rdf/v1#citationSource\",\n",
    "    \"citationNote\": \"http://www.loc.gov/mads/rdf/v1#citationNote\",\n",
    "    \"citationStatus\": \"http://www.loc.gov/mads/rdf/v1#citationStatus\",\n",
    "    \"organization\": \"http://www.loc.gov/mads/rdf/v1#organization\",\n",
    "    \"dateTime\": \"http://www.w3.org/2001/XMLSchema#dateTime\",\n",
    "    \"string\": \"http://www.w3.org/2001/XMLSchema#string\",\n",
    "    \"elementValue\": \"http://www.loc.gov/mads/rdf/v1#elementValue\",\n",
    "    \"authoritativeLabel\": \"http://www.loc.gov/mads/rdf/v1#authoritativeLabel\",\n",
    "    \"elementList\": \"http://www.loc.gov/mads/rdf/v1#elementList\",\n",
    "    \"birthDate\": \"http://www.loc.gov/mads/rdf/v1#birthDate\",\n",
    "    \"deathDate\": \"http://www.loc.gov/mads/rdf/v1#deathDate\",\n",
    "    \"associatedLocale\": \"http://www.loc.gov/mads/rdf/v1#associatedLocale\",\n",
    "    \"fieldOfActivity\": \"http://www.loc.gov/mads/rdf/v1#fieldOfActivity\",\n",
    "    \"hasAffiliation\": \"http://www.loc.gov/mads/rdf/v1#hasAffiliation\",\n",
    "    \"occupation\": \"http://www.loc.gov/mads/rdf/v1#occupation\",\n",
    "    \"associatedLanguage\": \"http://www.loc.gov/mads/rdf/v1#associatedLanguage\",\n",
    "    \"elementValue\": \"http://www.loc.gov/mads/rdf/v1#elementValue\",\n",
    "    \"Source\": {\"@id\": \"http://www.loc.gov/mads/rdf/v1#Source\", \"@type\": \"@id\"},\n",
    "    \"Occupation\": {\"@id\": \"http://www.loc.gov/mads/rdf/v1#Occupation\", \"@type\": \"@id\"},\n",
    "    \"Geographic\": {\"@id\": \"http://www.loc.gov/mads/rdf/v1#Geographic\", \"@type\": \"@id\"},\n",
    "    \"PersonalName\": {\"@id\": \"http://www.loc.gov/mads/rdf/v1#PersonalName\", \"@type\": \"@id\"},\n",
    "    \"Concept\": {\"@id\": \"http://www.w3.org/2004/02/skos/core#Concept\", \"@type\": \"@id\"},\n",
    "    \"Organization\": {\"@id\": \"http://www.loc.gov/mads/rdf/v1#Organization\", \"@type\": \"@id\"},\n",
    "    \"Affiliation\": {\"@id\": \"http://www.loc.gov/mads/rdf/v1#Affiliation\", \"@type\": \"@id\"},\n",
    "    \"RecordInfo\": {\"@id\": \"http://id.loc.gov/ontologies/RecordInfo#RecordInfo\", \"@type\": \"@id\"},\n",
    "    \"recordChangeDate\": {\"@id\": \"http://id.loc.gov/ontologies/RecordInfo#recordChangeDate\", \"@type\": \"@id\"},\n",
    "    \"recordStatus\": {\"@id\": \"http://id.loc.gov/ontologies/RecordInfo#recordStatus\", \"@type\": \"@id\"},\n",
    "    \"recordContentSource\": {\"@id\": \"http://id.loc.gov/ontologies/RecordInfo#recordContentSource\", \"@type\": \"@id\"},\n",
    "    \"languageOfCataloging\": {\"@id\": \"http://id.loc.gov/ontologies/RecordInfo#languageOfCataloging\", \"@type\": \"@id\"},\n",
    "    \"NameElement\": {\"@id\": \"http://www.loc.gov/mads/rdf/v1#NameElement\", \"@type\": \"@id\"},\n",
    "    \"CorporateName\": {\"@id\": \"http://www.loc.gov/mads/rdf/v1#CorporateName\", \"@type\": \"@id\"},\n",
    "    \"Authority\": {\"@id\": \"http://www.loc.gov/mads/rdf/v1#Authority\", \"@type\": \"@id\"},\n",
    "    \"RWO\": {\"@id\": \"http://www.loc.gov/mads/rdf/v1#RWO\", \"@type\": \"@id\"},\n",
    "    \"BFPerson\": {\"@id\": \"http://id.loc.gov/ontologies/bibframe/Person\", \"@type\": \"@id\"},\n",
    "    \"Person\": {\"@id\": \"http://xmlns.com/foaf/0.1/Person\", \"@type\": \"@id\"},\n",
    "    \"FullNameElement\": {\"@id\": \"http://www.loc.gov/mads/rdf/v1#FullNameElement\", \"@type\": \"@id\"},\n",
    "    \"PersonalName\": {\"@id\": \"http://www.loc.gov/mads/rdf/v1#PersonalName\", \"@type\": \"@id\"},\n",
    "}\n",
    "\n",
    "compact = jsonld.compact(r, context)\n",
    "compact"
   ]
  },
  {
   "cell_type": "code",
   "execution_count": 83,
   "metadata": {},
   "outputs": [
    {
     "data": {
      "text/plain": [
       "{'@id': 'http://id.loc.gov/authorities/names/no97027235',\n",
       " '@type': ['http://www.loc.gov/mads/rdf/v1#PersonalName',\n",
       "  'http://www.loc.gov/mads/rdf/v1#Authority'],\n",
       " 'http://www.loc.gov/mads/rdf/v1#authoritativeLabel': [{'@value': 'Graeber, David'}],\n",
       " 'http://www.loc.gov/mads/rdf/v1#elementList': [{'@list': [{'@id': '_:b8iddOtlocdOtgovauthoritiesnamesno97027235'}]}],\n",
       " 'http://www.loc.gov/mads/rdf/v1#isMemberOfMADSCollection': [{'@id': 'http://id.loc.gov/authorities/names/collection_NamesAuthorizedHeadings'},\n",
       "  {'@id': 'http://id.loc.gov/authorities/names/collection_LCNAF'}],\n",
       " 'http://www.loc.gov/mads/rdf/v1#isMemberOfMADSScheme': [{'@id': 'http://id.loc.gov/authorities/names'}],\n",
       " 'http://www.loc.gov/mads/rdf/v1#identifiesRWO': [{'@id': 'http://id.loc.gov/rwo/agents/no97027235'}],\n",
       " 'http://www.loc.gov/mads/rdf/v1#fullerName': [{'@id': '_:b71iddOtlocdOtgovauthoritiesnamesno97027235'}],\n",
       " 'http://www.loc.gov/mads/rdf/v1#hasRelatedAuthority': [{'@id': '_:b75iddOtlocdOtgovauthoritiesnamesno97027235'}],\n",
       " 'http://www.loc.gov/mads/rdf/v1#hasExactExternalAuthority': [{'@id': 'http://viaf.org/viaf/sourceID/LC%7Cno+97027235#skos:Concept'}],\n",
       " 'http://www.loc.gov/mads/rdf/v1#hasSource': [{'@id': '_:b85iddOtlocdOtgovauthoritiesnamesno97027235'},\n",
       "  {'@id': '_:b93iddOtlocdOtgovauthoritiesnamesno97027235'},\n",
       "  {'@id': '_:b101iddOtlocdOtgovauthoritiesnamesno97027235'},\n",
       "  {'@id': '_:b110iddOtlocdOtgovauthoritiesnamesno97027235'},\n",
       "  {'@id': '_:b119iddOtlocdOtgovauthoritiesnamesno97027235'}],\n",
       " 'http://id.loc.gov/vocabulary/identifiers/lccn': [{'@value': 'no 97027235'}],\n",
       " 'http://id.loc.gov/vocabulary/identifiers/local': [{'@value': '(OCoLC)oca04330968'}],\n",
       " 'http://www.loc.gov/mads/rdf/v1#adminMetadata': [{'@id': '_:b131iddOtlocdOtgovauthoritiesnamesno97027235'},\n",
       "  {'@id': '_:b139iddOtlocdOtgovauthoritiesnamesno97027235'}]}"
      ]
     },
     "execution_count": 83,
     "metadata": {},
     "output_type": "execute_result"
    }
   ],
   "source": [
    "r[21]"
   ]
  },
  {
   "cell_type": "code",
   "execution_count": 48,
   "metadata": {},
   "outputs": [
    {
     "name": "stdout",
     "output_type": "stream",
     "text": [
      "{'@id': '_:b28iddOtlocdOtgovauthoritiesnamesno97027235', '@type': ['http://www.loc.gov/mads/rdf/v1#Geographic'], 'http://www.w3.org/2000/01/rdf-schema#label': [{'@value': '(naf) United States'}]}\n",
      "{'@id': '_:b32iddOtlocdOtgovauthoritiesnamesno97027235', '@type': ['http://www.loc.gov/mads/rdf/v1#Geographic'], 'http://www.w3.org/2000/01/rdf-schema#label': [{'@value': '(naf) London (England)'}]}\n",
      "{'@id': '_:b119iddOtlocdOtgovauthoritiesnamesno97027235', '@type': ['http://www.loc.gov/mads/rdf/v1#Source'], 'http://www.loc.gov/mads/rdf/v1#citationSource': [{'@value': 'Canadiana, May 27, 2021'}], 'http://www.loc.gov/mads/rdf/v1#citationNote': [{'@value': '(access point: Graeber, David)'}], 'http://www.loc.gov/mads/rdf/v1#citationStatus': [{'@value': 'found'}]}\n",
      "{'@id': '_:b58iddOtlocdOtgovauthoritiesnamesno97027235', '@type': ['http://www.loc.gov/mads/rdf/v1#Occupation'], 'http://www.w3.org/2000/01/rdf-schema#label': [{'@value': '(lcsh) Anthropologists'}]}\n",
      "{'@id': '_:b71iddOtlocdOtgovauthoritiesnamesno97027235', '@type': ['http://www.loc.gov/mads/rdf/v1#PersonalName'], 'http://www.w3.org/2000/01/rdf-schema#label': [{'@value': 'David Rolfe'}]}\n",
      "{'@id': '_:b44iddOtlocdOtgovauthoritiesnamesno97027235', '@type': ['http://www.w3.org/2004/02/skos/core#Concept'], 'http://www.w3.org/2000/01/rdf-schema#label': [{'@value': '(lcsh) Ethnology'}]}\n",
      "{'@id': '_:b50iddOtlocdOtgovauthoritiesnamesno97027235', '@type': ['http://www.loc.gov/mads/rdf/v1#Organization'], 'http://www.w3.org/2000/01/rdf-schema#label': [{'@value': '(naf) London School of Economics and Political Science'}]}\n",
      "{'@id': '_:b110iddOtlocdOtgovauthoritiesnamesno97027235', '@type': ['http://www.loc.gov/mads/rdf/v1#Source'], 'http://www.loc.gov/mads/rdf/v1#citationSource': [{'@value': 'Guardian, viewed September 4, 2020'}, {'@id': 'https://www.theguardian.com/books/2020/sep/03/david-graeber-anthropologist-and-author-of-bullshit-jobs-dies-aged-59'}], 'http://www.loc.gov/mads/rdf/v1#citationNote': [{'@value': '(David Graeber ; died in a Venice hospital on Wednesday [09/02/2020] at 59 ; anarchist and author of bestselling books on capitalism and bureaucracy ; anthropologist and anarchist author of bestselling books on bureaucracy and economics)'}], 'http://www.loc.gov/mads/rdf/v1#citationStatus': [{'@value': 'found'}]}\n",
      "{'@id': '_:b101iddOtlocdOtgovauthoritiesnamesno97027235', '@type': ['http://www.loc.gov/mads/rdf/v1#Source'], 'http://www.loc.gov/mads/rdf/v1#citationSource': [{'@value': 'Wikipedia, viewed August 10, 2015'}, {'@id': 'https://en.wikipedia.org/wiki/David_Graeber'}], 'http://www.loc.gov/mads/rdf/v1#citationNote': [{'@value': '(David Rolfe Graeber, born 12 February 1961; Residence: London, England; He is Professor of Anthropology at the London School of Economics)'}], 'http://www.loc.gov/mads/rdf/v1#citationStatus': [{'@value': 'found'}]}\n",
      "{'@id': '_:b48iddOtlocdOtgovauthoritiesnamesno97027235', '@type': ['http://www.loc.gov/mads/rdf/v1#Affiliation'], 'http://www.loc.gov/mads/rdf/v1#organization': [{'@id': '_:b50iddOtlocdOtgovauthoritiesnamesno97027235'}]}\n",
      "{'@id': '_:b54iddOtlocdOtgovauthoritiesnamesno97027235', '@type': ['http://www.loc.gov/mads/rdf/v1#Occupation'], 'http://www.w3.org/2000/01/rdf-schema#label': [{'@value': '(lcsh) College teachers'}]}\n",
      "{'@id': '_:b139iddOtlocdOtgovauthoritiesnamesno97027235', '@type': ['http://id.loc.gov/ontologies/RecordInfo#RecordInfo'], 'http://id.loc.gov/ontologies/RecordInfo#recordChangeDate': [{'@type': 'http://www.w3.org/2001/XMLSchema#dateTime', '@value': '2022-05-04T06:45:56'}], 'http://id.loc.gov/ontologies/RecordInfo#recordStatus': [{'@type': 'http://www.w3.org/2001/XMLSchema#string', '@value': 'revised'}], 'http://id.loc.gov/ontologies/RecordInfo#recordContentSource': [{'@id': 'http://id.loc.gov/vocabulary/organizations/gvas'}], 'http://id.loc.gov/ontologies/RecordInfo#languageOfCataloging': [{'@id': 'http://id.loc.gov/vocabulary/iso639-2/eng'}]}\n",
      "{'@id': '_:b81iddOtlocdOtgovauthoritiesnamesno97027235', '@type': ['http://www.loc.gov/mads/rdf/v1#NameElement'], 'http://www.loc.gov/mads/rdf/v1#elementValue': [{'@value': 'London School of Economics and Political Science'}]}\n",
      "{'@id': '_:b75iddOtlocdOtgovauthoritiesnamesno97027235', '@type': ['http://www.loc.gov/mads/rdf/v1#CorporateName', 'http://www.loc.gov/mads/rdf/v1#Authority'], 'http://www.loc.gov/mads/rdf/v1#authoritativeLabel': [{'@value': 'London School of Economics and Political Science'}], 'http://www.loc.gov/mads/rdf/v1#elementList': [{'@list': [{'@id': '_:b81iddOtlocdOtgovauthoritiesnamesno97027235'}]}]}\n",
      "{'@id': '_:b93iddOtlocdOtgovauthoritiesnamesno97027235', '@type': ['http://www.loc.gov/mads/rdf/v1#Source'], 'http://www.loc.gov/mads/rdf/v1#citationSource': [{'@value': 'The utopia of rules, 2015:'}], 'http://www.loc.gov/mads/rdf/v1#citationNote': [{'@value': 'title page (David Graeber)'}], 'http://www.loc.gov/mads/rdf/v1#citationStatus': [{'@value': 'found'}]}\n",
      "{'@id': 'http://id.loc.gov/rwo/agents/no97027235', '@type': ['http://www.loc.gov/mads/rdf/v1#RWO', 'http://id.loc.gov/ontologies/bibframe/Person', 'http://xmlns.com/foaf/0.1/Person'], 'http://www.w3.org/2000/01/rdf-schema#label': [{'@value': 'Graeber, David'}], 'http://www.loc.gov/mads/rdf/v1#birthDate': [{'@id': '_:b20iddOtlocdOtgovauthoritiesnamesno97027235'}], 'http://www.loc.gov/mads/rdf/v1#deathDate': [{'@id': '_:b24iddOtlocdOtgovauthoritiesnamesno97027235'}], 'http://www.loc.gov/mads/rdf/v1#associatedLocale': [{'@id': '_:b28iddOtlocdOtgovauthoritiesnamesno97027235'}, {'@id': '_:b32iddOtlocdOtgovauthoritiesnamesno97027235'}], 'http://www.loc.gov/mads/rdf/v1#fieldOfActivity': [{'@id': '_:b36iddOtlocdOtgovauthoritiesnamesno97027235'}, {'@id': '_:b40iddOtlocdOtgovauthoritiesnamesno97027235'}, {'@id': '_:b44iddOtlocdOtgovauthoritiesnamesno97027235'}], 'http://www.loc.gov/mads/rdf/v1#hasAffiliation': [{'@id': '_:b48iddOtlocdOtgovauthoritiesnamesno97027235'}], 'http://www.loc.gov/mads/rdf/v1#occupation': [{'@id': '_:b54iddOtlocdOtgovauthoritiesnamesno97027235'}, {'@id': '_:b58iddOtlocdOtgovauthoritiesnamesno97027235'}, {'@id': '_:b62iddOtlocdOtgovauthoritiesnamesno97027235'}, {'@id': '_:b66iddOtlocdOtgovauthoritiesnamesno97027235'}], 'http://www.loc.gov/mads/rdf/v1#associatedLanguage': [{'@id': 'http://id.loc.gov/vocabulary/languages/eng'}]}\n",
      "{'@id': '_:b36iddOtlocdOtgovauthoritiesnamesno97027235', '@type': ['http://www.w3.org/2004/02/skos/core#Concept'], 'http://www.w3.org/2000/01/rdf-schema#label': [{'@value': '(lcsh) Education, Higher'}]}\n",
      "{'@id': '_:b8iddOtlocdOtgovauthoritiesnamesno97027235', '@type': ['http://www.loc.gov/mads/rdf/v1#FullNameElement'], 'http://www.loc.gov/mads/rdf/v1#elementValue': [{'@value': 'Graeber, David'}]}\n",
      "{'@id': '_:b40iddOtlocdOtgovauthoritiesnamesno97027235', '@type': ['http://www.w3.org/2004/02/skos/core#Concept'], 'http://www.w3.org/2000/01/rdf-schema#label': [{'@value': '(lcsh) Economic anthropology'}]}\n",
      "{'@id': '_:b66iddOtlocdOtgovauthoritiesnamesno97027235', '@type': ['http://www.loc.gov/mads/rdf/v1#Occupation'], 'http://www.w3.org/2000/01/rdf-schema#label': [{'@value': '(lcsh) Authors'}]}\n",
      "{'@id': '_:b62iddOtlocdOtgovauthoritiesnamesno97027235', '@type': ['http://www.loc.gov/mads/rdf/v1#Occupation'], 'http://www.w3.org/2000/01/rdf-schema#label': [{'@value': '(lcsh) Anarchists'}]}\n",
      "{'@id': 'http://id.loc.gov/authorities/names/no97027235', '@type': ['http://www.loc.gov/mads/rdf/v1#PersonalName', 'http://www.loc.gov/mads/rdf/v1#Authority'], 'http://www.loc.gov/mads/rdf/v1#authoritativeLabel': [{'@value': 'Graeber, David'}], 'http://www.loc.gov/mads/rdf/v1#elementList': [{'@list': [{'@id': '_:b8iddOtlocdOtgovauthoritiesnamesno97027235'}]}], 'http://www.loc.gov/mads/rdf/v1#isMemberOfMADSCollection': [{'@id': 'http://id.loc.gov/authorities/names/collection_NamesAuthorizedHeadings'}, {'@id': 'http://id.loc.gov/authorities/names/collection_LCNAF'}], 'http://www.loc.gov/mads/rdf/v1#isMemberOfMADSScheme': [{'@id': 'http://id.loc.gov/authorities/names'}], 'http://www.loc.gov/mads/rdf/v1#identifiesRWO': [{'@id': 'http://id.loc.gov/rwo/agents/no97027235'}], 'http://www.loc.gov/mads/rdf/v1#fullerName': [{'@id': '_:b71iddOtlocdOtgovauthoritiesnamesno97027235'}], 'http://www.loc.gov/mads/rdf/v1#hasRelatedAuthority': [{'@id': '_:b75iddOtlocdOtgovauthoritiesnamesno97027235'}], 'http://www.loc.gov/mads/rdf/v1#hasExactExternalAuthority': [{'@id': 'http://viaf.org/viaf/sourceID/LC%7Cno+97027235#skos:Concept'}], 'http://www.loc.gov/mads/rdf/v1#hasSource': [{'@id': '_:b85iddOtlocdOtgovauthoritiesnamesno97027235'}, {'@id': '_:b93iddOtlocdOtgovauthoritiesnamesno97027235'}, {'@id': '_:b101iddOtlocdOtgovauthoritiesnamesno97027235'}, {'@id': '_:b110iddOtlocdOtgovauthoritiesnamesno97027235'}, {'@id': '_:b119iddOtlocdOtgovauthoritiesnamesno97027235'}], 'http://id.loc.gov/vocabulary/identifiers/lccn': [{'@value': 'no 97027235'}], 'http://id.loc.gov/vocabulary/identifiers/local': [{'@value': '(OCoLC)oca04330968'}], 'http://www.loc.gov/mads/rdf/v1#adminMetadata': [{'@id': '_:b131iddOtlocdOtgovauthoritiesnamesno97027235'}, {'@id': '_:b139iddOtlocdOtgovauthoritiesnamesno97027235'}]}\n",
      "{'@id': '_:b24iddOtlocdOtgovauthoritiesnamesno97027235', '@type': ['http://www.w3.org/2004/02/skos/core#Concept'], 'http://www.w3.org/2000/01/rdf-schema#label': [{'@value': '(edtf) 2020-09-02'}]}\n",
      "{'@id': '_:b85iddOtlocdOtgovauthoritiesnamesno97027235', '@type': ['http://www.loc.gov/mads/rdf/v1#Source'], 'http://www.loc.gov/mads/rdf/v1#citationSource': [{'@value': 'Graeber, David. The disastrous ordeal of 1987, 1996:'}], 'http://www.loc.gov/mads/rdf/v1#citationNote': [{'@value': 'title page (David Graeber)'}], 'http://www.loc.gov/mads/rdf/v1#citationStatus': [{'@value': 'found'}]}\n",
      "{'@id': '_:b131iddOtlocdOtgovauthoritiesnamesno97027235', '@type': ['http://id.loc.gov/ontologies/RecordInfo#RecordInfo'], 'http://id.loc.gov/ontologies/RecordInfo#recordChangeDate': [{'@type': 'http://www.w3.org/2001/XMLSchema#dateTime', '@value': '1997-05-01T00:00:00'}], 'http://id.loc.gov/ontologies/RecordInfo#recordStatus': [{'@type': 'http://www.w3.org/2001/XMLSchema#string', '@value': 'new'}], 'http://id.loc.gov/ontologies/RecordInfo#recordContentSource': [{'@id': 'http://id.loc.gov/vocabulary/organizations/ien'}], 'http://id.loc.gov/ontologies/RecordInfo#languageOfCataloging': [{'@id': 'http://id.loc.gov/vocabulary/iso639-2/eng'}]}\n",
      "{'@id': '_:b20iddOtlocdOtgovauthoritiesnamesno97027235', '@type': ['http://www.w3.org/2004/02/skos/core#Concept'], 'http://www.w3.org/2000/01/rdf-schema#label': [{'@value': '(edtf) 1961-02-12'}]}\n"
     ]
    }
   ],
   "source": [
    "for i in r:\n",
    "    print(i)"
   ]
  },
  {
   "cell_type": "code",
   "execution_count": null,
   "metadata": {},
   "outputs": [],
   "source": [
    "doc = {'@id': '_:b28iddOtlocdOtgovauthoritiesnamesno97027235',\n",
    " '@type': ['http://www.loc.gov/mads/rdf/v1#Geographic'],\n",
    " 'http://www.w3.org/2000/01/rdf-schema#label': [{'@value': '(naf) United States'}]}\n",
    "\n",
    "context = {\n",
    "    \"name\": \"http://schema.org/name\",\n",
    "    \"homepage\": {\"@id\": \"http://schema.org/url\", \"@type\": \"@id\"},\n",
    "    \"image\": {\"@id\": \"http://schema.org/image\", \"@type\": \"@id\"}\n",
    "}"
   ]
  },
  {
   "cell_type": "code",
   "execution_count": 32,
   "metadata": {},
   "outputs": [
    {
     "data": {
      "text/plain": [
       "{'@context': {'name': 'http://schema.org/name',\n",
       "  'homepage': {'@id': 'http://schema.org/url', '@type': '@id'},\n",
       "  'image': {'@id': 'http://schema.org/image', '@type': '@id'}},\n",
       " 'image': 'http://manu.sporny.org/images/manu.png',\n",
       " 'name': 'Manu Sporny',\n",
       " 'homepage': 'http://manu.sporny.org/'}"
      ]
     },
     "execution_count": 32,
     "metadata": {},
     "output_type": "execute_result"
    }
   ],
   "source": [
    "compacted = jsonld.compact(doc, context)\n",
    "compacted"
   ]
  },
  {
   "cell_type": "code",
   "execution_count": 34,
   "metadata": {},
   "outputs": [
    {
     "data": {
      "text/plain": [
       "{'name': 'http://schema.org/name',\n",
       " 'homepage': {'@id': 'http://schema.org/url', '@type': '@id'},\n",
       " 'image': {'@id': 'http://schema.org/image', '@type': '@id'}}"
      ]
     },
     "execution_count": 34,
     "metadata": {},
     "output_type": "execute_result"
    }
   ],
   "source": [
    "compacted['@context']"
   ]
  },
  {
   "cell_type": "code",
   "execution_count": 35,
   "metadata": {},
   "outputs": [
    {
     "data": {
      "text/plain": [
       "'Manu Sporny'"
      ]
     },
     "execution_count": 35,
     "metadata": {},
     "output_type": "execute_result"
    }
   ],
   "source": [
    "compacted['name']"
   ]
  },
  {
   "cell_type": "code",
   "execution_count": 33,
   "metadata": {},
   "outputs": [
    {
     "data": {
      "text/plain": [
       "dict_keys(['@context', 'image', 'name', 'homepage'])"
      ]
     },
     "execution_count": 33,
     "metadata": {},
     "output_type": "execute_result"
    }
   ],
   "source": [
    "compacted.keys()"
   ]
  },
  {
   "cell_type": "code",
   "execution_count": null,
   "metadata": {},
   "outputs": [],
   "source": [
    "# compact using URLs\n",
    "x = jsonld.compact(\n",
    "    'https://id.loc.gov/authorities/names/no97027235.madsrdf_raw.jsonld', \n",
    "    'http://www.loc.gov/mads/rdf/v1')"
   ]
  },
  {
   "cell_type": "code",
   "execution_count": 25,
   "metadata": {},
   "outputs": [
    {
     "data": {
      "text/plain": [
       "<Response [200 OK]>"
      ]
     },
     "execution_count": 25,
     "metadata": {},
     "output_type": "execute_result"
    }
   ],
   "source": [
    "url = 'https://id.loc.gov/authorities/names/no97027235.madsrdf_raw.jsonld'\n",
    "r = httpx.get(url)\n",
    "r"
   ]
  },
  {
   "cell_type": "code",
   "execution_count": null,
   "metadata": {},
   "outputs": [],
   "source": [
    "r = r.json()\n",
    "r"
   ]
  },
  {
   "cell_type": "code",
   "execution_count": 2,
   "metadata": {},
   "outputs": [],
   "source": [
    "urlBase = 'https://id.loc.gov/authorities/names/suggest2/'"
   ]
  },
  {
   "cell_type": "code",
   "execution_count": 13,
   "metadata": {},
   "outputs": [],
   "source": [
    "params = {\n",
    "    'q': 'Lotts',\n",
    "    'count': '25',\n",
    "    'blastdacache': '1665580722941',\n",
    "}"
   ]
  },
  {
   "cell_type": "code",
   "execution_count": 14,
   "metadata": {},
   "outputs": [],
   "source": [
    "r = httpx.get('https://id.loc.gov/authorities/names/suggest2/', params=params)"
   ]
  },
  {
   "cell_type": "code",
   "execution_count": 18,
   "metadata": {},
   "outputs": [],
   "source": [
    "from rdflib import Graph"
   ]
  },
  {
   "cell_type": "code",
   "execution_count": 23,
   "metadata": {},
   "outputs": [
    {
     "data": {
      "text/plain": [
       "<Graph identifier=Nafb74999e4364dbda600d88be54d3f35 (<class 'rdflib.graph.Graph'>)>"
      ]
     },
     "execution_count": 23,
     "metadata": {},
     "output_type": "execute_result"
    }
   ],
   "source": [
    "g = Graph()\n",
    "g.parse(\"https://id.loc.gov/authorities/names/no97027235.madsrdf_raw.jsonld\")"
   ]
  },
  {
   "cell_type": "code",
   "execution_count": 24,
   "metadata": {},
   "outputs": [
    {
     "name": "stdout",
     "output_type": "stream",
     "text": [
      "(rdflib.term.BNode('b66iddOtlocdOtgovauthoritiesnamesno97027235'), rdflib.term.URIRef('http://www.w3.org/1999/02/22-rdf-syntax-ns#type'), rdflib.term.URIRef('http://www.loc.gov/mads/rdf/v1#Occupation'))\n",
      "(rdflib.term.BNode('b75iddOtlocdOtgovauthoritiesnamesno97027235'), rdflib.term.URIRef('http://www.w3.org/1999/02/22-rdf-syntax-ns#type'), rdflib.term.URIRef('http://www.loc.gov/mads/rdf/v1#CorporateName'))\n",
      "(rdflib.term.BNode('b20iddOtlocdOtgovauthoritiesnamesno97027235'), rdflib.term.URIRef('http://www.w3.org/2000/01/rdf-schema#label'), rdflib.term.Literal('(edtf) 1961-02-12'))\n",
      "(rdflib.term.URIRef('http://id.loc.gov/rwo/agents/no97027235'), rdflib.term.URIRef('http://www.loc.gov/mads/rdf/v1#fieldOfActivity'), rdflib.term.BNode('b36iddOtlocdOtgovauthoritiesnamesno97027235'))\n",
      "(rdflib.term.URIRef('http://id.loc.gov/rwo/agents/no97027235'), rdflib.term.URIRef('http://www.loc.gov/mads/rdf/v1#occupation'), rdflib.term.BNode('b66iddOtlocdOtgovauthoritiesnamesno97027235'))\n",
      "(rdflib.term.BNode('b40iddOtlocdOtgovauthoritiesnamesno97027235'), rdflib.term.URIRef('http://www.w3.org/1999/02/22-rdf-syntax-ns#type'), rdflib.term.URIRef('http://www.w3.org/2004/02/skos/core#Concept'))\n",
      "(rdflib.term.BNode('b81iddOtlocdOtgovauthoritiesnamesno97027235'), rdflib.term.URIRef('http://www.w3.org/1999/02/22-rdf-syntax-ns#type'), rdflib.term.URIRef('http://www.loc.gov/mads/rdf/v1#NameElement'))\n",
      "(rdflib.term.BNode('b110iddOtlocdOtgovauthoritiesnamesno97027235'), rdflib.term.URIRef('http://www.loc.gov/mads/rdf/v1#citationNote'), rdflib.term.Literal('(David Graeber ; died in a Venice hospital on Wednesday [09/02/2020] at 59 ; anarchist and author of bestselling books on capitalism and bureaucracy ; anthropologist and anarchist author of bestselling books on bureaucracy and economics)'))\n",
      "(rdflib.term.URIRef('http://id.loc.gov/authorities/names/no97027235'), rdflib.term.URIRef('http://www.loc.gov/mads/rdf/v1#isMemberOfMADSCollection'), rdflib.term.URIRef('http://id.loc.gov/authorities/names/collection_LCNAF'))\n",
      "(rdflib.term.BNode('b110iddOtlocdOtgovauthoritiesnamesno97027235'), rdflib.term.URIRef('http://www.w3.org/1999/02/22-rdf-syntax-ns#type'), rdflib.term.URIRef('http://www.loc.gov/mads/rdf/v1#Source'))\n",
      "(rdflib.term.URIRef('http://id.loc.gov/rwo/agents/no97027235'), rdflib.term.URIRef('http://www.w3.org/2000/01/rdf-schema#label'), rdflib.term.Literal('Graeber, David'))\n",
      "(rdflib.term.BNode('b44iddOtlocdOtgovauthoritiesnamesno97027235'), rdflib.term.URIRef('http://www.w3.org/2000/01/rdf-schema#label'), rdflib.term.Literal('(lcsh) Ethnology'))\n",
      "(rdflib.term.BNode('b40iddOtlocdOtgovauthoritiesnamesno97027235'), rdflib.term.URIRef('http://www.w3.org/2000/01/rdf-schema#label'), rdflib.term.Literal('(lcsh) Economic anthropology'))\n",
      "(rdflib.term.URIRef('http://id.loc.gov/authorities/names/no97027235'), rdflib.term.URIRef('http://www.loc.gov/mads/rdf/v1#isMemberOfMADSCollection'), rdflib.term.URIRef('http://id.loc.gov/authorities/names/collection_NamesAuthorizedHeadings'))\n",
      "(rdflib.term.BNode('b131iddOtlocdOtgovauthoritiesnamesno97027235'), rdflib.term.URIRef('http://id.loc.gov/ontologies/RecordInfo#languageOfCataloging'), rdflib.term.URIRef('http://id.loc.gov/vocabulary/iso639-2/eng'))\n",
      "(rdflib.term.BNode('b139iddOtlocdOtgovauthoritiesnamesno97027235'), rdflib.term.URIRef('http://id.loc.gov/ontologies/RecordInfo#recordContentSource'), rdflib.term.URIRef('http://id.loc.gov/vocabulary/organizations/gvas'))\n",
      "(rdflib.term.URIRef('http://id.loc.gov/rwo/agents/no97027235'), rdflib.term.URIRef('http://www.loc.gov/mads/rdf/v1#occupation'), rdflib.term.BNode('b58iddOtlocdOtgovauthoritiesnamesno97027235'))\n",
      "(rdflib.term.URIRef('http://id.loc.gov/authorities/names/no97027235'), rdflib.term.URIRef('http://www.loc.gov/mads/rdf/v1#hasSource'), rdflib.term.BNode('b119iddOtlocdOtgovauthoritiesnamesno97027235'))\n",
      "(rdflib.term.BNode('b8iddOtlocdOtgovauthoritiesnamesno97027235'), rdflib.term.URIRef('http://www.loc.gov/mads/rdf/v1#elementValue'), rdflib.term.Literal('Graeber, David'))\n",
      "(rdflib.term.URIRef('http://id.loc.gov/authorities/names/no97027235'), rdflib.term.URIRef('http://www.loc.gov/mads/rdf/v1#isMemberOfMADSScheme'), rdflib.term.URIRef('http://id.loc.gov/authorities/names'))\n",
      "(rdflib.term.BNode('b85iddOtlocdOtgovauthoritiesnamesno97027235'), rdflib.term.URIRef('http://www.loc.gov/mads/rdf/v1#citationSource'), rdflib.term.Literal('Graeber, David. The disastrous ordeal of 1987, 1996:'))\n",
      "(rdflib.term.URIRef('http://id.loc.gov/authorities/names/no97027235'), rdflib.term.URIRef('http://id.loc.gov/vocabulary/identifiers/local'), rdflib.term.Literal('(OCoLC)oca04330968'))\n",
      "(rdflib.term.BNode('b24iddOtlocdOtgovauthoritiesnamesno97027235'), rdflib.term.URIRef('http://www.w3.org/2000/01/rdf-schema#label'), rdflib.term.Literal('(edtf) 2020-09-02'))\n",
      "(rdflib.term.URIRef('http://id.loc.gov/authorities/names/no97027235'), rdflib.term.URIRef('http://www.loc.gov/mads/rdf/v1#elementList'), rdflib.term.BNode('N63a90078da6b41bf8b066ea4b01b2f63'))\n",
      "(rdflib.term.BNode('b119iddOtlocdOtgovauthoritiesnamesno97027235'), rdflib.term.URIRef('http://www.loc.gov/mads/rdf/v1#citationSource'), rdflib.term.Literal('Canadiana, May 27, 2021'))\n",
      "(rdflib.term.BNode('b28iddOtlocdOtgovauthoritiesnamesno97027235'), rdflib.term.URIRef('http://www.w3.org/1999/02/22-rdf-syntax-ns#type'), rdflib.term.URIRef('http://www.loc.gov/mads/rdf/v1#Geographic'))\n",
      "(rdflib.term.URIRef('http://id.loc.gov/authorities/names/no97027235'), rdflib.term.URIRef('http://www.loc.gov/mads/rdf/v1#hasSource'), rdflib.term.BNode('b110iddOtlocdOtgovauthoritiesnamesno97027235'))\n",
      "(rdflib.term.BNode('b54iddOtlocdOtgovauthoritiesnamesno97027235'), rdflib.term.URIRef('http://www.w3.org/1999/02/22-rdf-syntax-ns#type'), rdflib.term.URIRef('http://www.loc.gov/mads/rdf/v1#Occupation'))\n",
      "(rdflib.term.URIRef('http://id.loc.gov/authorities/names/no97027235'), rdflib.term.URIRef('http://www.loc.gov/mads/rdf/v1#adminMetadata'), rdflib.term.BNode('b131iddOtlocdOtgovauthoritiesnamesno97027235'))\n",
      "(rdflib.term.URIRef('http://id.loc.gov/authorities/names/no97027235'), rdflib.term.URIRef('http://www.loc.gov/mads/rdf/v1#hasSource'), rdflib.term.BNode('b101iddOtlocdOtgovauthoritiesnamesno97027235'))\n",
      "(rdflib.term.BNode('b75iddOtlocdOtgovauthoritiesnamesno97027235'), rdflib.term.URIRef('http://www.loc.gov/mads/rdf/v1#authoritativeLabel'), rdflib.term.Literal('London School of Economics and Political Science'))\n",
      "(rdflib.term.BNode('b28iddOtlocdOtgovauthoritiesnamesno97027235'), rdflib.term.URIRef('http://www.w3.org/2000/01/rdf-schema#label'), rdflib.term.Literal('(naf) United States'))\n",
      "(rdflib.term.BNode('b24iddOtlocdOtgovauthoritiesnamesno97027235'), rdflib.term.URIRef('http://www.w3.org/1999/02/22-rdf-syntax-ns#type'), rdflib.term.URIRef('http://www.w3.org/2004/02/skos/core#Concept'))\n",
      "(rdflib.term.BNode('b20iddOtlocdOtgovauthoritiesnamesno97027235'), rdflib.term.URIRef('http://www.w3.org/1999/02/22-rdf-syntax-ns#type'), rdflib.term.URIRef('http://www.w3.org/2004/02/skos/core#Concept'))\n",
      "(rdflib.term.BNode('b85iddOtlocdOtgovauthoritiesnamesno97027235'), rdflib.term.URIRef('http://www.loc.gov/mads/rdf/v1#citationNote'), rdflib.term.Literal('title page (David Graeber)'))\n",
      "(rdflib.term.URIRef('http://id.loc.gov/authorities/names/no97027235'), rdflib.term.URIRef('http://www.loc.gov/mads/rdf/v1#adminMetadata'), rdflib.term.BNode('b139iddOtlocdOtgovauthoritiesnamesno97027235'))\n",
      "(rdflib.term.BNode('b50iddOtlocdOtgovauthoritiesnamesno97027235'), rdflib.term.URIRef('http://www.w3.org/2000/01/rdf-schema#label'), rdflib.term.Literal('(naf) London School of Economics and Political Science'))\n",
      "(rdflib.term.BNode('b58iddOtlocdOtgovauthoritiesnamesno97027235'), rdflib.term.URIRef('http://www.w3.org/2000/01/rdf-schema#label'), rdflib.term.Literal('(lcsh) Anthropologists'))\n",
      "(rdflib.term.BNode('b85iddOtlocdOtgovauthoritiesnamesno97027235'), rdflib.term.URIRef('http://www.w3.org/1999/02/22-rdf-syntax-ns#type'), rdflib.term.URIRef('http://www.loc.gov/mads/rdf/v1#Source'))\n",
      "(rdflib.term.BNode('b36iddOtlocdOtgovauthoritiesnamesno97027235'), rdflib.term.URIRef('http://www.w3.org/1999/02/22-rdf-syntax-ns#type'), rdflib.term.URIRef('http://www.w3.org/2004/02/skos/core#Concept'))\n",
      "(rdflib.term.BNode('b50iddOtlocdOtgovauthoritiesnamesno97027235'), rdflib.term.URIRef('http://www.w3.org/1999/02/22-rdf-syntax-ns#type'), rdflib.term.URIRef('http://www.loc.gov/mads/rdf/v1#Organization'))\n",
      "(rdflib.term.URIRef('http://id.loc.gov/authorities/names/no97027235'), rdflib.term.URIRef('http://www.loc.gov/mads/rdf/v1#identifiesRWO'), rdflib.term.URIRef('http://id.loc.gov/rwo/agents/no97027235'))\n",
      "(rdflib.term.BNode('b93iddOtlocdOtgovauthoritiesnamesno97027235'), rdflib.term.URIRef('http://www.loc.gov/mads/rdf/v1#citationNote'), rdflib.term.Literal('title page (David Graeber)'))\n",
      "(rdflib.term.BNode('b71iddOtlocdOtgovauthoritiesnamesno97027235'), rdflib.term.URIRef('http://www.w3.org/1999/02/22-rdf-syntax-ns#type'), rdflib.term.URIRef('http://www.loc.gov/mads/rdf/v1#PersonalName'))\n",
      "(rdflib.term.URIRef('http://id.loc.gov/rwo/agents/no97027235'), rdflib.term.URIRef('http://www.w3.org/1999/02/22-rdf-syntax-ns#type'), rdflib.term.URIRef('http://xmlns.com/foaf/0.1/Person'))\n",
      "(rdflib.term.BNode('N02642057aa554a549068b8c959673732'), rdflib.term.URIRef('http://www.w3.org/1999/02/22-rdf-syntax-ns#rest'), rdflib.term.URIRef('http://www.w3.org/1999/02/22-rdf-syntax-ns#nil'))\n",
      "(rdflib.term.URIRef('http://id.loc.gov/rwo/agents/no97027235'), rdflib.term.URIRef('http://www.loc.gov/mads/rdf/v1#associatedLocale'), rdflib.term.BNode('b28iddOtlocdOtgovauthoritiesnamesno97027235'))\n",
      "(rdflib.term.URIRef('http://id.loc.gov/rwo/agents/no97027235'), rdflib.term.URIRef('http://www.loc.gov/mads/rdf/v1#hasAffiliation'), rdflib.term.BNode('b48iddOtlocdOtgovauthoritiesnamesno97027235'))\n",
      "(rdflib.term.BNode('b131iddOtlocdOtgovauthoritiesnamesno97027235'), rdflib.term.URIRef('http://www.w3.org/1999/02/22-rdf-syntax-ns#type'), rdflib.term.URIRef('http://id.loc.gov/ontologies/RecordInfo#RecordInfo'))\n",
      "(rdflib.term.URIRef('http://id.loc.gov/authorities/names/no97027235'), rdflib.term.URIRef('http://www.w3.org/1999/02/22-rdf-syntax-ns#type'), rdflib.term.URIRef('http://www.loc.gov/mads/rdf/v1#PersonalName'))\n",
      "(rdflib.term.BNode('b36iddOtlocdOtgovauthoritiesnamesno97027235'), rdflib.term.URIRef('http://www.w3.org/2000/01/rdf-schema#label'), rdflib.term.Literal('(lcsh) Education, Higher'))\n",
      "(rdflib.term.BNode('b48iddOtlocdOtgovauthoritiesnamesno97027235'), rdflib.term.URIRef('http://www.loc.gov/mads/rdf/v1#organization'), rdflib.term.BNode('b50iddOtlocdOtgovauthoritiesnamesno97027235'))\n",
      "(rdflib.term.BNode('b139iddOtlocdOtgovauthoritiesnamesno97027235'), rdflib.term.URIRef('http://id.loc.gov/ontologies/RecordInfo#recordStatus'), rdflib.term.Literal('revised', datatype=rdflib.term.URIRef('http://www.w3.org/2001/XMLSchema#string')))\n",
      "(rdflib.term.URIRef('http://id.loc.gov/rwo/agents/no97027235'), rdflib.term.URIRef('http://www.w3.org/1999/02/22-rdf-syntax-ns#type'), rdflib.term.URIRef('http://id.loc.gov/ontologies/bibframe/Person'))\n",
      "(rdflib.term.BNode('b58iddOtlocdOtgovauthoritiesnamesno97027235'), rdflib.term.URIRef('http://www.w3.org/1999/02/22-rdf-syntax-ns#type'), rdflib.term.URIRef('http://www.loc.gov/mads/rdf/v1#Occupation'))\n",
      "(rdflib.term.BNode('b48iddOtlocdOtgovauthoritiesnamesno97027235'), rdflib.term.URIRef('http://www.w3.org/1999/02/22-rdf-syntax-ns#type'), rdflib.term.URIRef('http://www.loc.gov/mads/rdf/v1#Affiliation'))\n",
      "(rdflib.term.URIRef('http://id.loc.gov/rwo/agents/no97027235'), rdflib.term.URIRef('http://www.loc.gov/mads/rdf/v1#occupation'), rdflib.term.BNode('b62iddOtlocdOtgovauthoritiesnamesno97027235'))\n",
      "(rdflib.term.BNode('b85iddOtlocdOtgovauthoritiesnamesno97027235'), rdflib.term.URIRef('http://www.loc.gov/mads/rdf/v1#citationStatus'), rdflib.term.Literal('found'))\n",
      "(rdflib.term.URIRef('http://id.loc.gov/rwo/agents/no97027235'), rdflib.term.URIRef('http://www.loc.gov/mads/rdf/v1#fieldOfActivity'), rdflib.term.BNode('b44iddOtlocdOtgovauthoritiesnamesno97027235'))\n",
      "(rdflib.term.BNode('b101iddOtlocdOtgovauthoritiesnamesno97027235'), rdflib.term.URIRef('http://www.loc.gov/mads/rdf/v1#citationSource'), rdflib.term.URIRef('https://en.wikipedia.org/wiki/David_Graeber'))\n",
      "(rdflib.term.BNode('b110iddOtlocdOtgovauthoritiesnamesno97027235'), rdflib.term.URIRef('http://www.loc.gov/mads/rdf/v1#citationSource'), rdflib.term.Literal('Guardian, viewed September 4, 2020'))\n",
      "(rdflib.term.BNode('b32iddOtlocdOtgovauthoritiesnamesno97027235'), rdflib.term.URIRef('http://www.w3.org/2000/01/rdf-schema#label'), rdflib.term.Literal('(naf) London (England)'))\n",
      "(rdflib.term.URIRef('http://id.loc.gov/authorities/names/no97027235'), rdflib.term.URIRef('http://id.loc.gov/vocabulary/identifiers/lccn'), rdflib.term.Literal('no 97027235'))\n",
      "(rdflib.term.BNode('b101iddOtlocdOtgovauthoritiesnamesno97027235'), rdflib.term.URIRef('http://www.loc.gov/mads/rdf/v1#citationStatus'), rdflib.term.Literal('found'))\n",
      "(rdflib.term.URIRef('http://id.loc.gov/authorities/names/no97027235'), rdflib.term.URIRef('http://www.loc.gov/mads/rdf/v1#hasSource'), rdflib.term.BNode('b93iddOtlocdOtgovauthoritiesnamesno97027235'))\n",
      "(rdflib.term.BNode('b93iddOtlocdOtgovauthoritiesnamesno97027235'), rdflib.term.URIRef('http://www.loc.gov/mads/rdf/v1#citationStatus'), rdflib.term.Literal('found'))\n",
      "(rdflib.term.BNode('N63a90078da6b41bf8b066ea4b01b2f63'), rdflib.term.URIRef('http://www.w3.org/1999/02/22-rdf-syntax-ns#first'), rdflib.term.BNode('b8iddOtlocdOtgovauthoritiesnamesno97027235'))\n",
      "(rdflib.term.BNode('b119iddOtlocdOtgovauthoritiesnamesno97027235'), rdflib.term.URIRef('http://www.w3.org/1999/02/22-rdf-syntax-ns#type'), rdflib.term.URIRef('http://www.loc.gov/mads/rdf/v1#Source'))\n",
      "(rdflib.term.BNode('b44iddOtlocdOtgovauthoritiesnamesno97027235'), rdflib.term.URIRef('http://www.w3.org/1999/02/22-rdf-syntax-ns#type'), rdflib.term.URIRef('http://www.w3.org/2004/02/skos/core#Concept'))\n",
      "(rdflib.term.BNode('b75iddOtlocdOtgovauthoritiesnamesno97027235'), rdflib.term.URIRef('http://www.loc.gov/mads/rdf/v1#elementList'), rdflib.term.BNode('N02642057aa554a549068b8c959673732'))\n",
      "(rdflib.term.BNode('b62iddOtlocdOtgovauthoritiesnamesno97027235'), rdflib.term.URIRef('http://www.w3.org/1999/02/22-rdf-syntax-ns#type'), rdflib.term.URIRef('http://www.loc.gov/mads/rdf/v1#Occupation'))\n",
      "(rdflib.term.URIRef('http://id.loc.gov/authorities/names/no97027235'), rdflib.term.URIRef('http://www.loc.gov/mads/rdf/v1#hasSource'), rdflib.term.BNode('b85iddOtlocdOtgovauthoritiesnamesno97027235'))\n",
      "(rdflib.term.BNode('b75iddOtlocdOtgovauthoritiesnamesno97027235'), rdflib.term.URIRef('http://www.w3.org/1999/02/22-rdf-syntax-ns#type'), rdflib.term.URIRef('http://www.loc.gov/mads/rdf/v1#Authority'))\n",
      "(rdflib.term.URIRef('http://id.loc.gov/authorities/names/no97027235'), rdflib.term.URIRef('http://www.w3.org/1999/02/22-rdf-syntax-ns#type'), rdflib.term.URIRef('http://www.loc.gov/mads/rdf/v1#Authority'))\n",
      "(rdflib.term.URIRef('http://id.loc.gov/rwo/agents/no97027235'), rdflib.term.URIRef('http://www.loc.gov/mads/rdf/v1#associatedLocale'), rdflib.term.BNode('b32iddOtlocdOtgovauthoritiesnamesno97027235'))\n",
      "(rdflib.term.URIRef('http://id.loc.gov/authorities/names/no97027235'), rdflib.term.URIRef('http://www.loc.gov/mads/rdf/v1#authoritativeLabel'), rdflib.term.Literal('Graeber, David'))\n",
      "(rdflib.term.BNode('b131iddOtlocdOtgovauthoritiesnamesno97027235'), rdflib.term.URIRef('http://id.loc.gov/ontologies/RecordInfo#recordContentSource'), rdflib.term.URIRef('http://id.loc.gov/vocabulary/organizations/ien'))\n",
      "(rdflib.term.BNode('b110iddOtlocdOtgovauthoritiesnamesno97027235'), rdflib.term.URIRef('http://www.loc.gov/mads/rdf/v1#citationStatus'), rdflib.term.Literal('found'))\n",
      "(rdflib.term.BNode('b139iddOtlocdOtgovauthoritiesnamesno97027235'), rdflib.term.URIRef('http://www.w3.org/1999/02/22-rdf-syntax-ns#type'), rdflib.term.URIRef('http://id.loc.gov/ontologies/RecordInfo#RecordInfo'))\n",
      "(rdflib.term.URIRef('http://id.loc.gov/rwo/agents/no97027235'), rdflib.term.URIRef('http://www.w3.org/1999/02/22-rdf-syntax-ns#type'), rdflib.term.URIRef('http://www.loc.gov/mads/rdf/v1#RWO'))\n",
      "(rdflib.term.BNode('b62iddOtlocdOtgovauthoritiesnamesno97027235'), rdflib.term.URIRef('http://www.w3.org/2000/01/rdf-schema#label'), rdflib.term.Literal('(lcsh) Anarchists'))\n",
      "(rdflib.term.BNode('b139iddOtlocdOtgovauthoritiesnamesno97027235'), rdflib.term.URIRef('http://id.loc.gov/ontologies/RecordInfo#recordChangeDate'), rdflib.term.Literal('2022-05-04T06:45:56', datatype=rdflib.term.URIRef('http://www.w3.org/2001/XMLSchema#dateTime')))\n",
      "(rdflib.term.BNode('b81iddOtlocdOtgovauthoritiesnamesno97027235'), rdflib.term.URIRef('http://www.loc.gov/mads/rdf/v1#elementValue'), rdflib.term.Literal('London School of Economics and Political Science'))\n",
      "(rdflib.term.BNode('b101iddOtlocdOtgovauthoritiesnamesno97027235'), rdflib.term.URIRef('http://www.loc.gov/mads/rdf/v1#citationNote'), rdflib.term.Literal('(David Rolfe Graeber, born 12 February 1961; Residence: London, England; He is Professor of Anthropology at the London School of Economics)'))\n",
      "(rdflib.term.BNode('b139iddOtlocdOtgovauthoritiesnamesno97027235'), rdflib.term.URIRef('http://id.loc.gov/ontologies/RecordInfo#languageOfCataloging'), rdflib.term.URIRef('http://id.loc.gov/vocabulary/iso639-2/eng'))\n",
      "(rdflib.term.URIRef('http://id.loc.gov/authorities/names/no97027235'), rdflib.term.URIRef('http://www.loc.gov/mads/rdf/v1#fullerName'), rdflib.term.BNode('b71iddOtlocdOtgovauthoritiesnamesno97027235'))\n",
      "(rdflib.term.BNode('b32iddOtlocdOtgovauthoritiesnamesno97027235'), rdflib.term.URIRef('http://www.w3.org/1999/02/22-rdf-syntax-ns#type'), rdflib.term.URIRef('http://www.loc.gov/mads/rdf/v1#Geographic'))\n",
      "(rdflib.term.URIRef('http://id.loc.gov/rwo/agents/no97027235'), rdflib.term.URIRef('http://www.loc.gov/mads/rdf/v1#fieldOfActivity'), rdflib.term.BNode('b40iddOtlocdOtgovauthoritiesnamesno97027235'))\n",
      "(rdflib.term.BNode('b119iddOtlocdOtgovauthoritiesnamesno97027235'), rdflib.term.URIRef('http://www.loc.gov/mads/rdf/v1#citationStatus'), rdflib.term.Literal('found'))\n",
      "(rdflib.term.BNode('b93iddOtlocdOtgovauthoritiesnamesno97027235'), rdflib.term.URIRef('http://www.loc.gov/mads/rdf/v1#citationSource'), rdflib.term.Literal('The utopia of rules, 2015:'))\n",
      "(rdflib.term.BNode('b131iddOtlocdOtgovauthoritiesnamesno97027235'), rdflib.term.URIRef('http://id.loc.gov/ontologies/RecordInfo#recordChangeDate'), rdflib.term.Literal('1997-05-01T00:00:00', datatype=rdflib.term.URIRef('http://www.w3.org/2001/XMLSchema#dateTime')))\n",
      "(rdflib.term.BNode('N02642057aa554a549068b8c959673732'), rdflib.term.URIRef('http://www.w3.org/1999/02/22-rdf-syntax-ns#first'), rdflib.term.BNode('b81iddOtlocdOtgovauthoritiesnamesno97027235'))\n",
      "(rdflib.term.URIRef('http://id.loc.gov/authorities/names/no97027235'), rdflib.term.URIRef('http://www.loc.gov/mads/rdf/v1#hasRelatedAuthority'), rdflib.term.BNode('b75iddOtlocdOtgovauthoritiesnamesno97027235'))\n",
      "(rdflib.term.BNode('b66iddOtlocdOtgovauthoritiesnamesno97027235'), rdflib.term.URIRef('http://www.w3.org/2000/01/rdf-schema#label'), rdflib.term.Literal('(lcsh) Authors'))\n",
      "(rdflib.term.BNode('b101iddOtlocdOtgovauthoritiesnamesno97027235'), rdflib.term.URIRef('http://www.w3.org/1999/02/22-rdf-syntax-ns#type'), rdflib.term.URIRef('http://www.loc.gov/mads/rdf/v1#Source'))\n",
      "(rdflib.term.URIRef('http://id.loc.gov/rwo/agents/no97027235'), rdflib.term.URIRef('http://www.loc.gov/mads/rdf/v1#occupation'), rdflib.term.BNode('b54iddOtlocdOtgovauthoritiesnamesno97027235'))\n",
      "(rdflib.term.BNode('b93iddOtlocdOtgovauthoritiesnamesno97027235'), rdflib.term.URIRef('http://www.w3.org/1999/02/22-rdf-syntax-ns#type'), rdflib.term.URIRef('http://www.loc.gov/mads/rdf/v1#Source'))\n",
      "(rdflib.term.BNode('b8iddOtlocdOtgovauthoritiesnamesno97027235'), rdflib.term.URIRef('http://www.w3.org/1999/02/22-rdf-syntax-ns#type'), rdflib.term.URIRef('http://www.loc.gov/mads/rdf/v1#FullNameElement'))\n",
      "(rdflib.term.URIRef('http://id.loc.gov/rwo/agents/no97027235'), rdflib.term.URIRef('http://www.loc.gov/mads/rdf/v1#deathDate'), rdflib.term.BNode('b24iddOtlocdOtgovauthoritiesnamesno97027235'))\n",
      "(rdflib.term.URIRef('http://id.loc.gov/rwo/agents/no97027235'), rdflib.term.URIRef('http://www.loc.gov/mads/rdf/v1#birthDate'), rdflib.term.BNode('b20iddOtlocdOtgovauthoritiesnamesno97027235'))\n",
      "(rdflib.term.BNode('b101iddOtlocdOtgovauthoritiesnamesno97027235'), rdflib.term.URIRef('http://www.loc.gov/mads/rdf/v1#citationSource'), rdflib.term.Literal('Wikipedia, viewed August 10, 2015'))\n",
      "(rdflib.term.BNode('b71iddOtlocdOtgovauthoritiesnamesno97027235'), rdflib.term.URIRef('http://www.w3.org/2000/01/rdf-schema#label'), rdflib.term.Literal('David Rolfe'))\n",
      "(rdflib.term.BNode('b131iddOtlocdOtgovauthoritiesnamesno97027235'), rdflib.term.URIRef('http://id.loc.gov/ontologies/RecordInfo#recordStatus'), rdflib.term.Literal('new', datatype=rdflib.term.URIRef('http://www.w3.org/2001/XMLSchema#string')))\n",
      "(rdflib.term.BNode('b110iddOtlocdOtgovauthoritiesnamesno97027235'), rdflib.term.URIRef('http://www.loc.gov/mads/rdf/v1#citationSource'), rdflib.term.URIRef('https://www.theguardian.com/books/2020/sep/03/david-graeber-anthropologist-and-author-of-bullshit-jobs-dies-aged-59'))\n",
      "(rdflib.term.BNode('b54iddOtlocdOtgovauthoritiesnamesno97027235'), rdflib.term.URIRef('http://www.w3.org/2000/01/rdf-schema#label'), rdflib.term.Literal('(lcsh) College teachers'))\n",
      "(rdflib.term.BNode('b119iddOtlocdOtgovauthoritiesnamesno97027235'), rdflib.term.URIRef('http://www.loc.gov/mads/rdf/v1#citationNote'), rdflib.term.Literal('(access point: Graeber, David)'))\n",
      "(rdflib.term.URIRef('http://id.loc.gov/rwo/agents/no97027235'), rdflib.term.URIRef('http://www.loc.gov/mads/rdf/v1#associatedLanguage'), rdflib.term.URIRef('http://id.loc.gov/vocabulary/languages/eng'))\n",
      "(rdflib.term.BNode('N63a90078da6b41bf8b066ea4b01b2f63'), rdflib.term.URIRef('http://www.w3.org/1999/02/22-rdf-syntax-ns#rest'), rdflib.term.URIRef('http://www.w3.org/1999/02/22-rdf-syntax-ns#nil'))\n",
      "(rdflib.term.URIRef('http://id.loc.gov/authorities/names/no97027235'), rdflib.term.URIRef('http://www.loc.gov/mads/rdf/v1#hasExactExternalAuthority'), rdflib.term.URIRef('http://viaf.org/viaf/sourceID/LC%7Cno+97027235#skos:Concept'))\n"
     ]
    }
   ],
   "source": [
    "for i in g:\n",
    "    print(i)"
   ]
  }
 ],
 "metadata": {
  "kernelspec": {
   "display_name": "Python 3.10.1 ('venv': venv)",
   "language": "python",
   "name": "python3"
  },
  "language_info": {
   "codemirror_mode": {
    "name": "ipython",
    "version": 3
   },
   "file_extension": ".py",
   "mimetype": "text/x-python",
   "name": "python",
   "nbconvert_exporter": "python",
   "pygments_lexer": "ipython3",
   "version": "3.10.1"
  },
  "orig_nbformat": 4,
  "vscode": {
   "interpreter": {
    "hash": "5df21a170a08fe7c24b5b1091267edae5bad3984f1116f28e957af7dd8f192dc"
   }
  }
 },
 "nbformat": 4,
 "nbformat_minor": 2
}
