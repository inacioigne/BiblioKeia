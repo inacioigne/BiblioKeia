{
 "cells": [
  {
   "cell_type": "code",
   "execution_count": 1,
   "metadata": {},
   "outputs": [],
   "source": [
    "import httpx"
   ]
  },
  {
   "cell_type": "code",
   "execution_count": 2,
   "metadata": {},
   "outputs": [
    {
     "data": {
      "text/plain": [
       "<Response [200 OK]>"
      ]
     },
     "execution_count": 2,
     "metadata": {},
     "output_type": "execute_result"
    }
   ],
   "source": [
    "url = 'https://translate.google.com/?sl=en&tl=pt&text=Methodology&op=translate'\n",
    "r = httpx.get(url)\n",
    "r"
   ]
  },
  {
   "cell_type": "code",
   "execution_count": 4,
   "metadata": {},
   "outputs": [],
   "source": [
    "import concurrent.futures\n",
    "import requests\n",
    "import re\n",
    "import os"
   ]
  },
  {
   "cell_type": "code",
   "execution_count": 6,
   "metadata": {},
   "outputs": [],
   "source": [
    "class Translate:\n",
    "    def __init__(self, source_language='auto', target_language='tr', timeout=5):\n",
    "        self.source_language = source_language\n",
    "        self.target_language = target_language\n",
    "        self.timeout = timeout\n",
    "        self.pattern = r'(?s)class=\"(?:t0|result-container)\">(.*?)<'\n",
    "\n",
    "    def make_request(self, target_language, source_language, text, timeout):\n",
    "        url = 'https://translate.google.com/m?tl=%s&sl=%s&q=%s'%(target_language, source_language, text)\n",
    "        response = requests.get(url, timeout=timeout)\n",
    "        result = response.text.encode('utf8').decode('utf8')\n",
    "        result = re.findall(self.pattern, result)\n",
    "        if not result:\n",
    "            print('\\nError: Unknown error.')\n",
    "            f = open('error.txt')\n",
    "            f.write(response.text)\n",
    "            f.close()\n",
    "            exit(0)\n",
    "        return result[0]\n",
    "\n",
    "    def translate(self, text, target_language='', source_language='', timeout=''):\n",
    "        if not target_language:\n",
    "            target_language = self.target_language\n",
    "        if not source_language:\n",
    "            source_language = self.source_language\n",
    "        if not timeout:\n",
    "            timeout = self.timeout\n",
    "        if len(text) > 5000:\n",
    "            print('\\nError: It can only detect 5000 characters at once. (%d characters found.)'%(len(text)))\n",
    "            exit(0)    \n",
    "        if type(target_language) is list:\n",
    "            with concurrent.futures.ThreadPoolExecutor() as executor:\n",
    "                futures = [executor.submit(self.make_request, target, source_language, text, timeout) for target in target_language]\n",
    "                return_value = [f.result() for f in futures]\n",
    "                return return_value\n",
    "        return self.make_request(target_language, source_language, text, timeout)"
   ]
  },
  {
   "cell_type": "code",
   "execution_count": 7,
   "metadata": {},
   "outputs": [],
   "source": [
    "translator = Translate(\n",
    "    source_language='en',\n",
    "    target_language='pt',\n",
    "    timeout=10\n",
    ")"
   ]
  },
  {
   "cell_type": "code",
   "execution_count": 8,
   "metadata": {},
   "outputs": [
    {
     "data": {
      "text/plain": [
       "'metodologia'"
      ]
     },
     "execution_count": 8,
     "metadata": {},
     "output_type": "execute_result"
    }
   ],
   "source": [
    "result = translator.translate('methodology')\n",
    "result"
   ]
  }
 ],
 "metadata": {
  "kernelspec": {
   "display_name": "Python 3.10.4 ('venv': venv)",
   "language": "python",
   "name": "python3"
  },
  "language_info": {
   "codemirror_mode": {
    "name": "ipython",
    "version": 3
   },
   "file_extension": ".py",
   "mimetype": "text/x-python",
   "name": "python",
   "nbconvert_exporter": "python",
   "pygments_lexer": "ipython3",
   "version": "3.10.4"
  },
  "orig_nbformat": 4,
  "vscode": {
   "interpreter": {
    "hash": "7c803f0ee3b2b2cd03f94fb28d6f360d094e6843888122798203f226e128b66e"
   }
  }
 },
 "nbformat": 4,
 "nbformat_minor": 2
}
