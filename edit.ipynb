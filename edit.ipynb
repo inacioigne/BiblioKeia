{
 "cells": [
  {
   "cell_type": "code",
   "execution_count": 67,
   "metadata": {},
   "outputs": [],
   "source": [
    "from pyfuseki import FusekiUpdate, FusekiQuery\n",
    "import httpx\n",
    "from rdflib import Graph\n",
    "from pysolr import Solr\n",
    "# from api.src.schemas.cataloguing.edit import BfEdit\n",
    "from pydantic import BaseModel\n",
    "from typing import Union"
   ]
  },
  {
   "cell_type": "code",
   "execution_count": 68,
   "metadata": {},
   "outputs": [],
   "source": [
    "class Data(BaseModel):\n",
    "    action: str\n",
    "    bf: str\n",
    "    value: Union[dict, str]\n",
    "\n",
    "class BfEdit(BaseModel):\n",
    "    listData: list[Data]"
   ]
  },
  {
   "cell_type": "code",
   "execution_count": 30,
   "metadata": {},
   "outputs": [
    {
     "data": {
      "text/plain": [
       "{'statusCode': 200, 'message': 'Update succeeded'}"
      ]
     },
     "execution_count": 30,
     "metadata": {},
     "output_type": "execute_result"
    }
   ],
   "source": [
    "au_update = FusekiUpdate('http://localhost:3030', 'acervo')\n",
    "\n",
    "d = \"\"\"DELETE { graph ?g { ?s ?p ?o } } \n",
    "        WHERE {\n",
    "        graph ?g {?s ?p ?o.}\n",
    "        }\"\"\"\n",
    "\n",
    "response = au_update.run_sparql(d)\n",
    "response.convert()"
   ]
  },
  {
   "cell_type": "code",
   "execution_count": 121,
   "metadata": {},
   "outputs": [
    {
     "data": {
      "text/plain": [
       "BfEdit(listData=[Data(action='edit', bf='title', value={'mainTitle': 'The journey of humanity v.4'}), Data(action='add', bf='type', value='Monograph'), Data(action='edit', bf='classification', value={'classificationPortion': '338.9001', 'itemPortion': 'O48j'}), Data(action='add', bf='content', value={'uri': 'http://id.loc.gov/vocabulary/contentTypes/txt', 'label': 'Texto'}), Data(action='remove', bf='contribution', value={'type': ['bflc:PrimaryContribution', 'bf:Contribution'], 'agent': 'http://id.loc.gov/rwo/agents/n86870523', 'label': 'AUTHOR', 'role': 'http://id.loc.gov/vocabulary/relators/TESTE'})])"
      ]
     },
     "execution_count": 121,
     "metadata": {},
     "output_type": "execute_result"
    }
   ],
   "source": [
    "obj = {\n",
    "  \"listData\": [\n",
    "    {\n",
    "      \"action\": \"edit\",\n",
    "      \"bf\": \"title\",\n",
    "      \"value\": {\n",
    "          \"mainTitle\": \"The journey of humanity v.4\"\n",
    "      } \n",
    "    },\n",
    "    {\n",
    "      \"action\": \"add\",\n",
    "      \"bf\": \"type\",\n",
    "      \"value\": \"Monograph\"\n",
    "    },\n",
    "    {\n",
    "      \"action\": \"edit\",\n",
    "      \"bf\": \"classification\",\n",
    "      \"value\":{\n",
    "          \"classificationPortion\": \"338.9001\",\n",
    "          \"itemPortion\": \"O48j\"\n",
    "      } \n",
    "    },\n",
    "    {\n",
    "      \"action\": \"add\",\n",
    "      \"bf\": \"content\",\n",
    "      \"value\":{\n",
    "          \"uri\": \"http://id.loc.gov/vocabulary/contentTypes/txt\",\n",
    "          \"label\": \"Texto\"\n",
    "      } \n",
    "    },\n",
    "    {\n",
    "      \"action\": \"remove\",\n",
    "      \"bf\": \"contribution\",\n",
    "      \"value\":{\n",
    "          \"type\": [\"bflc:PrimaryContribution\" , \"bf:Contribution\" ],\n",
    "          \"agent\": \"http://id.loc.gov/rwo/agents/n86870523\",\n",
    "          \"label\": \"AUTHOR\",\n",
    "          \"role\": \"http://id.loc.gov/vocabulary/relators/TESTE\"\n",
    "      } \n",
    "    }\n",
    "  ]\n",
    "}\n",
    "\n",
    "request = BfEdit(**obj)\n",
    "request"
   ]
  },
  {
   "cell_type": "code",
   "execution_count": 120,
   "metadata": {},
   "outputs": [],
   "source": [
    "uri = 'https://bibliokeia.com/resources/work/bk-1'\n",
    "acervo = FusekiUpdate('http://localhost:3030', 'acervo')\n",
    "\n",
    "def EditTitle(uri, data):\n",
    "    up = f\"\"\"PREFIX bf: <http://id.loc.gov/ontologies/bibframe/>\n",
    "        PREFIX rdf: <http://www.w3.org/1999/02/22-rdf-syntax-ns#>\n",
    "        WITH <{uri}>\n",
    "        DELETE {{  <{uri}> bf:title ?o .\n",
    "                        ?o ?p ?s}}\n",
    "        INSERT {{ <{uri}> bf:title ?o .\n",
    "                    ?o rdf:type bf:Title .\n",
    "                    ?o bf:mainTitle \"{data.value.get('mainTitle')}\" .\n",
    "                    { f'?o bf:subtitle \"{data.value.get(\"subtitle\")}\"' if data.value.get('subtitle') else '' }\n",
    "                      }}\n",
    "        WHERE {{ <{uri}> bf:title ?o .\n",
    "                        ?o ?p ?s }} \"\"\"\n",
    "    # print(up)\n",
    "    response = acervo.run_sparql(up)\n",
    "    print(response.convert())\n",
    "\n",
    "def EditType(uri, data):\n",
    "\n",
    "    if data.action == 'remove':\n",
    "        sparql = f\"\"\"PREFIX rdf: <http://www.w3.org/1999/02/22-rdf-syntax-ns#>\n",
    "                PREFIX bf: <http://id.loc.gov/ontologies/bibframe/>\n",
    "                DELETE DATA\n",
    "                {{ GRAPH <{uri}>\n",
    "                {{ <{uri}> rdf:type  bf:{data.value} }} }} ;\"\"\"\n",
    "        response = acervo.run_sparql(sparql)\n",
    "        print(response.convert())\n",
    "    if data.action == 'add':\n",
    "        sparql = f\"\"\"PREFIX rdf: <http://www.w3.org/1999/02/22-rdf-syntax-ns#>\n",
    "                PREFIX bf: <http://id.loc.gov/ontologies/bibframe/>\n",
    "                INSERT DATA\n",
    "                {{ GRAPH <{uri}>\n",
    "                {{ <{uri}> rdf:type  bf:{data.value} }} }} ;\"\"\"\n",
    "        response = acervo.run_sparql(sparql)\n",
    "        print(response.convert())\n",
    "\n",
    "def EditClassification(uri, data):\n",
    "    sparql = f\"\"\"PREFIX bf: <http://id.loc.gov/ontologies/bibframe/>\n",
    "        PREFIX rdf: <http://www.w3.org/1999/02/22-rdf-syntax-ns#>\n",
    "        WITH <{uri}>\n",
    "        DELETE {{  <{uri}> bf:classification ?o .\n",
    "                        ?o ?p ?s}}\n",
    "        INSERT {{ <{uri}> bf:classification ?o .\n",
    "                    ?o rdf:type bf:ClassificationDdc .\n",
    "                    ?o bf:classificationPortion \"{data.value.get('classificationPortion')}\" .\n",
    "                    { f'?o bf:itemPortion \"{data.value.get(\"itemPortion\")}\"' if data.value.get('itemPortion') else '' }\n",
    "                    }}\n",
    "        WHERE {{ <{uri}> bf:classification ?o .\n",
    "                        ?o ?p ?s }} \"\"\"\n",
    "    # print(up)\n",
    "    response = acervo.run_sparql(sparql)\n",
    "    print(response.convert())\n",
    "    \n",
    "def EditContent(uri, data):\n",
    "\n",
    "    if data.action == 'remove':\n",
    "        sparql = f\"\"\"PREFIX rdf: <http://www.w3.org/1999/02/22-rdf-syntax-ns#>\n",
    "                PREFIX bf: <http://id.loc.gov/ontologies/bibframe/>\n",
    "                DELETE DATA\n",
    "                {{ GRAPH <{uri}>\n",
    "                {{ <{uri}> bf:content <{data.value.get('uri')}> }} }} ; \"\"\"\n",
    "        response = acervo.run_sparql(sparql)\n",
    "        print(response.convert())\n",
    "    if data.action == 'add':\n",
    "        sparql = f\"\"\"PREFIX rdf: <http://www.w3.org/1999/02/22-rdf-syntax-ns#>\n",
    "                PREFIX bf: <http://id.loc.gov/ontologies/bibframe/>\n",
    "                INSERT DATA\n",
    "                {{ GRAPH <{uri}>\n",
    "                {{ <{uri}> bf:content <{data.value.get('uri')}> }} }} ; \"\"\"\n",
    "        response = acervo.run_sparql(sparql)\n",
    "        print(response.convert())\n",
    "\n",
    "def EditContribution(uri, data):\n",
    "\n",
    "    if data.action == 'edit':\n",
    "        sparql = f\"\"\"PREFIX bf: <http://id.loc.gov/ontologies/bibframe/>\n",
    "        PREFIX rdf: <http://www.w3.org/1999/02/22-rdf-syntax-ns#>\n",
    "        PREFIX bflc:    <http://id.loc.gov/ontologies/bflc/> \n",
    "        WITH <{uri}>\n",
    "        DELETE {{  <{uri}> bf:contribution ?o .\n",
    "                        ?o ?p ?s }}\n",
    "        INSERT {{ <{uri}> bf:contribution ?o .\n",
    "                  ?o rdf:type {\", \".join(data.value.get('type'))} .\n",
    "                  ?o bf:agent  <{data.value.get('agent')}> .\n",
    "                  { f'?o bf:role \"{data.value.get(\"role\")}\"' if data.value.get('role') else '' }\n",
    "                }}\n",
    "        WHERE {{ <{uri}> bf:contribution ?o .\n",
    "                    ?o bf:agent  <{data.value.get('agent')}> .}} \"\"\"\n",
    "        response = acervo.run_sparql(sparql)\n",
    "        print(response.convert())\n",
    "    elif data.action == 'remove':\n",
    "        sparql = f\"\"\"PREFIX bf: <http://id.loc.gov/ontologies/bibframe/>\n",
    "        PREFIX rdf: <http://www.w3.org/1999/02/22-rdf-syntax-ns#>\n",
    "        PREFIX bflc:    <http://id.loc.gov/ontologies/bflc/> \n",
    "        WITH <{uri}>\n",
    "        DELETE {{ <{uri}> bf:contribution ?o .\n",
    "                    ?o ?p ?s }}\n",
    "        WHERE {{ <{uri}> bf:contribution ?o .\n",
    "                    ?o bf:agent  <{data.value.get('agent')}> . }} \"\"\"\n",
    "        response = acervo.run_sparql(sparql)\n",
    "        print(response.convert())\n",
    "    elif data.action == 'add':\n",
    "        \n",
    "        \n",
    "        \n",
    "\n"
   ]
  },
  {
   "cell_type": "code",
   "execution_count": 119,
   "metadata": {},
   "outputs": [
    {
     "name": "stdout",
     "output_type": "stream",
     "text": [
      "PREFIX bf: <http://id.loc.gov/ontologies/bibframe/>\n",
      "        PREFIX rdf: <http://www.w3.org/1999/02/22-rdf-syntax-ns#>\n",
      "        PREFIX bflc:    <http://id.loc.gov/ontologies/bflc/> \n",
      "        WITH <https://bibliokeia.com/resources/work/bk-1>\n",
      "        DELETE {  <https://bibliokeia.com/resources/work/bk-1> bf:contribution ?o .\n",
      "                        ?o ?p ?s }\n",
      "        INSERT { <https://bibliokeia.com/resources/work/bk-1> bf:contribution ?o .\n",
      "                  ?o rdf:type bflc:PrimaryContribution, bf:Contribution .\n",
      "                  ?o bf:agent  <http://id.loc.gov/rwo/agents/n86870523> .\n",
      "                  ?o bf:role \"http://id.loc.gov/vocabulary/relators/TESTE\"\n",
      "                }\n",
      "        WHERE { <https://bibliokeia.com/resources/work/bk-1> bf:contribution ?o .\n",
      "                        ?o ?p ?s } \n"
     ]
    }
   ],
   "source": [
    "sparql = f\"\"\"PREFIX bf: <http://id.loc.gov/ontologies/bibframe/>\n",
    "        PREFIX rdf: <http://www.w3.org/1999/02/22-rdf-syntax-ns#>\n",
    "        PREFIX bflc:    <http://id.loc.gov/ontologies/bflc/> \n",
    "        WITH <{uri}>\n",
    "        DELETE {{  <{uri}> bf:contribution ?o .\n",
    "                        ?o ?p ?s }}\n",
    "        INSERT {{ <{uri}> bf:contribution ?o .\n",
    "                  ?o rdf:type {\", \".join(data.value.get('type'))} .\n",
    "                  ?o bf:agent  <{data.value.get('agent')}> .\n",
    "                  { f'?o bf:role \"{data.value.get(\"role\")}\"' if data.value.get('role') else '' }\n",
    "                }}\n",
    "        WHERE {{ <{uri}> bf:contribution ?o .\n",
    "                        ?o ?p ?s }} \"\"\"\n",
    "print(sparql)"
   ]
  },
  {
   "cell_type": "code",
   "execution_count": 116,
   "metadata": {},
   "outputs": [
    {
     "name": "stdout",
     "output_type": "stream",
     "text": [
      "{'statusCode': 200, 'message': 'Update succeeded'}\n"
     ]
    }
   ],
   "source": [
    "sparql = f\"\"\"PREFIX rdf: <http://www.w3.org/1999/02/22-rdf-syntax-ns#>\n",
    "                PREFIX bf: <http://id.loc.gov/ontologies/bibframe/>\n",
    "                PREFIX bflc:    <http://id.loc.gov/ontologies/bflc/> \n",
    "                INSERT DATA\n",
    "                {{ GRAPH <{uri}>\n",
    "                {{ <{uri}> bf:contribution [ rdf:type  bflc:PrimaryContribution , bf:Contribution ;\n",
    "                                   bf:agent  <http://id.loc.gov/rwo/agents/n86870523> ;\n",
    "                                   bf:role   <http://id.loc.gov/vocabulary/relators/aut>\n",
    "                                 ] }} }} ; \"\"\"\n",
    "response = acervo.run_sparql(sparql)\n",
    "print(response.convert())"
   ]
  },
  {
   "cell_type": "code",
   "execution_count": 117,
   "metadata": {},
   "outputs": [
    {
     "name": "stdout",
     "output_type": "stream",
     "text": [
      "{'statusCode': 200, 'message': 'Update succeeded'}\n"
     ]
    }
   ],
   "source": [
    "sparql = f\"\"\"PREFIX bf: <http://id.loc.gov/ontologies/bibframe/>\n",
    "        PREFIX rdf: <http://www.w3.org/1999/02/22-rdf-syntax-ns#>\n",
    "        PREFIX bflc:    <http://id.loc.gov/ontologies/bflc/> \n",
    "        WITH <{uri}>\n",
    "        DELETE {{  <{uri}> bf:contribution ?o .\n",
    "                        ?o ?p ?s }}\n",
    "        INSERT {{ <{uri}> bf:contribution ?o .\n",
    "                  ?o rdf:type bflc:PrimaryContribution , bf:Contribution .\n",
    "                  ?o bf:agent  <http://id.loc.gov/rwo/agents/n86870523> .\n",
    "                  ?o bf:role   <http://id.loc.gov/vocabulary/relators/TESTE> }}\n",
    "        WHERE {{ <{uri}> bf:contribution ?o .\n",
    "                        ?o ?p ?s }} \"\"\"\n",
    "response = acervo.run_sparql(sparql)\n",
    "print(response.convert())\n"
   ]
  },
  {
   "cell_type": "code",
   "execution_count": 125,
   "metadata": {},
   "outputs": [
    {
     "name": "stdout",
     "output_type": "stream",
     "text": [
      "{'statusCode': 200, 'message': 'Update succeeded'}\n"
     ]
    }
   ],
   "source": [
    "sparql = f\"\"\"PREFIX rdf: <http://www.w3.org/1999/02/22-rdf-syntax-ns#>\n",
    "            PREFIX bflc:    <http://id.loc.gov/ontologies/bflc/> \n",
    "            PREFIX bf: <http://id.loc.gov/ontologies/bibframe/>\n",
    "            INSERT DATA\n",
    "            {{ GRAPH <{uri}>\n",
    "            {{ <{uri}> bf:contribution [ a bflc:PrimaryContribution,\n",
    "                            bf:Contribution ;\n",
    "                        bf:agent <http://id.loc.gov/rwo/agents/n86870523> ; \n",
    "                        bf:role <http://id.loc.gov/vocabulary/relators/aut1> ] ; }} }} ; \"\"\"\n",
    "response = acervo.run_sparql(sparql)\n",
    "print(response.convert())"
   ]
  },
  {
   "cell_type": "code",
   "execution_count": 122,
   "metadata": {},
   "outputs": [
    {
     "name": "stdout",
     "output_type": "stream",
     "text": [
      "{'statusCode': 200, 'message': 'Update succeeded'}\n"
     ]
    }
   ],
   "source": [
    "for data in request.listData:\n",
    "    if data.bf == 'title':\n",
    "        # EditTitle(uri, data)\n",
    "            # print(data.value.get('subtitle'))\n",
    "        pass\n",
    "    elif data.bf == 'type':\n",
    "        # EditTitle(uri, data)\n",
    "        # print(data)\n",
    "        pass\n",
    "    elif data.bf == 'classification':\n",
    "        # EditClassification(uri, data)\n",
    "        # print(data)\n",
    "        pass\n",
    "    elif data.bf == 'content':\n",
    "        # EditContent(uri, data)\n",
    "        # print(data)\n",
    "        pass\n",
    "    elif data.bf == 'contribution':\n",
    "        EditContribution(uri, data)\n",
    "        # print(data)\n"
   ]
  },
  {
   "cell_type": "code",
   "execution_count": 3,
   "metadata": {},
   "outputs": [
    {
     "data": {
      "text/plain": [
       "'<?xml version=\"1.0\" encoding=\"UTF-8\"?>\\n<response>\\n\\n<lst name=\"responseHeader\">\\n  <int name=\"status\">0</int>\\n  <int name=\"QTime\">177</int>\\n</lst>\\n</response>\\n'"
      ]
     },
     "execution_count": 3,
     "metadata": {},
     "output_type": "execute_result"
    }
   ],
   "source": [
    "\n",
    "\n",
    "solr = Solr('http://localhost:8983/solr/authorities/', timeout=10)\n",
    "solr.delete(q=\"*:*\",  commit=True)\n"
   ]
  },
  {
   "cell_type": "code",
   "execution_count": 2,
   "metadata": {},
   "outputs": [],
   "source": [
    "au_update = FusekiUpdate('http://localhost:3030', 'acervo')"
   ]
  },
  {
   "cell_type": "code",
   "execution_count": 3,
   "metadata": {},
   "outputs": [
    {
     "data": {
      "text/plain": [
       "{'statusCode': 200, 'message': 'Update succeeded'}"
      ]
     },
     "execution_count": 3,
     "metadata": {},
     "output_type": "execute_result"
    }
   ],
   "source": [
    "clear = \"CLEAR DEFAULT\"\n",
    "r = au_update.run_sparql(clear)\n",
    "r.convert()"
   ]
  },
  {
   "cell_type": "code",
   "execution_count": 6,
   "metadata": {},
   "outputs": [
    {
     "data": {
      "text/plain": [
       "{'statusCode': 200, 'message': 'Update succeeded'}"
      ]
     },
     "execution_count": 6,
     "metadata": {},
     "output_type": "execute_result"
    }
   ],
   "source": [
    "au_update = FusekiUpdate('http://localhost:3030', 'authorities')\n",
    "\n",
    "d = \"\"\"DELETE { graph ?g { ?s ?p ?o } } \n",
    "        WHERE {\n",
    "        graph ?g {?s ?p ?o.}\n",
    "        }\"\"\"\n",
    "\n",
    "response = au_update.run_sparql(d)\n",
    "response.convert()"
   ]
  },
  {
   "cell_type": "code",
   "execution_count": 10,
   "metadata": {},
   "outputs": [
    {
     "data": {
      "text/plain": [
       "{'id': 'bkau-2', 'jena': 'Update succeeded'}"
      ]
     },
     "execution_count": 10,
     "metadata": {},
     "output_type": "execute_result"
    }
   ],
   "source": [
    "headers = {\n",
    "    'accept': 'application/json',\n",
    "    'Content-Type': 'application/json',\n",
    "}\n",
    "response = httpx.post('http://localhost:8000/authorities/subject/', headers=headers, json=r.json())\n",
    "response.json()"
   ]
  }
 ],
 "metadata": {
  "kernelspec": {
   "display_name": "Python 3.11.0 ('venv': venv)",
   "language": "python",
   "name": "python3"
  },
  "language_info": {
   "codemirror_mode": {
    "name": "ipython",
    "version": 3
   },
   "file_extension": ".py",
   "mimetype": "text/x-python",
   "name": "python",
   "nbconvert_exporter": "python",
   "pygments_lexer": "ipython3",
   "version": "3.10.4"
  },
  "orig_nbformat": 4,
  "vscode": {
   "interpreter": {
    "hash": "5df21a170a08fe7c24b5b1091267edae5bad3984f1116f28e957af7dd8f192dc"
   }
  }
 },
 "nbformat": 4,
 "nbformat_minor": 2
}
