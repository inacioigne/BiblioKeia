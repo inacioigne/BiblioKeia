{
 "cells": [
  {
   "cell_type": "code",
   "execution_count": 27,
   "metadata": {},
   "outputs": [
    {
     "ename": "ModuleNotFoundError",
     "evalue": "No module named 'src'",
     "output_type": "error",
     "traceback": [
      "\u001b[1;31m---------------------------------------------------------------------------\u001b[0m",
      "\u001b[1;31mModuleNotFoundError\u001b[0m                       Traceback (most recent call last)",
      "\u001b[1;32mc:\\Users\\Usuário\\Desktop\\BiblioKeia\\edit.ipynb Cell 1\u001b[0m in \u001b[0;36m<cell line: 5>\u001b[1;34m()\u001b[0m\n\u001b[0;32m      <a href='vscode-notebook-cell:/c%3A/Users/Usu%C3%A1rio/Desktop/BiblioKeia/edit.ipynb#W0sZmlsZQ%3D%3D?line=2'>3</a>\u001b[0m \u001b[39mfrom\u001b[39;00m \u001b[39mrdflib\u001b[39;00m \u001b[39mimport\u001b[39;00m Graph\n\u001b[0;32m      <a href='vscode-notebook-cell:/c%3A/Users/Usu%C3%A1rio/Desktop/BiblioKeia/edit.ipynb#W0sZmlsZQ%3D%3D?line=3'>4</a>\u001b[0m \u001b[39mfrom\u001b[39;00m \u001b[39mapi\u001b[39;00m\u001b[39m.\u001b[39;00m\u001b[39msrc\u001b[39;00m\u001b[39m.\u001b[39;00m\u001b[39mfunction\u001b[39;00m\u001b[39m.\u001b[39;00m\u001b[39mauthorities\u001b[39;00m\u001b[39m.\u001b[39;00m\u001b[39mmakeGraph\u001b[39;00m \u001b[39mimport\u001b[39;00m MakeGraphSubject\n\u001b[1;32m----> <a href='vscode-notebook-cell:/c%3A/Users/Usu%C3%A1rio/Desktop/BiblioKeia/edit.ipynb#W0sZmlsZQ%3D%3D?line=4'>5</a>\u001b[0m \u001b[39mfrom\u001b[39;00m \u001b[39mapi\u001b[39;00m\u001b[39m.\u001b[39;00m\u001b[39msrc\u001b[39;00m\u001b[39m.\u001b[39;00m\u001b[39mschemas\u001b[39;00m\u001b[39m.\u001b[39;00m\u001b[39mauthorities\u001b[39;00m\u001b[39m.\u001b[39;00m\u001b[39msubject\u001b[39;00m \u001b[39mimport\u001b[39;00m Subject\n",
      "File \u001b[1;32mc:\\Users\\Usuário\\Desktop\\BiblioKeia\\api\\src\\schemas\\authorities\\subject.py:4\u001b[0m, in \u001b[0;36m<module>\u001b[1;34m\u001b[0m\n\u001b[0;32m      2\u001b[0m \u001b[39mfrom\u001b[39;00m \u001b[39mtyping\u001b[39;00m \u001b[39mimport\u001b[39;00m Optional, Union\n\u001b[0;32m      3\u001b[0m \u001b[39mfrom\u001b[39;00m \u001b[39mdatetime\u001b[39;00m \u001b[39mimport\u001b[39;00m datetime\n\u001b[1;32m----> 4\u001b[0m \u001b[39mfrom\u001b[39;00m \u001b[39msrc\u001b[39;00m\u001b[39m.\u001b[39;00m\u001b[39mschemas\u001b[39;00m\u001b[39m.\u001b[39;00m\u001b[39mauthorities\u001b[39;00m\u001b[39m.\u001b[39;00m\u001b[39mmads\u001b[39;00m \u001b[39mimport\u001b[39;00m Authority\n\u001b[0;32m      5\u001b[0m \u001b[39mfrom\u001b[39;00m \u001b[39msrc\u001b[39;00m\u001b[39m.\u001b[39;00m\u001b[39mschemas\u001b[39;00m\u001b[39m.\u001b[39;00m\u001b[39mauthorities\u001b[39;00m\u001b[39m.\u001b[39;00m\u001b[39mauthority\u001b[39;00m \u001b[39mimport\u001b[39;00m Uri, Variant, AdminMetadata, Element\n\u001b[0;32m      7\u001b[0m \u001b[39mclass\u001b[39;00m \u001b[39mValue\u001b[39;00m(BaseModel):\n",
      "\u001b[1;31mModuleNotFoundError\u001b[0m: No module named 'src'"
     ]
    }
   ],
   "source": [
    "from pyfuseki import FusekiUpdate, FusekiQuery\n",
    "import httpx\n",
    "from rdflib import Graph\n",
    "from api.src.function.authorities.makeGraph import MakeGraphSubject\n",
    "from api.src.schemas.authorities.subject import Subject"
   ]
  },
  {
   "cell_type": "code",
   "execution_count": 4,
   "metadata": {},
   "outputs": [],
   "source": [
    "au_update = FusekiUpdate('http://localhost:3030', 'authorities')"
   ]
  },
  {
   "cell_type": "code",
   "execution_count": 5,
   "metadata": {},
   "outputs": [
    {
     "data": {
      "text/plain": [
       "{'statusCode': 200, 'message': 'Update succeeded'}"
      ]
     },
     "execution_count": 5,
     "metadata": {},
     "output_type": "execute_result"
    }
   ],
   "source": [
    "clear = \"CLEAR DEFAULT\"\n",
    "r = au_update.run_sparql(clear)\n",
    "r.convert()"
   ]
  },
  {
   "cell_type": "code",
   "execution_count": 28,
   "metadata": {},
   "outputs": [
    {
     "data": {
      "text/plain": [
       "{'statusCode': 200, 'message': 'Update succeeded'}"
      ]
     },
     "execution_count": 28,
     "metadata": {},
     "output_type": "execute_result"
    }
   ],
   "source": [
    "au_update = FusekiUpdate('http://localhost:3030', 'authorities')\n",
    "\n",
    "d = \"\"\"DELETE { graph ?g { ?s ?p ?o } } \n",
    "        WHERE {\n",
    "        graph ?g {?s ?p ?o.}\n",
    "        }\"\"\"\n",
    "\n",
    "response = au_update.run_sparql(d)\n",
    "response.convert()"
   ]
  },
  {
   "cell_type": "code",
   "execution_count": 29,
   "metadata": {},
   "outputs": [
    {
     "data": {
      "text/plain": [
       "{'type': 'Topic',\n",
       " 'adminMetadata': {'assigner': 'http://id.loc.gov/vocabulary/organizations/dlc',\n",
       "  'descriptionModifier': 'http://id.loc.gov/vocabulary/organizations/brmninpa',\n",
       "  'creationDate': '2023-05-17',\n",
       "  'descriptionLanguage': 'http://id.loc.gov/vocabulary/languages/por',\n",
       "  'generationProcess': 'BiblioKeia v.1',\n",
       "  'generationDate': '2023-05-17T16:04:58',\n",
       "  'identifiedBy': [{'type': 'Lccn',\n",
       "    'assigner': 'http://id.loc.gov/vocabulary/organizations/dlc',\n",
       "    'value': 'sh85004835'}],\n",
       "  'status': {'value': 'mstatus:new', 'label': 'novo'}},\n",
       " 'elementList': [{'type': 'TopicElement',\n",
       "   'elementValue': {'value': 'Anatomia', 'lang': 'pt'}}],\n",
       " 'note': 'Aqui são inseridos trabalhos sobre anatomia em geral, bem como trabalhos específicos sobre anatomia animal.',\n",
       " 'hasReciprocalAuthority': None,\n",
       " 'hasReciprocalExternalAuthority': [{'value': 'http://id.loc.gov/authorities/subjects/sh85101679',\n",
       "   'label': {'value': 'Physiology', 'lang': 'en'},\n",
       "   'base': 'loc'}],\n",
       " 'hasBroaderAuthority': None,\n",
       " 'hasBroaderExternalAuthority': [{'value': 'http://id.loc.gov/authorities/subjects/sh85014203',\n",
       "   'label': {'value': 'Biology', 'lang': 'en'},\n",
       "   'base': 'loc'}],\n",
       " 'hasNarrowerAuthority': None,\n",
       " 'hasNarrowerExternalAuthority': [{'value': 'http://id.loc.gov/authorities/subjects/sh2020001137',\n",
       "   'label': {'value': 'Bivalves--Anatomy', 'lang': 'en'},\n",
       "   'base': 'loc'},\n",
       "  {'value': 'http://id.loc.gov/authorities/subjects/sh85095590',\n",
       "   'label': {'value': 'Organs (Anatomy)', 'lang': 'en'},\n",
       "   'base': 'loc'},\n",
       "  {'value': 'http://id.loc.gov/authorities/subjects/sh85046619',\n",
       "   'label': {'value': 'Extremities (Anatomy)', 'lang': 'en'},\n",
       "   'base': 'loc'},\n",
       "  {'value': 'http://id.loc.gov/authorities/subjects/sh86006453',\n",
       "   'label': {'value': 'Immune system', 'lang': 'en'},\n",
       "   'base': 'loc'},\n",
       "  {'value': 'http://id.loc.gov/authorities/subjects/sh85124799',\n",
       "   'label': {'value': 'Somite', 'lang': 'en'},\n",
       "   'base': 'loc'},\n",
       "  {'value': 'http://id.loc.gov/authorities/subjects/sh85134954',\n",
       "   'label': {'value': 'Thorax (Zoology)', 'lang': 'en'},\n",
       "   'base': 'loc'},\n",
       "  {'value': 'http://id.loc.gov/authorities/subjects/sh85099317',\n",
       "   'label': {'value': 'Pelvis', 'lang': 'en'},\n",
       "   'base': 'loc'},\n",
       "  {'value': 'http://id.loc.gov/authorities/subjects/sh85091113',\n",
       "   'label': {'value': 'Neuroanatomy', 'lang': 'en'},\n",
       "   'base': 'loc'},\n",
       "  {'value': 'http://id.loc.gov/authorities/subjects/sh85004839',\n",
       "   'label': {'value': 'Human anatomy', 'lang': 'en'},\n",
       "   'base': 'loc'},\n",
       "  {'value': 'http://id.loc.gov/authorities/subjects/sh85015240',\n",
       "   'label': {'value': 'Body covering (Anatomy)', 'lang': 'en'},\n",
       "   'base': 'loc'},\n",
       "  {'value': 'http://id.loc.gov/authorities/subjects/sh85004844',\n",
       "   'label': {'value': 'Anatomy, Pathological', 'lang': 'en'},\n",
       "   'base': 'loc'},\n",
       "  {'value': 'http://id.loc.gov/authorities/subjects/sh2021005067',\n",
       "   'label': {'value': 'Classification--Books--Anatomy', 'lang': 'en'},\n",
       "   'base': 'loc'},\n",
       "  {'value': 'http://id.loc.gov/authorities/subjects/sh2006020241',\n",
       "   'label': {'value': 'Sting (Anatomy)', 'lang': 'en'},\n",
       "   'base': 'loc'},\n",
       "  {'value': 'http://id.loc.gov/authorities/subjects/sh85010785',\n",
       "   'label': {'value': 'Back', 'lang': 'en'},\n",
       "   'base': 'loc'},\n",
       "  {'value': 'http://id.loc.gov/authorities/subjects/sh85015978',\n",
       "   'label': {'value': 'Plant anatomy', 'lang': 'en'},\n",
       "   'base': 'loc'},\n",
       "  {'value': 'http://id.loc.gov/authorities/subjects/sh85122089',\n",
       "   'label': {'value': 'Shoulder', 'lang': 'en'},\n",
       "   'base': 'loc'},\n",
       "  {'value': 'http://id.loc.gov/authorities/subjects/sh2003007695',\n",
       "   'label': {'value': 'Embryos--Anatomy', 'lang': 'en'},\n",
       "   'base': 'loc'},\n",
       "  {'value': 'http://id.loc.gov/authorities/subjects/sh85143003',\n",
       "   'label': {'value': 'Veterinary anatomy', 'lang': 'en'},\n",
       "   'base': 'loc'},\n",
       "  {'value': 'http://id.loc.gov/authorities/subjects/sh96011496',\n",
       "   'label': {'value': 'Body cavities', 'lang': 'en'},\n",
       "   'base': 'loc'},\n",
       "  {'value': 'http://id.loc.gov/authorities/subjects/sh85061084',\n",
       "   'label': {'value': 'Histology', 'lang': 'en'},\n",
       "   'base': 'loc'},\n",
       "  {'value': 'http://id.loc.gov/authorities/subjects/sh85015239',\n",
       "   'label': {'value': 'Body composition', 'lang': 'en'},\n",
       "   'base': 'loc'},\n",
       "  {'value': 'http://id.loc.gov/authorities/subjects/sh2021004182',\n",
       "   'label': {'value': 'Torso (Anatomy)', 'lang': 'en'},\n",
       "   'base': 'loc'},\n",
       "  {'value': 'http://id.loc.gov/authorities/subjects/sh2008002242',\n",
       "   'label': {'value': 'Humps (Anatomy)', 'lang': 'en'},\n",
       "   'base': 'loc'},\n",
       "  {'value': 'http://id.worldcat.org/fast/808446',\n",
       "   'label': {'value': 'Anatomy--Societies, etc.', 'lang': None},\n",
       "   'base': 'id.worldcat.org'},\n",
       "  {'value': 'http://id.worldcat.org/fast/808450',\n",
       "   'label': {'value': 'Anatomy--Study and teaching (Secondary)', 'lang': None},\n",
       "   'base': 'id.worldcat.org'},\n",
       "  {'value': 'http://id.worldcat.org/fast/808441',\n",
       "   'label': {'value': 'Anatomy--Early works to 1800', 'lang': None},\n",
       "   'base': 'id.worldcat.org'},\n",
       "  {'value': 'http://id.worldcat.org/fast/808449',\n",
       "   'label': {'value': 'Anatomy--Study and teaching (Higher)', 'lang': None},\n",
       "   'base': 'id.worldcat.org'},\n",
       "  {'value': 'http://id.worldcat.org/fast/808443',\n",
       "   'label': {'value': 'Anatomy--Models', 'lang': None},\n",
       "   'base': 'id.worldcat.org'},\n",
       "  {'value': 'http://id.worldcat.org/fast/808444',\n",
       "   'label': {'value': 'Anatomy--Periodicals', 'lang': None},\n",
       "   'base': 'id.worldcat.org'},\n",
       "  {'value': 'http://id.worldcat.org/fast/808447',\n",
       "   'label': {'value': 'Anatomy--Study and teaching', 'lang': None},\n",
       "   'base': 'id.worldcat.org'},\n",
       "  {'value': 'http://id.worldcat.org/fast/808445',\n",
       "   'label': {'value': 'Anatomy--Philosophy', 'lang': None},\n",
       "   'base': 'id.worldcat.org'}],\n",
       " 'hasCloseExternalAuthority': [{'value': 'http://lod.nal.usda.gov/nalt/47',\n",
       "   'label': {'value': 'animal anatomy', 'lang': 'en'},\n",
       "   'base': 'lod.nal.usda.gov'},\n",
       "  {'value': 'http://purl.org/bncf/tid/5617',\n",
       "   'label': {'value': 'Anatomia', 'lang': 'it'},\n",
       "   'base': 'purl.org'},\n",
       "  {'value': 'http://data.bnf.fr/ark:/12148/cb11953082s',\n",
       "   'label': {'value': 'Anatomie', 'lang': 'fr'},\n",
       "   'base': 'data.bnf.fr'},\n",
       "  {'value': 'http://www.yso.fi/onto/yso/p1523',\n",
       "   'label': {'value': 'anatomia', 'lang': 'fi'},\n",
       "   'base': 'www.yso.fi'},\n",
       "  {'value': 'http://datos.bne.es/resource/XX525078',\n",
       "   'label': {'value': 'Anatomía', 'lang': 'es'},\n",
       "   'base': 'datos.bne.es'},\n",
       "  {'value': 'http://www.wikidata.org/entity/Q514',\n",
       "   'label': {'value': 'anatomy', 'lang': None},\n",
       "   'base': 'www.wikidata.org'},\n",
       "  {'value': 'http://id.worldcat.org/fast/808440',\n",
       "   'label': {'value': 'Anatomy', 'lang': None},\n",
       "   'base': 'id.worldcat.org'},\n",
       "  {'value': 'http://d-nb.info/gnd/4001895-7',\n",
       "   'label': {'value': 'Anatomie', 'lang': 'de'},\n",
       "   'base': 'd-nb.info'}],\n",
       " 'hasExactExternalAuthority': None,\n",
       " 'hasVariant': [{'type': 'Topic',\n",
       "   'elementList': [{'type': 'TopicElement',\n",
       "     'elementValue': {'value': 'Anatomia animal', 'lang': 'pt'}}],\n",
       "   'componentList': None}],\n",
       " 'subjectOf': None,\n",
       " 'isMemberOfMADSCollection': 'http://bibliokeia.com/authorities/Topic/'}"
      ]
     },
     "execution_count": 29,
     "metadata": {},
     "output_type": "execute_result"
    }
   ],
   "source": [
    "authority = 'http://id.loc.gov/authorities/subjects/sh85004835'\n",
    "url = f'http://localhost:8000/authorities/loc/subject?uri={authority}'\n",
    "r = httpx.get(url)\n",
    "r.json()"
   ]
  },
  {
   "cell_type": "code",
   "execution_count": 23,
   "metadata": {},
   "outputs": [
    {
     "data": {
      "text/plain": [
       "<Graph identifier=N62ff3542d12641439d340b90e6fe66e8 (<class 'rdflib.graph.Graph'>)>"
      ]
     },
     "execution_count": 23,
     "metadata": {},
     "output_type": "execute_result"
    }
   ],
   "source": [
    "graph = Graph()\n",
    "graph.parse(authority)"
   ]
  },
  {
   "cell_type": "code",
   "execution_count": 30,
   "metadata": {},
   "outputs": [
    {
     "data": {
      "text/plain": [
       "{'id': 'bkau-1', 'jena': 'Update succeeded'}"
      ]
     },
     "execution_count": 30,
     "metadata": {},
     "output_type": "execute_result"
    }
   ],
   "source": [
    "headers = {\n",
    "    'accept': 'application/json',\n",
    "    'Content-Type': 'application/json',\n",
    "}\n",
    "response = httpx.post('http://localhost:8000/authorities/subject/', headers=headers, json=r.json())\n",
    "response.json()"
   ]
  },
  {
   "cell_type": "code",
   "execution_count": 10,
   "metadata": {},
   "outputs": [],
   "source": [
    "authority = \"<https://bibliokeia.com/authorities/Topic/bkau-1>\""
   ]
  },
  {
   "cell_type": "code",
   "execution_count": 14,
   "metadata": {},
   "outputs": [
    {
     "data": {
      "text/plain": [
       "{'statusCode': 200, 'message': 'Update succeeded'}"
      ]
     },
     "execution_count": 14,
     "metadata": {},
     "output_type": "execute_result"
    }
   ],
   "source": [
    "prefix = \"\"\"PREFIX name: <https://bibliokeia.com/authorities/name/>\n",
    "            PREFIX madsrdf: <http://www.loc.gov/mads/rdf/v1#>\n",
    "            PREFIX rdf: <http://www.w3.org/1999/02/22-rdf-syntax-ns#>\n",
    "            PREFIX rdfs: <http://www.w3.org/2000/01/rdf-schema#>\"\"\"\n",
    "elementValue = f\"\"\"{prefix}             \n",
    "            WITH <https://bibliokeia.com/authorities/Topic/bkau-1>\n",
    "            DELETE {{ <https://bibliokeia.com/authorities/Topic/bkau-1> madsrdf:elementList ?elementList .\n",
    "                        ?elementList rdf:first ?node .\n",
    "                        ?node madsrdf:elementValue ?value . }}\n",
    "            INSERT {{  <https://bibliokeia.com/authorities/Topic/bkau-1> madsrdf:elementList ?elementList .\n",
    "                        ?elementList rdf:first ?node .\n",
    "                        ?node madsrdf:elementValue \"Anatomia\"@pt  .  }}\n",
    "            WHERE {{ <https://bibliokeia.com/authorities/Topic/bkau-1> madsrdf:elementList ?elementList .\n",
    "                        ?elementList rdf:first ?node .\n",
    "                        ?node madsrdf:elementValue ?value .}}\"\"\"\n",
    "response = au_update.run_sparql(elementValue)\n",
    "response.convert()"
   ]
  },
  {
   "cell_type": "code",
   "execution_count": null,
   "metadata": {},
   "outputs": [],
   "source": [
    "obj = {\n",
    "    \"authority\": \"https://bibliokeia.com/authorities/Topic/bkau-1\",\n",
    "    \"value\": \"Anatomia\",\n",
    "    \"lang\": \"pt\"\n",
    "}"
   ]
  },
  {
   "cell_type": "code",
   "execution_count": 17,
   "metadata": {},
   "outputs": [
    {
     "data": {
      "text/plain": [
       "{'statusCode': 200, 'message': 'Update succeeded'}"
      ]
     },
     "execution_count": 17,
     "metadata": {},
     "output_type": "execute_result"
    }
   ],
   "source": [
    "variant = f\"\"\"PREFIX madsrdf: <http://www.loc.gov/mads/rdf/v1#>\n",
    "            PREFIX rdf: <http://www.w3.org/1999/02/22-rdf-syntax-ns#>          \n",
    "            WITH <https://bibliokeia.com/authorities/Topic/bkau-1>\n",
    "\n",
    "            DELETE {{  <https://bibliokeia.com/authorities/Topic/bkau-1> madsrdf:hasVariant ?hasVariant .\n",
    "                ?hasVariant rdf:type ?typeVariant .\n",
    "                ?hasVariant madsrdf:elementList ?elementList .\n",
    "                ?elementList rdf:first ?node .\n",
    "                ?node rdf:type ?typeElement .\n",
    "                ?node madsrdf:elementValue \"Anatomia ANIMAL\"@pt . \n",
    "                ?hasVariant madsrdf:variantLabel \"Anatomia ANIMAL\" .}}\n",
    "\n",
    "            INSERT {{  <https://bibliokeia.com/authorities/Topic/bkau-1> madsrdf:hasVariant ?hasVariant .\n",
    "                ?hasVariant rdf:type ?typeVariant .\n",
    "                ?hasVariant madsrdf:elementList ?elementList .\n",
    "                ?elementList rdf:first ?node .\n",
    "                ?node rdf:type ?typeElement .\n",
    "                ?node madsrdf:elementValue \"Anatomia animal\"@pt . \n",
    "                ?hasVariant madsrdf:variantLabel \"Anatomia animal\" . }}\n",
    "\n",
    "            WHERE {{ <https://bibliokeia.com/authorities/Topic/bkau-1> madsrdf:hasVariant ?hasVariant .\n",
    "                ?hasVariant rdf:type ?typeVariant .\n",
    "                ?hasVariant madsrdf:elementList ?elementList .\n",
    "                ?elementList rdf:first ?node .\n",
    "                ?node rdf:type ?typeElement .\n",
    "                ?node madsrdf:elementValue \"Anatomia ANIMAL\"@pt . \n",
    "                ?hasVariant madsrdf:variantLabel \"Anatomia ANIMAL\" . }}\"\"\"\n",
    "\n",
    "response = au_update.run_sparql(variant)\n",
    "response.convert()"
   ]
  },
  {
   "cell_type": "code",
   "execution_count": null,
   "metadata": {},
   "outputs": [],
   "source": [
    "obj = {\n",
    "    \"authority\": \"https://bibliokeia.com/authorities/Topic/bkau-1\",\n",
    "    \"oldValue\": \"Anatomia\",\n",
    "    \"oldLang\": \"pt\"\n",
    "}"
   ]
  },
  {
   "cell_type": "code",
   "execution_count": 32,
   "metadata": {},
   "outputs": [
    {
     "data": {
      "text/plain": [
       "{'statusCode': 200, 'message': 'Update succeeded'}"
      ]
     },
     "execution_count": 32,
     "metadata": {},
     "output_type": "execute_result"
    }
   ],
   "source": [
    "variant = f\"\"\"PREFIX madsrdf: <http://www.loc.gov/mads/rdf/v1#>\n",
    "        PREFIX rdf: <http://www.w3.org/1999/02/22-rdf-syntax-ns#>\n",
    "\n",
    "        INSERT DATA {{ \n",
    "        GRAPH <https://bibliokeia.com/authorities/Topic/bkau-1> {{\n",
    "        <https://bibliokeia.com/authorities/Topic/bkau-1> madsrdf:hasVariant          [ rdf:type              madsrdf:Variant , madsrdf:Topic ;\n",
    "                                      madsrdf:elementList   ( [ rdf:type              madsrdf:TopicElement ;\n",
    "                                                                madsrdf:elementValue  \"TESTE\"@pt\n",
    "                                                              ]\n",
    "                                                            ) ;\n",
    "                                      madsrdf:variantLabel  \"TESTE\"\n",
    "                                    ]\n",
    "                }}\n",
    "        }}\"\"\"\n",
    "\n",
    "response = au_update.run_sparql(variant)\n",
    "response.convert()\n"
   ]
  }
 ],
 "metadata": {
  "kernelspec": {
   "display_name": "Python 3.11.0 ('venv': venv)",
   "language": "python",
   "name": "python3"
  },
  "language_info": {
   "codemirror_mode": {
    "name": "ipython",
    "version": 3
   },
   "file_extension": ".py",
   "mimetype": "text/x-python",
   "name": "python",
   "nbconvert_exporter": "python",
   "pygments_lexer": "ipython3",
   "version": "3.10.4"
  },
  "orig_nbformat": 4,
  "vscode": {
   "interpreter": {
    "hash": "5df21a170a08fe7c24b5b1091267edae5bad3984f1116f28e957af7dd8f192dc"
   }
  }
 },
 "nbformat": 4,
 "nbformat_minor": 2
}
