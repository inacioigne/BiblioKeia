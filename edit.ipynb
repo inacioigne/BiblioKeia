{
 "cells": [
  {
   "cell_type": "code",
   "execution_count": 2,
   "metadata": {},
   "outputs": [],
   "source": [
    "from pyfuseki import FusekiUpdate, FusekiQuery\n",
    "import httpx\n",
    "from rdflib import Graph\n",
    "# from api.src.function.authorities.makeGraph import MakeGraphSubject\n",
    "from pysolr import Solr"
   ]
  },
  {
   "cell_type": "code",
   "execution_count": 3,
   "metadata": {},
   "outputs": [
    {
     "data": {
      "text/plain": [
       "'<?xml version=\"1.0\" encoding=\"UTF-8\"?>\\n<response>\\n\\n<lst name=\"responseHeader\">\\n  <int name=\"status\">0</int>\\n  <int name=\"QTime\">177</int>\\n</lst>\\n</response>\\n'"
      ]
     },
     "execution_count": 3,
     "metadata": {},
     "output_type": "execute_result"
    }
   ],
   "source": [
    "au_update = FusekiUpdate('http://localhost:3030', 'authorities')\n",
    "\n",
    "d = \"\"\"DELETE { graph ?g { ?s ?p ?o } } \n",
    "        WHERE {\n",
    "        graph ?g {?s ?p ?o.}\n",
    "        }\"\"\"\n",
    "\n",
    "response = au_update.run_sparql(d)\n",
    "response.convert()\n",
    "\n",
    "solr = Solr('http://localhost:8983/solr/authorities/', timeout=10)\n",
    "solr.delete(q=\"*:*\",  commit=True)\n"
   ]
  },
  {
   "cell_type": "code",
   "execution_count": 2,
   "metadata": {},
   "outputs": [],
   "source": [
    "au_update = FusekiUpdate('http://localhost:3030', 'authorities')"
   ]
  },
  {
   "cell_type": "code",
   "execution_count": 4,
   "metadata": {},
   "outputs": [
    {
     "data": {
      "text/plain": [
       "{'statusCode': 200, 'message': 'Update succeeded'}"
      ]
     },
     "execution_count": 4,
     "metadata": {},
     "output_type": "execute_result"
    }
   ],
   "source": [
    "clear = \"CLEAR DEFAULT\"\n",
    "r = au_update.run_sparql(clear)\n",
    "r.convert()"
   ]
  },
  {
   "cell_type": "code",
   "execution_count": 6,
   "metadata": {},
   "outputs": [
    {
     "data": {
      "text/plain": [
       "{'statusCode': 200, 'message': 'Update succeeded'}"
      ]
     },
     "execution_count": 6,
     "metadata": {},
     "output_type": "execute_result"
    }
   ],
   "source": [
    "au_update = FusekiUpdate('http://localhost:3030', 'authorities')\n",
    "\n",
    "d = \"\"\"DELETE { graph ?g { ?s ?p ?o } } \n",
    "        WHERE {\n",
    "        graph ?g {?s ?p ?o.}\n",
    "        }\"\"\"\n",
    "\n",
    "response = au_update.run_sparql(d)\n",
    "response.convert()"
   ]
  },
  {
   "cell_type": "code",
   "execution_count": null,
   "metadata": {},
   "outputs": [],
   "source": [
    "uri = f\"\"\"PREFIX madsrdf: <http://www.loc.gov/mads/rdf/v1#>\n",
    "            DELETE DATA \n",
    "            {{ GRAPH  <{request.uri}>\n",
    "            {{\n",
    "            <{request.uri}> madsrdf:{metadata} <{request.authority}> \n",
    "            }} }}\"\"\""
   ]
  },
  {
   "cell_type": "code",
   "execution_count": 2,
   "metadata": {},
   "outputs": [
    {
     "data": {
      "text/plain": [
       "{'statusCode': 200, 'message': 'Update succeeded'}"
      ]
     },
     "execution_count": 2,
     "metadata": {},
     "output_type": "execute_result"
    }
   ],
   "source": [
    "au_update = FusekiUpdate('http://localhost:3030', 'authorities')\n",
    "\n",
    "d = \"\"\"DELETE { graph <https://bibliokeia.com/authorities/Topic/bkau-1> { ?s ?p ?o } } \n",
    "        WHERE {\n",
    "        graph <https://bibliokeia.com/authorities/Topic/bkau-1> {?s ?p ?o.}\n",
    "        }\"\"\"\n",
    "\n",
    "response = au_update.run_sparql(d)\n",
    "response.convert()"
   ]
  },
  {
   "cell_type": "code",
   "execution_count": 9,
   "metadata": {},
   "outputs": [
    {
     "data": {
      "text/plain": [
       "{'type': 'Topic',\n",
       " 'adminMetadata': {'assigner': 'http://id.loc.gov/vocabulary/organizations/dlc',\n",
       "  'descriptionModifier': 'http://id.loc.gov/vocabulary/organizations/brmninpa',\n",
       "  'creationDate': '2023-05-17',\n",
       "  'descriptionLanguage': 'http://id.loc.gov/vocabulary/languages/por',\n",
       "  'generationProcess': 'BiblioKeia v.1',\n",
       "  'generationDate': '2023-05-17T19:29:22',\n",
       "  'identifiedBy': [{'type': 'Lccn',\n",
       "    'assigner': 'http://id.loc.gov/vocabulary/organizations/dlc',\n",
       "    'value': 'sh85008180'}],\n",
       "  'status': {'value': 'mstatus:new', 'label': 'novo'}},\n",
       " 'elementList': [{'type': 'TopicElement',\n",
       "   'elementValue': {'value': 'Inteligência artificial', 'lang': 'pt'}}],\n",
       " 'note': None,\n",
       " 'hasReciprocalAuthority': None,\n",
       " 'hasReciprocalExternalAuthority': [{'value': 'http://id.loc.gov/authorities/subjects/sh87008041',\n",
       "   'label': {'value': 'Neural computers', 'lang': 'en'},\n",
       "   'base': 'loc'},\n",
       "  {'value': 'http://id.loc.gov/authorities/subjects/sh86005918',\n",
       "   'label': {'value': 'Fifth generation computers', 'lang': 'en'},\n",
       "   'base': 'loc'}],\n",
       " 'hasBroaderAuthority': None,\n",
       " 'hasBroaderExternalAuthority': [{'value': 'http://id.loc.gov/authorities/subjects/sh85014250',\n",
       "   'label': {'value': 'Bionics', 'lang': 'en'},\n",
       "   'base': 'loc'},\n",
       "  {'value': 'http://id.loc.gov/authorities/subjects/sh85122767',\n",
       "   'label': {'value': 'Simulation methods', 'lang': 'en'},\n",
       "   'base': 'loc'},\n",
       "  {'value': 'http://id.loc.gov/authorities/subjects/sh85078122',\n",
       "   'label': {'value': 'Logic machines', 'lang': 'en'},\n",
       "   'base': 'loc'},\n",
       "  {'value': 'http://id.loc.gov/authorities/subjects/sh85037973',\n",
       "   'label': {'value': 'Digital computer simulation', 'lang': 'en'},\n",
       "   'base': 'loc'},\n",
       "  {'value': 'http://id.loc.gov/authorities/subjects/sh88006179',\n",
       "   'label': {'value': 'Cognitive science', 'lang': 'en'},\n",
       "   'base': 'loc'},\n",
       "  {'value': 'http://id.loc.gov/authorities/subjects/sh85042288',\n",
       "   'label': {'value': 'Electronic data processing', 'lang': 'en'},\n",
       "   'base': 'loc'},\n",
       "  {'value': 'http://id.loc.gov/authorities/subjects/sh85119773',\n",
       "   'label': {'value': 'Self-organizing systems', 'lang': 'en'},\n",
       "   'base': 'loc'},\n",
       "  {'value': 'http://id.loc.gov/authorities/subjects/sh85079341',\n",
       "   'label': {'value': 'Machine theory', 'lang': 'en'},\n",
       "   'base': 'loc'}],\n",
       " 'hasNarrowerAuthority': [{'value': 'https://bibliokeia.com/authorities/Topic/bkau-1',\n",
       "   'label': {'value': 'Aprendizado de máquina', 'lang': 'por'},\n",
       "   'base': 'bk'}],\n",
       " 'hasNarrowerExternalAuthority': [{'value': 'http://id.loc.gov/authorities/subjects/sh85144050',\n",
       "   'label': {'value': 'VL21 system', 'lang': 'en'},\n",
       "   'base': 'loc'},\n",
       "  {'value': 'http://id.loc.gov/authorities/subjects/sh85060557',\n",
       "   'label': {'value': 'Heuristic programming', 'lang': 'en'},\n",
       "   'base': 'loc'},\n",
       "  {'value': 'http://id.loc.gov/authorities/subjects/sh94008320',\n",
       "   'label': {'value': 'Back propagation (Artificial intelligence)',\n",
       "    'lang': 'en'},\n",
       "   'base': 'loc'},\n",
       "  {'value': 'http://id.loc.gov/authorities/subjects/sh85144049',\n",
       "   'label': {'value': 'VL1 system', 'lang': 'en'},\n",
       "   'base': 'loc'},\n",
       "  {'value': 'http://id.loc.gov/authorities/subjects/sh92004914',\n",
       "   'label': {'value': 'Semantic networks (Information theory)', 'lang': 'en'},\n",
       "   'base': 'loc'},\n",
       "  {'value': 'http://id.loc.gov/authorities/subjects/sh97002932',\n",
       "   'label': {'value': 'Qualitative reasoning', 'lang': 'en'},\n",
       "   'base': 'loc'},\n",
       "  {'value': 'http://id.loc.gov/authorities/subjects/sh85029549',\n",
       "   'label': {'value': 'Computer vision', 'lang': 'en'},\n",
       "   'base': 'loc'},\n",
       "  {'value': 'http://id.loc.gov/authorities/subjects/sh2017004997',\n",
       "   'label': {'value': 'Singularities (Artificial intelligence)', 'lang': 'en'},\n",
       "   'base': 'loc'},\n",
       "  {'value': 'http://id.loc.gov/authorities/subjects/sh2018002775',\n",
       "   'label': {'value': 'Virtual humans (Artificial intelligence)',\n",
       "    'lang': 'en'},\n",
       "   'base': 'loc'},\n",
       "  {'value': 'http://id.loc.gov/authorities/subjects/sh92001623',\n",
       "   'label': {'value': 'Constraints (Artificial intelligence)', 'lang': 'en'},\n",
       "   'base': 'loc'},\n",
       "  {'value': 'http://id.loc.gov/authorities/subjects/sh85046450',\n",
       "   'label': {'value': 'Expert systems (Computer science)', 'lang': 'en'},\n",
       "   'base': 'loc'},\n",
       "  {'value': 'http://id.loc.gov/authorities/subjects/sh90001937',\n",
       "   'label': {'value': 'Neural networks (Computer science)', 'lang': 'en'},\n",
       "   'base': 'loc'},\n",
       "  {'value': 'http://id.loc.gov/authorities/subjects/sh90004869',\n",
       "   'label': {'value': 'Knowledge representation (Information theory)',\n",
       "    'lang': 'en'},\n",
       "   'base': 'loc'},\n",
       "  {'value': 'http://id.loc.gov/authorities/subjects/sh85079361',\n",
       "   'label': {'value': 'Machine translating', 'lang': 'en'},\n",
       "   'base': 'loc'},\n",
       "  {'value': 'http://id.loc.gov/authorities/subjects/sh93008808',\n",
       "   'label': {'value': 'Turing test', 'lang': 'en'},\n",
       "   'base': 'loc'},\n",
       "  {'value': 'http://id.loc.gov/authorities/subjects/sh85010099',\n",
       "   'label': {'value': 'Automatic hypothesis formation', 'lang': 'en'},\n",
       "   'base': 'loc'},\n",
       "  {'value': 'http://id.loc.gov/authorities/subjects/sh88002425',\n",
       "   'label': {'value': 'Natural language processing (Computer science)',\n",
       "    'lang': 'en'},\n",
       "   'base': 'loc'},\n",
       "  {'value': 'http://id.loc.gov/authorities/subjects/sh85044725',\n",
       "   'label': {'value': 'Error-correcting codes (Information theory)',\n",
       "    'lang': 'en'},\n",
       "   'base': 'loc'},\n",
       "  {'value': 'http://id.loc.gov/authorities/subjects/sh85010111',\n",
       "   'label': {'value': 'Automatic theorem proving', 'lang': 'en'},\n",
       "   'base': 'loc'},\n",
       "  {'value': 'http://id.loc.gov/authorities/subjects/sh91003006',\n",
       "   'label': {'value': 'Truth maintenance systems', 'lang': 'en'},\n",
       "   'base': 'loc'},\n",
       "  {'value': 'http://id.loc.gov/authorities/subjects/sh85109821',\n",
       "   'label': {'value': 'Question-answering systems', 'lang': 'en'},\n",
       "   'base': 'loc'},\n",
       "  {'value': 'http://id.loc.gov/authorities/subjects/sh88004324',\n",
       "   'label': {'value': 'Distributed artificial intelligence', 'lang': 'en'},\n",
       "   'base': 'loc'},\n",
       "  {'value': 'http://id.loc.gov/authorities/subjects/sh85000803',\n",
       "   'label': {'value': 'Adaptive control systems', 'lang': 'en'},\n",
       "   'base': 'loc'},\n",
       "  {'value': 'http://id.loc.gov/authorities/subjects/sh94004659',\n",
       "   'label': {'value': 'Computational intelligence', 'lang': 'en'},\n",
       "   'base': 'loc'},\n",
       "  {'value': 'http://id.worldcat.org/fast/817254',\n",
       "   'label': {'value': 'Artificial intelligence--Computer-assisted instruction',\n",
       "    'lang': None},\n",
       "   'base': 'id.worldcat.org'},\n",
       "  {'value': 'http://id.worldcat.org/fast/817278',\n",
       "   'label': {'value': 'Artificial intelligence--Research', 'lang': None},\n",
       "   'base': 'id.worldcat.org'},\n",
       "  {'value': 'http://id.worldcat.org/fast/817275',\n",
       "   'label': {'value': 'Artificial intelligence--Periodicals', 'lang': None},\n",
       "   'base': 'id.worldcat.org'},\n",
       "  {'value': 'http://id.worldcat.org/fast/817251',\n",
       "   'label': {'value': 'Artificial intelligence--Computer network resources',\n",
       "    'lang': None},\n",
       "   'base': 'id.worldcat.org'},\n",
       "  {'value': 'http://id.worldcat.org/fast/817282',\n",
       "   'label': {'value': 'Artificial intelligence--Study and teaching (Higher)',\n",
       "    'lang': None},\n",
       "   'base': 'id.worldcat.org'},\n",
       "  {'value': 'http://id.worldcat.org/fast/817258',\n",
       "   'label': {'value': 'Artificial intelligence--Experiments', 'lang': None},\n",
       "   'base': 'id.worldcat.org'},\n",
       "  {'value': 'http://id.worldcat.org/fast/817265',\n",
       "   'label': {'value': 'Artificial intelligence--Mathematical models',\n",
       "    'lang': None},\n",
       "   'base': 'id.worldcat.org'},\n",
       "  {'value': 'http://id.worldcat.org/fast/817272',\n",
       "   'label': {'value': 'Artificial intelligence--Military aspects',\n",
       "    'lang': None},\n",
       "   'base': 'id.worldcat.org'},\n",
       "  {'value': 'http://id.worldcat.org/fast/1983695',\n",
       "   'label': {'value': 'Artificial intelligence--Forecasting', 'lang': None},\n",
       "   'base': 'id.worldcat.org'},\n",
       "  {'value': 'http://id.worldcat.org/fast/817262',\n",
       "   'label': {'value': 'Artificial intelligence--Industrial applications',\n",
       "    'lang': None},\n",
       "   'base': 'id.worldcat.org'},\n",
       "  {'value': 'http://id.worldcat.org/fast/817266',\n",
       "   'label': {'value': 'Artificial intelligence--Mathematics', 'lang': None},\n",
       "   'base': 'id.worldcat.org'},\n",
       "  {'value': 'http://id.worldcat.org/fast/817273',\n",
       "   'label': {'value': 'Artificial intelligence--Moral and ethical aspects',\n",
       "    'lang': None},\n",
       "   'base': 'id.worldcat.org'},\n",
       "  {'value': 'http://id.worldcat.org/fast/817280',\n",
       "   'label': {'value': 'Artificial intelligence--Statistical methods',\n",
       "    'lang': None},\n",
       "   'base': 'id.worldcat.org'},\n",
       "  {'value': 'http://id.worldcat.org/fast/817263',\n",
       "   'label': {'value': 'Artificial intelligence--Information services',\n",
       "    'lang': None},\n",
       "   'base': 'id.worldcat.org'},\n",
       "  {'value': 'http://id.worldcat.org/fast/817270',\n",
       "   'label': {'value': 'Artificial intelligence--Methodology', 'lang': None},\n",
       "   'base': 'id.worldcat.org'},\n",
       "  {'value': 'http://id.worldcat.org/fast/817256',\n",
       "   'label': {'value': 'Artificial intelligence--Economic aspects',\n",
       "    'lang': None},\n",
       "   'base': 'id.worldcat.org'},\n",
       "  {'value': 'http://id.worldcat.org/fast/817281',\n",
       "   'label': {'value': 'Artificial intelligence--Study and teaching',\n",
       "    'lang': None},\n",
       "   'base': 'id.worldcat.org'},\n",
       "  {'value': 'http://id.worldcat.org/fast/817260',\n",
       "   'label': {'value': 'Artificial intelligence--Government policy',\n",
       "    'lang': None},\n",
       "   'base': 'id.worldcat.org'},\n",
       "  {'value': 'http://id.worldcat.org/fast/817249',\n",
       "   'label': {'value': 'Artificial intelligence--Bibliography', 'lang': None},\n",
       "   'base': 'id.worldcat.org'},\n",
       "  {'value': 'http://id.worldcat.org/fast/817253',\n",
       "   'label': {'value': 'Artificial intelligence--Computer simulation',\n",
       "    'lang': None},\n",
       "   'base': 'id.worldcat.org'},\n",
       "  {'value': 'http://id.worldcat.org/fast/817277',\n",
       "   'label': {'value': 'Artificial intelligence--Planning', 'lang': None},\n",
       "   'base': 'id.worldcat.org'}],\n",
       " 'hasCloseExternalAuthority': [{'value': 'http://purl.org/bncf/tid/7253',\n",
       "   'label': {'value': 'Intelligenza artificiale', 'lang': 'it'},\n",
       "   'base': 'purl.org'},\n",
       "  {'value': 'http://www.yso.fi/onto/yso/p2616',\n",
       "   'label': {'value': 'tekoäly', 'lang': 'fi'},\n",
       "   'base': 'www.yso.fi'},\n",
       "  {'value': 'http://datos.bne.es/resource/XX4659822',\n",
       "   'label': {'value': 'Inteligencia artificial', 'lang': 'es'},\n",
       "   'base': 'datos.bne.es'},\n",
       "  {'value': 'http://id.worldcat.org/fast/817247',\n",
       "   'label': {'value': 'Artificial intelligence', 'lang': None},\n",
       "   'base': 'id.worldcat.org'},\n",
       "  {'value': 'http://www.wikidata.org/entity/Q11660',\n",
       "   'label': {'value': 'artificial intelligence', 'lang': None},\n",
       "   'base': 'www.wikidata.org'}],\n",
       " 'hasExactExternalAuthority': None,\n",
       " 'hasVariant': [{'type': 'Topic',\n",
       "   'elementList': [{'type': 'TopicElement',\n",
       "     'elementValue': {'value': 'Ia (inteligência artificial)', 'lang': 'pt'}}],\n",
       "   'componentList': None},\n",
       "  {'type': 'Topic',\n",
       "   'elementList': [{'type': 'TopicElement',\n",
       "     'elementValue': {'value': 'Pensamento artificial', 'lang': 'pt'}}],\n",
       "   'componentList': None},\n",
       "  {'type': 'Topic',\n",
       "   'elementList': [{'type': 'TopicElement',\n",
       "     'elementValue': {'value': 'Cérebros eletrônicos', 'lang': 'pt'}}],\n",
       "   'componentList': None},\n",
       "  {'type': 'Topic',\n",
       "   'elementList': [{'type': 'TopicElement',\n",
       "     'elementValue': {'value': 'Intelectronics', 'lang': 'pt'}}],\n",
       "   'componentList': None},\n",
       "  {'type': 'Topic',\n",
       "   'elementList': [{'type': 'TopicElement',\n",
       "     'elementValue': {'value': 'Inteligência artificial', 'lang': 'pt'}}],\n",
       "   'componentList': None},\n",
       "  {'type': 'Topic',\n",
       "   'elementList': [{'type': 'TopicElement',\n",
       "     'elementValue': {'value': 'Máquinas inteligentes', 'lang': 'pt'}}],\n",
       "   'componentList': None},\n",
       "  {'type': 'Topic',\n",
       "   'elementList': [{'type': 'TopicElement',\n",
       "     'elementValue': {'value': 'Inteligência de máquina', 'lang': 'pt'}}],\n",
       "   'componentList': None},\n",
       "  {'type': 'Topic',\n",
       "   'elementList': [{'type': 'TopicElement',\n",
       "     'elementValue': {'value': 'Pensando, artificial', 'lang': 'pt'}}],\n",
       "   'componentList': None}],\n",
       " 'subjectOf': None,\n",
       " 'isMemberOfMADSCollection': 'http://bibliokeia.com/authorities/Topic/'}"
      ]
     },
     "execution_count": 9,
     "metadata": {},
     "output_type": "execute_result"
    }
   ],
   "source": [
    "authority = 'http://id.loc.gov/authorities/subjects/sh85008180'\n",
    "url = f'http://localhost:8000/authorities/loc/subject?uri={authority}'\n",
    "r = httpx.get(url, timeout=20)\n",
    "r.json()"
   ]
  },
  {
   "cell_type": "code",
   "execution_count": 23,
   "metadata": {},
   "outputs": [
    {
     "data": {
      "text/plain": [
       "<Graph identifier=N62ff3542d12641439d340b90e6fe66e8 (<class 'rdflib.graph.Graph'>)>"
      ]
     },
     "execution_count": 23,
     "metadata": {},
     "output_type": "execute_result"
    }
   ],
   "source": [
    "graph = Graph()\n",
    "graph.parse(authority)"
   ]
  },
  {
   "cell_type": "code",
   "execution_count": 10,
   "metadata": {},
   "outputs": [
    {
     "data": {
      "text/plain": [
       "{'id': 'bkau-2', 'jena': 'Update succeeded'}"
      ]
     },
     "execution_count": 10,
     "metadata": {},
     "output_type": "execute_result"
    }
   ],
   "source": [
    "headers = {\n",
    "    'accept': 'application/json',\n",
    "    'Content-Type': 'application/json',\n",
    "}\n",
    "response = httpx.post('http://localhost:8000/authorities/subject/', headers=headers, json=r.json())\n",
    "response.json()"
   ]
  },
  {
   "cell_type": "code",
   "execution_count": 10,
   "metadata": {},
   "outputs": [],
   "source": [
    "authority = \"<https://bibliokeia.com/authorities/Topic/bkau-1>\""
   ]
  },
  {
   "cell_type": "code",
   "execution_count": 14,
   "metadata": {},
   "outputs": [
    {
     "data": {
      "text/plain": [
       "{'statusCode': 200, 'message': 'Update succeeded'}"
      ]
     },
     "execution_count": 14,
     "metadata": {},
     "output_type": "execute_result"
    }
   ],
   "source": [
    "prefix = \"\"\"PREFIX name: <https://bibliokeia.com/authorities/name/>\n",
    "            PREFIX madsrdf: <http://www.loc.gov/mads/rdf/v1#>\n",
    "            PREFIX rdf: <http://www.w3.org/1999/02/22-rdf-syntax-ns#>\n",
    "            PREFIX rdfs: <http://www.w3.org/2000/01/rdf-schema#>\"\"\"\n",
    "elementValue = f\"\"\"{prefix}             \n",
    "            WITH <https://bibliokeia.com/authorities/Topic/bkau-1>\n",
    "            DELETE {{ <https://bibliokeia.com/authorities/Topic/bkau-1> madsrdf:elementList ?elementList .\n",
    "                        ?elementList rdf:first ?node .\n",
    "                        ?node madsrdf:elementValue ?value . }}\n",
    "            INSERT {{  <https://bibliokeia.com/authorities/Topic/bkau-1> madsrdf:elementList ?elementList .\n",
    "                        ?elementList rdf:first ?node .\n",
    "                        ?node madsrdf:elementValue \"Anatomia\"@pt  .  }}\n",
    "            WHERE {{ <https://bibliokeia.com/authorities/Topic/bkau-1> madsrdf:elementList ?elementList .\n",
    "                        ?elementList rdf:first ?node .\n",
    "                        ?node madsrdf:elementValue ?value .}}\"\"\"\n",
    "response = au_update.run_sparql(elementValue)\n",
    "response.convert()"
   ]
  },
  {
   "cell_type": "code",
   "execution_count": null,
   "metadata": {},
   "outputs": [],
   "source": [
    "obj = {\n",
    "    \"authority\": \"https://bibliokeia.com/authorities/Topic/bkau-1\",\n",
    "    \"value\": \"Anatomia\",\n",
    "    \"lang\": \"pt\"\n",
    "}"
   ]
  },
  {
   "cell_type": "code",
   "execution_count": 17,
   "metadata": {},
   "outputs": [
    {
     "data": {
      "text/plain": [
       "{'statusCode': 200, 'message': 'Update succeeded'}"
      ]
     },
     "execution_count": 17,
     "metadata": {},
     "output_type": "execute_result"
    }
   ],
   "source": [
    "variant = f\"\"\"PREFIX madsrdf: <http://www.loc.gov/mads/rdf/v1#>\n",
    "            PREFIX rdf: <http://www.w3.org/1999/02/22-rdf-syntax-ns#>          \n",
    "            WITH <https://bibliokeia.com/authorities/Topic/bkau-1>\n",
    "\n",
    "            DELETE {{  <https://bibliokeia.com/authorities/Topic/bkau-1> madsrdf:hasVariant ?hasVariant .\n",
    "                ?hasVariant rdf:type ?typeVariant .\n",
    "                ?hasVariant madsrdf:elementList ?elementList .\n",
    "                ?elementList rdf:first ?node .\n",
    "                ?node rdf:type ?typeElement .\n",
    "                ?node madsrdf:elementValue \"Anatomia ANIMAL\"@pt . \n",
    "                ?hasVariant madsrdf:variantLabel \"Anatomia ANIMAL\" .}}\n",
    "\n",
    "            INSERT {{  <https://bibliokeia.com/authorities/Topic/bkau-1> madsrdf:hasVariant ?hasVariant .\n",
    "                ?hasVariant rdf:type ?typeVariant .\n",
    "                ?hasVariant madsrdf:elementList ?elementList .\n",
    "                ?elementList rdf:first ?node .\n",
    "                ?node rdf:type ?typeElement .\n",
    "                ?node madsrdf:elementValue \"Anatomia animal\"@pt . \n",
    "                ?hasVariant madsrdf:variantLabel \"Anatomia animal\" . }}\n",
    "\n",
    "            WHERE {{ <https://bibliokeia.com/authorities/Topic/bkau-1> madsrdf:hasVariant ?hasVariant .\n",
    "                ?hasVariant rdf:type ?typeVariant .\n",
    "                ?hasVariant madsrdf:elementList ?elementList .\n",
    "                ?elementList rdf:first ?node .\n",
    "                ?node rdf:type ?typeElement .\n",
    "                ?node madsrdf:elementValue \"Anatomia ANIMAL\"@pt . \n",
    "                ?hasVariant madsrdf:variantLabel \"Anatomia ANIMAL\" . }}\"\"\"\n",
    "\n",
    "response = au_update.run_sparql(variant)\n",
    "response.convert()"
   ]
  },
  {
   "cell_type": "code",
   "execution_count": null,
   "metadata": {},
   "outputs": [],
   "source": [
    "obj = {\n",
    "    \"authority\": \"https://bibliokeia.com/authorities/Topic/bkau-1\",\n",
    "    \"oldValue\": \"Anatomia\",\n",
    "    \"oldLang\": \"pt\"\n",
    "}"
   ]
  },
  {
   "cell_type": "code",
   "execution_count": 32,
   "metadata": {},
   "outputs": [
    {
     "data": {
      "text/plain": [
       "{'statusCode': 200, 'message': 'Update succeeded'}"
      ]
     },
     "execution_count": 32,
     "metadata": {},
     "output_type": "execute_result"
    }
   ],
   "source": [
    "variant = f\"\"\"PREFIX madsrdf: <http://www.loc.gov/mads/rdf/v1#>\n",
    "        PREFIX rdf: <http://www.w3.org/1999/02/22-rdf-syntax-ns#>\n",
    "\n",
    "        INSERT DATA {{ \n",
    "        GRAPH <https://bibliokeia.com/authorities/Topic/bkau-1> {{\n",
    "        <https://bibliokeia.com/authorities/Topic/bkau-1> madsrdf:hasVariant          [ rdf:type              madsrdf:Variant , madsrdf:Topic ;\n",
    "                                      madsrdf:elementList   ( [ rdf:type              madsrdf:TopicElement ;\n",
    "                                                                madsrdf:elementValue  \"TESTE\"@pt\n",
    "                                                              ]\n",
    "                                                            ) ;\n",
    "                                      madsrdf:variantLabel  \"TESTE\"\n",
    "                                    ]\n",
    "                }}\n",
    "        }}\"\"\"\n",
    "\n",
    "response = au_update.run_sparql(variant)\n",
    "response.convert()\n"
   ]
  },
  {
   "cell_type": "code",
   "execution_count": 13,
   "metadata": {},
   "outputs": [
    {
     "data": {
      "text/plain": [
       "{'statusCode': 200, 'message': 'Update succeeded'}"
      ]
     },
     "execution_count": 13,
     "metadata": {},
     "output_type": "execute_result"
    }
   ],
   "source": [
    "uri =  \"\"\"PREFIX madsrdf: <http://www.loc.gov/mads/rdf/v1#>\n",
    "DELETE DATA \n",
    "{ GRAPH  <https://bibliokeia.com/authorities/Topic/bkau-1>\n",
    "{\n",
    "  <https://bibliokeia.com/authorities/Topic/bkau-1> madsrdf:hasCloseExternalAuthority <http://data.bnf.fr/ark:/12148/cb11987531v> \n",
    "} }\"\"\"\n",
    "\n",
    "response = au_update.run_sparql(uri)\n",
    "response.convert()"
   ]
  }
 ],
 "metadata": {
  "kernelspec": {
   "display_name": "Python 3.11.0 ('venv': venv)",
   "language": "python",
   "name": "python3"
  },
  "language_info": {
   "codemirror_mode": {
    "name": "ipython",
    "version": 3
   },
   "file_extension": ".py",
   "mimetype": "text/x-python",
   "name": "python",
   "nbconvert_exporter": "python",
   "pygments_lexer": "ipython3",
   "version": "3.10.4"
  },
  "orig_nbformat": 4,
  "vscode": {
   "interpreter": {
    "hash": "5df21a170a08fe7c24b5b1091267edae5bad3984f1116f28e957af7dd8f192dc"
   }
  }
 },
 "nbformat": 4,
 "nbformat_minor": 2
}
