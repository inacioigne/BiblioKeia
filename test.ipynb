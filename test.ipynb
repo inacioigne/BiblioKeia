{
 "cells": [
  {
   "cell_type": "code",
   "execution_count": 1,
   "metadata": {},
   "outputs": [],
   "source": [
    "from pyfuseki import FusekiUpdate, FusekiQuery\n",
    "import httpx\n",
    "from rdflib import Graph\n",
    "from pysolr import Solr\n",
    "from api.src.schemas.thesaurus.subject import Subject_Edit"
   ]
  },
  {
   "cell_type": "code",
   "execution_count": 2,
   "metadata": {},
   "outputs": [],
   "source": [
    "upAuthorities = FusekiUpdate('http://localhost:3030', 'authorities')"
   ]
  },
  {
   "cell_type": "code",
   "execution_count": 3,
   "metadata": {},
   "outputs": [
    {
     "data": {
      "text/plain": [
       "{'statusCode': 200, 'message': 'Update succeeded'}"
      ]
     },
     "execution_count": 3,
     "metadata": {},
     "output_type": "execute_result"
    }
   ],
   "source": [
    "G1 = \"\"\"PREFIX : <http://example/>\n",
    "            PREFIX subjects: <https://bibliokeia.com/authorities/subjects/>\n",
    "\n",
    "    INSERT DATA {\n",
    "        GRAPH subjects:TESTE { :x :p (1 2 3) . } }\"\"\"\n",
    "\n",
    "response = upAuthorities.run_sparql(G1)\n",
    "response.convert()"
   ]
  },
  {
   "cell_type": "code",
   "execution_count": 4,
   "metadata": {},
   "outputs": [
    {
     "data": {
      "text/plain": [
       "<Graph identifier=N4c274385fd8c44bda05253763df99054 (<class 'rdflib.graph.Graph'>)>"
      ]
     },
     "execution_count": 4,
     "metadata": {},
     "output_type": "execute_result"
    }
   ],
   "source": [
    "uri = f'http://localhost:3030/authorities?graph=https://bibliokeia.com/authorities/subjects/TESTE'\n",
    "r = httpx.get(uri)\n",
    "g = Graph()\n",
    "g.parse(r.content)\n",
    "g.serialize('teste.nt')"
   ]
  },
  {
   "cell_type": "code",
   "execution_count": 7,
   "metadata": {},
   "outputs": [
    {
     "data": {
      "text/plain": [
       "{'statusCode': 200, 'message': 'Update succeeded'}"
      ]
     },
     "execution_count": 7,
     "metadata": {},
     "output_type": "execute_result"
    }
   ],
   "source": [
    "up = \"\"\"PREFIX :    <http://example/> \n",
    "PREFIX rdf: <http://www.w3.org/1999/02/22-rdf-syntax-ns#> \n",
    "PREFIX subjects: <https://bibliokeia.com/authorities/subjects/>\n",
    "\n",
    "WITH subjects:TESTE\n",
    "\n",
    "DELETE { ?x :p ?list }\n",
    "INSERT { ?x :p [ rdf:first 'ZERO' ; \n",
    "                 rdf:rest ?list ]\n",
    "} WHERE {\n",
    "  ?x :p ?list .\n",
    "}\"\"\"\n",
    "\n",
    "response = upAuthorities.run_sparql(up)\n",
    "response.convert()"
   ]
  },
  {
   "cell_type": "code",
   "execution_count": 8,
   "metadata": {},
   "outputs": [
    {
     "data": {
      "text/plain": [
       "{'statusCode': 200, 'message': 'Update succeeded'}"
      ]
     },
     "execution_count": 8,
     "metadata": {},
     "output_type": "execute_result"
    }
   ],
   "source": [
    "up = \"\"\"PREFIX :    <http://example/> \n",
    "PREFIX rdf: <http://www.w3.org/1999/02/22-rdf-syntax-ns#> \n",
    "PREFIX subjects: <https://bibliokeia.com/authorities/subjects/>\n",
    "\n",
    "WITH subjects:TESTE\n",
    "\n",
    "DELETE { \n",
    "   ?x :p ?list .\n",
    "   ?list rdf:first ?first ;\n",
    "         rdf:rest  ?rest }\n",
    "INSERT { ?x :p ?rest }\n",
    "WHERE\n",
    "{\n",
    "  ?x :p ?list .\n",
    "  ?list rdf:first ?first ;\n",
    "        rdf:rest ?rest .\n",
    "}\"\"\"\n",
    "\n",
    "response = upAuthorities.run_sparql(up)\n",
    "response.convert()"
   ]
  }
 ],
 "metadata": {
  "kernelspec": {
   "display_name": "Python 3.11.0 ('venv': venv)",
   "language": "python",
   "name": "python3"
  },
  "language_info": {
   "codemirror_mode": {
    "name": "ipython",
    "version": 3
   },
   "file_extension": ".py",
   "mimetype": "text/x-python",
   "name": "python",
   "nbconvert_exporter": "python",
   "pygments_lexer": "ipython3",
   "version": "3.11.0"
  },
  "orig_nbformat": 4,
  "vscode": {
   "interpreter": {
    "hash": "5df21a170a08fe7c24b5b1091267edae5bad3984f1116f28e957af7dd8f192dc"
   }
  }
 },
 "nbformat": 4,
 "nbformat_minor": 2
}
