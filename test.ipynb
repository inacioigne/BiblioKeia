{
 "cells": [
  {
   "cell_type": "code",
   "execution_count": 59,
   "metadata": {},
   "outputs": [],
   "source": [
    "from pyfuseki import FusekiQuery\n",
    "import pysolr  \n",
    "\n",
    "#SOLR\n",
    "solr = pysolr.Solr('http://localhost:8983/solr/acervo/', timeout=10)"
   ]
  },
  {
   "cell_type": "code",
   "execution_count": 1,
   "metadata": {},
   "outputs": [],
   "source": [
    "from api.src.schemas.settings import Settings\n",
    "\n",
    "settings = Settings()"
   ]
  },
  {
   "cell_type": "code",
   "execution_count": 3,
   "metadata": {},
   "outputs": [],
   "source": [
    "collection = FusekiQuery(f'{settings.url}:3030', 'collection')\n"
   ]
  },
  {
   "cell_type": "code",
   "execution_count": 19,
   "metadata": {},
   "outputs": [
    {
     "data": {
      "text/plain": [
       "{'id': 1}"
      ]
     },
     "execution_count": 19,
     "metadata": {},
     "output_type": "execute_result"
    }
   ],
   "source": [
    "def GenerateId(base):\n",
    "\n",
    "    query = FusekiQuery(f'{settings.url}:3030', base)\n",
    "\n",
    "    sparql = \"\"\"PREFIX bf: <http://id.loc.gov/ontologies/bibframe/>\n",
    "            SELECT ?g\n",
    "            {graph ?g {?s bf:generationDate ?o}} \n",
    "            ORDER BY DESC(?o)\n",
    "            LIMIT 1\"\"\"\n",
    "    \n",
    "    response = query.run_sparql(sparql)\n",
    "    response = response.convert()\n",
    "    bindings = response['results']['bindings']\n",
    "\n",
    "    if len(bindings) == 0:\n",
    "        return { 'id': 1 }\n",
    "    else:\n",
    "        value = bindings[0]['g']['value']\n",
    "        bk = int(value.split(\"/\")[1]) + 1\n",
    "        return { 'id': \"bkc-\"+str(bk) } \n",
    "    \n",
    "id = GenerateId(\"collection\")\n",
    "id\n"
   ]
  },
  {
   "cell_type": "code",
   "execution_count": 20,
   "metadata": {},
   "outputs": [
    {
     "data": {
      "text/plain": [
       "{'id': 1}"
      ]
     },
     "execution_count": 20,
     "metadata": {},
     "output_type": "execute_result"
    }
   ],
   "source": [
    "id = GenerateId(\"authority\")\n",
    "id"
   ]
  },
  {
   "cell_type": "code",
   "execution_count": 17,
   "metadata": {},
   "outputs": [
    {
     "data": {
      "text/plain": [
       "[{'g': {'type': 'uri',\n",
       "   'value': 'https://bibliokeia.com/authorities/PersonalName/bkau-2'}}]"
      ]
     },
     "execution_count": 17,
     "metadata": {},
     "output_type": "execute_result"
    }
   ],
   "source": [
    "query = FusekiQuery(f'{settings.url}:3030', \"authority\")\n",
    "\n",
    "sparql = \"\"\"PREFIX bf: <http://id.loc.gov/ontologies/bibframe/>\n",
    "            SELECT ?g\n",
    "            {graph ?g {?s bf:generationDate ?o}} \n",
    "            ORDER BY DESC(?o)\n",
    "            LIMIT 1\"\"\"\n",
    "    \n",
    "response = query.run_sparql(sparql)\n",
    "response = response.convert()\n",
    "bindings = response['results']['bindings']\n",
    "bindings\n"
   ]
  },
  {
   "cell_type": "code",
   "execution_count": 18,
   "metadata": {},
   "outputs": [
    {
     "data": {
      "text/plain": [
       "'https://bibliokeia.com/authorities/PersonalName/bkau-2'"
      ]
     },
     "execution_count": 18,
     "metadata": {},
     "output_type": "execute_result"
    }
   ],
   "source": [
    "value = bindings[0]['g']['value']\n",
    "value"
   ]
  },
  {
   "attachments": {},
   "cell_type": "markdown",
   "metadata": {},
   "source": [
    "TEST JORNEY OF HUMANITY"
   ]
  },
  {
   "cell_type": "code",
   "execution_count": 12,
   "metadata": {},
   "outputs": [],
   "source": [
    "import httpx"
   ]
  },
  {
   "attachments": {},
   "cell_type": "markdown",
   "metadata": {},
   "source": [
    "Assunto"
   ]
  },
  {
   "cell_type": "code",
   "execution_count": 24,
   "metadata": {},
   "outputs": [
    {
     "data": {
      "text/plain": [
       "<Response [200 OK]>"
      ]
     },
     "execution_count": 24,
     "metadata": {},
     "output_type": "execute_result"
    }
   ],
   "source": [
    "# Import LOC\n",
    "url = 'http://localhost:8000/import/loc/subjects?uri=http%3A%2F%2Fid.loc.gov%2Fauthorities%2Fsubjects%2Fsh85040817'\n",
    "response = httpx.get(url)\n",
    "response"
   ]
  },
  {
   "cell_type": "code",
   "execution_count": 30,
   "metadata": {},
   "outputs": [
    {
     "data": {
      "text/plain": [
       "<Response [200 OK]>"
      ]
     },
     "execution_count": 30,
     "metadata": {},
     "output_type": "execute_result"
    }
   ],
   "source": [
    "uri = 'http://id.loc.gov/authorities/subjects/sh85040804'\n",
    "url = f'http://localhost:8000/import/loc/subjects?uri={uri}'\n",
    "response = httpx.get(url, timeout=120)\n",
    "response"
   ]
  },
  {
   "cell_type": "code",
   "execution_count": 31,
   "metadata": {},
   "outputs": [],
   "source": [
    "obj = response.json()"
   ]
  },
  {
   "cell_type": "code",
   "execution_count": 32,
   "metadata": {},
   "outputs": [
    {
     "data": {
      "text/plain": [
       "201"
      ]
     },
     "execution_count": 32,
     "metadata": {},
     "output_type": "execute_result"
    }
   ],
   "source": [
    "# POST ASSUNTO\n",
    "headers = {\n",
    "    'accept': 'application/json',\n",
    "    'Content-Type': 'application/json',\n",
    "}\n",
    "response = httpx.post('http://localhost:8000/authorities/subject/', headers=headers, json=obj)\n",
    "response.status_code"
   ]
  },
  {
   "attachments": {},
   "cell_type": "markdown",
   "metadata": {},
   "source": [
    "Agent"
   ]
  },
  {
   "cell_type": "code",
   "execution_count": 34,
   "metadata": {},
   "outputs": [
    {
     "data": {
      "text/plain": [
       "<Response [200 OK]>"
      ]
     },
     "execution_count": 34,
     "metadata": {},
     "output_type": "execute_result"
    }
   ],
   "source": [
    "url = 'http://localhost:8000/import/loc/agents?uri=http%3A%2F%2Fid.loc.gov%2Fauthorities%2Fnames%2Fn86870523'\n",
    "response = httpx.get(url, timeout=120)\n",
    "response\n"
   ]
  },
  {
   "attachments": {},
   "cell_type": "markdown",
   "metadata": {},
   "source": [
    "WORK"
   ]
  },
  {
   "cell_type": "code",
   "execution_count": 48,
   "metadata": {},
   "outputs": [
    {
     "data": {
      "text/plain": [
       "<Response [200 OK]>"
      ]
     },
     "execution_count": 48,
     "metadata": {},
     "output_type": "execute_result"
    }
   ],
   "source": [
    "url = 'http://localhost:8000/import/loc/works?uri=http%3A%2F%2Fid.loc.gov%2Fresources%2Fworks%2F22600263'\n",
    "response = httpx.get(url, timeout=120)\n",
    "response"
   ]
  },
  {
   "cell_type": "code",
   "execution_count": 49,
   "metadata": {},
   "outputs": [
    {
     "data": {
      "text/plain": [
       "{'adminMetadata': {'encodingLevel': 'menclvl:f',\n",
       "  'assigner': 'http://id.loc.gov/vocabulary/organizations/brmninpa',\n",
       "  'creationDate': '2023-06-28',\n",
       "  'descriptionConventions': 'http://id.loc.gov/vocabulary/descriptionConventions/isbd',\n",
       "  'descriptionModifier': 'http://id.loc.gov/vocabulary/organizations/brmninpa',\n",
       "  'descriptionLanguage': 'http://id.loc.gov/vocabulary/languages/por',\n",
       "  'generationProcess': 'BiblioKeia v.1',\n",
       "  'generationDate': '2023-06-28T15:01:46.153359',\n",
       "  'identifiedBy': [{'type': 'Local',\n",
       "    'assigner': 'http://id.loc.gov/vocabulary/organizations/dlc',\n",
       "    'value': '22600263'}],\n",
       "  'status': {'value': 'mstatus:new', 'label': 'novo'}},\n",
       " 'type': ['Work', 'Text', 'Monograph'],\n",
       " 'content': [{'label': 'text',\n",
       "   'lang': None,\n",
       "   'uri': 'http://id.loc.gov/vocabulary/contentTypes/txt',\n",
       "   'type': ['http://id.loc.gov/ontologies/bibframe/Content']}],\n",
       " 'language': [{'label': 'English',\n",
       "   'lang': 'en',\n",
       "   'uri': 'http://id.loc.gov/vocabulary/languages/eng',\n",
       "   'type': ['http://id.loc.gov/ontologies/bibframe/Language',\n",
       "    'http://www.loc.gov/mads/rdf/v1#Language']}],\n",
       " 'title': {'type': 'bf:Title',\n",
       "  'mainTitle': 'The journey of humanity',\n",
       "  'subtitle': None,\n",
       "  'label': None},\n",
       " 'classification': {'type': 'ClassificationDdc',\n",
       "  'classificationPortion': '338.9001',\n",
       "  'itemPortion': None,\n",
       "  'edition': 'full'},\n",
       " 'contribution': [{'type': ['http://id.loc.gov/ontologies/bflc/PrimaryContribution'],\n",
       "   'agent': 'http://id.loc.gov/rwo/agents/n86870523',\n",
       "   'label': 'Galor, Oded, 1953-',\n",
       "   'role': 'http://id.loc.gov/vocabulary/relators/aut'}],\n",
       " 'subject': [{'label': 'Economic development',\n",
       "   'lang': 'en',\n",
       "   'uri': 'http://id.loc.gov/authorities/subjects/sh85040804',\n",
       "   'type': ['http://id.loc.gov/ontologies/bibframe/Topic']},\n",
       "  {'label': 'Economic history',\n",
       "   'lang': 'en',\n",
       "   'uri': 'http://id.loc.gov/authorities/subjects/sh85040817',\n",
       "   'type': ['http://id.loc.gov/ontologies/bibframe/Topic']},\n",
       "  {'label': 'Equality',\n",
       "   'lang': 'en',\n",
       "   'uri': 'http://id.loc.gov/authorities/subjects/sh85044503',\n",
       "   'type': ['http://id.loc.gov/ontologies/bibframe/Topic']}],\n",
       " 'genreForm': [{'label': 'Informational works',\n",
       "   'lang': 'en',\n",
       "   'uri': 'http://id.loc.gov/authorities/genreForms/gf2014026113',\n",
       "   'type': ['http://id.loc.gov/ontologies/bibframe/GenreForm']}],\n",
       " 'note': None,\n",
       " 'summary': '\"Why are humans the only species to have escaped - only very recently - the subsistence trap, allowing us to enjoy a standard of living that vastly exceeds all others? And why have we progressed so unequally around the world, resulting in the great disparities between nations that exist today? Immense in scope and packed with astounding connections, Galor\\'s gripping narrative explains how technology, population size, and adaptation led to a stunning \"phase change\" in the human story a mere two hundred years ago. But by tracing that same journey back in time and peeling away the layers of influence - colonialism, political institutions, societal structure, culture - he arrives also at an explanation of inequality\\'s ultimate causes: those ancestral populations that enjoyed fruitful geographical characteristics and rich diversity were set on the path to prosperity, while those that lacked it were disadvantaged in ways still echoed today. As we face ecological crisis across the globe, The Journey of Humanity is a book of urgent truths and enduring relevance, with lessons that are both hopeful and profound: gender equality, investment in education, and balancing diversity with social cohesion are the keys not only to our species\\' thriving, but to its survival.\" -- publisher\\'s website.',\n",
       " 'tableOfContents': \"Mysteries of the human journey -- [Part] I: The human odyssey. First steps. Genesis ; Exodus from the cradle of humankind ; Early settlement ; The dawn of civilisation -- Lost in stagnation. The Malthusian thesis ; The inevitable onset of agriculture ; Population swings ; The economic ice age -- The storm beneath the surface. Unified growth theory ; Wheels of change -- Full steam. Acceleration of technological development ; Education in the pre-industrial era ; Industrialisation and human capital ; The advent of universal public education ; Child labour no more -- Metamorphosis. Triggers of the demographic transition ; Family tales ; Phase transition -- The promised land. The twilight of industry ; The age of growth ; Growth and environmental degradation -- Coda: resolving the mystery of growth -- [Part] II: The origins of wealth and inequality. Splendour and misery. Disparate factors ; Rusty tools ; Trade, colonialism and uneven development ; Deep-rooted factors -- The fingerprints of institutions. Institutional origins of the British ascent ; Institutions and long-run development ; The legacy of colonialism ; Origins of institutions -- The cultural factor. The power of culture ; A culture of growth ; Cultural inertia ; Culture and prosperity -- The shadow of geography. Landscape fragmentation and the rise of Europe ; Origins of extractive institutions ; Geographical roots of cultural traits ; Roots of comparative development -- The legacy of the agricultural revolution. Roots and impacts of the Neolithic revolution ; The grains of civilisation ; Ceding the head start ; Geography's decree -- Out of Africa. Origins of human diversity ; Measuring diversity ; Diversity and prosperity ; The grip of the past -- Coda: unravelling the mystery of inequality -- Afterword.\",\n",
       " 'supplementaryContent': [{'label': 'bibliography',\n",
       "   'lang': None,\n",
       "   'uri': 'http://id.loc.gov/vocabulary/msupplcont/bibliography',\n",
       "   'type': ['http://id.loc.gov/ontologies/bibframe/SupplementaryContent']},\n",
       "  {'label': 'index',\n",
       "   'lang': None,\n",
       "   'uri': 'http://id.loc.gov/vocabulary/msupplcont/index',\n",
       "   'type': ['http://id.loc.gov/ontologies/bibframe/SupplementaryContent']}],\n",
       " 'illustrativeContent': [{'label': 'Illustrations',\n",
       "   'lang': None,\n",
       "   'uri': 'http://id.loc.gov/vocabulary/millus/ill',\n",
       "   'type': ['http://id.loc.gov/ontologies/bibframe/Illustration']},\n",
       "  {'label': 'Maps',\n",
       "   'lang': None,\n",
       "   'uri': 'http://id.loc.gov/vocabulary/millus/map',\n",
       "   'type': ['http://id.loc.gov/ontologies/bibframe/Illustration']},\n",
       "  {'label': 'Charts',\n",
       "   'lang': None,\n",
       "   'uri': 'http://id.loc.gov/vocabulary/millus/chr',\n",
       "   'type': ['http://id.loc.gov/ontologies/bibframe/Illustration']}],\n",
       " 'intendedAudience': [{'label': 'Adult',\n",
       "   'lang': None,\n",
       "   'uri': 'http://id.loc.gov/vocabulary/maudience/adu',\n",
       "   'type': ['http://id.loc.gov/ontologies/bibframe/IntendedAudience']}],\n",
       " 'geographicCoverage': None}"
      ]
     },
     "execution_count": 49,
     "metadata": {},
     "output_type": "execute_result"
    }
   ],
   "source": [
    "response.json()"
   ]
  },
  {
   "cell_type": "code",
   "execution_count": 50,
   "metadata": {},
   "outputs": [],
   "source": [
    "from pydantic import BaseModel\n",
    "from typing import Optional\n",
    "from api.src.schemas.metadata.bibframe.adminMetadata import AdminMetadata\n",
    "from api.src.schemas.metadata.bibframe.classification import Classification\n",
    "from api.src.schemas.metadata.bibframe.contribution import Contribution\n",
    "from api.src.schemas.metadata.bibframe.element import Element\n",
    "from api.src.schemas.metadata.bibframe.title import Title\n",
    "\n",
    "class Work(BaseModel):\n",
    "    adminMetadata: AdminMetadata\n",
    "    type: list[str]\n",
    "    content: list[Element]\n",
    "    language: list[Element]\n",
    "    title: Title\n",
    "    classification: Optional[Classification]\n",
    "    contribution: Optional[list[Contribution]]\n",
    "    subject: Optional[list[Element]]   \n",
    "    genreForm: Optional[list[Element]]\n",
    "    note: Optional[str]\n",
    "    summary: Optional[str]\n",
    "    tableOfContents: Optional[str]\n",
    "    supplementaryContent: Optional[list[Element]]\n",
    "    illustrativeContent: Optional[list[Element]]\n",
    "    intendedAudience: Optional[list[Element]]\n",
    "    geographicCoverage: Optional[list[Element]]"
   ]
  },
  {
   "cell_type": "code",
   "execution_count": 51,
   "metadata": {},
   "outputs": [
    {
     "data": {
      "text/plain": [
       "Work(adminMetadata=AdminMetadata(encodingLevel='menclvl:f', assigner='http://id.loc.gov/vocabulary/organizations/brmninpa', creationDate=datetime.date(2023, 6, 28), descriptionConventions='http://id.loc.gov/vocabulary/descriptionConventions/isbd', descriptionModifier='http://id.loc.gov/vocabulary/organizations/brmninpa', descriptionLanguage='http://id.loc.gov/vocabulary/languages/por', generationProcess='BiblioKeia v.1', generationDate=datetime.datetime(2023, 6, 28, 15, 1, 46, 153359), identifiedBy=[IdentifiedBy(type='Local', assigner='http://id.loc.gov/vocabulary/organizations/dlc', value='22600263')], status=Status(value='mstatus:new', label='novo')), type=['Work', 'Text', 'Monograph'], content=[Element(label='text', lang=None, uri='http://id.loc.gov/vocabulary/contentTypes/txt', type=['http://id.loc.gov/ontologies/bibframe/Content'])], language=[Element(label='English', lang='en', uri='http://id.loc.gov/vocabulary/languages/eng', type=['http://id.loc.gov/ontologies/bibframe/Language', 'http://www.loc.gov/mads/rdf/v1#Language'])], title=Title(type='bf:Title', mainTitle='The journey of humanity', subtitle=None, label=None), classification=Classification(type='ClassificationDdc', classificationPortion='338.9001', itemPortion=None, edition='full'), contribution=[Contribution(type=['http://id.loc.gov/ontologies/bflc/PrimaryContribution'], agent='http://id.loc.gov/rwo/agents/n86870523', label='Galor, Oded, 1953-', role='http://id.loc.gov/vocabulary/relators/aut')], subject=[Element(label='Economic development', lang='en', uri='http://id.loc.gov/authorities/subjects/sh85040804', type=['http://id.loc.gov/ontologies/bibframe/Topic']), Element(label='Economic history', lang='en', uri='http://id.loc.gov/authorities/subjects/sh85040817', type=['http://id.loc.gov/ontologies/bibframe/Topic']), Element(label='Equality', lang='en', uri='http://id.loc.gov/authorities/subjects/sh85044503', type=['http://id.loc.gov/ontologies/bibframe/Topic'])], genreForm=[Element(label='Informational works', lang='en', uri='http://id.loc.gov/authorities/genreForms/gf2014026113', type=['http://id.loc.gov/ontologies/bibframe/GenreForm'])], note=None, summary='\"Why are humans the only species to have escaped - only very recently - the subsistence trap, allowing us to enjoy a standard of living that vastly exceeds all others? And why have we progressed so unequally around the world, resulting in the great disparities between nations that exist today? Immense in scope and packed with astounding connections, Galor\\'s gripping narrative explains how technology, population size, and adaptation led to a stunning \"phase change\" in the human story a mere two hundred years ago. But by tracing that same journey back in time and peeling away the layers of influence - colonialism, political institutions, societal structure, culture - he arrives also at an explanation of inequality\\'s ultimate causes: those ancestral populations that enjoyed fruitful geographical characteristics and rich diversity were set on the path to prosperity, while those that lacked it were disadvantaged in ways still echoed today. As we face ecological crisis across the globe, The Journey of Humanity is a book of urgent truths and enduring relevance, with lessons that are both hopeful and profound: gender equality, investment in education, and balancing diversity with social cohesion are the keys not only to our species\\' thriving, but to its survival.\" -- publisher\\'s website.', tableOfContents=\"Mysteries of the human journey -- [Part] I: The human odyssey. First steps. Genesis ; Exodus from the cradle of humankind ; Early settlement ; The dawn of civilisation -- Lost in stagnation. The Malthusian thesis ; The inevitable onset of agriculture ; Population swings ; The economic ice age -- The storm beneath the surface. Unified growth theory ; Wheels of change -- Full steam. Acceleration of technological development ; Education in the pre-industrial era ; Industrialisation and human capital ; The advent of universal public education ; Child labour no more -- Metamorphosis. Triggers of the demographic transition ; Family tales ; Phase transition -- The promised land. The twilight of industry ; The age of growth ; Growth and environmental degradation -- Coda: resolving the mystery of growth -- [Part] II: The origins of wealth and inequality. Splendour and misery. Disparate factors ; Rusty tools ; Trade, colonialism and uneven development ; Deep-rooted factors -- The fingerprints of institutions. Institutional origins of the British ascent ; Institutions and long-run development ; The legacy of colonialism ; Origins of institutions -- The cultural factor. The power of culture ; A culture of growth ; Cultural inertia ; Culture and prosperity -- The shadow of geography. Landscape fragmentation and the rise of Europe ; Origins of extractive institutions ; Geographical roots of cultural traits ; Roots of comparative development -- The legacy of the agricultural revolution. Roots and impacts of the Neolithic revolution ; The grains of civilisation ; Ceding the head start ; Geography's decree -- Out of Africa. Origins of human diversity ; Measuring diversity ; Diversity and prosperity ; The grip of the past -- Coda: unravelling the mystery of inequality -- Afterword.\", supplementaryContent=[Element(label='bibliography', lang=None, uri='http://id.loc.gov/vocabulary/msupplcont/bibliography', type=['http://id.loc.gov/ontologies/bibframe/SupplementaryContent']), Element(label='index', lang=None, uri='http://id.loc.gov/vocabulary/msupplcont/index', type=['http://id.loc.gov/ontologies/bibframe/SupplementaryContent'])], illustrativeContent=[Element(label='Illustrations', lang=None, uri='http://id.loc.gov/vocabulary/millus/ill', type=['http://id.loc.gov/ontologies/bibframe/Illustration']), Element(label='Maps', lang=None, uri='http://id.loc.gov/vocabulary/millus/map', type=['http://id.loc.gov/ontologies/bibframe/Illustration']), Element(label='Charts', lang=None, uri='http://id.loc.gov/vocabulary/millus/chr', type=['http://id.loc.gov/ontologies/bibframe/Illustration'])], intendedAudience=[Element(label='Adult', lang=None, uri='http://id.loc.gov/vocabulary/maudience/adu', type=['http://id.loc.gov/ontologies/bibframe/IntendedAudience'])], geographicCoverage=None)"
      ]
     },
     "execution_count": 51,
     "metadata": {},
     "output_type": "execute_result"
    }
   ],
   "source": [
    "request = Work(**response.json())\n",
    "request"
   ]
  },
  {
   "cell_type": "code",
   "execution_count": 57,
   "metadata": {},
   "outputs": [],
   "source": [
    "obj = {\n",
    "  \"adminMetadata\": {\n",
    "    \"encodingLevel\": \"menclvl:f\",\n",
    "    \"assigner\": \"http://id.loc.gov/vocabulary/organizations/brmninpa\",\n",
    "    \"creationDate\": \"2023-06-28\",\n",
    "    \"descriptionConventions\": \"http://id.loc.gov/vocabulary/descriptionConventions/isbd\",\n",
    "    \"descriptionModifier\": \"http://id.loc.gov/vocabulary/organizations/brmninpa\",\n",
    "    \"descriptionLanguage\": \"http://id.loc.gov/vocabulary/languages/por\",\n",
    "    \"generationProcess\": \"BiblioKeia v.1\",\n",
    "    \"generationDate\": \"2023-06-28T15:09:59.546860\",\n",
    "    \"identifiedBy\": [\n",
    "      {\n",
    "        \"type\": \"Local\",\n",
    "        \"assigner\": \"http://id.loc.gov/vocabulary/organizations/dlc\",\n",
    "        \"value\": \"22600263\"\n",
    "      }\n",
    "    ],\n",
    "    \"status\": {\n",
    "      \"value\": \"mstatus:new\",\n",
    "      \"label\": \"novo\"\n",
    "    }\n",
    "  },\n",
    "  \"type\": [\n",
    "    \"Work\",\n",
    "    \"Text\",\n",
    "    \"Monograph\"\n",
    "  ],\n",
    "  \"content\": [\n",
    "    {\n",
    "      \"label\": \"text\",\n",
    "      \"uri\": \"http://id.loc.gov/vocabulary/contentTypes/txt\",\n",
    "      \"type\": [\n",
    "        \"http://id.loc.gov/ontologies/bibframe/Content\"\n",
    "      ]\n",
    "    }\n",
    "  ],\n",
    "  \"language\": [\n",
    "    {\n",
    "      \"label\": \"English\",\n",
    "      \"lang\": \"en\",\n",
    "      \"uri\": \"http://id.loc.gov/vocabulary/languages/eng\",\n",
    "      \"type\": [\n",
    "        \"http://id.loc.gov/ontologies/bibframe/Language\",\n",
    "        \"http://www.loc.gov/mads/rdf/v1#Language\"\n",
    "      ]\n",
    "    }\n",
    "  ],\n",
    "  \"title\": {\n",
    "    \"type\": \"bf:Title\",\n",
    "    \"mainTitle\": \"The journey of humanity\"\n",
    "  },\n",
    "  \"classification\": {\n",
    "    \"type\": \"ClassificationDdc\",\n",
    "    \"classificationPortion\": \"338.9001\",\n",
    "    \"edition\": \"full\"\n",
    "  },\n",
    "  \"contribution\": [\n",
    "    {\n",
    "      \"type\": [\n",
    "        \"http://id.loc.gov/ontologies/bflc/PrimaryContribution\"\n",
    "      ],\n",
    "      \"agent\": \"https://bibliokeia.com/authorities/PersonalName/bka-3\",\n",
    "      \"label\": \"Galor, Oded, 1953-\",\n",
    "      \"role\": \"http://id.loc.gov/vocabulary/relators/aut\"\n",
    "    }\n",
    "  ],\n",
    "  \"subject\": [\n",
    "    {\n",
    "      \"label\": \"Desenvolvimento econômico\",\n",
    "      \"lang\": \"pt\",\n",
    "      \"uri\": \"https://bibliokeia.com/authorities/Topic/bka-2\",\n",
    "      \"type\": [\n",
    "        \"http://id.loc.gov/ontologies/bibframe/Topic\"\n",
    "      ]\n",
    "    },\n",
    "    {\n",
    "      \"label\": \"História econômica\",\n",
    "      \"lang\": \"pt\",\n",
    "      \"uri\": \"https://bibliokeia.com/authorities/Topic/bka-1\",\n",
    "      \"type\": [\n",
    "        \"http://id.loc.gov/ontologies/bibframe/Topic\"\n",
    "      ]\n",
    "    },\n",
    "    {\n",
    "      \"label\": \"Equality\",\n",
    "      \"lang\": \"en\",\n",
    "      \"uri\": \"http://id.loc.gov/authorities/subjects/sh85044503\",\n",
    "      \"type\": [\n",
    "        \"http://id.loc.gov/ontologies/bibframe/Topic\"\n",
    "      ]\n",
    "    }\n",
    "  ],\n",
    "  \"genreForm\": [\n",
    "    {\n",
    "      \"label\": \"Informational works\",\n",
    "      \"lang\": \"en\",\n",
    "      \"uri\": \"http://id.loc.gov/authorities/genreForms/gf2014026113\",\n",
    "      \"type\": [\n",
    "        \"http://id.loc.gov/ontologies/bibframe/GenreForm\"\n",
    "      ]\n",
    "    }\n",
    "  ],\n",
    "  \"summary\": \"\\\"Why are humans the only species to have escaped - only very recently - the subsistence trap, allowing us to enjoy a standard of living that vastly exceeds all others? And why have we progressed so unequally around the world, resulting in the great disparities between nations that exist today? Immense in scope and packed with astounding connections, Galor's gripping narrative explains how technology, population size, and adaptation led to a stunning \\\"phase change\\\" in the human story a mere two hundred years ago. But by tracing that same journey back in time and peeling away the layers of influence - colonialism, political institutions, societal structure, culture - he arrives also at an explanation of inequality's ultimate causes: those ancestral populations that enjoyed fruitful geographical characteristics and rich diversity were set on the path to prosperity, while those that lacked it were disadvantaged in ways still echoed today. As we face ecological crisis across the globe, The Journey of Humanity is a book of urgent truths and enduring relevance, with lessons that are both hopeful and profound: gender equality, investment in education, and balancing diversity with social cohesion are the keys not only to our species' thriving, but to its survival.\\\" -- publisher's website.\",\n",
    "  \"tableOfContents\": \"Mysteries of the human journey -- [Part] I: The human odyssey. First steps. Genesis ; Exodus from the cradle of humankind ; Early settlement ; The dawn of civilisation -- Lost in stagnation. The Malthusian thesis ; The inevitable onset of agriculture ; Population swings ; The economic ice age -- The storm beneath the surface. Unified growth theory ; Wheels of change -- Full steam. Acceleration of technological development ; Education in the pre-industrial era ; Industrialisation and human capital ; The advent of universal public education ; Child labour no more -- Metamorphosis. Triggers of the demographic transition ; Family tales ; Phase transition -- The promised land. The twilight of industry ; The age of growth ; Growth and environmental degradation -- Coda: resolving the mystery of growth -- [Part] II: The origins of wealth and inequality. Splendour and misery. Disparate factors ; Rusty tools ; Trade, colonialism and uneven development ; Deep-rooted factors -- The fingerprints of institutions. Institutional origins of the British ascent ; Institutions and long-run development ; The legacy of colonialism ; Origins of institutions -- The cultural factor. The power of culture ; A culture of growth ; Cultural inertia ; Culture and prosperity -- The shadow of geography. Landscape fragmentation and the rise of Europe ; Origins of extractive institutions ; Geographical roots of cultural traits ; Roots of comparative development -- The legacy of the agricultural revolution. Roots and impacts of the Neolithic revolution ; The grains of civilisation ; Ceding the head start ; Geography's decree -- Out of Africa. Origins of human diversity ; Measuring diversity ; Diversity and prosperity ; The grip of the past -- Coda: unravelling the mystery of inequality -- Afterword.\",\n",
    "  \"supplementaryContent\": [\n",
    "    {\n",
    "      \"label\": \"bibliography\",\n",
    "      \"uri\": \"http://id.loc.gov/vocabulary/msupplcont/bibliography\",\n",
    "      \"type\": [\n",
    "        \"http://id.loc.gov/ontologies/bibframe/SupplementaryContent\"\n",
    "      ]\n",
    "    },\n",
    "    {\n",
    "      \"label\": \"index\",\n",
    "      \"uri\": \"http://id.loc.gov/vocabulary/msupplcont/index\",\n",
    "      \"type\": [\n",
    "        \"http://id.loc.gov/ontologies/bibframe/SupplementaryContent\"\n",
    "      ]\n",
    "    }\n",
    "  ],\n",
    "  \"illustrativeContent\": [\n",
    "    {\n",
    "      \"label\": \"Illustrations\",\n",
    "      \"uri\": \"http://id.loc.gov/vocabulary/millus/ill\",\n",
    "      \"type\": [\n",
    "        \"http://id.loc.gov/ontologies/bibframe/Illustration\"\n",
    "      ]\n",
    "    },\n",
    "    {\n",
    "      \"label\": \"Maps\",\n",
    "      \"uri\": \"http://id.loc.gov/vocabulary/millus/map\",\n",
    "      \"type\": [\n",
    "        \"http://id.loc.gov/ontologies/bibframe/Illustration\"\n",
    "      ]\n",
    "    },\n",
    "    {\n",
    "      \"label\": \"Charts\",\n",
    "      \"uri\": \"http://id.loc.gov/vocabulary/millus/chr\",\n",
    "      \"type\": [\n",
    "        \"http://id.loc.gov/ontologies/bibframe/Illustration\"\n",
    "      ]\n",
    "    }\n",
    "  ],\n",
    "  \"intendedAudience\": [\n",
    "    {\n",
    "      \"label\": \"Adult\",\n",
    "      \"uri\": \"http://id.loc.gov/vocabulary/maudience/adu\",\n",
    "      \"type\": [\n",
    "        \"http://id.loc.gov/ontologies/bibframe/IntendedAudience\"\n",
    "      ]\n",
    "    }\n",
    "  ]\n",
    "}"
   ]
  },
  {
   "cell_type": "code",
   "execution_count": 58,
   "metadata": {},
   "outputs": [
    {
     "data": {
      "text/plain": [
       "Work(adminMetadata=AdminMetadata(encodingLevel='menclvl:f', assigner='http://id.loc.gov/vocabulary/organizations/brmninpa', creationDate=datetime.date(2023, 6, 28), descriptionConventions='http://id.loc.gov/vocabulary/descriptionConventions/isbd', descriptionModifier='http://id.loc.gov/vocabulary/organizations/brmninpa', descriptionLanguage='http://id.loc.gov/vocabulary/languages/por', generationProcess='BiblioKeia v.1', generationDate=datetime.datetime(2023, 6, 28, 15, 9, 59, 546860), identifiedBy=[IdentifiedBy(type='Local', assigner='http://id.loc.gov/vocabulary/organizations/dlc', value='22600263')], status=Status(value='mstatus:new', label='novo')), type=['Work', 'Text', 'Monograph'], content=[Element(label='text', lang=None, uri='http://id.loc.gov/vocabulary/contentTypes/txt', type=['http://id.loc.gov/ontologies/bibframe/Content'])], language=[Element(label='English', lang='en', uri='http://id.loc.gov/vocabulary/languages/eng', type=['http://id.loc.gov/ontologies/bibframe/Language', 'http://www.loc.gov/mads/rdf/v1#Language'])], title=Title(type='bf:Title', mainTitle='The journey of humanity', subtitle=None, label=None), classification=Classification(type='ClassificationDdc', classificationPortion='338.9001', itemPortion=None, edition='full'), contribution=[Contribution(type=['http://id.loc.gov/ontologies/bflc/PrimaryContribution'], agent='https://bibliokeia.com/authorities/PersonalName/bka-3', label='Galor, Oded, 1953-', role='http://id.loc.gov/vocabulary/relators/aut')], subject=[Element(label='Desenvolvimento econômico', lang='pt', uri='https://bibliokeia.com/authorities/Topic/bka-2', type=['http://id.loc.gov/ontologies/bibframe/Topic']), Element(label='História econômica', lang='pt', uri='https://bibliokeia.com/authorities/Topic/bka-1', type=['http://id.loc.gov/ontologies/bibframe/Topic']), Element(label='Equality', lang='en', uri='http://id.loc.gov/authorities/subjects/sh85044503', type=['http://id.loc.gov/ontologies/bibframe/Topic'])], genreForm=[Element(label='Informational works', lang='en', uri='http://id.loc.gov/authorities/genreForms/gf2014026113', type=['http://id.loc.gov/ontologies/bibframe/GenreForm'])], note=None, summary='\"Why are humans the only species to have escaped - only very recently - the subsistence trap, allowing us to enjoy a standard of living that vastly exceeds all others? And why have we progressed so unequally around the world, resulting in the great disparities between nations that exist today? Immense in scope and packed with astounding connections, Galor\\'s gripping narrative explains how technology, population size, and adaptation led to a stunning \"phase change\" in the human story a mere two hundred years ago. But by tracing that same journey back in time and peeling away the layers of influence - colonialism, political institutions, societal structure, culture - he arrives also at an explanation of inequality\\'s ultimate causes: those ancestral populations that enjoyed fruitful geographical characteristics and rich diversity were set on the path to prosperity, while those that lacked it were disadvantaged in ways still echoed today. As we face ecological crisis across the globe, The Journey of Humanity is a book of urgent truths and enduring relevance, with lessons that are both hopeful and profound: gender equality, investment in education, and balancing diversity with social cohesion are the keys not only to our species\\' thriving, but to its survival.\" -- publisher\\'s website.', tableOfContents=\"Mysteries of the human journey -- [Part] I: The human odyssey. First steps. Genesis ; Exodus from the cradle of humankind ; Early settlement ; The dawn of civilisation -- Lost in stagnation. The Malthusian thesis ; The inevitable onset of agriculture ; Population swings ; The economic ice age -- The storm beneath the surface. Unified growth theory ; Wheels of change -- Full steam. Acceleration of technological development ; Education in the pre-industrial era ; Industrialisation and human capital ; The advent of universal public education ; Child labour no more -- Metamorphosis. Triggers of the demographic transition ; Family tales ; Phase transition -- The promised land. The twilight of industry ; The age of growth ; Growth and environmental degradation -- Coda: resolving the mystery of growth -- [Part] II: The origins of wealth and inequality. Splendour and misery. Disparate factors ; Rusty tools ; Trade, colonialism and uneven development ; Deep-rooted factors -- The fingerprints of institutions. Institutional origins of the British ascent ; Institutions and long-run development ; The legacy of colonialism ; Origins of institutions -- The cultural factor. The power of culture ; A culture of growth ; Cultural inertia ; Culture and prosperity -- The shadow of geography. Landscape fragmentation and the rise of Europe ; Origins of extractive institutions ; Geographical roots of cultural traits ; Roots of comparative development -- The legacy of the agricultural revolution. Roots and impacts of the Neolithic revolution ; The grains of civilisation ; Ceding the head start ; Geography's decree -- Out of Africa. Origins of human diversity ; Measuring diversity ; Diversity and prosperity ; The grip of the past -- Coda: unravelling the mystery of inequality -- Afterword.\", supplementaryContent=[Element(label='bibliography', lang=None, uri='http://id.loc.gov/vocabulary/msupplcont/bibliography', type=['http://id.loc.gov/ontologies/bibframe/SupplementaryContent']), Element(label='index', lang=None, uri='http://id.loc.gov/vocabulary/msupplcont/index', type=['http://id.loc.gov/ontologies/bibframe/SupplementaryContent'])], illustrativeContent=[Element(label='Illustrations', lang=None, uri='http://id.loc.gov/vocabulary/millus/ill', type=['http://id.loc.gov/ontologies/bibframe/Illustration']), Element(label='Maps', lang=None, uri='http://id.loc.gov/vocabulary/millus/map', type=['http://id.loc.gov/ontologies/bibframe/Illustration']), Element(label='Charts', lang=None, uri='http://id.loc.gov/vocabulary/millus/chr', type=['http://id.loc.gov/ontologies/bibframe/Illustration'])], intendedAudience=[Element(label='Adult', lang=None, uri='http://id.loc.gov/vocabulary/maudience/adu', type=['http://id.loc.gov/ontologies/bibframe/IntendedAudience'])], geographicCoverage=None)"
      ]
     },
     "execution_count": 58,
     "metadata": {},
     "output_type": "execute_result"
    }
   ],
   "source": [
    "request = Work(**obj)\n",
    "request"
   ]
  },
  {
   "cell_type": "code",
   "execution_count": null,
   "metadata": {},
   "outputs": [],
   "source": [
    "def DocWork(request, id):\n",
    "\n",
    "    doc = {\n",
    "        \"id\": id,\n",
    "        \"type\": request.type,\n",
    "        \"content\": [i.label for i in request.content],\n",
    "        \"mainTitle\": request.title.mainTitle,\n",
    "        'language': [i.label for i in request.language],\n",
    "        \"subtitle\": request.title.subtitle,\n",
    "        \"cdd\": request.classification.classificationPortion,\n",
    "        \"note\": request.note,\n",
    "        \"summary\": request.summary,\n",
    "        \"tableOfContents\": request.tableOfContents,\n",
    "        \"supplementaryContent\": [i.label for i in request.supplementaryContent] if request.supplementaryContent else None,\n",
    "        \"illustrativeContent\": [i.label for i in request.illustrativeContent] if request.illustrativeContent else None,\n",
    "        \"intendedAudience\": [i.label for i in request.intendedAudience] if request.intendedAudience else None,\n",
    "        \"geographicCoverage\": [i.label for i in request.geographicCoverage] if request.geographicCoverage else None,\n",
    "        }\n",
    "    \n",
    "    if request.contribution:\n",
    "        contributions = list()\n",
    "        for i in request.contribution:\n",
    "            c = { \"id\": f\"{id}/contribution/{i.agent.split('/')[-1]}\",\n",
    "                \"type\": [i.split('/')[-1] for i in i.type],\n",
    "                \"agent\": i.agent,\n",
    "                \"label\": i.label,\n",
    "                \"role\": i.role } \n",
    "            contributions.append(c)\n",
    "        doc['contribution'] = contributions   \n",
    "\n",
    "    if request.subject:\n",
    "        pass\n",
    "    if request.genreForm:\n",
    "        pass\n",
    "\n",
    "    responseSolr =  solr.add([doc], commit=True)\n",
    "\n",
    "    return responseSolr \n",
    "\n",
    "responseSolr = DocWork(request, 'bkc-1')\n",
    "responseSolr"
   ]
  },
  {
   "cell_type": "code",
   "execution_count": 80,
   "metadata": {},
   "outputs": [
    {
     "name": "stdout",
     "output_type": "stream",
     "text": [
      "{'id': 'bkc-1/subject/bka-2', 'type': ['Topic'], 'uri': 'https://bibliokeia.com/authorities/Topic/bka-2', 'label': 'Desenvolvimento econômico'}\n",
      "{'id': 'bkc-1/subject/bka-1', 'type': ['Topic'], 'uri': 'https://bibliokeia.com/authorities/Topic/bka-1', 'label': 'História econômica'}\n",
      "{'id': 'bkc-1/subject/sh85044503', 'type': ['Topic'], 'uri': 'http://id.loc.gov/authorities/subjects/sh85044503', 'label': 'Equality'}\n"
     ]
    }
   ],
   "source": [
    "if request.subject:\n",
    "    subjects = list()\n",
    "    for i in request.subject:\n",
    "        s = { \"id\": f\"{id}/subject/{i.uri.split('/')[-1]}\",\n",
    "                \"type\": [i.split('/')[-1] for i in i.type],\n",
    "                \"uri\": i.uri,\n",
    "                \"label\": i.label} \n",
    "        subjects.append(s)\n",
    "    doc['subject'] = subjects\n"
   ]
  },
  {
   "cell_type": "code",
   "execution_count": 74,
   "metadata": {},
   "outputs": [],
   "source": [
    "request\n",
    "id = 'bkc-1'\n",
    "doc = {\n",
    "        \"id\": id,\n",
    "        \"type\": request.type,\n",
    "        \"content\": [i.label for i in request.content],\n",
    "        \"mainTitle\": request.title.mainTitle,\n",
    "        'language': [i.label for i in request.language],\n",
    "        \"subtitle\": request.title.subtitle,\n",
    "        \"cdd\": request.classification.classificationPortion,\n",
    "        \"note\": request.note,\n",
    "        \"summary\": request.summary,\n",
    "        \"tableOfContents\": request.tableOfContents,\n",
    "        \"supplementaryContent\": [i.label for i in request.supplementaryContent] if request.supplementaryContent else None,\n",
    "        \"illustrativeContent\": [i.label for i in request.illustrativeContent] if request.illustrativeContent else None,\n",
    "        \"intendedAudience\": [i.label for i in request.intendedAudience] if request.intendedAudience else None,\n",
    "        \"geographicCoverage\": [i.label for i in request.geographicCoverage] if request.geographicCoverage else None,\n",
    "        }\n",
    "\n",
    "if request.contribution:\n",
    "        contributions = list()\n",
    "        for i in request.contribution:\n",
    "            c = { \"id\": f\"{id}/contribution/{i.agent.split('/')[-1]}\",\n",
    "                \"type\": [i.split('/')[-1] for i in i.type],\n",
    "                \"agent\": i.agent,\n",
    "                \"label\": i.label,\n",
    "                \"role\": i.role } \n",
    "            contributions.append(c)\n",
    "        doc['contribution'] = contributions  "
   ]
  },
  {
   "cell_type": "code",
   "execution_count": 75,
   "metadata": {},
   "outputs": [
    {
     "data": {
      "text/plain": [
       "{'id': 'bkc-1',\n",
       " 'type': ['Work', 'Text', 'Monograph'],\n",
       " 'content': ['text'],\n",
       " 'mainTitle': 'The journey of humanity',\n",
       " 'language': ['English'],\n",
       " 'subtitle': None,\n",
       " 'cdd': '338.9001',\n",
       " 'note': None,\n",
       " 'summary': '\"Why are humans the only species to have escaped - only very recently - the subsistence trap, allowing us to enjoy a standard of living that vastly exceeds all others? And why have we progressed so unequally around the world, resulting in the great disparities between nations that exist today? Immense in scope and packed with astounding connections, Galor\\'s gripping narrative explains how technology, population size, and adaptation led to a stunning \"phase change\" in the human story a mere two hundred years ago. But by tracing that same journey back in time and peeling away the layers of influence - colonialism, political institutions, societal structure, culture - he arrives also at an explanation of inequality\\'s ultimate causes: those ancestral populations that enjoyed fruitful geographical characteristics and rich diversity were set on the path to prosperity, while those that lacked it were disadvantaged in ways still echoed today. As we face ecological crisis across the globe, The Journey of Humanity is a book of urgent truths and enduring relevance, with lessons that are both hopeful and profound: gender equality, investment in education, and balancing diversity with social cohesion are the keys not only to our species\\' thriving, but to its survival.\" -- publisher\\'s website.',\n",
       " 'tableOfContents': \"Mysteries of the human journey -- [Part] I: The human odyssey. First steps. Genesis ; Exodus from the cradle of humankind ; Early settlement ; The dawn of civilisation -- Lost in stagnation. The Malthusian thesis ; The inevitable onset of agriculture ; Population swings ; The economic ice age -- The storm beneath the surface. Unified growth theory ; Wheels of change -- Full steam. Acceleration of technological development ; Education in the pre-industrial era ; Industrialisation and human capital ; The advent of universal public education ; Child labour no more -- Metamorphosis. Triggers of the demographic transition ; Family tales ; Phase transition -- The promised land. The twilight of industry ; The age of growth ; Growth and environmental degradation -- Coda: resolving the mystery of growth -- [Part] II: The origins of wealth and inequality. Splendour and misery. Disparate factors ; Rusty tools ; Trade, colonialism and uneven development ; Deep-rooted factors -- The fingerprints of institutions. Institutional origins of the British ascent ; Institutions and long-run development ; The legacy of colonialism ; Origins of institutions -- The cultural factor. The power of culture ; A culture of growth ; Cultural inertia ; Culture and prosperity -- The shadow of geography. Landscape fragmentation and the rise of Europe ; Origins of extractive institutions ; Geographical roots of cultural traits ; Roots of comparative development -- The legacy of the agricultural revolution. Roots and impacts of the Neolithic revolution ; The grains of civilisation ; Ceding the head start ; Geography's decree -- Out of Africa. Origins of human diversity ; Measuring diversity ; Diversity and prosperity ; The grip of the past -- Coda: unravelling the mystery of inequality -- Afterword.\",\n",
       " 'supplementaryContent': ['bibliography', 'index'],\n",
       " 'illustrativeContent': ['Illustrations', 'Maps', 'Charts'],\n",
       " 'intendedAudience': ['Adult'],\n",
       " 'geographicCoverage': None,\n",
       " 'contribution': [{'id': 'bkc-1/contribution/bka-3',\n",
       "   'type': ['PrimaryContribution'],\n",
       "   'agent': 'https://bibliokeia.com/authorities/PersonalName/bka-3',\n",
       "   'label': 'Galor, Oded, 1953-',\n",
       "   'role': 'http://id.loc.gov/vocabulary/relators/aut'}]}"
      ]
     },
     "execution_count": 75,
     "metadata": {},
     "output_type": "execute_result"
    }
   ],
   "source": [
    "doc"
   ]
  },
  {
   "cell_type": "code",
   "execution_count": 76,
   "metadata": {},
   "outputs": [
    {
     "data": {
      "text/plain": [
       "'{\\n  \"responseHeader\":{\\n    \"status\":0,\\n    \"QTime\":153}}\\n'"
      ]
     },
     "execution_count": 76,
     "metadata": {},
     "output_type": "execute_result"
    }
   ],
   "source": [
    "solr.add([doc], commit=True)"
   ]
  },
  {
   "cell_type": "code",
   "execution_count": 70,
   "metadata": {},
   "outputs": [
    {
     "data": {
      "text/plain": [
       "{'id': 'bkc-1',\n",
       " 'type': ['Work', 'Text', 'Monograph'],\n",
       " 'content': ['text'],\n",
       " 'mainTitle': 'The journey of humanity',\n",
       " 'language': ['English'],\n",
       " 'subtitle': None,\n",
       " 'cdd': Classification(type='ClassificationDdc', classificationPortion='338.9001', itemPortion=None, edition='full'),\n",
       " 'note': None,\n",
       " 'summary': '\"Why are humans the only species to have escaped - only very recently - the subsistence trap, allowing us to enjoy a standard of living that vastly exceeds all others? And why have we progressed so unequally around the world, resulting in the great disparities between nations that exist today? Immense in scope and packed with astounding connections, Galor\\'s gripping narrative explains how technology, population size, and adaptation led to a stunning \"phase change\" in the human story a mere two hundred years ago. But by tracing that same journey back in time and peeling away the layers of influence - colonialism, political institutions, societal structure, culture - he arrives also at an explanation of inequality\\'s ultimate causes: those ancestral populations that enjoyed fruitful geographical characteristics and rich diversity were set on the path to prosperity, while those that lacked it were disadvantaged in ways still echoed today. As we face ecological crisis across the globe, The Journey of Humanity is a book of urgent truths and enduring relevance, with lessons that are both hopeful and profound: gender equality, investment in education, and balancing diversity with social cohesion are the keys not only to our species\\' thriving, but to its survival.\" -- publisher\\'s website.',\n",
       " 'tableOfContents': \"Mysteries of the human journey -- [Part] I: The human odyssey. First steps. Genesis ; Exodus from the cradle of humankind ; Early settlement ; The dawn of civilisation -- Lost in stagnation. The Malthusian thesis ; The inevitable onset of agriculture ; Population swings ; The economic ice age -- The storm beneath the surface. Unified growth theory ; Wheels of change -- Full steam. Acceleration of technological development ; Education in the pre-industrial era ; Industrialisation and human capital ; The advent of universal public education ; Child labour no more -- Metamorphosis. Triggers of the demographic transition ; Family tales ; Phase transition -- The promised land. The twilight of industry ; The age of growth ; Growth and environmental degradation -- Coda: resolving the mystery of growth -- [Part] II: The origins of wealth and inequality. Splendour and misery. Disparate factors ; Rusty tools ; Trade, colonialism and uneven development ; Deep-rooted factors -- The fingerprints of institutions. Institutional origins of the British ascent ; Institutions and long-run development ; The legacy of colonialism ; Origins of institutions -- The cultural factor. The power of culture ; A culture of growth ; Cultural inertia ; Culture and prosperity -- The shadow of geography. Landscape fragmentation and the rise of Europe ; Origins of extractive institutions ; Geographical roots of cultural traits ; Roots of comparative development -- The legacy of the agricultural revolution. Roots and impacts of the Neolithic revolution ; The grains of civilisation ; Ceding the head start ; Geography's decree -- Out of Africa. Origins of human diversity ; Measuring diversity ; Diversity and prosperity ; The grip of the past -- Coda: unravelling the mystery of inequality -- Afterword.\",\n",
       " 'supplementaryContent': ['bibliography', 'index'],\n",
       " 'illustrativeContent': ['Illustrations', 'Maps', 'Charts'],\n",
       " 'intendedAudience': ['Adult'],\n",
       " 'geographicCoverage': None,\n",
       " 'contribution': [{'id': 'bkc-1/contribution/bka-3',\n",
       "   'type': ['PrimaryContribution'],\n",
       "   'agent': 'https://bibliokeia.com/authorities/PersonalName/bka-3',\n",
       "   'label': 'Galor, Oded, 1953-',\n",
       "   'role': 'http://id.loc.gov/vocabulary/relators/aut'}]}"
      ]
     },
     "execution_count": 70,
     "metadata": {},
     "output_type": "execute_result"
    }
   ],
   "source": [
    "doc"
   ]
  },
  {
   "cell_type": "code",
   "execution_count": 71,
   "metadata": {},
   "outputs": [
    {
     "ename": "AttributeError",
     "evalue": "'dict' object has no attribute 'read'",
     "output_type": "error",
     "traceback": [
      "\u001b[1;31m---------------------------------------------------------------------------\u001b[0m",
      "\u001b[1;31mAttributeError\u001b[0m                            Traceback (most recent call last)",
      "\u001b[1;32mc:\\Users\\Usuário\\Desktop\\BiblioKeia\\test.ipynb Cell 29\u001b[0m in \u001b[0;36m<cell line: 2>\u001b[1;34m()\u001b[0m\n\u001b[0;32m      <a href='vscode-notebook-cell:/c%3A/Users/Usu%C3%A1rio/Desktop/BiblioKeia/test.ipynb#Y103sZmlsZQ%3D%3D?line=0'>1</a>\u001b[0m \u001b[39mimport\u001b[39;00m \u001b[39mjson\u001b[39;00m\n\u001b[1;32m----> <a href='vscode-notebook-cell:/c%3A/Users/Usu%C3%A1rio/Desktop/BiblioKeia/test.ipynb#Y103sZmlsZQ%3D%3D?line=1'>2</a>\u001b[0m j \u001b[39m=\u001b[39m json\u001b[39m.\u001b[39;49mload(doc)\n",
      "File \u001b[1;32m~\\AppData\\Local\\Programs\\Python\\Python310\\lib\\json\\__init__.py:293\u001b[0m, in \u001b[0;36mload\u001b[1;34m(fp, cls, object_hook, parse_float, parse_int, parse_constant, object_pairs_hook, **kw)\u001b[0m\n\u001b[0;32m    274\u001b[0m \u001b[39mdef\u001b[39;00m \u001b[39mload\u001b[39m(fp, \u001b[39m*\u001b[39m, \u001b[39mcls\u001b[39m\u001b[39m=\u001b[39m\u001b[39mNone\u001b[39;00m, object_hook\u001b[39m=\u001b[39m\u001b[39mNone\u001b[39;00m, parse_float\u001b[39m=\u001b[39m\u001b[39mNone\u001b[39;00m,\n\u001b[0;32m    275\u001b[0m         parse_int\u001b[39m=\u001b[39m\u001b[39mNone\u001b[39;00m, parse_constant\u001b[39m=\u001b[39m\u001b[39mNone\u001b[39;00m, object_pairs_hook\u001b[39m=\u001b[39m\u001b[39mNone\u001b[39;00m, \u001b[39m*\u001b[39m\u001b[39m*\u001b[39mkw):\n\u001b[0;32m    276\u001b[0m     \u001b[39m\"\"\"Deserialize ``fp`` (a ``.read()``-supporting file-like object containing\u001b[39;00m\n\u001b[0;32m    277\u001b[0m \u001b[39m    a JSON document) to a Python object.\u001b[39;00m\n\u001b[0;32m    278\u001b[0m \n\u001b[1;32m   (...)\u001b[0m\n\u001b[0;32m    291\u001b[0m \u001b[39m    kwarg; otherwise ``JSONDecoder`` is used.\u001b[39;00m\n\u001b[0;32m    292\u001b[0m \u001b[39m    \"\"\"\u001b[39;00m\n\u001b[1;32m--> 293\u001b[0m     \u001b[39mreturn\u001b[39;00m loads(fp\u001b[39m.\u001b[39;49mread(),\n\u001b[0;32m    294\u001b[0m         \u001b[39mcls\u001b[39m\u001b[39m=\u001b[39m\u001b[39mcls\u001b[39m, object_hook\u001b[39m=\u001b[39mobject_hook,\n\u001b[0;32m    295\u001b[0m         parse_float\u001b[39m=\u001b[39mparse_float, parse_int\u001b[39m=\u001b[39mparse_int,\n\u001b[0;32m    296\u001b[0m         parse_constant\u001b[39m=\u001b[39mparse_constant, object_pairs_hook\u001b[39m=\u001b[39mobject_pairs_hook, \u001b[39m*\u001b[39m\u001b[39m*\u001b[39mkw)\n",
      "\u001b[1;31mAttributeError\u001b[0m: 'dict' object has no attribute 'read'"
     ]
    }
   ],
   "source": [
    "import json\n",
    "j = json.load(doc)"
   ]
  }
 ],
 "metadata": {
  "kernelspec": {
   "display_name": "venv",
   "language": "python",
   "name": "python3"
  },
  "language_info": {
   "codemirror_mode": {
    "name": "ipython",
    "version": 3
   },
   "file_extension": ".py",
   "mimetype": "text/x-python",
   "name": "python",
   "nbconvert_exporter": "python",
   "pygments_lexer": "ipython3",
   "version": "3.10.4"
  },
  "orig_nbformat": 4
 },
 "nbformat": 4,
 "nbformat_minor": 2
}
