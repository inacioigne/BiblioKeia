{
 "cells": [
  {
   "cell_type": "code",
   "execution_count": 1,
   "metadata": {},
   "outputs": [],
   "source": [
    "import httpx\n",
    "from rdflib import Graph\n",
    "from pysolr import Solr"
   ]
  },
  {
   "cell_type": "code",
   "execution_count": 5,
   "metadata": {},
   "outputs": [],
   "source": []
  },
  {
   "cell_type": "code",
   "execution_count": 7,
   "metadata": {},
   "outputs": [],
   "source": [
    "from typing import Optional\n",
    "from pydantic import BaseModel\n",
    "from api.src.schemas.metadata.bibframe.adminMetadata import AdminMetadata\n",
    "from api.src.schemas.metadata.bibframe.element import Element\n",
    "from api.src.schemas.metadata.bibframe.title import Title\n",
    "from api.src.schemas.metadata.bibframe.classification import Classification\n",
    "from api.src.schemas.metadata.bibframe.contribution import Contribution\n",
    "\n",
    "\n",
    "class Work(BaseModel):\n",
    "    adminMetadata: AdminMetadata\n",
    "    type: list[str]\n",
    "    content: list[Element]\n",
    "    language: list[Element]\n",
    "    title: Title\n",
    "    classification: Optional[Classification]\n",
    "    contribution: Optional[list[Contribution]]\n",
    "    subject: Optional[list[Element]]   \n",
    "    genreForm: Optional[list[Element]]\n",
    "    note: Optional[str]\n",
    "    summary: Optional[str]\n",
    "    supplementaryContent: Optional[list[Element]]\n",
    "    illustrativeContent: Optional[list[Element]]\n",
    "    intendedAudience: Optional[list[Element]]\n",
    "    tableOfContents: Optional[str]"
   ]
  },
  {
   "cell_type": "code",
   "execution_count": 2,
   "metadata": {},
   "outputs": [
    {
     "data": {
      "text/plain": [
       "<Response [200 OK]>"
      ]
     },
     "execution_count": 2,
     "metadata": {},
     "output_type": "execute_result"
    }
   ],
   "source": [
    "uri = 'http://id.loc.gov/resources/works/18652354'\n",
    "url = f'http://localhost:8000/import/loc/works?uri={uri}'\n",
    "\n",
    "response = httpx.get(url)\n",
    "response"
   ]
  },
  {
   "cell_type": "code",
   "execution_count": 9,
   "metadata": {},
   "outputs": [
    {
     "data": {
      "text/plain": [
       "Work(adminMetadata=AdminMetadata(encodingLevel='menclvl:f', assigner='http://id.loc.gov/vocabulary/organizations/brmninpa', creationDate='2023-06-13', descriptionConventions='http://id.loc.gov/vocabulary/descriptionConventions/isbd', descriptionModifier='http://id.loc.gov/vocabulary/organizations/brmninpa', descriptionLanguage='http://id.loc.gov/vocabulary/languages/por', generationProcess=GenerationProcess(label='BiblioKeia', generationDate='2023-06-13T16:31:09'), identifiedBy=[IdentifiedBy(type='Local', assigner='http://id.loc.gov/vocabulary/organizations/dlc', value='18652354')], status=Status(value='mstatus:new', label='novo')), type=['Work', 'Text'], content=[Element(label='text', lang=None, uri='http://id.loc.gov/vocabulary/contentTypes/txt', type=['http://id.loc.gov/ontologies/bibframe/Content'])], language=[Element(label='Portuguese', lang='en', uri='http://id.loc.gov/vocabulary/languages/por', type=['http://id.loc.gov/ontologies/bibframe/Language'])], title=Title(type='bf:Title', mainTitle='A Floresta Amazônica garante nossas vidas', subtitle=None), classification=None, contribution=[Contribution(type=['http://id.loc.gov/ontologies/bflc/PrimaryContribution'], agent='http://id.loc.gov/rwo/agents/n2022250451', label='Csettkey, Marcelo', role='http://id.loc.gov/vocabulary/relators/aut')], subject=None, genreForm=None, note=None, summary=None, supplementaryContent=[Element(label='bibliography', lang=None, uri='http://id.loc.gov/vocabulary/msupplcont/bibliography', type=['http://id.loc.gov/ontologies/bibframe/SupplementaryContent'])], illustrativeContent=None, intendedAudience=None, tableOfContents=None)"
      ]
     },
     "execution_count": 9,
     "metadata": {},
     "output_type": "execute_result"
    }
   ],
   "source": [
    "request = Work(**response.json())\n",
    "request"
   ]
  },
  {
   "cell_type": "code",
   "execution_count": 15,
   "metadata": {},
   "outputs": [
    {
     "data": {
      "text/plain": [
       "[Element(label='Portuguese', lang='en', uri='http://id.loc.gov/vocabulary/languages/por', type=['http://id.loc.gov/ontologies/bibframe/Language'])]"
      ]
     },
     "execution_count": 15,
     "metadata": {},
     "output_type": "execute_result"
    }
   ],
   "source": [
    "request.language"
   ]
  },
  {
   "cell_type": "code",
   "execution_count": 16,
   "metadata": {},
   "outputs": [
    {
     "data": {
      "text/plain": [
       "['Portuguese']"
      ]
     },
     "execution_count": 16,
     "metadata": {},
     "output_type": "execute_result"
    }
   ],
   "source": [
    "x = [i.label for i in request.language]\n",
    "x"
   ]
  },
  {
   "cell_type": "code",
   "execution_count": 17,
   "metadata": {},
   "outputs": [
    {
     "name": "stdout",
     "output_type": "stream",
     "text": [
      "{'id': 'bk-1', 'type': ['Work', 'Text'], 'content': ['text'], 'mainTitle': 'A Floresta Amazônica garante nossas vidas', 'language': ['Portuguese']}\n"
     ]
    }
   ],
   "source": [
    "def DocWork(request, id):\n",
    "\n",
    "    doc = {\n",
    "        \"id\": id,\n",
    "        \"type\": request.type,\n",
    "        \"content\": [i.label for i in request.content],\n",
    "        \"mainTitle\": request.title.mainTitle,\n",
    "        'language': [i.label for i in request.language]\n",
    "        # \"subtitle\": request.title.subtitle,\n",
    "        # \"primaryContribution\" : request.primaryContribution.label,\n",
    "        # \"primaryContributionUri\": request.primaryContribution.uri,\n",
    "        # \"primaryContributionRole\": request.primaryContribution.role,\n",
    "        # \"language\": request.language,\n",
    "        # \"cdd\": request.cdd,\n",
    "        # \"cutter\": request.cutter,\n",
    "        # \"hasSeries\": request.serie\n",
    "        }  \n",
    "    print(doc)\n",
    "\n",
    "    # subjects = list()\n",
    "    # for subject in request.subjects:\n",
    "    #     subjects.append(subject.label)\n",
    "    # doc['subjects'] = subjects\n",
    "\n",
    "    # solr.add([doc], commit=True)\n",
    "\n",
    "DocWork(request, \"bk-1\")\n"
   ]
  }
 ],
 "metadata": {
  "kernelspec": {
   "display_name": "venv",
   "language": "python",
   "name": "python3"
  },
  "language_info": {
   "codemirror_mode": {
    "name": "ipython",
    "version": 3
   },
   "file_extension": ".py",
   "mimetype": "text/x-python",
   "name": "python",
   "nbconvert_exporter": "python",
   "pygments_lexer": "ipython3",
   "version": "3.10.4"
  },
  "orig_nbformat": 4
 },
 "nbformat": 4,
 "nbformat_minor": 2
}
