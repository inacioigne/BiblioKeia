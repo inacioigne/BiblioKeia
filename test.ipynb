{
 "cells": [
  {
   "cell_type": "code",
   "execution_count": 41,
   "metadata": {},
   "outputs": [],
   "source": [
    "from pyfuseki import FusekiQuery, FusekiUpdate\n",
    "import pysolr  \n",
    "from api.src.schemas.settings import Settings\n",
    "import httpx"
   ]
  },
  {
   "cell_type": "code",
   "execution_count": 57,
   "metadata": {},
   "outputs": [],
   "source": [
    "settings = Settings()\n",
    "collectionQuery = FusekiQuery(f'{settings.url}:3030', 'collection')\n",
    "collectionUpdate = FusekiUpdate(f'{settings.url}:3030', 'collection')\n",
    "\n",
    "#SOLR\n",
    "solr = pysolr.Solr(f'{settings.url}:8983/solr/acervo/', timeout=10)"
   ]
  },
  {
   "attachments": {},
   "cell_type": "markdown",
   "metadata": {},
   "source": [
    "TEST JORNEY OF HUMANITY"
   ]
  },
  {
   "attachments": {},
   "cell_type": "markdown",
   "metadata": {},
   "source": [
    "Assunto"
   ]
  },
  {
   "cell_type": "code",
   "execution_count": 24,
   "metadata": {},
   "outputs": [
    {
     "data": {
      "text/plain": [
       "<Response [200 OK]>"
      ]
     },
     "execution_count": 24,
     "metadata": {},
     "output_type": "execute_result"
    }
   ],
   "source": [
    "# Import LOC\n",
    "url = 'http://localhost:8000/import/loc/subjects?uri=http%3A%2F%2Fid.loc.gov%2Fauthorities%2Fsubjects%2Fsh85040817'\n",
    "response = httpx.get(url)\n",
    "response"
   ]
  },
  {
   "cell_type": "code",
   "execution_count": 30,
   "metadata": {},
   "outputs": [
    {
     "data": {
      "text/plain": [
       "<Response [200 OK]>"
      ]
     },
     "execution_count": 30,
     "metadata": {},
     "output_type": "execute_result"
    }
   ],
   "source": [
    "uri = 'http://id.loc.gov/authorities/subjects/sh85040804'\n",
    "url = f'http://localhost:8000/import/loc/subjects?uri={uri}'\n",
    "response = httpx.get(url, timeout=120)\n",
    "response"
   ]
  },
  {
   "cell_type": "code",
   "execution_count": 31,
   "metadata": {},
   "outputs": [],
   "source": [
    "obj = response.json()"
   ]
  },
  {
   "cell_type": "code",
   "execution_count": 32,
   "metadata": {},
   "outputs": [
    {
     "data": {
      "text/plain": [
       "201"
      ]
     },
     "execution_count": 32,
     "metadata": {},
     "output_type": "execute_result"
    }
   ],
   "source": [
    "# POST ASSUNTO\n",
    "headers = {\n",
    "    'accept': 'application/json',\n",
    "    'Content-Type': 'application/json',\n",
    "}\n",
    "response = httpx.post('http://localhost:8000/authorities/subject/', headers=headers, json=obj)\n",
    "response.status_code"
   ]
  },
  {
   "attachments": {},
   "cell_type": "markdown",
   "metadata": {},
   "source": [
    "Agent"
   ]
  },
  {
   "cell_type": "code",
   "execution_count": 34,
   "metadata": {},
   "outputs": [
    {
     "data": {
      "text/plain": [
       "<Response [200 OK]>"
      ]
     },
     "execution_count": 34,
     "metadata": {},
     "output_type": "execute_result"
    }
   ],
   "source": [
    "url = 'http://localhost:8000/import/loc/agents?uri=http%3A%2F%2Fid.loc.gov%2Fauthorities%2Fnames%2Fn86870523'\n",
    "response = httpx.get(url, timeout=120)\n",
    "response\n"
   ]
  },
  {
   "attachments": {},
   "cell_type": "markdown",
   "metadata": {},
   "source": [
    "WORK"
   ]
  },
  {
   "cell_type": "code",
   "execution_count": 5,
   "metadata": {},
   "outputs": [
    {
     "data": {
      "text/plain": [
       "<Response [200 OK]>"
      ]
     },
     "execution_count": 5,
     "metadata": {},
     "output_type": "execute_result"
    }
   ],
   "source": [
    "url = 'http://localhost:8000/import/loc/works?uri=http%3A%2F%2Fid.loc.gov%2Fresources%2Fworks%2F22600263'\n",
    "response = httpx.get(url, timeout=120)\n",
    "response"
   ]
  },
  {
   "cell_type": "code",
   "execution_count": 6,
   "metadata": {},
   "outputs": [],
   "source": [
    "obj = response.json()"
   ]
  },
  {
   "cell_type": "code",
   "execution_count": 7,
   "metadata": {},
   "outputs": [],
   "source": [
    "from pydantic import BaseModel\n",
    "from typing import Optional\n",
    "from api.src.schemas.metadata.bibframe.adminMetadata import AdminMetadata\n",
    "from api.src.schemas.metadata.bibframe.classification import Classification\n",
    "from api.src.schemas.metadata.bibframe.contribution import Contribution\n",
    "from api.src.schemas.metadata.bibframe.element import Element\n",
    "from api.src.schemas.metadata.bibframe.title import Title\n",
    "\n",
    "class Work(BaseModel):\n",
    "    adminMetadata: AdminMetadata\n",
    "    type: list[str]\n",
    "    content: list[Element]\n",
    "    language: list[Element]\n",
    "    title: Title\n",
    "    classification: Optional[Classification]\n",
    "    contribution: Optional[list[Contribution]]\n",
    "    subject: Optional[list[Element]]   \n",
    "    genreForm: Optional[list[Element]]\n",
    "    note: Optional[str]\n",
    "    summary: Optional[str]\n",
    "    tableOfContents: Optional[str]\n",
    "    supplementaryContent: Optional[list[Element]]\n",
    "    illustrativeContent: Optional[list[Element]]\n",
    "    intendedAudience: Optional[list[Element]]\n",
    "    geographicCoverage: Optional[list[Element]]"
   ]
  },
  {
   "cell_type": "code",
   "execution_count": 13,
   "metadata": {},
   "outputs": [],
   "source": [
    "obj['subject'] = [{'label': 'Desenvolvimento econômico',\n",
    "  'lang': 'pt',\n",
    "  'uri': 'https://bibliokeia.com/authorities/Topic/bka-2',\n",
    "  'type': ['http://id.loc.gov/ontologies/bibframe/Topic']},\n",
    "\n",
    " {'label': 'História econômica',\n",
    "  'lang': 'pt',\n",
    "  'uri': 'https://bibliokeia.com/authorities/Topic/bka-1',\n",
    "  'type': ['http://id.loc.gov/ontologies/bibframe/Topic']},\n",
    "\n",
    " {'label': 'Igualdade',\n",
    "  'lang': 'pt',\n",
    "  'uri': 'https://bibliokeia.com/authorities/Topic/bka-4',\n",
    "  'type': ['http://id.loc.gov/ontologies/bibframe/Topic']}]"
   ]
  },
  {
   "cell_type": "code",
   "execution_count": 14,
   "metadata": {},
   "outputs": [
    {
     "data": {
      "text/plain": [
       "Work(adminMetadata=AdminMetadata(encodingLevel='menclvl:f', assigner='http://id.loc.gov/vocabulary/organizations/brmninpa', creationDate=datetime.date(2023, 6, 30), descriptionConventions='http://id.loc.gov/vocabulary/descriptionConventions/isbd', descriptionModifier='http://id.loc.gov/vocabulary/organizations/brmninpa', descriptionLanguage='http://id.loc.gov/vocabulary/languages/por', generationProcess='BiblioKeia v.1', generationDate=datetime.datetime(2023, 6, 30, 10, 26, 5, 265649), identifiedBy=[IdentifiedBy(type='Local', assigner='http://id.loc.gov/vocabulary/organizations/dlc', value='22600263')], status=Status(value='mstatus:new', label='novo')), type=['Work', 'Text', 'Monograph'], content=[Element(label='text', lang=None, uri='http://id.loc.gov/vocabulary/contentTypes/txt', type=['http://id.loc.gov/ontologies/bibframe/Content'])], language=[Element(label='English', lang='en', uri='http://id.loc.gov/vocabulary/languages/eng', type=['http://id.loc.gov/ontologies/bibframe/Language', 'http://www.loc.gov/mads/rdf/v1#Language'])], title=Title(type='bf:Title', mainTitle='The journey of humanity', subtitle=None, label=None), classification=Classification(type='ClassificationDdc', classificationPortion='338.9001', itemPortion=None, edition='full'), contribution=[Contribution(type=['http://id.loc.gov/ontologies/bflc/PrimaryContribution'], agent='http://id.loc.gov/rwo/agents/n86870523', label='Galor, Oded, 1953-', role='http://id.loc.gov/vocabulary/relators/aut')], subject=[Element(label='Desenvolvimento econômico', lang='pt', uri='https://bibliokeia.com/authorities/Topic/bka-2', type=['http://id.loc.gov/ontologies/bibframe/Topic']), Element(label='História econômica', lang='pt', uri='https://bibliokeia.com/authorities/Topic/bka-1', type=['http://id.loc.gov/ontologies/bibframe/Topic']), Element(label='Igualdade', lang='pt', uri='https://bibliokeia.com/authorities/Topic/bka-4', type=['http://id.loc.gov/ontologies/bibframe/Topic'])], genreForm=[Element(label='Informational works', lang='en', uri='http://id.loc.gov/authorities/genreForms/gf2014026113', type=['http://id.loc.gov/ontologies/bibframe/GenreForm'])], note=None, summary='\"Why are humans the only species to have escaped - only very recently - the subsistence trap, allowing us to enjoy a standard of living that vastly exceeds all others? And why have we progressed so unequally around the world, resulting in the great disparities between nations that exist today? Immense in scope and packed with astounding connections, Galor\\'s gripping narrative explains how technology, population size, and adaptation led to a stunning \"phase change\" in the human story a mere two hundred years ago. But by tracing that same journey back in time and peeling away the layers of influence - colonialism, political institutions, societal structure, culture - he arrives also at an explanation of inequality\\'s ultimate causes: those ancestral populations that enjoyed fruitful geographical characteristics and rich diversity were set on the path to prosperity, while those that lacked it were disadvantaged in ways still echoed today. As we face ecological crisis across the globe, The Journey of Humanity is a book of urgent truths and enduring relevance, with lessons that are both hopeful and profound: gender equality, investment in education, and balancing diversity with social cohesion are the keys not only to our species\\' thriving, but to its survival.\" -- publisher\\'s website.', tableOfContents=\"Mysteries of the human journey -- [Part] I: The human odyssey. First steps. Genesis ; Exodus from the cradle of humankind ; Early settlement ; The dawn of civilisation -- Lost in stagnation. The Malthusian thesis ; The inevitable onset of agriculture ; Population swings ; The economic ice age -- The storm beneath the surface. Unified growth theory ; Wheels of change -- Full steam. Acceleration of technological development ; Education in the pre-industrial era ; Industrialisation and human capital ; The advent of universal public education ; Child labour no more -- Metamorphosis. Triggers of the demographic transition ; Family tales ; Phase transition -- The promised land. The twilight of industry ; The age of growth ; Growth and environmental degradation -- Coda: resolving the mystery of growth -- [Part] II: The origins of wealth and inequality. Splendour and misery. Disparate factors ; Rusty tools ; Trade, colonialism and uneven development ; Deep-rooted factors -- The fingerprints of institutions. Institutional origins of the British ascent ; Institutions and long-run development ; The legacy of colonialism ; Origins of institutions -- The cultural factor. The power of culture ; A culture of growth ; Cultural inertia ; Culture and prosperity -- The shadow of geography. Landscape fragmentation and the rise of Europe ; Origins of extractive institutions ; Geographical roots of cultural traits ; Roots of comparative development -- The legacy of the agricultural revolution. Roots and impacts of the Neolithic revolution ; The grains of civilisation ; Ceding the head start ; Geography's decree -- Out of Africa. Origins of human diversity ; Measuring diversity ; Diversity and prosperity ; The grip of the past -- Coda: unravelling the mystery of inequality -- Afterword.\", supplementaryContent=[Element(label='bibliography', lang=None, uri='http://id.loc.gov/vocabulary/msupplcont/bibliography', type=['http://id.loc.gov/ontologies/bibframe/SupplementaryContent']), Element(label='index', lang=None, uri='http://id.loc.gov/vocabulary/msupplcont/index', type=['http://id.loc.gov/ontologies/bibframe/SupplementaryContent'])], illustrativeContent=[Element(label='Illustrations', lang=None, uri='http://id.loc.gov/vocabulary/millus/ill', type=['http://id.loc.gov/ontologies/bibframe/Illustration']), Element(label='Maps', lang=None, uri='http://id.loc.gov/vocabulary/millus/map', type=['http://id.loc.gov/ontologies/bibframe/Illustration']), Element(label='Charts', lang=None, uri='http://id.loc.gov/vocabulary/millus/chr', type=['http://id.loc.gov/ontologies/bibframe/Illustration'])], intendedAudience=[Element(label='Adult', lang=None, uri='http://id.loc.gov/vocabulary/maudience/adu', type=['http://id.loc.gov/ontologies/bibframe/IntendedAudience'])], geographicCoverage=None)"
      ]
     },
     "execution_count": 14,
     "metadata": {},
     "output_type": "execute_result"
    }
   ],
   "source": [
    "request = Work(**obj)\n",
    "request"
   ]
  },
  {
   "cell_type": "code",
   "execution_count": null,
   "metadata": {},
   "outputs": [],
   "source": [
    "# POST ASSUNTO\n",
    "headers = {\n",
    "    'accept': 'application/json',\n",
    "    'Content-Type': 'application/json',\n",
    "}\n",
    "response = httpx.post('http://localhost:8000/cataloguing/work', headers=headers, json=obj)\n",
    "response.status_code"
   ]
  },
  {
   "cell_type": "code",
   "execution_count": null,
   "metadata": {},
   "outputs": [],
   "source": [
    "def DocWork(request, id):\n",
    "\n",
    "    doc = {\n",
    "        \"id\": id,\n",
    "        \"type\": request.type,\n",
    "        \"content\": [i.label for i in request.content],\n",
    "        \"mainTitle\": request.title.mainTitle,\n",
    "        'language': [i.label for i in request.language],\n",
    "        \"subtitle\": request.title.subtitle,\n",
    "        \"cdd\": request.classification.classificationPortion,\n",
    "        \"note\": request.note,\n",
    "        \"summary\": request.summary,\n",
    "        \"tableOfContents\": request.tableOfContents,\n",
    "        \"supplementaryContent\": [i.label for i in request.supplementaryContent] if request.supplementaryContent else None,\n",
    "        \"illustrativeContent\": [i.label for i in request.illustrativeContent] if request.illustrativeContent else None,\n",
    "        \"intendedAudience\": [i.label for i in request.intendedAudience] if request.intendedAudience else None,\n",
    "        \"geographicCoverage\": [i.label for i in request.geographicCoverage] if request.geographicCoverage else None,\n",
    "        }\n",
    "    \n",
    "    if request.contribution:\n",
    "        contributions = list()\n",
    "        for i in request.contribution:\n",
    "            c = { \"id\": f\"{id}/contribution/{i.agent.split('/')[-1]}\",\n",
    "                \"type\": [i.split('/')[-1] for i in i.type],\n",
    "                \"agent\": i.agent,\n",
    "                \"label\": i.label,\n",
    "                \"role\": i.role } \n",
    "            contributions.append(c)\n",
    "        doc['contribution'] = contributions   \n",
    "\n",
    "    if request.subject:\n",
    "        pass\n",
    "    if request.genreForm:\n",
    "        pass\n",
    "\n",
    "    responseSolr =  solr.add([doc], commit=True)\n",
    "\n",
    "    return responseSolr \n",
    "\n",
    "responseSolr = DocWork(request, 'bkc-1')\n",
    "responseSolr"
   ]
  },
  {
   "cell_type": "code",
   "execution_count": 76,
   "metadata": {},
   "outputs": [
    {
     "data": {
      "text/plain": [
       "'{\\n  \"responseHeader\":{\\n    \"status\":0,\\n    \"QTime\":153}}\\n'"
      ]
     },
     "execution_count": 76,
     "metadata": {},
     "output_type": "execute_result"
    }
   ],
   "source": [
    "solr.add([doc], commit=True)"
   ]
  },
  {
   "attachments": {},
   "cell_type": "markdown",
   "metadata": {},
   "source": [
    "Instance\n"
   ]
  },
  {
   "cell_type": "code",
   "execution_count": 19,
   "metadata": {},
   "outputs": [
    {
     "data": {
      "text/plain": [
       "<Response [200 OK]>"
      ]
     },
     "execution_count": 19,
     "metadata": {},
     "output_type": "execute_result"
    }
   ],
   "source": [
    "uri = 'http://id.loc.gov/resources/instances/22600263'\n",
    "url = f'http://localhost:8000/import/loc/instances?uri={uri}'\n",
    "instance = httpx.get(url)\n",
    "instance"
   ]
  },
  {
   "cell_type": "code",
   "execution_count": 21,
   "metadata": {},
   "outputs": [],
   "source": [
    "objInstance = instance.json()\n"
   ]
  },
  {
   "cell_type": "code",
   "execution_count": 23,
   "metadata": {},
   "outputs": [
    {
     "data": {
      "text/plain": [
       "dict_keys(['adminMetadata', 'type', 'title', 'carrier', 'copyrightDate', 'dimensions', 'extent', 'instanceOf', 'issuance', 'media', 'provisionActivity', 'provisionActivityStatement', 'responsibilityStatement', 'seriesStatement'])"
      ]
     },
     "execution_count": 23,
     "metadata": {},
     "output_type": "execute_result"
    }
   ],
   "source": [
    "objInstance.keys()"
   ]
  },
  {
   "cell_type": "code",
   "execution_count": 25,
   "metadata": {},
   "outputs": [],
   "source": [
    "objInstance['instanceOf'] = {'label': 'Galor, Oded, 1953- The journey of humanity',\n",
    " 'lang': None,\n",
    " 'uri': 'https://bibliokeia.com/resources/work/bkc-1',\n",
    " 'type': ['http://id.loc.gov/ontologies/bibframe/Work']}"
   ]
  },
  {
   "cell_type": "code",
   "execution_count": 27,
   "metadata": {},
   "outputs": [
    {
     "data": {
      "text/plain": [
       "201"
      ]
     },
     "execution_count": 27,
     "metadata": {},
     "output_type": "execute_result"
    }
   ],
   "source": [
    "# POST INSTANCE\n",
    "headers = {\n",
    "    'accept': 'application/json',\n",
    "    'Content-Type': 'application/json',\n",
    "}\n",
    "response = httpx.post('http://localhost:8000/cataloguing/instance', headers=headers, json=objInstance, timeout=120)\n",
    "response.status_code"
   ]
  },
  {
   "attachments": {},
   "cell_type": "markdown",
   "metadata": {},
   "source": [
    "ITEMS"
   ]
  },
  {
   "cell_type": "code",
   "execution_count": 31,
   "metadata": {},
   "outputs": [],
   "source": [
    "objItem = {\n",
    "  \"itemOf\": {\n",
    "    \"label\": \"The journey of humanity\",\n",
    "    \"lang\": \"en\",\n",
    "    \"uri\": \"https://bibliokeia.com/resources/instance/bkc-2\",\n",
    "    \"type\": [\n",
    "      \"Instance\"\n",
    "    ]\n",
    "  },\n",
    "  \"items\": [\n",
    "    {\n",
    "      \"adminMetadata\": {\n",
    "        \"identifiedBy\": [\n",
    "          {\n",
    "            \"type\": \"Local\",\n",
    "            \"assigner\": \"http://id.loc.gov/vocabulary/organizations/brmninpa\",\n",
    "            \"value\": \"string\"\n",
    "          }\n",
    "        ]\n",
    "      },\n",
    "      \"cdd\": \"542.5 \",\n",
    "      \"cutter\": \"O48j\",\n",
    "      \"year\": \"2023\",\n",
    "      \"shelf\": \"E1-P1\",\n",
    "      \"barcode\": \"23-0001\"\n",
    "    }\n",
    "  ]\n",
    "}"
   ]
  },
  {
   "cell_type": "code",
   "execution_count": 30,
   "metadata": {},
   "outputs": [],
   "source": [
    "from pydantic import BaseModel\n",
    "from typing import List\n",
    "from api.src.schemas.metadata.bibframe.adminMetadata import AdminMetadata\n",
    "from api.src.schemas.metadata.bibframe.element import Element\n",
    "\n",
    "class Item(BaseModel):\n",
    "    adminMetadata: AdminMetadata\n",
    "    cdd: str\n",
    "    cutter: str\n",
    "    year: str\n",
    "    shelf: str\n",
    "    barcode: str\n",
    "\n",
    "class Items_Schema(BaseModel):\n",
    "  itemOf: Element\n",
    "  items: List[Item]"
   ]
  },
  {
   "cell_type": "code",
   "execution_count": 37,
   "metadata": {},
   "outputs": [],
   "source": [
    "from api.src.function.bibframe.Item.graphItem import MakeGraphItems"
   ]
  },
  {
   "cell_type": "code",
   "execution_count": 32,
   "metadata": {},
   "outputs": [
    {
     "data": {
      "text/plain": [
       "Items_Schema(itemOf=Element(label='The journey of humanity', lang='en', uri='https://bibliokeia.com/resources/instance/bkc-2', type=['Instance']), items=[Item(adminMetadata=AdminMetadata(encodingLevel='menclvl:f', assigner='http://id.loc.gov/vocabulary/organizations/brmninpa', creationDate=datetime.date(2023, 6, 30), descriptionConventions='http://id.loc.gov/vocabulary/descriptionConventions/isbd', descriptionModifier='http://id.loc.gov/vocabulary/organizations/brmninpa', descriptionLanguage='http://id.loc.gov/vocabulary/languages/por', generationProcess='BiblioKeia v.1', generationDate=datetime.datetime(2023, 6, 30, 10, 31, 39, 204364), identifiedBy=[IdentifiedBy(type='Local', assigner='http://id.loc.gov/vocabulary/organizations/brmninpa', value='string')], status=Status(value='mstatus:new', label='novo')), cdd='542.5 ', cutter='O48j', year='2023', shelf='E1-P1', barcode='23-0001')])"
      ]
     },
     "execution_count": 32,
     "metadata": {},
     "output_type": "execute_result"
    }
   ],
   "source": [
    "request = Items_Schema(**objItem)\n",
    "request"
   ]
  },
  {
   "cell_type": "code",
   "execution_count": 33,
   "metadata": {},
   "outputs": [
    {
     "name": "stdout",
     "output_type": "stream",
     "text": [
      "adminMetadata=AdminMetadata(encodingLevel='menclvl:f', assigner='http://id.loc.gov/vocabulary/organizations/brmninpa', creationDate=datetime.date(2023, 6, 30), descriptionConventions='http://id.loc.gov/vocabulary/descriptionConventions/isbd', descriptionModifier='http://id.loc.gov/vocabulary/organizations/brmninpa', descriptionLanguage='http://id.loc.gov/vocabulary/languages/por', generationProcess='BiblioKeia v.1', generationDate=datetime.datetime(2023, 6, 30, 10, 31, 39, 204364), identifiedBy=[IdentifiedBy(type='Local', assigner='http://id.loc.gov/vocabulary/organizations/brmninpa', value='string')], status=Status(value='mstatus:new', label='novo')) cdd='542.5 ' cutter='O48j' year='2023' shelf='E1-P1' barcode='23-0001'\n"
     ]
    }
   ],
   "source": [
    "for item in request.items:\n",
    "    print(item)"
   ]
  },
  {
   "cell_type": "code",
   "execution_count": 34,
   "metadata": {},
   "outputs": [
    {
     "data": {
      "text/plain": [
       "Item(adminMetadata=AdminMetadata(encodingLevel='menclvl:f', assigner='http://id.loc.gov/vocabulary/organizations/brmninpa', creationDate=datetime.date(2023, 6, 30), descriptionConventions='http://id.loc.gov/vocabulary/descriptionConventions/isbd', descriptionModifier='http://id.loc.gov/vocabulary/organizations/brmninpa', descriptionLanguage='http://id.loc.gov/vocabulary/languages/por', generationProcess='BiblioKeia v.1', generationDate=datetime.datetime(2023, 6, 30, 10, 31, 39, 204364), identifiedBy=[IdentifiedBy(type='Local', assigner='http://id.loc.gov/vocabulary/organizations/brmninpa', value='string')], status=Status(value='mstatus:new', label='novo')), cdd='542.5 ', cutter='O48j', year='2023', shelf='E1-P1', barcode='23-0001')"
      ]
     },
     "execution_count": 34,
     "metadata": {},
     "output_type": "execute_result"
    }
   ],
   "source": [
    "item"
   ]
  },
  {
   "cell_type": "code",
   "execution_count": 43,
   "metadata": {},
   "outputs": [
    {
     "name": "stdout",
     "output_type": "stream",
     "text": [
      "PREFIX bf: <http://id.loc.gov/ontologies/bibframe/>\n",
      "    PREFIX bflc: <http://id.loc.gov/ontologies/bflc/> \n",
      "    PREFIX rdfs: <http://www.w3.org/2000/01/rdf-schema#>\n",
      "    PREFIX rdf: <http://www.w3.org/1999/02/22-rdf-syntax-ns#>\n",
      "    PREFIX menclvl: <http://id.loc.gov/vocabulary/menclvl/>\n",
      "    PREFIX xsd: <http://www.w3.org/2001/XMLSchema#>\n",
      "    PREFIX mstatus: <http://id.loc.gov/vocabulary/mstatus/> \n",
      "\n",
      "    INSERT DATA {\n",
      "        GRAPH <https://bibliokeia.com/resources/item/TESTE>\n",
      "        {\n",
      "        <https://bibliokeia.com/resources/item/23-0001> a bf:Item ;\n",
      "        bf:adminMetadata [ a bf:AdminMetadata ;\n",
      "            bflc:encodingLevel menclvl:f ;\n",
      "            bf:assigner <http://id.loc.gov/vocabulary/organizations/brmninpa> ;\n",
      "            bf:creationDate \"2023-06-30\"^^xsd:date ;  \n",
      "            bf:descriptionConventions <http://id.loc.gov/vocabulary/descriptionConventions/isbd> ;\n",
      "            bf:descriptionLanguage <http://id.loc.gov/vocabulary/languages/por> ;\n",
      "            bf:generationProcess [ a bf:GenerationProcess ;\n",
      "                    rdfs:label \"BiblioKeia v.1\" ;\n",
      "                    bf:generationDate \"2023-06-30 10:31:39.204364\"^^xsd:dateTime ] ;\n",
      "            bf:identifiedBy [ a bf:Local ;\n",
      "                    bf:assigner <http://id.loc.gov/vocabulary/organizations/brmninpa> ;\n",
      "                    rdf:value \"TESTE\" ] ;\n",
      "            bf:status mstatus:new ] ;   \n",
      "        bf:heldBy <http://id.loc.gov/vocabulary/organizations/brmninpa> ;\n",
      "        bf:itemOf <https://bibliokeia.com/resources/instance/bkc-2> ;\n",
      "        bf:shelfMark [ a bf:ShelfMarkDdc ;\n",
      "            rdfs:label \"542.5  O48j 2023\" ;\n",
      "            bf:assigner <http://id.loc.gov/vocabulary/organizations/brmninpa> ] ;\n",
      "        bf:sublocation [ a bf:Sublocation ;\n",
      "            rdfs:label \"E1-P1\" ] ;   \n",
      "        } }\n",
      "        \n"
     ]
    }
   ],
   "source": [
    "graph = MakeGraphItems(item, request.itemOf, \"TESTE\")\n",
    "print(graph)"
   ]
  },
  {
   "cell_type": "code",
   "execution_count": 44,
   "metadata": {},
   "outputs": [
    {
     "data": {
      "text/plain": [
       "{'statusCode': 200, 'message': 'Update succeeded'}"
      ]
     },
     "execution_count": 44,
     "metadata": {},
     "output_type": "execute_result"
    }
   ],
   "source": [
    "r = collectionUpdate.run_sparql(graph)\n",
    "r.convert()"
   ]
  },
  {
   "cell_type": "code",
   "execution_count": 45,
   "metadata": {},
   "outputs": [],
   "source": [
    "from api.src.function.bibframe.Instance.hasItem import HasItem"
   ]
  },
  {
   "cell_type": "code",
   "execution_count": 47,
   "metadata": {},
   "outputs": [
    {
     "data": {
      "text/plain": [
       "'https://bibliokeia.com/resources/instance/bkc-2'"
      ]
     },
     "execution_count": 47,
     "metadata": {},
     "output_type": "execute_result"
    }
   ],
   "source": [
    "request.itemOf.uri"
   ]
  },
  {
   "cell_type": "code",
   "execution_count": 49,
   "metadata": {},
   "outputs": [
    {
     "name": "stdout",
     "output_type": "stream",
     "text": [
      "PREFIX bf: <http://id.loc.gov/ontologies/bibframe/>\n",
      "        INSERT DATA\n",
      "        { GRAPH <https://bibliokeia.com/resources/instance/bkc-2> \n",
      "        { <https://bibliokeia.com/resources/instance/bkc-2>  bf:hasItem  <https://bibliokeia.com/resources/item/bkc-5> } }\n"
     ]
    }
   ],
   "source": [
    "upInstance = HasItem(request.itemOf.uri, 'bkc-5')\n",
    "print(upInstance)"
   ]
  },
  {
   "cell_type": "code",
   "execution_count": 55,
   "metadata": {},
   "outputs": [
    {
     "data": {
      "text/plain": [
       "<Graph identifier=Nf6b328f59c454894965b2ac159128add (<class 'rdflib.graph.Graph'>)>"
      ]
     },
     "execution_count": 55,
     "metadata": {},
     "output_type": "execute_result"
    }
   ],
   "source": [
    "from rdflib import Graph\n",
    "\n",
    "g = Graph()\n",
    "g.parse('item.rdf')"
   ]
  },
  {
   "cell_type": "code",
   "execution_count": 56,
   "metadata": {},
   "outputs": [
    {
     "data": {
      "text/plain": [
       "<Graph identifier=Nf6b328f59c454894965b2ac159128add (<class 'rdflib.graph.Graph'>)>"
      ]
     },
     "execution_count": 56,
     "metadata": {},
     "output_type": "execute_result"
    }
   ],
   "source": [
    "g.serialize('testeNT.ttl')"
   ]
  },
  {
   "cell_type": "code",
   "execution_count": 60,
   "metadata": {},
   "outputs": [],
   "source": [
    "ask = \"\"\"PREFIX bf: <http://id.loc.gov/ontologies/bibframe/>\n",
    "    ASK { graph <https://bibliokeia.com/resources/work/bkc-1>\n",
    "    { <https://bibliokeia.com/resources/work/bkc-1> bf:hasInstance ?o } }\"\"\"\n",
    "\n",
    "response = collectionQuery.run_sparql(ask)\n",
    "response = response.convert()\n",
    "\n"
   ]
  },
  {
   "cell_type": "code",
   "execution_count": 62,
   "metadata": {},
   "outputs": [
    {
     "data": {
      "text/plain": [
       "True"
      ]
     },
     "execution_count": 62,
     "metadata": {},
     "output_type": "execute_result"
    }
   ],
   "source": [
    "response['boolean']"
   ]
  },
  {
   "cell_type": "code",
   "execution_count": 63,
   "metadata": {},
   "outputs": [
    {
     "data": {
      "text/plain": [
       "<pysolr.Results at 0x2718d2fca30>"
      ]
     },
     "execution_count": 63,
     "metadata": {},
     "output_type": "execute_result"
    }
   ],
   "source": [
    "id = 'bkc-1'\n",
    "r = solr.search(q=f'id:{id}', **{'fl': '*,[child]'})\n",
    "r"
   ]
  },
  {
   "cell_type": "code",
   "execution_count": 66,
   "metadata": {},
   "outputs": [
    {
     "name": "stdout",
     "output_type": "stream",
     "text": [
      "id bkc-1\n",
      "type ['Work', 'Text', 'Monograph']\n",
      "content ['text']\n",
      "mainTitle ['The journey of humanity']\n",
      "language ['English']\n",
      "cdd [338.9001]\n",
      "summary ['\"Why are humans the only species to have escaped - only very recently - the subsistence trap, allowing us to enjoy a standard of living that vastly exceeds all others? And why have we progressed so unequally around the world, resulting in the great disparities between nations that exist today? Immense in scope and packed with astounding connections, Galor\\'s gripping narrative explains how technology, population size, and adaptation led to a stunning \"phase change\" in the human story a mere two hundred years ago. But by tracing that same journey back in time and peeling away the layers of influence - colonialism, political institutions, societal structure, culture - he arrives also at an explanation of inequality\\'s ultimate causes: those ancestral populations that enjoyed fruitful geographical characteristics and rich diversity were set on the path to prosperity, while those that lacked it were disadvantaged in ways still echoed today. As we face ecological crisis across the globe, The Journey of Humanity is a book of urgent truths and enduring relevance, with lessons that are both hopeful and profound: gender equality, investment in education, and balancing diversity with social cohesion are the keys not only to our species\\' thriving, but to its survival.\" -- publisher\\'s website.']\n",
      "tableOfContents [\"Mysteries of the human journey -- [Part] I: The human odyssey. First steps. Genesis ; Exodus from the cradle of humankind ; Early settlement ; The dawn of civilisation -- Lost in stagnation. The Malthusian thesis ; The inevitable onset of agriculture ; Population swings ; The economic ice age -- The storm beneath the surface. Unified growth theory ; Wheels of change -- Full steam. Acceleration of technological development ; Education in the pre-industrial era ; Industrialisation and human capital ; The advent of universal public education ; Child labour no more -- Metamorphosis. Triggers of the demographic transition ; Family tales ; Phase transition -- The promised land. The twilight of industry ; The age of growth ; Growth and environmental degradation -- Coda: resolving the mystery of growth -- [Part] II: The origins of wealth and inequality. Splendour and misery. Disparate factors ; Rusty tools ; Trade, colonialism and uneven development ; Deep-rooted factors -- The fingerprints of institutions. Institutional origins of the British ascent ; Institutions and long-run development ; The legacy of colonialism ; Origins of institutions -- The cultural factor. The power of culture ; A culture of growth ; Cultural inertia ; Culture and prosperity -- The shadow of geography. Landscape fragmentation and the rise of Europe ; Origins of extractive institutions ; Geographical roots of cultural traits ; Roots of comparative development -- The legacy of the agricultural revolution. Roots and impacts of the Neolithic revolution ; The grains of civilisation ; Ceding the head start ; Geography's decree -- Out of Africa. Origins of human diversity ; Measuring diversity ; Diversity and prosperity ; The grip of the past -- Coda: unravelling the mystery of inequality -- Afterword.\"]\n",
      "supplementaryContent ['bibliography', 'index']\n",
      "illustrativeContent ['Illustrations', 'Maps', 'Charts']\n",
      "intendedAudience ['Adult']\n",
      "_version_ 1770140762130874368\n",
      "contribution {'id': 'bkc-1/contribution/n86870523', 'type': ['PrimaryContribution'], 'agent': ['http://id.loc.gov/rwo/agents/n86870523'], 'label': ['Galor, Oded, 1953-'], 'role': ['http://id.loc.gov/vocabulary/relators/aut'], '_version_': 1770140762130874368}\n",
      "hasInstance [{'id': 'bkc-1/hasInstance/bkc-2', 'uri': ['https://bibliokeia.com/resources/instance/bkc-2'], 'label': ['The journey of humanity'], '_version_': 1770140762130874368}]\n",
      "subject [{'id': 'bkc-1/subject/bka-2', 'type': ['Topic'], 'uri': ['https://bibliokeia.com/authorities/Topic/bka-2'], 'label': ['Desenvolvimento econômico'], '_version_': 1770140762130874368}, {'id': 'bkc-1/subject/bka-1', 'type': ['Topic'], 'uri': ['https://bibliokeia.com/authorities/Topic/bka-1'], 'label': ['História econômica'], '_version_': 1770140762130874368}, {'id': 'bkc-1/subject/bka-4', 'type': ['Topic'], 'uri': ['https://bibliokeia.com/authorities/Topic/bka-4'], 'label': ['Igualdade'], '_version_': 1770140762130874368}]\n"
     ]
    }
   ],
   "source": [
    "[doc] = r.docs\n",
    "nMeta = ['id', ]\n",
    "ids = list()\n",
    "for k, v in doc.items():\n",
    "    \n",
    "        if k not in nMeta:\n",
    "                print(k, v)\n",
    "        #     if type(v) == list:\n",
    "        #         for i in v:\n",
    "        #             ids.append(i['id'])\n",
    "        #     else:\n",
    "        #         ids.append(v['id'])"
   ]
  },
  {
   "cell_type": "code",
   "execution_count": 1,
   "metadata": {},
   "outputs": [],
   "source": [
    "def factorial(n):\n",
    "    if n < 0:\n",
    "        raise ValueError(\"Factorial is not defined for negative numbers.\")\n",
    "    elif n == 0:\n",
    "        return 1\n",
    "    else:\n",
    "        result = 1\n",
    "        for i in range(1, n + 1):\n",
    "            result *= i\n",
    "        return result"
   ]
  },
  {
   "cell_type": "code",
   "execution_count": 5,
   "metadata": {},
   "outputs": [
    {
     "data": {
      "text/plain": [
       "40320"
      ]
     },
     "execution_count": 5,
     "metadata": {},
     "output_type": "execute_result"
    }
   ],
   "source": [
    "factorial(8)"
   ]
  }
 ],
 "metadata": {
  "kernelspec": {
   "display_name": "venv",
   "language": "python",
   "name": "python3"
  },
  "language_info": {
   "codemirror_mode": {
    "name": "ipython",
    "version": 3
   },
   "file_extension": ".py",
   "mimetype": "text/x-python",
   "name": "python",
   "nbconvert_exporter": "python",
   "pygments_lexer": "ipython3",
   "version": "3.11.4"
  },
  "orig_nbformat": 4
 },
 "nbformat": 4,
 "nbformat_minor": 2
}
