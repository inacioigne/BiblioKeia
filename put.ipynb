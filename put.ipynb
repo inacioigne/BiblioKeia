{
 "cells": [
  {
   "cell_type": "code",
   "execution_count": 12,
   "metadata": {},
   "outputs": [],
   "source": [
    "from rdflib import URIRef, BNode, Literal\n",
    "from rdflib.namespace import RDF, RDFS\n",
    "from pyfuseki import FusekiUpdate, FusekiQuery\n",
    "from SPARQLWrapper import SPARQLWrapper, JSON\n",
    "from api.src.schemas.bibframe.work import Work_Schema, Work_Edit"
   ]
  },
  {
   "cell_type": "code",
   "execution_count": 13,
   "metadata": {},
   "outputs": [],
   "source": [
    "acervoUpdate = FusekiUpdate('http://localhost:3030', 'acervo')\n",
    "acervoQuery = FusekiQuery('http://localhost:3030', 'acervo')"
   ]
  },
  {
   "attachments": {},
   "cell_type": "markdown",
   "metadata": {},
   "source": [
    "Title"
   ]
  },
  {
   "cell_type": "code",
   "execution_count": 3,
   "metadata": {},
   "outputs": [
    {
     "data": {
      "text/plain": [
       "Work_Edit(ID=None, content='Text', mainTitle='Conjecturas e refutações MUDADO', subtitle=None, variantTitle=None, primaryContributionAgent='Karl R. Popper MUDADO', primaryContributionUri='https://bibliokeia.com/authorities/names/n80032184', primaryContributionRole='aut', primaryContributionRoleUri='http://id.loc.gov/vocabulary/relators/aut', subjects=[Subject(label='Methodology MUDADO', uri='https://bibliokeia.com/authorities/subjects/sh85103704'), Subject(label='Ciência', uri='https://bibliokeia.com/authorities/subjects/n80002329'), Subject(label='Manga', uri='https://bibliokeia.com/authorities/subjects/sh85084414')], language='Inglês', languageCode='eng', cdd='584.6', cutter='O48c', serie=None, serieURI=None)"
      ]
     },
     "execution_count": 3,
     "metadata": {},
     "output_type": "execute_result"
    }
   ],
   "source": [
    "obj = {\n",
    "    \"content\": \"Text\",\n",
    "    \"mainTitle\": \"Conjecturas e refutações MUDADO\",\n",
    "    \"primaryContributionAgent\": \"Karl R. Popper MUDADO\",\n",
    "    \"primaryContributionUri\": \"https://bibliokeia.com/authorities/names/n80032184\",\n",
    "    \"primaryContributionRole\": \"aut\",\n",
    "    \"primaryContributionRoleUri\": \"http://id.loc.gov/vocabulary/relators/aut\",\n",
    "    \"subjects\": [\n",
    "      {\n",
    "      \"label\": \"Methodology MUDADO\",\n",
    "       \"uri\": \"https://bibliokeia.com/authorities/subjects/sh85103704\"\n",
    "      }, \n",
    "      {\n",
    "      \"label\": \"Ciência\",\n",
    "       \"uri\": \"https://bibliokeia.com/authorities/subjects/n80002329\"\n",
    "      },\n",
    "      {\n",
    "      \"label\": \"Manga\",\n",
    "       \"uri\": \"https://bibliokeia.com/authorities/subjects/sh85084414\"\n",
    "      }    \n",
    "    ],\n",
    "    \"language\": \"Inglês\",\n",
    "    \"languageCode\": \"eng\",\n",
    "    \"cdd\": \"584.6\",\n",
    "    \"cutter\": \"O48c\"\n",
    "  }\n",
    "\n",
    "request = Work_Edit(**obj)\n",
    "request\n"
   ]
  },
  {
   "cell_type": "code",
   "execution_count": 5,
   "metadata": {},
   "outputs": [
    {
     "data": {
      "text/plain": [
       "Work_Edit(ID=None, content=None, mainTitle='Conjecturas e refutações MUDADO DE NOVO', subtitle=None, variantTitle=None, primaryContributionAgent=None, primaryContributionUri=None, primaryContributionRole=None, primaryContributionRoleUri=None, subjects=None, language=None, languageCode=None, cdd=None, cutter=None, serie=None, serieURI=None)"
      ]
     },
     "execution_count": 5,
     "metadata": {},
     "output_type": "execute_result"
    }
   ],
   "source": [
    "obj = {\n",
    "    \"mainTitle\": \"Conjecturas e refutações MUDADO DE NOVO\"}\n",
    "\n",
    "request = Work_Edit(**obj)\n",
    "request"
   ]
  },
  {
   "cell_type": "code",
   "execution_count": 12,
   "metadata": {},
   "outputs": [
    {
     "name": "stdout",
     "output_type": "stream",
     "text": [
      "{'mainTitle': {'set': 'Conjecturas e refutações MUDADO DE NOVO'}}\n"
     ]
    }
   ],
   "source": [
    "doc = {}\n",
    "for k, v in request:\n",
    "    if v:\n",
    "        doc[k] = {\"set\": v}\n",
    "    \n",
    "print(doc)\n",
    "         "
   ]
  },
  {
   "cell_type": "code",
   "execution_count": 11,
   "metadata": {},
   "outputs": [
    {
     "data": {
      "text/plain": [
       "{'ID': None,\n",
       " 'content': None,\n",
       " 'mainTitle': 'Conjecturas e refutações MUDADO DE NOVO',\n",
       " 'subtitle': None,\n",
       " 'variantTitle': None,\n",
       " 'primaryContributionAgent': None,\n",
       " 'primaryContributionUri': None,\n",
       " 'primaryContributionRole': None,\n",
       " 'primaryContributionRoleUri': None,\n",
       " 'subjects': None,\n",
       " 'language': None,\n",
       " 'languageCode': None,\n",
       " 'cdd': None,\n",
       " 'cutter': None,\n",
       " 'serie': None,\n",
       " 'serieURI': None}"
      ]
     },
     "execution_count": 11,
     "metadata": {},
     "output_type": "execute_result"
    }
   ],
   "source": [
    "request.dict()"
   ]
  },
  {
   "cell_type": "code",
   "execution_count": 14,
   "metadata": {},
   "outputs": [
    {
     "name": "stdout",
     "output_type": "stream",
     "text": [
      "Hello my name is John\n"
     ]
    }
   ],
   "source": [
    "class Person:\n",
    "  def __init__(mysillyobject, name, age):\n",
    "    mysillyobject.name = name\n",
    "    mysillyobject.age = age\n",
    "\n",
    "  def myfunc(abc):\n",
    "    print(\"Hello my name is \" + abc.name)\n",
    "\n",
    "p1 = Person(\"John\", 36)\n",
    "p1.myfunc()"
   ]
  },
  {
   "cell_type": "code",
   "execution_count": null,
   "metadata": {},
   "outputs": [],
   "source": [
    "p1.m"
   ]
  },
  {
   "cell_type": "code",
   "execution_count": 16,
   "metadata": {},
   "outputs": [
    {
     "name": "stdout",
     "output_type": "stream",
     "text": [
      "ID\n",
      "content\n",
      "mainTitle\n",
      "subtitle\n",
      "variantTitle\n",
      "primaryContributionAgent\n",
      "primaryContributionUri\n",
      "primaryContributionRole\n",
      "primaryContributionRoleUri\n",
      "subjects\n",
      "language\n",
      "languageCode\n",
      "cdd\n",
      "cutter\n",
      "serie\n",
      "serieURI\n"
     ]
    }
   ],
   "source": [
    "for k, v in request:\n",
    "    #if v and k == 'content':\n",
    "    print(k)"
   ]
  },
  {
   "cell_type": "code",
   "execution_count": 23,
   "metadata": {},
   "outputs": [
    {
     "data": {
      "text/plain": [
       "{'head': {}, 'boolean': False}"
      ]
     },
     "execution_count": 23,
     "metadata": {},
     "output_type": "execute_result"
    }
   ],
   "source": [
    "r = acervoQuery.run_sparql(\"\"\"PREFIX work: <https://bibliokeia.com/resources/work/>\n",
    "PREFIX bf: <http://id.loc.gov/ontologies/bibframe/>\n",
    "PREFIX rdf: <http://www.w3.org/1999/02/22-rdf-syntax-ns#>\n",
    "ASK { \n",
    "  graph work:bk-2\n",
    "  {work:bk-2 rdf:type bf:Texto}}\"\"\")\n",
    "r.convert()"
   ]
  },
  {
   "cell_type": "code",
   "execution_count": 99,
   "metadata": {},
   "outputs": [],
   "source": [
    "def Edit(contentType, bkID):\n",
    "\n",
    "    prefix = \"\"\"PREFIX work: <https://bibliokeia.com/resources/work/>\n",
    "                PREFIX bf: <http://id.loc.gov/ontologies/bibframe/>\n",
    "                PREFIX rdf: <http://www.w3.org/1999/02/22-rdf-syntax-ns#>\"\"\"\n",
    "    where = \"{work:\"+bkID+\" rdf:type ?o}\"\n",
    "                \n",
    "    select = prefix+\"SELECT * { graph work:bk-2 {work:\"+bkID+\" rdf:type ?o} }\"\n",
    "\n",
    "    response = acervoQuery.run_sparql(select)\n",
    "    response = response.convert()\n",
    "    bindings = response['results']['bindings']\n",
    "\n",
    "    for binding in bindings:\n",
    "        uri = binding['o']['value']\n",
    "        content = uri.split(\"/\")[-1]\n",
    "        if content != 'Work' and content != contentType:\n",
    "            where = \"{ work:\"+bkID+\" rdf:type bf:\"+content+\" }\"\n",
    "            up = prefix+\"WITH work:\"+bkID+\"\"\"\n",
    "            DELETE \"\"\"+where+\"\"\"\n",
    "            INSERT { work:\"\"\"+bkID+\" rdf:type bf:\"+contentType+\"\"\" }\n",
    "            WHERE \"\"\"+where\n",
    "            acervoUpdate.run_sparql(up)\n",
    "\n",
    "\n",
    "Edit(\"Text\", \"bk-2\")"
   ]
  },
  {
   "attachments": {},
   "cell_type": "markdown",
   "metadata": {},
   "source": [
    "TITLE"
   ]
  },
  {
   "cell_type": "code",
   "execution_count": 7,
   "metadata": {},
   "outputs": [
    {
     "name": "stdout",
     "output_type": "stream",
     "text": [
      "PRECISA INCLUIR SUBTITULO\n"
     ]
    }
   ],
   "source": [
    "def EditTitle(mainTitle, bkID):\n",
    "\n",
    "    acervoUpdate = FusekiUpdate('http://localhost:3030', 'acervo')\n",
    "    acervoQuery = FusekiQuery('http://localhost:3030', 'acervo')\n",
    "\n",
    "    prefix = \"\"\"PREFIX work: <https://bibliokeia.com/resources/work/>\n",
    "                PREFIX bf: <http://id.loc.gov/ontologies/bibframe/>\n",
    "                PREFIX rdfs: <http://www.w3.org/2000/01/rdf-schema#>\"\"\"\n",
    "    # Main Title\n",
    "    ask = prefix+\"\"\" ASK { graph work:\"\"\"+bkID+\"\"\"\n",
    "            {work:\"\"\"+bkID+\"\"\" bf:title ?o .\n",
    "            ?o bf:mainTitle '\"\"\"+mainTitle+\"' }}\"\"\"\n",
    "    response = acervoQuery.run_sparql(ask)\n",
    "    response = response.convert()\n",
    "\n",
    "    if not response['boolean']:  \n",
    "        up = prefix+\"WITH work:\"+bkID+\"\"\"\n",
    "                    DELETE {work:\"\"\"+bkID+\"\"\" bf:title ?o .\n",
    "                        ?o bf:mainTitle ?t }\n",
    "                    INSERT {work:\"\"\"+bkID+\"\"\" bf:title ?o .\n",
    "                        ?o bf:mainTitle '\"\"\"+mainTitle+\"\"\"' }\n",
    "                    WHERE {work:\"\"\"+bkID+\"\"\" bf:title ?o .\n",
    "                        ?o bf:mainTitle ?t }\"\"\"\n",
    "\n",
    "        acervoUpdate.run_sparql(up)\n",
    "\n",
    "        label = prefix+\"WITH work:\"+bkID+\"\"\"\n",
    "                    DELETE {work:\"\"\"+bkID+\"\"\" bf:title ?o .\n",
    "                        ?o rdfs:label ?t }\n",
    "                    INSERT {work:\"\"\"+bkID+\"\"\" bf:title ?o .\n",
    "                        ?o rdfs:label '\"\"\"+mainTitle+\"\"\"' }\n",
    "                    WHERE {work:\"\"\"+bkID+\"\"\" bf:title ?o .\n",
    "                        ?o rdfs:label ?t }\"\"\"\n",
    "        acervoUpdate.run_sparql(label)\n",
    "    \n",
    "    # Subtitle\n",
    "    askSubtitle = prefix+\"\"\" ASK { graph work:\"\"\"+bkID+\"\"\"\n",
    "            {work:\"\"\"+bkID+\"\"\" bf:title ?o .\n",
    "            ?o bf:subtitle '\"\"\"+mainTitle+\"' }}\"\"\"\n",
    "    \n",
    "    askResponse = acervoQuery.run_sparql(askSubtitle)\n",
    "    askResponse = askResponse.convert()\n",
    "    if not askResponse['boolean']: \n",
    "        print('PRECISA INCLUIR SUBTITULO')\n",
    "    else:\n",
    "        print('NÃO PRECISA FAZER NADA')\n",
    "\n",
    "\n",
    "\n",
    "EditTitle(\"TITULO_5\", \"bk-2\")"
   ]
  },
  {
   "cell_type": "code",
   "execution_count": 42,
   "metadata": {},
   "outputs": [],
   "source": [
    "acervoUpdate = FusekiUpdate('http://localhost:3030', 'acervo')\n",
    "acervoQuery = FusekiQuery('http://localhost:3030', 'acervo')"
   ]
  },
  {
   "cell_type": "code",
   "execution_count": 65,
   "metadata": {},
   "outputs": [
    {
     "name": "stdout",
     "output_type": "stream",
     "text": [
      "SUBTITULO NÃO EXISTE\n"
     ]
    }
   ],
   "source": [
    "def EditSubtitle(subtitle, title,  bkID):    \n",
    "\n",
    "    acervoUpdate = FusekiUpdate('http://localhost:3030', 'acervo')\n",
    "    acervoQuery = FusekiQuery('http://localhost:3030', 'acervo')\n",
    "\n",
    "    prefix = \"\"\"PREFIX work: <https://bibliokeia.com/resources/work/>\n",
    "                PREFIX bf: <http://id.loc.gov/ontologies/bibframe/>\n",
    "                PREFIX rdf: <http://www.w3.org/1999/02/22-rdf-syntax-ns#>\n",
    "                PREFIX rdfs: <http://www.w3.org/2000/01/rdf-schema#>\"\"\"\n",
    "    \n",
    "    subtitleSame = prefix+\"\"\" ASK { graph work:\"\"\"+bkID+\"\"\"\n",
    "            {work:\"\"\"+bkID+\"\"\" bf:title ?o .\n",
    "            ?o bf:subtitle '\"\"\"+subtitle+\"' }}\"\n",
    "    \n",
    "    askSubtitleSame = acervoQuery.run_sparql(subtitleSame)\n",
    "    askSubtitleSame = askSubtitleSame.convert()\n",
    "\n",
    "    if not askSubtitleSame['boolean']:\n",
    "        subtitleExist = prefix+\"\"\" ASK { graph work:\"\"\"+bkID+\"\"\"\n",
    "            {work:\"\"\"+bkID+\"\"\" bf:title ?o .\n",
    "            ?o bf:subtitle ?subtitle }}\"\"\"\n",
    "        askSubtitleExist = acervoQuery.run_sparql(subtitleExist)\n",
    "        askSubtitleExist = askSubtitleExist.convert()\n",
    "\n",
    "        if askSubtitleExist['boolean']:\n",
    "            up = prefix+\"WITH work:\"+bkID+\"\"\"\n",
    "                DELETE {work:\"\"\"+bkID+\"\"\" bf:title ?o .\n",
    "                        ?o ?p ?t }\n",
    "                    INSERT {work:\"\"\"+bkID+\"\"\" bf:title ?o .\n",
    "                    ?o rdf:type bf:Title .\n",
    "                        ?o bf:mainTitle '\"\"\"+title+\"\"\"' .\n",
    "                        ?o bf:subtitle '\"\"\"+subtitle+\"\"\"'\n",
    "                          }\n",
    "                    WHERE {work:\"\"\"+bkID+\"\"\" bf:title ?o .\n",
    "                        ?o ?p ?t }\"\"\"\n",
    "            acervoUpdate.run_sparql(up)\n",
    "        else:\n",
    "            up = prefix+\"INSERT DATA { GRAPH work:\"+bkID+\" { work:\"+bkID+\"\"\"  bf:title [\n",
    "                        rdf:type bf:Title;\n",
    "                        bf:mainTitle '\"\"\"+title+\"\"\"' ;\n",
    "                        bf:subtitle '\"\"\"+subtitle+\"\"\"' ] . } }\"\"\"\n",
    "            acervoUpdate.run_sparql(up)\n",
    "\n",
    "\n",
    "EditSubtitle(\"Subtitulo\", \"Titulo\", \"bk-2\")  "
   ]
  },
  {
   "attachments": {},
   "cell_type": "markdown",
   "metadata": {},
   "source": [
    "DELETE"
   ]
  },
  {
   "cell_type": "code",
   "execution_count": 64,
   "metadata": {},
   "outputs": [
    {
     "data": {
      "text/plain": [
       "{'statusCode': 200, 'message': 'Update succeeded'}"
      ]
     },
     "execution_count": 64,
     "metadata": {},
     "output_type": "execute_result"
    }
   ],
   "source": [
    "prefix = \"\"\"PREFIX work: <https://bibliokeia.com/resources/work/>\n",
    "                PREFIX bf: <http://id.loc.gov/ontologies/bibframe/>\n",
    "                PREFIX rdf: <http://www.w3.org/1999/02/22-rdf-syntax-ns#>\n",
    "                PREFIX rdfs: <http://www.w3.org/2000/01/rdf-schema#>\"\"\"\n",
    "\n",
    "up = prefix+\"WITH work:\"+bkID+\"\"\"\n",
    "                DELETE {work:\"\"\"+bkID+\"\"\" bf:title ?o .\n",
    "                        ?o ?p ?t }\n",
    "                WHERE {work:\"\"\"+bkID+\"\"\" bf:title ?o .\n",
    "                        ?o ?p ?t }\"\"\"\n",
    "\n",
    "response = acervoUpdate.run_sparql(up)\n",
    "response = response.convert()\n",
    "response"
   ]
  },
  {
   "cell_type": "code",
   "execution_count": 21,
   "metadata": {},
   "outputs": [
    {
     "data": {
      "text/plain": [
       "'Autor'"
      ]
     },
     "execution_count": 21,
     "metadata": {},
     "output_type": "execute_result"
    }
   ],
   "source": [
    "bkID = 'bk-1'\n",
    "request.primaryContributionRole"
   ]
  },
  {
   "attachments": {},
   "cell_type": "markdown",
   "metadata": {},
   "source": [
    "AUTOR"
   ]
  },
  {
   "cell_type": "code",
   "execution_count": 14,
   "metadata": {},
   "outputs": [],
   "source": [
    "prefix = \"\"\"PREFIX rdf: <http://www.w3.org/1999/02/22-rdf-syntax-ns#>\n",
    "PREFIX rdfs: <http://www.w3.org/2000/01/rdf-schema#>\n",
    "PREFIX work: <https://bibliokeia.com/resources/work/>\n",
    "PREFIX subjects: <https://bibliokeia.com/authorities/subjects/>\n",
    "PREFIX names: <https://bibliokeia.com/authorities/names/>\n",
    "PREFIX bf: <http://id.loc.gov/ontologies/bibframe/>\n",
    "PREFIX madsrdf: <http://www.loc.gov/mads/rdf/v1#>\n",
    "PREFIX bflc: <http://id.loc.gov/ontologies/bflc/>\"\"\""
   ]
  },
  {
   "cell_type": "code",
   "execution_count": 22,
   "metadata": {},
   "outputs": [
    {
     "data": {
      "text/plain": [
       "<SPARQLWrapper.Wrapper.QueryResult at 0x224a4967880>"
      ]
     },
     "execution_count": 22,
     "metadata": {},
     "output_type": "execute_result"
    }
   ],
   "source": [
    "bkID = \"teste\"\n",
    "up = prefix+\"WITH work:\"+bkID+\"\"\"\n",
    "                DELETE {work:\"\"\"+bkID+\"\"\" bf:contribution ?o .\n",
    "                        ?o ?p ?contribution }\n",
    "                INSERT {work:\"\"\"+bkID+\"\"\" bf:contribution ?o .\n",
    "                ?o rdf:type bf:Contribution .\n",
    "                ?o rdf:type bflc:PrimaryContribution .\n",
    "                ?o rdfs:label \"NOVAMENTO\" .\n",
    "                ?o bf:role <http://id.loc.gov/vocabulary/relators/AUT> .\n",
    "                ?o bf:agent <https://bibliokeia.com/authorities/names/NOVO> .}\n",
    "                WHERE {work:\"\"\"+bkID+\"\"\" bf:contribution ?o .\n",
    "                        ?o ?p ?contribution }\"\"\"\n",
    "acervoUpdate.run_sparql(up)"
   ]
  },
  {
   "cell_type": "code",
   "execution_count": 19,
   "metadata": {},
   "outputs": [
    {
     "name": "stdout",
     "output_type": "stream",
     "text": [
      "PREFIX rdf: <http://www.w3.org/1999/02/22-rdf-syntax-ns#>\n",
      "PREFIX rdfs: <http://www.w3.org/2000/01/rdf-schema#>\n",
      "PREFIX work: <https://bibliokeia.com/resources/work/>\n",
      "PREFIX subjects: <https://bibliokeia.com/authorities/subjects/>\n",
      "PREFIX names: <https://bibliokeia.com/authorities/names/>\n",
      "PREFIX bf: <http://id.loc.gov/ontologies/bibframe/>\n",
      "PREFIX madsrdf: <http://www.loc.gov/mads/rdf/v1#>\n",
      "PREFIX bflc: <http://id.loc.gov/ontologies/bflc/>WITH work:teste\n",
      "                DELETE {work:teste bf:contribution ?o .\n",
      "                        ?o ?p ?contribution }\n",
      "                INSERT {work:teste bf:contribution ?o .\n",
      "                ?o rdf:type bf:Contribution .\n",
      "                ?o bflc:PrimaryContribution .\n",
      "                ?o rdfs:label \"NOVO AUTOR\" .\n",
      "                ?o bf:role <http://id.loc.gov/vocabulary/relators/AUT> .\n",
      "                ?o bf:agent <https://bibliokeia.com/authorities/names/NOVO> .}\n",
      "                WHERE {work:teste bf:contribution ?o .\n",
      "                        ?o rdf:type bflc:PrimaryContribution }\n"
     ]
    }
   ],
   "source": [
    "print(up)"
   ]
  },
  {
   "cell_type": "markdown",
   "metadata": {},
   "source": [
    "Subjects"
   ]
  },
  {
   "cell_type": "code",
   "execution_count": 3,
   "metadata": {},
   "outputs": [
    {
     "data": {
      "text/plain": [
       "Work_Schema(ID=None, content='text', mainTitle='Conjecturas e refutações', subtitle='refutações', variantTitle=None, primaryContributionAgent='Inácio Oliveira', primaryContributionUri='n80032184', primaryContributionRole='Autor', subjects=[Subject(label='Methodology', uri='https://bibliokeia.com/authorities/subjects/sh85103704'), Subject(label='Ciência', uri='https://bibliokeia.com/authorities/subjects/n80002329')], language='Portugues', languageCode='por', cdd='584.6', cutter='A586w', serie=None, serieURI=None)"
      ]
     },
     "execution_count": 3,
     "metadata": {},
     "output_type": "execute_result"
    }
   ],
   "source": [
    "obj = {\n",
    "  \"content\": \"Text\",\n",
    "  \"mainTitle\": \"Conjecturas e refutações\",\n",
    "  \"primaryContributionAgent\": \"Karl R. Popper\",\n",
    "  \"primaryContributionUri\": \"n80032184\",\n",
    "  \"primaryContributionRole\": \"aut\",\n",
    "  \"subjects\": [\n",
    "    {\n",
    "    \"label\": \"Methodology\",\n",
    "     \"uri\": \"https://bibliokeia.com/authorities/subjects/sh85103704\"\n",
    "    }, \n",
    "    {\n",
    "    \"label\": \"Ciência\",\n",
    "     \"uri\": \"https://bibliokeia.com/authorities/subjects/n80002329\"\n",
    "    },\n",
    "    {\n",
    "    \"label\": \"Manga\",\n",
    "     \"uri\": \"https://bibliokeia.com/authorities/subjects/sh85084414\"\n",
    "    }    \n",
    "  ],\n",
    "  \"language\": \"Portugues\",\n",
    "  \"languageCode\": \"por\",\n",
    "  \"cdd\": \"584.6\",\n",
    "  \"cutter\": \"A586w\"\n",
    "}\n",
    "\n",
    "request = Work_Schema(**obj)\n",
    "request"
   ]
  },
  {
   "cell_type": "code",
   "execution_count": 17,
   "metadata": {},
   "outputs": [],
   "source": [
    "prefix = \"\"\"PREFIX work: <https://bibliokeia.com/resources/work/>\n",
    "    PREFIX rdf: <http://www.w3.org/1999/02/22-rdf-syntax-ns#>\n",
    "    PREFIX bf: <http://id.loc.gov/ontologies/bibframe/>\n",
    "    PREFIX rdfs: <http://www.w3.org/2000/01/rdf-schema#>\"\"\""
   ]
  },
  {
   "cell_type": "code",
   "execution_count": 5,
   "metadata": {},
   "outputs": [
    {
     "name": "stdout",
     "output_type": "stream",
     "text": [
      "https://bibliokeia.com/authorities/subjects/sh85103704\n",
      "https://bibliokeia.com/authorities/subjects/n80002329\n"
     ]
    }
   ],
   "source": [
    "\n",
    "listSubjects = list()\n",
    "for subject in request.subjects:\n",
    "    askSubject = prefix+\"ASK { graph work:\"+bkID+\"\"\"\n",
    "                    {work:\"\"\"+bkID+\"\"\" bf:subject <\"\"\"+subject.uri+\"> . }}\"\n",
    "    response = acervoQuery.run_sparql(askSubject)\n",
    "    response = response.convert()\n",
    "    listSubjects.append(response['boolean'])\n",
    "    print(subject.uri)"
   ]
  },
  {
   "cell_type": "code",
   "execution_count": 13,
   "metadata": {},
   "outputs": [
    {
     "name": "stdout",
     "output_type": "stream",
     "text": [
      "[' bf:subject <https://bibliokeia.com/authorities/subjects/sh85103704> ', ' bf:subject <https://bibliokeia.com/authorities/subjects/n80002329> ']\n"
     ]
    }
   ],
   "source": [
    "slist = list()\n",
    "for subject in request.subjects:\n",
    "    s = f\" bf:subject <{subject.uri}> \"\n",
    "    slist.append(s)\n",
    "sub = \"; \".join(slist)\n",
    "print(slist)"
   ]
  },
  {
   "cell_type": "code",
   "execution_count": 16,
   "metadata": {},
   "outputs": [
    {
     "data": {
      "text/plain": [
       "<SPARQLWrapper.Wrapper.QueryResult at 0x1db44505870>"
      ]
     },
     "execution_count": 16,
     "metadata": {},
     "output_type": "execute_result"
    }
   ],
   "source": [
    "up = prefix+\"WITH work:\"+bkID+\"\"\"\n",
    "                DELETE {work:\"\"\"+bkID+\"\"\" bf:subject ?o }\n",
    "                INSERT {work:\"\"\"+bkID+sub+\"\"\" }\n",
    "                WHERE {work:\"\"\"+bkID+\"\"\" bf:subject ?o }\"\"\"\n",
    "acervoUpdate.run_sparql(up)"
   ]
  },
  {
   "attachments": {},
   "cell_type": "markdown",
   "metadata": {},
   "source": [
    "Language"
   ]
  },
  {
   "cell_type": "code",
   "execution_count": 27,
   "metadata": {},
   "outputs": [
    {
     "data": {
      "text/plain": [
       "{'head': {}, 'boolean': True}"
      ]
     },
     "execution_count": 27,
     "metadata": {},
     "output_type": "execute_result"
    }
   ],
   "source": [
    "askLanguage = prefix+\"ASK { graph work:\"+bkID+\"\"\"\n",
    "                    {work:\"\"\"+bkID+\" bf:language <http://id.loc.gov/vocabulary/languages/\"+request.languageCode+\"\"\"> }} \"\"\"\n",
    "response = acervoQuery.run_sparql(askLanguage)\n",
    "response = response.convert()\n",
    "response"
   ]
  },
  {
   "attachments": {},
   "cell_type": "markdown",
   "metadata": {},
   "source": [
    "Classification"
   ]
  },
  {
   "cell_type": "code",
   "execution_count": 8,
   "metadata": {},
   "outputs": [],
   "source": [
    "bkID = 'bk-1'"
   ]
  },
  {
   "cell_type": "code",
   "execution_count": 9,
   "metadata": {},
   "outputs": [
    {
     "data": {
      "text/plain": [
       "{'head': {}, 'boolean': False}"
      ]
     },
     "execution_count": 9,
     "metadata": {},
     "output_type": "execute_result"
    }
   ],
   "source": [
    "askClassification = prefix+\"ASK { graph work:\"+bkID+\"\"\"\n",
    "                    {work:\"\"\"+bkID+\"\"\" bf:classification ?obj .\n",
    "                        ?obj bf:classificationPortion \"\"\"+request.cdd+\" }} \"\n",
    "response = acervoQuery.run_sparql(askClassification)\n",
    "response = response.convert()\n",
    "response"
   ]
  },
  {
   "cell_type": "code",
   "execution_count": 10,
   "metadata": {},
   "outputs": [
    {
     "data": {
      "text/plain": [
       "'A586w'"
      ]
     },
     "execution_count": 10,
     "metadata": {},
     "output_type": "execute_result"
    }
   ],
   "source": [
    "request.cutter"
   ]
  },
  {
   "cell_type": "code",
   "execution_count": 15,
   "metadata": {},
   "outputs": [
    {
     "data": {
      "text/plain": [
       "{'head': {}, 'boolean': True}"
      ]
     },
     "execution_count": 15,
     "metadata": {},
     "output_type": "execute_result"
    }
   ],
   "source": [
    "askCutter = prefix+\"ASK { graph work:\"+bkID+\"\"\"\n",
    "                    {work:\"\"\"+bkID+\"\"\" bf:classification ?obj .\n",
    "                        ?obj bf:itemPortion '\"\"\"+request.cutter+\"' }} \"\n",
    "responseCutter = acervoQuery.run_sparql(askCutter)\n",
    "responseCutter = responseCutter.convert()\n",
    "responseCutter"
   ]
  },
  {
   "cell_type": "code",
   "execution_count": 39,
   "metadata": {},
   "outputs": [
    {
     "data": {
      "text/plain": [
       "<SPARQLWrapper.Wrapper.QueryResult at 0x1db45ca7220>"
      ]
     },
     "execution_count": 39,
     "metadata": {},
     "output_type": "execute_result"
    }
   ],
   "source": [
    "up = prefix+\"WITH work:\"+bkID+\"\"\"\n",
    "                DELETE {work:\"\"\"+bkID+\"\"\" bf:classification ?obj . \n",
    "                   ?obj ?p ?o }\n",
    "                WHERE {work:\"\"\"+bkID+\"\"\" bf:classification ?obj .\n",
    "                   ?obj ?p ?o }\"\"\"\n",
    "acervoUpdate.run_sparql(up)"
   ]
  },
  {
   "cell_type": "code",
   "execution_count": 16,
   "metadata": {},
   "outputs": [
    {
     "data": {
      "text/plain": [
       "<SPARQLWrapper.Wrapper.QueryResult at 0x19f18bdd0d0>"
      ]
     },
     "execution_count": 16,
     "metadata": {},
     "output_type": "execute_result"
    }
   ],
   "source": [
    "up = prefix+\"WITH work:\"+bkID+\"\"\"\n",
    "               DELETE {work:\"\"\"+bkID+\"\"\" bf:classification ?obj . \n",
    "                   ?obj ?p ?o }\n",
    "                INSERT {work:\"\"\"+bkID+\"\"\" bf:classification ?obj . \n",
    "                  ?obj rdf:type bf:ClassificationDdc .\n",
    "                  ?obj bf:classificationPortion \"\"\"+request.cdd+\"\"\" . \n",
    "                  ?obj bf:itemPortion '\"\"\"+request.cutter+\"\"\"'  }\n",
    "                WHERE {work:\"\"\"+bkID+\"\"\" bf:classification ?obj .\n",
    "                   ?obj ?p ?o }\"\"\"\n",
    "acervoUpdate.run_sparql(up)"
   ]
  },
  {
   "attachments": {},
   "cell_type": "markdown",
   "metadata": {},
   "source": [
    "PROCESS"
   ]
  },
  {
   "cell_type": "code",
   "execution_count": 18,
   "metadata": {},
   "outputs": [],
   "source": [
    "from datetime import datetime"
   ]
  },
  {
   "cell_type": "code",
   "execution_count": 47,
   "metadata": {},
   "outputs": [
    {
     "data": {
      "text/plain": [
       "'2023-03-20T15:20:51'"
      ]
     },
     "execution_count": 47,
     "metadata": {},
     "output_type": "execute_result"
    }
   ],
   "source": [
    "now = datetime.now()\n",
    "now.strftime(\"%Y-%m-%dT%H:%M:%S\")\n"
   ]
  },
  {
   "cell_type": "code",
   "execution_count": 14,
   "metadata": {},
   "outputs": [],
   "source": [
    "prefix = \"\"\"PREFIX work: <https://bibliokeia.com/resources/work/>\n",
    "            PREFIX bf: <http://id.loc.gov/ontologies/bibframe/>\n",
    "            PREFIX rdf: <http://www.w3.org/1999/02/22-rdf-syntax-ns#>\n",
    "            PREFIX xsd: <http://www.w3.org/2001/XMLSchema#>\"\"\""
   ]
  },
  {
   "cell_type": "code",
   "execution_count": 48,
   "metadata": {},
   "outputs": [
    {
     "data": {
      "text/plain": [
       "<SPARQLWrapper.Wrapper.QueryResult at 0x225e9897940>"
      ]
     },
     "execution_count": 48,
     "metadata": {},
     "output_type": "execute_result"
    }
   ],
   "source": [
    "bkID = 'bk-1'\n",
    "up = prefix+\"WITH work:\"+bkID+\"\"\"\n",
    "               DELETE {work:\"\"\"+bkID+\"\"\" bf:adminMetadata ?obj . \n",
    "                   ?obj bf:changeDate ?date }\n",
    "                INSERT {work:\"\"\"+bkID+\"\"\" bf:adminMetadata ?obj . \n",
    "                   ?obj bf:changeDate '\"\"\"+now.strftime(\"%Y-%m-%dT%H:%M:%S\")+\"\"\"'^^xsd:dateTime }\n",
    "                WHERE {work:\"\"\"+bkID+\"\"\" bf:adminMetadata ?obj . \n",
    "                   ?obj bf:changeDate ?date }\"\"\"\n",
    "acervoUpdate.run_sparql(up)"
   ]
  },
  {
   "cell_type": "code",
   "execution_count": 30,
   "metadata": {},
   "outputs": [],
   "source": [
    "query = prefix+\"\"\"SELECT * WHERE { \n",
    "  graph work:bk-1 {\n",
    "  ?s ?p ?o } }\"\"\"\n",
    "\n",
    "response = acervoQuery.run_sparql(query)\n",
    "response = response.convert()\n",
    "bindings = response['results']['bindings']"
   ]
  },
  {
   "cell_type": "code",
   "execution_count": 34,
   "metadata": {},
   "outputs": [
    {
     "data": {
      "text/plain": [
       "{'type': 'uri', 'value': 'https://bibliokeia.com/resources/work/bk-1'}"
      ]
     },
     "execution_count": 34,
     "metadata": {},
     "output_type": "execute_result"
    }
   ],
   "source": [
    "bindings[0]['s']"
   ]
  },
  {
   "attachments": {},
   "cell_type": "markdown",
   "metadata": {},
   "source": [
    "SOLR"
   ]
  },
  {
   "cell_type": "code",
   "execution_count": 2,
   "metadata": {},
   "outputs": [],
   "source": [
    "import pysolr "
   ]
  },
  {
   "cell_type": "code",
   "execution_count": 3,
   "metadata": {},
   "outputs": [],
   "source": [
    "solr = pysolr.Solr('http://localhost:8983/solr/acervo/', timeout=10)"
   ]
  },
  {
   "cell_type": "code",
   "execution_count": 5,
   "metadata": {},
   "outputs": [
    {
     "data": {
      "text/plain": [
       "Work_Edit(content=None, mainTitle=None, subtitle=None, variantTitle=None, primaryContribution=Contribution(label='Machado de Assis', role='aut', uri='https://bibliokeia.com/authorities/names/n80002329'), subjects=None, language=None, languageCode=None, cdd=None, cutter=None, serie=None, serieURI=None)"
      ]
     },
     "execution_count": 5,
     "metadata": {},
     "output_type": "execute_result"
    }
   ],
   "source": [
    "obj = {\n",
    " \"primaryContribution\": {\n",
    "    \"label\": \"Machado de Assis\",\n",
    "    \"role\": \"aut\",\n",
    "    \"uri\": \"https://bibliokeia.com/authorities/names/n80002329\"\n",
    "  },\n",
    "}\n",
    "request = Work_Edit(**obj)\n",
    "request"
   ]
  },
  {
   "cell_type": "code",
   "execution_count": 11,
   "metadata": {},
   "outputs": [
    {
     "name": "stdout",
     "output_type": "stream",
     "text": [
      "{'id': 'bk-1', 'primaryContribution': {'set': 'Machado de Assis'}, 'primaryContributionUri': {'set': 'https://bibliokeia.com/authorities/names/n80002329'}, 'primaryContributionRole': {'set': 'aut'}}\n"
     ]
    }
   ],
   "source": [
    "doc = {\"id\": \"bk-1\"}\n",
    "for k, v in request:\n",
    "    if v:\n",
    "        if k == 'subjects':\n",
    "            print(\"sub\")\n",
    "        elif k == 'primaryContribution':\n",
    "            doc['primaryContribution'] = {\"set\": v.label}\n",
    "            doc['primaryContributionUri'] = {\"set\": v.uri}\n",
    "            doc['primaryContributionRole'] = {\"set\": v.role}\n",
    "\n",
    "print(doc)\n"
   ]
  }
 ],
 "metadata": {
  "kernelspec": {
   "display_name": "Python 3.11.0 ('venv': venv)",
   "language": "python",
   "name": "python3"
  },
  "language_info": {
   "codemirror_mode": {
    "name": "ipython",
    "version": 3
   },
   "file_extension": ".py",
   "mimetype": "text/x-python",
   "name": "python",
   "nbconvert_exporter": "python",
   "pygments_lexer": "ipython3",
   "version": "3.10.4"
  },
  "orig_nbformat": 4,
  "vscode": {
   "interpreter": {
    "hash": "5df21a170a08fe7c24b5b1091267edae5bad3984f1116f28e957af7dd8f192dc"
   }
  }
 },
 "nbformat": 4,
 "nbformat_minor": 2
}
