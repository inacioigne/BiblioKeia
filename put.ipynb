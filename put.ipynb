{
 "cells": [
  {
   "cell_type": "code",
   "execution_count": 26,
   "metadata": {},
   "outputs": [],
   "source": [
    "from rdflib import URIRef, BNode, Literal\n",
    "from rdflib.namespace import RDF, RDFS\n",
    "from pyfuseki import FusekiUpdate, FusekiQuery"
   ]
  },
  {
   "cell_type": "code",
   "execution_count": 14,
   "metadata": {},
   "outputs": [],
   "source": [
    "acervoUpdate = FusekiUpdate('http://localhost:3030', 'acervo')\n",
    "acervoQuery = FusekiQuery('http://localhost:3030', 'acervo')"
   ]
  },
  {
   "cell_type": "code",
   "execution_count": 18,
   "metadata": {},
   "outputs": [
    {
     "name": "stderr",
     "output_type": "stream",
     "text": [
      "c:\\Users\\Usuário\\Desktop\\BiblioKeia\\venv\\lib\\site-packages\\SPARQLWrapper\\Wrapper.py:794: RuntimeWarning: Sending Accept header '*/*' because unexpected returned format 'json' in a 'DESCRIBE' SPARQL query form\n",
      "  warnings.warn(\n"
     ]
    },
    {
     "data": {
      "text/plain": [
       "<SPARQLWrapper.Wrapper.QueryResult at 0x2565aa04cd0>"
      ]
     },
     "execution_count": 18,
     "metadata": {},
     "output_type": "execute_result"
    }
   ],
   "source": [
    "sparql_str = \"DESCRIBE <https://bibliokeia.com/resources/work/bk-2>\"\n",
    "response = acervoQuery.run_sparql(sparql_str)\n",
    "response\n"
   ]
  },
  {
   "cell_type": "code",
   "execution_count": 21,
   "metadata": {},
   "outputs": [
    {
     "ename": "NameError",
     "evalue": "name 'JSON' is not defined",
     "output_type": "error",
     "traceback": [
      "\u001b[1;31m---------------------------------------------------------------------------\u001b[0m",
      "\u001b[1;31mNameError\u001b[0m                                 Traceback (most recent call last)",
      "\u001b[1;32mc:\\Users\\Usuário\\Desktop\\BiblioKeia\\put.ipynb Célula 4\u001b[0m in \u001b[0;36m<cell line: 1>\u001b[1;34m()\u001b[0m\n\u001b[1;32m----> <a href='vscode-notebook-cell:/c%3A/Users/Usu%C3%A1rio/Desktop/BiblioKeia/put.ipynb#X20sZmlsZQ%3D%3D?line=0'>1</a>\u001b[0m response\u001b[39m.\u001b[39mconvert(JSON)\n",
      "\u001b[1;31mNameError\u001b[0m: name 'JSON' is not defined"
     ]
    }
   ],
   "source": [
    "response.convert(JSON)"
   ]
  },
  {
   "cell_type": "code",
   "execution_count": null,
   "metadata": {},
   "outputs": [],
   "source": [
    "acervoQuery.endpoint_url('')"
   ]
  },
  {
   "attachments": {},
   "cell_type": "markdown",
   "metadata": {},
   "source": [
    "Title"
   ]
  },
  {
   "cell_type": "code",
   "execution_count": 3,
   "metadata": {},
   "outputs": [
    {
     "data": {
      "text/plain": [
       "{'statusCode': 200, 'message': 'Update succeeded'}"
      ]
     },
     "execution_count": 3,
     "metadata": {},
     "output_type": "execute_result"
    }
   ],
   "source": [
    "acervoUpdate = FusekiUpdate('http://localhost:3030', 'acervo')\n",
    "work_id = '2'\n",
    "\n",
    "up = \"\"\"\n",
    "PREFIX bf: <http://id.loc.gov/ontologies/bibframe/>\n",
    "PREFIX rdfs: <http://www.w3.org/2000/01/rdf-schema#>\n",
    "\n",
    "WITH <https://bibliokeia.com/resources/work/bk-\"\"\"+work_id+\"\"\">\n",
    "DELETE\n",
    "{\n",
    "   <https://bibliokeia.com/resources/work/bk-\"\"\"+work_id+\"\"\"> bf:title ?o .\n",
    "  \t?o ?p ?title .\n",
    "}\n",
    "INSERT\n",
    "{\n",
    "   <https://bibliokeia.com/resources/work/bk-\"\"\"+work_id+\"\"\"> bf:title ?o .\n",
    "  \t?o rdfs:label \"TESTE\" .\n",
    "\n",
    "    <https://bibliokeia.com/resources/work/bk-\"\"\"+work_id+\"\"\"> bf:title ?o .\n",
    "  \t?o bf:mainTitle \"TESTE\" .\n",
    "}\n",
    "WHERE { \n",
    "<https://bibliokeia.com/resources/work/bk-\"\"\"+work_id+\"\"\"> bf:title ?o .\n",
    "  \t?o ?p ?title .\n",
    "    }\n",
    "\"\"\"\n",
    "\n",
    "response = acervoUpdate.run_sparql(up)\n",
    "response.convert()"
   ]
  },
  {
   "cell_type": "code",
   "execution_count": 8,
   "metadata": {},
   "outputs": [],
   "source": []
  },
  {
   "cell_type": "code",
   "execution_count": 53,
   "metadata": {},
   "outputs": [
    {
     "data": {
      "text/plain": [
       "'Text'"
      ]
     },
     "execution_count": 53,
     "metadata": {},
     "output_type": "execute_result"
    }
   ],
   "source": [
    "work.contentType"
   ]
  },
  {
   "cell_type": "code",
   "execution_count": 3,
   "metadata": {},
   "outputs": [],
   "source": [
    "from SPARQLWrapper import SPARQLWrapper, JSON\n",
    "from api.src.schemas.bibframe.work import Work_Schema"
   ]
  },
  {
   "cell_type": "code",
   "execution_count": 2,
   "metadata": {},
   "outputs": [],
   "source": [
    "sparql = SPARQLWrapper('http://localhost:3030/acervo/sparql')\n",
    "sparql.setReturnFormat(JSON)"
   ]
  },
  {
   "cell_type": "code",
   "execution_count": 5,
   "metadata": {},
   "outputs": [
    {
     "data": {
      "text/plain": [
       "Work_Schema(contentType='Text', mainTitle='TESTE', subtitle='', variantTitle=None, contributionAgent='Popper, Karl R. (Karl Raimund), 1902-1994', contributionID='n80032184', contributionRole='Autor', contributionRoleUri='https://bibliokeia.com/authorities/names/n80032184', subjects=[Subject(label='Metodologia', uri='https://bibliokeia.com/authorities/subjects/sh85084414'), Subject(label='Ciência', uri='https://bibliokeia.com/authorities/subjects/sh85118553')], language='', languageCode='', cdd='548.2', cutter='A587s', serie='Pensamento científico', serieURI='https://bibliokeia.com/resources/hub/bk-1')"
      ]
     },
     "execution_count": 5,
     "metadata": {},
     "output_type": "execute_result"
    }
   ],
   "source": [
    "obj = {\n",
    "    \"title\": \"TESTE\",\n",
    "    \"typeLabel\": \"Texto\",\n",
    "    \"contribution\": \"Popper, Karl R. (Karl Raimund), 1902-1994\",\n",
    "    \"serie\": \"Pensamento científico\",\n",
    "    \"hasInstance\": \"https://bibliokeia.com/resources/instance/bk-3\",\n",
    "    \"instanceID\": \"bk-3\",\n",
    "    \"contentType\": \"Texto\",\n",
    "    \"mainTitle\": \"TESTE\",\n",
    "    \"subtitle\": \"\",\n",
    "    \"contributionAgent\": \"Popper, Karl R. (Karl Raimund), 1902-1994\",\n",
    "    \"contributionRole\": \"Autor\",\n",
    "    \"contributionRoleUri\": \"https://bibliokeia.com/authorities/names/n80032184\",\n",
    "    \"contributionID\": \"n80032184\",\n",
    "    \"subjects\": [\n",
    "        {\n",
    "            \"uri\": \"https://bibliokeia.com/authorities/subjects/sh85084414\",\n",
    "            \"label\": \"Metodologia\"\n",
    "        },\n",
    "        {\n",
    "            \"uri\": \"https://bibliokeia.com/authorities/subjects/sh85118553\",\n",
    "            \"label\": \"Ciência\"\n",
    "        }\n",
    "    ],\n",
    "    \"language\": \"\",\n",
    "    \"languageCode\": \"\",\n",
    "    \"cdd\": \"548.2\",\n",
    "    \"cutter\": \"A587s\",\n",
    "    \"serieURI\": \"https://bibliokeia.com/resources/hub/bk-1\"\n",
    "}\n",
    "\n",
    "work = Work_Schema(**obj)\n",
    "work\n"
   ]
  },
  {
   "cell_type": "code",
   "execution_count": 23,
   "metadata": {},
   "outputs": [],
   "source": [
    "sparql = SPARQLWrapper('http://localhost:3030/acervo/sparql')\n",
    "sparql.setReturnFormat(JSON)\n",
    "\n",
    "def EditTypeWork(contentType, bkID):\n",
    "\n",
    "    prefix = \"\"\"\n",
    "            PREFIX work: <https://bibliokeia.com/resources/work/>\n",
    "            PREFIX bf: <http://id.loc.gov/ontologies/bibframe/>\n",
    "            PREFIX rdf: <http://www.w3.org/1999/02/22-rdf-syntax-ns#>\"\"\"\n",
    "\n",
    "    where = \"\"\"WHERE { \n",
    "                graph work:\"\"\"+bkID+\"\"\"\n",
    "                {work:\"\"\"+bkID+\"\"\" rdf:type ?o}}\"\"\"\n",
    "\n",
    "    sparql_str = prefix+\"SELECT ?o \"+where\n",
    "\n",
    "    sparql.setQuery(sparql_str)\n",
    "    ret = sparql.queryAndConvert()\n",
    "    bindings = ret['results']['bindings']\n",
    "\n",
    "    for i in bindings:\n",
    "        content = i['o']['value'].split('/')[-1]\n",
    "        if content != 'Work' and content != contentType:\n",
    "            up = \"\"\"PREFIX foaf:  <http://xmlns.com/foaf/0.1/>\n",
    "                    WITH <http://example/addresses>\n",
    "                    DELETE { ?person foaf:givenName 'Bill' }\n",
    "                    INSERT { ?person foaf:givenName 'William' }\n",
    "                    WHERE\n",
    "                    { ?person foaf:givenName 'Bill'\n",
    "                    } \"\"\"\n",
    "\n",
    "            print(\"PRECISA ALTERAR\")\n",
    "        else:\n",
    "            print(\"NÃO PRECISA ALTERAR NADA\")\n",
    "\n",
    "\n"
   ]
  },
  {
   "cell_type": "code",
   "execution_count": 24,
   "metadata": {},
   "outputs": [
    {
     "name": "stdout",
     "output_type": "stream",
     "text": [
      "NÃO PRECISA ALTERAR NADA\n",
      "PRECISA ALTERAR\n"
     ]
    }
   ],
   "source": [
    "EditTypeWork(\"TEXTO\", \"bk-2\")"
   ]
  },
  {
   "cell_type": "code",
   "execution_count": 14,
   "metadata": {},
   "outputs": [
    {
     "data": {
      "text/plain": [
       "'Text'"
      ]
     },
     "execution_count": 14,
     "metadata": {},
     "output_type": "execute_result"
    }
   ],
   "source": [
    "bkID = 'bk-2'\n",
    "prefix = \"\"\"\n",
    "            PREFIX work: <https://bibliokeia.com/resources/work/>\n",
    "            PREFIX bf: <http://id.loc.gov/ontologies/bibframe/>\n",
    "            PREFIX rdf: <http://www.w3.org/1999/02/22-rdf-syntax-ns#>\"\"\"\n",
    "\n",
    "where = \"\"\"WHERE { \n",
    "                graph work:\"\"\"+bkID+\"\"\"\n",
    "                {work:\"\"\"+bkID+\"\"\" rdf:type ?o}}\"\"\"\n",
    "\n",
    "\n",
    "\n",
    "                "
   ]
  },
  {
   "cell_type": "code",
   "execution_count": 60,
   "metadata": {},
   "outputs": [
    {
     "data": {
      "text/plain": [
       "<SPARQLWrapper.Wrapper.QueryResult at 0x20b5be245b0>"
      ]
     },
     "execution_count": 60,
     "metadata": {},
     "output_type": "execute_result"
    }
   ],
   "source": [
    "bkID = 'bk-2'\n",
    "up = \"\"\"PREFIX work: <https://bibliokeia.com/resources/work/>\n",
    "        PREFIX bf: <http://id.loc.gov/ontologies/bibframe/>\n",
    "        PREFIX rdf: <http://www.w3.org/1999/02/22-rdf-syntax-ns#>\n",
    "        WITH <https://bibliokeia.com/resources/work/bk-2>\n",
    "        DELETE { work:\"\"\"+bkID+\"\"\" rdf:type bf:Text }\n",
    "        INSERT { work:\"\"\"+bkID+\"\"\" rdf:type bf:Texto }\n",
    "        WHERE { work:\"\"\"+bkID+\"\"\" rdf:type bf:Text } \"\"\"\n",
    "\n",
    "acervoUpdate = FusekiUpdate('http://localhost:3030', 'acervo')\n",
    "\n",
    "r = acervoUpdate.run_sparql(up)\n",
    "r\n"
   ]
  },
  {
   "cell_type": "code",
   "execution_count": 58,
   "metadata": {},
   "outputs": [
    {
     "data": {
      "text/plain": [
       "[{'o': {'type': 'uri', 'value': 'http://id.loc.gov/ontologies/bibframe/Work'}},\n",
       " {'o': {'type': 'uri', 'value': 'http://id.loc.gov/ontologies/bibframe/Text'}}]"
      ]
     },
     "execution_count": 58,
     "metadata": {},
     "output_type": "execute_result"
    }
   ],
   "source": [
    "sparql_str = \"\"\"\n",
    "    PREFIX work: <https://bibliokeia.com/resources/work/>\n",
    "PREFIX bf: <http://id.loc.gov/ontologies/bibframe/>\n",
    "PREFIX rdf: <http://www.w3.org/1999/02/22-rdf-syntax-ns#>\n",
    "SELECT ?o \n",
    "WHERE { \n",
    "  graph work:bk-2\n",
    "  {work:bk-2 rdf:type ?o}}\n",
    "\"\"\"\n",
    "sparql.setQuery(sparql_str)\n",
    "ret = sparql.queryAndConvert()\n",
    "bindings = ret['results']['bindings']\n",
    "bindings"
   ]
  },
  {
   "cell_type": "code",
   "execution_count": 64,
   "metadata": {},
   "outputs": [
    {
     "name": "stdout",
     "output_type": "stream",
     "text": [
      "Text\n"
     ]
    }
   ],
   "source": [
    "for i in bindings:\n",
    "    content = i['o']['value'].split('/')[-1]\n",
    "    if content != 'Work':\n",
    "        print(content)"
   ]
  },
  {
   "cell_type": "code",
   "execution_count": 27,
   "metadata": {},
   "outputs": [],
   "source": [
    "acervoUpdate = FusekiUpdate('http://localhost:3030', 'acervo')\n",
    "acervoQuery = FusekiQuery('http://localhost:3030', 'acervo')"
   ]
  },
  {
   "cell_type": "code",
   "execution_count": 63,
   "metadata": {},
   "outputs": [
    {
     "data": {
      "text/plain": [
       "{'head': {}, 'boolean': True}"
      ]
     },
     "execution_count": 63,
     "metadata": {},
     "output_type": "execute_result"
    }
   ],
   "source": [
    "r = acervoQuery.run_sparql(\"\"\"PREFIX work: <https://bibliokeia.com/resources/work/>\n",
    "PREFIX bf: <http://id.loc.gov/ontologies/bibframe/>\n",
    "PREFIX rdf: <http://www.w3.org/1999/02/22-rdf-syntax-ns#>\n",
    "ASK { \n",
    "  graph work:bk-2\n",
    "  {work:bk-2 rdf:type bf:Texto}}\"\"\")\n",
    "r.convert()"
   ]
  },
  {
   "cell_type": "code",
   "execution_count": 80,
   "metadata": {},
   "outputs": [
    {
     "name": "stdout",
     "output_type": "stream",
     "text": [
      "PRECISA ALTERAR\n"
     ]
    }
   ],
   "source": [
    "acervoUpdate = FusekiUpdate('http://localhost:3030', 'acervo')\n",
    "acervoQuery = FusekiQuery('http://localhost:3030', 'acervo')\n",
    "\n",
    "def EditTypeWork(contentType, bkID):\n",
    "        \n",
    "        prefix = \"\"\"PREFIX work: <https://bibliokeia.com/resources/work/>\n",
    "            PREFIX bf: <http://id.loc.gov/ontologies/bibframe/>\n",
    "            PREFIX rdf: <http://www.w3.org/1999/02/22-rdf-syntax-ns#>\"\"\"\n",
    "        where = \"{work:\"+bkID+\" rdf:type bf:\"+contentType+\"}\"\n",
    "            \n",
    "        ask = prefix+\"ASK { graph work:bk-2 \"+where+\" }\"\n",
    "\n",
    "        response = acervoQuery.run_sparql(ask)\n",
    "        response = response.convert()\n",
    "    \n",
    "        if not response['boolean']:\n",
    "            up = prefix+\"WITH work:\"+bkID+\"\"\"\n",
    "            DELETE { work:\"\"\"+bkID+\"\"\" rdf:type bf:Texto }\n",
    "            INSERT { work:\"\"\"+bkID+\"\"\" rdf:type bf:Texto }\n",
    "            WHERE \"\"\"+where\n",
    "            acervoUpdate.run_sparql(up)\n",
    "            print(\"PRECISA ALTERAR\")\n",
    "        else:\n",
    "            print(\"NÃO PRECISA ALTERAR NADA\")\n",
    "    \n",
    "EditTypeWork(\"Textox\", \"bk-2\")\n"
   ]
  },
  {
   "cell_type": "code",
   "execution_count": 99,
   "metadata": {},
   "outputs": [],
   "source": [
    "def Edit(contentType, bkID):\n",
    "\n",
    "    prefix = \"\"\"PREFIX work: <https://bibliokeia.com/resources/work/>\n",
    "                PREFIX bf: <http://id.loc.gov/ontologies/bibframe/>\n",
    "                PREFIX rdf: <http://www.w3.org/1999/02/22-rdf-syntax-ns#>\"\"\"\n",
    "    where = \"{work:\"+bkID+\" rdf:type ?o}\"\n",
    "                \n",
    "    select = prefix+\"SELECT * { graph work:bk-2 {work:\"+bkID+\" rdf:type ?o} }\"\n",
    "\n",
    "    response = acervoQuery.run_sparql(select)\n",
    "    response = response.convert()\n",
    "    bindings = response['results']['bindings']\n",
    "\n",
    "    for binding in bindings:\n",
    "        uri = binding['o']['value']\n",
    "        content = uri.split(\"/\")[-1]\n",
    "        if content != 'Work' and content != contentType:\n",
    "            where = \"{ work:\"+bkID+\" rdf:type bf:\"+content+\" }\"\n",
    "            up = prefix+\"WITH work:\"+bkID+\"\"\"\n",
    "            DELETE \"\"\"+where+\"\"\"\n",
    "            INSERT { work:\"\"\"+bkID+\" rdf:type bf:\"+contentType+\"\"\" }\n",
    "            WHERE \"\"\"+where\n",
    "            acervoUpdate.run_sparql(up)\n",
    "\n",
    "\n",
    "Edit(\"Text\", \"bk-2\")"
   ]
  },
  {
   "attachments": {},
   "cell_type": "markdown",
   "metadata": {},
   "source": [
    "TITLE"
   ]
  },
  {
   "cell_type": "code",
   "execution_count": 152,
   "metadata": {},
   "outputs": [
    {
     "ename": "QueryBadFormed",
     "evalue": "QueryBadFormed: A bad request has been sent to the endpoint: probably the SPARQL query is badly formed. \n\nResponse:\nb'Lexical error at line 7, column 85.  Encountered: \"\\\\n\" (10), after : \"\\\\\\'PREFIX work: <https://bibliokeia.com/resources/work/>\"\\n'",
     "output_type": "error",
     "traceback": [
      "\u001b[1;31m---------------------------------------------------------------------------\u001b[0m",
      "\u001b[1;31mHTTPError\u001b[0m                                 Traceback (most recent call last)",
      "File \u001b[1;32mc:\\Users\\Usuário\\Desktop\\BiblioKeia\\venv\\lib\\site-packages\\SPARQLWrapper\\Wrapper.py:926\u001b[0m, in \u001b[0;36mSPARQLWrapper._query\u001b[1;34m(self)\u001b[0m\n\u001b[0;32m    925\u001b[0m \u001b[39melse\u001b[39;00m:\n\u001b[1;32m--> 926\u001b[0m     response \u001b[39m=\u001b[39m urlopener(request)\n\u001b[0;32m    927\u001b[0m \u001b[39mreturn\u001b[39;00m response, \u001b[39mself\u001b[39m\u001b[39m.\u001b[39mreturnFormat\n",
      "File \u001b[1;32m~\\AppData\\Local\\Programs\\Python\\Python310\\lib\\urllib\\request.py:216\u001b[0m, in \u001b[0;36murlopen\u001b[1;34m(url, data, timeout, cafile, capath, cadefault, context)\u001b[0m\n\u001b[0;32m    215\u001b[0m     opener \u001b[39m=\u001b[39m _opener\n\u001b[1;32m--> 216\u001b[0m \u001b[39mreturn\u001b[39;00m opener\u001b[39m.\u001b[39;49mopen(url, data, timeout)\n",
      "File \u001b[1;32m~\\AppData\\Local\\Programs\\Python\\Python310\\lib\\urllib\\request.py:525\u001b[0m, in \u001b[0;36mOpenerDirector.open\u001b[1;34m(self, fullurl, data, timeout)\u001b[0m\n\u001b[0;32m    524\u001b[0m     meth \u001b[39m=\u001b[39m \u001b[39mgetattr\u001b[39m(processor, meth_name)\n\u001b[1;32m--> 525\u001b[0m     response \u001b[39m=\u001b[39m meth(req, response)\n\u001b[0;32m    527\u001b[0m \u001b[39mreturn\u001b[39;00m response\n",
      "File \u001b[1;32m~\\AppData\\Local\\Programs\\Python\\Python310\\lib\\urllib\\request.py:634\u001b[0m, in \u001b[0;36mHTTPErrorProcessor.http_response\u001b[1;34m(self, request, response)\u001b[0m\n\u001b[0;32m    633\u001b[0m \u001b[39mif\u001b[39;00m \u001b[39mnot\u001b[39;00m (\u001b[39m200\u001b[39m \u001b[39m<\u001b[39m\u001b[39m=\u001b[39m code \u001b[39m<\u001b[39m \u001b[39m300\u001b[39m):\n\u001b[1;32m--> 634\u001b[0m     response \u001b[39m=\u001b[39m \u001b[39mself\u001b[39;49m\u001b[39m.\u001b[39;49mparent\u001b[39m.\u001b[39;49merror(\n\u001b[0;32m    635\u001b[0m         \u001b[39m'\u001b[39;49m\u001b[39mhttp\u001b[39;49m\u001b[39m'\u001b[39;49m, request, response, code, msg, hdrs)\n\u001b[0;32m    637\u001b[0m \u001b[39mreturn\u001b[39;00m response\n",
      "File \u001b[1;32m~\\AppData\\Local\\Programs\\Python\\Python310\\lib\\urllib\\request.py:563\u001b[0m, in \u001b[0;36mOpenerDirector.error\u001b[1;34m(self, proto, *args)\u001b[0m\n\u001b[0;32m    562\u001b[0m args \u001b[39m=\u001b[39m (\u001b[39mdict\u001b[39m, \u001b[39m'\u001b[39m\u001b[39mdefault\u001b[39m\u001b[39m'\u001b[39m, \u001b[39m'\u001b[39m\u001b[39mhttp_error_default\u001b[39m\u001b[39m'\u001b[39m) \u001b[39m+\u001b[39m orig_args\n\u001b[1;32m--> 563\u001b[0m \u001b[39mreturn\u001b[39;00m \u001b[39mself\u001b[39;49m\u001b[39m.\u001b[39;49m_call_chain(\u001b[39m*\u001b[39;49margs)\n",
      "File \u001b[1;32m~\\AppData\\Local\\Programs\\Python\\Python310\\lib\\urllib\\request.py:496\u001b[0m, in \u001b[0;36mOpenerDirector._call_chain\u001b[1;34m(self, chain, kind, meth_name, *args)\u001b[0m\n\u001b[0;32m    495\u001b[0m func \u001b[39m=\u001b[39m \u001b[39mgetattr\u001b[39m(handler, meth_name)\n\u001b[1;32m--> 496\u001b[0m result \u001b[39m=\u001b[39m func(\u001b[39m*\u001b[39;49margs)\n\u001b[0;32m    497\u001b[0m \u001b[39mif\u001b[39;00m result \u001b[39mis\u001b[39;00m \u001b[39mnot\u001b[39;00m \u001b[39mNone\u001b[39;00m:\n",
      "File \u001b[1;32m~\\AppData\\Local\\Programs\\Python\\Python310\\lib\\urllib\\request.py:643\u001b[0m, in \u001b[0;36mHTTPDefaultErrorHandler.http_error_default\u001b[1;34m(self, req, fp, code, msg, hdrs)\u001b[0m\n\u001b[0;32m    642\u001b[0m \u001b[39mdef\u001b[39;00m \u001b[39mhttp_error_default\u001b[39m(\u001b[39mself\u001b[39m, req, fp, code, msg, hdrs):\n\u001b[1;32m--> 643\u001b[0m     \u001b[39mraise\u001b[39;00m HTTPError(req\u001b[39m.\u001b[39mfull_url, code, msg, hdrs, fp)\n",
      "\u001b[1;31mHTTPError\u001b[0m: HTTP Error 400: Bad Request",
      "\nDuring handling of the above exception, another exception occurred:\n",
      "\u001b[1;31mQueryBadFormed\u001b[0m                            Traceback (most recent call last)",
      "\u001b[1;32mc:\\Users\\Usuário\\Desktop\\BiblioKeia\\put.ipynb Célula 24\u001b[0m in \u001b[0;36m<cell line: 35>\u001b[1;34m()\u001b[0m\n\u001b[0;32m     <a href='vscode-notebook-cell:/c%3A/Users/Usu%C3%A1rio/Desktop/BiblioKeia/put.ipynb#X46sZmlsZQ%3D%3D?line=24'>25</a>\u001b[0m         label \u001b[39m=\u001b[39m prefix\u001b[39m+\u001b[39m\u001b[39m\"\u001b[39m\u001b[39mWITH work:\u001b[39m\u001b[39m\"\u001b[39m\u001b[39m+\u001b[39mbkID\u001b[39m+\u001b[39m\u001b[39m\"\"\"\u001b[39m\n\u001b[0;32m     <a href='vscode-notebook-cell:/c%3A/Users/Usu%C3%A1rio/Desktop/BiblioKeia/put.ipynb#X46sZmlsZQ%3D%3D?line=25'>26</a>\u001b[0m \u001b[39m            DELETE \u001b[39m\u001b[39m{\u001b[39m\u001b[39mwork:\u001b[39m\u001b[39m\"\"\"\u001b[39m\u001b[39m+\u001b[39mbkID\u001b[39m+\u001b[39m\u001b[39m\"\"\"\u001b[39m\u001b[39m bf:title ?o .\u001b[39m\n\u001b[0;32m     <a href='vscode-notebook-cell:/c%3A/Users/Usu%C3%A1rio/Desktop/BiblioKeia/put.ipynb#X46sZmlsZQ%3D%3D?line=26'>27</a>\u001b[0m \u001b[39m                ?o rdfs:label ?t }\u001b[39m\n\u001b[1;32m   (...)\u001b[0m\n\u001b[0;32m     <a href='vscode-notebook-cell:/c%3A/Users/Usu%C3%A1rio/Desktop/BiblioKeia/put.ipynb#X46sZmlsZQ%3D%3D?line=29'>30</a>\u001b[0m \u001b[39m            WHERE \u001b[39m\u001b[39m{\u001b[39m\u001b[39mwork:\u001b[39m\u001b[39m\"\"\"\u001b[39m\u001b[39m+\u001b[39mbkID\u001b[39m+\u001b[39m\u001b[39m\"\"\"\u001b[39m\u001b[39m bf:title ?o .\u001b[39m\n\u001b[0;32m     <a href='vscode-notebook-cell:/c%3A/Users/Usu%C3%A1rio/Desktop/BiblioKeia/put.ipynb#X46sZmlsZQ%3D%3D?line=30'>31</a>\u001b[0m \u001b[39m                ?o rdfs:label ?t }\u001b[39m\u001b[39m\"\"\"\u001b[39m\n\u001b[0;32m     <a href='vscode-notebook-cell:/c%3A/Users/Usu%C3%A1rio/Desktop/BiblioKeia/put.ipynb#X46sZmlsZQ%3D%3D?line=31'>32</a>\u001b[0m         acervoUpdate\u001b[39m.\u001b[39mrun_sparql(label)\n\u001b[1;32m---> <a href='vscode-notebook-cell:/c%3A/Users/Usu%C3%A1rio/Desktop/BiblioKeia/put.ipynb#X46sZmlsZQ%3D%3D?line=34'>35</a>\u001b[0m response \u001b[39m=\u001b[39m EditTitle(\u001b[39m\"\u001b[39;49m\u001b[39mTITULO_1\u001b[39;49m\u001b[39m\"\u001b[39;49m, \u001b[39m'\u001b[39;49m\u001b[39mbk-2\u001b[39;49m\u001b[39m'\u001b[39;49m)\n\u001b[0;32m     <a href='vscode-notebook-cell:/c%3A/Users/Usu%C3%A1rio/Desktop/BiblioKeia/put.ipynb#X46sZmlsZQ%3D%3D?line=35'>36</a>\u001b[0m response\n",
      "\u001b[1;32mc:\\Users\\Usuário\\Desktop\\BiblioKeia\\put.ipynb Célula 24\u001b[0m in \u001b[0;36mEditTitle\u001b[1;34m(mainTitle, bkID)\u001b[0m\n\u001b[0;32m     <a href='vscode-notebook-cell:/c%3A/Users/Usu%C3%A1rio/Desktop/BiblioKeia/put.ipynb#X46sZmlsZQ%3D%3D?line=22'>23</a>\u001b[0m \u001b[39m#acervoUpdate.run_sparql(mainTitle)\u001b[39;00m\n\u001b[0;32m     <a href='vscode-notebook-cell:/c%3A/Users/Usu%C3%A1rio/Desktop/BiblioKeia/put.ipynb#X46sZmlsZQ%3D%3D?line=24'>25</a>\u001b[0m label \u001b[39m=\u001b[39m prefix\u001b[39m+\u001b[39m\u001b[39m\"\u001b[39m\u001b[39mWITH work:\u001b[39m\u001b[39m\"\u001b[39m\u001b[39m+\u001b[39mbkID\u001b[39m+\u001b[39m\u001b[39m\"\"\"\u001b[39m\n\u001b[0;32m     <a href='vscode-notebook-cell:/c%3A/Users/Usu%C3%A1rio/Desktop/BiblioKeia/put.ipynb#X46sZmlsZQ%3D%3D?line=25'>26</a>\u001b[0m \u001b[39m    DELETE \u001b[39m\u001b[39m{\u001b[39m\u001b[39mwork:\u001b[39m\u001b[39m\"\"\"\u001b[39m\u001b[39m+\u001b[39mbkID\u001b[39m+\u001b[39m\u001b[39m\"\"\"\u001b[39m\u001b[39m bf:title ?o .\u001b[39m\n\u001b[0;32m     <a href='vscode-notebook-cell:/c%3A/Users/Usu%C3%A1rio/Desktop/BiblioKeia/put.ipynb#X46sZmlsZQ%3D%3D?line=26'>27</a>\u001b[0m \u001b[39m        ?o rdfs:label ?t }\u001b[39m\n\u001b[1;32m   (...)\u001b[0m\n\u001b[0;32m     <a href='vscode-notebook-cell:/c%3A/Users/Usu%C3%A1rio/Desktop/BiblioKeia/put.ipynb#X46sZmlsZQ%3D%3D?line=29'>30</a>\u001b[0m \u001b[39m    WHERE \u001b[39m\u001b[39m{\u001b[39m\u001b[39mwork:\u001b[39m\u001b[39m\"\"\"\u001b[39m\u001b[39m+\u001b[39mbkID\u001b[39m+\u001b[39m\u001b[39m\"\"\"\u001b[39m\u001b[39m bf:title ?o .\u001b[39m\n\u001b[0;32m     <a href='vscode-notebook-cell:/c%3A/Users/Usu%C3%A1rio/Desktop/BiblioKeia/put.ipynb#X46sZmlsZQ%3D%3D?line=30'>31</a>\u001b[0m \u001b[39m        ?o rdfs:label ?t }\u001b[39m\u001b[39m\"\"\"\u001b[39m\n\u001b[1;32m---> <a href='vscode-notebook-cell:/c%3A/Users/Usu%C3%A1rio/Desktop/BiblioKeia/put.ipynb#X46sZmlsZQ%3D%3D?line=31'>32</a>\u001b[0m acervoUpdate\u001b[39m.\u001b[39;49mrun_sparql(label)\n",
      "File \u001b[1;32mc:\\Users\\Usuário\\Desktop\\BiblioKeia\\venv\\lib\\site-packages\\pyfuseki\\syncFuseki\\fuseki.py:37\u001b[0m, in \u001b[0;36mBaseFuseki.run_sparql\u001b[1;34m(self, sparql_str, return_format)\u001b[0m\n\u001b[0;32m     35\u001b[0m \u001b[39mself\u001b[39m\u001b[39m.\u001b[39msparql_conn\u001b[39m.\u001b[39msetQuery(sparql_str)\n\u001b[0;32m     36\u001b[0m \u001b[39mself\u001b[39m\u001b[39m.\u001b[39msparql_conn\u001b[39m.\u001b[39msetReturnFormat(return_format)\n\u001b[1;32m---> 37\u001b[0m \u001b[39mreturn\u001b[39;00m \u001b[39mself\u001b[39;49m\u001b[39m.\u001b[39;49msparql_conn\u001b[39m.\u001b[39;49mquery()\n",
      "File \u001b[1;32mc:\\Users\\Usuário\\Desktop\\BiblioKeia\\venv\\lib\\site-packages\\SPARQLWrapper\\Wrapper.py:960\u001b[0m, in \u001b[0;36mSPARQLWrapper.query\u001b[1;34m(self)\u001b[0m\n\u001b[0;32m    942\u001b[0m \u001b[39mdef\u001b[39;00m \u001b[39mquery\u001b[39m(\u001b[39mself\u001b[39m) \u001b[39m-\u001b[39m\u001b[39m>\u001b[39m \u001b[39m\"\u001b[39m\u001b[39mQueryResult\u001b[39m\u001b[39m\"\u001b[39m:\n\u001b[0;32m    943\u001b[0m     \u001b[39m\"\"\"\u001b[39;00m\n\u001b[0;32m    944\u001b[0m \u001b[39m    Execute the query.\u001b[39;00m\n\u001b[0;32m    945\u001b[0m \u001b[39m    Exceptions can be raised if either the URI is wrong or the HTTP sends back an error (this is also the\u001b[39;00m\n\u001b[1;32m   (...)\u001b[0m\n\u001b[0;32m    958\u001b[0m \u001b[39m    :rtype: :class:`QueryResult` instance\u001b[39;00m\n\u001b[0;32m    959\u001b[0m \u001b[39m    \"\"\"\u001b[39;00m\n\u001b[1;32m--> 960\u001b[0m     \u001b[39mreturn\u001b[39;00m QueryResult(\u001b[39mself\u001b[39;49m\u001b[39m.\u001b[39;49m_query())\n",
      "File \u001b[1;32mc:\\Users\\Usuário\\Desktop\\BiblioKeia\\venv\\lib\\site-packages\\SPARQLWrapper\\Wrapper.py:930\u001b[0m, in \u001b[0;36mSPARQLWrapper._query\u001b[1;34m(self)\u001b[0m\n\u001b[0;32m    928\u001b[0m \u001b[39mexcept\u001b[39;00m urllib\u001b[39m.\u001b[39merror\u001b[39m.\u001b[39mHTTPError \u001b[39mas\u001b[39;00m e:\n\u001b[0;32m    929\u001b[0m     \u001b[39mif\u001b[39;00m e\u001b[39m.\u001b[39mcode \u001b[39m==\u001b[39m \u001b[39m400\u001b[39m:\n\u001b[1;32m--> 930\u001b[0m         \u001b[39mraise\u001b[39;00m QueryBadFormed(e\u001b[39m.\u001b[39mread())\n\u001b[0;32m    931\u001b[0m     \u001b[39melif\u001b[39;00m e\u001b[39m.\u001b[39mcode \u001b[39m==\u001b[39m \u001b[39m404\u001b[39m:\n\u001b[0;32m    932\u001b[0m         \u001b[39mraise\u001b[39;00m EndPointNotFound(e\u001b[39m.\u001b[39mread())\n",
      "\u001b[1;31mQueryBadFormed\u001b[0m: QueryBadFormed: A bad request has been sent to the endpoint: probably the SPARQL query is badly formed. \n\nResponse:\nb'Lexical error at line 7, column 85.  Encountered: \"\\\\n\" (10), after : \"\\\\\\'PREFIX work: <https://bibliokeia.com/resources/work/>\"\\n'"
     ]
    }
   ],
   "source": [
    "def EditTitle(mainTitle, bkID):\n",
    "    acervoUpdate = FusekiUpdate('http://localhost:3030', 'acervo')\n",
    "    acervoQuery = FusekiQuery('http://localhost:3030', 'acervo')\n",
    "\n",
    "    prefix = \"\"\"PREFIX work: <https://bibliokeia.com/resources/work/>\n",
    "            PREFIX bf: <http://id.loc.gov/ontologies/bibframe/>\n",
    "            PREFIX rdfs: <http://www.w3.org/2000/01/rdf-schema#>\"\"\"\n",
    "\n",
    "    ask = prefix+\"\"\" ASK { graph work:\"\"\"+bkID+\"\"\"\n",
    "            {work:\"\"\"+bkID+\"\"\" bf:title ?o .\n",
    "            ?o bf:mainTitle '\"\"\"+mainTitle+\"' }}\"\"\"\n",
    "    response = acervoQuery.run_sparql(ask)\n",
    "    response = response.convert()\n",
    "\n",
    "    if not response['boolean']:\n",
    "        mainTitle = prefix+\"WITH work:\"+bkID+\"\"\"\n",
    "            DELETE {work:\"\"\"+bkID+\"\"\" bf:title ?o .\n",
    "                ?o bf:mainTitle ?t }\n",
    "            INSERT {work:\"\"\"+bkID+\"\"\" bf:title ?o .\n",
    "                ?o bf:mainTitle '\"\"\"+mainTitle+\"\"\"' }\n",
    "            WHERE {work:\"\"\"+bkID+\"\"\" bf:title ?o .\n",
    "                ?o bf:mainTitle ?t }\"\"\"\n",
    "        #acervoUpdate.run_sparql(mainTitle)\n",
    "\n",
    "        label = prefix+\"WITH work:\"+bkID+\"\"\"\n",
    "            DELETE {work:\"\"\"+bkID+\"\"\" bf:title ?o .\n",
    "                ?o rdfs:label ?t }\n",
    "            INSERT {work:\"\"\"+bkID+\"\"\" bf:title ?o .\n",
    "                ?o rdfs:label '\"\"\"+mainTitle+\"\"\"' }\n",
    "            WHERE {work:\"\"\"+bkID+\"\"\" bf:title ?o .\n",
    "                ?o rdfs:label ?t }\"\"\"\n",
    "        acervoUpdate.run_sparql(label)\n",
    "\n",
    "\n",
    "response = EditTitle(\"TITULO_1\", 'bk-2')\n",
    "response"
   ]
  },
  {
   "cell_type": "code",
   "execution_count": 156,
   "metadata": {},
   "outputs": [],
   "source": [
    "def EditTitle(mainTitle, bkID):\n",
    "\n",
    "    acervoUpdate = FusekiUpdate('http://localhost:3030', 'acervo')\n",
    "    acervoQuery = FusekiQuery('http://localhost:3030', 'acervo')\n",
    "\n",
    "    prefix = \"\"\"PREFIX work: <https://bibliokeia.com/resources/work/>\n",
    "                PREFIX bf: <http://id.loc.gov/ontologies/bibframe/>\n",
    "                PREFIX rdfs: <http://www.w3.org/2000/01/rdf-schema#>\"\"\"\n",
    "\n",
    "    ask = prefix+\"\"\" ASK { graph work:\"\"\"+bkID+\"\"\"\n",
    "            {work:\"\"\"+bkID+\"\"\" bf:title ?o .\n",
    "            ?o bf:mainTitle '\"\"\"+mainTitle+\"' }}\"\"\"\n",
    "    response = acervoQuery.run_sparql(ask)\n",
    "    response = response.convert()\n",
    "    if not response['boolean']:\n",
    "        \n",
    "        up = prefix+\"WITH work:\"+bkID+\"\"\"\n",
    "                    DELETE {work:\"\"\"+bkID+\"\"\" bf:title ?o .\n",
    "                        ?o bf:mainTitle ?t }\n",
    "                    INSERT {work:\"\"\"+bkID+\"\"\" bf:title ?o .\n",
    "                        ?o bf:mainTitle '\"\"\"+mainTitle+\"\"\"' }\n",
    "                    WHERE {work:\"\"\"+bkID+\"\"\" bf:title ?o .\n",
    "                        ?o bf:mainTitle ?t }\"\"\"\n",
    "\n",
    "        acervoUpdate.run_sparql(up)\n",
    "\n",
    "        label = prefix+\"WITH work:\"+bkID+\"\"\"\n",
    "                    DELETE {work:\"\"\"+bkID+\"\"\" bf:title ?o .\n",
    "                        ?o rdfs:label ?t }\n",
    "                    INSERT {work:\"\"\"+bkID+\"\"\" bf:title ?o .\n",
    "                        ?o rdfs:label '\"\"\"+mainTitle+\"\"\"' }\n",
    "                    WHERE {work:\"\"\"+bkID+\"\"\" bf:title ?o .\n",
    "                        ?o rdfs:label ?t }\"\"\"\n",
    "        acervoUpdate.run_sparql(label)\n",
    "\n",
    "EditTitle(\"TITULO_4\", \"bk-2\")"
   ]
  },
  {
   "cell_type": "code",
   "execution_count": 145,
   "metadata": {},
   "outputs": [],
   "source": [
    "prefix = \"\"\"PREFIX work: <https://bibliokeia.com/resources/work/>\n",
    "            PREFIX bf: <http://id.loc.gov/ontologies/bibframe/>\n",
    "            PREFIX rdfs: <http://www.w3.org/2000/01/rdf-schema#>\"\"\"\n",
    "            \n",
    "label = prefix+\"WITH work:\"+bkID+\"\"\"\n",
    "            DELETE {work:\"\"\"+bkID+\"\"\" bf:title ?o .\n",
    "                ?o rdfs:label ?t }\n",
    "            INSERT {work:\"\"\"+bkID+\"\"\" bf:title ?o .\n",
    "                ?o rdfs:label '\"\"\"+mainTitle+\"\"\"' }\n",
    "            WHERE {work:\"\"\"+bkID+\"\"\" bf:title ?o .\n",
    "                ?o rdfs:label ?t }\"\"\"\n",
    "res = acervoUpdate.run_sparql(label)\n",
    "                "
   ]
  },
  {
   "cell_type": "code",
   "execution_count": 146,
   "metadata": {},
   "outputs": [
    {
     "data": {
      "text/plain": [
       "{'statusCode': 200, 'message': 'Update succeeded'}"
      ]
     },
     "execution_count": 146,
     "metadata": {},
     "output_type": "execute_result"
    }
   ],
   "source": [
    "res.convert()"
   ]
  },
  {
   "cell_type": "code",
   "execution_count": 147,
   "metadata": {},
   "outputs": [
    {
     "data": {
      "text/plain": [
       "'TITULO ALTERADO'"
      ]
     },
     "execution_count": 147,
     "metadata": {},
     "output_type": "execute_result"
    }
   ],
   "source": [
    "mainTitle"
   ]
  }
 ],
 "metadata": {
  "kernelspec": {
   "display_name": "venv",
   "language": "python",
   "name": "python3"
  },
  "language_info": {
   "codemirror_mode": {
    "name": "ipython",
    "version": 3
   },
   "file_extension": ".py",
   "mimetype": "text/x-python",
   "name": "python",
   "nbconvert_exporter": "python",
   "pygments_lexer": "ipython3",
   "version": "3.10.4"
  },
  "orig_nbformat": 4,
  "vscode": {
   "interpreter": {
    "hash": "7c803f0ee3b2b2cd03f94fb28d6f360d094e6843888122798203f226e128b66e"
   }
  }
 },
 "nbformat": 4,
 "nbformat_minor": 2
}
