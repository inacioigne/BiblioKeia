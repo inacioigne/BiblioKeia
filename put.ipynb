{
 "cells": [
  {
   "cell_type": "code",
   "execution_count": 1,
   "metadata": {},
   "outputs": [],
   "source": [
    "from rdflib import URIRef, BNode, Literal\n",
    "from rdflib.namespace import RDF, RDFS\n",
    "from pyfuseki import FusekiUpdate, FusekiQuery\n",
    "from SPARQLWrapper import SPARQLWrapper, JSON\n",
    "from api.src.schemas.bibframe.work import Work_Schema"
   ]
  },
  {
   "cell_type": "code",
   "execution_count": 2,
   "metadata": {},
   "outputs": [],
   "source": [
    "acervoUpdate = FusekiUpdate('http://localhost:3030', 'acervo')\n",
    "acervoQuery = FusekiQuery('http://localhost:3030', 'acervo')"
   ]
  },
  {
   "attachments": {},
   "cell_type": "markdown",
   "metadata": {},
   "source": [
    "Title"
   ]
  },
  {
   "cell_type": "code",
   "execution_count": 3,
   "metadata": {},
   "outputs": [
    {
     "data": {
      "text/plain": [
       "Work_Schema(ID=None, content='Text', mainTitle='Conjecturas e refutações', subtitle='refutações', variantTitle=None, primaryContributionAgent='Inácio Oliveira', primaryContributionUri='n80032184', primaryContributionRole='aut', subjects=[Subject(label='Methodology', uri='https://bibliokeia.com/authorities/subjects/sh85103704'), Subject(label='Methodology', uri='https://bibliokeia.com/authorities/subjects/sh85103704')], language='Portugues', languageCode='por', cdd='584.6', cutter='A586w', serie=None, serieURI=None)"
      ]
     },
     "execution_count": 3,
     "metadata": {},
     "output_type": "execute_result"
    }
   ],
   "source": [
    "obj = {\n",
    "  \"content\": \"Text\",\n",
    "  \"mainTitle\": \"Conjecturas e refutações\",\n",
    "  \"subtitle\": \"refutações\",\n",
    "  \"primaryContributionAgent\": \"Inácio Oliveira\",\n",
    "  \"primaryContributionUri\": \"n80032184\",\n",
    "  \"primaryContributionRole\": \"aut\",\n",
    "  \"subjects\": [\n",
    "    {\n",
    "    \"label\": \"Methodology\",\n",
    "     \"uri\": \"https://bibliokeia.com/authorities/subjects/sh85103704\"\n",
    "    }, \n",
    "    {\n",
    "    \"label\": \"Methodology\",\n",
    "     \"uri\": \"https://bibliokeia.com/authorities/subjects/sh85103704\"\n",
    "    }\n",
    "  ],\n",
    "  \"language\": \"Portugues\",\n",
    "  \"languageCode\": \"por\",\n",
    "  \"cdd\": \"584.6\",\n",
    "  \"cutter\": \"A586w\"\n",
    "}\n",
    "\n",
    "request = Work_Schema(**obj)\n",
    "request\n"
   ]
  },
  {
   "cell_type": "code",
   "execution_count": 3,
   "metadata": {},
   "outputs": [],
   "source": [
    "acervoUpdate = FusekiUpdate('http://localhost:3030', 'acervo')\n",
    "acervoQuery = FusekiQuery('http://localhost:3030', 'acervo')"
   ]
  },
  {
   "cell_type": "code",
   "execution_count": 23,
   "metadata": {},
   "outputs": [
    {
     "data": {
      "text/plain": [
       "{'head': {}, 'boolean': False}"
      ]
     },
     "execution_count": 23,
     "metadata": {},
     "output_type": "execute_result"
    }
   ],
   "source": [
    "r = acervoQuery.run_sparql(\"\"\"PREFIX work: <https://bibliokeia.com/resources/work/>\n",
    "PREFIX bf: <http://id.loc.gov/ontologies/bibframe/>\n",
    "PREFIX rdf: <http://www.w3.org/1999/02/22-rdf-syntax-ns#>\n",
    "ASK { \n",
    "  graph work:bk-2\n",
    "  {work:bk-2 rdf:type bf:Texto}}\"\"\")\n",
    "r.convert()"
   ]
  },
  {
   "cell_type": "code",
   "execution_count": 99,
   "metadata": {},
   "outputs": [],
   "source": [
    "def Edit(contentType, bkID):\n",
    "\n",
    "    prefix = \"\"\"PREFIX work: <https://bibliokeia.com/resources/work/>\n",
    "                PREFIX bf: <http://id.loc.gov/ontologies/bibframe/>\n",
    "                PREFIX rdf: <http://www.w3.org/1999/02/22-rdf-syntax-ns#>\"\"\"\n",
    "    where = \"{work:\"+bkID+\" rdf:type ?o}\"\n",
    "                \n",
    "    select = prefix+\"SELECT * { graph work:bk-2 {work:\"+bkID+\" rdf:type ?o} }\"\n",
    "\n",
    "    response = acervoQuery.run_sparql(select)\n",
    "    response = response.convert()\n",
    "    bindings = response['results']['bindings']\n",
    "\n",
    "    for binding in bindings:\n",
    "        uri = binding['o']['value']\n",
    "        content = uri.split(\"/\")[-1]\n",
    "        if content != 'Work' and content != contentType:\n",
    "            where = \"{ work:\"+bkID+\" rdf:type bf:\"+content+\" }\"\n",
    "            up = prefix+\"WITH work:\"+bkID+\"\"\"\n",
    "            DELETE \"\"\"+where+\"\"\"\n",
    "            INSERT { work:\"\"\"+bkID+\" rdf:type bf:\"+contentType+\"\"\" }\n",
    "            WHERE \"\"\"+where\n",
    "            acervoUpdate.run_sparql(up)\n",
    "\n",
    "\n",
    "Edit(\"Text\", \"bk-2\")"
   ]
  },
  {
   "attachments": {},
   "cell_type": "markdown",
   "metadata": {},
   "source": [
    "TITLE"
   ]
  },
  {
   "cell_type": "code",
   "execution_count": 7,
   "metadata": {},
   "outputs": [
    {
     "name": "stdout",
     "output_type": "stream",
     "text": [
      "PRECISA INCLUIR SUBTITULO\n"
     ]
    }
   ],
   "source": [
    "def EditTitle(mainTitle, bkID):\n",
    "\n",
    "    acervoUpdate = FusekiUpdate('http://localhost:3030', 'acervo')\n",
    "    acervoQuery = FusekiQuery('http://localhost:3030', 'acervo')\n",
    "\n",
    "    prefix = \"\"\"PREFIX work: <https://bibliokeia.com/resources/work/>\n",
    "                PREFIX bf: <http://id.loc.gov/ontologies/bibframe/>\n",
    "                PREFIX rdfs: <http://www.w3.org/2000/01/rdf-schema#>\"\"\"\n",
    "    # Main Title\n",
    "    ask = prefix+\"\"\" ASK { graph work:\"\"\"+bkID+\"\"\"\n",
    "            {work:\"\"\"+bkID+\"\"\" bf:title ?o .\n",
    "            ?o bf:mainTitle '\"\"\"+mainTitle+\"' }}\"\"\"\n",
    "    response = acervoQuery.run_sparql(ask)\n",
    "    response = response.convert()\n",
    "\n",
    "    if not response['boolean']:  \n",
    "        up = prefix+\"WITH work:\"+bkID+\"\"\"\n",
    "                    DELETE {work:\"\"\"+bkID+\"\"\" bf:title ?o .\n",
    "                        ?o bf:mainTitle ?t }\n",
    "                    INSERT {work:\"\"\"+bkID+\"\"\" bf:title ?o .\n",
    "                        ?o bf:mainTitle '\"\"\"+mainTitle+\"\"\"' }\n",
    "                    WHERE {work:\"\"\"+bkID+\"\"\" bf:title ?o .\n",
    "                        ?o bf:mainTitle ?t }\"\"\"\n",
    "\n",
    "        acervoUpdate.run_sparql(up)\n",
    "\n",
    "        label = prefix+\"WITH work:\"+bkID+\"\"\"\n",
    "                    DELETE {work:\"\"\"+bkID+\"\"\" bf:title ?o .\n",
    "                        ?o rdfs:label ?t }\n",
    "                    INSERT {work:\"\"\"+bkID+\"\"\" bf:title ?o .\n",
    "                        ?o rdfs:label '\"\"\"+mainTitle+\"\"\"' }\n",
    "                    WHERE {work:\"\"\"+bkID+\"\"\" bf:title ?o .\n",
    "                        ?o rdfs:label ?t }\"\"\"\n",
    "        acervoUpdate.run_sparql(label)\n",
    "    \n",
    "    # Subtitle\n",
    "    askSubtitle = prefix+\"\"\" ASK { graph work:\"\"\"+bkID+\"\"\"\n",
    "            {work:\"\"\"+bkID+\"\"\" bf:title ?o .\n",
    "            ?o bf:subtitle '\"\"\"+mainTitle+\"' }}\"\"\"\n",
    "    \n",
    "    askResponse = acervoQuery.run_sparql(askSubtitle)\n",
    "    askResponse = askResponse.convert()\n",
    "    if not askResponse['boolean']: \n",
    "        print('PRECISA INCLUIR SUBTITULO')\n",
    "    else:\n",
    "        print('NÃO PRECISA FAZER NADA')\n",
    "\n",
    "\n",
    "\n",
    "EditTitle(\"TITULO_5\", \"bk-2\")"
   ]
  },
  {
   "cell_type": "code",
   "execution_count": 42,
   "metadata": {},
   "outputs": [],
   "source": [
    "acervoUpdate = FusekiUpdate('http://localhost:3030', 'acervo')\n",
    "acervoQuery = FusekiQuery('http://localhost:3030', 'acervo')"
   ]
  },
  {
   "cell_type": "code",
   "execution_count": 65,
   "metadata": {},
   "outputs": [
    {
     "name": "stdout",
     "output_type": "stream",
     "text": [
      "SUBTITULO NÃO EXISTE\n"
     ]
    }
   ],
   "source": [
    "def EditSubtitle(subtitle, title,  bkID):    \n",
    "\n",
    "    acervoUpdate = FusekiUpdate('http://localhost:3030', 'acervo')\n",
    "    acervoQuery = FusekiQuery('http://localhost:3030', 'acervo')\n",
    "\n",
    "    prefix = \"\"\"PREFIX work: <https://bibliokeia.com/resources/work/>\n",
    "                PREFIX bf: <http://id.loc.gov/ontologies/bibframe/>\n",
    "                PREFIX rdf: <http://www.w3.org/1999/02/22-rdf-syntax-ns#>\n",
    "                PREFIX rdfs: <http://www.w3.org/2000/01/rdf-schema#>\"\"\"\n",
    "    \n",
    "    subtitleSame = prefix+\"\"\" ASK { graph work:\"\"\"+bkID+\"\"\"\n",
    "            {work:\"\"\"+bkID+\"\"\" bf:title ?o .\n",
    "            ?o bf:subtitle '\"\"\"+subtitle+\"' }}\"\n",
    "    \n",
    "    askSubtitleSame = acervoQuery.run_sparql(subtitleSame)\n",
    "    askSubtitleSame = askSubtitleSame.convert()\n",
    "\n",
    "    if not askSubtitleSame['boolean']:\n",
    "        subtitleExist = prefix+\"\"\" ASK { graph work:\"\"\"+bkID+\"\"\"\n",
    "            {work:\"\"\"+bkID+\"\"\" bf:title ?o .\n",
    "            ?o bf:subtitle ?subtitle }}\"\"\"\n",
    "        askSubtitleExist = acervoQuery.run_sparql(subtitleExist)\n",
    "        askSubtitleExist = askSubtitleExist.convert()\n",
    "\n",
    "        if askSubtitleExist['boolean']:\n",
    "            up = prefix+\"WITH work:\"+bkID+\"\"\"\n",
    "                DELETE {work:\"\"\"+bkID+\"\"\" bf:title ?o .\n",
    "                        ?o ?p ?t }\n",
    "                    INSERT {work:\"\"\"+bkID+\"\"\" bf:title ?o .\n",
    "                    ?o rdf:type bf:Title .\n",
    "                        ?o bf:mainTitle '\"\"\"+title+\"\"\"' .\n",
    "                        ?o bf:subtitle '\"\"\"+subtitle+\"\"\"'\n",
    "                          }\n",
    "                    WHERE {work:\"\"\"+bkID+\"\"\" bf:title ?o .\n",
    "                        ?o ?p ?t }\"\"\"\n",
    "            acervoUpdate.run_sparql(up)\n",
    "        else:\n",
    "            up = prefix+\"INSERT DATA { GRAPH work:\"+bkID+\" { work:\"+bkID+\"\"\"  bf:title [\n",
    "                        rdf:type bf:Title;\n",
    "                        bf:mainTitle '\"\"\"+title+\"\"\"' ;\n",
    "                        bf:subtitle '\"\"\"+subtitle+\"\"\"' ] . } }\"\"\"\n",
    "            acervoUpdate.run_sparql(up)\n",
    "\n",
    "\n",
    "EditSubtitle(\"Subtitulo\", \"Titulo\", \"bk-2\")  "
   ]
  },
  {
   "attachments": {},
   "cell_type": "markdown",
   "metadata": {},
   "source": [
    "DELETE"
   ]
  },
  {
   "cell_type": "code",
   "execution_count": 64,
   "metadata": {},
   "outputs": [
    {
     "data": {
      "text/plain": [
       "{'statusCode': 200, 'message': 'Update succeeded'}"
      ]
     },
     "execution_count": 64,
     "metadata": {},
     "output_type": "execute_result"
    }
   ],
   "source": [
    "prefix = \"\"\"PREFIX work: <https://bibliokeia.com/resources/work/>\n",
    "                PREFIX bf: <http://id.loc.gov/ontologies/bibframe/>\n",
    "                PREFIX rdf: <http://www.w3.org/1999/02/22-rdf-syntax-ns#>\n",
    "                PREFIX rdfs: <http://www.w3.org/2000/01/rdf-schema#>\"\"\"\n",
    "\n",
    "up = prefix+\"WITH work:\"+bkID+\"\"\"\n",
    "                DELETE {work:\"\"\"+bkID+\"\"\" bf:title ?o .\n",
    "                        ?o ?p ?t }\n",
    "                WHERE {work:\"\"\"+bkID+\"\"\" bf:title ?o .\n",
    "                        ?o ?p ?t }\"\"\"\n",
    "\n",
    "response = acervoUpdate.run_sparql(up)\n",
    "response = response.convert()\n",
    "response"
   ]
  },
  {
   "cell_type": "code",
   "execution_count": 21,
   "metadata": {},
   "outputs": [
    {
     "data": {
      "text/plain": [
       "'Autor'"
      ]
     },
     "execution_count": 21,
     "metadata": {},
     "output_type": "execute_result"
    }
   ],
   "source": [
    "bkID = 'bk-1'\n",
    "request.primaryContributionRole"
   ]
  },
  {
   "attachments": {},
   "cell_type": "markdown",
   "metadata": {},
   "source": [
    "AUTOR"
   ]
  },
  {
   "cell_type": "code",
   "execution_count": 24,
   "metadata": {},
   "outputs": [
    {
     "data": {
      "text/plain": [
       "{'head': {}, 'boolean': False}"
      ]
     },
     "execution_count": 24,
     "metadata": {},
     "output_type": "execute_result"
    }
   ],
   "source": [
    "askRole = prefix+\"ASK { graph work:\"+bkID+\"\"\"\n",
    "                    {work:\"\"\"+bkID+\"\"\" bf:contribution ?o .\n",
    "                        ?o bf:role <http://id.loc.gov/vocabulary/relators/\"\"\"+request.primaryContributionRole+\"\"\"> }}\"\"\"\n",
    "response = acervoQuery.run_sparql(askRole)\n",
    "response = response.convert()\n",
    "response"
   ]
  },
  {
   "cell_type": "markdown",
   "metadata": {},
   "source": [
    "Subjects"
   ]
  },
  {
   "cell_type": "code",
   "execution_count": 3,
   "metadata": {},
   "outputs": [
    {
     "data": {
      "text/plain": [
       "Work_Schema(ID=None, content='text', mainTitle='Conjecturas e refutações', subtitle='refutações', variantTitle=None, primaryContributionAgent='Inácio Oliveira', primaryContributionUri='n80032184', primaryContributionRole='Autor', subjects=[Subject(label='Methodology', uri='https://bibliokeia.com/authorities/subjects/sh85103704'), Subject(label='Ciência', uri='https://bibliokeia.com/authorities/subjects/n80002329')], language='Portugues', languageCode='por', cdd='584.6', cutter='A586w', serie=None, serieURI=None)"
      ]
     },
     "execution_count": 3,
     "metadata": {},
     "output_type": "execute_result"
    }
   ],
   "source": [
    "obj = {\n",
    "  \"content\": \"Text\",\n",
    "  \"mainTitle\": \"MUDADDO\",\n",
    "  \"subtitle\": \"refutações\",\n",
    "  \"primaryContributionAgent\": \"Inácio Oliveira\",\n",
    "  \"primaryContributionUri\": \"n80032184\",\n",
    "  \"primaryContributionRole\": \"aut\",\n",
    "  \"subjects\": [\n",
    "    {\n",
    "    \"label\": \"Methodology\",\n",
    "     \"uri\": \"https://bibliokeia.com/authorities/subjects/sh85103704\"\n",
    "    }, \n",
    "    {\n",
    "    \"label\": \"Ciência\",\n",
    "     \"uri\": \"https://bibliokeia.com/authorities/subjects/n80002329\"\n",
    "    },\n",
    "    {\n",
    "    \"label\": \"Manga\",\n",
    "     \"uri\": \"https://bibliokeia.com/authorities/subjects/sh85084414\"\n",
    "    }    \n",
    "  ],\n",
    "  \"language\": \"Portugues\",\n",
    "  \"languageCode\": \"por\",\n",
    "  \"cdd\": \"584.6\",\n",
    "  \"cutter\": \"A586w\"\n",
    "}\n",
    "\n",
    "request = Work_Schema(**obj)\n",
    "request"
   ]
  },
  {
   "cell_type": "code",
   "execution_count": 6,
   "metadata": {},
   "outputs": [],
   "source": [
    "prefix = \"\"\"PREFIX work: <https://bibliokeia.com/resources/work/>\n",
    "    PREFIX rdf: <http://www.w3.org/1999/02/22-rdf-syntax-ns#>\n",
    "    PREFIX bf: <http://id.loc.gov/ontologies/bibframe/>\n",
    "    PREFIX rdfs: <http://www.w3.org/2000/01/rdf-schema#>\"\"\""
   ]
  },
  {
   "cell_type": "code",
   "execution_count": 5,
   "metadata": {},
   "outputs": [
    {
     "name": "stdout",
     "output_type": "stream",
     "text": [
      "https://bibliokeia.com/authorities/subjects/sh85103704\n",
      "https://bibliokeia.com/authorities/subjects/n80002329\n"
     ]
    }
   ],
   "source": [
    "\n",
    "listSubjects = list()\n",
    "for subject in request.subjects:\n",
    "    askSubject = prefix+\"ASK { graph work:\"+bkID+\"\"\"\n",
    "                    {work:\"\"\"+bkID+\"\"\" bf:subject <\"\"\"+subject.uri+\"> . }}\"\n",
    "    response = acervoQuery.run_sparql(askSubject)\n",
    "    response = response.convert()\n",
    "    listSubjects.append(response['boolean'])\n",
    "    print(subject.uri)"
   ]
  },
  {
   "cell_type": "code",
   "execution_count": 13,
   "metadata": {},
   "outputs": [
    {
     "name": "stdout",
     "output_type": "stream",
     "text": [
      "[' bf:subject <https://bibliokeia.com/authorities/subjects/sh85103704> ', ' bf:subject <https://bibliokeia.com/authorities/subjects/n80002329> ']\n"
     ]
    }
   ],
   "source": [
    "slist = list()\n",
    "for subject in request.subjects:\n",
    "    s = f\" bf:subject <{subject.uri}> \"\n",
    "    slist.append(s)\n",
    "sub = \"; \".join(slist)\n",
    "print(slist)"
   ]
  },
  {
   "cell_type": "code",
   "execution_count": 16,
   "metadata": {},
   "outputs": [
    {
     "data": {
      "text/plain": [
       "<SPARQLWrapper.Wrapper.QueryResult at 0x1db44505870>"
      ]
     },
     "execution_count": 16,
     "metadata": {},
     "output_type": "execute_result"
    }
   ],
   "source": [
    "up = prefix+\"WITH work:\"+bkID+\"\"\"\n",
    "                DELETE {work:\"\"\"+bkID+\"\"\" bf:subject ?o }\n",
    "                INSERT {work:\"\"\"+bkID+sub+\"\"\" }\n",
    "                WHERE {work:\"\"\"+bkID+\"\"\" bf:subject ?o }\"\"\"\n",
    "acervoUpdate.run_sparql(up)"
   ]
  },
  {
   "attachments": {},
   "cell_type": "markdown",
   "metadata": {},
   "source": [
    "Language"
   ]
  },
  {
   "cell_type": "code",
   "execution_count": 25,
   "metadata": {},
   "outputs": [
    {
     "data": {
      "text/plain": [
       "'por'"
      ]
     },
     "execution_count": 25,
     "metadata": {},
     "output_type": "execute_result"
    }
   ],
   "source": [
    "request.languageCode"
   ]
  },
  {
   "cell_type": "code",
   "execution_count": 27,
   "metadata": {},
   "outputs": [
    {
     "data": {
      "text/plain": [
       "{'head': {}, 'boolean': True}"
      ]
     },
     "execution_count": 27,
     "metadata": {},
     "output_type": "execute_result"
    }
   ],
   "source": [
    "askLanguage = prefix+\"ASK { graph work:\"+bkID+\"\"\"\n",
    "                    {work:\"\"\"+bkID+\" bf:language <http://id.loc.gov/vocabulary/languages/\"+request.languageCode+\"\"\"> }} \"\"\"\n",
    "response = acervoQuery.run_sparql(askLanguage)\n",
    "response = response.convert()\n",
    "response"
   ]
  },
  {
   "attachments": {},
   "cell_type": "markdown",
   "metadata": {},
   "source": [
    "Classification"
   ]
  },
  {
   "cell_type": "code",
   "execution_count": 8,
   "metadata": {},
   "outputs": [],
   "source": [
    "bkID = 'bk-1'"
   ]
  },
  {
   "cell_type": "code",
   "execution_count": 9,
   "metadata": {},
   "outputs": [
    {
     "data": {
      "text/plain": [
       "{'head': {}, 'boolean': False}"
      ]
     },
     "execution_count": 9,
     "metadata": {},
     "output_type": "execute_result"
    }
   ],
   "source": [
    "askClassification = prefix+\"ASK { graph work:\"+bkID+\"\"\"\n",
    "                    {work:\"\"\"+bkID+\"\"\" bf:classification ?obj .\n",
    "                        ?obj bf:classificationPortion \"\"\"+request.cdd+\" }} \"\n",
    "response = acervoQuery.run_sparql(askClassification)\n",
    "response = response.convert()\n",
    "response"
   ]
  },
  {
   "cell_type": "code",
   "execution_count": 10,
   "metadata": {},
   "outputs": [
    {
     "data": {
      "text/plain": [
       "'A586w'"
      ]
     },
     "execution_count": 10,
     "metadata": {},
     "output_type": "execute_result"
    }
   ],
   "source": [
    "request.cutter"
   ]
  },
  {
   "cell_type": "code",
   "execution_count": 15,
   "metadata": {},
   "outputs": [
    {
     "data": {
      "text/plain": [
       "{'head': {}, 'boolean': True}"
      ]
     },
     "execution_count": 15,
     "metadata": {},
     "output_type": "execute_result"
    }
   ],
   "source": [
    "askCutter = prefix+\"ASK { graph work:\"+bkID+\"\"\"\n",
    "                    {work:\"\"\"+bkID+\"\"\" bf:classification ?obj .\n",
    "                        ?obj bf:itemPortion '\"\"\"+request.cutter+\"' }} \"\n",
    "responseCutter = acervoQuery.run_sparql(askCutter)\n",
    "responseCutter = responseCutter.convert()\n",
    "responseCutter"
   ]
  },
  {
   "cell_type": "code",
   "execution_count": 39,
   "metadata": {},
   "outputs": [
    {
     "data": {
      "text/plain": [
       "<SPARQLWrapper.Wrapper.QueryResult at 0x1db45ca7220>"
      ]
     },
     "execution_count": 39,
     "metadata": {},
     "output_type": "execute_result"
    }
   ],
   "source": [
    "up = prefix+\"WITH work:\"+bkID+\"\"\"\n",
    "                DELETE {work:\"\"\"+bkID+\"\"\" bf:classification ?obj . \n",
    "                   ?obj ?p ?o }\n",
    "                WHERE {work:\"\"\"+bkID+\"\"\" bf:classification ?obj .\n",
    "                   ?obj ?p ?o }\"\"\"\n",
    "acervoUpdate.run_sparql(up)"
   ]
  },
  {
   "cell_type": "code",
   "execution_count": 16,
   "metadata": {},
   "outputs": [
    {
     "data": {
      "text/plain": [
       "<SPARQLWrapper.Wrapper.QueryResult at 0x19f18bdd0d0>"
      ]
     },
     "execution_count": 16,
     "metadata": {},
     "output_type": "execute_result"
    }
   ],
   "source": [
    "up = prefix+\"WITH work:\"+bkID+\"\"\"\n",
    "               DELETE {work:\"\"\"+bkID+\"\"\" bf:classification ?obj . \n",
    "                   ?obj ?p ?o }\n",
    "                INSERT {work:\"\"\"+bkID+\"\"\" bf:classification ?obj . \n",
    "                  ?obj rdf:type bf:ClassificationDdc .\n",
    "                  ?obj bf:classificationPortion \"\"\"+request.cdd+\"\"\" . \n",
    "                  ?obj bf:itemPortion '\"\"\"+request.cutter+\"\"\"'  }\n",
    "                WHERE {work:\"\"\"+bkID+\"\"\" bf:classification ?obj .\n",
    "                   ?obj ?p ?o }\"\"\"\n",
    "acervoUpdate.run_sparql(up)"
   ]
  }
 ],
 "metadata": {
  "kernelspec": {
   "display_name": "Python 3.11.0 ('venv': venv)",
   "language": "python",
   "name": "python3"
  },
  "language_info": {
   "codemirror_mode": {
    "name": "ipython",
    "version": 3
   },
   "file_extension": ".py",
   "mimetype": "text/x-python",
   "name": "python",
   "nbconvert_exporter": "python",
   "pygments_lexer": "ipython3",
   "version": "3.11.0"
  },
  "orig_nbformat": 4,
  "vscode": {
   "interpreter": {
    "hash": "5df21a170a08fe7c24b5b1091267edae5bad3984f1116f28e957af7dd8f192dc"
   }
  }
 },
 "nbformat": 4,
 "nbformat_minor": 2
}
