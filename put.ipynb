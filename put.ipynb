{
 "cells": [
  {
   "cell_type": "code",
   "execution_count": 1,
   "metadata": {},
   "outputs": [],
   "source": [
    "from rdflib import URIRef, BNode, Literal\n",
    "from rdflib.namespace import RDF, RDFS\n",
    "from pyfuseki import FusekiUpdate, FusekiQuery\n",
    "from SPARQLWrapper import SPARQLWrapper, JSON\n",
    "from api.src.schemas.bibframe.work import Work_Schema"
   ]
  },
  {
   "cell_type": "code",
   "execution_count": 2,
   "metadata": {},
   "outputs": [],
   "source": [
    "acervoUpdate = FusekiUpdate('http://localhost:3030', 'acervo')\n",
    "acervoQuery = FusekiQuery('http://localhost:3030', 'acervo')"
   ]
  },
  {
   "attachments": {},
   "cell_type": "markdown",
   "metadata": {},
   "source": [
    "Title"
   ]
  },
  {
   "cell_type": "code",
   "execution_count": 3,
   "metadata": {},
   "outputs": [
    {
     "data": {
      "text/plain": [
       "Work_Schema(work_id=None, contentType='Texto', mainTitle='TESTE', subtitle='', variantTitle=None, contributionAgent='Popper, Karl R. (Karl Raimund), 1902-1994', contributionID='n80032184', contributionRole='Autor', contributionRoleUri='http://id.loc.gov/vocabulary/relators/aut', contributionUri='https://bibliokeia.com/authorities/names/n80032184', subjects=[Subject(label='Metodologia', uri='https://bibliokeia.com/authorities/subjects/sh85084414'), Subject(label='Ciência', uri='https://bibliokeia.com/authorities/subjects/sh85118553')], language='', languageCode='', cdd='548.2', cutter='A587s', serie='Pensamento científico', serieURI='https://bibliokeia.com/resources/hub/bk-1')"
      ]
     },
     "execution_count": 3,
     "metadata": {},
     "output_type": "execute_result"
    }
   ],
   "source": [
    "obj = {\n",
    "    \"title\": \"TESTE\",\n",
    "    \"typeLabel\": \"Texto\",\n",
    "    \"contribution\": \"Popper, Karl R. (Karl Raimund), 1902-1994\",\n",
    "    \"serie\": \"Pensamento científico\",\n",
    "    \"hasInstance\": \"https://bibliokeia.com/resources/instance/bk-3\",\n",
    "    \"instanceID\": \"bk-3\",\n",
    "    \"contentType\": \"Texto\",\n",
    "    \"mainTitle\": \"TESTE\",\n",
    "    \"subtitle\": \"\",\n",
    "    \"contributionAgent\": \"Popper, Karl R. (Karl Raimund), 1902-1994\",\n",
    "    \"contributionRole\": \"Autor\",\n",
    "    \"contributionRoleUri\": \"http://id.loc.gov/vocabulary/relators/aut\",\n",
    "    \"contributionUri\": \"https://bibliokeia.com/authorities/names/n80032184\",\n",
    "    \"contributionID\": \"n80032184\",\n",
    "    \"subjects\": [\n",
    "        {\n",
    "            \"uri\": \"https://bibliokeia.com/authorities/subjects/sh85084414\",\n",
    "            \"label\": \"Metodologia\"\n",
    "        },\n",
    "        {\n",
    "            \"uri\": \"https://bibliokeia.com/authorities/subjects/sh85118553\",\n",
    "            \"label\": \"Ciência\"\n",
    "        }\n",
    "    ],\n",
    "    \"language\": \"\",\n",
    "    \"languageCode\": \"\",\n",
    "    \"cdd\": \"548.2\",\n",
    "    \"cutter\": \"A587s\",\n",
    "    \"serieURI\": \"https://bibliokeia.com/resources/hub/bk-1\"\n",
    "}\n",
    "\n",
    "work = Work_Schema(**obj)\n",
    "work\n"
   ]
  },
  {
   "cell_type": "code",
   "execution_count": 27,
   "metadata": {},
   "outputs": [],
   "source": [
    "acervoUpdate = FusekiUpdate('http://localhost:3030', 'acervo')\n",
    "acervoQuery = FusekiQuery('http://localhost:3030', 'acervo')"
   ]
  },
  {
   "cell_type": "code",
   "execution_count": 63,
   "metadata": {},
   "outputs": [
    {
     "data": {
      "text/plain": [
       "{'head': {}, 'boolean': True}"
      ]
     },
     "execution_count": 63,
     "metadata": {},
     "output_type": "execute_result"
    }
   ],
   "source": [
    "r = acervoQuery.run_sparql(\"\"\"PREFIX work: <https://bibliokeia.com/resources/work/>\n",
    "PREFIX bf: <http://id.loc.gov/ontologies/bibframe/>\n",
    "PREFIX rdf: <http://www.w3.org/1999/02/22-rdf-syntax-ns#>\n",
    "ASK { \n",
    "  graph work:bk-2\n",
    "  {work:bk-2 rdf:type bf:Texto}}\"\"\")\n",
    "r.convert()"
   ]
  },
  {
   "cell_type": "code",
   "execution_count": 80,
   "metadata": {},
   "outputs": [
    {
     "name": "stdout",
     "output_type": "stream",
     "text": [
      "PRECISA ALTERAR\n"
     ]
    }
   ],
   "source": [
    "acervoUpdate = FusekiUpdate('http://localhost:3030', 'acervo')\n",
    "acervoQuery = FusekiQuery('http://localhost:3030', 'acervo')\n",
    "\n",
    "def EditTypeWork(contentType, bkID):\n",
    "        \n",
    "        prefix = \"\"\"PREFIX work: <https://bibliokeia.com/resources/work/>\n",
    "            PREFIX bf: <http://id.loc.gov/ontologies/bibframe/>\n",
    "            PREFIX rdf: <http://www.w3.org/1999/02/22-rdf-syntax-ns#>\"\"\"\n",
    "        where = \"{work:\"+bkID+\" rdf:type bf:\"+contentType+\"}\"\n",
    "            \n",
    "        ask = prefix+\"ASK { graph work:bk-2 \"+where+\" }\"\n",
    "\n",
    "        response = acervoQuery.run_sparql(ask)\n",
    "        response = response.convert()\n",
    "    \n",
    "        if not response['boolean']:\n",
    "            up = prefix+\"WITH work:\"+bkID+\"\"\"\n",
    "            DELETE { work:\"\"\"+bkID+\"\"\" rdf:type bf:Texto }\n",
    "            INSERT { work:\"\"\"+bkID+\"\"\" rdf:type bf:Texto }\n",
    "            WHERE \"\"\"+where\n",
    "            acervoUpdate.run_sparql(up)\n",
    "            print(\"PRECISA ALTERAR\")\n",
    "        else:\n",
    "            print(\"NÃO PRECISA ALTERAR NADA\")\n",
    "    \n",
    "EditTypeWork(\"Textox\", \"bk-2\")\n"
   ]
  },
  {
   "cell_type": "code",
   "execution_count": 99,
   "metadata": {},
   "outputs": [],
   "source": [
    "def Edit(contentType, bkID):\n",
    "\n",
    "    prefix = \"\"\"PREFIX work: <https://bibliokeia.com/resources/work/>\n",
    "                PREFIX bf: <http://id.loc.gov/ontologies/bibframe/>\n",
    "                PREFIX rdf: <http://www.w3.org/1999/02/22-rdf-syntax-ns#>\"\"\"\n",
    "    where = \"{work:\"+bkID+\" rdf:type ?o}\"\n",
    "                \n",
    "    select = prefix+\"SELECT * { graph work:bk-2 {work:\"+bkID+\" rdf:type ?o} }\"\n",
    "\n",
    "    response = acervoQuery.run_sparql(select)\n",
    "    response = response.convert()\n",
    "    bindings = response['results']['bindings']\n",
    "\n",
    "    for binding in bindings:\n",
    "        uri = binding['o']['value']\n",
    "        content = uri.split(\"/\")[-1]\n",
    "        if content != 'Work' and content != contentType:\n",
    "            where = \"{ work:\"+bkID+\" rdf:type bf:\"+content+\" }\"\n",
    "            up = prefix+\"WITH work:\"+bkID+\"\"\"\n",
    "            DELETE \"\"\"+where+\"\"\"\n",
    "            INSERT { work:\"\"\"+bkID+\" rdf:type bf:\"+contentType+\"\"\" }\n",
    "            WHERE \"\"\"+where\n",
    "            acervoUpdate.run_sparql(up)\n",
    "\n",
    "\n",
    "Edit(\"Text\", \"bk-2\")"
   ]
  },
  {
   "attachments": {},
   "cell_type": "markdown",
   "metadata": {},
   "source": [
    "TITLE"
   ]
  },
  {
   "cell_type": "code",
   "execution_count": 7,
   "metadata": {},
   "outputs": [
    {
     "name": "stdout",
     "output_type": "stream",
     "text": [
      "PRECISA INCLUIR SUBTITULO\n"
     ]
    }
   ],
   "source": [
    "def EditTitle(mainTitle, bkID):\n",
    "\n",
    "    acervoUpdate = FusekiUpdate('http://localhost:3030', 'acervo')\n",
    "    acervoQuery = FusekiQuery('http://localhost:3030', 'acervo')\n",
    "\n",
    "    prefix = \"\"\"PREFIX work: <https://bibliokeia.com/resources/work/>\n",
    "                PREFIX bf: <http://id.loc.gov/ontologies/bibframe/>\n",
    "                PREFIX rdfs: <http://www.w3.org/2000/01/rdf-schema#>\"\"\"\n",
    "    # Main Title\n",
    "    ask = prefix+\"\"\" ASK { graph work:\"\"\"+bkID+\"\"\"\n",
    "            {work:\"\"\"+bkID+\"\"\" bf:title ?o .\n",
    "            ?o bf:mainTitle '\"\"\"+mainTitle+\"' }}\"\"\"\n",
    "    response = acervoQuery.run_sparql(ask)\n",
    "    response = response.convert()\n",
    "\n",
    "    if not response['boolean']:  \n",
    "        up = prefix+\"WITH work:\"+bkID+\"\"\"\n",
    "                    DELETE {work:\"\"\"+bkID+\"\"\" bf:title ?o .\n",
    "                        ?o bf:mainTitle ?t }\n",
    "                    INSERT {work:\"\"\"+bkID+\"\"\" bf:title ?o .\n",
    "                        ?o bf:mainTitle '\"\"\"+mainTitle+\"\"\"' }\n",
    "                    WHERE {work:\"\"\"+bkID+\"\"\" bf:title ?o .\n",
    "                        ?o bf:mainTitle ?t }\"\"\"\n",
    "\n",
    "        acervoUpdate.run_sparql(up)\n",
    "\n",
    "        label = prefix+\"WITH work:\"+bkID+\"\"\"\n",
    "                    DELETE {work:\"\"\"+bkID+\"\"\" bf:title ?o .\n",
    "                        ?o rdfs:label ?t }\n",
    "                    INSERT {work:\"\"\"+bkID+\"\"\" bf:title ?o .\n",
    "                        ?o rdfs:label '\"\"\"+mainTitle+\"\"\"' }\n",
    "                    WHERE {work:\"\"\"+bkID+\"\"\" bf:title ?o .\n",
    "                        ?o rdfs:label ?t }\"\"\"\n",
    "        acervoUpdate.run_sparql(label)\n",
    "    \n",
    "    # Subtitle\n",
    "    askSubtitle = prefix+\"\"\" ASK { graph work:\"\"\"+bkID+\"\"\"\n",
    "            {work:\"\"\"+bkID+\"\"\" bf:title ?o .\n",
    "            ?o bf:subtitle '\"\"\"+mainTitle+\"' }}\"\"\"\n",
    "    \n",
    "    askResponse = acervoQuery.run_sparql(askSubtitle)\n",
    "    askResponse = askResponse.convert()\n",
    "    if not askResponse['boolean']: \n",
    "        print('PRECISA INCLUIR SUBTITULO')\n",
    "    else:\n",
    "        print('NÃO PRECISA FAZER NADA')\n",
    "\n",
    "\n",
    "\n",
    "EditTitle(\"TITULO_5\", \"bk-2\")"
   ]
  },
  {
   "cell_type": "code",
   "execution_count": 6,
   "metadata": {},
   "outputs": [],
   "source": [
    "acervoUpdate = FusekiUpdate('http://localhost:3030', 'acervo')\n",
    "acervoQuery = FusekiQuery('http://localhost:3030', 'acervo')"
   ]
  },
  {
   "cell_type": "code",
   "execution_count": 65,
   "metadata": {},
   "outputs": [
    {
     "name": "stdout",
     "output_type": "stream",
     "text": [
      "SUBTITULO NÃO EXISTE\n"
     ]
    }
   ],
   "source": [
    "def EditSubtitle(subtitle, title,  bkID):    \n",
    "\n",
    "    acervoUpdate = FusekiUpdate('http://localhost:3030', 'acervo')\n",
    "    acervoQuery = FusekiQuery('http://localhost:3030', 'acervo')\n",
    "\n",
    "    prefix = \"\"\"PREFIX work: <https://bibliokeia.com/resources/work/>\n",
    "                PREFIX bf: <http://id.loc.gov/ontologies/bibframe/>\n",
    "                PREFIX rdf: <http://www.w3.org/1999/02/22-rdf-syntax-ns#>\n",
    "                PREFIX rdfs: <http://www.w3.org/2000/01/rdf-schema#>\"\"\"\n",
    "    \n",
    "    subtitleSame = prefix+\"\"\" ASK { graph work:\"\"\"+bkID+\"\"\"\n",
    "            {work:\"\"\"+bkID+\"\"\" bf:title ?o .\n",
    "            ?o bf:subtitle '\"\"\"+subtitle+\"' }}\"\n",
    "    \n",
    "    askSubtitleSame = acervoQuery.run_sparql(subtitleSame)\n",
    "    askSubtitleSame = askSubtitleSame.convert()\n",
    "\n",
    "    if not askSubtitleSame['boolean']:\n",
    "        subtitleExist = prefix+\"\"\" ASK { graph work:\"\"\"+bkID+\"\"\"\n",
    "            {work:\"\"\"+bkID+\"\"\" bf:title ?o .\n",
    "            ?o bf:subtitle ?subtitle }}\"\"\"\n",
    "        askSubtitleExist = acervoQuery.run_sparql(subtitleExist)\n",
    "        askSubtitleExist = askSubtitleExist.convert()\n",
    "\n",
    "        if askSubtitleExist['boolean']:\n",
    "            up = prefix+\"WITH work:\"+bkID+\"\"\"\n",
    "                DELETE {work:\"\"\"+bkID+\"\"\" bf:title ?o .\n",
    "                        ?o ?p ?t }\n",
    "                    INSERT {work:\"\"\"+bkID+\"\"\" bf:title ?o .\n",
    "                    ?o rdf:type bf:Title .\n",
    "                        ?o bf:mainTitle '\"\"\"+title+\"\"\"' .\n",
    "                        ?o bf:subtitle '\"\"\"+subtitle+\"\"\"'\n",
    "                          }\n",
    "                    WHERE {work:\"\"\"+bkID+\"\"\" bf:title ?o .\n",
    "                        ?o ?p ?t }\"\"\"\n",
    "            acervoUpdate.run_sparql(up)\n",
    "        else:\n",
    "            up = prefix+\"INSERT DATA { GRAPH work:\"+bkID+\" { work:\"+bkID+\"\"\"  bf:title [\n",
    "                        rdf:type bf:Title;\n",
    "                        bf:mainTitle '\"\"\"+title+\"\"\"' ;\n",
    "                        bf:subtitle '\"\"\"+subtitle+\"\"\"' ] . } }\"\"\"\n",
    "            acervoUpdate.run_sparql(up)\n",
    "\n",
    "\n",
    "EditSubtitle(\"Subtitulo\", \"Titulo\", \"bk-2\")  "
   ]
  },
  {
   "attachments": {},
   "cell_type": "markdown",
   "metadata": {},
   "source": [
    "DELETE"
   ]
  },
  {
   "cell_type": "code",
   "execution_count": 64,
   "metadata": {},
   "outputs": [
    {
     "data": {
      "text/plain": [
       "{'statusCode': 200, 'message': 'Update succeeded'}"
      ]
     },
     "execution_count": 64,
     "metadata": {},
     "output_type": "execute_result"
    }
   ],
   "source": [
    "prefix = \"\"\"PREFIX work: <https://bibliokeia.com/resources/work/>\n",
    "                PREFIX bf: <http://id.loc.gov/ontologies/bibframe/>\n",
    "                PREFIX rdf: <http://www.w3.org/1999/02/22-rdf-syntax-ns#>\n",
    "                PREFIX rdfs: <http://www.w3.org/2000/01/rdf-schema#>\"\"\"\n",
    "\n",
    "up = prefix+\"WITH work:\"+bkID+\"\"\"\n",
    "                DELETE {work:\"\"\"+bkID+\"\"\" bf:title ?o .\n",
    "                        ?o ?p ?t }\n",
    "                WHERE {work:\"\"\"+bkID+\"\"\" bf:title ?o .\n",
    "                        ?o ?p ?t }\"\"\"\n",
    "\n",
    "response = acervoUpdate.run_sparql(up)\n",
    "response = response.convert()\n",
    "response"
   ]
  },
  {
   "attachments": {},
   "cell_type": "markdown",
   "metadata": {},
   "source": [
    "AUTOR"
   ]
  },
  {
   "cell_type": "code",
   "execution_count": 7,
   "metadata": {},
   "outputs": [],
   "source": [
    "contributionUri = work.contributionUri"
   ]
  },
  {
   "cell_type": "code",
   "execution_count": 6,
   "metadata": {},
   "outputs": [],
   "source": [
    "def EditContributo(work, bkID):\n",
    "\n",
    "    prefix = \"\"\"PREFIX work: <https://bibliokeia.com/resources/work/>\n",
    "    PREFIX rdf: <http://www.w3.org/1999/02/22-rdf-syntax-ns#>\n",
    "    PREFIX bf: <http://id.loc.gov/ontologies/bibframe/>\n",
    "    PREFIX rdfs: <http://www.w3.org/2000/01/rdf-schema#>\"\"\"\n",
    "\n",
    "    askAgent = prefix+\"\"\"\n",
    "ASK { graph work:bk-2\n",
    "  {work:bk-2 bf:contribution ?o .\n",
    "    ?o bf:agent <\"\"\"+work.contributionUri+\"\"\"> }}\"\"\"\n",
    "\n",
    "    response = acervoQuery.run_sparql(askAgent)\n",
    "    response = response.convert()\n",
    "    if not response['boolean']:\n",
    "        up = prefix+\"WITH work:\"+bkID+\"\"\"\n",
    "                DELETE {work:\"\"\"+bkID+\"\"\" bf:contribution ?o .\n",
    "                        ?o ?p ?agent }\n",
    "                INSERT {work:\"\"\"+bkID+\"\"\" bf:contribution ?o .\n",
    "                ?o rdf:type bf:Contribution .\n",
    "                ?o rdfs:label '\"\"\"+work.contributionAgent+\"\"\"' .\n",
    "                ?o bf:role '\"\"\"+work.contributionRoleUri+\"\"\"' .\n",
    "                ?o bf:agent <\"\"\"+work.contributionUri+\"\"\"> }\n",
    "                WHERE {work:\"\"\"+bkID+\"\"\" bf:contribution ?o .\n",
    "                        ?o ?p ?agent }\"\"\"\n",
    "        acervoUpdate.run_sparql(up)\n",
    "\n",
    "        \n",
    "\n",
    "    \n",
    "work.contributionUri = 'https://bibliokeia.com/authorities/names/n80032184'\n",
    "EditContributo(work, 'bk-2')\n"
   ]
  },
  {
   "cell_type": "code",
   "execution_count": 4,
   "metadata": {},
   "outputs": [
    {
     "data": {
      "text/plain": [
       "'http://id.loc.gov/vocabulary/relators/aut'"
      ]
     },
     "execution_count": 4,
     "metadata": {},
     "output_type": "execute_result"
    }
   ],
   "source": [
    "work.contributionRoleUri"
   ]
  },
  {
   "cell_type": "code",
   "execution_count": 19,
   "metadata": {},
   "outputs": [],
   "source": [
    "'https://bibliokeia.com/authorities/names/n80002329'\n",
    "https://bibliokeia.com/authorities/names/n80032184"
   ]
  },
  {
   "cell_type": "code",
   "execution_count": null,
   "metadata": {},
   "outputs": [],
   "source": [
    "https://bibliokeia.com/authorities/names/n80032184"
   ]
  },
  {
   "cell_type": "code",
   "execution_count": 29,
   "metadata": {},
   "outputs": [
    {
     "data": {
      "text/plain": [
       "Work_Schema(work_id=None, contentType='Texto', mainTitle='TESTE', subtitle='', variantTitle=None, contributionAgent='Popper, Karl R. (Karl Raimund), 1902-1994', contributionID='n80032184', contributionRole='Autor', contributionUri='https://bibliokeia.com/authorities/names/n80002329', subjects=[Subject(label='Metodologia', uri='https://bibliokeia.com/authorities/subjects/sh85084414'), Subject(label='Ciência', uri='https://bibliokeia.com/authorities/subjects/sh85118553')], language='', languageCode='', cdd='548.2', cutter='A587s', serie='Pensamento científico', serieURI='https://bibliokeia.com/resources/hub/bk-1')"
      ]
     },
     "execution_count": 29,
     "metadata": {},
     "output_type": "execute_result"
    }
   ],
   "source": [
    "work"
   ]
  },
  {
   "cell_type": "code",
   "execution_count": 10,
   "metadata": {},
   "outputs": [
    {
     "ename": "NameError",
     "evalue": "name 'prefix' is not defined",
     "output_type": "error",
     "traceback": [
      "\u001b[1;31m---------------------------------------------------------------------------\u001b[0m",
      "\u001b[1;31mNameError\u001b[0m                                 Traceback (most recent call last)",
      "\u001b[1;32mc:\\Users\\Usuário\\Desktop\\BiblioKeia\\put.ipynb Célula 18\u001b[0m in \u001b[0;36m<cell line: 3>\u001b[1;34m()\u001b[0m\n\u001b[0;32m      <a href='vscode-notebook-cell:/c%3A/Users/Usu%C3%A1rio/Desktop/BiblioKeia/put.ipynb#X65sZmlsZQ%3D%3D?line=0'>1</a>\u001b[0m bkID \u001b[39m=\u001b[39m \u001b[39m'\u001b[39m\u001b[39mBK-2\u001b[39m\u001b[39m'\u001b[39m\n\u001b[0;32m      <a href='vscode-notebook-cell:/c%3A/Users/Usu%C3%A1rio/Desktop/BiblioKeia/put.ipynb#X65sZmlsZQ%3D%3D?line=1'>2</a>\u001b[0m contributionUri \u001b[39m=\u001b[39m \u001b[39m'\u001b[39m\u001b[39mhttps://bibliokeia.com/authorities/names/n80002329\u001b[39m\u001b[39m'\u001b[39m\n\u001b[1;32m----> <a href='vscode-notebook-cell:/c%3A/Users/Usu%C3%A1rio/Desktop/BiblioKeia/put.ipynb#X65sZmlsZQ%3D%3D?line=2'>3</a>\u001b[0m up \u001b[39m=\u001b[39m prefix\u001b[39m+\u001b[39m\u001b[39m\"\u001b[39m\u001b[39mWITH work:\u001b[39m\u001b[39m\"\u001b[39m\u001b[39m+\u001b[39mbkID\u001b[39m+\u001b[39m\u001b[39m\"\"\"\u001b[39m\n\u001b[0;32m      <a href='vscode-notebook-cell:/c%3A/Users/Usu%C3%A1rio/Desktop/BiblioKeia/put.ipynb#X65sZmlsZQ%3D%3D?line=3'>4</a>\u001b[0m \u001b[39m                DELETE \u001b[39m\u001b[39m{\u001b[39m\u001b[39mwork:\u001b[39m\u001b[39m\"\"\"\u001b[39m\u001b[39m+\u001b[39mbkID\u001b[39m+\u001b[39m\u001b[39m\"\"\"\u001b[39m\u001b[39m bf:contribution ?o .\u001b[39m\n\u001b[0;32m      <a href='vscode-notebook-cell:/c%3A/Users/Usu%C3%A1rio/Desktop/BiblioKeia/put.ipynb#X65sZmlsZQ%3D%3D?line=4'>5</a>\u001b[0m \u001b[39m                        ?o bf:agent ?uri }\u001b[39m\n\u001b[0;32m      <a href='vscode-notebook-cell:/c%3A/Users/Usu%C3%A1rio/Desktop/BiblioKeia/put.ipynb#X65sZmlsZQ%3D%3D?line=5'>6</a>\u001b[0m \u001b[39m                INSERT \u001b[39m\u001b[39m{\u001b[39m\u001b[39mwork:\u001b[39m\u001b[39m\"\"\"\u001b[39m\u001b[39m+\u001b[39mbkID\u001b[39m+\u001b[39m\u001b[39m\"\"\"\u001b[39m\u001b[39m bf:contribution ?o .\u001b[39m\n\u001b[0;32m      <a href='vscode-notebook-cell:/c%3A/Users/Usu%C3%A1rio/Desktop/BiblioKeia/put.ipynb#X65sZmlsZQ%3D%3D?line=6'>7</a>\u001b[0m \u001b[39m                   ?o bf:agent <\u001b[39m\u001b[39m\"\"\"\u001b[39m\u001b[39m+\u001b[39mcontributionUri\u001b[39m+\u001b[39m\u001b[39m\"\"\"\u001b[39m\u001b[39m> }\u001b[39m\n\u001b[0;32m      <a href='vscode-notebook-cell:/c%3A/Users/Usu%C3%A1rio/Desktop/BiblioKeia/put.ipynb#X65sZmlsZQ%3D%3D?line=7'>8</a>\u001b[0m \u001b[39m                WHERE \u001b[39m\u001b[39m{\u001b[39m\u001b[39mwork:\u001b[39m\u001b[39m\"\"\"\u001b[39m\u001b[39m+\u001b[39mbkID\u001b[39m+\u001b[39m\u001b[39m\"\"\"\u001b[39m\u001b[39m bf:contribution ?o .\u001b[39m\n\u001b[0;32m      <a href='vscode-notebook-cell:/c%3A/Users/Usu%C3%A1rio/Desktop/BiblioKeia/put.ipynb#X65sZmlsZQ%3D%3D?line=8'>9</a>\u001b[0m \u001b[39m                        ?o bf:agent ?uri }\u001b[39m\u001b[39m\"\"\"\u001b[39m\n\u001b[0;32m     <a href='vscode-notebook-cell:/c%3A/Users/Usu%C3%A1rio/Desktop/BiblioKeia/put.ipynb#X65sZmlsZQ%3D%3D?line=9'>10</a>\u001b[0m acervoUpdate\u001b[39m.\u001b[39mrun_sparql(up)\n",
      "\u001b[1;31mNameError\u001b[0m: name 'prefix' is not defined"
     ]
    }
   ],
   "source": [
    "bkID = 'BK-2'\n",
    "contributionUri = 'https://bibliokeia.com/authorities/names/n80002329'\n",
    "up = prefix+\"WITH work:\"+bkID+\"\"\"\n",
    "                DELETE {work:\"\"\"+bkID+\"\"\" bf:contribution ?o .\n",
    "                        ?o bf:agent ?uri }\n",
    "                INSERT {work:\"\"\"+bkID+\"\"\" bf:contribution ?o .\n",
    "                   ?o bf:agent <\"\"\"+contributionUri+\"\"\"> }\n",
    "                WHERE {work:\"\"\"+bkID+\"\"\" bf:contribution ?o .\n",
    "                        ?o bf:agent ?uri }\"\"\"\n",
    "acervoUpdate.run_sparql(up)"
   ]
  },
  {
   "cell_type": "code",
   "execution_count": 8,
   "metadata": {},
   "outputs": [
    {
     "data": {
      "text/plain": [
       "{'head': {}, 'boolean': True}"
      ]
     },
     "execution_count": 8,
     "metadata": {},
     "output_type": "execute_result"
    }
   ],
   "source": [
    "askAgent = \"\"\"PREFIX work: <https://bibliokeia.com/resources/work/>\n",
    "PREFIX bf: <http://id.loc.gov/ontologies/bibframe/>\n",
    "ASK { graph work:bk-2\n",
    "  {work:bk-2 bf:contribution ?o .\n",
    "    ?o bf:agent <\"\"\"+contributionUri+\"\"\"> }}\"\"\"\n",
    "\n",
    "response = acervoQuery.run_sparql(askAgent)\n",
    "response = response.convert()\n",
    "response\n",
    "\n"
   ]
  }
 ],
 "metadata": {
  "kernelspec": {
   "display_name": "venv",
   "language": "python",
   "name": "python3"
  },
  "language_info": {
   "codemirror_mode": {
    "name": "ipython",
    "version": 3
   },
   "file_extension": ".py",
   "mimetype": "text/x-python",
   "name": "python",
   "nbconvert_exporter": "python",
   "pygments_lexer": "ipython3",
   "version": "3.10.4"
  },
  "orig_nbformat": 4,
  "vscode": {
   "interpreter": {
    "hash": "7c803f0ee3b2b2cd03f94fb28d6f360d094e6843888122798203f226e128b66e"
   }
  }
 },
 "nbformat": 4,
 "nbformat_minor": 2
}
