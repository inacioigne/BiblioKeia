{
 "cells": [
  {
   "cell_type": "code",
   "execution_count": 1,
   "metadata": {},
   "outputs": [],
   "source": [
    "from rdflib import URIRef, BNode, Literal\n",
    "from rdflib.namespace import RDF, RDFS\n",
    "from pyfuseki import FusekiUpdate"
   ]
  },
  {
   "cell_type": "code",
   "execution_count": 2,
   "metadata": {},
   "outputs": [],
   "source": [
    "acervoUpdate = FusekiUpdate('http://localhost:3030', 'acervo')"
   ]
  },
  {
   "cell_type": "code",
   "execution_count": 30,
   "metadata": {},
   "outputs": [
    {
     "data": {
      "text/plain": [
       "{'statusCode': 200, 'message': 'Update succeeded'}"
      ]
     },
     "execution_count": 30,
     "metadata": {},
     "output_type": "execute_result"
    }
   ],
   "source": [
    "acervoUpdate = FusekiUpdate('http://localhost:3030', 'acervo')\n",
    "\n",
    "up = \"\"\"PREFIX bf: <http://id.loc.gov/ontologies/bibframe/>\n",
    "                INSERT DATA\n",
    "                { GRAPH  <https://bibliokeia.com/resources/work/bk-8> { \n",
    "                     <https://bibliokeia.com/resources/work/bk-8>\n",
    "                      bf:title \"TESTET\"} }\"\"\"\n",
    "response = acervoUpdate.run_sparql(up)\n",
    "response.convert()"
   ]
  },
  {
   "cell_type": "code",
   "execution_count": 31,
   "metadata": {},
   "outputs": [
    {
     "ename": "QueryBadFormed",
     "evalue": "QueryBadFormed: A bad request has been sent to the endpoint: probably the SPARQL query is badly formed. \n\nResponse:\nb'Encountered \" <INSERT_DATA> \"INSERT DATA \"\" at line 8, column 3.\\r\\nWas expecting one of:\\r\\n    <EOF> \\r\\n    \";\" ...\\r\\n    \";\" ...\\r\\n    \\n'",
     "output_type": "error",
     "traceback": [
      "\u001b[1;31m---------------------------------------------------------------------------\u001b[0m",
      "\u001b[1;31mHTTPError\u001b[0m                                 Traceback (most recent call last)",
      "File \u001b[1;32mc:\\Users\\Usuário\\Desktop\\BiblioKeia\\venv\\lib\\site-packages\\SPARQLWrapper\\Wrapper.py:926\u001b[0m, in \u001b[0;36mSPARQLWrapper._query\u001b[1;34m(self)\u001b[0m\n\u001b[0;32m    925\u001b[0m \u001b[39melse\u001b[39;00m:\n\u001b[1;32m--> 926\u001b[0m     response \u001b[39m=\u001b[39m urlopener(request)\n\u001b[0;32m    927\u001b[0m \u001b[39mreturn\u001b[39;00m response, \u001b[39mself\u001b[39m\u001b[39m.\u001b[39mreturnFormat\n",
      "File \u001b[1;32m~\\AppData\\Local\\Programs\\Python\\Python310\\lib\\urllib\\request.py:216\u001b[0m, in \u001b[0;36murlopen\u001b[1;34m(url, data, timeout, cafile, capath, cadefault, context)\u001b[0m\n\u001b[0;32m    215\u001b[0m     opener \u001b[39m=\u001b[39m _opener\n\u001b[1;32m--> 216\u001b[0m \u001b[39mreturn\u001b[39;00m opener\u001b[39m.\u001b[39;49mopen(url, data, timeout)\n",
      "File \u001b[1;32m~\\AppData\\Local\\Programs\\Python\\Python310\\lib\\urllib\\request.py:525\u001b[0m, in \u001b[0;36mOpenerDirector.open\u001b[1;34m(self, fullurl, data, timeout)\u001b[0m\n\u001b[0;32m    524\u001b[0m     meth \u001b[39m=\u001b[39m \u001b[39mgetattr\u001b[39m(processor, meth_name)\n\u001b[1;32m--> 525\u001b[0m     response \u001b[39m=\u001b[39m meth(req, response)\n\u001b[0;32m    527\u001b[0m \u001b[39mreturn\u001b[39;00m response\n",
      "File \u001b[1;32m~\\AppData\\Local\\Programs\\Python\\Python310\\lib\\urllib\\request.py:634\u001b[0m, in \u001b[0;36mHTTPErrorProcessor.http_response\u001b[1;34m(self, request, response)\u001b[0m\n\u001b[0;32m    633\u001b[0m \u001b[39mif\u001b[39;00m \u001b[39mnot\u001b[39;00m (\u001b[39m200\u001b[39m \u001b[39m<\u001b[39m\u001b[39m=\u001b[39m code \u001b[39m<\u001b[39m \u001b[39m300\u001b[39m):\n\u001b[1;32m--> 634\u001b[0m     response \u001b[39m=\u001b[39m \u001b[39mself\u001b[39;49m\u001b[39m.\u001b[39;49mparent\u001b[39m.\u001b[39;49merror(\n\u001b[0;32m    635\u001b[0m         \u001b[39m'\u001b[39;49m\u001b[39mhttp\u001b[39;49m\u001b[39m'\u001b[39;49m, request, response, code, msg, hdrs)\n\u001b[0;32m    637\u001b[0m \u001b[39mreturn\u001b[39;00m response\n",
      "File \u001b[1;32m~\\AppData\\Local\\Programs\\Python\\Python310\\lib\\urllib\\request.py:563\u001b[0m, in \u001b[0;36mOpenerDirector.error\u001b[1;34m(self, proto, *args)\u001b[0m\n\u001b[0;32m    562\u001b[0m args \u001b[39m=\u001b[39m (\u001b[39mdict\u001b[39m, \u001b[39m'\u001b[39m\u001b[39mdefault\u001b[39m\u001b[39m'\u001b[39m, \u001b[39m'\u001b[39m\u001b[39mhttp_error_default\u001b[39m\u001b[39m'\u001b[39m) \u001b[39m+\u001b[39m orig_args\n\u001b[1;32m--> 563\u001b[0m \u001b[39mreturn\u001b[39;00m \u001b[39mself\u001b[39;49m\u001b[39m.\u001b[39;49m_call_chain(\u001b[39m*\u001b[39;49margs)\n",
      "File \u001b[1;32m~\\AppData\\Local\\Programs\\Python\\Python310\\lib\\urllib\\request.py:496\u001b[0m, in \u001b[0;36mOpenerDirector._call_chain\u001b[1;34m(self, chain, kind, meth_name, *args)\u001b[0m\n\u001b[0;32m    495\u001b[0m func \u001b[39m=\u001b[39m \u001b[39mgetattr\u001b[39m(handler, meth_name)\n\u001b[1;32m--> 496\u001b[0m result \u001b[39m=\u001b[39m func(\u001b[39m*\u001b[39;49margs)\n\u001b[0;32m    497\u001b[0m \u001b[39mif\u001b[39;00m result \u001b[39mis\u001b[39;00m \u001b[39mnot\u001b[39;00m \u001b[39mNone\u001b[39;00m:\n",
      "File \u001b[1;32m~\\AppData\\Local\\Programs\\Python\\Python310\\lib\\urllib\\request.py:643\u001b[0m, in \u001b[0;36mHTTPDefaultErrorHandler.http_error_default\u001b[1;34m(self, req, fp, code, msg, hdrs)\u001b[0m\n\u001b[0;32m    642\u001b[0m \u001b[39mdef\u001b[39;00m \u001b[39mhttp_error_default\u001b[39m(\u001b[39mself\u001b[39m, req, fp, code, msg, hdrs):\n\u001b[1;32m--> 643\u001b[0m     \u001b[39mraise\u001b[39;00m HTTPError(req\u001b[39m.\u001b[39mfull_url, code, msg, hdrs, fp)\n",
      "\u001b[1;31mHTTPError\u001b[0m: HTTP Error 400: Bad Request",
      "\nDuring handling of the above exception, another exception occurred:\n",
      "\u001b[1;31mQueryBadFormed\u001b[0m                            Traceback (most recent call last)",
      "\u001b[1;32mc:\\Users\\Usuário\\Desktop\\BiblioKeia\\put.ipynb Célula 4\u001b[0m in \u001b[0;36m<cell line: 14>\u001b[1;34m()\u001b[0m\n\u001b[0;32m      <a href='vscode-notebook-cell:/c%3A/Users/Usu%C3%A1rio/Desktop/BiblioKeia/put.ipynb#W5sZmlsZQ%3D%3D?line=0'>1</a>\u001b[0m acervoUpdate \u001b[39m=\u001b[39m FusekiUpdate(\u001b[39m'\u001b[39m\u001b[39mhttp://localhost:3030\u001b[39m\u001b[39m'\u001b[39m, \u001b[39m'\u001b[39m\u001b[39macervo\u001b[39m\u001b[39m'\u001b[39m)\n\u001b[0;32m      <a href='vscode-notebook-cell:/c%3A/Users/Usu%C3%A1rio/Desktop/BiblioKeia/put.ipynb#W5sZmlsZQ%3D%3D?line=1'>2</a>\u001b[0m up \u001b[39m=\u001b[39m \u001b[39m\"\"\"\u001b[39m\n\u001b[0;32m      <a href='vscode-notebook-cell:/c%3A/Users/Usu%C3%A1rio/Desktop/BiblioKeia/put.ipynb#W5sZmlsZQ%3D%3D?line=2'>3</a>\u001b[0m \u001b[39mPREFIX bf: <http://id.loc.gov/ontologies/bibframe/>\u001b[39m\n\u001b[0;32m      <a href='vscode-notebook-cell:/c%3A/Users/Usu%C3%A1rio/Desktop/BiblioKeia/put.ipynb#W5sZmlsZQ%3D%3D?line=3'>4</a>\u001b[0m \u001b[39mDELETE WHERE \u001b[39m\u001b[39m{\u001b[39m\n\u001b[1;32m   (...)\u001b[0m\n\u001b[0;32m     <a href='vscode-notebook-cell:/c%3A/Users/Usu%C3%A1rio/Desktop/BiblioKeia/put.ipynb#W5sZmlsZQ%3D%3D?line=11'>12</a>\u001b[0m \u001b[39m                      bf:title \u001b[39m\u001b[39m\"\u001b[39m\u001b[39mTESTE222\u001b[39m\u001b[39m\"\u001b[39m\u001b[39m} }\u001b[39m\n\u001b[0;32m     <a href='vscode-notebook-cell:/c%3A/Users/Usu%C3%A1rio/Desktop/BiblioKeia/put.ipynb#W5sZmlsZQ%3D%3D?line=12'>13</a>\u001b[0m \u001b[39m\"\"\"\u001b[39m\n\u001b[1;32m---> <a href='vscode-notebook-cell:/c%3A/Users/Usu%C3%A1rio/Desktop/BiblioKeia/put.ipynb#W5sZmlsZQ%3D%3D?line=13'>14</a>\u001b[0m response \u001b[39m=\u001b[39m acervoUpdate\u001b[39m.\u001b[39;49mrun_sparql(up)\n\u001b[0;32m     <a href='vscode-notebook-cell:/c%3A/Users/Usu%C3%A1rio/Desktop/BiblioKeia/put.ipynb#W5sZmlsZQ%3D%3D?line=14'>15</a>\u001b[0m response\u001b[39m.\u001b[39mconvert()\n",
      "File \u001b[1;32mc:\\Users\\Usuário\\Desktop\\BiblioKeia\\venv\\lib\\site-packages\\pyfuseki\\syncFuseki\\fuseki.py:37\u001b[0m, in \u001b[0;36mBaseFuseki.run_sparql\u001b[1;34m(self, sparql_str, return_format)\u001b[0m\n\u001b[0;32m     35\u001b[0m \u001b[39mself\u001b[39m\u001b[39m.\u001b[39msparql_conn\u001b[39m.\u001b[39msetQuery(sparql_str)\n\u001b[0;32m     36\u001b[0m \u001b[39mself\u001b[39m\u001b[39m.\u001b[39msparql_conn\u001b[39m.\u001b[39msetReturnFormat(return_format)\n\u001b[1;32m---> 37\u001b[0m \u001b[39mreturn\u001b[39;00m \u001b[39mself\u001b[39;49m\u001b[39m.\u001b[39;49msparql_conn\u001b[39m.\u001b[39;49mquery()\n",
      "File \u001b[1;32mc:\\Users\\Usuário\\Desktop\\BiblioKeia\\venv\\lib\\site-packages\\SPARQLWrapper\\Wrapper.py:960\u001b[0m, in \u001b[0;36mSPARQLWrapper.query\u001b[1;34m(self)\u001b[0m\n\u001b[0;32m    942\u001b[0m \u001b[39mdef\u001b[39;00m \u001b[39mquery\u001b[39m(\u001b[39mself\u001b[39m) \u001b[39m-\u001b[39m\u001b[39m>\u001b[39m \u001b[39m\"\u001b[39m\u001b[39mQueryResult\u001b[39m\u001b[39m\"\u001b[39m:\n\u001b[0;32m    943\u001b[0m     \u001b[39m\"\"\"\u001b[39;00m\n\u001b[0;32m    944\u001b[0m \u001b[39m    Execute the query.\u001b[39;00m\n\u001b[0;32m    945\u001b[0m \u001b[39m    Exceptions can be raised if either the URI is wrong or the HTTP sends back an error (this is also the\u001b[39;00m\n\u001b[1;32m   (...)\u001b[0m\n\u001b[0;32m    958\u001b[0m \u001b[39m    :rtype: :class:`QueryResult` instance\u001b[39;00m\n\u001b[0;32m    959\u001b[0m \u001b[39m    \"\"\"\u001b[39;00m\n\u001b[1;32m--> 960\u001b[0m     \u001b[39mreturn\u001b[39;00m QueryResult(\u001b[39mself\u001b[39;49m\u001b[39m.\u001b[39;49m_query())\n",
      "File \u001b[1;32mc:\\Users\\Usuário\\Desktop\\BiblioKeia\\venv\\lib\\site-packages\\SPARQLWrapper\\Wrapper.py:930\u001b[0m, in \u001b[0;36mSPARQLWrapper._query\u001b[1;34m(self)\u001b[0m\n\u001b[0;32m    928\u001b[0m \u001b[39mexcept\u001b[39;00m urllib\u001b[39m.\u001b[39merror\u001b[39m.\u001b[39mHTTPError \u001b[39mas\u001b[39;00m e:\n\u001b[0;32m    929\u001b[0m     \u001b[39mif\u001b[39;00m e\u001b[39m.\u001b[39mcode \u001b[39m==\u001b[39m \u001b[39m400\u001b[39m:\n\u001b[1;32m--> 930\u001b[0m         \u001b[39mraise\u001b[39;00m QueryBadFormed(e\u001b[39m.\u001b[39mread())\n\u001b[0;32m    931\u001b[0m     \u001b[39melif\u001b[39;00m e\u001b[39m.\u001b[39mcode \u001b[39m==\u001b[39m \u001b[39m404\u001b[39m:\n\u001b[0;32m    932\u001b[0m         \u001b[39mraise\u001b[39;00m EndPointNotFound(e\u001b[39m.\u001b[39mread())\n",
      "\u001b[1;31mQueryBadFormed\u001b[0m: QueryBadFormed: A bad request has been sent to the endpoint: probably the SPARQL query is badly formed. \n\nResponse:\nb'Encountered \" <INSERT_DATA> \"INSERT DATA \"\" at line 8, column 3.\\r\\nWas expecting one of:\\r\\n    <EOF> \\r\\n    \";\" ...\\r\\n    \";\" ...\\r\\n    \\n'"
     ]
    }
   ],
   "source": [
    "acervoUpdate = FusekiUpdate('http://localhost:3030', 'acervo')\n",
    "up = \"\"\"\n",
    "PREFIX bf: <http://id.loc.gov/ontologies/bibframe/>\n",
    "DELETE WHERE {\n",
    "  GRAPH <https://bibliokeia.com/resources/work/bk-8> {\n",
    "     <https://bibliokeia.com/resources/work/bk-8>\n",
    "    bf:title ?o}\n",
    "  }\n",
    "  INSERT DATA\n",
    "                { GRAPH  <https://bibliokeia.com/resources/work/bk-8> { \n",
    "                     <https://bibliokeia.com/resources/work/bk-8>\n",
    "                      bf:title \"TESTE222\"} }\n",
    "\"\"\"\n",
    "response = acervoUpdate.run_sparql(up)\n",
    "response.convert()"
   ]
  },
  {
   "cell_type": "code",
   "execution_count": 6,
   "metadata": {},
   "outputs": [
    {
     "data": {
      "text/plain": [
       "{'statusCode': 200, 'message': 'Update succeeded'}"
      ]
     },
     "execution_count": 6,
     "metadata": {},
     "output_type": "execute_result"
    }
   ],
   "source": [
    "acervoUpdate = FusekiUpdate('http://localhost:3030', 'acervo')\n",
    "up = \"\"\"\n",
    "PREFIX bf: <http://id.loc.gov/ontologies/bibframe/>\n",
    "WITH <https://bibliokeia.com/resources/work/bk-36> \n",
    "DELETE { <https://bibliokeia.com/resources/work/bk-36> bf:title ?o .\n",
    "            ?s ?p ?o } \n",
    "WHERE { <https://bibliokeia.com/resources/work/bk-36> bf:title ?o .\n",
    "            ?s ?p ?o }\n",
    "\"\"\"\n",
    "response = acervoUpdate.run_sparql(up)\n",
    "response.convert()"
   ]
  },
  {
   "attachments": {},
   "cell_type": "markdown",
   "metadata": {},
   "source": [
    "Title"
   ]
  },
  {
   "cell_type": "code",
   "execution_count": 18,
   "metadata": {},
   "outputs": [
    {
     "data": {
      "text/plain": [
       "{'statusCode': 200, 'message': 'Update succeeded'}"
      ]
     },
     "execution_count": 18,
     "metadata": {},
     "output_type": "execute_result"
    }
   ],
   "source": [
    "acervoUpdate = FusekiUpdate('http://localhost:3030', 'acervo')\n",
    "\n",
    "up = \"\"\"\n",
    "PREFIX bf: <http://id.loc.gov/ontologies/bibframe/>\n",
    "PREFIX rdfs: <http://www.w3.org/2000/01/rdf-schema#>\n",
    "\n",
    "WITH <https://bibliokeia.com/resources/work/bk-22>\n",
    "DELETE\n",
    "{\n",
    "   <https://bibliokeia.com/resources/work/bk-22> bf:title ?o .\n",
    "  \t?o rdfs:label ?title .\n",
    "}\n",
    "INSERT\n",
    "{\n",
    "   <https://bibliokeia.com/resources/work/bk-22> bf:title ?o .\n",
    "  \t?o rdfs:label \"TESTE1\" .\n",
    "}\n",
    "WHERE { \n",
    "<https://bibliokeia.com/resources/work/bk-22> bf:title ?o .\n",
    "  \t?o rdfs:label ?title .\n",
    "    }\n",
    "\"\"\"\n",
    "\n",
    "response = acervoUpdate.run_sparql(up)\n",
    "response.convert()"
   ]
  },
  {
   "cell_type": "code",
   "execution_count": 22,
   "metadata": {},
   "outputs": [
    {
     "data": {
      "text/plain": [
       "{'statusCode': 200, 'message': 'Update succeeded'}"
      ]
     },
     "execution_count": 22,
     "metadata": {},
     "output_type": "execute_result"
    }
   ],
   "source": [
    "acervoUpdate = FusekiUpdate('http://localhost:3030', 'acervo')\n",
    "\n",
    "up = \"\"\"\n",
    "PREFIX bf: <http://id.loc.gov/ontologies/bibframe/>\n",
    "PREFIX rdfs: <http://www.w3.org/2000/01/rdf-schema#>\n",
    "\n",
    "WITH <https://bibliokeia.com/resources/work/bk-7>\n",
    "DELETE\n",
    "{\n",
    "   <https://bibliokeia.com/resources/work/bk-7> bf:title ?o .\n",
    "  \t?o ?p ?title .\n",
    "}\n",
    "INSERT\n",
    "{\n",
    "   <https://bibliokeia.com/resources/work/bk-7> bf:title ?o .\n",
    "  \t?o rdfs:label \"TESTE4\" .\n",
    "\n",
    "    <https://bibliokeia.com/resources/work/bk-7> bf:title ?o .\n",
    "  \t?o bf:mainTitle \"mainTitle1\" .\n",
    "}\n",
    "WHERE { \n",
    "<https://bibliokeia.com/resources/work/bk-7> bf:title ?o .\n",
    "  \t?o ?p ?title .\n",
    "    }\n",
    "\"\"\"\n",
    "\n",
    "response = acervoUpdate.run_sparql(up)\n",
    "response.convert()"
   ]
  },
  {
   "cell_type": "code",
   "execution_count": null,
   "metadata": {},
   "outputs": [],
   "source": [
    "def Title()"
   ]
  }
 ],
 "metadata": {
  "kernelspec": {
   "display_name": "venv",
   "language": "python",
   "name": "python3"
  },
  "language_info": {
   "codemirror_mode": {
    "name": "ipython",
    "version": 3
   },
   "file_extension": ".py",
   "mimetype": "text/x-python",
   "name": "python",
   "nbconvert_exporter": "python",
   "pygments_lexer": "ipython3",
   "version": "3.10.4"
  },
  "orig_nbformat": 4,
  "vscode": {
   "interpreter": {
    "hash": "7c803f0ee3b2b2cd03f94fb28d6f360d094e6843888122798203f226e128b66e"
   }
  }
 },
 "nbformat": 4,
 "nbformat_minor": 2
}
