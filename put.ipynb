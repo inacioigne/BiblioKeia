{
 "cells": [
  {
   "cell_type": "code",
   "execution_count": 11,
   "metadata": {},
   "outputs": [],
   "source": [
    "from rdflib import URIRef, BNode, Literal\n",
    "from rdflib.namespace import RDF, RDFS\n",
    "from pyfuseki import FusekiUpdate, FusekiQuery"
   ]
  },
  {
   "cell_type": "code",
   "execution_count": 14,
   "metadata": {},
   "outputs": [],
   "source": [
    "acervoUpdate = FusekiUpdate('http://localhost:3030', 'acervo')\n",
    "acervoQuery = FusekiQuery('http://localhost:3030', 'acervo')"
   ]
  },
  {
   "cell_type": "code",
   "execution_count": 18,
   "metadata": {},
   "outputs": [
    {
     "name": "stderr",
     "output_type": "stream",
     "text": [
      "c:\\Users\\Usuário\\Desktop\\BiblioKeia\\venv\\lib\\site-packages\\SPARQLWrapper\\Wrapper.py:794: RuntimeWarning: Sending Accept header '*/*' because unexpected returned format 'json' in a 'DESCRIBE' SPARQL query form\n",
      "  warnings.warn(\n"
     ]
    },
    {
     "data": {
      "text/plain": [
       "<SPARQLWrapper.Wrapper.QueryResult at 0x2565aa04cd0>"
      ]
     },
     "execution_count": 18,
     "metadata": {},
     "output_type": "execute_result"
    }
   ],
   "source": [
    "sparql_str = \"DESCRIBE <https://bibliokeia.com/resources/work/bk-2>\"\n",
    "response = acervoQuery.run_sparql(sparql_str)\n",
    "response\n"
   ]
  },
  {
   "cell_type": "code",
   "execution_count": 21,
   "metadata": {},
   "outputs": [
    {
     "ename": "NameError",
     "evalue": "name 'JSON' is not defined",
     "output_type": "error",
     "traceback": [
      "\u001b[1;31m---------------------------------------------------------------------------\u001b[0m",
      "\u001b[1;31mNameError\u001b[0m                                 Traceback (most recent call last)",
      "\u001b[1;32mc:\\Users\\Usuário\\Desktop\\BiblioKeia\\put.ipynb Célula 4\u001b[0m in \u001b[0;36m<cell line: 1>\u001b[1;34m()\u001b[0m\n\u001b[1;32m----> <a href='vscode-notebook-cell:/c%3A/Users/Usu%C3%A1rio/Desktop/BiblioKeia/put.ipynb#X20sZmlsZQ%3D%3D?line=0'>1</a>\u001b[0m response\u001b[39m.\u001b[39mconvert(JSON)\n",
      "\u001b[1;31mNameError\u001b[0m: name 'JSON' is not defined"
     ]
    }
   ],
   "source": [
    "response.convert(JSON)"
   ]
  },
  {
   "cell_type": "code",
   "execution_count": null,
   "metadata": {},
   "outputs": [],
   "source": [
    "acervoQuery.endpoint_url('')"
   ]
  },
  {
   "attachments": {},
   "cell_type": "markdown",
   "metadata": {},
   "source": [
    "Title"
   ]
  },
  {
   "cell_type": "code",
   "execution_count": 3,
   "metadata": {},
   "outputs": [
    {
     "data": {
      "text/plain": [
       "{'statusCode': 200, 'message': 'Update succeeded'}"
      ]
     },
     "execution_count": 3,
     "metadata": {},
     "output_type": "execute_result"
    }
   ],
   "source": [
    "acervoUpdate = FusekiUpdate('http://localhost:3030', 'acervo')\n",
    "work_id = '2'\n",
    "\n",
    "up = \"\"\"\n",
    "PREFIX bf: <http://id.loc.gov/ontologies/bibframe/>\n",
    "PREFIX rdfs: <http://www.w3.org/2000/01/rdf-schema#>\n",
    "\n",
    "WITH <https://bibliokeia.com/resources/work/bk-\"\"\"+work_id+\"\"\">\n",
    "DELETE\n",
    "{\n",
    "   <https://bibliokeia.com/resources/work/bk-\"\"\"+work_id+\"\"\"> bf:title ?o .\n",
    "  \t?o ?p ?title .\n",
    "}\n",
    "INSERT\n",
    "{\n",
    "   <https://bibliokeia.com/resources/work/bk-\"\"\"+work_id+\"\"\"> bf:title ?o .\n",
    "  \t?o rdfs:label \"TESTE\" .\n",
    "\n",
    "    <https://bibliokeia.com/resources/work/bk-\"\"\"+work_id+\"\"\"> bf:title ?o .\n",
    "  \t?o bf:mainTitle \"TESTE\" .\n",
    "}\n",
    "WHERE { \n",
    "<https://bibliokeia.com/resources/work/bk-\"\"\"+work_id+\"\"\"> bf:title ?o .\n",
    "  \t?o ?p ?title .\n",
    "    }\n",
    "\"\"\"\n",
    "\n",
    "response = acervoUpdate.run_sparql(up)\n",
    "response.convert()"
   ]
  },
  {
   "cell_type": "code",
   "execution_count": 4,
   "metadata": {},
   "outputs": [],
   "source": [
    "obj = {\n",
    "    \"title\": \"TESTE\",\n",
    "    \"typeLabel\": \"Text\",\n",
    "    \"contribution\": \"Popper, Karl R. (Karl Raimund), 1902-1994\",\n",
    "    \"serie\": \"Pensamento científico\",\n",
    "    \"hasInstance\": \"https://bibliokeia.com/resources/instance/bk-3\",\n",
    "    \"instanceID\": \"bk-3\",\n",
    "    \"contentType\": \"Text\",\n",
    "    \"mainTitle\": \"TESTE\",\n",
    "    \"subtitle\": \"\",\n",
    "    \"contributionAgent\": \"Popper, Karl R. (Karl Raimund), 1902-1994\",\n",
    "    \"contributionRole\": \"Autor\",\n",
    "    \"contributionRoleUri\": \"https://bibliokeia.com/authorities/names/n80032184\",\n",
    "    \"contributionID\": \"n80032184\",\n",
    "    \"subjects\": [\n",
    "        {\n",
    "            \"uri\": \"https://bibliokeia.com/authorities/subjects/sh85084414\",\n",
    "            \"label\": \"Metodologia\"\n",
    "        },\n",
    "        {\n",
    "            \"uri\": \"https://bibliokeia.com/authorities/subjects/sh85118553\",\n",
    "            \"label\": \"Ciência\"\n",
    "        }\n",
    "    ],\n",
    "    \"language\": \"\",\n",
    "    \"languageCode\": \"\",\n",
    "    \"cdd\": \"548.2\",\n",
    "    \"cutter\": \"A587s\",\n",
    "    \"serieURI\": \"https://bibliokeia.com/resources/hub/bk-1\"\n",
    "}"
   ]
  },
  {
   "cell_type": "code",
   "execution_count": 5,
   "metadata": {},
   "outputs": [],
   "source": [
    "from api.src.schemas.bibframe.work import Work_Schema"
   ]
  },
  {
   "cell_type": "code",
   "execution_count": 8,
   "metadata": {},
   "outputs": [],
   "source": [
    "work = Work_Schema(**obj)"
   ]
  },
  {
   "cell_type": "code",
   "execution_count": 53,
   "metadata": {},
   "outputs": [
    {
     "data": {
      "text/plain": [
       "'Text'"
      ]
     },
     "execution_count": 53,
     "metadata": {},
     "output_type": "execute_result"
    }
   ],
   "source": [
    "work.contentType"
   ]
  },
  {
   "cell_type": "code",
   "execution_count": 22,
   "metadata": {},
   "outputs": [],
   "source": [
    "from SPARQLWrapper import SPARQLWrapper, JSON"
   ]
  },
  {
   "cell_type": "code",
   "execution_count": 47,
   "metadata": {},
   "outputs": [],
   "source": [
    "sparql = SPARQLWrapper('http://localhost:3030/acervo/sparql')\n",
    "sparql.setReturnFormat(JSON)"
   ]
  },
  {
   "cell_type": "code",
   "execution_count": 58,
   "metadata": {},
   "outputs": [
    {
     "data": {
      "text/plain": [
       "[{'o': {'type': 'uri', 'value': 'http://id.loc.gov/ontologies/bibframe/Work'}},\n",
       " {'o': {'type': 'uri', 'value': 'http://id.loc.gov/ontologies/bibframe/Text'}}]"
      ]
     },
     "execution_count": 58,
     "metadata": {},
     "output_type": "execute_result"
    }
   ],
   "source": [
    "sparql_str = \"\"\"\n",
    "    PREFIX work: <https://bibliokeia.com/resources/work/>\n",
    "PREFIX bf: <http://id.loc.gov/ontologies/bibframe/>\n",
    "PREFIX rdf: <http://www.w3.org/1999/02/22-rdf-syntax-ns#>\n",
    "SELECT ?o \n",
    "WHERE { \n",
    "  graph work:bk-2\n",
    "  {work:bk-2 rdf:type ?o}}\n",
    "\"\"\"\n",
    "sparql.setQuery(sparql_str)\n",
    "ret = sparql.queryAndConvert()\n",
    "bindings = ret['results']['bindings']\n",
    "bindings"
   ]
  },
  {
   "cell_type": "code",
   "execution_count": 64,
   "metadata": {},
   "outputs": [
    {
     "name": "stdout",
     "output_type": "stream",
     "text": [
      "Text\n"
     ]
    }
   ],
   "source": [
    "for i in bindings:\n",
    "    content = i['o']['value'].split('/')[-1]\n",
    "    if content != 'Work':\n",
    "        print(content)"
   ]
  },
  {
   "cell_type": "code",
   "execution_count": 63,
   "metadata": {},
   "outputs": [
    {
     "ename": "ValidationError",
     "evalue": "10 validation errors for Work_Schema\nmainTitle\n  field required (type=value_error.missing)\ncontributionAgent\n  field required (type=value_error.missing)\ncontributionID\n  field required (type=value_error.missing)\ncontributionRole\n  field required (type=value_error.missing)\ncontributionRoleUri\n  field required (type=value_error.missing)\nsubjects\n  field required (type=value_error.missing)\nlanguage\n  field required (type=value_error.missing)\nlanguageCode\n  field required (type=value_error.missing)\ncdd\n  field required (type=value_error.missing)\ncutter\n  field required (type=value_error.missing)",
     "output_type": "error",
     "traceback": [
      "\u001b[1;31m---------------------------------------------------------------------------\u001b[0m",
      "\u001b[1;31mValidationError\u001b[0m                           Traceback (most recent call last)",
      "\u001b[1;32mc:\\Users\\Usuário\\Desktop\\BiblioKeia\\put.ipynb Célula 16\u001b[0m in \u001b[0;36m<cell line: 1>\u001b[1;34m()\u001b[0m\n\u001b[1;32m----> <a href='vscode-notebook-cell:/c%3A/Users/Usu%C3%A1rio/Desktop/BiblioKeia/put.ipynb#X24sZmlsZQ%3D%3D?line=0'>1</a>\u001b[0m w \u001b[39m=\u001b[39m Work_Schema(contentType\u001b[39m=\u001b[39;49m\u001b[39m'\u001b[39;49m\u001b[39mWork\u001b[39;49m\u001b[39m'\u001b[39;49m)\n",
      "File \u001b[1;32mc:\\Users\\Usuário\\Desktop\\BiblioKeia\\venv\\lib\\site-packages\\pydantic\\main.py:342\u001b[0m, in \u001b[0;36mpydantic.main.BaseModel.__init__\u001b[1;34m()\u001b[0m\n",
      "\u001b[1;31mValidationError\u001b[0m: 10 validation errors for Work_Schema\nmainTitle\n  field required (type=value_error.missing)\ncontributionAgent\n  field required (type=value_error.missing)\ncontributionID\n  field required (type=value_error.missing)\ncontributionRole\n  field required (type=value_error.missing)\ncontributionRoleUri\n  field required (type=value_error.missing)\nsubjects\n  field required (type=value_error.missing)\nlanguage\n  field required (type=value_error.missing)\nlanguageCode\n  field required (type=value_error.missing)\ncdd\n  field required (type=value_error.missing)\ncutter\n  field required (type=value_error.missing)"
     ]
    }
   ],
   "source": [
    "w = Work_Schema(contentType='Work')\n"
   ]
  },
  {
   "cell_type": "code",
   "execution_count": 36,
   "metadata": {},
   "outputs": [
    {
     "name": "stdout",
     "output_type": "stream",
     "text": [
      "https://bibliokeia.com/resources/work/bk-2 http://id.loc.gov/ontologies/bibframe/classification N3d389a07c681487cb1a0a27ed36d8065\n",
      "https://bibliokeia.com/resources/work/bk-2 http://id.loc.gov/ontologies/bibframe/language http://id.loc.gov/vocabulary/languages/por\n",
      "N8f0b10f10bf54c4bb3dc94d348a63537 http://www.w3.org/1999/02/22-rdf-syntax-ns#type http://id.loc.gov/ontologies/bibframe/GenerationProcess\n",
      "Ne09edaa8c31345778b0c310a320702f9 http://www.w3.org/2000/01/rdf-schema#label Popper, Karl R. (Karl Raimund), 1902-1994\n",
      "N778258d5644147c08a33671553794737 http://id.loc.gov/ontologies/bibframe/mainTitle TESTE\n",
      "https://bibliokeia.com/resources/work/bk-2 http://id.loc.gov/ontologies/bibframe/contribution Ne09edaa8c31345778b0c310a320702f9\n",
      "https://bibliokeia.com/resources/work/bk-2 http://id.loc.gov/ontologies/bibframe/hasSeries https://bibliokeia.com/resources/hub/bk-1\n",
      "N021e7b7a4a414f6592d66c02ce4376ff http://www.w3.org/1999/02/22-rdf-syntax-ns#type http://id.loc.gov/ontologies/bibframe/AdminMetadata\n",
      "https://bibliokeia.com/resources/work/bk-2 http://id.loc.gov/ontologies/bibframe/subject https://bibliokeia.com/authorities/subjects/sh85118553\n",
      "N3a1abef33ccf4f8d90313900dc041d9b http://www.w3.org/1999/02/22-rdf-syntax-ns#value bk-2\n",
      "N778258d5644147c08a33671553794737 http://www.w3.org/2000/01/rdf-schema#label TESTE\n",
      "https://bibliokeia.com/resources/work/bk-2 http://id.loc.gov/ontologies/bibframe/subject https://bibliokeia.com/authorities/subjects/sh85084414\n",
      "https://bibliokeia.com/resources/work/bk-2 http://www.w3.org/1999/02/22-rdf-syntax-ns#type http://id.loc.gov/ontologies/bibframe/Work\n",
      "N021e7b7a4a414f6592d66c02ce4376ff http://id.loc.gov/ontologies/bibframe/identifiedBy N3a1abef33ccf4f8d90313900dc041d9b\n",
      "https://bibliokeia.com/resources/work/bk-2 http://id.loc.gov/ontologies/bibframe/title N778258d5644147c08a33671553794737\n",
      "N3d389a07c681487cb1a0a27ed36d8065 http://id.loc.gov/ontologies/bibframe/classificationPortion 548.2\n",
      "N021e7b7a4a414f6592d66c02ce4376ff http://id.loc.gov/ontologies/bibframe/generationProcess N8f0b10f10bf54c4bb3dc94d348a63537\n",
      "Ne09edaa8c31345778b0c310a320702f9 http://id.loc.gov/ontologies/bibframe/agent https://bibliokeia.com/authorities/names/n80032184\n",
      "N021e7b7a4a414f6592d66c02ce4376ff http://id.loc.gov/ontologies/bibframe/status http://id.loc.gov/vocabulary/mstatus/n\n",
      "N3d389a07c681487cb1a0a27ed36d8065 http://id.loc.gov/ontologies/bibframe/itemPortion A587s\n",
      "https://bibliokeia.com/resources/work/bk-2 http://www.w3.org/1999/02/22-rdf-syntax-ns#type http://id.loc.gov/ontologies/bibframe/Text\n",
      "N3a1abef33ccf4f8d90313900dc041d9b http://id.loc.gov/ontologies/bibframe/assigner http://id.loc.gov/vocabulary/organizations/brmninpa\n",
      "https://bibliokeia.com/resources/work/bk-2 http://id.loc.gov/ontologies/bibframe/hasInstance https://bibliokeia.com/resources/instance/bk-3\n",
      "N021e7b7a4a414f6592d66c02ce4376ff http://id.loc.gov/ontologies/bibframe/assigner http://id.loc.gov/vocabulary/organizations/brmninpa\n",
      "Ne09edaa8c31345778b0c310a320702f9 http://id.loc.gov/ontologies/bibframe/role http://id.loc.gov/vocabulary/relators/aut\n",
      "N3d389a07c681487cb1a0a27ed36d8065 http://www.w3.org/1999/02/22-rdf-syntax-ns#type http://id.loc.gov/ontologies/bibframe/ClassificationDdc\n",
      "Ne09edaa8c31345778b0c310a320702f9 http://www.w3.org/1999/02/22-rdf-syntax-ns#type http://id.loc.gov/ontologies/bibframe/Contribution\n",
      "N3a1abef33ccf4f8d90313900dc041d9b http://www.w3.org/1999/02/22-rdf-syntax-ns#type http://id.loc.gov/ontologies/bibframe/Local\n",
      "N8f0b10f10bf54c4bb3dc94d348a63537 http://id.loc.gov/ontologies/bibframe/generationDate 2023-02-22T15:16:02.706229\n",
      "N8f0b10f10bf54c4bb3dc94d348a63537 http://www.w3.org/2000/01/rdf-schema#label BiblioKeia\n",
      "https://bibliokeia.com/resources/work/bk-2 http://id.loc.gov/ontologies/bibframe/adminMetadata N021e7b7a4a414f6592d66c02ce4376ff\n",
      "N021e7b7a4a414f6592d66c02ce4376ff http://id.loc.gov/ontologies/bibframe/creationDate 2023-02-22\n"
     ]
    }
   ],
   "source": [
    "for s, p, o  in ret:\n",
    "    print(s, p, o)"
   ]
  }
 ],
 "metadata": {
  "kernelspec": {
   "display_name": "venv",
   "language": "python",
   "name": "python3"
  },
  "language_info": {
   "codemirror_mode": {
    "name": "ipython",
    "version": 3
   },
   "file_extension": ".py",
   "mimetype": "text/x-python",
   "name": "python",
   "nbconvert_exporter": "python",
   "pygments_lexer": "ipython3",
   "version": "3.10.4"
  },
  "orig_nbformat": 4,
  "vscode": {
   "interpreter": {
    "hash": "7c803f0ee3b2b2cd03f94fb28d6f360d094e6843888122798203f226e128b66e"
   }
  }
 },
 "nbformat": 4,
 "nbformat_minor": 2
}
