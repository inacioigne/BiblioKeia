{
 "cells": [
  {
   "cell_type": "code",
   "execution_count": 70,
   "metadata": {},
   "outputs": [],
   "source": [
    "from rdflib import Graph, URIRef, Namespace, BNode, RDFS\n",
    "import httpx"
   ]
  },
  {
   "cell_type": "code",
   "execution_count": 2,
   "metadata": {},
   "outputs": [
    {
     "data": {
      "text/plain": [
       "<Graph identifier=N1ec807ea5d144858b45b0f69a83ec51b (<class 'rdflib.graph.Graph'>)>"
      ]
     },
     "execution_count": 2,
     "metadata": {},
     "output_type": "execute_result"
    }
   ],
   "source": [
    "uri = \"http://id.loc.gov/resources/instances/1893399\"\n",
    "graph = Graph()\n",
    "graph.parse(f'{uri}.rdf')\n",
    "# graph.serialize(\"instance.ttl\")"
   ]
  },
  {
   "cell_type": "code",
   "execution_count": 73,
   "metadata": {},
   "outputs": [],
   "source": [
    "from pydantic import BaseModel\n",
    "from typing import Optional\n",
    "from api.src.schemas.metadata.bibframe.adminMetadata import AdminMetadata\n",
    "from api.src.schemas.metadata.bibframe.title import Title\n",
    "from api.src.schemas.metadata.bibframe.element import Element\n",
    "\n",
    "class Valeu(BaseModel):\n",
    "    label: str\n",
    "    type: str\n",
    "\n",
    "class ProvisionActivity(BaseModel):\n",
    "    agent: Optional[str]\n",
    "    date: str\n",
    "    place: str\n",
    "\n",
    "class Instance(BaseModel):\n",
    "    adminMetadata: AdminMetadata\n",
    "    type: list[str]\n",
    "    title: Title\n",
    "    carrier: list[Element]\n",
    "    copyrightDate: Optional[str]\n",
    "    dimensions: Optional[str]\n",
    "    extent: Optional[Valeu]\n",
    "    instanceOf: list[Element]\n",
    "    issuance: Optional[list[Element]]\n",
    "    media: Optional[list[Element]]\n",
    "    provisionActivity: list[ProvisionActivity]\n",
    "    provisionActivityStatement: Optional[str]\n",
    "    responsibilityStatement: Optional[str]\n",
    "    seriesStatement: Optional[str]\n"
   ]
  },
  {
   "cell_type": "code",
   "execution_count": 69,
   "metadata": {},
   "outputs": [
    {
     "data": {
      "text/plain": [
       "[ProvisionActivity(agent=None, date='\"1968\"^^<http://id.loc.gov/datatypes/edtf>', place='New York (State)'),\n",
       " ProvisionActivity(agent='Harper & Row', date='\"1968, c1965\"', place='New York')]"
      ]
     },
     "execution_count": 69,
     "metadata": {},
     "output_type": "execute_result"
    }
   ],
   "source": [
    "from api.src.function.bibframe.bf_provisionActivity import GetProvisionActivity\n",
    "from api.src.function.bibframe.bf_type import GetType\n",
    "from api.src.function.bibframe.bf_title import GetTitle\n",
    "from api.src.function.bibframe.bf_Uri import GetUriBF\n",
    "\n",
    "\n",
    "def GetElement(graph, bf, obj):\n",
    "    q = f\"\"\"PREFIX bf: <http://id.loc.gov/ontologies/bibframe/>\n",
    "        PREFIX rdf: <http://www.w3.org/1999/02/22-rdf-syntax-ns#>\n",
    "        PREFIX rdfs: <http://www.w3.org/2000/01/rdf-schema#>\n",
    "            SELECT ?type ?label\n",
    "                WHERE {{ \n",
    "                    <{uri}> bf:{bf} ?uri .\n",
    "                    ?uri rdfs:label ?label .\n",
    "                    ?uri rdf:type ?type .\n",
    "                    }}\"\"\"\n",
    "    response = graph.query(q)\n",
    "    bindings = response.bindings\n",
    "    if len(bindings) > 0:\n",
    "        binding = bindings[0]\n",
    "        v = {\n",
    "            \"type\": binding.get('type').toPython(),\n",
    "            \"label\": binding.get('label').toPython()\n",
    "        }\n",
    "        obj[bf] = v\n",
    "    return obj\n",
    "\n",
    "def GetValeu(graph, uri, bf, obj):\n",
    "    q = f\"\"\"PREFIX bf: <http://id.loc.gov/ontologies/bibframe/>\n",
    "        PREFIX rdf: <http://www.w3.org/1999/02/22-rdf-syntax-ns#>\n",
    "        PREFIX rdfs: <http://www.w3.org/2000/01/rdf-schema#>\n",
    "            SELECT ?value\n",
    "                WHERE {{ \n",
    "                    <{uri}> bf:{bf} ?value .\n",
    "                    }}\"\"\"\n",
    "    response = graph.query(q)\n",
    "    bindings = response.bindings\n",
    "    if len(bindings) > 0:\n",
    "        binding = bindings[0]\n",
    "        obj[bf] = binding.get('value').toPython()\n",
    "    return obj\n",
    "\n",
    "def ParserInstance(graph, uri):\n",
    "    identifier = uri.split(\"/\")[-1]\n",
    "    types = GetType(graph, uri)\n",
    "    title = GetTitle(graph, uri)\n",
    "\n",
    "    obj = {\n",
    "    'adminMetadata': {\n",
    "        'generationProcess': {\n",
    "            'label': 'BiblioKeia'\n",
    "        },\n",
    "        'identifiedBy': [ \n",
    "            {\n",
    "                \"type\": \"Local\",\n",
    "            \"assigner\": \"http://id.loc.gov/vocabulary/organizations/dlc\",\n",
    "            \"value\": identifier\n",
    "            }\n",
    "        ]\n",
    "    },\n",
    "    \"type\": types,\n",
    "    'title': title \n",
    "    }\n",
    "    # carrier\n",
    "    obj = GetUriBF(graph, uri, 'carrier', obj)\n",
    "    # copyrightDate\n",
    "    # obj = GetValeu(graph, \"copyrightDate\", obj)\n",
    "    # dimensions\n",
    "    obj = GetValeu(graph, \"dimensions\", obj)\n",
    "    # extent\n",
    "    obj = GetElement(graph, \"extent\", obj)\n",
    "    # instanceOf\n",
    "    obj = GetUriBF(graph, uri, 'instanceOf', obj)\n",
    "    # issuance\n",
    "    obj = GetUriBF(graph, uri, 'issuance', obj)\n",
    "    # media\n",
    "    obj = GetUriBF(graph, uri, 'media', obj)\n",
    "    # ProvisionActivity\n",
    "    obj = GetProvisionActivity(graph, uri, obj)\n",
    "    # provisionActivityStatement\n",
    "    obj = GetValeu(graph, \"provisionActivityStatement\", obj)\n",
    "    # responsibilityStatement\n",
    "    obj = GetValeu(graph, \"responsibilityStatement\", obj)\n",
    "    # seriesStatement\n",
    "    obj = GetValeu(graph, \"seriesStatement\", obj)\n",
    "\n",
    "    response = Instance(**obj)\n",
    "    \n",
    "    return response\n",
    "\n",
    "response = ParserInstance(graph, uri)\n",
    "response.provisionActivity"
   ]
  },
  {
   "cell_type": "code",
   "execution_count": null,
   "metadata": {},
   "outputs": [],
   "source": []
  },
  {
   "cell_type": "code",
   "execution_count": 11,
   "metadata": {},
   "outputs": [],
   "source": [
    "u = URIRef('http://id.loc.gov/resources/instances/1893399')\n",
    "bf = Namespace(\"http://id.loc.gov/ontologies/bibframe/\")"
   ]
  },
  {
   "cell_type": "code",
   "execution_count": 115,
   "metadata": {},
   "outputs": [
    {
     "name": "stdout",
     "output_type": "stream",
     "text": [
      "{'date': '\"1968\"^^<http://id.loc.gov/datatypes/edtf>', 'place': 'New York (State)'}\n"
     ]
    }
   ],
   "source": [
    "r = graph.triples((u, bf.provisionActivity, None))\n",
    "for _, _, o in r:\n",
    "    provisionActivity = graph.triples((o, None, None))\n",
    "    objPA = {}\n",
    "    for s, p, o in provisionActivity:\n",
    "            if p == bf.agent:\n",
    "                if isinstance(o, BNode):\n",
    "                    agent = graph.triples((o, RDFS.label, None))\n",
    "                    for _, _, label in agent:\n",
    "                        objPA['agent'] = label.value\n",
    "            elif p == bf.date:\n",
    "                objPA['date'] = o.n3()\n",
    "            elif p == bf.place:\n",
    "                place = graph.triples((o, RDFS.label, None))\n",
    "                for _, _, label in place:\n",
    "                    objPA['place'] = label.value\n",
    "    print(objPA)\n",
    "    break"
   ]
  },
  {
   "cell_type": "code",
   "execution_count": 71,
   "metadata": {},
   "outputs": [
    {
     "data": {
      "text/plain": [
       "<Response [200 OK]>"
      ]
     },
     "execution_count": 71,
     "metadata": {},
     "output_type": "execute_result"
    }
   ],
   "source": [
    "response = httpx.get(\"http://localhost:8000/import/loc/instances?uri=http%3A%2F%2Fid.loc.gov%2Fresources%2Finstances%2F1893399\")\n",
    "response"
   ]
  },
  {
   "cell_type": "code",
   "execution_count": null,
   "metadata": {},
   "outputs": [],
   "source": [
    "response.json()"
   ]
  },
  {
   "cell_type": "code",
   "execution_count": 74,
   "metadata": {},
   "outputs": [
    {
     "data": {
      "text/plain": [
       "Instance(adminMetadata=AdminMetadata(encodingLevel='menclvl:f', assigner='http://id.loc.gov/vocabulary/organizations/brmninpa', creationDate='2023-06-16', descriptionConventions='http://id.loc.gov/vocabulary/descriptionConventions/isbd', descriptionModifier='http://id.loc.gov/vocabulary/organizations/brmninpa', descriptionLanguage='http://id.loc.gov/vocabulary/languages/por', generationProcess=GenerationProcess(label='BiblioKeia', generationDate='2023-06-16T14:05:52'), identifiedBy=[IdentifiedBy(type='Local', assigner='http://id.loc.gov/vocabulary/organizations/dlc', value='1893399')], status=Status(value='mstatus:new', label='novo')), type=['Instance', 'Print'], title=Title(type='bf:Title', mainTitle='Conjectures and refutations', subtitle='the growth of scientific knowledge', label='Conjectures and refutations : the growth of scientific knowledge'), carrier=[Element(label='volume', lang=None, uri='http://id.loc.gov/vocabulary/carriers/nc', type=['http://id.loc.gov/ontologies/bibframe/Carrier'])], copyrightDate=None, dimensions='21 cm.', extent=Valeu(label='xiii, 417 p.', type='http://id.loc.gov/ontologies/bibframe/Extent'), instanceOf=[Element(label='Popper, Karl R. (Karl Raimund), 1902-1994. Conjectures and refutations : the growth of scientific knowledge', lang=None, uri='http://id.loc.gov/resources/works/1893399', type=['http://id.loc.gov/ontologies/bibframe/Work'])], issuance=[Element(label='single unit', lang=None, uri='http://id.loc.gov/vocabulary/issuance/mono', type=['http://id.loc.gov/ontologies/bibframe/Issuance'])], media=[Element(label='unmediated', lang=None, uri='http://id.loc.gov/vocabulary/mediaTypes/n', type=['http://id.loc.gov/ontologies/bibframe/Media'])], provisionActivity=[ProvisionActivity(agent=None, date='\"1968\"^^<http://id.loc.gov/datatypes/edtf>', place='New York (State)'), ProvisionActivity(agent='Harper & Row', date='\"1968, c1965\"', place='New York')], provisionActivityStatement='New York : Harper & Row, 1968, c1965.', responsibilityStatement='by Karl R. Popper', seriesStatement='Harper torchbooks ; TB 1376')"
      ]
     },
     "execution_count": 74,
     "metadata": {},
     "output_type": "execute_result"
    }
   ],
   "source": [
    "request = Instance(**response.json())\n",
    "request"
   ]
  },
  {
   "cell_type": "code",
   "execution_count": 84,
   "metadata": {},
   "outputs": [
    {
     "data": {
      "text/plain": [
       "Valeu(label='xiii, 417 p.', type='http://id.loc.gov/ontologies/bibframe/Extent')"
      ]
     },
     "execution_count": 84,
     "metadata": {},
     "output_type": "execute_result"
    }
   ],
   "source": [
    "request.extent"
   ]
  },
  {
   "cell_type": "code",
   "execution_count": 85,
   "metadata": {},
   "outputs": [
    {
     "data": {
      "text/plain": [
       "'bf:extent [ a http://id.loc.gov/ontologies/bibframe/Extent ;\\n                    rdfs:label \"xiii, 417 p.\" ] ;'"
      ]
     },
     "execution_count": 85,
     "metadata": {},
     "output_type": "execute_result"
    }
   ],
   "source": [
    "def MakeLiteral(value):\n",
    "    v = f\"\"\"bf:extent [ a {value.type} ;\n",
    "                    rdfs:label \"{value.label}\" ] ;\"\"\"\n",
    "    return v\n",
    "    \n",
    "  \n",
    "MakeLiteral(request.extent) "
   ]
  },
  {
   "cell_type": "code",
   "execution_count": null,
   "metadata": {},
   "outputs": [],
   "source": [
    "from api.src.function.bibframe.Work.graphWork import MakeUri\n",
    "\n",
    "\n",
    "prefix = \"\"\"\n",
    "PREFIX bki: <https://bibliokeia.com/resources/instance/> \n",
    "PREFIX rdf: <http://www.w3.org/1999/02/22-rdf-syntax-ns#>\n",
    "    PREFIX xsd: <http://www.w3.org/2001/XMLSchema#>\n",
    "    PREFIX rdfs: <http://www.w3.org/2000/01/rdf-schema#>\n",
    "    PREFIX bf: <http://id.loc.gov/ontologies/bibframe/>\n",
    "    PREFIX madsrdf: <http://www.loc.gov/mads/rdf/v1#>\n",
    "    PREFIX bflc: <http://id.loc.gov/ontologies/bflc/>  \n",
    "    PREFIX menclvl: <http://id.loc.gov/vocabulary/menclvl/>\n",
    "    PREFIX mstatus: <http://id.loc.gov/vocabulary/mstatus/>\n",
    "    PREFIX contentTypes: <http://id.loc.gov/vocabulary/contentTypes/>\n",
    "    PREFIX relators: <http://id.loc.gov/vocabulary/relators/>\n",
    "    PREFIX genreForms: <http://id.loc.gov/authorities/genreForms/>\n",
    "    PREFIX msupplcont: <http://id.loc.gov/vocabulary/msupplcont/>\n",
    "    PREFIX millus: <http://id.loc.gov/vocabulary/millus/>    \n",
    "    \"\"\"\n",
    "\n",
    "def MakeGraphInstance(request, id):\n",
    "    graph = f\"\"\"{prefix}    \n",
    "    INSERT DATA {{\n",
    "        GRAPH bki:{id}\n",
    "        {{\n",
    "                bki:{id} a { \", \".join([f'bf:{i}' for i in request.type]) }  ;\n",
    "                bf:adminMetadata [ a bf:AdminMetadata ;\n",
    "                bflc:encodingLevel {request.adminMetadata.encodingLevel} ;\n",
    "                bf:assigner <{request.adminMetadata.assigner}> ;    \n",
    "                bf:creationDate \"{request.adminMetadata.creationDate}\"^^xsd:date ;    \n",
    "                bf:descriptionConventions <{request.adminMetadata.descriptionConventions}> ;\n",
    "                bf:descriptionLanguage <{request.adminMetadata.descriptionLanguage}> ;\n",
    "                 bf:generationProcess [ a bf:GenerationProcess ;\n",
    "                    rdfs:label \"{request.adminMetadata.generationProcess.label}\" ;\n",
    "                    bf:generationDate \"{request.adminMetadata.generationProcess.generationDate}\"^^xsd:dateTime ] ;\n",
    "                bf:identifiedBy [ a bf:Local ;\n",
    "                    bf:assigner <{request.adminMetadata.assigner}> ;\n",
    "                    rdf:value \"{id}\" ] ;\n",
    "                bf:status {request.adminMetadata.status.value} ] ;            \n",
    "                bf:title [ a bf:Title ;\n",
    "                bf:mainTitle \"{request.title.mainTitle}\" \n",
    "                { f'; bf:subtitle \"{request.title.subtitle}\" ' if request.title.subtitle else ''} ] ;\n",
    "                { MakeUri(\"carrier\", request.carrier) if request.carrier else \"\" }\n",
    "                { MakeUri(\"copyrightDate\", request.copyrightDate) if request.copyrightDate else \"\" }\n",
    "                { f'bf:dimensions \"{request.dimensions}\" ; ' if request.dimensions else \"\"  }\n",
    "                { MakeLiteral(request.extent) if request.extent else \"\" }\n",
    "                { MakeUri(\"instanceOf\", request.instanceOf) if request.instanceOf else \"\" }\n",
    "        }} }}\n",
    "        \"\"\"\n",
    "    return graph\n",
    "\n",
    "G = MakeGraphInstance(request, \"TESTE\")\n",
    "print(G)"
   ]
  },
  {
   "cell_type": "code",
   "execution_count": 87,
   "metadata": {},
   "outputs": [],
   "source": [
    "from api.src.schemas.settings import Settings\n",
    "from pyfuseki import FusekiUpdate\n",
    "\n",
    "settings = Settings()\n",
    "\n",
    "collectionUpdate = FusekiUpdate(f'{settings.url}:3030', 'collection')"
   ]
  },
  {
   "cell_type": "code",
   "execution_count": 97,
   "metadata": {},
   "outputs": [
    {
     "data": {
      "text/plain": [
       "{'adminMetadata': {'encodingLevel': 'menclvl:f',\n",
       "  'assigner': 'http://id.loc.gov/vocabulary/organizations/brmninpa',\n",
       "  'creationDate': '2023-06-16',\n",
       "  'descriptionConventions': 'http://id.loc.gov/vocabulary/descriptionConventions/isbd',\n",
       "  'descriptionModifier': 'http://id.loc.gov/vocabulary/organizations/brmninpa',\n",
       "  'descriptionLanguage': 'http://id.loc.gov/vocabulary/languages/por',\n",
       "  'generationProcess': {'label': 'BiblioKeia',\n",
       "   'generationDate': '2023-06-16T14:05:52'},\n",
       "  'identifiedBy': [{'type': 'Local',\n",
       "    'assigner': 'http://id.loc.gov/vocabulary/organizations/dlc',\n",
       "    'value': '1893399'}],\n",
       "  'status': {'value': 'mstatus:new', 'label': 'novo'}},\n",
       " 'type': ['Instance', 'Print'],\n",
       " 'title': {'type': 'bf:Title',\n",
       "  'mainTitle': 'Conjectures and refutations',\n",
       "  'subtitle': 'the growth of scientific knowledge',\n",
       "  'label': 'Conjectures and refutations : the growth of scientific knowledge'},\n",
       " 'carrier': [{'label': 'volume',\n",
       "   'lang': None,\n",
       "   'uri': 'http://id.loc.gov/vocabulary/carriers/nc',\n",
       "   'type': ['http://id.loc.gov/ontologies/bibframe/Carrier']}],\n",
       " 'copyrightDate': None,\n",
       " 'dimensions': '21 cm.',\n",
       " 'extent': {'label': 'xiii, 417 p.',\n",
       "  'type': 'http://id.loc.gov/ontologies/bibframe/Extent'},\n",
       " 'instanceOf': [{'label': 'Popper, Karl R. (Karl Raimund), 1902-1994. Conjectures and refutations : the growth of scientific knowledge',\n",
       "   'lang': None,\n",
       "   'uri': 'http://id.loc.gov/resources/works/1893399',\n",
       "   'type': ['http://id.loc.gov/ontologies/bibframe/Work']}],\n",
       " 'issuance': [{'label': 'single unit',\n",
       "   'lang': None,\n",
       "   'uri': 'http://id.loc.gov/vocabulary/issuance/mono',\n",
       "   'type': ['http://id.loc.gov/ontologies/bibframe/Issuance']}],\n",
       " 'media': [{'label': 'unmediated',\n",
       "   'lang': None,\n",
       "   'uri': 'http://id.loc.gov/vocabulary/mediaTypes/n',\n",
       "   'type': ['http://id.loc.gov/ontologies/bibframe/Media']}],\n",
       " 'provisionActivity': [{'agent': None,\n",
       "   'date': '\"1968\"^^<http://id.loc.gov/datatypes/edtf>',\n",
       "   'place': 'New York (State)'},\n",
       "  {'agent': 'Harper & Row', 'date': '\"1968, c1965\"', 'place': 'New York'}],\n",
       " 'provisionActivityStatement': 'New York : Harper & Row, 1968, c1965.',\n",
       " 'responsibilityStatement': 'by Karl R. Popper',\n",
       " 'seriesStatement': 'Harper torchbooks ; TB 1376'}"
      ]
     },
     "execution_count": 97,
     "metadata": {},
     "output_type": "execute_result"
    }
   ],
   "source": [
    "request.dict()"
   ]
  },
  {
   "cell_type": "code",
   "execution_count": 107,
   "metadata": {},
   "outputs": [
    {
     "data": {
      "text/plain": [
       "[ProvisionActivity(agent=None, date='\"1968\"^^<http://id.loc.gov/datatypes/edtf>', place='New York (State)'),\n",
       " ProvisionActivity(agent='Harper & Row', date='\"1968, c1965\"', place='New York')]"
      ]
     },
     "execution_count": 107,
     "metadata": {},
     "output_type": "execute_result"
    }
   ],
   "source": [
    "request.provisionActivity"
   ]
  },
  {
   "cell_type": "code",
   "execution_count": 106,
   "metadata": {},
   "outputs": [
    {
     "data": {
      "text/plain": [
       "{'id': 'TESTE',\n",
       " 'type': ['Instance', 'Print'],\n",
       " 'mainTitle': 'Conjectures and refutations',\n",
       " 'subtitle': 'the growth of scientific knowledge',\n",
       " 'carrier': ['volume'],\n",
       " 'dimensions': '21 cm.',\n",
       " 'extent': 'xiii, 417 p.',\n",
       " 'issuance': ['single unit'],\n",
       " 'media': ['unmediated']}"
      ]
     },
     "execution_count": 106,
     "metadata": {},
     "output_type": "execute_result"
    }
   ],
   "source": [
    "def DocInstance(request, id):\n",
    "\n",
    "    doc = {\n",
    "        \"id\": id,\n",
    "        \"type\": request.type,\n",
    "        \"mainTitle\": request.title.mainTitle,\n",
    "        \"subtitle\": request.title.subtitle,\n",
    "        \"carrier\": [i.label for i in request.carrier],\n",
    "        \"dimensions\": request.dimensions,\n",
    "        \"extent\": request.extent.label if request.extent else None,\n",
    "        \"issuance\": [i.label for i in request.issuance],\n",
    "        \"media\": [i.label for i in request.media],\n",
    "\n",
    "\n",
    "        \n",
    "        }\n",
    "    \n",
    "\n",
    "    # responseSolr =  solr.add([doc], commit=True)\n",
    "\n",
    "    return doc \n",
    "\n",
    "DocInstance(request, \"TESTE\")\n"
   ]
  }
 ],
 "metadata": {
  "kernelspec": {
   "display_name": "venv",
   "language": "python",
   "name": "python3"
  },
  "language_info": {
   "codemirror_mode": {
    "name": "ipython",
    "version": 3
   },
   "file_extension": ".py",
   "mimetype": "text/x-python",
   "name": "python",
   "nbconvert_exporter": "python",
   "pygments_lexer": "ipython3",
   "version": "3.10.4"
  },
  "orig_nbformat": 4
 },
 "nbformat": 4,
 "nbformat_minor": 2
}
