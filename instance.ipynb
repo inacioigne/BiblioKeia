{
 "cells": [
  {
   "cell_type": "code",
   "execution_count": 1,
   "metadata": {},
   "outputs": [],
   "source": [
    "from rdflib import Graph, URIRef, Namespace, BNode, RDFS\n",
    "import httpx"
   ]
  },
  {
   "cell_type": "code",
   "execution_count": 47,
   "metadata": {},
   "outputs": [
    {
     "data": {
      "text/plain": [
       "<Graph identifier=Nfc1cb6d55cef41d38b9bbfefbf646d13 (<class 'rdflib.graph.Graph'>)>"
      ]
     },
     "execution_count": 47,
     "metadata": {},
     "output_type": "execute_result"
    }
   ],
   "source": [
    "uri = \"http://id.loc.gov/resources/instances/1893399\"\n",
    "graph = Graph()\n",
    "graph.parse(f'{uri}.rdf')\n",
    "# graph.serialize(\"instance.ttl\")"
   ]
  },
  {
   "cell_type": "code",
   "execution_count": 56,
   "metadata": {},
   "outputs": [],
   "source": [
    "from pydantic import BaseModel\n",
    "from typing import Optional\n",
    "from api.src.schemas.metadata.bibframe.adminMetadata import AdminMetadata\n",
    "from api.src.schemas.metadata.bibframe.title import Title\n",
    "from api.src.schemas.metadata.bibframe.element import Element\n",
    "\n",
    "class Value(BaseModel):\n",
    "    label: str\n",
    "    type: str\n",
    "\n",
    "class ProvisionActivity(BaseModel):\n",
    "    agent: Optional[str]\n",
    "    date: str\n",
    "    place: str\n",
    "\n",
    "class Instance(BaseModel):\n",
    "    adminMetadata: AdminMetadata\n",
    "    type: list[str]\n",
    "    title: Title\n",
    "    carrier: list[Element]\n",
    "    copyrightDate: Optional[str]\n",
    "    dimensions: Optional[str]\n",
    "    extent: Optional[Value]\n",
    "    instanceOf: Element\n",
    "    issuance: Optional[list[Element]]\n",
    "    media: Optional[list[Element]]\n",
    "    provisionActivity: ProvisionActivity\n",
    "    provisionActivityStatement: Optional[str]\n",
    "    responsibilityStatement: Optional[str]\n",
    "    seriesStatement: Optional[str]\n"
   ]
  },
  {
   "cell_type": "code",
   "execution_count": 69,
   "metadata": {},
   "outputs": [
    {
     "data": {
      "text/plain": [
       "[ProvisionActivity(agent=None, date='\"1968\"^^<http://id.loc.gov/datatypes/edtf>', place='New York (State)'),\n",
       " ProvisionActivity(agent='Harper & Row', date='\"1968, c1965\"', place='New York')]"
      ]
     },
     "execution_count": 69,
     "metadata": {},
     "output_type": "execute_result"
    }
   ],
   "source": [
    "from api.src.function.bibframe.bf_provisionActivity import GetProvisionActivity\n",
    "from api.src.function.bibframe.bf_type import GetType\n",
    "from api.src.function.bibframe.bf_title import GetTitle\n",
    "from api.src.function.bibframe.bf_Uri import GetUriBF\n",
    "\n",
    "\n",
    "def GetElement(graph, bf, obj):\n",
    "    q = f\"\"\"PREFIX bf: <http://id.loc.gov/ontologies/bibframe/>\n",
    "        PREFIX rdf: <http://www.w3.org/1999/02/22-rdf-syntax-ns#>\n",
    "        PREFIX rdfs: <http://www.w3.org/2000/01/rdf-schema#>\n",
    "            SELECT ?type ?label\n",
    "                WHERE {{ \n",
    "                    <{uri}> bf:{bf} ?uri .\n",
    "                    ?uri rdfs:label ?label .\n",
    "                    ?uri rdf:type ?type .\n",
    "                    }}\"\"\"\n",
    "    response = graph.query(q)\n",
    "    bindings = response.bindings\n",
    "    if len(bindings) > 0:\n",
    "        binding = bindings[0]\n",
    "        v = {\n",
    "            \"type\": binding.get('type').toPython(),\n",
    "            \"label\": binding.get('label').toPython()\n",
    "        }\n",
    "        obj[bf] = v\n",
    "    return obj\n",
    "\n",
    "def GetValeu(graph, uri, bf, obj):\n",
    "    q = f\"\"\"PREFIX bf: <http://id.loc.gov/ontologies/bibframe/>\n",
    "        PREFIX rdf: <http://www.w3.org/1999/02/22-rdf-syntax-ns#>\n",
    "        PREFIX rdfs: <http://www.w3.org/2000/01/rdf-schema#>\n",
    "            SELECT ?value\n",
    "                WHERE {{ \n",
    "                    <{uri}> bf:{bf} ?value .\n",
    "                    }}\"\"\"\n",
    "    response = graph.query(q)\n",
    "    bindings = response.bindings\n",
    "    if len(bindings) > 0:\n",
    "        binding = bindings[0]\n",
    "        obj[bf] = binding.get('value').toPython()\n",
    "    return obj\n",
    "\n",
    "def ParserInstance(graph, uri):\n",
    "    identifier = uri.split(\"/\")[-1]\n",
    "    types = GetType(graph, uri)\n",
    "    title = GetTitle(graph, uri)\n",
    "\n",
    "    obj = {\n",
    "    'adminMetadata': {\n",
    "        'generationProcess': {\n",
    "            'label': 'BiblioKeia'\n",
    "        },\n",
    "        'identifiedBy': [ \n",
    "            {\n",
    "                \"type\": \"Local\",\n",
    "            \"assigner\": \"http://id.loc.gov/vocabulary/organizations/dlc\",\n",
    "            \"value\": identifier\n",
    "            }\n",
    "        ]\n",
    "    },\n",
    "    \"type\": types,\n",
    "    'title': title \n",
    "    }\n",
    "    # carrier\n",
    "    obj = GetUriBF(graph, uri, 'carrier', obj)\n",
    "    # copyrightDate\n",
    "    # obj = GetValeu(graph, \"copyrightDate\", obj)\n",
    "    # dimensions\n",
    "    obj = GetValeu(graph, \"dimensions\", obj)\n",
    "    # extent\n",
    "    obj = GetElement(graph, \"extent\", obj)\n",
    "    # instanceOf\n",
    "    obj = GetUriBF(graph, uri, 'instanceOf', obj)\n",
    "    # issuance\n",
    "    obj = GetUriBF(graph, uri, 'issuance', obj)\n",
    "    # media\n",
    "    obj = GetUriBF(graph, uri, 'media', obj)\n",
    "    # ProvisionActivity\n",
    "    obj = GetProvisionActivity(graph, uri, obj)\n",
    "    # provisionActivityStatement\n",
    "    obj = GetValeu(graph, \"provisionActivityStatement\", obj)\n",
    "    # responsibilityStatement\n",
    "    obj = GetValeu(graph, \"responsibilityStatement\", obj)\n",
    "    # seriesStatement\n",
    "    obj = GetValeu(graph, \"seriesStatement\", obj)\n",
    "\n",
    "    response = Instance(**obj)\n",
    "    \n",
    "    return response\n",
    "\n",
    "response = ParserInstance(graph, uri)\n",
    "response.provisionActivity"
   ]
  },
  {
   "cell_type": "code",
   "execution_count": 11,
   "metadata": {},
   "outputs": [],
   "source": [
    "u = URIRef('http://id.loc.gov/resources/instances/1893399')\n",
    "bf = Namespace(\"http://id.loc.gov/ontologies/bibframe/\")"
   ]
  },
  {
   "cell_type": "code",
   "execution_count": 115,
   "metadata": {},
   "outputs": [
    {
     "name": "stdout",
     "output_type": "stream",
     "text": [
      "{'date': '\"1968\"^^<http://id.loc.gov/datatypes/edtf>', 'place': 'New York (State)'}\n"
     ]
    }
   ],
   "source": [
    "r = graph.triples((u, bf.provisionActivity, None))\n",
    "for _, _, o in r:\n",
    "    provisionActivity = graph.triples((o, None, None))\n",
    "    objPA = {}\n",
    "    for s, p, o in provisionActivity:\n",
    "            if p == bf.agent:\n",
    "                if isinstance(o, BNode):\n",
    "                    agent = graph.triples((o, RDFS.label, None))\n",
    "                    for _, _, label in agent:\n",
    "                        objPA['agent'] = label.value\n",
    "            elif p == bf.date:\n",
    "                objPA['date'] = o.n3()\n",
    "            elif p == bf.place:\n",
    "                place = graph.triples((o, RDFS.label, None))\n",
    "                for _, _, label in place:\n",
    "                    objPA['place'] = label.value\n",
    "    print(objPA)\n",
    "    break"
   ]
  },
  {
   "cell_type": "code",
   "execution_count": 59,
   "metadata": {},
   "outputs": [
    {
     "data": {
      "text/plain": [
       "<Response [200 OK]>"
      ]
     },
     "execution_count": 59,
     "metadata": {},
     "output_type": "execute_result"
    }
   ],
   "source": [
    "response = httpx.get(\"http://localhost:8000/import/loc/instances?uri=http%3A%2F%2Fid.loc.gov%2Fresources%2Finstances%2F1893399\")\n",
    "response"
   ]
  },
  {
   "cell_type": "code",
   "execution_count": 95,
   "metadata": {},
   "outputs": [
    {
     "data": {
      "text/plain": [
       "Instance(adminMetadata=AdminMetadata(encodingLevel='menclvl:f', assigner='http://id.loc.gov/vocabulary/organizations/brmninpa', creationDate='2023-06-21', descriptionConventions='http://id.loc.gov/vocabulary/descriptionConventions/isbd', descriptionModifier='http://id.loc.gov/vocabulary/organizations/brmninpa', descriptionLanguage='http://id.loc.gov/vocabulary/languages/por', generationProcess=GenerationProcess(label='BiblioKeia', generationDate='2023-06-21T15:20:03'), identifiedBy=[IdentifiedBy(type='Local', assigner='http://id.loc.gov/vocabulary/organizations/dlc', value='1893399')], status=Status(value='mstatus:new', label='novo')), type=['Instance', 'Print'], title=Title(type='bf:Title', mainTitle='Conjectures and refutations', subtitle='the growth of scientific knowledge', label='Conjectures and refutations : the growth of scientific knowledge'), carrier=[Element(label='volume', lang=None, uri='http://id.loc.gov/vocabulary/carriers/nc', type=['http://id.loc.gov/ontologies/bibframe/Carrier'])], copyrightDate=None, dimensions='21 cm.', extent=Value(label='xiii, 417 p.', type='http://id.loc.gov/ontologies/bibframe/Extent'), instanceOf=Element(label='Popper, Karl R. (Karl Raimund), 1902-1994. Conjectures and refutations : the growth of scientific knowledge', lang=None, uri='http://id.loc.gov/resources/works/1893399', type=['http://id.loc.gov/ontologies/bibframe/Work']), issuance=[Element(label='single unit', lang=None, uri='http://id.loc.gov/vocabulary/issuance/mono', type=['http://id.loc.gov/ontologies/bibframe/Issuance'])], media=[Element(label='unmediated', lang=None, uri='http://id.loc.gov/vocabulary/mediaTypes/n', type=['http://id.loc.gov/ontologies/bibframe/Media'])], provisionActivity=ProvisionActivity(agent=None, date='\"1968\"', place='New York (State)'), provisionActivityStatement='New York : Harper & Row, 1968, c1965.', responsibilityStatement='by Karl R. Popper', seriesStatement='Harper torchbooks ; TB 1376')"
      ]
     },
     "execution_count": 95,
     "metadata": {},
     "output_type": "execute_result"
    }
   ],
   "source": [
    "request = Instance(**response.json())\n",
    "request"
   ]
  },
  {
   "cell_type": "code",
   "execution_count": 96,
   "metadata": {},
   "outputs": [
    {
     "data": {
      "text/plain": [
       "Element(label='Popper, Karl R. (Karl Raimund), 1902-1994. Conjectures and refutations : the growth of scientific knowledge', lang=None, uri='http://id.loc.gov/resources/works/1893399', type=['http://id.loc.gov/ontologies/bibframe/Work'])"
      ]
     },
     "execution_count": 96,
     "metadata": {},
     "output_type": "execute_result"
    }
   ],
   "source": [
    "request.instanceOf"
   ]
  },
  {
   "cell_type": "code",
   "execution_count": 85,
   "metadata": {},
   "outputs": [
    {
     "data": {
      "text/plain": [
       "'bf:extent [ a http://id.loc.gov/ontologies/bibframe/Extent ;\\n                    rdfs:label \"xiii, 417 p.\" ] ;'"
      ]
     },
     "execution_count": 85,
     "metadata": {},
     "output_type": "execute_result"
    }
   ],
   "source": [
    "def MakeLiteral(value):\n",
    "    v = f\"\"\"bf:extent [ a {value.type} ;\n",
    "                    rdfs:label \"{value.label}\" ] ;\"\"\"\n",
    "    return v\n",
    "    \n",
    "  \n",
    "MakeLiteral(request.extent) "
   ]
  },
  {
   "cell_type": "code",
   "execution_count": null,
   "metadata": {},
   "outputs": [],
   "source": [
    "from api.src.function.bibframe.Work.graphWork import MakeUri\n",
    "\n",
    "\n",
    "prefix = \"\"\"\n",
    "PREFIX bki: <https://bibliokeia.com/resources/instance/> \n",
    "PREFIX rdf: <http://www.w3.org/1999/02/22-rdf-syntax-ns#>\n",
    "    PREFIX xsd: <http://www.w3.org/2001/XMLSchema#>\n",
    "    PREFIX rdfs: <http://www.w3.org/2000/01/rdf-schema#>\n",
    "    PREFIX bf: <http://id.loc.gov/ontologies/bibframe/>\n",
    "    PREFIX madsrdf: <http://www.loc.gov/mads/rdf/v1#>\n",
    "    PREFIX bflc: <http://id.loc.gov/ontologies/bflc/>  \n",
    "    PREFIX menclvl: <http://id.loc.gov/vocabulary/menclvl/>\n",
    "    PREFIX mstatus: <http://id.loc.gov/vocabulary/mstatus/>\n",
    "    PREFIX contentTypes: <http://id.loc.gov/vocabulary/contentTypes/>\n",
    "    PREFIX relators: <http://id.loc.gov/vocabulary/relators/>\n",
    "    PREFIX genreForms: <http://id.loc.gov/authorities/genreForms/>\n",
    "    PREFIX msupplcont: <http://id.loc.gov/vocabulary/msupplcont/>\n",
    "    PREFIX millus: <http://id.loc.gov/vocabulary/millus/>    \n",
    "    \"\"\"\n",
    "\n",
    "def MakeGraphInstance(request, id):\n",
    "    graph = f\"\"\"{prefix}    \n",
    "    INSERT DATA {{\n",
    "        GRAPH bki:{id}\n",
    "        {{\n",
    "                bki:{id} a { \", \".join([f'bf:{i}' for i in request.type]) }  ;\n",
    "                bf:adminMetadata [ a bf:AdminMetadata ;\n",
    "                bflc:encodingLevel {request.adminMetadata.encodingLevel} ;\n",
    "                bf:assigner <{request.adminMetadata.assigner}> ;    \n",
    "                bf:creationDate \"{request.adminMetadata.creationDate}\"^^xsd:date ;    \n",
    "                bf:descriptionConventions <{request.adminMetadata.descriptionConventions}> ;\n",
    "                bf:descriptionLanguage <{request.adminMetadata.descriptionLanguage}> ;\n",
    "                 bf:generationProcess [ a bf:GenerationProcess ;\n",
    "                    rdfs:label \"{request.adminMetadata.generationProcess.label}\" ;\n",
    "                    bf:generationDate \"{request.adminMetadata.generationProcess.generationDate}\"^^xsd:dateTime ] ;\n",
    "                bf:identifiedBy [ a bf:Local ;\n",
    "                    bf:assigner <{request.adminMetadata.assigner}> ;\n",
    "                    rdf:value \"{id}\" ] ;\n",
    "                bf:status {request.adminMetadata.status.value} ] ;            \n",
    "                bf:title [ a bf:Title ;\n",
    "                bf:mainTitle \"{request.title.mainTitle}\" \n",
    "                { f'; bf:subtitle \"{request.title.subtitle}\" ' if request.title.subtitle else ''} ] ;\n",
    "                { MakeUri(\"carrier\", request.carrier) if request.carrier else \"\" }\n",
    "                { MakeUri(\"copyrightDate\", request.copyrightDate) if request.copyrightDate else \"\" }\n",
    "                { f'bf:dimensions \"{request.dimensions}\" ; ' if request.dimensions else \"\"  }\n",
    "                { MakeLiteral(request.extent) if request.extent else \"\" }\n",
    "                { MakeUri(\"instanceOf\", request.instanceOf) if request.instanceOf else \"\" }\n",
    "        }} }}\n",
    "        \"\"\"\n",
    "    return graph\n",
    "\n",
    "G = MakeGraphInstance(request, \"TESTE\")\n",
    "print(G)"
   ]
  },
  {
   "cell_type": "code",
   "execution_count": 87,
   "metadata": {},
   "outputs": [],
   "source": [
    "from api.src.schemas.settings import Settings\n",
    "from pyfuseki import FusekiUpdate\n",
    "\n",
    "settings = Settings()\n",
    "\n",
    "collectionUpdate = FusekiUpdate(f'{settings.url}:3030', 'collection')"
   ]
  },
  {
   "cell_type": "code",
   "execution_count": 49,
   "metadata": {},
   "outputs": [],
   "source": [
    "from api.src.function.bibframe.bf_Uri import GetUriBF"
   ]
  },
  {
   "cell_type": "code",
   "execution_count": 50,
   "metadata": {},
   "outputs": [
    {
     "data": {
      "text/plain": [
       "{'instanceOf': [{'label': 'Popper, Karl R. (Karl Raimund), 1902-1994. Conjectures and refutations : the growth of scientific knowledge',\n",
       "   'lang': None,\n",
       "   'uri': 'http://id.loc.gov/resources/works/1893399',\n",
       "   'type': ['http://id.loc.gov/ontologies/bibframe/Work']}]}"
      ]
     },
     "execution_count": 50,
     "metadata": {},
     "output_type": "execute_result"
    }
   ],
   "source": [
    "obj = GetUriBF(graph, uri, 'instanceOf', {})\n",
    "obj"
   ]
  },
  {
   "cell_type": "code",
   "execution_count": 52,
   "metadata": {},
   "outputs": [
    {
     "data": {
      "text/plain": [
       "{'label': 'Popper, Karl R. (Karl Raimund), 1902-1994. Conjectures and refutations : the growth of scientific knowledge',\n",
       " 'lang': None,\n",
       " 'uri': 'http://id.loc.gov/resources/works/1893399',\n",
       " 'type': ['http://id.loc.gov/ontologies/bibframe/Work']}"
      ]
     },
     "execution_count": 52,
     "metadata": {},
     "output_type": "execute_result"
    }
   ],
   "source": [
    "obj['instanceOf'][0]"
   ]
  },
  {
   "cell_type": "code",
   "execution_count": 88,
   "metadata": {},
   "outputs": [
    {
     "data": {
      "text/plain": [
       "Instance(adminMetadata=AdminMetadata(encodingLevel='menclvl:f', assigner='http://id.loc.gov/vocabulary/organizations/brmninpa', creationDate='2023-06-21', descriptionConventions='http://id.loc.gov/vocabulary/descriptionConventions/isbd', descriptionModifier='http://id.loc.gov/vocabulary/organizations/brmninpa', descriptionLanguage='http://id.loc.gov/vocabulary/languages/por', generationProcess=GenerationProcess(label='BiblioKeia', generationDate='2023-06-21T14:46:50'), identifiedBy=[IdentifiedBy(type='Local', assigner='http://id.loc.gov/vocabulary/organizations/dlc', value='1893399')], status=Status(value='mstatus:new', label='novo')), type=['Instance', 'Print'], title=Title(type='bf:Title', mainTitle='Conjectures and refutations', subtitle='the growth of scientific knowledge', label='Conjectures and refutations : the growth of scientific knowledge'), carrier=[Element(label='volume', lang=None, uri='http://id.loc.gov/vocabulary/carriers/nc', type=['http://id.loc.gov/ontologies/bibframe/Carrier'])], copyrightDate=None, dimensions='21 cm.', extent=Value(label='xiii, 417 p.', type='http://id.loc.gov/ontologies/bibframe/Extent'), instanceOf=Element(label='Popper, Karl R. (Karl Raimund), 1902-1994. Conjectures and refutations : the growth of scientific knowledge', lang=None, uri='http://id.loc.gov/resources/works/1893399', type=['http://id.loc.gov/ontologies/bibframe/Work']), issuance=[Element(label='single unit', lang=None, uri='http://id.loc.gov/vocabulary/issuance/mono', type=['http://id.loc.gov/ontologies/bibframe/Issuance'])], media=[Element(label='unmediated', lang=None, uri='http://id.loc.gov/vocabulary/mediaTypes/n', type=['http://id.loc.gov/ontologies/bibframe/Media'])], provisionActivity=ProvisionActivity(agent=None, date='\"1968\"', place='New York (State)'), provisionActivityStatement='New York : Harper & Row, 1968, c1965.', responsibilityStatement='by Karl R. Popper', seriesStatement='Harper torchbooks ; TB 1376')"
      ]
     },
     "execution_count": 88,
     "metadata": {},
     "output_type": "execute_result"
    }
   ],
   "source": [
    "response = httpx.get(\"http://localhost:8000/import/loc/instances?uri=http%3A%2F%2Fid.loc.gov%2Fresources%2Finstances%2F1893399\")\n",
    "request = Instance(**response.json())\n",
    "request"
   ]
  },
  {
   "cell_type": "code",
   "execution_count": 91,
   "metadata": {},
   "outputs": [],
   "source": [
    "request.instanceOf.uri = 'https://bibliokeia.com/resources/work/bkc-1'"
   ]
  },
  {
   "cell_type": "code",
   "execution_count": 92,
   "metadata": {},
   "outputs": [
    {
     "data": {
      "text/plain": [
       "{'label': 'Popper, Karl R. (Karl Raimund), 1902-1994. Conjectures and refutations : the growth of scientific knowledge',\n",
       " 'lang': None,\n",
       " 'uri': 'https://bibliokeia.com/resources/work/bkc-1',\n",
       " 'type': ['http://id.loc.gov/ontologies/bibframe/Work']}"
      ]
     },
     "execution_count": 92,
     "metadata": {},
     "output_type": "execute_result"
    }
   ],
   "source": [
    "request.instanceOf.dict()"
   ]
  },
  {
   "cell_type": "code",
   "execution_count": 73,
   "metadata": {},
   "outputs": [],
   "source": [
    "request.instanceOf = {'label': 'Popper, Karl R. (Karl Raimund), 1902-1994. Conjectures and refutations : the growth of scientific knowledge',\n",
    " 'lang': None,\n",
    " 'uri': 'https://bibliokeia.com/resources/work/bkc-1',\n",
    " 'type': ['http://id.loc.gov/ontologies/bibframe/Work']}"
   ]
  },
  {
   "cell_type": "code",
   "execution_count": 94,
   "metadata": {},
   "outputs": [
    {
     "data": {
      "text/plain": [
       "{'label': 'Popper, Karl R. (Karl Raimund), 1902-1994. Conjectures and refutations : the growth of scientific knowledge',\n",
       " 'lang': None,\n",
       " 'uri': 'https://bibliokeia.com/resources/work/bkc-1',\n",
       " 'type': ['http://id.loc.gov/ontologies/bibframe/Work']}"
      ]
     },
     "execution_count": 94,
     "metadata": {},
     "output_type": "execute_result"
    }
   ],
   "source": [
    "request.dict()['instanceOf']"
   ]
  },
  {
   "cell_type": "code",
   "execution_count": null,
   "metadata": {},
   "outputs": [],
   "source": [
    "headers = {\n",
    "    'accept': 'application/json',\n",
    "    'Content-Type': 'application/json',\n",
    "}\n",
    "response = httpx.post('http://localhost:8000/cataloguing/instance', headers=headers, json=request.dict())\n",
    "response.json()"
   ]
  },
  {
   "cell_type": "code",
   "execution_count": 87,
   "metadata": {},
   "outputs": [
    {
     "data": {
      "text/plain": [
       "'\\n    PREFIX bki: <https://bibliokeia.com/resources/instance/> \\n    PREFIX rdf: <http://www.w3.org/1999/02/22-rdf-syntax-ns#>\\n    PREFIX xsd: <http://www.w3.org/2001/XMLSchema#>\\n    PREFIX rdfs: <http://www.w3.org/2000/01/rdf-schema#>\\n    PREFIX bf: <http://id.loc.gov/ontologies/bibframe/>\\n    PREFIX madsrdf: <http://www.loc.gov/mads/rdf/v1#>\\n    PREFIX bflc: <http://id.loc.gov/ontologies/bflc/>  \\n    PREFIX menclvl: <http://id.loc.gov/vocabulary/menclvl/>\\n    PREFIX mstatus: <http://id.loc.gov/vocabulary/mstatus/>\\n    PREFIX contentTypes: <http://id.loc.gov/vocabulary/contentTypes/>\\n    PREFIX relators: <http://id.loc.gov/vocabulary/relators/>\\n    PREFIX genreForms: <http://id.loc.gov/authorities/genreForms/>\\n    PREFIX msupplcont: <http://id.loc.gov/vocabulary/msupplcont/>\\n    PREFIX millus: <http://id.loc.gov/vocabulary/millus/>    \\n        \\n    INSERT DATA {\\n        GRAPH bki:TESTE\\n        {\\n                bki:TESTE a bf:Instance, bf:Print  ;\\n                bf:adminMetadata [ a bf:AdminMetadata ;\\n                bflc:encodingLevel menclvl:f ;\\n                bf:assigner <http://id.loc.gov/vocabulary/organizations/brmninpa> ;    \\n                bf:creationDate \"2023-06-21\"^^xsd:date ;    \\n                bf:descriptionConventions <http://id.loc.gov/vocabulary/descriptionConventions/isbd> ;\\n                bf:descriptionLanguage <http://id.loc.gov/vocabulary/languages/por> ;\\n                 bf:generationProcess [ a bf:GenerationProcess ;\\n                    rdfs:label \"BiblioKeia\" ;\\n                    bf:generationDate \"2023-06-21T14:29:18\"^^xsd:dateTime ] ;\\n                bf:identifiedBy [ a bf:Local ;\\n                    bf:assigner <http://id.loc.gov/vocabulary/organizations/brmninpa> ;\\n                    rdf:value \"TESTE\" ] ;\\n                bf:status mstatus:new ] ;            \\n                bf:title [ a bf:Title ;\\n                bf:mainTitle \"Conjectures and refutations\" \\n                ; bf:subtitle \"the growth of scientific knowledge\"  ] ;\\n                bf:carrier <http://id.loc.gov/vocabulary/carriers/nc> ;\\n                \\n                bf:dimensions \"21 cm.\" ; \\n                bf:extent [ a <http://id.loc.gov/ontologies/bibframe/Extent> ;\\n                    rdfs:label \"xiii, 417 p.\" ] ;\\n                bf:instanceOf <https://bibliokeia.com/resources/work/bkc-1> ; \\n                \\n        } }\\n        '"
      ]
     },
     "execution_count": 87,
     "metadata": {},
     "output_type": "execute_result"
    }
   ],
   "source": [
    "from api.src.function.bibframe.Work.graphWork import MakeUri\n",
    "prefix = \"\"\"\n",
    "    PREFIX bki: <https://bibliokeia.com/resources/instance/> \n",
    "    PREFIX rdf: <http://www.w3.org/1999/02/22-rdf-syntax-ns#>\n",
    "    PREFIX xsd: <http://www.w3.org/2001/XMLSchema#>\n",
    "    PREFIX rdfs: <http://www.w3.org/2000/01/rdf-schema#>\n",
    "    PREFIX bf: <http://id.loc.gov/ontologies/bibframe/>\n",
    "    PREFIX madsrdf: <http://www.loc.gov/mads/rdf/v1#>\n",
    "    PREFIX bflc: <http://id.loc.gov/ontologies/bflc/>  \n",
    "    PREFIX menclvl: <http://id.loc.gov/vocabulary/menclvl/>\n",
    "    PREFIX mstatus: <http://id.loc.gov/vocabulary/mstatus/>\n",
    "    PREFIX contentTypes: <http://id.loc.gov/vocabulary/contentTypes/>\n",
    "    PREFIX relators: <http://id.loc.gov/vocabulary/relators/>\n",
    "    PREFIX genreForms: <http://id.loc.gov/authorities/genreForms/>\n",
    "    PREFIX msupplcont: <http://id.loc.gov/vocabulary/msupplcont/>\n",
    "    PREFIX millus: <http://id.loc.gov/vocabulary/millus/>    \n",
    "    \"\"\"\n",
    "\n",
    "def MakeLiteral(value):\n",
    "    v = f\"\"\"bf:extent [ a <{value.type}> ;\n",
    "                    rdfs:label \"{value.label}\" ] ;\"\"\"\n",
    "    return v\n",
    "\n",
    "def MakeGraphInstance(request, id):\n",
    "    graph = f\"\"\"{prefix}    \n",
    "    INSERT DATA {{\n",
    "        GRAPH bki:{id}\n",
    "        {{\n",
    "                bki:{id} a { \", \".join([f'bf:{i}' for i in request.type]) }  ;\n",
    "                bf:adminMetadata [ a bf:AdminMetadata ;\n",
    "                bflc:encodingLevel {request.adminMetadata.encodingLevel} ;\n",
    "                bf:assigner <{request.adminMetadata.assigner}> ;    \n",
    "                bf:creationDate \"{request.adminMetadata.creationDate}\"^^xsd:date ;    \n",
    "                bf:descriptionConventions <{request.adminMetadata.descriptionConventions}> ;\n",
    "                bf:descriptionLanguage <{request.adminMetadata.descriptionLanguage}> ;\n",
    "                 bf:generationProcess [ a bf:GenerationProcess ;\n",
    "                    rdfs:label \"{request.adminMetadata.generationProcess.label}\" ;\n",
    "                    bf:generationDate \"{request.adminMetadata.generationProcess.generationDate}\"^^xsd:dateTime ] ;\n",
    "                bf:identifiedBy [ a bf:Local ;\n",
    "                    bf:assigner <{request.adminMetadata.assigner}> ;\n",
    "                    rdf:value \"{id}\" ] ;\n",
    "                bf:status {request.adminMetadata.status.value} ] ;            \n",
    "                bf:title [ a bf:Title ;\n",
    "                bf:mainTitle \"{request.title.mainTitle}\" \n",
    "                { f'; bf:subtitle \"{request.title.subtitle}\" ' if request.title.subtitle else ''} ] ;\n",
    "                { MakeUri(\"carrier\", request.carrier) if request.carrier else \"\" }\n",
    "                { MakeUri(\"copyrightDate\", request.copyrightDate) if request.copyrightDate else \"\" }\n",
    "                { f'bf:dimensions \"{request.dimensions}\" ; ' if request.dimensions else \"\"  }\n",
    "                { MakeLiteral(request.extent) if request.extent else \"\" }\n",
    "                bf:instanceOf <{request.instanceOf['uri']}> ; \n",
    "                \n",
    "        }} }}\n",
    "        \"\"\"\n",
    "    return graph\n",
    "\n",
    "MakeGraphInstance(request, \"TESTE\")"
   ]
  },
  {
   "cell_type": "code",
   "execution_count": 68,
   "metadata": {},
   "outputs": [],
   "source": [
    "import pysolr\n",
    "def DocInstance(request, id):\n",
    "\n",
    "    solr = pysolr.Solr('http://localhost:8983/solr/acervo/', timeout=10)\n",
    "\n",
    "    workID = request.instanceOf.uri.split(\"/\")[-1]\n",
    "    uri = f'https://bibliokeia.com/resources/instance/{id}'\n",
    "\n",
    "    doc = {\n",
    "        \"id\": id,\n",
    "        \"type\": request.type,\n",
    "        \"mainTitle\": request.title.mainTitle,\n",
    "        \"subtitle\": request.title.subtitle,\n",
    "        \"carrier\": [i.label for i in request.carrier],\n",
    "        \"dimensions\": request.dimensions,\n",
    "        \"extent\": request.extent.label if request.extent else None,\n",
    "        \"issuance\": [i.label for i in request.issuance],\n",
    "        \"media\": [i.label for i in request.media],\n",
    "        \"provisionActivityAgent\": request.provisionActivity.agent,\n",
    "        \"provisionActivityDate\": request.provisionActivity.date,\n",
    "        \"provisionActivityPlace\": request.provisionActivity.place,      \n",
    "        \"serie\": request.seriesStatement,\n",
    "        \"instanceOf\": {'id': f'{id}/instanceOf/{workID}', 'uri': request.instanceOf.uri, 'label': request.instanceOf.label} \n",
    "        }\n",
    "    \n",
    "    work = {\n",
    "        \"id\": workID,\n",
    "         \"hasInstance\": {\"add\": {'id': f'{workID}/hasInstance/{id}', 'uri': uri, 'label': request.title.mainTitle} }\n",
    "    }\n",
    "\n",
    "    solr.add([doc, work], commit=True)\n",
    "\n",
    "DocInstance(request, \"TESTE\")\n"
   ]
  },
  {
   "cell_type": "code",
   "execution_count": 97,
   "metadata": {},
   "outputs": [],
   "source": [
    "def DocInstance(request, id):\n",
    "\n",
    "    solr = pysolr.Solr('http://localhost:8983/solr/acervo/', timeout=10)\n",
    "\n",
    "    workID = request.instanceOf.uri.split(\"/\")[-1]\n",
    "    uri = f'https://bibliokeia.com/resources/instance/{id}'\n",
    "\n",
    "    doc = {\n",
    "        \"id\": id,\n",
    "        \"type\": request.type,\n",
    "        \"mainTitle\": request.title.mainTitle,\n",
    "        \"subtitle\": request.title.subtitle,\n",
    "        \"carrier\": [i.label for i in request.carrier],\n",
    "        \"dimensions\": request.dimensions,\n",
    "        \"extent\": request.extent.label if request.extent else None,\n",
    "        \"issuance\": [i.label for i in request.issuance],\n",
    "        \"media\": [i.label for i in request.media],\n",
    "        \"provisionActivityAgent\": request.provisionActivity.agent,\n",
    "        \"provisionActivityDate\": request.provisionActivity.date,\n",
    "        \"provisionActivityPlace\": request.provisionActivity.place,      \n",
    "        \"serie\": request.seriesStatement,\n",
    "        \"instanceOf\": {'id': f'{id}/instanceOf/{workID}', 'uri': request.instanceOf.uri, 'label': request.instanceOf.label} \n",
    "        }\n",
    "    \n",
    "    work = {\n",
    "        \"id\": workID,\n",
    "         \"hasInstance\": {\"add\": {'id': f'{workID}/hasInstance/{id}', 'uri': uri, 'label': request.title.mainTitle} }\n",
    "    }\n",
    "\n",
    "    response = solr.add([doc, work], commit=True)\n",
    "    return response"
   ]
  },
  {
   "cell_type": "code",
   "execution_count": 98,
   "metadata": {},
   "outputs": [
    {
     "data": {
      "text/plain": [
       "'{\\n  \"responseHeader\":{\\n    \"status\":0,\\n    \"QTime\":177}}\\n'"
      ]
     },
     "execution_count": 98,
     "metadata": {},
     "output_type": "execute_result"
    }
   ],
   "source": [
    "response = DocInstance(request, \"teste\")\n",
    "response"
   ]
  },
  {
   "cell_type": "code",
   "execution_count": 104,
   "metadata": {},
   "outputs": [
    {
     "data": {
      "text/plain": [
       "'{\\n  \"responseHeader\":{\\n    \"status\":0,\\n    \"QTime\":153}}\\n'"
      ]
     },
     "execution_count": 104,
     "metadata": {},
     "output_type": "execute_result"
    }
   ],
   "source": [
    "solr = pysolr.Solr('http://localhost:8983/solr/acervo/', timeout=10)\n",
    "docSolr = {\n",
    "        \"id\": \"bkc-3\",\n",
    "         \"mainTitle\": {\"set\": \"CONJECTURAS\"}\n",
    "    }\n",
    "\n",
    "r = solr.add([docSolr], commit=True)\n",
    "r"
   ]
  },
  {
   "cell_type": "code",
   "execution_count": 101,
   "metadata": {},
   "outputs": [
    {
     "ename": "SolrError",
     "evalue": "Solr responded with an error (HTTP 400): [Reason: ERROR: [doc=bkc-1] unknown field 'supplementaryContent']",
     "output_type": "error",
     "traceback": [
      "\u001b[1;31m---------------------------------------------------------------------------\u001b[0m",
      "\u001b[1;31mSolrError\u001b[0m                                 Traceback (most recent call last)",
      "\u001b[1;32mc:\\Users\\Usuário\\Desktop\\BiblioKeia\\instance.ipynb Cell 27\u001b[0m in \u001b[0;36m<cell line: 4>\u001b[1;34m()\u001b[0m\n\u001b[0;32m      <a href='vscode-notebook-cell:/c%3A/Users/Usu%C3%A1rio/Desktop/BiblioKeia/instance.ipynb#X51sZmlsZQ%3D%3D?line=0'>1</a>\u001b[0m work \u001b[39m=\u001b[39m {\u001b[39m'\u001b[39m\u001b[39mid\u001b[39m\u001b[39m'\u001b[39m: \u001b[39m'\u001b[39m\u001b[39mbkc-1\u001b[39m\u001b[39m'\u001b[39m,\n\u001b[0;32m      <a href='vscode-notebook-cell:/c%3A/Users/Usu%C3%A1rio/Desktop/BiblioKeia/instance.ipynb#X51sZmlsZQ%3D%3D?line=1'>2</a>\u001b[0m          \u001b[39m'\u001b[39m\u001b[39mhasInstance\u001b[39m\u001b[39m'\u001b[39m: {\u001b[39m'\u001b[39m\u001b[39mset\u001b[39m\u001b[39m'\u001b[39m: \n\u001b[0;32m      <a href='vscode-notebook-cell:/c%3A/Users/Usu%C3%A1rio/Desktop/BiblioKeia/instance.ipynb#X51sZmlsZQ%3D%3D?line=2'>3</a>\u001b[0m                          {\u001b[39m'\u001b[39m\u001b[39mid\u001b[39m\u001b[39m'\u001b[39m: \u001b[39m'\u001b[39m\u001b[39mbkc-1/hasInstance/bkc-8\u001b[39m\u001b[39m'\u001b[39m, \u001b[39m'\u001b[39m\u001b[39muri\u001b[39m\u001b[39m'\u001b[39m: \u001b[39m'\u001b[39m\u001b[39mhttps://bibliokeia.com/resources/instance/bkc-8\u001b[39m\u001b[39m'\u001b[39m, \u001b[39m'\u001b[39m\u001b[39mlabel\u001b[39m\u001b[39m'\u001b[39m: \u001b[39m'\u001b[39m\u001b[39mConjectures and refutations\u001b[39m\u001b[39m'\u001b[39m}}}\n\u001b[1;32m----> <a href='vscode-notebook-cell:/c%3A/Users/Usu%C3%A1rio/Desktop/BiblioKeia/instance.ipynb#X51sZmlsZQ%3D%3D?line=3'>4</a>\u001b[0m response \u001b[39m=\u001b[39m solr\u001b[39m.\u001b[39;49madd([work], commit\u001b[39m=\u001b[39;49m\u001b[39mTrue\u001b[39;49;00m)\n\u001b[0;32m      <a href='vscode-notebook-cell:/c%3A/Users/Usu%C3%A1rio/Desktop/BiblioKeia/instance.ipynb#X51sZmlsZQ%3D%3D?line=4'>5</a>\u001b[0m response\n",
      "File \u001b[1;32mc:\\Users\\Usuário\\Desktop\\BiblioKeia\\venv\\lib\\site-packages\\pysolr.py:1042\u001b[0m, in \u001b[0;36mSolr.add\u001b[1;34m(self, docs, boost, fieldUpdates, commit, softCommit, commitWithin, waitFlush, waitSearcher, overwrite, handler)\u001b[0m\n\u001b[0;32m   1036\u001b[0m end_time \u001b[39m=\u001b[39m time\u001b[39m.\u001b[39mtime()\n\u001b[0;32m   1037\u001b[0m \u001b[39mself\u001b[39m\u001b[39m.\u001b[39mlog\u001b[39m.\u001b[39mdebug(\n\u001b[0;32m   1038\u001b[0m     \u001b[39m\"\u001b[39m\u001b[39mBuilt add request of \u001b[39m\u001b[39m%s\u001b[39;00m\u001b[39m docs in \u001b[39m\u001b[39m%0.2f\u001b[39;00m\u001b[39m seconds.\u001b[39m\u001b[39m\"\u001b[39m,\n\u001b[0;32m   1039\u001b[0m     \u001b[39mlen\u001b[39m(message),\n\u001b[0;32m   1040\u001b[0m     end_time \u001b[39m-\u001b[39m start_time,\n\u001b[0;32m   1041\u001b[0m )\n\u001b[1;32m-> 1042\u001b[0m \u001b[39mreturn\u001b[39;00m \u001b[39mself\u001b[39;49m\u001b[39m.\u001b[39;49m_update(\n\u001b[0;32m   1043\u001b[0m     m,\n\u001b[0;32m   1044\u001b[0m     commit\u001b[39m=\u001b[39;49mcommit,\n\u001b[0;32m   1045\u001b[0m     softCommit\u001b[39m=\u001b[39;49msoftCommit,\n\u001b[0;32m   1046\u001b[0m     waitFlush\u001b[39m=\u001b[39;49mwaitFlush,\n\u001b[0;32m   1047\u001b[0m     waitSearcher\u001b[39m=\u001b[39;49mwaitSearcher,\n\u001b[0;32m   1048\u001b[0m     overwrite\u001b[39m=\u001b[39;49moverwrite,\n\u001b[0;32m   1049\u001b[0m     handler\u001b[39m=\u001b[39;49mhandler,\n\u001b[0;32m   1050\u001b[0m     solrapi\u001b[39m=\u001b[39;49msolrapi,\n\u001b[0;32m   1051\u001b[0m )\n",
      "File \u001b[1;32mc:\\Users\\Usuário\\Desktop\\BiblioKeia\\venv\\lib\\site-packages\\pysolr.py:568\u001b[0m, in \u001b[0;36mSolr._update\u001b[1;34m(self, message, clean_ctrl_chars, commit, softCommit, waitFlush, waitSearcher, overwrite, handler, solrapi)\u001b[0m\n\u001b[0;32m    564\u001b[0m     \u001b[39mreturn\u001b[39;00m \u001b[39mself\u001b[39m\u001b[39m.\u001b[39m_send_request(\n\u001b[0;32m    565\u001b[0m         \u001b[39m\"\u001b[39m\u001b[39mpost\u001b[39m\u001b[39m\"\u001b[39m, path, message, {\u001b[39m\"\u001b[39m\u001b[39mContent-type\u001b[39m\u001b[39m\"\u001b[39m: \u001b[39m\"\u001b[39m\u001b[39mtext/xml; charset=utf-8\u001b[39m\u001b[39m\"\u001b[39m}\n\u001b[0;32m    566\u001b[0m     )\n\u001b[0;32m    567\u001b[0m \u001b[39melif\u001b[39;00m solrapi \u001b[39m==\u001b[39m \u001b[39m\"\u001b[39m\u001b[39mJSON\u001b[39m\u001b[39m\"\u001b[39m:\n\u001b[1;32m--> 568\u001b[0m     \u001b[39mreturn\u001b[39;00m \u001b[39mself\u001b[39;49m\u001b[39m.\u001b[39;49m_send_request(\n\u001b[0;32m    569\u001b[0m         \u001b[39m\"\u001b[39;49m\u001b[39mpost\u001b[39;49m\u001b[39m\"\u001b[39;49m,\n\u001b[0;32m    570\u001b[0m         path,\n\u001b[0;32m    571\u001b[0m         message,\n\u001b[0;32m    572\u001b[0m         {\u001b[39m\"\u001b[39;49m\u001b[39mContent-type\u001b[39;49m\u001b[39m\"\u001b[39;49m: \u001b[39m\"\u001b[39;49m\u001b[39mapplication/json; charset=utf-8\u001b[39;49m\u001b[39m\"\u001b[39;49m},\n\u001b[0;32m    573\u001b[0m     )\n\u001b[0;32m    574\u001b[0m \u001b[39melse\u001b[39;00m:\n\u001b[0;32m    575\u001b[0m     \u001b[39mraise\u001b[39;00m \u001b[39mValueError\u001b[39;00m(\u001b[39m\"\u001b[39m\u001b[39munknown solrapi \u001b[39m\u001b[39m{}\u001b[39;00m\u001b[39m\"\u001b[39m\u001b[39m.\u001b[39mformat(solrapi))\n",
      "File \u001b[1;32mc:\\Users\\Usuário\\Desktop\\BiblioKeia\\venv\\lib\\site-packages\\pysolr.py:463\u001b[0m, in \u001b[0;36mSolr._send_request\u001b[1;34m(self, method, path, body, headers, files)\u001b[0m\n\u001b[0;32m    449\u001b[0m     solr_message \u001b[39m=\u001b[39m \u001b[39mself\u001b[39m\u001b[39m.\u001b[39m_extract_error(resp)\n\u001b[0;32m    450\u001b[0m     \u001b[39mself\u001b[39m\u001b[39m.\u001b[39mlog\u001b[39m.\u001b[39merror(\n\u001b[0;32m    451\u001b[0m         error_message,\n\u001b[0;32m    452\u001b[0m         resp\u001b[39m.\u001b[39mstatus_code,\n\u001b[1;32m   (...)\u001b[0m\n\u001b[0;32m    461\u001b[0m         },\n\u001b[0;32m    462\u001b[0m     )\n\u001b[1;32m--> 463\u001b[0m     \u001b[39mraise\u001b[39;00m SolrError(error_message \u001b[39m%\u001b[39m (resp\u001b[39m.\u001b[39mstatus_code, solr_message))\n\u001b[0;32m    465\u001b[0m \u001b[39mreturn\u001b[39;00m force_unicode(resp\u001b[39m.\u001b[39mcontent)\n",
      "\u001b[1;31mSolrError\u001b[0m: Solr responded with an error (HTTP 400): [Reason: ERROR: [doc=bkc-1] unknown field 'supplementaryContent']"
     ]
    }
   ],
   "source": [
    "# work = {'id': 'bkc-1',\n",
    "#          'hasInstance': {'set': \n",
    "#                          {'id': 'bkc-1/hasInstance/bkc-8', 'uri': 'https://bibliokeia.com/resources/instance/bkc-8', 'label': 'Conjectures and refutations'}}}\n",
    "\n",
    "response = solr.add([work], commit=True)\n",
    "response"
   ]
  },
  {
   "cell_type": "code",
   "execution_count": 16,
   "metadata": {},
   "outputs": [],
   "source": [
    "from rdflib import URIRef, Namespace, BNode, RDFS\n",
    "\n",
    "bf = Namespace(\"http://id.loc.gov/ontologies/bibframe/\")\n",
    "\n",
    "def GetProvisionActivity(graph, uri, obj):\n",
    "\n",
    "    u = URIRef(uri)\n",
    "\n",
    "    # provisionActivitys = list() \n",
    "    r = graph.triples((u, bf.provisionActivity, None))\n",
    "    for _, p, o in r:\n",
    "        provisionActivity = graph.triples((o, None, None))\n",
    "        objPA = {}\n",
    "        for s, p, o in provisionActivity:\n",
    "            if p == bf.agent:\n",
    "                if isinstance(o, BNode):\n",
    "                    agent = graph.triples((o, RDFS.label, None))\n",
    "                    for _, _, label in agent:\n",
    "                        objPA['agent'] = label.value\n",
    "            elif p == bf.date:\n",
    "                objPA['date'] = o.n3()\n",
    "            elif p == bf.place:\n",
    "                place = graph.triples((o, RDFS.label, None))\n",
    "                for _, _, label in place:\n",
    "                    objPA['place'] = label.value\n",
    "        break\n",
    "        # provisionActivitys.append(objPA)\n",
    "    obj['provisionActivity'] = objPA\n",
    "    \n",
    "    return obj"
   ]
  },
  {
   "cell_type": "code",
   "execution_count": 17,
   "metadata": {},
   "outputs": [
    {
     "ename": "NameError",
     "evalue": "name 'graph' is not defined",
     "output_type": "error",
     "traceback": [
      "\u001b[1;31m---------------------------------------------------------------------------\u001b[0m",
      "\u001b[1;31mNameError\u001b[0m                                 Traceback (most recent call last)",
      "\u001b[1;32mc:\\Users\\Usuário\\Desktop\\BiblioKeia\\instance.ipynb Cell 18\u001b[0m in \u001b[0;36m<cell line: 1>\u001b[1;34m()\u001b[0m\n\u001b[1;32m----> <a href='vscode-notebook-cell:/c%3A/Users/Usu%C3%A1rio/Desktop/BiblioKeia/instance.ipynb#X25sZmlsZQ%3D%3D?line=0'>1</a>\u001b[0m GetProvisionActivity(graph, uri, {})\n",
      "\u001b[1;31mNameError\u001b[0m: name 'graph' is not defined"
     ]
    }
   ],
   "source": [
    "GetProvisionActivity(graph, uri, {})"
   ]
  }
 ],
 "metadata": {
  "kernelspec": {
   "display_name": "venv",
   "language": "python",
   "name": "python3"
  },
  "language_info": {
   "codemirror_mode": {
    "name": "ipython",
    "version": 3
   },
   "file_extension": ".py",
   "mimetype": "text/x-python",
   "name": "python",
   "nbconvert_exporter": "python",
   "pygments_lexer": "ipython3",
   "version": "3.10.4"
  },
  "orig_nbformat": 4
 },
 "nbformat": 4,
 "nbformat_minor": 2
}
