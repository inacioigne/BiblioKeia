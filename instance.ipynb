{
 "cells": [
  {
   "cell_type": "code",
   "execution_count": 2,
   "metadata": {},
   "outputs": [],
   "source": [
    "from rdflib import Graph"
   ]
  },
  {
   "cell_type": "code",
   "execution_count": 4,
   "metadata": {},
   "outputs": [
    {
     "data": {
      "text/plain": [
       "<Graph identifier=N2700e5b007ff4d11a5bd8b8c77f33c74 (<class 'rdflib.graph.Graph'>)>"
      ]
     },
     "execution_count": 4,
     "metadata": {},
     "output_type": "execute_result"
    }
   ],
   "source": [
    "uri = \"http://id.loc.gov/resources/instances/1893399\"\n",
    "graph = Graph()\n",
    "graph.parse(f'{uri}.rdf')\n",
    "# graph.serialize(\"instance.ttl\")"
   ]
  },
  {
   "cell_type": "code",
   "execution_count": 107,
   "metadata": {},
   "outputs": [],
   "source": [
    "from pydantic import BaseModel\n",
    "from typing import Optional\n",
    "from api.src.schemas.metadata.bibframe.adminMetadata import AdminMetadata\n",
    "from api.src.schemas.metadata.bibframe.title import Title\n",
    "from api.src.schemas.metadata.bibframe.element import Element\n",
    "# from src.schemas.metadata.bibframe.contribution import Contribution\n",
    "\n",
    "class Valeu(BaseModel):\n",
    "    label: str\n",
    "    type: str\n",
    "\n",
    "class ProvisionActivity(BaseModel):\n",
    "    agent: Optional[str]\n",
    "    date: str\n",
    "    place: str\n",
    "\n",
    "class Instance(BaseModel):\n",
    "    adminMetadata: AdminMetadata\n",
    "    type: list[str]\n",
    "    title: Title\n",
    "    carrier: list[Element]\n",
    "    copyrightDate: Optional[str]\n",
    "    dimensions: Optional[str]\n",
    "    extent: Optional[Valeu]\n",
    "    instanceOf: list[Element]\n",
    "    issuance: Optional[list[Element]]\n",
    "    media: Optional[list[Element]]\n",
    "    provisionActivityStatement: Optional[str]\n",
    "    responsibilityStatement: Optional[str]\n",
    "    seriesStatement: Optional[str]\n",
    "    # content: list[Element]\n",
    "    # language: list[Element]\n",
    "    # \n",
    "    # \n",
    "    # contribution: Optional[list[Contribution]]\n",
    "    # subject: Optional[list[Element]]   \n",
    "    # genreForm: Optional[list[Element]]\n",
    "    # note: Optional[str]\n",
    "    # summary: Optional[str]\n",
    "    # tableOfContents: Optional[str]\n",
    "    # supplementaryContent: Optional[list[Element]]\n",
    "    # illustrativeContent: Optional[list[Element]]\n",
    "    # intendedAudience: Optional[list[Element]]\n",
    "    # geographicCoverage: Optional[list[Element]]"
   ]
  },
  {
   "cell_type": "code",
   "execution_count": 116,
   "metadata": {},
   "outputs": [
    {
     "data": {
      "text/plain": [
       "Title(type='bf:Title', mainTitle='Conjectures and refutations', subtitle=None)"
      ]
     },
     "execution_count": 116,
     "metadata": {},
     "output_type": "execute_result"
    }
   ],
   "source": [
    "from api.src.function.bibframe.bf_type import GetType\n",
    "from api.src.function.bibframe.bf_title import GetTitle\n",
    "from api.src.function.bibframe.bf_Uri import GetUriBF\n",
    "# from src.function.bibframe.bf_contribution import GetContribution\n",
    "# \n",
    "# from src.function.bibframe.bf_Literal import GetLiteral\n",
    "\n",
    "def GetElement(graph, bf, obj):\n",
    "    q = f\"\"\"PREFIX bf: <http://id.loc.gov/ontologies/bibframe/>\n",
    "        PREFIX rdf: <http://www.w3.org/1999/02/22-rdf-syntax-ns#>\n",
    "        PREFIX rdfs: <http://www.w3.org/2000/01/rdf-schema#>\n",
    "            SELECT ?type ?label\n",
    "                WHERE {{ \n",
    "                    <{uri}> bf:{bf} ?uri .\n",
    "                    ?uri rdfs:label ?label .\n",
    "                    ?uri rdf:type ?type .\n",
    "                    }}\"\"\"\n",
    "    response = graph.query(q)\n",
    "    bindings = response.bindings\n",
    "    if len(bindings) > 0:\n",
    "        binding = bindings[0]\n",
    "        v = {\n",
    "            \"type\": binding.get('type').toPython(),\n",
    "            \"label\": binding.get('label').toPython()\n",
    "        }\n",
    "        obj[bf] = v\n",
    "    return obj\n",
    "\n",
    "def GetValeu(graph, bf, obj):\n",
    "    q = f\"\"\"PREFIX bf: <http://id.loc.gov/ontologies/bibframe/>\n",
    "        PREFIX rdf: <http://www.w3.org/1999/02/22-rdf-syntax-ns#>\n",
    "        PREFIX rdfs: <http://www.w3.org/2000/01/rdf-schema#>\n",
    "            SELECT ?value\n",
    "                WHERE {{ \n",
    "                    <{uri}> bf:{bf} ?value .\n",
    "                    }}\"\"\"\n",
    "    response = graph.query(q)\n",
    "    bindings = response.bindings\n",
    "    if len(bindings) > 0:\n",
    "        binding = bindings[0]\n",
    "        obj[bf] = binding.get('value').toPython()\n",
    "    return obj\n",
    "\n",
    "def ParserInstance(graph, uri):\n",
    "    identifier = uri.split(\"/\")[-1]\n",
    "    types = GetType(graph, uri)\n",
    "    title = GetTitle(graph, uri)\n",
    "\n",
    "    obj = {\n",
    "    'adminMetadata': {\n",
    "        'generationProcess': {\n",
    "            'label': 'BiblioKeia'\n",
    "        },\n",
    "        'identifiedBy': [ \n",
    "            {\n",
    "                \"type\": \"Local\",\n",
    "            \"assigner\": \"http://id.loc.gov/vocabulary/organizations/dlc\",\n",
    "            \"value\": identifier\n",
    "            }\n",
    "        ]\n",
    "    },\n",
    "    \"type\": types,\n",
    "    'title': title \n",
    "    }\n",
    "    # carrier\n",
    "    obj = GetUriBF(graph, uri, 'carrier', obj)\n",
    "    # copyrightDate\n",
    "    # obj = GetValeu(graph, \"copyrightDate\", obj)\n",
    "    # dimensions\n",
    "    obj = GetValeu(graph, \"dimensions\", obj)\n",
    "    # extent\n",
    "    obj = GetElement(graph, \"extent\", obj)\n",
    "    # instanceOf\n",
    "    obj = GetUriBF(graph, uri, 'instanceOf', obj)\n",
    "    # issuance\n",
    "    obj = GetUriBF(graph, uri, 'issuance', obj)\n",
    "    # media\n",
    "    obj = GetUriBF(graph, uri, 'media', obj)\n",
    "    # provisionActivityStatement\n",
    "    obj = GetValeu(graph, \"provisionActivityStatement\", obj)\n",
    "    # responsibilityStatement\n",
    "    obj = GetValeu(graph, \"responsibilityStatement\", obj)\n",
    "    # seriesStatement\n",
    "    obj = GetValeu(graph, \"seriesStatement\", obj)\n",
    "\n",
    "\n",
    "\n",
    "\n",
    "    # # Content\n",
    "    # # obj = GetContent(graph, uri, obj)\n",
    "    # # Contribution\n",
    "    # obj = GetContribution(graph, uri, obj)\n",
    "    # # Content\n",
    "    # obj = GetUriBF(graph, uri, 'content', obj)\n",
    "    # # GenreForm\n",
    "    # obj = GetUriBF(graph, uri, 'genreForm', obj)\n",
    "    # # illustrativeContent\n",
    "    # obj = GetUriBF(graph, uri, 'illustrativeContent', obj)\n",
    "    # # intendedAudience\n",
    "    # obj = GetUriBF(graph, uri, 'intendedAudience', obj)\n",
    "    # # language\n",
    "    # obj = GetUriBF(graph, uri, 'language', obj)\n",
    "    # # subject\n",
    "    # obj = GetUriBF(graph, uri, 'subject', obj)\n",
    "    # # supplementaryContent\n",
    "    # obj = GetUriBF(graph, uri, 'supplementaryContent', obj)\n",
    "    # # geographicCoverage\n",
    "    # obj = GetUriBF(graph, uri, 'geographicCoverage', obj)\n",
    "    # # summary\n",
    "    # obj = GetLiteral(graph, uri, 'summary', obj)\n",
    "    # # tableOfContents\n",
    "    # obj = GetLiteral(graph, uri, 'tableOfContents', obj)\n",
    "\n",
    "    response = Instance(**obj)\n",
    "    \n",
    "    return response\n",
    "\n",
    "response = ParserInstance(graph, uri)\n",
    "response.title"
   ]
  },
  {
   "cell_type": "code",
   "execution_count": 89,
   "metadata": {},
   "outputs": [
    {
     "data": {
      "text/plain": [
       "{'instanceOf': {'type': 'http://id.loc.gov/ontologies/bibframe/Work',\n",
       "  'label': 'Popper, Karl R. (Karl Raimund), 1902-1994. Conjectures and refutations : the growth of scientific knowledge'}}"
      ]
     },
     "execution_count": 89,
     "metadata": {},
     "output_type": "execute_result"
    }
   ],
   "source": [
    "obj = GetElement(graph, \"instanceOf\", {})\n",
    "obj\n"
   ]
  },
  {
   "cell_type": "code",
   "execution_count": 110,
   "metadata": {},
   "outputs": [],
   "source": [
    "q = f\"\"\"PREFIX bf: <http://id.loc.gov/ontologies/bibframe/>\n",
    "              SELECT ?mainTitle \n",
    "                WHERE {{ \n",
    "                  <{uri}> bf:title ?title .\n",
    "                ?title bf:mainTitle ?mainTitle\n",
    "                  }}\"\"\"\n",
    "response = graph.query(q)\n",
    "[binding] = response.bindings\n",
    "mainTitle = binding.get('mainTitle').value\n",
    "title = {\n",
    "    'mainTitle':mainTitle\n",
    "  }"
   ]
  },
  {
   "cell_type": "code",
   "execution_count": 115,
   "metadata": {},
   "outputs": [
    {
     "data": {
      "text/plain": [
       "{'mainTitle': 'Conjectures and refutations',\n",
       " 'subtitle': 'the growth of scientific knowledge',\n",
       " 'label': 'Conjectures and refutations : the growth of scientific knowledge'}"
      ]
     },
     "execution_count": 115,
     "metadata": {},
     "output_type": "execute_result"
    }
   ],
   "source": [
    "def GetTitle(graph, uri): \n",
    "\n",
    "  q = f\"\"\"PREFIX bf: <http://id.loc.gov/ontologies/bibframe/>\n",
    "            SELECT ?mainTitle ?subtitle ?label\n",
    "            WHERE {{ \n",
    "                <{uri}> bf:title ?title .\n",
    "                 ?title rdfs:label ?label .\n",
    "  ?title bf:mainTitle ?mainTitle .\n",
    "  OPTIONAL {{ ?title bf:subtitle ?subtitle }}\n",
    "                  }}\"\"\"\n",
    "  response = graph.query(q)\n",
    "  [binding] = response.bindings\n",
    "  mainTitle = binding.get('mainTitle').value\n",
    "\n",
    "  title = {\n",
    "    'mainTitle':mainTitle,\n",
    "    'subtitle': binding.get('subtitle').value,\n",
    "    'label': binding.get('label').value,\n",
    "  }\n",
    "  \n",
    "  return title\n",
    "binding = GetTitle(graph, uri)\n",
    "binding"
   ]
  },
  {
   "cell_type": "code",
   "execution_count": 98,
   "metadata": {},
   "outputs": [
    {
     "name": "stdout",
     "output_type": "stream",
     "text": [
      "http://id.loc.gov/ontologies/bibframe/ProvisionActivity\n",
      "http://id.loc.gov/ontologies/bibframe/Publication\n",
      "1968\n",
      "http://id.loc.gov/vocabulary/countries/nyu\n",
      "http://id.loc.gov/ontologies/bibframe/ProvisionActivity\n",
      "http://id.loc.gov/ontologies/bibframe/Publication\n",
      "Nae282dd406004023a42cfe3b42438275\n",
      "Ne172f9407310411a91342c79ccc29be4\n",
      "1968, c1965\n"
     ]
    }
   ],
   "source": [
    "bindings = response.bindings\n",
    "for binding in bindings:\n",
    "    print(binding.get('o'))"
   ]
  },
  {
   "cell_type": "code",
   "execution_count": 49,
   "metadata": {},
   "outputs": [
    {
     "data": {
      "text/plain": [
       "'http://id.loc.gov/ontologies/bibframe/Extent'"
      ]
     },
     "execution_count": 49,
     "metadata": {},
     "output_type": "execute_result"
    }
   ],
   "source": [
    "t = binding.get('type').toPython()\n",
    "t"
   ]
  },
  {
   "cell_type": "code",
   "execution_count": 100,
   "metadata": {},
   "outputs": [
    {
     "ename": "TypeError",
     "evalue": "Graph.triples() missing 1 required positional argument: 'triple'",
     "output_type": "error",
     "traceback": [
      "\u001b[1;31m---------------------------------------------------------------------------\u001b[0m",
      "\u001b[1;31mTypeError\u001b[0m                                 Traceback (most recent call last)",
      "\u001b[1;32mc:\\Users\\Usuário\\Desktop\\BiblioKeia\\instance.ipynb Cell 9\u001b[0m in \u001b[0;36m<cell line: 1>\u001b[1;34m()\u001b[0m\n\u001b[1;32m----> <a href='vscode-notebook-cell:/c%3A/Users/Usu%C3%A1rio/Desktop/BiblioKeia/instance.ipynb#X13sZmlsZQ%3D%3D?line=0'>1</a>\u001b[0m graph\u001b[39m.\u001b[39;49mtriples()\n",
      "\u001b[1;31mTypeError\u001b[0m: Graph.triples() missing 1 required positional argument: 'triple'"
     ]
    }
   ],
   "source": [
    "graph.triples(())"
   ]
  }
 ],
 "metadata": {
  "kernelspec": {
   "display_name": "venv",
   "language": "python",
   "name": "python3"
  },
  "language_info": {
   "codemirror_mode": {
    "name": "ipython",
    "version": 3
   },
   "file_extension": ".py",
   "mimetype": "text/x-python",
   "name": "python",
   "nbconvert_exporter": "python",
   "pygments_lexer": "ipython3",
   "version": "3.10.4"
  },
  "orig_nbformat": 4
 },
 "nbformat": 4,
 "nbformat_minor": 2
}
