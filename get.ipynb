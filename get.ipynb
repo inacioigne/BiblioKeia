{
 "cells": [
  {
   "cell_type": "code",
   "execution_count": 1,
   "metadata": {},
   "outputs": [],
   "source": [
    "from pyfuseki import FusekiUpdate, FusekiQuery\n",
    "import httpx\n",
    "from rdflib import Graph\n",
    "from pysolr import Solr\n",
    "from api.src.schemas.bibframe.work import Work_Schema, Work_Edit, Work_Response"
   ]
  },
  {
   "cell_type": "code",
   "execution_count": 14,
   "metadata": {},
   "outputs": [],
   "source": [
    "acervoQuery = FusekiQuery('http://localhost:3030', 'acervo')\n",
    "prefix = \"\"\"PREFIX work: <https://bibliokeia.com/resources/work/>\n",
    "    PREFIX rdf: <http://www.w3.org/1999/02/22-rdf-syntax-ns#>\n",
    "    PREFIX bf: <http://id.loc.gov/ontologies/bibframe/>\n",
    "    PREFIX rdfs: <http://www.w3.org/2000/01/rdf-schema#>\"\"\""
   ]
  },
  {
   "cell_type": "code",
   "execution_count": 12,
   "metadata": {},
   "outputs": [],
   "source": [
    "query = prefix+\"\"\"SELECT * WHERE { \n",
    "  graph work:bk-1 {\n",
    "  work:bk-1 ?p ?o } }\"\"\"\n",
    "\n",
    "response = acervoQuery.run_sparql(query)\n",
    "# response = response.convert()\n",
    "# bindings = response['results']['bindings']\n",
    "# bindings"
   ]
  },
  {
   "attachments": {},
   "cell_type": "markdown",
   "metadata": {},
   "source": [
    "Type"
   ]
  },
  {
   "cell_type": "code",
   "execution_count": 29,
   "metadata": {},
   "outputs": [
    {
     "data": {
      "text/plain": [
       "{'head': {'vars': ['o']},\n",
       " 'results': {'bindings': [{'o': {'type': 'uri',\n",
       "     'value': 'http://id.loc.gov/ontologies/bibframe/Work'}},\n",
       "   {'o': {'type': 'uri',\n",
       "     'value': 'http://id.loc.gov/ontologies/bibframe/Text'}}]}}"
      ]
     },
     "execution_count": 29,
     "metadata": {},
     "output_type": "execute_result"
    }
   ],
   "source": [
    "queryType = prefix+\"\"\"SELECT * WHERE { \n",
    "  graph work:bk-1 {\n",
    "  work:bk-1 rdf:type ?o } }\"\"\"\n",
    "response = acervoQuery.run_sparql(queryType)\n",
    "response = response.convert()\n",
    "bindings = response['results']['bindings']"
   ]
  },
  {
   "cell_type": "code",
   "execution_count": 36,
   "metadata": {},
   "outputs": [
    {
     "name": "stdout",
     "output_type": "stream",
     "text": [
      "['Work', 'Text']\n"
     ]
    }
   ],
   "source": [
    "values = list()\n",
    "for i in bindings:\n",
    "    value = i['o']['value'].split(\"/\")[-1]\n",
    "    values.append(value)\n",
    "print(values)"
   ]
  },
  {
   "cell_type": "code",
   "execution_count": 11,
   "metadata": {},
   "outputs": [
    {
     "name": "stdout",
     "output_type": "stream",
     "text": [
      "http://www.w3.org/1999/02/22-rdf-syntax-ns#type\n",
      "http://www.w3.org/1999/02/22-rdf-syntax-ns#type\n",
      "http://id.loc.gov/ontologies/bibframe/subject\n",
      "http://id.loc.gov/ontologies/bibframe/subject\n",
      "http://id.loc.gov/ontologies/bibframe/subject\n",
      "http://id.loc.gov/ontologies/bibframe/contribution\n",
      "http://id.loc.gov/ontologies/bibframe/language\n",
      "http://id.loc.gov/ontologies/bibframe/adminMetadata\n",
      "http://id.loc.gov/ontologies/bibframe/title\n",
      "http://id.loc.gov/ontologies/bibframe/classification\n"
     ]
    }
   ],
   "source": [
    "for i in bindings:\n",
    "    metadado = i['p']['value']\n",
    "    print(i['p']['value'])"
   ]
  },
  {
   "attachments": {},
   "cell_type": "markdown",
   "metadata": {},
   "source": [
    "Classification"
   ]
  },
  {
   "cell_type": "code",
   "execution_count": 37,
   "metadata": {},
   "outputs": [
    {
     "data": {
      "text/plain": [
       "[{'p': {'type': 'uri',\n",
       "   'value': 'http://www.w3.org/1999/02/22-rdf-syntax-ns#type'},\n",
       "  'o': {'type': 'uri',\n",
       "   'value': 'http://id.loc.gov/ontologies/bibframe/ClassificationDdc'}},\n",
       " {'p': {'type': 'uri',\n",
       "   'value': 'http://id.loc.gov/ontologies/bibframe/classificationPortion'},\n",
       "  'o': {'type': 'literal',\n",
       "   'datatype': 'http://www.w3.org/2001/XMLSchema#decimal',\n",
       "   'value': '584.6'}},\n",
       " {'p': {'type': 'uri',\n",
       "   'value': 'http://id.loc.gov/ontologies/bibframe/itemPortion'},\n",
       "  'o': {'type': 'literal', 'value': 'O48c'}}]"
      ]
     },
     "execution_count": 37,
     "metadata": {},
     "output_type": "execute_result"
    }
   ],
   "source": [
    "query = \"\"\"SELECT ?p ?o WHERE { graph work:bk-1 {\n",
    "  work:bk-1  bf:classification ?classification .\n",
    "    ?classification ?p ?o \n",
    "  } }\"\"\"\n",
    "\n",
    "queryClassfication = prefix+query\n",
    "response = acervoQuery.run_sparql(queryClassfication)\n",
    "response = response.convert()\n",
    "bindings = response['results']['bindings']\n",
    "bindings"
   ]
  },
  {
   "cell_type": "code",
   "execution_count": 49,
   "metadata": {},
   "outputs": [
    {
     "name": "stdout",
     "output_type": "stream",
     "text": [
      "classificationPortion\n",
      "itemPortion\n",
      "{'type': 'ClassificationDdc', 'classificationPortion': '584.6', 'itemPortion': 'O48c'}\n"
     ]
    }
   ],
   "source": [
    "classification = {}\n",
    "for i in bindings:\n",
    "    metadadoUri = i['p']['value']\n",
    "    if metadadoUri == 'http://www.w3.org/1999/02/22-rdf-syntax-ns#type':\n",
    "        value = i['o']['value'].split('/')[-1]\n",
    "        classification['type'] = value\n",
    "    else:\n",
    "        metadado = i['p']['value'].split('/')[-1]\n",
    "        value = i['o']['value'].split('/')[-1]\n",
    "        classification[metadado] = value\n",
    "\n",
    "        print(metadado)\n",
    "\n",
    "print(classification)"
   ]
  },
  {
   "attachments": {},
   "cell_type": "markdown",
   "metadata": {},
   "source": [
    "contribution"
   ]
  },
  {
   "cell_type": "code",
   "execution_count": 50,
   "metadata": {},
   "outputs": [
    {
     "data": {
      "text/plain": [
       "[{'p': {'type': 'uri', 'value': 'http://www.w3.org/2000/01/rdf-schema#label'},\n",
       "  'o': {'type': 'literal', 'value': 'Karl R. Popper MUDADO'}},\n",
       " {'p': {'type': 'uri',\n",
       "   'value': 'http://www.w3.org/1999/02/22-rdf-syntax-ns#type'},\n",
       "  'o': {'type': 'uri',\n",
       "   'value': 'http://id.loc.gov/ontologies/bibframe/Contribution'}},\n",
       " {'p': {'type': 'uri', 'value': 'http://id.loc.gov/ontologies/bibframe/role'},\n",
       "  'o': {'type': 'uri', 'value': 'http://id.loc.gov/vocabulary/relators/aut'}},\n",
       " {'p': {'type': 'uri', 'value': 'http://id.loc.gov/ontologies/bibframe/agent'},\n",
       "  'o': {'type': 'uri',\n",
       "   'value': 'https://bibliokeia.com/authorities/names/n80032184'}}]"
      ]
     },
     "execution_count": 50,
     "metadata": {},
     "output_type": "execute_result"
    }
   ],
   "source": [
    "query = \"\"\"SELECT ?p ?o WHERE { graph work:bk-1 {\n",
    "  work:bk-1  bf:contribution ?contribution .\n",
    "    ?contribution ?p ?o \n",
    "  } }\"\"\"\n",
    "\n",
    "queryContribution = prefix+query\n",
    "response = acervoQuery.run_sparql(queryContribution)\n",
    "response = response.convert()\n",
    "bindings = response['results']['bindings']\n",
    "bindings"
   ]
  },
  {
   "cell_type": "code",
   "execution_count": 73,
   "metadata": {},
   "outputs": [
    {
     "name": "stdout",
     "output_type": "stream",
     "text": [
      "{'label': 'Karl R. Popper MUDADO', 'role': 'aut', 'uri': 'https://bibliokeia.com/authorities/names/n80032184'}\n"
     ]
    }
   ],
   "source": [
    "contribution = {}\n",
    "for i in bindings:\n",
    "    metadadoUri = i['p']['value']\n",
    "    if metadadoUri == 'http://www.w3.org/2000/01/rdf-schema#label':\n",
    "        contribution['label'] = i['o']['value']\n",
    "    elif metadadoUri == 'http://id.loc.gov/ontologies/bibframe/role':\n",
    "        value = i['o']['value'].split('/')[-1]\n",
    "        contribution['role'] = value\n",
    "    elif metadadoUri == 'http://id.loc.gov/ontologies/bibframe/agent':\n",
    "        value = i['o']['value']\n",
    "        contribution['uri'] = value\n",
    "        \n",
    "print(contribution)"
   ]
  },
  {
   "cell_type": "code",
   "execution_count": null,
   "metadata": {},
   "outputs": [],
   "source": [
    "x = {\n",
    "  \"type\": [\n",
    "    \"Work\",\n",
    "    \"Text\"\n",
    "  ],\n",
    "  \"classification\": {\n",
    "    \"type\": \"ClassificationDdc\",\n",
    "    \"classificationPortion\": \"584.6\",\n",
    "    \"itemPortion\": \"O48c\"\n",
    "  },\n",
    "  \"contribution\": {\n",
    "    \"label\": \"Karl R. Popper MUDADO\",\n",
    "    \"role\": \"aut\",\n",
    "    \"uri\": \"https://bibliokeia.com/authorities/names/n80032184\"\n",
    "  }\n",
    "}\n",
    "\n",
    "r = Work_Response(**x)\n",
    "r\n",
    "\n"
   ]
  },
  {
   "attachments": {},
   "cell_type": "markdown",
   "metadata": {},
   "source": [
    "LANGUAGEN"
   ]
  },
  {
   "cell_type": "code",
   "execution_count": 4,
   "metadata": {},
   "outputs": [
    {
     "data": {
      "text/plain": [
       "[{'language': {'type': 'uri',\n",
       "   'value': 'http://id.loc.gov/vocabulary/languages/eng'}}]"
      ]
     },
     "execution_count": 4,
     "metadata": {},
     "output_type": "execute_result"
    }
   ],
   "source": [
    "bkID = 'bk-1'\n",
    "query = \"SELECT * WHERE { graph work:\"+bkID+\"\"\" {\n",
    "            work:\"\"\"+bkID+\"\"\"  bf:language ?language \n",
    "            } }\"\"\"\n",
    "queryLanguage = prefix+query\n",
    "response = acervoQuery.run_sparql(queryLanguage)\n",
    "response = response.convert()\n",
    "bindings = response['results']['bindings']\n",
    "bindings"
   ]
  },
  {
   "cell_type": "code",
   "execution_count": 8,
   "metadata": {},
   "outputs": [
    {
     "name": "stdout",
     "output_type": "stream",
     "text": [
      "eng\n"
     ]
    }
   ],
   "source": [
    "for i in bindings:\n",
    "    code = i['language']['value'].split(\"/\")[-1]\n",
    "    print(code)"
   ]
  },
  {
   "attachments": {},
   "cell_type": "markdown",
   "metadata": {},
   "source": [
    "SUBJECT"
   ]
  },
  {
   "cell_type": "code",
   "execution_count": 21,
   "metadata": {},
   "outputs": [],
   "source": [
    "authorityQuery = FusekiQuery('http://localhost:3030', 'authorities')\n",
    "authorityUp = FusekiUpdate('http://localhost:3030', 'authorities')"
   ]
  },
  {
   "cell_type": "code",
   "execution_count": 18,
   "metadata": {},
   "outputs": [],
   "source": [
    "bkID = \"bk-2\"\n",
    "query = \"SELECT * WHERE { graph work:\"+bkID+\"\"\" {\n",
    "  work:\"\"\"+bkID+\"\"\"  bf:subject ?subject } }\"\"\"\n",
    "\n"
   ]
  },
  {
   "cell_type": "code",
   "execution_count": 19,
   "metadata": {},
   "outputs": [
    {
     "data": {
      "text/plain": [
       "[{'subject': {'type': 'uri',\n",
       "   'value': 'https://bibliokeia.com/authorities/subjects/n80002329'}}]"
      ]
     },
     "execution_count": 19,
     "metadata": {},
     "output_type": "execute_result"
    }
   ],
   "source": [
    "prefix  = \"\"\"PREFIX rdf: <http://www.w3.org/1999/02/22-rdf-syntax-ns#>\n",
    "PREFIX rdfs: <http://www.w3.org/2000/01/rdf-schema#>\n",
    "PREFIX work: <https://bibliokeia.com/resources/work/>\n",
    "PREFIX subjects: <https://bibliokeia.com/authorities/subjects/>\n",
    "PREFIX bf: <http://id.loc.gov/ontologies/bibframe/>\n",
    "PREFIX madsrdf: <http://www.loc.gov/mads/rdf/v1#>\"\"\"\n",
    "\n",
    "querySubject = prefix+query\n",
    "response = acervoQuery.run_sparql(querySubject)\n",
    "response = response.convert()\n",
    "bindings = response['results']['bindings']\n",
    "bindings\n"
   ]
  },
  {
   "cell_type": "code",
   "execution_count": 22,
   "metadata": {},
   "outputs": [
    {
     "ename": "ValueError",
     "evalue": "not enough values to unpack (expected 1, got 0)",
     "output_type": "error",
     "traceback": [
      "\u001b[1;31m---------------------------------------------------------------------------\u001b[0m",
      "\u001b[1;31mValueError\u001b[0m                                Traceback (most recent call last)",
      "\u001b[1;32mc:\\Users\\Usuário\\Desktop\\BiblioKeia\\get.ipynb Cell 22\u001b[0m in \u001b[0;36m<cell line: 2>\u001b[1;34m()\u001b[0m\n\u001b[0;32m     <a href='vscode-notebook-cell:/c%3A/Users/Usu%C3%A1rio/Desktop/BiblioKeia/get.ipynb#X31sZmlsZQ%3D%3D?line=9'>10</a>\u001b[0m response \u001b[39m=\u001b[39m authorityQuery\u001b[39m.\u001b[39mrun_sparql(querySubject)\n\u001b[0;32m     <a href='vscode-notebook-cell:/c%3A/Users/Usu%C3%A1rio/Desktop/BiblioKeia/get.ipynb#X31sZmlsZQ%3D%3D?line=10'>11</a>\u001b[0m response \u001b[39m=\u001b[39m response\u001b[39m.\u001b[39mconvert()\n\u001b[1;32m---> <a href='vscode-notebook-cell:/c%3A/Users/Usu%C3%A1rio/Desktop/BiblioKeia/get.ipynb#X31sZmlsZQ%3D%3D?line=11'>12</a>\u001b[0m [response] \u001b[39m=\u001b[39m response[\u001b[39m'\u001b[39m\u001b[39mresults\u001b[39m\u001b[39m'\u001b[39m][\u001b[39m'\u001b[39m\u001b[39mbindings\u001b[39m\u001b[39m'\u001b[39m]\n\u001b[0;32m     <a href='vscode-notebook-cell:/c%3A/Users/Usu%C3%A1rio/Desktop/BiblioKeia/get.ipynb#X31sZmlsZQ%3D%3D?line=12'>13</a>\u001b[0m label \u001b[39m=\u001b[39m response[\u001b[39m'\u001b[39m\u001b[39mlabel\u001b[39m\u001b[39m'\u001b[39m][\u001b[39m'\u001b[39m\u001b[39mvalue\u001b[39m\u001b[39m'\u001b[39m]\n\u001b[0;32m     <a href='vscode-notebook-cell:/c%3A/Users/Usu%C3%A1rio/Desktop/BiblioKeia/get.ipynb#X31sZmlsZQ%3D%3D?line=13'>14</a>\u001b[0m tipo \u001b[39m=\u001b[39m response[\u001b[39m'\u001b[39m\u001b[39mtype\u001b[39m\u001b[39m'\u001b[39m][\u001b[39m'\u001b[39m\u001b[39mvalue\u001b[39m\u001b[39m'\u001b[39m]\u001b[39m.\u001b[39msplit(\u001b[39m\"\u001b[39m\u001b[39m#\u001b[39m\u001b[39m\"\u001b[39m)[\u001b[39m-\u001b[39m\u001b[39m1\u001b[39m]\n",
      "\u001b[1;31mValueError\u001b[0m: not enough values to unpack (expected 1, got 0)"
     ]
    }
   ],
   "source": [
    "subjects = list()\n",
    "for i in bindings:\n",
    "    subjectID = i['subject']['value'].split(\"/\")[-1]\n",
    "    query = \"\"\"SELECT * WHERE { graph subjects:\"\"\"+subjectID+\"\"\" {\n",
    "        subjects:\"\"\"+subjectID+\"\"\" madsrdf:authoritativeLabel ?label .\n",
    "        subjects:\"\"\"+subjectID+\"\"\" rdf:type ?type .\n",
    "        FILTER(?type != madsrdf:Authority)\n",
    "    } }\"\"\"\n",
    "    querySubject = prefix+query\n",
    "    response = authorityQuery.run_sparql(querySubject)\n",
    "    response = response.convert()\n",
    "    [response] = response['results']['bindings']\n",
    "    label = response['label']['value']\n",
    "    tipo = response['type']['value'].split(\"#\")[-1]\n",
    "    s = {\"label\": label, \"type\": tipo,\n",
    "            \"uri\": f\"https://bibliokeia.com/authorities/subjects/{subjectID}\"}\n",
    "\n",
    "    subjects.append(s)\n",
    "subjects"
   ]
  },
  {
   "cell_type": "code",
   "execution_count": 24,
   "metadata": {},
   "outputs": [
    {
     "name": "stdout",
     "output_type": "stream",
     "text": [
      "n80002329\n"
     ]
    }
   ],
   "source": [
    "for i in bindings:\n",
    "    subjectID = i['subject']['value'].split(\"/\")[-1]\n",
    "    print(subjectID)\n",
    "    "
   ]
  },
  {
   "cell_type": "code",
   "execution_count": 49,
   "metadata": {},
   "outputs": [
    {
     "name": "stdout",
     "output_type": "stream",
     "text": [
      "{'label': 'Metodologia', 'type': 'Topic'}\n"
     ]
    }
   ],
   "source": [
    "for [i] in subjects:\n",
    "    label = i['label']['value']\n",
    "    tipo = i['type']['value'].split(\"#\")[-1]\n",
    "    s = {'label': label, 'type': tipo}\n",
    "    print(s)"
   ]
  },
  {
   "cell_type": "code",
   "execution_count": 37,
   "metadata": {},
   "outputs": [
    {
     "data": {
      "text/plain": [
       "{'label': {'type': 'literal', 'xml:lang': 'pt', 'value': 'Metodologia'},\n",
       " 'type': {'type': 'uri', 'value': 'http://www.loc.gov/mads/rdf/v1#Topic'}}"
      ]
     },
     "execution_count": 37,
     "metadata": {},
     "output_type": "execute_result"
    }
   ],
   "source": [
    "subjects[0][0]"
   ]
  },
  {
   "cell_type": "code",
   "execution_count": 17,
   "metadata": {},
   "outputs": [
    {
     "data": {
      "text/plain": [
       "{'statusCode': 200, 'message': 'Update succeeded'}"
      ]
     },
     "execution_count": 17,
     "metadata": {},
     "output_type": "execute_result"
    }
   ],
   "source": [
    "d = \"\"\"DELETE { graph subjects:n80002329 { ?s ?p ?o } } \n",
    "        WHERE {\n",
    "        graph ?g {?s ?p ?o.}\n",
    "        }\"\"\"\n",
    "deleteSubject = prefix+d\n",
    "\n",
    "response = authorityUp.run_sparql(deleteSubject)\n",
    "response.convert()"
   ]
  },
  {
   "cell_type": "code",
   "execution_count": 19,
   "metadata": {},
   "outputs": [
    {
     "data": {
      "text/plain": [
       "Work_Edit(ID=None, content=None, mainTitle=None, subtitle=None, variantTitle=None, primaryContributionAgent=None, primaryContributionUri=None, primaryContributionRole=None, primaryContributionRoleUri=None, subjects=[Subject(label='Metodologia', uri='https://bibliokeia.com/authorities/subjects/sh85084414')], language=None, languageCode=None, cdd=None, cutter=None, serie=None, serieURI=None)"
      ]
     },
     "execution_count": 19,
     "metadata": {},
     "output_type": "execute_result"
    }
   ],
   "source": [
    "edit = {\n",
    "  \"subjects\": [\n",
    "    {\n",
    "      \"label\": \"Metodologia\",\n",
    "      \"uri\": \"https://bibliokeia.com/authorities/subjects/sh85084414\"\n",
    "    }\n",
    "  ]\n",
    "}\n",
    "obj = Work_Edit(**edit)\n",
    "obj"
   ]
  },
  {
   "cell_type": "code",
   "execution_count": 29,
   "metadata": {},
   "outputs": [],
   "source": [
    "doc = {\"id\": \"bk-i\"}\n",
    "for k, v in obj:\n",
    "    if v:\n",
    "            if k == 'subjects':\n",
    "                  subs = [i.label for i in v]\n",
    "                  doc[k] = {\"set\": subs}\n",
    "                    "
   ]
  },
  {
   "cell_type": "code",
   "execution_count": 30,
   "metadata": {},
   "outputs": [
    {
     "data": {
      "text/plain": [
       "{'id': 'bk-i', 'subjects': {'set': ['Metodologia']}}"
      ]
     },
     "execution_count": 30,
     "metadata": {},
     "output_type": "execute_result"
    }
   ],
   "source": [
    "doc"
   ]
  },
  {
   "cell_type": "code",
   "execution_count": 2,
   "metadata": {},
   "outputs": [
    {
     "data": {
      "text/plain": [
       "Work_Schema(ID='bk-1', content='work', title=Title(mainTitle='Conjecturas e refutações', subtitle=None, variantTitle=None), primaryContribution=Contribution(label='Karl R. Popper', role='aut', uri='https://bibliokeia.com/authorities/names/n80032184'), subjects=[Subject(label='Ciência', type='Topic', uri='https://bibliokeia.com/authorities/subjects/n80002329')], language='Portugês', languageCode='por', cdd='542.3', cutter='O48c', serie=None, serieURI=None)"
      ]
     },
     "execution_count": 2,
     "metadata": {},
     "output_type": "execute_result"
    }
   ],
   "source": [
    "work = {\n",
    "  \"ID\": \"bk-1\",\n",
    "  \"content\": \"Texto\",\n",
    "  \"title\": {\n",
    "    \"mainTitle\": \"Conjecturas e refutações\"\n",
    "  },\n",
    "  \"primaryContribution\": {\n",
    "    \"label\": \"Karl R. Popper\",\n",
    "    \"role\": \"aut\",\n",
    "    \"uri\": \"https://bibliokeia.com/authorities/names/n80032184\"\n",
    "  },\n",
    "  \"subjects\": [\n",
    "    {\n",
    "      \"label\": \"Metodologia\",\n",
    "      \"type\": \"Topic\",\n",
    "      \"uri\": \"https://bibliokeia.com/authorities/subjects/sh85084414\"\n",
    "    }\n",
    "  ],\n",
    "  \"language\": \"Portugês\",\n",
    "  \"languageCode\": \"por\",\n",
    "  \"cdd\": \"542.3\",\n",
    "  \"cutter\": \"O48c\"\n",
    "}\n",
    "\n",
    "request = Work_Schema(**work)\n",
    "request"
   ]
  },
  {
   "cell_type": "code",
   "execution_count": 5,
   "metadata": {},
   "outputs": [
    {
     "data": {
      "text/plain": [
       "Contribution(label='Karl R. Popper', role='aut', uri='https://bibliokeia.com/authorities/names/n80032184')"
      ]
     },
     "execution_count": 5,
     "metadata": {},
     "output_type": "execute_result"
    }
   ],
   "source": [
    "request.primaryContribution.label"
   ]
  },
  {
   "cell_type": "code",
   "execution_count": 6,
   "metadata": {},
   "outputs": [
    {
     "data": {
      "text/plain": [
       "'Karl R. Popper'"
      ]
     },
     "execution_count": 6,
     "metadata": {},
     "output_type": "execute_result"
    }
   ],
   "source": [
    "request.primaryContribution.label"
   ]
  },
  {
   "cell_type": "code",
   "execution_count": 11,
   "metadata": {},
   "outputs": [
    {
     "data": {
      "text/plain": [
       "[Subject(label='Ciência', type='Topic', uri='https://bibliokeia.com/authorities/subjects/n80002329')]"
      ]
     },
     "execution_count": 11,
     "metadata": {},
     "output_type": "execute_result"
    }
   ],
   "source": [
    "request.subjects"
   ]
  },
  {
   "cell_type": "code",
   "execution_count": 12,
   "metadata": {},
   "outputs": [
    {
     "name": "stdout",
     "output_type": "stream",
     "text": [
      "label='Ciência' type='Topic' uri='https://bibliokeia.com/authorities/subjects/n80002329'\n"
     ]
    }
   ],
   "source": [
    "for subject in request.subjects:\n",
    "    print(subject)"
   ]
  },
  {
   "attachments": {},
   "cell_type": "markdown",
   "metadata": {},
   "source": [
    "DELETE WORK"
   ]
  },
  {
   "cell_type": "code",
   "execution_count": 27,
   "metadata": {},
   "outputs": [
    {
     "data": {
      "text/plain": [
       "{'statusCode': 200, 'message': 'Update succeeded'}"
      ]
     },
     "execution_count": 27,
     "metadata": {},
     "output_type": "execute_result"
    }
   ],
   "source": [
    "upAcervo = FusekiUpdate('http://localhost:3030', 'acervo')\n",
    "\n",
    "d = \"\"\"DELETE { graph <https://bibliokeia.com/resources/work/bkFHJFFF-1> { ?s ?p ?o } } \n",
    "        WHERE {\n",
    "        graph ?g {?s ?p ?o.}\n",
    "        }\"\"\"\n",
    "\n",
    "response = upAcervo.run_sparql(d)\n",
    "response.convert()"
   ]
  }
 ],
 "metadata": {
  "kernelspec": {
   "display_name": "venv",
   "language": "python",
   "name": "python3"
  },
  "language_info": {
   "codemirror_mode": {
    "name": "ipython",
    "version": 3
   },
   "file_extension": ".py",
   "mimetype": "text/x-python",
   "name": "python",
   "nbconvert_exporter": "python",
   "pygments_lexer": "ipython3",
   "version": "3.10.4"
  },
  "orig_nbformat": 4
 },
 "nbformat": 4,
 "nbformat_minor": 2
}
