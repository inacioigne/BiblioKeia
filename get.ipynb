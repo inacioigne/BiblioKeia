{
 "cells": [
  {
   "cell_type": "code",
   "execution_count": 74,
   "metadata": {},
   "outputs": [],
   "source": [
    "from pyfuseki import FusekiUpdate, FusekiQuery\n",
    "import httpx\n",
    "from rdflib import Graph\n",
    "from pysolr import Solr\n",
    "from api.src.schemas.bibframe.work import Work_Schema, Work_Edit, Work_Response"
   ]
  },
  {
   "cell_type": "code",
   "execution_count": 3,
   "metadata": {},
   "outputs": [],
   "source": [
    "acervoQuery = FusekiQuery('http://localhost:3030', 'acervo')"
   ]
  },
  {
   "cell_type": "code",
   "execution_count": 12,
   "metadata": {},
   "outputs": [],
   "source": [
    "prefix = \"\"\"PREFIX work: <https://bibliokeia.com/resources/work/>\n",
    "    PREFIX rdf: <http://www.w3.org/1999/02/22-rdf-syntax-ns#>\n",
    "    PREFIX bf: <http://id.loc.gov/ontologies/bibframe/>\n",
    "    PREFIX rdfs: <http://www.w3.org/2000/01/rdf-schema#>\"\"\"\n",
    "\n",
    "query = prefix+\"\"\"SELECT * WHERE { \n",
    "  graph work:bk-1 {\n",
    "  work:bk-1 ?p ?o } }\"\"\"\n",
    "\n",
    "response = acervoQuery.run_sparql(query)\n",
    "# response = response.convert()\n",
    "# bindings = response['results']['bindings']\n",
    "# bindings"
   ]
  },
  {
   "attachments": {},
   "cell_type": "markdown",
   "metadata": {},
   "source": [
    "Type"
   ]
  },
  {
   "cell_type": "code",
   "execution_count": 29,
   "metadata": {},
   "outputs": [
    {
     "data": {
      "text/plain": [
       "{'head': {'vars': ['o']},\n",
       " 'results': {'bindings': [{'o': {'type': 'uri',\n",
       "     'value': 'http://id.loc.gov/ontologies/bibframe/Work'}},\n",
       "   {'o': {'type': 'uri',\n",
       "     'value': 'http://id.loc.gov/ontologies/bibframe/Text'}}]}}"
      ]
     },
     "execution_count": 29,
     "metadata": {},
     "output_type": "execute_result"
    }
   ],
   "source": [
    "queryType = prefix+\"\"\"SELECT * WHERE { \n",
    "  graph work:bk-1 {\n",
    "  work:bk-1 rdf:type ?o } }\"\"\"\n",
    "response = acervoQuery.run_sparql(queryType)\n",
    "response = response.convert()\n",
    "bindings = response['results']['bindings']"
   ]
  },
  {
   "cell_type": "code",
   "execution_count": 36,
   "metadata": {},
   "outputs": [
    {
     "name": "stdout",
     "output_type": "stream",
     "text": [
      "['Work', 'Text']\n"
     ]
    }
   ],
   "source": [
    "values = list()\n",
    "for i in bindings:\n",
    "    value = i['o']['value'].split(\"/\")[-1]\n",
    "    values.append(value)\n",
    "print(values)"
   ]
  },
  {
   "cell_type": "code",
   "execution_count": 11,
   "metadata": {},
   "outputs": [
    {
     "name": "stdout",
     "output_type": "stream",
     "text": [
      "http://www.w3.org/1999/02/22-rdf-syntax-ns#type\n",
      "http://www.w3.org/1999/02/22-rdf-syntax-ns#type\n",
      "http://id.loc.gov/ontologies/bibframe/subject\n",
      "http://id.loc.gov/ontologies/bibframe/subject\n",
      "http://id.loc.gov/ontologies/bibframe/subject\n",
      "http://id.loc.gov/ontologies/bibframe/contribution\n",
      "http://id.loc.gov/ontologies/bibframe/language\n",
      "http://id.loc.gov/ontologies/bibframe/adminMetadata\n",
      "http://id.loc.gov/ontologies/bibframe/title\n",
      "http://id.loc.gov/ontologies/bibframe/classification\n"
     ]
    }
   ],
   "source": [
    "for i in bindings:\n",
    "    metadado = i['p']['value']\n",
    "    print(i['p']['value'])"
   ]
  },
  {
   "attachments": {},
   "cell_type": "markdown",
   "metadata": {},
   "source": [
    "Classification"
   ]
  },
  {
   "cell_type": "code",
   "execution_count": 37,
   "metadata": {},
   "outputs": [
    {
     "data": {
      "text/plain": [
       "[{'p': {'type': 'uri',\n",
       "   'value': 'http://www.w3.org/1999/02/22-rdf-syntax-ns#type'},\n",
       "  'o': {'type': 'uri',\n",
       "   'value': 'http://id.loc.gov/ontologies/bibframe/ClassificationDdc'}},\n",
       " {'p': {'type': 'uri',\n",
       "   'value': 'http://id.loc.gov/ontologies/bibframe/classificationPortion'},\n",
       "  'o': {'type': 'literal',\n",
       "   'datatype': 'http://www.w3.org/2001/XMLSchema#decimal',\n",
       "   'value': '584.6'}},\n",
       " {'p': {'type': 'uri',\n",
       "   'value': 'http://id.loc.gov/ontologies/bibframe/itemPortion'},\n",
       "  'o': {'type': 'literal', 'value': 'O48c'}}]"
      ]
     },
     "execution_count": 37,
     "metadata": {},
     "output_type": "execute_result"
    }
   ],
   "source": [
    "query = \"\"\"SELECT ?p ?o WHERE { graph work:bk-1 {\n",
    "  work:bk-1  bf:classification ?classification .\n",
    "    ?classification ?p ?o \n",
    "  } }\"\"\"\n",
    "\n",
    "queryClassfication = prefix+query\n",
    "response = acervoQuery.run_sparql(queryClassfication)\n",
    "response = response.convert()\n",
    "bindings = response['results']['bindings']\n",
    "bindings"
   ]
  },
  {
   "cell_type": "code",
   "execution_count": 49,
   "metadata": {},
   "outputs": [
    {
     "name": "stdout",
     "output_type": "stream",
     "text": [
      "classificationPortion\n",
      "itemPortion\n",
      "{'type': 'ClassificationDdc', 'classificationPortion': '584.6', 'itemPortion': 'O48c'}\n"
     ]
    }
   ],
   "source": [
    "classification = {}\n",
    "for i in bindings:\n",
    "    metadadoUri = i['p']['value']\n",
    "    if metadadoUri == 'http://www.w3.org/1999/02/22-rdf-syntax-ns#type':\n",
    "        value = i['o']['value'].split('/')[-1]\n",
    "        classification['type'] = value\n",
    "    else:\n",
    "        metadado = i['p']['value'].split('/')[-1]\n",
    "        value = i['o']['value'].split('/')[-1]\n",
    "        classification[metadado] = value\n",
    "\n",
    "        print(metadado)\n",
    "\n",
    "print(classification)"
   ]
  },
  {
   "attachments": {},
   "cell_type": "markdown",
   "metadata": {},
   "source": [
    "contribution"
   ]
  },
  {
   "cell_type": "code",
   "execution_count": 50,
   "metadata": {},
   "outputs": [
    {
     "data": {
      "text/plain": [
       "[{'p': {'type': 'uri', 'value': 'http://www.w3.org/2000/01/rdf-schema#label'},\n",
       "  'o': {'type': 'literal', 'value': 'Karl R. Popper MUDADO'}},\n",
       " {'p': {'type': 'uri',\n",
       "   'value': 'http://www.w3.org/1999/02/22-rdf-syntax-ns#type'},\n",
       "  'o': {'type': 'uri',\n",
       "   'value': 'http://id.loc.gov/ontologies/bibframe/Contribution'}},\n",
       " {'p': {'type': 'uri', 'value': 'http://id.loc.gov/ontologies/bibframe/role'},\n",
       "  'o': {'type': 'uri', 'value': 'http://id.loc.gov/vocabulary/relators/aut'}},\n",
       " {'p': {'type': 'uri', 'value': 'http://id.loc.gov/ontologies/bibframe/agent'},\n",
       "  'o': {'type': 'uri',\n",
       "   'value': 'https://bibliokeia.com/authorities/names/n80032184'}}]"
      ]
     },
     "execution_count": 50,
     "metadata": {},
     "output_type": "execute_result"
    }
   ],
   "source": [
    "query = \"\"\"SELECT ?p ?o WHERE { graph work:bk-1 {\n",
    "  work:bk-1  bf:contribution ?contribution .\n",
    "    ?contribution ?p ?o \n",
    "  } }\"\"\"\n",
    "\n",
    "queryContribution = prefix+query\n",
    "response = acervoQuery.run_sparql(queryContribution)\n",
    "response = response.convert()\n",
    "bindings = response['results']['bindings']\n",
    "bindings"
   ]
  },
  {
   "cell_type": "code",
   "execution_count": 73,
   "metadata": {},
   "outputs": [
    {
     "name": "stdout",
     "output_type": "stream",
     "text": [
      "{'label': 'Karl R. Popper MUDADO', 'role': 'aut', 'uri': 'https://bibliokeia.com/authorities/names/n80032184'}\n"
     ]
    }
   ],
   "source": [
    "contribution = {}\n",
    "for i in bindings:\n",
    "    metadadoUri = i['p']['value']\n",
    "    if metadadoUri == 'http://www.w3.org/2000/01/rdf-schema#label':\n",
    "        contribution['label'] = i['o']['value']\n",
    "    elif metadadoUri == 'http://id.loc.gov/ontologies/bibframe/role':\n",
    "        value = i['o']['value'].split('/')[-1]\n",
    "        contribution['role'] = value\n",
    "    elif metadadoUri == 'http://id.loc.gov/ontologies/bibframe/agent':\n",
    "        value = i['o']['value']\n",
    "        contribution['uri'] = value\n",
    "        \n",
    "print(contribution)"
   ]
  },
  {
   "cell_type": "code",
   "execution_count": 75,
   "metadata": {},
   "outputs": [
    {
     "ename": "ValidationError",
     "evalue": "6 validation errors for Work_Response\nclassification -> label\n  field required (type=value_error.missing)\nclassification -> role\n  field required (type=value_error.missing)\nclassification -> uri\n  field required (type=value_error.missing)\ncontribution -> type\n  field required (type=value_error.missing)\ncontribution -> classificationPortion\n  field required (type=value_error.missing)\ncontribution -> itemPortion\n  field required (type=value_error.missing)",
     "output_type": "error",
     "traceback": [
      "\u001b[1;31m---------------------------------------------------------------------------\u001b[0m",
      "\u001b[1;31mValidationError\u001b[0m                           Traceback (most recent call last)",
      "\u001b[1;32mc:\\Users\\Usuário\\Desktop\\BiblioKeia\\get.ipynb Cell 14\u001b[0m in \u001b[0;36m<cell line: 18>\u001b[1;34m()\u001b[0m\n\u001b[0;32m      <a href='vscode-notebook-cell:/c%3A/Users/Usu%C3%A1rio/Desktop/BiblioKeia/get.ipynb#X16sZmlsZQ%3D%3D?line=0'>1</a>\u001b[0m x \u001b[39m=\u001b[39m {\n\u001b[0;32m      <a href='vscode-notebook-cell:/c%3A/Users/Usu%C3%A1rio/Desktop/BiblioKeia/get.ipynb#X16sZmlsZQ%3D%3D?line=1'>2</a>\u001b[0m   \u001b[39m\"\u001b[39m\u001b[39mtype\u001b[39m\u001b[39m\"\u001b[39m: [\n\u001b[0;32m      <a href='vscode-notebook-cell:/c%3A/Users/Usu%C3%A1rio/Desktop/BiblioKeia/get.ipynb#X16sZmlsZQ%3D%3D?line=2'>3</a>\u001b[0m     \u001b[39m\"\u001b[39m\u001b[39mWork\u001b[39m\u001b[39m\"\u001b[39m,\n\u001b[1;32m   (...)\u001b[0m\n\u001b[0;32m     <a href='vscode-notebook-cell:/c%3A/Users/Usu%C3%A1rio/Desktop/BiblioKeia/get.ipynb#X16sZmlsZQ%3D%3D?line=14'>15</a>\u001b[0m   }\n\u001b[0;32m     <a href='vscode-notebook-cell:/c%3A/Users/Usu%C3%A1rio/Desktop/BiblioKeia/get.ipynb#X16sZmlsZQ%3D%3D?line=15'>16</a>\u001b[0m }\n\u001b[1;32m---> <a href='vscode-notebook-cell:/c%3A/Users/Usu%C3%A1rio/Desktop/BiblioKeia/get.ipynb#X16sZmlsZQ%3D%3D?line=17'>18</a>\u001b[0m r \u001b[39m=\u001b[39m Work_Response(\u001b[39m*\u001b[39m\u001b[39m*\u001b[39mx)\n\u001b[0;32m     <a href='vscode-notebook-cell:/c%3A/Users/Usu%C3%A1rio/Desktop/BiblioKeia/get.ipynb#X16sZmlsZQ%3D%3D?line=18'>19</a>\u001b[0m r\n",
      "File \u001b[1;32mc:\\Users\\Usuário\\Desktop\\BiblioKeia\\venv\\lib\\site-packages\\pydantic\\main.py:342\u001b[0m, in \u001b[0;36mpydantic.main.BaseModel.__init__\u001b[1;34m()\u001b[0m\n",
      "\u001b[1;31mValidationError\u001b[0m: 6 validation errors for Work_Response\nclassification -> label\n  field required (type=value_error.missing)\nclassification -> role\n  field required (type=value_error.missing)\nclassification -> uri\n  field required (type=value_error.missing)\ncontribution -> type\n  field required (type=value_error.missing)\ncontribution -> classificationPortion\n  field required (type=value_error.missing)\ncontribution -> itemPortion\n  field required (type=value_error.missing)"
     ]
    }
   ],
   "source": [
    "x = {\n",
    "  \"type\": [\n",
    "    \"Work\",\n",
    "    \"Text\"\n",
    "  ],\n",
    "  \"classification\": {\n",
    "    \"type\": \"ClassificationDdc\",\n",
    "    \"classificationPortion\": \"584.6\",\n",
    "    \"itemPortion\": \"O48c\"\n",
    "  },\n",
    "  \"contribution\": {\n",
    "    \"label\": \"Karl R. Popper MUDADO\",\n",
    "    \"role\": \"aut\",\n",
    "    \"uri\": \"https://bibliokeia.com/authorities/names/n80032184\"\n",
    "  }\n",
    "}\n",
    "\n",
    "r = Work_Response(**x)\n",
    "r\n",
    "\n"
   ]
  }
 ],
 "metadata": {
  "kernelspec": {
   "display_name": "venv",
   "language": "python",
   "name": "python3"
  },
  "language_info": {
   "codemirror_mode": {
    "name": "ipython",
    "version": 3
   },
   "file_extension": ".py",
   "mimetype": "text/x-python",
   "name": "python",
   "nbconvert_exporter": "python",
   "pygments_lexer": "ipython3",
   "version": "3.10.4"
  },
  "orig_nbformat": 4
 },
 "nbformat": 4,
 "nbformat_minor": 2
}
