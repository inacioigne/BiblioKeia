{
 "cells": [
  {
   "cell_type": "code",
   "execution_count": 1,
   "metadata": {},
   "outputs": [],
   "source": [
    "from pyfuseki import FusekiUpdate, FusekiQuery\n",
    "import httpx\n",
    "from rdflib import Graph\n",
    "from pysolr import Solr\n",
    "from api.src.schemas.thesaurus.subject import Subject_Edit"
   ]
  },
  {
   "cell_type": "code",
   "execution_count": null,
   "metadata": {},
   "outputs": [],
   "source": [
    "obj = {\n",
    "    \"authority\": {\n",
    "        \"value\": \"Agrofloresta\",\n",
    "        \"lang\": \"pt\"\n",
    "    },\n",
    "    \"narrower\": [],\n",
    "    \"broader\": [\n",
    "        {\n",
    "            \"value\": \"Florestas e silvicultura\",\n",
    "            \"lang\": \"pt\",\n",
    "            \"uri\": \"http://id.loc.gov/authorities/subjects/sh85050707\"\n",
    "        },\n",
    "        {\n",
    "            \"value\": \"Agricultura\",\n",
    "            \"lang\": \"pt\",\n",
    "            \"uri\": \"http://id.loc.gov/authorities/subjects/sh85002415\"\n",
    "        }\n",
    "    ],\n",
    "    \"variant\": [\n",
    "        {\n",
    "            \"value\": \"Sistemas agroflorestais\",\n",
    "            \"lang\": \"pt\",\n",
    "            \"type\": \"Topic\"\n",
    "        }\n",
    "    ],\n",
    "    \"reciprocalAuthority\": [\n",
    "        {\n",
    "            \"value\": \"Culturas de árvores\",\n",
    "            \"lang\": \"pt\",\n",
    "            \"uri\": \"http://id.loc.gov/authorities/subjects/sh85137223\"\n",
    "        }\n",
    "    ],\n",
    "    \"exactExternalAuthority\": [\n",
    "        \"http://id.loc.gov/authorities/subjects/sh85002507\",\n",
    "        \"http://lod.nal.usda.gov/nalt/5256\"\n",
    "    ],\n",
    "    \"closeExternalAuthority\": [\n",
    "        \"http://data.bnf.fr/ark:/12148/cb12003291v\",\n",
    "        \"http://www.yso.fi/onto/yso/p24995\",\n",
    "        \"http://d-nb.info/gnd/4273558-0\",\n",
    "        \"http://id.worldcat.org/fast/801850\",\n",
    "        \"http://www.wikidata.org/entity/Q397350\"\n",
    "    ],\n",
    "    \"tokenLSCH\": \"sh85002507\"\n",
    "}"
   ]
  },
  {
   "cell_type": "code",
   "execution_count": 23,
   "metadata": {},
   "outputs": [],
   "source": [
    "upAuthorities = FusekiUpdate('http://localhost:3030', 'authorities')"
   ]
  },
  {
   "cell_type": "code",
   "execution_count": 39,
   "metadata": {},
   "outputs": [
    {
     "data": {
      "text/plain": [
       "{'statusCode': 200, 'message': 'Update succeeded'}"
      ]
     },
     "execution_count": 39,
     "metadata": {},
     "output_type": "execute_result"
    }
   ],
   "source": [
    "upAuthorities = FusekiUpdate('http://localhost:3030', 'authorities')\n",
    "\n",
    "d = \"\"\"DELETE { graph ?g { ?s ?p ?o } } \n",
    "        WHERE {\n",
    "        graph ?g {?s ?p ?o.}\n",
    "        }\"\"\"\n",
    "\n",
    "response = upAuthorities.run_sparql(d)\n",
    "response.convert()"
   ]
  },
  {
   "cell_type": "code",
   "execution_count": 22,
   "metadata": {},
   "outputs": [
    {
     "data": {
      "text/plain": [
       "<Graph identifier=N9d630f549c854459979d4a8c0a1983e7 (<class 'rdflib.graph.Graph'>)>"
      ]
     },
     "execution_count": 22,
     "metadata": {},
     "output_type": "execute_result"
    }
   ],
   "source": [
    "token = \"sh85002507\"\n",
    "uri = f'http://localhost:3030/authorities?graph=https://bibliokeia.com/authorities/subjects/sh85002507'\n",
    "r = httpx.get(uri)\n",
    "g = Graph()\n",
    "g.parse(r.content)\n",
    "g.serialize('subjects.nt')"
   ]
  },
  {
   "cell_type": "code",
   "execution_count": 4,
   "metadata": {},
   "outputs": [],
   "source": [
    "fuseki_update = FusekiUpdate('http://localhost:3030', 'authorities')"
   ]
  },
  {
   "cell_type": "code",
   "execution_count": 3,
   "metadata": {},
   "outputs": [],
   "source": [
    "prefix = \"\"\"PREFIX rdf: <http://www.w3.org/1999/02/22-rdf-syntax-ns#>\n",
    "PREFIX rdfs: <http://www.w3.org/2000/01/rdf-schema#>\n",
    "PREFIX work: <https://bibliokeia.com/resources/work/>\n",
    "PREFIX subjects: <https://bibliokeia.com/authorities/subjects/>\n",
    "PREFIX names: <https://bibliokeia.com/authorities/names/>\n",
    "PREFIX bf: <http://id.loc.gov/ontologies/bibframe/>\n",
    "PREFIX madsrdf: <http://www.loc.gov/mads/rdf/v1#>\n",
    "PREFIX bflc: <http://id.loc.gov/ontologies/bflc/>\"\"\""
   ]
  },
  {
   "cell_type": "code",
   "execution_count": 23,
   "metadata": {},
   "outputs": [
    {
     "data": {
      "text/plain": [
       "{'statusCode': 200, 'message': 'Update succeeded'}"
      ]
     },
     "execution_count": 23,
     "metadata": {},
     "output_type": "execute_result"
    }
   ],
   "source": [
    "bkID = \"sh85002507\"\n",
    "up = prefix+\"WITH subjects:\"+bkID+\"\"\"\n",
    "            DELETE { subjects:\"\"\"+bkID+\"\"\" madsrdf:elementList ?o .\n",
    "                        ?o rdf:rest rdf:nil . \n",
    "                         ?o rdf:first ?e . \n",
    "                         ?e rdf:type madsrdf:TopicElement .\n",
    "                         ?e madsrdf:elementValue ?elementValue\n",
    "                        }\n",
    "            INSERT { subjects:sh85002507 madsrdf:elementList ?o .\n",
    "                    ?o rdf:rest rdf:nil .\n",
    "                    ?o rdf:first ?e .\n",
    "                    ?e rdf:type madsrdf:TopicElement .\n",
    "                    ?e madsrdf:elementValue 'FLORESTA' }\n",
    "            WHERE { subjects:\"\"\"+bkID+\"\"\" madsrdf:elementList ?o .\n",
    "                        ?o rdf:rest rdf:nil . \n",
    "                         ?o rdf:first ?e . \n",
    "                         ?e rdf:type madsrdf:TopicElement .\n",
    "                         ?e madsrdf:elementValue ?elementValue }\"\"\"\n",
    "response = fuseki_update.run_sparql(up)\n",
    "response.convert()"
   ]
  },
  {
   "cell_type": "code",
   "execution_count": null,
   "metadata": {},
   "outputs": [],
   "source": [
    "bkID = \"sh85002507\"\n",
    "up = prefix+\"WITH subjects:\"+bkID+\"\"\"\n",
    "            DELETE { subjects:\"\"\"+bkID+\"\"\" madsrdf:elementList ?o .\n",
    "                        ?o rdf:rest rdf:nil . \n",
    "                         ?o rdf:first ?e . \n",
    "                         ?e rdf:type madsrdf:TopicElement .\n",
    "                         ?e madsrdf:elementValue ?elementValue\n",
    "                        }\n",
    "            INSERT { subjects:sh85002507 madsrdf:elementList ?o .\n",
    "                    ?o rdf:first ?e1 .\n",
    "                    ?e1 rdf:type madsrdf:TopicElement .\n",
    "                    ?e1 madsrdf:elementValue 'FLORESTA' .\n",
    "                    ?o rdf:rest ?o2 .\n",
    "                    ?o2 rdf:first ?e2 .\n",
    "                    ?e2 rdf:type madsrdf:TopicElement .\n",
    "                    ?e2 madsrdf:elementValue 'FLORESTA 2' .\n",
    "                    ?o2 rdf:rest rdf:nil .\n",
    "                    }\n",
    "            WHERE { subjects:\"\"\"+bkID+\"\"\" madsrdf:elementList ?o .\n",
    "                        ?o rdf:rest rdf:nil . \n",
    "                         ?o rdf:first ?e . \n",
    "                         ?e rdf:type madsrdf:TopicElement .\n",
    "                         ?e madsrdf:elementValue ?elementValue }\"\"\"\n",
    "response = fuseki_update.run_sparql(up)\n",
    "response.convert()\n"
   ]
  },
  {
   "cell_type": "code",
   "execution_count": 13,
   "metadata": {},
   "outputs": [
    {
     "data": {
      "text/plain": [
       "Subject_Edit(authority=Authority(value='Sistema', lang='pt', type=None), variant=[Authority(value='Agrofloresta', lang='pt', type='Topic')], broader=None, narrower=None, reciprocalAuthority=None, exactExternalAuthority=None, closeExternalAuthority=None)"
      ]
     },
     "execution_count": 13,
     "metadata": {},
     "output_type": "execute_result"
    }
   ],
   "source": [
    "objEdit = {\n",
    "  \"authority\": {\n",
    "    \"value\": \"Sistema Agroflorestal\",\n",
    "    \"lang\": \"pt\"\n",
    "  },\n",
    "   \"variant\": [\n",
    "        {\n",
    "            \"value\": \"Agrofloresta\",\n",
    "            \"lang\": \"pt\",\n",
    "            \"type\": \"Topic\"\n",
    "        }\n",
    "    ],\n",
    "}\n",
    "request = Subject_Edit(**objEdit)\n",
    "request"
   ]
  },
  {
   "cell_type": "code",
   "execution_count": 18,
   "metadata": {},
   "outputs": [
    {
     "name": "stdout",
     "output_type": "stream",
     "text": [
      "value='Agrofloresta' lang='pt' type='Topic'\n"
     ]
    }
   ],
   "source": [
    "for k, v in request: \n",
    "    if v:\n",
    "        if k == 'authority':\n",
    "            authority = v\n",
    "        elif k == 'variant':\n",
    "            for variant in v:\n",
    "                print(variant)"
   ]
  },
  {
   "cell_type": "code",
   "execution_count": 11,
   "metadata": {},
   "outputs": [
    {
     "data": {
      "text/plain": [
       "Authority(value='Sistema', lang='pt', type=None)"
      ]
     },
     "execution_count": 11,
     "metadata": {},
     "output_type": "execute_result"
    }
   ],
   "source": [
    "authority "
   ]
  },
  {
   "cell_type": "code",
   "execution_count": 12,
   "metadata": {},
   "outputs": [
    {
     "data": {
      "text/plain": [
       "'pt'"
      ]
     },
     "execution_count": 12,
     "metadata": {},
     "output_type": "execute_result"
    }
   ],
   "source": [
    "authority.lang "
   ]
  },
  {
   "cell_type": "code",
   "execution_count": 18,
   "metadata": {},
   "outputs": [
    {
     "data": {
      "text/plain": [
       "<Graph identifier=Ncd194ce383ed4e39b9dde532749c9786 (<class 'rdflib.graph.Graph'>)>"
      ]
     },
     "execution_count": 18,
     "metadata": {},
     "output_type": "execute_result"
    }
   ],
   "source": [
    "g = Graph()\n",
    "g.parse(\"http://id.loc.gov/authorities/subjects/sh85002507.madsrdf.rdf\")\n",
    "g.serialize('LOC.nt')"
   ]
  },
  {
   "attachments": {},
   "cell_type": "markdown",
   "metadata": {},
   "source": [
    "hasVariant"
   ]
  },
  {
   "cell_type": "code",
   "execution_count": 24,
   "metadata": {},
   "outputs": [
    {
     "data": {
      "text/plain": [
       "{'statusCode': 200, 'message': 'Update succeeded'}"
      ]
     },
     "execution_count": 24,
     "metadata": {},
     "output_type": "execute_result"
    }
   ],
   "source": [
    "bkID = \"sh85002507\"\n",
    "up = prefix+\"WITH subjects:\"+bkID+\"\"\"\n",
    "            DELETE { subjects:sh85002507 madsrdf:hasVariant ?o .\n",
    "                        ?o ?p ?variant .\n",
    "                        ?o ?elementList ?List .\n",
    "                        ?List rdf:rest rdf:nil . \n",
    "                        ?List rdf:first ?e . \n",
    "                        ?e rdf:type madsrdf:TopicElement .\n",
    "                        ?e madsrdf:elementValue ?elementValue }\n",
    "            INSERT { subjects:sh85002507 madsrdf:hasVariant ?o .\n",
    "                        ?o rdf:type madsrdf:Topic .\n",
    "                        ?o rdf:type madsrdf:Variant .\n",
    "                        ?o madsrdf:variantLabel 'FLORESTA' .\n",
    "                        ?o ?elementList ?List .\n",
    "                        ?List rdf:rest rdf:nil . \n",
    "                        ?List rdf:first ?e . \n",
    "                        ?e rdf:type madsrdf:TopicElement .\n",
    "                        ?e madsrdf:elementValue 'FLORESTA 2' }\n",
    "            WHERE { subjects:sh85002507 madsrdf:hasVariant ?o .\n",
    "                        ?o ?p ?variant .\n",
    "                        ?o ?elementList ?List .\n",
    "                        ?List rdf:rest rdf:nil . \n",
    "                        ?List rdf:first ?e . \n",
    "                        ?e rdf:type madsrdf:TopicElement .\n",
    "                        ?e madsrdf:elementValue ?elementValue }\"\"\"\n",
    "response = fuseki_update.run_sparql(up)\n",
    "response.convert()"
   ]
  },
  {
   "cell_type": "code",
   "execution_count": 38,
   "metadata": {},
   "outputs": [
    {
     "data": {
      "text/plain": [
       "{'statusCode': 200, 'message': 'Update succeeded'}"
      ]
     },
     "execution_count": 38,
     "metadata": {},
     "output_type": "execute_result"
    }
   ],
   "source": [
    "bkID = \"sh85002507\"\n",
    "up = prefix+\"WITH subjects:\"+bkID+\"\"\"\n",
    "            DELETE { subjects:sh85002507 madsrdf:hasVariant ?o .\n",
    "                        ?o ?p ?variant .\n",
    "                        ?o ?elementList ?List .\n",
    "                        ?List rdf:rest rdf:nil . \n",
    "                        ?List rdf:first ?e . \n",
    "                        ?e rdf:type madsrdf:TopicElement .\n",
    "                        ?e madsrdf:elementValue ?elementValue }\n",
    "            INSERT { subjects:sh85002507 madsrdf:hasVariant ?o .\n",
    "                        ?o rdf:type madsrdf:Topic .\n",
    "                        ?o rdf:type madsrdf:Variant .\n",
    "                        ?o madsrdf:variantLabel 'FLORESTA' .\n",
    "                        ?o ?elementList ?List .\n",
    "                        ?List rdf:rest rdf:nil . \n",
    "                        ?List rdf:first ?e . \n",
    "                        ?e rdf:type madsrdf:TopicElement .\n",
    "                        ?e madsrdf:elementValue 'FLORESTA 2'                     \n",
    "                        }\n",
    "            WHERE { subjects:sh85002507 madsrdf:hasVariant ?o .\n",
    "                        ?o ?p ?variant .\n",
    "                        }\"\"\"\n",
    "response = fuseki_update.run_sparql(up)\n",
    "response.convert()"
   ]
  },
  {
   "attachments": {},
   "cell_type": "markdown",
   "metadata": {},
   "source": [
    "PREFIX : <http://example/>\n",
    ":x :p (1 2 3) ."
   ]
  },
  {
   "cell_type": "code",
   "execution_count": 42,
   "metadata": {},
   "outputs": [
    {
     "data": {
      "text/plain": [
       "{'statusCode': 200, 'message': 'Update succeeded'}"
      ]
     },
     "execution_count": 42,
     "metadata": {},
     "output_type": "execute_result"
    }
   ],
   "source": [
    "G1 = \"\"\"PREFIX : <http://example/>\n",
    "            PREFIX subjects: <https://bibliokeia.com/authorities/subjects/>\n",
    "\n",
    "    INSERT DATA {\n",
    "        GRAPH subjects:TESTE { :x :p (1 2 3) . } }\"\"\"\n",
    "\n",
    "response = fuseki_update.run_sparql(G1)\n",
    "response.convert()\n",
    "\n",
    "docs = 'https://afs.github.io/rdf-lists-sparql'"
   ]
  }
 ],
 "metadata": {
  "kernelspec": {
   "display_name": "Python 3.11.0 ('venv': venv)",
   "language": "python",
   "name": "python3"
  },
  "language_info": {
   "codemirror_mode": {
    "name": "ipython",
    "version": 3
   },
   "file_extension": ".py",
   "mimetype": "text/x-python",
   "name": "python",
   "nbconvert_exporter": "python",
   "pygments_lexer": "ipython3",
   "version": "3.11.0"
  },
  "orig_nbformat": 4,
  "vscode": {
   "interpreter": {
    "hash": "5df21a170a08fe7c24b5b1091267edae5bad3984f1116f28e957af7dd8f192dc"
   }
  }
 },
 "nbformat": 4,
 "nbformat_minor": 2
}
