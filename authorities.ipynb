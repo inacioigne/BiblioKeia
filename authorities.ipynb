{
 "cells": [
  {
   "cell_type": "code",
   "execution_count": 14,
   "metadata": {},
   "outputs": [],
   "source": [
    "from pyfuseki import FusekiUpdate, FusekiQuery\n",
    "import httpx\n",
    "from rdflib import Graph\n",
    "from pysolr import Solr\n",
    "from api.src.schemas.thesaurus.subject import Subject_Edit"
   ]
  },
  {
   "cell_type": "code",
   "execution_count": null,
   "metadata": {},
   "outputs": [],
   "source": [
    "obj = {\n",
    "    \"authority\": {\n",
    "        \"value\": \"Agrofloresta\",\n",
    "        \"lang\": \"pt\"\n",
    "    },\n",
    "    \"narrower\": [],\n",
    "    \"broader\": [\n",
    "        {\n",
    "            \"value\": \"Florestas e silvicultura\",\n",
    "            \"lang\": \"pt\",\n",
    "            \"uri\": \"http://id.loc.gov/authorities/subjects/sh85050707\"\n",
    "        },\n",
    "        {\n",
    "            \"value\": \"Agricultura\",\n",
    "            \"lang\": \"pt\",\n",
    "            \"uri\": \"http://id.loc.gov/authorities/subjects/sh85002415\"\n",
    "        }\n",
    "    ],\n",
    "    \"variant\": [\n",
    "        {\n",
    "            \"value\": \"Sistemas agroflorestais\",\n",
    "            \"lang\": \"pt\",\n",
    "            \"type\": \"Topic\"\n",
    "        }\n",
    "    ],\n",
    "    \"reciprocalAuthority\": [\n",
    "        {\n",
    "            \"value\": \"Culturas de árvores\",\n",
    "            \"lang\": \"pt\",\n",
    "            \"uri\": \"http://id.loc.gov/authorities/subjects/sh85137223\"\n",
    "        }\n",
    "    ],\n",
    "    \"exactExternalAuthority\": [\n",
    "        \"http://id.loc.gov/authorities/subjects/sh85002507\",\n",
    "        \"http://lod.nal.usda.gov/nalt/5256\"\n",
    "    ],\n",
    "    \"closeExternalAuthority\": [\n",
    "        \"http://data.bnf.fr/ark:/12148/cb12003291v\",\n",
    "        \"http://www.yso.fi/onto/yso/p24995\",\n",
    "        \"http://d-nb.info/gnd/4273558-0\",\n",
    "        \"http://id.worldcat.org/fast/801850\",\n",
    "        \"http://www.wikidata.org/entity/Q397350\"\n",
    "    ],\n",
    "    \"tokenLSCH\": \"sh85002507\"\n",
    "}"
   ]
  },
  {
   "cell_type": "code",
   "execution_count": 2,
   "metadata": {},
   "outputs": [
    {
     "data": {
      "text/plain": [
       "{'statusCode': 200, 'message': 'Update succeeded'}"
      ]
     },
     "execution_count": 2,
     "metadata": {},
     "output_type": "execute_result"
    }
   ],
   "source": [
    "upAuthorities = FusekiUpdate('http://localhost:3030', 'authorities')\n",
    "\n",
    "d = \"\"\"DELETE { graph ?g { ?s ?p ?o } } \n",
    "        WHERE {\n",
    "        graph ?g {?s ?p ?o.}\n",
    "        }\"\"\"\n",
    "\n",
    "response = upAuthorities.run_sparql(d)\n",
    "response.convert()"
   ]
  },
  {
   "cell_type": "code",
   "execution_count": 13,
   "metadata": {},
   "outputs": [
    {
     "data": {
      "text/plain": [
       "<Graph identifier=Nc7ff248cf01e4e90b3f33531c7a1b602 (<class 'rdflib.graph.Graph'>)>"
      ]
     },
     "execution_count": 13,
     "metadata": {},
     "output_type": "execute_result"
    }
   ],
   "source": [
    "token = \"sh85002507\"\n",
    "uri = f'http://localhost:3030/authorities?graph=https://bibliokeia.com/authorities/subjects/{token}'\n",
    "r = httpx.get(uri)\n",
    "g = Graph()\n",
    "g.parse(r.content)\n",
    "g.serialize('subjects.nt')"
   ]
  },
  {
   "cell_type": "code",
   "execution_count": 5,
   "metadata": {},
   "outputs": [],
   "source": [
    "fuseki_update = FusekiUpdate('http://localhost:3030', 'authorities')"
   ]
  },
  {
   "cell_type": "code",
   "execution_count": 6,
   "metadata": {},
   "outputs": [],
   "source": [
    "prefix = \"\"\"PREFIX rdf: <http://www.w3.org/1999/02/22-rdf-syntax-ns#>\n",
    "PREFIX rdfs: <http://www.w3.org/2000/01/rdf-schema#>\n",
    "PREFIX work: <https://bibliokeia.com/resources/work/>\n",
    "PREFIX subjects: <https://bibliokeia.com/authorities/subjects/>\n",
    "PREFIX names: <https://bibliokeia.com/authorities/names/>\n",
    "PREFIX bf: <http://id.loc.gov/ontologies/bibframe/>\n",
    "PREFIX madsrdf: <http://www.loc.gov/mads/rdf/v1#>\n",
    "PREFIX bflc: <http://id.loc.gov/ontologies/bflc/>\"\"\""
   ]
  },
  {
   "cell_type": "code",
   "execution_count": 12,
   "metadata": {},
   "outputs": [
    {
     "data": {
      "text/plain": [
       "{'statusCode': 200, 'message': 'Update succeeded'}"
      ]
     },
     "execution_count": 12,
     "metadata": {},
     "output_type": "execute_result"
    }
   ],
   "source": [
    "bkID = \"sh85002507\"\n",
    "up = prefix+\"WITH subjects:\"+bkID+\"\"\"\n",
    "            DELETE { subjects:\"\"\"+bkID+\"\"\" madsrdf:authoritativeLabel ?o }\n",
    "            INSERT { subjects:\"\"\"+bkID+\"\"\" madsrdf:authoritativeLabel 'Sistemas Agroflorestais'@pt  }\n",
    "            WHERE { subjects:\"\"\"+bkID+\"\"\" madsrdf:authoritativeLabel ?o }\"\"\"\n",
    "response = fuseki_update.run_sparql(up)\n",
    "response.convert()"
   ]
  },
  {
   "cell_type": "code",
   "execution_count": 15,
   "metadata": {},
   "outputs": [
    {
     "data": {
      "text/plain": [
       "Subject_Edit(authority=Authority(value='Sistema', lang='pt', type=None), variant=None, broader=None, narrower=None, reciprocalAuthority=None, exactExternalAuthority=None, closeExternalAuthority=None)"
      ]
     },
     "execution_count": 15,
     "metadata": {},
     "output_type": "execute_result"
    }
   ],
   "source": [
    "objEdit = {\n",
    "  \"authority\": {\n",
    "    \"value\": \"Sistema\",\n",
    "    \"lang\": \"pt\"\n",
    "  }\n",
    "}\n",
    "request = Subject_Edit(**objEdit)\n",
    "request"
   ]
  },
  {
   "cell_type": "code",
   "execution_count": 17,
   "metadata": {},
   "outputs": [
    {
     "name": "stdout",
     "output_type": "stream",
     "text": [
      "authority value='Sistema' lang='pt' type=None\n"
     ]
    }
   ],
   "source": [
    "for k, v in request:\n",
    "    if v:\n",
    "        print(k, v)"
   ]
  },
  {
   "cell_type": "code",
   "execution_count": 18,
   "metadata": {},
   "outputs": [
    {
     "data": {
      "text/plain": [
       "<Graph identifier=Ncd194ce383ed4e39b9dde532749c9786 (<class 'rdflib.graph.Graph'>)>"
      ]
     },
     "execution_count": 18,
     "metadata": {},
     "output_type": "execute_result"
    }
   ],
   "source": [
    "g = Graph()\n",
    "g.parse(\"http://id.loc.gov/authorities/subjects/sh85002507.madsrdf.rdf\")\n",
    "g.serialize('LOC.nt')"
   ]
  }
 ],
 "metadata": {
  "kernelspec": {
   "display_name": "venv",
   "language": "python",
   "name": "python3"
  },
  "language_info": {
   "codemirror_mode": {
    "name": "ipython",
    "version": 3
   },
   "file_extension": ".py",
   "mimetype": "text/x-python",
   "name": "python",
   "nbconvert_exporter": "python",
   "pygments_lexer": "ipython3",
   "version": "3.10.4"
  },
  "orig_nbformat": 4
 },
 "nbformat": 4,
 "nbformat_minor": 2
}
