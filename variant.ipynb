{
 "cells": [
  {
   "cell_type": "code",
   "execution_count": 1,
   "metadata": {},
   "outputs": [],
   "source": [
    "from pyfuseki import FusekiUpdate, FusekiQuery\n",
    "import httpx\n",
    "from rdflib import Graph\n",
    "from pysolr import Solr\n",
    "from api.src.schemas.thesaurus.subject import Subject_Edit"
   ]
  },
  {
   "cell_type": "code",
   "execution_count": null,
   "metadata": {},
   "outputs": [],
   "source": [
    "obj = {\n",
    "    \"note\": {\n",
    "        \"value\": \"Aqui são inseridos trabalhos na parte da World Wide Web que é intencionalmente oculta dos mecanismos de pesquisa e é acessível apenas com software de anonimato e autorizações especiais. Os trabalhos na parte da World Wide Web que podem não estar acessíveis por meio de mecanismos de pesquisa de uso geral são inseridos em [Web invisível.]\",\n",
    "        \"lang\": \"pt\"\n",
    "    },\n",
    "    \"authority\": {\n",
    "        \"value\": \"Dark Web\",\n",
    "        \"lang\": \"pt\"\n",
    "    },\n",
    "    \"narrower\": [],\n",
    "    \"broader\": [\n",
    "        {\n",
    "            \"value\": \"Web Invisível\",\n",
    "            \"lang\": \"pt\",\n",
    "            \"uri\": \"http://id.loc.gov/authorities/subjects/sh2008009697\"\n",
    "        }\n",
    "    ],\n",
    "    \"variant\": [\n",
    "        {\n",
    "            \"value\": \"Internet escura\",\n",
    "            \"lang\": \"pt\",\n",
    "            \"type\": \"Topic\"\n",
    "        },\n",
    "        {\n",
    "            \"value\": \"Darknet\",\n",
    "            \"lang\": \"pt\",\n",
    "            \"type\": \"Topic\"\n",
    "        }\n",
    "    ],\n",
    "    \"reciprocalAuthority\": [],\n",
    "    \"exactExternalAuthority\": [\n",
    "        \"http://id.loc.gov/authorities/subjects/sh2018002121\"\n",
    "    ],\n",
    "    \"closeExternalAuthority\": [\n",
    "        \"http://id.worldcat.org/fast/2003430\"\n",
    "    ],\n",
    "    \"tokenLSCH\": \"sh2018002121\"\n",
    "}"
   ]
  },
  {
   "cell_type": "code",
   "execution_count": 2,
   "metadata": {},
   "outputs": [
    {
     "data": {
      "text/plain": [
       "<Graph identifier=N0200e03371de439eb99d76a0224276fc (<class 'rdflib.graph.Graph'>)>"
      ]
     },
     "execution_count": 2,
     "metadata": {},
     "output_type": "execute_result"
    }
   ],
   "source": [
    "g = Graph()\n",
    "g.parse(\"http://id.loc.gov/authorities/subjects/sh2018002121.rdf\")\n",
    "g.serialize('dark_web.nt')"
   ]
  },
  {
   "cell_type": "code",
   "execution_count": 56,
   "metadata": {},
   "outputs": [
    {
     "data": {
      "text/plain": [
       "<Graph identifier=N6ed80c88751e455889d8bba1976f7f33 (<class 'rdflib.graph.Graph'>)>"
      ]
     },
     "execution_count": 56,
     "metadata": {},
     "output_type": "execute_result"
    }
   ],
   "source": [
    "uri = f'http://localhost:3030/authorities?graph=https:%2F%2Fbibliokeia.com%2Fauthorities%2Fsubjects%2Fsh2018002121'\n",
    "r = httpx.get(uri)\n",
    "g = Graph()\n",
    "g.parse(r.content)\n",
    "g.serialize('subjects.nt')"
   ]
  },
  {
   "cell_type": "code",
   "execution_count": 6,
   "metadata": {},
   "outputs": [],
   "source": [
    "upAuthorities = FusekiUpdate('http://localhost:3030', 'authorities')"
   ]
  },
  {
   "cell_type": "code",
   "execution_count": 3,
   "metadata": {},
   "outputs": [
    {
     "data": {
      "text/plain": [
       "{'statusCode': 200, 'message': 'Update succeeded'}"
      ]
     },
     "execution_count": 3,
     "metadata": {},
     "output_type": "execute_result"
    }
   ],
   "source": [
    "G1 = \"\"\"PREFIX : <http://example/>\n",
    "            PREFIX subjects: <https://bibliokeia.com/authorities/subjects/>\n",
    "\n",
    "    INSERT DATA {\n",
    "        GRAPH subjects:TESTE { :x :p (1 2 3) . } }\"\"\"\n",
    "\n",
    "response = upAuthorities.run_sparql(G1)\n",
    "response.convert()"
   ]
  },
  {
   "cell_type": "code",
   "execution_count": 4,
   "metadata": {},
   "outputs": [
    {
     "data": {
      "text/plain": [
       "<Graph identifier=N4c274385fd8c44bda05253763df99054 (<class 'rdflib.graph.Graph'>)>"
      ]
     },
     "execution_count": 4,
     "metadata": {},
     "output_type": "execute_result"
    }
   ],
   "source": [
    "uri = f'http://localhost:3030/authorities?graph=https://bibliokeia.com/authorities/subjects/TESTE'\n",
    "r = httpx.get(uri)\n",
    "g = Graph()\n",
    "g.parse(r.content)\n",
    "g.serialize('teste.nt')"
   ]
  },
  {
   "cell_type": "code",
   "execution_count": 7,
   "metadata": {},
   "outputs": [
    {
     "data": {
      "text/plain": [
       "{'statusCode': 200, 'message': 'Update succeeded'}"
      ]
     },
     "execution_count": 7,
     "metadata": {},
     "output_type": "execute_result"
    }
   ],
   "source": [
    "up = \"\"\"PREFIX :    <http://example/> \n",
    "PREFIX rdf: <http://www.w3.org/1999/02/22-rdf-syntax-ns#> \n",
    "PREFIX subjects: <https://bibliokeia.com/authorities/subjects/>\n",
    "\n",
    "WITH subjects:TESTE\n",
    "\n",
    "DELETE { ?x :p ?list }\n",
    "INSERT { ?x :p [ rdf:first 'ZERO' ; \n",
    "                 rdf:rest ?list ]\n",
    "} WHERE {\n",
    "  ?x :p ?list .\n",
    "}\"\"\"\n",
    "\n",
    "response = upAuthorities.run_sparql(up)\n",
    "response.convert()"
   ]
  },
  {
   "cell_type": "code",
   "execution_count": 8,
   "metadata": {},
   "outputs": [
    {
     "data": {
      "text/plain": [
       "{'statusCode': 200, 'message': 'Update succeeded'}"
      ]
     },
     "execution_count": 8,
     "metadata": {},
     "output_type": "execute_result"
    }
   ],
   "source": [
    "up = \"\"\"PREFIX :    <http://example/> \n",
    "PREFIX rdf: <http://www.w3.org/1999/02/22-rdf-syntax-ns#> \n",
    "PREFIX subjects: <https://bibliokeia.com/authorities/subjects/>\n",
    "\n",
    "WITH subjects:TESTE\n",
    "\n",
    "DELETE { \n",
    "   ?x :p ?list .\n",
    "   ?list rdf:first ?first ;\n",
    "         rdf:rest  ?rest }\n",
    "INSERT { ?x :p ?rest }\n",
    "WHERE\n",
    "{\n",
    "  ?x :p ?list .\n",
    "  ?list rdf:first ?first ;\n",
    "        rdf:rest ?rest .\n",
    "}\"\"\"\n",
    "\n",
    "response = upAuthorities.run_sparql(up)\n",
    "response.convert()"
   ]
  },
  {
   "cell_type": "code",
   "execution_count": 5,
   "metadata": {},
   "outputs": [],
   "source": [
    "prefix = \"\"\"PREFIX rdf: <http://www.w3.org/1999/02/22-rdf-syntax-ns#>\n",
    "PREFIX rdfs: <http://www.w3.org/2000/01/rdf-schema#>\n",
    "PREFIX work: <https://bibliokeia.com/resources/work/>\n",
    "PREFIX subjects: <https://bibliokeia.com/authorities/subjects/>\n",
    "PREFIX names: <https://bibliokeia.com/authorities/names/>\n",
    "PREFIX bf: <http://id.loc.gov/ontologies/bibframe/>\n",
    "PREFIX madsrdf: <http://www.loc.gov/mads/rdf/v1#>\n",
    "PREFIX bflc: <http://id.loc.gov/ontologies/bflc/>\"\"\""
   ]
  },
  {
   "cell_type": "code",
   "execution_count": 41,
   "metadata": {},
   "outputs": [
    {
     "data": {
      "text/plain": [
       "{'statusCode': 200, 'message': 'Update succeeded'}"
      ]
     },
     "execution_count": 41,
     "metadata": {},
     "output_type": "execute_result"
    }
   ],
   "source": [
    "bkID = \"sh2018002121\"\n",
    "up = prefix+\"WITH subjects:\"+bkID+\"\"\"\n",
    "\n",
    "        DELETE { subjects:sh2018002121 madsrdf:hasVariant ?hasVariant .\n",
    "    ?hasVariant ?p1 ?variant .\n",
    "    ?hasVariant madsrdf:elementList ?elementList .\n",
    "    ?elementList rdf:first ?element . \n",
    "    ?elementList rdf:rest rdf:nil . \n",
    "    ?element ?p3 ?o\n",
    "      }             \n",
    "        WHERE { subjects:sh2018002121 madsrdf:hasVariant ?hasVariant .\n",
    "    ?hasVariant ?p1 ?variant .\n",
    "    ?hasVariant madsrdf:elementList ?elementList .\n",
    "    ?elementList rdf:first ?element . \n",
    "    ?elementList rdf:rest rdf:nil . \n",
    "    ?element ?p3 ?o\n",
    "                        }\"\"\"\n",
    "response = upAuthorities.run_sparql(up)\n",
    "response.convert()"
   ]
  },
  {
   "cell_type": "code",
   "execution_count": 54,
   "metadata": {},
   "outputs": [
    {
     "data": {
      "text/plain": [
       "{'statusCode': 200, 'message': 'Update succeeded'}"
      ]
     },
     "execution_count": 54,
     "metadata": {},
     "output_type": "execute_result"
    }
   ],
   "source": [
    "insert = prefix+\"\"\"INSERT DATA\n",
    "{ GRAPH subjects:\"\"\"+bkID+\"\"\" { \n",
    "    subjects:sh2018002121 madsrdf:hasVariant [\n",
    "    rdf:type madsrdf:Topic;\n",
    "    rdf:type madsrdf:Variant ;\n",
    "    madsrdf:elementList ( [\n",
    "    rdf:type madsrdf:TopicElement;\n",
    "    madsrdf:elementValue 'NOVA VARIANTE'\n",
    "    ]);\n",
    "    madsrdf:variantLabel 'NOVA VARIANTE'\n",
    "    ] \n",
    " } }\"\"\"\n",
    "\n",
    "response = upAuthorities.run_sparql(insert)\n",
    "response.convert()"
   ]
  },
  {
   "cell_type": "code",
   "execution_count": null,
   "metadata": {},
   "outputs": [],
   "source": [
    "PREFIX dc: <http://purl.org/dc/elements/1.1/>\n",
    "PREFIX ns: <http://example.org/ns#>\n",
    "INSERT DATA\n",
    "{ GRAPH <http://example/bookStore> { <http://example/book1>  ns:price  42 } }"
   ]
  },
  {
   "cell_type": "code",
   "execution_count": 53,
   "metadata": {},
   "outputs": [
    {
     "data": {
      "text/plain": [
       "{'statusCode': 200, 'message': 'Update succeeded'}"
      ]
     },
     "execution_count": 53,
     "metadata": {},
     "output_type": "execute_result"
    }
   ],
   "source": [
    "d = \"\"\"DELETE { graph ?g { ?s ?p ?o } } \n",
    "        WHERE {\n",
    "        graph ?g {?s ?p ?o.}\n",
    "        }\"\"\"\n",
    "\n",
    "response = upAuthorities.run_sparql(d)\n",
    "response.convert()"
   ]
  },
  {
   "cell_type": "code",
   "execution_count": 57,
   "metadata": {},
   "outputs": [
    {
     "data": {
      "text/plain": [
       "{'statusCode': 200, 'message': 'Update succeeded'}"
      ]
     },
     "execution_count": 57,
     "metadata": {},
     "output_type": "execute_result"
    }
   ],
   "source": [
    "bkID = \"sh2018002121\"\n",
    "up = prefix+\"WITH subjects:\"+bkID+\"\"\"\n",
    "\n",
    "        DELETE { subjects:sh2018002121 madsrdf:hasVariant ?hasVariant .\n",
    "    ?hasVariant madsrdf:elementList ?elementList .\n",
    "    ?elementList ?p ?element .\n",
    "    ?element madsrdf:elementValue 'NOVA VARIANTE'\n",
    "      }   \n",
    "      INSERT {\n",
    "      subjects:sh2018002121 madsrdf:hasVariant ?hasVariant .\n",
    "    ?hasVariant madsrdf:elementList ?elementList .\n",
    "    ?elementList ?p ?element .\n",
    "    ?element madsrdf:elementValue 'VARIANTE'      \n",
    "      }         \n",
    "        WHERE { subjects:sh2018002121 madsrdf:hasVariant ?hasVariant .\n",
    "    ?hasVariant madsrdf:elementList ?elementList .\n",
    "    ?elementList ?p ?element .\n",
    "    ?element madsrdf:elementValue 'NOVA VARIANTE'\n",
    "                        }\"\"\"\n",
    "response = upAuthorities.run_sparql(up)\n",
    "response.convert()"
   ]
  },
  {
   "cell_type": "code",
   "execution_count": 58,
   "metadata": {},
   "outputs": [
    {
     "data": {
      "text/plain": [
       "{'statusCode': 200, 'message': 'Update succeeded'}"
      ]
     },
     "execution_count": 58,
     "metadata": {},
     "output_type": "execute_result"
    }
   ],
   "source": [
    "bkID = \"sh2018002121\"\n",
    "up = prefix+\"WITH subjects:\"+bkID+\"\"\"\n",
    "\n",
    "        DELETE { subjects:sh2018002121 madsrdf:hasVariant ?hasVariant .\n",
    "    ?hasVariant madsrdf:variantLabel \"NOVA VARIANTE\" .\n",
    "      }   \n",
    "      INSERT {\n",
    "      subjects:sh2018002121 madsrdf:hasVariant ?hasVariant .\n",
    "    ?hasVariant madsrdf:variantLabel \"VARIANTE\" .      \n",
    "      }         \n",
    "        WHERE { subjects:sh2018002121 madsrdf:hasVariant ?hasVariant .\n",
    "    ?hasVariant madsrdf:variantLabel \"NOVA VARIANTE\" .\n",
    "                        }\"\"\"\n",
    "response = upAuthorities.run_sparql(up)\n",
    "response.convert()"
   ]
  }
 ],
 "metadata": {
  "kernelspec": {
   "display_name": "venv",
   "language": "python",
   "name": "python3"
  },
  "language_info": {
   "codemirror_mode": {
    "name": "ipython",
    "version": 3
   },
   "file_extension": ".py",
   "mimetype": "text/x-python",
   "name": "python",
   "nbconvert_exporter": "python",
   "pygments_lexer": "ipython3",
   "version": "3.10.4"
  },
  "orig_nbformat": 4,
  "vscode": {
   "interpreter": {
    "hash": "7c803f0ee3b2b2cd03f94fb28d6f360d094e6843888122798203f226e128b66e"
   }
  }
 },
 "nbformat": 4,
 "nbformat_minor": 2
}
