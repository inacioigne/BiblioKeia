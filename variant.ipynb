{
 "cells": [
  {
   "cell_type": "code",
   "execution_count": 75,
   "metadata": {},
   "outputs": [
    {
     "ename": "ModuleNotFoundError",
     "evalue": "No module named 'src'",
     "output_type": "error",
     "traceback": [
      "\u001b[1;31m---------------------------------------------------------------------------\u001b[0m",
      "\u001b[1;31mModuleNotFoundError\u001b[0m                       Traceback (most recent call last)",
      "Cell \u001b[1;32mIn[75], line 5\u001b[0m\n\u001b[0;32m      3\u001b[0m \u001b[38;5;28;01mfrom\u001b[39;00m \u001b[38;5;21;01mpyfuseki\u001b[39;00m \u001b[38;5;28;01mimport\u001b[39;00m FusekiUpdate\n\u001b[0;32m      4\u001b[0m \u001b[38;5;28;01mimport\u001b[39;00m \u001b[38;5;21;01mhttpx\u001b[39;00m\n\u001b[1;32m----> 5\u001b[0m \u001b[38;5;28;01mfrom\u001b[39;00m \u001b[38;5;21;01mapi\u001b[39;00m\u001b[38;5;21;01m.\u001b[39;00m\u001b[38;5;21;01msrc\u001b[39;00m\u001b[38;5;21;01m.\u001b[39;00m\u001b[38;5;21;01mschemas\u001b[39;00m\u001b[38;5;21;01m.\u001b[39;00m\u001b[38;5;21;01mauthorities\u001b[39;00m\u001b[38;5;21;01m.\u001b[39;00m\u001b[38;5;21;01magents\u001b[39;00m \u001b[38;5;28;01mimport\u001b[39;00m Agents\n",
      "File \u001b[1;32mc:\\Users\\inaci\\Desktop\\BiblioKeia\\api\\src\\schemas\\authorities\\agents.py:3\u001b[0m\n\u001b[0;32m      1\u001b[0m \u001b[39mfrom\u001b[39;00m \u001b[39mpydantic\u001b[39;00m \u001b[39mimport\u001b[39;00m BaseModel\n\u001b[0;32m      2\u001b[0m \u001b[39mfrom\u001b[39;00m \u001b[39mtyping\u001b[39;00m \u001b[39mimport\u001b[39;00m Optional\n\u001b[1;32m----> 3\u001b[0m \u001b[39mfrom\u001b[39;00m \u001b[39msrc\u001b[39;00m\u001b[39m.\u001b[39;00m\u001b[39mschemas\u001b[39;00m\u001b[39m.\u001b[39;00m\u001b[39mauthorities\u001b[39;00m\u001b[39m.\u001b[39;00m\u001b[39mauthority\u001b[39;00m \u001b[39mimport\u001b[39;00m Variant, AdminMetadata, Element\n\u001b[0;32m      5\u001b[0m \u001b[39mclass\u001b[39;00m \u001b[39mUri\u001b[39;00m(BaseModel):\n\u001b[0;32m      6\u001b[0m     value: \u001b[39mstr\u001b[39m\n",
      "\u001b[1;31mModuleNotFoundError\u001b[0m: No module named 'src'"
     ]
    }
   ],
   "source": [
    "from typing import Optional\n",
    "from pydantic import BaseModel\n",
    "from pyfuseki import FusekiUpdate\n",
    "import httpx\n",
    "from api.src.schemas.authorities.agents import Agents\n"
   ]
  },
  {
   "cell_type": "code",
   "execution_count": 76,
   "metadata": {},
   "outputs": [],
   "source": [
    "class Label(BaseModel):\n",
    "    value: str\n",
    "    lang: Optional[str]\n",
    "\n",
    "class Element(BaseModel):\n",
    "    type: str\n",
    "    elementValue: Label \n",
    "\n",
    "class Variant(BaseModel): \n",
    "    type: str\n",
    "    elementList: list[Element]\n"
   ]
  },
  {
   "cell_type": "code",
   "execution_count": 77,
   "metadata": {},
   "outputs": [
    {
     "data": {
      "text/plain": [
       "Variant(type='PersonalName', elementList=[Element(type='FullNameElement', elementValue=Label(value='García Márquez, Gabriel,', lang=None)), Element(type='DateNameElement', elementValue=Label(value='1928-', lang=None))])"
      ]
     },
     "execution_count": 77,
     "metadata": {},
     "output_type": "execute_result"
    }
   ],
   "source": [
    "obj = {\n",
    "  \"type\": \"PersonalName\",\n",
    "  \"elementList\": [\n",
    "    {\n",
    "      \"type\": \"FullNameElement\",\n",
    "      \"elementValue\": {\n",
    "        \"value\": \"García Márquez, Gabriel,\"\n",
    "      } },\n",
    "     {\n",
    "      \"type\": \"DateNameElement\",\n",
    "      \"elementValue\": {\n",
    "        \"value\": \"1928-\"\n",
    "      }}\n",
    "  ]\n",
    "}\n",
    "request = Variant(**obj)\n",
    "request"
   ]
  },
  {
   "cell_type": "code",
   "execution_count": null,
   "metadata": {},
   "outputs": [],
   "source": [
    "from MakeElement(elementList)"
   ]
  },
  {
   "cell_type": "code",
   "execution_count": 82,
   "metadata": {},
   "outputs": [
    {
     "name": "stdout",
     "output_type": "stream",
     "text": [
      "[ a madsrdf:PersonalName,\n",
      "                madsrdf:Variant ;\n",
      "            madsrdf:elementList ( [ a madsrdf:FullNameElement ;\n",
      "                        madsrdf:elementValue \"غارسيّا ماركيز، غابرييل،\" ] [ a madsrdf:DateNameElement ;\n",
      "                        madsrdf:elementValue \"1927-2014\" ] ) ;\n",
      "            madsrdf:variantLabel \"غارسيّا ماركيز، غابرييل، 1927-2014\" ]\n"
     ]
    }
   ],
   "source": [
    "v = f\"\"\"[ a madsrdf:{request.type},\n",
    "                madsrdf:Variant ;\n",
    "            madsrdf:elementList ( [ a madsrdf:FullNameElement ;\n",
    "                        madsrdf:elementValue \"غارسيّا ماركيز، غابرييل،\" ] [ a madsrdf:DateNameElement ;\n",
    "                        madsrdf:elementValue \"1927-2014\" ] ) ;\n",
    "            madsrdf:variantLabel \"غارسيّا ماركيز، غابرييل، 1927-2014\" ]\"\"\"\n",
    "print(v)"
   ]
  },
  {
   "cell_type": "code",
   "execution_count": 81,
   "metadata": {},
   "outputs": [
    {
     "data": {
      "text/plain": [
       "'PersonalName'"
      ]
     },
     "execution_count": 81,
     "metadata": {},
     "output_type": "execute_result"
    }
   ],
   "source": [
    "request.type"
   ]
  },
  {
   "cell_type": "code",
   "execution_count": 79,
   "metadata": {},
   "outputs": [
    {
     "ename": "AttributeError",
     "evalue": "'tuple' object has no attribute 'elementList'",
     "output_type": "error",
     "traceback": [
      "\u001b[1;31m---------------------------------------------------------------------------\u001b[0m",
      "\u001b[1;31mAttributeError\u001b[0m                            Traceback (most recent call last)",
      "Cell \u001b[1;32mIn[79], line 1\u001b[0m\n\u001b[1;32m----> 1\u001b[0m \u001b[43mMakeVariant\u001b[49m\u001b[43m(\u001b[49m\u001b[43mrequest\u001b[49m\u001b[43m)\u001b[49m\n",
      "File \u001b[1;32mc:\\Users\\inaci\\Desktop\\BiblioKeia\\api\\src\\function\\authorities\\makeVariant.py:7\u001b[0m, in \u001b[0;36mMakeVariant\u001b[1;34m(variants)\u001b[0m\n\u001b[0;32m      5\u001b[0m vList \u001b[39m=\u001b[39m \u001b[39mlist\u001b[39m()\n\u001b[0;32m      6\u001b[0m \u001b[39mfor\u001b[39;00m i \u001b[39min\u001b[39;00m variants:\n\u001b[1;32m----> 7\u001b[0m     \u001b[39mif\u001b[39;00m i\u001b[39m.\u001b[39;49melementList:\n\u001b[0;32m      8\u001b[0m         v \u001b[39m=\u001b[39m \u001b[39mf\u001b[39m\u001b[39m\"\"\"\u001b[39m\u001b[39m[ a madsrdf:\u001b[39m\u001b[39m{\u001b[39;00mi\u001b[39m.\u001b[39mtype\u001b[39m}\u001b[39;00m\u001b[39m,\u001b[39m\n\u001b[0;32m      9\u001b[0m \u001b[39m            madsrdf:Variant ;\u001b[39m\n\u001b[0;32m     10\u001b[0m \u001b[39m        madsrdf:elementList ( \u001b[39m\u001b[39m{\u001b[39;00mMakeElement(i\u001b[39m.\u001b[39melementList)\u001b[39m}\u001b[39;00m\u001b[39m ) ;\u001b[39m\n\u001b[0;32m     11\u001b[0m \u001b[39m        madsrdf:variantLabel \u001b[39m\u001b[39m\"\u001b[39m\u001b[39m{\u001b[39;00mMakeLabel(i\u001b[39m.\u001b[39melementList)\u001b[39m}\u001b[39;00m\u001b[39m\"\u001b[39m\u001b[39m ]\u001b[39m\u001b[39m\"\"\"\u001b[39m\n\u001b[0;32m     12\u001b[0m     \u001b[39melse\u001b[39;00m:\n",
      "\u001b[1;31mAttributeError\u001b[0m: 'tuple' object has no attribute 'elementList'"
     ]
    }
   ],
   "source": [
    "MakeVariant(request)"
   ]
  },
  {
   "cell_type": "code",
   "execution_count": 63,
   "metadata": {},
   "outputs": [
    {
     "name": "stdout",
     "output_type": "stream",
     "text": [
      "<https://bibliokeia.com/authorities/PersonalName/bkau-1> madsrdf:hasVariant ?variant .\n",
      "        ?variant rdf:type  madsrdf:Variant , madsrdf:PersonalName .\n",
      "        ?hasVariant madsrdf:variantLabel ?variantLabel .\n",
      "        ?variant madsrdf:elementList ?elementList . \n",
      " ?elementList rdf:first ?e0 .\n",
      "        ?e0 rdf:type madsrdf:FullNameElement . \n",
      "        ?e0 madsrdf:elementValue \"García Márquez, Gabriel,\" . \n",
      "        ?elementList rdf:rest ?rest1 . \n",
      " ?rest1 rdf:first ?e1 .\n",
      "        ?e1 rdf:type madsrdf:DateNameElement . \n",
      "        ?e1 madsrdf:elementValue \"1928-\" .\n",
      " ?rest1 rdf:rest rdf:nil\n"
     ]
    }
   ],
   "source": [
    "def MakeVariant(request):\n",
    "\n",
    "    elements = [\n",
    "        f\"\"\"<https://bibliokeia.com/authorities/PersonalName/bkau-1> madsrdf:hasVariant ?variant .\n",
    "        ?variant rdf:type  madsrdf:Variant , madsrdf:{request.variantType} .\n",
    "        ?hasVariant madsrdf:variantLabel ?variantLabel .\n",
    "        ?variant madsrdf:elementList ?elementList . \\n\"\"\"\n",
    "    ]\n",
    "    for i in request.elements:\n",
    "        index = request.elements.index(i)\n",
    "        if index == 0:\n",
    "            rest = f'?rest{index+1}'\n",
    "            e = f\"\"\"?elementList rdf:first ?e{index} .\n",
    "        ?e{index} rdf:type madsrdf:{i.elementType} . \n",
    "        ?e{index} madsrdf:elementValue \"{i.value}\" . \n",
    "        ?elementList rdf:rest {rest} . \\n\"\"\"\n",
    "            elements.append(e)\n",
    "        else:\n",
    "            e = f\"\"\"{rest} rdf:first ?e{index} .\n",
    "        ?e{index} rdf:type madsrdf:{i.elementType} . \n",
    "        ?e{index} madsrdf:elementValue \"{i.value}\" .\\n\"\"\"\n",
    "            if i == request.elements[-1]:\n",
    "                nil = f\"{rest} rdf:rest rdf:nil\"\n",
    "                elements.append(e)\n",
    "                elements.append(nil)\n",
    "                break\n",
    "            elements.append(e)\n",
    "            rest = f'?rest{index+1}'\n",
    "        \n",
    "\n",
    "    variant = \" \".join(elements)   \n",
    "    return variant  \n",
    "\n",
    "v = MakeVariant(request)\n",
    "print(v)\n",
    "    \n"
   ]
  },
  {
   "cell_type": "code",
   "execution_count": 64,
   "metadata": {},
   "outputs": [
    {
     "data": {
      "text/plain": [
       "{'statusCode': 200, 'message': 'Update succeeded'}"
      ]
     },
     "execution_count": 64,
     "metadata": {},
     "output_type": "execute_result"
    }
   ],
   "source": [
    "upAuthorities = FusekiUpdate('http://localhost:3030', 'authorities')\n",
    "variant = f\"\"\"PREFIX madsrdf: <http://www.loc.gov/mads/rdf/v1#>\n",
    "        PREFIX rdf: <http://www.w3.org/1999/02/22-rdf-syntax-ns#>\n",
    "        WITH <https://bibliokeia.com/authorities/PersonalName/bkau-1>\n",
    "\n",
    "        DELETE {{{v}.\n",
    "        }}\n",
    "\n",
    "    WHERE {{ {v}}}\"\"\"\n",
    "# print(variant)\n",
    "\n",
    "r = upAuthorities.run_sparql(variant)\n",
    "r.convert()"
   ]
  },
  {
   "cell_type": "code",
   "execution_count": 66,
   "metadata": {},
   "outputs": [
    {
     "name": "stdout",
     "output_type": "stream",
     "text": [
      "PREFIX madsrdf: <http://www.loc.gov/mads/rdf/v1#>\n",
      "        PREFIX rdf: <http://www.w3.org/1999/02/22-rdf-syntax-ns#>\n",
      "        WITH <https://bibliokeia.com/authorities/PersonalName/bkau-1> \n",
      "        DELETE {<https://bibliokeia.com/authorities/PersonalName/bkau-1> madsrdf:hasVariant ?variant .\n",
      "                ?variant rdf:type  madsrdf:Variant , madsrdf:PersonalName .\n",
      "                ?hasVariant madsrdf:variantLabel ?variantLabel .\n",
      "                ?variant madsrdf:elementList ?elementList . \n",
      " ?elementList rdf:first ?e0 .\n",
      "            ?e0 rdf:type madsrdf:FullNameElement . \n",
      "            ?e0 madsrdf:elementValue \"Gacxia Mackết, Gabriel,\" . \n",
      "            ?elementList rdf:rest ?rest1 . \n",
      " ?rest1 rdf:first ?e1 .\n",
      "            ?e1 rdf:type madsrdf:DateNameElement . \n",
      "            ?e1 madsrdf:elementValue \"1927-2014\" .\n",
      " ?rest1 rdf:rest rdf:nil}\n",
      "        WHERE { <https://bibliokeia.com/authorities/PersonalName/bkau-1> madsrdf:hasVariant ?variant .\n",
      "                ?variant rdf:type  madsrdf:Variant , madsrdf:PersonalName .\n",
      "                ?hasVariant madsrdf:variantLabel ?variantLabel .\n",
      "                ?variant madsrdf:elementList ?elementList . \n",
      " ?elementList rdf:first ?e0 .\n",
      "            ?e0 rdf:type madsrdf:FullNameElement . \n",
      "            ?e0 madsrdf:elementValue \"Gacxia Mackết, Gabriel,\" . \n",
      "            ?elementList rdf:rest ?rest1 . \n",
      " ?rest1 rdf:first ?e1 .\n",
      "            ?e1 rdf:type madsrdf:DateNameElement . \n",
      "            ?e1 madsrdf:elementValue \"1927-2014\" .\n",
      " ?rest1 rdf:rest rdf:nil}\n"
     ]
    }
   ],
   "source": [
    "v = \"PREFIX madsrdf: <http://www.loc.gov/mads/rdf/v1#>\\n        PREFIX rdf: <http://www.w3.org/1999/02/22-rdf-syntax-ns#>\\n        WITH <https://bibliokeia.com/authorities/PersonalName/bkau-1> \\n        DELETE {<https://bibliokeia.com/authorities/PersonalName/bkau-1> madsrdf:hasVariant ?variant .\\n                ?variant rdf:type  madsrdf:Variant , madsrdf:PersonalName .\\n                ?hasVariant madsrdf:variantLabel ?variantLabel .\\n                ?variant madsrdf:elementList ?elementList . \\n ?elementList rdf:first ?e0 .\\n            ?e0 rdf:type madsrdf:FullNameElement . \\n            ?e0 madsrdf:elementValue \\\"Gacxia Mackết, Gabriel,\\\" . \\n            ?elementList rdf:rest ?rest1 . \\n ?rest1 rdf:first ?e1 .\\n            ?e1 rdf:type madsrdf:DateNameElement . \\n            ?e1 madsrdf:elementValue \\\"1927-2014\\\" .\\n ?rest1 rdf:rest rdf:nil}\\n        WHERE { <https://bibliokeia.com/authorities/PersonalName/bkau-1> madsrdf:hasVariant ?variant .\\n                ?variant rdf:type  madsrdf:Variant , madsrdf:PersonalName .\\n                ?hasVariant madsrdf:variantLabel ?variantLabel .\\n                ?variant madsrdf:elementList ?elementList . \\n ?elementList rdf:first ?e0 .\\n            ?e0 rdf:type madsrdf:FullNameElement . \\n            ?e0 madsrdf:elementValue \\\"Gacxia Mackết, Gabriel,\\\" . \\n            ?elementList rdf:rest ?rest1 . \\n ?rest1 rdf:first ?e1 .\\n            ?e1 rdf:type madsrdf:DateNameElement . \\n            ?e1 madsrdf:elementValue \\\"1927-2014\\\" .\\n ?rest1 rdf:rest rdf:nil}\"\n",
    "print(v)"
   ]
  },
  {
   "cell_type": "code",
   "execution_count": 69,
   "metadata": {},
   "outputs": [
    {
     "data": {
      "text/plain": [
       "{'statusCode': 200, 'message': 'Update succeeded'}"
      ]
     },
     "execution_count": 69,
     "metadata": {},
     "output_type": "execute_result"
    }
   ],
   "source": [
    "d = \"\"\"DELETE { graph ?g { ?s ?p ?o } } \n",
    "        WHERE {\n",
    "        graph ?g {?s ?p ?o.}\n",
    "        }\"\"\"\n",
    "\n",
    "response = upAuthorities.run_sparql(d)\n",
    "response.convert()"
   ]
  },
  {
   "cell_type": "code",
   "execution_count": 70,
   "metadata": {},
   "outputs": [
    {
     "data": {
      "text/plain": [
       "200"
      ]
     },
     "execution_count": 70,
     "metadata": {},
     "output_type": "execute_result"
    }
   ],
   "source": [
    "authority = 'http://id.loc.gov/authorities/names/n79063441'\n",
    "url = f'http://localhost:8000/authorities/import/loc/agents?authority={authority}'\n",
    "r = httpx.get(url)\n",
    "r.status_code"
   ]
  },
  {
   "cell_type": "code",
   "execution_count": 73,
   "metadata": {},
   "outputs": [
    {
     "data": {
      "text/plain": [
       "{'type': 'PersonalName',\n",
       " 'adminMetadata': {'assigner': 'http://id.loc.gov/vocabulary/organizations/dlc',\n",
       "  'descriptionModifier': 'http://id.loc.gov/vocabulary/organizations/brmninpa',\n",
       "  'creationDate': '2023-06-01',\n",
       "  'descriptionLanguage': 'http://id.loc.gov/vocabulary/languages/por',\n",
       "  'generationProcess': 'BiblioKeia v.1',\n",
       "  'generationDate': '2023-06-01T10:05:47',\n",
       "  'identifiedBy': [{'type': 'Lccn',\n",
       "    'assigner': 'http://id.loc.gov/vocabulary/organizations/dlc',\n",
       "    'value': 'n79063441'}],\n",
       "  'status': {'value': 'mstatus:new', 'label': 'novo'}},\n",
       " 'elementList': [{'type': 'FullNameElement',\n",
       "   'elementValue': {'value': 'García Márquez, Gabriel,', 'lang': None}},\n",
       "  {'type': 'DateNameElement',\n",
       "   'elementValue': {'value': '1927-2014', 'lang': None}}],\n",
       " 'fullerName': {'type': 'PersonalName',\n",
       "  'elementValue': {'value': 'Gabriel José de la Concordia', 'lang': None}},\n",
       " 'birthDate': '1927-03-06',\n",
       " 'birthPlace': 'Aracataca (Colombia)',\n",
       " 'deathDate': '2014-04-17',\n",
       " 'hasAffiliation': None,\n",
       " 'occupation': [{'value': 'http://id.loc.gov/authorities/subjects/sh85009793',\n",
       "   'label': 'Authors',\n",
       "   'base': 'id.loc.gov'},\n",
       "  {'value': 'http://id.loc.gov/authorities/subjects/sh85092863',\n",
       "   'label': 'Novelists',\n",
       "   'base': 'id.loc.gov'},\n",
       "  {'value': 'http://id.loc.gov/authorities/subjects/sh85070788',\n",
       "   'label': 'Journalists',\n",
       "   'base': 'id.loc.gov'}],\n",
       " 'fieldOfActivity': [{'value': 'http://id.loc.gov/authorities/genreForms/gf2014026424',\n",
       "   'label': 'Magic realist fiction',\n",
       "   'base': 'id.loc.gov'},\n",
       "  {'value': 'http://id.loc.gov/authorities/genreForms/gf2014026533',\n",
       "   'label': 'Screenplays',\n",
       "   'base': 'id.loc.gov'},\n",
       "  {'value': 'http://id.loc.gov/authorities/subjects/sh85079627',\n",
       "   'label': 'Magic realism (Literature)',\n",
       "   'base': 'id.loc.gov'},\n",
       "  {'value': 'http://id.loc.gov/authorities/subjects/sh85070736',\n",
       "   'label': 'Journalism',\n",
       "   'base': 'id.loc.gov'}],\n",
       " 'hasCloseExternalAuthority': [{'value': 'http://www.wikidata.org/entity/Q5878',\n",
       "   'label': 'Gabriel García Márquez',\n",
       "   'base': 'www.wikidata.org'},\n",
       "  {'value': 'http://id.worldcat.org/fast/37134',\n",
       "   'label': 'García Márquez, Gabriel, 1927-2014',\n",
       "   'base': 'id.worldcat.org'}],\n",
       " 'hasExactExternalAuthority': None,\n",
       " 'hasVariant': [{'type': 'PersonalName',\n",
       "   'elementList': [{'type': 'FullNameElement',\n",
       "     'elementValue': {'value': 'García Márquez, Gabriel,', 'lang': None}},\n",
       "    {'type': 'DateNameElement',\n",
       "     'elementValue': {'value': '1928-', 'lang': None}}]},\n",
       "  {'type': 'PersonalName',\n",
       "   'elementList': [{'type': 'FullNameElement',\n",
       "     'elementValue': {'value': 'Jiaxiya Maerkesi, Jiafulieer,', 'lang': None}},\n",
       "    {'type': 'DateNameElement',\n",
       "     'elementValue': {'value': '1927-2014', 'lang': None}}]},\n",
       "  {'type': 'PersonalName',\n",
       "   'elementList': [{'type': 'FullNameElement',\n",
       "     'elementValue': {'value': 'Gacxia Mackết, Gabriel,', 'lang': None}},\n",
       "    {'type': 'DateNameElement',\n",
       "     'elementValue': {'value': '1927-2014', 'lang': None}}]},\n",
       "  {'type': 'PersonalName',\n",
       "   'elementList': [{'type': 'FullNameElement',\n",
       "     'elementValue': {'value': 'García Márquez, G.', 'lang': None}},\n",
       "    {'type': 'FullNameElement',\n",
       "     'elementValue': {'value': '(Gabriel),', 'lang': None}},\n",
       "    {'type': 'DateNameElement',\n",
       "     'elementValue': {'value': '1927-2014', 'lang': None}}]},\n",
       "  {'type': 'PersonalName',\n",
       "   'elementList': [{'type': 'FullNameElement',\n",
       "     'elementValue': {'value': 'Garsia Markes, G.', 'lang': None}},\n",
       "    {'type': 'FullNameElement',\n",
       "     'elementValue': {'value': '(Gabriėlʹ),', 'lang': None}},\n",
       "    {'type': 'DateNameElement',\n",
       "     'elementValue': {'value': '1927-2014', 'lang': None}}]},\n",
       "  {'type': 'PersonalName',\n",
       "   'elementList': [{'type': 'FullNameElement',\n",
       "     'elementValue': {'value': 'Garsia Markes, Gabriėlʹ,', 'lang': None}},\n",
       "    {'type': 'DateNameElement',\n",
       "     'elementValue': {'value': '1927-2014', 'lang': None}}]},\n",
       "  {'type': 'PersonalName',\n",
       "   'elementList': [{'type': 'FullNameElement',\n",
       "     'elementValue': {'value': 'Gkarthia Markes, Gkampriel,', 'lang': None}},\n",
       "    {'type': 'DateNameElement',\n",
       "     'elementValue': {'value': '1927-2014', 'lang': None}}]},\n",
       "  {'type': 'PersonalName',\n",
       "   'elementList': [{'type': 'FullNameElement',\n",
       "     'elementValue': {'value': 'Mackêt, G. G.,', 'lang': None}},\n",
       "    {'type': 'DateNameElement',\n",
       "     'elementValue': {'value': '1927-2014', 'lang': None}}]},\n",
       "  {'type': 'PersonalName',\n",
       "   'elementList': [{'type': 'FullNameElement',\n",
       "     'elementValue': {'value': 'Markes, Gabriėlʹ Garsia,', 'lang': None}},\n",
       "    {'type': 'DateNameElement',\n",
       "     'elementValue': {'value': '1927-2014', 'lang': None}}]},\n",
       "  {'type': 'PersonalName',\n",
       "   'elementList': [{'type': 'FullNameElement',\n",
       "     'elementValue': {'value': 'Marḳes, Gavriʼel Garsiyah,', 'lang': None}},\n",
       "    {'type': 'DateNameElement',\n",
       "     'elementValue': {'value': '1927-2014', 'lang': None}}]},\n",
       "  {'type': 'PersonalName',\n",
       "   'elementList': [{'type': 'FullNameElement',\n",
       "     'elementValue': {'value': 'Márquez, Gabriel García,', 'lang': None}},\n",
       "    {'type': 'DateNameElement',\n",
       "     'elementValue': {'value': '1927-2014', 'lang': None}}]},\n",
       "  {'type': 'PersonalName',\n",
       "   'elementList': [{'type': 'FullNameElement',\n",
       "     'elementValue': {'value': 'Garsija Markez, Gabriel,', 'lang': None}},\n",
       "    {'type': 'DateNameElement',\n",
       "     'elementValue': {'value': '1927-2014', 'lang': None}}]},\n",
       "  {'type': 'PersonalName',\n",
       "   'elementList': [{'type': 'FullNameElement',\n",
       "     'elementValue': {'value': 'Гарсия Маркес, Габриел,', 'lang': None}},\n",
       "    {'type': 'DateNameElement',\n",
       "     'elementValue': {'value': '1927-2014', 'lang': None}}]},\n",
       "  {'type': 'PersonalName',\n",
       "   'elementList': [{'type': 'FullNameElement',\n",
       "     'elementValue': {'value': 'Гарсия Маркес, Габриэль,', 'lang': None}},\n",
       "    {'type': 'DateNameElement',\n",
       "     'elementValue': {'value': '1927-2014', 'lang': None}}]},\n",
       "  {'type': 'PersonalName',\n",
       "   'elementList': [{'type': 'FullNameElement',\n",
       "     'elementValue': {'value': 'Гарсија Маркез, Габриел,', 'lang': None}},\n",
       "    {'type': 'DateNameElement',\n",
       "     'elementValue': {'value': '1927-2014', 'lang': None}}]},\n",
       "  {'type': 'PersonalName',\n",
       "   'elementList': [{'type': 'FullNameElement',\n",
       "     'elementValue': {'value': 'גארסיה מארקס, גבריאל', 'lang': None}}]},\n",
       "  {'type': 'PersonalName',\n",
       "   'elementList': [{'type': 'FullNameElement',\n",
       "     'elementValue': {'value': 'גרסיה מארקס, גבריאל,', 'lang': None}},\n",
       "    {'type': 'DateNameElement',\n",
       "     'elementValue': {'value': '1927-2014', 'lang': None}}]},\n",
       "  {'type': 'PersonalName',\n",
       "   'elementList': [{'type': 'FullNameElement',\n",
       "     'elementValue': {'value': 'غارسيّا ماركيز، غابرييل،', 'lang': None}},\n",
       "    {'type': 'DateNameElement',\n",
       "     'elementValue': {'value': '1927-2014', 'lang': None}}]},\n",
       "  {'type': 'PersonalName',\n",
       "   'elementList': [{'type': 'FullNameElement',\n",
       "     'elementValue': {'value': 'گارسيا ماركز، گابريل', 'lang': None}}]},\n",
       "  {'type': 'PersonalName',\n",
       "   'elementList': [{'type': 'FullNameElement',\n",
       "     'elementValue': {'value': 'ガルシヤマルケスガブリエル,', 'lang': None}},\n",
       "    {'type': 'DateNameElement',\n",
       "     'elementValue': {'value': '1927-2014', 'lang': None}}]},\n",
       "  {'type': 'PersonalName',\n",
       "   'elementList': [{'type': 'FullNameElement',\n",
       "     'elementValue': {'value': 'ガルシアマルケス,', 'lang': None}},\n",
       "    {'type': 'DateNameElement',\n",
       "     'elementValue': {'value': '1927-2014', 'lang': None}}]},\n",
       "  {'type': 'PersonalName',\n",
       "   'elementList': [{'type': 'FullNameElement',\n",
       "     'elementValue': {'value': 'Gabo,', 'lang': None}},\n",
       "    {'type': 'DateNameElement',\n",
       "     'elementValue': {'value': '1927-2014', 'lang': None}}]}],\n",
       " 'subjectOf': None,\n",
       " 'contributorOf': None,\n",
       " 'isMemberOfMADSCollection': 'http://bibliokeia.com/authorities/PersonalName/'}"
      ]
     },
     "execution_count": 73,
     "metadata": {},
     "output_type": "execute_result"
    }
   ],
   "source": [
    "r.json()"
   ]
  },
  {
   "cell_type": "code",
   "execution_count": 74,
   "metadata": {},
   "outputs": [
    {
     "data": {
      "text/plain": [
       "[{'type': 'PersonalName',\n",
       "  'elementList': [{'type': 'FullNameElement',\n",
       "    'elementValue': {'value': 'García Márquez, Gabriel,', 'lang': None}},\n",
       "   {'type': 'DateNameElement',\n",
       "    'elementValue': {'value': '1928-', 'lang': None}}]},\n",
       " {'type': 'PersonalName',\n",
       "  'elementList': [{'type': 'FullNameElement',\n",
       "    'elementValue': {'value': 'Jiaxiya Maerkesi, Jiafulieer,', 'lang': None}},\n",
       "   {'type': 'DateNameElement',\n",
       "    'elementValue': {'value': '1927-2014', 'lang': None}}]},\n",
       " {'type': 'PersonalName',\n",
       "  'elementList': [{'type': 'FullNameElement',\n",
       "    'elementValue': {'value': 'Gacxia Mackết, Gabriel,', 'lang': None}},\n",
       "   {'type': 'DateNameElement',\n",
       "    'elementValue': {'value': '1927-2014', 'lang': None}}]},\n",
       " {'type': 'PersonalName',\n",
       "  'elementList': [{'type': 'FullNameElement',\n",
       "    'elementValue': {'value': 'García Márquez, G.', 'lang': None}},\n",
       "   {'type': 'FullNameElement',\n",
       "    'elementValue': {'value': '(Gabriel),', 'lang': None}},\n",
       "   {'type': 'DateNameElement',\n",
       "    'elementValue': {'value': '1927-2014', 'lang': None}}]},\n",
       " {'type': 'PersonalName',\n",
       "  'elementList': [{'type': 'FullNameElement',\n",
       "    'elementValue': {'value': 'Garsia Markes, G.', 'lang': None}},\n",
       "   {'type': 'FullNameElement',\n",
       "    'elementValue': {'value': '(Gabriėlʹ),', 'lang': None}},\n",
       "   {'type': 'DateNameElement',\n",
       "    'elementValue': {'value': '1927-2014', 'lang': None}}]},\n",
       " {'type': 'PersonalName',\n",
       "  'elementList': [{'type': 'FullNameElement',\n",
       "    'elementValue': {'value': 'Garsia Markes, Gabriėlʹ,', 'lang': None}},\n",
       "   {'type': 'DateNameElement',\n",
       "    'elementValue': {'value': '1927-2014', 'lang': None}}]},\n",
       " {'type': 'PersonalName',\n",
       "  'elementList': [{'type': 'FullNameElement',\n",
       "    'elementValue': {'value': 'Gkarthia Markes, Gkampriel,', 'lang': None}},\n",
       "   {'type': 'DateNameElement',\n",
       "    'elementValue': {'value': '1927-2014', 'lang': None}}]},\n",
       " {'type': 'PersonalName',\n",
       "  'elementList': [{'type': 'FullNameElement',\n",
       "    'elementValue': {'value': 'Mackêt, G. G.,', 'lang': None}},\n",
       "   {'type': 'DateNameElement',\n",
       "    'elementValue': {'value': '1927-2014', 'lang': None}}]},\n",
       " {'type': 'PersonalName',\n",
       "  'elementList': [{'type': 'FullNameElement',\n",
       "    'elementValue': {'value': 'Markes, Gabriėlʹ Garsia,', 'lang': None}},\n",
       "   {'type': 'DateNameElement',\n",
       "    'elementValue': {'value': '1927-2014', 'lang': None}}]},\n",
       " {'type': 'PersonalName',\n",
       "  'elementList': [{'type': 'FullNameElement',\n",
       "    'elementValue': {'value': 'Marḳes, Gavriʼel Garsiyah,', 'lang': None}},\n",
       "   {'type': 'DateNameElement',\n",
       "    'elementValue': {'value': '1927-2014', 'lang': None}}]},\n",
       " {'type': 'PersonalName',\n",
       "  'elementList': [{'type': 'FullNameElement',\n",
       "    'elementValue': {'value': 'Márquez, Gabriel García,', 'lang': None}},\n",
       "   {'type': 'DateNameElement',\n",
       "    'elementValue': {'value': '1927-2014', 'lang': None}}]},\n",
       " {'type': 'PersonalName',\n",
       "  'elementList': [{'type': 'FullNameElement',\n",
       "    'elementValue': {'value': 'Garsija Markez, Gabriel,', 'lang': None}},\n",
       "   {'type': 'DateNameElement',\n",
       "    'elementValue': {'value': '1927-2014', 'lang': None}}]},\n",
       " {'type': 'PersonalName',\n",
       "  'elementList': [{'type': 'FullNameElement',\n",
       "    'elementValue': {'value': 'Гарсия Маркес, Габриел,', 'lang': None}},\n",
       "   {'type': 'DateNameElement',\n",
       "    'elementValue': {'value': '1927-2014', 'lang': None}}]},\n",
       " {'type': 'PersonalName',\n",
       "  'elementList': [{'type': 'FullNameElement',\n",
       "    'elementValue': {'value': 'Гарсия Маркес, Габриэль,', 'lang': None}},\n",
       "   {'type': 'DateNameElement',\n",
       "    'elementValue': {'value': '1927-2014', 'lang': None}}]},\n",
       " {'type': 'PersonalName',\n",
       "  'elementList': [{'type': 'FullNameElement',\n",
       "    'elementValue': {'value': 'Гарсија Маркез, Габриел,', 'lang': None}},\n",
       "   {'type': 'DateNameElement',\n",
       "    'elementValue': {'value': '1927-2014', 'lang': None}}]},\n",
       " {'type': 'PersonalName',\n",
       "  'elementList': [{'type': 'FullNameElement',\n",
       "    'elementValue': {'value': 'גארסיה מארקס, גבריאל', 'lang': None}}]},\n",
       " {'type': 'PersonalName',\n",
       "  'elementList': [{'type': 'FullNameElement',\n",
       "    'elementValue': {'value': 'גרסיה מארקס, גבריאל,', 'lang': None}},\n",
       "   {'type': 'DateNameElement',\n",
       "    'elementValue': {'value': '1927-2014', 'lang': None}}]},\n",
       " {'type': 'PersonalName',\n",
       "  'elementList': [{'type': 'FullNameElement',\n",
       "    'elementValue': {'value': 'غارسيّا ماركيز، غابرييل،', 'lang': None}},\n",
       "   {'type': 'DateNameElement',\n",
       "    'elementValue': {'value': '1927-2014', 'lang': None}}]},\n",
       " {'type': 'PersonalName',\n",
       "  'elementList': [{'type': 'FullNameElement',\n",
       "    'elementValue': {'value': 'گارسيا ماركز، گابريل', 'lang': None}}]},\n",
       " {'type': 'PersonalName',\n",
       "  'elementList': [{'type': 'FullNameElement',\n",
       "    'elementValue': {'value': 'ガルシヤマルケスガブリエル,', 'lang': None}},\n",
       "   {'type': 'DateNameElement',\n",
       "    'elementValue': {'value': '1927-2014', 'lang': None}}]},\n",
       " {'type': 'PersonalName',\n",
       "  'elementList': [{'type': 'FullNameElement',\n",
       "    'elementValue': {'value': 'ガルシアマルケス,', 'lang': None}},\n",
       "   {'type': 'DateNameElement',\n",
       "    'elementValue': {'value': '1927-2014', 'lang': None}}]},\n",
       " {'type': 'PersonalName',\n",
       "  'elementList': [{'type': 'FullNameElement',\n",
       "    'elementValue': {'value': 'Gabo,', 'lang': None}},\n",
       "   {'type': 'DateNameElement',\n",
       "    'elementValue': {'value': '1927-2014', 'lang': None}}]}]"
      ]
     },
     "execution_count": 74,
     "metadata": {},
     "output_type": "execute_result"
    }
   ],
   "source": [
    "r.json()['hasVariant']"
   ]
  },
  {
   "cell_type": "code",
   "execution_count": 72,
   "metadata": {},
   "outputs": [
    {
     "data": {
      "text/plain": [
       "<Response [307 Temporary Redirect]>"
      ]
     },
     "execution_count": 72,
     "metadata": {},
     "output_type": "execute_result"
    }
   ],
   "source": [
    "res = httpx.post(\"http://localhost:8000/authorities/agents\", data=r.json())\n",
    "res"
   ]
  },
  {
   "cell_type": "code",
   "execution_count": 12,
   "metadata": {},
   "outputs": [
    {
     "data": {
      "text/plain": [
       "{'statusCode': 200, 'message': 'Update succeeded'}"
      ]
     },
     "execution_count": 12,
     "metadata": {},
     "output_type": "execute_result"
    }
   ],
   "source": []
  },
  {
   "cell_type": "code",
   "execution_count": 31,
   "metadata": {},
   "outputs": [
    {
     "data": {
      "text/plain": [
       "{'statusCode': 200, 'message': 'Update succeeded'}"
      ]
     },
     "execution_count": 31,
     "metadata": {},
     "output_type": "execute_result"
    }
   ],
   "source": [
    "variant = f\"\"\"PREFIX madsrdf: <http://www.loc.gov/mads/rdf/v1#>\n",
    "        PREFIX rdf: <http://www.w3.org/1999/02/22-rdf-syntax-ns#>\n",
    "        WITH <https://bibliokeia.com/authorities/PersonalName/bkau-1>\n",
    "\n",
    "        DELETE {{\n",
    "<https://bibliokeia.com/authorities/PersonalName/bkau-1> madsrdf:hasVariant ?hasVariant .\n",
    "    ?hasVariant rdf:type madsrdf:Variant, madsrdf:{request.variantType} .\n",
    "    ?hasVariant madsrdf:variantLabel ?variantLabel .\n",
    "    ?hasVariant madsrdf:elementList ?elementList .\n",
    "    ?elementList rdf:first ?first .\n",
    "    ?first madsrdf:elementValue \"{request.name.value}\" .\n",
    "    ?first rdf:type madsrdf:{request.name.elementType} .   \n",
    "    ?elementList rdf:rest rdf:nil .  \n",
    "     {  '?elementList rdf:rest ?rest .' if request.date else '' } \n",
    "     {  '?rest rdf:rest rdf:nil . ' if request.date else '' } \n",
    "     {  '?rest rdf:first ?date . ' if request.date else '' } \n",
    "     {  '?date rdf:type madsrdf:DateNameElement . ' if request.date else '' } \n",
    "     {  f'?date madsrdf:elementValue \"{request.date.value}\"' if request.date else '' }     \n",
    "        }}\n",
    "\n",
    "    WHERE {{ \n",
    "       <https://bibliokeia.com/authorities/PersonalName/bkau-1> madsrdf:hasVariant ?hasVariant .\n",
    "    ?hasVariant rdf:type madsrdf:Variant, madsrdf:{request.variantType} .\n",
    "    ?hasVariant madsrdf:variantLabel ?variantLabel .\n",
    "    ?hasVariant madsrdf:elementList ?elementList .\n",
    "    ?elementList rdf:first ?first .\n",
    "    ?first madsrdf:elementValue \"{request.name.value}\" .\n",
    "    ?first rdf:type madsrdf:{request.name.elementType} . \n",
    "    ?elementList rdf:rest rdf:nil .  \n",
    "     {  '?elementList rdf:rest ?rest .' if request.date else '' } \n",
    "     {  '?rest rdf:rest rdf:nil . ' if request.date else '' } \n",
    "     {  '?rest rdf:first ?date . ' if request.date else '' } \n",
    "     {  '?date rdf:type madsrdf:DateNameElement . ' if request.date else '' } \n",
    "     {  f'?date madsrdf:elementValue \"{request.date.value}\"' if request.date else '' }  \n",
    "        }}\"\"\"\n",
    "\n",
    "r = upAuthorities.run_sparql(variant)\n",
    "r.convert()"
   ]
  },
  {
   "cell_type": "code",
   "execution_count": 8,
   "metadata": {},
   "outputs": [],
   "source": [
    "delete = \"\"\"PREFIX madsrdf: <http://www.loc.gov/mads/rdf/v1#>\n",
    "DELETE DATA\n",
    "{ GRAPH <https://bibliokeia.com/authorities/PersonalName/bkau-1> { \n",
    "    <https://bibliokeia.com/authorities/PersonalName/bkau-1> madsrdf:hasVariant [\n",
    "    rdf:type madsrdf:Variant , madsrdf:PersonalName ;\n",
    "    madsrdf:elementList (\n",
    "        [ rdf:type  madsrdf:FullNameElement ;\n",
    "          madsrdf:elementValue  \"FLAVIO GUSTAVO\" ]\n",
    "        [ rdf:type madsrdf:DateNameElement ;\n",
    "          madsrdf:elementValue  \"1821-1880\" ] ) ;\n",
    "  madsrdf:variantLabel  \"Flaubert, Gustaw,, 1821-1880\" ]\n",
    "      } }\"\"\""
   ]
  },
  {
   "cell_type": "code",
   "execution_count": 9,
   "metadata": {},
   "outputs": [
    {
     "ename": "QueryBadFormed",
     "evalue": "QueryBadFormed: A bad request has been sent to the endpoint: probably the SPARQL query is badly formed. \n\nResponse:\nb'Line 4, column 81: Blank nodes not allowed in DELETE templates\\n'",
     "output_type": "error",
     "traceback": [
      "\u001b[1;31m---------------------------------------------------------------------------\u001b[0m",
      "\u001b[1;31mHTTPError\u001b[0m                                 Traceback (most recent call last)",
      "File \u001b[1;32mc:\\Users\\Usuário\\Desktop\\BiblioKeia\\venv\\lib\\site-packages\\SPARQLWrapper\\Wrapper.py:926\u001b[0m, in \u001b[0;36mSPARQLWrapper._query\u001b[1;34m(self)\u001b[0m\n\u001b[0;32m    925\u001b[0m \u001b[39melse\u001b[39;00m:\n\u001b[1;32m--> 926\u001b[0m     response \u001b[39m=\u001b[39m urlopener(request)\n\u001b[0;32m    927\u001b[0m \u001b[39mreturn\u001b[39;00m response, \u001b[39mself\u001b[39m\u001b[39m.\u001b[39mreturnFormat\n",
      "File \u001b[1;32m~\\AppData\\Local\\Programs\\Python\\Python310\\lib\\urllib\\request.py:216\u001b[0m, in \u001b[0;36murlopen\u001b[1;34m(url, data, timeout, cafile, capath, cadefault, context)\u001b[0m\n\u001b[0;32m    215\u001b[0m     opener \u001b[39m=\u001b[39m _opener\n\u001b[1;32m--> 216\u001b[0m \u001b[39mreturn\u001b[39;00m opener\u001b[39m.\u001b[39;49mopen(url, data, timeout)\n",
      "File \u001b[1;32m~\\AppData\\Local\\Programs\\Python\\Python310\\lib\\urllib\\request.py:525\u001b[0m, in \u001b[0;36mOpenerDirector.open\u001b[1;34m(self, fullurl, data, timeout)\u001b[0m\n\u001b[0;32m    524\u001b[0m     meth \u001b[39m=\u001b[39m \u001b[39mgetattr\u001b[39m(processor, meth_name)\n\u001b[1;32m--> 525\u001b[0m     response \u001b[39m=\u001b[39m meth(req, response)\n\u001b[0;32m    527\u001b[0m \u001b[39mreturn\u001b[39;00m response\n",
      "File \u001b[1;32m~\\AppData\\Local\\Programs\\Python\\Python310\\lib\\urllib\\request.py:634\u001b[0m, in \u001b[0;36mHTTPErrorProcessor.http_response\u001b[1;34m(self, request, response)\u001b[0m\n\u001b[0;32m    633\u001b[0m \u001b[39mif\u001b[39;00m \u001b[39mnot\u001b[39;00m (\u001b[39m200\u001b[39m \u001b[39m<\u001b[39m\u001b[39m=\u001b[39m code \u001b[39m<\u001b[39m \u001b[39m300\u001b[39m):\n\u001b[1;32m--> 634\u001b[0m     response \u001b[39m=\u001b[39m \u001b[39mself\u001b[39;49m\u001b[39m.\u001b[39;49mparent\u001b[39m.\u001b[39;49merror(\n\u001b[0;32m    635\u001b[0m         \u001b[39m'\u001b[39;49m\u001b[39mhttp\u001b[39;49m\u001b[39m'\u001b[39;49m, request, response, code, msg, hdrs)\n\u001b[0;32m    637\u001b[0m \u001b[39mreturn\u001b[39;00m response\n",
      "File \u001b[1;32m~\\AppData\\Local\\Programs\\Python\\Python310\\lib\\urllib\\request.py:563\u001b[0m, in \u001b[0;36mOpenerDirector.error\u001b[1;34m(self, proto, *args)\u001b[0m\n\u001b[0;32m    562\u001b[0m args \u001b[39m=\u001b[39m (\u001b[39mdict\u001b[39m, \u001b[39m'\u001b[39m\u001b[39mdefault\u001b[39m\u001b[39m'\u001b[39m, \u001b[39m'\u001b[39m\u001b[39mhttp_error_default\u001b[39m\u001b[39m'\u001b[39m) \u001b[39m+\u001b[39m orig_args\n\u001b[1;32m--> 563\u001b[0m \u001b[39mreturn\u001b[39;00m \u001b[39mself\u001b[39;49m\u001b[39m.\u001b[39;49m_call_chain(\u001b[39m*\u001b[39;49margs)\n",
      "File \u001b[1;32m~\\AppData\\Local\\Programs\\Python\\Python310\\lib\\urllib\\request.py:496\u001b[0m, in \u001b[0;36mOpenerDirector._call_chain\u001b[1;34m(self, chain, kind, meth_name, *args)\u001b[0m\n\u001b[0;32m    495\u001b[0m func \u001b[39m=\u001b[39m \u001b[39mgetattr\u001b[39m(handler, meth_name)\n\u001b[1;32m--> 496\u001b[0m result \u001b[39m=\u001b[39m func(\u001b[39m*\u001b[39;49margs)\n\u001b[0;32m    497\u001b[0m \u001b[39mif\u001b[39;00m result \u001b[39mis\u001b[39;00m \u001b[39mnot\u001b[39;00m \u001b[39mNone\u001b[39;00m:\n",
      "File \u001b[1;32m~\\AppData\\Local\\Programs\\Python\\Python310\\lib\\urllib\\request.py:643\u001b[0m, in \u001b[0;36mHTTPDefaultErrorHandler.http_error_default\u001b[1;34m(self, req, fp, code, msg, hdrs)\u001b[0m\n\u001b[0;32m    642\u001b[0m \u001b[39mdef\u001b[39;00m \u001b[39mhttp_error_default\u001b[39m(\u001b[39mself\u001b[39m, req, fp, code, msg, hdrs):\n\u001b[1;32m--> 643\u001b[0m     \u001b[39mraise\u001b[39;00m HTTPError(req\u001b[39m.\u001b[39mfull_url, code, msg, hdrs, fp)\n",
      "\u001b[1;31mHTTPError\u001b[0m: HTTP Error 400: Bad Request",
      "\nDuring handling of the above exception, another exception occurred:\n",
      "\u001b[1;31mQueryBadFormed\u001b[0m                            Traceback (most recent call last)",
      "\u001b[1;32mc:\\Users\\Usuário\\Desktop\\BiblioKeia\\variant.ipynb Cell 5\u001b[0m in \u001b[0;36m<cell line: 3>\u001b[1;34m()\u001b[0m\n\u001b[0;32m      <a href='vscode-notebook-cell:/c%3A/Users/Usu%C3%A1rio/Desktop/BiblioKeia/variant.ipynb#W5sZmlsZQ%3D%3D?line=0'>1</a>\u001b[0m upAcervo \u001b[39m=\u001b[39m FusekiUpdate(\u001b[39m'\u001b[39m\u001b[39mhttp://localhost:3030\u001b[39m\u001b[39m'\u001b[39m, \u001b[39m'\u001b[39m\u001b[39mauthorities\u001b[39m\u001b[39m'\u001b[39m)\n\u001b[1;32m----> <a href='vscode-notebook-cell:/c%3A/Users/Usu%C3%A1rio/Desktop/BiblioKeia/variant.ipynb#W5sZmlsZQ%3D%3D?line=2'>3</a>\u001b[0m r \u001b[39m=\u001b[39m upAcervo\u001b[39m.\u001b[39;49mrun_sparql(delete)\n\u001b[0;32m      <a href='vscode-notebook-cell:/c%3A/Users/Usu%C3%A1rio/Desktop/BiblioKeia/variant.ipynb#W5sZmlsZQ%3D%3D?line=3'>4</a>\u001b[0m r\u001b[39m.\u001b[39mconvert()\n",
      "File \u001b[1;32mc:\\Users\\Usuário\\Desktop\\BiblioKeia\\venv\\lib\\site-packages\\pyfuseki\\syncFuseki\\fuseki.py:37\u001b[0m, in \u001b[0;36mBaseFuseki.run_sparql\u001b[1;34m(self, sparql_str, return_format)\u001b[0m\n\u001b[0;32m     35\u001b[0m \u001b[39mself\u001b[39m\u001b[39m.\u001b[39msparql_conn\u001b[39m.\u001b[39msetQuery(sparql_str)\n\u001b[0;32m     36\u001b[0m \u001b[39mself\u001b[39m\u001b[39m.\u001b[39msparql_conn\u001b[39m.\u001b[39msetReturnFormat(return_format)\n\u001b[1;32m---> 37\u001b[0m \u001b[39mreturn\u001b[39;00m \u001b[39mself\u001b[39;49m\u001b[39m.\u001b[39;49msparql_conn\u001b[39m.\u001b[39;49mquery()\n",
      "File \u001b[1;32mc:\\Users\\Usuário\\Desktop\\BiblioKeia\\venv\\lib\\site-packages\\SPARQLWrapper\\Wrapper.py:960\u001b[0m, in \u001b[0;36mSPARQLWrapper.query\u001b[1;34m(self)\u001b[0m\n\u001b[0;32m    942\u001b[0m \u001b[39mdef\u001b[39;00m \u001b[39mquery\u001b[39m(\u001b[39mself\u001b[39m) \u001b[39m-\u001b[39m\u001b[39m>\u001b[39m \u001b[39m\"\u001b[39m\u001b[39mQueryResult\u001b[39m\u001b[39m\"\u001b[39m:\n\u001b[0;32m    943\u001b[0m     \u001b[39m\"\"\"\u001b[39;00m\n\u001b[0;32m    944\u001b[0m \u001b[39m    Execute the query.\u001b[39;00m\n\u001b[0;32m    945\u001b[0m \u001b[39m    Exceptions can be raised if either the URI is wrong or the HTTP sends back an error (this is also the\u001b[39;00m\n\u001b[1;32m   (...)\u001b[0m\n\u001b[0;32m    958\u001b[0m \u001b[39m    :rtype: :class:`QueryResult` instance\u001b[39;00m\n\u001b[0;32m    959\u001b[0m \u001b[39m    \"\"\"\u001b[39;00m\n\u001b[1;32m--> 960\u001b[0m     \u001b[39mreturn\u001b[39;00m QueryResult(\u001b[39mself\u001b[39;49m\u001b[39m.\u001b[39;49m_query())\n",
      "File \u001b[1;32mc:\\Users\\Usuário\\Desktop\\BiblioKeia\\venv\\lib\\site-packages\\SPARQLWrapper\\Wrapper.py:930\u001b[0m, in \u001b[0;36mSPARQLWrapper._query\u001b[1;34m(self)\u001b[0m\n\u001b[0;32m    928\u001b[0m \u001b[39mexcept\u001b[39;00m urllib\u001b[39m.\u001b[39merror\u001b[39m.\u001b[39mHTTPError \u001b[39mas\u001b[39;00m e:\n\u001b[0;32m    929\u001b[0m     \u001b[39mif\u001b[39;00m e\u001b[39m.\u001b[39mcode \u001b[39m==\u001b[39m \u001b[39m400\u001b[39m:\n\u001b[1;32m--> 930\u001b[0m         \u001b[39mraise\u001b[39;00m QueryBadFormed(e\u001b[39m.\u001b[39mread())\n\u001b[0;32m    931\u001b[0m     \u001b[39melif\u001b[39;00m e\u001b[39m.\u001b[39mcode \u001b[39m==\u001b[39m \u001b[39m404\u001b[39m:\n\u001b[0;32m    932\u001b[0m         \u001b[39mraise\u001b[39;00m EndPointNotFound(e\u001b[39m.\u001b[39mread())\n",
      "\u001b[1;31mQueryBadFormed\u001b[0m: QueryBadFormed: A bad request has been sent to the endpoint: probably the SPARQL query is badly formed. \n\nResponse:\nb'Line 4, column 81: Blank nodes not allowed in DELETE templates\\n'"
     ]
    }
   ],
   "source": [
    "upAcervo = FusekiUpdate('http://localhost:3030', 'authorities')\n",
    "\n",
    "r = upAcervo.run_sparql(delete)\n",
    "r.convert()"
   ]
  },
  {
   "cell_type": "code",
   "execution_count": null,
   "metadata": {},
   "outputs": [],
   "source": [
    "madsrdf:hasVariant          [ rdf:type              madsrdf:Variant , madsrdf:PersonalName ;\n",
    "                                      madsrdf:elementList   ( [ rdf:type              madsrdf:FullNameElement ;\n",
    "                                                                madsrdf:elementValue  \"FLAVIO GUSTAVO\"\n",
    "                                                              ]\n",
    "                                                              [ rdf:type              madsrdf:DateNameElement ;\n",
    "                                                                madsrdf:elementValue  \"1821-1880\"\n",
    "                                                              ]\n",
    "                                                            ) ;\n",
    "                                      madsrdf:variantLabel  \"Flaubert, Gustaw,, 1821-1880\"\n",
    "                                    ] ;"
   ]
  },
  {
   "cell_type": "markdown",
   "metadata": {},
   "source": [
    "<https://bibliokeia.com/authorities/PersonalName/bkau-1> madsrdf:hasVariant ?variant .\n",
    "    ?variant rdf:type  madsrdf:Variant , madsrdf:PersonalName .\n",
    "    ?variant madsrdf:elementList ?elementList .\n",
    "    ?elementList rdf:first ?e1 .\n",
    "    ?e1 rdf:type madsrdf:FullNameElement . \n",
    "    ?e1 madsrdf:elementValue \"Jiaxiya Maerkesi, Jiafulieer,\" .\n",
    "    ?elementList rdf:rest ?rest .\n",
    "    ?rest rdf:first ?e2 .\n",
    "    ?e2 madsrdf:elementValue \"1927-2014\" .\n",
    "    ?e2 rdf:type madsrdf:DateNameElement .\n",
    "    ?rest rdf:rest rdf:nil"
   ]
  }
 ],
 "metadata": {
  "kernelspec": {
   "display_name": "Python 3.11.3 ('venv': venv)",
   "language": "python",
   "name": "python3"
  },
  "language_info": {
   "codemirror_mode": {
    "name": "ipython",
    "version": 3
   },
   "file_extension": ".py",
   "mimetype": "text/x-python",
   "name": "python",
   "nbconvert_exporter": "python",
   "pygments_lexer": "ipython3",
   "version": "3.11.3"
  },
  "orig_nbformat": 4,
  "vscode": {
   "interpreter": {
    "hash": "5df21a170a08fe7c24b5b1091267edae5bad3984f1116f28e957af7dd8f192dc"
   }
  }
 },
 "nbformat": 4,
 "nbformat_minor": 2
}
