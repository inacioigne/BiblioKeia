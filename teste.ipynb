{
 "cells": [
  {
   "cell_type": "code",
   "execution_count": 1,
   "metadata": {},
   "outputs": [],
   "source": [
    "from rdflib import Graph"
   ]
  },
  {
   "cell_type": "code",
   "execution_count": 3,
   "metadata": {},
   "outputs": [
    {
     "data": {
      "text/plain": [
       "<Graph identifier=Nb91d2615ccec4a0b9078a1c705271f0f (<class 'rdflib.graph.Graph'>)>"
      ]
     },
     "execution_count": 3,
     "metadata": {},
     "output_type": "execute_result"
    }
   ],
   "source": [
    "uri = 'http://id.loc.gov/authorities/names/n80002329.rdf'\n",
    "\n",
    "graph = Graph()\n",
    "graph.parse(uri)"
   ]
  },
  {
   "cell_type": "code",
   "execution_count": 4,
   "metadata": {},
   "outputs": [
    {
     "data": {
      "text/plain": [
       "<Graph identifier=Nb91d2615ccec4a0b9078a1c705271f0f (<class 'rdflib.graph.Graph'>)>"
      ]
     },
     "execution_count": 4,
     "metadata": {},
     "output_type": "execute_result"
    }
   ],
   "source": [
    "graph.serialize(\"machado.nt\")"
   ]
  },
  {
   "cell_type": "code",
   "execution_count": 30,
   "metadata": {},
   "outputs": [
    {
     "data": {
      "text/plain": [
       "{}"
      ]
     },
     "execution_count": 30,
     "metadata": {},
     "output_type": "execute_result"
    }
   ],
   "source": [
    "def GetVariant(authority, graph, obj):\n",
    "    \n",
    "  q = f\"\"\"PREFIX madsrdf: <http://www.loc.gov/mads/rdf/v1#>\n",
    "  PREFIX rdf: <http://www.w3.org/1999/02/22-rdf-syntax-ns#>\n",
    "  SELECT ?typeVariant ?elementList ?elementValue ?typeElement ?variantLabel \n",
    "  WHERE  {{      \t\n",
    "  <{authority}> madsrdf:hasVariant ?variant .\n",
    "                  ?variant rdf:type ?typeVariant .\n",
    "                  ?variant rdf:variantLabel ?variantLabel .\n",
    "                  ?variant madsrdf:elementList ?elementList .\n",
    "                  ?elementList rdf:rest* ?node .\n",
    "                    ?node rdf:first ?e .\n",
    "                    ?e madsrdf:elementValue ?elementValue .\n",
    "                  ?e rdf:type ?typeElement .\n",
    "                  FILTER ( ?typeVariant != madsrdf:Variant )\n",
    "                  }}\"\"\"\n",
    "  result = graph.query(q)\n",
    "  \n",
    "  if len(result.bindings) > 0:\n",
    "    d = {}\n",
    "    for i in result.bindings:\n",
    "        bn = i.get('elementList').n3()\n",
    "        typeVariant = i.get('typeVariant').split(\"#\")[-1]\n",
    "        elementValue = i.get('elementValue').toPython()\n",
    "        variantLabel = i.get('variantLabel').toPython()\n",
    "        tipo = i.get('typeElement').split(\"#\")[-1]\n",
    "        element = {'type': tipo, 'elementValue': {'value': elementValue}}\n",
    "        \n",
    "        if bn in d.keys():\n",
    "            d[bn]['elementList'].append(element)\n",
    "        else:\n",
    "            d[bn] = {'type': typeVariant, \n",
    "                     'elementList': [element], \n",
    "                     'variantLabel': variantLabel\n",
    "                     }\n",
    "    variants = list(d.values())\n",
    "    obj['hasVariant'] = variants\n",
    "    return obj\n",
    "  else:\n",
    "     return obj\n",
    "  \n",
    "GetVariant(\"http://id.loc.gov/authorities/names/n80002329\", graph, {})"
   ]
  },
  {
   "cell_type": "code",
   "execution_count": 31,
   "metadata": {},
   "outputs": [
    {
     "data": {
      "text/plain": [
       "{'hasVariant': [{'type': 'PersonalName',\n",
       "   'elementList': [{'type': 'FullNameElement',\n",
       "     'elementValue': {'value': 'Assis, Joaquim Maria Machado de,'}},\n",
       "    {'type': 'DateNameElement', 'elementValue': {'value': '1839-1908'}}],\n",
       "   'variantLabel': 'Assis, Joaquim Maria Machado de, 1839-1908'},\n",
       "  {'type': 'PersonalName',\n",
       "   'elementList': [{'type': 'FullNameElement',\n",
       "     'elementValue': {'value': 'Assis, Machado de,'}},\n",
       "    {'type': 'DateNameElement', 'elementValue': {'value': '1839-1908'}}],\n",
       "   'variantLabel': 'Assis, Machado de, 1839-1908'},\n",
       "  {'type': 'PersonalName',\n",
       "   'elementList': [{'type': 'FullNameElement',\n",
       "     'elementValue': {'value': 'De Assis, Joaquim Maria Machado,'}},\n",
       "    {'type': 'DateNameElement', 'elementValue': {'value': '1839-1908'}}],\n",
       "   'variantLabel': 'De Assis, Joaquim Maria Machado, 1839-1908'},\n",
       "  {'type': 'PersonalName',\n",
       "   'elementList': [{'type': 'FullNameElement',\n",
       "     'elementValue': {'value': 'De Assis, Machado,'}},\n",
       "    {'type': 'DateNameElement', 'elementValue': {'value': '1839-1908'}}],\n",
       "   'variantLabel': 'De Assis, Machado, 1839-1908'},\n",
       "  {'type': 'PersonalName',\n",
       "   'elementList': [{'type': 'FullNameElement',\n",
       "     'elementValue': {'value': 'Machado de Assis, Joaquim Maria,'}},\n",
       "    {'type': 'DateNameElement', 'elementValue': {'value': '1839-1908'}}],\n",
       "   'variantLabel': 'Machado de Assis, Joaquim Maria, 1839-1908'},\n",
       "  {'type': 'PersonalName',\n",
       "   'elementList': [{'type': 'FullNameElement',\n",
       "     'elementValue': {'value': 'Machado de Assis, Joaquín María,'}},\n",
       "    {'type': 'DateNameElement', 'elementValue': {'value': '1839-1908'}}],\n",
       "   'variantLabel': 'Machado de Assis, Joaquín María, 1839-1908'},\n",
       "  {'type': 'PersonalName',\n",
       "   'elementList': [{'type': 'FullNameElement',\n",
       "     'elementValue': {'value': 'Mashado de Assiz, Zhoakin,'}},\n",
       "    {'type': 'DateNameElement', 'elementValue': {'value': '1839-1908'}}],\n",
       "   'variantLabel': 'Mashado de Assiz, Zhoakin, 1839-1908'},\n",
       "  {'type': 'PersonalName',\n",
       "   'elementList': [{'type': 'FullNameElement',\n",
       "     'elementValue': {'value': 'Semana'}},\n",
       "    {'type': 'TermsOfAddressNameElement', 'elementValue': {'value': 'Dr.,'}},\n",
       "    {'type': 'DateNameElement', 'elementValue': {'value': '1839-1908'}}],\n",
       "   'variantLabel': 'Semana Dr., 1839-1908'}]}"
      ]
     },
     "execution_count": 31,
     "metadata": {},
     "output_type": "execute_result"
    }
   ],
   "source": [
    "authority = \"http://id.loc.gov/authorities/names/n80002329\"\n",
    "\n",
    "def GetVariant(authority, graph, obj):\n",
    "     \n",
    "  q = f\"\"\"PREFIX madsrdf: <http://www.loc.gov/mads/rdf/v1#>\n",
    "    PREFIX rdf: <http://www.w3.org/1999/02/22-rdf-syntax-ns#>\n",
    "    SELECT ?typeVariant ?elementList ?elementValue ?typeElement ?variantLabel \n",
    "    WHERE  {{      \t\n",
    "    <{authority}> madsrdf:hasVariant ?variant .\n",
    "                    ?variant rdf:type ?typeVariant .\n",
    "                    ?variant madsrdf:variantLabel ?variantLabel .\n",
    "                    ?variant madsrdf:elementList ?elementList .\n",
    "                    ?elementList rdf:rest* ?node .\n",
    "                      ?node rdf:first ?e .\n",
    "                      ?e madsrdf:elementValue ?elementValue .\n",
    "                    ?e rdf:type ?typeElement .\n",
    "                    FILTER ( ?typeVariant != madsrdf:Variant )\n",
    "                    }}\"\"\"\n",
    "  result = graph.query(q)\n",
    "  if len(result.bindings) > 0:\n",
    "    d = {}\n",
    "    for i in result.bindings:\n",
    "        bn = i.get('elementList').n3()\n",
    "        typeVariant = i.get('typeVariant').split(\"#\")[-1]\n",
    "        elementValue = i.get('elementValue').toPython()\n",
    "        variantLabel = i.get('variantLabel').toPython()\n",
    "        tipo = i.get('typeElement').split(\"#\")[-1]\n",
    "        element = {'type': tipo, 'elementValue': {'value': elementValue}}\n",
    "\n",
    "        if bn in d.keys():\n",
    "                d[bn]['elementList'].append(element)\n",
    "        else:\n",
    "            d[bn] = {'type': typeVariant, \n",
    "                        'elementList': [element], \n",
    "                        'variantLabel': variantLabel\n",
    "                        }\n",
    "    variants = list(d.values())\n",
    "    obj['hasVariant'] = variants\n",
    "    return obj\n",
    "  else:\n",
    "     return obj\n",
    "  \n",
    "GetVariant(authority, graph, {})"
   ]
  },
  {
   "cell_type": "code",
   "execution_count": 29,
   "metadata": {},
   "outputs": [
    {
     "data": {
      "text/plain": [
       "{'hasVariant': [{'type': 'PersonalName',\n",
       "   'elementList': [{'type': 'FullNameElement',\n",
       "     'elementValue': {'value': 'Assis, Joaquim Maria Machado de,'}},\n",
       "    {'type': 'DateNameElement', 'elementValue': {'value': '1839-1908'}}],\n",
       "   'variantLabel': 'Assis, Joaquim Maria Machado de, 1839-1908'},\n",
       "  {'type': 'PersonalName',\n",
       "   'elementList': [{'type': 'FullNameElement',\n",
       "     'elementValue': {'value': 'Assis, Machado de,'}},\n",
       "    {'type': 'DateNameElement', 'elementValue': {'value': '1839-1908'}}],\n",
       "   'variantLabel': 'Assis, Machado de, 1839-1908'},\n",
       "  {'type': 'PersonalName',\n",
       "   'elementList': [{'type': 'FullNameElement',\n",
       "     'elementValue': {'value': 'De Assis, Joaquim Maria Machado,'}},\n",
       "    {'type': 'DateNameElement', 'elementValue': {'value': '1839-1908'}}],\n",
       "   'variantLabel': 'De Assis, Joaquim Maria Machado, 1839-1908'},\n",
       "  {'type': 'PersonalName',\n",
       "   'elementList': [{'type': 'FullNameElement',\n",
       "     'elementValue': {'value': 'De Assis, Machado,'}},\n",
       "    {'type': 'DateNameElement', 'elementValue': {'value': '1839-1908'}}],\n",
       "   'variantLabel': 'De Assis, Machado, 1839-1908'},\n",
       "  {'type': 'PersonalName',\n",
       "   'elementList': [{'type': 'FullNameElement',\n",
       "     'elementValue': {'value': 'Machado de Assis, Joaquim Maria,'}},\n",
       "    {'type': 'DateNameElement', 'elementValue': {'value': '1839-1908'}}],\n",
       "   'variantLabel': 'Machado de Assis, Joaquim Maria, 1839-1908'},\n",
       "  {'type': 'PersonalName',\n",
       "   'elementList': [{'type': 'FullNameElement',\n",
       "     'elementValue': {'value': 'Machado de Assis, Joaquín María,'}},\n",
       "    {'type': 'DateNameElement', 'elementValue': {'value': '1839-1908'}}],\n",
       "   'variantLabel': 'Machado de Assis, Joaquín María, 1839-1908'},\n",
       "  {'type': 'PersonalName',\n",
       "   'elementList': [{'type': 'FullNameElement',\n",
       "     'elementValue': {'value': 'Mashado de Assiz, Zhoakin,'}},\n",
       "    {'type': 'DateNameElement', 'elementValue': {'value': '1839-1908'}}],\n",
       "   'variantLabel': 'Mashado de Assiz, Zhoakin, 1839-1908'},\n",
       "  {'type': 'PersonalName',\n",
       "   'elementList': [{'type': 'FullNameElement',\n",
       "     'elementValue': {'value': 'Semana'}},\n",
       "    {'type': 'TermsOfAddressNameElement', 'elementValue': {'value': 'Dr.,'}},\n",
       "    {'type': 'DateNameElement', 'elementValue': {'value': '1839-1908'}}],\n",
       "   'variantLabel': 'Semana Dr., 1839-1908'}]}"
      ]
     },
     "execution_count": 29,
     "metadata": {},
     "output_type": "execute_result"
    }
   ],
   "source": [
    "obj = {}\n",
    "obj['hasVariant'] = variants\n",
    "obj"
   ]
  },
  {
   "cell_type": "code",
   "execution_count": 28,
   "metadata": {},
   "outputs": [
    {
     "data": {
      "text/plain": [
       "{}"
      ]
     },
     "execution_count": 28,
     "metadata": {},
     "output_type": "execute_result"
    }
   ],
   "source": [
    "obj = GetVariant(authority, graph, {})\n",
    "obj"
   ]
  }
 ],
 "metadata": {
  "kernelspec": {
   "display_name": "venv",
   "language": "python",
   "name": "python3"
  },
  "language_info": {
   "codemirror_mode": {
    "name": "ipython",
    "version": 3
   },
   "file_extension": ".py",
   "mimetype": "text/x-python",
   "name": "python",
   "nbconvert_exporter": "python",
   "pygments_lexer": "ipython3",
   "version": "3.11.4"
  },
  "orig_nbformat": 4
 },
 "nbformat": 4,
 "nbformat_minor": 2
}
