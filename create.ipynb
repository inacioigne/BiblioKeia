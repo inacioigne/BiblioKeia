{
 "cells": [
  {
   "cell_type": "code",
   "execution_count": 14,
   "metadata": {},
   "outputs": [],
   "source": [
    "from rdflib import Graph, Namespace, URIRef, Literal, BNode\n",
    "from rdflib.namespace import RDF, RDFS\n",
    "from pyfuseki import FusekiUpdate\n",
    "import httpx"
   ]
  },
  {
   "cell_type": "code",
   "execution_count": 6,
   "metadata": {},
   "outputs": [],
   "source": [
    "g = Graph()\n",
    "#Prefix\n",
    "g.bind('rdf', RDF)\n",
    "g.bind('rdfs', RDFS)\n",
    "BF = Namespace(\"http://id.loc.gov/ontologies/bibframe/\")\n",
    "g.bind('bf', BF)\n",
    "BFLC = Namespace(\"http://id.loc.gov/ontologies/bflc/\")\n",
    "g.bind('bflc', BFLC)\n",
    "MADSRDF = Namespace(\"http://www.loc.gov/mads/rdf/v1#\")\n",
    "g.bind('madsrdf', MADSRDF)"
   ]
  },
  {
   "cell_type": "code",
   "execution_count": 7,
   "metadata": {},
   "outputs": [
    {
     "data": {
      "text/plain": [
       "<Graph identifier=N87fdd651a0294e5bbe8b9d269d6286dc (<class 'rdflib.graph.Graph'>)>"
      ]
     },
     "execution_count": 7,
     "metadata": {},
     "output_type": "execute_result"
    }
   ],
   "source": [
    "work_uri = URIRef(f\"https://bibliokeia.com/resources/work/teste\") \n",
    "g.add((work_uri, RDF.type, BF.Text))\n",
    "g.add((work_uri, RDF.type, BF.Work)) \n",
    "\n",
    "\n",
    "contribution = BNode()\n",
    "agent = URIRef(\"https://bibliokeia.com/authorities/names/n80002329\")\n",
    "role = URIRef(f\"http://id.loc.gov/vocabulary/relators/aut\")\n",
    "g.add((work_uri, BF.contribution, contribution))\n",
    "g.add((contribution, RDF.type, BFLC.PrimaryContribution))\n",
    "g.add((contribution, RDF.type, BF.Contribution))\n",
    "g.add((contribution, BF.agent, agent))\n",
    "g.add((contribution, RDFS.label, Literal(\"Machado de assis\")))\n",
    "g.add((contribution, BF.role, role))"
   ]
  },
  {
   "cell_type": "code",
   "execution_count": 8,
   "metadata": {},
   "outputs": [
    {
     "data": {
      "text/plain": [
       "<Graph identifier=N87fdd651a0294e5bbe8b9d269d6286dc (<class 'rdflib.graph.Graph'>)>"
      ]
     },
     "execution_count": 8,
     "metadata": {},
     "output_type": "execute_result"
    }
   ],
   "source": [
    "g.serialize(\"work.ttl\") "
   ]
  },
  {
   "cell_type": "code",
   "execution_count": 9,
   "metadata": {},
   "outputs": [
    {
     "data": {
      "text/plain": [
       "'\\n    PREFIX rdf: <http://www.w3.org/1999/02/22-rdf-syntax-ns#>\\n    PREFIX rdfs: <http://www.w3.org/2000/01/rdf-schema#>\\n    PREFIX bf: <http://id.loc.gov/ontologies/bibframe/>\\n    PREFIX bflc: <http://www.loc.gov/mads/rdf/v1#>\\n    PREFIX madsrdf: <http://id.loc.gov/ontologies/bflc/> \\n    INSERT DATA {\\n        GRAPH <https://bibliokeia.com/resources/work/teste>\\n        { \\n<https://bibliokeia.com/resources/work/teste> <http://www.w3.org/1999/02/22-rdf-syntax-ns#type> <http://id.loc.gov/ontologies/bibframe/Work> .\\n_:N8da4403ae12340f489b3843bd86325d8 <http://www.w3.org/1999/02/22-rdf-syntax-ns#type> <http://id.loc.gov/ontologies/bibframe/Contribution> .\\n<https://bibliokeia.com/resources/work/teste> <http://id.loc.gov/ontologies/bibframe/contribution> _:N8da4403ae12340f489b3843bd86325d8 .\\n_:N8da4403ae12340f489b3843bd86325d8 <http://www.w3.org/2000/01/rdf-schema#label> \"Machado de assis\" .\\n_:N8da4403ae12340f489b3843bd86325d8 <http://www.w3.org/1999/02/22-rdf-syntax-ns#type> <http://id.loc.gov/ontologies/bflc/PrimaryContribution> .\\n<https://bibliokeia.com/resources/work/teste> <http://www.w3.org/1999/02/22-rdf-syntax-ns#type> <http://id.loc.gov/ontologies/bibframe/Text> .\\n_:N8da4403ae12340f489b3843bd86325d8 <http://id.loc.gov/ontologies/bibframe/role> <http://id.loc.gov/vocabulary/relators/aut> .\\n_:N8da4403ae12340f489b3843bd86325d8 <http://id.loc.gov/ontologies/bibframe/agent> <https://bibliokeia.com/authorities/names/n80002329> .\\n} }'"
      ]
     },
     "execution_count": 9,
     "metadata": {},
     "output_type": "execute_result"
    }
   ],
   "source": [
    "nt = g.serialize(format='nt')\n",
    "G = \"\"\"\n",
    "    PREFIX rdf: <http://www.w3.org/1999/02/22-rdf-syntax-ns#>\n",
    "    PREFIX rdfs: <http://www.w3.org/2000/01/rdf-schema#>\n",
    "    PREFIX bf: <http://id.loc.gov/ontologies/bibframe/>\n",
    "    PREFIX bflc: <http://www.loc.gov/mads/rdf/v1#>\n",
    "    PREFIX madsrdf: <http://id.loc.gov/ontologies/bflc/> \n",
    "    INSERT DATA {\n",
    "        GRAPH <https://bibliokeia.com/resources/work/teste>\n",
    "        { \\n\"\"\"+nt+\"} }\" \n",
    "G"
   ]
  },
  {
   "cell_type": "code",
   "execution_count": 11,
   "metadata": {},
   "outputs": [],
   "source": [
    "fuseki_update = FusekiUpdate('http://localhost:3030', 'acervo')"
   ]
  },
  {
   "cell_type": "code",
   "execution_count": 12,
   "metadata": {},
   "outputs": [
    {
     "data": {
      "text/plain": [
       "<SPARQLWrapper.Wrapper.QueryResult at 0x20b62fc3700>"
      ]
     },
     "execution_count": 12,
     "metadata": {},
     "output_type": "execute_result"
    }
   ],
   "source": [
    "response = fuseki_update.run_sparql(G)\n",
    "response\n"
   ]
  },
  {
   "cell_type": "code",
   "execution_count": 16,
   "metadata": {},
   "outputs": [
    {
     "data": {
      "text/plain": [
       "<Graph identifier=Nfcd299dc644c4e0591f249702a3b5d4f (<class 'rdflib.graph.Graph'>)>"
      ]
     },
     "execution_count": 16,
     "metadata": {},
     "output_type": "execute_result"
    }
   ],
   "source": [
    "uri = \"http://localhost:3030/acervo?graph=https://bibliokeia.com/resources/work/teste\"\n",
    "r = httpx.get(uri)\n",
    "g = Graph()\n",
    "g.parse(r.content)\n",
    "g.serialize('teste.ttl')"
   ]
  },
  {
   "cell_type": "code",
   "execution_count": 13,
   "metadata": {},
   "outputs": [
    {
     "ename": "HTTPError",
     "evalue": "HTTP Error 400: Bad Request",
     "output_type": "error",
     "traceback": [
      "\u001b[1;31m---------------------------------------------------------------------------\u001b[0m",
      "\u001b[1;31mHTTPError\u001b[0m                                 Traceback (most recent call last)",
      "\u001b[1;32mc:\\Users\\Usuário\\Desktop\\BiblioKeia\\create.ipynb Cell 9\u001b[0m in \u001b[0;36m<cell line: 1>\u001b[1;34m()\u001b[0m\n\u001b[1;32m----> <a href='vscode-notebook-cell:/c%3A/Users/Usu%C3%A1rio/Desktop/BiblioKeia/create.ipynb#X13sZmlsZQ%3D%3D?line=0'>1</a>\u001b[0m g \u001b[39m=\u001b[39m Graph()\u001b[39m.\u001b[39;49mparse(\u001b[39m\"\u001b[39;49m\u001b[39mhttp://localhost:3030/acervo?graph=https://bibliokeia.com/resources/work/teste\u001b[39;49m\u001b[39m\"\u001b[39;49m)\n",
      "File \u001b[1;32mc:\\Users\\Usuário\\Desktop\\BiblioKeia\\venv\\lib\\site-packages\\rdflib\\graph.py:1306\u001b[0m, in \u001b[0;36mGraph.parse\u001b[1;34m(self, source, publicID, format, location, file, data, **args)\u001b[0m\n\u001b[0;32m   1223\u001b[0m \u001b[39mdef\u001b[39;00m \u001b[39mparse\u001b[39m(\n\u001b[0;32m   1224\u001b[0m     \u001b[39mself\u001b[39m,\n\u001b[0;32m   1225\u001b[0m     source: Optional[\n\u001b[1;32m   (...)\u001b[0m\n\u001b[0;32m   1233\u001b[0m     \u001b[39m*\u001b[39m\u001b[39m*\u001b[39margs,\n\u001b[0;32m   1234\u001b[0m ):\n\u001b[0;32m   1235\u001b[0m     \u001b[39m\"\"\"\u001b[39;00m\n\u001b[0;32m   1236\u001b[0m \u001b[39m    Parse an RDF source adding the resulting triples to the Graph.\u001b[39;00m\n\u001b[0;32m   1237\u001b[0m \n\u001b[1;32m   (...)\u001b[0m\n\u001b[0;32m   1303\u001b[0m \n\u001b[0;32m   1304\u001b[0m \u001b[39m    \"\"\"\u001b[39;00m\n\u001b[1;32m-> 1306\u001b[0m     source \u001b[39m=\u001b[39m create_input_source(\n\u001b[0;32m   1307\u001b[0m         source\u001b[39m=\u001b[39;49msource,\n\u001b[0;32m   1308\u001b[0m         publicID\u001b[39m=\u001b[39;49mpublicID,\n\u001b[0;32m   1309\u001b[0m         location\u001b[39m=\u001b[39;49mlocation,\n\u001b[0;32m   1310\u001b[0m         file\u001b[39m=\u001b[39;49mfile,\n\u001b[0;32m   1311\u001b[0m         data\u001b[39m=\u001b[39;49mdata,\n\u001b[0;32m   1312\u001b[0m         \u001b[39mformat\u001b[39;49m\u001b[39m=\u001b[39;49m\u001b[39mformat\u001b[39;49m,\n\u001b[0;32m   1313\u001b[0m     )\n\u001b[0;32m   1314\u001b[0m     \u001b[39mif\u001b[39;00m \u001b[39mformat\u001b[39m \u001b[39mis\u001b[39;00m \u001b[39mNone\u001b[39;00m:\n\u001b[0;32m   1315\u001b[0m         \u001b[39mformat\u001b[39m \u001b[39m=\u001b[39m source\u001b[39m.\u001b[39mcontent_type\n",
      "File \u001b[1;32mc:\\Users\\Usuário\\Desktop\\BiblioKeia\\venv\\lib\\site-packages\\rdflib\\parser.py:404\u001b[0m, in \u001b[0;36mcreate_input_source\u001b[1;34m(source, publicID, location, file, data, format)\u001b[0m\n\u001b[0;32m    396\u001b[0m auto_close \u001b[39m=\u001b[39m \u001b[39mFalse\u001b[39;00m  \u001b[39m# make sure we close all file handles we open\u001b[39;00m\n\u001b[0;32m    398\u001b[0m \u001b[39mif\u001b[39;00m location \u001b[39mis\u001b[39;00m \u001b[39mnot\u001b[39;00m \u001b[39mNone\u001b[39;00m:\n\u001b[0;32m    399\u001b[0m     (\n\u001b[0;32m    400\u001b[0m         absolute_location,\n\u001b[0;32m    401\u001b[0m         auto_close,\n\u001b[0;32m    402\u001b[0m         file,\n\u001b[0;32m    403\u001b[0m         input_source,\n\u001b[1;32m--> 404\u001b[0m     ) \u001b[39m=\u001b[39m _create_input_source_from_location(\n\u001b[0;32m    405\u001b[0m         file\u001b[39m=\u001b[39;49mfile,\n\u001b[0;32m    406\u001b[0m         \u001b[39mformat\u001b[39;49m\u001b[39m=\u001b[39;49m\u001b[39mformat\u001b[39;49m,\n\u001b[0;32m    407\u001b[0m         input_source\u001b[39m=\u001b[39;49minput_source,\n\u001b[0;32m    408\u001b[0m         location\u001b[39m=\u001b[39;49mlocation,\n\u001b[0;32m    409\u001b[0m     )\n\u001b[0;32m    411\u001b[0m \u001b[39mif\u001b[39;00m file \u001b[39mis\u001b[39;00m \u001b[39mnot\u001b[39;00m \u001b[39mNone\u001b[39;00m:\n\u001b[0;32m    412\u001b[0m     input_source \u001b[39m=\u001b[39m FileInputSource(file)\n",
      "File \u001b[1;32mc:\\Users\\Usuário\\Desktop\\BiblioKeia\\venv\\lib\\site-packages\\rdflib\\parser.py:458\u001b[0m, in \u001b[0;36m_create_input_source_from_location\u001b[1;34m(file, format, input_source, location)\u001b[0m\n\u001b[0;32m    456\u001b[0m     file \u001b[39m=\u001b[39m \u001b[39mopen\u001b[39m(filename, \u001b[39m\"\u001b[39m\u001b[39mrb\u001b[39m\u001b[39m\"\u001b[39m)\n\u001b[0;32m    457\u001b[0m \u001b[39melse\u001b[39;00m:\n\u001b[1;32m--> 458\u001b[0m     input_source \u001b[39m=\u001b[39m URLInputSource(absolute_location, \u001b[39mformat\u001b[39;49m)\n\u001b[0;32m    460\u001b[0m auto_close \u001b[39m=\u001b[39m \u001b[39mTrue\u001b[39;00m\n\u001b[0;32m    461\u001b[0m \u001b[39m# publicID = publicID or absolute_location  # Further to fix\u001b[39;00m\n\u001b[0;32m    462\u001b[0m \u001b[39m# for issue 130\u001b[39;00m\n",
      "File \u001b[1;32mc:\\Users\\Usuário\\Desktop\\BiblioKeia\\venv\\lib\\site-packages\\rdflib\\parser.py:282\u001b[0m, in \u001b[0;36mURLInputSource.__init__\u001b[1;34m(self, system_id, format)\u001b[0m\n\u001b[0;32m    279\u001b[0m         \u001b[39melse\u001b[39;00m:\n\u001b[0;32m    280\u001b[0m             \u001b[39mraise\u001b[39;00m\n\u001b[1;32m--> 282\u001b[0m response: HTTPResponse \u001b[39m=\u001b[39m _urlopen(req)\n\u001b[0;32m    283\u001b[0m \u001b[39mself\u001b[39m\u001b[39m.\u001b[39murl \u001b[39m=\u001b[39m response\u001b[39m.\u001b[39mgeturl()  \u001b[39m# in case redirections took place\u001b[39;00m\n\u001b[0;32m    284\u001b[0m \u001b[39mself\u001b[39m\u001b[39m.\u001b[39mlinks \u001b[39m=\u001b[39m \u001b[39mself\u001b[39m\u001b[39m.\u001b[39mget_links(response)\n",
      "File \u001b[1;32mc:\\Users\\Usuário\\Desktop\\BiblioKeia\\venv\\lib\\site-packages\\rdflib\\parser.py:270\u001b[0m, in \u001b[0;36mURLInputSource.__init__.<locals>._urlopen\u001b[1;34m(req)\u001b[0m\n\u001b[0;32m    268\u001b[0m \u001b[39mdef\u001b[39;00m \u001b[39m_urlopen\u001b[39m(req: Request) \u001b[39m-\u001b[39m\u001b[39m>\u001b[39m Any:\n\u001b[0;32m    269\u001b[0m     \u001b[39mtry\u001b[39;00m:\n\u001b[1;32m--> 270\u001b[0m         \u001b[39mreturn\u001b[39;00m urlopen(req)\n\u001b[0;32m    271\u001b[0m     \u001b[39mexcept\u001b[39;00m HTTPError \u001b[39mas\u001b[39;00m ex:\n\u001b[0;32m    272\u001b[0m         \u001b[39m# 308 (Permanent Redirect) is not supported by current python version(s)\u001b[39;00m\n\u001b[0;32m    273\u001b[0m         \u001b[39m# See https://bugs.python.org/issue40321\u001b[39;00m\n\u001b[0;32m    274\u001b[0m         \u001b[39m# This custom error handling should be removed once all\u001b[39;00m\n\u001b[0;32m    275\u001b[0m         \u001b[39m# supported versions of python support 308.\u001b[39;00m\n\u001b[0;32m    276\u001b[0m         \u001b[39mif\u001b[39;00m ex\u001b[39m.\u001b[39mcode \u001b[39m==\u001b[39m \u001b[39m308\u001b[39m:\n",
      "File \u001b[1;32m~\\AppData\\Local\\Programs\\Python\\Python310\\lib\\urllib\\request.py:216\u001b[0m, in \u001b[0;36murlopen\u001b[1;34m(url, data, timeout, cafile, capath, cadefault, context)\u001b[0m\n\u001b[0;32m    214\u001b[0m \u001b[39melse\u001b[39;00m:\n\u001b[0;32m    215\u001b[0m     opener \u001b[39m=\u001b[39m _opener\n\u001b[1;32m--> 216\u001b[0m \u001b[39mreturn\u001b[39;00m opener\u001b[39m.\u001b[39;49mopen(url, data, timeout)\n",
      "File \u001b[1;32m~\\AppData\\Local\\Programs\\Python\\Python310\\lib\\urllib\\request.py:525\u001b[0m, in \u001b[0;36mOpenerDirector.open\u001b[1;34m(self, fullurl, data, timeout)\u001b[0m\n\u001b[0;32m    523\u001b[0m \u001b[39mfor\u001b[39;00m processor \u001b[39min\u001b[39;00m \u001b[39mself\u001b[39m\u001b[39m.\u001b[39mprocess_response\u001b[39m.\u001b[39mget(protocol, []):\n\u001b[0;32m    524\u001b[0m     meth \u001b[39m=\u001b[39m \u001b[39mgetattr\u001b[39m(processor, meth_name)\n\u001b[1;32m--> 525\u001b[0m     response \u001b[39m=\u001b[39m meth(req, response)\n\u001b[0;32m    527\u001b[0m \u001b[39mreturn\u001b[39;00m response\n",
      "File \u001b[1;32m~\\AppData\\Local\\Programs\\Python\\Python310\\lib\\urllib\\request.py:634\u001b[0m, in \u001b[0;36mHTTPErrorProcessor.http_response\u001b[1;34m(self, request, response)\u001b[0m\n\u001b[0;32m    631\u001b[0m \u001b[39m# According to RFC 2616, \"2xx\" code indicates that the client's\u001b[39;00m\n\u001b[0;32m    632\u001b[0m \u001b[39m# request was successfully received, understood, and accepted.\u001b[39;00m\n\u001b[0;32m    633\u001b[0m \u001b[39mif\u001b[39;00m \u001b[39mnot\u001b[39;00m (\u001b[39m200\u001b[39m \u001b[39m<\u001b[39m\u001b[39m=\u001b[39m code \u001b[39m<\u001b[39m \u001b[39m300\u001b[39m):\n\u001b[1;32m--> 634\u001b[0m     response \u001b[39m=\u001b[39m \u001b[39mself\u001b[39;49m\u001b[39m.\u001b[39;49mparent\u001b[39m.\u001b[39;49merror(\n\u001b[0;32m    635\u001b[0m         \u001b[39m'\u001b[39;49m\u001b[39mhttp\u001b[39;49m\u001b[39m'\u001b[39;49m, request, response, code, msg, hdrs)\n\u001b[0;32m    637\u001b[0m \u001b[39mreturn\u001b[39;00m response\n",
      "File \u001b[1;32m~\\AppData\\Local\\Programs\\Python\\Python310\\lib\\urllib\\request.py:563\u001b[0m, in \u001b[0;36mOpenerDirector.error\u001b[1;34m(self, proto, *args)\u001b[0m\n\u001b[0;32m    561\u001b[0m \u001b[39mif\u001b[39;00m http_err:\n\u001b[0;32m    562\u001b[0m     args \u001b[39m=\u001b[39m (\u001b[39mdict\u001b[39m, \u001b[39m'\u001b[39m\u001b[39mdefault\u001b[39m\u001b[39m'\u001b[39m, \u001b[39m'\u001b[39m\u001b[39mhttp_error_default\u001b[39m\u001b[39m'\u001b[39m) \u001b[39m+\u001b[39m orig_args\n\u001b[1;32m--> 563\u001b[0m     \u001b[39mreturn\u001b[39;00m \u001b[39mself\u001b[39;49m\u001b[39m.\u001b[39;49m_call_chain(\u001b[39m*\u001b[39;49margs)\n",
      "File \u001b[1;32m~\\AppData\\Local\\Programs\\Python\\Python310\\lib\\urllib\\request.py:496\u001b[0m, in \u001b[0;36mOpenerDirector._call_chain\u001b[1;34m(self, chain, kind, meth_name, *args)\u001b[0m\n\u001b[0;32m    494\u001b[0m \u001b[39mfor\u001b[39;00m handler \u001b[39min\u001b[39;00m handlers:\n\u001b[0;32m    495\u001b[0m     func \u001b[39m=\u001b[39m \u001b[39mgetattr\u001b[39m(handler, meth_name)\n\u001b[1;32m--> 496\u001b[0m     result \u001b[39m=\u001b[39m func(\u001b[39m*\u001b[39;49margs)\n\u001b[0;32m    497\u001b[0m     \u001b[39mif\u001b[39;00m result \u001b[39mis\u001b[39;00m \u001b[39mnot\u001b[39;00m \u001b[39mNone\u001b[39;00m:\n\u001b[0;32m    498\u001b[0m         \u001b[39mreturn\u001b[39;00m result\n",
      "File \u001b[1;32m~\\AppData\\Local\\Programs\\Python\\Python310\\lib\\urllib\\request.py:643\u001b[0m, in \u001b[0;36mHTTPDefaultErrorHandler.http_error_default\u001b[1;34m(self, req, fp, code, msg, hdrs)\u001b[0m\n\u001b[0;32m    642\u001b[0m \u001b[39mdef\u001b[39;00m \u001b[39mhttp_error_default\u001b[39m(\u001b[39mself\u001b[39m, req, fp, code, msg, hdrs):\n\u001b[1;32m--> 643\u001b[0m     \u001b[39mraise\u001b[39;00m HTTPError(req\u001b[39m.\u001b[39mfull_url, code, msg, hdrs, fp)\n",
      "\u001b[1;31mHTTPError\u001b[0m: HTTP Error 400: Bad Request"
     ]
    }
   ],
   "source": [
    "g = Graph().parse(\"http://localhost:3030/acervo?graph=https://bibliokeia.com/resources/work/teste\")"
   ]
  }
 ],
 "metadata": {
  "kernelspec": {
   "display_name": "venv",
   "language": "python",
   "name": "python3"
  },
  "language_info": {
   "codemirror_mode": {
    "name": "ipython",
    "version": 3
   },
   "file_extension": ".py",
   "mimetype": "text/x-python",
   "name": "python",
   "nbconvert_exporter": "python",
   "pygments_lexer": "ipython3",
   "version": "3.10.4"
  },
  "orig_nbformat": 4
 },
 "nbformat": 4,
 "nbformat_minor": 2
}
