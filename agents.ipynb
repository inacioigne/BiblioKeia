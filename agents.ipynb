{
 "cells": [
  {
   "cell_type": "code",
   "execution_count": 1,
   "metadata": {},
   "outputs": [],
   "source": [
    "from rdflib import Graph"
   ]
  },
  {
   "cell_type": "code",
   "execution_count": 2,
   "metadata": {},
   "outputs": [
    {
     "data": {
      "text/plain": [
       "<Graph identifier=N40d8d73fabd345a78ec1df91dfd5145d (<class 'rdflib.graph.Graph'>)>"
      ]
     },
     "execution_count": 2,
     "metadata": {},
     "output_type": "execute_result"
    }
   ],
   "source": [
    "uri = 'http://id.loc.gov/authorities/names/n2003042876'\n",
    "graph = Graph()\n",
    "graph.parse(f'{uri}.rdf') "
   ]
  },
  {
   "cell_type": "code",
   "execution_count": 4,
   "metadata": {},
   "outputs": [],
   "source": [
    "from pydantic import BaseModel\n",
    "from typing import Optional\n",
    "from api.src.schemas.authorities.authority import Variant, AdminMetadata, Element\n",
    "\n",
    "class Uri(BaseModel):\n",
    "    value: str\n",
    "    label: str\n",
    "    base: Optional[str]\n",
    "\n",
    "class Affiliation(BaseModel):\n",
    "    organization: Uri\n",
    "    affiliationStart: Optional[str]\n",
    "    affiliationEnd: Optional[str]\n",
    "    \n",
    "class Agents(BaseModel):\n",
    "    type: str \n",
    "    adminMetadata: AdminMetadata \n",
    "    authoritativeLabel: str\n",
    "    elementList: list[Element]\n",
    "    fullerName: Optional[Element] = None\n",
    "    birthDate: Optional[str] = None\n",
    "    birthPlace: Optional[str] = None\n",
    "    deathDate: Optional[str] = None\n",
    "    hasAffiliation: Optional[list[Affiliation]] = None\n",
    "    occupation: Optional[list[Uri]] = None\n",
    "    fieldOfActivity: Optional[list[Uri]] = None\n",
    "    hasCloseExternalAuthority: Optional[list[Uri]] = None\n",
    "    hasExactExternalAuthority: Optional[list[Uri]] = None\n",
    "    hasVariant: Optional[list[Variant]] = None\n",
    "    subjectOf: Optional[list[Uri]] = None\n",
    "    contributorOf: Optional[list[Uri]] = None\n",
    "    isMemberOfMADSCollection: str"
   ]
  },
  {
   "cell_type": "code",
   "execution_count": 10,
   "metadata": {},
   "outputs": [
    {
     "data": {
      "text/plain": [
       "{'organization': {'value': 'http://id.loc.gov/authorities/names/n50075769',\n",
       "  'label': 'Drexel University',\n",
       "  'base': 'id.loc.gov'}}"
      ]
     },
     "execution_count": 10,
     "metadata": {},
     "output_type": "execute_result"
    }
   ],
   "source": [
    "from api.src.function.loc.agents.fieldOfActivity import GetFieldOfActivity\n",
    "# from api.src.schemas.authorities.agents import Agents\n",
    "from api.src.function.loc.agents.Occuption import GetOccuption\n",
    "from api.src.function.loc.agents.Affiliation import GetAffiliation\n",
    "from api.src.function.loc.agents.BirthPlace import GetBirthPlace\n",
    "from api.src.function.loc.agents.Date import GetDate\n",
    "from api.src.function.loc.agents.Variant import GetVariant\n",
    "from api.src.function.loc.Uri import GetUri\n",
    "from api.src.function.loc.agents.FullerName import GetFullerName\n",
    "from api.src.function.loc.agents.ElementList import GetElementList\n",
    "from api.src.function.loc.getType import GetType\n",
    "\n",
    "def ParserAgents(graph, uri):\n",
    "    # Type\n",
    "    tipo = GetType(graph, uri)\n",
    "\n",
    "    # adminMetadata\n",
    "    adminMetadata = {\n",
    "      \"assigner\": \"http://id.loc.gov/vocabulary/organizations/dlc\", \n",
    "      \"identifiedBy\": [ {\n",
    "         \"type\": \"Lccn\",\n",
    "          \"assigner\": \"http://id.loc.gov/vocabulary/organizations/dlc\",\n",
    "          \"value\": uri.split('/')[-1]        \n",
    "      }]}\n",
    "    \n",
    "    obj = {\n",
    "     \"type\": tipo,\n",
    "      \"adminMetadata\": adminMetadata,\n",
    "      \"isMemberOfMADSCollection\": f'http://bibliokeia.com/authorities/{tipo}/'}\n",
    "\n",
    "    qAuthoritativeLabel = f\"\"\"PREFIX rdf: <http://www.w3.org/1999/02/22-rdf-syntax-ns#>\n",
    "    PREFIX madsrdf: <http://www.loc.gov/mads/rdf/v1#>\n",
    "    SELECT ?authoritativeLabel \n",
    "    WHERE  {{\n",
    "    <{uri}> madsrdf:authoritativeLabel ?authoritativeLabel .\n",
    "      }}\"\"\"\n",
    "    r = graph.query(qAuthoritativeLabel)\n",
    "    [bindings] = r.bindings\n",
    "    authoritativeLabel = bindings.get('authoritativeLabel').toPython()\n",
    "    obj['authoritativeLabel'] = authoritativeLabel\n",
    "    \n",
    "    # ElementList\n",
    "    obj = GetElementList(graph, uri, obj) \n",
    "    \n",
    "    # fullerName\n",
    "    obj = GetFullerName(graph, uri, obj)\n",
    "\n",
    "    # hasCloseExternaluri\n",
    "    obj = GetUri(uri, graph, \"hasCloseExternalAuthority\", obj)\n",
    "\n",
    "    # hasExactExternalAuthority\n",
    "    obj = GetUri(uri, graph, \"hasExactExternalAuthority\", obj)\n",
    "\n",
    "    # Variant\n",
    "    obj = GetVariant(uri, graph, obj)\n",
    "\n",
    "    # RWO\n",
    "    token = uri.split(\"/\")[-1]\n",
    "    rwo = f'http://id.loc.gov/rwo/agents/{token}'\n",
    "    # BirthDate\n",
    "    obj = GetDate(rwo, 'birthDate', graph, obj)\n",
    "    # deathDate\n",
    "    obj = GetDate(rwo, 'deathDate', graph, obj)\n",
    "    # BirthPlace\n",
    "    obj = GetBirthPlace(rwo, graph, obj)\n",
    "    # Affiliation\n",
    "    obj = GetAffiliation(rwo, graph, obj)\n",
    "    # Occuptions\n",
    "    obj = GetOccuption(rwo, graph, obj)\n",
    "    obj = GetFieldOfActivity(rwo, graph, obj)\n",
    "\n",
    "    # response = Agents(**obj)\n",
    "    \n",
    "    return obj\n",
    "\n",
    "obj = ParserAgents(graph, uri)\n",
    "obj['hasAffiliation'][0]"
   ]
  },
  {
   "cell_type": "code",
   "execution_count": 15,
   "metadata": {},
   "outputs": [
    {
     "data": {
      "text/plain": [
       "Uri(value='http://id.loc.gov/authorities/names/n50075769', label='Drexel University', base='id.loc.gov')"
      ]
     },
     "execution_count": 15,
     "metadata": {},
     "output_type": "execute_result"
    }
   ],
   "source": [
    "class Uri(BaseModel):\n",
    "    value: str\n",
    "    label: str\n",
    "    base: Optional[str]\n",
    "\n",
    "class Affiliation(BaseModel):\n",
    "    organization: Uri\n",
    "    affiliationStart: Optional[str] = None\n",
    "    affiliationEnd: Optional[str] = None\n",
    "\n",
    "obj = {'organization': {'value': 'http://id.loc.gov/authorities/names/n50075769',\n",
    "  'label': 'Drexel University',\n",
    "  'base': 'id.loc.gov'}}\n",
    "obj2 = {'value': 'http://id.loc.gov/authorities/names/n50075769',\n",
    "  'label': 'Drexel University',\n",
    "  'base': 'id.loc.gov'}\n",
    "a = Uri(**obj2)\n",
    "a"
   ]
  },
  {
   "cell_type": "code",
   "execution_count": 16,
   "metadata": {},
   "outputs": [
    {
     "data": {
      "text/plain": [
       "Affiliation(organization=Uri(value='http://id.loc.gov/authorities/names/n50075769', label='Drexel University', base='id.loc.gov'), affiliationStart=None, affiliationEnd=None)"
      ]
     },
     "execution_count": 16,
     "metadata": {},
     "output_type": "execute_result"
    }
   ],
   "source": [
    "aff = Affiliation(**obj)\n",
    "aff"
   ]
  },
  {
   "cell_type": "code",
   "execution_count": 6,
   "metadata": {},
   "outputs": [],
   "source": [
    "from pydantic import BaseModel\n",
    "from typing import Optional\n",
    "# from api.src.schemas.authorities.agents import Affiliation, Uri\n",
    "from api.src.schemas.authorities.authority import Variant, AdminMetadata, Element\n",
    "\n",
    "class Uri(BaseModel):\n",
    "    value: str\n",
    "    label: str\n",
    "    base: Optional[str]\n",
    "\n",
    "class Affiliation(BaseModel):\n",
    "    organization: Uri\n",
    "    affiliationStart: Optional[str]\n",
    "    affiliationEnd: Optional[str]\n",
    "\n",
    "class Agents(BaseModel):\n",
    "    type: str \n",
    "    adminMetadata: AdminMetadata \n",
    "    elementList: list[Element]\n",
    "    fullerName: Optional[Element] = None\n",
    "    birthDate: Optional[str] = None\n",
    "    birthPlace: Optional[str] = None\n",
    "    deathDate: Optional[str] = None\n",
    "    hasAffiliation: Optional[list[Affiliation]] = None\n",
    "    occupation: Optional[list[Uri]] = None\n",
    "    fieldOfActivity: Optional[list[Uri]] = None\n",
    "    hasCloseExternalAuthority: Optional[list[Uri]] = None\n",
    "    hasExactExternalAuthority: Optional[list[Uri]] = None\n",
    "    hasVariant: Optional[list[Variant]] = None\n",
    "    subjectOf: Optional[list[Uri]] = None\n",
    "    contributorOf: Optional[list[Uri]] = None\n",
    "    isMemberOfMADSCollection: str"
   ]
  },
  {
   "cell_type": "code",
   "execution_count": 8,
   "metadata": {},
   "outputs": [],
   "source": [
    "from api.src.function.loc.getType import GetType\n",
    "from api.src.function.loc.agents.ElementList import GetElementList\n",
    "from api.src.function.loc.agents.FullerName import GetFullerName\n",
    "from api.src.function.loc.Uri import GetUri\n",
    "from api.src.function.loc.agents.Variant import GetVariant\n",
    "from api.src.function.loc.agents.Date import GetDate\n",
    "from api.src.function.loc.agents.Occuption import GetOccuption\n",
    "from api.src.function.loc.agents.Affiliation import GetAffiliation\n",
    "from api.src.function.loc.agents.BirthPlace import GetBirthPlace\n",
    "from api.src.function.loc.agents.fieldOfActivity import GetFieldOfActivity\n",
    "\n",
    "def ParserAgents(graph, authority):\n",
    "    # Type\n",
    "    tipo = GetType(graph, authority)\n",
    "\n",
    "    # adminMetadata\n",
    "    adminMetadata = {\n",
    "      \"assigner\": \"http://id.loc.gov/vocabulary/organizations/dlc\", \n",
    "      \"identifiedBy\": [ {\n",
    "         \"type\": \"Lccn\",\n",
    "          \"assigner\": \"http://id.loc.gov/vocabulary/organizations/dlc\",\n",
    "          \"value\": authority.split('/')[-1]        \n",
    "      }]}\n",
    "    \n",
    "    obj = {\n",
    "     \"type\": tipo,\n",
    "      \"adminMetadata\": adminMetadata,\n",
    "      \"isMemberOfMADSCollection\": f'http://bibliokeia.com/authorities/{tipo}/'}\n",
    "    \n",
    "    # ElementList\n",
    "    obj = GetElementList(graph, authority, obj) \n",
    "    \n",
    "    # fullerName\n",
    "    obj = GetFullerName(graph, authority, obj)\n",
    "\n",
    "    # hasCloseExternalAuthority\n",
    "    obj = GetUri(authority, graph, \"hasCloseExternalAuthority\", obj)\n",
    "\n",
    "    # hasExactExternalAuthority\n",
    "    obj = GetUri(authority, graph, \"hasExactExternalAuthority\", obj)\n",
    "\n",
    "    # Variant\n",
    "    obj = GetVariant(authority, graph, obj)\n",
    "\n",
    "    # RWO\n",
    "    token = authority.split(\"/\")[-1]\n",
    "    rwo = f'http://id.loc.gov/rwo/agents/{token}'\n",
    "    # BirthDate\n",
    "    obj = GetDate(rwo, 'birthDate', graph, obj)\n",
    "    # deathDate\n",
    "    obj = GetDate(rwo, 'deathDate', graph, obj)\n",
    "    # BirthPlace\n",
    "    obj = GetBirthPlace(rwo, graph, obj)\n",
    "    # Affiliation\n",
    "    obj = GetAffiliation(rwo, graph, obj)\n",
    "    # Occuptions\n",
    "    obj = GetOccuption(rwo, graph, obj)\n",
    "    obj = GetFieldOfActivity(rwo, graph, obj)\n",
    "\n",
    "    # response = Agents(**obj)\n",
    "    \n",
    "    return obj"
   ]
  },
  {
   "cell_type": "code",
   "execution_count": 17,
   "metadata": {},
   "outputs": [
    {
     "data": {
      "text/plain": [
       "[{'organization': {'value': 'http://id.loc.gov/authorities/names/n50075769',\n",
       "   'label': 'Drexel University',\n",
       "   'base': 'id.loc.gov'}},\n",
       " {'organization': {'value': 'http://id.loc.gov/authorities/names/n79061226',\n",
       "   'label': 'Johns Hopkins University',\n",
       "   'base': 'id.loc.gov'}},\n",
       " {'organization': {'value': 'http://id.loc.gov/authorities/names/nr99039944',\n",
       "   'label': 'Eastern Connecticut State University',\n",
       "   'base': 'id.loc.gov'}},\n",
       " {'organization': {'value': 'http://id.loc.gov/authorities/names/n79055384',\n",
       "   'label': 'Princeton University',\n",
       "   'base': 'id.loc.gov'}},\n",
       " {'organization': {'value': 'http://id.loc.gov/authorities/names/n79043367',\n",
       "   'label': 'Yale University',\n",
       "   'base': 'id.loc.gov'}}]"
      ]
     },
     "execution_count": 17,
     "metadata": {},
     "output_type": "execute_result"
    }
   ],
   "source": [
    "obj = ParserAgents(graph, uri)\n",
    "obj['hasAffiliation']"
   ]
  },
  {
   "cell_type": "code",
   "execution_count": 17,
   "metadata": {},
   "outputs": [
    {
     "data": {
      "text/plain": [
       "{'value': 'Larcher, Walter,'}"
      ]
     },
     "execution_count": 17,
     "metadata": {},
     "output_type": "execute_result"
    }
   ],
   "source": [
    "obj['hasVariant'][0]['elementList'][0]['elementValue']"
   ]
  },
  {
   "cell_type": "code",
   "execution_count": 10,
   "metadata": {},
   "outputs": [
    {
     "ename": "ValidationError",
     "evalue": "2 validation errors for Agents\nhasVariant.0.elementList.0.elementValue.lang\n  Field required [type=missing, input_value={'value': 'Larcher, Walter,'}, input_type=dict]\n    For further information visit https://errors.pydantic.dev/2.0.3/v/missing\nhasVariant.0.elementList.1.elementValue.lang\n  Field required [type=missing, input_value={'value': '1929-'}, input_type=dict]\n    For further information visit https://errors.pydantic.dev/2.0.3/v/missing",
     "output_type": "error",
     "traceback": [
      "\u001b[1;31m---------------------------------------------------------------------------\u001b[0m",
      "\u001b[1;31mValidationError\u001b[0m                           Traceback (most recent call last)",
      "Cell \u001b[1;32mIn[10], line 1\u001b[0m\n\u001b[1;32m----> 1\u001b[0m response \u001b[39m=\u001b[39m Agents(\u001b[39m*\u001b[39;49m\u001b[39m*\u001b[39;49mobj)\n\u001b[0;32m      2\u001b[0m response\n",
      "File \u001b[1;32mc:\\BiblioKeia\\venv\\Lib\\site-packages\\pydantic\\main.py:150\u001b[0m, in \u001b[0;36mBaseModel.__init__\u001b[1;34m(__pydantic_self__, **data)\u001b[0m\n\u001b[0;32m    148\u001b[0m \u001b[39m# `__tracebackhide__` tells pytest and some other tools to omit this function from tracebacks\u001b[39;00m\n\u001b[0;32m    149\u001b[0m __tracebackhide__ \u001b[39m=\u001b[39m \u001b[39mTrue\u001b[39;00m\n\u001b[1;32m--> 150\u001b[0m __pydantic_self__\u001b[39m.\u001b[39;49m__pydantic_validator__\u001b[39m.\u001b[39;49mvalidate_python(data, self_instance\u001b[39m=\u001b[39;49m__pydantic_self__)\n",
      "\u001b[1;31mValidationError\u001b[0m: 2 validation errors for Agents\nhasVariant.0.elementList.0.elementValue.lang\n  Field required [type=missing, input_value={'value': 'Larcher, Walter,'}, input_type=dict]\n    For further information visit https://errors.pydantic.dev/2.0.3/v/missing\nhasVariant.0.elementList.1.elementValue.lang\n  Field required [type=missing, input_value={'value': '1929-'}, input_type=dict]\n    For further information visit https://errors.pydantic.dev/2.0.3/v/missing"
     ]
    }
   ],
   "source": [
    "response = Agents(**obj)\n",
    "response"
   ]
  },
  {
   "cell_type": "code",
   "execution_count": 18,
   "metadata": {},
   "outputs": [
    {
     "data": {
      "text/plain": [
       "<Response [200 OK]>"
      ]
     },
     "execution_count": 18,
     "metadata": {},
     "output_type": "execute_result"
    }
   ],
   "source": [
    "import httpx\n",
    "\n",
    "url = 'http://localhost:8000/import/loc/agents?uri=http%3A%2F%2Fid.loc.gov%2Fauthorities%2Fnames%2Fn79125202'\n",
    "\n",
    "response = httpx.get(url)\n",
    "response"
   ]
  },
  {
   "cell_type": "code",
   "execution_count": 19,
   "metadata": {},
   "outputs": [
    {
     "data": {
      "text/plain": [
       "{'type': 'PersonalName',\n",
       " 'adminMetadata': {'assigner': 'http://id.loc.gov/vocabulary/organizations/dlc',\n",
       "  'descriptionModifier': 'http://id.loc.gov/vocabulary/organizations/brmninpa',\n",
       "  'creationDate': '2023-07-18',\n",
       "  'descriptionLanguage': 'http://id.loc.gov/vocabulary/languages/por',\n",
       "  'generationProcess': 'BiblioKeia v.1',\n",
       "  'generationDate': '2023-07-18T10:04:06',\n",
       "  'identifiedBy': [{'type': 'Lccn',\n",
       "    'assigner': 'http://id.loc.gov/vocabulary/organizations/dlc',\n",
       "    'value': 'n79125202'}],\n",
       "  'status': {'value': 'mstatus:new', 'label': 'novo'}},\n",
       " 'elementList': [{'type': 'FullNameElement',\n",
       "   'elementValue': {'value': 'Larcher, W.', 'lang': None}},\n",
       "  {'type': 'FullNameElement',\n",
       "   'elementValue': {'value': '(Walter),', 'lang': None}},\n",
       "  {'type': 'DateNameElement',\n",
       "   'elementValue': {'value': '1929-', 'lang': None}}],\n",
       " 'fullerName': None,\n",
       " 'birthDate': None,\n",
       " 'birthPlace': None,\n",
       " 'deathDate': None,\n",
       " 'hasAffiliation': None,\n",
       " 'occupation': None,\n",
       " 'fieldOfActivity': None,\n",
       " 'hasCloseExternalAuthority': [{'value': 'http://www.wikidata.org/entity/Q2545305',\n",
       "   'label': 'Walter Larcher',\n",
       "   'base': 'www.wikidata.org'}],\n",
       " 'hasExactExternalAuthority': None,\n",
       " 'hasVariant': [{'type': 'PersonalName',\n",
       "   'elementList': [{'type': 'FullNameElement',\n",
       "     'elementValue': {'value': 'Larcher, Walter,', 'lang': None}},\n",
       "    {'type': 'DateNameElement',\n",
       "     'elementValue': {'value': '1929-', 'lang': None}}]}],\n",
       " 'subjectOf': None,\n",
       " 'contributorOf': None,\n",
       " 'isMemberOfMADSCollection': 'http://bibliokeia.com/authorities/PersonalName/'}"
      ]
     },
     "execution_count": 19,
     "metadata": {},
     "output_type": "execute_result"
    }
   ],
   "source": [
    "response.json()"
   ]
  },
  {
   "cell_type": "code",
   "execution_count": 20,
   "metadata": {},
   "outputs": [
    {
     "data": {
      "text/plain": [
       "Agents(type='PersonalName', adminMetadata=AdminMetadata(assigner='http://id.loc.gov/vocabulary/organizations/dlc', descriptionModifier='http://id.loc.gov/vocabulary/organizations/brmninpa', creationDate=datetime.date(2023, 7, 18), descriptionLanguage='http://id.loc.gov/vocabulary/languages/por', generationProcess='BiblioKeia v.1', generationDate='2023-07-18T10:04:06', identifiedBy=[IdentifiedBy(type='Lccn', assigner='http://id.loc.gov/vocabulary/organizations/dlc', value='n79125202')], status=Status(value='mstatus:new', label='novo')), elementList=[Element(type='FullNameElement', elementValue=Label(value='Larcher, W.', lang=None)), Element(type='FullNameElement', elementValue=Label(value='(Walter),', lang=None)), Element(type='DateNameElement', elementValue=Label(value='1929-', lang=None))], fullerName=None, birthDate=None, birthPlace=None, deathDate=None, hasAffiliation=None, occupation=None, fieldOfActivity=None, hasCloseExternalAuthority=[Uri(value='http://www.wikidata.org/entity/Q2545305', label='Walter Larcher', base='www.wikidata.org')], hasExactExternalAuthority=None, hasVariant=[Variant(type='PersonalName', elementList=[Element(type='FullNameElement', elementValue=Label(value='Larcher, Walter,', lang=None)), Element(type='DateNameElement', elementValue=Label(value='1929-', lang=None))])], subjectOf=None, contributorOf=None, isMemberOfMADSCollection='http://bibliokeia.com/authorities/PersonalName/')"
      ]
     },
     "execution_count": 20,
     "metadata": {},
     "output_type": "execute_result"
    }
   ],
   "source": [
    "request = Agents(**response.json())\n",
    "request"
   ]
  },
  {
   "cell_type": "code",
   "execution_count": 41,
   "metadata": {},
   "outputs": [],
   "source": [
    "import httpx\n",
    "\n",
    "from api.src.function.authorities.makeLabel import MakeLabel\n",
    "\n",
    "\n",
    "def GetImagem(uri):\n",
    "    id = uri.split('/')[-1]\n",
    "\n",
    "    url = 'https://www.wikidata.org/w/api.php'\n",
    "    params = {\n",
    "                'action': 'wbgetentities',\n",
    "                'ids': id,\n",
    "                'props': 'claims',\n",
    "                'languages': 'pt',\n",
    "                'format': 'json'\n",
    "            }\n",
    "    response = httpx.get(url, params=params) \n",
    "    response = response.json()\n",
    "    if response.get('error'):\n",
    "        return False\n",
    "    else:\n",
    "        # file = response['entities'][id]['claims']['P18'][0]['mainsnak']['datavalue']['value']\n",
    "        file = response['entities'][id]['claims'].get('P18')\n",
    "        if file:\n",
    "            img = file[0]['mainsnak']['datavalue']['value']\n",
    "            imagem = f'http://commons.wikimedia.org/wiki/Special:FilePath/{img}'\n",
    "            return imagem\n",
    "        else:\n",
    "            return False\n",
    "    \n",
    "def MakeDocAgents(request, id):\n",
    "\n",
    "    doc = {\n",
    "            'id': id,\n",
    "            'type': request.type,\n",
    "            \"creationDate\": request.adminMetadata.creationDate.strftime('%Y-%m-%d'), \n",
    "            \"label\": f'{MakeLabel(request.elementList)}' ,\n",
    "            \"isMemberOfMADSCollection\": request.isMemberOfMADSCollection\n",
    "        }\n",
    "    \n",
    "    if request.fullerName:\n",
    "        doc['fullerName'] = request.fullerName.elementValue.value\n",
    "    if request.birthDate:\n",
    "        doc['birthDate'] = request.birthDate\n",
    "    if request.birthPlace:\n",
    "        doc['birthPlace'] = request.birthPlace\n",
    "    if request.deathDate:\n",
    "        doc['deathDate'] = request.deathDate\n",
    "    \n",
    "    # hasAffiliation  \n",
    "    if request.hasAffiliation:\n",
    "        affiliations = list()\n",
    "        for i in request.hasAffiliation:\n",
    "            a = {\n",
    "                'id': f\"{id}/hasAffiliation#{i.organization.value.split('/')[-1]}\",\n",
    "                'organization': i.organization.label,\n",
    "                'affiliationStart': i.affiliationStart,\n",
    "            }\n",
    "            if i.affiliationEnd:\n",
    "                a['affiliationEnd'] = i.affiliationEnd\n",
    "            affiliations.append(a)\n",
    "        doc['hasAffiliation'] = affiliations\n",
    "    \n",
    "    # hasVariant\n",
    "    if request.hasVariant:\n",
    "        variants = list()\n",
    "        for i in request.hasVariant:\n",
    "            label = [j.elementValue.value for j in i.elementList]\n",
    "            label = \" \".join(label)\n",
    "            variants.append(label)\n",
    "        doc['variant'] = variants\n",
    "\n",
    "    # hasCloseExternalAuthority\n",
    "    if request.hasCloseExternalAuthority:\n",
    "        uris = list()\n",
    "        for i in request.hasCloseExternalAuthority:\n",
    "            uri = {\n",
    "                    'id': f\"{id}/hasCloseExternalAuthority#{i.value.split('/')[-1]}\",\n",
    "                    'uri': i.value, \n",
    "                    'label': i.label, \n",
    "                    'base': i.base }\n",
    "            uris.append(uri)\n",
    "            if i.base == 'www.wikidata.org':\n",
    "                imagem = GetImagem(i.value)\n",
    "                if imagem:\n",
    "                    doc['imagem'] = imagem\n",
    "        doc['hasCloseExternalAuthority'] = uris\n",
    "\n",
    "    # Occupation\n",
    "    if request.occupation:\n",
    "        occupations = list()\n",
    "        for i in request.occupation:\n",
    "            uri = {\n",
    "                    'id': f\"{id}/occupation#{i.value.split('/')[-1]}\",\n",
    "                    'uri': i.value, \n",
    "                    'label': i.label, \n",
    "                    'base': i.base }\n",
    "            occupations.append(uri)\n",
    "        doc['occupation'] = occupations\n",
    "\n",
    "    # fieldOfActivity\n",
    "    if request.fieldOfActivity:\n",
    "        fields = list()\n",
    "        for i in request.fieldOfActivity:\n",
    "            uri = {\n",
    "                    'id': f\"{id}/fieldOfActivity#{i.value.split('/')[-1]}\",\n",
    "                    'uri': i.value, \n",
    "                    'label': i.label, \n",
    "                    'base': i.base }\n",
    "            fields.append(uri)\n",
    "        doc['fieldOfActivity'] = fields\n",
    "\n",
    "    return doc"
   ]
  },
  {
   "cell_type": "code",
   "execution_count": 31,
   "metadata": {},
   "outputs": [
    {
     "data": {
      "text/plain": [
       "<Response [200 OK]>"
      ]
     },
     "execution_count": 31,
     "metadata": {},
     "output_type": "execute_result"
    }
   ],
   "source": [
    "i = request.hasCloseExternalAuthority[0]\n",
    "uri = i.value\n",
    "id = uri.split('/')[-1]\n",
    "url = 'https://www.wikidata.org/w/api.php'\n",
    "params = {\n",
    "                'action': 'wbgetentities',\n",
    "                'ids': id,\n",
    "                'props': 'claims',\n",
    "                'languages': 'pt',\n",
    "                'format': 'json'\n",
    "            }\n",
    "response = httpx.get(url, params=params)\n",
    "response"
   ]
  },
  {
   "cell_type": "code",
   "execution_count": 42,
   "metadata": {},
   "outputs": [
    {
     "data": {
      "text/plain": [
       "{'id': 'Q2545305',\n",
       " 'type': 'PersonalName',\n",
       " 'creationDate': '2023-07-18',\n",
       " 'label': 'Larcher, W., (Walter),, 1929-',\n",
       " 'isMemberOfMADSCollection': 'http://bibliokeia.com/authorities/PersonalName/',\n",
       " 'variant': ['Larcher, Walter, 1929-'],\n",
       " 'hasCloseExternalAuthority': [{'id': 'Q2545305/hasCloseExternalAuthority#Q2545305',\n",
       "   'uri': 'http://www.wikidata.org/entity/Q2545305',\n",
       "   'label': 'Walter Larcher',\n",
       "   'base': 'www.wikidata.org'}]}"
      ]
     },
     "execution_count": 42,
     "metadata": {},
     "output_type": "execute_result"
    }
   ],
   "source": [
    "doc = MakeDocAgents(request, id)\n",
    "doc"
   ]
  },
  {
   "cell_type": "code",
   "execution_count": 54,
   "metadata": {},
   "outputs": [],
   "source": [
    "doc['hasCloseExternalAuthority'][0]['id'] = 'bka-2/hasCloseExternalAuthority#Q2545305'"
   ]
  },
  {
   "cell_type": "code",
   "execution_count": 55,
   "metadata": {},
   "outputs": [
    {
     "data": {
      "text/plain": [
       "{'id': 'bka-2',\n",
       " 'type': 'PersonalName',\n",
       " 'creationDate': '2023-07-18',\n",
       " 'label': 'Larcher, W., (Walter),, 1929-',\n",
       " 'isMemberOfMADSCollection': 'http://bibliokeia.com/authorities/PersonalName/',\n",
       " 'variant': ['Larcher, Walter, 1929-'],\n",
       " 'hasCloseExternalAuthority': [{'id': 'bka-2/hasCloseExternalAuthority#Q2545305',\n",
       "   'uri': 'http://www.wikidata.org/entity/Q2545305',\n",
       "   'label': 'Walter Larcher',\n",
       "   'base': 'www.wikidata.org'}]}"
      ]
     },
     "execution_count": 55,
     "metadata": {},
     "output_type": "execute_result"
    }
   ],
   "source": [
    "doc"
   ]
  },
  {
   "cell_type": "code",
   "execution_count": 56,
   "metadata": {},
   "outputs": [],
   "source": [
    "from pysolr import Solr\n",
    "solr = Solr('http://localhost:8983/solr/authority/', timeout=10)\n",
    "\n",
    "responseSolr = solr.add([doc], commit=True)"
   ]
  },
  {
   "cell_type": "code",
   "execution_count": 44,
   "metadata": {},
   "outputs": [
    {
     "data": {
      "text/plain": [
       "'{\\n  \"responseHeader\":{\\n    \"status\":0,\\n    \"QTime\":286}}\\n'"
      ]
     },
     "execution_count": 44,
     "metadata": {},
     "output_type": "execute_result"
    }
   ],
   "source": [
    "d = {'id': \"Q2545305\"}"
   ]
  },
  {
   "cell_type": "code",
   "execution_count": 46,
   "metadata": {},
   "outputs": [
    {
     "data": {
      "text/plain": [
       "'<?xml version=\"1.0\" encoding=\"UTF-8\"?>\\n<response>\\n\\n<lst name=\"responseHeader\">\\n  <int name=\"status\">0</int>\\n  <int name=\"QTime\">50</int>\\n</lst>\\n</response>\\n'"
      ]
     },
     "execution_count": 46,
     "metadata": {},
     "output_type": "execute_result"
    }
   ],
   "source": [
    "r = solr.delete(q=\"id:Q2545305/hasCloseExternalAuthority#Q2545305\", commit=True)\n",
    "r"
   ]
  }
 ],
 "metadata": {
  "kernelspec": {
   "display_name": "Python 3.11.3 ('venv': venv)",
   "language": "python",
   "name": "python3"
  },
  "language_info": {
   "codemirror_mode": {
    "name": "ipython",
    "version": 3
   },
   "file_extension": ".py",
   "mimetype": "text/x-python",
   "name": "python",
   "nbconvert_exporter": "python",
   "pygments_lexer": "ipython3",
   "version": "3.11.3"
  },
  "orig_nbformat": 4,
  "vscode": {
   "interpreter": {
    "hash": "5df21a170a08fe7c24b5b1091267edae5bad3984f1116f28e957af7dd8f192dc"
   }
  }
 },
 "nbformat": 4,
 "nbformat_minor": 2
}
