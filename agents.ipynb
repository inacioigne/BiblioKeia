{
 "cells": [
  {
   "cell_type": "code",
   "execution_count": 1,
   "metadata": {},
   "outputs": [],
   "source": [
    "import json\n",
    "from pyfuseki import FusekiUpdate\n",
    "import httpx\n",
    "from pysolr import Solr\n",
    "from rdflib import Graph"
   ]
  },
  {
   "cell_type": "code",
   "execution_count": 4,
   "metadata": {},
   "outputs": [
    {
     "data": {
      "text/plain": [
       "<Graph identifier=Nd07c446e9b10488480d7067d3c50414c (<class 'rdflib.graph.Graph'>)>"
      ]
     },
     "execution_count": 4,
     "metadata": {},
     "output_type": "execute_result"
    }
   ],
   "source": [
    "graph = Graph()\n",
    "graph.parse('http://id.loc.gov/authorities/names/n80002329')"
   ]
  },
  {
   "cell_type": "code",
   "execution_count": 5,
   "metadata": {},
   "outputs": [
    {
     "data": {
      "text/plain": [
       "<Graph identifier=Nd07c446e9b10488480d7067d3c50414c (<class 'rdflib.graph.Graph'>)>"
      ]
     },
     "execution_count": 5,
     "metadata": {},
     "output_type": "execute_result"
    }
   ],
   "source": [
    "graph.serialize('machado.ttl')"
   ]
  },
  {
   "cell_type": "code",
   "execution_count": 3,
   "metadata": {},
   "outputs": [],
   "source": [
    "solr = Solr('http://localhost:8983/solr/authority/', timeout=10)"
   ]
  },
  {
   "cell_type": "code",
   "execution_count": 2,
   "metadata": {},
   "outputs": [
    {
     "data": {
      "text/plain": [
       "'<?xml version=\"1.0\" encoding=\"UTF-8\"?>\\n<response>\\n\\n<lst name=\"responseHeader\">\\n  <int name=\"status\">0</int>\\n  <int name=\"QTime\">122</int>\\n</lst>\\n</response>\\n'"
      ]
     },
     "execution_count": 2,
     "metadata": {},
     "output_type": "execute_result"
    }
   ],
   "source": [
    "upAcervo = FusekiUpdate('http://localhost:3030', 'authority')\n",
    "\n",
    "d = \"\"\"DELETE { graph ?g { ?s ?p ?o } } \n",
    "        WHERE {\n",
    "        graph ?g {?s ?p ?o.}\n",
    "        }\"\"\"\n",
    "\n",
    "response = upAcervo.run_sparql(d)\n",
    "response.convert()\n",
    "\n",
    "solrAuthority = Solr('http://localhost:8983/solr/authority/', timeout=10)\n",
    "solrAuthority.delete(q=\"*:*\",  commit=True)"
   ]
  },
  {
   "cell_type": "code",
   "execution_count": 3,
   "metadata": {},
   "outputs": [],
   "source": [
    "with open(\"agents.json\", encoding=\"utf-8\") as file:\n",
    "    reader = file.read()\n",
    "    agents = json.loads(reader)\n",
    "    file.close()"
   ]
  },
  {
   "cell_type": "code",
   "execution_count": 8,
   "metadata": {},
   "outputs": [
    {
     "data": {
      "text/plain": [
       "<Response [201 Created]>"
      ]
     },
     "execution_count": 8,
     "metadata": {},
     "output_type": "execute_result"
    }
   ],
   "source": [
    "headers = {\n",
    "    'accept': 'application/json',\n",
    "    'Content-Type': 'application/json',\n",
    "}\n",
    "\n",
    "json_data = agents[0]\n",
    "response = httpx.post('http://localhost:8000/authorities/agents/', headers=headers, json=json_data)\n",
    "response"
   ]
  },
  {
   "cell_type": "code",
   "execution_count": 4,
   "metadata": {},
   "outputs": [
    {
     "name": "stdout",
     "output_type": "stream",
     "text": [
      "{'id': 'bka-1', 'jena': 'Update succeeded', 'solr': '{\\n  \"responseHeader\":{\\n    \"status\":0,\\n    \"QTime\":294\\n  }\\n}'}\n",
      "{'id': 'bka-2', 'jena': 'Update succeeded', 'solr': '{\\n  \"responseHeader\":{\\n    \"status\":0,\\n    \"QTime\":136\\n  }\\n}'}\n",
      "{'id': 'bka-3', 'jena': 'Update succeeded', 'solr': '{\\n  \"responseHeader\":{\\n    \"status\":0,\\n    \"QTime\":143\\n  }\\n}'}\n",
      "{'id': 'bka-4', 'jena': 'Update succeeded', 'solr': '{\\n  \"responseHeader\":{\\n    \"status\":0,\\n    \"QTime\":157\\n  }\\n}'}\n",
      "{'id': 'bka-5', 'jena': 'Update succeeded', 'solr': '{\\n  \"responseHeader\":{\\n    \"status\":0,\\n    \"QTime\":193\\n  }\\n}'}\n",
      "{'id': 'bka-6', 'jena': 'Update succeeded', 'solr': '{\\n  \"responseHeader\":{\\n    \"status\":0,\\n    \"QTime\":194\\n  }\\n}'}\n"
     ]
    }
   ],
   "source": [
    "headers = {\n",
    "    'accept': 'application/json',\n",
    "    'Content-Type': 'application/json',\n",
    "}\n",
    "\n",
    "for agent in agents:\n",
    "    response = httpx.post('http://localhost:8000/authorities/agents/', headers=headers, json=agent, timeout=1000)\n",
    "    print(response.json())\n"
   ]
  },
  {
   "cell_type": "code",
   "execution_count": 5,
   "metadata": {},
   "outputs": [],
   "source": [
    "from pydantic import BaseModel, Field\n",
    "from typing import Optional\n",
    "from api.src.schemas.authorities.authority import Variant, AdminMetadata, Element\n",
    "from datetime import datetime, date\n",
    "\n",
    "class Uri(BaseModel):\n",
    "    value: str\n",
    "    label: str\n",
    "    base: Optional[str] = None\n",
    "\n",
    "class Affiliation(BaseModel):\n",
    "    organization: Uri\n",
    "    affiliationStart: Optional[str] = None\n",
    "    affiliationEnd: Optional[str] = None\n",
    "\n",
    "class Status(BaseModel):\n",
    "    value: str = Field(default=\"mstatus:new\")\n",
    "    label: str = Field(default=\"novo\")\n",
    "    \n",
    "class AdminMetadata(BaseModel):\n",
    "    assigner: str = Field(default=\"http://id.loc.gov/vocabulary/organizations/brmninpa\")\n",
    "    descriptionModifier: str = Field(default=\"http://id.loc.gov/vocabulary/organizations/brmninpa\")\n",
    "    creationDate: date = Field(default=date.today())\n",
    "    descriptionLanguage: str = Field(default=\"http://id.loc.gov/vocabulary/languages/por\")\n",
    "    generationProcess: str = Field(default=\"BiblioKeia v.1\")\n",
    "    generationDate: str = Field(default=datetime.now().strftime('%Y-%m-%dT%H:%M:%S'))\n",
    "    # identifiedBy: list[IdentifiedBy]\n",
    "    status: Status = Field(default=Status(value=\"mstatus:new\", label=\"novo\"))\n",
    "    \n",
    "class Agents(BaseModel):\n",
    "    type: str \n",
    "    identifiersLccn: Optional[str] = None\n",
    "    identifiersLocal: int\n",
    "    adminMetadata: AdminMetadata \n",
    "    authoritativeLabel: str\n",
    "    elementList: list[Element]\n",
    "    fullerName: Optional[Element] = None\n",
    "    birthDate: Optional[str] = None\n",
    "    birthPlace: Optional[str] = None\n",
    "    deathDate: Optional[str] = None\n",
    "    hasAffiliation: Optional[list[Affiliation]] = None\n",
    "    occupation: Optional[list[Uri]] = None\n",
    "    fieldOfActivity: Optional[list[Uri]] = None\n",
    "    hasCloseExternalAuthority: Optional[list[Uri]] = None\n",
    "    hasExactExternalAuthority: Optional[list[Uri]] = None\n",
    "    hasVariant: Optional[list[Variant]] = None\n",
    "    subjectOf: Optional[list[Uri]] = None\n",
    "    contributorOf: Optional[list[Uri]] = None\n",
    "    isMemberOfMADSCollection: str"
   ]
  },
  {
   "cell_type": "code",
   "execution_count": 17,
   "metadata": {},
   "outputs": [],
   "source": [
    "a = {\n",
    "    \"type\": \"PersonalName\",\n",
    "    \"identifiersLocal\": 1,\n",
    "    \"adminMetadata\": {\n",
    "        \"creationDate\": \"2023-09-19\",\n",
    "    },\n",
    "    \"authoritativeLabel\": \"Machado de Assis\",\n",
    "    \"elementList\": [\n",
    "        {\n",
    "      \"type\": \"FullNameElement\",\n",
    "      \"elementValue\": {\n",
    "        \"value\": \"Machado de Assis\"\n",
    "      }\n",
    "    },\n",
    "    {\n",
    "      \"type\": \"DateNameElement\",\n",
    "      \"elementValue\": {\n",
    "        \"value\": \"1839-1908\"\n",
    "      }\n",
    "    } ],\n",
    "    \"isMemberOfMADSCollection\": \"http://bibliokeia.com/authorities/PersonalName/\"\n",
    "}\n",
    "\n",
    "agent = Agents(**a)\n",
    "\n"
   ]
  },
  {
   "cell_type": "code",
   "execution_count": 20,
   "metadata": {},
   "outputs": [],
   "source": [
    "agent.identifiersLccn"
   ]
  },
  {
   "cell_type": "code",
   "execution_count": 15,
   "metadata": {},
   "outputs": [
    {
     "data": {
      "text/plain": [
       "{'type': 'PersonalName',\n",
       " 'identifiersLccn': None,\n",
       " 'identifiersLocal': 1,\n",
       " 'adminMetadata': {'assigner': 'http://id.loc.gov/vocabulary/organizations/brmninpa',\n",
       "  'descriptionModifier': 'http://id.loc.gov/vocabulary/organizations/brmninpa',\n",
       "  'creationDate': datetime.date(2023, 9, 19),\n",
       "  'descriptionLanguage': 'http://id.loc.gov/vocabulary/languages/por',\n",
       "  'generationProcess': 'BiblioKeia v.1',\n",
       "  'generationDate': '2023-09-19T13:32:50',\n",
       "  'status': {'value': 'mstatus:new', 'label': 'novo'}},\n",
       " 'authoritativeLabel': 'Machado de Assis',\n",
       " 'elementList': [{'type': 'FullNameElement',\n",
       "   'elementValue': {'value': 'Machado de Assis', 'lang': None}},\n",
       "  {'type': 'DateNameElement',\n",
       "   'elementValue': {'value': '1839-1908', 'lang': None}}],\n",
       " 'fullerName': None,\n",
       " 'birthDate': None,\n",
       " 'birthPlace': None,\n",
       " 'deathDate': None,\n",
       " 'hasAffiliation': None,\n",
       " 'occupation': None,\n",
       " 'fieldOfActivity': None,\n",
       " 'hasCloseExternalAuthority': None,\n",
       " 'hasExactExternalAuthority': None,\n",
       " 'hasVariant': None,\n",
       " 'subjectOf': None,\n",
       " 'contributorOf': None,\n",
       " 'isMemberOfMADSCollection': 'http://bibliokeia.com/authorities/PersonalName/'}"
      ]
     },
     "execution_count": 15,
     "metadata": {},
     "output_type": "execute_result"
    }
   ],
   "source": [
    "agent.model_dump()"
   ]
  },
  {
   "cell_type": "code",
   "execution_count": 18,
   "metadata": {},
   "outputs": [
    {
     "name": "stdout",
     "output_type": "stream",
     "text": [
      "{'detail': [{'type': 'missing', 'loc': ['body', 'adminMetadata', 'identifiedBy'], 'msg': 'Field required', 'input': {'creationDate': '2023-09-19'}, 'url': 'https://errors.pydantic.dev/2.0.3/v/missing'}]}\n"
     ]
    }
   ],
   "source": [
    "headers = {\n",
    "    'accept': 'application/json',\n",
    "    'Content-Type': 'application/json',\n",
    "}\n",
    "\n",
    "response = httpx.post('http://localhost:8000/authorities/agents/', headers=headers, json=a, timeout=1000)\n",
    "print(response.json())"
   ]
  }
 ],
 "metadata": {
  "kernelspec": {
   "display_name": "Python 3.11.3 ('venv': venv)",
   "language": "python",
   "name": "python3"
  },
  "language_info": {
   "codemirror_mode": {
    "name": "ipython",
    "version": 3
   },
   "file_extension": ".py",
   "mimetype": "text/x-python",
   "name": "python",
   "nbconvert_exporter": "python",
   "pygments_lexer": "ipython3",
   "version": "3.11.3"
  },
  "orig_nbformat": 4,
  "vscode": {
   "interpreter": {
    "hash": "5df21a170a08fe7c24b5b1091267edae5bad3984f1116f28e957af7dd8f192dc"
   }
  }
 },
 "nbformat": 4,
 "nbformat_minor": 2
}
