{
 "cells": [
  {
   "cell_type": "code",
   "execution_count": 3,
   "metadata": {},
   "outputs": [],
   "source": [
    "import json\n",
    "from pyfuseki import FusekiUpdate\n",
    "import httpx\n",
    "from pysolr import Solr\n",
    "from rdflib import Graph"
   ]
  },
  {
   "cell_type": "code",
   "execution_count": 4,
   "metadata": {},
   "outputs": [
    {
     "data": {
      "text/plain": [
       "<Graph identifier=Nd07c446e9b10488480d7067d3c50414c (<class 'rdflib.graph.Graph'>)>"
      ]
     },
     "execution_count": 4,
     "metadata": {},
     "output_type": "execute_result"
    }
   ],
   "source": [
    "graph = Graph()\n",
    "graph.parse('http://id.loc.gov/authorities/names/n80002329')"
   ]
  },
  {
   "cell_type": "code",
   "execution_count": 5,
   "metadata": {},
   "outputs": [
    {
     "data": {
      "text/plain": [
       "<Graph identifier=Nd07c446e9b10488480d7067d3c50414c (<class 'rdflib.graph.Graph'>)>"
      ]
     },
     "execution_count": 5,
     "metadata": {},
     "output_type": "execute_result"
    }
   ],
   "source": [
    "graph.serialize('machado.ttl')"
   ]
  },
  {
   "cell_type": "code",
   "execution_count": 3,
   "metadata": {},
   "outputs": [],
   "source": [
    "solr = Solr('http://localhost:8983/solr/authority/', timeout=10)"
   ]
  },
  {
   "cell_type": "code",
   "execution_count": 2,
   "metadata": {},
   "outputs": [
    {
     "data": {
      "text/plain": [
       "'<?xml version=\"1.0\" encoding=\"UTF-8\"?>\\n<response>\\n\\n<lst name=\"responseHeader\">\\n  <int name=\"status\">0</int>\\n  <int name=\"QTime\">588</int>\\n</lst>\\n</response>\\n'"
      ]
     },
     "execution_count": 2,
     "metadata": {},
     "output_type": "execute_result"
    }
   ],
   "source": [
    "upAcervo = FusekiUpdate('http://localhost:3030', 'authority')\n",
    "\n",
    "d = \"\"\"DELETE { graph ?g { ?s ?p ?o } } \n",
    "        WHERE {\n",
    "        graph ?g {?s ?p ?o.}\n",
    "        }\"\"\"\n",
    "\n",
    "response = upAcervo.run_sparql(d)\n",
    "response.convert()\n",
    "\n",
    "solrAuthority = Solr('http://localhost:8983/solr/authority/', timeout=10)\n",
    "solrAuthority.delete(q=\"*:*\",  commit=True)"
   ]
  },
  {
   "cell_type": "code",
   "execution_count": 3,
   "metadata": {},
   "outputs": [],
   "source": [
    "with open(\"agents.json\", encoding=\"utf-8\") as file:\n",
    "    reader = file.read()\n",
    "    agents = json.loads(reader)\n",
    "    file.close()"
   ]
  },
  {
   "cell_type": "code",
   "execution_count": 8,
   "metadata": {},
   "outputs": [
    {
     "data": {
      "text/plain": [
       "<Response [201 Created]>"
      ]
     },
     "execution_count": 8,
     "metadata": {},
     "output_type": "execute_result"
    }
   ],
   "source": [
    "headers = {\n",
    "    'accept': 'application/json',\n",
    "    'Content-Type': 'application/json',\n",
    "}\n",
    "\n",
    "json_data = agents[0]\n",
    "response = httpx.post('http://localhost:8000/authorities/agents/', headers=headers, json=json_data)\n",
    "response"
   ]
  },
  {
   "cell_type": "code",
   "execution_count": 4,
   "metadata": {},
   "outputs": [
    {
     "name": "stdout",
     "output_type": "stream",
     "text": [
      "{'id': 'bka-1', 'jena': 'Update succeeded', 'solr': '{\\n  \"responseHeader\":{\\n    \"status\":0,\\n    \"QTime\":294\\n  }\\n}'}\n",
      "{'id': 'bka-2', 'jena': 'Update succeeded', 'solr': '{\\n  \"responseHeader\":{\\n    \"status\":0,\\n    \"QTime\":136\\n  }\\n}'}\n",
      "{'id': 'bka-3', 'jena': 'Update succeeded', 'solr': '{\\n  \"responseHeader\":{\\n    \"status\":0,\\n    \"QTime\":143\\n  }\\n}'}\n",
      "{'id': 'bka-4', 'jena': 'Update succeeded', 'solr': '{\\n  \"responseHeader\":{\\n    \"status\":0,\\n    \"QTime\":157\\n  }\\n}'}\n",
      "{'id': 'bka-5', 'jena': 'Update succeeded', 'solr': '{\\n  \"responseHeader\":{\\n    \"status\":0,\\n    \"QTime\":193\\n  }\\n}'}\n",
      "{'id': 'bka-6', 'jena': 'Update succeeded', 'solr': '{\\n  \"responseHeader\":{\\n    \"status\":0,\\n    \"QTime\":194\\n  }\\n}'}\n"
     ]
    }
   ],
   "source": [
    "headers = {\n",
    "    'accept': 'application/json',\n",
    "    'Content-Type': 'application/json',\n",
    "}\n",
    "\n",
    "for agent in agents:\n",
    "    response = httpx.post('http://localhost:8000/authorities/agents/', headers=headers, json=agent, timeout=1000)\n",
    "    print(response.json())\n"
   ]
  },
  {
   "cell_type": "code",
   "execution_count": 8,
   "metadata": {},
   "outputs": [],
   "source": [
    "from pydantic import BaseModel\n",
    "from typing import Optional\n",
    "from api.src.schemas.authorities.authority import Variant, AdminMetadata, Element\n",
    "from datetime import datetime, date\n",
    "\n",
    "class Uri(BaseModel):\n",
    "    value: str\n",
    "    label: str\n",
    "    base: Optional[str] = None\n",
    "\n",
    "class Affiliation(BaseModel):\n",
    "    organization: Uri\n",
    "    affiliationStart: Optional[str] = None\n",
    "    affiliationEnd: Optional[str] = None\n",
    "\n",
    "# class AdminMetadata(BaseModel):\n",
    "#     assigner: str = Field(default=\"http://id.loc.gov/vocabulary/organizations/brmninpa\")\n",
    "#     descriptionModifier: str = Field(default=\"http://id.loc.gov/vocabulary/organizations/brmninpa\")\n",
    "#     creationDate: date = Field(default=date.today())\n",
    "#     descriptionLanguage: str = Field(default=\"http://id.loc.gov/vocabulary/languages/por\")\n",
    "#     generationProcess: str = Field(default=\"BiblioKeia v.1\")\n",
    "#     # generationDate: datetime = Field(default=datetime.now().strftime('%Y-%m-%dT%H:%M:%S'))\n",
    "#     generationDate: str = Field(default=datetime.now().strftime('%Y-%m-%dT%H:%M:%S'))\n",
    "#     identifiedBy: list[IdentifiedBy]\n",
    "#     status: Status = Field(default=Status(value=\"mstatus:new\", label=\"novo\"))\n",
    "    \n",
    "class Agents(BaseModel):\n",
    "    type: str \n",
    "    adminMetadata: AdminMetadata \n",
    "    authoritativeLabel: str\n",
    "    elementList: list[Element]\n",
    "    fullerName: Optional[Element] = None\n",
    "    birthDate: Optional[str] = None\n",
    "    birthPlace: Optional[str] = None\n",
    "    deathDate: Optional[str] = None\n",
    "    hasAffiliation: Optional[list[Affiliation]] = None\n",
    "    occupation: Optional[list[Uri]] = None\n",
    "    fieldOfActivity: Optional[list[Uri]] = None\n",
    "    hasCloseExternalAuthority: Optional[list[Uri]] = None\n",
    "    hasExactExternalAuthority: Optional[list[Uri]] = None\n",
    "    hasVariant: Optional[list[Variant]] = None\n",
    "    subjectOf: Optional[list[Uri]] = None\n",
    "    contributorOf: Optional[list[Uri]] = None\n",
    "    isMemberOfMADSCollection: str"
   ]
  },
  {
   "cell_type": "code",
   "execution_count": 13,
   "metadata": {},
   "outputs": [
    {
     "data": {
      "text/plain": [
       "Agents(type='PersonalName', adminMetadata=AdminMetadata(assigner='http://id.loc.gov/vocabulary/organizations/brmninpa', descriptionModifier='http://id.loc.gov/vocabulary/organizations/brmninpa', creationDate=datetime.date(2023, 9, 18), descriptionLanguage='http://id.loc.gov/vocabulary/languages/por', generationProcess='BiblioKeia v.1', generationDate='2023-09-18T13:20:32', identifiedBy=[IdentifiedBy(type='Local', assigner='http://id.loc.gov/vocabulary/organizations/brmninpa', value='bka-1')], status=Status(value='mstatus:new', label='novo')), authoritativeLabel='Machado de Assis', elementList=[Element(type='FullNameElement', elementValue=Label(value='Machado de Assis', lang=None)), Element(type='DateNameElement', elementValue=Label(value='1839-1908', lang=None))], fullerName=None, birthDate=None, birthPlace=None, deathDate=None, hasAffiliation=None, occupation=None, fieldOfActivity=None, hasCloseExternalAuthority=None, hasExactExternalAuthority=None, hasVariant=None, subjectOf=None, contributorOf=None, isMemberOfMADSCollection='http://bibliokeia.com/authorities/PersonalName/')"
      ]
     },
     "execution_count": 13,
     "metadata": {},
     "output_type": "execute_result"
    }
   ],
   "source": [
    "a = {\n",
    "    \"type\": \"PersonalName\",\n",
    "    \"adminMetadata\": {\n",
    "        \"creationDate\": date.today(),\n",
    "        \"identifiedBy\": [\n",
    "            {\n",
    "                \"type\": \"Local\",\n",
    "                \"assigner\": \"http://id.loc.gov/vocabulary/organizations/brmninpa\",\n",
    "                \"value\": \"bka-1\"\n",
    "            }\n",
    "        ]\n",
    "    },\n",
    "    \"authoritativeLabel\": \"Machado de Assis\",\n",
    "    \"elementList\": [\n",
    "        {\n",
    "      \"type\": \"FullNameElement\",\n",
    "      \"elementValue\": {\n",
    "        \"value\": \"Machado de Assis\"\n",
    "      }\n",
    "    },\n",
    "    {\n",
    "      \"type\": \"DateNameElement\",\n",
    "      \"elementValue\": {\n",
    "        \"value\": \"1839-1908\"\n",
    "      }\n",
    "    } ],\n",
    "    \"isMemberOfMADSCollection\": \"http://bibliokeia.com/authorities/PersonalName/\"\n",
    "}\n",
    "\n",
    "agents = Agents(**a)\n",
    "agents"
   ]
  },
  {
   "cell_type": "code",
   "execution_count": 12,
   "metadata": {},
   "outputs": [
    {
     "data": {
      "text/plain": [
       "datetime.date(2023, 9, 18)"
      ]
     },
     "execution_count": 12,
     "metadata": {},
     "output_type": "execute_result"
    }
   ],
   "source": [
    "agents.adminMetadata.creationDate"
   ]
  },
  {
   "cell_type": "code",
   "execution_count": 17,
   "metadata": {},
   "outputs": [
    {
     "data": {
      "text/plain": [
       "{'id': 'bka-1',\n",
       " 'type': 'PersonalName',\n",
       " 'creationDate': '2023-08-31',\n",
       " 'authority': 'Machado de Assis, 1839-1908',\n",
       " 'isMemberOfMADSCollection': 'http://bibliokeia.com/authorities/PersonalName/',\n",
       " 'fullerName': 'Joaquim Maria Machado',\n",
       " 'birthDate': '1839-06-21',\n",
       " 'birthPlace': 'Rio de Janeiro (Brazil)',\n",
       " 'deathDate': '1908-09-29',\n",
       " 'hasAffiliation': [{'id': 'bka-1/hasAffiliation#n82059239',\n",
       "   'organization': 'Academia Brasileira de Letras',\n",
       "   'affiliationStart': '1897',\n",
       "   'affiliationEnd': '1908'}],\n",
       " 'affiliation': ['Academia Brasileira de Letras'],\n",
       " 'variant': ['Assis, Joaquim Maria Machado de, 1839-1908',\n",
       "  'Assis, Machado de, 1839-1908',\n",
       "  'De Assis, Joaquim Maria Machado, 1839-1908',\n",
       "  'De Assis, Machado, 1839-1908',\n",
       "  'Machado de Assis, Joaquim Maria, 1839-1908',\n",
       "  'Machado de Assis, Joaquín María, 1839-1908',\n",
       "  'Mashado de Assiz, Zhoakin, 1839-1908',\n",
       "  'Semana Dr., 1839-1908'],\n",
       " 'imagem': 'http://commons.wikimedia.org/wiki/Special:FilePath/Machado de Assis aos 57 anos.jpg',\n",
       " 'hasCloseExternalAuthority': [{'id': 'bka-1/hasCloseExternalAuthority#Q311145',\n",
       "   'uri': 'http://www.wikidata.org/entity/Q311145',\n",
       "   'label': 'Joaquim Maria Machado de Assis',\n",
       "   'base': 'www.wikidata.org'},\n",
       "  {'id': 'bka-1/hasCloseExternalAuthority#48407',\n",
       "   'uri': 'http://id.worldcat.org/fast/48407',\n",
       "   'label': 'Machado de Assis, 1839-1908',\n",
       "   'base': 'id.worldcat.org'}],\n",
       " 'hasOccupation': [{'id': 'bka-1/occupation#sh85092863',\n",
       "   'uri': 'http://id.loc.gov/authorities/subjects/sh85092863',\n",
       "   'label': 'Novelists',\n",
       "   'base': 'id.loc.gov'},\n",
       "  {'id': 'bka-1/occupation#sh85103733',\n",
       "   'uri': 'http://id.loc.gov/authorities/subjects/sh85103733',\n",
       "   'label': 'Poets',\n",
       "   'base': 'id.loc.gov'},\n",
       "  {'id': 'bka-1/occupation#sh85039342',\n",
       "   'uri': 'http://id.loc.gov/authorities/subjects/sh85039342',\n",
       "   'label': 'Dramatists',\n",
       "   'base': 'id.loc.gov'},\n",
       "  {'id': 'bka-1/occupation#sh85034154',\n",
       "   'uri': 'http://id.loc.gov/authorities/subjects/sh85034154',\n",
       "   'label': 'Critics',\n",
       "   'base': 'id.loc.gov'},\n",
       "  {'id': 'bka-1/occupation#sh85108733',\n",
       "   'uri': 'http://id.loc.gov/authorities/subjects/sh85108733',\n",
       "   'label': 'Public officers',\n",
       "   'base': 'id.loc.gov'}],\n",
       " 'occupation': ['Novelists',\n",
       "  'Poets',\n",
       "  'Dramatists',\n",
       "  'Critics',\n",
       "  'Public officers']}"
      ]
     },
     "execution_count": 17,
     "metadata": {},
     "output_type": "execute_result"
    }
   ],
   "source": [
    "from api.src.function.authorities.makeLabel import MakeLabel\n",
    "\n",
    "def GetImagem(uri):\n",
    "    id = uri.split('/')[-1]\n",
    "\n",
    "    url = 'https://www.wikidata.org/w/api.php'\n",
    "    params = {\n",
    "                'action': 'wbgetentities',\n",
    "                'ids': id,\n",
    "                'props': 'claims',\n",
    "                'languages': 'pt',\n",
    "                'format': 'json'\n",
    "            }\n",
    "    response = httpx.get(url, params=params) \n",
    "    response = response.json()\n",
    "    if response.get('error'):\n",
    "        return False\n",
    "    else:\n",
    "        # file = response['entities'][id]['claims']['P18'][0]['mainsnak']['datavalue']['value']\n",
    "        file = response['entities'][id]['claims'].get('P18')\n",
    "        if file:\n",
    "            img = file[0]['mainsnak']['datavalue']['value']\n",
    "            imagem = f'http://commons.wikimedia.org/wiki/Special:FilePath/{img}'\n",
    "            return imagem\n",
    "        else:\n",
    "            return False\n",
    "        \n",
    "def MakeDocAgents(request, id):\n",
    "\n",
    "    doc = { \n",
    "            'id': id,\n",
    "            'type': request.type,\n",
    "            \"creationDate\": request.adminMetadata.creationDate.strftime('%Y-%m-%d'), \n",
    "            # \"label\": f'{MakeLabel(request.elementList)}' ,\n",
    "            \"authority\": request.authoritativeLabel,\n",
    "            \"isMemberOfMADSCollection\": request.isMemberOfMADSCollection\n",
    "        }\n",
    "    \n",
    "    if request.fullerName:\n",
    "        doc['fullerName'] = request.fullerName.elementValue.value\n",
    "    if request.birthDate:\n",
    "        doc['birthDate'] = request.birthDate\n",
    "    if request.birthPlace:\n",
    "        doc['birthPlace'] = request.birthPlace\n",
    "    if request.deathDate:\n",
    "        doc['deathDate'] = request.deathDate\n",
    "    \n",
    "    # hasAffiliation  \n",
    "    if request.hasAffiliation:\n",
    "        affiliations = list()\n",
    "        for i in request.hasAffiliation:\n",
    "\n",
    "            a = {\n",
    "                'id': f\"{id}/hasAffiliation#{i.organization.value.split('/')[-1]}\",\n",
    "                'organization': i.organization.label,\n",
    "                'affiliationStart': i.affiliationStart,\n",
    "            }\n",
    "            if i.affiliationEnd:\n",
    "                a['affiliationEnd'] = i.affiliationEnd\n",
    "            affiliations.append(a)\n",
    "        doc['hasAffiliation'] = affiliations\n",
    "        doc['affiliation']  = [i['organization'] for i in affiliations]\n",
    "\n",
    "    \n",
    "    # hasVariant\n",
    "    if request.hasVariant:\n",
    "        variants = list()\n",
    "        for i in request.hasVariant:\n",
    "            label = [j.elementValue.value for j in i.elementList]\n",
    "            label = \" \".join(label)\n",
    "            variants.append(label)\n",
    "        doc['variant'] = variants\n",
    "\n",
    "    # hasCloseExternalAuthority\n",
    "    if request.hasCloseExternalAuthority:\n",
    "        uris = list()\n",
    "        for i in request.hasCloseExternalAuthority:\n",
    "            uri = {\n",
    "                    'id': f\"{id}/hasCloseExternalAuthority#{i.value.split('/')[-1]}\",\n",
    "                    'uri': i.value, \n",
    "                    'label': i.label, \n",
    "                    'base': i.base }\n",
    "            uris.append(uri)\n",
    "            if i.base == 'www.wikidata.org':\n",
    "                imagem = GetImagem(i.value)\n",
    "                if imagem:\n",
    "                    doc['imagem'] = imagem\n",
    "        doc['hasCloseExternalAuthority'] = uris\n",
    "\n",
    "    # Occupation\n",
    "    if request.occupation:\n",
    "        occupations = list()\n",
    "        for i in request.occupation:\n",
    "            uri = {\n",
    "                    'id': f\"{id}/occupation#{i.value.split('/')[-1]}\",\n",
    "                    'uri': i.value, \n",
    "                    'label': i.label, \n",
    "                    'base': i.base }\n",
    "            occupations.append(uri)\n",
    "        doc['hasOccupation'] = occupations\n",
    "        doc['occupation']  = [i['label'] for i in occupations]\n",
    "\n",
    "\n",
    "    # fieldOfActivity\n",
    "    if request.fieldOfActivity:\n",
    "        fields = list()\n",
    "        for i in request.fieldOfActivity:\n",
    "            uri = {\n",
    "                    'id': f\"{id}/fieldOfActivity#{i.value.split('/')[-1]}\",\n",
    "                    'uri': i.value, \n",
    "                    'label': i.label, \n",
    "                    'base': i.base }\n",
    "            fields.append(uri)\n",
    "        doc['fieldOfActivity'] = fields\n",
    "\n",
    "    return doc\n",
    "\n",
    "doc = MakeDocAgents(request, \"bka-1\")\n",
    "doc\n"
   ]
  },
  {
   "cell_type": "code",
   "execution_count": 15,
   "metadata": {},
   "outputs": [
    {
     "data": {
      "text/plain": [
       "['Academia Brasileira de Letras']"
      ]
     },
     "execution_count": 15,
     "metadata": {},
     "output_type": "execute_result"
    }
   ],
   "source": [
    "x = [i['organization'] for i in affiliations]\n",
    "x"
   ]
  }
 ],
 "metadata": {
  "kernelspec": {
   "display_name": "Python 3.11.3 ('venv': venv)",
   "language": "python",
   "name": "python3"
  },
  "language_info": {
   "codemirror_mode": {
    "name": "ipython",
    "version": 3
   },
   "file_extension": ".py",
   "mimetype": "text/x-python",
   "name": "python",
   "nbconvert_exporter": "python",
   "pygments_lexer": "ipython3",
   "version": "3.11.5"
  },
  "orig_nbformat": 4,
  "vscode": {
   "interpreter": {
    "hash": "5df21a170a08fe7c24b5b1091267edae5bad3984f1116f28e957af7dd8f192dc"
   }
  }
 },
 "nbformat": 4,
 "nbformat_minor": 2
}
