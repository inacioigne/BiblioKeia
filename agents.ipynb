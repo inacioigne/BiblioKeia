{
 "cells": [
  {
   "cell_type": "code",
   "execution_count": 6,
   "metadata": {},
   "outputs": [],
   "source": [
    "import json\n",
    "from pyfuseki import FusekiUpdate\n",
    "import httpx\n",
    "from pysolr import Solr"
   ]
  },
  {
   "cell_type": "code",
   "execution_count": null,
   "metadata": {},
   "outputs": [],
   "source": [
    "upAcervo = FusekiUpdate('http://localhost:3030', 'authority')\n",
    "\n",
    "d = \"\"\"DELETE { graph ?g { ?s ?p ?o } } \n",
    "        WHERE {\n",
    "        graph ?g {?s ?p ?o.}\n",
    "        }\"\"\"\n",
    "\n",
    "response = upAcervo.run_sparql(d)\n",
    "response.convert()\n",
    "\n",
    "solrAuthority = Solr('http://localhost:8983/solr/authority/', timeout=10)\n",
    "solrAuthority.delete(q=\"*:*\",  commit=True)"
   ]
  },
  {
   "cell_type": "code",
   "execution_count": null,
   "metadata": {},
   "outputs": [],
   "source": [
    "with open(\"agents.json\", encoding=\"utf-8\") as file:\n",
    "    reader = file.read()\n",
    "    agents = json.loads(reader)\n",
    "    file.close()\n",
    "\n",
    "agents"
   ]
  },
  {
   "cell_type": "code",
   "execution_count": 8,
   "metadata": {},
   "outputs": [
    {
     "data": {
      "text/plain": [
       "<Response [201 Created]>"
      ]
     },
     "execution_count": 8,
     "metadata": {},
     "output_type": "execute_result"
    }
   ],
   "source": [
    "headers = {\n",
    "    'accept': 'application/json',\n",
    "    'Content-Type': 'application/json',\n",
    "}\n",
    "\n",
    "json_data = agents[0]\n",
    "response = httpx.post('http://localhost:8000/authorities/agents/', headers=headers, json=json_data)\n",
    "response"
   ]
  },
  {
   "cell_type": "code",
   "execution_count": 9,
   "metadata": {},
   "outputs": [
    {
     "name": "stdout",
     "output_type": "stream",
     "text": [
      "{'id': 'bka-2', 'jena': 'Update succeeded', 'solr': '{\\n  \"responseHeader\":{\\n    \"status\":0,\\n    \"QTime\":128}}\\n'}\n",
      "{'id': 'bka-3', 'jena': 'Update succeeded', 'solr': '{\\n  \"responseHeader\":{\\n    \"status\":0,\\n    \"QTime\":128}}\\n'}\n",
      "{'id': 'bka-4', 'jena': 'Update succeeded', 'solr': '{\\n  \"responseHeader\":{\\n    \"status\":0,\\n    \"QTime\":125}}\\n'}\n",
      "{'id': 'bka-5', 'jena': 'Update succeeded', 'solr': '{\\n  \"responseHeader\":{\\n    \"status\":0,\\n    \"QTime\":124}}\\n'}\n",
      "{'id': 'bka-6', 'jena': 'Update succeeded', 'solr': '{\\n  \"responseHeader\":{\\n    \"status\":0,\\n    \"QTime\":118}}\\n'}\n"
     ]
    }
   ],
   "source": [
    "for agent in agents[1:]:\n",
    "    response = httpx.post('http://localhost:8000/authorities/agents/', headers=headers, json=agent, timeout=1000)\n",
    "    print(response.json())\n"
   ]
  }
 ],
 "metadata": {
  "kernelspec": {
   "display_name": "Python 3.11.3 ('venv': venv)",
   "language": "python",
   "name": "python3"
  },
  "language_info": {
   "codemirror_mode": {
    "name": "ipython",
    "version": 3
   },
   "file_extension": ".py",
   "mimetype": "text/x-python",
   "name": "python",
   "nbconvert_exporter": "python",
   "pygments_lexer": "ipython3",
   "version": "3.11.3"
  },
  "orig_nbformat": 4,
  "vscode": {
   "interpreter": {
    "hash": "5df21a170a08fe7c24b5b1091267edae5bad3984f1116f28e957af7dd8f192dc"
   }
  }
 },
 "nbformat": 4,
 "nbformat_minor": 2
}
