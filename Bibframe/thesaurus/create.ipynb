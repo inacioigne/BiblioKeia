{
 "cells": [
  {
   "cell_type": "code",
   "execution_count": 1,
   "metadata": {},
   "outputs": [],
   "source": [
    "from rdflib import Graph, URIRef, BNode, Literal, Namespace\n",
    "from rdflib.namespace import RDF, RDFS"
   ]
  },
  {
   "cell_type": "code",
   "execution_count": 2,
   "metadata": {},
   "outputs": [],
   "source": [
    "objParser = {\n",
    "    \"authority\": \"Metodologia\",\n",
    "    \"tokenLSCH\": \"sh85084414\",\n",
    "    \"variant\" : \"Filosofia - Metodologia\"\n",
    "}"
   ]
  },
  {
   "cell_type": "code",
   "execution_count": 26,
   "metadata": {},
   "outputs": [],
   "source": [
    "def CreateSubject(objParser):\n",
    "\n",
    "    MADSRDF = Namespace(\"http://www.loc.gov/mads/rdf/v1#\")\n",
    "\n",
    "    token = objParser.get(\"tokenLSCH\")\n",
    "    authority = objParser.get(\"authority\")\n",
    "    authorityLit = Literal(authority, lang='pt')\n",
    "       \n",
    "\n",
    "    \n",
    "    g = Graph()\n",
    "    g.bind(\"madsrdf\", MADSRDF)\n",
    "    g.bind(\"rdf\", RDF)\n",
    "\n",
    "    subject = URIRef(f\"https://id.loc.gov/authorities/subjects/{token}\")\n",
    "    g.add((subject, RDF.type, MADSRDF.Authority))\n",
    "    g.add((subject, RDF.type, MADSRDF.Topic))\n",
    "    g.add((subject, MADSRDF.authoritativeLabel, authorityLit))\n",
    "\n",
    "    variantBN = BNode()\n",
    "    g.add((subject, MADSRDF.hasVariant, variantBN))\n",
    "    g.add((variantBN, RDF.type, MADSRDF.ComplexSubject))\n",
    "    g.add((variantBN, RDF.type, MADSRDF.Variant))\n",
    "    g.add((variantBN, MADSRDF.variantLabel, Literal(\"Philosophy--Methodology\", lang='pt')))\n",
    "\n",
    "    componentListBN = BNode()\n",
    "    g.add((variantBN, MADSRDF.componentList, componentListBN))\n",
    "    variantBN1 = BNode()\n",
    "    g.add((componentListBN, RDF.first, variantBN1))\n",
    "    g.add((variantBN1, RDF.type, MADSRDF.Topic))\n",
    "    g.add((variantBN1, RDF.type, MADSRDF.Variant))\n",
    "    g.add((variantBN1, MADSRDF.variantLabel, Literal(\"Philosophy\", lang='pt')))\n",
    "    firstBN = BNode()\n",
    "    g.add((componentListBN, RDF.rest, firstBN))\n",
    "\n",
    "    variantBN2 = BNode()\n",
    "    g.add((firstBN, RDF.first, variantBN2))\n",
    "    g.add((variantBN2, RDF.type, MADSRDF.Topic))\n",
    "    g.add((variantBN2, RDF.type, MADSRDF.Variant))\n",
    "    g.add((variantBN2, MADSRDF.variantLabel, Literal(\"Methodology\", lang='pt')))\n",
    "    \n",
    "    g.add((firstBN, RDF.rest, RDF.nil))\n",
    "    # g.add((componentListBN, RDF.first, firstBN))\n",
    "    # g.add((firstBN, RDF.type, MADSRDF.Topic))\n",
    "    # g.add((firstBN, RDF.type, MADSRDF.Variant))\n",
    "    # g.add((firstBN, MADSRDF.variantLabel, Literal(\"Philosophy\", lang='pt')))\n",
    "    # restBN = BNode()\n",
    "    # g.add((firstBN, RDF.rest, restBN))\n",
    "    # g.add((restBN, RDF.type, MADSRDF.Topic))\n",
    "    # g.add((restBN, RDF.type, MADSRDF.Variant))\n",
    "    # g.add((restBN, MADSRDF.variantLabel, Literal(\"Methodology\", lang='pt')))\n",
    "    # g.add((firstBN, RDF.rest, RDF.nil))\n",
    "\n",
    "\n",
    "    g.serialize('TESTE.nt')\n",
    "\n",
    "CreateSubject(objParser)\n",
    "\n"
   ]
  }
 ],
 "metadata": {
  "kernelspec": {
   "display_name": "Python 3.10.4 ('venv': venv)",
   "language": "python",
   "name": "python3"
  },
  "language_info": {
   "codemirror_mode": {
    "name": "ipython",
    "version": 3
   },
   "file_extension": ".py",
   "mimetype": "text/x-python",
   "name": "python",
   "nbconvert_exporter": "python",
   "pygments_lexer": "ipython3",
   "version": "3.10.4"
  },
  "orig_nbformat": 4,
  "vscode": {
   "interpreter": {
    "hash": "7c803f0ee3b2b2cd03f94fb28d6f360d094e6843888122798203f226e128b66e"
   }
  }
 },
 "nbformat": 4,
 "nbformat_minor": 2
}
