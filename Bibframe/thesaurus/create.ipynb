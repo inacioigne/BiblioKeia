{
 "cells": [
  {
   "cell_type": "code",
   "execution_count": 15,
   "metadata": {},
   "outputs": [],
   "source": [
    "from rdflib import Graph, URIRef, BNode, Literal, Namespace\n",
    "from rdflib.namespace import RDF, RDFS"
   ]
  },
  {
   "cell_type": "code",
   "execution_count": 5,
   "metadata": {},
   "outputs": [],
   "source": [
    "from pyfuseki import FusekiQuery, FusekiUpdate"
   ]
  },
  {
   "cell_type": "code",
   "execution_count": 6,
   "metadata": {},
   "outputs": [],
   "source": [
    "fuseki_update = FusekiUpdate('http://localhost:3030', 'thesaurus')"
   ]
  },
  {
   "cell_type": "code",
   "execution_count": null,
   "metadata": {},
   "outputs": [],
   "source": []
  },
  {
   "cell_type": "code",
   "execution_count": 10,
   "metadata": {},
   "outputs": [],
   "source": [
    "#DELETE\n",
    "sparql_str = \"\"\"DROP DEFAULT\"\"\"\n",
    "\n",
    "update_result = fuseki_update.run_sparql(sparql_str)"
   ]
  },
  {
   "cell_type": "code",
   "execution_count": 12,
   "metadata": {},
   "outputs": [],
   "source": [
    "objParser = {\n",
    "    \"authority\": \"Metodologia\",\n",
    "    \"tokenLSCH\": \"sh85084414\",\n",
    "    \"variant\" : \"Filosofia - Metodologia\",\n",
    "    \"reciprocalAuthority\": {\"value\": \"Pesquisar\", \"uri\": \"http://id.loc.gov/authorities/subjects/sh85113021\" },\n",
    "    \"narrowerAuthority\" : [\n",
    "        {\"value\": \"Genealogia (Filosofia)\", \"uri\": \"http://id.loc.gov/authorities/subjects/sh94000124\"},\n",
    "        {\"value\": \"Experiências mentais\", \"uri\": \"http://id.loc.gov/authorities/subjects/sh85050813\"},\n",
    "        {\"value\": \"Performativo (Filosofia)\", \"uri\": \"http://id.loc.gov/authorities/subjects/sh85099817\"},\n",
    "        {\"value\": \"Formalização (Filosofia)\", \"uri\": \"http://id.loc.gov/authorities/subjects/sh00002301\"},\n",
    "        {\"value\": \"Abordagem interdisciplinar do conhecimento\", \"uri\": \"http://id.loc.gov/authorities/subjects/sh85067232\"},\n",
    "        {\"value\": \"Análise (Filosofia)\", \"uri\": \"http://id.loc.gov/authorities/subjects/sh85004780\"}, \n",
    "        {\"value\": \"Método longitudinal\", \"uri\": \"http://id.loc.gov/authorities/subjects/sh85026813\"},\n",
    "        {\"value\": \"Classificação das ciências\", \"uri\": \"http://id.loc.gov/authorities/subjects/sh85078296\"},\n",
    "        {\"value\": \"Heurística\", \"uri\": \"http://id.loc.gov/authorities/subjects/sh85060556\"}, \n",
    "        {\"value\": \"Solução de problemas\", \"uri\": \"http://id.loc.gov/authorities/subjects/sh85107109\"}\n",
    "    ]\n",
    "}"
   ]
  },
  {
   "cell_type": "code",
   "execution_count": null,
   "metadata": {},
   "outputs": [],
   "source": [
    "for i in objParser.get(\"narrowerAuthority\"):\n",
    "    uri = URIRef(i.get('uri'))\n",
    "    print(i.get('uri'))"
   ]
  },
  {
   "cell_type": "code",
   "execution_count": 13,
   "metadata": {},
   "outputs": [],
   "source": [
    "def HasNarrowerAuthority(g, subject, MADSRDF):\n",
    "    for i in objParser.get(\"narrowerAuthority\"):\n",
    "        uri = URIRef(i.get('uri'))\n",
    "        value = Literal(i.get('value'), lang='pt')\n",
    "        g.add((subject, MADSRDF.hasNarrowerAuthority, uri))\n",
    "\n",
    "        g.add((uri, RDF.type, MADSRDF.Authority))\n",
    "        g.add((uri, MADSRDF.authoritativeLabel, value))\n",
    "    return g\n"
   ]
  },
  {
   "cell_type": "code",
   "execution_count": 16,
   "metadata": {},
   "outputs": [],
   "source": [
    "def CreateSubject(objParser):\n",
    "\n",
    "    MADSRDF = Namespace(\"http://www.loc.gov/mads/rdf/v1#\")\n",
    "\n",
    "    token = objParser.get(\"tokenLSCH\")\n",
    "    authority = objParser.get(\"authority\")\n",
    "    authorityLit = Literal(authority, lang='pt')\n",
    "    variantlabel = objParser.get(\"variant\")\n",
    "    reciprocalAuthorityUri = URIRef(objParser.get('reciprocalAuthority').get('uri'))\n",
    "    reciprocalAuthority = Literal(objParser.get('reciprocalAuthority').get('value'), lang='pt')\n",
    "\n",
    "    g = Graph()\n",
    "    g.bind(\"madsrdf\", MADSRDF)\n",
    "    g.bind(\"rdf\", RDF)\n",
    "\n",
    "    #authoritativeLabel\n",
    "    subject = URIRef(f\"https://bibliokeia.com/authorities/subjects/{token}\")\n",
    "    g.add((subject, RDF.type, MADSRDF.Authority))\n",
    "    g.add((subject, RDF.type, MADSRDF.Topic))\n",
    "    g.add((subject, MADSRDF.authoritativeLabel, authorityLit))\n",
    "    elementListAuthority = BNode()\n",
    "    g.add((subject, MADSRDF.elementList, elementListAuthority))\n",
    "    elementAuthority = BNode()\n",
    "    g.add((elementListAuthority, RDF.first, elementAuthority))\n",
    "    g.add((elementAuthority, RDF.type, MADSRDF.TopicElement))\n",
    "    g.add((elementAuthority, MADSRDF.elementValue, authorityLit))\n",
    "    g.add((elementListAuthority, RDF.rest, RDF.nil))\n",
    "\n",
    "    #variant\n",
    "    variantBN = BNode()\n",
    "    g.add((subject, MADSRDF.hasVariant, variantBN))\n",
    "    g.add((variantBN, RDF.type, MADSRDF.ComplexSubject))\n",
    "    g.add((variantBN, RDF.type, MADSRDF.Variant))\n",
    "    g.add((variantBN, MADSRDF.variantLabel, Literal(variantlabel, lang='pt')))\n",
    "\n",
    "    componentListBN = BNode()\n",
    "    g.add((variantBN, MADSRDF.componentList, componentListBN))\n",
    "    variantBN1 = BNode()\n",
    "    g.add((componentListBN, RDF.first, variantBN1))\n",
    "    g.add((variantBN1, RDF.type, MADSRDF.Topic))\n",
    "    g.add((variantBN1, RDF.type, MADSRDF.Variant))\n",
    "    #elementList\n",
    "    elementListBN1 = BNode()\n",
    "    g.add((variantBN1, MADSRDF.elementList, elementListBN1))\n",
    "    elementBN1 = BNode()\n",
    "    g.add((elementListBN1, RDF.first, elementBN1))\n",
    "    g.add((elementBN1, RDF.type, MADSRDF.TopicElement))\n",
    "    g.add((elementBN1, MADSRDF.elementValue, Literal(\"Filosofia\", lang='pt')))\n",
    "    g.add((elementListBN1, RDF.rest, RDF.nil))\n",
    "    g.add((variantBN1, MADSRDF.variantLabel, Literal(\"Filosofia\", lang='pt')))\n",
    "    firstBN = BNode()\n",
    "    g.add((componentListBN, RDF.rest, firstBN))\n",
    "\n",
    "    variantBN2 = BNode()\n",
    "    g.add((firstBN, RDF.first, variantBN2))\n",
    "    g.add((variantBN2, RDF.type, MADSRDF.Topic))\n",
    "    g.add((variantBN2, RDF.type, MADSRDF.Variant))\n",
    "\n",
    "    #elementList\n",
    "    elementListBN2 = BNode()\n",
    "    g.add((variantBN2, MADSRDF.elementList, elementListBN2))\n",
    "    elementBN2 = BNode()\n",
    "    g.add((elementListBN2, RDF.first, elementBN2))\n",
    "    g.add((elementBN2, RDF.type, MADSRDF.TopicElement))\n",
    "    g.add((elementBN2, MADSRDF.elementValue, Literal(\"Metodologia\", lang='pt')))\n",
    "    g.add((elementListBN2, RDF.rest, RDF.nil))\n",
    "    g.add((variantBN2, MADSRDF.variantLabel, Literal(\"Metodologia\", lang='pt')))\n",
    "    g.add((firstBN, RDF.rest, RDF.nil))\n",
    "\n",
    "    #hasReciprocalAuthority\n",
    "    g.add((subject, MADSRDF.hasReciprocalAuthority, reciprocalAuthorityUri))\n",
    "    g.add((reciprocalAuthorityUri, RDF.type, MADSRDF.Authority))\n",
    "    g.add((reciprocalAuthorityUri, MADSRDF.authoritativeLabel, reciprocalAuthority))\n",
    "\n",
    "    #hasNarrowerAuthority\n",
    "    g = HasNarrowerAuthority(g, subject, MADSRDF)\n",
    "\n",
    "    #g.serialize('TESTE.nt')\n",
    "    return g\n",
    "\n",
    "g = CreateSubject(objParser)\n",
    "\n"
   ]
  },
  {
   "cell_type": "code",
   "execution_count": 21,
   "metadata": {},
   "outputs": [],
   "source": [
    "def Make_Graph(nt, token ):\n",
    "    G1 = \"\"\"PREFIX bk: <https://bibliokeia.com/authorities/subjects/>\n",
    "    PREFIX bf: <http://id.loc.gov/ontologies/bibframe/> \n",
    "    PREFIX rdf: <http://www.w3.org/1999/02/22-rdf-syntax-ns#>\n",
    "    PREFIX bflc: <http://id.loc.gov/ontologies/bflc/>\n",
    "    PREFIX madsrdf: <http://www.loc.gov/mads/rdf/v1#>\n",
    "    PREFIX rdfs: <http://www.w3.org/2000/01/rdf-schema#> \n",
    "    PREFIX xsd: <http://www.w3.org/2001/XMLSchema#>\n",
    "\n",
    "    INSERT DATA {\n",
    "        GRAPH bk:\"\"\"\n",
    "\n",
    "    G2 = \" {\"\n",
    "\n",
    "    G3 = \"\"\"}\n",
    "    }\"\"\"\n",
    "\n",
    "    G = G1+str(token)+\" { \\n\"+nt+\"}}\"\n",
    "\n",
    "    return G"
   ]
  },
  {
   "cell_type": "code",
   "execution_count": 19,
   "metadata": {},
   "outputs": [],
   "source": [
    "nt = g.serialize(format='nt')"
   ]
  },
  {
   "cell_type": "code",
   "execution_count": 22,
   "metadata": {},
   "outputs": [],
   "source": [
    "G = Make_Graph(nt, \"sh85084414\")"
   ]
  },
  {
   "cell_type": "code",
   "execution_count": 25,
   "metadata": {},
   "outputs": [],
   "source": [
    "r = fuseki_update.run_sparql(G)"
   ]
  },
  {
   "cell_type": "code",
   "execution_count": 35,
   "metadata": {},
   "outputs": [
    {
     "ename": "TypeError",
     "evalue": "Cannot instantiate typing.Union",
     "output_type": "error",
     "traceback": [
      "\u001b[1;31m---------------------------------------------------------------------------\u001b[0m",
      "\u001b[1;31mTypeError\u001b[0m                                 Traceback (most recent call last)",
      "\u001b[1;32mc:\\Users\\Usuário\\Desktop\\BiblioKeia\\Bibframe\\thesaurus\\create.ipynb Célula: 14\u001b[0m in \u001b[0;36m<cell line: 1>\u001b[1;34m()\u001b[0m\n\u001b[1;32m----> <a href='vscode-notebook-cell:/c%3A/Users/Usu%C3%A1rio/Desktop/BiblioKeia/Bibframe/thesaurus/create.ipynb#X16sZmlsZQ%3D%3D?line=0'>1</a>\u001b[0m r\u001b[39m.\u001b[39;49mConvertResult()\n",
      "File \u001b[1;32m~\\AppData\\Local\\Programs\\Python\\Python310\\lib\\typing.py:957\u001b[0m, in \u001b[0;36m_BaseGenericAlias.__call__\u001b[1;34m(self, *args, **kwargs)\u001b[0m\n\u001b[0;32m    954\u001b[0m \u001b[39mif\u001b[39;00m \u001b[39mnot\u001b[39;00m \u001b[39mself\u001b[39m\u001b[39m.\u001b[39m_inst:\n\u001b[0;32m    955\u001b[0m     \u001b[39mraise\u001b[39;00m \u001b[39mTypeError\u001b[39;00m(\u001b[39mf\u001b[39m\u001b[39m\"\u001b[39m\u001b[39mType \u001b[39m\u001b[39m{\u001b[39;00m\u001b[39mself\u001b[39m\u001b[39m.\u001b[39m_name\u001b[39m}\u001b[39;00m\u001b[39m cannot be instantiated; \u001b[39m\u001b[39m\"\u001b[39m\n\u001b[0;32m    956\u001b[0m                     \u001b[39mf\u001b[39m\u001b[39m\"\u001b[39m\u001b[39muse \u001b[39m\u001b[39m{\u001b[39;00m\u001b[39mself\u001b[39m\u001b[39m.\u001b[39m__origin__\u001b[39m.\u001b[39m\u001b[39m__name__\u001b[39m\u001b[39m}\u001b[39;00m\u001b[39m() instead\u001b[39m\u001b[39m\"\u001b[39m)\n\u001b[1;32m--> 957\u001b[0m result \u001b[39m=\u001b[39m \u001b[39mself\u001b[39m\u001b[39m.\u001b[39m__origin__(\u001b[39m*\u001b[39margs, \u001b[39m*\u001b[39m\u001b[39m*\u001b[39mkwargs)\n\u001b[0;32m    958\u001b[0m \u001b[39mtry\u001b[39;00m:\n\u001b[0;32m    959\u001b[0m     result\u001b[39m.\u001b[39m__orig_class__ \u001b[39m=\u001b[39m \u001b[39mself\u001b[39m\n",
      "File \u001b[1;32m~\\AppData\\Local\\Programs\\Python\\Python310\\lib\\typing.py:387\u001b[0m, in \u001b[0;36m_SpecialForm.__call__\u001b[1;34m(self, *args, **kwds)\u001b[0m\n\u001b[0;32m    386\u001b[0m \u001b[39mdef\u001b[39;00m \u001b[39m__call__\u001b[39m(\u001b[39mself\u001b[39m, \u001b[39m*\u001b[39margs, \u001b[39m*\u001b[39m\u001b[39m*\u001b[39mkwds):\n\u001b[1;32m--> 387\u001b[0m     \u001b[39mraise\u001b[39;00m \u001b[39mTypeError\u001b[39;00m(\u001b[39mf\u001b[39m\u001b[39m\"\u001b[39m\u001b[39mCannot instantiate \u001b[39m\u001b[39m{\u001b[39;00m\u001b[39mself\u001b[39m\u001b[39m!r}\u001b[39;00m\u001b[39m\"\u001b[39m)\n",
      "\u001b[1;31mTypeError\u001b[0m: Cannot instantiate typing.Union"
     ]
    }
   ],
   "source": []
  }
 ],
 "metadata": {
  "kernelspec": {
   "display_name": "Python 3.10.4 ('venv': venv)",
   "language": "python",
   "name": "python3"
  },
  "language_info": {
   "codemirror_mode": {
    "name": "ipython",
    "version": 3
   },
   "file_extension": ".py",
   "mimetype": "text/x-python",
   "name": "python",
   "nbconvert_exporter": "python",
   "pygments_lexer": "ipython3",
   "version": "3.10.4"
  },
  "orig_nbformat": 4,
  "vscode": {
   "interpreter": {
    "hash": "7c803f0ee3b2b2cd03f94fb28d6f360d094e6843888122798203f226e128b66e"
   }
  }
 },
 "nbformat": 4,
 "nbformat_minor": 2
}
