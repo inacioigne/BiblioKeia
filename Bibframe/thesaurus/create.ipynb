{
 "cells": [
  {
   "cell_type": "code",
   "execution_count": 3,
   "metadata": {},
   "outputs": [],
   "source": [
    "from rdflib import Graph, URIRef, BNode, Literal, Namespace\n",
    "from rdflib.namespace import RDF, RDFS"
   ]
  },
  {
   "cell_type": "code",
   "execution_count": 20,
   "metadata": {},
   "outputs": [],
   "source": [
    "objParser = {\n",
    "    \"authority\": \"Metodologia\",\n",
    "    \"tokenLSCH\": \"sh85084414\",\n",
    "    \"variant\" : \"Filosofia - Metodologia\",\n",
    "    \"reciprocalAuthority\": {\"value\": 'Pesquisar', \"uri\": \"http://id.loc.gov/authorities/subjects/sh85113021\" },\n",
    "    \"narrowerAuthority\" : [\n",
    "        {\"value\": 'Genealogia (Filosofia)', \"uri\": 'http://id.loc.gov/authorities/subjects/sh94000124'},\n",
    "        {\"value\": 'Experiências mentais', \"uri\": 'http://id.loc.gov/authorities/subjects/sh85050813'},\n",
    "        {\"value\": 'Performativo (Filosofia)', \"uri\": 'http://id.loc.gov/authorities/subjects/sh85099817'},\n",
    "        {\"value\": 'Formalização (Filosofia)', \"uri\": 'http://id.loc.gov/authorities/subjects/sh00002301'},\n",
    "        {\"value\": 'Abordagem interdisciplinar do conhecimento', \"uri\": 'http://id.loc.gov/authorities/subjects/sh85067232'},\n",
    "        {\"value\": 'Análise (Filosofia)', \"uri\": 'http://id.loc.gov/authorities/subjects/sh85004780'}, \n",
    "        {\"value\": 'Método longitudinal', \"uri\": 'http://id.loc.gov/authorities/subjects/sh85026813'},\n",
    "        {\"value\": 'Classificação das ciências', \"uri\": 'http://id.loc.gov/authorities/subjects/sh85078296'},\n",
    "        {\"value\": 'Heurística', \"uri\": 'http://id.loc.gov/authorities/subjects/sh85060556'}, \n",
    "        {\"value\": 'Solução de problemas', \"uri\": 'http://id.loc.gov/authorities/subjects/sh85107109'}\n",
    "    ]\n",
    "}"
   ]
  },
  {
   "cell_type": "code",
   "execution_count": 23,
   "metadata": {},
   "outputs": [
    {
     "name": "stdout",
     "output_type": "stream",
     "text": [
      "http://id.loc.gov/authorities/subjects/sh94000124\n",
      "http://id.loc.gov/authorities/subjects/sh85050813\n",
      "http://id.loc.gov/authorities/subjects/sh85099817\n",
      "http://id.loc.gov/authorities/subjects/sh00002301\n",
      "http://id.loc.gov/authorities/subjects/sh85067232\n",
      "http://id.loc.gov/authorities/subjects/sh85004780\n",
      "http://id.loc.gov/authorities/subjects/sh85026813\n",
      "http://id.loc.gov/authorities/subjects/sh85078296\n",
      "http://id.loc.gov/authorities/subjects/sh85060556\n",
      "http://id.loc.gov/authorities/subjects/sh85107109\n"
     ]
    }
   ],
   "source": [
    "for i in objParser.get(\"narrowerAuthority\"):\n",
    "    uri = URIRef(i.get('uri'))\n",
    "    print(i.get('uri'))"
   ]
  },
  {
   "cell_type": "code",
   "execution_count": 28,
   "metadata": {},
   "outputs": [],
   "source": [
    "def HasNarrowerAuthority(g, subject, MADSRDF):\n",
    "    for i in objParser.get(\"narrowerAuthority\"):\n",
    "        uri = URIRef(i.get('uri'))\n",
    "        value = Literal(i.get('value'), lang='pt')\n",
    "        g.add((subject, MADSRDF.hasNarrowerAuthority, uri))\n",
    "\n",
    "        g.add((uri, RDF.type, MADSRDF.Authority))\n",
    "        g.add((uri, MADSRDF.authoritativeLabel, value))\n",
    "    return g\n"
   ]
  },
  {
   "cell_type": "code",
   "execution_count": 29,
   "metadata": {},
   "outputs": [],
   "source": [
    "def CreateSubject(objParser):\n",
    "\n",
    "    MADSRDF = Namespace(\"http://www.loc.gov/mads/rdf/v1#\")\n",
    "\n",
    "    token = objParser.get(\"tokenLSCH\")\n",
    "    authority = objParser.get(\"authority\")\n",
    "    authorityLit = Literal(authority, lang='pt')\n",
    "    variantlabel = objParser.get(\"variant\")\n",
    "    reciprocalAuthorityUri = URIRef(objParser.get('reciprocalAuthority').get('uri'))\n",
    "    reciprocalAuthority = Literal(objParser.get('reciprocalAuthority').get('value'), lang='pt')\n",
    "\n",
    "    g = Graph()\n",
    "    g.bind(\"madsrdf\", MADSRDF)\n",
    "    g.bind(\"rdf\", RDF)\n",
    "\n",
    "    #authoritativeLabel\n",
    "    subject = URIRef(f\"https://id.loc.gov/authorities/subjects/{token}\")\n",
    "    g.add((subject, RDF.type, MADSRDF.Authority))\n",
    "    g.add((subject, RDF.type, MADSRDF.Topic))\n",
    "    g.add((subject, MADSRDF.authoritativeLabel, authorityLit))\n",
    "    elementListAuthority = BNode()\n",
    "    g.add((subject, MADSRDF.elementList, elementListAuthority))\n",
    "    elementAuthority = BNode()\n",
    "    g.add((elementListAuthority, RDF.first, elementAuthority))\n",
    "    g.add((elementAuthority, RDF.type, MADSRDF.TopicElement))\n",
    "    g.add((elementAuthority, MADSRDF.elementValue, authorityLit))\n",
    "    g.add((elementListAuthority, RDF.rest, RDF.nil))\n",
    "\n",
    "    #variant\n",
    "    variantBN = BNode()\n",
    "    g.add((subject, MADSRDF.hasVariant, variantBN))\n",
    "    g.add((variantBN, RDF.type, MADSRDF.ComplexSubject))\n",
    "    g.add((variantBN, RDF.type, MADSRDF.Variant))\n",
    "    g.add((variantBN, MADSRDF.variantLabel, Literal(variantlabel, lang='pt')))\n",
    "\n",
    "    componentListBN = BNode()\n",
    "    g.add((variantBN, MADSRDF.componentList, componentListBN))\n",
    "    variantBN1 = BNode()\n",
    "    g.add((componentListBN, RDF.first, variantBN1))\n",
    "    g.add((variantBN1, RDF.type, MADSRDF.Topic))\n",
    "    g.add((variantBN1, RDF.type, MADSRDF.Variant))\n",
    "    #elementList\n",
    "    elementListBN1 = BNode()\n",
    "    g.add((variantBN1, MADSRDF.elementList, elementListBN1))\n",
    "    elementBN1 = BNode()\n",
    "    g.add((elementListBN1, RDF.first, elementBN1))\n",
    "    g.add((elementBN1, RDF.type, MADSRDF.TopicElement))\n",
    "    g.add((elementBN1, MADSRDF.elementValue, Literal(\"Filosofia\", lang='pt')))\n",
    "    g.add((elementListBN1, RDF.rest, RDF.nil))\n",
    "    g.add((variantBN1, MADSRDF.variantLabel, Literal(\"Filosofia\", lang='pt')))\n",
    "    firstBN = BNode()\n",
    "    g.add((componentListBN, RDF.rest, firstBN))\n",
    "\n",
    "    variantBN2 = BNode()\n",
    "    g.add((firstBN, RDF.first, variantBN2))\n",
    "    g.add((variantBN2, RDF.type, MADSRDF.Topic))\n",
    "    g.add((variantBN2, RDF.type, MADSRDF.Variant))\n",
    "\n",
    "    #elementList\n",
    "    elementListBN2 = BNode()\n",
    "    g.add((variantBN2, MADSRDF.elementList, elementListBN2))\n",
    "    elementBN2 = BNode()\n",
    "    g.add((elementListBN2, RDF.first, elementBN2))\n",
    "    g.add((elementBN2, RDF.type, MADSRDF.TopicElement))\n",
    "    g.add((elementBN2, MADSRDF.elementValue, Literal(\"Metodologia\", lang='pt')))\n",
    "    g.add((elementListBN2, RDF.rest, RDF.nil))\n",
    "    g.add((variantBN2, MADSRDF.variantLabel, Literal(\"Metodologia\", lang='pt')))\n",
    "    g.add((firstBN, RDF.rest, RDF.nil))\n",
    "\n",
    "    #hasReciprocalAuthority\n",
    "    g.add((subject, MADSRDF.hasReciprocalAuthority, reciprocalAuthorityUri))\n",
    "    g.add((reciprocalAuthorityUri, RDF.type, MADSRDF.Authority))\n",
    "    g.add((reciprocalAuthorityUri, MADSRDF.authoritativeLabel, reciprocalAuthority))\n",
    "\n",
    "    #hasNarrowerAuthority\n",
    "    g = HasNarrowerAuthority(g, subject, MADSRDF)\n",
    "\n",
    "    g.serialize('TESTE.nt')\n",
    "\n",
    "CreateSubject(objParser)\n",
    "\n"
   ]
  },
  {
   "cell_type": "code",
   "execution_count": null,
   "metadata": {},
   "outputs": [],
   "source": []
  }
 ],
 "metadata": {
  "kernelspec": {
   "display_name": "Python 3.10.4 ('venv': venv)",
   "language": "python",
   "name": "python3"
  },
  "language_info": {
   "codemirror_mode": {
    "name": "ipython",
    "version": 3
   },
   "file_extension": ".py",
   "mimetype": "text/x-python",
   "name": "python",
   "nbconvert_exporter": "python",
   "pygments_lexer": "ipython3",
   "version": "3.10.4"
  },
  "orig_nbformat": 4,
  "vscode": {
   "interpreter": {
    "hash": "7c803f0ee3b2b2cd03f94fb28d6f360d094e6843888122798203f226e128b66e"
   }
  }
 },
 "nbformat": 4,
 "nbformat_minor": 2
}
