{
 "cells": [
  {
   "cell_type": "code",
   "execution_count": 1,
   "metadata": {},
   "outputs": [],
   "source": [
    "import httpx"
   ]
  },
  {
   "cell_type": "code",
   "execution_count": 9,
   "metadata": {},
   "outputs": [
    {
     "data": {
      "text/plain": [
       "<Response [200 OK]>"
      ]
     },
     "execution_count": 9,
     "metadata": {},
     "output_type": "execute_result"
    }
   ],
   "source": [
    "jobs = httpx.get('https://id.loc.gov/authorities/names/suggest2/?q=jobs&count=4')\n",
    "jobs"
   ]
  },
  {
   "cell_type": "code",
   "execution_count": 10,
   "metadata": {},
   "outputs": [
    {
     "data": {
      "text/plain": [
       "dict_keys(['q', 'count', 'pagesize', 'start', 'sortmethod', 'searchtype', 'directory', 'hits'])"
      ]
     },
     "execution_count": 10,
     "metadata": {},
     "output_type": "execute_result"
    }
   ],
   "source": [
    "jobs = jobs.json()\n",
    "jobs.keys()"
   ]
  },
  {
   "cell_type": "code",
   "execution_count": 15,
   "metadata": {},
   "outputs": [
    {
     "data": {
      "text/plain": [
       "'/authorities/names/'"
      ]
     },
     "execution_count": 15,
     "metadata": {},
     "output_type": "execute_result"
    }
   ],
   "source": [
    "jobs['directory']"
   ]
  },
  {
   "cell_type": "code",
   "execution_count": 16,
   "metadata": {},
   "outputs": [
    {
     "data": {
      "text/plain": [
       "[{'suggestLabel': 'Jobs (Milet Publishing)',\n",
       "  'uri': 'http://id.loc.gov/authorities/names/no2018055386',\n",
       "  'aLabel': 'Jobs (Milet Publishing)',\n",
       "  'vLabel': '',\n",
       "  'code': '',\n",
       "  'rank': ''},\n",
       " {'suggestLabel': 'Jobs (Milet Publishing). Italian',\n",
       "  'uri': 'http://id.loc.gov/authorities/names/no2018055335',\n",
       "  'aLabel': 'Jobs (Milet Publishing). Italian',\n",
       "  'vLabel': '',\n",
       "  'code': '',\n",
       "  'rank': ''},\n",
       " {'suggestLabel': 'Jobs (Ohio)',\n",
       "  'uri': 'http://id.loc.gov/authorities/names/no94013861',\n",
       "  'aLabel': 'Jobs (Ohio)',\n",
       "  'vLabel': '',\n",
       "  'code': '',\n",
       "  'rank': ''},\n",
       " {'suggestLabel': 'Jobs and Education for Texans Advisory Board',\n",
       "  'uri': 'http://id.loc.gov/authorities/names/no2017038821',\n",
       "  'aLabel': 'Jobs and Education for Texans Advisory Board',\n",
       "  'vLabel': '',\n",
       "  'code': '',\n",
       "  'rank': ''}]"
      ]
     },
     "execution_count": 16,
     "metadata": {},
     "output_type": "execute_result"
    }
   ],
   "source": [
    "jobs['hits']"
   ]
  },
  {
   "cell_type": "code",
   "execution_count": 24,
   "metadata": {},
   "outputs": [
    {
     "data": {
      "text/plain": [
       "<Response [200 OK]>"
      ]
     },
     "execution_count": 24,
     "metadata": {},
     "output_type": "execute_result"
    }
   ],
   "source": [
    "url = 'https://id.loc.gov/authorities/subjects/suggest2/?q=Methodology&count=4&rdftype=SimpleType'\n",
    "jobs = httpx.get(url)\n",
    "jobs"
   ]
  },
  {
   "cell_type": "code",
   "execution_count": 25,
   "metadata": {},
   "outputs": [
    {
     "data": {
      "text/plain": [
       "[{'suggestLabel': 'Methodology',\n",
       "  'uri': 'http://id.loc.gov/authorities/subjects/sh99001902',\n",
       "  'aLabel': 'Methodology',\n",
       "  'vLabel': '',\n",
       "  'code': '',\n",
       "  'rank': ''},\n",
       " {'suggestLabel': 'Methodology',\n",
       "  'uri': 'http://id.loc.gov/authorities/subjects/sh85084414',\n",
       "  'aLabel': 'Methodology',\n",
       "  'vLabel': 'Philosophy--Methodology',\n",
       "  'code': '',\n",
       "  'rank': ''}]"
      ]
     },
     "execution_count": 25,
     "metadata": {},
     "output_type": "execute_result"
    }
   ],
   "source": [
    "jobs = jobs.json()\n",
    "jobs['hits']"
   ]
  },
  {
   "cell_type": "code",
   "execution_count": 22,
   "metadata": {},
   "outputs": [
    {
     "data": {
      "text/plain": [
       "{'suggestLabel': 'Jobs (USE Professions)',\n",
       " 'uri': 'http://id.loc.gov/authorities/subjects/sh85107267',\n",
       " 'aLabel': 'Professions',\n",
       " 'vLabel': 'Jobs',\n",
       " 'code': '',\n",
       " 'rank': ''}"
      ]
     },
     "execution_count": 22,
     "metadata": {},
     "output_type": "execute_result"
    }
   ],
   "source": [
    "jobs['hits'][0]"
   ]
  }
 ],
 "metadata": {
  "kernelspec": {
   "display_name": "Python 3.10.4 ('venv': venv)",
   "language": "python",
   "name": "python3"
  },
  "language_info": {
   "codemirror_mode": {
    "name": "ipython",
    "version": 3
   },
   "file_extension": ".py",
   "mimetype": "text/x-python",
   "name": "python",
   "nbconvert_exporter": "python",
   "pygments_lexer": "ipython3",
   "version": "3.10.4"
  },
  "orig_nbformat": 4,
  "vscode": {
   "interpreter": {
    "hash": "7c803f0ee3b2b2cd03f94fb28d6f360d094e6843888122798203f226e128b66e"
   }
  }
 },
 "nbformat": 4,
 "nbformat_minor": 2
}
