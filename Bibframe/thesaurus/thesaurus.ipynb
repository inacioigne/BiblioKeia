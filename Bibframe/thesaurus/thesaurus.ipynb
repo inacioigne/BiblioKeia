{
 "cells": [
  {
   "cell_type": "code",
   "execution_count": 1,
   "metadata": {},
   "outputs": [],
   "source": [
    "from rdflib import Graph, URIRef, BNode, Literal, Namespace\n",
    "from rdflib.namespace import RDF, RDFS"
   ]
  },
  {
   "cell_type": "markdown",
   "metadata": {},
   "source": [
    "Ler RDF"
   ]
  },
  {
   "cell_type": "code",
   "execution_count": 2,
   "metadata": {},
   "outputs": [
    {
     "data": {
      "text/plain": [
       "<Graph identifier=Nfd0fedac193c4190af5b9829a9fa66e1 (<class 'rdflib.graph.Graph'>)>"
      ]
     },
     "execution_count": 2,
     "metadata": {},
     "output_type": "execute_result"
    }
   ],
   "source": [
    "g = Graph()\n",
    "g.parse('http://id.loc.gov/authorities/subjects/sh85084414.madsrdf.rdf')\n",
    "g.serialize(destination=\"MADS.nt\")"
   ]
  },
  {
   "cell_type": "code",
   "execution_count": 91,
   "metadata": {},
   "outputs": [],
   "source": [
    "def LoadSubject(token):\n",
    "    g = Graph()\n",
    "    url = f'http://id.loc.gov/authorities/subjects/{token}.rdf'\n",
    "    g.parse(url)\n",
    "    #g.serialize('NT.nt')\n",
    "    #ParserSubject(g, token)\n",
    "    return g\n",
    "\n",
    "\n",
    "token = 'sh85084414'\n",
    "\n",
    "g = LoadSubject(token)\n"
   ]
  },
  {
   "cell_type": "code",
   "execution_count": 131,
   "metadata": {},
   "outputs": [
    {
     "data": {
      "text/plain": [
       "'Methodology'"
      ]
     },
     "execution_count": 131,
     "metadata": {},
     "output_type": "execute_result"
    }
   ],
   "source": [
    "def getAuthoritativeLabel(g, token):\n",
    "\n",
    "    q = \"SELECT ?o \" \\\n",
    "        \"WHERE { \" \\\n",
    "            f\"<http://id.loc.gov/authorities/subjects/{token}> madsrdf:authoritativeLabel ?o \"\\\n",
    "        \"}\"\n",
    "    \n",
    "    r = g.query(q)\n",
    "    for i in r:\n",
    "        return i\n",
    "        \n",
    "[authoritativeLabel] = getAuthoritativeLabel(g, token)\n",
    "authoritativeLabel.value"
   ]
  },
  {
   "cell_type": "code",
   "execution_count": 173,
   "metadata": {},
   "outputs": [
    {
     "name": "stdout",
     "output_type": "stream",
     "text": [
      "{'type': ['ComplexSubject', 'Variant'], 'variantLabel': 'Philosophy--Methodology'}\n"
     ]
    }
   ],
   "source": [
    "def HasVariant(g, token):\n",
    "    variant = {}\n",
    "    #Type\n",
    "    q = \"PREFIX  : <http://id.loc.gov/authorities/subjects/> \"\\\n",
    "        \"SELECT   ?type \"\\\n",
    "        \"WHERE { \" \\\n",
    "            f\":{token} madsrdf:hasVariant  ?o . \" \\\n",
    "                    \"?o rdf:type ?type } \"\n",
    "    r = g.query(q)\n",
    "    tipos = list()\n",
    "    for i in r:\n",
    "        tipo = i[0].split(\"#\")[1]\n",
    "        tipos.append(tipo)\n",
    "    variant['type'] = tipos\n",
    "    #ComplexSubject\n",
    "    q = \"PREFIX  : <http://id.loc.gov/authorities/subjects/> \"\\\n",
    "            \"SELECT   ?o1 \"\\\n",
    "            \"WHERE { \" \\\n",
    "                f\"  :{token} madsrdf:hasVariant  ?o . \"\\\n",
    "                        \"?o madsrdf:variantLabel ?o1 }\"\n",
    "    r = g.query(q)\n",
    "    for i in r:\n",
    "        variant['variantLabel'] = i[0].value\n",
    "    print(variant)\n",
    "HasVariant(g, token)"
   ]
  },
  {
   "cell_type": "code",
   "execution_count": null,
   "metadata": {},
   "outputs": [],
   "source": [
    "q = \"SELECT * \" \\\n",
    "        \"WHERE { \" \\\n",
    "            f\"<http://id.loc.gov/authorities/subjects/sh85084414> madsrdf:hasVariant ?o . \"\\\n",
    "                \"?o rdf:type madsrdf:ComplexSubject .\" \\\n",
    "                    \"?s ?p ?x \" \\\n",
    "        \"}\"\n",
    "\n",
    "r = g.query(q)\n",
    "for i in r:\n",
    "    print(i)"
   ]
  },
  {
   "cell_type": "markdown",
   "metadata": {},
   "source": [
    "Traduzir termo"
   ]
  },
  {
   "cell_type": "code",
   "execution_count": 76,
   "metadata": {},
   "outputs": [],
   "source": [
    "madsrdf = Namespace('http://www.loc.gov/mads/rdf/v1#')"
   ]
  },
  {
   "cell_type": "code",
   "execution_count": 77,
   "metadata": {},
   "outputs": [
    {
     "data": {
      "text/plain": [
       "<Graph identifier=Ndd82a46e16584c1190364e43b59717ad (<class 'rdflib.graph.Graph'>)>"
      ]
     },
     "execution_count": 77,
     "metadata": {},
     "output_type": "execute_result"
    }
   ],
   "source": [
    "g.set((\n",
    "    uri,\n",
    "    madsrdf['authoritativeLabel'], Literal('Metodologia', lang='pt')))"
   ]
  },
  {
   "cell_type": "code",
   "execution_count": 78,
   "metadata": {},
   "outputs": [
    {
     "data": {
      "text/plain": [
       "<Graph identifier=Ndd82a46e16584c1190364e43b59717ad (<class 'rdflib.graph.Graph'>)>"
      ]
     },
     "execution_count": 78,
     "metadata": {},
     "output_type": "execute_result"
    }
   ],
   "source": [
    "g.serialize(destination=\"NT.nt\")"
   ]
  },
  {
   "cell_type": "code",
   "execution_count": null,
   "metadata": {},
   "outputs": [],
   "source": [
    "for i in g.namespaces():\n",
    "    print(i)"
   ]
  },
  {
   "cell_type": "code",
   "execution_count": 22,
   "metadata": {},
   "outputs": [],
   "source": [
    "q = \"\"\"\n",
    "    SELECT *\n",
    "    WHERE {\n",
    "        <http://id.loc.gov/authorities/subjects/{sh85084414}> madsrdf:authoritativeLabel ?o\n",
    "    }\n",
    "    \"\"\""
   ]
  },
  {
   "cell_type": "code",
   "execution_count": 72,
   "metadata": {},
   "outputs": [
    {
     "name": "stdout",
     "output_type": "stream",
     "text": [
      "(rdflib.term.Literal('Metodologia', lang='pt'),)\n"
     ]
    }
   ],
   "source": [
    "r = g.query(q)\n",
    "for i in r:\n",
    "    print(i)"
   ]
  },
  {
   "cell_type": "code",
   "execution_count": 63,
   "metadata": {},
   "outputs": [
    {
     "data": {
      "text/plain": [
       "rdflib.term.BNode('Ndd82a46e16584c1190364e43b59717ad')"
      ]
     },
     "execution_count": 63,
     "metadata": {},
     "output_type": "execute_result"
    }
   ],
   "source": [
    "g.identifier"
   ]
  },
  {
   "cell_type": "code",
   "execution_count": 70,
   "metadata": {},
   "outputs": [
    {
     "data": {
      "text/plain": [
       "True"
      ]
     },
     "execution_count": 70,
     "metadata": {},
     "output_type": "execute_result"
    }
   ],
   "source": [
    "s == uri"
   ]
  },
  {
   "cell_type": "code",
   "execution_count": 68,
   "metadata": {},
   "outputs": [],
   "source": [
    "uri = URIRef('http://id.loc.gov/authorities/subjects/sh85084414')"
   ]
  }
 ],
 "metadata": {
  "kernelspec": {
   "display_name": "Python 3.10.4 ('venv': venv)",
   "language": "python",
   "name": "python3"
  },
  "language_info": {
   "codemirror_mode": {
    "name": "ipython",
    "version": 3
   },
   "file_extension": ".py",
   "mimetype": "text/x-python",
   "name": "python",
   "nbconvert_exporter": "python",
   "pygments_lexer": "ipython3",
   "version": "3.10.4"
  },
  "orig_nbformat": 4,
  "vscode": {
   "interpreter": {
    "hash": "7c803f0ee3b2b2cd03f94fb28d6f360d094e6843888122798203f226e128b66e"
   }
  }
 },
 "nbformat": 4,
 "nbformat_minor": 2
}
