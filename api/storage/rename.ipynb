{
 "cells": [
  {
   "cell_type": "code",
   "execution_count": 3,
   "metadata": {},
   "outputs": [],
   "source": [
    "from os import rename, listdir"
   ]
  },
  {
   "cell_type": "code",
   "execution_count": 8,
   "metadata": {},
   "outputs": [
    {
     "name": "stdout",
     "output_type": "stream",
     "text": [
      "P5/1.jpg 378\n",
      "P5/2.jpg 379\n",
      "P5/3.jpg 380\n",
      "P5/4.jpg 381\n",
      "P5/5.jpg 382\n",
      "P5/6.jpg 383\n",
      "P5/7.jpg 384\n",
      "P5/8.jpg 385\n",
      "P5/9.jpg 386\n",
      "P5/10.jpg 387\n",
      "P5/11.jpg 388\n",
      "P5/12.jpg 389\n",
      "P5/13.jpg 390\n",
      "P5/14.jpg 391\n",
      "P5/15.jpg 392\n",
      "P5/16.jpg 393\n",
      "P5/17.jpg 394\n",
      "P5/18.jpg 395\n",
      "P5/19.jpg 396\n",
      "P5/20.jpg 397\n",
      "P5/21.jpg 398\n",
      "P5/22.jpg 399\n",
      "P5/23.jpg 400\n",
      "P5/24.jpg 401\n",
      "P5/25.jpg 402\n",
      "P5/26.jpg 403\n",
      "P5/27.jpg 404\n",
      "P5/28.jpg 405\n",
      "P5/29.jpg 406\n"
     ]
    }
   ],
   "source": [
    "count = 378\n",
    "imgs = [f'P5/{i}.jpg' for i in range(1, 30)]\n",
    "for i in imgs:\n",
    "    rename(i, f'P5/{count}.jpg')\n",
    "    print(i, count)\n",
    "    count += 1"
   ]
  }
 ],
 "metadata": {
  "kernelspec": {
   "display_name": "Python 3.10.1 ('venv': venv)",
   "language": "python",
   "name": "python3"
  },
  "language_info": {
   "codemirror_mode": {
    "name": "ipython",
    "version": 3
   },
   "file_extension": ".py",
   "mimetype": "text/x-python",
   "name": "python",
   "nbconvert_exporter": "python",
   "pygments_lexer": "ipython3",
   "version": "3.10.1"
  },
  "orig_nbformat": 4,
  "vscode": {
   "interpreter": {
    "hash": "5df21a170a08fe7c24b5b1091267edae5bad3984f1116f28e957af7dd8f192dc"
   }
  }
 },
 "nbformat": 4,
 "nbformat_minor": 2
}
