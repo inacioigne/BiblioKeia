{
 "cells": [
  {
   "cell_type": "code",
   "execution_count": 1,
   "metadata": {},
   "outputs": [],
   "source": [
    "from os import rename, listdir"
   ]
  },
  {
   "cell_type": "code",
   "execution_count": 11,
   "metadata": {},
   "outputs": [
    {
     "name": "stdout",
     "output_type": "stream",
     "text": [
      "P5/1.jpg 567\n",
      "P5/2.jpg 568\n",
      "P5/3.jpg 569\n",
      "P5/4.jpg 570\n",
      "P5/5.jpg 571\n",
      "P5/6.jpg 572\n",
      "P5/7.jpg 573\n",
      "P5/8.jpg 574\n",
      "P5/9.jpg 575\n",
      "P5/10.jpg 576\n",
      "P5/11.jpg 577\n",
      "P5/12.jpg 578\n",
      "P5/13.jpg 579\n",
      "P5/14.jpg 580\n",
      "P5/15.jpg 581\n",
      "P5/16.jpg 582\n",
      "P5/17.jpg 583\n",
      "P5/18.jpg 584\n",
      "P5/19.jpg 585\n",
      "P5/20.jpg 586\n"
     ]
    },
    {
     "ename": "FileNotFoundError",
     "evalue": "[WinError 2] O sistema não pode encontrar o arquivo especificado: 'P5/21.jpg' -> 'P5/587.jpg'",
     "output_type": "error",
     "traceback": [
      "\u001b[1;31m---------------------------------------------------------------------------\u001b[0m",
      "\u001b[1;31mFileNotFoundError\u001b[0m                         Traceback (most recent call last)",
      "\u001b[1;32mc:\\Users\\Usuário\\Desktop\\BiblioKeia\\api\\storage\\E4\\E4\\rename.ipynb Célula: 2\u001b[0m in \u001b[0;36m<cell line: 3>\u001b[1;34m()\u001b[0m\n\u001b[0;32m      <a href='vscode-notebook-cell:/c%3A/Users/Usu%C3%A1rio/Desktop/BiblioKeia/api/storage/E4/E4/rename.ipynb#W1sZmlsZQ%3D%3D?line=1'>2</a>\u001b[0m imgs \u001b[39m=\u001b[39m [\u001b[39mf\u001b[39m\u001b[39m'\u001b[39m\u001b[39mP5/\u001b[39m\u001b[39m{\u001b[39;00mi\u001b[39m}\u001b[39;00m\u001b[39m.jpg\u001b[39m\u001b[39m'\u001b[39m \u001b[39mfor\u001b[39;00m i \u001b[39min\u001b[39;00m \u001b[39mrange\u001b[39m(\u001b[39m1\u001b[39m, \u001b[39m22\u001b[39m)]\n\u001b[0;32m      <a href='vscode-notebook-cell:/c%3A/Users/Usu%C3%A1rio/Desktop/BiblioKeia/api/storage/E4/E4/rename.ipynb#W1sZmlsZQ%3D%3D?line=2'>3</a>\u001b[0m \u001b[39mfor\u001b[39;00m i \u001b[39min\u001b[39;00m imgs:\n\u001b[1;32m----> <a href='vscode-notebook-cell:/c%3A/Users/Usu%C3%A1rio/Desktop/BiblioKeia/api/storage/E4/E4/rename.ipynb#W1sZmlsZQ%3D%3D?line=3'>4</a>\u001b[0m     rename(i, \u001b[39mf\u001b[39;49m\u001b[39m'\u001b[39;49m\u001b[39mP5/\u001b[39;49m\u001b[39m{\u001b[39;49;00mcount\u001b[39m}\u001b[39;49;00m\u001b[39m.jpg\u001b[39;49m\u001b[39m'\u001b[39;49m)\n\u001b[0;32m      <a href='vscode-notebook-cell:/c%3A/Users/Usu%C3%A1rio/Desktop/BiblioKeia/api/storage/E4/E4/rename.ipynb#W1sZmlsZQ%3D%3D?line=4'>5</a>\u001b[0m     \u001b[39mprint\u001b[39m(i, count)\n\u001b[0;32m      <a href='vscode-notebook-cell:/c%3A/Users/Usu%C3%A1rio/Desktop/BiblioKeia/api/storage/E4/E4/rename.ipynb#W1sZmlsZQ%3D%3D?line=5'>6</a>\u001b[0m     count \u001b[39m+\u001b[39m\u001b[39m=\u001b[39m \u001b[39m1\u001b[39m\n",
      "\u001b[1;31mFileNotFoundError\u001b[0m: [WinError 2] O sistema não pode encontrar o arquivo especificado: 'P5/21.jpg' -> 'P5/587.jpg'"
     ]
    }
   ],
   "source": [
    "count = 567\n",
    "imgs = [f'P5/{i}.jpg' for i in range(1, 22)]\n",
    "for i in imgs:\n",
    "    rename(i, f'P5/{count}.jpg')\n",
    "    print(i, count)\n",
    "    count += 1"
   ]
  }
 ],
 "metadata": {
  "kernelspec": {
   "display_name": "Python 3.10.4 ('venv': venv)",
   "language": "python",
   "name": "python3"
  },
  "language_info": {
   "codemirror_mode": {
    "name": "ipython",
    "version": 3
   },
   "file_extension": ".py",
   "mimetype": "text/x-python",
   "name": "python",
   "nbconvert_exporter": "python",
   "pygments_lexer": "ipython3",
   "version": "3.10.4"
  },
  "orig_nbformat": 4,
  "vscode": {
   "interpreter": {
    "hash": "7c803f0ee3b2b2cd03f94fb28d6f360d094e6843888122798203f226e128b66e"
   }
  }
 },
 "nbformat": 4,
 "nbformat_minor": 2
}
