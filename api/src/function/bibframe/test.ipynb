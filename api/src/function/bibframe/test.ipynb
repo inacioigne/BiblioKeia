{
 "cells": [
  {
   "cell_type": "code",
   "execution_count": 1,
   "metadata": {},
   "outputs": [],
   "source": [
    "from rdflib import Graph"
   ]
  },
  {
   "cell_type": "code",
   "execution_count": 2,
   "metadata": {},
   "outputs": [
    {
     "data": {
      "text/plain": [
       "<Graph identifier=N56a8ffcc8ceb4561870d59ba1a29ca17 (<class 'rdflib.graph.Graph'>)>"
      ]
     },
     "execution_count": 2,
     "metadata": {},
     "output_type": "execute_result"
    }
   ],
   "source": [
    "#Work\n",
    "uri = 'http://id.loc.gov/resources/works/748300.bibframe.rdf'\n",
    "g = Graph()\n",
    "g.parse(uri)\n",
    "g.serialize('oldman.nt')"
   ]
  },
  {
   "cell_type": "code",
   "execution_count": null,
   "metadata": {},
   "outputs": [],
   "source": [
    "#Instancia\n",
    "uri = 'http://id.loc.gov/resources/instances/1893399.bibframe.rdf'\n",
    "g = Graph()\n",
    "g.parse(uri)"
   ]
  },
  {
   "cell_type": "code",
   "execution_count": null,
   "metadata": {},
   "outputs": [],
   "source": [
    "#Item\n",
    "uri = 'http://id.loc.gov/resources/items/748300-050-10.bibframe.rdf'\n",
    "g = Graph()\n",
    "g.parse(uri)\n",
    "g.serialize('item.nt')"
   ]
  },
  {
   "cell_type": "code",
   "execution_count": 4,
   "metadata": {},
   "outputs": [
    {
     "data": {
      "text/plain": [
       "<Graph identifier=N185bf5b0cdb943e19185b998a13daef1 (<class 'rdflib.graph.Graph'>)>"
      ]
     },
     "execution_count": 4,
     "metadata": {},
     "output_type": "execute_result"
    }
   ],
   "source": [
    "#Subject\n",
    "uri = 'http://id.loc.gov/authorities/subjects/sh85113021.rdf'\n",
    "g = Graph()\n",
    "g.parse(uri)\n",
    "g.serialize('Research.nt')"
   ]
  },
  {
   "cell_type": "code",
   "execution_count": 2,
   "metadata": {},
   "outputs": [],
   "source": [
    "from pyfuseki import FusekiQuery"
   ]
  },
  {
   "cell_type": "code",
   "execution_count": 3,
   "metadata": {},
   "outputs": [],
   "source": [
    "fuseki_query = FusekiQuery('http://localhost:3030', 'thesaurus')"
   ]
  },
  {
   "attachments": {},
   "cell_type": "markdown",
   "metadata": {},
   "source": [
    "GRAPH EXISTS"
   ]
  },
  {
   "cell_type": "code",
   "execution_count": 4,
   "metadata": {},
   "outputs": [
    {
     "data": {
      "text/plain": [
       "<SPARQLWrapper.Wrapper.QueryResult at 0x23246542d40>"
      ]
     },
     "execution_count": 4,
     "metadata": {},
     "output_type": "execute_result"
    }
   ],
   "source": [
    "query = \"\"\"PREFIX bk: <https://bibliokeia.com/authorities/subjects/>\n",
    "  ASK WHERE { GRAPH bk:sh85066157 { ?s ?p ?o } }\"\"\"\n",
    "\n",
    "query_result = fuseki_query.run_sparql(query)\n",
    "query_result"
   ]
  },
  {
   "cell_type": "code",
   "execution_count": 10,
   "metadata": {},
   "outputs": [
    {
     "name": "stdout",
     "output_type": "stream",
     "text": [
      "b'{ \\n'\n",
      "b'  \"head\" : { } ,\\n'\n",
      "b'  \"boolean\" : false\\n'\n",
      "b'}\\n'\n"
     ]
    }
   ],
   "source": [
    "for i in query_result:\n",
    "    print(i)"
   ]
  },
  {
   "cell_type": "code",
   "execution_count": 4,
   "metadata": {},
   "outputs": [
    {
     "data": {
      "text/plain": [
       "<SPARQLWrapper.Wrapper.QueryResult at 0x1d6af797f70>"
      ]
     },
     "execution_count": 4,
     "metadata": {},
     "output_type": "execute_result"
    }
   ],
   "source": [
    "query = \"\"\"\n",
    "    PREFIX madsrdf:  <http://www.loc.gov/mads/rdf/v1#> \n",
    "PREFIX rdf: <http://www.w3.org/1999/02/22-rdf-syntax-ns#>\n",
    "PREFIX bk: <https://bibliokeia.com/authorities/subjects/>\n",
    "SELECT (COUNT(*) AS ?count)\n",
    "WHERE { GRAPH  bk:sh85084414\n",
    "      {?s ?p ?o . }\n",
    "    }\n",
    "\"\"\"\n",
    "\n",
    "query_result = fuseki_query.run_sparql(query)\n",
    "query_result"
   ]
  },
  {
   "cell_type": "code",
   "execution_count": null,
   "metadata": {},
   "outputs": [],
   "source": [
    "query_result"
   ]
  },
  {
   "cell_type": "code",
   "execution_count": 28,
   "metadata": {},
   "outputs": [],
   "source": [
    "from rdflib.plugins.stores.sparqlstore import SPARQLUpdateStore"
   ]
  },
  {
   "cell_type": "code",
   "execution_count": 29,
   "metadata": {},
   "outputs": [],
   "source": [
    "store = SPARQLUpdateStore(update_endpoint='http://localhost:3030/thesaurus/update')\n",
    "query_endpoint = 'http://localhost:3030/thesaurus/query'\n",
    "update_endpoint = 'http://localhost:3030/thesaurus/update'\n",
    "store.open((query_endpoint, update_endpoint))"
   ]
  },
  {
   "cell_type": "code",
   "execution_count": 14,
   "metadata": {},
   "outputs": [],
   "source": [
    "response = store.query(query)"
   ]
  },
  {
   "cell_type": "code",
   "execution_count": 16,
   "metadata": {},
   "outputs": [
    {
     "data": {
      "text/plain": [
       "False"
      ]
     },
     "execution_count": 16,
     "metadata": {},
     "output_type": "execute_result"
    }
   ],
   "source": [
    "response.askAnswer"
   ]
  },
  {
   "cell_type": "code",
   "execution_count": 17,
   "metadata": {},
   "outputs": [],
   "source": [
    "def GraphExist(token):\n",
    "    store = SPARQLUpdateStore(update_endpoint='http://localhost:3030/thesaurus/update')\n",
    "    query_endpoint = 'http://localhost:3030/thesaurus/query'\n",
    "    update_endpoint = 'http://localhost:3030/thesaurus/update'\n",
    "    store.open((query_endpoint, update_endpoint))\n",
    "\n",
    "    query = \"PREFIX bk: <https://bibliokeia.com/authorities/subjects/>\\n \\\n",
    "                ASK WHERE { GRAPH bk:\" + token +\" { ?s ?p ?o } }\"\n",
    "    \n",
    "    response = store.query(query)\n",
    "\n",
    "    return response.askAnswer\n",
    "    \n",
    "\n",
    "\n",
    "    "
   ]
  },
  {
   "cell_type": "code",
   "execution_count": 19,
   "metadata": {},
   "outputs": [
    {
     "data": {
      "text/plain": [
       "False"
      ]
     },
     "execution_count": 19,
     "metadata": {},
     "output_type": "execute_result"
    }
   ],
   "source": [
    "\n",
    "def UpdateThesarus(graph, metadata, token):\n",
    "\n",
    "    store = SPARQLUpdateStore(update_endpoint='http://localhost:3030/thesaurus/update')\n",
    "    query_endpoint = 'http://localhost:3030/thesaurus/query'\n",
    "    update_endpoint = 'http://localhost:3030/thesaurus/update'\n",
    "    store.open((query_endpoint, update_endpoint))\n",
    "\n",
    "    prefix = \"PREFIX madsrdf:  <http://www.loc.gov/mads/rdf/v1#>\\n \\\n",
    "        PREFIX bk: <https://bibliokeia.com/authorities/subjects/>\\n \\\n",
    "        PREFIX lc: <http://id.loc.gov/authorities/subjects/>\\n\"\n",
    "\n",
    "    q1 = prefix + \"WITH bk:\" + graph + \"\\n \\\n",
    "        DELETE {?s madsrdf:\" + metadata + \" lc:\" + token + \"}\\n \\\n",
    "        INSERT { ?s madsrdf:\" + metadata + \" bk:\" + token + \"}\\n \\\n",
    "        WHERE { ?s madsrdf:\" + metadata + \" lc:\" + token + \"}\\n\"\n",
    "    store.update(q1)\n",
    "\n",
    "    q2 = prefix + \"WITH bk:\" + graph + \"\\n \\\n",
    "            DELETE { lc:\" + metadata + \" ?p ?o }\\n \\\n",
    "                INSERT { bk:\" + metadata + \" ?p ?o }\\n \\\n",
    "                    WHERE { lc:\" + metadata + \"?p ?o }\"\n",
    "    store.update(q2)\n",
    "\n",
    "    q3 = prefix + \"WITH bk:\" + graph + \"\\n \\\n",
    "            DELETE { lc:\" + metadata + \" madsrdf:isMemberOfMADSCollection ?o }\\n \\\n",
    "                INSERT { bk:\" + metadata + \" madsrdf:isMemberOfMADSCollection bk:collection_BKSH_General }\\n \\\n",
    "                    WHERE { lc:\" + metadata + \" madsrdf:isMemberOfMADSCollection ?o }\"\n",
    "    store.update(q3)"
   ]
  },
  {
   "cell_type": "code",
   "execution_count": 27,
   "metadata": {},
   "outputs": [],
   "source": [
    "prefix = \"PREFIX madsrdf:  <http://www.loc.gov/mads/rdf/v1#>\\n \\\n",
    "        PREFIX bk: <https://bibliokeia.com/authorities/subjects/>\\n \\\n",
    "        PREFIX lc: <http://id.loc.gov/authorities/subjects/>\\n\""
   ]
  },
  {
   "cell_type": "code",
   "execution_count": 30,
   "metadata": {},
   "outputs": [],
   "source": [
    "graph = \"sh85084414\"\n",
    "token = \"sh85113021\"\n",
    "q2 = prefix + \"WITH bk:\" + graph + \"\\n \\\n",
    "            DELETE { bk:sh85113021 ?p lc:collection_LCSH_General }\\n \\\n",
    "                INSERT { bk:sh85113021 ?p bk:collection_BKSH_General}\\n \\\n",
    "                    WHERE { bk:sh85113021 ?p lc:collection_LCSH_General  }\"\n",
    "store.update(q2)\n"
   ]
  },
  {
   "cell_type": "code",
   "execution_count": null,
   "metadata": {},
   "outputs": [],
   "source": [
    "q1 = prefix + \"WITH bk:\" + graph + \"\\n \\\n",
    "        DELETE {?s madsrdf:\" + metadata + \" lc:\" + token + \"}\\n \\\n",
    "        INSERT { ?s madsrdf:\" + metadata + \" bk:\" + token + \"}\\n \\\n",
    "        WHERE { ?s madsrdf:\" + metadata + \" lc:\" + token + \"}\\n\""
   ]
  },
  {
   "cell_type": "code",
   "execution_count": 25,
   "metadata": {},
   "outputs": [
    {
     "ename": "HTTPError",
     "evalue": "HTTP Error 400: Bad Request",
     "output_type": "error",
     "traceback": [
      "\u001b[1;31m---------------------------------------------------------------------------\u001b[0m",
      "\u001b[1;31mHTTPError\u001b[0m                                 Traceback (most recent call last)",
      "\u001b[1;32mc:\\Users\\Usuário\\Desktop\\BiblioKeia\\api\\src\\function\\bibframe\\test.ipynb Célula: 22\u001b[0m in \u001b[0;36m<cell line: 5>\u001b[1;34m()\u001b[0m\n\u001b[0;32m      <a href='vscode-notebook-cell:/c%3A/Users/Usu%C3%A1rio/Desktop/BiblioKeia/api/src/function/bibframe/test.ipynb#X31sZmlsZQ%3D%3D?line=0'>1</a>\u001b[0m q3 \u001b[39m=\u001b[39m prefix \u001b[39m+\u001b[39m \u001b[39m\"\u001b[39m\u001b[39mWITH bk:sh85084414 \u001b[39m\u001b[39m\\n\u001b[39;00m\u001b[39m \u001b[39m\u001b[39m\\\u001b[39;00m\n\u001b[0;32m      <a href='vscode-notebook-cell:/c%3A/Users/Usu%C3%A1rio/Desktop/BiblioKeia/api/src/function/bibframe/test.ipynb#X31sZmlsZQ%3D%3D?line=1'>2</a>\u001b[0m \u001b[39m            DELETE \u001b[39m\u001b[39m{\u001b[39m\u001b[39m bk:sh85113021 madsrdf:isMemberOfMADSCollection ?o }\u001b[39m\u001b[39m\\n\u001b[39;00m\u001b[39m \u001b[39m\u001b[39m\\\u001b[39;00m\n\u001b[0;32m      <a href='vscode-notebook-cell:/c%3A/Users/Usu%C3%A1rio/Desktop/BiblioKeia/api/src/function/bibframe/test.ipynb#X31sZmlsZQ%3D%3D?line=2'>3</a>\u001b[0m \u001b[39m                INSERT \u001b[39m\u001b[39m{\u001b[39m\u001b[39m bk:sh85113021 madsrdf:isMemberOfMADSCollection bk:collection_BKSH_General }\u001b[39m\u001b[39m\\n\u001b[39;00m\u001b[39m \u001b[39m\u001b[39m\\\u001b[39;00m\n\u001b[0;32m      <a href='vscode-notebook-cell:/c%3A/Users/Usu%C3%A1rio/Desktop/BiblioKeia/api/src/function/bibframe/test.ipynb#X31sZmlsZQ%3D%3D?line=3'>4</a>\u001b[0m \u001b[39m                    WHERE \u001b[39m\u001b[39m{\u001b[39m\u001b[39m bk:sh85113021 madsrdf:isMemberOfMADSCollection ?o }\u001b[39m\u001b[39m\"\u001b[39m\n\u001b[1;32m----> <a href='vscode-notebook-cell:/c%3A/Users/Usu%C3%A1rio/Desktop/BiblioKeia/api/src/function/bibframe/test.ipynb#X31sZmlsZQ%3D%3D?line=4'>5</a>\u001b[0m store\u001b[39m.\u001b[39;49mupdate(q3)\n",
      "File \u001b[1;32mc:\\Users\\Usuário\\Desktop\\BiblioKeia\\venv\\lib\\site-packages\\rdflib\\plugins\\stores\\sparqlstore.py:774\u001b[0m, in \u001b[0;36mSPARQLUpdateStore.update\u001b[1;34m(self, query, initNs, initBindings, queryGraph, DEBUG)\u001b[0m\n\u001b[0;32m    772\u001b[0m \u001b[39mself\u001b[39m\u001b[39m.\u001b[39m_transaction()\u001b[39m.\u001b[39mappend(query)\n\u001b[0;32m    773\u001b[0m \u001b[39mif\u001b[39;00m \u001b[39mself\u001b[39m\u001b[39m.\u001b[39mautocommit:\n\u001b[1;32m--> 774\u001b[0m     \u001b[39mself\u001b[39;49m\u001b[39m.\u001b[39;49mcommit()\n",
      "File \u001b[1;32mc:\\Users\\Usuário\\Desktop\\BiblioKeia\\venv\\lib\\site-packages\\rdflib\\plugins\\stores\\sparqlstore.py:624\u001b[0m, in \u001b[0;36mSPARQLUpdateStore.commit\u001b[1;34m(self)\u001b[0m\n\u001b[0;32m    618\u001b[0m \u001b[39m\"\"\"add(), addN(), and remove() are transactional to reduce overhead of many small edits.\u001b[39;00m\n\u001b[0;32m    619\u001b[0m \u001b[39mRead and update() calls will automatically commit any outstanding edits.\u001b[39;00m\n\u001b[0;32m    620\u001b[0m \u001b[39mThis should behave as expected most of the time, except that alternating writes\u001b[39;00m\n\u001b[0;32m    621\u001b[0m \u001b[39mand reads can degenerate to the original call-per-triple situation that originally existed.\u001b[39;00m\n\u001b[0;32m    622\u001b[0m \u001b[39m\"\"\"\u001b[39;00m\n\u001b[0;32m    623\u001b[0m \u001b[39mif\u001b[39;00m \u001b[39mself\u001b[39m\u001b[39m.\u001b[39m_edits \u001b[39mand\u001b[39;00m \u001b[39mlen\u001b[39m(\u001b[39mself\u001b[39m\u001b[39m.\u001b[39m_edits) \u001b[39m>\u001b[39m \u001b[39m0\u001b[39m:\n\u001b[1;32m--> 624\u001b[0m     \u001b[39mself\u001b[39;49m\u001b[39m.\u001b[39;49m_update(\u001b[39m\"\u001b[39;49m\u001b[39m\\n\u001b[39;49;00m\u001b[39m;\u001b[39;49m\u001b[39m\\n\u001b[39;49;00m\u001b[39m\"\u001b[39;49m\u001b[39m.\u001b[39;49mjoin(\u001b[39mself\u001b[39;49m\u001b[39m.\u001b[39;49m_edits))\n\u001b[0;32m    625\u001b[0m     \u001b[39mself\u001b[39m\u001b[39m.\u001b[39m_edits \u001b[39m=\u001b[39m \u001b[39mNone\u001b[39;00m\n",
      "File \u001b[1;32mc:\\Users\\Usuário\\Desktop\\BiblioKeia\\venv\\lib\\site-packages\\rdflib\\plugins\\stores\\sparqlstore.py:706\u001b[0m, in \u001b[0;36mSPARQLUpdateStore._update\u001b[1;34m(self, update)\u001b[0m\n\u001b[0;32m    702\u001b[0m \u001b[39mdef\u001b[39;00m \u001b[39m_update\u001b[39m(\u001b[39mself\u001b[39m, update):\n\u001b[0;32m    704\u001b[0m     \u001b[39mself\u001b[39m\u001b[39m.\u001b[39m_updates \u001b[39m+\u001b[39m\u001b[39m=\u001b[39m \u001b[39m1\u001b[39m\n\u001b[1;32m--> 706\u001b[0m     SPARQLConnector\u001b[39m.\u001b[39;49mupdate(\u001b[39mself\u001b[39;49m, update)\n",
      "File \u001b[1;32mc:\\Users\\Usuário\\Desktop\\BiblioKeia\\venv\\lib\\site-packages\\rdflib\\plugins\\stores\\sparqlconnector.py:174\u001b[0m, in \u001b[0;36mSPARQLConnector.update\u001b[1;34m(self, query, default_graph, named_graph)\u001b[0m\n\u001b[0;32m    171\u001b[0m args[\u001b[39m\"\u001b[39m\u001b[39mheaders\u001b[39m\u001b[39m\"\u001b[39m]\u001b[39m.\u001b[39mupdate(headers)\n\u001b[0;32m    173\u001b[0m qsa \u001b[39m=\u001b[39m \u001b[39m\"\u001b[39m\u001b[39m?\u001b[39m\u001b[39m\"\u001b[39m \u001b[39m+\u001b[39m urlencode(args[\u001b[39m\"\u001b[39m\u001b[39mparams\u001b[39m\u001b[39m\"\u001b[39m])\n\u001b[1;32m--> 174\u001b[0m res \u001b[39m=\u001b[39m urlopen(  \u001b[39m# noqa: F841\u001b[39;49;00m\n\u001b[0;32m    175\u001b[0m     Request(\n\u001b[0;32m    176\u001b[0m         \u001b[39mself\u001b[39;49m\u001b[39m.\u001b[39;49mupdate_endpoint \u001b[39m+\u001b[39;49m qsa, data\u001b[39m=\u001b[39;49mquery\u001b[39m.\u001b[39;49mencode(), headers\u001b[39m=\u001b[39;49margs[\u001b[39m\"\u001b[39;49m\u001b[39mheaders\u001b[39;49m\u001b[39m\"\u001b[39;49m]\n\u001b[0;32m    177\u001b[0m     )\n\u001b[0;32m    178\u001b[0m )\n",
      "File \u001b[1;32m~\\AppData\\Local\\Programs\\Python\\Python310\\lib\\urllib\\request.py:216\u001b[0m, in \u001b[0;36murlopen\u001b[1;34m(url, data, timeout, cafile, capath, cadefault, context)\u001b[0m\n\u001b[0;32m    214\u001b[0m \u001b[39melse\u001b[39;00m:\n\u001b[0;32m    215\u001b[0m     opener \u001b[39m=\u001b[39m _opener\n\u001b[1;32m--> 216\u001b[0m \u001b[39mreturn\u001b[39;00m opener\u001b[39m.\u001b[39;49mopen(url, data, timeout)\n",
      "File \u001b[1;32m~\\AppData\\Local\\Programs\\Python\\Python310\\lib\\urllib\\request.py:525\u001b[0m, in \u001b[0;36mOpenerDirector.open\u001b[1;34m(self, fullurl, data, timeout)\u001b[0m\n\u001b[0;32m    523\u001b[0m \u001b[39mfor\u001b[39;00m processor \u001b[39min\u001b[39;00m \u001b[39mself\u001b[39m\u001b[39m.\u001b[39mprocess_response\u001b[39m.\u001b[39mget(protocol, []):\n\u001b[0;32m    524\u001b[0m     meth \u001b[39m=\u001b[39m \u001b[39mgetattr\u001b[39m(processor, meth_name)\n\u001b[1;32m--> 525\u001b[0m     response \u001b[39m=\u001b[39m meth(req, response)\n\u001b[0;32m    527\u001b[0m \u001b[39mreturn\u001b[39;00m response\n",
      "File \u001b[1;32m~\\AppData\\Local\\Programs\\Python\\Python310\\lib\\urllib\\request.py:634\u001b[0m, in \u001b[0;36mHTTPErrorProcessor.http_response\u001b[1;34m(self, request, response)\u001b[0m\n\u001b[0;32m    631\u001b[0m \u001b[39m# According to RFC 2616, \"2xx\" code indicates that the client's\u001b[39;00m\n\u001b[0;32m    632\u001b[0m \u001b[39m# request was successfully received, understood, and accepted.\u001b[39;00m\n\u001b[0;32m    633\u001b[0m \u001b[39mif\u001b[39;00m \u001b[39mnot\u001b[39;00m (\u001b[39m200\u001b[39m \u001b[39m<\u001b[39m\u001b[39m=\u001b[39m code \u001b[39m<\u001b[39m \u001b[39m300\u001b[39m):\n\u001b[1;32m--> 634\u001b[0m     response \u001b[39m=\u001b[39m \u001b[39mself\u001b[39;49m\u001b[39m.\u001b[39;49mparent\u001b[39m.\u001b[39;49merror(\n\u001b[0;32m    635\u001b[0m         \u001b[39m'\u001b[39;49m\u001b[39mhttp\u001b[39;49m\u001b[39m'\u001b[39;49m, request, response, code, msg, hdrs)\n\u001b[0;32m    637\u001b[0m \u001b[39mreturn\u001b[39;00m response\n",
      "File \u001b[1;32m~\\AppData\\Local\\Programs\\Python\\Python310\\lib\\urllib\\request.py:563\u001b[0m, in \u001b[0;36mOpenerDirector.error\u001b[1;34m(self, proto, *args)\u001b[0m\n\u001b[0;32m    561\u001b[0m \u001b[39mif\u001b[39;00m http_err:\n\u001b[0;32m    562\u001b[0m     args \u001b[39m=\u001b[39m (\u001b[39mdict\u001b[39m, \u001b[39m'\u001b[39m\u001b[39mdefault\u001b[39m\u001b[39m'\u001b[39m, \u001b[39m'\u001b[39m\u001b[39mhttp_error_default\u001b[39m\u001b[39m'\u001b[39m) \u001b[39m+\u001b[39m orig_args\n\u001b[1;32m--> 563\u001b[0m     \u001b[39mreturn\u001b[39;00m \u001b[39mself\u001b[39;49m\u001b[39m.\u001b[39;49m_call_chain(\u001b[39m*\u001b[39;49margs)\n",
      "File \u001b[1;32m~\\AppData\\Local\\Programs\\Python\\Python310\\lib\\urllib\\request.py:496\u001b[0m, in \u001b[0;36mOpenerDirector._call_chain\u001b[1;34m(self, chain, kind, meth_name, *args)\u001b[0m\n\u001b[0;32m    494\u001b[0m \u001b[39mfor\u001b[39;00m handler \u001b[39min\u001b[39;00m handlers:\n\u001b[0;32m    495\u001b[0m     func \u001b[39m=\u001b[39m \u001b[39mgetattr\u001b[39m(handler, meth_name)\n\u001b[1;32m--> 496\u001b[0m     result \u001b[39m=\u001b[39m func(\u001b[39m*\u001b[39;49margs)\n\u001b[0;32m    497\u001b[0m     \u001b[39mif\u001b[39;00m result \u001b[39mis\u001b[39;00m \u001b[39mnot\u001b[39;00m \u001b[39mNone\u001b[39;00m:\n\u001b[0;32m    498\u001b[0m         \u001b[39mreturn\u001b[39;00m result\n",
      "File \u001b[1;32m~\\AppData\\Local\\Programs\\Python\\Python310\\lib\\urllib\\request.py:643\u001b[0m, in \u001b[0;36mHTTPDefaultErrorHandler.http_error_default\u001b[1;34m(self, req, fp, code, msg, hdrs)\u001b[0m\n\u001b[0;32m    642\u001b[0m \u001b[39mdef\u001b[39;00m \u001b[39mhttp_error_default\u001b[39m(\u001b[39mself\u001b[39m, req, fp, code, msg, hdrs):\n\u001b[1;32m--> 643\u001b[0m     \u001b[39mraise\u001b[39;00m HTTPError(req\u001b[39m.\u001b[39mfull_url, code, msg, hdrs, fp)\n",
      "\u001b[1;31mHTTPError\u001b[0m: HTTP Error 400: Bad Request"
     ]
    }
   ],
   "source": [
    "q3 = prefix + \"WITH bk:sh85084414 \\n \\\n",
    "            DELETE { bk:sh85113021 madsrdf:isMemberOfMADSCollection ?o }\\n \\\n",
    "                INSERT { bk:sh85113021 madsrdf:isMemberOfMADSCollection bk:collection_BKSH_General }\\n \\\n",
    "                    WHERE { bk:sh85113021 madsrdf:isMemberOfMADSCollection ?o }\"\n",
    "store.update(q3)"
   ]
  }
 ],
 "metadata": {
  "kernelspec": {
   "display_name": "Python 3.11.0 ('venv': venv)",
   "language": "python",
   "name": "python3"
  },
  "language_info": {
   "codemirror_mode": {
    "name": "ipython",
    "version": 3
   },
   "file_extension": ".py",
   "mimetype": "text/x-python",
   "name": "python",
   "nbconvert_exporter": "python",
   "pygments_lexer": "ipython3",
   "version": "3.11.0"
  },
  "orig_nbformat": 4,
  "vscode": {
   "interpreter": {
    "hash": "5df21a170a08fe7c24b5b1091267edae5bad3984f1116f28e957af7dd8f192dc"
   }
  }
 },
 "nbformat": 4,
 "nbformat_minor": 2
}
