{
 "cells": [
  {
   "cell_type": "code",
   "execution_count": 4,
   "metadata": {},
   "outputs": [],
   "source": [
    "from rdflib import Graph\n",
    "import httpx\n",
    "from rdflib.plugins.stores.sparqlstore import SPARQLUpdateStore\n",
    "from pyfuseki import FusekiUpdate"
   ]
  },
  {
   "cell_type": "code",
   "execution_count": 2,
   "metadata": {},
   "outputs": [
    {
     "data": {
      "text/plain": [
       "<Graph identifier=Nfa6545d22eb44b79ba5034d67282a9fb (<class 'rdflib.graph.Graph'>)>"
      ]
     },
     "execution_count": 2,
     "metadata": {},
     "output_type": "execute_result"
    }
   ],
   "source": [
    "#Work\n",
    "uri = 'http://id.loc.gov/resources/works/748300.bibframe.rdf'\n",
    "g = Graph()\n",
    "g.parse(uri)\n",
    "g.serialize('work.ttl')"
   ]
  },
  {
   "cell_type": "code",
   "execution_count": 3,
   "metadata": {},
   "outputs": [
    {
     "data": {
      "text/plain": [
       "<Graph identifier=N1a3c9c4eefcc406ca09204980baffb0b (<class 'rdflib.graph.Graph'>)>"
      ]
     },
     "execution_count": 3,
     "metadata": {},
     "output_type": "execute_result"
    }
   ],
   "source": [
    "#Instancia\n",
    "uri = 'http://id.loc.gov/resources/instances/748300.bibframe.rdf'\n",
    "g = Graph()\n",
    "g.parse(uri)\n",
    "g.serialize('instance.ttl')"
   ]
  },
  {
   "cell_type": "code",
   "execution_count": null,
   "metadata": {},
   "outputs": [],
   "source": [
    "#Item\n",
    "uri = 'http://id.loc.gov/resources/items/748300-050-10.bibframe.rdf'\n",
    "g = Graph()\n",
    "g.parse(uri)\n",
    "g.serialize('item.nt')"
   ]
  },
  {
   "cell_type": "code",
   "execution_count": 10,
   "metadata": {},
   "outputs": [
    {
     "data": {
      "text/plain": [
       "<Graph identifier=Nc26ecb5a7ba8461b9a2e8d7a2c313fe6 (<class 'rdflib.graph.Graph'>)>"
      ]
     },
     "execution_count": 10,
     "metadata": {},
     "output_type": "execute_result"
    }
   ],
   "source": [
    "#Subject\n",
    "#uri = 'http://id.loc.gov/authorities/subjects/sh85084414.rdf'\n",
    "uri = \"http://id.loc.gov/authorities/subjects/sh85084414.madsrdf.rdf\"\n",
    "g = Graph()\n",
    "g.parse(uri)\n",
    "g.serialize('Methodology.nt')"
   ]
  },
  {
   "cell_type": "code",
   "execution_count": 60,
   "metadata": {},
   "outputs": [
    {
     "data": {
      "text/plain": [
       "<Graph identifier=Nbb962704343b4c63b909022dcf2a70ca (<class 'rdflib.graph.Graph'>)>"
      ]
     },
     "execution_count": 60,
     "metadata": {},
     "output_type": "execute_result"
    }
   ],
   "source": [
    "#Subject BK\n",
    "token = \"sh85084414\"\n",
    "uri = f'http://localhost:3030/thesaurus?graph=https://bibliokeia.com/authorities/subjects/{token}'\n",
    "r = httpx.get(uri)\n",
    "g = Graph()\n",
    "g.parse(r.content)\n",
    "g.serialize('Metodologia.nt')"
   ]
  },
  {
   "attachments": {},
   "cell_type": "markdown",
   "metadata": {},
   "source": [
    "Names"
   ]
  },
  {
   "cell_type": "code",
   "execution_count": 29,
   "metadata": {},
   "outputs": [
    {
     "data": {
      "text/plain": [
       "<Graph identifier=Nbb1cff5129c44881acd8f5fc6326e769 (<class 'rdflib.graph.Graph'>)>"
      ]
     },
     "execution_count": 29,
     "metadata": {},
     "output_type": "execute_result"
    }
   ],
   "source": [
    "uri = 'http://id.loc.gov/authorities/names/n80032184.madsrdf.rdf'\n",
    "g = Graph()\n",
    "g.parse(uri)\n",
    "g.serialize('PopperLOC.nt')"
   ]
  },
  {
   "attachments": {},
   "cell_type": "markdown",
   "metadata": {},
   "source": [
    "NAMES BK"
   ]
  },
  {
   "cell_type": "code",
   "execution_count": 58,
   "metadata": {},
   "outputs": [
    {
     "data": {
      "text/plain": [
       "<Response [200 OK]>"
      ]
     },
     "execution_count": 58,
     "metadata": {},
     "output_type": "execute_result"
    }
   ],
   "source": [
    "uri = \"http://localhost:3030/authority?graph=https://bibliokeia.com/authorities/names/n80002329\"\n",
    "r = httpx.get(uri)\n",
    "r\n",
    "\n"
   ]
  },
  {
   "cell_type": "code",
   "execution_count": 59,
   "metadata": {},
   "outputs": [
    {
     "data": {
      "text/plain": [
       "<Graph identifier=N7be6e5a3603c444e86493d62d3ec549f (<class 'rdflib.graph.Graph'>)>"
      ]
     },
     "execution_count": 59,
     "metadata": {},
     "output_type": "execute_result"
    }
   ],
   "source": [
    "uri = \"http://localhost:3030/authority?graph=https://bibliokeia.com/authorities/names/n80002329\"\n",
    "r = httpx.get(uri)\n",
    "g = Graph()\n",
    "g.parse(r.content)\n",
    "g.serialize('Machado.nt')"
   ]
  },
  {
   "cell_type": "code",
   "execution_count": 2,
   "metadata": {},
   "outputs": [],
   "source": [
    "from pyfuseki import FusekiQuery"
   ]
  },
  {
   "cell_type": "code",
   "execution_count": 3,
   "metadata": {},
   "outputs": [],
   "source": [
    "fuseki_query = FusekiQuery('http://localhost:3030', 'thesaurus')"
   ]
  },
  {
   "attachments": {},
   "cell_type": "markdown",
   "metadata": {},
   "source": [
    "GRAPH EXISTS"
   ]
  },
  {
   "cell_type": "code",
   "execution_count": 4,
   "metadata": {},
   "outputs": [
    {
     "data": {
      "text/plain": [
       "<SPARQLWrapper.Wrapper.QueryResult at 0x23246542d40>"
      ]
     },
     "execution_count": 4,
     "metadata": {},
     "output_type": "execute_result"
    }
   ],
   "source": [
    "query = \"\"\"PREFIX bk: <https://bibliokeia.com/authorities/subjects/>\n",
    "  ASK WHERE { GRAPH bk:sh85066157 { ?s ?p ?o } }\"\"\"\n",
    "\n",
    "query_result = fuseki_query.run_sparql(query)\n",
    "query_result"
   ]
  },
  {
   "cell_type": "code",
   "execution_count": 4,
   "metadata": {},
   "outputs": [
    {
     "data": {
      "text/plain": [
       "<SPARQLWrapper.Wrapper.QueryResult at 0x1d6af797f70>"
      ]
     },
     "execution_count": 4,
     "metadata": {},
     "output_type": "execute_result"
    }
   ],
   "source": [
    "query = \"\"\"\n",
    "    PREFIX madsrdf:  <http://www.loc.gov/mads/rdf/v1#> \n",
    "PREFIX rdf: <http://www.w3.org/1999/02/22-rdf-syntax-ns#>\n",
    "PREFIX bk: <https://bibliokeia.com/authorities/subjects/>\n",
    "SELECT (COUNT(*) AS ?count)\n",
    "WHERE { GRAPH  bk:sh85084414\n",
    "      {?s ?p ?o . }\n",
    "    }\n",
    "\"\"\"\n",
    "\n",
    "query_result = fuseki_query.run_sparql(query)\n",
    "query_result"
   ]
  },
  {
   "cell_type": "code",
   "execution_count": 28,
   "metadata": {},
   "outputs": [],
   "source": [
    "from rdflib.plugins.stores.sparqlstore import SPARQLUpdateStore"
   ]
  },
  {
   "cell_type": "code",
   "execution_count": 38,
   "metadata": {},
   "outputs": [],
   "source": [
    "store = SPARQLUpdateStore(update_endpoint='http://localhost:3030/authority/update')\n",
    "query_endpoint = 'http://localhost:3030/authority/query'\n",
    "update_endpoint = 'http://localhost:3030/authority/update'\n",
    "store.open((query_endpoint, update_endpoint))"
   ]
  },
  {
   "cell_type": "code",
   "execution_count": 51,
   "metadata": {},
   "outputs": [],
   "source": [
    "uri = \"http://id.loc.gov/authorities/names/n80032184\"\n",
    "\n",
    "up = \"\"\"PREFIX bflc: <http://id.loc.gov/ontologies/bflc/>\n",
    "PREFIX Namesbk: <https://bibliokeia.com/authorities/names/> \n",
    "                INSERT DATA\n",
    "                { GRAPH  <https://bibliokeia.com/authorities/names/n80032184>{ \n",
    "                    <https://bibliokeia.com/authorities/names/n80032184> \n",
    "                     bflc:contributorTo \n",
    "                     <https://bibliokeia.com/bibframe/work/TESTE2> } }\"\"\"\n",
    "store.update(up)"
   ]
  },
  {
   "cell_type": "code",
   "execution_count": 54,
   "metadata": {},
   "outputs": [
    {
     "data": {
      "text/plain": [
       "<Graph identifier=N9e84d1e4499246bb96162da97a89a6f2 (<class 'rdflib.graph.Graph'>)>"
      ]
     },
     "execution_count": 54,
     "metadata": {},
     "output_type": "execute_result"
    }
   ],
   "source": [
    "uri = \"http://localhost:3030/authority?graph=https://bibliokeia.com/authorities/names/n80032184\"\n",
    "r = httpx.get(uri)\n",
    "g = Graph()\n",
    "g.parse(r.content)\n",
    "g.serialize('PopperBK.nt')"
   ]
  },
  {
   "cell_type": "code",
   "execution_count": 17,
   "metadata": {},
   "outputs": [],
   "source": [
    "def GraphExist(token):\n",
    "    store = SPARQLUpdateStore(update_endpoint='http://localhost:3030/thesaurus/update')\n",
    "    query_endpoint = 'http://localhost:3030/thesaurus/query'\n",
    "    update_endpoint = 'http://localhost:3030/thesaurus/update'\n",
    "    store.open((query_endpoint, update_endpoint))\n",
    "\n",
    "    query = \"PREFIX bk: <https://bibliokeia.com/authorities/subjects/>\\n \\\n",
    "                ASK WHERE { GRAPH bk:\" + token +\" { ?s ?p ?o } }\"\n",
    "    \n",
    "    response = store.query(query)\n",
    "\n",
    "    return response.askAnswer"
   ]
  },
  {
   "cell_type": "code",
   "execution_count": 19,
   "metadata": {},
   "outputs": [
    {
     "data": {
      "text/plain": [
       "False"
      ]
     },
     "execution_count": 19,
     "metadata": {},
     "output_type": "execute_result"
    }
   ],
   "source": [
    "\n",
    "def UpdateThesarus(graph, metadata, token):\n",
    "\n",
    "    store = SPARQLUpdateStore(update_endpoint='http://localhost:3030/thesaurus/update')\n",
    "    query_endpoint = 'http://localhost:3030/thesaurus/query'\n",
    "    update_endpoint = 'http://localhost:3030/thesaurus/update'\n",
    "    store.open((query_endpoint, update_endpoint))\n",
    "\n",
    "    prefix = \"PREFIX madsrdf:  <http://www.loc.gov/mads/rdf/v1#>\\n \\\n",
    "        PREFIX bk: <https://bibliokeia.com/authorities/subjects/>\\n \\\n",
    "        PREFIX lc: <http://id.loc.gov/authorities/subjects/>\\n\"\n",
    "\n",
    "    q1 = prefix + \"WITH bk:\" + graph + \"\\n \\\n",
    "        DELETE {?s madsrdf:\" + metadata + \" lc:\" + token + \"}\\n \\\n",
    "        INSERT { ?s madsrdf:\" + metadata + \" bk:\" + token + \"}\\n \\\n",
    "        WHERE { ?s madsrdf:\" + metadata + \" lc:\" + token + \"}\\n\"\n",
    "    store.update(q1)\n",
    "\n",
    "    q2 = prefix + \"WITH bk:\" + graph + \"\\n \\\n",
    "            DELETE { lc:\" + metadata + \" ?p ?o }\\n \\\n",
    "                INSERT { bk:\" + metadata + \" ?p ?o }\\n \\\n",
    "                    WHERE { lc:\" + metadata + \"?p ?o }\"\n",
    "    store.update(q2)\n",
    "\n",
    "    q3 = prefix + \"WITH bk:\" + graph + \"\\n \\\n",
    "            DELETE { lc:\" + metadata + \" madsrdf:isMemberOfMADSCollection ?o }\\n \\\n",
    "                INSERT { bk:\" + metadata + \" madsrdf:isMemberOfMADSCollection bk:collection_BKSH_General }\\n \\\n",
    "                    WHERE { lc:\" + metadata + \" madsrdf:isMemberOfMADSCollection ?o }\"\n",
    "    store.update(q3)"
   ]
  },
  {
   "cell_type": "code",
   "execution_count": 27,
   "metadata": {},
   "outputs": [],
   "source": [
    "prefix = \"PREFIX madsrdf:  <http://www.loc.gov/mads/rdf/v1#>\\n \\\n",
    "        PREFIX bk: <https://bibliokeia.com/authorities/subjects/>\\n \\\n",
    "        PREFIX lc: <http://id.loc.gov/authorities/subjects/>\\n\""
   ]
  },
  {
   "cell_type": "code",
   "execution_count": 30,
   "metadata": {},
   "outputs": [],
   "source": [
    "graph = \"sh85084414\"\n",
    "token = \"sh85113021\"\n",
    "q2 = prefix + \"WITH bk:\" + graph + \"\\n \\\n",
    "            DELETE { bk:sh85113021 ?p lc:collection_LCSH_General }\\n \\\n",
    "                INSERT { bk:sh85113021 ?p bk:collection_BKSH_General}\\n \\\n",
    "                    WHERE { bk:sh85113021 ?p lc:collection_LCSH_General  }\"\n",
    "store.update(q2)\n"
   ]
  },
  {
   "cell_type": "code",
   "execution_count": null,
   "metadata": {},
   "outputs": [],
   "source": [
    "q1 = prefix + \"WITH bk:\" + graph + \"\\n \\\n",
    "        DELETE {?s madsrdf:\" + metadata + \" lc:\" + token + \"}\\n \\\n",
    "        INSERT { ?s madsrdf:\" + metadata + \" bk:\" + token + \"}\\n \\\n",
    "        WHERE { ?s madsrdf:\" + metadata + \" lc:\" + token + \"}\\n\""
   ]
  },
  {
   "cell_type": "code",
   "execution_count": null,
   "metadata": {},
   "outputs": [],
   "source": [
    "q3 = prefix + \"WITH bk:sh85084414 \\n \\\n",
    "            DELETE { bk:sh85113021 madsrdf:isMemberOfMADSCollection ?o }\\n \\\n",
    "                INSERT { bk:sh85113021 madsrdf:isMemberOfMADSCollection bk:collection_BKSH_General }\\n \\\n",
    "                    WHERE { bk:sh85113021 madsrdf:isMemberOfMADSCollection ?o }\"\n",
    "store.update(q3)"
   ]
  },
  {
   "cell_type": "markdown",
   "metadata": {},
   "source": [
    "UPDATE WORK"
   ]
  },
  {
   "cell_type": "code",
   "execution_count": 5,
   "metadata": {},
   "outputs": [],
   "source": [
    "fuseki_update = FusekiUpdate('http://localhost:3030', 'acervo')"
   ]
  },
  {
   "cell_type": "code",
   "execution_count": 10,
   "metadata": {},
   "outputs": [],
   "source": [
    "up = \"\"\"PREFIX bf: <http://id.loc.gov/ontologies/bibframe/>\n",
    "        INSERT DATA\n",
    "            { GRAPH  <http://bibliokeia.com/bibframe/work/bk-23-10> { \n",
    "                    <https://bibliokeia.com/bibframe/work/bk-23-10>  \n",
    "                    bf:hasInstance\n",
    "                    <http://bibliokeia.com/bibframe/instance/bk-23-10> } }\"\"\""
   ]
  },
  {
   "cell_type": "code",
   "execution_count": 11,
   "metadata": {},
   "outputs": [
    {
     "data": {
      "text/plain": [
       "<SPARQLWrapper.Wrapper.QueryResult at 0x21e3ede7850>"
      ]
     },
     "execution_count": 11,
     "metadata": {},
     "output_type": "execute_result"
    }
   ],
   "source": [
    "fuseki_update.run_sparql(up)"
   ]
  }
 ],
 "metadata": {
  "kernelspec": {
   "display_name": "Python 3.11.0 ('venv': venv)",
   "language": "python",
   "name": "python3"
  },
  "language_info": {
   "codemirror_mode": {
    "name": "ipython",
    "version": 3
   },
   "file_extension": ".py",
   "mimetype": "text/x-python",
   "name": "python",
   "nbconvert_exporter": "python",
   "pygments_lexer": "ipython3",
   "version": "3.11.0"
  },
  "orig_nbformat": 4,
  "vscode": {
   "interpreter": {
    "hash": "5df21a170a08fe7c24b5b1091267edae5bad3984f1116f28e957af7dd8f192dc"
   }
  }
 },
 "nbformat": 4,
 "nbformat_minor": 2
}
