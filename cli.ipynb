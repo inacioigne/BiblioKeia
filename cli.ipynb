{
 "cells": [
  {
   "cell_type": "code",
   "execution_count": 1,
   "metadata": {},
   "outputs": [],
   "source": [
    "from pyfuseki import FusekiUpdate, FusekiQuery\n",
    "import httpx\n",
    "from rdflib import Graph\n",
    "from pysolr import Solr"
   ]
  },
  {
   "cell_type": "code",
   "execution_count": 13,
   "metadata": {},
   "outputs": [],
   "source": [
    "from api.src.function.cataloguing.generate_id import GenerateId"
   ]
  },
  {
   "cell_type": "code",
   "execution_count": 14,
   "metadata": {},
   "outputs": [
    {
     "data": {
      "text/plain": [
       "'bk-6'"
      ]
     },
     "execution_count": 14,
     "metadata": {},
     "output_type": "execute_result"
    }
   ],
   "source": [
    "work_id = GenerateId()\n",
    "work_id['id']"
   ]
  },
  {
   "attachments": {},
   "cell_type": "markdown",
   "metadata": {},
   "source": [
    "SOLR"
   ]
  },
  {
   "cell_type": "code",
   "execution_count": 26,
   "metadata": {},
   "outputs": [
    {
     "data": {
      "text/plain": [
       "'<?xml version=\"1.0\" encoding=\"UTF-8\"?>\\n<response>\\n\\n<lst name=\"responseHeader\">\\n  <int name=\"status\">0</int>\\n  <int name=\"QTime\">532</int>\\n</lst>\\n</response>\\n'"
      ]
     },
     "execution_count": 26,
     "metadata": {},
     "output_type": "execute_result"
    }
   ],
   "source": [
    "solr = Solr('http://localhost:8983/solr/authorities/', timeout=10)\n",
    "solr.delete(q=\"*:*\",  commit=True)"
   ]
  },
  {
   "cell_type": "code",
   "execution_count": 4,
   "metadata": {},
   "outputs": [
    {
     "data": {
      "text/plain": [
       "'<?xml version=\"1.0\" encoding=\"UTF-8\"?>\\n<response>\\n\\n<lst name=\"responseHeader\">\\n  <int name=\"status\">0</int>\\n  <int name=\"QTime\">350</int>\\n</lst>\\n</response>\\n'"
      ]
     },
     "execution_count": 4,
     "metadata": {},
     "output_type": "execute_result"
    }
   ],
   "source": [
    "solrAcervo = Solr('http://localhost:8983/solr/acervo/', timeout=10)\n",
    "solrAcervo.delete(q=\"*:*\",  commit=True)"
   ]
  },
  {
   "cell_type": "code",
   "execution_count": 11,
   "metadata": {},
   "outputs": [
    {
     "data": {
      "text/plain": [
       "'{\\n  \"responseHeader\":{\\n    \"status\":0,\\n    \"QTime\":310}}\\n'"
      ]
     },
     "execution_count": 11,
     "metadata": {},
     "output_type": "execute_result"
    }
   ],
   "source": [
    "doc = {\n",
    "        \"id\": \"n78078534\",\n",
    "        #\"contributorTo\": {\"add\": [\"bk-1\"]}\n",
    "     }\n",
    "solrAuthorities.add([doc], commit=True)"
   ]
  },
  {
   "cell_type": "code",
   "execution_count": null,
   "metadata": {},
   "outputs": [],
   "source": [
    "work = {\n",
    "        \"id\": \"request.instanceOf\",\n",
    "         \"hasInstance\": {\"add\": [request.instanceOf]}\n",
    "    }"
   ]
  },
  {
   "cell_type": "code",
   "execution_count": null,
   "metadata": {},
   "outputs": [],
   "source": [
    "solr = Solr('http://localhost:8983/solr/acervo/', timeout=10)\n",
    "solr.ping()"
   ]
  },
  {
   "attachments": {},
   "cell_type": "markdown",
   "metadata": {},
   "source": [
    "DELETE GRAPHS"
   ]
  },
  {
   "cell_type": "code",
   "execution_count": 5,
   "metadata": {},
   "outputs": [
    {
     "data": {
      "text/plain": [
       "{'statusCode': 200, 'message': 'Update succeeded'}"
      ]
     },
     "execution_count": 5,
     "metadata": {},
     "output_type": "execute_result"
    }
   ],
   "source": [
    "upAcervo = FusekiUpdate('http://localhost:3030', 'acervo')\n",
    "\n",
    "d = \"\"\"DELETE { graph ?g { ?s ?p ?o } } \n",
    "        WHERE {\n",
    "        graph ?g {?s ?p ?o.}\n",
    "        }\"\"\"\n",
    "\n",
    "response = upAcervo.run_sparql(d)\n",
    "response.convert()"
   ]
  },
  {
   "cell_type": "code",
   "execution_count": 25,
   "metadata": {},
   "outputs": [
    {
     "data": {
      "text/plain": [
       "{'statusCode': 200, 'message': 'Update succeeded'}"
      ]
     },
     "execution_count": 25,
     "metadata": {},
     "output_type": "execute_result"
    }
   ],
   "source": [
    "upThesaurus = FusekiUpdate('http://localhost:3030', 'thesaurus')\n",
    "\n",
    "d = \"\"\"DELETE { graph ?g { ?s ?p ?o } } \n",
    "        WHERE {\n",
    "        graph ?g {?s ?p ?o.}\n",
    "        }\"\"\"\n",
    "\n",
    "response = upThesaurus.run_sparql(d)\n",
    "response.convert()"
   ]
  },
  {
   "cell_type": "code",
   "execution_count": 10,
   "metadata": {},
   "outputs": [],
   "source": [
    "q = \"\"\"SELECT ?g  \n",
    "        {graph ?g {?s ?p ?o}} \n",
    "        group by ?g \n",
    "        ORDER BY DESC(?g)\n",
    "        LIMIT 1\"\"\"\n",
    "\n",
    "response = queryAcervo.run_sparql(q)\n",
    "r = response.convert()\n",
    "bindings = r['results']['bindings']"
   ]
  },
  {
   "cell_type": "code",
   "execution_count": 15,
   "metadata": {},
   "outputs": [],
   "source": [
    "value = bindings[0]['g']['value']"
   ]
  },
  {
   "cell_type": "code",
   "execution_count": 21,
   "metadata": {},
   "outputs": [
    {
     "data": {
      "text/plain": [
       "'1'"
      ]
     },
     "execution_count": 21,
     "metadata": {},
     "output_type": "execute_result"
    }
   ],
   "source": [
    "value.split(\"-\")[1]"
   ]
  },
  {
   "cell_type": "code",
   "execution_count": null,
   "metadata": {},
   "outputs": [],
   "source": [
    "def GenerateId():\n",
    "\n",
    "    year = datetime.now().year \n",
    "    year = str(year)[2:]\n",
    "\n",
    "    # store = SPARQLUpdateStore(update_endpoint='http://localhost:3030/acervo/update')\n",
    "    # query_endpoint = 'http://localhost:3030/acervo/query'\n",
    "    # update_endpoint = 'http://localhost:3030/acervo/update'\n",
    "    # store.open((query_endpoint, update_endpoint))\n",
    "    \n",
    "    \n",
    "    q = \"\"\"SELECT ?g  \n",
    "        {graph ?g {?s ?p ?o}} \n",
    "        group by ?g \n",
    "        ORDER BY DESC(?g)\n",
    "        LIMIT 1\"\"\"\n",
    "    \n",
    "    # r = store.query(q)\n",
    "    response = queryAcervo.run_sparql(d)\n",
    "    \n",
    "    bindings = r.bindings\n",
    "    if len(bindings) == 0:\n",
    "        register = f'bk-{year}-1'\n",
    "        return register\n",
    "\n",
    "    for i in r:\n",
    "        uri = i[0].toPython()\n",
    "    bk = uri.split('/')[-1]\n",
    "    count = bk.split('-')[-1]\n",
    "    count = int(count) + 1  \n",
    "\n",
    "    \n",
    "    register = f'bk-{year}-{count}'\n",
    "\n",
    "    return register"
   ]
  },
  {
   "attachments": {},
   "cell_type": "markdown",
   "metadata": {},
   "source": [
    "WORK BK"
   ]
  },
  {
   "cell_type": "code",
   "execution_count": 15,
   "metadata": {},
   "outputs": [
    {
     "data": {
      "text/plain": [
       "<Graph identifier=N4e0beb81ebc641b1b4ed8e2a282be2ea (<class 'rdflib.graph.Graph'>)>"
      ]
     },
     "execution_count": 15,
     "metadata": {},
     "output_type": "execute_result"
    }
   ],
   "source": [
    "uri = \"http://localhost:3030/acervo?graph=https://bibliokeia.com/bibframe/work/bk-23-1\"\n",
    "r = httpx.get(uri)\n",
    "g = Graph()\n",
    "g.parse(r.content)\n",
    "g.serialize('work.nt')"
   ]
  },
  {
   "attachments": {},
   "cell_type": "markdown",
   "metadata": {},
   "source": [
    "WORK LOC"
   ]
  },
  {
   "cell_type": "code",
   "execution_count": 2,
   "metadata": {},
   "outputs": [
    {
     "data": {
      "text/plain": [
       "<Graph identifier=Nb0c63005ff254156a92d75a5355da141 (<class 'rdflib.graph.Graph'>)>"
      ]
     },
     "execution_count": 2,
     "metadata": {},
     "output_type": "execute_result"
    }
   ],
   "source": [
    "g = Graph()\n",
    "g.parse(\"http://id.loc.gov/resources/works/18334774.bibframe.rdf\")\n",
    "g.serialize('glotious_forest.nt')"
   ]
  },
  {
   "attachments": {},
   "cell_type": "markdown",
   "metadata": {},
   "source": [
    "INSTANCE BK"
   ]
  },
  {
   "cell_type": "code",
   "execution_count": 17,
   "metadata": {},
   "outputs": [
    {
     "data": {
      "text/plain": [
       "<Graph identifier=Nef0292801dbc407b9c650620a490d46b (<class 'rdflib.graph.Graph'>)>"
      ]
     },
     "execution_count": 17,
     "metadata": {},
     "output_type": "execute_result"
    }
   ],
   "source": [
    "uri = \"http://localhost:3030/acervo?graph=https://bibliokeia.com/bibframe/instance/bk-23-1\"\n",
    "r = httpx.get(uri)\n",
    "g = Graph()\n",
    "g.parse(r.content)\n",
    "g.serialize('instance.nt')"
   ]
  },
  {
   "attachments": {},
   "cell_type": "markdown",
   "metadata": {},
   "source": [
    "ITEMS BK"
   ]
  },
  {
   "cell_type": "code",
   "execution_count": 15,
   "metadata": {},
   "outputs": [
    {
     "data": {
      "text/plain": [
       "<Graph identifier=N81349e2591274bada155170aeee81ea7 (<class 'rdflib.graph.Graph'>)>"
      ]
     },
     "execution_count": 15,
     "metadata": {},
     "output_type": "execute_result"
    }
   ],
   "source": [
    "uri = 'http://id.loc.gov/resources/items/2215252-050-9.rdf'\n",
    "g = Graph()\n",
    "g.parse(uri)\n",
    "g.serialize('item.nt')"
   ]
  },
  {
   "attachments": {},
   "cell_type": "markdown",
   "metadata": {},
   "source": [
    "NAMES BK"
   ]
  },
  {
   "cell_type": "code",
   "execution_count": 14,
   "metadata": {},
   "outputs": [
    {
     "data": {
      "text/plain": [
       "<Graph identifier=N31bfb3d598d34cd8aeb5e8e60d861d56 (<class 'rdflib.graph.Graph'>)>"
      ]
     },
     "execution_count": 14,
     "metadata": {},
     "output_type": "execute_result"
    }
   ],
   "source": [
    "uri = \"http://localhost:3030/thesaurus?graph=https://bibliokeia.com/authorities/names/n79138841\"\n",
    "r = httpx.get(uri)\n",
    "g = Graph()\n",
    "g.parse(r.content)\n",
    "g.serialize('nameBK.nt')"
   ]
  },
  {
   "cell_type": "code",
   "execution_count": 24,
   "metadata": {},
   "outputs": [
    {
     "name": "stdout",
     "output_type": "stream",
     "text": [
      "CorporateName\n"
     ]
    }
   ],
   "source": [
    "token = \"n79138841\"\n",
    "\n",
    "qType = \"\"\"\n",
    "PREFIX namesBK: <https://bibliokeia.com/authorities/names/> \n",
    "PREFIX rdf: <http://www.w3.org/1999/02/22-rdf-syntax-ns#> \n",
    "SELECT  ?o\n",
    "WHERE { namesBK:\"\"\"+token+\" rdf:type ?o}\"\n",
    "\n",
    "r = g.query(qType)\n",
    "\n",
    "for i in r:\n",
    "    tipo = i.o.split(\"#\")[1]\n",
    "    if tipo != \"Authority\":\n",
    "        print(tipo)\n",
    "\n"
   ]
  },
  {
   "cell_type": "code",
   "execution_count": 18,
   "metadata": {},
   "outputs": [
    {
     "name": "stdout",
     "output_type": "stream",
     "text": [
      "@prefix bf: <http://id.loc.gov/ontologies/bibframe/> .\n",
      "@prefix bflc: <http://id.loc.gov/ontologies/bflc/> .\n",
      "@prefix foaf: <http://xmlns.com/foaf/0.1/> .\n",
      "@prefix identifiers: <http://id.loc.gov/vocabulary/identifiers/> .\n",
      "@prefix madsrdf: <http://www.loc.gov/mads/rdf/v1#> .\n",
      "@prefix rdf: <http://www.w3.org/1999/02/22-rdf-syntax-ns#> .\n",
      "@prefix rdfs: <http://www.w3.org/2000/01/rdf-schema#> .\n",
      "@prefix ri: <http://id.loc.gov/ontologies/RecordInfo#> .\n",
      "@prefix skos: <http://www.w3.org/2004/02/skos/core#> .\n",
      "@prefix xsd: <http://www.w3.org/2001/XMLSchema#> .\n",
      "\n",
      "<https://bibliokeia.com/authorities/names/n79138841> a madsrdf:Authority,\n",
      "        madsrdf:CorporateName ;\n",
      "    bflc:marcKey \"1102 $aNew York Botanical Garden\" ;\n",
      "    identifiers:lccn \"n 79138841\" ;\n",
      "    identifiers:local \"(OCoLC)oca00370115\" ;\n",
      "    madsrdf:adminMetadata [ a ri:RecordInfo ;\n",
      "            ri:languageOfCataloging <http://id.loc.gov/vocabulary/iso639-2/eng> ;\n",
      "            ri:recordChangeDate \"1980-02-13T00:00:00\"^^xsd:dateTime ;\n",
      "            ri:recordContentSource <http://id.loc.gov/vocabulary/organizations/dlc> ;\n",
      "            ri:recordStatus \"new\" ],\n",
      "        [ a ri:RecordInfo ;\n",
      "            ri:languageOfCataloging <http://id.loc.gov/vocabulary/iso639-2/eng> ;\n",
      "            ri:recordChangeDate \"2018-09-29T07:36:47\"^^xsd:dateTime ;\n",
      "            ri:recordContentSource <http://id.loc.gov/vocabulary/organizations/wau> ;\n",
      "            ri:recordStatus \"revised\" ] ;\n",
      "    madsrdf:authoritativeLabel \"New York Botanical Garden\" ;\n",
      "    madsrdf:elementList ( [ a madsrdf:NameElement ;\n",
      "                madsrdf:elementValue \"New York Botanical Garden\" ] ) ;\n",
      "    madsrdf:hasCloseExternalAuthority <http://id.worldcat.org/fast/539132>,\n",
      "        <http://www.wikidata.org/entity/Q636275> ;\n",
      "    madsrdf:hasExactExternalAuthority <http://viaf.org/viaf/sourceID/LC%7Cn++79138841#skos:Concept> ;\n",
      "    madsrdf:hasSource [ a madsrdf:Source ;\n",
      "            madsrdf:citationNote \"(The New York Botanical Garden (NYBG) is a National Historic Landmark located in the Bronx, New York City; established on 28 April 1891; museum of living plant collections arranged in gardens and landscapes; comprehensive education programs in horticulture and plant science; research programs of the International Plant Science Center; 40°51ʹ49ʺN 73°52ʹ42ʺW)\" ;\n",
      "            madsrdf:citationSource \"Wikipedia, September 28, 2018\" ;\n",
      "            madsrdf:citationStatus \"found\" ],\n",
      "        [ a madsrdf:Source ;\n",
      "            madsrdf:citationNote \"CIP t.p. (New York Botanical Garden)\" ;\n",
      "            madsrdf:citationSource \"Proctor, G.R. Ferns of Puerto Rico and the Virgin Islands, c1989:\" ;\n",
      "            madsrdf:citationStatus \"found\" ],\n",
      "        [ a madsrdf:Source ;\n",
      "            madsrdf:citationNote \"CIP t.p. (New York Botanical Garden; NYBG)\" ;\n",
      "            madsrdf:citationSource \"Floristic inventory of tropical countries, 1988:\" ;\n",
      "            madsrdf:citationStatus \"found\" ] ;\n",
      "    madsrdf:hasVariant [ a madsrdf:CorporateName,\n",
      "                madsrdf:Variant ;\n",
      "            madsrdf:elementList ( [ a madsrdf:NameElement ;\n",
      "                        madsrdf:elementValue \"N.Y.B.G.\" ] ) ;\n",
      "            madsrdf:variantLabel \"N.Y.B.G.\" ],\n",
      "        [ a madsrdf:CorporateName,\n",
      "                madsrdf:Variant ;\n",
      "            madsrdf:elementList ( [ a madsrdf:NameElement ;\n",
      "                        madsrdf:elementValue \"NYBG\" ] ) ;\n",
      "            madsrdf:variantLabel \"NYBG\" ],\n",
      "        [ a madsrdf:CorporateName,\n",
      "                madsrdf:Variant ;\n",
      "            madsrdf:elementList ( [ a madsrdf:NameElement ;\n",
      "                        madsrdf:elementValue \"New York (N.Y.).\" ] [ a madsrdf:NameElement ;\n",
      "                        madsrdf:elementValue \"Botanical Garden\" ] ) ;\n",
      "            madsrdf:variantLabel \"New York (N.Y.). Botanical Garden\" ] ;\n",
      "    madsrdf:identifiesRWO <http://id.loc.gov/rwo/agents/n79138841> ;\n",
      "    madsrdf:isMemberOfMADSCollection <http://id.loc.gov/authorities/names/collection_LCNAF>,\n",
      "        <http://id.loc.gov/authorities/names/collection_NamesAuthorizedHeadings> ;\n",
      "    madsrdf:isMemberOfMADSScheme <http://id.loc.gov/authorities/names> .\n",
      "\n",
      "<http://id.loc.gov/authorities/subjects/sh85015976> a skos:Concept ;\n",
      "    madsrdf:authoritativeLabel \"Botany\" .\n",
      "\n",
      "<http://id.loc.gov/authorities/subjects/sh85062204> a skos:Concept ;\n",
      "    madsrdf:authoritativeLabel \"Horticulture\" .\n",
      "\n",
      "<http://id.loc.gov/rwo/agents/n79138841> a bf:Organization,\n",
      "        madsrdf:RWO,\n",
      "        foaf:Organization ;\n",
      "    rdfs:label \"New York Botanical Garden\" ;\n",
      "    madsrdf:associatedLanguage <http://id.loc.gov/vocabulary/languages/eng> ;\n",
      "    madsrdf:associatedLocale [ a madsrdf:Geographic ;\n",
      "            rdfs:label \"United States\" ;\n",
      "            madsrdf:isMemberOfMADSScheme <http://id.loc.gov/authorities/names> ] ;\n",
      "    madsrdf:entityDescriptor [ a skos:Concept ;\n",
      "            rdfs:label \"Botanical gardens\" ] ;\n",
      "    madsrdf:fieldOfActivity <http://id.loc.gov/authorities/subjects/sh85015976>,\n",
      "        <http://id.loc.gov/authorities/subjects/sh85062204> .\n",
      "\n",
      "<http://id.loc.gov/vocabulary/languages/eng> a madsrdf:Language ;\n",
      "    madsrdf:authoritativeLabel \"English\"@en .\n",
      "\n",
      "\n"
     ]
    }
   ],
   "source": [
    "g.print()"
   ]
  },
  {
   "attachments": {},
   "cell_type": "markdown",
   "metadata": {},
   "source": [
    "SUBJECTS BK"
   ]
  },
  {
   "cell_type": "code",
   "execution_count": 8,
   "metadata": {},
   "outputs": [
    {
     "data": {
      "text/plain": [
       "<Graph identifier=N8687b45b63cc46f8bed88bf7903542c0 (<class 'rdflib.graph.Graph'>)>"
      ]
     },
     "execution_count": 8,
     "metadata": {},
     "output_type": "execute_result"
    }
   ],
   "source": [
    "token = \"sh85084414\"\n",
    "uri = f'http://localhost:3030/thesaurus?graph=https://bibliokeia.com/authorities/subjects/{token}'\n",
    "r = httpx.get(uri)\n",
    "g = Graph()\n",
    "g.parse(r.content)\n",
    "g.serialize('subjects.nt')"
   ]
  },
  {
   "attachments": {},
   "cell_type": "markdown",
   "metadata": {},
   "source": [
    "SERIE LOC"
   ]
  },
  {
   "cell_type": "code",
   "execution_count": 7,
   "metadata": {},
   "outputs": [
    {
     "data": {
      "text/plain": [
       "<Graph identifier=N94c42584427b4fe1af17b398a24ba0d3 (<class 'rdflib.graph.Graph'>)>"
      ]
     },
     "execution_count": 7,
     "metadata": {},
     "output_type": "execute_result"
    }
   ],
   "source": [
    "uri = \"http://id.loc.gov/resources/hubs/3035b85d-c7b5-649a-aa12-05ce677f9f11.bibframe.rdf\"\n",
    "g = Graph()\n",
    "g.parse(uri)\n",
    "g.serialize('serie.nt')"
   ]
  },
  {
   "attachments": {},
   "cell_type": "markdown",
   "metadata": {},
   "source": [
    "NAMES LOC"
   ]
  },
  {
   "cell_type": "code",
   "execution_count": 8,
   "metadata": {},
   "outputs": [
    {
     "data": {
      "text/plain": [
       "<Graph identifier=N6b9b51a086614dddab1c9ff39b6c687c (<class 'rdflib.graph.Graph'>)>"
      ]
     },
     "execution_count": 8,
     "metadata": {},
     "output_type": "execute_result"
    }
   ],
   "source": [
    "uri = \"http://id.loc.gov/authorities/names/n79138841.madsrdf.rdf\"\n",
    "g = Graph()\n",
    "g.parse(uri)\n",
    "g.serialize('names.nt')"
   ]
  }
 ],
 "metadata": {
  "kernelspec": {
   "display_name": "venv",
   "language": "python",
   "name": "python3"
  },
  "language_info": {
   "codemirror_mode": {
    "name": "ipython",
    "version": 3
   },
   "file_extension": ".py",
   "mimetype": "text/x-python",
   "name": "python",
   "nbconvert_exporter": "python",
   "pygments_lexer": "ipython3",
   "version": "3.10.4 (tags/v3.10.4:9d38120, Mar 23 2022, 23:13:41) [MSC v.1929 64 bit (AMD64)]"
  },
  "orig_nbformat": 4,
  "vscode": {
   "interpreter": {
    "hash": "7c803f0ee3b2b2cd03f94fb28d6f360d094e6843888122798203f226e128b66e"
   }
  }
 },
 "nbformat": 4,
 "nbformat_minor": 2
}
