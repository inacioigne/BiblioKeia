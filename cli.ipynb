{
 "cells": [
  {
   "cell_type": "code",
   "execution_count": 1,
   "metadata": {},
   "outputs": [],
   "source": [
    "from pyfuseki import FusekiUpdate, FusekiQuery\n",
    "import httpx\n",
    "from rdflib import Graph\n",
    "from pysolr import Solr"
   ]
  },
  {
   "cell_type": "code",
   "execution_count": 13,
   "metadata": {},
   "outputs": [],
   "source": [
    "from api.src.function.cataloguing.generate_id import GenerateId"
   ]
  },
  {
   "cell_type": "code",
   "execution_count": 14,
   "metadata": {},
   "outputs": [
    {
     "data": {
      "text/plain": [
       "'bk-6'"
      ]
     },
     "execution_count": 14,
     "metadata": {},
     "output_type": "execute_result"
    }
   ],
   "source": [
    "work_id = GenerateId()\n",
    "work_id['id']"
   ]
  },
  {
   "attachments": {},
   "cell_type": "markdown",
   "metadata": {},
   "source": [
    "SOLR"
   ]
  },
  {
   "cell_type": "code",
   "execution_count": 2,
   "metadata": {},
   "outputs": [
    {
     "data": {
      "text/plain": [
       "'<?xml version=\"1.0\" encoding=\"UTF-8\"?>\\n<response>\\n\\n<lst name=\"responseHeader\">\\n  <int name=\"status\">0</int>\\n  <int name=\"QTime\">424</int>\\n</lst>\\n</response>\\n'"
      ]
     },
     "execution_count": 2,
     "metadata": {},
     "output_type": "execute_result"
    }
   ],
   "source": [
    "solr = Solr('http://localhost:8983/solr/authorities/', timeout=10)\n",
    "solr.delete(q=\"*:*\",  commit=True)"
   ]
  },
  {
   "cell_type": "code",
   "execution_count": 3,
   "metadata": {},
   "outputs": [
    {
     "data": {
      "text/plain": [
       "'<?xml version=\"1.0\" encoding=\"UTF-8\"?>\\n<response>\\n\\n<lst name=\"responseHeader\">\\n  <int name=\"status\">0</int>\\n  <int name=\"QTime\">239</int>\\n</lst>\\n</response>\\n'"
      ]
     },
     "execution_count": 3,
     "metadata": {},
     "output_type": "execute_result"
    }
   ],
   "source": [
    "solrAcervo = Solr('http://localhost:8983/solr/acervo/', timeout=10)\n",
    "solrAcervo.delete(q=\"*:*\",  commit=True)"
   ]
  },
  {
   "cell_type": "code",
   "execution_count": 11,
   "metadata": {},
   "outputs": [
    {
     "data": {
      "text/plain": [
       "'{\\n  \"responseHeader\":{\\n    \"status\":0,\\n    \"QTime\":310}}\\n'"
      ]
     },
     "execution_count": 11,
     "metadata": {},
     "output_type": "execute_result"
    }
   ],
   "source": [
    "doc = {\n",
    "        \"id\": \"n78078534\",\n",
    "        #\"contributorTo\": {\"add\": [\"bk-1\"]}\n",
    "     }\n",
    "solrAuthorities.add([doc], commit=True)"
   ]
  },
  {
   "cell_type": "code",
   "execution_count": null,
   "metadata": {},
   "outputs": [],
   "source": [
    "work = {\n",
    "        \"id\": \"request.instanceOf\",\n",
    "         \"hasInstance\": {\"add\": [request.instanceOf]}\n",
    "    }"
   ]
  },
  {
   "cell_type": "code",
   "execution_count": null,
   "metadata": {},
   "outputs": [],
   "source": [
    "solr = Solr('http://localhost:8983/solr/acervo/', timeout=10)\n",
    "solr.ping()"
   ]
  },
  {
   "attachments": {},
   "cell_type": "markdown",
   "metadata": {},
   "source": [
    "DELETE GRAPHS"
   ]
  },
  {
   "cell_type": "code",
   "execution_count": 4,
   "metadata": {},
   "outputs": [
    {
     "data": {
      "text/plain": [
       "{'statusCode': 200, 'message': 'Update succeeded'}"
      ]
     },
     "execution_count": 4,
     "metadata": {},
     "output_type": "execute_result"
    }
   ],
   "source": [
    "upAcervo = FusekiUpdate('http://localhost:3030', 'acervo')\n",
    "\n",
    "d = \"\"\"DELETE { graph ?g { ?s ?p ?o } } \n",
    "        WHERE {\n",
    "        graph ?g {?s ?p ?o.}\n",
    "        }\"\"\"\n",
    "\n",
    "response = upAcervo.run_sparql(d)\n",
    "response.convert()"
   ]
  },
  {
   "cell_type": "code",
   "execution_count": 5,
   "metadata": {},
   "outputs": [
    {
     "data": {
      "text/plain": [
       "{'statusCode': 200, 'message': 'Update succeeded'}"
      ]
     },
     "execution_count": 5,
     "metadata": {},
     "output_type": "execute_result"
    }
   ],
   "source": [
    "upThesaurus = FusekiUpdate('http://localhost:3030', 'thesaurus')\n",
    "\n",
    "d = \"\"\"DELETE { graph ?g { ?s ?p ?o } } \n",
    "        WHERE {\n",
    "        graph ?g {?s ?p ?o.}\n",
    "        }\"\"\"\n",
    "\n",
    "response = upThesaurus.run_sparql(d)\n",
    "response.convert()"
   ]
  },
  {
   "cell_type": "code",
   "execution_count": 10,
   "metadata": {},
   "outputs": [],
   "source": [
    "q = \"\"\"SELECT ?g  \n",
    "        {graph ?g {?s ?p ?o}} \n",
    "        group by ?g \n",
    "        ORDER BY DESC(?g)\n",
    "        LIMIT 1\"\"\"\n",
    "\n",
    "response = queryAcervo.run_sparql(q)\n",
    "r = response.convert()\n",
    "bindings = r['results']['bindings']"
   ]
  },
  {
   "cell_type": "code",
   "execution_count": 15,
   "metadata": {},
   "outputs": [],
   "source": [
    "value = bindings[0]['g']['value']"
   ]
  },
  {
   "cell_type": "code",
   "execution_count": 21,
   "metadata": {},
   "outputs": [
    {
     "data": {
      "text/plain": [
       "'1'"
      ]
     },
     "execution_count": 21,
     "metadata": {},
     "output_type": "execute_result"
    }
   ],
   "source": [
    "value.split(\"-\")[1]"
   ]
  },
  {
   "cell_type": "code",
   "execution_count": null,
   "metadata": {},
   "outputs": [],
   "source": [
    "def GenerateId():\n",
    "\n",
    "    year = datetime.now().year \n",
    "    year = str(year)[2:]\n",
    "\n",
    "    # store = SPARQLUpdateStore(update_endpoint='http://localhost:3030/acervo/update')\n",
    "    # query_endpoint = 'http://localhost:3030/acervo/query'\n",
    "    # update_endpoint = 'http://localhost:3030/acervo/update'\n",
    "    # store.open((query_endpoint, update_endpoint))\n",
    "    \n",
    "    \n",
    "    q = \"\"\"SELECT ?g  \n",
    "        {graph ?g {?s ?p ?o}} \n",
    "        group by ?g \n",
    "        ORDER BY DESC(?g)\n",
    "        LIMIT 1\"\"\"\n",
    "    \n",
    "    # r = store.query(q)\n",
    "    response = queryAcervo.run_sparql(d)\n",
    "    \n",
    "    bindings = r.bindings\n",
    "    if len(bindings) == 0:\n",
    "        register = f'bk-{year}-1'\n",
    "        return register\n",
    "\n",
    "    for i in r:\n",
    "        uri = i[0].toPython()\n",
    "    bk = uri.split('/')[-1]\n",
    "    count = bk.split('-')[-1]\n",
    "    count = int(count) + 1  \n",
    "\n",
    "    \n",
    "    register = f'bk-{year}-{count}'\n",
    "\n",
    "    return register"
   ]
  },
  {
   "attachments": {},
   "cell_type": "markdown",
   "metadata": {},
   "source": [
    "WORK BK"
   ]
  },
  {
   "cell_type": "code",
   "execution_count": 5,
   "metadata": {},
   "outputs": [
    {
     "data": {
      "text/plain": [
       "<Graph identifier=Ndcc3a04a8b434776ac7e60679ded51b7 (<class 'rdflib.graph.Graph'>)>"
      ]
     },
     "execution_count": 5,
     "metadata": {},
     "output_type": "execute_result"
    }
   ],
   "source": [
    "uri = \"http://localhost:3030/acervo?graph=https://bibliokeia.com/resources/work/bk-19\"\n",
    "r = httpx.get(uri)\n",
    "g = Graph()\n",
    "g.parse(r.content)\n",
    "g.serialize('bk-19.nt')"
   ]
  },
  {
   "attachments": {},
   "cell_type": "markdown",
   "metadata": {},
   "source": [
    "WORK LOC"
   ]
  },
  {
   "cell_type": "code",
   "execution_count": 2,
   "metadata": {},
   "outputs": [
    {
     "data": {
      "text/plain": [
       "<Graph identifier=Nb0c63005ff254156a92d75a5355da141 (<class 'rdflib.graph.Graph'>)>"
      ]
     },
     "execution_count": 2,
     "metadata": {},
     "output_type": "execute_result"
    }
   ],
   "source": [
    "g = Graph()\n",
    "g.parse(\"http://id.loc.gov/resources/works/18334774.bibframe.rdf\")\n",
    "g.serialize('glotious_forest.nt')"
   ]
  },
  {
   "attachments": {},
   "cell_type": "markdown",
   "metadata": {},
   "source": [
    "INSTANCE BK"
   ]
  },
  {
   "cell_type": "code",
   "execution_count": 17,
   "metadata": {},
   "outputs": [
    {
     "data": {
      "text/plain": [
       "<Graph identifier=Nef0292801dbc407b9c650620a490d46b (<class 'rdflib.graph.Graph'>)>"
      ]
     },
     "execution_count": 17,
     "metadata": {},
     "output_type": "execute_result"
    }
   ],
   "source": [
    "uri = \"http://localhost:3030/acervo?graph=https://bibliokeia.com/bibframe/instance/bk-23-1\"\n",
    "r = httpx.get(uri)\n",
    "g = Graph()\n",
    "g.parse(r.content)\n",
    "g.serialize('instance.nt')"
   ]
  },
  {
   "attachments": {},
   "cell_type": "markdown",
   "metadata": {},
   "source": [
    "ITEMS BK"
   ]
  },
  {
   "cell_type": "code",
   "execution_count": 15,
   "metadata": {},
   "outputs": [
    {
     "data": {
      "text/plain": [
       "<Graph identifier=N81349e2591274bada155170aeee81ea7 (<class 'rdflib.graph.Graph'>)>"
      ]
     },
     "execution_count": 15,
     "metadata": {},
     "output_type": "execute_result"
    }
   ],
   "source": [
    "uri = 'http://id.loc.gov/resources/items/2215252-050-9.rdf'\n",
    "g = Graph()\n",
    "g.parse(uri)\n",
    "g.serialize('item.nt')"
   ]
  },
  {
   "attachments": {},
   "cell_type": "markdown",
   "metadata": {},
   "source": [
    "NAMES BK"
   ]
  },
  {
   "cell_type": "code",
   "execution_count": 9,
   "metadata": {},
   "outputs": [
    {
     "data": {
      "text/plain": [
       "<Graph identifier=N67ae810991d64c6789163725f3ea993c (<class 'rdflib.graph.Graph'>)>"
      ]
     },
     "execution_count": 9,
     "metadata": {},
     "output_type": "execute_result"
    }
   ],
   "source": [
    "uri = \"http://localhost:3030/thesaurus?graph=https://bibliokeia.com/authorities/names/n79138841\"\n",
    "r = httpx.get(uri)\n",
    "g = Graph()\n",
    "g.parse(r.content)\n",
    "g.serialize('nameBK.nt')"
   ]
  },
  {
   "cell_type": "code",
   "execution_count": 24,
   "metadata": {},
   "outputs": [
    {
     "name": "stdout",
     "output_type": "stream",
     "text": [
      "CorporateName\n"
     ]
    }
   ],
   "source": [
    "token = \"n79138841\"\n",
    "\n",
    "qType = \"\"\"\n",
    "PREFIX namesBK: <https://bibliokeia.com/authorities/names/> \n",
    "PREFIX rdf: <http://www.w3.org/1999/02/22-rdf-syntax-ns#> \n",
    "SELECT  ?o\n",
    "WHERE { namesBK:\"\"\"+token+\" rdf:type ?o}\"\n",
    "\n",
    "r = g.query(qType)\n",
    "\n",
    "for i in r:\n",
    "    tipo = i.o.split(\"#\")[1]\n",
    "    if tipo != \"Authority\":\n",
    "        print(tipo)\n",
    "\n"
   ]
  },
  {
   "attachments": {},
   "cell_type": "markdown",
   "metadata": {},
   "source": [
    "SUBJECTS BK"
   ]
  },
  {
   "cell_type": "code",
   "execution_count": 8,
   "metadata": {},
   "outputs": [
    {
     "data": {
      "text/plain": [
       "<Graph identifier=N8687b45b63cc46f8bed88bf7903542c0 (<class 'rdflib.graph.Graph'>)>"
      ]
     },
     "execution_count": 8,
     "metadata": {},
     "output_type": "execute_result"
    }
   ],
   "source": [
    "token = \"sh85084414\"\n",
    "uri = f'http://localhost:3030/thesaurus?graph=https://bibliokeia.com/authorities/subjects/{token}'\n",
    "r = httpx.get(uri)\n",
    "g = Graph()\n",
    "g.parse(r.content)\n",
    "g.serialize('subjects.nt')"
   ]
  },
  {
   "attachments": {},
   "cell_type": "markdown",
   "metadata": {},
   "source": [
    "SERIE LOC"
   ]
  },
  {
   "cell_type": "code",
   "execution_count": 7,
   "metadata": {},
   "outputs": [
    {
     "data": {
      "text/plain": [
       "<Graph identifier=N94c42584427b4fe1af17b398a24ba0d3 (<class 'rdflib.graph.Graph'>)>"
      ]
     },
     "execution_count": 7,
     "metadata": {},
     "output_type": "execute_result"
    }
   ],
   "source": [
    "uri = \"http://id.loc.gov/resources/hubs/3035b85d-c7b5-649a-aa12-05ce677f9f11.bibframe.rdf\"\n",
    "g = Graph()\n",
    "g.parse(uri)\n",
    "g.serialize('serie.nt')"
   ]
  },
  {
   "attachments": {},
   "cell_type": "markdown",
   "metadata": {},
   "source": [
    "SERIE BK"
   ]
  },
  {
   "cell_type": "code",
   "execution_count": 4,
   "metadata": {},
   "outputs": [
    {
     "data": {
      "text/plain": [
       "<Graph identifier=Ned294ddf7d07475cb079fe57c21f7fa5 (<class 'rdflib.graph.Graph'>)>"
      ]
     },
     "execution_count": 4,
     "metadata": {},
     "output_type": "execute_result"
    }
   ],
   "source": [
    "\n",
    "uri = f'http://localhost:3030/acervo?graph=https://bibliokeia.com/resources/hub/bk-5'\n",
    "r = httpx.get(uri)\n",
    "g = Graph()\n",
    "g.parse(r.content)\n",
    "g.serialize('serieBK.nt')"
   ]
  },
  {
   "attachments": {},
   "cell_type": "markdown",
   "metadata": {},
   "source": [
    "NAMES LOC"
   ]
  },
  {
   "cell_type": "code",
   "execution_count": 7,
   "metadata": {},
   "outputs": [
    {
     "data": {
      "text/plain": [
       "<Graph identifier=Naaef8cb88add48bbb714a2c129becfcb (<class 'rdflib.graph.Graph'>)>"
      ]
     },
     "execution_count": 7,
     "metadata": {},
     "output_type": "execute_result"
    }
   ],
   "source": [
    "uri = \"http://id.loc.gov/authorities/names/n79138841.madsrdf.rdf\"\n",
    "g = Graph()\n",
    "g.parse(uri)\n",
    "g.serialize('names.nt')"
   ]
  },
  {
   "cell_type": "code",
   "execution_count": 7,
   "metadata": {},
   "outputs": [],
   "source": [
    "from api.src.function.bibframe.types import TypeBF"
   ]
  },
  {
   "cell_type": "code",
   "execution_count": 1,
   "metadata": {},
   "outputs": [],
   "source": [
    "from api.src.schemas.bibframe.hub import Hub_Schema"
   ]
  },
  {
   "cell_type": "code",
   "execution_count": 2,
   "metadata": {},
   "outputs": [],
   "source": [
    "h = Hub_Schema(**{\n",
    "    \"type\": \"Series\",\n",
    "    \"mainTitle\": \"Memoirs of the New York Botanical Garden\",\n",
    "    \"subtitle\": \"\",\n",
    "    \"variantTitle\": \"NYBG memoirs\",\n",
    "    \"contributionAgent\": \"New York Botanical Garden\",\n",
    "    \"contributionRole\": \"Contributor\",\n",
    "    \"contributionRoleUri\": \"http://id.loc.gov/vocabulary/relators/ctb\",\n",
    "    \"contributionID\": \"n79138841\",\n",
    "    \"cdd\": \"548.2\",\n",
    "    \"cutter\": \"\",\n",
    "    \"issn\": \"0077-8931\"\n",
    "})"
   ]
  },
  {
   "cell_type": "code",
   "execution_count": 5,
   "metadata": {},
   "outputs": [
    {
     "data": {
      "text/plain": [
       "True"
      ]
     },
     "execution_count": 5,
     "metadata": {},
     "output_type": "execute_result"
    }
   ],
   "source": [
    "h.cutter == \"\""
   ]
  }
 ],
 "metadata": {
  "kernelspec": {
   "display_name": "venv",
   "language": "python",
   "name": "python3"
  },
  "language_info": {
   "codemirror_mode": {
    "name": "ipython",
    "version": 3
   },
   "file_extension": ".py",
   "mimetype": "text/x-python",
   "name": "python",
   "nbconvert_exporter": "python",
   "pygments_lexer": "ipython3",
   "version": "3.10.4"
  },
  "orig_nbformat": 4,
  "vscode": {
   "interpreter": {
    "hash": "7c803f0ee3b2b2cd03f94fb28d6f360d094e6843888122798203f226e128b66e"
   }
  }
 },
 "nbformat": 4,
 "nbformat_minor": 2
}
