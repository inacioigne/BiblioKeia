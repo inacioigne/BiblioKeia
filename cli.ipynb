{
 "cells": [
  {
   "cell_type": "code",
   "execution_count": 1,
   "metadata": {},
   "outputs": [],
   "source": [
    "from pyfuseki import FusekiUpdate, FusekiQuery\n",
    "import httpx\n",
    "from rdflib import Graph\n",
    "from pysolr import Solr"
   ]
  },
  {
   "attachments": {},
   "cell_type": "markdown",
   "metadata": {},
   "source": [
    "SOLR"
   ]
  },
  {
   "cell_type": "code",
   "execution_count": 2,
   "metadata": {},
   "outputs": [
    {
     "data": {
      "text/plain": [
       "'<?xml version=\"1.0\" encoding=\"UTF-8\"?>\\n<response>\\n\\n<lst name=\"responseHeader\">\\n  <int name=\"status\">0</int>\\n  <int name=\"QTime\">211</int>\\n</lst>\\n</response>\\n'"
      ]
     },
     "execution_count": 2,
     "metadata": {},
     "output_type": "execute_result"
    }
   ],
   "source": [
    "solr = Solr('http://localhost:8983/solr/authorities/', timeout=10)\n",
    "solr.delete(q=\"*:*\",  commit=True)"
   ]
  },
  {
   "cell_type": "code",
   "execution_count": 3,
   "metadata": {},
   "outputs": [
    {
     "data": {
      "text/plain": [
       "'<?xml version=\"1.0\" encoding=\"UTF-8\"?>\\n<response>\\n\\n<lst name=\"responseHeader\">\\n  <int name=\"status\">0</int>\\n  <int name=\"QTime\">223</int>\\n</lst>\\n</response>\\n'"
      ]
     },
     "execution_count": 3,
     "metadata": {},
     "output_type": "execute_result"
    }
   ],
   "source": [
    "solrAcervo = Solr('http://localhost:8983/solr/acervo/', timeout=10)\n",
    "solrAcervo.delete(q=\"*:*\",  commit=True)"
   ]
  },
  {
   "cell_type": "code",
   "execution_count": 11,
   "metadata": {},
   "outputs": [
    {
     "data": {
      "text/plain": [
       "'{\\n  \"responseHeader\":{\\n    \"status\":0,\\n    \"QTime\":310}}\\n'"
      ]
     },
     "execution_count": 11,
     "metadata": {},
     "output_type": "execute_result"
    }
   ],
   "source": [
    "doc = {\n",
    "        \"id\": \"n78078534\",\n",
    "        #\"contributorTo\": {\"add\": [\"bk-1\"]}\n",
    "     }\n",
    "solrAuthorities.add([doc], commit=True)"
   ]
  },
  {
   "cell_type": "code",
   "execution_count": null,
   "metadata": {},
   "outputs": [],
   "source": [
    "work = {\n",
    "        \"id\": \"bk-2\",\n",
    "         \"primaryContributionRole\": {\"set\": \"Autor\"}\n",
    "    }\n",
    "solrAcervo.add([doc], commit=True)"
   ]
  },
  {
   "cell_type": "code",
   "execution_count": null,
   "metadata": {},
   "outputs": [],
   "source": [
    "solr = Solr('http://localhost:8983/solr/acervo/', timeout=10)\n",
    "solr.ping()"
   ]
  },
  {
   "attachments": {},
   "cell_type": "markdown",
   "metadata": {},
   "source": [
    "DELETE GRAPHS"
   ]
  },
  {
   "cell_type": "code",
   "execution_count": 2,
   "metadata": {},
   "outputs": [
    {
     "data": {
      "text/plain": [
       "{'statusCode': 200, 'message': 'Update succeeded'}"
      ]
     },
     "execution_count": 2,
     "metadata": {},
     "output_type": "execute_result"
    }
   ],
   "source": [
    "upAcervo = FusekiUpdate('http://localhost:3030', 'acervo')\n",
    "\n",
    "d = \"\"\"DELETE { graph ?g { ?s ?p ?o } } \n",
    "        WHERE {\n",
    "        graph ?g {?s ?p ?o.}\n",
    "        }\"\"\"\n",
    "\n",
    "response = upAcervo.run_sparql(d)\n",
    "response.convert()"
   ]
  },
  {
   "cell_type": "code",
   "execution_count": 5,
   "metadata": {},
   "outputs": [
    {
     "data": {
      "text/plain": [
       "{'statusCode': 200, 'message': 'Update succeeded'}"
      ]
     },
     "execution_count": 5,
     "metadata": {},
     "output_type": "execute_result"
    }
   ],
   "source": [
    "upThesaurus = FusekiUpdate('http://localhost:3030', 'thesaurus')\n",
    "\n",
    "d = \"\"\"DELETE { graph ?g { ?s ?p ?o } } \n",
    "        WHERE {\n",
    "        graph ?g {?s ?p ?o.}\n",
    "        }\"\"\"\n",
    "\n",
    "response = upThesaurus.run_sparql(d)\n",
    "response.convert()"
   ]
  },
  {
   "cell_type": "code",
   "execution_count": 10,
   "metadata": {},
   "outputs": [],
   "source": [
    "q = \"\"\"SELECT ?g  \n",
    "        {graph ?g {?s ?p ?o}} \n",
    "        group by ?g \n",
    "        ORDER BY DESC(?g)\n",
    "        LIMIT 1\"\"\"\n",
    "\n",
    "response = queryAcervo.run_sparql(q)\n",
    "r = response.convert()\n",
    "bindings = r['results']['bindings']"
   ]
  },
  {
   "cell_type": "code",
   "execution_count": 15,
   "metadata": {},
   "outputs": [],
   "source": [
    "value = bindings[0]['g']['value']"
   ]
  },
  {
   "cell_type": "code",
   "execution_count": 21,
   "metadata": {},
   "outputs": [
    {
     "data": {
      "text/plain": [
       "'1'"
      ]
     },
     "execution_count": 21,
     "metadata": {},
     "output_type": "execute_result"
    }
   ],
   "source": [
    "value.split(\"-\")[1]"
   ]
  },
  {
   "cell_type": "code",
   "execution_count": null,
   "metadata": {},
   "outputs": [],
   "source": [
    "def GenerateId():\n",
    "\n",
    "    year = datetime.now().year \n",
    "    year = str(year)[2:]\n",
    "\n",
    "    # store = SPARQLUpdateStore(update_endpoint='http://localhost:3030/acervo/update')\n",
    "    # query_endpoint = 'http://localhost:3030/acervo/query'\n",
    "    # update_endpoint = 'http://localhost:3030/acervo/update'\n",
    "    # store.open((query_endpoint, update_endpoint))\n",
    "    \n",
    "    \n",
    "    q = \"\"\"SELECT ?g  \n",
    "        {graph ?g {?s ?p ?o}} \n",
    "        group by ?g \n",
    "        ORDER BY DESC(?g)\n",
    "        LIMIT 1\"\"\"\n",
    "    \n",
    "    # r = store.query(q)\n",
    "    response = queryAcervo.run_sparql(d)\n",
    "    \n",
    "    bindings = r.bindings\n",
    "    if len(bindings) == 0:\n",
    "        register = f'bk-{year}-1'\n",
    "        return register\n",
    "\n",
    "    for i in r:\n",
    "        uri = i[0].toPython()\n",
    "    bk = uri.split('/')[-1]\n",
    "    count = bk.split('-')[-1]\n",
    "    count = int(count) + 1  \n",
    "\n",
    "    \n",
    "    register = f'bk-{year}-{count}'\n",
    "\n",
    "    return register"
   ]
  },
  {
   "attachments": {},
   "cell_type": "markdown",
   "metadata": {},
   "source": [
    "WORK BK"
   ]
  },
  {
   "cell_type": "code",
   "execution_count": 12,
   "metadata": {},
   "outputs": [
    {
     "data": {
      "text/plain": [
       "<Graph identifier=N4c91d09b5cbe4988b9dc4f57bc3925f2 (<class 'rdflib.graph.Graph'>)>"
      ]
     },
     "execution_count": 12,
     "metadata": {},
     "output_type": "execute_result"
    }
   ],
   "source": [
    "uri = \"http://localhost:3030/acervo?graph=https://bibliokeia.com/resources/work/bk-1\"\n",
    "r = httpx.get(uri)\n",
    "g = Graph()\n",
    "g.parse(r.content)\n",
    "g.serialize('bk-1.nt')"
   ]
  },
  {
   "cell_type": "code",
   "execution_count": 13,
   "metadata": {},
   "outputs": [
    {
     "name": "stdout",
     "output_type": "stream",
     "text": [
      "(rdflib.term.BNode('n0a1f3c7c9599472999c29340ded54369b2'), rdflib.term.URIRef('http://www.w3.org/1999/02/22-rdf-syntax-ns#type'), rdflib.term.URIRef('http://id.loc.gov/ontologies/bibframe/GenerationProcess'))\n",
      "(rdflib.term.BNode('n0a1f3c7c9599472999c29340ded54369b1'), rdflib.term.URIRef('http://www.w3.org/1999/02/22-rdf-syntax-ns#type'), rdflib.term.URIRef('http://id.loc.gov/ontologies/bibframe/AdminMetadata'))\n",
      "(rdflib.term.URIRef('https://bibliokeia.com/resources/work/bk-1'), rdflib.term.URIRef('http://id.loc.gov/ontologies/bibframe/subject'), rdflib.term.URIRef('https://bibliokeia.com/authorities/subjects/sh85103704'))\n",
      "(rdflib.term.BNode('n0a1f3c7c9599472999c29340ded54369b1'), rdflib.term.URIRef('http://id.loc.gov/ontologies/bibframe/changeDate'), rdflib.term.Literal('2023-03-20T15:54:01', datatype=rdflib.term.URIRef('http://www.w3.org/2001/XMLSchema#dateTime')))\n",
      "(rdflib.term.BNode('n0a1f3c7c9599472999c29340ded54369b6'), rdflib.term.URIRef('http://www.w3.org/1999/02/22-rdf-syntax-ns#type'), rdflib.term.URIRef('http://id.loc.gov/ontologies/bibframe/Title'))\n",
      "(rdflib.term.BNode('n0a1f3c7c9599472999c29340ded54369b1'), rdflib.term.URIRef('http://id.loc.gov/ontologies/bibframe/identifiedBy'), rdflib.term.BNode('n0a1f3c7c9599472999c29340ded54369b3'))\n",
      "(rdflib.term.BNode('n0a1f3c7c9599472999c29340ded54369b3'), rdflib.term.URIRef('http://www.w3.org/1999/02/22-rdf-syntax-ns#value'), rdflib.term.Literal('bk-1'))\n",
      "(rdflib.term.URIRef('https://bibliokeia.com/resources/work/bk-1'), rdflib.term.URIRef('http://id.loc.gov/ontologies/bibframe/subject'), rdflib.term.URIRef('https://bibliokeia.com/authorities/subjects/sh85084414'))\n",
      "(rdflib.term.BNode('n0a1f3c7c9599472999c29340ded54369b4'), rdflib.term.URIRef('http://id.loc.gov/ontologies/bibframe/classificationPortion'), rdflib.term.Literal('584.6', datatype=rdflib.term.URIRef('http://www.w3.org/2001/XMLSchema#decimal')))\n",
      "(rdflib.term.URIRef('https://bibliokeia.com/resources/work/bk-1'), rdflib.term.URIRef('http://id.loc.gov/ontologies/bibframe/adminMetadata'), rdflib.term.BNode('n0a1f3c7c9599472999c29340ded54369b1'))\n",
      "(rdflib.term.BNode('n0a1f3c7c9599472999c29340ded54369b6'), rdflib.term.URIRef('http://id.loc.gov/ontologies/bibframe/mainTitle'), rdflib.term.Literal('Conjecturas e refutações MOVAMENTE'))\n",
      "(rdflib.term.URIRef('https://bibliokeia.com/resources/work/bk-1'), rdflib.term.URIRef('http://id.loc.gov/ontologies/bibframe/language'), rdflib.term.URIRef('http://id.loc.gov/vocabulary/languages/eng'))\n",
      "(rdflib.term.BNode('n0a1f3c7c9599472999c29340ded54369b5'), rdflib.term.URIRef('http://www.w3.org/1999/02/22-rdf-syntax-ns#type'), rdflib.term.URIRef('http://id.loc.gov/ontologies/bibframe/Contribution'))\n",
      "(rdflib.term.BNode('n0a1f3c7c9599472999c29340ded54369b3'), rdflib.term.URIRef('http://www.w3.org/1999/02/22-rdf-syntax-ns#type'), rdflib.term.URIRef('http://id.loc.gov/ontologies/bibframe/Local'))\n",
      "(rdflib.term.BNode('n0a1f3c7c9599472999c29340ded54369b4'), rdflib.term.URIRef('http://www.w3.org/1999/02/22-rdf-syntax-ns#type'), rdflib.term.URIRef('http://id.loc.gov/ontologies/bibframe/ClassificationDdc'))\n",
      "(rdflib.term.BNode('n0a1f3c7c9599472999c29340ded54369b2'), rdflib.term.URIRef('http://www.w3.org/2000/01/rdf-schema#label'), rdflib.term.Literal('BiblioKeia'))\n",
      "(rdflib.term.URIRef('https://bibliokeia.com/resources/work/bk-1'), rdflib.term.URIRef('http://id.loc.gov/ontologies/bibframe/subject'), rdflib.term.URIRef('https://bibliokeia.com/authorities/subjects/n80002329'))\n",
      "(rdflib.term.BNode('n0a1f3c7c9599472999c29340ded54369b4'), rdflib.term.URIRef('http://id.loc.gov/ontologies/bibframe/itemPortion'), rdflib.term.Literal('O48c'))\n",
      "(rdflib.term.BNode('n0a1f3c7c9599472999c29340ded54369b2'), rdflib.term.URIRef('http://id.loc.gov/ontologies/bibframe/generationDate'), rdflib.term.Literal('2023-03-20T13:34:18.283156', datatype=rdflib.term.URIRef('http://www.w3.org/2001/XMLSchema#dateTime')))\n",
      "(rdflib.term.URIRef('https://bibliokeia.com/resources/work/bk-1'), rdflib.term.URIRef('http://id.loc.gov/ontologies/bibframe/title'), rdflib.term.BNode('n0a1f3c7c9599472999c29340ded54369b6'))\n",
      "(rdflib.term.BNode('n0a1f3c7c9599472999c29340ded54369b5'), rdflib.term.URIRef('http://id.loc.gov/ontologies/bibframe/role'), rdflib.term.URIRef('http://id.loc.gov/vocabulary/relators/aut'))\n",
      "(rdflib.term.URIRef('https://bibliokeia.com/resources/work/bk-1'), rdflib.term.URIRef('http://id.loc.gov/ontologies/bibframe/contribution'), rdflib.term.BNode('n0a1f3c7c9599472999c29340ded54369b5'))\n",
      "(rdflib.term.BNode('n0a1f3c7c9599472999c29340ded54369b1'), rdflib.term.URIRef('http://id.loc.gov/ontologies/bibframe/assigner'), rdflib.term.URIRef('http://id.loc.gov/vocabulary/organizations/brmninpa'))\n",
      "(rdflib.term.BNode('n0a1f3c7c9599472999c29340ded54369b5'), rdflib.term.URIRef('http://id.loc.gov/ontologies/bibframe/agent'), rdflib.term.URIRef('https://bibliokeia.com/authorities/names/n80032184'))\n",
      "(rdflib.term.URIRef('https://bibliokeia.com/resources/work/bk-1'), rdflib.term.URIRef('http://id.loc.gov/ontologies/bibframe/classification'), rdflib.term.BNode('n0a1f3c7c9599472999c29340ded54369b4'))\n",
      "(rdflib.term.BNode('n0a1f3c7c9599472999c29340ded54369b5'), rdflib.term.URIRef('http://www.w3.org/2000/01/rdf-schema#label'), rdflib.term.Literal('Karl R. Popper MUDADO'))\n",
      "(rdflib.term.BNode('n0a1f3c7c9599472999c29340ded54369b1'), rdflib.term.URIRef('http://id.loc.gov/ontologies/bibframe/generationProcess'), rdflib.term.BNode('n0a1f3c7c9599472999c29340ded54369b2'))\n",
      "(rdflib.term.BNode('n0a1f3c7c9599472999c29340ded54369b1'), rdflib.term.URIRef('http://id.loc.gov/ontologies/bibframe/creationDate'), rdflib.term.Literal('2023-03-20', datatype=rdflib.term.URIRef('http://www.w3.org/2001/XMLSchema#date')))\n",
      "(rdflib.term.URIRef('https://bibliokeia.com/resources/work/bk-1'), rdflib.term.URIRef('http://www.w3.org/1999/02/22-rdf-syntax-ns#type'), rdflib.term.URIRef('http://id.loc.gov/ontologies/bibframe/Text'))\n",
      "(rdflib.term.BNode('n0a1f3c7c9599472999c29340ded54369b3'), rdflib.term.URIRef('http://id.loc.gov/ontologies/bibframe/assigner'), rdflib.term.URIRef('http://id.loc.gov/vocabulary/organizations/brmninpa'))\n",
      "(rdflib.term.URIRef('https://bibliokeia.com/resources/work/bk-1'), rdflib.term.URIRef('http://www.w3.org/1999/02/22-rdf-syntax-ns#type'), rdflib.term.URIRef('http://id.loc.gov/ontologies/bibframe/Work'))\n",
      "(rdflib.term.BNode('n0a1f3c7c9599472999c29340ded54369b6'), rdflib.term.URIRef('http://www.w3.org/2000/01/rdf-schema#label'), rdflib.term.Literal('Conjecturas e refutações MOVAMENTE'))\n",
      "(rdflib.term.BNode('n0a1f3c7c9599472999c29340ded54369b1'), rdflib.term.URIRef('http://id.loc.gov/ontologies/bibframe/status'), rdflib.term.URIRef('http://id.loc.gov/vocabulary/mstatus/n'))\n"
     ]
    }
   ],
   "source": [
    "for i in g:\n",
    "    print(i)"
   ]
  },
  {
   "attachments": {},
   "cell_type": "markdown",
   "metadata": {},
   "source": [
    "WORK LOC"
   ]
  },
  {
   "cell_type": "code",
   "execution_count": 5,
   "metadata": {},
   "outputs": [
    {
     "data": {
      "text/plain": [
       "<Graph identifier=N43aaf7a4919f42a0b3f69d74a3543568 (<class 'rdflib.graph.Graph'>)>"
      ]
     },
     "execution_count": 5,
     "metadata": {},
     "output_type": "execute_result"
    }
   ],
   "source": [
    "g = Graph()\n",
    "g.parse(\"http://id.loc.gov/resources/works/1893399.rdf\")\n",
    "g.serialize('LOC.nt')"
   ]
  },
  {
   "attachments": {},
   "cell_type": "markdown",
   "metadata": {},
   "source": [
    "INSTANCE BK"
   ]
  },
  {
   "cell_type": "code",
   "execution_count": 15,
   "metadata": {},
   "outputs": [
    {
     "data": {
      "text/plain": [
       "<Graph identifier=N0ba92575cddb4e218d9d43c0df83d591 (<class 'rdflib.graph.Graph'>)>"
      ]
     },
     "execution_count": 15,
     "metadata": {},
     "output_type": "execute_result"
    }
   ],
   "source": [
    "uri = \"http://localhost:3030/acervo?graph=https://bibliokeia.com/resources/instance/bk-37\"\n",
    "r = httpx.get(uri)\n",
    "g = Graph()\n",
    "g.parse(r.content)\n",
    "g.serialize('instance.nt')"
   ]
  },
  {
   "attachments": {},
   "cell_type": "markdown",
   "metadata": {},
   "source": [
    "INSTANCE LOC"
   ]
  },
  {
   "cell_type": "code",
   "execution_count": 7,
   "metadata": {},
   "outputs": [
    {
     "data": {
      "text/plain": [
       "<Graph identifier=N228047227473429ebd99984199a7712b (<class 'rdflib.graph.Graph'>)>"
      ]
     },
     "execution_count": 7,
     "metadata": {},
     "output_type": "execute_result"
    }
   ],
   "source": [
    "g = Graph()\n",
    "g.parse(\"http://id.loc.gov/resources/instances/748300.bibframe.rdf\")\n",
    "g.serialize('instanceLOC.nt')"
   ]
  },
  {
   "attachments": {},
   "cell_type": "markdown",
   "metadata": {},
   "source": [
    "ITEMS BK"
   ]
  },
  {
   "cell_type": "code",
   "execution_count": 12,
   "metadata": {},
   "outputs": [
    {
     "data": {
      "text/plain": [
       "<Graph identifier=N518c4639f2b745ccb8e5f97a20e0280a (<class 'rdflib.graph.Graph'>)>"
      ]
     },
     "execution_count": 12,
     "metadata": {},
     "output_type": "execute_result"
    }
   ],
   "source": [
    "uri = 'http://localhost:3030/acervo?graph=https://bibliokeia.com/resources/item/bk-38'\n",
    "r = httpx.get(uri)\n",
    "g = Graph()\n",
    "g.parse(r.content)\n",
    "g.serialize('item.nt')"
   ]
  },
  {
   "attachments": {},
   "cell_type": "markdown",
   "metadata": {},
   "source": [
    "ITEMS LOC"
   ]
  },
  {
   "cell_type": "code",
   "execution_count": 11,
   "metadata": {},
   "outputs": [
    {
     "data": {
      "text/plain": [
       "<Graph identifier=N7f5dd0aa39af4db5b8fbbc60c4cd40b6 (<class 'rdflib.graph.Graph'>)>"
      ]
     },
     "execution_count": 11,
     "metadata": {},
     "output_type": "execute_result"
    }
   ],
   "source": [
    "g = Graph()\n",
    "g.parse(\"http://id.loc.gov/resources/items/748300-051-11.bibframe.rdf\")\n",
    "g.serialize('itemLOC.nt')"
   ]
  },
  {
   "attachments": {},
   "cell_type": "markdown",
   "metadata": {},
   "source": [
    "NAMES BK"
   ]
  },
  {
   "cell_type": "code",
   "execution_count": 9,
   "metadata": {},
   "outputs": [
    {
     "data": {
      "text/plain": [
       "<Graph identifier=N67ae810991d64c6789163725f3ea993c (<class 'rdflib.graph.Graph'>)>"
      ]
     },
     "execution_count": 9,
     "metadata": {},
     "output_type": "execute_result"
    }
   ],
   "source": [
    "uri = \"http://localhost:3030/thesaurus?graph=https://bibliokeia.com/authorities/names/n79138841\"\n",
    "r = httpx.get(uri)\n",
    "g = Graph()\n",
    "g.parse(r.content)\n",
    "g.serialize('nameBK.nt')"
   ]
  },
  {
   "cell_type": "code",
   "execution_count": 14,
   "metadata": {},
   "outputs": [],
   "source": [
    "def UpdateInstance(instance_id, item_id):\n",
    "    fuseki_update = FusekiUpdate('http://localhost:3030', 'acervo')\n",
    "\n",
    "    up = \"\"\"PREFIX bf: <http://id.loc.gov/ontologies/bibframe/>\n",
    "        INSERT DATA\n",
    "            { GRAPH  <https://bibliokeia.com/resources/instance/\"\"\"+instance_id+\"\"\"> { \n",
    "                    <https://bibliokeia.com/resources/instance/\"\"\"+instance_id+\"\"\">  \n",
    "                    bf:hasItem\n",
    "                    <https://bibliokeia.com/resources/item/\"\"\"+item_id+\"\"\"> } }\"\"\"\n",
    "\n",
    "    response = fuseki_update.run_sparql(up)\n",
    "    return response\n",
    "\n"
   ]
  },
  {
   "cell_type": "code",
   "execution_count": null,
   "metadata": {},
   "outputs": [],
   "source": [
    "response = UpdateInstance(\"bk-\", item_id)"
   ]
  },
  {
   "attachments": {},
   "cell_type": "markdown",
   "metadata": {},
   "source": [
    "SUBJECTS BK"
   ]
  },
  {
   "cell_type": "code",
   "execution_count": 8,
   "metadata": {},
   "outputs": [
    {
     "data": {
      "text/plain": [
       "<Graph identifier=N8687b45b63cc46f8bed88bf7903542c0 (<class 'rdflib.graph.Graph'>)>"
      ]
     },
     "execution_count": 8,
     "metadata": {},
     "output_type": "execute_result"
    }
   ],
   "source": [
    "token = \"sh85084414\"\n",
    "uri = f'http://localhost:3030/thesaurus?graph=https://bibliokeia.com/authorities/subjects/{token}'\n",
    "r = httpx.get(uri)\n",
    "g = Graph()\n",
    "g.parse(r.content)\n",
    "g.serialize('subjects.nt')"
   ]
  },
  {
   "attachments": {},
   "cell_type": "markdown",
   "metadata": {},
   "source": [
    "SERIE LOC"
   ]
  },
  {
   "cell_type": "code",
   "execution_count": 7,
   "metadata": {},
   "outputs": [
    {
     "data": {
      "text/plain": [
       "<Graph identifier=N94c42584427b4fe1af17b398a24ba0d3 (<class 'rdflib.graph.Graph'>)>"
      ]
     },
     "execution_count": 7,
     "metadata": {},
     "output_type": "execute_result"
    }
   ],
   "source": [
    "uri = \"http://id.loc.gov/resources/hubs/3035b85d-c7b5-649a-aa12-05ce677f9f11.bibframe.rdf\"\n",
    "g = Graph()\n",
    "g.parse(uri)\n",
    "g.serialize('serie.nt')"
   ]
  },
  {
   "attachments": {},
   "cell_type": "markdown",
   "metadata": {},
   "source": [
    "SERIE BK"
   ]
  },
  {
   "cell_type": "code",
   "execution_count": 4,
   "metadata": {},
   "outputs": [
    {
     "data": {
      "text/plain": [
       "<Graph identifier=Ned294ddf7d07475cb079fe57c21f7fa5 (<class 'rdflib.graph.Graph'>)>"
      ]
     },
     "execution_count": 4,
     "metadata": {},
     "output_type": "execute_result"
    }
   ],
   "source": [
    "\n",
    "uri = f'http://localhost:3030/acervo?graph=https://bibliokeia.com/resources/hub/bk-5'\n",
    "r = httpx.get(uri)\n",
    "g = Graph()\n",
    "g.parse(r.content)\n",
    "g.serialize('serieBK.nt')"
   ]
  },
  {
   "attachments": {},
   "cell_type": "markdown",
   "metadata": {},
   "source": [
    "NAMES LOC"
   ]
  },
  {
   "cell_type": "code",
   "execution_count": 7,
   "metadata": {},
   "outputs": [
    {
     "data": {
      "text/plain": [
       "<Graph identifier=Naaef8cb88add48bbb714a2c129becfcb (<class 'rdflib.graph.Graph'>)>"
      ]
     },
     "execution_count": 7,
     "metadata": {},
     "output_type": "execute_result"
    }
   ],
   "source": [
    "uri = \"http://id.loc.gov/authorities/names/n79138841.madsrdf.rdf\"\n",
    "g = Graph()\n",
    "g.parse(uri)\n",
    "g.serialize('names.nt')"
   ]
  },
  {
   "cell_type": "code",
   "execution_count": 7,
   "metadata": {},
   "outputs": [],
   "source": [
    "from api.src.function.bibframe.types import TypeBF"
   ]
  },
  {
   "cell_type": "code",
   "execution_count": 1,
   "metadata": {},
   "outputs": [],
   "source": [
    "from api.src.schemas.bibframe.hub import Hub_Schema"
   ]
  },
  {
   "cell_type": "code",
   "execution_count": 2,
   "metadata": {},
   "outputs": [],
   "source": [
    "h = Hub_Schema(**{\n",
    "    \"type\": \"Series\",\n",
    "    \"mainTitle\": \"Memoirs of the New York Botanical Garden\",\n",
    "    \"subtitle\": \"\",\n",
    "    \"variantTitle\": \"NYBG memoirs\",\n",
    "    \"contributionAgent\": \"New York Botanical Garden\",\n",
    "    \"contributionRole\": \"Contributor\",\n",
    "    \"contributionRoleUri\": \"http://id.loc.gov/vocabulary/relators/ctb\",\n",
    "    \"contributionID\": \"n79138841\",\n",
    "    \"cdd\": \"548.2\",\n",
    "    \"cutter\": \"\",\n",
    "    \"issn\": \"0077-8931\"\n",
    "})"
   ]
  },
  {
   "cell_type": "code",
   "execution_count": 5,
   "metadata": {},
   "outputs": [
    {
     "data": {
      "text/plain": [
       "True"
      ]
     },
     "execution_count": 5,
     "metadata": {},
     "output_type": "execute_result"
    }
   ],
   "source": [
    "h.cutter == \"\""
   ]
  }
 ],
 "metadata": {
  "kernelspec": {
   "display_name": "Python 3.11.0 ('venv': venv)",
   "language": "python",
   "name": "python3"
  },
  "language_info": {
   "codemirror_mode": {
    "name": "ipython",
    "version": 3
   },
   "file_extension": ".py",
   "mimetype": "text/x-python",
   "name": "python",
   "nbconvert_exporter": "python",
   "pygments_lexer": "ipython3",
   "version": "3.10.4"
  },
  "orig_nbformat": 4,
  "vscode": {
   "interpreter": {
    "hash": "5df21a170a08fe7c24b5b1091267edae5bad3984f1116f28e957af7dd8f192dc"
   }
  }
 },
 "nbformat": 4,
 "nbformat_minor": 2
}
