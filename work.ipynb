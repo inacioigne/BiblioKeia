{
 "cells": [
  {
   "cell_type": "code",
   "execution_count": 1,
   "metadata": {},
   "outputs": [],
   "source": [
    "from rdflib import Graph\n",
    "from pydantic import BaseModel, validator, Field\n",
    "from typing import Optional, Union\n",
    "from pyfuseki import FusekiUpdate\n",
    "import json\n",
    "from datetime import date, datetime\n",
    "from api.src.function.bibframe.Work.graph import MakeGraph\n",
    "import httpx\n",
    "from api.src.schemas.bibframe.work import Work\n",
    "import pysolr  "
   ]
  },
  {
   "cell_type": "code",
   "execution_count": 19,
   "metadata": {},
   "outputs": [
    {
     "data": {
      "text/plain": [
       "<Graph identifier=Na57cfb0002414db99f53ba7608959db3 (<class 'rdflib.graph.Graph'>)>"
      ]
     },
     "execution_count": 19,
     "metadata": {},
     "output_type": "execute_result"
    }
   ],
   "source": [
    "g = Graph()\n",
    "g.parse('http://id.loc.gov/resources/works/21291853.nt', format='nt')\n",
    "g.serialize('loc1.ttl', format='ttl')"
   ]
  },
  {
   "cell_type": "code",
   "execution_count": 10,
   "metadata": {},
   "outputs": [
    {
     "data": {
      "text/plain": [
       "<Graph identifier=Nfb0e782c07634581b030626aa4e4a2e0 (<class 'rdflib.graph.Graph'>)>"
      ]
     },
     "execution_count": 10,
     "metadata": {},
     "output_type": "execute_result"
    }
   ],
   "source": [
    "g = Graph()\n",
    "g.parse('preview.rdf')\n",
    "g.serialize('preview.ttl', format='ttl')"
   ]
  },
  {
   "cell_type": "code",
   "execution_count": 2,
   "metadata": {},
   "outputs": [],
   "source": [
    "with open('api/src/config/authorized_values.json') as file:\n",
    "    reader = file.read()\n",
    "    vocabulary = json.loads(reader)\n",
    "    file.close()"
   ]
  },
  {
   "cell_type": "code",
   "execution_count": 39,
   "metadata": {},
   "outputs": [],
   "source": [
    "with open('work.json', encoding='utf-8') as file:\n",
    "    reader = file.read()\n",
    "    work = json.loads(reader)\n",
    "    file.close()\n",
    "request = Work(**work)"
   ]
  },
  {
   "cell_type": "code",
   "execution_count": 3,
   "metadata": {},
   "outputs": [
    {
     "data": {
      "text/plain": [
       "{'encodingLevel': 'menclvl:1',\n",
       " 'assigner': 'http://id.loc.gov/vocabulary/organizations/brmninpa',\n",
       " 'creationDate': '2023-04-20',\n",
       " 'descriptionConventions': 'http://id.loc.gov/vocabulary/descriptionConventions/isbd',\n",
       " 'descriptionLanguage': 'http://id.loc.gov/vocabulary/languages/por',\n",
       " 'generationProcess': {'label': 'BiblioKeia',\n",
       "  'generationDate': '2023-04-20T10:06:11'},\n",
       " 'status': {'value': 'mstatus:new', 'label': 'novo'}}"
      ]
     },
     "execution_count": 3,
     "metadata": {},
     "output_type": "execute_result"
    }
   ],
   "source": [
    "request.adminMetadata.dict()"
   ]
  },
  {
   "cell_type": "code",
   "execution_count": 4,
   "metadata": {},
   "outputs": [
    {
     "data": {
      "text/plain": [
       "Status(value='mstatus:new', label='novo')"
      ]
     },
     "execution_count": 4,
     "metadata": {},
     "output_type": "execute_result"
    }
   ],
   "source": [
    "request.adminMetadata.status"
   ]
  },
  {
   "cell_type": "code",
   "execution_count": 5,
   "metadata": {},
   "outputs": [
    {
     "name": "stdout",
     "output_type": "stream",
     "text": [
      "PREFIX rdf: <http://www.w3.org/1999/02/22-rdf-syntax-ns#>\n",
      "    PREFIX xsd: <http://www.w3.org/2001/XMLSchema#>\n",
      "    PREFIX rdfs: <http://www.w3.org/2000/01/rdf-schema#>\n",
      "    PREFIX bf: <http://id.loc.gov/ontologies/bibframe/>\n",
      "    PREFIX madsrdf: <http://www.loc.gov/mads/rdf/v1#>\n",
      "    PREFIX bflc: <http://id.loc.gov/ontologies/bflc/> \n",
      "    PREFIX bkw: <https://bibliokeia.com/resources/work/> \n",
      "    PREFIX menclvl: <http://id.loc.gov/vocabulary/menclvl/>\n",
      "    PREFIX mstatus: <http://id.loc.gov/vocabulary/mstatus/>\n",
      "    PREFIX contentTypes: <http://id.loc.gov/vocabulary/contentTypes/>\n",
      "    PREFIX relators: <http://id.loc.gov/vocabulary/relators/>\n",
      "    PREFIX genreForms: <http://id.loc.gov/authorities/genreForms/>\n",
      "    PREFIX msupplcont: <http://id.loc.gov/vocabulary/msupplcont/>\n",
      "    PREFIX millus: <http://id.loc.gov/vocabulary/millus/>    \n",
      "        \n",
      "    INSERT DATA {\n",
      "        GRAPH bkw:bk-1\n",
      "        {\n",
      "                bkw:bk-1 a bf:Monograph, bf:Text, bf:Work  ;\n",
      "                bf:adminMetadata [ a bf:AdminMetadata ;\n",
      "                bflc:encodingLevel menclvl:1 ;\n",
      "                bf:assigner <http://id.loc.gov/vocabulary/organizations/brmninpa> ;    \n",
      "                bf:creationDate \"2023-04-20\"^^xsd:date ;    \n",
      "                bf:descriptionConventions <http://id.loc.gov/vocabulary/descriptionConventions/isbd> ;\n",
      "                bf:descriptionLanguage <http://id.loc.gov/vocabulary/languages/por> ;\n",
      "                 bf:generationProcess [ a bf:GenerationProcess ;\n",
      "                    rdfs:label \"BiblioKeia\" ;\n",
      "                    bf:generationDate \"2023-04-20T10:06:26\"^^xsd:dateTime ] ;\n",
      "                bf:identifiedBy [ a bf:Local ;\n",
      "                    bf:assigner <http://id.loc.gov/vocabulary/organizations/brmninpa> ;\n",
      "                    rdf:value \"bk-1\" ] ;\n",
      "                bf:status mstatus:new ] ;\n",
      "                bf:classification [ a bf:ClassificationDdc ;\n",
      "                bf:assigner <http://id.loc.gov/vocabulary/organizations/brmninpa> ;\n",
      "                bf:classificationPortion \"869.3\" ;\n",
      "                bf:itemPortion \"M513\" ;\n",
      "                bf:source [ a bf:Source ;\n",
      "                    bf:code \"23\" ] ] ;\n",
      "                bf:content contentTypes:txt, contentTypes:img ;\n",
      "                bf:contribution  [ a bf:Contribution, bflc:PrimaryContribution ;\n",
      "                bf:agent <https://bibliokeia.com/authorities/name/n80002329> ;\n",
      "                bf:role relators:aut ] ;\n",
      "                bf:genreForm genreForms:gf2014026339 ; \n",
      "                bf:language [ a bf:Language ;\n",
      "                bf:part \"Original\" ;\n",
      "                rdf:value <http://id.loc.gov/vocabulary/languages/por> ;\n",
      "                rdfs:label \"PortuguÃªs\" ], [ a bf:Language ;\n",
      "                \n",
      "                rdf:value <http://id.loc.gov/vocabulary/languages/eng> ;\n",
      "                rdfs:label \"InglÃªs\" ] ;\n",
      "                bf:note [ a bf:Note ; rdfs:label \"Includes translation\" ] ; \n",
      "                bf:summary [ a bf:Summary ; rdfs:label \"A revelatory new translation of the playful, incomparable masterpiece of one of the greatest black authors in the Americas. The mixed-race grandson of ex-slaves, Machado de Assis is not only Brazil's most celebrated writer but also a writer of world stature, who has been championed by the likes of Philip Roth, Susan Sontag, Allen Ginsburg, John Updike, and Salman Rushdie. In his masterpiece, the 1881 novel The Posthumous Memoirs of BrÃ¡s Cubas (translated also as Epitaph of a Small Winner), the ghost of a decadent and disagreeable aristocrat decides to write his memoir. He dedicates it to the worms gnawing at his corpse and, in 160 brief chapters, tells of his failed romances and halfhearted political ambitions, serves up harebrained philosophies, and complains with gusto from the depths of his grave. Wildly imaginative, wickedly witty, and utterly unforgettable, it is a novel ahead of its time that has been compared to the work of everyone from Cervantes to Sterne to Borges to Joyce to Nabokov to Calvino, and that has influenced generations of writers around the world. This new English translation is the first to include extensive notes providing crucial historical and cultural context and also includes excerpts from previous versions of the novel never before published in English\" ] ; \n",
      "                \n",
      "                \n",
      "                bf:supplementaryContent msupplcont:bibliography ;\n",
      "                bf:subject <https://bibliokeia.com/authorities/topic/sh85017405> ;\n",
      "                bf:title [ a bf:Title ;\n",
      "                bf:mainTitle \"The posthumous memoirs of BrÃ¡s Cubas\" \n",
      "                 ] .\n",
      "\n",
      "                mstatus:new a bf:Status ;\n",
      "                rdfs:label \"novo\" .\n",
      "\n",
      "        \n",
      "        } \n",
      "        }\n",
      "        \n"
     ]
    }
   ],
   "source": [
    "request = Work(**work)\n",
    "graph = MakeGraph(request, 'bk-1')\n",
    "print(graph)"
   ]
  },
  {
   "cell_type": "code",
   "execution_count": 4,
   "metadata": {},
   "outputs": [
    {
     "data": {
      "text/plain": [
       "{'statusCode': 200, 'message': 'Update succeeded'}"
      ]
     },
     "execution_count": 4,
     "metadata": {},
     "output_type": "execute_result"
    }
   ],
   "source": [
    "fuseki_update = FusekiUpdate('http://localhost:3030', 'acervo')\n",
    "\n",
    "response = fuseki_update.run_sparql(graph)\n",
    "response.convert()"
   ]
  },
  {
   "cell_type": "code",
   "execution_count": 11,
   "metadata": {},
   "outputs": [
    {
     "data": {
      "text/plain": [
       "{'statusCode': 200, 'message': 'Update succeeded'}"
      ]
     },
     "execution_count": 11,
     "metadata": {},
     "output_type": "execute_result"
    }
   ],
   "source": [
    "fuseki_update = FusekiUpdate('http://localhost:3030', 'acervo')\n",
    "d = \"\"\"DELETE { graph ?g { ?s ?p ?o } } \n",
    "        WHERE {\n",
    "        graph ?g {?s ?p ?o.}\n",
    "        }\"\"\"\n",
    "\n",
    "response = fuseki_update.run_sparql(d)\n",
    "response.convert()"
   ]
  },
  {
   "cell_type": "markdown",
   "metadata": {},
   "source": [
    "Exemple Work Loc"
   ]
  },
  {
   "cell_type": "code",
   "execution_count": 53,
   "metadata": {},
   "outputs": [
    {
     "data": {
      "text/plain": [
       "<Graph identifier=N6e8f6b25d8384e1585946c4b1a9f8153 (<class 'rdflib.graph.Graph'>)>"
      ]
     },
     "execution_count": 53,
     "metadata": {},
     "output_type": "execute_result"
    }
   ],
   "source": [
    "g = Graph()\n",
    "g.parse('https://www.loc.gov/standards/mads/rdf/v1/examples/oca08651008.nt', format='nt')"
   ]
  },
  {
   "cell_type": "code",
   "execution_count": 54,
   "metadata": {},
   "outputs": [
    {
     "data": {
      "text/plain": [
       "<Graph identifier=N6e8f6b25d8384e1585946c4b1a9f8153 (<class 'rdflib.graph.Graph'>)>"
      ]
     },
     "execution_count": 54,
     "metadata": {},
     "output_type": "execute_result"
    }
   ],
   "source": [
    "g.serialize('EX_NAME.ttl', format='ttl')"
   ]
  },
  {
   "attachments": {},
   "cell_type": "markdown",
   "metadata": {},
   "source": [
    "GET WORK"
   ]
  },
  {
   "cell_type": "code",
   "execution_count": 45,
   "metadata": {},
   "outputs": [
    {
     "data": {
      "text/plain": [
       "<Response [200 OK]>"
      ]
     },
     "execution_count": 45,
     "metadata": {},
     "output_type": "execute_result"
    }
   ],
   "source": [
    "response = httpx.get('http://localhost:3030/authorities?graph=https://bibliokeia.com/authorities/name/n80002329')\n",
    "response"
   ]
  },
  {
   "cell_type": "code",
   "execution_count": 46,
   "metadata": {},
   "outputs": [
    {
     "data": {
      "text/plain": [
       "<Graph identifier=Nc7fd2ec4e1e541edbd048c09e685ea53 (<class 'rdflib.graph.Graph'>)>"
      ]
     },
     "execution_count": 46,
     "metadata": {},
     "output_type": "execute_result"
    }
   ],
   "source": [
    "g = Graph()\n",
    "g.parse(response.content)\n",
    "g.serialize('name.ttl', format='ttl')"
   ]
  },
  {
   "cell_type": "code",
   "execution_count": 8,
   "metadata": {},
   "outputs": [
    {
     "data": {
      "text/plain": [
       "<Graph identifier=Na2c213dac7fc4260b1e9a3ce33f14215 (<class 'rdflib.graph.Graph'>)>"
      ]
     },
     "execution_count": 8,
     "metadata": {},
     "output_type": "execute_result"
    }
   ],
   "source": [
    "g.serialize('bk.rdf', format='xml')"
   ]
  },
  {
   "cell_type": "code",
   "execution_count": 51,
   "metadata": {},
   "outputs": [
    {
     "name": "stdout",
     "output_type": "stream",
     "text": [
      "https://bibliokeia.com/authorities/name/n80002329\n"
     ]
    }
   ],
   "source": [
    "for contribution in request.contribution:\n",
    "    print(contribution.agent)"
   ]
  },
  {
   "cell_type": "code",
   "execution_count": 42,
   "metadata": {},
   "outputs": [
    {
     "name": "stdout",
     "output_type": "stream",
     "text": [
      "{'statusCode': 200, 'message': 'Update succeeded'}\n"
     ]
    }
   ],
   "source": [
    "fuseki_authorities = FusekiUpdate('http://localhost:3030', 'authorities')\n",
    "subjectOf = \"\"\"PREFIX graph: <https://bibliokeia.com/authorities/topic/>\n",
    "            PREFIX bf: <http://id.loc.gov/ontologies/bibframe/>\n",
    "\n",
    "                INSERT DATA\n",
    "                    {{ GRAPH <{subject}> {{ \n",
    "                        <{subject}>  bf:contributionOf   <https://bibliokeia.com/resources/work/{id}> }} }} ; \"\"\"\n",
    "for i in request.subject:\n",
    "    up = subjectOf.format(subject=i.value, id=\"bk-1\")\n",
    "    response = fuseki_authorities.run_sparql(up)\n",
    "    print(response.convert())"
   ]
  },
  {
   "cell_type": "code",
   "execution_count": 32,
   "metadata": {},
   "outputs": [
    {
     "data": {
      "text/plain": [
       "<SPARQLWrapper.Wrapper.QueryResult at 0x1f996290b50>"
      ]
     },
     "execution_count": 32,
     "metadata": {},
     "output_type": "execute_result"
    }
   ],
   "source": [
    "fuseki_authorities = FusekiUpdate('http://localhost:3030', 'authorities')\n",
    "subjectOf = f\"\"\"PREFIX graph: <https://bibliokeia.com/authorities/topic/>\n",
    "            PREFIX bf: <http://id.loc.gov/ontologies/bibframe/>\n",
    "\n",
    "                INSERT DATA\n",
    "                    {{ GRAPH graph:sh85017405 {{ \n",
    "                        graph:sh85017405  bf:subjectOf <https://bibliokeia.com/resources/work/bk-2> }} }} ; \"\"\"\n",
    "fuseki_authorities.run_sparql(subjectOf)"
   ]
  },
  {
   "attachments": {},
   "cell_type": "markdown",
   "metadata": {},
   "source": [
    "SOLR"
   ]
  },
  {
   "cell_type": "code",
   "execution_count": 40,
   "metadata": {},
   "outputs": [
    {
     "data": {
      "text/plain": [
       "[GenreForm(label='Ficção', value='genreForms:gf2014026339')]"
      ]
     },
     "execution_count": 40,
     "metadata": {},
     "output_type": "execute_result"
    }
   ],
   "source": [
    "request.genreForm"
   ]
  },
  {
   "cell_type": "code",
   "execution_count": 41,
   "metadata": {},
   "outputs": [
    {
     "data": {
      "text/plain": [
       "{'id': 'bk-1',\n",
       " 'type': ['Monograph', 'Text', 'Work'],\n",
       " 'creationDate': '2023-04-20',\n",
       " 'status': 'novo',\n",
       " 'cdd': '869.3',\n",
       " 'cutter': 'M513',\n",
       " 'content': ['texto', 'Imagem'],\n",
       " 'contribution': [{'id': 'bk-1!n80002329',\n",
       "   'type': ['bf:Contribution', 'bflc:PrimaryContribution'],\n",
       "   'agent': 'https://bibliokeia.com/authorities/name/n80002329',\n",
       "   'label': 'Machado de Assis',\n",
       "   'role': 'relators:aut'}],\n",
       " 'genreForm': ['Ficção']}"
      ]
     },
     "execution_count": 41,
     "metadata": {},
     "output_type": "execute_result"
    }
   ],
   "source": [
    "id = 'bk-1'\n",
    "doc = {\n",
    "    'id': id,\n",
    "    'type': [i.replace(\"bf:\", \"\") for i in request.type],\n",
    "    'creationDate': request.adminMetadata.creationDate,\n",
    "    'status': request.adminMetadata.status.label,\n",
    "    'cdd': request.classification.classificationPortion,\n",
    "    'cutter': request.classification.itemPortion,\n",
    "    'content': [content.label for content in request.content],\n",
    "    'contribution': [{'id':f'{id}!{contribution.agent.split(\"/\")[-1]}', **contribution.dict()} for contribution in request.contribution],\n",
    "    'genreForm': [genreForm.label for genreForm in request.genreForm ]\n",
    "}\n",
    "doc"
   ]
  },
  {
   "cell_type": "code",
   "execution_count": 42,
   "metadata": {},
   "outputs": [
    {
     "data": {
      "text/plain": [
       "'{\\n  \"responseHeader\":{\\n    \"status\":0,\\n    \"QTime\":128}}\\n'"
      ]
     },
     "execution_count": 42,
     "metadata": {},
     "output_type": "execute_result"
    }
   ],
   "source": [
    "solr = pysolr.Solr('http://localhost:8983/solr/acervo/', timeout=10)\n",
    "r = solr.add([doc], commit=True)\n",
    "r"
   ]
  },
  {
   "cell_type": "code",
   "execution_count": 32,
   "metadata": {},
   "outputs": [
    {
     "data": {
      "text/plain": [
       "'<?xml version=\"1.0\" encoding=\"UTF-8\"?>\\n<response>\\n\\n<lst name=\"responseHeader\">\\n  <int name=\"status\">0</int>\\n  <int name=\"QTime\">44</int>\\n</lst>\\n</response>\\n'"
      ]
     },
     "execution_count": 32,
     "metadata": {},
     "output_type": "execute_result"
    }
   ],
   "source": [
    "solr.delete(q=\"*:*\", commit=True)"
   ]
  },
  {
   "cell_type": "code",
   "execution_count": null,
   "metadata": {},
   "outputs": [],
   "source": []
  }
 ],
 "metadata": {
  "kernelspec": {
   "display_name": "Python 3.11.0 ('venv': venv)",
   "language": "python",
   "name": "python3"
  },
  "language_info": {
   "codemirror_mode": {
    "name": "ipython",
    "version": 3
   },
   "file_extension": ".py",
   "mimetype": "text/x-python",
   "name": "python",
   "nbconvert_exporter": "python",
   "pygments_lexer": "ipython3",
   "version": "3.10.4"
  },
  "orig_nbformat": 4,
  "vscode": {
   "interpreter": {
    "hash": "5df21a170a08fe7c24b5b1091267edae5bad3984f1116f28e957af7dd8f192dc"
   }
  }
 },
 "nbformat": 4,
 "nbformat_minor": 2
}
