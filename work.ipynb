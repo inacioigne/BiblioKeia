{
 "cells": [
  {
   "cell_type": "code",
   "execution_count": 1,
   "metadata": {},
   "outputs": [],
   "source": [
    "from rdflib import Graph"
   ]
  },
  {
   "cell_type": "code",
   "execution_count": 2,
   "metadata": {},
   "outputs": [],
   "source": [
    "graph = Graph()"
   ]
  },
  {
   "cell_type": "code",
   "execution_count": 3,
   "metadata": {},
   "outputs": [
    {
     "data": {
      "text/plain": [
       "<Graph identifier=N304597c7c2954802bb825c982e4a7d9e (<class 'rdflib.graph.Graph'>)>"
      ]
     },
     "execution_count": 3,
     "metadata": {},
     "output_type": "execute_result"
    }
   ],
   "source": [
    "uri = 'http://id.loc.gov/resources/works/1893399'\n",
    "graph.parse(f'{uri}.rdf')\n"
   ]
  },
  {
   "cell_type": "code",
   "execution_count": null,
   "metadata": {},
   "outputs": [],
   "source": [
    "def GetTitle(graph, uri): \n",
    "\n",
    "  q = f\"\"\"PREFIX bf: <http://id.loc.gov/ontologies/bibframe/>\n",
    "            SELECT ?mainTitle ?subtitle ?label\n",
    "            WHERE {{ \n",
    "                <{uri}> bf:title ?title .\n",
    "                 ?title rdfs:label ?label .\n",
    "  ?title bf:mainTitle ?mainTitle .\n",
    "  OPTIONAL {{ ?title bf:subtitle ?subtitle }}\n",
    "                  }}\"\"\"\n",
    "  response = graph.query(q)\n",
    "  [binding] = response.bindings\n",
    "  mainTitle = binding.get('mainTitle').value\n",
    "\n",
    "  title = {\n",
    "    'mainTitle':mainTitle,\n",
    "    'subtitle': binding.get('subtitle').value if binding.get('subtitle') else None,\n",
    "    'label': binding.get('label').value,\n",
    "  }\n",
    "  \n",
    "  return title\n",
    "\n",
    "title = GetTitle(graph, uri)\n",
    "title"
   ]
  },
  {
   "cell_type": "code",
   "execution_count": 6,
   "metadata": {},
   "outputs": [
    {
     "data": {
      "text/plain": [
       "<rdflib.plugins.sparql.processor.SPARQLResult at 0x28cd9e6dcf0>"
      ]
     },
     "execution_count": 6,
     "metadata": {},
     "output_type": "execute_result"
    }
   ],
   "source": [
    "q = f\"\"\"PREFIX bf: <http://id.loc.gov/ontologies/bibframe/>\n",
    "            SELECT ?mainTitle ?subtitle ?label\n",
    "            WHERE {{ \n",
    "                <{uri}> bf:title ?title .\n",
    "                 ?title rdfs:label ?label .\n",
    "  ?title bf:mainTitle ?mainTitle .\n",
    "  OPTIONAL {{ ?title bf:subtitle ?subtitle }}\n",
    "                  }}\"\"\"\n",
    "response = graph.query(q)\n",
    "response"
   ]
  },
  {
   "cell_type": "code",
   "execution_count": 8,
   "metadata": {},
   "outputs": [
    {
     "data": {
      "text/plain": [
       "'Conjectures and refutations : the growth of scientific knowledge'"
      ]
     },
     "execution_count": 8,
     "metadata": {},
     "output_type": "execute_result"
    }
   ],
   "source": [
    "[binding] = response.bindings\n",
    "\n",
    "mainTitle = binding.get('mainTitle').value\n",
    "mainTitle"
   ]
  },
  {
   "cell_type": "code",
   "execution_count": 12,
   "metadata": {},
   "outputs": [],
   "source": [
    "if binding.get('subtitle'):\n",
    "    print(' okk')"
   ]
  }
 ],
 "metadata": {
  "kernelspec": {
   "display_name": "Python 3.11.0 ('venv': venv)",
   "language": "python",
   "name": "python3"
  },
  "language_info": {
   "codemirror_mode": {
    "name": "ipython",
    "version": 3
   },
   "file_extension": ".py",
   "mimetype": "text/x-python",
   "name": "python",
   "nbconvert_exporter": "python",
   "pygments_lexer": "ipython3",
   "version": "3.10.4"
  },
  "orig_nbformat": 4,
  "vscode": {
   "interpreter": {
    "hash": "5df21a170a08fe7c24b5b1091267edae5bad3984f1116f28e957af7dd8f192dc"
   }
  }
 },
 "nbformat": 4,
 "nbformat_minor": 2
}
