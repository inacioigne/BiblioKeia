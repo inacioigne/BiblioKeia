{
 "cells": [
  {
   "cell_type": "code",
   "execution_count": 2,
   "metadata": {},
   "outputs": [],
   "source": [
    "import httpx"
   ]
  },
  {
   "cell_type": "code",
   "execution_count": 4,
   "metadata": {},
   "outputs": [
    {
     "data": {
      "text/plain": [
       "<Response [200 OK]>"
      ]
     },
     "execution_count": 4,
     "metadata": {},
     "output_type": "execute_result"
    }
   ],
   "source": [
    "url = 'http://localhost:8000/import/loc/works?uri=http%3A%2F%2Fid.loc.gov%2Fresources%2Fworks%2F1893399'\n",
    "response = httpx.get(url)\n",
    "response"
   ]
  },
  {
   "cell_type": "code",
   "execution_count": 5,
   "metadata": {},
   "outputs": [],
   "source": [
    "from pydantic import BaseModel\n",
    "from typing import Optional\n",
    "from api.src.schemas.metadata.bibframe.adminMetadata import AdminMetadata\n",
    "from api.src.schemas.metadata.bibframe.classification import Classification\n",
    "from api.src.schemas.metadata.bibframe.contribution import Contribution\n",
    "from api.src.schemas.metadata.bibframe.element import Element\n",
    "from api.src.schemas.metadata.bibframe.title import Title\n",
    "\n",
    "class Work(BaseModel):\n",
    "    adminMetadata: AdminMetadata\n",
    "    type: list[str]\n",
    "    content: list[Element]\n",
    "    language: list[Element]\n",
    "    title: Title\n",
    "    classification: Optional[Classification] = None\n",
    "    contribution: Optional[list[Contribution]] = None\n",
    "    subject: Optional[list[Element]] = None   \n",
    "    genreForm: Optional[list[Element]] = None\n",
    "    note: Optional[str] = None\n",
    "    summary: Optional[str] = None\n",
    "    tableOfContents: Optional[str] = None\n",
    "    supplementaryContent: Optional[list[Element]] = None\n",
    "    illustrativeContent: Optional[list[Element]] = None\n",
    "    intendedAudience: Optional[list[Element]] = None\n",
    "    geographicCoverage: Optional[list[Element]] = None"
   ]
  },
  {
   "cell_type": "code",
   "execution_count": 16,
   "metadata": {},
   "outputs": [],
   "source": [
    "obj = response.json()\n",
    "obj['classification'] = {\n",
    "    \"type\": \"cdd\",\n",
    "    \"classificationPortion\": \"542.5\",\n",
    "    \"itemPortion\": \"P542c\"\n",
    "}"
   ]
  },
  {
   "cell_type": "code",
   "execution_count": 18,
   "metadata": {},
   "outputs": [
    {
     "data": {
      "text/plain": [
       "{'type': 'cdd', 'classificationPortion': '542.5', 'itemPortion': 'P542c'}"
      ]
     },
     "execution_count": 18,
     "metadata": {},
     "output_type": "execute_result"
    }
   ],
   "source": [
    "obj['classification']"
   ]
  },
  {
   "cell_type": "code",
   "execution_count": 40,
   "metadata": {},
   "outputs": [
    {
     "data": {
      "text/plain": [
       "Work(adminMetadata=AdminMetadata(encodingLevel='menclvl:f', assigner='http://id.loc.gov/vocabulary/organizations/brmninpa', creationDate=datetime.date(2023, 7, 18), descriptionConventions='http://id.loc.gov/vocabulary/descriptionConventions/isbd', descriptionModifier='http://id.loc.gov/vocabulary/organizations/brmninpa', descriptionLanguage='http://id.loc.gov/vocabulary/languages/por', generationProcess='BiblioKeia v.1', generationDate=datetime.datetime(2023, 7, 18, 14, 43, 41, 100189), identifiedBy=[IdentifiedBy(type='Local', assigner='http://id.loc.gov/vocabulary/organizations/dlc', value='1893399')], status=Status(value='mstatus:new', label='novo')), type=['Work', 'Text'], content=[Element(label='text', lang=None, uri='http://id.loc.gov/vocabulary/contentTypes/txt', type=['http://id.loc.gov/ontologies/bibframe/Content'])], language=[Element(label='English', lang='en', uri='http://id.loc.gov/vocabulary/languages/eng', type=['http://id.loc.gov/ontologies/bibframe/Language'])], title=Title(type='bf:Title', mainTitle='Conjectures and refutations : the growth of scientific knowledge', subtitle=None, label=None), classification=Classification(type='cdd', classificationPortion='542.5', itemPortion='P542c', edition=None), contribution=[Contribution(type=['http://id.loc.gov/ontologies/bflc/PrimaryContribution'], agent='http://id.loc.gov/rwo/agents/n80032184', label='Popper, Karl R. (Karl Raimund), 1902-1994', role='http://id.loc.gov/vocabulary/relators/ctb')], subject=[Element(label='Methodology', lang='en', uri='http://id.loc.gov/authorities/subjects/sh99001902', type=['http://id.loc.gov/ontologies/bibframe/Topic', 'http://www.loc.gov/mads/rdf/v1#Topic']), Element(label='Knowledge, Theory of', lang='en', uri='http://id.loc.gov/authorities/subjects/sh85072732', type=['http://id.loc.gov/ontologies/bibframe/Topic']), Element(label='Prediction (Logic)', lang='en', uri='http://id.loc.gov/authorities/subjects/sh85106252', type=['http://id.loc.gov/ontologies/bibframe/Topic'])], genreForm=None, note=None, summary=None, tableOfContents=None, supplementaryContent=[Element(label='bibliography', lang=None, uri='http://id.loc.gov/vocabulary/msupplcont/bibliography', type=['http://id.loc.gov/ontologies/bibframe/SupplementaryContent']), Element(label='index', lang=None, uri='http://id.loc.gov/vocabulary/msupplcont/index', type=['http://id.loc.gov/ontologies/bibframe/SupplementaryContent'])], illustrativeContent=None, intendedAudience=None, geographicCoverage=None)"
      ]
     },
     "execution_count": 40,
     "metadata": {},
     "output_type": "execute_result"
    }
   ],
   "source": [
    "request = Work(**obj)\n",
    "request"
   ]
  },
  {
   "cell_type": "code",
   "execution_count": 34,
   "metadata": {},
   "outputs": [],
   "source": [
    "request.contribution[0].agent = 'https://bibliokeia.com/authorities/PersonalName/bka-4'"
   ]
  },
  {
   "cell_type": "code",
   "execution_count": 41,
   "metadata": {},
   "outputs": [],
   "source": [
    "from api.src.function.bibframe.Work.graphWork import MakeGraphWork\n",
    "\n",
    "\n",
    "G = MakeGraphWork(request, \"bkc-3\")"
   ]
  },
  {
   "cell_type": "code",
   "execution_count": 43,
   "metadata": {},
   "outputs": [
    {
     "name": "stdout",
     "output_type": "stream",
     "text": [
      "PREFIX rdf: <http://www.w3.org/1999/02/22-rdf-syntax-ns#>\n",
      "    PREFIX xsd: <http://www.w3.org/2001/XMLSchema#>\n",
      "    PREFIX rdfs: <http://www.w3.org/2000/01/rdf-schema#>\n",
      "    PREFIX bf: <http://id.loc.gov/ontologies/bibframe/>\n",
      "    PREFIX madsrdf: <http://www.loc.gov/mads/rdf/v1#>\n",
      "    PREFIX bflc: <http://id.loc.gov/ontologies/bflc/> \n",
      "    PREFIX bkw: <https://bibliokeia.com/resources/work/> \n",
      "    PREFIX menclvl: <http://id.loc.gov/vocabulary/menclvl/>\n",
      "    PREFIX mstatus: <http://id.loc.gov/vocabulary/mstatus/>\n",
      "    PREFIX contentTypes: <http://id.loc.gov/vocabulary/contentTypes/>\n",
      "    PREFIX relators: <http://id.loc.gov/vocabulary/relators/>\n",
      "    PREFIX genreForms: <http://id.loc.gov/authorities/genreForms/>\n",
      "    PREFIX msupplcont: <http://id.loc.gov/vocabulary/msupplcont/>\n",
      "    PREFIX millus: <http://id.loc.gov/vocabulary/millus/>    \n",
      "        \n",
      "    INSERT DATA {\n",
      "        GRAPH bkw:bkc-3\n",
      "        {\n",
      "                bkw:bkc-3 a bf:Work, bf:Text  ;\n",
      "                bf:adminMetadata [ a bf:AdminMetadata ;\n",
      "                bflc:encodingLevel menclvl:f ;\n",
      "                bf:assigner <http://id.loc.gov/vocabulary/organizations/brmninpa> ;    \n",
      "                bf:creationDate \"2023-07-18\"^^xsd:date ;    \n",
      "                bf:descriptionConventions <http://id.loc.gov/vocabulary/descriptionConventions/isbd> ;\n",
      "                bf:descriptionLanguage <http://id.loc.gov/vocabulary/languages/por> ;\n",
      "                 bf:generationProcess [ a bf:GenerationProcess ;\n",
      "                    rdfs:label \"BiblioKeia v.1\" ;\n",
      "                    bf:generationDate \"2023-07-18 14:43:41.100189\"^^xsd:dateTime ] ;\n",
      "                bf:identifiedBy [ a bf:Local ;\n",
      "                    bf:assigner <http://id.loc.gov/vocabulary/organizations/brmninpa> ;\n",
      "                    rdf:value \"bkc-3\" ] ;\n",
      "                bf:status mstatus:new ] ;\n",
      "                bf:classification \n",
      "            [ a bf:ClassificationDdc ;\n",
      "                bf:classificationPortion \"542.5\" ;\n",
      "                bf:itemPortion \"P542c\" \n",
      "                bf:edition \"full\" ;\n",
      "                ] ;                \n",
      "                bf:content <http://id.loc.gov/vocabulary/contentTypes/txt> ;\n",
      "                bf:language <http://id.loc.gov/vocabulary/languages/eng> ;\n",
      "                bf:title [ a bf:Title ;\n",
      "                bf:mainTitle \"Conjectures and refutations : the growth of scientific knowledge\" \n",
      "                 ] ;\n",
      "                bf:contribution [ a bf:Contribution, <http://id.loc.gov/ontologies/bflc/PrimaryContribution> ;\n",
      "                bf:agent <http://id.loc.gov/rwo/agents/n80032184> ;\n",
      "                bf:role <http://id.loc.gov/vocabulary/relators/ctb> ] ;  \n",
      "                bf:subject <http://id.loc.gov/authorities/subjects/sh99001902>, <http://id.loc.gov/authorities/subjects/sh85072732>, <http://id.loc.gov/authorities/subjects/sh85106252> ;\n",
      "                         \n",
      "                \n",
      "                \n",
      "                \n",
      "                bf:supplementaryContent <http://id.loc.gov/vocabulary/msupplcont/bibliography>, <http://id.loc.gov/vocabulary/msupplcont/index> ;\n",
      "                \n",
      "                \n",
      "                \n",
      "        } }\n",
      "        \n"
     ]
    }
   ],
   "source": [
    "print(G)"
   ]
  },
  {
   "cell_type": "code",
   "execution_count": 2,
   "metadata": {},
   "outputs": [],
   "source": [
    "from api.src.function.bibframe.bf_classification import GetClassification\n",
    "# from api.src.function.bibframe.bf_contribution import GetContribution\n",
    "from api.src.function.bibframe.bf_Uri import GetUriBF\n",
    "from api.src.function.bibframe.bf_Literal import GetLiteral\n",
    "from api.src.function.bibframe.bf_title import GetTitle\n",
    "from api.src.function.bibframe.bf_type import GetType\n",
    "\n",
    "from api.src.schemas.settings import Settings\n",
    "from pyfuseki import FusekiUpdate\n",
    "\n",
    "settings = Settings()\n",
    "\n",
    "collectionUpdate = FusekiUpdate(f'{settings.url}:3030', 'collection')\n",
    "\n",
    "def GetContribution(graph, uri, obj):\n",
    "    \n",
    "  q = f\"\"\"PREFIX skos: <http://www.w3.org/2004/02/skos/core#>\n",
    "                PREFIX rdf: <http://www.w3.org/1999/02/22-rdf-syntax-ns#>\n",
    "                PREFIX madsrdf: <http://www.loc.gov/mads/rdf/v1#>\n",
    "                SELECT ?type ?role ?agent ?label\n",
    "                  WHERE {{ \n",
    "                    <{uri}> bf:contribution ?contribution .\n",
    "                      ?contribution rdf:type ?type .\n",
    "                      ?contribution bf:role ?role .\n",
    "                      ?contribution bf:agent ?agent .\n",
    "                      ?agent rdfs:label ?label\n",
    "                      FILTER ( ?type != bf:Contribution )\n",
    "                    }}\"\"\"\n",
    "  response = graph.query(q)\n",
    "  bindings = response.bindings\n",
    "  if len(bindings) > 0:\n",
    "      contributions = list()\n",
    "      for binding in bindings:\n",
    "         c = {'type': [binding.get('type').toPython()],\n",
    "          'agent': binding.get('agent').toPython(),\n",
    "          'label': binding.get('label').toPython(),\n",
    "          'role': binding.get('role').toPython()}\n",
    "         contributions.append(c)\n",
    "      obj['contribution'] = contributions\n",
    "      \n",
    "  return obj\n",
    "\n",
    "def ParserWork(graph, uri):\n",
    "    identifier = uri.split(\"/\")[-1]\n",
    "    types = GetType(graph, uri)\n",
    "    title = GetTitle(graph, uri)\n",
    "\n",
    "    obj = {\n",
    "    'adminMetadata': {\n",
    "        'identifiedBy': [ \n",
    "            {\n",
    "                \"type\": \"Local\",\n",
    "            \"assigner\": \"http://id.loc.gov/vocabulary/organizations/dlc\",\n",
    "            \"value\": identifier\n",
    "            }\n",
    "        ]\n",
    "    },\n",
    "    \"type\": types,\n",
    "    'title': title\n",
    "    }\n",
    "    \n",
    "    # Classification\n",
    "    obj = GetClassification(graph, uri, obj)\n",
    "    # Content\n",
    "    # obj = GetContent(graph, uri, obj)\n",
    "    # Contribution\n",
    "    obj = GetContribution(graph, uri, obj)\n",
    "    # Content\n",
    "    obj = GetUriBF(graph, uri, 'content', obj)\n",
    "    # GenreForm\n",
    "    obj = GetUriBF(graph, uri, 'genreForm', obj)\n",
    "    # illustrativeContent\n",
    "    obj = GetUriBF(graph, uri, 'illustrativeContent', obj)\n",
    "    # intendedAudience\n",
    "    obj = GetUriBF(graph, uri, 'intendedAudience', obj)\n",
    "    # language\n",
    "    obj = GetUriBF(graph, uri, 'language', obj)\n",
    "    # subject\n",
    "    obj = GetUriBF(graph, uri, 'subject', obj)\n",
    "    # supplementaryContent\n",
    "    obj = GetUriBF(graph, uri, 'supplementaryContent', obj)\n",
    "    # geographicCoverage\n",
    "    obj = GetUriBF(graph, uri, 'geographicCoverage', obj)\n",
    "    # summary\n",
    "    obj = GetLiteral(graph, uri, 'summary', obj)\n",
    "    # tableOfContents\n",
    "    obj = GetLiteral(graph, uri, 'tableOfContents', obj)\n",
    "\n",
    "    # response = Work(**obj)\n",
    "    \n",
    "    return obj\n"
   ]
  },
  {
   "cell_type": "code",
   "execution_count": 11,
   "metadata": {},
   "outputs": [
    {
     "data": {
      "text/plain": [
       "{'adminMetadata': {'identifiedBy': [{'type': 'Local',\n",
       "    'assigner': 'http://id.loc.gov/vocabulary/organizations/dlc',\n",
       "    'value': '3227597'}]},\n",
       " 'type': ['Work', 'Text'],\n",
       " 'title': {'mainTitle': 'Physiological plant ecology', 'subtitle': None},\n",
       " 'classification': {'type': 'ClassificationDdc',\n",
       "  'classificationPortion': '581.5',\n",
       "  'itemPortion': None,\n",
       "  'edition': 'full'},\n",
       " 'contribution': [{'type': ['http://id.loc.gov/ontologies/bflc/PrimaryContribution'],\n",
       "   'agent': 'http://id.loc.gov/rwo/agents/n79125202',\n",
       "   'label': 'Larcher, W. (Walter), 1929-',\n",
       "   'role': 'http://id.loc.gov/vocabulary/relators/ctb'}],\n",
       " 'content': [{'label': 'text',\n",
       "   'lang': None,\n",
       "   'uri': 'http://id.loc.gov/vocabulary/contentTypes/txt',\n",
       "   'type': ['http://id.loc.gov/ontologies/bibframe/Content']}],\n",
       " 'illustrativeContent': [{'label': 'Illustrations',\n",
       "   'lang': None,\n",
       "   'uri': 'http://id.loc.gov/vocabulary/millus/ill',\n",
       "   'type': ['http://id.loc.gov/ontologies/bibframe/Illustration']}],\n",
       " 'language': [{'label': 'English',\n",
       "   'lang': 'en',\n",
       "   'uri': 'http://id.loc.gov/vocabulary/languages/eng',\n",
       "   'type': ['http://id.loc.gov/ontologies/bibframe/Language',\n",
       "    'http://www.loc.gov/mads/rdf/v1#Language']}],\n",
       " 'subject': [{'label': 'Plant ecophysiology',\n",
       "   'lang': 'en',\n",
       "   'uri': 'http://id.loc.gov/authorities/subjects/sh88005635',\n",
       "   'type': ['http://id.loc.gov/ontologies/bibframe/Topic']}],\n",
       " 'supplementaryContent': [{'label': 'bibliography',\n",
       "   'lang': None,\n",
       "   'uri': 'http://id.loc.gov/vocabulary/msupplcont/bibliography',\n",
       "   'type': ['http://id.loc.gov/ontologies/bibframe/SupplementaryContent']},\n",
       "  {'label': 'index',\n",
       "   'lang': None,\n",
       "   'uri': 'http://id.loc.gov/vocabulary/msupplcont/index',\n",
       "   'type': ['http://id.loc.gov/ontologies/bibframe/SupplementaryContent']}]}"
      ]
     },
     "execution_count": 11,
     "metadata": {},
     "output_type": "execute_result"
    }
   ],
   "source": [
    "obj = ParserWork(graph, uri) \n",
    "obj"
   ]
  },
  {
   "cell_type": "code",
   "execution_count": 3,
   "metadata": {},
   "outputs": [
    {
     "data": {
      "text/plain": [
       "<Response [200 OK]>"
      ]
     },
     "execution_count": 3,
     "metadata": {},
     "output_type": "execute_result"
    }
   ],
   "source": [
    "import httpx\n",
    "\n",
    "url = 'http://localhost:8000/import/loc/works?uri=http%3A%2F%2Fid.loc.gov%2Fresources%2Fworks%2F3227597'\n",
    "response = httpx.get(url)\n",
    "response"
   ]
  },
  {
   "cell_type": "code",
   "execution_count": 5,
   "metadata": {},
   "outputs": [],
   "source": [
    "obj = response.json()"
   ]
  },
  {
   "cell_type": "code",
   "execution_count": 6,
   "metadata": {},
   "outputs": [],
   "source": [
    "obj['contribution'][0]['agent'] = 'https://bibliokeia.com/authorities/PersonalName/bka-2'\n",
    "obj['subject'][0]['uri'] = 'https://bibliokeia.com/authorities/Topic/bka-1'"
   ]
  },
  {
   "cell_type": "code",
   "execution_count": 7,
   "metadata": {},
   "outputs": [
    {
     "data": {
      "text/plain": [
       "Work(adminMetadata=AdminMetadata(encodingLevel='menclvl:f', assigner='http://id.loc.gov/vocabulary/organizations/brmninpa', creationDate=datetime.date(2023, 7, 18), descriptionConventions='http://id.loc.gov/vocabulary/descriptionConventions/isbd', descriptionModifier='http://id.loc.gov/vocabulary/organizations/brmninpa', descriptionLanguage='http://id.loc.gov/vocabulary/languages/por', generationProcess='BiblioKeia v.1', generationDate=datetime.datetime(2023, 7, 18, 13, 34, 19, 934622), identifiedBy=[IdentifiedBy(type='Local', assigner='http://id.loc.gov/vocabulary/organizations/dlc', value='3227597')], status=Status(value='mstatus:new', label='novo')), type=['Work', 'Text'], content=[Element(label='text', lang=None, uri='http://id.loc.gov/vocabulary/contentTypes/txt', type=['http://id.loc.gov/ontologies/bibframe/Content'])], language=[Element(label='English', lang='en', uri='http://id.loc.gov/vocabulary/languages/eng', type=['http://id.loc.gov/ontologies/bibframe/Language', 'http://www.loc.gov/mads/rdf/v1#Language'])], title=Title(type='bf:Title', mainTitle='Physiological plant ecology', subtitle=None, label=None), classification=Classification(type='ClassificationDdc', classificationPortion='581.5', itemPortion=None, edition='full'), contribution=[Contribution(type=['http://id.loc.gov/ontologies/bflc/PrimaryContribution'], agent='https://bibliokeia.com/authorities/PersonalName/bka-2', label='Larcher, W. (Walter), 1929-', role='http://id.loc.gov/vocabulary/relators/ctb')], subject=[Element(label='Plant ecophysiology', lang='en', uri='https://bibliokeia.com/authorities/Topic/bka-1', type=['http://id.loc.gov/ontologies/bibframe/Topic'])], genreForm=None, note=None, summary=None, tableOfContents=None, supplementaryContent=[Element(label='bibliography', lang=None, uri='http://id.loc.gov/vocabulary/msupplcont/bibliography', type=['http://id.loc.gov/ontologies/bibframe/SupplementaryContent']), Element(label='index', lang=None, uri='http://id.loc.gov/vocabulary/msupplcont/index', type=['http://id.loc.gov/ontologies/bibframe/SupplementaryContent'])], illustrativeContent=[Element(label='Illustrations', lang=None, uri='http://id.loc.gov/vocabulary/millus/ill', type=['http://id.loc.gov/ontologies/bibframe/Illustration'])], intendedAudience=None, geographicCoverage=None)"
      ]
     },
     "execution_count": 7,
     "metadata": {},
     "output_type": "execute_result"
    }
   ],
   "source": [
    "request = Work(**obj)\n",
    "request"
   ]
  },
  {
   "cell_type": "code",
   "execution_count": 9,
   "metadata": {},
   "outputs": [],
   "source": [
    "from pyfuseki import FusekiUpdate\n",
    "from api.src.schemas.settings import Settings\n",
    "import pysolr  \n",
    "\n",
    "settings = Settings()\n",
    "\n",
    "authorityUpdate = FusekiUpdate(f'{settings.url}:3030', 'authority')\n",
    "#SOLR\n",
    "solr = pysolr.Solr(f'{settings.url}:8983/solr/authority/', timeout=10)\n",
    "\n",
    "def SubjectOf(request, collection, id):\n",
    "\n",
    "    subjectOf = \"\"\"PREFIX bf: <http://id.loc.gov/ontologies/bibframe/>\n",
    "                INSERT DATA\n",
    "                {{ GRAPH <{subject}> {{ \n",
    "                    <{subject}>  bf:subjectOf <https://bibliokeia.com/resources/{collection}/{id}> }} }} ; \"\"\"\n",
    " \n",
    "    for subject in request.subject:\n",
    "        # Jena\n",
    "        up = subjectOf.format(subject=subject.uri, collection=collection, id=id)\n",
    "        response = authorityUpdate.run_sparql(up)\n",
    "        print(\"UP JENA:\", response.convert())\n",
    "\n",
    "        # Solr\n",
    "        sID = subject.uri.split('/')[-1]\n",
    "        doc = {\n",
    "        \"id\": sID,\n",
    "        \"subjectOf\": { \"add\" : {\n",
    "            \"id\": f\"{sID}/subjectOf/{id}\",\n",
    "            'label': request.title.mainTitle,\n",
    "            'uri': f'https://bibliokeia.com/resources/{collection}/{id}'\n",
    "        } }}    \n",
    "    \n",
    "        responseSolr =  solr.add([doc], commit=True)\n",
    "        print(\"UP SOLR:\", responseSolr)"
   ]
  },
  {
   "cell_type": "code",
   "execution_count": 10,
   "metadata": {},
   "outputs": [
    {
     "name": "stdout",
     "output_type": "stream",
     "text": [
      "UP JENA: {'statusCode': 200, 'message': 'Update succeeded'}\n",
      "UP SOLR: {\n",
      "  \"responseHeader\":{\n",
      "    \"status\":0,\n",
      "    \"QTime\":223}}\n",
      "\n"
     ]
    }
   ],
   "source": [
    "id = 'bkc-1'\n",
    "SubjectOf(request, 'work', id)"
   ]
  },
  {
   "cell_type": "code",
   "execution_count": null,
   "metadata": {},
   "outputs": [],
   "source": [
    "from api.src.function.bibframe.Work.contributionOf import ContributionOf\n",
    "\n",
    "\n",
    "ContributionOf(request, 'work', id)"
   ]
  },
  {
   "cell_type": "code",
   "execution_count": 13,
   "metadata": {},
   "outputs": [],
   "source": [
    "from pyfuseki import FusekiUpdate\n",
    "from api.src.schemas.settings import Settings\n",
    "import pysolr  \n",
    "\n",
    "settings = Settings()\n",
    "\n",
    "authorityUpdate = FusekiUpdate(f'{settings.url}:3030', 'authority')\n",
    "#SOLR\n",
    "solr = pysolr.Solr(f'{settings.url}:8983/solr/authority/', timeout=10)\n",
    "\n",
    "def ContributionOf(request, collection, id):\n",
    "\n",
    "    contributionOf = \"\"\"PREFIX bf: <http://id.loc.gov/ontologies/bibframe/>\n",
    "\n",
    "                    INSERT DATA\n",
    "                        {{ GRAPH <{contribution}> {{ \n",
    "                            <{contribution}>  bf:contributionOf <https://bibliokeia.com/resources/{collection}/{id}> }} }} ; \"\"\"\n",
    "    for contribution in request.contribution:\n",
    "        # Jena\n",
    "        up = contributionOf.format(contribution=contribution.agent, collection=collection, id=id)\n",
    "        response = authorityUpdate.run_sparql(up)\n",
    "        print(response.convert())\n",
    "\n",
    "        # Solr\n",
    "        cID = contribution.agent.split('/')[-1]\n",
    "        doc = {\n",
    "        \"id\": cID,\n",
    "        \"contributionOf\": { \"add\" : {\n",
    "            \"id\": f\"{cID}/contributionOf/{id}\",\n",
    "            'label': request.title.mainTitle,\n",
    "            'uri': f'https://bibliokeia.com/resources/{collection}/{id}'\n",
    "        } }} \n",
    "        responseSolr =  solr.add([doc], commit=True)\n",
    "        print(\"UP SOLR:\", responseSolr)"
   ]
  },
  {
   "cell_type": "code",
   "execution_count": 14,
   "metadata": {},
   "outputs": [
    {
     "name": "stdout",
     "output_type": "stream",
     "text": [
      "{'statusCode': 200, 'message': 'Update succeeded'}\n",
      "UP SOLR: {\n",
      "  \"responseHeader\":{\n",
      "    \"status\":0,\n",
      "    \"QTime\":180}}\n",
      "\n"
     ]
    }
   ],
   "source": [
    "ContributionOf(request, 'work', id)"
   ]
  },
  {
   "cell_type": "code",
   "execution_count": 15,
   "metadata": {},
   "outputs": [],
   "source": [
    "import pysolr \n",
    "\n",
    "#SOLR\n",
    "solr = pysolr.Solr('http://localhost:8983/solr/collection/', timeout=10)\n",
    "\n",
    "def DocInstance(request, id):\n",
    "\n",
    "    workID = request.instanceOf.uri.split(\"/\")[-1]\n",
    "    uri = f'https://bibliokeia.com/resources/instance/{id}'\n",
    "\n",
    "    doc = {\n",
    "        \"id\": id,\n",
    "        \"type\": request.type,\n",
    "        \"mainTitle\": request.title.mainTitle,\n",
    "        \"subtitle\": request.title.subtitle,\n",
    "        \"carrier\": [i.label for i in request.carrier],\n",
    "        \"dimensions\": request.dimensions,\n",
    "        \"extent\": request.extent.label if request.extent else None,\n",
    "        \"issuance\": [i.label for i in request.issuance],\n",
    "        \"media\": [i.label for i in request.media],\n",
    "        \"provisionActivityAgent\": request.provisionActivity.agent,\n",
    "        \"provisionActivityDate\": request.provisionActivity.date,\n",
    "        \"provisionActivityPlace\": request.provisionActivity.place,      \n",
    "        \"serie\": request.seriesStatement,\n",
    "        \"instanceOf\": {'id': f'{id}/instanceOf/{workID}', 'uri': request.instanceOf.uri, 'label': request.instanceOf.label} \n",
    "        }\n",
    "    \n",
    "    work = {\n",
    "        \"id\": workID,\n",
    "         \"hasInstance\": {\"add\": {'id': f'{workID}/hasInstance/{id}', 'uri': uri, 'label': request.title.mainTitle} }\n",
    "    }\n",
    "    print(\"hasInstance\", work)\n",
    "\n",
    "    response = solr.add([doc, work], commit=True)\n",
    "    return response"
   ]
  },
  {
   "cell_type": "code",
   "execution_count": 17,
   "metadata": {},
   "outputs": [],
   "source": [
    "obj = {\n",
    "  \"adminMetadata\": {\n",
    "    \"encodingLevel\": \"menclvl:f\",\n",
    "    \"assigner\": \"http://id.loc.gov/vocabulary/organizations/brmninpa\",\n",
    "    \"creationDate\": \"2023-07-18\",\n",
    "    \"descriptionConventions\": \"http://id.loc.gov/vocabulary/descriptionConventions/isbd\",\n",
    "    \"descriptionModifier\": \"http://id.loc.gov/vocabulary/organizations/brmninpa\",\n",
    "    \"descriptionLanguage\": \"http://id.loc.gov/vocabulary/languages/por\",\n",
    "    \"generationProcess\": \"BiblioKeia v.1\",\n",
    "    \"generationDate\": \"2023-07-18T14:07:28.790958\",\n",
    "    \"identifiedBy\": [\n",
    "      {\n",
    "        \"type\": \"Local\",\n",
    "        \"assigner\": \"http://id.loc.gov/vocabulary/organizations/dlc\",\n",
    "        \"value\": \"3227597\"\n",
    "      }\n",
    "    ],\n",
    "    \"status\": {\n",
    "      \"value\": \"mstatus:new\",\n",
    "      \"label\": \"novo\"\n",
    "    }\n",
    "  },\n",
    "  \"type\": [\n",
    "    \"Instance\",\n",
    "    \"Print\"\n",
    "  ],\n",
    "  \"title\": {\n",
    "    \"type\": \"bf:Title\",\n",
    "    \"mainTitle\": \"Physiological plant ecology\"\n",
    "  },\n",
    "  \"carrier\": [\n",
    "    {\n",
    "      \"label\": \"volume\",\n",
    "      \"uri\": \"http://id.loc.gov/vocabulary/carriers/nc\",\n",
    "      \"type\": [\n",
    "        \"http://id.loc.gov/ontologies/bibframe/Carrier\"\n",
    "      ]\n",
    "    }\n",
    "  ],\n",
    "  \"dimensions\": \"23 cm.\",\n",
    "  \"extent\": {\n",
    "    \"label\": \"xvii, 303 p.\",\n",
    "    \"type\": \"http://id.loc.gov/ontologies/bibframe/Extent\"\n",
    "  },\n",
    "  \"instanceOf\": {\n",
    "    \"label\": \"Larcher, W. (Walter), 1929- Physiological plant ecology\",\n",
    "    \"uri\": \"https://bibliokeia.com/resources/work/bkc-1\",\n",
    "    \"type\": [\n",
    "      \"http://id.loc.gov/ontologies/bibframe/Work\"\n",
    "    ]\n",
    "  },\n",
    "  \"issuance\": [\n",
    "    {\n",
    "      \"label\": \"single unit\",\n",
    "      \"uri\": \"http://id.loc.gov/vocabulary/issuance/mono\",\n",
    "      \"type\": [\n",
    "        \"http://id.loc.gov/ontologies/bibframe/Issuance\"\n",
    "      ]\n",
    "    }\n",
    "  ],\n",
    "  \"media\": [\n",
    "    {\n",
    "      \"label\": \"unmediated\",\n",
    "      \"uri\": \"http://id.loc.gov/vocabulary/mediaTypes/n\",\n",
    "      \"type\": [\n",
    "        \"http://id.loc.gov/ontologies/bibframe/Media\"\n",
    "      ]\n",
    "    }\n",
    "  ],\n",
    "  \"provisionActivity\": {\n",
    "    \"date\": \"\\\"1980\\\"\",\n",
    "    \"place\": \"Germany\"\n",
    "  },\n",
    "  \"responsibilityStatement\": \"W. Larcher ; translated by M. A. Biederman-Thorson\"\n",
    "}"
   ]
  },
  {
   "cell_type": "code",
   "execution_count": 18,
   "metadata": {},
   "outputs": [],
   "source": [
    "from pydantic import BaseModel\n",
    "from typing import Optional\n",
    "\n",
    "class ProvisionActivity(BaseModel):\n",
    "    agent: Optional[str] = None\n",
    "    date: str\n",
    "    place: str"
   ]
  },
  {
   "cell_type": "code",
   "execution_count": 22,
   "metadata": {},
   "outputs": [],
   "source": [
    "class Value(BaseModel):\n",
    "    label: str\n",
    "    type: str\n",
    "\n",
    "class Element(BaseModel):\n",
    "    label: str\n",
    "    lang: Optional[str] = None\n",
    "    uri: str\n",
    "    type: list[str]\n",
    "\n",
    "class Instance(BaseModel):\n",
    "    adminMetadata: AdminMetadata\n",
    "    type: list[str]\n",
    "    title: Title\n",
    "    carrier: list[Element]\n",
    "    copyrightDate: Optional[str] = None\n",
    "    dimensions: Optional[str] = None\n",
    "    extent: Optional[Value] = None\n",
    "    instanceOf: Element\n",
    "    issuance: Optional[list[Element]] = None\n",
    "    media: Optional[list[Element]] = None\n",
    "    provisionActivity: ProvisionActivity\n",
    "    provisionActivityStatement: Optional[str] = None\n",
    "    responsibilityStatement: Optional[str] = None\n",
    "    seriesStatement: Optional[str] = None"
   ]
  },
  {
   "cell_type": "code",
   "execution_count": 23,
   "metadata": {},
   "outputs": [
    {
     "data": {
      "text/plain": [
       "Instance(adminMetadata=AdminMetadata(encodingLevel='menclvl:f', assigner='http://id.loc.gov/vocabulary/organizations/brmninpa', creationDate=datetime.date(2023, 7, 18), descriptionConventions='http://id.loc.gov/vocabulary/descriptionConventions/isbd', descriptionModifier='http://id.loc.gov/vocabulary/organizations/brmninpa', descriptionLanguage='http://id.loc.gov/vocabulary/languages/por', generationProcess='BiblioKeia v.1', generationDate=datetime.datetime(2023, 7, 18, 14, 7, 28, 790958), identifiedBy=[IdentifiedBy(type='Local', assigner='http://id.loc.gov/vocabulary/organizations/dlc', value='3227597')], status=Status(value='mstatus:new', label='novo')), type=['Instance', 'Print'], title=Title(type='bf:Title', mainTitle='Physiological plant ecology', subtitle=None, label=None), carrier=[Element(label='volume', lang=None, uri='http://id.loc.gov/vocabulary/carriers/nc', type=['http://id.loc.gov/ontologies/bibframe/Carrier'])], copyrightDate=None, dimensions='23 cm.', extent=Value(label='xvii, 303 p.', type='http://id.loc.gov/ontologies/bibframe/Extent'), instanceOf=Element(label='Larcher, W. (Walter), 1929- Physiological plant ecology', lang=None, uri='https://bibliokeia.com/resources/work/bkc-1', type=['http://id.loc.gov/ontologies/bibframe/Work']), issuance=[Element(label='single unit', lang=None, uri='http://id.loc.gov/vocabulary/issuance/mono', type=['http://id.loc.gov/ontologies/bibframe/Issuance'])], media=[Element(label='unmediated', lang=None, uri='http://id.loc.gov/vocabulary/mediaTypes/n', type=['http://id.loc.gov/ontologies/bibframe/Media'])], provisionActivity=ProvisionActivity(agent=None, date='\"1980\"', place='Germany'), provisionActivityStatement=None, responsibilityStatement='W. Larcher ; translated by M. A. Biederman-Thorson', seriesStatement=None)"
      ]
     },
     "execution_count": 23,
     "metadata": {},
     "output_type": "execute_result"
    }
   ],
   "source": [
    "request = Instance(**obj)\n",
    "request"
   ]
  },
  {
   "cell_type": "code",
   "execution_count": 24,
   "metadata": {},
   "outputs": [
    {
     "data": {
      "text/plain": [
       "Element(label='Larcher, W. (Walter), 1929- Physiological plant ecology', lang=None, uri='https://bibliokeia.com/resources/work/bkc-1', type=['http://id.loc.gov/ontologies/bibframe/Work'])"
      ]
     },
     "execution_count": 24,
     "metadata": {},
     "output_type": "execute_result"
    }
   ],
   "source": [
    "request.instanceOf"
   ]
  },
  {
   "cell_type": "code",
   "execution_count": 25,
   "metadata": {},
   "outputs": [
    {
     "name": "stdout",
     "output_type": "stream",
     "text": [
      "hasInstance {'id': 'bkc-1', 'hasInstance': {'add': {'id': 'bkc-1/hasInstance/bkc-2', 'uri': 'https://bibliokeia.com/resources/instance/bkc-2', 'label': 'Physiological plant ecology'}}}\n"
     ]
    },
    {
     "data": {
      "text/plain": [
       "'{\\n  \"responseHeader\":{\\n    \"status\":0,\\n    \"QTime\":428}}\\n'"
      ]
     },
     "execution_count": 25,
     "metadata": {},
     "output_type": "execute_result"
    }
   ],
   "source": [
    "responseSolr = DocInstance(request, 'bkc-2')\n",
    "responseSolr"
   ]
  },
  {
   "cell_type": "code",
   "execution_count": 26,
   "metadata": {},
   "outputs": [
    {
     "data": {
      "text/plain": [
       "<Response [200 OK]>"
      ]
     },
     "execution_count": 26,
     "metadata": {},
     "output_type": "execute_result"
    }
   ],
   "source": [
    "import httpx\n",
    "url = 'http://localhost:8000/import/loc/works?uri=http%3A%2F%2Fid.loc.gov%2Fresources%2Fworks%2F1893399'\n",
    "response = httpx.get(url)\n",
    "response"
   ]
  },
  {
   "cell_type": "code",
   "execution_count": 28,
   "metadata": {},
   "outputs": [],
   "source": [
    "obj = response.json()"
   ]
  },
  {
   "cell_type": "code",
   "execution_count": 31,
   "metadata": {},
   "outputs": [],
   "source": [
    "obj['subject'][0]['uri'] = 'https://bibliokeia.com/authorities/Topic/bka-3'"
   ]
  },
  {
   "cell_type": "code",
   "execution_count": 35,
   "metadata": {},
   "outputs": [],
   "source": [
    "obj['contribution'][0]['agent'] = 'https://bibliokeia.com/authorities/PersonalName/bka-4'"
   ]
  },
  {
   "cell_type": "code",
   "execution_count": 44,
   "metadata": {},
   "outputs": [],
   "source": [
    "from pyfuseki import FusekiQuery\n",
    "\n",
    "from api.src.schemas.settings import Settings\n",
    "\n",
    "settings = Settings()\n",
    "\n",
    "def GenerateId():\n",
    "\n",
    "    collection = FusekiQuery(f'{settings.url}:3030', 'collection')\n",
    "\n",
    "    sparql = \"\"\"PREFIX bf: <http://id.loc.gov/ontologies/bibframe/>\n",
    "            SELECT ?g\n",
    "            {graph ?g {?s bf:generationDate ?o}} \n",
    "            ORDER BY DESC(?o)\n",
    "            LIMIT 1\"\"\"\n",
    "    \n",
    "    response = collection.run_sparql(sparql)\n",
    "    response = response.convert()\n",
    "    bindings = response['results']['bindings']\n",
    "\n",
    "    if len(bindings) == 0:\n",
    "        return { 'id': \"bkc-1\" }\n",
    "    else:\n",
    "        value = bindings[0]['g']['value']\n",
    "        bk = int(value.split(\"-\")[1]) + 1\n",
    "        return { 'id': \"bkc-\"+str(bk) } "
   ]
  },
  {
   "cell_type": "code",
   "execution_count": 45,
   "metadata": {},
   "outputs": [
    {
     "data": {
      "text/plain": [
       "{'id': 'bkc-6'}"
      ]
     },
     "execution_count": 45,
     "metadata": {},
     "output_type": "execute_result"
    }
   ],
   "source": [
    "GenerateId()"
   ]
  }
 ],
 "metadata": {
  "kernelspec": {
   "display_name": "Python 3.11.0 ('venv': venv)",
   "language": "python",
   "name": "python3"
  },
  "language_info": {
   "codemirror_mode": {
    "name": "ipython",
    "version": 3
   },
   "file_extension": ".py",
   "mimetype": "text/x-python",
   "name": "python",
   "nbconvert_exporter": "python",
   "pygments_lexer": "ipython3",
   "version": "3.11.4"
  },
  "orig_nbformat": 4,
  "vscode": {
   "interpreter": {
    "hash": "5df21a170a08fe7c24b5b1091267edae5bad3984f1116f28e957af7dd8f192dc"
   }
  }
 },
 "nbformat": 4,
 "nbformat_minor": 2
}
