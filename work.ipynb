{
 "cells": [
  {
   "cell_type": "code",
   "execution_count": 1,
   "metadata": {},
   "outputs": [],
   "source": [
    "from rdflib import Graph\n",
    "from pydantic import BaseModel, validator, Field\n",
    "from typing import Optional\n",
    "from pyfuseki import FusekiUpdate\n",
    "import json\n",
    "from datetime import date, datetime"
   ]
  },
  {
   "cell_type": "code",
   "execution_count": 2,
   "metadata": {},
   "outputs": [],
   "source": [
    "class GenerationProcess(BaseModel):\n",
    "    label: str = Field(default=\"BiblioKeia v.1\")\n",
    "    generationDate: Optional[str]\n",
    "\n",
    "    @validator('generationDate', pre=True, always=True)\n",
    "    def set_date_now(cls, v):\n",
    "        now = datetime.now().strftime('%d-%m-%YT%H:%M:%S')\n",
    "        \n",
    "        return now"
   ]
  },
  {
   "cell_type": "code",
   "execution_count": 18,
   "metadata": {},
   "outputs": [],
   "source": [
    "class AdminMetadata(BaseModel):\n",
    "    encodingLevel: str = Field(default=\"menclvl:f\")\n",
    "    assigner: str = Field(default=\"http://id.loc.gov/vocabulary/organizations/brmninpa\")\n",
    "    creationDate: Optional[str]\n",
    "    descriptionConventions: str = Field(default=\"http://id.loc.gov/vocabulary/descriptionConventions/isbd\")\n",
    "    descriptionLanguage: str = Field(default=\"http://id.loc.gov/vocabulary/languages/por\")\n",
    "    generationProcess: Optional[GenerationProcess]\n",
    "    status: str = Field(default=\"mstatus:new\")\n",
    "\n",
    "    _status = [\n",
    "        \"mstatus:cancinv\", \n",
    "        \"mstatus:ceased\", \n",
    "        \"mstatus:c\", \n",
    "        \"mstatus:current\", \n",
    "        \"mstatus:d\", \n",
    "        \"mstatus:former\", \n",
    "        \"mstatus:incorrect\",\n",
    "        \"mstatus:new\"\n",
    "        ]\n",
    "    \n",
    "\n",
    "    _level = [\n",
    "        \"menclvl:1\", \n",
    "        \"menclvl:3\", \n",
    "        \"menclvl:4\", \n",
    "        \"menclvl:5\", \n",
    "        \"menclvl:7\", \n",
    "        \"menclvl:8\", \n",
    "        \"menclvl:f\"]\n",
    "\n",
    "    @validator('status')\n",
    "    def status_accepted(cls, v):\n",
    "        if v not in cls._status:\n",
    "            raise ValueError(f\"the status code must be one of the following : {', '.join(cls._status)}\")\n",
    "        return v\n",
    "    \n",
    "    @validator('encodingLevel')\n",
    "    def level_accepted(cls, v):\n",
    "        if v not in cls._level:\n",
    "            raise ValueError(f\"the level code must be one of the following : {', '.join(cls._level)}\")\n",
    "        return v\n",
    "\n",
    "    @validator('creationDate', pre=True, always=True)\n",
    "    def set_date_today(cls, v):\n",
    "        today = date.today().strftime(\"%d-%m-%Y\")\n",
    "        \n",
    "        return today"
   ]
  },
  {
   "cell_type": "code",
   "execution_count": 15,
   "metadata": {},
   "outputs": [],
   "source": [
    "class Work(BaseModel):\n",
    "    type: list[str]\n",
    "    adminMetadata: AdminMetadata\n",
    "    # content: str\n",
    "    # title: Title\n",
    "    # primaryContribution: Optional[Contribution]\n",
    "    # subjects: list[Subject]\n",
    "    # language: str\n",
    "    # languageCode: str \n",
    "    # cdd: str\n",
    "    # cutter: str\n",
    "    # serie: Optional[str]\n",
    "    # serieURI: Optional[str]"
   ]
  },
  {
   "cell_type": "code",
   "execution_count": 19,
   "metadata": {},
   "outputs": [
    {
     "data": {
      "text/plain": [
       "Work(type=['bf:Monograph', 'bf:Text', 'bf:Work'], adminMetadata=AdminMetadata(encodingLevel='menclvl:1', assigner='http://id.loc.gov/vocabulary/organizations/brmninpa', creationDate='14-04-2023', descriptionConventions='http://id.loc.gov/vocabulary/descriptionConventions/isbd', descriptionLanguage='http://id.loc.gov/vocabulary/languages/por', generationProcess=GenerationProcess(label='BiblioKeia', generationDate='14-04-2023T16:04:47'), status='bf:new'))"
      ]
     },
     "execution_count": 19,
     "metadata": {},
     "output_type": "execute_result"
    }
   ],
   "source": [
    "obj = {\n",
    "    \"type\": [\n",
    "        \"bf:Monograph\", \"bf:Text\", \"bf:Work\"\n",
    "    ],\n",
    "    \"adminMetadata\": {\n",
    "        \"encodingLevel\": \"menclvl:1\",\n",
    "        \"generationProcess\": {\n",
    "            \"label\": \"BiblioKeia\"\n",
    "        }\n",
    "    }\n",
    "}\n",
    "request = Work(**obj)\n",
    "request"
   ]
  },
  {
   "cell_type": "code",
   "execution_count": 71,
   "metadata": {},
   "outputs": [
    {
     "data": {
      "text/plain": [
       "AdminMetadata(encodingLevel='menclvl:1', assigner='http://id.loc.gov/vocabulary/organizations/brmninpa', creationDate='2023-04-14')"
      ]
     },
     "execution_count": 71,
     "metadata": {},
     "output_type": "execute_result"
    }
   ],
   "source": [
    "request.adminMetadata"
   ]
  },
  {
   "cell_type": "code",
   "execution_count": 17,
   "metadata": {},
   "outputs": [],
   "source": [
    "prefix = \"\"\"PREFIX rdf: <http://www.w3.org/1999/02/22-rdf-syntax-ns#>\n",
    "    PREFIX rdfs: <http://www.w3.org/2000/01/rdf-schema#>\n",
    "    PREFIX bf: <http://id.loc.gov/ontologies/bibframe/>\n",
    "    PREFIX madsrdf: <http://www.loc.gov/mads/rdf/v1#>\n",
    "    PREFIX bflc: <http://id.loc.gov/ontologies/bflc/> \n",
    "    PREFIX bkw: <https://bibliokeia.com/resources/work/> \n",
    "    PREFIX menclvl: <http://id.loc.gov/vocabulary/menclvl/>\n",
    "    PREFIX mstatus: <http://id.loc.gov/vocabulary/mstatus/>\n",
    "    PREFIX xsd: <http://www.w3.org/2001/XMLSchema#>\n",
    "    \"\"\""
   ]
  },
  {
   "cell_type": "code",
   "execution_count": 75,
   "metadata": {},
   "outputs": [
    {
     "data": {
      "text/plain": [
       "'14-04-2023'"
      ]
     },
     "execution_count": 75,
     "metadata": {},
     "output_type": "execute_result"
    }
   ],
   "source": [
    "request.adminMetadata.creationDate"
   ]
  },
  {
   "cell_type": "code",
   "execution_count": 20,
   "metadata": {},
   "outputs": [
    {
     "name": "stdout",
     "output_type": "stream",
     "text": [
      "PREFIX rdf: <http://www.w3.org/1999/02/22-rdf-syntax-ns#>\n",
      "    PREFIX rdfs: <http://www.w3.org/2000/01/rdf-schema#>\n",
      "    PREFIX bf: <http://id.loc.gov/ontologies/bibframe/>\n",
      "    PREFIX madsrdf: <http://www.loc.gov/mads/rdf/v1#>\n",
      "    PREFIX bflc: <http://id.loc.gov/ontologies/bflc/> \n",
      "    PREFIX bkw: <https://bibliokeia.com/resources/work/> \n",
      "    PREFIX menclvl: <http://id.loc.gov/vocabulary/menclvl/>\n",
      "    PREFIX mstatus: <http://id.loc.gov/vocabulary/mstatus/>\n",
      "    PREFIX xsd: <http://www.w3.org/2001/XMLSchema#>\n",
      "        \n",
      "    INSERT DATA {\n",
      "        GRAPH bkw:bk-2\n",
      "        { \n",
      "           bkw:bk-2 a bf:Monograph, bf:Text, bf:Work  ;\n",
      "           bf:adminMetadata [ a bf:AdminMetadata ;\n",
      "            bflc:encodingLevel menclvl:1 ;\n",
      "            bf:assigner <http://id.loc.gov/vocabulary/organizations/brmninpa> ;    \n",
      "            bf:creationDate \"14-04-2023\"^^xsd:date ;    \n",
      "            bf:descriptionConventions <http://id.loc.gov/vocabulary/descriptionConventions/isbd> ;\n",
      "            bf:descriptionLanguage <http://id.loc.gov/vocabulary/languages/por> ;\n",
      "            bf:generationProcess [ a bf:GenerationProcess ;\n",
      "                    rdfs:label \"BiblioKeia\" ;\n",
      "                    bf:generationDate \"14-04-2023T16:04:47\"^^xsd:dateTime ] ;\n",
      "            bf:identifiedBy [ a bf:Local ;\n",
      "                    bf:assigner <http://id.loc.gov/vocabulary/organizations/brmninpa> ;\n",
      "                    rdf:value \"bk-2\" ] ;\n",
      "            bf:status bf:new\n",
      "            ] ;\n",
      "    \n",
      "        } }\n"
     ]
    }
   ],
   "source": [
    "id = \"bk-2\"\n",
    "graph = f\"\"\"{prefix}    \n",
    "    INSERT DATA {{\n",
    "        GRAPH bkw:{id}\n",
    "        {{ \n",
    "           bkw:{id} a { \", \".join(request.type) }  ;\n",
    "           bf:adminMetadata [ a bf:AdminMetadata ;\n",
    "            bflc:encodingLevel {request.adminMetadata.encodingLevel} ;\n",
    "            bf:assigner <{request.adminMetadata.assigner}> ;    \n",
    "            bf:creationDate \"{request.adminMetadata.creationDate}\"^^xsd:date ;    \n",
    "            bf:descriptionConventions <{request.adminMetadata.descriptionConventions}> ;\n",
    "            bf:descriptionLanguage <{request.adminMetadata.descriptionLanguage}> ;\n",
    "            bf:generationProcess [ a bf:GenerationProcess ;\n",
    "                    rdfs:label \"{request.adminMetadata.generationProcess.label}\" ;\n",
    "                    bf:generationDate \"{request.adminMetadata.generationProcess.generationDate}\"^^xsd:dateTime ] ;\n",
    "            bf:identifiedBy [ a bf:Local ;\n",
    "                    bf:assigner <{request.adminMetadata.assigner}> ;\n",
    "                    rdf:value \"{id}\" ] ;\n",
    "            bf:status {request.adminMetadata.status}\n",
    "            ] ;\n",
    "    \n",
    "        }} }}\"\"\"\n",
    "\n",
    "print(graph)"
   ]
  },
  {
   "cell_type": "markdown",
   "metadata": {},
   "source": [
    " ns1:assigner <http://id.loc.gov/vocabulary/organizations/dlc> ;\n",
    "            ns1:changeDate \"2023-02-06T08:03:19\"^^xsd:dateTime ;\n",
    "            ns1:creationDate \"2019-11-26\"^^xsd:date ;\n",
    "            ns1:descriptionAuthentication <http://id.loc.gov/vocabulary/marcauthen/pcc> ;\n",
    "            ns1:descriptionConventions <http://id.loc.gov/vocabulary/descriptionConventions/isbd>,\n",
    "                <http://id.loc.gov/vocabulary/descriptionConventions/rda> ;\n",
    "            ns1:descriptionLanguage <http://id.loc.gov/vocabulary/languages/eng> ;\n",
    "            ns1:descriptionModifier <http://id.loc.gov/vocabulary/organizations/dlc> ;\n",
    "            ns1:generationProcess [ a ns1:GenerationProcess ;\n",
    "                    rdfs:label \"DLC marc2bibframe2 v2.2.1\" ;\n",
    "                    ns1:generationDate \"2023-02-07T01:58:10.983465-05:00\"^^xsd:dateTime ] ;\n",
    "            ns1:identifiedBy [ a ns1:Local ;\n",
    "                    ns1:assigner <http://id.loc.gov/vocabulary/organizations/dlc> ;\n",
    "                    rdf:value \"21313495\" ] ;\n",
    "            ns1:status <http://id.loc.gov/vocabulary/mstatus/c> ;"
   ]
  },
  {
   "cell_type": "code",
   "execution_count": 13,
   "metadata": {},
   "outputs": [
    {
     "data": {
      "text/plain": [
       "{'statusCode': 200, 'message': 'Update succeeded'}"
      ]
     },
     "execution_count": 13,
     "metadata": {},
     "output_type": "execute_result"
    }
   ],
   "source": [
    "fuseki_update = FusekiUpdate('http://localhost:3030', 'acervo')\n",
    "\n",
    "response = fuseki_update.run_sparql(graph)\n",
    "response.convert()"
   ]
  },
  {
   "cell_type": "markdown",
   "metadata": {},
   "source": [
    "Exemple Work Loc"
   ]
  },
  {
   "cell_type": "code",
   "execution_count": 2,
   "metadata": {},
   "outputs": [
    {
     "data": {
      "text/plain": [
       "<Graph identifier=Nca383953bce9402fb514c1e486a66fae (<class 'rdflib.graph.Graph'>)>"
      ]
     },
     "execution_count": 2,
     "metadata": {},
     "output_type": "execute_result"
    }
   ],
   "source": [
    "g = Graph()\n",
    "g.parse('http://id.loc.gov/resources/works/21313495.nt', format='nt')"
   ]
  },
  {
   "cell_type": "code",
   "execution_count": 3,
   "metadata": {},
   "outputs": [
    {
     "data": {
      "text/plain": [
       "<Graph identifier=Nca383953bce9402fb514c1e486a66fae (<class 'rdflib.graph.Graph'>)>"
      ]
     },
     "execution_count": 3,
     "metadata": {},
     "output_type": "execute_result"
    }
   ],
   "source": [
    "g.serialize('work.ttl', format='ttl')"
   ]
  },
  {
   "cell_type": "markdown",
   "metadata": {},
   "source": [
    "POST WORK"
   ]
  },
  {
   "cell_type": "code",
   "execution_count": null,
   "metadata": {},
   "outputs": [],
   "source": []
  }
 ],
 "metadata": {
  "kernelspec": {
   "display_name": "Python 3.11.0 ('venv': venv)",
   "language": "python",
   "name": "python3"
  },
  "language_info": {
   "codemirror_mode": {
    "name": "ipython",
    "version": 3
   },
   "file_extension": ".py",
   "mimetype": "text/x-python",
   "name": "python",
   "nbconvert_exporter": "python",
   "pygments_lexer": "ipython3",
   "version": "3.11.0"
  },
  "orig_nbformat": 4,
  "vscode": {
   "interpreter": {
    "hash": "5df21a170a08fe7c24b5b1091267edae5bad3984f1116f28e957af7dd8f192dc"
   }
  }
 },
 "nbformat": 4,
 "nbformat_minor": 2
}
