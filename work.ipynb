{
 "cells": [
  {
   "cell_type": "code",
   "execution_count": 1,
   "metadata": {},
   "outputs": [],
   "source": [
    "from rdflib import Graph\n",
    "from pydantic import BaseModel\n",
    "from typing import Optional\n",
    "import httpx\n",
    "from pyfuseki import FusekiUpdate"
   ]
  },
  {
   "cell_type": "code",
   "execution_count": 5,
   "metadata": {},
   "outputs": [],
   "source": [
    "from api.src.schemas.metadata.bibframe.adminMetadata import AdminMetadata\n",
    "from api.src.schemas.metadata.bibframe.classification import Classification\n",
    "from api.src.schemas.metadata.bibframe.content import Content\n",
    "from api.src.schemas.metadata.bibframe.contribution import Contribution\n",
    "from api.src.schemas.metadata.bibframe.element import Element\n",
    "from api.src.schemas.metadata.bibframe.title import Title\n",
    "\n",
    "class Work(BaseModel):\n",
    "    adminMetadata: AdminMetadata\n",
    "    type: list[str]\n",
    "    content: list[Element]\n",
    "    language: list[Element]\n",
    "    title: Title\n",
    "    classification: Optional[Classification]\n",
    "    contribution: Optional[list[Contribution]]\n",
    "    subject: Optional[list[Element]]   \n",
    "    genreForm: Optional[list[Element]]\n",
    "    note: Optional[str]\n",
    "    summary: Optional[str]\n",
    "    supplementaryContent: Optional[list[Element]]\n",
    "    illustrativeContent: Optional[list[Element]]\n",
    "    intendedAudience: Optional[list[Element]]\n",
    "    tableOfContents: Optional[str]\n",
    "\n",
    "obj = {\n",
    "    'adminMetadata': {\n",
    "        'identifiedBy': [ \n",
    "            {\n",
    "                \"type\": \"Local\",\n",
    "            \"assigner\": \"http://id.loc.gov/vocabulary/organizations/dlc\",\n",
    "            \"value\": \"22600263\"\n",
    "            }\n",
    "        ]\n",
    "    },\n",
    "    \"type\": [\n",
    "        \"Work\"\n",
    "    ]\n",
    "}\n",
    "# r = Work(**obj)\n",
    "# r"
   ]
  },
  {
   "cell_type": "code",
   "execution_count": 9,
   "metadata": {},
   "outputs": [
    {
     "data": {
      "text/plain": [
       "<Graph identifier=N58111b51a8df4b1fa9dcfa409155f44a (<class 'rdflib.graph.Graph'>)>"
      ]
     },
     "execution_count": 9,
     "metadata": {},
     "output_type": "execute_result"
    }
   ],
   "source": [
    "graph = Graph()\n",
    "uri = 'http://id.loc.gov/resources/works/13211009'\n",
    "graph.parse(f'{uri}.rdf')\n",
    "graph.serialize('old_man.ttl', format='ttl')"
   ]
  },
  {
   "cell_type": "code",
   "execution_count": 2,
   "metadata": {},
   "outputs": [
    {
     "ename": "NameError",
     "evalue": "name 'graph' is not defined",
     "output_type": "error",
     "traceback": [
      "\u001b[1;31m---------------------------------------------------------------------------\u001b[0m",
      "\u001b[1;31mNameError\u001b[0m                                 Traceback (most recent call last)",
      "\u001b[1;32mc:\\Users\\Usuário\\Desktop\\BiblioKeia\\work.ipynb Cell 4\u001b[0m in \u001b[0;36m<cell line: 60>\u001b[1;34m()\u001b[0m\n\u001b[0;32m     <a href='vscode-notebook-cell:/c%3A/Users/Usu%C3%A1rio/Desktop/BiblioKeia/work.ipynb#W5sZmlsZQ%3D%3D?line=55'>56</a>\u001b[0m     response \u001b[39m=\u001b[39m Work(\u001b[39m*\u001b[39m\u001b[39m*\u001b[39mobj)\n\u001b[0;32m     <a href='vscode-notebook-cell:/c%3A/Users/Usu%C3%A1rio/Desktop/BiblioKeia/work.ipynb#W5sZmlsZQ%3D%3D?line=57'>58</a>\u001b[0m     \u001b[39mreturn\u001b[39;00m response\n\u001b[1;32m---> <a href='vscode-notebook-cell:/c%3A/Users/Usu%C3%A1rio/Desktop/BiblioKeia/work.ipynb#W5sZmlsZQ%3D%3D?line=59'>60</a>\u001b[0m response \u001b[39m=\u001b[39m ParserWork(graph, uri)\n\u001b[0;32m     <a href='vscode-notebook-cell:/c%3A/Users/Usu%C3%A1rio/Desktop/BiblioKeia/work.ipynb#W5sZmlsZQ%3D%3D?line=60'>61</a>\u001b[0m response\u001b[39m.\u001b[39mtitle\n",
      "\u001b[1;31mNameError\u001b[0m: name 'graph' is not defined"
     ]
    }
   ],
   "source": [
    "from api.src.function.bibframe.bf_classification import GetClassification\n",
    "from api.src.function.bibframe.bf_contribution import GetContribution\n",
    "from api.src.function.bibframe.bf_Uri import GetUriBF\n",
    "from api.src.function.bibframe.bf_Literal import GetLiteral\n",
    "from api.src.function.bibframe.bf_title import GetTitle\n",
    "from api.src.function.bibframe.bf_type import GetType\n",
    "from api.src.function.bibframe.bf_content import GetContent\n",
    "\n",
    "def ParserWork(graph, uri):\n",
    "    identifier = uri.split(\"/\")[-1]\n",
    "    types = GetType(graph, uri)\n",
    "    title = GetTitle(graph, uri)\n",
    "\n",
    "    obj = {\n",
    "    'adminMetadata': {\n",
    "        'generationProcess': {\n",
    "            'label': 'BiblioKeia'\n",
    "        },\n",
    "        'identifiedBy': [ \n",
    "            {\n",
    "                \"type\": \"Local\",\n",
    "            \"assigner\": \"http://id.loc.gov/vocabulary/organizations/dlc\",\n",
    "            \"value\": identifier\n",
    "            }\n",
    "        ]\n",
    "    },\n",
    "    \"type\": types,\n",
    "    'title': title\n",
    "    }\n",
    "    \n",
    "    # Classification\n",
    "    obj = GetClassification(graph, uri, obj)\n",
    "    # Content\n",
    "    # obj = GetContent(graph, uri, obj)\n",
    "    # Contribution\n",
    "    obj = GetContribution(graph, uri, obj)\n",
    "    # Content\n",
    "    obj = GetUriBF(graph, uri, 'content', obj)\n",
    "    # GenreForm\n",
    "    obj = GetUriBF(graph, uri, 'genreForm', obj)\n",
    "    # illustrativeContent\n",
    "    obj = GetUriBF(graph, uri, 'illustrativeContent', obj)\n",
    "    # intendedAudience\n",
    "    obj = GetUriBF(graph, uri, 'intendedAudience', obj)\n",
    "    # language\n",
    "    obj = GetUriBF(graph, uri, 'language', obj)\n",
    "    # subject\n",
    "    obj = GetUriBF(graph, uri, 'subject', obj)\n",
    "    # supplementaryContent\n",
    "    obj = GetUriBF(graph, uri, 'supplementaryContent', obj)\n",
    "    # summary\n",
    "    obj = GetLiteral(graph, uri, 'summary', obj)\n",
    "    # tableOfContents\n",
    "    obj = GetLiteral(graph, uri, 'tableOfContents', obj)\n",
    "\n",
    "    response = Work(**obj)\n",
    "    \n",
    "    return response\n",
    "\n",
    "response = ParserWork(graph, uri)\n",
    "response.title\n",
    "    "
   ]
  },
  {
   "attachments": {},
   "cell_type": "markdown",
   "metadata": {},
   "source": [
    "MAKE GRAPH"
   ]
  },
  {
   "cell_type": "code",
   "execution_count": 2,
   "metadata": {},
   "outputs": [
    {
     "data": {
      "text/plain": [
       "<Response [200 OK]>"
      ]
     },
     "execution_count": 2,
     "metadata": {},
     "output_type": "execute_result"
    }
   ],
   "source": [
    "r = httpx.get('http://localhost:8000/import/loc/works?uri=http://id.loc.gov/resources/works/22600263') \n",
    "r"
   ]
  },
  {
   "cell_type": "code",
   "execution_count": 6,
   "metadata": {},
   "outputs": [
    {
     "data": {
      "text/plain": [
       "Work(adminMetadata=AdminMetadata(encodingLevel='menclvl:f', assigner='http://id.loc.gov/vocabulary/organizations/brmninpa', creationDate='2023-06-06', descriptionConventions='http://id.loc.gov/vocabulary/descriptionConventions/isbd', descriptionModifier='http://id.loc.gov/vocabulary/organizations/brmninpa', descriptionLanguage='http://id.loc.gov/vocabulary/languages/por', generationProcess=GenerationProcess(label='BiblioKeia', generationDate='2023-06-06T16:15:52'), identifiedBy=[IdentifiedBy(type='Local', assigner='http://id.loc.gov/vocabulary/organizations/dlc', value='22600263')], status=Status(value='mstatus:new', label='novo')), type=['Work', 'Text', 'Monograph'], content=[Element(label='text', lang=None, uri='http://id.loc.gov/vocabulary/contentTypes/txt', type=['http://id.loc.gov/ontologies/bibframe/Content'])], language=[Element(label='English', lang='en', uri='http://id.loc.gov/vocabulary/languages/eng', type=['http://id.loc.gov/ontologies/bibframe/Language', 'http://www.loc.gov/mads/rdf/v1#Language'])], title=Title(type='bf:Title', mainTitle='The journey of humanity', subtitle=None), classification=Classification(type='ClassificationDdc', classificationPortion='338.9001', itemPortion=None, edition='full'), contribution=[Contribution(type=['http://id.loc.gov/ontologies/bflc/PrimaryContribution'], agent='http://id.loc.gov/rwo/agents/n86870523', label='Galor, Oded, 1953-', role='http://id.loc.gov/vocabulary/relators/aut')], subject=[Element(label='Economic development', lang='en', uri='http://id.loc.gov/authorities/subjects/sh85040804', type=['http://id.loc.gov/ontologies/bibframe/Topic']), Element(label='Economic history', lang='en', uri='http://id.loc.gov/authorities/subjects/sh85040817', type=['http://id.loc.gov/ontologies/bibframe/Topic']), Element(label='Equality', lang='en', uri='http://id.loc.gov/authorities/subjects/sh85044503', type=['http://id.loc.gov/ontologies/bibframe/Topic'])], genreForm=[Element(label='Informational works', lang='en', uri='http://id.loc.gov/authorities/genreForms/gf2014026113', type=['http://id.loc.gov/ontologies/bibframe/GenreForm'])], note=None, summary='\"Why are humans the only species to have escaped - only very recently - the subsistence trap, allowing us to enjoy a standard of living that vastly exceeds all others? And why have we progressed so unequally around the world, resulting in the great disparities between nations that exist today? Immense in scope and packed with astounding connections, Galor\\'s gripping narrative explains how technology, population size, and adaptation led to a stunning \"phase change\" in the human story a mere two hundred years ago. But by tracing that same journey back in time and peeling away the layers of influence - colonialism, political institutions, societal structure, culture - he arrives also at an explanation of inequality\\'s ultimate causes: those ancestral populations that enjoyed fruitful geographical characteristics and rich diversity were set on the path to prosperity, while those that lacked it were disadvantaged in ways still echoed today. As we face ecological crisis across the globe, The Journey of Humanity is a book of urgent truths and enduring relevance, with lessons that are both hopeful and profound: gender equality, investment in education, and balancing diversity with social cohesion are the keys not only to our species\\' thriving, but to its survival.\" -- publisher\\'s website.', supplementaryContent=[Element(label='bibliography', lang=None, uri='http://id.loc.gov/vocabulary/msupplcont/bibliography', type=['http://id.loc.gov/ontologies/bibframe/SupplementaryContent']), Element(label='index', lang=None, uri='http://id.loc.gov/vocabulary/msupplcont/index', type=['http://id.loc.gov/ontologies/bibframe/SupplementaryContent'])], illustrativeContent=[Element(label='Illustrations', lang=None, uri='http://id.loc.gov/vocabulary/millus/ill', type=['http://id.loc.gov/ontologies/bibframe/Illustration']), Element(label='Maps', lang=None, uri='http://id.loc.gov/vocabulary/millus/map', type=['http://id.loc.gov/ontologies/bibframe/Illustration']), Element(label='Charts', lang=None, uri='http://id.loc.gov/vocabulary/millus/chr', type=['http://id.loc.gov/ontologies/bibframe/Illustration'])], intendedAudience=[Element(label='Adult', lang=None, uri='http://id.loc.gov/vocabulary/maudience/adu', type=['http://id.loc.gov/ontologies/bibframe/IntendedAudience'])], tableOfContents=\"Mysteries of the human journey -- [Part] I: The human odyssey. First steps. Genesis ; Exodus from the cradle of humankind ; Early settlement ; The dawn of civilisation -- Lost in stagnation. The Malthusian thesis ; The inevitable onset of agriculture ; Population swings ; The economic ice age -- The storm beneath the surface. Unified growth theory ; Wheels of change -- Full steam. Acceleration of technological development ; Education in the pre-industrial era ; Industrialisation and human capital ; The advent of universal public education ; Child labour no more -- Metamorphosis. Triggers of the demographic transition ; Family tales ; Phase transition -- The promised land. The twilight of industry ; The age of growth ; Growth and environmental degradation -- Coda: resolving the mystery of growth -- [Part] II: The origins of wealth and inequality. Splendour and misery. Disparate factors ; Rusty tools ; Trade, colonialism and uneven development ; Deep-rooted factors -- The fingerprints of institutions. Institutional origins of the British ascent ; Institutions and long-run development ; The legacy of colonialism ; Origins of institutions -- The cultural factor. The power of culture ; A culture of growth ; Cultural inertia ; Culture and prosperity -- The shadow of geography. Landscape fragmentation and the rise of Europe ; Origins of extractive institutions ; Geographical roots of cultural traits ; Roots of comparative development -- The legacy of the agricultural revolution. Roots and impacts of the Neolithic revolution ; The grains of civilisation ; Ceding the head start ; Geography's decree -- Out of Africa. Origins of human diversity ; Measuring diversity ; Diversity and prosperity ; The grip of the past -- Coda: unravelling the mystery of inequality -- Afterword.\")"
      ]
     },
     "execution_count": 6,
     "metadata": {},
     "output_type": "execute_result"
    }
   ],
   "source": [
    "# from api.src.schemas.metadata.bibframe.work import Work\n",
    "request = Work(**r.json())\n",
    "request"
   ]
  },
  {
   "cell_type": "code",
   "execution_count": 7,
   "metadata": {},
   "outputs": [
    {
     "data": {
      "text/plain": [
       "[Contribution(type=['http://id.loc.gov/ontologies/bflc/PrimaryContribution'], agent='http://id.loc.gov/rwo/agents/n86870523', label='Galor, Oded, 1953-', role='http://id.loc.gov/vocabulary/relators/aut')]"
      ]
     },
     "execution_count": 7,
     "metadata": {},
     "output_type": "execute_result"
    }
   ],
   "source": [
    "request.contribution"
   ]
  },
  {
   "cell_type": "code",
   "execution_count": 19,
   "metadata": {},
   "outputs": [],
   "source": [
    "# from api.src.function.bibframe.Work.graphWork import MakeGraphWork\n",
    "from api.src.function.bibframe.Work.graphWork import MakeClassification, MakeContribution, MakeSubject\n",
    "prefix = \"\"\"PREFIX rdf: <http://www.w3.org/1999/02/22-rdf-syntax-ns#>\n",
    "    PREFIX xsd: <http://www.w3.org/2001/XMLSchema#>\n",
    "    PREFIX rdfs: <http://www.w3.org/2000/01/rdf-schema#>\n",
    "    PREFIX bf: <http://id.loc.gov/ontologies/bibframe/>\n",
    "    PREFIX madsrdf: <http://www.loc.gov/mads/rdf/v1#>\n",
    "    PREFIX bflc: <http://id.loc.gov/ontologies/bflc/> \n",
    "    PREFIX bkw: <https://bibliokeia.com/resources/work/> \n",
    "    PREFIX menclvl: <http://id.loc.gov/vocabulary/menclvl/>\n",
    "    PREFIX mstatus: <http://id.loc.gov/vocabulary/mstatus/>\n",
    "    PREFIX contentTypes: <http://id.loc.gov/vocabulary/contentTypes/>\n",
    "    PREFIX relators: <http://id.loc.gov/vocabulary/relators/>\n",
    "    PREFIX genreForms: <http://id.loc.gov/authorities/genreForms/>\n",
    "    PREFIX msupplcont: <http://id.loc.gov/vocabulary/msupplcont/>\n",
    "    PREFIX millus: <http://id.loc.gov/vocabulary/millus/>    \n",
    "    \"\"\"\n",
    "\n",
    "def MakeGraphWork(request, id):\n",
    "    graph = f\"\"\"{prefix}    \n",
    "    INSERT DATA {{\n",
    "        GRAPH bkw:{id}\n",
    "        {{\n",
    "                bkw:{id} a { \", \".join([f'bf:{i}' for i in request.type]) }  ;\n",
    "                bf:adminMetadata [ a bf:AdminMetadata ;\n",
    "                bflc:encodingLevel {request.adminMetadata.encodingLevel} ;\n",
    "                bf:assigner <{request.adminMetadata.assigner}> ;    \n",
    "                bf:creationDate \"{request.adminMetadata.creationDate}\"^^xsd:date ;    \n",
    "                bf:descriptionConventions <{request.adminMetadata.descriptionConventions}> ;\n",
    "                bf:descriptionLanguage <{request.adminMetadata.descriptionLanguage}> ;\n",
    "                 bf:generationProcess [ a bf:GenerationProcess ;\n",
    "                    rdfs:label \"{request.adminMetadata.generationProcess.label}\" ;\n",
    "                    bf:generationDate \"{request.adminMetadata.generationProcess.generationDate}\"^^xsd:dateTime ] ;\n",
    "                bf:identifiedBy [ a bf:Local ;\n",
    "                    bf:assigner <{request.adminMetadata.assigner}> ;\n",
    "                    rdf:value \"{id}\" ] ;\n",
    "                bf:status {request.adminMetadata.status.value} ] ;\n",
    "                { MakeClassification(request.classification) if request.classification  else \"\" }                \n",
    "                bf:content { \", \".join([f'<{content.uri}>' for content in request.content]) } ;\n",
    "                bf:language { \", \".join([f'<{language.uri}>' for language in request.language]) } ;\n",
    "                bf:title [ a bf:Title ;\n",
    "                bf:mainTitle \"{request.title.mainTitle}\" \n",
    "                { f'; bf:subtitle \"{request.title.subtitle}\" ' if request.title.subtitle else ''} ] ;\n",
    "                { MakeContribution(request.contribution) if request.contribution  else \"\" }  \n",
    "                { MakeSubject(request.subject) if request.subject  else \"\" }      \n",
    "                { f'bf:genreForm { \", \".join([f\"<{genreForm.uri}>\" for genreForm in request.genreForm ]) } ; '}\n",
    "                { f'bf:note [ a bf:Note ; rdfs:label \"{request.note}\" ] ; ' if request.note else '' }\n",
    "                { f'bf:summary [ a bf:Summary ; rdfs:label \"{request.summary.replace('\"', )}\"^^xsd:string ] ; ' if request.summary else '' }\n",
    "                { f'bf:tableOfContents [ a bf:tableOfContents ; rdfs:label \"{request.tableOfContents}\" ] ; ' if request.tableOfContents else '' }\n",
    "                { f'bf:supplementaryContent { \", \".join([f\"<{supplementaryContent.uri}>\" for supplementaryContent in request.supplementaryContent ])} ;' if request.supplementaryContent else ''}\n",
    "                { f'bf:illustrativeContent { \", \".join([f\"<{illustrativeContent.uri}>\" for illustrativeContent in request.illustrativeContent ])} ;' if request.illustrativeContent else ''}\n",
    "                { f'bf:intendedAudience { \", \".join([f\"<{intendedAudience.uri}>\" for intendedAudience in request.intendedAudience ])} ;' if request.intendedAudience else ''} .\n",
    "        }} }}\n",
    "        \"\"\"\n",
    "    return graph\n",
    "graph = MakeGraphWork(request, \"TESTE\")\n",
    "\n"
   ]
  },
  {
   "cell_type": "code",
   "execution_count": 20,
   "metadata": {},
   "outputs": [
    {
     "name": "stdout",
     "output_type": "stream",
     "text": [
      "PREFIX rdf: <http://www.w3.org/1999/02/22-rdf-syntax-ns#>\n",
      "    PREFIX xsd: <http://www.w3.org/2001/XMLSchema#>\n",
      "    PREFIX rdfs: <http://www.w3.org/2000/01/rdf-schema#>\n",
      "    PREFIX bf: <http://id.loc.gov/ontologies/bibframe/>\n",
      "    PREFIX madsrdf: <http://www.loc.gov/mads/rdf/v1#>\n",
      "    PREFIX bflc: <http://id.loc.gov/ontologies/bflc/> \n",
      "    PREFIX bkw: <https://bibliokeia.com/resources/work/> \n",
      "    PREFIX menclvl: <http://id.loc.gov/vocabulary/menclvl/>\n",
      "    PREFIX mstatus: <http://id.loc.gov/vocabulary/mstatus/>\n",
      "    PREFIX contentTypes: <http://id.loc.gov/vocabulary/contentTypes/>\n",
      "    PREFIX relators: <http://id.loc.gov/vocabulary/relators/>\n",
      "    PREFIX genreForms: <http://id.loc.gov/authorities/genreForms/>\n",
      "    PREFIX msupplcont: <http://id.loc.gov/vocabulary/msupplcont/>\n",
      "    PREFIX millus: <http://id.loc.gov/vocabulary/millus/>    \n",
      "        \n",
      "    INSERT DATA {\n",
      "        GRAPH bkw:TESTE\n",
      "        {\n",
      "                bkw:TESTE a bf:Work, bf:Text, bf:Monograph  ;\n",
      "                bf:adminMetadata [ a bf:AdminMetadata ;\n",
      "                bflc:encodingLevel menclvl:f ;\n",
      "                bf:assigner <http://id.loc.gov/vocabulary/organizations/brmninpa> ;    \n",
      "                bf:creationDate \"2023-06-06\"^^xsd:date ;    \n",
      "                bf:descriptionConventions <http://id.loc.gov/vocabulary/descriptionConventions/isbd> ;\n",
      "                bf:descriptionLanguage <http://id.loc.gov/vocabulary/languages/por> ;\n",
      "                 bf:generationProcess [ a bf:GenerationProcess ;\n",
      "                    rdfs:label \"BiblioKeia\" ;\n",
      "                    bf:generationDate \"2023-06-06T16:15:52\"^^xsd:dateTime ] ;\n",
      "                bf:identifiedBy [ a bf:Local ;\n",
      "                    bf:assigner <http://id.loc.gov/vocabulary/organizations/brmninpa> ;\n",
      "                    rdf:value \"TESTE\" ] ;\n",
      "                bf:status mstatus:new ] ;\n",
      "                bf:classification \n",
      "            [ a bf:ClassificationDdc ;\n",
      "                bf:classificationPortion \"338.9001\" ;\n",
      "                \n",
      "                bf:edition \"full\" ;\n",
      "                ] ;                \n",
      "                bf:content <http://id.loc.gov/vocabulary/contentTypes/txt> ;\n",
      "                bf:language <http://id.loc.gov/vocabulary/languages/eng> ;\n",
      "                bf:title [ a bf:Title ;\n",
      "                bf:mainTitle \"The journey of humanity\" \n",
      "                 ] ;\n",
      "                bf:contribution [ a bf:Contribution, <http://id.loc.gov/ontologies/bflc/PrimaryContribution> ;\n",
      "                bf:agent <http://id.loc.gov/rwo/agents/n86870523> ;\n",
      "                bf:role <http://id.loc.gov/vocabulary/relators/aut> ] ;  \n",
      "                bf:subject <http://id.loc.gov/authorities/subjects/sh85040804>, <http://id.loc.gov/authorities/subjects/sh85040817>, <http://id.loc.gov/authorities/subjects/sh85044503> ;      \n",
      "                bf:genreForm <http://id.loc.gov/authorities/genreForms/gf2014026113> ; \n",
      "                \n",
      "                bf:summary [ a bf:Summary ; rdfs:label \"\"Why are humans the only species to have escaped - only very recently - the subsistence trap, allowing us to enjoy a standard of living that vastly exceeds all others? And why have we progressed so unequally around the world, resulting in the great disparities between nations that exist today? Immense in scope and packed with astounding connections, Galor's gripping narrative explains how technology, population size, and adaptation led to a stunning \"phase change\" in the human story a mere two hundred years ago. But by tracing that same journey back in time and peeling away the layers of influence - colonialism, political institutions, societal structure, culture - he arrives also at an explanation of inequality's ultimate causes: those ancestral populations that enjoyed fruitful geographical characteristics and rich diversity were set on the path to prosperity, while those that lacked it were disadvantaged in ways still echoed today. As we face ecological crisis across the globe, The Journey of Humanity is a book of urgent truths and enduring relevance, with lessons that are both hopeful and profound: gender equality, investment in education, and balancing diversity with social cohesion are the keys not only to our species' thriving, but to its survival.\" -- publisher's website.\"^^xsd:string ] ; \n",
      "                bf:tableOfContents [ a bf:tableOfContents ; rdfs:label \"Mysteries of the human journey -- [Part] I: The human odyssey. First steps. Genesis ; Exodus from the cradle of humankind ; Early settlement ; The dawn of civilisation -- Lost in stagnation. The Malthusian thesis ; The inevitable onset of agriculture ; Population swings ; The economic ice age -- The storm beneath the surface. Unified growth theory ; Wheels of change -- Full steam. Acceleration of technological development ; Education in the pre-industrial era ; Industrialisation and human capital ; The advent of universal public education ; Child labour no more -- Metamorphosis. Triggers of the demographic transition ; Family tales ; Phase transition -- The promised land. The twilight of industry ; The age of growth ; Growth and environmental degradation -- Coda: resolving the mystery of growth -- [Part] II: The origins of wealth and inequality. Splendour and misery. Disparate factors ; Rusty tools ; Trade, colonialism and uneven development ; Deep-rooted factors -- The fingerprints of institutions. Institutional origins of the British ascent ; Institutions and long-run development ; The legacy of colonialism ; Origins of institutions -- The cultural factor. The power of culture ; A culture of growth ; Cultural inertia ; Culture and prosperity -- The shadow of geography. Landscape fragmentation and the rise of Europe ; Origins of extractive institutions ; Geographical roots of cultural traits ; Roots of comparative development -- The legacy of the agricultural revolution. Roots and impacts of the Neolithic revolution ; The grains of civilisation ; Ceding the head start ; Geography's decree -- Out of Africa. Origins of human diversity ; Measuring diversity ; Diversity and prosperity ; The grip of the past -- Coda: unravelling the mystery of inequality -- Afterword.\" ] ; \n",
      "                bf:supplementaryContent <http://id.loc.gov/vocabulary/msupplcont/bibliography>, <http://id.loc.gov/vocabulary/msupplcont/index> ;\n",
      "                bf:illustrativeContent <http://id.loc.gov/vocabulary/millus/ill>, <http://id.loc.gov/vocabulary/millus/map>, <http://id.loc.gov/vocabulary/millus/chr> ;\n",
      "                bf:intendedAudience <http://id.loc.gov/vocabulary/maudience/adu> ; .\n",
      "        } }\n",
      "        \n"
     ]
    }
   ],
   "source": [
    "print(graph)"
   ]
  },
  {
   "cell_type": "code",
   "execution_count": 35,
   "metadata": {},
   "outputs": [
    {
     "data": {
      "text/plain": [
       "\"Why are humans the only species to have escaped - only very recently - the subsistence trap, allowing us to enjoy a standard of living that vastly exceeds all others? And why have we progressed so unequally around the world, resulting in the great disparities between nations that exist today? Immense in scope and packed with astounding connections, Galor's gripping narrative explains how technology, population size, and adaptation led to a stunning phase change in the human story a mere two hundred years ago. But by tracing that same journey back in time and peeling away the layers of influence - colonialism, political institutions, societal structure, culture - he arrives also at an explanation of inequality's ultimate causes: those ancestral populations that enjoyed fruitful geographical characteristics and rich diversity were set on the path to prosperity, while those that lacked it were disadvantaged in ways still echoed today. As we face ecological crisis across the globe, The Journey of Humanity is a book of urgent truths and enduring relevance, with lessons that are both hopeful and profound: gender equality, investment in education, and balancing diversity with social cohesion are the keys not only to our species' thriving, but to its survival. -- publisher's website.\""
      ]
     },
     "execution_count": 35,
     "metadata": {},
     "output_type": "execute_result"
    }
   ],
   "source": [
    "request.summary.replace('\"', '')"
   ]
  },
  {
   "cell_type": "code",
   "execution_count": 36,
   "metadata": {},
   "outputs": [
    {
     "data": {
      "text/plain": [
       "'\"Why are humans the only species to have escaped - only very recently - the subsistence trap, allowing us to enjoy a standard of living that vastly exceeds all others? And why have we progressed so unequally around the world, resulting in the great disparities between nations that exist today? Immense in scope and packed with astounding connections, Galor\\'s gripping narrative explains how technology, population size, and adaptation led to a stunning \"phase change\" in the human story a mere two hundred years ago. But by tracing that same journey back in time and peeling away the layers of influence - colonialism, political institutions, societal structure, culture - he arrives also at an explanation of inequality\\'s ultimate causes: those ancestral populations that enjoyed fruitful geographical characteristics and rich diversity were set on the path to prosperity, while those that lacked it were disadvantaged in ways still echoed today. As we face ecological crisis across the globe, The Journey of Humanity is a book of urgent truths and enduring relevance, with lessons that are both hopeful and profound: gender equality, investment in education, and balancing diversity with social cohesion are the keys not only to our species\\' thriving, but to its survival.\" -- publisher\\'s website.'"
      ]
     },
     "execution_count": 36,
     "metadata": {},
     "output_type": "execute_result"
    }
   ],
   "source": [
    "request.summary"
   ]
  },
  {
   "cell_type": "code",
   "execution_count": 32,
   "metadata": {},
   "outputs": [
    {
     "data": {
      "text/plain": [
       "'Why are humans the '"
      ]
     },
     "execution_count": 32,
     "metadata": {},
     "output_type": "execute_result"
    }
   ],
   "source": [
    "x = '\"Why are humans the '\n",
    "x.replace('\"', '')"
   ]
  },
  {
   "cell_type": "code",
   "execution_count": 21,
   "metadata": {},
   "outputs": [
    {
     "ename": "QueryBadFormed",
     "evalue": "QueryBadFormed: A bad request has been sent to the endpoint: probably the SPARQL query is badly formed. \n\nResponse:\nb'Lexical error at line 50, column 61.  Encountered: \" \" (32), after : \"Why\"\\n'",
     "output_type": "error",
     "traceback": [
      "\u001b[1;31m---------------------------------------------------------------------------\u001b[0m",
      "\u001b[1;31mHTTPError\u001b[0m                                 Traceback (most recent call last)",
      "File \u001b[1;32mc:\\Users\\Usuário\\Desktop\\BiblioKeia\\venv\\lib\\site-packages\\SPARQLWrapper\\Wrapper.py:926\u001b[0m, in \u001b[0;36mSPARQLWrapper._query\u001b[1;34m(self)\u001b[0m\n\u001b[0;32m    925\u001b[0m \u001b[39melse\u001b[39;00m:\n\u001b[1;32m--> 926\u001b[0m     response \u001b[39m=\u001b[39m urlopener(request)\n\u001b[0;32m    927\u001b[0m \u001b[39mreturn\u001b[39;00m response, \u001b[39mself\u001b[39m\u001b[39m.\u001b[39mreturnFormat\n",
      "File \u001b[1;32m~\\AppData\\Local\\Programs\\Python\\Python310\\lib\\urllib\\request.py:216\u001b[0m, in \u001b[0;36murlopen\u001b[1;34m(url, data, timeout, cafile, capath, cadefault, context)\u001b[0m\n\u001b[0;32m    215\u001b[0m     opener \u001b[39m=\u001b[39m _opener\n\u001b[1;32m--> 216\u001b[0m \u001b[39mreturn\u001b[39;00m opener\u001b[39m.\u001b[39;49mopen(url, data, timeout)\n",
      "File \u001b[1;32m~\\AppData\\Local\\Programs\\Python\\Python310\\lib\\urllib\\request.py:525\u001b[0m, in \u001b[0;36mOpenerDirector.open\u001b[1;34m(self, fullurl, data, timeout)\u001b[0m\n\u001b[0;32m    524\u001b[0m     meth \u001b[39m=\u001b[39m \u001b[39mgetattr\u001b[39m(processor, meth_name)\n\u001b[1;32m--> 525\u001b[0m     response \u001b[39m=\u001b[39m meth(req, response)\n\u001b[0;32m    527\u001b[0m \u001b[39mreturn\u001b[39;00m response\n",
      "File \u001b[1;32m~\\AppData\\Local\\Programs\\Python\\Python310\\lib\\urllib\\request.py:634\u001b[0m, in \u001b[0;36mHTTPErrorProcessor.http_response\u001b[1;34m(self, request, response)\u001b[0m\n\u001b[0;32m    633\u001b[0m \u001b[39mif\u001b[39;00m \u001b[39mnot\u001b[39;00m (\u001b[39m200\u001b[39m \u001b[39m<\u001b[39m\u001b[39m=\u001b[39m code \u001b[39m<\u001b[39m \u001b[39m300\u001b[39m):\n\u001b[1;32m--> 634\u001b[0m     response \u001b[39m=\u001b[39m \u001b[39mself\u001b[39;49m\u001b[39m.\u001b[39;49mparent\u001b[39m.\u001b[39;49merror(\n\u001b[0;32m    635\u001b[0m         \u001b[39m'\u001b[39;49m\u001b[39mhttp\u001b[39;49m\u001b[39m'\u001b[39;49m, request, response, code, msg, hdrs)\n\u001b[0;32m    637\u001b[0m \u001b[39mreturn\u001b[39;00m response\n",
      "File \u001b[1;32m~\\AppData\\Local\\Programs\\Python\\Python310\\lib\\urllib\\request.py:563\u001b[0m, in \u001b[0;36mOpenerDirector.error\u001b[1;34m(self, proto, *args)\u001b[0m\n\u001b[0;32m    562\u001b[0m args \u001b[39m=\u001b[39m (\u001b[39mdict\u001b[39m, \u001b[39m'\u001b[39m\u001b[39mdefault\u001b[39m\u001b[39m'\u001b[39m, \u001b[39m'\u001b[39m\u001b[39mhttp_error_default\u001b[39m\u001b[39m'\u001b[39m) \u001b[39m+\u001b[39m orig_args\n\u001b[1;32m--> 563\u001b[0m \u001b[39mreturn\u001b[39;00m \u001b[39mself\u001b[39;49m\u001b[39m.\u001b[39;49m_call_chain(\u001b[39m*\u001b[39;49margs)\n",
      "File \u001b[1;32m~\\AppData\\Local\\Programs\\Python\\Python310\\lib\\urllib\\request.py:496\u001b[0m, in \u001b[0;36mOpenerDirector._call_chain\u001b[1;34m(self, chain, kind, meth_name, *args)\u001b[0m\n\u001b[0;32m    495\u001b[0m func \u001b[39m=\u001b[39m \u001b[39mgetattr\u001b[39m(handler, meth_name)\n\u001b[1;32m--> 496\u001b[0m result \u001b[39m=\u001b[39m func(\u001b[39m*\u001b[39;49margs)\n\u001b[0;32m    497\u001b[0m \u001b[39mif\u001b[39;00m result \u001b[39mis\u001b[39;00m \u001b[39mnot\u001b[39;00m \u001b[39mNone\u001b[39;00m:\n",
      "File \u001b[1;32m~\\AppData\\Local\\Programs\\Python\\Python310\\lib\\urllib\\request.py:643\u001b[0m, in \u001b[0;36mHTTPDefaultErrorHandler.http_error_default\u001b[1;34m(self, req, fp, code, msg, hdrs)\u001b[0m\n\u001b[0;32m    642\u001b[0m \u001b[39mdef\u001b[39;00m \u001b[39mhttp_error_default\u001b[39m(\u001b[39mself\u001b[39m, req, fp, code, msg, hdrs):\n\u001b[1;32m--> 643\u001b[0m     \u001b[39mraise\u001b[39;00m HTTPError(req\u001b[39m.\u001b[39mfull_url, code, msg, hdrs, fp)\n",
      "\u001b[1;31mHTTPError\u001b[0m: HTTP Error 400: Bad Request",
      "\nDuring handling of the above exception, another exception occurred:\n",
      "\u001b[1;31mQueryBadFormed\u001b[0m                            Traceback (most recent call last)",
      "\u001b[1;32mc:\\Users\\Usuário\\Desktop\\BiblioKeia\\work.ipynb Cell 12\u001b[0m in \u001b[0;36m<cell line: 3>\u001b[1;34m()\u001b[0m\n\u001b[0;32m      <a href='vscode-notebook-cell:/c%3A/Users/Usu%C3%A1rio/Desktop/BiblioKeia/work.ipynb#X10sZmlsZQ%3D%3D?line=0'>1</a>\u001b[0m fuseki_update \u001b[39m=\u001b[39m FusekiUpdate(\u001b[39m'\u001b[39m\u001b[39mhttp://localhost:3030\u001b[39m\u001b[39m'\u001b[39m, \u001b[39m'\u001b[39m\u001b[39macervo\u001b[39m\u001b[39m'\u001b[39m)\n\u001b[1;32m----> <a href='vscode-notebook-cell:/c%3A/Users/Usu%C3%A1rio/Desktop/BiblioKeia/work.ipynb#X10sZmlsZQ%3D%3D?line=2'>3</a>\u001b[0m response \u001b[39m=\u001b[39m fuseki_update\u001b[39m.\u001b[39;49mrun_sparql(graph)\n\u001b[0;32m      <a href='vscode-notebook-cell:/c%3A/Users/Usu%C3%A1rio/Desktop/BiblioKeia/work.ipynb#X10sZmlsZQ%3D%3D?line=3'>4</a>\u001b[0m response\u001b[39m.\u001b[39mconvert()\n",
      "File \u001b[1;32mc:\\Users\\Usuário\\Desktop\\BiblioKeia\\venv\\lib\\site-packages\\pyfuseki\\syncFuseki\\fuseki.py:37\u001b[0m, in \u001b[0;36mBaseFuseki.run_sparql\u001b[1;34m(self, sparql_str, return_format)\u001b[0m\n\u001b[0;32m     35\u001b[0m \u001b[39mself\u001b[39m\u001b[39m.\u001b[39msparql_conn\u001b[39m.\u001b[39msetQuery(sparql_str)\n\u001b[0;32m     36\u001b[0m \u001b[39mself\u001b[39m\u001b[39m.\u001b[39msparql_conn\u001b[39m.\u001b[39msetReturnFormat(return_format)\n\u001b[1;32m---> 37\u001b[0m \u001b[39mreturn\u001b[39;00m \u001b[39mself\u001b[39;49m\u001b[39m.\u001b[39;49msparql_conn\u001b[39m.\u001b[39;49mquery()\n",
      "File \u001b[1;32mc:\\Users\\Usuário\\Desktop\\BiblioKeia\\venv\\lib\\site-packages\\SPARQLWrapper\\Wrapper.py:960\u001b[0m, in \u001b[0;36mSPARQLWrapper.query\u001b[1;34m(self)\u001b[0m\n\u001b[0;32m    942\u001b[0m \u001b[39mdef\u001b[39;00m \u001b[39mquery\u001b[39m(\u001b[39mself\u001b[39m) \u001b[39m-\u001b[39m\u001b[39m>\u001b[39m \u001b[39m\"\u001b[39m\u001b[39mQueryResult\u001b[39m\u001b[39m\"\u001b[39m:\n\u001b[0;32m    943\u001b[0m     \u001b[39m\"\"\"\u001b[39;00m\n\u001b[0;32m    944\u001b[0m \u001b[39m    Execute the query.\u001b[39;00m\n\u001b[0;32m    945\u001b[0m \u001b[39m    Exceptions can be raised if either the URI is wrong or the HTTP sends back an error (this is also the\u001b[39;00m\n\u001b[1;32m   (...)\u001b[0m\n\u001b[0;32m    958\u001b[0m \u001b[39m    :rtype: :class:`QueryResult` instance\u001b[39;00m\n\u001b[0;32m    959\u001b[0m \u001b[39m    \"\"\"\u001b[39;00m\n\u001b[1;32m--> 960\u001b[0m     \u001b[39mreturn\u001b[39;00m QueryResult(\u001b[39mself\u001b[39;49m\u001b[39m.\u001b[39;49m_query())\n",
      "File \u001b[1;32mc:\\Users\\Usuário\\Desktop\\BiblioKeia\\venv\\lib\\site-packages\\SPARQLWrapper\\Wrapper.py:930\u001b[0m, in \u001b[0;36mSPARQLWrapper._query\u001b[1;34m(self)\u001b[0m\n\u001b[0;32m    928\u001b[0m \u001b[39mexcept\u001b[39;00m urllib\u001b[39m.\u001b[39merror\u001b[39m.\u001b[39mHTTPError \u001b[39mas\u001b[39;00m e:\n\u001b[0;32m    929\u001b[0m     \u001b[39mif\u001b[39;00m e\u001b[39m.\u001b[39mcode \u001b[39m==\u001b[39m \u001b[39m400\u001b[39m:\n\u001b[1;32m--> 930\u001b[0m         \u001b[39mraise\u001b[39;00m QueryBadFormed(e\u001b[39m.\u001b[39mread())\n\u001b[0;32m    931\u001b[0m     \u001b[39melif\u001b[39;00m e\u001b[39m.\u001b[39mcode \u001b[39m==\u001b[39m \u001b[39m404\u001b[39m:\n\u001b[0;32m    932\u001b[0m         \u001b[39mraise\u001b[39;00m EndPointNotFound(e\u001b[39m.\u001b[39mread())\n",
      "\u001b[1;31mQueryBadFormed\u001b[0m: QueryBadFormed: A bad request has been sent to the endpoint: probably the SPARQL query is badly formed. \n\nResponse:\nb'Lexical error at line 50, column 61.  Encountered: \" \" (32), after : \"Why\"\\n'"
     ]
    }
   ],
   "source": [
    "fuseki_update = FusekiUpdate('http://localhost:3030', 'acervo')\n",
    "\n",
    "response = fuseki_update.run_sparql(graph)\n",
    "response.convert()"
   ]
  },
  {
   "cell_type": "code",
   "execution_count": 25,
   "metadata": {},
   "outputs": [
    {
     "data": {
      "text/plain": [
       "{'statusCode': 200, 'message': 'Update succeeded'}"
      ]
     },
     "execution_count": 25,
     "metadata": {},
     "output_type": "execute_result"
    }
   ],
   "source": [
    "fuseki_update = FusekiUpdate('http://localhost:3030', 'acervo')\n",
    "d = \"\"\"DELETE { graph ?g { ?s ?p ?o } } \n",
    "        WHERE {\n",
    "        graph ?g {?s ?p ?o.}\n",
    "        }\"\"\"\n",
    "\n",
    "response = fuseki_update.run_sparql(d)\n",
    "response.convert()"
   ]
  },
  {
   "attachments": {},
   "cell_type": "markdown",
   "metadata": {},
   "source": [
    "Exemple Work Loc"
   ]
  },
  {
   "cell_type": "code",
   "execution_count": 53,
   "metadata": {},
   "outputs": [
    {
     "data": {
      "text/plain": [
       "<Graph identifier=N6e8f6b25d8384e1585946c4b1a9f8153 (<class 'rdflib.graph.Graph'>)>"
      ]
     },
     "execution_count": 53,
     "metadata": {},
     "output_type": "execute_result"
    }
   ],
   "source": [
    "g = Graph()\n",
    "g.parse('https://www.loc.gov/standards/mads/rdf/v1/examples/oca08651008.nt', format='nt')"
   ]
  },
  {
   "cell_type": "code",
   "execution_count": 54,
   "metadata": {},
   "outputs": [
    {
     "data": {
      "text/plain": [
       "<Graph identifier=N6e8f6b25d8384e1585946c4b1a9f8153 (<class 'rdflib.graph.Graph'>)>"
      ]
     },
     "execution_count": 54,
     "metadata": {},
     "output_type": "execute_result"
    }
   ],
   "source": [
    "g.serialize('EX_NAME.ttl', format='ttl')"
   ]
  },
  {
   "attachments": {},
   "cell_type": "markdown",
   "metadata": {},
   "source": [
    "GET WORK"
   ]
  },
  {
   "cell_type": "code",
   "execution_count": 45,
   "metadata": {},
   "outputs": [
    {
     "data": {
      "text/plain": [
       "<Response [200 OK]>"
      ]
     },
     "execution_count": 45,
     "metadata": {},
     "output_type": "execute_result"
    }
   ],
   "source": [
    "response = httpx.get('http://localhost:3030/authorities?graph=https://bibliokeia.com/authorities/name/n80002329')\n",
    "response"
   ]
  },
  {
   "cell_type": "code",
   "execution_count": 46,
   "metadata": {},
   "outputs": [
    {
     "data": {
      "text/plain": [
       "<Graph identifier=Nc7fd2ec4e1e541edbd048c09e685ea53 (<class 'rdflib.graph.Graph'>)>"
      ]
     },
     "execution_count": 46,
     "metadata": {},
     "output_type": "execute_result"
    }
   ],
   "source": [
    "g = Graph()\n",
    "g.parse(response.content)\n",
    "g.serialize('name.ttl', format='ttl')"
   ]
  },
  {
   "cell_type": "code",
   "execution_count": 8,
   "metadata": {},
   "outputs": [
    {
     "data": {
      "text/plain": [
       "<Graph identifier=Na2c213dac7fc4260b1e9a3ce33f14215 (<class 'rdflib.graph.Graph'>)>"
      ]
     },
     "execution_count": 8,
     "metadata": {},
     "output_type": "execute_result"
    }
   ],
   "source": [
    "g.serialize('bk.rdf', format='xml')"
   ]
  },
  {
   "cell_type": "code",
   "execution_count": 51,
   "metadata": {},
   "outputs": [
    {
     "name": "stdout",
     "output_type": "stream",
     "text": [
      "https://bibliokeia.com/authorities/name/n80002329\n"
     ]
    }
   ],
   "source": [
    "for contribution in request.contribution:\n",
    "    print(contribution.agent)"
   ]
  },
  {
   "cell_type": "code",
   "execution_count": 42,
   "metadata": {},
   "outputs": [
    {
     "name": "stdout",
     "output_type": "stream",
     "text": [
      "{'statusCode': 200, 'message': 'Update succeeded'}\n"
     ]
    }
   ],
   "source": [
    "fuseki_authorities = FusekiUpdate('http://localhost:3030', 'authorities')\n",
    "subjectOf = \"\"\"PREFIX graph: <https://bibliokeia.com/authorities/topic/>\n",
    "            PREFIX bf: <http://id.loc.gov/ontologies/bibframe/>\n",
    "\n",
    "                INSERT DATA\n",
    "                    {{ GRAPH <{subject}> {{ \n",
    "                        <{subject}>  bf:contributionOf   <https://bibliokeia.com/resources/work/{id}> }} }} ; \"\"\"\n",
    "for i in request.subject:\n",
    "    up = subjectOf.format(subject=i.value, id=\"bk-1\")\n",
    "    response = fuseki_authorities.run_sparql(up)\n",
    "    print(response.convert())"
   ]
  },
  {
   "cell_type": "code",
   "execution_count": 32,
   "metadata": {},
   "outputs": [
    {
     "data": {
      "text/plain": [
       "<SPARQLWrapper.Wrapper.QueryResult at 0x1f996290b50>"
      ]
     },
     "execution_count": 32,
     "metadata": {},
     "output_type": "execute_result"
    }
   ],
   "source": [
    "fuseki_authorities = FusekiUpdate('http://localhost:3030', 'authorities')\n",
    "subjectOf = f\"\"\"PREFIX graph: <https://bibliokeia.com/authorities/topic/>\n",
    "            PREFIX bf: <http://id.loc.gov/ontologies/bibframe/>\n",
    "\n",
    "                INSERT DATA\n",
    "                    {{ GRAPH graph:sh85017405 {{ \n",
    "                        graph:sh85017405  bf:subjectOf <https://bibliokeia.com/resources/work/bk-2> }} }} ; \"\"\"\n",
    "fuseki_authorities.run_sparql(subjectOf)"
   ]
  },
  {
   "attachments": {},
   "cell_type": "markdown",
   "metadata": {},
   "source": [
    "SOLR"
   ]
  },
  {
   "cell_type": "code",
   "execution_count": 40,
   "metadata": {},
   "outputs": [
    {
     "data": {
      "text/plain": [
       "[GenreForm(label='Ficção', value='genreForms:gf2014026339')]"
      ]
     },
     "execution_count": 40,
     "metadata": {},
     "output_type": "execute_result"
    }
   ],
   "source": [
    "request.genreForm"
   ]
  },
  {
   "cell_type": "code",
   "execution_count": 41,
   "metadata": {},
   "outputs": [
    {
     "data": {
      "text/plain": [
       "{'id': 'bk-1',\n",
       " 'type': ['Monograph', 'Text', 'Work'],\n",
       " 'creationDate': '2023-04-20',\n",
       " 'status': 'novo',\n",
       " 'cdd': '869.3',\n",
       " 'cutter': 'M513',\n",
       " 'content': ['texto', 'Imagem'],\n",
       " 'contribution': [{'id': 'bk-1!n80002329',\n",
       "   'type': ['bf:Contribution', 'bflc:PrimaryContribution'],\n",
       "   'agent': 'https://bibliokeia.com/authorities/name/n80002329',\n",
       "   'label': 'Machado de Assis',\n",
       "   'role': 'relators:aut'}],\n",
       " 'genreForm': ['Ficção']}"
      ]
     },
     "execution_count": 41,
     "metadata": {},
     "output_type": "execute_result"
    }
   ],
   "source": [
    "id = 'bk-1'\n",
    "doc = {\n",
    "    'id': id,\n",
    "    'type': [i.replace(\"bf:\", \"\") for i in request.type],\n",
    "    'creationDate': request.adminMetadata.creationDate,\n",
    "    'status': request.adminMetadata.status.label,\n",
    "    'cdd': request.classification.classificationPortion,\n",
    "    'cutter': request.classification.itemPortion,\n",
    "    'content': [content.label for content in request.content],\n",
    "    'contribution': [{'id':f'{id}!{contribution.agent.split(\"/\")[-1]}', **contribution.dict()} for contribution in request.contribution],\n",
    "    'genreForm': [genreForm.label for genreForm in request.genreForm ]\n",
    "}\n",
    "doc"
   ]
  },
  {
   "cell_type": "code",
   "execution_count": 42,
   "metadata": {},
   "outputs": [
    {
     "data": {
      "text/plain": [
       "'{\\n  \"responseHeader\":{\\n    \"status\":0,\\n    \"QTime\":128}}\\n'"
      ]
     },
     "execution_count": 42,
     "metadata": {},
     "output_type": "execute_result"
    }
   ],
   "source": [
    "solr = pysolr.Solr('http://localhost:8983/solr/acervo/', timeout=10)\n",
    "r = solr.add([doc], commit=True)\n",
    "r"
   ]
  },
  {
   "cell_type": "code",
   "execution_count": 32,
   "metadata": {},
   "outputs": [
    {
     "data": {
      "text/plain": [
       "'<?xml version=\"1.0\" encoding=\"UTF-8\"?>\\n<response>\\n\\n<lst name=\"responseHeader\">\\n  <int name=\"status\">0</int>\\n  <int name=\"QTime\">44</int>\\n</lst>\\n</response>\\n'"
      ]
     },
     "execution_count": 32,
     "metadata": {},
     "output_type": "execute_result"
    }
   ],
   "source": [
    "solr.delete(q=\"*:*\", commit=True)"
   ]
  },
  {
   "cell_type": "code",
   "execution_count": null,
   "metadata": {},
   "outputs": [],
   "source": []
  }
 ],
 "metadata": {
  "kernelspec": {
   "display_name": "Python 3.11.0 ('venv': venv)",
   "language": "python",
   "name": "python3"
  },
  "language_info": {
   "codemirror_mode": {
    "name": "ipython",
    "version": 3
   },
   "file_extension": ".py",
   "mimetype": "text/x-python",
   "name": "python",
   "nbconvert_exporter": "python",
   "pygments_lexer": "ipython3",
   "version": "3.10.4"
  },
  "orig_nbformat": 4,
  "vscode": {
   "interpreter": {
    "hash": "5df21a170a08fe7c24b5b1091267edae5bad3984f1116f28e957af7dd8f192dc"
   }
  }
 },
 "nbformat": 4,
 "nbformat_minor": 2
}
