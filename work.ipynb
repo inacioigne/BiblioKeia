{
 "cells": [
  {
   "cell_type": "code",
   "execution_count": 61,
   "metadata": {},
   "outputs": [],
   "source": [
    "from rdflib import Graph\n",
    "from pydantic import BaseModel, validator, Field\n",
    "from typing import Optional, Union\n",
    "from pyfuseki import FusekiUpdate\n",
    "import json\n",
    "from datetime import date, datetime\n",
    "from api.src.function.bibframe.Work.graph import MakeGraph\n",
    "import httpx\n",
    "from api.src.schemas.bibframe.work import Work\n",
    "import pysolr  "
   ]
  },
  {
   "cell_type": "code",
   "execution_count": 19,
   "metadata": {},
   "outputs": [
    {
     "data": {
      "text/plain": [
       "<Graph identifier=Na57cfb0002414db99f53ba7608959db3 (<class 'rdflib.graph.Graph'>)>"
      ]
     },
     "execution_count": 19,
     "metadata": {},
     "output_type": "execute_result"
    }
   ],
   "source": [
    "g = Graph()\n",
    "g.parse('http://id.loc.gov/resources/works/21291853.nt', format='nt')\n",
    "g.serialize('loc1.ttl', format='ttl')"
   ]
  },
  {
   "cell_type": "code",
   "execution_count": 18,
   "metadata": {},
   "outputs": [
    {
     "data": {
      "text/plain": [
       "<Graph identifier=N4365006d7cb747c8ac8ac0b76cd0b878 (<class 'rdflib.graph.Graph'>)>"
      ]
     },
     "execution_count": 18,
     "metadata": {},
     "output_type": "execute_result"
    }
   ],
   "source": [
    "g = Graph()\n",
    "g.parse('preview.rdf')\n",
    "g.serialize('preview.ttl', format='ttl')"
   ]
  },
  {
   "cell_type": "code",
   "execution_count": 2,
   "metadata": {},
   "outputs": [],
   "source": [
    "with open('api/src/config/authorized_values.json') as file:\n",
    "    reader = file.read()\n",
    "    vocabulary = json.loads(reader)\n",
    "    file.close()"
   ]
  },
  {
   "cell_type": "code",
   "execution_count": 48,
   "metadata": {},
   "outputs": [],
   "source": [
    "with open('work.json') as file:\n",
    "    reader = file.read()\n",
    "    work = json.loads(reader)\n",
    "    file.close()\n",
    "request = Work(**work)"
   ]
  },
  {
   "cell_type": "code",
   "execution_count": 49,
   "metadata": {},
   "outputs": [
    {
     "data": {
      "text/plain": [
       "[Contribution(type=['bf:Contribution', 'bflc:PrimaryContribution'], agent='https://bibliokeia.com/authorities/name/n80002329', label='Machado de Assis', role='relators:aut')]"
      ]
     },
     "execution_count": 49,
     "metadata": {},
     "output_type": "execute_result"
    }
   ],
   "source": [
    "request.contribution"
   ]
  },
  {
   "cell_type": "code",
   "execution_count": 16,
   "metadata": {},
   "outputs": [
    {
     "name": "stdout",
     "output_type": "stream",
     "text": [
      "PREFIX rdf: <http://www.w3.org/1999/02/22-rdf-syntax-ns#>\n",
      "    PREFIX xsd: <http://www.w3.org/2001/XMLSchema#>\n",
      "    PREFIX rdfs: <http://www.w3.org/2000/01/rdf-schema#>\n",
      "    PREFIX bf: <http://id.loc.gov/ontologies/bibframe/>\n",
      "    PREFIX madsrdf: <http://www.loc.gov/mads/rdf/v1#>\n",
      "    PREFIX bflc: <http://id.loc.gov/ontologies/bflc/> \n",
      "    PREFIX bkw: <https://bibliokeia.com/resources/work/> \n",
      "    PREFIX menclvl: <http://id.loc.gov/vocabulary/menclvl/>\n",
      "    PREFIX mstatus: <http://id.loc.gov/vocabulary/mstatus/>\n",
      "    PREFIX contentTypes: <http://id.loc.gov/vocabulary/contentTypes/>\n",
      "    PREFIX relators: <http://id.loc.gov/vocabulary/relators/>\n",
      "    PREFIX genreForms: <http://id.loc.gov/authorities/genreForms/>\n",
      "    PREFIX msupplcont: <http://id.loc.gov/vocabulary/msupplcont/>\n",
      "    PREFIX millus: <http://id.loc.gov/vocabulary/millus/>    \n",
      "        \n",
      "    INSERT DATA {\n",
      "        GRAPH bkw:bk-1\n",
      "        { \n",
      "           bkw:bk-1 a bf:Monograph, bf:Text, bf:Work  ;\n",
      "           bf:adminMetadata [ a bf:AdminMetadata ;\n",
      "            bflc:encodingLevel menclvl:1 ;\n",
      "            bf:assigner <http://id.loc.gov/vocabulary/organizations/brmninpa> ;    \n",
      "            bf:creationDate \"2023-04-19\"^^xsd:date ;    \n",
      "            bf:descriptionConventions <http://id.loc.gov/vocabulary/descriptionConventions/isbd> ;\n",
      "            bf:descriptionLanguage <http://id.loc.gov/vocabulary/languages/por> ;\n",
      "            bf:generationProcess [ a bf:GenerationProcess ;\n",
      "                    rdfs:label \"BiblioKeia\" ;\n",
      "                    bf:generationDate \"2023-04-19T15:50:56\"^^xsd:dateTime ] ;\n",
      "            bf:identifiedBy [ a bf:Local ;\n",
      "                    bf:assigner <http://id.loc.gov/vocabulary/organizations/brmninpa> ;\n",
      "                    rdf:value \"bk-1\" ] ;\n",
      "            bf:status mstatus:new ] ;\n",
      "        bf:classification [ a bf:ClassificationDdc ;\n",
      "                bf:assigner <http://id.loc.gov/vocabulary/organizations/brmninpa> ;\n",
      "                bf:classificationPortion \"869.3\" ;\n",
      "                bf:itemPortion \"M513\" ;\n",
      "                bf:source [ a bf:Source ;\n",
      "                    bf:code \"23\" ] ] ;\n",
      "        bf:content contentTypes:txt, contentTypes: ;\n",
      "        bf:contribution  [ a bf:Contribution ;\n",
      "                bf:agent <http://id.loc.gov/rwo/agents/no2015001378> ;\n",
      "                bf:role relators:trl ], [ a bf:Contribution, bflc:PrimaryContribution ;\n",
      "                bf:agent <http://id.loc.gov/rwo/agents/n80002329> ;\n",
      "                bf:role relators:aut ] ;\n",
      "        bf:genreForm genreForms:gf2014026339 ; \n",
      "        bf:language [ a bf:Language ;\n",
      "                bf:part \"Original\" ;\n",
      "                rdf:value <http://id.loc.gov/vocabulary/languages/por> ;\n",
      "                rdfs:label \"PortuguÃªs\" ], [ a bf:Language ;\n",
      "                \n",
      "                rdf:value <http://id.loc.gov/vocabulary/languages/eng> ;\n",
      "                rdfs:label \"InglÃªs\" ] ;\n",
      "        bf:note [ a bf:Note ; rdfs:label \"Includes translation\" ] ; \n",
      "        bf:summary [ a bf:Summary ; rdfs:label \"A revelatory new translation of the playful, incomparable masterpiece of one of the greatest black authors in the Americas. The mixed-race grandson of ex-slaves, Machado de Assis is not only Brazil's most celebrated writer but also a writer of world stature, who has been championed by the likes of Philip Roth, Susan Sontag, Allen Ginsburg, John Updike, and Salman Rushdie. In his masterpiece, the 1881 novel The Posthumous Memoirs of BrÃ¡s Cubas (translated also as Epitaph of a Small Winner), the ghost of a decadent and disagreeable aristocrat decides to write his memoir. He dedicates it to the worms gnawing at his corpse and, in 160 brief chapters, tells of his failed romances and halfhearted political ambitions, serves up harebrained philosophies, and complains with gusto from the depths of his grave. Wildly imaginative, wickedly witty, and utterly unforgettable, it is a novel ahead of its time that has been compared to the work of everyone from Cervantes to Sterne to Borges to Joyce to Nabokov to Calvino, and that has influenced generations of writers around the world. This new English translation is the first to include extensive notes providing crucial historical and cultural context and also includes excerpts from previous versions of the novel never before published in English\" ] ; \n",
      "        \n",
      "        \n",
      "        bf:supplementaryContent msupplcont:bibliography ;\n",
      "        bf:subject <http://id.loc.gov/authorities/childrensSubjects> ;\n",
      "        bf:title [ a bf:Title ;\n",
      "            bf:mainTitle \"The posthumous memoirs of BrÃ¡s Cubas\" \n",
      "             ] .\n",
      "        } \n",
      "        }\n",
      "        \n"
     ]
    }
   ],
   "source": [
    "request = Work(**work)\n",
    "graph = MakeGraph(request, 'bk-1')\n",
    "print(graph)"
   ]
  },
  {
   "cell_type": "markdown",
   "metadata": {},
   "source": [
    " ns1:assigner <http://id.loc.gov/vocabulary/organizations/dlc> ;\n",
    "            ns1:changeDate \"2023-02-06T08:03:19\"^^xsd:dateTime ;\n",
    "            ns1:creationDate \"2019-11-26\"^^xsd:date ;\n",
    "            ns1:descriptionAuthentication <http://id.loc.gov/vocabulary/marcauthen/pcc> ;\n",
    "            ns1:descriptionConventions <http://id.loc.gov/vocabulary/descriptionConventions/isbd>,\n",
    "                <http://id.loc.gov/vocabulary/descriptionConventions/rda> ;\n",
    "            ns1:descriptionLanguage <http://id.loc.gov/vocabulary/languages/eng> ;\n",
    "            ns1:descriptionModifier <http://id.loc.gov/vocabulary/organizations/dlc> ;\n",
    "            ns1:generationProcess [ a ns1:GenerationProcess ;\n",
    "                    rdfs:label \"DLC marc2bibframe2 v2.2.1\" ;\n",
    "                    ns1:generationDate \"2023-02-07T01:58:10.983465-05:00\"^^xsd:dateTime ] ;\n",
    "            ns1:identifiedBy [ a ns1:Local ;\n",
    "                    ns1:assigner <http://id.loc.gov/vocabulary/organizations/dlc> ;\n",
    "                    rdf:value \"21313495\" ] ;\n",
    "            ns1:status <http://id.loc.gov/vocabulary/mstatus/c> ;"
   ]
  },
  {
   "cell_type": "code",
   "execution_count": 17,
   "metadata": {},
   "outputs": [
    {
     "data": {
      "text/plain": [
       "{'statusCode': 200, 'message': 'Update succeeded'}"
      ]
     },
     "execution_count": 17,
     "metadata": {},
     "output_type": "execute_result"
    }
   ],
   "source": [
    "fuseki_update = FusekiUpdate('http://localhost:3030', 'acervo')\n",
    "\n",
    "response = fuseki_update.run_sparql(graph)\n",
    "response.convert()"
   ]
  },
  {
   "cell_type": "code",
   "execution_count": 18,
   "metadata": {},
   "outputs": [
    {
     "data": {
      "text/plain": [
       "{'statusCode': 200, 'message': 'Update succeeded'}"
      ]
     },
     "execution_count": 18,
     "metadata": {},
     "output_type": "execute_result"
    }
   ],
   "source": [
    "fuseki_update = FusekiUpdate('http://localhost:3030', 'acervo')\n",
    "d = \"\"\"DELETE { graph ?g { ?s ?p ?o } } \n",
    "        WHERE {\n",
    "        graph ?g {?s ?p ?o.}\n",
    "        }\"\"\"\n",
    "\n",
    "response = fuseki_update.run_sparql(d)\n",
    "response.convert()"
   ]
  },
  {
   "cell_type": "markdown",
   "metadata": {},
   "source": [
    "Exemple Work Loc"
   ]
  },
  {
   "cell_type": "code",
   "execution_count": 43,
   "metadata": {},
   "outputs": [
    {
     "data": {
      "text/plain": [
       "<Graph identifier=Nc98b5d06e8534accb4416bdc19980ca7 (<class 'rdflib.graph.Graph'>)>"
      ]
     },
     "execution_count": 43,
     "metadata": {},
     "output_type": "execute_result"
    }
   ],
   "source": [
    "g = Graph()\n",
    "g.parse('http://id.loc.gov/authorities/names/n80002329.rdf')"
   ]
  },
  {
   "cell_type": "code",
   "execution_count": 44,
   "metadata": {},
   "outputs": [
    {
     "data": {
      "text/plain": [
       "<Graph identifier=Nc98b5d06e8534accb4416bdc19980ca7 (<class 'rdflib.graph.Graph'>)>"
      ]
     },
     "execution_count": 44,
     "metadata": {},
     "output_type": "execute_result"
    }
   ],
   "source": [
    "g.serialize('name.ttl', format='ttl')"
   ]
  },
  {
   "attachments": {},
   "cell_type": "markdown",
   "metadata": {},
   "source": [
    "GET WORK"
   ]
  },
  {
   "cell_type": "code",
   "execution_count": 18,
   "metadata": {},
   "outputs": [
    {
     "data": {
      "text/plain": [
       "<Response [200 OK]>"
      ]
     },
     "execution_count": 18,
     "metadata": {},
     "output_type": "execute_result"
    }
   ],
   "source": [
    "response = httpx.get('http://localhost:3030/acervo?graph=https://bibliokeia.com/resources/work/bk-1')\n",
    "response"
   ]
  },
  {
   "cell_type": "code",
   "execution_count": 19,
   "metadata": {},
   "outputs": [
    {
     "data": {
      "text/plain": [
       "<Graph identifier=Naae5efcb5c2b4873905cc6b83fb657ac (<class 'rdflib.graph.Graph'>)>"
      ]
     },
     "execution_count": 19,
     "metadata": {},
     "output_type": "execute_result"
    }
   ],
   "source": [
    "g = Graph()\n",
    "g.parse(response.content)\n",
    "g.serialize('bk.ttl', format='ttl')"
   ]
  },
  {
   "cell_type": "code",
   "execution_count": 51,
   "metadata": {},
   "outputs": [
    {
     "name": "stdout",
     "output_type": "stream",
     "text": [
      "https://bibliokeia.com/authorities/name/n80002329\n"
     ]
    }
   ],
   "source": [
    "for contribution in request.contribution:\n",
    "    print(contribution.agent)"
   ]
  },
  {
   "cell_type": "code",
   "execution_count": 42,
   "metadata": {},
   "outputs": [
    {
     "name": "stdout",
     "output_type": "stream",
     "text": [
      "{'statusCode': 200, 'message': 'Update succeeded'}\n"
     ]
    }
   ],
   "source": [
    "fuseki_authorities = FusekiUpdate('http://localhost:3030', 'authorities')\n",
    "subjectOf = \"\"\"PREFIX graph: <https://bibliokeia.com/authorities/topic/>\n",
    "            PREFIX bf: <http://id.loc.gov/ontologies/bibframe/>\n",
    "\n",
    "                INSERT DATA\n",
    "                    {{ GRAPH <{subject}> {{ \n",
    "                        <{subject}>  bf:contributionOf   <https://bibliokeia.com/resources/work/{id}> }} }} ; \"\"\"\n",
    "for i in request.subject:\n",
    "    up = subjectOf.format(subject=i.value, id=\"bk-1\")\n",
    "    response = fuseki_authorities.run_sparql(up)\n",
    "    print(response.convert())"
   ]
  },
  {
   "cell_type": "code",
   "execution_count": 32,
   "metadata": {},
   "outputs": [
    {
     "data": {
      "text/plain": [
       "<SPARQLWrapper.Wrapper.QueryResult at 0x1f996290b50>"
      ]
     },
     "execution_count": 32,
     "metadata": {},
     "output_type": "execute_result"
    }
   ],
   "source": [
    "fuseki_authorities = FusekiUpdate('http://localhost:3030', 'authorities')\n",
    "subjectOf = f\"\"\"PREFIX graph: <https://bibliokeia.com/authorities/topic/>\n",
    "            PREFIX bf: <http://id.loc.gov/ontologies/bibframe/>\n",
    "\n",
    "                INSERT DATA\n",
    "                    {{ GRAPH graph:sh85017405 {{ \n",
    "                        graph:sh85017405  bf:subjectOf <https://bibliokeia.com/resources/work/bk-2> }} }} ; \"\"\"\n",
    "fuseki_authorities.run_sparql(subjectOf)"
   ]
  },
  {
   "cell_type": "code",
   "execution_count": 60,
   "metadata": {},
   "outputs": [
    {
     "data": {
      "text/plain": [
       "{'id': 'bk-1',\n",
       " 'type': ['Monograph', 'Text', 'Work'],\n",
       " 'adminMetadata': {'encodingLevel': 'menclvl:1',\n",
       "  'assigner': 'http://id.loc.gov/vocabulary/organizations/brmninpa',\n",
       "  'creationDate': '2023-04-19',\n",
       "  'descriptionConventions': 'http://id.loc.gov/vocabulary/descriptionConventions/isbd',\n",
       "  'descriptionLanguage': 'http://id.loc.gov/vocabulary/languages/por',\n",
       "  'generationProcess': {'label': 'BiblioKeia',\n",
       "   'generationDate': '2023-04-19T17:11:33'},\n",
       "  'status': 'mstatus:new'}}"
      ]
     },
     "execution_count": 60,
     "metadata": {},
     "output_type": "execute_result"
    }
   ],
   "source": [
    "request.dict()\n",
    "id = 'bk-1'\n",
    "doc = {\n",
    "    'id': id,\n",
    "    'type': [i.replace(\"bf:\", \"\") for i in request.type],\n",
    "    'adminMetadata': request.adminMetadata.dict()\n",
    "}\n",
    "doc"
   ]
  },
  {
   "cell_type": "code",
   "execution_count": 62,
   "metadata": {},
   "outputs": [],
   "source": [
    "solr = pysolr.Solr('http://localhost:8983/solr/acervo/', timeout=10)"
   ]
  },
  {
   "cell_type": "code",
   "execution_count": 63,
   "metadata": {},
   "outputs": [
    {
     "ename": "SolrError",
     "evalue": "Solr responded with an error (HTTP 400): [Reason: ERROR: [doc=bk-1/adminMetadata#/generationProcess#] unknown field 'generationDate']",
     "output_type": "error",
     "traceback": [
      "\u001b[1;31m---------------------------------------------------------------------------\u001b[0m",
      "\u001b[1;31mSolrError\u001b[0m                                 Traceback (most recent call last)",
      "\u001b[1;32mc:\\Users\\Usuário\\Desktop\\BiblioKeia\\work.ipynb Cell 22\u001b[0m in \u001b[0;36m<cell line: 1>\u001b[1;34m()\u001b[0m\n\u001b[1;32m----> <a href='vscode-notebook-cell:/c%3A/Users/Usu%C3%A1rio/Desktop/BiblioKeia/work.ipynb#X62sZmlsZQ%3D%3D?line=0'>1</a>\u001b[0m r \u001b[39m=\u001b[39m solr\u001b[39m.\u001b[39;49madd([doc], commit\u001b[39m=\u001b[39;49m\u001b[39mTrue\u001b[39;49;00m)\n\u001b[0;32m      <a href='vscode-notebook-cell:/c%3A/Users/Usu%C3%A1rio/Desktop/BiblioKeia/work.ipynb#X62sZmlsZQ%3D%3D?line=1'>2</a>\u001b[0m r\n",
      "File \u001b[1;32mc:\\Users\\Usuário\\Desktop\\BiblioKeia\\venv\\lib\\site-packages\\pysolr.py:1042\u001b[0m, in \u001b[0;36mSolr.add\u001b[1;34m(self, docs, boost, fieldUpdates, commit, softCommit, commitWithin, waitFlush, waitSearcher, overwrite, handler)\u001b[0m\n\u001b[0;32m   1036\u001b[0m end_time \u001b[39m=\u001b[39m time\u001b[39m.\u001b[39mtime()\n\u001b[0;32m   1037\u001b[0m \u001b[39mself\u001b[39m\u001b[39m.\u001b[39mlog\u001b[39m.\u001b[39mdebug(\n\u001b[0;32m   1038\u001b[0m     \u001b[39m\"\u001b[39m\u001b[39mBuilt add request of \u001b[39m\u001b[39m%s\u001b[39;00m\u001b[39m docs in \u001b[39m\u001b[39m%0.2f\u001b[39;00m\u001b[39m seconds.\u001b[39m\u001b[39m\"\u001b[39m,\n\u001b[0;32m   1039\u001b[0m     \u001b[39mlen\u001b[39m(message),\n\u001b[0;32m   1040\u001b[0m     end_time \u001b[39m-\u001b[39m start_time,\n\u001b[0;32m   1041\u001b[0m )\n\u001b[1;32m-> 1042\u001b[0m \u001b[39mreturn\u001b[39;00m \u001b[39mself\u001b[39;49m\u001b[39m.\u001b[39;49m_update(\n\u001b[0;32m   1043\u001b[0m     m,\n\u001b[0;32m   1044\u001b[0m     commit\u001b[39m=\u001b[39;49mcommit,\n\u001b[0;32m   1045\u001b[0m     softCommit\u001b[39m=\u001b[39;49msoftCommit,\n\u001b[0;32m   1046\u001b[0m     waitFlush\u001b[39m=\u001b[39;49mwaitFlush,\n\u001b[0;32m   1047\u001b[0m     waitSearcher\u001b[39m=\u001b[39;49mwaitSearcher,\n\u001b[0;32m   1048\u001b[0m     overwrite\u001b[39m=\u001b[39;49moverwrite,\n\u001b[0;32m   1049\u001b[0m     handler\u001b[39m=\u001b[39;49mhandler,\n\u001b[0;32m   1050\u001b[0m     solrapi\u001b[39m=\u001b[39;49msolrapi,\n\u001b[0;32m   1051\u001b[0m )\n",
      "File \u001b[1;32mc:\\Users\\Usuário\\Desktop\\BiblioKeia\\venv\\lib\\site-packages\\pysolr.py:568\u001b[0m, in \u001b[0;36mSolr._update\u001b[1;34m(self, message, clean_ctrl_chars, commit, softCommit, waitFlush, waitSearcher, overwrite, handler, solrapi)\u001b[0m\n\u001b[0;32m    564\u001b[0m     \u001b[39mreturn\u001b[39;00m \u001b[39mself\u001b[39m\u001b[39m.\u001b[39m_send_request(\n\u001b[0;32m    565\u001b[0m         \u001b[39m\"\u001b[39m\u001b[39mpost\u001b[39m\u001b[39m\"\u001b[39m, path, message, {\u001b[39m\"\u001b[39m\u001b[39mContent-type\u001b[39m\u001b[39m\"\u001b[39m: \u001b[39m\"\u001b[39m\u001b[39mtext/xml; charset=utf-8\u001b[39m\u001b[39m\"\u001b[39m}\n\u001b[0;32m    566\u001b[0m     )\n\u001b[0;32m    567\u001b[0m \u001b[39melif\u001b[39;00m solrapi \u001b[39m==\u001b[39m \u001b[39m\"\u001b[39m\u001b[39mJSON\u001b[39m\u001b[39m\"\u001b[39m:\n\u001b[1;32m--> 568\u001b[0m     \u001b[39mreturn\u001b[39;00m \u001b[39mself\u001b[39;49m\u001b[39m.\u001b[39;49m_send_request(\n\u001b[0;32m    569\u001b[0m         \u001b[39m\"\u001b[39;49m\u001b[39mpost\u001b[39;49m\u001b[39m\"\u001b[39;49m,\n\u001b[0;32m    570\u001b[0m         path,\n\u001b[0;32m    571\u001b[0m         message,\n\u001b[0;32m    572\u001b[0m         {\u001b[39m\"\u001b[39;49m\u001b[39mContent-type\u001b[39;49m\u001b[39m\"\u001b[39;49m: \u001b[39m\"\u001b[39;49m\u001b[39mapplication/json; charset=utf-8\u001b[39;49m\u001b[39m\"\u001b[39;49m},\n\u001b[0;32m    573\u001b[0m     )\n\u001b[0;32m    574\u001b[0m \u001b[39melse\u001b[39;00m:\n\u001b[0;32m    575\u001b[0m     \u001b[39mraise\u001b[39;00m \u001b[39mValueError\u001b[39;00m(\u001b[39m\"\u001b[39m\u001b[39munknown solrapi \u001b[39m\u001b[39m{}\u001b[39;00m\u001b[39m\"\u001b[39m\u001b[39m.\u001b[39mformat(solrapi))\n",
      "File \u001b[1;32mc:\\Users\\Usuário\\Desktop\\BiblioKeia\\venv\\lib\\site-packages\\pysolr.py:463\u001b[0m, in \u001b[0;36mSolr._send_request\u001b[1;34m(self, method, path, body, headers, files)\u001b[0m\n\u001b[0;32m    449\u001b[0m     solr_message \u001b[39m=\u001b[39m \u001b[39mself\u001b[39m\u001b[39m.\u001b[39m_extract_error(resp)\n\u001b[0;32m    450\u001b[0m     \u001b[39mself\u001b[39m\u001b[39m.\u001b[39mlog\u001b[39m.\u001b[39merror(\n\u001b[0;32m    451\u001b[0m         error_message,\n\u001b[0;32m    452\u001b[0m         resp\u001b[39m.\u001b[39mstatus_code,\n\u001b[1;32m   (...)\u001b[0m\n\u001b[0;32m    461\u001b[0m         },\n\u001b[0;32m    462\u001b[0m     )\n\u001b[1;32m--> 463\u001b[0m     \u001b[39mraise\u001b[39;00m SolrError(error_message \u001b[39m%\u001b[39m (resp\u001b[39m.\u001b[39mstatus_code, solr_message))\n\u001b[0;32m    465\u001b[0m \u001b[39mreturn\u001b[39;00m force_unicode(resp\u001b[39m.\u001b[39mcontent)\n",
      "\u001b[1;31mSolrError\u001b[0m: Solr responded with an error (HTTP 400): [Reason: ERROR: [doc=bk-1/adminMetadata#/generationProcess#] unknown field 'generationDate']"
     ]
    }
   ],
   "source": [
    "r = solr.add([doc], commit=True)\n",
    "r"
   ]
  },
  {
   "cell_type": "code",
   "execution_count": null,
   "metadata": {},
   "outputs": [],
   "source": []
  }
 ],
 "metadata": {
  "kernelspec": {
   "display_name": "Python 3.11.0 ('venv': venv)",
   "language": "python",
   "name": "python3"
  },
  "language_info": {
   "codemirror_mode": {
    "name": "ipython",
    "version": 3
   },
   "file_extension": ".py",
   "mimetype": "text/x-python",
   "name": "python",
   "nbconvert_exporter": "python",
   "pygments_lexer": "ipython3",
   "version": "3.10.4"
  },
  "orig_nbformat": 4,
  "vscode": {
   "interpreter": {
    "hash": "5df21a170a08fe7c24b5b1091267edae5bad3984f1116f28e957af7dd8f192dc"
   }
  }
 },
 "nbformat": 4,
 "nbformat_minor": 2
}
