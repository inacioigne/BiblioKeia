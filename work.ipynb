{
 "cells": [
  {
   "cell_type": "code",
   "execution_count": 1,
   "metadata": {},
   "outputs": [],
   "source": [
    "from pydantic import BaseModel, validator, Field\n",
    "from typing import Optional, Union\n",
    "from pyfuseki import FusekiUpdate\n",
    "import json\n",
    "from datetime import date, datetime\n",
    "from api.src.function.bibframe.Work.graph import MakeGraph\n",
    "import httpx\n",
    "\n",
    "import pysolr  "
   ]
  },
  {
   "cell_type": "code",
   "execution_count": 1,
   "metadata": {},
   "outputs": [],
   "source": [
    "from rdflib import Graph\n",
    "from api.src.schemas.bibframe.work import Work\n",
    "from api.src.function.loc.bibframe.getType import GetType\n",
    "from pydantic import BaseModel"
   ]
  },
  {
   "cell_type": "code",
   "execution_count": 13,
   "metadata": {},
   "outputs": [],
   "source": [
    "from api.src.schemas.metadata.bibframe.adminMetadata import AdminMetadata\n",
    "from api.src.schemas.metadata.bibframe.classification import Classification\n",
    "from api.src.schemas.metadata.bibframe.content import Content\n",
    "from api.src.schemas.metadata.bibframe.contribution import Contribution\n",
    "\n",
    "class Work(BaseModel):\n",
    "    adminMetadata: AdminMetadata\n",
    "    type: list[str]\n",
    "    classification: Classification\n",
    "    content: Content\n",
    "    contribution: list[Contribution]\n",
    "    # genreForm: Optional[list[GenreForm]]\n",
    "    # language: list[Language]\n",
    "    # note: Optional[str]\n",
    "    # summary: Optional[str]\n",
    "    # title: Title\n",
    "    # subject: list[Topic]\n",
    "    # illustrativeContent: Optional[list[Illustration]]\n",
    "    # supplementaryContent: Optional[list[SupplementaryContent]]\n",
    "    # expressionOf: Optional[str]\n",
    "    # hasInstance: Optional[str]\n",
    "\n",
    "obj = {\n",
    "    'adminMetadata': {\n",
    "        'identifiedBy': [ \n",
    "            {\n",
    "                \"type\": \"Local\",\n",
    "            \"assigner\": \"http://id.loc.gov/vocabulary/organizations/dlc\",\n",
    "            \"value\": \"22600263\"\n",
    "            }\n",
    "        ]\n",
    "    },\n",
    "    \"type\": [\n",
    "        \"Work\"\n",
    "    ]\n",
    "}\n",
    "# r = Work(**obj)\n",
    "# r"
   ]
  },
  {
   "cell_type": "code",
   "execution_count": 3,
   "metadata": {},
   "outputs": [
    {
     "data": {
      "text/plain": [
       "<Graph identifier=N876b20f804e4464cb04abee09b35e609 (<class 'rdflib.graph.Graph'>)>"
      ]
     },
     "execution_count": 3,
     "metadata": {},
     "output_type": "execute_result"
    }
   ],
   "source": [
    "graph = Graph()\n",
    "uri = 'http://id.loc.gov/resources/works/22600263'\n",
    "graph.parse(f'{uri}.rdf')\n",
    "# g.serialize('work.ttl', format='ttl')"
   ]
  },
  {
   "cell_type": "code",
   "execution_count": 26,
   "metadata": {},
   "outputs": [
    {
     "data": {
      "text/plain": [
       "['Work', 'Text', 'Monograph']"
      ]
     },
     "execution_count": 26,
     "metadata": {},
     "output_type": "execute_result"
    }
   ],
   "source": [
    "GetType(graph, uri)"
   ]
  },
  {
   "cell_type": "code",
   "execution_count": 14,
   "metadata": {},
   "outputs": [
    {
     "data": {
      "text/plain": [
       "[{rdflib.term.Variable('agent'): rdflib.term.URIRef('http://id.loc.gov/rwo/agents/n86870523'), rdflib.term.Variable('role'): rdflib.term.URIRef('http://id.loc.gov/vocabulary/relators/aut'), rdflib.term.Variable('type'): rdflib.term.URIRef('http://id.loc.gov/ontologies/bibframe/Contribution')},\n",
       " {rdflib.term.Variable('agent'): rdflib.term.URIRef('http://id.loc.gov/rwo/agents/n86870523'), rdflib.term.Variable('role'): rdflib.term.URIRef('http://id.loc.gov/vocabulary/relators/aut'), rdflib.term.Variable('type'): rdflib.term.URIRef('http://id.loc.gov/ontologies/bflc/PrimaryContribution')}]"
      ]
     },
     "execution_count": 14,
     "metadata": {},
     "output_type": "execute_result"
    }
   ],
   "source": [
    "def GetContent(graph, uri, obj):\n",
    "\n",
    "  labels = { 'txt': 'Texto'}\n",
    "\n",
    "  q = f\"\"\"PREFIX skos: <http://www.w3.org/2004/02/skos/core#>\n",
    "              PREFIX rdf: <http://www.w3.org/1999/02/22-rdf-syntax-ns#>\n",
    "              PREFIX madsrdf: <http://www.loc.gov/mads/rdf/v1#>\n",
    "              SELECT ?type ?agent ?role\n",
    "                WHERE {{ \n",
    "                  <{uri}> bf:contribution ?contribution .\n",
    "              ?contribution rdf:type ?type .\n",
    "              ?contribution bf:agent ?agent .\n",
    "              ?contribution bf:role ?role\n",
    "                  }}\"\"\"\n",
    "  response = graph.query(q)\n",
    "  bindings = response.bindings\n",
    "  # if len(bindings) > 0:\n",
    "  #   binding = bindings[0]\n",
    "  #   valeu = binding.get('content').toPython()\n",
    "  #   code = valeu.split('/')[-1]\n",
    "  #   content = {\n",
    "  #     'value': valeu,\n",
    "  #     'label': labels[code]\n",
    "  #     }\n",
    "  #   obj['content'] = content\n",
    "    \n",
    "  return bindings\n",
    "\n",
    "bindings = GetContent(graph, uri, obj)\n",
    "bindings"
   ]
  },
  {
   "cell_type": "code",
   "execution_count": 12,
   "metadata": {},
   "outputs": [
    {
     "data": {
      "text/plain": [
       "{'adminMetadata': {'encodingLevel': 'menclvl:f',\n",
       "  'assigner': 'http://id.loc.gov/vocabulary/organizations/brmninpa',\n",
       "  'creationDate': '2023-06-02',\n",
       "  'descriptionConventions': 'http://id.loc.gov/vocabulary/descriptionConventions/isbd',\n",
       "  'descriptionModifier': 'http://id.loc.gov/vocabulary/organizations/brmninpa',\n",
       "  'descriptionLanguage': 'http://id.loc.gov/vocabulary/languages/por',\n",
       "  'generationProcess': {'label': 'BiblioKeia',\n",
       "   'generationDate': '2023-06-02T16:16:41'},\n",
       "  'identifiedBy': [{'type': 'Local',\n",
       "    'assigner': 'http://id.loc.gov/vocabulary/organizations/dlc',\n",
       "    'value': '22600263'}],\n",
       "  'status': {'value': 'mstatus:new', 'label': 'novo'}},\n",
       " 'type': ['Work', 'Text', 'Monograph'],\n",
       " 'classification': {'type': 'ClassificationDdc',\n",
       "  'classificationPortion': '338.9001',\n",
       "  'itemPortion': None,\n",
       "  'edition': 'full'},\n",
       " 'content': {'label': 'Texto',\n",
       "  'value': 'http://id.loc.gov/vocabulary/contentTypes/txt'}}"
      ]
     },
     "execution_count": 12,
     "metadata": {},
     "output_type": "execute_result"
    }
   ],
   "source": [
    "from api.src.function.loc.bibframe.getClassification import GetClassification\n",
    "\n",
    "\n",
    "def ParserWork(graph, uri):\n",
    "    identifier = uri.split(\"/\")[-1]\n",
    "    types = GetType(graph, uri)\n",
    "\n",
    "    obj = {\n",
    "    'adminMetadata': {\n",
    "        'generationProcess': {\n",
    "            'label': 'BiblioKeia'\n",
    "        },\n",
    "        'identifiedBy': [ \n",
    "            {\n",
    "                \"type\": \"Local\",\n",
    "            \"assigner\": \"http://id.loc.gov/vocabulary/organizations/dlc\",\n",
    "            \"value\": identifier\n",
    "            }\n",
    "        ]\n",
    "    },\n",
    "    \"type\": types\n",
    "    }\n",
    "    # Classification\n",
    "    obj = GetClassification(graph, uri, obj)\n",
    "    # Content\n",
    "    obj = GetContent(graph, uri, obj)\n",
    "\n",
    "    \n",
    "\n",
    "\n",
    "    response = Work(**obj)\n",
    "    return response\n",
    "\n",
    "response = ParserWork(graph, uri)\n",
    "response.dict()\n",
    "    "
   ]
  },
  {
   "cell_type": "code",
   "execution_count": 12,
   "metadata": {},
   "outputs": [
    {
     "ename": "NameError",
     "evalue": "name 'authority' is not defined",
     "output_type": "error",
     "traceback": [
      "\u001b[1;31m---------------------------------------------------------------------------\u001b[0m",
      "\u001b[1;31mNameError\u001b[0m                                 Traceback (most recent call last)",
      "\u001b[1;32mc:\\Users\\Usuário\\Desktop\\BiblioKeia\\work.ipynb Cell 7\u001b[0m in \u001b[0;36m<cell line: 1>\u001b[1;34m()\u001b[0m\n\u001b[1;32m----> <a href='vscode-notebook-cell:/c%3A/Users/Usu%C3%A1rio/Desktop/BiblioKeia/work.ipynb#X44sZmlsZQ%3D%3D?line=0'>1</a>\u001b[0m authority\n",
      "\u001b[1;31mNameError\u001b[0m: name 'authority' is not defined"
     ]
    }
   ],
   "source": [
    "authority"
   ]
  },
  {
   "cell_type": "code",
   "execution_count": 27,
   "metadata": {},
   "outputs": [
    {
     "data": {
      "text/plain": [
       "{'classification': {'classificationPortion': '338.9001',\n",
       "  'itemPortion': None,\n",
       "  'edition': 'full'}}"
      ]
     },
     "execution_count": 27,
     "metadata": {},
     "output_type": "execute_result"
    }
   ],
   "source": [
    "\n",
    "\n",
    "  # tipo = r.bindings[0].get('type').split(\"#\")[1]\n",
    "  \n",
    "  return r\n",
    "\n",
    "obj = GetClassification(graph, uri, {})\n",
    "obj"
   ]
  },
  {
   "cell_type": "code",
   "execution_count": 24,
   "metadata": {},
   "outputs": [],
   "source": [
    "response.get('itemPortion')"
   ]
  },
  {
   "cell_type": "code",
   "execution_count": 4,
   "metadata": {},
   "outputs": [
    {
     "data": {
      "text/plain": [
       "{'statusCode': 200, 'message': 'Update succeeded'}"
      ]
     },
     "execution_count": 4,
     "metadata": {},
     "output_type": "execute_result"
    }
   ],
   "source": [
    "fuseki_update = FusekiUpdate('http://localhost:3030', 'acervo')\n",
    "\n",
    "response = fuseki_update.run_sparql(graph)\n",
    "response.convert()"
   ]
  },
  {
   "cell_type": "code",
   "execution_count": 11,
   "metadata": {},
   "outputs": [
    {
     "data": {
      "text/plain": [
       "{'statusCode': 200, 'message': 'Update succeeded'}"
      ]
     },
     "execution_count": 11,
     "metadata": {},
     "output_type": "execute_result"
    }
   ],
   "source": [
    "fuseki_update = FusekiUpdate('http://localhost:3030', 'acervo')\n",
    "d = \"\"\"DELETE { graph ?g { ?s ?p ?o } } \n",
    "        WHERE {\n",
    "        graph ?g {?s ?p ?o.}\n",
    "        }\"\"\"\n",
    "\n",
    "response = fuseki_update.run_sparql(d)\n",
    "response.convert()"
   ]
  },
  {
   "attachments": {},
   "cell_type": "markdown",
   "metadata": {},
   "source": [
    "Exemple Work Loc"
   ]
  },
  {
   "cell_type": "code",
   "execution_count": 53,
   "metadata": {},
   "outputs": [
    {
     "data": {
      "text/plain": [
       "<Graph identifier=N6e8f6b25d8384e1585946c4b1a9f8153 (<class 'rdflib.graph.Graph'>)>"
      ]
     },
     "execution_count": 53,
     "metadata": {},
     "output_type": "execute_result"
    }
   ],
   "source": [
    "g = Graph()\n",
    "g.parse('https://www.loc.gov/standards/mads/rdf/v1/examples/oca08651008.nt', format='nt')"
   ]
  },
  {
   "cell_type": "code",
   "execution_count": 54,
   "metadata": {},
   "outputs": [
    {
     "data": {
      "text/plain": [
       "<Graph identifier=N6e8f6b25d8384e1585946c4b1a9f8153 (<class 'rdflib.graph.Graph'>)>"
      ]
     },
     "execution_count": 54,
     "metadata": {},
     "output_type": "execute_result"
    }
   ],
   "source": [
    "g.serialize('EX_NAME.ttl', format='ttl')"
   ]
  },
  {
   "attachments": {},
   "cell_type": "markdown",
   "metadata": {},
   "source": [
    "GET WORK"
   ]
  },
  {
   "cell_type": "code",
   "execution_count": 45,
   "metadata": {},
   "outputs": [
    {
     "data": {
      "text/plain": [
       "<Response [200 OK]>"
      ]
     },
     "execution_count": 45,
     "metadata": {},
     "output_type": "execute_result"
    }
   ],
   "source": [
    "response = httpx.get('http://localhost:3030/authorities?graph=https://bibliokeia.com/authorities/name/n80002329')\n",
    "response"
   ]
  },
  {
   "cell_type": "code",
   "execution_count": 46,
   "metadata": {},
   "outputs": [
    {
     "data": {
      "text/plain": [
       "<Graph identifier=Nc7fd2ec4e1e541edbd048c09e685ea53 (<class 'rdflib.graph.Graph'>)>"
      ]
     },
     "execution_count": 46,
     "metadata": {},
     "output_type": "execute_result"
    }
   ],
   "source": [
    "g = Graph()\n",
    "g.parse(response.content)\n",
    "g.serialize('name.ttl', format='ttl')"
   ]
  },
  {
   "cell_type": "code",
   "execution_count": 8,
   "metadata": {},
   "outputs": [
    {
     "data": {
      "text/plain": [
       "<Graph identifier=Na2c213dac7fc4260b1e9a3ce33f14215 (<class 'rdflib.graph.Graph'>)>"
      ]
     },
     "execution_count": 8,
     "metadata": {},
     "output_type": "execute_result"
    }
   ],
   "source": [
    "g.serialize('bk.rdf', format='xml')"
   ]
  },
  {
   "cell_type": "code",
   "execution_count": 51,
   "metadata": {},
   "outputs": [
    {
     "name": "stdout",
     "output_type": "stream",
     "text": [
      "https://bibliokeia.com/authorities/name/n80002329\n"
     ]
    }
   ],
   "source": [
    "for contribution in request.contribution:\n",
    "    print(contribution.agent)"
   ]
  },
  {
   "cell_type": "code",
   "execution_count": 42,
   "metadata": {},
   "outputs": [
    {
     "name": "stdout",
     "output_type": "stream",
     "text": [
      "{'statusCode': 200, 'message': 'Update succeeded'}\n"
     ]
    }
   ],
   "source": [
    "fuseki_authorities = FusekiUpdate('http://localhost:3030', 'authorities')\n",
    "subjectOf = \"\"\"PREFIX graph: <https://bibliokeia.com/authorities/topic/>\n",
    "            PREFIX bf: <http://id.loc.gov/ontologies/bibframe/>\n",
    "\n",
    "                INSERT DATA\n",
    "                    {{ GRAPH <{subject}> {{ \n",
    "                        <{subject}>  bf:contributionOf   <https://bibliokeia.com/resources/work/{id}> }} }} ; \"\"\"\n",
    "for i in request.subject:\n",
    "    up = subjectOf.format(subject=i.value, id=\"bk-1\")\n",
    "    response = fuseki_authorities.run_sparql(up)\n",
    "    print(response.convert())"
   ]
  },
  {
   "cell_type": "code",
   "execution_count": 32,
   "metadata": {},
   "outputs": [
    {
     "data": {
      "text/plain": [
       "<SPARQLWrapper.Wrapper.QueryResult at 0x1f996290b50>"
      ]
     },
     "execution_count": 32,
     "metadata": {},
     "output_type": "execute_result"
    }
   ],
   "source": [
    "fuseki_authorities = FusekiUpdate('http://localhost:3030', 'authorities')\n",
    "subjectOf = f\"\"\"PREFIX graph: <https://bibliokeia.com/authorities/topic/>\n",
    "            PREFIX bf: <http://id.loc.gov/ontologies/bibframe/>\n",
    "\n",
    "                INSERT DATA\n",
    "                    {{ GRAPH graph:sh85017405 {{ \n",
    "                        graph:sh85017405  bf:subjectOf <https://bibliokeia.com/resources/work/bk-2> }} }} ; \"\"\"\n",
    "fuseki_authorities.run_sparql(subjectOf)"
   ]
  },
  {
   "attachments": {},
   "cell_type": "markdown",
   "metadata": {},
   "source": [
    "SOLR"
   ]
  },
  {
   "cell_type": "code",
   "execution_count": 40,
   "metadata": {},
   "outputs": [
    {
     "data": {
      "text/plain": [
       "[GenreForm(label='Ficção', value='genreForms:gf2014026339')]"
      ]
     },
     "execution_count": 40,
     "metadata": {},
     "output_type": "execute_result"
    }
   ],
   "source": [
    "request.genreForm"
   ]
  },
  {
   "cell_type": "code",
   "execution_count": 41,
   "metadata": {},
   "outputs": [
    {
     "data": {
      "text/plain": [
       "{'id': 'bk-1',\n",
       " 'type': ['Monograph', 'Text', 'Work'],\n",
       " 'creationDate': '2023-04-20',\n",
       " 'status': 'novo',\n",
       " 'cdd': '869.3',\n",
       " 'cutter': 'M513',\n",
       " 'content': ['texto', 'Imagem'],\n",
       " 'contribution': [{'id': 'bk-1!n80002329',\n",
       "   'type': ['bf:Contribution', 'bflc:PrimaryContribution'],\n",
       "   'agent': 'https://bibliokeia.com/authorities/name/n80002329',\n",
       "   'label': 'Machado de Assis',\n",
       "   'role': 'relators:aut'}],\n",
       " 'genreForm': ['Ficção']}"
      ]
     },
     "execution_count": 41,
     "metadata": {},
     "output_type": "execute_result"
    }
   ],
   "source": [
    "id = 'bk-1'\n",
    "doc = {\n",
    "    'id': id,\n",
    "    'type': [i.replace(\"bf:\", \"\") for i in request.type],\n",
    "    'creationDate': request.adminMetadata.creationDate,\n",
    "    'status': request.adminMetadata.status.label,\n",
    "    'cdd': request.classification.classificationPortion,\n",
    "    'cutter': request.classification.itemPortion,\n",
    "    'content': [content.label for content in request.content],\n",
    "    'contribution': [{'id':f'{id}!{contribution.agent.split(\"/\")[-1]}', **contribution.dict()} for contribution in request.contribution],\n",
    "    'genreForm': [genreForm.label for genreForm in request.genreForm ]\n",
    "}\n",
    "doc"
   ]
  },
  {
   "cell_type": "code",
   "execution_count": 42,
   "metadata": {},
   "outputs": [
    {
     "data": {
      "text/plain": [
       "'{\\n  \"responseHeader\":{\\n    \"status\":0,\\n    \"QTime\":128}}\\n'"
      ]
     },
     "execution_count": 42,
     "metadata": {},
     "output_type": "execute_result"
    }
   ],
   "source": [
    "solr = pysolr.Solr('http://localhost:8983/solr/acervo/', timeout=10)\n",
    "r = solr.add([doc], commit=True)\n",
    "r"
   ]
  },
  {
   "cell_type": "code",
   "execution_count": 32,
   "metadata": {},
   "outputs": [
    {
     "data": {
      "text/plain": [
       "'<?xml version=\"1.0\" encoding=\"UTF-8\"?>\\n<response>\\n\\n<lst name=\"responseHeader\">\\n  <int name=\"status\">0</int>\\n  <int name=\"QTime\">44</int>\\n</lst>\\n</response>\\n'"
      ]
     },
     "execution_count": 32,
     "metadata": {},
     "output_type": "execute_result"
    }
   ],
   "source": [
    "solr.delete(q=\"*:*\", commit=True)"
   ]
  },
  {
   "cell_type": "code",
   "execution_count": null,
   "metadata": {},
   "outputs": [],
   "source": []
  }
 ],
 "metadata": {
  "kernelspec": {
   "display_name": "Python 3.11.0 ('venv': venv)",
   "language": "python",
   "name": "python3"
  },
  "language_info": {
   "codemirror_mode": {
    "name": "ipython",
    "version": 3
   },
   "file_extension": ".py",
   "mimetype": "text/x-python",
   "name": "python",
   "nbconvert_exporter": "python",
   "pygments_lexer": "ipython3",
   "version": "3.10.4"
  },
  "orig_nbformat": 4,
  "vscode": {
   "interpreter": {
    "hash": "5df21a170a08fe7c24b5b1091267edae5bad3984f1116f28e957af7dd8f192dc"
   }
  }
 },
 "nbformat": 4,
 "nbformat_minor": 2
}
