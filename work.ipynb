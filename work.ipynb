{
 "cells": [
  {
   "cell_type": "code",
   "execution_count": 1,
   "metadata": {},
   "outputs": [],
   "source": [
    "from rdflib import Graph\n",
    "from pydantic import BaseModel, validator, Field\n",
    "from typing import Optional, Union\n",
    "from pyfuseki import FusekiUpdate\n",
    "import json\n",
    "from datetime import date, datetime\n",
    "from api.src.function.bibframe.Work.graph import MakeGraph"
   ]
  },
  {
   "cell_type": "code",
   "execution_count": 13,
   "metadata": {},
   "outputs": [
    {
     "data": {
      "text/plain": [
       "<Graph identifier=Ndb10cfee2b03453fae2c7e1315f6c14e (<class 'rdflib.graph.Graph'>)>"
      ]
     },
     "execution_count": 13,
     "metadata": {},
     "output_type": "execute_result"
    }
   ],
   "source": [
    "g = Graph()\n",
    "g.parse('preview.rdf')"
   ]
  },
  {
   "cell_type": "code",
   "execution_count": 14,
   "metadata": {},
   "outputs": [
    {
     "data": {
      "text/plain": [
       "<Graph identifier=Ndb10cfee2b03453fae2c7e1315f6c14e (<class 'rdflib.graph.Graph'>)>"
      ]
     },
     "execution_count": 14,
     "metadata": {},
     "output_type": "execute_result"
    }
   ],
   "source": [
    "g.serialize('preview.ttl', format='ttl')"
   ]
  },
  {
   "cell_type": "code",
   "execution_count": 2,
   "metadata": {},
   "outputs": [],
   "source": [
    "with open('api/src/config/authorized_values.json') as file:\n",
    "    reader = file.read()\n",
    "    vocabulary = json.loads(reader)\n",
    "    file.close()"
   ]
  },
  {
   "cell_type": "code",
   "execution_count": 3,
   "metadata": {},
   "outputs": [],
   "source": [
    "class GenerationProcess(BaseModel):\n",
    "    label: str = Field(default=\"BiblioKeia v.1\")\n",
    "    generationDate: Optional[str]\n",
    "\n",
    "    @validator('generationDate', pre=True, always=True)\n",
    "    def set_date_now(cls, v):\n",
    "        now = datetime.now().strftime('%d-%m-%YT%H:%M:%S')\n",
    "        \n",
    "        return now"
   ]
  },
  {
   "cell_type": "code",
   "execution_count": 4,
   "metadata": {},
   "outputs": [],
   "source": [
    "class AdminMetadata(BaseModel):\n",
    "    encodingLevel: str = Field(default=\"menclvl:f\")\n",
    "    assigner: str = Field(default=\"http://id.loc.gov/vocabulary/organizations/brmninpa\")\n",
    "    creationDate: Optional[str]\n",
    "    descriptionConventions: str = Field(default=\"http://id.loc.gov/vocabulary/descriptionConventions/isbd\")\n",
    "    descriptionLanguage: str = Field(default=\"http://id.loc.gov/vocabulary/languages/por\")\n",
    "    generationProcess: Optional[GenerationProcess]\n",
    "    status: str = Field(default=\"mstatus:new\")\n",
    "\n",
    "    _status = vocabulary['mstatus']\n",
    "    \n",
    "    _level = vocabulary['menclvl']\n",
    "\n",
    "    @validator('status')\n",
    "    def status_accepted(cls, v):\n",
    "        if v not in cls._status:\n",
    "            raise ValueError(f\"the status code must be one of the following : {', '.join(cls._status)}\")\n",
    "        return v\n",
    "    \n",
    "    @validator('encodingLevel')\n",
    "    def level_accepted(cls, v):\n",
    "        if v not in cls._level:\n",
    "            raise ValueError(f\"the level code must be one of the following : {', '.join(cls._level)}\")\n",
    "        return v\n",
    "\n",
    "    @validator('creationDate', pre=True, always=True)\n",
    "    def set_date_today(cls, v):\n",
    "        today = date.today().strftime(\"%d-%m-%Y\")\n",
    "        \n",
    "        return today"
   ]
  },
  {
   "cell_type": "code",
   "execution_count": 5,
   "metadata": {},
   "outputs": [],
   "source": [
    "class Classification(BaseModel):\n",
    "    classificationPortion: str\n",
    "    itemPortion: str\n",
    "    edition: int"
   ]
  },
  {
   "cell_type": "code",
   "execution_count": 6,
   "metadata": {},
   "outputs": [],
   "source": [
    "class Contribution(BaseModel):\n",
    "    type: list[str]\n",
    "    agent: str\n",
    "    role: str\n",
    "\n",
    "    _type = [\"bf:Contribution\", \"bflc:PrimaryContribution\" ]\n",
    "    _role = vocabulary['relators']\n",
    "\n",
    "    @validator('type')\n",
    "    def type_accepted(cls, v):\n",
    "        for i in v:\n",
    "            if i not in cls._type:\n",
    "                raise ValueError(f\"the type code must be one of the following : {', '.join(cls._type)}\")\n",
    "        return v\n",
    "    \n",
    "    @validator('role')\n",
    "    def role_accepted(cls, v):\n",
    "        if v not in cls._role:\n",
    "            raise ValueError(f\"the role is not permited\")\n",
    "        return v"
   ]
  },
  {
   "cell_type": "code",
   "execution_count": 7,
   "metadata": {},
   "outputs": [],
   "source": [
    "class Language(BaseModel):\n",
    "    type: str = Field(default=\"bf:Language\")\n",
    "    part: Optional[str] \n",
    "    value: str\n",
    "    label: str"
   ]
  },
  {
   "cell_type": "code",
   "execution_count": 12,
   "metadata": {},
   "outputs": [],
   "source": [
    "class Note(BaseModel):\n",
    "    type: str = Field(default=\"bf:Note\")\n",
    "    label: str"
   ]
  },
  {
   "cell_type": "code",
   "execution_count": 13,
   "metadata": {},
   "outputs": [],
   "source": [
    "class Work(BaseModel):\n",
    "    type: list[str]\n",
    "    adminMetadata: AdminMetadata\n",
    "    classification: Classification\n",
    "    content: str = Field(default=\"contentTypes:txt\")\n",
    "    contribution: list[Contribution]\n",
    "    genreForm: Optional[str]\n",
    "    language: list[Language]\n",
    "    note: Optional[Note]\n",
    "    expressionOf: Optional[str]\n",
    "    hasInstance: Optional[str]\n",
    "\n",
    "    _content = vocabulary['contentTypes']\n",
    "\n",
    "    @validator('content')\n",
    "    def content_accepted(cls, v):\n",
    "        if v not in cls._content:\n",
    "            raise ValueError(f\"the content code must be one of the following : {', '.join(cls._content)}\")\n",
    "        return v"
   ]
  },
  {
   "cell_type": "code",
   "execution_count": 14,
   "metadata": {},
   "outputs": [
    {
     "data": {
      "text/plain": [
       "Work(type=['bf:Monograph', 'bf:Text', 'bf:Work'], adminMetadata=AdminMetadata(encodingLevel='menclvl:1', assigner='http://id.loc.gov/vocabulary/organizations/brmninpa', creationDate='18-04-2023', descriptionConventions='http://id.loc.gov/vocabulary/descriptionConventions/isbd', descriptionLanguage='http://id.loc.gov/vocabulary/languages/por', generationProcess=GenerationProcess(label='BiblioKeia', generationDate='18-04-2023T16:29:56'), status='mstatus:new'), classification=Classification(classificationPortion='869.3', itemPortion='M513', edition=23), content='contentTypes:txt', contribution=[Contribution(type=['bf:Contribution'], agent='http://id.loc.gov/rwo/agents/no2015001378', role='relators:trl'), Contribution(type=['bf:Contribution', 'bflc:PrimaryContribution'], agent='http://id.loc.gov/rwo/agents/n80002329', role='relators:aut')], genreForm='genreForms:gf2014026339', language=[Language(type='bf:Language', part='Original', value='http://id.loc.gov/vocabulary/languages/por', label='PortuguÃªs'), Language(type='bf:Language', part=None, value='http://id.loc.gov/vocabulary/languages/eng', label='InglÃªs')], note=Note(type='bf:Note', label='Includes translation'), expressionOf=None, hasInstance=None)"
      ]
     },
     "execution_count": 14,
     "metadata": {},
     "output_type": "execute_result"
    }
   ],
   "source": [
    "with open('work.json') as file:\n",
    "    reader = file.read()\n",
    "    work = json.loads(reader)\n",
    "    file.close()\n",
    "request = Work(**work)\n",
    "request"
   ]
  },
  {
   "cell_type": "code",
   "execution_count": 15,
   "metadata": {},
   "outputs": [
    {
     "data": {
      "text/plain": [
       "Note(type='bf:Note', label='Includes translation')"
      ]
     },
     "execution_count": 15,
     "metadata": {},
     "output_type": "execute_result"
    }
   ],
   "source": [
    "request.note"
   ]
  },
  {
   "cell_type": "code",
   "execution_count": 10,
   "metadata": {},
   "outputs": [
    {
     "data": {
      "text/plain": [
       "'[ a ns1:Language ;\\n                bf:part \"Original\" ;\\n                rdf:value <http://id.loc.gov/vocabulary/languages/por> ], [ a ns1:Language ;\\n                \\n                rdf:value <http://id.loc.gov/vocabulary/languages/eng> ]'"
      ]
     },
     "execution_count": 10,
     "metadata": {},
     "output_type": "execute_result"
    }
   ],
   "source": [
    "def MakeLanguage(languages): \n",
    "        listLanguages = list()\n",
    "        for i in languages: \n",
    "                l = f\"\"\"[ a ns1:Language ;\n",
    "                { f'bf:part \"{i.part}\" ;' if i.part else ''}\n",
    "                rdf:value <{i.value}> ]\"\"\"\n",
    "                listLanguages.append(l)\n",
    "        language = \", \".join(listLanguages)\n",
    "\n",
    "        return language\n",
    "language = MakeLanguage(request.language)\n",
    "language"
   ]
  },
  {
   "cell_type": "code",
   "execution_count": 11,
   "metadata": {},
   "outputs": [
    {
     "name": "stdout",
     "output_type": "stream",
     "text": [
      "PREFIX rdf: <http://www.w3.org/1999/02/22-rdf-syntax-ns#>\n",
      "    PREFIX xsd: <http://www.w3.org/2001/XMLSchema#>\n",
      "    PREFIX rdfs: <http://www.w3.org/2000/01/rdf-schema#>\n",
      "    PREFIX bf: <http://id.loc.gov/ontologies/bibframe/>\n",
      "    PREFIX madsrdf: <http://www.loc.gov/mads/rdf/v1#>\n",
      "    PREFIX bflc: <http://id.loc.gov/ontologies/bflc/> \n",
      "    PREFIX bkw: <https://bibliokeia.com/resources/work/> \n",
      "    PREFIX menclvl: <http://id.loc.gov/vocabulary/menclvl/>\n",
      "    PREFIX mstatus: <http://id.loc.gov/vocabulary/mstatus/>\n",
      "    PREFIX contentTypes: <http://id.loc.gov/vocabulary/contentTypes/>\n",
      "    PREFIX relators: <http://id.loc.gov/vocabulary/relators/>\n",
      "    PREFIX genreForms: <http://id.loc.gov/authorities/genreForms/>\n",
      "        \n",
      "    INSERT DATA {\n",
      "        GRAPH bkw:bk-1\n",
      "        { \n",
      "           bkw:bk-1 a bf:Monograph, bf:Text, bf:Work  ;\n",
      "           bf:adminMetadata [ a bf:AdminMetadata ;\n",
      "            bflc:encodingLevel menclvl:1 ;\n",
      "            bf:assigner <http://id.loc.gov/vocabulary/organizations/brmninpa> ;    \n",
      "            bf:creationDate \"18-04-2023\"^^xsd:date ;    \n",
      "            bf:descriptionConventions <http://id.loc.gov/vocabulary/descriptionConventions/isbd> ;\n",
      "            bf:descriptionLanguage <http://id.loc.gov/vocabulary/languages/por> ;\n",
      "            bf:generationProcess [ a bf:GenerationProcess ;\n",
      "                    rdfs:label \"BiblioKeia\" ;\n",
      "                    bf:generationDate \"18-04-2023T16:24:26\"^^xsd:dateTime ] ;\n",
      "            bf:identifiedBy [ a bf:Local ;\n",
      "                    bf:assigner <http://id.loc.gov/vocabulary/organizations/brmninpa> ;\n",
      "                    rdf:value \"bk-1\" ] ;\n",
      "            bf:status mstatus:new ] ;\n",
      "        bf:classification [ a bf:ClassificationDdc ;\n",
      "                bf:assigner <http://id.loc.gov/vocabulary/organizations/brmninpa> ;\n",
      "                bf:classificationPortion \"869.3\" ;\n",
      "                bf:itemPortion \"M513\" ;\n",
      "                bf:source [ a bf:Source ;\n",
      "                    bf:code \"23\" ] ] ;\n",
      "        bf:content contentTypes:txt ;\n",
      "        bf:contribution  [ a bf:Contribution ;\n",
      "                bf:agent <http://id.loc.gov/rwo/agents/no2015001378> ;\n",
      "                bf:role relators:trl ], [ a bf:Contribution, bflc:PrimaryContribution ;\n",
      "                bf:agent <http://id.loc.gov/rwo/agents/n80002329> ;\n",
      "                bf:role relators:aut ]\n",
      "        bf:genreForm genreForms:gf2014026339 ;\n",
      "        bf:language [ a bf:Language ;\n",
      "                bf:part \"Original\" ;\n",
      "                rdf:value <http://id.loc.gov/vocabulary/languages/por> ;\n",
      "                rdfs:label \"PortuguÃªs\" ], [ a bf:Language ;\n",
      "                \n",
      "                rdf:value <http://id.loc.gov/vocabulary/languages/eng> ;\n",
      "                rdfs:label \"InglÃªs\" ]\n",
      "        \n",
      "        \n",
      "       \n",
      "\n",
      "        } \n",
      "        }\n",
      "        \n"
     ]
    }
   ],
   "source": [
    "request = Work(**work)\n",
    "graph = MakeGraph(request, 'bk-1')\n",
    "print(graph)"
   ]
  },
  {
   "cell_type": "code",
   "execution_count": 11,
   "metadata": {},
   "outputs": [
    {
     "name": "stdout",
     "output_type": "stream",
     "text": [
      "[ a bf:Contribution ;\n",
      "                bf:agent <http://id.loc.gov/rwo/agents/no2015001378> ;\n",
      "                bf:role relators:trl ], [ a bf:Contribution, bflc:PrimaryContribution ;\n",
      "                bf:agent <http://id.loc.gov/rwo/agents/n80002329> ;\n",
      "                bf:role relators:aut ]\n"
     ]
    }
   ],
   "source": []
  },
  {
   "cell_type": "code",
   "execution_count": 12,
   "metadata": {},
   "outputs": [
    {
     "name": "stdout",
     "output_type": "stream",
     "text": [
      "PREFIX rdf: <http://www.w3.org/1999/02/22-rdf-syntax-ns#>\n",
      "    PREFIX xsd: <http://www.w3.org/2001/XMLSchema#>\n",
      "    PREFIX rdfs: <http://www.w3.org/2000/01/rdf-schema#>\n",
      "    PREFIX bf: <http://id.loc.gov/ontologies/bibframe/>\n",
      "    PREFIX madsrdf: <http://www.loc.gov/mads/rdf/v1#>\n",
      "    PREFIX bflc: <http://id.loc.gov/ontologies/bflc/> \n",
      "    PREFIX bkw: <https://bibliokeia.com/resources/work/> \n",
      "    PREFIX menclvl: <http://id.loc.gov/vocabulary/menclvl/>\n",
      "    PREFIX mstatus: <http://id.loc.gov/vocabulary/mstatus/>\n",
      "    PREFIX contentTypes: <http://id.loc.gov/vocabulary/contentTypes/>\n",
      "    PREFIX relators: <http://id.loc.gov/vocabulary/relators/>\n",
      "    \n",
      "        \n",
      "    INSERT DATA {\n",
      "        GRAPH bkw:bk-2\n",
      "        { \n",
      "           bkw:bk-2 a bf:Monograph, bf:Text, bf:Work  ;\n",
      "           bf:adminMetadata [ a bf:AdminMetadata ;\n",
      "            bflc:encodingLevel menclvl:1 ;\n",
      "            bf:assigner <http://id.loc.gov/vocabulary/organizations/brmninpa> ;    \n",
      "            bf:creationDate \"18-04-2023\"^^xsd:date ;    \n",
      "            bf:descriptionConventions <http://id.loc.gov/vocabulary/descriptionConventions/isbd> ;\n",
      "            bf:descriptionLanguage <http://id.loc.gov/vocabulary/languages/por> ;\n",
      "            bf:generationProcess [ a bf:GenerationProcess ;\n",
      "                    rdfs:label \"BiblioKeia\" ;\n",
      "                    bf:generationDate \"18-04-2023T14:23:11\"^^xsd:dateTime ] ;\n",
      "            bf:identifiedBy [ a bf:Local ;\n",
      "                    bf:assigner <http://id.loc.gov/vocabulary/organizations/brmninpa> ;\n",
      "                    rdf:value \"bk-2\" ] ;\n",
      "            bf:status mstatus:new ] ;\n",
      "        bf:classification [ a bf:ClassificationDdc ;\n",
      "                bf:assigner <http://id.loc.gov/vocabulary/organizations/brmninpa> ;\n",
      "                bf:classificationPortion \"869.3\" ;\n",
      "                bf:itemPortion \"M513\" ;\n",
      "                bf:source [ a bf:Source ;\n",
      "                    bf:code \"23\" ] ] ;\n",
      "        bf:content contentTypes:txt ;\n",
      "        bf:contribution  [ a bf:Contribution ;\n",
      "                bf:agent <http://id.loc.gov/rwo/agents/no2015001378> ;\n",
      "                bf:role relators:trl ], [ a bf:Contribution, bflc:PrimaryContribution ;\n",
      "                bf:agent <http://id.loc.gov/rwo/agents/n80002329> ;\n",
      "                bf:role relators:aut ]\n",
      "        \n",
      "        } }\n"
     ]
    }
   ],
   "source": [
    "id = \"bk-2\"\n",
    "graph = f\"\"\"{prefix}    \n",
    "    INSERT DATA {{\n",
    "        GRAPH bkw:{id}\n",
    "        {{ \n",
    "           bkw:{id} a { \", \".join(request.type) }  ;\n",
    "           bf:adminMetadata [ a bf:AdminMetadata ;\n",
    "            bflc:encodingLevel {request.adminMetadata.encodingLevel} ;\n",
    "            bf:assigner <{request.adminMetadata.assigner}> ;    \n",
    "            bf:creationDate \"{request.adminMetadata.creationDate}\"^^xsd:date ;    \n",
    "            bf:descriptionConventions <{request.adminMetadata.descriptionConventions}> ;\n",
    "            bf:descriptionLanguage <{request.adminMetadata.descriptionLanguage}> ;\n",
    "            bf:generationProcess [ a bf:GenerationProcess ;\n",
    "                    rdfs:label \"{request.adminMetadata.generationProcess.label}\" ;\n",
    "                    bf:generationDate \"{request.adminMetadata.generationProcess.generationDate}\"^^xsd:dateTime ] ;\n",
    "            bf:identifiedBy [ a bf:Local ;\n",
    "                    bf:assigner <{request.adminMetadata.assigner}> ;\n",
    "                    rdf:value \"{id}\" ] ;\n",
    "            bf:status {request.adminMetadata.status} ] ;\n",
    "        bf:classification [ a bf:ClassificationDdc ;\n",
    "                bf:assigner <{request.adminMetadata.assigner}> ;\n",
    "                bf:classificationPortion \"{request.classification.classificationPortion}\" ;\n",
    "                bf:itemPortion \"{request.classification.itemPortion}\" ;\n",
    "                bf:source [ a bf:Source ;\n",
    "                    bf:code \"{request.classification.edition}\" ] ] ;\n",
    "        bf:content {request.content} ;\n",
    "        bf:contribution  { MakeContribution(request.contribution) }\n",
    "        { f'bf:genreForm <{request.genreForm}> ;' if request.genreForm else ''}\n",
    "        { f'bf:expressionOf <{request.expressionOf}> ;' if request.expressionOf else ''}\n",
    "        ns1:genreForm <http://id.loc.gov/authorities/genreForms/gf2014026339> ;\n",
    "        }} \n",
    "        }}\n",
    "        \"\"\"\n",
    "\n",
    "print(graph)"
   ]
  },
  {
   "cell_type": "markdown",
   "metadata": {},
   "source": [
    " ns1:assigner <http://id.loc.gov/vocabulary/organizations/dlc> ;\n",
    "            ns1:changeDate \"2023-02-06T08:03:19\"^^xsd:dateTime ;\n",
    "            ns1:creationDate \"2019-11-26\"^^xsd:date ;\n",
    "            ns1:descriptionAuthentication <http://id.loc.gov/vocabulary/marcauthen/pcc> ;\n",
    "            ns1:descriptionConventions <http://id.loc.gov/vocabulary/descriptionConventions/isbd>,\n",
    "                <http://id.loc.gov/vocabulary/descriptionConventions/rda> ;\n",
    "            ns1:descriptionLanguage <http://id.loc.gov/vocabulary/languages/eng> ;\n",
    "            ns1:descriptionModifier <http://id.loc.gov/vocabulary/organizations/dlc> ;\n",
    "            ns1:generationProcess [ a ns1:GenerationProcess ;\n",
    "                    rdfs:label \"DLC marc2bibframe2 v2.2.1\" ;\n",
    "                    ns1:generationDate \"2023-02-07T01:58:10.983465-05:00\"^^xsd:dateTime ] ;\n",
    "            ns1:identifiedBy [ a ns1:Local ;\n",
    "                    ns1:assigner <http://id.loc.gov/vocabulary/organizations/dlc> ;\n",
    "                    rdf:value \"21313495\" ] ;\n",
    "            ns1:status <http://id.loc.gov/vocabulary/mstatus/c> ;"
   ]
  },
  {
   "cell_type": "code",
   "execution_count": 120,
   "metadata": {},
   "outputs": [
    {
     "data": {
      "text/plain": [
       "{'statusCode': 200, 'message': 'Update succeeded'}"
      ]
     },
     "execution_count": 120,
     "metadata": {},
     "output_type": "execute_result"
    }
   ],
   "source": [
    "fuseki_update = FusekiUpdate('http://localhost:3030', 'acervo')\n",
    "\n",
    "response = fuseki_update.run_sparql(graph)\n",
    "response.convert()"
   ]
  },
  {
   "cell_type": "markdown",
   "metadata": {},
   "source": [
    "Exemple Work Loc"
   ]
  },
  {
   "cell_type": "code",
   "execution_count": 121,
   "metadata": {},
   "outputs": [
    {
     "data": {
      "text/plain": [
       "<Graph identifier=N04307ee2ed4f49a1a1d92cfd6e93ec01 (<class 'rdflib.graph.Graph'>)>"
      ]
     },
     "execution_count": 121,
     "metadata": {},
     "output_type": "execute_result"
    }
   ],
   "source": [
    "g = Graph()\n",
    "g.parse('http://id.loc.gov/resources/hubs/83ffc803-c205-176c-8646-13e1f4d8587c.nt', format='nt')"
   ]
  },
  {
   "cell_type": "code",
   "execution_count": 122,
   "metadata": {},
   "outputs": [
    {
     "data": {
      "text/plain": [
       "<Graph identifier=N04307ee2ed4f49a1a1d92cfd6e93ec01 (<class 'rdflib.graph.Graph'>)>"
      ]
     },
     "execution_count": 122,
     "metadata": {},
     "output_type": "execute_result"
    }
   ],
   "source": [
    "g.serialize('hub.ttl', format='ttl')"
   ]
  },
  {
   "cell_type": "markdown",
   "metadata": {},
   "source": [
    "POST WORK"
   ]
  },
  {
   "cell_type": "code",
   "execution_count": null,
   "metadata": {},
   "outputs": [],
   "source": []
  }
 ],
 "metadata": {
  "kernelspec": {
   "display_name": "Python 3.11.0 ('venv': venv)",
   "language": "python",
   "name": "python3"
  },
  "language_info": {
   "codemirror_mode": {
    "name": "ipython",
    "version": 3
   },
   "file_extension": ".py",
   "mimetype": "text/x-python",
   "name": "python",
   "nbconvert_exporter": "python",
   "pygments_lexer": "ipython3",
   "version": "3.10.4"
  },
  "orig_nbformat": 4,
  "vscode": {
   "interpreter": {
    "hash": "5df21a170a08fe7c24b5b1091267edae5bad3984f1116f28e957af7dd8f192dc"
   }
  }
 },
 "nbformat": 4,
 "nbformat_minor": 2
}
