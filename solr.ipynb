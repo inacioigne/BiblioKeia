{
 "cells": [
  {
   "cell_type": "code",
   "execution_count": 23,
   "metadata": {},
   "outputs": [],
   "source": [
    "import httpx\n",
    "from api.src.schemas.authorities.authority import Uri, Variant, AdminMetadata, Element\n",
    "from typing import Optional\n",
    "from pydantic import BaseModel\n",
    "from pysolr import Solr"
   ]
  },
  {
   "cell_type": "code",
   "execution_count": 61,
   "metadata": {},
   "outputs": [
    {
     "data": {
      "text/plain": [
       "'<?xml version=\"1.0\" encoding=\"UTF-8\"?>\\n<response>\\n\\n<lst name=\"responseHeader\">\\n  <int name=\"status\">0</int>\\n  <int name=\"QTime\">166</int>\\n</lst>\\n</response>\\n'"
      ]
     },
     "execution_count": 61,
     "metadata": {},
     "output_type": "execute_result"
    }
   ],
   "source": []
  },
  {
   "cell_type": "code",
   "execution_count": 10,
   "metadata": {},
   "outputs": [],
   "source": [
    "class Subject(BaseModel):\n",
    "    type: str \n",
    "    adminMetadata: AdminMetadata \n",
    "    elementList: list[Element]\n",
    "    note: Optional[str]\n",
    "    hasReciprocalAuthority: Optional[list[Uri]]\n",
    "    hasReciprocalExternalAuthority: Optional[list[Uri]]\n",
    "    hasBroaderAuthority: Optional[list[Uri]]\n",
    "    hasBroaderExternalAuthority: Optional[list[Uri]]\n",
    "    hasNarrowerAuthority: Optional[list[Uri]]\n",
    "    hasNarrowerExternalAuthority: Optional[list[Uri]]\n",
    "    hasCloseExternalAuthority: Optional[list[Uri]]\n",
    "    hasExactExternalAuthority: Optional[list[Uri]]\n",
    "    hasVariant: Optional[list[Variant]]\n",
    "    subjectOf: Optional[list[Uri]]\n",
    "    isMemberOfMADSCollection: str"
   ]
  },
  {
   "cell_type": "code",
   "execution_count": 39,
   "metadata": {},
   "outputs": [
    {
     "data": {
      "text/plain": [
       "{'type': 'Topic',\n",
       " 'adminMetadata': {'assigner': 'http://id.loc.gov/vocabulary/organizations/dlc',\n",
       "  'descriptionModifier': 'http://id.loc.gov/vocabulary/organizations/brmninpa',\n",
       "  'creationDate': '2023-05-18',\n",
       "  'descriptionLanguage': 'http://id.loc.gov/vocabulary/languages/por',\n",
       "  'generationProcess': 'BiblioKeia v.1',\n",
       "  'generationDate': '2023-05-18T15:20:28',\n",
       "  'identifiedBy': [{'type': 'Lccn',\n",
       "    'assigner': 'http://id.loc.gov/vocabulary/organizations/dlc',\n",
       "    'value': 'sh85095726'}],\n",
       "  'status': {'value': 'mstatus:new', 'label': 'novo'}},\n",
       " 'elementList': [{'type': 'TopicElement',\n",
       "   'elementValue': {'value': 'Ornitologia', 'lang': 'pt'}}],\n",
       " 'note': None,\n",
       " 'hasReciprocalAuthority': None,\n",
       " 'hasReciprocalExternalAuthority': [{'value': 'http://id.loc.gov/authorities/subjects/sh85014310',\n",
       "   'label': {'value': 'Birds', 'lang': 'en'},\n",
       "   'base': 'loc'}],\n",
       " 'hasBroaderAuthority': None,\n",
       " 'hasBroaderExternalAuthority': [{'value': 'http://id.loc.gov/authorities/subjects/sh85149983',\n",
       "   'label': {'value': 'Zoology', 'lang': 'en'},\n",
       "   'base': 'loc'}],\n",
       " 'hasNarrowerAuthority': None,\n",
       " 'hasNarrowerExternalAuthority': [{'value': 'http://id.loc.gov/authorities/subjects/sh85110315',\n",
       "   'label': {'value': 'Radar in ornithology', 'lang': 'en'},\n",
       "   'base': 'loc'},\n",
       "  {'value': 'http://id.loc.gov/authorities/subjects/sh2009010788',\n",
       "   'label': {'value': 'Ethnoornithology', 'lang': 'en'},\n",
       "   'base': 'loc'},\n",
       "  {'value': 'http://id.worldcat.org/fast/1048367',\n",
       "   'label': {'value': 'Ornithology--Study and teaching (Elementary)',\n",
       "    'lang': None},\n",
       "   'base': 'id.worldcat.org'},\n",
       "  {'value': 'http://id.worldcat.org/fast/1048359',\n",
       "   'label': {'value': 'Ornithology--Field work', 'lang': None},\n",
       "   'base': 'id.worldcat.org'},\n",
       "  {'value': 'http://id.worldcat.org/fast/1048362',\n",
       "   'label': {'value': 'Ornithology--Periodicals', 'lang': None},\n",
       "   'base': 'id.worldcat.org'},\n",
       "  {'value': 'http://id.worldcat.org/fast/1048363',\n",
       "   'label': {'value': 'Ornithology--Research grants', 'lang': None},\n",
       "   'base': 'id.worldcat.org'},\n",
       "  {'value': 'http://id.worldcat.org/fast/1048365',\n",
       "   'label': {'value': 'Ornithology--Statistical methods', 'lang': None},\n",
       "   'base': 'id.worldcat.org'}],\n",
       " 'hasCloseExternalAuthority': [{'value': 'http://data.bnf.fr/ark:/12148/cb12650268p',\n",
       "   'label': {'value': 'Ornithologie', 'lang': 'fr'},\n",
       "   'base': 'data.bnf.fr'},\n",
       "  {'value': 'http://d-nb.info/gnd/4075708-0',\n",
       "   'label': {'value': 'Ornithologie', 'lang': 'de'},\n",
       "   'base': 'd-nb.info'},\n",
       "  {'value': 'http://datos.bne.es/resource/XX525525',\n",
       "   'label': {'value': 'Ornitología', 'lang': 'es'},\n",
       "   'base': 'datos.bne.es'},\n",
       "  {'value': 'http://id.worldcat.org/fast/1048358',\n",
       "   'label': {'value': 'Ornithology', 'lang': None},\n",
       "   'base': 'id.worldcat.org'},\n",
       "  {'value': 'http://purl.org/bncf/tid/37593',\n",
       "   'label': {'value': 'Ornitologia', 'lang': 'it'},\n",
       "   'base': 'purl.org'},\n",
       "  {'value': 'http://www.wikidata.org/entity/Q44703',\n",
       "   'label': {'value': 'ornithology', 'lang': None},\n",
       "   'base': 'www.wikidata.org'},\n",
       "  {'value': 'http://www.yso.fi/onto/yso/p14124',\n",
       "   'label': {'value': 'lintutiede', 'lang': 'fi'},\n",
       "   'base': 'www.yso.fi'}],\n",
       " 'hasExactExternalAuthority': [{'value': 'http://lod.nal.usda.gov/nalt/1150',\n",
       "   'label': {'value': 'ornithology', 'lang': 'en'},\n",
       "   'base': 'lod.nal.usda.gov'}],\n",
       " 'hasVariant': [{'type': 'Topic',\n",
       "   'elementList': [{'type': 'TopicElement',\n",
       "     'elementValue': {'value': 'Biologia aviária', 'lang': 'pt'}}],\n",
       "   'componentList': None}],\n",
       " 'subjectOf': None,\n",
       " 'isMemberOfMADSCollection': 'http://bibliokeia.com/authorities/Topic/'}"
      ]
     },
     "execution_count": 39,
     "metadata": {},
     "output_type": "execute_result"
    }
   ],
   "source": [
    "authority = 'http://id.loc.gov/authorities/subjects/sh85095726'\n",
    "url = f'http://localhost:8000/authorities/import/loc/subject?uri={authority}'\n",
    "r = httpx.get(url, timeout=20)\n",
    "r.json()"
   ]
  },
  {
   "cell_type": "code",
   "execution_count": 40,
   "metadata": {},
   "outputs": [],
   "source": [
    "request = Subject(**r.json())\n",
    "id = 'bkau-1'"
   ]
  },
  {
   "cell_type": "code",
   "execution_count": 18,
   "metadata": {},
   "outputs": [],
   "source": [
    "def MakeLabel(elementList):\n",
    "    labels = [i.elementValue.value for i in elementList]\n",
    "    label = \", \".join(labels)\n",
    "    \n",
    "    return label"
   ]
  },
  {
   "cell_type": "code",
   "execution_count": 41,
   "metadata": {},
   "outputs": [
    {
     "data": {
      "text/plain": [
       "{'id': 'bkau-1',\n",
       " 'type': 'Topic',\n",
       " 'creationDate': '2023-05-18',\n",
       " 'label': 'Ornitologia',\n",
       " 'isMemberOfMADSCollection': 'http://bibliokeia.com/authorities/Topic/'}"
      ]
     },
     "execution_count": 41,
     "metadata": {},
     "output_type": "execute_result"
    }
   ],
   "source": [
    "doc = {\n",
    "        'id': id,\n",
    "        'type': request.type,\n",
    "        \"creationDate\": request.adminMetadata.creationDate.strftime('%Y-%m-%d'), \n",
    "        \"label\": f'{MakeLabel(request.elementList)}' ,\n",
    "        \"isMemberOfMADSCollection\": request.isMemberOfMADSCollection\n",
    "        }\n",
    "doc"
   ]
  },
  {
   "cell_type": "code",
   "execution_count": 58,
   "metadata": {},
   "outputs": [
    {
     "name": "stdout",
     "output_type": "stream",
     "text": [
      "['Biologia aviária']\n"
     ]
    }
   ],
   "source": [
    "if request.hasVariant:\n",
    "    variants = list()\n",
    "    for i in request.hasVariant:\n",
    "        label = [j.elementValue.value for j in i.elementList]\n",
    "        label = \"--\".join(label)\n",
    "        variants.append(label)\n",
    "    doc['variant'] = variants\n",
    "    print(variants)"
   ]
  },
  {
   "cell_type": "code",
   "execution_count": null,
   "metadata": {},
   "outputs": [],
   "source": []
  },
  {
   "cell_type": "code",
   "execution_count": 49,
   "metadata": {},
   "outputs": [
    {
     "name": "stdout",
     "output_type": "stream",
     "text": [
      "type='Topic' elementList=[Element(type='TopicElement', elementValue=Label(value='Biologia aviária', lang='pt'))] componentList=None\n"
     ]
    }
   ],
   "source": [
    "for k, v in request:\n",
    "\n",
    "        if v and k not in ['type', 'adminMetadata', 'elementList', 'isMemberOfMADSCollection', 'hasVariant']:\n",
    "                pass\n",
    "                # for i in v:\n",
    "                #         uri = {\n",
    "                #                 'id': f\"{id}/{k}#{i.value.split('/')[-1]}\",\n",
    "                #                 'uri': i.value, \n",
    "                #                 'label': i.label.value, \n",
    "                #                 'lang': i.label.lang}\n",
    "        elif k == 'hasVariant' and v:\n",
    "                for i in v:\n",
    "                         \n",
    "                        print(variant)\n",
    "\n",
    "\n",
    "                # uri = [{'id': i.value.split(\"/\")[-1], 'uri': i.value, 'label': i.label.value, 'lang': i.label.lang} for i in v]\n",
    "                # doc[f'{k}'] = uri\n"
   ]
  },
  {
   "cell_type": "code",
   "execution_count": 43,
   "metadata": {},
   "outputs": [
    {
     "data": {
      "text/plain": [
       "[Variant(type='Topic', elementList=[Element(type='TopicElement', elementValue=Label(value='Biologia aviária', lang='pt'))], componentList=None)]"
      ]
     },
     "execution_count": 43,
     "metadata": {},
     "output_type": "execute_result"
    }
   ],
   "source": [
    "request.hasVariant"
   ]
  },
  {
   "cell_type": "code",
   "execution_count": null,
   "metadata": {},
   "outputs": [],
   "source": []
  },
  {
   "cell_type": "code",
   "execution_count": 24,
   "metadata": {},
   "outputs": [],
   "source": [
    "solr = Solr('http://localhost:8983/solr/authorities/', timeout=10)\n",
    "\n",
    "doc = {\n",
    " \"id\":\"bkau-1\",\n",
    " \"hasBroaderAuthority\":{ \"set\": { \n",
    "     'uri': 'http://id.loc.gov/authorities/subjects/sh85149983',\n",
    "  'label': 'Zoology',\n",
    "  'lang': 'en'}}\n",
    "}\n",
    "\n",
    "responseSolr = solr.add([doc], commit=True)"
   ]
  },
  {
   "cell_type": "code",
   "execution_count": 62,
   "metadata": {},
   "outputs": [
    {
     "data": {
      "text/plain": [
       "'<?xml version=\"1.0\" encoding=\"UTF-8\"?>\\n<response>\\n\\n<lst name=\"responseHeader\">\\n  <int name=\"status\">0</int>\\n  <int name=\"QTime\">72</int>\\n</lst>\\n</response>\\n'"
      ]
     },
     "execution_count": 62,
     "metadata": {},
     "output_type": "execute_result"
    }
   ],
   "source": [
    "solr.delete(q=f\"id:bkau-2/hasReciprocalExternalAuthority#sh85048830\",  commit=True)"
   ]
  },
  {
   "cell_type": "code",
   "execution_count": null,
   "metadata": {},
   "outputs": [],
   "source": [
    "{\n",
    "  \"authority\": \"https://bibliokeia.com/authorities/Topic/bkau-1\",\n",
    "  \"uri\": \"http://id.loc.gov/authorities/subjects/sh85006228\",\n",
    "  \"value\": \"string\",\n",
    "  \"lang\": \"string\",\n",
    "  \"type\": \"hasBroaderExternalAuthority\"\n",
    "}"
   ]
  },
  {
   "cell_type": "code",
   "execution_count": null,
   "metadata": {},
   "outputs": [],
   "source": [
    "auId = request.authority.split(\"/\")[-1]\n",
    "uriId = request.uri.split(\"/\")[-1]\n"
   ]
  }
 ],
 "metadata": {
  "kernelspec": {
   "display_name": "venv",
   "language": "python",
   "name": "python3"
  },
  "language_info": {
   "codemirror_mode": {
    "name": "ipython",
    "version": 3
   },
   "file_extension": ".py",
   "mimetype": "text/x-python",
   "name": "python",
   "nbconvert_exporter": "python",
   "pygments_lexer": "ipython3",
   "version": "3.10.4"
  },
  "orig_nbformat": 4
 },
 "nbformat": 4,
 "nbformat_minor": 2
}
