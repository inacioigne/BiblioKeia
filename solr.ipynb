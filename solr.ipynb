{
 "cells": [
  {
   "cell_type": "code",
   "execution_count": 1,
   "metadata": {},
   "outputs": [],
   "source": [
    "from pysolr import Solr"
   ]
  },
  {
   "cell_type": "code",
   "execution_count": 2,
   "metadata": {},
   "outputs": [],
   "source": [
    "from api.src.schemas.settings import Settings"
   ]
  },
  {
   "cell_type": "code",
   "execution_count": 6,
   "metadata": {},
   "outputs": [],
   "source": [
    "settings = Settings()\n",
    "solr = Solr(f'{settings.url}:8983/solr/authority/', timeout=10)"
   ]
  },
  {
   "cell_type": "code",
   "execution_count": 16,
   "metadata": {},
   "outputs": [
    {
     "data": {
      "text/plain": [
       "'bka-2'"
      ]
     },
     "execution_count": 16,
     "metadata": {},
     "output_type": "execute_result"
    }
   ],
   "source": [
    "authority = 'https://bibliokeia.com/authorities/PersonalName/bka-2'\n",
    "id = authority.split(\"/\")[-1] \n",
    "id"
   ]
  },
  {
   "cell_type": "code",
   "execution_count": 17,
   "metadata": {},
   "outputs": [
    {
     "data": {
      "text/plain": [
       "<pysolr.Results at 0x2981eb83310>"
      ]
     },
     "execution_count": 17,
     "metadata": {},
     "output_type": "execute_result"
    }
   ],
   "source": [
    "r = solr.search(q=f'id:{id}', **{'fl': '*,[child]'})\n",
    "r"
   ]
  },
  {
   "cell_type": "code",
   "execution_count": 18,
   "metadata": {},
   "outputs": [
    {
     "data": {
      "text/plain": [
       "{'id': 'bka-2',\n",
       " 'type': ['PersonalName'],\n",
       " 'creationDate': ['2023-08-25T00:00:00Z'],\n",
       " 'label': ['Machado de Assis,, 1839-1908'],\n",
       " 'isMemberOfMADSCollection': ['http://bibliokeia.com/authorities/PersonalName/'],\n",
       " 'fullerName': ['Joaquim Maria Machado'],\n",
       " 'birthDate': ['1839-06-21'],\n",
       " 'birthPlace': ['Rio de Janeiro (Brazil)'],\n",
       " 'deathDate': ['1908-09-29'],\n",
       " 'variant': ['Assis, Joaquim Maria Machado de, 1839-1908',\n",
       "  'Assis, Machado de, 1839-1908',\n",
       "  'De Assis, Joaquim Maria Machado, 1839-1908',\n",
       "  'De Assis, Machado, 1839-1908',\n",
       "  'Machado de Assis, Joaquim Maria, 1839-1908',\n",
       "  'Machado de Assis, Joaquín María, 1839-1908',\n",
       "  'Mashado de Assiz, Zhoakin, 1839-1908',\n",
       "  'Semana Dr., 1839-1908'],\n",
       " 'imagem': ['http://commons.wikimedia.org/wiki/Special:FilePath/Machado de Assis aos 57 anos.jpg'],\n",
       " '_version_': 1775235445463973888,\n",
       " 'occupation': [{'id': 'bka-2/occupation#sh85092863',\n",
       "   'uri': ['http://id.loc.gov/authorities/subjects/sh85092863'],\n",
       "   'label': ['Novelists'],\n",
       "   'base': ['id.loc.gov'],\n",
       "   '_version_': 1775235445463973888},\n",
       "  {'id': 'bka-2/occupation#sh85103733',\n",
       "   'uri': ['http://id.loc.gov/authorities/subjects/sh85103733'],\n",
       "   'label': ['Poets'],\n",
       "   'base': ['id.loc.gov'],\n",
       "   '_version_': 1775235445463973888},\n",
       "  {'id': 'bka-2/occupation#sh85039342',\n",
       "   'uri': ['http://id.loc.gov/authorities/subjects/sh85039342'],\n",
       "   'label': ['Dramatists'],\n",
       "   'base': ['id.loc.gov'],\n",
       "   '_version_': 1775235445463973888},\n",
       "  {'id': 'bka-2/occupation#sh85034154',\n",
       "   'uri': ['http://id.loc.gov/authorities/subjects/sh85034154'],\n",
       "   'label': ['Critics'],\n",
       "   'base': ['id.loc.gov'],\n",
       "   '_version_': 1775235445463973888},\n",
       "  {'id': 'bka-2/occupation#sh85108733',\n",
       "   'uri': ['http://id.loc.gov/authorities/subjects/sh85108733'],\n",
       "   'label': ['Public officers'],\n",
       "   'base': ['id.loc.gov'],\n",
       "   '_version_': 1775235445463973888}],\n",
       " 'hasCloseExternalAuthority': [{'id': 'bka-2/hasCloseExternalAuthority#Q311145',\n",
       "   'uri': ['http://www.wikidata.org/entity/Q311145'],\n",
       "   'label': ['Joaquim Maria Machado de Assis'],\n",
       "   'base': ['www.wikidata.org'],\n",
       "   '_version_': 1775235445463973888},\n",
       "  {'id': 'bka-2/hasCloseExternalAuthority#48407',\n",
       "   'uri': ['http://id.worldcat.org/fast/48407'],\n",
       "   'label': ['Machado de Assis, 1839-1908'],\n",
       "   'base': ['id.worldcat.org'],\n",
       "   '_version_': 1775235445463973888}],\n",
       " 'hasAffiliation': {'id': 'bka-2/hasAffiliation#n82059239',\n",
       "  'organization': ['Academia Brasileira de Letras'],\n",
       "  'affiliationStart': ['1897'],\n",
       "  'affiliationEnd': ['1908'],\n",
       "  '_version_': 1775235445463973888}}"
      ]
     },
     "execution_count": 18,
     "metadata": {},
     "output_type": "execute_result"
    }
   ],
   "source": [
    "[doc] = r.docs\n",
    "doc"
   ]
  },
  {
   "cell_type": "code",
   "execution_count": 13,
   "metadata": {},
   "outputs": [
    {
     "data": {
      "text/plain": [
       "['bka-1']"
      ]
     },
     "execution_count": 13,
     "metadata": {},
     "output_type": "execute_result"
    }
   ],
   "source": [
    "nMeta = [\"id\", \"type\", \"creationDate\", \"label\", \"isMemberOfMADSCollection\", \"note\", \"variant\",\n",
    "              \"imagem\", \"fullerName\", \"birthDate\", \"birthPlace\", \"deathDate\",  \"_version_\"]\n",
    "ids = [id]\n",
    "ids"
   ]
  },
  {
   "cell_type": "code",
   "execution_count": 15,
   "metadata": {},
   "outputs": [
    {
     "data": {
      "text/plain": [
       "['bka-1',\n",
       " 'bka-1/hasCloseExternalAuthority#Q81244',\n",
       " 'bka-1/hasCloseExternalAuthority#500256162',\n",
       " 'bka-1/hasCloseExternalAuthority#1717209',\n",
       " 'bka-1/hasCloseExternalAuthority#51773']"
      ]
     },
     "execution_count": 15,
     "metadata": {},
     "output_type": "execute_result"
    }
   ],
   "source": [
    "for k, v in doc.items():\n",
    "    if k not in nMeta:\n",
    "        if type(v) == list:\n",
    "            for i in v:\n",
    "                ids.append(i['id']) \n",
    "ids\n",
    "\n"
   ]
  }
 ],
 "metadata": {
  "kernelspec": {
   "display_name": "Python 3.11.3 ('venv': venv)",
   "language": "python",
   "name": "python3"
  },
  "language_info": {
   "codemirror_mode": {
    "name": "ipython",
    "version": 3
   },
   "file_extension": ".py",
   "mimetype": "text/x-python",
   "name": "python",
   "nbconvert_exporter": "python",
   "pygments_lexer": "ipython3",
   "version": "3.11.4"
  },
  "orig_nbformat": 4,
  "vscode": {
   "interpreter": {
    "hash": "5df21a170a08fe7c24b5b1091267edae5bad3984f1116f28e957af7dd8f192dc"
   }
  }
 },
 "nbformat": 4,
 "nbformat_minor": 2
}
