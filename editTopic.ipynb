{
 "cells": [
  {
   "cell_type": "code",
   "execution_count": 9,
   "metadata": {},
   "outputs": [],
   "source": [
    "from api.src.function.authorities.topic.edit_authority import EditAuthority\n",
    "from api.src.schemas.authorities.topic import Topic, Authority, Uri\n",
    "from pyfuseki import FusekiUpdate, FusekiQuery\n",
    "from api.src.function.authorities.topic.edit_hasReciprocalAuthority import DelReciprocalAuthority"
   ]
  },
  {
   "cell_type": "code",
   "execution_count": 18,
   "metadata": {},
   "outputs": [],
   "source": [
    "fuseki_update = FusekiUpdate('http://localhost:3030', 'authorities')\n",
    "fuseki_query = FusekiQuery('http://localhost:3030', 'authorities')\n"
   ]
  },
  {
   "cell_type": "code",
   "execution_count": 3,
   "metadata": {},
   "outputs": [
    {
     "data": {
      "text/plain": [
       "Uri(uri='http://id.loc.gov/authorities/subjects/TESTE')"
      ]
     },
     "execution_count": 3,
     "metadata": {},
     "output_type": "execute_result"
    }
   ],
   "source": [
    "obj = {\n",
    "  \"uri\": \"http://id.loc.gov/authorities/subjects/TESTE\"\n",
    "}\n",
    "\n",
    "request = Uri(**obj)\n",
    "request"
   ]
  },
  {
   "cell_type": "code",
   "execution_count": 5,
   "metadata": {},
   "outputs": [
    {
     "name": "stdout",
     "output_type": "stream",
     "text": [
      "PREFIX topic: <https://bibliokeia.com/authorities/topic/>\n",
      "                PREFIX madsrdf: <http://www.loc.gov/mads/rdf/v1#>\n",
      "\n",
      "                DELETE DATA\n",
      "                {\n",
      "                      GRAPH topic:sh85017405 {\n",
      "                          topic:sh85017405  madsrdf:hasReciprocalAuthority <http://id.loc.gov/authorities/subjects/TESTE> } } ; \n"
     ]
    }
   ],
   "source": [
    "upReciprocal = DelReciprocalAuthority(\"sh85017405\", request)\n",
    "print(upReciprocal)"
   ]
  },
  {
   "cell_type": "code",
   "execution_count": 6,
   "metadata": {},
   "outputs": [
    {
     "data": {
      "text/plain": [
       "{'statusCode': 200, 'message': 'Update succeeded'}"
      ]
     },
     "execution_count": 6,
     "metadata": {},
     "output_type": "execute_result"
    }
   ],
   "source": [
    "responseLabel = fuseki_update.run_sparql(upReciprocal)\n",
    "responseLabel.convert()"
   ]
  },
  {
   "cell_type": "code",
   "execution_count": 6,
   "metadata": {},
   "outputs": [],
   "source": [
    "obj = {\n",
    "  \"value\": \"Metodologia\",\n",
    "  \"lang\": \"pt\",\n",
    "  \"type\": \"Topic\"\n",
    "}\n",
    "request = Authority(**obj)"
   ]
  },
  {
   "cell_type": "code",
   "execution_count": 7,
   "metadata": {},
   "outputs": [
    {
     "name": "stdout",
     "output_type": "stream",
     "text": [
      "PREFIX topic: <https://bibliokeia.com/authorities/topic/>\n",
      "                PREFIX madsrdf: <http://www.loc.gov/mads/rdf/v1#>\n",
      "                \n",
      "                WITH topic:sh2018002121\n",
      "                DELETE { topic:sh2018002121 madsrdf:authoritativeLabel ?o  }\n",
      "                INSERT { topic:sh2018002121 madsrdf:authoritativeLabel 'Metodologia'@pt }\n",
      "                WHERE { topic:sh2018002121 madsrdf:authoritativeLabel ?o }\n"
     ]
    }
   ],
   "source": [
    "upLabel, upElementValue = EditAuthority(\"sh2018002121\", request)\n",
    "print(upLabel)"
   ]
  },
  {
   "cell_type": "code",
   "execution_count": 11,
   "metadata": {},
   "outputs": [
    {
     "data": {
      "text/plain": [
       "{'statusCode': 200, 'message': 'Update succeeded'}"
      ]
     },
     "execution_count": 11,
     "metadata": {},
     "output_type": "execute_result"
    }
   ],
   "source": [
    "responseLabel = fuseki_update.run_sparql(upLabel)\n",
    "responseLabel.convert()"
   ]
  },
  {
   "cell_type": "code",
   "execution_count": 11,
   "metadata": {},
   "outputs": [
    {
     "data": {
      "text/plain": [
       "True"
      ]
     },
     "execution_count": 11,
     "metadata": {},
     "output_type": "execute_result"
    }
   ],
   "source": [
    "fuseki_query = FusekiQuery('http://localhost:3030', 'authorities')\n",
    "\n",
    "ask = \"\"\"PREFIX topic: <https://bibliokeia.com/authorities/topic/>\n",
    "                PREFIX madsrdf: <http://www.loc.gov/mads/rdf/v1#>\n",
    "\n",
    "ASK { graph topic:sh85017405 {\n",
    "    topic:sh85017405 madsrdf:hasCloseExternalAuthority <http://id.worldcat.org/fast/839960>    \n",
    "  } }\"\"\"\n",
    "\n",
    "responseAsk = fuseki_query.run_sparql(ask)\n",
    "responseAsk.convert()['boolean']\n",
    "\n"
   ]
  },
  {
   "cell_type": "code",
   "execution_count": 22,
   "metadata": {},
   "outputs": [
    {
     "data": {
      "text/plain": [
       "{'statusCode': 200, 'message': 'Update succeeded'}"
      ]
     },
     "execution_count": 22,
     "metadata": {},
     "output_type": "execute_result"
    }
   ],
   "source": [
    "fuseki_update = FusekiUpdate('http://localhost:3030', 'authorities')\n",
    "\n",
    "topic = \"\"\"PREFIX topic: <https://bibliokeia.com/authorities/topic/>\n",
    "            PREFIX madsrdf: <http://www.loc.gov/mads/rdf/v1#>\n",
    "            \n",
    "            WITH topic:{id}\n",
    "            DELETE {{ ?s ?p ?o  }}\n",
    "            WHERE {{ ?s ?p ?o  }}\"\"\"\n",
    "\n",
    "\n",
    "upTopic = topic.format(id=\"sh85017405\")\n",
    "r = fuseki_update.run_sparql(upTopic)\n",
    "r.convert()"
   ]
  }
 ],
 "metadata": {
  "kernelspec": {
   "display_name": "venv",
   "language": "python",
   "name": "python3"
  },
  "language_info": {
   "codemirror_mode": {
    "name": "ipython",
    "version": 3
   },
   "file_extension": ".py",
   "mimetype": "text/x-python",
   "name": "python",
   "nbconvert_exporter": "python",
   "pygments_lexer": "ipython3",
   "version": "3.10.4"
  },
  "orig_nbformat": 4
 },
 "nbformat": 4,
 "nbformat_minor": 2
}
