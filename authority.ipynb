{
 "cells": [
  {
   "cell_type": "code",
   "execution_count": 29,
   "metadata": {},
   "outputs": [],
   "source": [
    "from pydantic import BaseModel, validator, Field\n",
    "from typing import Optional, Union\n",
    "from datetime import datetime\n",
    "import rdflib\n",
    "from rdflib import Graph\n",
    "from pyfuseki import FusekiUpdate, FusekiQuery\n",
    "from rdflib import Namespace\n",
    "from rdflib import URIRef\n",
    "import json\n",
    "from api.src.schemas.authorities.authority import Authority\n",
    "from api.src.function.authorities.makeGraph import MakeGraph\n",
    "from api.src.function.authorities.generateID import GenerateId\n",
    "from datetime import date\n",
    "from pysolr import Solr\n",
    "from api.src.function.authorities.makeLabel import MakeLabel"
   ]
  },
  {
   "cell_type": "code",
   "execution_count": 6,
   "metadata": {},
   "outputs": [
    {
     "data": {
      "text/plain": [
       "'bkau-1'"
      ]
     },
     "execution_count": 6,
     "metadata": {},
     "output_type": "execute_result"
    }
   ],
   "source": [
    "id = GenerateId()\n",
    "id"
   ]
  },
  {
   "cell_type": "code",
   "execution_count": 9,
   "metadata": {},
   "outputs": [],
   "source": [
    "solr = Solr('http://localhost:8983/solr/authorities/', timeout=10)"
   ]
  },
  {
   "cell_type": "code",
   "execution_count": 11,
   "metadata": {},
   "outputs": [
    {
     "data": {
      "text/plain": [
       "'<?xml version=\"1.0\" encoding=\"UTF-8\"?>\\n<response>\\n\\n<lst name=\"responseHeader\">\\n  <int name=\"status\">0</int>\\n  <int name=\"QTime\">196</int>\\n</lst>\\n</response>\\n'"
      ]
     },
     "execution_count": 11,
     "metadata": {},
     "output_type": "execute_result"
    }
   ],
   "source": [
    "solr.delete(q=\"*:*\", commit=True)"
   ]
  },
  {
   "cell_type": "code",
   "execution_count": 2,
   "metadata": {},
   "outputs": [
    {
     "data": {
      "text/plain": [
       "{'type': 'PersonalName',\n",
       " 'adminMetadata': {'assigner': 'http://id.loc.gov/vocabulary/organizations/brmninpa',\n",
       "  'descriptionModifier': 'http://id.loc.gov/vocabulary/organizations/brmninpa',\n",
       "  'creationDate': datetime.date(2023, 4, 26),\n",
       "  'descriptionLanguage': 'http://id.loc.gov/vocabulary/languages/por',\n",
       "  'generationProcess': {'label': 'BiblioKeia Beta',\n",
       "   'generationDate': '2023-04-26T16:01:40'},\n",
       "  'identifiedBy': {'assigner': 'http://id.loc.gov/vocabulary/organizations/dlc',\n",
       "   'value': 'n80002329'},\n",
       "  'status': {'value': 'mstatus:new', 'label': 'novo'}},\n",
       " 'elementList': [{'type': 'PersonalName',\n",
       "   'elementValue': {'value': 'Machado de Assis', 'lang': None}},\n",
       "  {'type': 'DateNameElement',\n",
       "   'elementValue': {'value': '1839-1908', 'lang': None}}],\n",
       " 'fullerName': {'type': 'PersonalName',\n",
       "  'elementValue': {'value': 'Joaquim Maria Machado', 'lang': None}},\n",
       " 'birthDate': '1839-06-21',\n",
       " 'birthPlace': {'value': 'http://id.loc.gov/authorities/names',\n",
       "  'label': 'Rio de Janeiro',\n",
       "  'base': 'bibliokeia'},\n",
       " 'deathDate': '1908-09-29',\n",
       " 'occupation': [{'value': 'http://id.loc.gov/authorities/subjects/sh85034154',\n",
       "   'label': 'Bureaucrats',\n",
       "   'base': 'LOC'}],\n",
       " 'hasAffiliation': [{'organization': {'value': 'http://id.loc.gov/authorities/subjects/sh85034154',\n",
       "    'label': 'Academia',\n",
       "    'base': 'LOC'},\n",
       "   'affiliationStart': '1897',\n",
       "   'affiliationEnd': '1908'}],\n",
       " 'hasBroaderAuthority': None,\n",
       " 'subjectOf': None,\n",
       " 'contributionOf': None,\n",
       " 'hasCloseExternalAuthority': [{'value': 'http://id.worldcat.org/fast/48407',\n",
       "   'label': 'Machado',\n",
       "   'base': 'worldcat'},\n",
       "  {'value': 'http://www.wikidata.org/entity/Q311145',\n",
       "   'label': 'Machado',\n",
       "   'base': 'wikidata'}],\n",
       " 'hasExactExternalAuthority': [{'value': 'http://viaf.org/viaf/sourceID/LC%7Cn++80002329#skos:Concept',\n",
       "   'label': 'Machado',\n",
       "   'base': 'LOC'}],\n",
       " 'hasNarrowerAuthority': None,\n",
       " 'hasVariant': [{'type': 'PersonalName',\n",
       "   'elementList': [{'type': 'FullNameElement',\n",
       "     'elementValue': {'value': 'Semana', 'lang': None}},\n",
       "    {'type': 'TermsOfAddressNameElement',\n",
       "     'elementValue': {'value': 'Dr.', 'lang': None}},\n",
       "    {'type': 'DateNameElement',\n",
       "     'elementValue': {'value': '1839-1908', 'lang': None}}]}],\n",
       " 'isMemberOfMADSCollection': 'https://bibliokeia.com/authorities/name/'}"
      ]
     },
     "execution_count": 2,
     "metadata": {},
     "output_type": "execute_result"
    }
   ],
   "source": [
    "with open('exemples\\personalName.json', encoding='utf-8') as file:\n",
    "    reader = file.read()\n",
    "    authority = json.loads(reader)\n",
    "    file.close()\n",
    "request = Authority(**authority)\n",
    "request.dict()"
   ]
  },
  {
   "cell_type": "code",
   "execution_count": 34,
   "metadata": {},
   "outputs": [
    {
     "data": {
      "text/plain": [
       "'Joaquim Maria Machado'"
      ]
     },
     "execution_count": 34,
     "metadata": {},
     "output_type": "execute_result"
    }
   ],
   "source": [
    "request.fullerName.elementValue.value"
   ]
  },
  {
   "cell_type": "code",
   "execution_count": 30,
   "metadata": {},
   "outputs": [
    {
     "data": {
      "text/plain": [
       "'Machado de Assis, 1839-1908'"
      ]
     },
     "execution_count": 30,
     "metadata": {},
     "output_type": "execute_result"
    }
   ],
   "source": [
    "label = MakeLabel(request.elementList)\n",
    "label"
   ]
  },
  {
   "cell_type": "code",
   "execution_count": 40,
   "metadata": {},
   "outputs": [
    {
     "data": {
      "text/plain": [
       "'Rio de Janeiro'"
      ]
     },
     "execution_count": 40,
     "metadata": {},
     "output_type": "execute_result"
    }
   ],
   "source": [
    "request.birthPlace.label"
   ]
  },
  {
   "cell_type": "code",
   "execution_count": 43,
   "metadata": {},
   "outputs": [
    {
     "data": {
      "text/plain": [
       "{'id': 'bkau-1',\n",
       " 'type': 'PersonalName',\n",
       " 'creationDate': '2023-04-26',\n",
       " 'label': 'Machado de Assis, 1839-1908',\n",
       " 'fullerName': 'Joaquim Maria Machado',\n",
       " 'birthDate': '1839-06-21',\n",
       " 'birthPlace': 'Rio de Janeiro'}"
      ]
     },
     "execution_count": 43,
     "metadata": {},
     "output_type": "execute_result"
    }
   ],
   "source": [
    "doc = {\n",
    "    'id': id,\n",
    "    'type': request.type,\n",
    "    \"creationDate\": request.adminMetadata.creationDate.strftime('%Y-%m-%d'), \n",
    "    \"label\": f'{MakeLabel(request.elementList)}'\n",
    "}\n",
    "if request.fullerName:\n",
    "    doc['fullerName'] = request.fullerName.elementValue.value\n",
    "if request.birthDate:\n",
    "    doc['birthDate'] = request.birthDate\n",
    "if request.birthPlace:\n",
    "    doc['birthPlace'] = request.birthPlace.label\n",
    "doc\n"
   ]
  },
  {
   "cell_type": "code",
   "execution_count": 44,
   "metadata": {},
   "outputs": [
    {
     "data": {
      "text/plain": [
       "'{\\n  \"responseHeader\":{\\n    \"status\":0,\\n    \"QTime\":151}}\\n'"
      ]
     },
     "execution_count": 44,
     "metadata": {},
     "output_type": "execute_result"
    }
   ],
   "source": [
    "response = solr.add([doc], commit=True)\n",
    "response"
   ]
  },
  {
   "cell_type": "code",
   "execution_count": 3,
   "metadata": {},
   "outputs": [
    {
     "name": "stdout",
     "output_type": "stream",
     "text": [
      "PREFIX rdf: <http://www.w3.org/1999/02/22-rdf-syntax-ns#> \n",
      "    PREFIX madsrdf: <http://www.loc.gov/mads/rdf/v1#> \n",
      "    PREFIX owl: <http://www.w3.org/2002/07/owl#> \n",
      "    PREFIX ri: <http://id.loc.gov/ontologies/RecordInfo#> \n",
      "    PREFIX xsd: <http://www.w3.org/2001/XMLSchema#>\n",
      "    PREFIX rdfs: <http://www.w3.org/2000/01/rdf-schema#>\n",
      "    PREFIX identifiers: <http://id.loc.gov/vocabulary/identifiers/>\n",
      "    PREFIX bf: <http://id.loc.gov/ontologies/bibframe/> \n",
      "    PREFIX bflc: <http://id.loc.gov/ontologies/bflc/> \n",
      "    PREFIX bkw: <https://bibliokeia.com/resources/work/> \n",
      "    PREFIX menclvl: <http://id.loc.gov/vocabulary/menclvl/>\n",
      "    PREFIX mstatus: <http://id.loc.gov/vocabulary/mstatus/>\n",
      "    PREFIX contentTypes: <http://id.loc.gov/vocabulary/contentTypes/>\n",
      "    PREFIX relators: <http://id.loc.gov/vocabulary/relators/>\n",
      "    PREFIX genreForms: <http://id.loc.gov/authorities/genreForms/>\n",
      "    PREFIX msupplcont: <http://id.loc.gov/vocabulary/msupplcont/>\n",
      "    PREFIX millus: <http://id.loc.gov/vocabulary/millus/>        \n",
      "    INSERT DATA {\n",
      "        GRAPH <https://bibliokeia.com/authorities/PersonalName/<built-in function id>>\n",
      "        {\n",
      "        <https://bibliokeia.com/authorities/PersonalName/<built-in function id>> a madsrdf:Authority, \n",
      "            madsrdf:PersonalName ;\n",
      "            identifiers:local \"<built-in function id>\" ;\n",
      "            madsrdf:adminMetadata [ a bf:AdminMetadata ;\n",
      "            bf:assigner <http://id.loc.gov/vocabulary/organizations/brmninpa> ;\n",
      "            bf:creationDate \"2023-04-26\"^^xsd:date ;\n",
      "            bf:descriptionLanguage <http://id.loc.gov/vocabulary/languages/eng> ;\n",
      "            bf:descriptionModifier <http://id.loc.gov/vocabulary/organizations/brmninpa> ; \n",
      "            bf:generationProcess [ a bf:GenerationProcess ;\n",
      "                    rdfs:label \"BiblioKeia Beta\" ;\n",
      "                    bf:generationDate \"2023-04-26T16:01:40\"^^xsd:dateTime ] ;\n",
      "            bf:identifiedBy [ a bf:Local ;\n",
      "                    bf:assigner <http://id.loc.gov/vocabulary/organizations/brmninpa> ;\n",
      "                    rdf:value \"<built-in function id>\" ] ;\n",
      "            bf:status mstatus:new ] ; \n",
      "            madsrdf:authoritativeLabel \"Machado de Assis, 1839-1908\" ;\n",
      "            madsrdf:elementList ( [ a madsrdf:PersonalName ;\n",
      "                madsrdf:elementValue \"Machado de Assis\" ] [ a madsrdf:DateNameElement ;\n",
      "                madsrdf:elementValue \"1839-1908\" ] ) ;\n",
      "            madsrdf:fullerName [ a madsrdf:PersonalName ; rdfs:label \"Joaquim Maria Machado\" ] ;            \n",
      "            madsrdf:birthDate \"1839-06-21\" ;      \n",
      "            madsrdf:birthPlace <http://id.loc.gov/authorities/names> ; \n",
      "            madsrdf:deathDate \"1908-09-29\" ;    \n",
      "            \n",
      "            madsrdf:hasCloseExternalAuthority <http://id.worldcat.org/fast/48407>, <http://www.wikidata.org/entity/Q311145> ;\n",
      "            madsrdf:hasExactExternalAuthority <http://viaf.org/viaf/sourceID/LC%7Cn++80002329#skos:Concept> ;\n",
      "            madsrdf:hasVariant [ a madsrdf:PersonalName,\n",
      "                madsrdf:Variant ;\n",
      "            madsrdf:elementList ( [ a madsrdf:FullNameElement ;\n",
      "                madsrdf:elementValue \"Semana\" ] [ a madsrdf:TermsOfAddressNameElement ;\n",
      "                madsrdf:elementValue \"Dr.\" ] [ a madsrdf:DateNameElement ;\n",
      "                madsrdf:elementValue \"1839-1908\" ] ) ;\n",
      "            madsrdf:variantLabel \"Semana, Dr., 1839-1908\" ] ;\n",
      "            madsrdf:hasAffiliation [ a madsrdf:Affiliation ;\n",
      "            madsrdf:affiliationEnd \"1908\" ;\n",
      "            madsrdf:affiliationStart \"1897\" ;\n",
      "            madsrdf:organization <http://id.loc.gov/authorities/subjects/sh85034154> ] ;\n",
      "            madsrdf:occupation <http://id.loc.gov/authorities/subjects/sh85034154> ;\n",
      "            madsrdf:isMemberOfMADSCollection <https://bibliokeia.com/authorities/name/> .          \n",
      "            } \n",
      "        }\n"
     ]
    }
   ],
   "source": [
    "graph = MakeGraph(request,id)\n",
    "print(graph)"
   ]
  },
  {
   "cell_type": "code",
   "execution_count": 4,
   "metadata": {},
   "outputs": [
    {
     "ename": "QueryBadFormed",
     "evalue": "QueryBadFormed: A bad request has been sent to the endpoint: probably the SPARQL query is badly formed. \n\nResponse:\nb'Encountered \" \"<\" \"< \"\" at line 19, column 15.\\r\\nWas expecting one of:\\r\\n    <IRIref> ...\\r\\n    <PNAME_NS> ...\\r\\n    <PNAME_LN> ...\\r\\n    <BLANK_NODE_LABEL> ...\\r\\n    <VAR1> ...\\r\\n    <VAR2> ...\\r\\n    <ANON> ...\\r\\n    \\n'",
     "output_type": "error",
     "traceback": [
      "\u001b[1;31m---------------------------------------------------------------------------\u001b[0m",
      "\u001b[1;31mHTTPError\u001b[0m                                 Traceback (most recent call last)",
      "File \u001b[1;32mc:\\Users\\Usuário\\Desktop\\BiblioKeia\\venv\\lib\\site-packages\\SPARQLWrapper\\Wrapper.py:926\u001b[0m, in \u001b[0;36mSPARQLWrapper._query\u001b[1;34m(self)\u001b[0m\n\u001b[0;32m    925\u001b[0m \u001b[39melse\u001b[39;00m:\n\u001b[1;32m--> 926\u001b[0m     response \u001b[39m=\u001b[39m urlopener(request)\n\u001b[0;32m    927\u001b[0m \u001b[39mreturn\u001b[39;00m response, \u001b[39mself\u001b[39m\u001b[39m.\u001b[39mreturnFormat\n",
      "File \u001b[1;32m~\\AppData\\Local\\Programs\\Python\\Python310\\lib\\urllib\\request.py:216\u001b[0m, in \u001b[0;36murlopen\u001b[1;34m(url, data, timeout, cafile, capath, cadefault, context)\u001b[0m\n\u001b[0;32m    215\u001b[0m     opener \u001b[39m=\u001b[39m _opener\n\u001b[1;32m--> 216\u001b[0m \u001b[39mreturn\u001b[39;00m opener\u001b[39m.\u001b[39;49mopen(url, data, timeout)\n",
      "File \u001b[1;32m~\\AppData\\Local\\Programs\\Python\\Python310\\lib\\urllib\\request.py:525\u001b[0m, in \u001b[0;36mOpenerDirector.open\u001b[1;34m(self, fullurl, data, timeout)\u001b[0m\n\u001b[0;32m    524\u001b[0m     meth \u001b[39m=\u001b[39m \u001b[39mgetattr\u001b[39m(processor, meth_name)\n\u001b[1;32m--> 525\u001b[0m     response \u001b[39m=\u001b[39m meth(req, response)\n\u001b[0;32m    527\u001b[0m \u001b[39mreturn\u001b[39;00m response\n",
      "File \u001b[1;32m~\\AppData\\Local\\Programs\\Python\\Python310\\lib\\urllib\\request.py:634\u001b[0m, in \u001b[0;36mHTTPErrorProcessor.http_response\u001b[1;34m(self, request, response)\u001b[0m\n\u001b[0;32m    633\u001b[0m \u001b[39mif\u001b[39;00m \u001b[39mnot\u001b[39;00m (\u001b[39m200\u001b[39m \u001b[39m<\u001b[39m\u001b[39m=\u001b[39m code \u001b[39m<\u001b[39m \u001b[39m300\u001b[39m):\n\u001b[1;32m--> 634\u001b[0m     response \u001b[39m=\u001b[39m \u001b[39mself\u001b[39;49m\u001b[39m.\u001b[39;49mparent\u001b[39m.\u001b[39;49merror(\n\u001b[0;32m    635\u001b[0m         \u001b[39m'\u001b[39;49m\u001b[39mhttp\u001b[39;49m\u001b[39m'\u001b[39;49m, request, response, code, msg, hdrs)\n\u001b[0;32m    637\u001b[0m \u001b[39mreturn\u001b[39;00m response\n",
      "File \u001b[1;32m~\\AppData\\Local\\Programs\\Python\\Python310\\lib\\urllib\\request.py:563\u001b[0m, in \u001b[0;36mOpenerDirector.error\u001b[1;34m(self, proto, *args)\u001b[0m\n\u001b[0;32m    562\u001b[0m args \u001b[39m=\u001b[39m (\u001b[39mdict\u001b[39m, \u001b[39m'\u001b[39m\u001b[39mdefault\u001b[39m\u001b[39m'\u001b[39m, \u001b[39m'\u001b[39m\u001b[39mhttp_error_default\u001b[39m\u001b[39m'\u001b[39m) \u001b[39m+\u001b[39m orig_args\n\u001b[1;32m--> 563\u001b[0m \u001b[39mreturn\u001b[39;00m \u001b[39mself\u001b[39;49m\u001b[39m.\u001b[39;49m_call_chain(\u001b[39m*\u001b[39;49margs)\n",
      "File \u001b[1;32m~\\AppData\\Local\\Programs\\Python\\Python310\\lib\\urllib\\request.py:496\u001b[0m, in \u001b[0;36mOpenerDirector._call_chain\u001b[1;34m(self, chain, kind, meth_name, *args)\u001b[0m\n\u001b[0;32m    495\u001b[0m func \u001b[39m=\u001b[39m \u001b[39mgetattr\u001b[39m(handler, meth_name)\n\u001b[1;32m--> 496\u001b[0m result \u001b[39m=\u001b[39m func(\u001b[39m*\u001b[39;49margs)\n\u001b[0;32m    497\u001b[0m \u001b[39mif\u001b[39;00m result \u001b[39mis\u001b[39;00m \u001b[39mnot\u001b[39;00m \u001b[39mNone\u001b[39;00m:\n",
      "File \u001b[1;32m~\\AppData\\Local\\Programs\\Python\\Python310\\lib\\urllib\\request.py:643\u001b[0m, in \u001b[0;36mHTTPDefaultErrorHandler.http_error_default\u001b[1;34m(self, req, fp, code, msg, hdrs)\u001b[0m\n\u001b[0;32m    642\u001b[0m \u001b[39mdef\u001b[39;00m \u001b[39mhttp_error_default\u001b[39m(\u001b[39mself\u001b[39m, req, fp, code, msg, hdrs):\n\u001b[1;32m--> 643\u001b[0m     \u001b[39mraise\u001b[39;00m HTTPError(req\u001b[39m.\u001b[39mfull_url, code, msg, hdrs, fp)\n",
      "\u001b[1;31mHTTPError\u001b[0m: HTTP Error 400: Bad Request",
      "\nDuring handling of the above exception, another exception occurred:\n",
      "\u001b[1;31mQueryBadFormed\u001b[0m                            Traceback (most recent call last)",
      "\u001b[1;32mc:\\Users\\Usuário\\Desktop\\BiblioKeia\\authority.ipynb Cell 6\u001b[0m in \u001b[0;36m<cell line: 2>\u001b[1;34m()\u001b[0m\n\u001b[0;32m      <a href='vscode-notebook-cell:/c%3A/Users/Usu%C3%A1rio/Desktop/BiblioKeia/authority.ipynb#W6sZmlsZQ%3D%3D?line=0'>1</a>\u001b[0m fuseki_update \u001b[39m=\u001b[39m FusekiUpdate(\u001b[39m'\u001b[39m\u001b[39mhttp://localhost:3030\u001b[39m\u001b[39m'\u001b[39m, \u001b[39m'\u001b[39m\u001b[39mauthorities\u001b[39m\u001b[39m'\u001b[39m)\n\u001b[1;32m----> <a href='vscode-notebook-cell:/c%3A/Users/Usu%C3%A1rio/Desktop/BiblioKeia/authority.ipynb#W6sZmlsZQ%3D%3D?line=1'>2</a>\u001b[0m response \u001b[39m=\u001b[39m fuseki_update\u001b[39m.\u001b[39;49mrun_sparql(graph)\n\u001b[0;32m      <a href='vscode-notebook-cell:/c%3A/Users/Usu%C3%A1rio/Desktop/BiblioKeia/authority.ipynb#W6sZmlsZQ%3D%3D?line=2'>3</a>\u001b[0m response\n",
      "File \u001b[1;32mc:\\Users\\Usuário\\Desktop\\BiblioKeia\\venv\\lib\\site-packages\\pyfuseki\\syncFuseki\\fuseki.py:37\u001b[0m, in \u001b[0;36mBaseFuseki.run_sparql\u001b[1;34m(self, sparql_str, return_format)\u001b[0m\n\u001b[0;32m     35\u001b[0m \u001b[39mself\u001b[39m\u001b[39m.\u001b[39msparql_conn\u001b[39m.\u001b[39msetQuery(sparql_str)\n\u001b[0;32m     36\u001b[0m \u001b[39mself\u001b[39m\u001b[39m.\u001b[39msparql_conn\u001b[39m.\u001b[39msetReturnFormat(return_format)\n\u001b[1;32m---> 37\u001b[0m \u001b[39mreturn\u001b[39;00m \u001b[39mself\u001b[39;49m\u001b[39m.\u001b[39;49msparql_conn\u001b[39m.\u001b[39;49mquery()\n",
      "File \u001b[1;32mc:\\Users\\Usuário\\Desktop\\BiblioKeia\\venv\\lib\\site-packages\\SPARQLWrapper\\Wrapper.py:960\u001b[0m, in \u001b[0;36mSPARQLWrapper.query\u001b[1;34m(self)\u001b[0m\n\u001b[0;32m    942\u001b[0m \u001b[39mdef\u001b[39;00m \u001b[39mquery\u001b[39m(\u001b[39mself\u001b[39m) \u001b[39m-\u001b[39m\u001b[39m>\u001b[39m \u001b[39m\"\u001b[39m\u001b[39mQueryResult\u001b[39m\u001b[39m\"\u001b[39m:\n\u001b[0;32m    943\u001b[0m     \u001b[39m\"\"\"\u001b[39;00m\n\u001b[0;32m    944\u001b[0m \u001b[39m    Execute the query.\u001b[39;00m\n\u001b[0;32m    945\u001b[0m \u001b[39m    Exceptions can be raised if either the URI is wrong or the HTTP sends back an error (this is also the\u001b[39;00m\n\u001b[1;32m   (...)\u001b[0m\n\u001b[0;32m    958\u001b[0m \u001b[39m    :rtype: :class:`QueryResult` instance\u001b[39;00m\n\u001b[0;32m    959\u001b[0m \u001b[39m    \"\"\"\u001b[39;00m\n\u001b[1;32m--> 960\u001b[0m     \u001b[39mreturn\u001b[39;00m QueryResult(\u001b[39mself\u001b[39;49m\u001b[39m.\u001b[39;49m_query())\n",
      "File \u001b[1;32mc:\\Users\\Usuário\\Desktop\\BiblioKeia\\venv\\lib\\site-packages\\SPARQLWrapper\\Wrapper.py:930\u001b[0m, in \u001b[0;36mSPARQLWrapper._query\u001b[1;34m(self)\u001b[0m\n\u001b[0;32m    928\u001b[0m \u001b[39mexcept\u001b[39;00m urllib\u001b[39m.\u001b[39merror\u001b[39m.\u001b[39mHTTPError \u001b[39mas\u001b[39;00m e:\n\u001b[0;32m    929\u001b[0m     \u001b[39mif\u001b[39;00m e\u001b[39m.\u001b[39mcode \u001b[39m==\u001b[39m \u001b[39m400\u001b[39m:\n\u001b[1;32m--> 930\u001b[0m         \u001b[39mraise\u001b[39;00m QueryBadFormed(e\u001b[39m.\u001b[39mread())\n\u001b[0;32m    931\u001b[0m     \u001b[39melif\u001b[39;00m e\u001b[39m.\u001b[39mcode \u001b[39m==\u001b[39m \u001b[39m404\u001b[39m:\n\u001b[0;32m    932\u001b[0m         \u001b[39mraise\u001b[39;00m EndPointNotFound(e\u001b[39m.\u001b[39mread())\n",
      "\u001b[1;31mQueryBadFormed\u001b[0m: QueryBadFormed: A bad request has been sent to the endpoint: probably the SPARQL query is badly formed. \n\nResponse:\nb'Encountered \" \"<\" \"< \"\" at line 19, column 15.\\r\\nWas expecting one of:\\r\\n    <IRIref> ...\\r\\n    <PNAME_NS> ...\\r\\n    <PNAME_LN> ...\\r\\n    <BLANK_NODE_LABEL> ...\\r\\n    <VAR1> ...\\r\\n    <VAR2> ...\\r\\n    <ANON> ...\\r\\n    \\n'"
     ]
    }
   ],
   "source": [
    "fuseki_update = FusekiUpdate('http://localhost:3030', 'authorities')\n",
    "response = fuseki_update.run_sparql(graph)\n",
    "response"
   ]
  },
  {
   "cell_type": "code",
   "execution_count": 19,
   "metadata": {},
   "outputs": [
    {
     "data": {
      "text/plain": [
       "<Graph identifier=N52ddc3914ce34664b366746ac6e0f1ba (<class 'rdflib.graph.Graph'>)>"
      ]
     },
     "execution_count": 19,
     "metadata": {},
     "output_type": "execute_result"
    }
   ],
   "source": [
    "g = Graph()\n",
    "g.parse('http://id.loc.gov/authorities/names/n80002329.madsrdf.rdf', format='xml')\n",
    "g.serialize('mads/machado.ttl', format='ttl')"
   ]
  },
  {
   "cell_type": "code",
   "execution_count": 4,
   "metadata": {},
   "outputs": [],
   "source": [
    "class Uri(BaseModel):\n",
    "    value: str\n",
    "    label: str\n",
    "\n",
    "class Label(BaseModel):\n",
    "    value: str\n",
    "    lang: Optional[str]\n",
    "\n",
    "class Element(BaseModel):\n",
    "    type: str\n",
    "    elementValue: Label\n",
    "\n",
    "class Variant(BaseModel):\n",
    "    type: str\n",
    "    # variantLabel: str\n",
    "    elementList: list[Element]"
   ]
  },
  {
   "cell_type": "code",
   "execution_count": 18,
   "metadata": {},
   "outputs": [],
   "source": [
    "class Authority(BaseModel):\n",
    "    type: str\n",
    "    recordChangeDate: datetime = Field(default=datetime.now())\n",
    "    elementList: list[Element]\n",
    "    fullerName: Optional[Element]\n",
    "    birthDate: Optional[str]\n",
    "    birthPlace: Optional[Label]\n",
    "    deathDate: Optional[str]\n",
    "    hasBroaderAuthority: Optional[list[Uri]]\n",
    "    subjectOf: Optional[list[Uri]]\n",
    "    contributionOf: Optional[list[Uri]]\n",
    "    hasCloseExternalAuthority: Optional[list[Uri]]\n",
    "    hasExactExternalAuthority: Optional[list[Uri]]\n",
    "    hasNarrowerAuthority: Optional[list[Uri]]\n",
    "    hasVariant: Optional[list[Variant]]\n",
    "    isMemberOfMADSCollection: str\n",
    "\n"
   ]
  },
  {
   "cell_type": "markdown",
   "metadata": {},
   "source": [
    "subjects"
   ]
  },
  {
   "cell_type": "markdown",
   "metadata": {},
   "source": [
    "PersonalName"
   ]
  },
  {
   "cell_type": "code",
   "execution_count": 24,
   "metadata": {},
   "outputs": [
    {
     "name": "stdout",
     "output_type": "stream",
     "text": [
      "PREFIX rdf: <http://www.w3.org/1999/02/22-rdf-syntax-ns#> \n",
      "    PREFIX madsrdf: <http://www.loc.gov/mads/rdf/v1#> \n",
      "    PREFIX owl: <http://www.w3.org/2002/07/owl#> \n",
      "    PREFIX ri: <http://id.loc.gov/ontologies/RecordInfo#> \n",
      "    PREFIX name: <https://bibliokeia.com/authorities/name/> \n",
      "    PREFIX xsd: <http://www.w3.org/2001/XMLSchema#>\n",
      "    PREFIX rdfs: <http://www.w3.org/2000/01/rdf-schema#>\n",
      "    PREFIX identifiers: <http://id.loc.gov/vocabulary/identifiers/>\n",
      "    PREFIX bf: <http://id.loc.gov/ontologies/bibframe/>     \n",
      "    INSERT DATA {\n",
      "        GRAPH <https://bibliokeia.com/authorities/PersonalName/n50048460>\n",
      "        {\n",
      "        <https://bibliokeia.com/authorities/PersonalName/n50048460> a madsrdf:Authority, \n",
      "            madsrdf:PersonalName ;\n",
      "            identifiers:local \"n50048460\" ;\n",
      "            madsrdf:adminMetadata [ a ri:RecordInfo ; \n",
      "            ri:recordChangeDate \"2023-04-24 20:44:23.373511\"^^xsd:dateTime ;\n",
      "            ri:recordContentSource <http://id.loc.gov/vocabulary/organizations/brmninpa> ;\n",
      "            ri:recordStatus \"novo\"^^xsd:string ] ; \n",
      "            madsrdf:authoritativeLabel \"Machado de Assis, 1839-1908\" ;\n",
      "            madsrdf:elementList ( [ a madsrdf:FullNameElement ;\n",
      "                madsrdf:elementValue \"Machado de Assis\" ] [ a madsrdf:DateNameElement ;\n",
      "                madsrdf:elementValue \"1839-1908\" ] ) ;\n",
      "            madsrdf:fullerName [ a madsrdf:PersonalName ; rdfs:label \"Joaquim Maria Machado\" ] ;            \n",
      "            madsrdf:birthDate \"1839-06-21\"     \n",
      "            madsrdf:birthPlace <http://id.worldcat.org/fast/48407>\n",
      "            madsrdf:deathDate \"1908-09-29\"   \n",
      "            \n",
      "            madsrdf:hasCloseExternalAuthority <http://id.worldcat.org/fast/48407>, <http://www.wikidata.org/entity/Q311145> ;\n",
      "            madsrdf:hasExactExternalAuthority <http://viaf.org/viaf/sourceID/LC%7Cn++80002329#skos:Concept> ;\n",
      "\n",
      "            madsrdf:hasVariant [ a madsrdf:PersonalName,\n",
      "                madsrdf:Variant ;\n",
      "            madsrdf:elementList ( [ a madsrdf:FullNameElement ;\n",
      "                madsrdf:elementValue \"Machado de Assis, Joaquín María\" ] [ a madsrdf:DateNameElement ;\n",
      "                madsrdf:elementValue \"1839-1908\" ] ) ;\n",
      "            madsrdf:variantLabel \"Machado de Assis, Joaquín María, 1839-1908\" ] ;\n",
      "            madsrdf:isMemberOfMADSCollection <https://bibliokeia.com/authorities/PersonalName/> .\n",
      "            \n",
      "        } \n",
      "        }\n"
     ]
    }
   ],
   "source": [
    "id = 'n50048460'\n",
    "graph = f\"\"\"{prefix}    \n",
    "    INSERT DATA {{\n",
    "        GRAPH <https://bibliokeia.com/authorities/{request.type}/{id}>\n",
    "        {{\n",
    "        <https://bibliokeia.com/authorities/{request.type}/{id}> a madsrdf:Authority, \n",
    "            madsrdf:{request.type} ;\n",
    "            identifiers:local \"{id}\" ;\n",
    "            madsrdf:adminMetadata [ a ri:RecordInfo ; \n",
    "            ri:recordChangeDate \"{request.recordChangeDate}\"^^xsd:dateTime ;\n",
    "            ri:recordContentSource <http://id.loc.gov/vocabulary/organizations/brmninpa> ;\n",
    "            ri:recordStatus \"novo\"^^xsd:string ] ; \n",
    "            madsrdf:authoritativeLabel \"{MakeLabel(request.elementList)}\" ;\n",
    "            madsrdf:elementList ( {MakeElement(request.elementList)} ) ;\n",
    "            { f'madsrdf:fullerName [ a madsrdf:PersonalName ; rdfs:label \"{request.fullerName.elementValue.value}\" ] ;' if request.fullerName else ''}            \n",
    "            { f'madsrdf:birthDate \"{request.birthDate}\"' if request.birthDate else ''}     \n",
    "            { f'madsrdf:birthPlace <{request.birthPlace.value}>' if request.birthPlace else ''}\n",
    "            { f'madsrdf:deathDate \"{request.deathDate}\"' if request.deathDate else ''}   \n",
    "            {f'madsrdf:hasBroaderAuthority {\", \".join([ f\"<{i.value}>\" for i in request.hasBroaderAuthority])} ;' if request.hasBroaderAuthority else ''}\n",
    "            {f'madsrdf:hasCloseExternalAuthority {\", \".join([ f\"<{i.value}>\" for i in request.hasCloseExternalAuthority])} ;' if request.hasCloseExternalAuthority else ''}\n",
    "            {f'madsrdf:hasExactExternalAuthority {\", \".join([ f\"<{i.value}>\" for i in request.hasExactExternalAuthority])} ;' if request.hasExactExternalAuthority else ''}\n",
    "\n",
    "            { f'madsrdf:hasVariant { MakeVariant(request.hasVariant) } ;' if request.hasVariant else ''  }\n",
    "            madsrdf:isMemberOfMADSCollection <{request.isMemberOfMADSCollection}> .\n",
    "            \n",
    "        }} \n",
    "        }}\"\"\"\n",
    "print(graph)"
   ]
  },
  {
   "cell_type": "markdown",
   "metadata": {},
   "source": [
    "GenreForm"
   ]
  },
  {
   "cell_type": "code",
   "execution_count": 201,
   "metadata": {},
   "outputs": [
    {
     "data": {
      "text/plain": [
       "{'type': 'GenreForm',\n",
       " 'recordChangeDate': datetime.datetime(2023, 4, 20, 20, 59, 47, 910492),\n",
       " 'authoritativeLabel': {'value': 'Fiction', 'lang': 'en'},\n",
       " 'elementList': [{'type': 'GenreFormElement',\n",
       "   'elementValue': {'value': 'Fiction', 'lang': 'en'}}],\n",
       " 'isMemberOfMADSCollection': 'https://bibliokeia.com/authorities/GenreForm/',\n",
       " 'hasBroaderAuthority': [{'value': 'http://id.loc.gov/authorities/genreForms/gf2014026415',\n",
       "   'label': 'Literature'}],\n",
       " 'subjectOf': None,\n",
       " 'hasCloseExternalAuthority': [{'value': 'http://id.worldcat.org/fast/1423787',\n",
       "   'label': 'Literature'}],\n",
       " 'hasNarrowerAuthority': [{'value': 'http://id.loc.gov/authorities/genreForms/gf2014026217',\n",
       "   'label': 'Literature'},\n",
       "  {'value': 'http://id.loc.gov/authorities/genreForms/gf2014026220',\n",
       "   'label': 'Literature'}],\n",
       " 'hasVariant': [{'type': 'GenreForm',\n",
       "   'variantLabel': 'Stories',\n",
       "   'elementList': [{'type': 'GenreFormElement',\n",
       "     'elementValue': {'value': 'Stories', 'lang': None}}]}]}"
      ]
     },
     "execution_count": 201,
     "metadata": {},
     "output_type": "execute_result"
    }
   ],
   "source": [
    "with open('mads/GenreForm.json', encoding='utf-8') as file:\n",
    "    reader = file.read()\n",
    "    authority = json.loads(reader)\n",
    "    file.close()\n",
    "request = Authority(**authority)\n",
    "request.dict()"
   ]
  },
  {
   "cell_type": "code",
   "execution_count": 8,
   "metadata": {},
   "outputs": [
    {
     "ename": "NameError",
     "evalue": "name 'request' is not defined",
     "output_type": "error",
     "traceback": [
      "\u001b[1;31m---------------------------------------------------------------------------\u001b[0m",
      "\u001b[1;31mNameError\u001b[0m                                 Traceback (most recent call last)",
      "Cell \u001b[1;32mIn[8], line 4\u001b[0m\n\u001b[0;32m      1\u001b[0m \u001b[38;5;28mid\u001b[39m \u001b[38;5;241m=\u001b[39m \u001b[38;5;124m'\u001b[39m\u001b[38;5;124mgf2014026339\u001b[39m\u001b[38;5;124m'\u001b[39m\n\u001b[0;32m      2\u001b[0m graph \u001b[38;5;241m=\u001b[39m \u001b[38;5;124mf\u001b[39m\u001b[38;5;124m\"\"\"\u001b[39m\u001b[38;5;132;01m{\u001b[39;00mprefix\u001b[38;5;132;01m}\u001b[39;00m\u001b[38;5;124m    \u001b[39m\n\u001b[0;32m      3\u001b[0m \u001b[38;5;124m    INSERT DATA \u001b[39m\u001b[38;5;130;01m{{\u001b[39;00m\n\u001b[1;32m----> 4\u001b[0m \u001b[38;5;124m        GRAPH <https://bibliokeia.com/authorities/\u001b[39m\u001b[38;5;132;01m{\u001b[39;00m\u001b[43mrequest\u001b[49m\u001b[38;5;241m.\u001b[39mtype\u001b[38;5;132;01m}\u001b[39;00m\u001b[38;5;124m/\u001b[39m\u001b[38;5;132;01m{\u001b[39;00m\u001b[38;5;28mid\u001b[39m\u001b[38;5;132;01m}\u001b[39;00m\u001b[38;5;124m>\u001b[39m\n\u001b[0;32m      5\u001b[0m \u001b[38;5;124m        \u001b[39m\u001b[38;5;130;01m{{\u001b[39;00m\n\u001b[0;32m      6\u001b[0m \u001b[38;5;124m        <https://bibliokeia.com/authorities/\u001b[39m\u001b[38;5;132;01m{\u001b[39;00mrequest\u001b[38;5;241m.\u001b[39mtype\u001b[38;5;132;01m}\u001b[39;00m\u001b[38;5;124m/\u001b[39m\u001b[38;5;132;01m{\u001b[39;00m\u001b[38;5;28mid\u001b[39m\u001b[38;5;132;01m}\u001b[39;00m\u001b[38;5;124m> a madsrdf:Authority, \u001b[39m\n\u001b[0;32m      7\u001b[0m \u001b[38;5;124m            madsrdf:\u001b[39m\u001b[38;5;132;01m{\u001b[39;00mrequest\u001b[38;5;241m.\u001b[39mtype\u001b[38;5;132;01m}\u001b[39;00m\u001b[38;5;124m ;\u001b[39m\n\u001b[0;32m      8\u001b[0m \u001b[38;5;124m            identifiers:local \u001b[39m\u001b[38;5;124m\"\u001b[39m\u001b[38;5;132;01m{\u001b[39;00m\u001b[38;5;28mid\u001b[39m\u001b[38;5;132;01m}\u001b[39;00m\u001b[38;5;124m\"\u001b[39m\u001b[38;5;124m ;\u001b[39m\n\u001b[0;32m      9\u001b[0m \u001b[38;5;124m            madsrdf:adminMetadata [ a ri:RecordInfo ; \u001b[39m\n\u001b[0;32m     10\u001b[0m \u001b[38;5;124m            ri:recordChangeDate \u001b[39m\u001b[38;5;124m\"\u001b[39m\u001b[38;5;132;01m{\u001b[39;00mrequest\u001b[38;5;241m.\u001b[39mrecordChangeDate\u001b[38;5;132;01m}\u001b[39;00m\u001b[38;5;124m\"\u001b[39m\u001b[38;5;124m^^xsd:dateTime ;\u001b[39m\n\u001b[0;32m     11\u001b[0m \u001b[38;5;124m            ri:recordContentSource <http://id.loc.gov/vocabulary/organizations/brmninpa> ;\u001b[39m\n\u001b[0;32m     12\u001b[0m \u001b[38;5;124m            ri:recordStatus \u001b[39m\u001b[38;5;124m\"\u001b[39m\u001b[38;5;124mnovo\u001b[39m\u001b[38;5;124m\"\u001b[39m\u001b[38;5;124m^^xsd:string ] ; \u001b[39m\n\u001b[0;32m     13\u001b[0m \u001b[38;5;124m            madsrdf:elementList ( \u001b[39m\u001b[38;5;132;01m{\u001b[39;00mMakeElement(request\u001b[38;5;241m.\u001b[39melementList)\u001b[38;5;132;01m}\u001b[39;00m\u001b[38;5;124m ) ;\u001b[39m\n\u001b[0;32m     14\u001b[0m \u001b[38;5;124m            \u001b[39m\u001b[38;5;132;01m{\u001b[39;00m\u001b[38;5;124mf\u001b[39m\u001b[38;5;124m'\u001b[39m\u001b[38;5;124mmadsrdf:hasBroaderAuthority \u001b[39m\u001b[38;5;132;01m{\u001b[39;00m\u001b[38;5;124m\"\u001b[39m\u001b[38;5;124m, \u001b[39m\u001b[38;5;124m\"\u001b[39m\u001b[38;5;241m.\u001b[39mjoin([ \u001b[38;5;124mf\u001b[39m\u001b[38;5;124m\"\u001b[39m\u001b[38;5;124m<\u001b[39m\u001b[38;5;132;01m{\u001b[39;00mi\u001b[38;5;241m.\u001b[39mvalue\u001b[38;5;132;01m}\u001b[39;00m\u001b[38;5;124m>\u001b[39m\u001b[38;5;124m\"\u001b[39m \u001b[38;5;28;01mfor\u001b[39;00m i \u001b[38;5;129;01min\u001b[39;00m request\u001b[38;5;241m.\u001b[39mhasBroaderAuthority])\u001b[38;5;132;01m}\u001b[39;00m\u001b[38;5;124m ;\u001b[39m\u001b[38;5;124m'\u001b[39m \u001b[38;5;28;01mif\u001b[39;00m request\u001b[38;5;241m.\u001b[39mhasBroaderAuthority \u001b[38;5;28;01melse\u001b[39;00m \u001b[38;5;124m'\u001b[39m\u001b[38;5;124m'\u001b[39m\u001b[38;5;132;01m}\u001b[39;00m\n\u001b[0;32m     15\u001b[0m \u001b[38;5;124m            \u001b[39m\u001b[38;5;132;01m{\u001b[39;00m\u001b[38;5;124mf\u001b[39m\u001b[38;5;124m'\u001b[39m\u001b[38;5;124mmadsrdf:hasCloseExternalAuthority \u001b[39m\u001b[38;5;132;01m{\u001b[39;00m\u001b[38;5;124m\"\u001b[39m\u001b[38;5;124m, \u001b[39m\u001b[38;5;124m\"\u001b[39m\u001b[38;5;241m.\u001b[39mjoin([ \u001b[38;5;124mf\u001b[39m\u001b[38;5;124m\"\u001b[39m\u001b[38;5;124m<\u001b[39m\u001b[38;5;132;01m{\u001b[39;00mi\u001b[38;5;241m.\u001b[39mvalue\u001b[38;5;132;01m}\u001b[39;00m\u001b[38;5;124m>\u001b[39m\u001b[38;5;124m\"\u001b[39m \u001b[38;5;28;01mfor\u001b[39;00m i \u001b[38;5;129;01min\u001b[39;00m request\u001b[38;5;241m.\u001b[39mhasCloseExternalAuthority])\u001b[38;5;132;01m}\u001b[39;00m\u001b[38;5;124m ;\u001b[39m\u001b[38;5;124m'\u001b[39m \u001b[38;5;28;01mif\u001b[39;00m request\u001b[38;5;241m.\u001b[39mhasCloseExternalAuthority \u001b[38;5;28;01melse\u001b[39;00m \u001b[38;5;124m'\u001b[39m\u001b[38;5;124m'\u001b[39m\u001b[38;5;132;01m}\u001b[39;00m\n\u001b[0;32m     16\u001b[0m \u001b[38;5;124m             \u001b[39m\u001b[38;5;132;01m{\u001b[39;00m\u001b[38;5;124mf\u001b[39m\u001b[38;5;124m'\u001b[39m\u001b[38;5;124mmadsrdf:hasNarrowerAuthority \u001b[39m\u001b[38;5;132;01m{\u001b[39;00m\u001b[38;5;124m\"\u001b[39m\u001b[38;5;124m, \u001b[39m\u001b[38;5;124m\"\u001b[39m\u001b[38;5;241m.\u001b[39mjoin([ \u001b[38;5;124mf\u001b[39m\u001b[38;5;124m\"\u001b[39m\u001b[38;5;124m<\u001b[39m\u001b[38;5;132;01m{\u001b[39;00mi\u001b[38;5;241m.\u001b[39mvalue\u001b[38;5;132;01m}\u001b[39;00m\u001b[38;5;124m>\u001b[39m\u001b[38;5;124m\"\u001b[39m \u001b[38;5;28;01mfor\u001b[39;00m i \u001b[38;5;129;01min\u001b[39;00m request\u001b[38;5;241m.\u001b[39mhasNarrowerAuthority])\u001b[38;5;132;01m}\u001b[39;00m\u001b[38;5;124m ;\u001b[39m\u001b[38;5;124m'\u001b[39m \u001b[38;5;28;01mif\u001b[39;00m request\u001b[38;5;241m.\u001b[39mhasNarrowerAuthority \u001b[38;5;28;01melse\u001b[39;00m \u001b[38;5;124m'\u001b[39m\u001b[38;5;124m'\u001b[39m\u001b[38;5;132;01m}\u001b[39;00m\n\u001b[0;32m     17\u001b[0m \u001b[38;5;124m            \u001b[39m\u001b[38;5;132;01m{\u001b[39;00m \u001b[38;5;124mf\u001b[39m\u001b[38;5;124m'\u001b[39m\u001b[38;5;124mmadsrdf:hasVariant \u001b[39m\u001b[38;5;132;01m{\u001b[39;00m MakeVariant(request\u001b[38;5;241m.\u001b[39mhasVariant) \u001b[38;5;132;01m}\u001b[39;00m\u001b[38;5;124m ;\u001b[39m\u001b[38;5;124m'\u001b[39m \u001b[38;5;28;01mif\u001b[39;00m request\u001b[38;5;241m.\u001b[39mhasVariant \u001b[38;5;28;01melse\u001b[39;00m \u001b[38;5;124m'\u001b[39m\u001b[38;5;124m'\u001b[39m  \u001b[38;5;132;01m}\u001b[39;00m\n\u001b[0;32m     18\u001b[0m \u001b[38;5;124m            madsrdf:isMemberOfMADSCollection <\u001b[39m\u001b[38;5;132;01m{\u001b[39;00mrequest\u001b[38;5;241m.\u001b[39misMemberOfMADSCollection\u001b[38;5;132;01m}\u001b[39;00m\u001b[38;5;124m> .\u001b[39m\n\u001b[0;32m     19\u001b[0m \u001b[38;5;124m            \u001b[39m\n\u001b[0;32m     20\u001b[0m \u001b[38;5;124m        \u001b[39m\u001b[38;5;130;01m}}\u001b[39;00m\u001b[38;5;124m \u001b[39m\n\u001b[0;32m     21\u001b[0m \u001b[38;5;124m        \u001b[39m\u001b[38;5;130;01m}}\u001b[39;00m\u001b[38;5;124m\"\"\"\u001b[39m\n\u001b[0;32m     22\u001b[0m \u001b[38;5;28mprint\u001b[39m(graph)\n",
      "\u001b[1;31mNameError\u001b[0m: name 'request' is not defined"
     ]
    }
   ],
   "source": [
    "id = 'gf2014026339'\n",
    "graph = f\"\"\"{prefix}    \n",
    "    INSERT DATA {{\n",
    "        GRAPH <https://bibliokeia.com/authorities/{request.type}/{id}>\n",
    "        {{\n",
    "        <https://bibliokeia.com/authorities/{request.type}/{id}> a madsrdf:Authority, \n",
    "            madsrdf:{request.type} ;\n",
    "            identifiers:local \"{id}\" ;\n",
    "            madsrdf:adminMetadata [ a ri:RecordInfo ; \n",
    "            ri:recordChangeDate \"{request.recordChangeDate}\"^^xsd:dateTime ;\n",
    "            ri:recordContentSource <http://id.loc.gov/vocabulary/organizations/brmninpa> ;\n",
    "            ri:recordStatus \"novo\"^^xsd:string ] ; \n",
    "            madsrdf:elementList ( {MakeElement(request.elementList)} ) ;\n",
    "            {f'madsrdf:hasBroaderAuthority {\", \".join([ f\"<{i.value}>\" for i in request.hasBroaderAuthority])} ;' if request.hasBroaderAuthority else ''}\n",
    "            {f'madsrdf:hasCloseExternalAuthority {\", \".join([ f\"<{i.value}>\" for i in request.hasCloseExternalAuthority])} ;' if request.hasCloseExternalAuthority else ''}\n",
    "             {f'madsrdf:hasNarrowerAuthority {\", \".join([ f\"<{i.value}>\" for i in request.hasNarrowerAuthority])} ;' if request.hasNarrowerAuthority else ''}\n",
    "            { f'madsrdf:hasVariant { MakeVariant(request.hasVariant) } ;' if request.hasVariant else ''  }\n",
    "            madsrdf:isMemberOfMADSCollection <{request.isMemberOfMADSCollection}> .\n",
    "            \n",
    "        }} \n",
    "        }}\"\"\"\n",
    "print(graph)"
   ]
  }
 ],
 "metadata": {
  "kernelspec": {
   "display_name": "Python 3.11.0 ('venv': venv)",
   "language": "python",
   "name": "python3"
  },
  "language_info": {
   "codemirror_mode": {
    "name": "ipython",
    "version": 3
   },
   "file_extension": ".py",
   "mimetype": "text/x-python",
   "name": "python",
   "nbconvert_exporter": "python",
   "pygments_lexer": "ipython3",
   "version": "3.10.4"
  },
  "orig_nbformat": 4,
  "vscode": {
   "interpreter": {
    "hash": "5df21a170a08fe7c24b5b1091267edae5bad3984f1116f28e957af7dd8f192dc"
   }
  }
 },
 "nbformat": 4,
 "nbformat_minor": 2
}
