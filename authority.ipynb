{
 "cells": [
  {
   "cell_type": "code",
   "execution_count": 1,
   "metadata": {},
   "outputs": [],
   "source": [
    "from pydantic import BaseModel, validator, Field\n",
    "from typing import Optional, Union\n",
    "from datetime import datetime\n",
    "import rdflib\n",
    "from rdflib import Graph\n",
    "from pyfuseki import FusekiUpdate, FusekiQuery\n",
    "from rdflib import Namespace\n",
    "from rdflib import URIRef\n",
    "import json\n",
    "from api.src.schemas.authorities.authority import Authority\n",
    "from api.src.function.authorities.makeGraph import MakeGraph\n",
    "from api.src.function.authorities.generateID import GenerateId\n",
    "from datetime import date\n",
    "from pysolr import Solr\n",
    "from api.src.function.authorities.makeLabel import MakeLabel\n",
    "from api.src.function.authorities.makeVariant import MakeVariant\n",
    "from api.src.function.authorities.makeElement import MakeElement\n",
    "from api.src.function.solr.docAuthority import MakeDoc, MakeVariantLabel\n",
    "from api.src.function.authorities.makeElement import MakeComplexElement"
   ]
  },
  {
   "attachments": {},
   "cell_type": "markdown",
   "metadata": {},
   "source": [
    "NameTitle"
   ]
  },
  {
   "cell_type": "code",
   "execution_count": 2,
   "metadata": {},
   "outputs": [
    {
     "data": {
      "text/plain": [
       "<Graph identifier=N26e513e03b344288aef4e6c12388d2ec (<class 'rdflib.graph.Graph'>)>"
      ]
     },
     "execution_count": 2,
     "metadata": {},
     "output_type": "execute_result"
    }
   ],
   "source": [
    "g = Graph()\n",
    "g.parse('https://www.loc.gov/standards/mads/rdf/v1/examples/n00000707.ttl', format='ttl')\n",
    "g.serialize('exemples/nameTitle.ttl')"
   ]
  },
  {
   "cell_type": "code",
   "execution_count": null,
   "metadata": {},
   "outputs": [],
   "source": [
    "with open('exemples/nameTitle.json', encoding='utf-8') as file:\n",
    "    reader = file.read()\n",
    "    authority = json.loads(reader)\n",
    "    file.close()\n",
    "request = Authority(**authority)\n",
    "request.dict()"
   ]
  },
  {
   "cell_type": "code",
   "execution_count": 3,
   "metadata": {},
   "outputs": [
    {
     "data": {
      "text/plain": [
       "'bkau-8'"
      ]
     },
     "execution_count": 3,
     "metadata": {},
     "output_type": "execute_result"
    }
   ],
   "source": [
    "id = GenerateId()\n",
    "id"
   ]
  },
  {
   "cell_type": "code",
   "execution_count": null,
   "metadata": {},
   "outputs": [],
   "source": [
    "graph = MakeGraph(request, id)\n",
    "print(graph)"
   ]
  },
  {
   "cell_type": "code",
   "execution_count": 4,
   "metadata": {},
   "outputs": [
    {
     "data": {
      "text/plain": [
       "{'id': 'bkau-8',\n",
       " 'type': 'NameTitle',\n",
       " 'creationDate': '2023-04-28',\n",
       " 'label': 'Gogh, Vincent van, 1853-1890. Peat boat',\n",
       " 'isMemberOfMADSCollection': 'https://bibliokeia.com/authorities/name/',\n",
       " 'birthDate': '1839-06-21',\n",
       " 'birthPlace': 'Rio de Janeiro',\n",
       " 'deathDate': '1908-09-29',\n",
       " 'occupation': ['Bureaucrats'],\n",
       " 'hasAffiliation': [{'organization': 'Academia',\n",
       "   'uri': 'http://id.loc.gov/authorities/subjects/sh85034154',\n",
       "   'affiliationStart': '1897',\n",
       "   'affiliationEnd': '1908'}],\n",
       " 'hasExactExternalAuthority': [{'value': 'http://viaf.org/viaf/sourceID/LC%7Cn++80002329#skos:Concept',\n",
       "   'label': 'Machado',\n",
       "   'base': 'LOC'}],\n",
       " 'hasVariant': ['Semana, Dr., 1839-1908']}"
      ]
     },
     "execution_count": 4,
     "metadata": {},
     "output_type": "execute_result"
    }
   ],
   "source": [
    "doc = MakeDoc(request, id)\n",
    "doc"
   ]
  },
  {
   "attachments": {},
   "cell_type": "markdown",
   "metadata": {},
   "source": [
    "ComplexSubject"
   ]
  },
  {
   "cell_type": "code",
   "execution_count": null,
   "metadata": {},
   "outputs": [],
   "source": [
    "with open('exemples\\ComplexSubject.json', encoding='utf-8') as file:\n",
    "    reader = file.read()\n",
    "    authority = json.loads(reader)\n",
    "    file.close()\n",
    "request = Authority(**authority)\n",
    "request.dict()"
   ]
  },
  {
   "cell_type": "code",
   "execution_count": null,
   "metadata": {},
   "outputs": [],
   "source": [
    "MakeComplexElement(componentList)"
   ]
  },
  {
   "cell_type": "code",
   "execution_count": 8,
   "metadata": {},
   "outputs": [
    {
     "name": "stdout",
     "output_type": "stream",
     "text": [
      "[ComponentList(type='Geographic', elementList=[Element(type='GeographicElement', elementValue=Label(value='Ireland', lang=None))]), ComponentList(type='Topic', elementList=[Element(type='TopicElement', elementValue=Label(value='Peerage', lang=None))])]\n"
     ]
    }
   ],
   "source": [
    "for i in request.hasVariant:\n",
    "    print(i.componentList)"
   ]
  },
  {
   "cell_type": "code",
   "execution_count": null,
   "metadata": {},
   "outputs": [],
   "source": [
    "graph = MakeGraph(request, id)\n",
    "print(graph)"
   ]
  },
  {
   "cell_type": "code",
   "execution_count": 4,
   "metadata": {},
   "outputs": [
    {
     "data": {
      "text/plain": [
       "'bkau-7'"
      ]
     },
     "execution_count": 4,
     "metadata": {},
     "output_type": "execute_result"
    }
   ],
   "source": [
    "id = GenerateId()\n",
    "id"
   ]
  },
  {
   "cell_type": "code",
   "execution_count": 15,
   "metadata": {},
   "outputs": [],
   "source": [
    "solr = Solr('http://localhost:8983/solr/authorities/', timeout=10)"
   ]
  },
  {
   "cell_type": "code",
   "execution_count": 4,
   "metadata": {},
   "outputs": [
    {
     "data": {
      "text/plain": [
       "'<?xml version=\"1.0\" encoding=\"UTF-8\"?>\\n<response>\\n\\n<lst name=\"responseHeader\">\\n  <int name=\"status\">0</int>\\n  <int name=\"QTime\">190</int>\\n</lst>\\n</response>\\n'"
      ]
     },
     "execution_count": 4,
     "metadata": {},
     "output_type": "execute_result"
    }
   ],
   "source": [
    "solr.delete(q=\"*:*\", commit=True)"
   ]
  },
  {
   "cell_type": "code",
   "execution_count": 5,
   "metadata": {},
   "outputs": [
    {
     "data": {
      "text/plain": [
       "{'type': 'ComplexSubject',\n",
       " 'adminMetadata': {'assigner': 'http://id.loc.gov/vocabulary/organizations/brmninpa',\n",
       "  'descriptionModifier': 'http://id.loc.gov/vocabulary/organizations/brmninpa',\n",
       "  'creationDate': datetime.date(2023, 4, 27),\n",
       "  'descriptionLanguage': 'http://id.loc.gov/vocabulary/languages/por',\n",
       "  'generationProcess': {'label': 'BiblioKeia Beta',\n",
       "   'generationDate': '2023-04-27T14:45:33'},\n",
       "  'identifiedBy': {'assigner': 'http://id.loc.gov/vocabulary/organizations/dlc',\n",
       "   'value': 'sh85068030'},\n",
       "  'status': {'value': 'mstatus:new', 'label': 'novo'}},\n",
       " 'elementList': None,\n",
       " 'componentList': [{'value': 'http://id.loc.gov/authorities/subjects/sh99005752',\n",
       "   'label': 'Nobility',\n",
       "   'base': 'loc'},\n",
       "  {'value': 'http://id.loc.gov/authorities/subjects/sh99005752',\n",
       "   'label': 'Ireland',\n",
       "   'base': 'loc'}],\n",
       " 'fullerName': None,\n",
       " 'birthDate': None,\n",
       " 'birthPlace': None,\n",
       " 'deathDate': None,\n",
       " 'occupation': None,\n",
       " 'hasAffiliation': None,\n",
       " 'hasBroaderAuthority': None,\n",
       " 'subjectOf': None,\n",
       " 'contributionOf': None,\n",
       " 'hasCloseExternalAuthority': None,\n",
       " 'hasExactExternalAuthority': None,\n",
       " 'hasNarrowerAuthority': [{'value': 'http://id.loc.gov/authorities/sh85075905',\n",
       "   'label': 'Machado',\n",
       "   'base': 'loc'}],\n",
       " 'hasVariant': [{'type': 'ComplexSubject',\n",
       "   'elementList': None,\n",
       "   'componentList': [{'type': 'Geographic',\n",
       "     'elementList': [{'type': 'GeographicElement',\n",
       "       'elementValue': {'value': 'Ireland', 'lang': None}}]},\n",
       "    {'type': 'Topic',\n",
       "     'elementList': [{'type': 'TopicElement',\n",
       "       'elementValue': {'value': 'Nobility', 'lang': None}}]}]},\n",
       "  {'type': 'ComplexSubject',\n",
       "   'elementList': None,\n",
       "   'componentList': [{'type': 'Geographic',\n",
       "     'elementList': [{'type': 'GeographicElement',\n",
       "       'elementValue': {'value': 'Ireland', 'lang': None}}]},\n",
       "    {'type': 'Topic',\n",
       "     'elementList': [{'type': 'TopicElement',\n",
       "       'elementValue': {'value': 'Peerage', 'lang': None}}]}]}],\n",
       " 'isMemberOfMADSCollection': 'https://bibliokeia.com/authorities/ComplexSubject/'}"
      ]
     },
     "execution_count": 5,
     "metadata": {},
     "output_type": "execute_result"
    }
   ],
   "source": [
    "with open('exemples\\ComplexSubject.json', encoding='utf-8') as file:\n",
    "    reader = file.read()\n",
    "    authority = json.loads(reader)\n",
    "    file.close()\n",
    "request = Authority(**authority)\n",
    "request.dict()"
   ]
  },
  {
   "cell_type": "code",
   "execution_count": 12,
   "metadata": {},
   "outputs": [
    {
     "data": {
      "text/plain": [
       "'Zimbabwe--Economic policy'"
      ]
     },
     "execution_count": 12,
     "metadata": {},
     "output_type": "execute_result"
    }
   ],
   "source": [
    "x = \"--\".join([i.label for i in request.componentList])\n",
    "x"
   ]
  },
  {
   "cell_type": "code",
   "execution_count": 16,
   "metadata": {},
   "outputs": [
    {
     "data": {
      "text/plain": [
       "'{\\n  \"responseHeader\":{\\n    \"status\":0,\\n    \"QTime\":231}}\\n'"
      ]
     },
     "execution_count": 16,
     "metadata": {},
     "output_type": "execute_result"
    }
   ],
   "source": [
    "response = solr.add([doc], commit=True)\n",
    "response"
   ]
  },
  {
   "cell_type": "code",
   "execution_count": 7,
   "metadata": {},
   "outputs": [
    {
     "data": {
      "text/plain": [
       "<SPARQLWrapper.Wrapper.QueryResult at 0x15f0efac430>"
      ]
     },
     "execution_count": 7,
     "metadata": {},
     "output_type": "execute_result"
    }
   ],
   "source": [
    "fuseki_update = FusekiUpdate('http://localhost:3030', 'authorities')\n",
    "response = fuseki_update.run_sparql(graph)\n",
    "response"
   ]
  },
  {
   "cell_type": "code",
   "execution_count": 19,
   "metadata": {},
   "outputs": [
    {
     "data": {
      "text/plain": [
       "<Graph identifier=N52ddc3914ce34664b366746ac6e0f1ba (<class 'rdflib.graph.Graph'>)>"
      ]
     },
     "execution_count": 19,
     "metadata": {},
     "output_type": "execute_result"
    }
   ],
   "source": [
    "g = Graph()\n",
    "g.parse('http://id.loc.gov/authorities/names/n80002329.madsrdf.rdf', format='xml')\n",
    "g.serialize('mads/machado.ttl', format='ttl')"
   ]
  },
  {
   "cell_type": "markdown",
   "metadata": {},
   "source": [
    "subjects"
   ]
  },
  {
   "cell_type": "markdown",
   "metadata": {},
   "source": [
    "PersonalName"
   ]
  },
  {
   "cell_type": "code",
   "execution_count": 3,
   "metadata": {},
   "outputs": [
    {
     "data": {
      "text/plain": [
       "{'type': 'PersonalName',\n",
       " 'adminMetadata': {'assigner': 'http://id.loc.gov/vocabulary/organizations/brmninpa',\n",
       "  'descriptionModifier': 'http://id.loc.gov/vocabulary/organizations/brmninpa',\n",
       "  'creationDate': datetime.date(2023, 4, 27),\n",
       "  'descriptionLanguage': 'http://id.loc.gov/vocabulary/languages/por',\n",
       "  'generationProcess': {'label': 'BiblioKeia Beta',\n",
       "   'generationDate': '2023-04-27T16:00:28'},\n",
       "  'identifiedBy': {'assigner': 'http://id.loc.gov/vocabulary/organizations/dlc',\n",
       "   'value': 'n80002329'},\n",
       "  'status': {'value': 'mstatus:new', 'label': 'novo'}},\n",
       " 'elementList': [{'type': 'PersonalName',\n",
       "   'elementValue': {'value': 'Machado de Assis', 'lang': None}},\n",
       "  {'type': 'DateNameElement',\n",
       "   'elementValue': {'value': '1839-1908', 'lang': None}}],\n",
       " 'componentList': None,\n",
       " 'fullerName': {'type': 'PersonalName',\n",
       "  'elementValue': {'value': 'Joaquim Maria Machado', 'lang': None}},\n",
       " 'birthDate': '1839-06-21',\n",
       " 'birthPlace': {'value': 'http://id.loc.gov/authorities/names',\n",
       "  'label': 'Rio de Janeiro',\n",
       "  'base': 'bibliokeia'},\n",
       " 'deathDate': '1908-09-29',\n",
       " 'occupation': [{'value': 'http://id.loc.gov/authorities/subjects/sh85034154',\n",
       "   'label': 'Bureaucrats',\n",
       "   'base': 'LOC'}],\n",
       " 'hasAffiliation': [{'organization': 'Academia',\n",
       "   'uri': 'http://id.loc.gov/authorities/subjects/sh85034154',\n",
       "   'affiliationStart': '1897',\n",
       "   'affiliationEnd': '1908'}],\n",
       " 'hasBroaderAuthority': None,\n",
       " 'subjectOf': None,\n",
       " 'contributionOf': None,\n",
       " 'hasCloseExternalAuthority': [{'value': 'http://id.worldcat.org/fast/48407',\n",
       "   'label': 'Machado',\n",
       "   'base': 'worldcat'},\n",
       "  {'value': 'http://www.wikidata.org/entity/Q311145',\n",
       "   'label': 'Machado',\n",
       "   'base': 'wikidata'}],\n",
       " 'hasExactExternalAuthority': [{'value': 'http://viaf.org/viaf/sourceID/LC%7Cn++80002329#skos:Concept',\n",
       "   'label': 'Machado',\n",
       "   'base': 'LOC'}],\n",
       " 'hasNarrowerAuthority': None,\n",
       " 'hasVariant': [{'type': 'PersonalName',\n",
       "   'elementList': [{'type': 'FullNameElement',\n",
       "     'elementValue': {'value': 'Semana', 'lang': None}},\n",
       "    {'type': 'TermsOfAddressNameElement',\n",
       "     'elementValue': {'value': 'Dr.', 'lang': None}},\n",
       "    {'type': 'DateNameElement',\n",
       "     'elementValue': {'value': '1839-1908', 'lang': None}}],\n",
       "   'componentList': None}],\n",
       " 'isMemberOfMADSCollection': 'https://bibliokeia.com/authorities/name/'}"
      ]
     },
     "execution_count": 3,
     "metadata": {},
     "output_type": "execute_result"
    }
   ],
   "source": [
    "with open('exemples\\personalName.json', encoding='utf-8') as file:\n",
    "    reader = file.read()\n",
    "    authority = json.loads(reader)\n",
    "    file.close()\n",
    "request = Authority(**authority)\n",
    "request.dict()"
   ]
  },
  {
   "cell_type": "code",
   "execution_count": null,
   "metadata": {},
   "outputs": [],
   "source": [
    "id = GenerateId()\n",
    "graph = MakeGraph(request, id)\n",
    "print(graph)"
   ]
  },
  {
   "cell_type": "code",
   "execution_count": 19,
   "metadata": {},
   "outputs": [
    {
     "name": "stdout",
     "output_type": "stream",
     "text": [
      "Semana, Dr., 1839-1908\n"
     ]
    }
   ],
   "source": [
    "for i in request.hasVariant:\n",
    "    if i.type =='ComplexSubject':\n",
    "        pass\n",
    "    else:\n",
    "        label = \", \".join([j.elementValue.value for j in i.elementList])\n",
    "        print(label)"
   ]
  },
  {
   "cell_type": "code",
   "execution_count": 11,
   "metadata": {},
   "outputs": [
    {
     "ename": "AttributeError",
     "evalue": "'Variant' object has no attribute 'elementValue'",
     "output_type": "error",
     "traceback": [
      "\u001b[1;31m---------------------------------------------------------------------------\u001b[0m",
      "\u001b[1;31mAttributeError\u001b[0m                            Traceback (most recent call last)",
      "\u001b[1;32mc:\\Users\\Usuário\\Desktop\\BiblioKeia\\authority.ipynb Cell 24\u001b[0m in \u001b[0;36m<cell line: 1>\u001b[1;34m()\u001b[0m\n\u001b[1;32m----> <a href='vscode-notebook-cell:/c%3A/Users/Usu%C3%A1rio/Desktop/BiblioKeia/authority.ipynb#Y104sZmlsZQ%3D%3D?line=0'>1</a>\u001b[0m MakeVariantLabel(request\u001b[39m.\u001b[39;49mhasVariant)\n",
      "File \u001b[1;32mc:\\Users\\Usuário\\Desktop\\BiblioKeia\\api\\src\\function\\solr\\docAuthority.py:17\u001b[0m, in \u001b[0;36mMakeVariantLabel\u001b[1;34m(hasVariant)\u001b[0m\n\u001b[0;32m     15\u001b[0m     \u001b[39melse\u001b[39;00m:\n\u001b[0;32m     16\u001b[0m         \u001b[39mfor\u001b[39;00m j \u001b[39min\u001b[39;00m i\u001b[39m.\u001b[39melementList:\n\u001b[1;32m---> 17\u001b[0m             variantes\u001b[39m.\u001b[39mappend(i\u001b[39m.\u001b[39;49melementValue\u001b[39m.\u001b[39mvalue)\n\u001b[0;32m     21\u001b[0m \u001b[39mreturn\u001b[39;00m variantes\n",
      "\u001b[1;31mAttributeError\u001b[0m: 'Variant' object has no attribute 'elementValue'"
     ]
    }
   ],
   "source": [
    "MakeVariantLabel(request.hasVariant)"
   ]
  },
  {
   "cell_type": "code",
   "execution_count": 6,
   "metadata": {},
   "outputs": [
    {
     "ename": "AttributeError",
     "evalue": "'Variant' object has no attribute 'elementValue'",
     "output_type": "error",
     "traceback": [
      "\u001b[1;31m---------------------------------------------------------------------------\u001b[0m",
      "\u001b[1;31mAttributeError\u001b[0m                            Traceback (most recent call last)",
      "\u001b[1;32mc:\\Users\\Usuário\\Desktop\\BiblioKeia\\authority.ipynb Cell 27\u001b[0m in \u001b[0;36m<cell line: 1>\u001b[1;34m()\u001b[0m\n\u001b[1;32m----> <a href='vscode-notebook-cell:/c%3A/Users/Usu%C3%A1rio/Desktop/BiblioKeia/authority.ipynb#Y103sZmlsZQ%3D%3D?line=0'>1</a>\u001b[0m doc \u001b[39m=\u001b[39m MakeDoc(request, \u001b[39mid\u001b[39;49m)\n\u001b[0;32m      <a href='vscode-notebook-cell:/c%3A/Users/Usu%C3%A1rio/Desktop/BiblioKeia/authority.ipynb#Y103sZmlsZQ%3D%3D?line=1'>2</a>\u001b[0m doc\n",
      "File \u001b[1;32mc:\\Users\\Usuário\\Desktop\\BiblioKeia\\api\\src\\function\\solr\\docAuthority.py:52\u001b[0m, in \u001b[0;36mMakeDoc\u001b[1;34m(request, id)\u001b[0m\n\u001b[0;32m     50\u001b[0m     doc[\u001b[39m'\u001b[39m\u001b[39mhasNarrowerAuthority\u001b[39m\u001b[39m'\u001b[39m]  \u001b[39m=\u001b[39m [i\u001b[39m.\u001b[39mdict() \u001b[39mfor\u001b[39;00m i \u001b[39min\u001b[39;00m request\u001b[39m.\u001b[39mhasNarrowerAuthority]\n\u001b[0;32m     51\u001b[0m \u001b[39mif\u001b[39;00m request\u001b[39m.\u001b[39mhasVariant:\n\u001b[1;32m---> 52\u001b[0m     doc[\u001b[39m'\u001b[39m\u001b[39mhasVariant\u001b[39m\u001b[39m'\u001b[39m] \u001b[39m=\u001b[39m MakeVariantLabel(request\u001b[39m.\u001b[39;49mhasVariant)\n\u001b[0;32m     54\u001b[0m \u001b[39mreturn\u001b[39;00m doc\n",
      "File \u001b[1;32mc:\\Users\\Usuário\\Desktop\\BiblioKeia\\api\\src\\function\\solr\\docAuthority.py:17\u001b[0m, in \u001b[0;36mMakeVariantLabel\u001b[1;34m(hasVariant)\u001b[0m\n\u001b[0;32m     15\u001b[0m     \u001b[39melse\u001b[39;00m:\n\u001b[0;32m     16\u001b[0m         \u001b[39mfor\u001b[39;00m j \u001b[39min\u001b[39;00m i\u001b[39m.\u001b[39melementList:\n\u001b[1;32m---> 17\u001b[0m             variantes\u001b[39m.\u001b[39mappend(i\u001b[39m.\u001b[39;49melementValue\u001b[39m.\u001b[39mvalue)\n\u001b[0;32m     21\u001b[0m \u001b[39mreturn\u001b[39;00m variantes\n",
      "\u001b[1;31mAttributeError\u001b[0m: 'Variant' object has no attribute 'elementValue'"
     ]
    }
   ],
   "source": [
    "doc = MakeDoc(request, id)\n",
    "doc"
   ]
  },
  {
   "cell_type": "markdown",
   "metadata": {},
   "source": [
    "GenreForm"
   ]
  },
  {
   "cell_type": "code",
   "execution_count": 201,
   "metadata": {},
   "outputs": [
    {
     "data": {
      "text/plain": [
       "{'type': 'GenreForm',\n",
       " 'recordChangeDate': datetime.datetime(2023, 4, 20, 20, 59, 47, 910492),\n",
       " 'authoritativeLabel': {'value': 'Fiction', 'lang': 'en'},\n",
       " 'elementList': [{'type': 'GenreFormElement',\n",
       "   'elementValue': {'value': 'Fiction', 'lang': 'en'}}],\n",
       " 'isMemberOfMADSCollection': 'https://bibliokeia.com/authorities/GenreForm/',\n",
       " 'hasBroaderAuthority': [{'value': 'http://id.loc.gov/authorities/genreForms/gf2014026415',\n",
       "   'label': 'Literature'}],\n",
       " 'subjectOf': None,\n",
       " 'hasCloseExternalAuthority': [{'value': 'http://id.worldcat.org/fast/1423787',\n",
       "   'label': 'Literature'}],\n",
       " 'hasNarrowerAuthority': [{'value': 'http://id.loc.gov/authorities/genreForms/gf2014026217',\n",
       "   'label': 'Literature'},\n",
       "  {'value': 'http://id.loc.gov/authorities/genreForms/gf2014026220',\n",
       "   'label': 'Literature'}],\n",
       " 'hasVariant': [{'type': 'GenreForm',\n",
       "   'variantLabel': 'Stories',\n",
       "   'elementList': [{'type': 'GenreFormElement',\n",
       "     'elementValue': {'value': 'Stories', 'lang': None}}]}]}"
      ]
     },
     "execution_count": 201,
     "metadata": {},
     "output_type": "execute_result"
    }
   ],
   "source": [
    "with open('mads/GenreForm.json', encoding='utf-8') as file:\n",
    "    reader = file.read()\n",
    "    authority = json.loads(reader)\n",
    "    file.close()\n",
    "request = Authority(**authority)\n",
    "request.dict()"
   ]
  }
 ],
 "metadata": {
  "kernelspec": {
   "display_name": "Python 3.11.0 ('venv': venv)",
   "language": "python",
   "name": "python3"
  },
  "language_info": {
   "codemirror_mode": {
    "name": "ipython",
    "version": 3
   },
   "file_extension": ".py",
   "mimetype": "text/x-python",
   "name": "python",
   "nbconvert_exporter": "python",
   "pygments_lexer": "ipython3",
   "version": "3.10.4"
  },
  "orig_nbformat": 4,
  "vscode": {
   "interpreter": {
    "hash": "5df21a170a08fe7c24b5b1091267edae5bad3984f1116f28e957af7dd8f192dc"
   }
  }
 },
 "nbformat": 4,
 "nbformat_minor": 2
}
