{
 "cells": [
  {
   "cell_type": "code",
   "execution_count": 1,
   "metadata": {},
   "outputs": [],
   "source": [
    "from pyfuseki import FusekiQuery, FusekiUpdate\n",
    "from pysolr import Solr\n",
    "import httpx\n",
    "from rdflib import Graph\n",
    "from api.src.routes.translate.makeTranslate import MakeTranslate\n",
    "from api.src.function.loc.graphExist import GraphExist\n",
    "from pydantic import BaseModel\n",
    "from typing import Optional\n",
    "from api.src.schemas.authorities.authority import Uri, Variant, AdminMetadata, Element\n",
    "from api.src.function.authorities.makeGraph import MakeGraphSubject"
   ]
  },
  {
   "cell_type": "code",
   "execution_count": 10,
   "metadata": {},
   "outputs": [],
   "source": [
    "from api.src.function.authorities.makeGraph import MakeGraphSubject"
   ]
  },
  {
   "cell_type": "code",
   "execution_count": null,
   "metadata": {},
   "outputs": [],
   "source": [
    "graph = MakeGraphSubject(request, id)\n",
    "print(graph)"
   ]
  },
  {
   "cell_type": "code",
   "execution_count": 2,
   "metadata": {},
   "outputs": [],
   "source": [
    "fuseki_query = FusekiQuery('http://localhost:3030', 'authorities')"
   ]
  },
  {
   "cell_type": "code",
   "execution_count": 3,
   "metadata": {},
   "outputs": [
    {
     "data": {
      "text/plain": [
       "'<?xml version=\"1.0\" encoding=\"UTF-8\"?>\\n<response>\\n\\n<lst name=\"responseHeader\">\\n  <int name=\"status\">0</int>\\n  <int name=\"QTime\">306</int>\\n</lst>\\n</response>\\n'"
      ]
     },
     "execution_count": 3,
     "metadata": {},
     "output_type": "execute_result"
    }
   ],
   "source": [
    "au_update = FusekiUpdate('http://localhost:3030', 'authorities')\n",
    "\n",
    "d = \"\"\"DELETE { graph ?g { ?s ?p ?o } } \n",
    "        WHERE {\n",
    "        graph ?g {?s ?p ?o.}\n",
    "        }\"\"\"\n",
    "\n",
    "response = au_update.run_sparql(d)\n",
    "response.convert()\n",
    "\n",
    "solr = Solr('http://localhost:8983/solr/authorities/', timeout=10)\n",
    "solr.delete(q=\"*:*\",  commit=True)"
   ]
  },
  {
   "cell_type": "code",
   "execution_count": 2,
   "metadata": {},
   "outputs": [],
   "source": [
    "authority = 'http://id.loc.gov/authorities/subjects/sh85076723'"
   ]
  },
  {
   "cell_type": "code",
   "execution_count": 41,
   "metadata": {},
   "outputs": [
    {
     "data": {
      "text/plain": [
       "{'type': 'Topic',\n",
       " 'adminMetadata': {'assigner': 'http://id.loc.gov/vocabulary/organizations/dlc',\n",
       "  'descriptionModifier': 'http://id.loc.gov/vocabulary/organizations/brmninpa',\n",
       "  'creationDate': '2023-05-15',\n",
       "  'descriptionLanguage': 'http://id.loc.gov/vocabulary/languages/por',\n",
       "  'generationProcess': 'BiblioKeia v.1',\n",
       "  'generationDate': '2023-05-15T21:27:34',\n",
       "  'identifiedBy': [{'type': 'Lccn',\n",
       "    'assigner': 'http://id.loc.gov/vocabulary/organizations/dlc',\n",
       "    'value': 'sh85111809'}],\n",
       "  'status': {'value': 'mstatus:new', 'label': 'novo'}},\n",
       " 'elementList': [{'type': 'TopicElement',\n",
       "   'elementValue': {'value': 'Recatalogação', 'lang': 'pt'}}],\n",
       " 'note': None,\n",
       " 'hasBroaderAuthority': [{'value': 'https://bibliokeia.com/authorities/Topic/bkau-1',\n",
       "   'label': {'value': 'Biblioteconomia', 'lang': 'por'},\n",
       "   'base': 'bk'}],\n",
       " 'hasBroaderExternalAuthority': [{'value': 'http://id.loc.gov/authorities/subjects/sh85020816',\n",
       "   'label': {'value': 'Cataloging', 'lang': 'en'},\n",
       "   'base': 'loc'}],\n",
       " 'hasNarrowerAuthority': None,\n",
       " 'hasNarrowerExternalAuthority': None,\n",
       " 'hasCloseExternalAuthority': [{'value': 'http://id.worldcat.org/fast/1091331',\n",
       "   'label': {'value': 'Recataloging', 'lang': None},\n",
       "   'base': 'id.worldcat.org'}],\n",
       " 'hasExactExternalAuthority': None,\n",
       " 'hasVariant': None,\n",
       " 'subjectOf': None,\n",
       " 'isMemberOfMADSCollection': 'http://bibliokeia.com/authorities/Topic/'}"
      ]
     },
     "execution_count": 41,
     "metadata": {},
     "output_type": "execute_result"
    }
   ],
   "source": [
    "url = f'http://localhost:8000/authorities/loc/subject?uri={authority}'\n",
    "r = httpx.get(url)\n",
    "r.json()"
   ]
  },
  {
   "cell_type": "code",
   "execution_count": 42,
   "metadata": {},
   "outputs": [
    {
     "data": {
      "text/plain": [
       "201"
      ]
     },
     "execution_count": 42,
     "metadata": {},
     "output_type": "execute_result"
    }
   ],
   "source": [
    "headers = {\n",
    "    'accept': 'application/json',\n",
    "    'Content-Type': 'application/json',\n",
    "}\n",
    "response = httpx.post('http://localhost:8000/authorities/mads/subject/', headers=headers, json=r.json())\n",
    "response.status_code"
   ]
  },
  {
   "cell_type": "code",
   "execution_count": 15,
   "metadata": {},
   "outputs": [
    {
     "data": {
      "text/plain": [
       "<Graph identifier=N40e40ec0937c44b8b67f4545e8e564f7 (<class 'rdflib.graph.Graph'>)>"
      ]
     },
     "execution_count": 15,
     "metadata": {},
     "output_type": "execute_result"
    }
   ],
   "source": [
    "graph = Graph()\n",
    "graph.parse(f'{authority}.rdf')\n",
    "graph.serialize('Recataloging.ttl')"
   ]
  },
  {
   "attachments": {},
   "cell_type": "markdown",
   "metadata": {},
   "source": [
    "Recataloging"
   ]
  },
  {
   "cell_type": "code",
   "execution_count": 13,
   "metadata": {},
   "outputs": [],
   "source": [
    "authority = 'http://id.loc.gov/authorities/subjects/sh85111809'"
   ]
  },
  {
   "cell_type": "code",
   "execution_count": null,
   "metadata": {},
   "outputs": [],
   "source": [
    "url = f'http://localhost:8000/authorities/loc/subject?uri={authority}'\n",
    "r = httpx.get(url)\n",
    "r.json()"
   ]
  },
  {
   "cell_type": "code",
   "execution_count": 5,
   "metadata": {},
   "outputs": [],
   "source": [
    "class Subject(BaseModel):\n",
    "    type: str \n",
    "    adminMetadata: AdminMetadata \n",
    "    elementList: list[Element]\n",
    "    note: Optional[str]\n",
    "    hasReciprocalAuthority: Optional[list[Uri]]\n",
    "    hasReciprocalExternalAuthority: Optional[list[Uri]]\n",
    "    hasBroaderAuthority: Optional[list[Uri]]\n",
    "    hasBroaderExternalAuthority: Optional[list[Uri]]\n",
    "    hasNarrowerAuthority: Optional[list[Uri]]\n",
    "    hasNarrowerExternalAuthority: Optional[list[Uri]]\n",
    "    hasCloseExternalAuthority: Optional[list[Uri]]\n",
    "    hasExactExternalAuthority: Optional[list[Uri]]\n",
    "    hasVariant: Optional[list[Variant]]\n",
    "    subjectOf: Optional[list[Uri]]\n",
    "    isMemberOfMADSCollection: str\n",
    "\n",
    "def GetUriBK(url):\n",
    "    token = url.split(\"/\")[-1]\n",
    "    queryBK = f\"\"\"PREFIX madsrdf: <http://www.loc.gov/mads/rdf/v1#>\n",
    "      PREFIX bf: <http://id.loc.gov/ontologies/bibframe/>\n",
    "      PREFIX rdf: <http://www.w3.org/1999/02/22-rdf-syntax-ns#> \n",
    "      SELECT ?uri ?label WHERE {{ graph ?g {{\n",
    "          ?uri madsrdf:authoritativeLabel ?label .\n",
    "        ?sub bf:identifiedBy ?identifiedBy .\n",
    "          ?identifiedBy rdf:value \"{token}\"\n",
    "          FILTER EXISTS {{ ?identifiedBy bf:assigner <http://id.loc.gov/vocabulary/organizations/dlc> }}\n",
    "      }} }} \"\"\"\n",
    "    response = fuseki_query.run_sparql(queryBK)\n",
    "    [binding] = response.convert()['results']['bindings']\n",
    "    uri = {\"value\": binding['uri']['value'],\n",
    "              \"label\": {\n",
    "                \"value\": binding['label']['value'],\n",
    "                \"lang\": \"pt\"\n",
    "              } }\n",
    "    return uri\n",
    "\n",
    "def GetUri(obj, metadado, authority, graph):\n",
    "    query = f\"\"\"PREFIX madsrdf: <http://www.loc.gov/mads/rdf/v1#>\n",
    "            SELECT * WHERE  {{\n",
    "              <{authority}> madsrdf:{metadado} ?value .\n",
    "              ?value madsrdf:authoritativeLabel ?label\n",
    "              }}\"\"\"\n",
    "    response = graph.query(query)\n",
    "    if len(response.bindings) > 0:\n",
    "        uris = list()\n",
    "        for i in response.bindings:\n",
    "          url = i.get('value')\n",
    "          if metadado in ['hasBroaderAuthority', 'hasNarrowerAuthority']:\n",
    "            exist = GraphExist(url)\n",
    "            if exist:\n",
    "              uri = GetUriBK(url)\n",
    "            else:\n",
    "              uri = {\n",
    "                    \"value\": url,\n",
    "                    \"label\": {\n",
    "                  \"value\": i.get('label').value,\n",
    "                  \"lang\": i.get('label').language\n",
    "                } }\n",
    "          else:\n",
    "            uri = {\n",
    "                  \"value\": url,\n",
    "                   \"label\": {\n",
    "                \"value\": i.get('label').value,\n",
    "                \"lang\": i.get('label').language\n",
    "              } }\n",
    "          uris.append(uri)\n",
    "        obj[metadado] = uris\n",
    "    return obj\n",
    "\n"
   ]
  },
  {
   "cell_type": "code",
   "execution_count": 43,
   "metadata": {},
   "outputs": [
    {
     "data": {
      "text/plain": [
       "Subject(type='Topic', adminMetadata=AdminMetadata(assigner='http://id.loc.gov/vocabulary/organizations/dlc', descriptionModifier='http://id.loc.gov/vocabulary/organizations/brmninpa', creationDate=datetime.date(2023, 5, 15), descriptionLanguage='http://id.loc.gov/vocabulary/languages/por', generationProcess='BiblioKeia v.1', generationDate=datetime.datetime(2023, 5, 15, 21, 27, 34), identifiedBy=[IdentifiedBy(type='Lccn', assigner='http://id.loc.gov/vocabulary/organizations/dlc', value='sh85111809')], status=Status(value='mstatus:new', label='novo')), elementList=[Element(type='TopicElement', elementValue=Label(value='Recatalogação', lang='pt'))], note=None, hasReciprocalAuthority=None, hasReciprocalExternalAuthority=None, hasBroaderAuthority=[Uri(value='https://bibliokeia.com/authorities/Topic/bkau-1', label=Label(value='Biblioteconomia', lang='por'), base='bk')], hasBroaderExternalAuthority=[Uri(value='http://id.loc.gov/authorities/subjects/sh85020816', label=Label(value='Cataloging', lang='en'), base='loc')], hasNarrowerAuthority=None, hasNarrowerExternalAuthority=None, hasCloseExternalAuthority=[Uri(value='http://id.worldcat.org/fast/1091331', label=Label(value='Recataloging', lang=None), base='id.worldcat.org')], hasExactExternalAuthority=None, hasVariant=None, subjectOf=None, isMemberOfMADSCollection='http://bibliokeia.com/authorities/Topic/')"
      ]
     },
     "execution_count": 43,
     "metadata": {},
     "output_type": "execute_result"
    }
   ],
   "source": [
    "request = Subject(**r.json())\n",
    "request"
   ]
  },
  {
   "cell_type": "code",
   "execution_count": 44,
   "metadata": {},
   "outputs": [
    {
     "data": {
      "text/plain": [
       "[Uri(value='https://bibliokeia.com/authorities/Topic/bkau-1', label=Label(value='Biblioteconomia', lang='por'), base='bk')]"
      ]
     },
     "execution_count": 44,
     "metadata": {},
     "output_type": "execute_result"
    }
   ],
   "source": [
    "request.hasBroaderAuthority"
   ]
  },
  {
   "cell_type": "code",
   "execution_count": 45,
   "metadata": {},
   "outputs": [
    {
     "data": {
      "text/plain": [
       "<SPARQLWrapper.Wrapper.QueryResult at 0x1823910ba90>"
      ]
     },
     "execution_count": 45,
     "metadata": {},
     "output_type": "execute_result"
    }
   ],
   "source": [
    "Narrower = \"\"\"PREFIX madsrdf: <http://www.loc.gov/mads/rdf/v1#> \n",
    "\n",
    "INSERT DATA\n",
    "{ GRAPH <https://bibliokeia.com/authorities/Topic/bkau-1> \n",
    "{ <https://bibliokeia.com/authorities/Topic/bkau-1>  madsrdf:hasNarrowerAuthority  <https://bibliokeia.com/authorities/Topic/bkau-1> } }\"\"\"\n",
    "\n",
    "au_update = FusekiUpdate('http://localhost:3030', 'authorities')\n",
    "r = au_update.run_sparql(Narrower)\n",
    "r"
   ]
  },
  {
   "cell_type": "code",
   "execution_count": 47,
   "metadata": {},
   "outputs": [
    {
     "data": {
      "text/plain": [
       "{'statusCode': 200, 'message': 'Update succeeded'}"
      ]
     },
     "execution_count": 47,
     "metadata": {},
     "output_type": "execute_result"
    }
   ],
   "source": [
    "r.convert()"
   ]
  },
  {
   "cell_type": "code",
   "execution_count": null,
   "metadata": {},
   "outputs": [],
   "source": [
    "graph = MakeGraphSubject(request, \"TESTE\")\n",
    "print(graph)"
   ]
  },
  {
   "cell_type": "code",
   "execution_count": 2,
   "metadata": {},
   "outputs": [],
   "source": [
    "fuseki_query = FusekiQuery('http://localhost:3030', 'authorities')\n",
    "token = 'sh85066150'\n",
    "query = f\"\"\"PREFIX madsrdf: <http://www.loc.gov/mads/rdf/v1#>\n",
    "            PREFIX bf: <http://id.loc.gov/ontologies/bibframe/>\n",
    "            PREFIX rdf: <http://www.w3.org/1999/02/22-rdf-syntax-ns#>\n",
    "            SELECT ?uri ?label WHERE {{ graph ?g {{\n",
    "            ?sub bf:identifiedBy ?identifiedBy .\n",
    "    ?identifiedBy rdf:value \"{token}\" .\n",
    "    ?uri madsrdf:authoritativeLabel ?label .   \n",
    "                }} }} \"\"\"\n",
    "responseQuery = fuseki_query.run_sparql(query)\n",
    "exist = responseQuery.convert()['results']['bindings'][0]"
   ]
  },
  {
   "cell_type": "code",
   "execution_count": 4,
   "metadata": {},
   "outputs": [
    {
     "data": {
      "text/plain": [
       "{'uri': {'type': 'uri',\n",
       "  'value': 'https://bibliokeia.com/authorities/Topic/bkau-2'},\n",
       " 'label': {'type': 'literal', 'value': 'Ciência da informação'}}"
      ]
     },
     "execution_count": 4,
     "metadata": {},
     "output_type": "execute_result"
    }
   ],
   "source": [
    "exist = GraphExist(\"http://id.loc.gov/authorities/subjects/sh85066150\")\n",
    "exist"
   ]
  },
  {
   "cell_type": "code",
   "execution_count": 21,
   "metadata": {},
   "outputs": [],
   "source": [
    "from api.src.function.loc.CloseExternal import GetCloseExternal"
   ]
  },
  {
   "cell_type": "code",
   "execution_count": 19,
   "metadata": {},
   "outputs": [],
   "source": [
    "# Type \n",
    "def GetType(graph, authority):\n",
    "\n",
    "  qtype = f\"\"\"PREFIX skos: <http://www.w3.org/2004/02/skos/core#>\n",
    "              PREFIX rdf: <http://www.w3.org/1999/02/22-rdf-syntax-ns#>\n",
    "              PREFIX madsrdf: <http://www.loc.gov/mads/rdf/v1#>\n",
    "              SELECT ?type WHERE {{ \n",
    "                  <{authority}> rdf:type ?type .\n",
    "                  FILTER ( ?type != madsrdf:Authority ) \n",
    "                  FILTER ( ?type != skos:Concept )\n",
    "                  }}\"\"\"\n",
    "  r = graph.query(qtype)\n",
    "  tipo = r.bindings[0].get('type').split(\"#\")[1]\n",
    "  return tipo\n",
    "\n",
    "# hasBroaderAuthority\n",
    "def GetHasBroader(authority, graph, obj):\n",
    "\n",
    "    query = f\"\"\"PREFIX madsrdf: <http://www.loc.gov/mads/rdf/v1#>\n",
    "            SELECT * WHERE  {{\n",
    "              <{authority}> madsrdf:hasBroaderAuthority ?value .\n",
    "              ?value madsrdf:authoritativeLabel ?label\n",
    "              }}\"\"\"\n",
    "    response = graph.query(query)\n",
    "    if len(response.bindings) > 0:\n",
    "        external = list()\n",
    "        for i in response.bindings:\n",
    "           url = i.get('value')\n",
    "           exist = GraphExist(url)\n",
    "           if exist:\n",
    "               print(exist)\n",
    "           else:\n",
    "               uri = {\n",
    "                   \"value\": url,\n",
    "                   \"base\": \"loc\",\n",
    "                   \"label\": {\n",
    "                       \"value\": i.get('label').value,\n",
    "                       \"lang\": i.get('label').language } }\n",
    "               external.append(uri)\n",
    "        if len(external) > 0:\n",
    "            obj['hasBroaderExternalAuthority'] = external\n",
    "    return obj\n",
    "\n",
    "# hasNarrowerAuthority\n",
    "def GetHasNarrower(authority, graph, obj):\n",
    "\n",
    "    ask = f\"\"\"PREFIX madsrdf: <http://www.loc.gov/mads/rdf/v1#>\n",
    "            SELECT * WHERE  {{\n",
    "              <{authority}> madsrdf:hasNarrowerAuthority ?value .\n",
    "              ?value madsrdf:authoritativeLabel ?label\n",
    "              }}\"\"\"\n",
    "    response = graph.query(ask)\n",
    "    if len(response.bindings) > 0:\n",
    "        external = list()\n",
    "        internal = list()\n",
    "        for i in response.bindings:\n",
    "           url = i.get('value')\n",
    "           exist = GraphExist(url)\n",
    "           if exist:\n",
    "                uri = {\n",
    "                   \"value\": exist['uri']['value'],\n",
    "                   \"base\": \"bk\",\n",
    "                   \"label\": {\n",
    "                       \"value\": exist['label']['value'],\n",
    "                       \"lang\": \"pt\" } }\n",
    "                internal.append(uri)\n",
    "           else:\n",
    "               uri = {\n",
    "                   \"value\": url,\n",
    "                   \"base\": \"loc\",\n",
    "                   \"label\": {\n",
    "                       \"value\": i.get('label').value,\n",
    "                       \"lang\": i.get('label').language } }\n",
    "               external.append(uri)\n",
    "        if len(internal) > 0:\n",
    "            obj['hasNarrowerAuthority'] = internal\n",
    "        if len(external) > 0:\n",
    "            obj['hasNarrowerExternalAuthority'] = external\n",
    "    return obj\n",
    "\n",
    "# hasNarrowerExternalAuthority\n",
    "def GetHasNarrowerExternal(authority, graph, obj):\n",
    "\n",
    "    query = f\"\"\"PREFIX madsrdf: <http://www.loc.gov/mads/rdf/v1#>\n",
    "            SELECT * WHERE  {{\n",
    "              <{authority}> madsrdf:hasNarrowerExternalAuthority ?value .\n",
    "              ?value madsrdf:authoritativeLabel ?label\n",
    "              }}\"\"\"\n",
    "    response = graph.query(query)\n",
    "    if len(response.bindings) > 0:\n",
    "        external = list()\n",
    "        for i in response.bindings:\n",
    "            url = i.get('value')\n",
    "            base = url.split(\"//\")[1].split(\"/\")[0]\n",
    "            uri = {\n",
    "                   \"value\": url,\n",
    "                   \"base\": base,\n",
    "                   \"label\": {\n",
    "                       \"value\": i.get('label').value,\n",
    "                       \"lang\": i.get('label').language } }\n",
    "            external.append(uri)\n",
    "        return external\n",
    "    else:\n",
    "        return False\n",
    "\n",
    "# hasExactExternalAuthority\n",
    "def GetExactExternal(authority, graph, obj):\n",
    "\n",
    "    query = f\"\"\"PREFIX madsrdf: <http://www.loc.gov/mads/rdf/v1#>\n",
    "            SELECT * WHERE  {{\n",
    "              <{authority}> madsrdf:hasExactExternalAuthority ?value .\n",
    "              ?value madsrdf:authoritativeLabel ?label\n",
    "              }}\"\"\"\n",
    "    response = graph.query(query)\n",
    "    if len(response.bindings) > 0:\n",
    "        external = list()\n",
    "        for i in response.bindings:\n",
    "           url = i.get('value')\n",
    "           base = url.split(\"//\")[1].split(\"/\")[0]\n",
    "           uri = {\n",
    "                   \"value\": url,\n",
    "                   \"base\": base,\n",
    "                   \"label\": {\n",
    "                       \"value\": i.get('label').value,\n",
    "                       \"lang\": i.get('label').language } }\n",
    "           external.append(uri)\n",
    "        obj['hasExactExternalAuthority'] = external\n",
    "    return obj\n",
    "\n",
    "# hasReciprocalAuthority\n",
    "def GetHasReciprocal(authority, graph, obj):\n",
    "\n",
    "    query = f\"\"\"PREFIX madsrdf: <http://www.loc.gov/mads/rdf/v1#>\n",
    "            SELECT * WHERE  {{\n",
    "              <{authority}> madsrdf:hasReciprocalAuthority ?value .\n",
    "              ?value madsrdf:authoritativeLabel ?label\n",
    "              }}\"\"\"\n",
    "    response = graph.query(query)\n",
    "    if len(response.bindings) > 0:\n",
    "        external = list()\n",
    "        internal = list()\n",
    "        for i in response.bindings:\n",
    "           url = i.get('value')\n",
    "           exist = GraphExist(url)\n",
    " \n",
    "           if exist:\n",
    "                uri = {\n",
    "                   \"value\": exist['uri']['value'],\n",
    "                   \"base\": \"bk\",\n",
    "                   \"label\": {\n",
    "                       \"value\": exist['label']['value'],\n",
    "                       \"lang\": \"por\" } }\n",
    "                internal.append(uri)\n",
    "           else:\n",
    "               uri = {\n",
    "                   \"value\": url,\n",
    "                   \"base\": \"loc\",\n",
    "                   \"label\": {\n",
    "                       \"value\": i.get('label').value,\n",
    "                       \"lang\": i.get('label').language } }\n",
    "               external.append(uri)\n",
    "        if len(internal) > 0:\n",
    "            obj['hasReciprocalAuthority'] = internal\n",
    "        if len(external) > 0:\n",
    "            obj['hasReciprocalExternalAuthority'] = external\n",
    "    return obj\n",
    "\n",
    "# hasVariant\n",
    "def GetVariant(authority, graph, obj):\n",
    "\n",
    "    qVariant = f\"\"\"PREFIX identifiers: <http://id.loc.gov/vocabulary/identifiers/>\n",
    "                PREFIX rdf: <http://www.w3.org/1999/02/22-rdf-syntax-ns#>\n",
    "                PREFIX madsrdf: <http://www.loc.gov/mads/rdf/v1#>\n",
    "                SELECT ?typeVariant ?typeElement ?elementValue WHERE  {{\n",
    "                <{authority}> madsrdf:hasVariant ?variant .\n",
    "                ?variant rdf:type ?typeVariant .\n",
    "                ?variant madsrdf:elementList ?elementList .\n",
    "                ?elementList rdf:rest* ?node .\n",
    "                  ?node rdf:first ?e .\n",
    "                  ?e madsrdf:elementValue ?elementValue .\n",
    "                ?e rdf:type ?typeElement .\n",
    "                FILTER ( ?typeVariant != madsrdf:Variant )\n",
    "                }}\"\"\"\n",
    "    r = graph.query(qVariant)\n",
    "    if len(r.bindings) > 0:\n",
    "        translator = MakeTranslate(\n",
    "            source_language='en',\n",
    "            target_language='pt',\n",
    "            timeout=10\n",
    "        )\n",
    "        variants = list()\n",
    "        for i in r.bindings:\n",
    "            value = translator.translate(i.get('elementValue').value)\n",
    "            variant = {\n",
    "          'type': i.get('typeVariant').split(\"#\")[1],\n",
    "          'elementList': [{\n",
    "              'type': i.get('typeElement').split(\"#\")[1],\n",
    "              'elementValue': {\n",
    "                  'value': value.capitalize(),\n",
    "                  'lang': 'pt'\n",
    "              }\n",
    "          }]\n",
    "      }\n",
    "            variants.append(variant)\n",
    "        obj['hasVariant'] = variants\n",
    "    return obj\n",
    "\n",
    "def GetElementList(authority, graph, obj):\n",
    "\n",
    "    translator = MakeTranslate(\n",
    "            source_language='en',\n",
    "            target_language='pt',\n",
    "            timeout=10\n",
    "        )\n",
    "\n",
    "    qElementList = f\"\"\"PREFIX identifiers: <http://id.loc.gov/vocabulary/identifiers/>\n",
    "  PREFIX rdf: <http://www.w3.org/1999/02/22-rdf-syntax-ns#>\n",
    "  PREFIX madsrdf: <http://www.loc.gov/mads/rdf/v1#>\n",
    "  SELECT ?elementValue ?type WHERE  {{\n",
    "    <{authority}> madsrdf:elementList ?o .\n",
    "    ?o rdf:rest* ?node .\n",
    "    ?node rdf:first ?e .\n",
    "    ?e madsrdf:elementValue ?elementValue .\n",
    "    ?e rdf:type ?type\n",
    "    }}\"\"\"\n",
    "    r = graph.query(qElementList)\n",
    "    elementList = list()\n",
    "    \n",
    "    for i in r.bindings:\n",
    "        value = translator.translate(i.get('elementValue').value)\n",
    "        element = {\n",
    "            \"type\": i.get('type').split(\"#\")[1],\n",
    "          \"elementValue\": {\n",
    "            \"value\":  value.capitalize(),\n",
    "            \"lang\": 'pt'\n",
    "          }\n",
    "        }\n",
    "        elementList.append(element)\n",
    "    obj['elementList'] = elementList\n",
    "    return obj"
   ]
  },
  {
   "cell_type": "code",
   "execution_count": 37,
   "metadata": {},
   "outputs": [],
   "source": [
    "def GetInternalUri(authority, graph, metadata, obj):\n",
    "\n",
    "    query = f\"\"\"PREFIX madsrdf: <http://www.loc.gov/mads/rdf/v1#>\n",
    "            SELECT * WHERE  {{\n",
    "              <{authority}> madsrdf:has{metadata}Authority ?value .\n",
    "              ?value madsrdf:authoritativeLabel ?label\n",
    "              }}\"\"\"\n",
    "    response = graph.query(query)\n",
    "    if len(response.bindings) > 0:\n",
    "        external = list()\n",
    "        internal = list()\n",
    "        for i in response.bindings:\n",
    "           url = i.get('value')\n",
    "           exist = GraphExist(url)\n",
    " \n",
    "           if exist:\n",
    "                uri = {\n",
    "                   \"value\": exist['uri']['value'],\n",
    "                   \"base\": \"bk\",\n",
    "                   \"label\": {\n",
    "                       \"value\": exist['label']['value'],\n",
    "                       \"lang\": \"por\" } }\n",
    "                internal.append(uri)\n",
    "           else:\n",
    "               uri = {\n",
    "                   \"value\": url,\n",
    "                   \"base\": \"loc\",\n",
    "                   \"label\": {\n",
    "                       \"value\": i.get('label').value,\n",
    "                       \"lang\": i.get('label').language } }\n",
    "               external.append(uri)\n",
    "        if len(internal) > 0:\n",
    "            obj[f'has{metadata}Authority'] = internal\n",
    "        if len(external) > 0:\n",
    "            obj[f'has{metadata}ExternalAuthority'] = external\n",
    "    return obj\n",
    "\n",
    "def GetExternalUri(authority, graph, metadata, obj):\n",
    "\n",
    "    query = f\"\"\"PREFIX madsrdf: <http://www.loc.gov/mads/rdf/v1#>\n",
    "            SELECT * WHERE  {{\n",
    "              <{authority}> madsrdf:has{metadata}Authority ?value .\n",
    "              ?value madsrdf:authoritativeLabel ?label\n",
    "              }}\"\"\"\n",
    "    response = graph.query(query)\n",
    "    if len(response.bindings) > 0:\n",
    "        external = list()\n",
    "        for i in response.bindings:\n",
    "            url = i.get('value')\n",
    "            base = url.split(\"//\")[1].split(\"/\")[0]\n",
    "            uri = {\n",
    "                   \"value\": url,\n",
    "                   \"base\": base,\n",
    "                   \"label\": {\n",
    "                       \"value\": i.get('label').value,\n",
    "                       \"lang\": i.get('label').language } }\n",
    "            external.append(uri)\n",
    "        return external\n",
    "    else:\n",
    "        return False\n",
    "\n",
    "\n",
    "def ParserSubject(graph, authority):\n",
    "      \n",
    "  prefix = \"\"\"PREFIX identifiers: <http://id.loc.gov/vocabulary/identifiers/>\n",
    "  PREFIX rdf: <http://www.w3.org/1999/02/22-rdf-syntax-ns#>\n",
    "  PREFIX madsrdf: <http://www.loc.gov/mads/rdf/v1#>\"\"\"\n",
    "\n",
    "  # Type\n",
    "  tipo = GetType(graph, authority)\n",
    "  \n",
    "  # adminMetadata\n",
    "  adminMetadata = {\n",
    "      \"assigner\": \"http://id.loc.gov/vocabulary/organizations/dlc\",\n",
    "      \"identifiedBy\": [ {\n",
    "         \"type\": \"Lccn\",\n",
    "          \"assigner\": \"http://id.loc.gov/vocabulary/organizations/dlc\",\n",
    "          \"value\": authority.split('/')[-1]        \n",
    "      }]      \n",
    "  }\n",
    "  \n",
    "  obj = {\n",
    "     \"type\": tipo,\n",
    "      \"adminMetadata\": adminMetadata,\n",
    "      \"isMemberOfMADSCollection\": f'http://bibliokeia.com/authorities/{tipo}/'\n",
    "  }\n",
    "  \n",
    "  # ElementList\n",
    "  obj = GetElementList(authority, graph, obj)\n",
    "\n",
    "  # Note \n",
    "  qNote = f\"\"\"{prefix}\n",
    "  SELECT ?note WHERE {{ \n",
    "      <{authority}> madsrdf:note ?note .\n",
    "       }}\"\"\"\n",
    "  r = graph.query(qNote)\n",
    "  if len(r.bindings) > 0:\n",
    "     obj['note'] = r.bindings[0].get('note').value\n",
    "\n",
    "  # hasVariant\n",
    "  obj = GetVariant(authority, graph, obj)\n",
    "\n",
    "  # URIS\n",
    "  # hasReciprocalAuthority\n",
    "#   obj = GetHasReciprocal(authority, graph, obj)\n",
    "  obj = GetInternalUri(authority, graph, \"Reciprocal\", obj)\n",
    "\n",
    "  # hasBroaderAuthority\n",
    "  obj = GetInternalUri(authority, graph, \"Broader\", obj)\n",
    "  # obj = GetHasBroader(authority, graph, obj)\n",
    "  \n",
    "  # Narrower Terms\n",
    "  obj = GetInternalUri(authority, graph, \"Narrower\", obj)\n",
    "  # obj = GetHasNarrower(authority, graph, obj)\n",
    "  \n",
    "#   hasNarrower = GetHasNarrowerExternal(authority, graph, obj)\n",
    "  hasNarrower = GetExternalUri(authority, graph, \"NarrowerExternal\", obj)\n",
    "  if hasNarrower:\n",
    "    obj['hasNarrowerExternalAuthority'] = obj['hasNarrowerExternalAuthority']+hasNarrower\n",
    "  \n",
    "  # ExactExternal\n",
    "#   obj = GetExactExternal(authority, graph, obj)\n",
    "  exactExternal = GetExternalUri(authority, graph, \"ExactExternal\", obj)\n",
    "  if exactExternal:\n",
    "    obj['hasExactExternalAuthority'] = exactExternal\n",
    "  \n",
    "  # CloseExternal\n",
    "#   obj = GetCloseExternal(authority, graph, obj)\n",
    "  closeExternal = GetExternalUri(authority, graph, \"CloseExternal\", obj)\n",
    "  if closeExternal:\n",
    "    obj['hasCloseExternalAuthority'] = closeExternal\n",
    "\n",
    "\n",
    "  response = Subject(**obj)\n",
    "\n",
    "  return response\n",
    "\n",
    "response = ParserSubject(graph, authority)\n"
   ]
  },
  {
   "cell_type": "code",
   "execution_count": 40,
   "metadata": {},
   "outputs": [
    {
     "data": {
      "text/plain": [
       "[Uri(value='https://bibliokeia.com/authorities/Topic/bkau-1', label=Label(value='Biblioteconomia', lang='por'), base='bk')]"
      ]
     },
     "execution_count": 40,
     "metadata": {},
     "output_type": "execute_result"
    }
   ],
   "source": [
    "response.hasBroaderAuthority"
   ]
  },
  {
   "cell_type": "code",
   "execution_count": 31,
   "metadata": {},
   "outputs": [
    {
     "data": {
      "text/plain": [
       "{'hasBroaderAuthority': [{'value': 'https://bibliokeia.com/authorities/Topic/bkau-1',\n",
       "   'base': 'bk',\n",
       "   'label': {'value': 'Biblioteconomia', 'lang': 'por'}}],\n",
       " 'hasBroaderExternalAuthority': [{'value': rdflib.term.URIRef('http://id.loc.gov/authorities/subjects/sh85020816'),\n",
       "   'base': 'loc',\n",
       "   'label': {'value': 'Cataloging', 'lang': 'en'}}]}"
      ]
     },
     "execution_count": 31,
     "metadata": {},
     "output_type": "execute_result"
    }
   ],
   "source": [
    "\n",
    "\n",
    "\n",
    "obj = GetHasUri(authority, graph, \"Broader\", {})\n",
    "obj\n"
   ]
  },
  {
   "cell_type": "code",
   "execution_count": 27,
   "metadata": {},
   "outputs": [
    {
     "data": {
      "text/plain": [
       "{'hasBroaderExternalAuthority': [{'value': rdflib.term.URIRef('http://id.loc.gov/authorities/subjects/sh85020816'),\n",
       "   'base': 'loc',\n",
       "   'label': {'value': 'Cataloging', 'lang': 'en'}}]}"
      ]
     },
     "execution_count": 27,
     "metadata": {},
     "output_type": "execute_result"
    }
   ],
   "source": [
    "obj"
   ]
  },
  {
   "cell_type": "code",
   "execution_count": 23,
   "metadata": {},
   "outputs": [
    {
     "data": {
      "text/plain": [
       "{}"
      ]
     },
     "execution_count": 23,
     "metadata": {},
     "output_type": "execute_result"
    }
   ],
   "source": [
    "obj"
   ]
  },
  {
   "cell_type": "code",
   "execution_count": 42,
   "metadata": {},
   "outputs": [
    {
     "ename": "TypeError",
     "evalue": "Object of type date is not JSON serializable",
     "output_type": "error",
     "traceback": [
      "\u001b[1;31m---------------------------------------------------------------------------\u001b[0m",
      "\u001b[1;31mTypeError\u001b[0m                                 Traceback (most recent call last)",
      "\u001b[1;32mc:\\Users\\Usuário\\Desktop\\BiblioKeia\\authority.ipynb Cell 20\u001b[0m in \u001b[0;36m<cell line: 5>\u001b[1;34m()\u001b[0m\n\u001b[0;32m      <a href='vscode-notebook-cell:/c%3A/Users/Usu%C3%A1rio/Desktop/BiblioKeia/authority.ipynb#X24sZmlsZQ%3D%3D?line=0'>1</a>\u001b[0m headers \u001b[39m=\u001b[39m {\n\u001b[0;32m      <a href='vscode-notebook-cell:/c%3A/Users/Usu%C3%A1rio/Desktop/BiblioKeia/authority.ipynb#X24sZmlsZQ%3D%3D?line=1'>2</a>\u001b[0m     \u001b[39m'\u001b[39m\u001b[39maccept\u001b[39m\u001b[39m'\u001b[39m: \u001b[39m'\u001b[39m\u001b[39mapplication/json\u001b[39m\u001b[39m'\u001b[39m,\n\u001b[0;32m      <a href='vscode-notebook-cell:/c%3A/Users/Usu%C3%A1rio/Desktop/BiblioKeia/authority.ipynb#X24sZmlsZQ%3D%3D?line=2'>3</a>\u001b[0m     \u001b[39m'\u001b[39m\u001b[39mContent-Type\u001b[39m\u001b[39m'\u001b[39m: \u001b[39m'\u001b[39m\u001b[39mapplication/json\u001b[39m\u001b[39m'\u001b[39m,\n\u001b[0;32m      <a href='vscode-notebook-cell:/c%3A/Users/Usu%C3%A1rio/Desktop/BiblioKeia/authority.ipynb#X24sZmlsZQ%3D%3D?line=3'>4</a>\u001b[0m }\n\u001b[1;32m----> <a href='vscode-notebook-cell:/c%3A/Users/Usu%C3%A1rio/Desktop/BiblioKeia/authority.ipynb#X24sZmlsZQ%3D%3D?line=4'>5</a>\u001b[0m response \u001b[39m=\u001b[39m httpx\u001b[39m.\u001b[39;49mpost(\u001b[39m'\u001b[39;49m\u001b[39mhttp://localhost:8000/authorities/mads/subject/\u001b[39;49m\u001b[39m'\u001b[39;49m, headers\u001b[39m=\u001b[39;49mheaders, json\u001b[39m=\u001b[39;49mresponse\u001b[39m.\u001b[39;49mdict())\n\u001b[0;32m      <a href='vscode-notebook-cell:/c%3A/Users/Usu%C3%A1rio/Desktop/BiblioKeia/authority.ipynb#X24sZmlsZQ%3D%3D?line=5'>6</a>\u001b[0m response\u001b[39m.\u001b[39mstatus_code\n",
      "File \u001b[1;32mc:\\Users\\Usuário\\Desktop\\BiblioKeia\\venv\\lib\\site-packages\\httpx\\_api.py:304\u001b[0m, in \u001b[0;36mpost\u001b[1;34m(url, content, data, files, json, params, headers, cookies, auth, proxies, follow_redirects, cert, verify, timeout, trust_env)\u001b[0m\n\u001b[0;32m    281\u001b[0m \u001b[39mdef\u001b[39;00m \u001b[39mpost\u001b[39m(\n\u001b[0;32m    282\u001b[0m     url: URLTypes,\n\u001b[0;32m    283\u001b[0m     \u001b[39m*\u001b[39m,\n\u001b[1;32m   (...)\u001b[0m\n\u001b[0;32m    297\u001b[0m     trust_env: \u001b[39mbool\u001b[39m \u001b[39m=\u001b[39m \u001b[39mTrue\u001b[39;00m,\n\u001b[0;32m    298\u001b[0m ) \u001b[39m-\u001b[39m\u001b[39m>\u001b[39m Response:\n\u001b[0;32m    299\u001b[0m     \u001b[39m\"\"\"\u001b[39;00m\n\u001b[0;32m    300\u001b[0m \u001b[39m    Sends a `POST` request.\u001b[39;00m\n\u001b[0;32m    301\u001b[0m \n\u001b[0;32m    302\u001b[0m \u001b[39m    **Parameters**: See `httpx.request`.\u001b[39;00m\n\u001b[0;32m    303\u001b[0m \u001b[39m    \"\"\"\u001b[39;00m\n\u001b[1;32m--> 304\u001b[0m     \u001b[39mreturn\u001b[39;00m request(\n\u001b[0;32m    305\u001b[0m         \u001b[39m\"\u001b[39;49m\u001b[39mPOST\u001b[39;49m\u001b[39m\"\u001b[39;49m,\n\u001b[0;32m    306\u001b[0m         url,\n\u001b[0;32m    307\u001b[0m         content\u001b[39m=\u001b[39;49mcontent,\n\u001b[0;32m    308\u001b[0m         data\u001b[39m=\u001b[39;49mdata,\n\u001b[0;32m    309\u001b[0m         files\u001b[39m=\u001b[39;49mfiles,\n\u001b[0;32m    310\u001b[0m         json\u001b[39m=\u001b[39;49mjson,\n\u001b[0;32m    311\u001b[0m         params\u001b[39m=\u001b[39;49mparams,\n\u001b[0;32m    312\u001b[0m         headers\u001b[39m=\u001b[39;49mheaders,\n\u001b[0;32m    313\u001b[0m         cookies\u001b[39m=\u001b[39;49mcookies,\n\u001b[0;32m    314\u001b[0m         auth\u001b[39m=\u001b[39;49mauth,\n\u001b[0;32m    315\u001b[0m         proxies\u001b[39m=\u001b[39;49mproxies,\n\u001b[0;32m    316\u001b[0m         follow_redirects\u001b[39m=\u001b[39;49mfollow_redirects,\n\u001b[0;32m    317\u001b[0m         cert\u001b[39m=\u001b[39;49mcert,\n\u001b[0;32m    318\u001b[0m         verify\u001b[39m=\u001b[39;49mverify,\n\u001b[0;32m    319\u001b[0m         timeout\u001b[39m=\u001b[39;49mtimeout,\n\u001b[0;32m    320\u001b[0m         trust_env\u001b[39m=\u001b[39;49mtrust_env,\n\u001b[0;32m    321\u001b[0m     )\n",
      "File \u001b[1;32mc:\\Users\\Usuário\\Desktop\\BiblioKeia\\venv\\lib\\site-packages\\httpx\\_api.py:100\u001b[0m, in \u001b[0;36mrequest\u001b[1;34m(method, url, params, content, data, files, json, headers, cookies, auth, proxies, timeout, follow_redirects, verify, cert, trust_env)\u001b[0m\n\u001b[0;32m     42\u001b[0m \u001b[39m\"\"\"\u001b[39;00m\n\u001b[0;32m     43\u001b[0m \u001b[39mSends an HTTP request.\u001b[39;00m\n\u001b[0;32m     44\u001b[0m \n\u001b[1;32m   (...)\u001b[0m\n\u001b[0;32m     90\u001b[0m \u001b[39m```\u001b[39;00m\n\u001b[0;32m     91\u001b[0m \u001b[39m\"\"\"\u001b[39;00m\n\u001b[0;32m     92\u001b[0m \u001b[39mwith\u001b[39;00m Client(\n\u001b[0;32m     93\u001b[0m     cookies\u001b[39m=\u001b[39mcookies,\n\u001b[0;32m     94\u001b[0m     proxies\u001b[39m=\u001b[39mproxies,\n\u001b[1;32m   (...)\u001b[0m\n\u001b[0;32m     98\u001b[0m     trust_env\u001b[39m=\u001b[39mtrust_env,\n\u001b[0;32m     99\u001b[0m ) \u001b[39mas\u001b[39;00m client:\n\u001b[1;32m--> 100\u001b[0m     \u001b[39mreturn\u001b[39;00m client\u001b[39m.\u001b[39;49mrequest(\n\u001b[0;32m    101\u001b[0m         method\u001b[39m=\u001b[39;49mmethod,\n\u001b[0;32m    102\u001b[0m         url\u001b[39m=\u001b[39;49murl,\n\u001b[0;32m    103\u001b[0m         content\u001b[39m=\u001b[39;49mcontent,\n\u001b[0;32m    104\u001b[0m         data\u001b[39m=\u001b[39;49mdata,\n\u001b[0;32m    105\u001b[0m         files\u001b[39m=\u001b[39;49mfiles,\n\u001b[0;32m    106\u001b[0m         json\u001b[39m=\u001b[39;49mjson,\n\u001b[0;32m    107\u001b[0m         params\u001b[39m=\u001b[39;49mparams,\n\u001b[0;32m    108\u001b[0m         headers\u001b[39m=\u001b[39;49mheaders,\n\u001b[0;32m    109\u001b[0m         auth\u001b[39m=\u001b[39;49mauth,\n\u001b[0;32m    110\u001b[0m         follow_redirects\u001b[39m=\u001b[39;49mfollow_redirects,\n\u001b[0;32m    111\u001b[0m     )\n",
      "File \u001b[1;32mc:\\Users\\Usuário\\Desktop\\BiblioKeia\\venv\\lib\\site-packages\\httpx\\_client.py:802\u001b[0m, in \u001b[0;36mClient.request\u001b[1;34m(self, method, url, content, data, files, json, params, headers, cookies, auth, follow_redirects, timeout, extensions)\u001b[0m\n\u001b[0;32m    795\u001b[0m     message \u001b[39m=\u001b[39m (\n\u001b[0;32m    796\u001b[0m         \u001b[39m\"\u001b[39m\u001b[39mSetting per-request cookies=<...> is being deprecated, because \u001b[39m\u001b[39m\"\u001b[39m\n\u001b[0;32m    797\u001b[0m         \u001b[39m\"\u001b[39m\u001b[39mthe expected behaviour on cookie persistence is ambiguous. Set \u001b[39m\u001b[39m\"\u001b[39m\n\u001b[0;32m    798\u001b[0m         \u001b[39m\"\u001b[39m\u001b[39mcookies directly on the client instance instead.\u001b[39m\u001b[39m\"\u001b[39m\n\u001b[0;32m    799\u001b[0m     )\n\u001b[0;32m    800\u001b[0m     warnings\u001b[39m.\u001b[39mwarn(message, \u001b[39mDeprecationWarning\u001b[39;00m)\n\u001b[1;32m--> 802\u001b[0m request \u001b[39m=\u001b[39m \u001b[39mself\u001b[39;49m\u001b[39m.\u001b[39;49mbuild_request(\n\u001b[0;32m    803\u001b[0m     method\u001b[39m=\u001b[39;49mmethod,\n\u001b[0;32m    804\u001b[0m     url\u001b[39m=\u001b[39;49murl,\n\u001b[0;32m    805\u001b[0m     content\u001b[39m=\u001b[39;49mcontent,\n\u001b[0;32m    806\u001b[0m     data\u001b[39m=\u001b[39;49mdata,\n\u001b[0;32m    807\u001b[0m     files\u001b[39m=\u001b[39;49mfiles,\n\u001b[0;32m    808\u001b[0m     json\u001b[39m=\u001b[39;49mjson,\n\u001b[0;32m    809\u001b[0m     params\u001b[39m=\u001b[39;49mparams,\n\u001b[0;32m    810\u001b[0m     headers\u001b[39m=\u001b[39;49mheaders,\n\u001b[0;32m    811\u001b[0m     cookies\u001b[39m=\u001b[39;49mcookies,\n\u001b[0;32m    812\u001b[0m     timeout\u001b[39m=\u001b[39;49mtimeout,\n\u001b[0;32m    813\u001b[0m     extensions\u001b[39m=\u001b[39;49mextensions,\n\u001b[0;32m    814\u001b[0m )\n\u001b[0;32m    815\u001b[0m \u001b[39mreturn\u001b[39;00m \u001b[39mself\u001b[39m\u001b[39m.\u001b[39msend(request, auth\u001b[39m=\u001b[39mauth, follow_redirects\u001b[39m=\u001b[39mfollow_redirects)\n",
      "File \u001b[1;32mc:\\Users\\Usuário\\Desktop\\BiblioKeia\\venv\\lib\\site-packages\\httpx\\_client.py:356\u001b[0m, in \u001b[0;36mBaseClient.build_request\u001b[1;34m(self, method, url, content, data, files, json, params, headers, cookies, timeout, extensions)\u001b[0m\n\u001b[0;32m    350\u001b[0m     timeout \u001b[39m=\u001b[39m (\n\u001b[0;32m    351\u001b[0m         \u001b[39mself\u001b[39m\u001b[39m.\u001b[39mtimeout\n\u001b[0;32m    352\u001b[0m         \u001b[39mif\u001b[39;00m \u001b[39misinstance\u001b[39m(timeout, UseClientDefault)\n\u001b[0;32m    353\u001b[0m         \u001b[39melse\u001b[39;00m Timeout(timeout)\n\u001b[0;32m    354\u001b[0m     )\n\u001b[0;32m    355\u001b[0m     extensions[\u001b[39m\"\u001b[39m\u001b[39mtimeout\u001b[39m\u001b[39m\"\u001b[39m] \u001b[39m=\u001b[39m timeout\u001b[39m.\u001b[39mas_dict()\n\u001b[1;32m--> 356\u001b[0m \u001b[39mreturn\u001b[39;00m Request(\n\u001b[0;32m    357\u001b[0m     method,\n\u001b[0;32m    358\u001b[0m     url,\n\u001b[0;32m    359\u001b[0m     content\u001b[39m=\u001b[39;49mcontent,\n\u001b[0;32m    360\u001b[0m     data\u001b[39m=\u001b[39;49mdata,\n\u001b[0;32m    361\u001b[0m     files\u001b[39m=\u001b[39;49mfiles,\n\u001b[0;32m    362\u001b[0m     json\u001b[39m=\u001b[39;49mjson,\n\u001b[0;32m    363\u001b[0m     params\u001b[39m=\u001b[39;49mparams,\n\u001b[0;32m    364\u001b[0m     headers\u001b[39m=\u001b[39;49mheaders,\n\u001b[0;32m    365\u001b[0m     cookies\u001b[39m=\u001b[39;49mcookies,\n\u001b[0;32m    366\u001b[0m     extensions\u001b[39m=\u001b[39;49mextensions,\n\u001b[0;32m    367\u001b[0m )\n",
      "File \u001b[1;32mc:\\Users\\Usuário\\Desktop\\BiblioKeia\\venv\\lib\\site-packages\\httpx\\_models.py:336\u001b[0m, in \u001b[0;36mRequest.__init__\u001b[1;34m(self, method, url, params, headers, cookies, content, data, files, json, stream, extensions)\u001b[0m\n\u001b[0;32m    333\u001b[0m     Cookies(cookies)\u001b[39m.\u001b[39mset_cookie_header(\u001b[39mself\u001b[39m)\n\u001b[0;32m    335\u001b[0m \u001b[39mif\u001b[39;00m stream \u001b[39mis\u001b[39;00m \u001b[39mNone\u001b[39;00m:\n\u001b[1;32m--> 336\u001b[0m     headers, stream \u001b[39m=\u001b[39m encode_request(content, data, files, json)\n\u001b[0;32m    337\u001b[0m     \u001b[39mself\u001b[39m\u001b[39m.\u001b[39m_prepare(headers)\n\u001b[0;32m    338\u001b[0m     \u001b[39mself\u001b[39m\u001b[39m.\u001b[39mstream \u001b[39m=\u001b[39m stream\n",
      "File \u001b[1;32mc:\\Users\\Usuário\\Desktop\\BiblioKeia\\venv\\lib\\site-packages\\httpx\\_content.py:214\u001b[0m, in \u001b[0;36mencode_request\u001b[1;34m(content, data, files, json, boundary)\u001b[0m\n\u001b[0;32m    212\u001b[0m     \u001b[39mreturn\u001b[39;00m encode_urlencoded_data(data)\n\u001b[0;32m    213\u001b[0m \u001b[39melif\u001b[39;00m json \u001b[39mis\u001b[39;00m \u001b[39mnot\u001b[39;00m \u001b[39mNone\u001b[39;00m:\n\u001b[1;32m--> 214\u001b[0m     \u001b[39mreturn\u001b[39;00m encode_json(json)\n\u001b[0;32m    216\u001b[0m \u001b[39mreturn\u001b[39;00m {}, ByteStream(\u001b[39mb\u001b[39m\u001b[39m\"\u001b[39m\u001b[39m\"\u001b[39m)\n",
      "File \u001b[1;32mc:\\Users\\Usuário\\Desktop\\BiblioKeia\\venv\\lib\\site-packages\\httpx\\_content.py:177\u001b[0m, in \u001b[0;36mencode_json\u001b[1;34m(json)\u001b[0m\n\u001b[0;32m    176\u001b[0m \u001b[39mdef\u001b[39;00m \u001b[39mencode_json\u001b[39m(json: Any) \u001b[39m-\u001b[39m\u001b[39m>\u001b[39m Tuple[Dict[\u001b[39mstr\u001b[39m, \u001b[39mstr\u001b[39m], ByteStream]:\n\u001b[1;32m--> 177\u001b[0m     body \u001b[39m=\u001b[39m json_dumps(json)\u001b[39m.\u001b[39mencode(\u001b[39m\"\u001b[39m\u001b[39mutf-8\u001b[39m\u001b[39m\"\u001b[39m)\n\u001b[0;32m    178\u001b[0m     content_length \u001b[39m=\u001b[39m \u001b[39mstr\u001b[39m(\u001b[39mlen\u001b[39m(body))\n\u001b[0;32m    179\u001b[0m     content_type \u001b[39m=\u001b[39m \u001b[39m\"\u001b[39m\u001b[39mapplication/json\u001b[39m\u001b[39m\"\u001b[39m\n",
      "File \u001b[1;32m~\\AppData\\Local\\Programs\\Python\\Python310\\lib\\json\\__init__.py:231\u001b[0m, in \u001b[0;36mdumps\u001b[1;34m(obj, skipkeys, ensure_ascii, check_circular, allow_nan, cls, indent, separators, default, sort_keys, **kw)\u001b[0m\n\u001b[0;32m    226\u001b[0m \u001b[39m# cached encoder\u001b[39;00m\n\u001b[0;32m    227\u001b[0m \u001b[39mif\u001b[39;00m (\u001b[39mnot\u001b[39;00m skipkeys \u001b[39mand\u001b[39;00m ensure_ascii \u001b[39mand\u001b[39;00m\n\u001b[0;32m    228\u001b[0m     check_circular \u001b[39mand\u001b[39;00m allow_nan \u001b[39mand\u001b[39;00m\n\u001b[0;32m    229\u001b[0m     \u001b[39mcls\u001b[39m \u001b[39mis\u001b[39;00m \u001b[39mNone\u001b[39;00m \u001b[39mand\u001b[39;00m indent \u001b[39mis\u001b[39;00m \u001b[39mNone\u001b[39;00m \u001b[39mand\u001b[39;00m separators \u001b[39mis\u001b[39;00m \u001b[39mNone\u001b[39;00m \u001b[39mand\u001b[39;00m\n\u001b[0;32m    230\u001b[0m     default \u001b[39mis\u001b[39;00m \u001b[39mNone\u001b[39;00m \u001b[39mand\u001b[39;00m \u001b[39mnot\u001b[39;00m sort_keys \u001b[39mand\u001b[39;00m \u001b[39mnot\u001b[39;00m kw):\n\u001b[1;32m--> 231\u001b[0m     \u001b[39mreturn\u001b[39;00m _default_encoder\u001b[39m.\u001b[39;49mencode(obj)\n\u001b[0;32m    232\u001b[0m \u001b[39mif\u001b[39;00m \u001b[39mcls\u001b[39m \u001b[39mis\u001b[39;00m \u001b[39mNone\u001b[39;00m:\n\u001b[0;32m    233\u001b[0m     \u001b[39mcls\u001b[39m \u001b[39m=\u001b[39m JSONEncoder\n",
      "File \u001b[1;32m~\\AppData\\Local\\Programs\\Python\\Python310\\lib\\json\\encoder.py:199\u001b[0m, in \u001b[0;36mJSONEncoder.encode\u001b[1;34m(self, o)\u001b[0m\n\u001b[0;32m    195\u001b[0m         \u001b[39mreturn\u001b[39;00m encode_basestring(o)\n\u001b[0;32m    196\u001b[0m \u001b[39m# This doesn't pass the iterator directly to ''.join() because the\u001b[39;00m\n\u001b[0;32m    197\u001b[0m \u001b[39m# exceptions aren't as detailed.  The list call should be roughly\u001b[39;00m\n\u001b[0;32m    198\u001b[0m \u001b[39m# equivalent to the PySequence_Fast that ''.join() would do.\u001b[39;00m\n\u001b[1;32m--> 199\u001b[0m chunks \u001b[39m=\u001b[39m \u001b[39mself\u001b[39;49m\u001b[39m.\u001b[39;49miterencode(o, _one_shot\u001b[39m=\u001b[39;49m\u001b[39mTrue\u001b[39;49;00m)\n\u001b[0;32m    200\u001b[0m \u001b[39mif\u001b[39;00m \u001b[39mnot\u001b[39;00m \u001b[39misinstance\u001b[39m(chunks, (\u001b[39mlist\u001b[39m, \u001b[39mtuple\u001b[39m)):\n\u001b[0;32m    201\u001b[0m     chunks \u001b[39m=\u001b[39m \u001b[39mlist\u001b[39m(chunks)\n",
      "File \u001b[1;32m~\\AppData\\Local\\Programs\\Python\\Python310\\lib\\json\\encoder.py:257\u001b[0m, in \u001b[0;36mJSONEncoder.iterencode\u001b[1;34m(self, o, _one_shot)\u001b[0m\n\u001b[0;32m    252\u001b[0m \u001b[39melse\u001b[39;00m:\n\u001b[0;32m    253\u001b[0m     _iterencode \u001b[39m=\u001b[39m _make_iterencode(\n\u001b[0;32m    254\u001b[0m         markers, \u001b[39mself\u001b[39m\u001b[39m.\u001b[39mdefault, _encoder, \u001b[39mself\u001b[39m\u001b[39m.\u001b[39mindent, floatstr,\n\u001b[0;32m    255\u001b[0m         \u001b[39mself\u001b[39m\u001b[39m.\u001b[39mkey_separator, \u001b[39mself\u001b[39m\u001b[39m.\u001b[39mitem_separator, \u001b[39mself\u001b[39m\u001b[39m.\u001b[39msort_keys,\n\u001b[0;32m    256\u001b[0m         \u001b[39mself\u001b[39m\u001b[39m.\u001b[39mskipkeys, _one_shot)\n\u001b[1;32m--> 257\u001b[0m \u001b[39mreturn\u001b[39;00m _iterencode(o, \u001b[39m0\u001b[39;49m)\n",
      "File \u001b[1;32m~\\AppData\\Local\\Programs\\Python\\Python310\\lib\\json\\encoder.py:179\u001b[0m, in \u001b[0;36mJSONEncoder.default\u001b[1;34m(self, o)\u001b[0m\n\u001b[0;32m    160\u001b[0m \u001b[39mdef\u001b[39;00m \u001b[39mdefault\u001b[39m(\u001b[39mself\u001b[39m, o):\n\u001b[0;32m    161\u001b[0m     \u001b[39m\"\"\"Implement this method in a subclass such that it returns\u001b[39;00m\n\u001b[0;32m    162\u001b[0m \u001b[39m    a serializable object for ``o``, or calls the base implementation\u001b[39;00m\n\u001b[0;32m    163\u001b[0m \u001b[39m    (to raise a ``TypeError``).\u001b[39;00m\n\u001b[1;32m   (...)\u001b[0m\n\u001b[0;32m    177\u001b[0m \n\u001b[0;32m    178\u001b[0m \u001b[39m    \"\"\"\u001b[39;00m\n\u001b[1;32m--> 179\u001b[0m     \u001b[39mraise\u001b[39;00m \u001b[39mTypeError\u001b[39;00m(\u001b[39mf\u001b[39m\u001b[39m'\u001b[39m\u001b[39mObject of type \u001b[39m\u001b[39m{\u001b[39;00mo\u001b[39m.\u001b[39m\u001b[39m__class__\u001b[39m\u001b[39m.\u001b[39m\u001b[39m__name__\u001b[39m\u001b[39m}\u001b[39;00m\u001b[39m \u001b[39m\u001b[39m'\u001b[39m\n\u001b[0;32m    180\u001b[0m                     \u001b[39mf\u001b[39m\u001b[39m'\u001b[39m\u001b[39mis not JSON serializable\u001b[39m\u001b[39m'\u001b[39m)\n",
      "\u001b[1;31mTypeError\u001b[0m: Object of type date is not JSON serializable"
     ]
    }
   ],
   "source": [
    "\n",
    "headers = {\n",
    "    'accept': 'application/json',\n",
    "    'Content-Type': 'application/json',\n",
    "}\n",
    "response = httpx.post('http://localhost:8000/authorities/mads/subject/', headers=headers, json=response.dict())\n",
    "response.status_code"
   ]
  }
 ],
 "metadata": {
  "kernelspec": {
   "display_name": "Python 3.11.0 ('venv': venv)",
   "language": "python",
   "name": "python3"
  },
  "language_info": {
   "codemirror_mode": {
    "name": "ipython",
    "version": 3
   },
   "file_extension": ".py",
   "mimetype": "text/x-python",
   "name": "python",
   "nbconvert_exporter": "python",
   "pygments_lexer": "ipython3",
   "version": "3.11.3"
  },
  "orig_nbformat": 4,
  "vscode": {
   "interpreter": {
    "hash": "5df21a170a08fe7c24b5b1091267edae5bad3984f1116f28e957af7dd8f192dc"
   }
  }
 },
 "nbformat": 4,
 "nbformat_minor": 2
}
