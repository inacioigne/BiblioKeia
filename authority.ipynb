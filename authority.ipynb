{
 "cells": [
  {
   "cell_type": "code",
   "execution_count": 14,
   "metadata": {},
   "outputs": [],
   "source": [
    "from pydantic import BaseModel, validator\n",
    "from typing import Optional, Union\n",
    "from datetime import datetime\n",
    "import json"
   ]
  },
  {
   "cell_type": "code",
   "execution_count": 20,
   "metadata": {},
   "outputs": [],
   "source": [
    "class Authority(BaseModel):\n",
    "\n",
    "    type: str"
   ]
  },
  {
   "cell_type": "code",
   "execution_count": 21,
   "metadata": {},
   "outputs": [
    {
     "data": {
      "text/plain": [
       "Authority(type='GenreForm')"
      ]
     },
     "execution_count": 21,
     "metadata": {},
     "output_type": "execute_result"
    }
   ],
   "source": [
    "with open('authority.json', encoding='utf-8') as file:\n",
    "    reader = file.read()\n",
    "    authority = json.loads(reader)\n",
    "    file.close()\n",
    "request = Authority(**authority)\n",
    "request"
   ]
  },
  {
   "cell_type": "code",
   "execution_count": 17,
   "metadata": {},
   "outputs": [
    {
     "data": {
      "text/plain": [
       "Authority()"
      ]
     },
     "execution_count": 17,
     "metadata": {},
     "output_type": "execute_result"
    }
   ],
   "source": [
    "Authority(type='aad')"
   ]
  },
  {
   "cell_type": "code",
   "execution_count": 2,
   "metadata": {},
   "outputs": [],
   "source": [
    "prefix = \"\"\"PREFIX rdf: <http://www.w3.org/1999/02/22-rdf-syntax-ns#> \n",
    "    PREFIX madsrdf: <http://www.loc.gov/mads/rdf/v1#> \n",
    "    PREFIX owl: <http://www.w3.org/2002/07/owl#> \n",
    "    PREFIX ri: <http://id.loc.gov/ontologies/RecordInfo#> \n",
    "    PREFIX name: <https://bibliokeia.com/authorities/name/> \n",
    "    PREFIX xsd: <http://www.w3.org/2001/XMLSchema#>\n",
    "    PREFIX rdfs: <http://www.w3.org/2000/01/rdf-schema#>\"\"\""
   ]
  },
  {
   "cell_type": "code",
   "execution_count": 23,
   "metadata": {},
   "outputs": [
    {
     "name": "stdout",
     "output_type": "stream",
     "text": [
      "PREFIX rdf: <http://www.w3.org/1999/02/22-rdf-syntax-ns#> \n",
      "    PREFIX madsrdf: <http://www.loc.gov/mads/rdf/v1#> \n",
      "    PREFIX owl: <http://www.w3.org/2002/07/owl#> \n",
      "    PREFIX ri: <http://id.loc.gov/ontologies/RecordInfo#> \n",
      "    PREFIX name: <https://bibliokeia.com/authorities/name/> \n",
      "    PREFIX xsd: <http://www.w3.org/2001/XMLSchema#>\n",
      "    PREFIX rdfs: <http://www.w3.org/2000/01/rdf-schema#>    \n",
      "    INSERT DATA {\n",
      "        GRAPH <https://bibliokeia.com/authorities/genreForms/gf2014026339>\n",
      "        {\n",
      "        <http://id.loc.gov/authorities/genreForms/gf2014026339> a madsrdf:Authority, \n",
      "        madsrdf:GenreForm ;\n",
      "               \n",
      "\n",
      "        \n",
      "        } \n",
      "        }\n"
     ]
    }
   ],
   "source": [
    "collection = 'genreForms'\n",
    "id = 'gf2014026339'\n",
    "graph = f\"\"\"{prefix}    \n",
    "    INSERT DATA {{\n",
    "        GRAPH <https://bibliokeia.com/authorities/{collection}/{id}>\n",
    "        {{\n",
    "        <http://id.loc.gov/authorities/genreForms/gf2014026339> a madsrdf:Authority, \n",
    "            madsrdf:{request.type} ;\n",
    "            \n",
    "               \n",
    "\n",
    "        \n",
    "        }} \n",
    "        }}\"\"\"\n",
    "print(graph)"
   ]
  },
  {
   "cell_type": "code",
   "execution_count": null,
   "metadata": {},
   "outputs": [],
   "source": [
    " bkw:{id} a { \", \".join(request.type) }  ;\n",
    "                bf:adminMetadata [ a bf:AdminMetadata ;\n",
    "                bflc:encodingLevel {request.adminMetadata.encodingLevel} ;\n",
    "                bf:assigner <{request.adminMetadata.assigner}> ;    \n",
    "                bf:creationDate \"{request.adminMetadata.creationDate}\"^^xsd:date ;    \n",
    "                bf:descriptionConventions <{request.adminMetadata.descriptionConventions}> ;\n",
    "                bf:descriptionLanguage <{request.adminMetadata.descriptionLanguage}> ;\n",
    "                 bf:generationProcess [ a bf:GenerationProcess ;\n",
    "                    rdfs:label \"{request.adminMetadata.generationProcess.label}\" ;\n",
    "                    bf:generationDate \"{request.adminMetadata.generationProcess.generationDate}\"^^xsd:dateTime ] ;\n",
    "                bf:identifiedBy [ a bf:Local ;\n",
    "                    bf:assigner <{request.adminMetadata.assigner}> ;\n",
    "                    rdf:value \"{id}\" ] ;\n",
    "                bf:status {request.adminMetadata.status.value} ] ;\n",
    "                bf:classification [ a bf:ClassificationDdc ;\n",
    "                bf:assigner <{request.adminMetadata.assigner}> ;\n",
    "                bf:classificationPortion \"{request.classification.classificationPortion}\" ;\n",
    "                bf:itemPortion \"{request.classification.itemPortion}\" ;\n",
    "                bf:source [ a bf:Source ;\n",
    "                    bf:code \"{request.classification.edition}\" ] ] ;\n",
    "                bf:content { \", \".join([content.value for content in request.content]) } ;\n",
    "                bf:contribution  { MakeContribution(request.contribution) } ;\n",
    "                { f'bf:genreForm { \", \".join([genreForm.value for genreForm in request.genreForm]) } ; ' if request.genreForm else ''}\n",
    "                bf:language { MakeLanguage(request.language) } ;\n",
    "                { f'bf:note [ a bf:Note ; rdfs:label \"{request.note}\" ] ; ' if request.note else '' }\n",
    "                { f'bf:summary [ a bf:Summary ; rdfs:label \"{request.summary}\" ] ; ' if request.summary else '' }\n",
    "                { f'bf:expressionOf <{request.expressionOf}> ;' if request.expressionOf else ''}\n",
    "                { f'bf:hasInstance <{request.hasInstance}> ;' if request.hasInstance else ''}\n",
    "                { f'bf:supplementaryContent { \", \".join([supplementaryContent.value for supplementaryContent in request.supplementaryContent ])} ;' if request.supplementaryContent else ''}\n",
    "                bf:subject { \", \".join([f'<{subject.value}>' for subject in request.subject]) } ;\n",
    "                bf:title [ a bf:Title ;\n",
    "                bf:mainTitle \"{request.title.mainTitle}\" \n",
    "                { f'; bf:subtitle \"{request.title.subtitle}\" ' if request.title.subtitle else ''} ] .\n",
    "\n",
    "                {request.adminMetadata.status.value} a bf:Status ;\n",
    "                rdfs:label \"{request.adminMetadata.status.label}\" ."
   ]
  }
 ],
 "metadata": {
  "kernelspec": {
   "display_name": "venv",
   "language": "python",
   "name": "python3"
  },
  "language_info": {
   "codemirror_mode": {
    "name": "ipython",
    "version": 3
   },
   "file_extension": ".py",
   "mimetype": "text/x-python",
   "name": "python",
   "nbconvert_exporter": "python",
   "pygments_lexer": "ipython3",
   "version": "3.10.4"
  },
  "orig_nbformat": 4
 },
 "nbformat": 4,
 "nbformat_minor": 2
}
