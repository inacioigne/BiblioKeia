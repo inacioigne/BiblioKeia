{
 "cells": [
  {
   "cell_type": "code",
   "execution_count": 8,
   "metadata": {},
   "outputs": [],
   "source": [
    "from pyfuseki import FusekiQuery, FusekiUpdate\n",
    "from pysolr import Solr\n",
    "import httpx\n",
    "from rdflib import Graph\n",
    "from api.src.routes.translate.makeTranslate import MakeTranslate\n",
    "from api.src.function.loc.graphExist import GraphExist\n",
    "from pydantic import BaseModel\n",
    "from typing import Optional\n",
    "from api.src.schemas.authorities.authority import Uri, Variant, AdminMetadata, Element"
   ]
  },
  {
   "cell_type": "code",
   "execution_count": 28,
   "metadata": {},
   "outputs": [
    {
     "data": {
      "text/plain": [
       "'<?xml version=\"1.0\" encoding=\"UTF-8\"?>\\n<response>\\n\\n<lst name=\"responseHeader\">\\n  <int name=\"status\">0</int>\\n  <int name=\"QTime\">134</int>\\n</lst>\\n</response>\\n'"
      ]
     },
     "execution_count": 28,
     "metadata": {},
     "output_type": "execute_result"
    }
   ],
   "source": [
    "au_update = FusekiUpdate('http://localhost:3030', 'authorities')\n",
    "\n",
    "d = \"\"\"DELETE { graph ?g { ?s ?p ?o } } \n",
    "        WHERE {\n",
    "        graph ?g {?s ?p ?o.}\n",
    "        }\"\"\"\n",
    "\n",
    "response = au_update.run_sparql(d)\n",
    "response.convert()\n",
    "\n",
    "solr = Solr('http://localhost:8983/solr/authorities/', timeout=10)\n",
    "solr.delete(q=\"*:*\",  commit=True)"
   ]
  },
  {
   "attachments": {},
   "cell_type": "markdown",
   "metadata": {},
   "source": [
    "Information science"
   ]
  },
  {
   "cell_type": "code",
   "execution_count": 4,
   "metadata": {},
   "outputs": [
    {
     "data": {
      "text/plain": [
       "{'detail': 'Esse registro já existe'}"
      ]
     },
     "execution_count": 4,
     "metadata": {},
     "output_type": "execute_result"
    }
   ],
   "source": [
    "url = 'http://localhost:8000/authorities/loc/subject?uri=http://id.loc.gov/authorities/subjects/sh85066150'\n",
    "r = httpx.get(url)\n",
    "r.json()"
   ]
  },
  {
   "cell_type": "code",
   "execution_count": 30,
   "metadata": {},
   "outputs": [
    {
     "data": {
      "text/plain": [
       "201"
      ]
     },
     "execution_count": 30,
     "metadata": {},
     "output_type": "execute_result"
    }
   ],
   "source": [
    "headers = {\n",
    "    'accept': 'application/json',\n",
    "    'Content-Type': 'application/json',\n",
    "}\n",
    "response = httpx.post('http://localhost:8000/authorities/mads/subject/', headers=headers, json=r.json())\n",
    "response.status_code"
   ]
  },
  {
   "cell_type": "code",
   "execution_count": 29,
   "metadata": {},
   "outputs": [
    {
     "data": {
      "text/plain": [
       "<Graph identifier=Nf18366b49afd41bd82bac6c384eacfb0 (<class 'rdflib.graph.Graph'>)>"
      ]
     },
     "execution_count": 29,
     "metadata": {},
     "output_type": "execute_result"
    }
   ],
   "source": [
    "graph = Graph()\n",
    "uri = 'http://id.loc.gov/authorities/subjects/sh85066150'\n",
    "graph.parse(f'{uri}.rdf')\n",
    "graph.serialize('information.ttl')"
   ]
  },
  {
   "cell_type": "code",
   "execution_count": 18,
   "metadata": {},
   "outputs": [],
   "source": [
    "fuseki_query = FusekiQuery('http://localhost:3030', 'authorities')\n",
    "\n",
    "\n",
    "class Subject(BaseModel):\n",
    "    type: str \n",
    "    adminMetadata: AdminMetadata \n",
    "    elementList: list[Element]\n",
    "    note: Optional[str]\n",
    "    hasBroaderAuthority: Optional[list[Uri]]\n",
    "    hasBroaderExternalAuthority: Optional[list[Uri]]\n",
    "    hasNarrowerAuthority: Optional[list[Uri]]\n",
    "    hasNarrowerExternalAuthority: Optional[list[Uri]]\n",
    "    hasCloseExternalAuthority: Optional[list[Uri]]\n",
    "    hasExactExternalAuthority: Optional[list[Uri]]\n",
    "    \n",
    "    hasVariant: Optional[list[Variant]]\n",
    "    subjectOf: Optional[list[Uri]]\n",
    "    isMemberOfMADSCollection: str\n",
    "\n",
    "def GetUriBK(url):\n",
    "    token = url.split(\"/\")[-1]\n",
    "    queryBK = f\"\"\"PREFIX madsrdf: <http://www.loc.gov/mads/rdf/v1#>\n",
    "      PREFIX bf: <http://id.loc.gov/ontologies/bibframe/>\n",
    "      PREFIX rdf: <http://www.w3.org/1999/02/22-rdf-syntax-ns#> \n",
    "      SELECT ?uri ?label WHERE {{ graph ?g {{\n",
    "          ?uri madsrdf:authoritativeLabel ?label .\n",
    "        ?sub bf:identifiedBy ?identifiedBy .\n",
    "          ?identifiedBy rdf:value \"{token}\"\n",
    "          FILTER EXISTS {{ ?identifiedBy bf:assigner <http://id.loc.gov/vocabulary/organizations/dlc> }}\n",
    "      }} }} \"\"\"\n",
    "    response = fuseki_query.run_sparql(queryBK)\n",
    "    [binding] = response.convert()['results']['bindings']\n",
    "    uri = {\"value\": binding['uri']['value'],\n",
    "              \"label\": {\n",
    "                \"value\": binding['label']['value'],\n",
    "                \"lang\": \"pt\"\n",
    "              } }\n",
    "    return uri\n",
    "\n",
    "def GetUri(obj, metadado, authority, graph):\n",
    "    query = f\"\"\"PREFIX madsrdf: <http://www.loc.gov/mads/rdf/v1#>\n",
    "            SELECT * WHERE  {{\n",
    "              <{authority}> madsrdf:{metadado} ?value .\n",
    "              ?value madsrdf:authoritativeLabel ?label\n",
    "              }}\"\"\"\n",
    "    response = graph.query(query)\n",
    "    if len(response.bindings) > 0:\n",
    "        uris = list()\n",
    "        for i in response.bindings:\n",
    "          url = i.get('value')\n",
    "          if metadado in ['hasBroaderAuthority', 'hasNarrowerAuthority']:\n",
    "            exist = GraphExist(url)\n",
    "            if exist:\n",
    "              uri = GetUriBK(url)\n",
    "            else:\n",
    "              uri = {\n",
    "                    \"value\": url,\n",
    "                    \"label\": {\n",
    "                  \"value\": i.get('label').value,\n",
    "                  \"lang\": i.get('label').language\n",
    "                } }\n",
    "          else:\n",
    "            uri = {\n",
    "                  \"value\": url,\n",
    "                   \"label\": {\n",
    "                \"value\": i.get('label').value,\n",
    "                \"lang\": i.get('label').language\n",
    "              } }\n",
    "          uris.append(uri)\n",
    "        obj[metadado] = uris\n",
    "    return obj\n",
    "\n"
   ]
  },
  {
   "cell_type": "code",
   "execution_count": 14,
   "metadata": {},
   "outputs": [],
   "source": [
    "def GetHasBroader(authority, graph, obj):\n",
    "\n",
    "    query = f\"\"\"PREFIX madsrdf: <http://www.loc.gov/mads/rdf/v1#>\n",
    "            SELECT * WHERE  {{\n",
    "              <{authority}> madsrdf:hasBroaderAuthority ?value .\n",
    "              ?value madsrdf:authoritativeLabel ?label\n",
    "              }}\"\"\"\n",
    "    response = graph.query(query)\n",
    "    if len(response.bindings) > 0:\n",
    "        external = list()\n",
    "        for i in response.bindings:\n",
    "           url = i.get('value')\n",
    "           exist = GraphExist(url)\n",
    "           if exist:\n",
    "               print(exist)\n",
    "           else:\n",
    "               uri = {\n",
    "                   \"value\": url,\n",
    "                   \"base\": \"loc\",\n",
    "                   \"label\": {\n",
    "                       \"value\": i.get('label').value,\n",
    "                       \"lang\": i.get('label').language } }\n",
    "               external.append(uri)\n",
    "        if len(external) > 0:\n",
    "            obj['hasBroaderExternalAuthority'] = external\n",
    "    return obj\n",
    "\n",
    "\n",
    "    \n",
    "    "
   ]
  },
  {
   "cell_type": "code",
   "execution_count": 26,
   "metadata": {},
   "outputs": [
    {
     "data": {
      "text/plain": [
       "{'hasNarrowerExternalAuthority': [{'value': rdflib.term.URIRef('http://id.loc.gov/authorities/subjects/sh85029072'),\n",
       "   'base': 'loc',\n",
       "   'label': {'value': 'Communication in information science', 'lang': 'en'}},\n",
       "  {'value': rdflib.term.URIRef('http://id.loc.gov/authorities/subjects/sh99004272'),\n",
       "   'base': 'loc',\n",
       "   'label': {'value': 'Geomatics', 'lang': 'en'}},\n",
       "  {'value': rdflib.term.URIRef('http://id.loc.gov/authorities/subjects/sh97004947'),\n",
       "   'base': 'loc',\n",
       "   'label': {'value': 'Agricultural informatics', 'lang': 'en'}},\n",
       "  {'value': rdflib.term.URIRef('http://id.loc.gov/authorities/subjects/sh85038731'),\n",
       "   'base': 'loc',\n",
       "   'label': {'value': 'Documentation', 'lang': 'en'}},\n",
       "  {'value': rdflib.term.URIRef('http://id.loc.gov/authorities/subjects/sh85066148'),\n",
       "   'base': 'loc',\n",
       "   'label': {'value': 'Information retrieval', 'lang': 'en'}},\n",
       "  {'value': rdflib.term.URIRef('http://id.loc.gov/authorities/subjects/sh85066157'),\n",
       "   'base': 'loc',\n",
       "   'label': {'value': 'Information services', 'lang': 'en'}},\n",
       "  {'value': rdflib.term.URIRef('http://id.loc.gov/authorities/subjects/sh2021005976'),\n",
       "   'base': 'loc',\n",
       "   'label': {'value': 'Libraries--Special collections--Information science',\n",
       "    'lang': 'en'}},\n",
       "  {'value': rdflib.term.URIRef('http://id.loc.gov/authorities/subjects/sh2002000243'),\n",
       "   'base': 'loc',\n",
       "   'label': {'value': 'Information visualization', 'lang': 'en'}},\n",
       "  {'value': rdflib.term.URIRef('http://id.loc.gov/authorities/subjects/sh00003585'),\n",
       "   'base': 'loc',\n",
       "   'label': {'value': 'Bioinformatics', 'lang': 'en'}},\n",
       "  {'value': rdflib.term.URIRef('http://id.loc.gov/authorities/subjects/sh2003001403'),\n",
       "   'base': 'loc',\n",
       "   'label': {'value': 'Cheminformatics', 'lang': 'en'}},\n",
       "  {'value': rdflib.term.URIRef('http://id.loc.gov/authorities/subjects/sh99001059'),\n",
       "   'base': 'loc',\n",
       "   'label': {'value': 'Information organization', 'lang': 'en'}},\n",
       "  {'value': rdflib.term.URIRef('http://id.loc.gov/authorities/subjects/sh85147580'),\n",
       "   'base': 'loc',\n",
       "   'label': {'value': 'Women in information science', 'lang': 'en'}},\n",
       "  {'value': rdflib.term.URIRef('http://id.loc.gov/authorities/subjects/sh2021005267'),\n",
       "   'base': 'loc',\n",
       "   'label': {'value': 'Classification--Books--Information science',\n",
       "    'lang': 'en'}},\n",
       "  {'value': rdflib.term.URIRef('http://id.loc.gov/authorities/subjects/sh96008049'),\n",
       "   'base': 'loc',\n",
       "   'label': {'value': 'Information resources', 'lang': 'en'}},\n",
       "  {'value': rdflib.term.URIRef('http://id.loc.gov/authorities/subjects/sh89005069'),\n",
       "   'base': 'loc',\n",
       "   'label': {'value': 'Medical informatics', 'lang': 'en'}}]}"
      ]
     },
     "execution_count": 26,
     "metadata": {},
     "output_type": "execute_result"
    }
   ],
   "source": [
    "def GetHasNarrower(authority, graph, obj):\n",
    "\n",
    "    query = f\"\"\"PREFIX madsrdf: <http://www.loc.gov/mads/rdf/v1#>\n",
    "            SELECT * WHERE  {{\n",
    "              <{authority}> madsrdf:hasNarrowerAuthority ?value .\n",
    "              ?value madsrdf:authoritativeLabel ?label\n",
    "              }}\"\"\"\n",
    "    response = graph.query(query)\n",
    "    if len(response.bindings) > 0:\n",
    "        external = list()\n",
    "        for i in response.bindings:\n",
    "           url = i.get('value')\n",
    "           exist = GraphExist(url)\n",
    "           if exist:\n",
    "               print(exist)\n",
    "           else:\n",
    "               uri = {\n",
    "                   \"value\": url,\n",
    "                   \"base\": \"loc\",\n",
    "                   \"label\": {\n",
    "                       \"value\": i.get('label').value,\n",
    "                       \"lang\": i.get('label').language } }\n",
    "               external.append(uri)\n",
    "        if len(external) > 0:\n",
    "            obj['hasNarrowerExternalAuthority'] = external\n",
    "    return obj\n",
    "obj = {}\n",
    "obj = GetHasNarrower(uri, graph, obj)\n",
    "obj"
   ]
  },
  {
   "cell_type": "code",
   "execution_count": 27,
   "metadata": {},
   "outputs": [],
   "source": [
    "def ParserSubject(graph, authority):\n",
    "      \n",
    "  prefix = \"\"\"PREFIX identifiers: <http://id.loc.gov/vocabulary/identifiers/>\n",
    "  PREFIX rdf: <http://www.w3.org/1999/02/22-rdf-syntax-ns#>\n",
    "  PREFIX madsrdf: <http://www.loc.gov/mads/rdf/v1#>\"\"\"\n",
    "\n",
    "  # Type\n",
    "  qtype = f\"\"\"{prefix}\n",
    "  SELECT ?type WHERE {{ \n",
    "      <{authority}> rdf:type ?type .\n",
    "      FILTER ( ?type != madsrdf:Authority ) \n",
    "      FILTER ( ?type != skos:Concept )\n",
    "       }}\"\"\"\n",
    "  r = graph.query(qtype)\n",
    "  tipo = r.bindings[0].get('type').split(\"#\")[1]\n",
    "  \n",
    "\n",
    "  # adminMetadata\n",
    "  adminMetadata = {\n",
    "      \"assigner\": \"http://id.loc.gov/vocabulary/organizations/dlc\",\n",
    "      \"identifiedBy\": [ {\n",
    "         \"type\": \"Lccn\",\n",
    "          \"assigner\": \"http://id.loc.gov/vocabulary/organizations/dlc\",\n",
    "          \"value\": authority.split('/')[-1]        \n",
    "      }]      \n",
    "  }\n",
    "  # ElementList\n",
    "  qElementList = f\"\"\"{prefix}\n",
    "  SELECT ?elementValue ?type WHERE  {{\n",
    "    <{authority}> madsrdf:elementList ?o .\n",
    "    ?o rdf:rest* ?node .\n",
    "    ?node rdf:first ?e .\n",
    "    ?e madsrdf:elementValue ?elementValue .\n",
    "    ?e rdf:type ?type\n",
    "    }}\"\"\"\n",
    "  r = graph.query(qElementList)\n",
    "  elementList = list()\n",
    "  for i in r.bindings:\n",
    "      element = {\n",
    "            \"type\": i.get('type').split(\"#\")[1],\n",
    "          \"elementValue\": {\n",
    "            \"value\":  i.get('elementValue').value,\n",
    "            \"lang\": i.get('elementValue').language\n",
    "          }\n",
    "        }\n",
    "      elementList.append(element)\n",
    "\n",
    "  obj = {\n",
    "     \"type\": tipo,\n",
    "      \"adminMetadata\": adminMetadata,\n",
    "      \"elementList\": elementList,\n",
    "      \"isMemberOfMADSCollection\": f'http://bibliokeia.com/authorities/{tipo}/'\n",
    "  }\n",
    "\n",
    "  # Note \n",
    "  qNote = f\"\"\"{prefix}\n",
    "  SELECT ?note WHERE {{ \n",
    "      <{authority}> madsrdf:note ?note .\n",
    "       }}\"\"\"\n",
    "  r = graph.query(qNote)\n",
    "  if len(r.bindings) > 0:\n",
    "     obj['note'] = r.bindings[0].get('note').value\n",
    "\n",
    "# hasVariant\n",
    "  qVariant = f\"\"\"{prefix}\n",
    "  SELECT ?typeVariant ?typeElement ?elementValue WHERE  {{\n",
    "\t<{authority}> madsrdf:hasVariant ?variant .\n",
    "  ?variant rdf:type ?typeVariant .\n",
    "  ?variant madsrdf:elementList ?elementList .\n",
    "  ?elementList rdf:rest* ?node .\n",
    "    ?node rdf:first ?e .\n",
    "    ?e madsrdf:elementValue ?elementValue .\n",
    "\t?e rdf:type ?typeElement .\n",
    "  FILTER ( ?typeVariant != madsrdf:Variant )\n",
    "  }}\"\"\"\n",
    "  r = graph.query(qVariant)\n",
    "  if len(r.bindings) > 0:\n",
    "    variants = list()\n",
    "    for i in r.bindings:\n",
    "      variant = {\n",
    "          'type': i.get('typeVariant').split(\"#\")[1],\n",
    "          'elementList': [{\n",
    "              'type': i.get('typeElement').split(\"#\")[1],\n",
    "              'elementValue': {\n",
    "                  'value': i.get('elementValue').value,\n",
    "                  'lang': i.get('elementValue').language\n",
    "              }\n",
    "          }]\n",
    "      }\n",
    "      variants.append(variant)\n",
    "    obj['hasVariant'] = variants\n",
    "\n",
    "  # URIS\n",
    "  # metadados = ['hasBroaderAuthority', \n",
    "  # 'hasNarrowerAuthority',\n",
    "  # 'hasCloseExternalAuthority',\n",
    "  #   'hasExactExternalAuthority',\n",
    "  #   'hasNarrowerExternalAuthority']\n",
    "  # for metadado in metadados:\n",
    "  #    obj = GetUri(obj, metadado, authority, graph)\n",
    "  obj = GetHasBroader(authority, graph, obj)\n",
    "  # Narrower Terms\n",
    "  obj = GetHasNarrower(authority, graph, obj)\n",
    "  # hasReciprocalAuthority\n",
    "  \n",
    "  response = Subject(**obj)\n",
    "  return response"
   ]
  },
  {
   "cell_type": "code",
   "execution_count": 28,
   "metadata": {},
   "outputs": [
    {
     "data": {
      "text/plain": [
       "{'type': 'Topic',\n",
       " 'adminMetadata': {'assigner': 'http://id.loc.gov/vocabulary/organizations/dlc',\n",
       "  'descriptionModifier': 'http://id.loc.gov/vocabulary/organizations/brmninpa',\n",
       "  'creationDate': datetime.date(2023, 5, 11),\n",
       "  'descriptionLanguage': 'http://id.loc.gov/vocabulary/languages/por',\n",
       "  'generationProcess': 'BiblioKeia v.1',\n",
       "  'generationDate': '2023-05-11T16:13:16',\n",
       "  'identifiedBy': [{'type': 'Lccn',\n",
       "    'assigner': 'http://id.loc.gov/vocabulary/organizations/dlc',\n",
       "    'value': 'sh85066150'}],\n",
       "  'status': {'value': 'mstatus:new', 'label': 'novo'}},\n",
       " 'elementList': [{'type': 'TopicElement',\n",
       "   'elementValue': {'value': 'Information science', 'lang': 'en'}}],\n",
       " 'note': None,\n",
       " 'hasBroaderAuthority': None,\n",
       " 'hasBroaderExternalAuthority': [{'value': rdflib.term.URIRef('http://id.loc.gov/authorities/subjects/sh85029027'),\n",
       "   'label': {'value': 'Communication', 'lang': 'en'},\n",
       "   'base': 'loc'}],\n",
       " 'hasNarrowerAuthority': None,\n",
       " 'hasCloseExternalAuthority': None,\n",
       " 'hasExactExternalAuthority': None,\n",
       " 'hasNarrowerExternalAuthority': [{'value': rdflib.term.URIRef('http://id.loc.gov/authorities/subjects/sh85029072'),\n",
       "   'label': {'value': 'Communication in information science', 'lang': 'en'},\n",
       "   'base': 'loc'},\n",
       "  {'value': rdflib.term.URIRef('http://id.loc.gov/authorities/subjects/sh99004272'),\n",
       "   'label': {'value': 'Geomatics', 'lang': 'en'},\n",
       "   'base': 'loc'},\n",
       "  {'value': rdflib.term.URIRef('http://id.loc.gov/authorities/subjects/sh97004947'),\n",
       "   'label': {'value': 'Agricultural informatics', 'lang': 'en'},\n",
       "   'base': 'loc'},\n",
       "  {'value': rdflib.term.URIRef('http://id.loc.gov/authorities/subjects/sh85038731'),\n",
       "   'label': {'value': 'Documentation', 'lang': 'en'},\n",
       "   'base': 'loc'},\n",
       "  {'value': rdflib.term.URIRef('http://id.loc.gov/authorities/subjects/sh85066148'),\n",
       "   'label': {'value': 'Information retrieval', 'lang': 'en'},\n",
       "   'base': 'loc'},\n",
       "  {'value': rdflib.term.URIRef('http://id.loc.gov/authorities/subjects/sh85066157'),\n",
       "   'label': {'value': 'Information services', 'lang': 'en'},\n",
       "   'base': 'loc'},\n",
       "  {'value': rdflib.term.URIRef('http://id.loc.gov/authorities/subjects/sh2021005976'),\n",
       "   'label': {'value': 'Libraries--Special collections--Information science',\n",
       "    'lang': 'en'},\n",
       "   'base': 'loc'},\n",
       "  {'value': rdflib.term.URIRef('http://id.loc.gov/authorities/subjects/sh2002000243'),\n",
       "   'label': {'value': 'Information visualization', 'lang': 'en'},\n",
       "   'base': 'loc'},\n",
       "  {'value': rdflib.term.URIRef('http://id.loc.gov/authorities/subjects/sh00003585'),\n",
       "   'label': {'value': 'Bioinformatics', 'lang': 'en'},\n",
       "   'base': 'loc'},\n",
       "  {'value': rdflib.term.URIRef('http://id.loc.gov/authorities/subjects/sh2003001403'),\n",
       "   'label': {'value': 'Cheminformatics', 'lang': 'en'},\n",
       "   'base': 'loc'},\n",
       "  {'value': rdflib.term.URIRef('http://id.loc.gov/authorities/subjects/sh99001059'),\n",
       "   'label': {'value': 'Information organization', 'lang': 'en'},\n",
       "   'base': 'loc'},\n",
       "  {'value': rdflib.term.URIRef('http://id.loc.gov/authorities/subjects/sh85147580'),\n",
       "   'label': {'value': 'Women in information science', 'lang': 'en'},\n",
       "   'base': 'loc'},\n",
       "  {'value': rdflib.term.URIRef('http://id.loc.gov/authorities/subjects/sh2021005267'),\n",
       "   'label': {'value': 'Classification--Books--Information science',\n",
       "    'lang': 'en'},\n",
       "   'base': 'loc'},\n",
       "  {'value': rdflib.term.URIRef('http://id.loc.gov/authorities/subjects/sh96008049'),\n",
       "   'label': {'value': 'Information resources', 'lang': 'en'},\n",
       "   'base': 'loc'},\n",
       "  {'value': rdflib.term.URIRef('http://id.loc.gov/authorities/subjects/sh89005069'),\n",
       "   'label': {'value': 'Medical informatics', 'lang': 'en'},\n",
       "   'base': 'loc'}],\n",
       " 'hasVariant': None,\n",
       " 'subjectOf': None,\n",
       " 'isMemberOfMADSCollection': 'http://bibliokeia.com/authorities/Topic/'}"
      ]
     },
     "execution_count": 28,
     "metadata": {},
     "output_type": "execute_result"
    }
   ],
   "source": [
    "request = ParserSubject(graph, uri)\n",
    "request.dict()"
   ]
  },
  {
   "cell_type": "code",
   "execution_count": 27,
   "metadata": {},
   "outputs": [
    {
     "data": {
      "text/plain": [
       "201"
      ]
     },
     "execution_count": 27,
     "metadata": {},
     "output_type": "execute_result"
    }
   ],
   "source": [
    "\n",
    "headers = {\n",
    "    'accept': 'application/json',\n",
    "    'Content-Type': 'application/json',\n",
    "}\n",
    "response = httpx.post('http://localhost:8000/authorities/mads/subject/', headers=headers, json=r.json())\n",
    "response.status_code"
   ]
  },
  {
   "cell_type": "code",
   "execution_count": null,
   "metadata": {},
   "outputs": [],
   "source": []
  }
 ],
 "metadata": {
  "kernelspec": {
   "display_name": "Python 3.11.0 ('venv': venv)",
   "language": "python",
   "name": "python3"
  },
  "language_info": {
   "codemirror_mode": {
    "name": "ipython",
    "version": 3
   },
   "file_extension": ".py",
   "mimetype": "text/x-python",
   "name": "python",
   "nbconvert_exporter": "python",
   "pygments_lexer": "ipython3",
   "version": "3.10.4"
  },
  "orig_nbformat": 4,
  "vscode": {
   "interpreter": {
    "hash": "5df21a170a08fe7c24b5b1091267edae5bad3984f1116f28e957af7dd8f192dc"
   }
  }
 },
 "nbformat": 4,
 "nbformat_minor": 2
}
