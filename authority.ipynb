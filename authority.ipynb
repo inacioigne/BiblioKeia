{
 "cells": [
  {
   "cell_type": "code",
   "execution_count": 155,
   "metadata": {},
   "outputs": [],
   "source": [
    "from pydantic import BaseModel, validator, Field\n",
    "from typing import Optional, Union\n",
    "from datetime import datetime\n",
    "import json\n",
    "import rdflib\n",
    "from rdflib import Graph\n",
    "from pyfuseki import FusekiUpdate"
   ]
  },
  {
   "cell_type": "code",
   "execution_count": 157,
   "metadata": {},
   "outputs": [],
   "source": [
    "prefix = \"\"\"PREFIX rdf: <http://www.w3.org/1999/02/22-rdf-syntax-ns#> \n",
    "    PREFIX madsrdf: <http://www.loc.gov/mads/rdf/v1#> \n",
    "    PREFIX owl: <http://www.w3.org/2002/07/owl#> \n",
    "    PREFIX ri: <http://id.loc.gov/ontologies/RecordInfo#> \n",
    "    PREFIX name: <https://bibliokeia.com/authorities/name/> \n",
    "    PREFIX xsd: <http://www.w3.org/2001/XMLSchema#>\n",
    "    PREFIX rdfs: <http://www.w3.org/2000/01/rdf-schema#>\n",
    "    PREFIX identifiers: <http://id.loc.gov/vocabulary/identifiers/>\n",
    "    PREFIX bf: <http://id.loc.gov/ontologies/bibframe/> \"\"\""
   ]
  },
  {
   "cell_type": "code",
   "execution_count": 64,
   "metadata": {},
   "outputs": [
    {
     "data": {
      "text/plain": [
       "<Graph identifier=N606a7fc4f17b4522a6ce839f69bda628 (<class 'rdflib.graph.Graph'>)>"
      ]
     },
     "execution_count": 64,
     "metadata": {},
     "output_type": "execute_result"
    }
   ],
   "source": [
    "g = Graph()\n",
    "g.parse('https://www.loc.gov/standards/mads/rdf/v1/examples/n50048460.ttl', format='ttl')\n",
    "g.serialize('mads/PersonalName.ttl', format='ttl')"
   ]
  },
  {
   "cell_type": "code",
   "execution_count": 180,
   "metadata": {},
   "outputs": [],
   "source": [
    "class Uri(BaseModel):\n",
    "    value: str\n",
    "    label: str\n",
    "\n",
    "class Label(BaseModel):\n",
    "    value: str\n",
    "    lang: Optional[str]\n",
    "\n",
    "class ElementList(BaseModel):\n",
    "    type: str\n",
    "    elementValue: Label\n",
    "\n",
    "class Variant(BaseModel):\n",
    "    type: str\n",
    "    variantLabel: str\n",
    "    elementList: list[ElementList]"
   ]
  },
  {
   "cell_type": "code",
   "execution_count": 197,
   "metadata": {},
   "outputs": [],
   "source": [
    "class Authority(BaseModel):\n",
    "    type: str\n",
    "    recordChangeDate: datetime = Field(default=datetime.now())\n",
    "    authoritativeLabel: Label\n",
    "    elementList: list[ElementList]\n",
    "    isMemberOfMADSCollection: str\n",
    "    hasBroaderAuthority: Optional[list[Uri]]\n",
    "    subjectOf: Optional[list[Uri]]\n",
    "    hasCloseExternalAuthority: Optional[list[Uri]]\n",
    "    hasNarrowerAuthority: Optional[list[Uri]]\n",
    "    hasVariant: Optional[list[Variant]]\n",
    "\n"
   ]
  },
  {
   "cell_type": "code",
   "execution_count": 182,
   "metadata": {},
   "outputs": [
    {
     "ename": "FileNotFoundError",
     "evalue": "[Errno 2] No such file or directory: 'mads/authority.json'",
     "output_type": "error",
     "traceback": [
      "\u001b[1;31m---------------------------------------------------------------------------\u001b[0m",
      "\u001b[1;31mFileNotFoundError\u001b[0m                         Traceback (most recent call last)",
      "Cell \u001b[1;32mIn[182], line 1\u001b[0m\n\u001b[1;32m----> 1\u001b[0m \u001b[38;5;28;01mwith\u001b[39;00m \u001b[38;5;28;43mopen\u001b[39;49m\u001b[43m(\u001b[49m\u001b[38;5;124;43m'\u001b[39;49m\u001b[38;5;124;43mmads/authority.json\u001b[39;49m\u001b[38;5;124;43m'\u001b[39;49m\u001b[43m,\u001b[49m\u001b[43m \u001b[49m\u001b[43mencoding\u001b[49m\u001b[38;5;241;43m=\u001b[39;49m\u001b[38;5;124;43m'\u001b[39;49m\u001b[38;5;124;43mutf-8\u001b[39;49m\u001b[38;5;124;43m'\u001b[39;49m\u001b[43m)\u001b[49m \u001b[38;5;28;01mas\u001b[39;00m file:\n\u001b[0;32m      2\u001b[0m     reader \u001b[38;5;241m=\u001b[39m file\u001b[38;5;241m.\u001b[39mread()\n\u001b[0;32m      3\u001b[0m     authority \u001b[38;5;241m=\u001b[39m json\u001b[38;5;241m.\u001b[39mloads(reader)\n",
      "File \u001b[1;32mc:\\Users\\inaci\\Desktop\\BiblioKeia\\venv\\Lib\\site-packages\\IPython\\core\\interactiveshell.py:282\u001b[0m, in \u001b[0;36m_modified_open\u001b[1;34m(file, *args, **kwargs)\u001b[0m\n\u001b[0;32m    275\u001b[0m \u001b[39mif\u001b[39;00m file \u001b[39min\u001b[39;00m {\u001b[39m0\u001b[39m, \u001b[39m1\u001b[39m, \u001b[39m2\u001b[39m}:\n\u001b[0;32m    276\u001b[0m     \u001b[39mraise\u001b[39;00m \u001b[39mValueError\u001b[39;00m(\n\u001b[0;32m    277\u001b[0m         \u001b[39mf\u001b[39m\u001b[39m\"\u001b[39m\u001b[39mIPython won\u001b[39m\u001b[39m'\u001b[39m\u001b[39mt let you open fd=\u001b[39m\u001b[39m{\u001b[39;00mfile\u001b[39m}\u001b[39;00m\u001b[39m by default \u001b[39m\u001b[39m\"\u001b[39m\n\u001b[0;32m    278\u001b[0m         \u001b[39m\"\u001b[39m\u001b[39mas it is likely to crash IPython. If you know what you are doing, \u001b[39m\u001b[39m\"\u001b[39m\n\u001b[0;32m    279\u001b[0m         \u001b[39m\"\u001b[39m\u001b[39myou can use builtins\u001b[39m\u001b[39m'\u001b[39m\u001b[39m open.\u001b[39m\u001b[39m\"\u001b[39m\n\u001b[0;32m    280\u001b[0m     )\n\u001b[1;32m--> 282\u001b[0m \u001b[39mreturn\u001b[39;00m io_open(file, \u001b[39m*\u001b[39;49margs, \u001b[39m*\u001b[39;49m\u001b[39m*\u001b[39;49mkwargs)\n",
      "\u001b[1;31mFileNotFoundError\u001b[0m: [Errno 2] No such file or directory: 'mads/authority.json'"
     ]
    }
   ],
   "source": [
    "with open('mads/authority.json', encoding='utf-8') as file:\n",
    "    reader = file.read()\n",
    "    authority = json.loads(reader)\n",
    "    file.close()\n",
    "request = Authority(**authority)\n",
    "request"
   ]
  },
  {
   "cell_type": "markdown",
   "metadata": {},
   "source": [
    "subjects"
   ]
  },
  {
   "cell_type": "code",
   "execution_count": 143,
   "metadata": {},
   "outputs": [
    {
     "data": {
      "text/plain": [
       "'[ a madsrdf:TopicElement ;\\n                madsrdf:elementValue \"Bubo bubo\"@en ]'"
      ]
     },
     "execution_count": 143,
     "metadata": {},
     "output_type": "execute_result"
    }
   ],
   "source": [
    "def MakeElement(elementList):\n",
    "        eList = list()\n",
    "        for i in elementList:\n",
    "                e = f\"\"\"[ a madsrdf:{i.type} ;\n",
    "                madsrdf:elementValue \"{i.elementValue.value}\"{f'@{i.elementValue.lang}' if i.elementValue.lang else ''} ]\"\"\"\n",
    "                eList.append(e)\n",
    "        return \" \".join(eList)\n",
    "\n",
    "\n",
    "MakeElement(request.elementList)"
   ]
  },
  {
   "cell_type": "code",
   "execution_count": 184,
   "metadata": {},
   "outputs": [
    {
     "data": {
      "text/plain": [
       "'[ a madsrdf:PersonalName,\\n                madsrdf:Variant ;\\n            madsrdf:elementList ( [ a madsrdf:FullNameElement ;\\n                madsrdf:elementValue \"Oliphant, M. O. W.\" ] [ a madsrdf:FullNameElement ;\\n                madsrdf:elementValue \"(Margaret Oliphant Wilson),\"@en ] [ a madsrdf:DateNameElement ;\\n                madsrdf:elementValue \"1828-1897\" ] ) ;\\n            madsrdf:variantLabel \"Oliphant, M. O. W. (Margaret Oliphant Wilson), 1828-1897\" ]'"
      ]
     },
     "execution_count": 184,
     "metadata": {},
     "output_type": "execute_result"
    }
   ],
   "source": [
    "def MakeVariant(variants):\n",
    "    vList = list()\n",
    "    for i in variants:\n",
    "        v = f\"\"\"[ a madsrdf:{i.type},\n",
    "                madsrdf:Variant ;\n",
    "            madsrdf:elementList ( {MakeElement(i.elementList)} ) ;\n",
    "            madsrdf:variantLabel \"{i.variantLabel}\" ]\"\"\"\n",
    "        vList.append(v)\n",
    "    return \", \".join(vList)\n",
    "\n",
    "MakeVariant(request.hasVariant)"
   ]
  },
  {
   "cell_type": "code",
   "execution_count": 151,
   "metadata": {},
   "outputs": [
    {
     "data": {
      "text/plain": [
       "str"
      ]
     },
     "execution_count": 151,
     "metadata": {},
     "output_type": "execute_result"
    }
   ],
   "source": [
    "request.isMemberOfMADSCollection"
   ]
  },
  {
   "cell_type": "code",
   "execution_count": 185,
   "metadata": {},
   "outputs": [
    {
     "name": "stdout",
     "output_type": "stream",
     "text": [
      "PREFIX rdf: <http://www.w3.org/1999/02/22-rdf-syntax-ns#> \n",
      "    PREFIX madsrdf: <http://www.loc.gov/mads/rdf/v1#> \n",
      "    PREFIX owl: <http://www.w3.org/2002/07/owl#> \n",
      "    PREFIX ri: <http://id.loc.gov/ontologies/RecordInfo#> \n",
      "    PREFIX name: <https://bibliokeia.com/authorities/name/> \n",
      "    PREFIX xsd: <http://www.w3.org/2001/XMLSchema#>\n",
      "    PREFIX rdfs: <http://www.w3.org/2000/01/rdf-schema#>\n",
      "    PREFIX identifiers: <http://id.loc.gov/vocabulary/identifiers/>\n",
      "    PREFIX bf: <http://id.loc.gov/ontologies/bibframe/>     \n",
      "    INSERT DATA {\n",
      "        GRAPH <https://bibliokeia.com/authorities/PersonalName/sh85017405>\n",
      "        {\n",
      "        <https://bibliokeia.com/authorities/PersonalName/sh85017405> a madsrdf:Authority, \n",
      "            madsrdf:PersonalName ;\n",
      "            \n",
      "            identifiers:local \"sh85017405\" ;\n",
      "            madsrdf:adminMetadata [ a ri:RecordInfo ; \n",
      "            ri:recordChangeDate \"2023-04-20 20:45:51.110032\"^^xsd:dateTime ;\n",
      "            ri:recordContentSource <http://id.loc.gov/vocabulary/organizations/brmninpa> ;\n",
      "            ri:recordStatus \"novo\"^^xsd:string ] ; \n",
      "            madsrdf:authoritativeLabel \"Oliphant, Mrs. (Margaret), 1828-1897\"@en ;\n",
      "            madsrdf:elementList ( [ a madsrdf:FullNameElement ;\n",
      "                madsrdf:elementValue \"Oliphant\" ] [ a madsrdf:TermsOfAddressNameElement ;\n",
      "                madsrdf:elementValue \"Mrs.\"@en ] [ a madsrdf:FullNameElement ;\n",
      "                madsrdf:elementValue \"(Margaret),\"@en ] [ a madsrdf:DateNameElement ;\n",
      "                madsrdf:elementValue \"1828-1897\" ] ) ;\n",
      "            \n",
      "            \n",
      "            madsrdf:hasVariant [ a madsrdf:PersonalName,\n",
      "                madsrdf:Variant ;\n",
      "            madsrdf:elementList ( [ a madsrdf:FullNameElement ;\n",
      "                madsrdf:elementValue \"Oliphant, M. O. W.\" ] [ a madsrdf:FullNameElement ;\n",
      "                madsrdf:elementValue \"(Margaret Oliphant Wilson),\"@en ] [ a madsrdf:DateNameElement ;\n",
      "                madsrdf:elementValue \"1828-1897\" ] ) ;\n",
      "            madsrdf:variantLabel \"Oliphant, M. O. W. (Margaret Oliphant Wilson), 1828-1897\" ] ;\n",
      "            madsrdf:isMemberOfMADSCollection <https://bibliokeia.com/authorities/PersonalName/> .\n",
      "            \n",
      "        } \n",
      "        }\n"
     ]
    }
   ],
   "source": [
    "id = 'sh85017405'\n",
    "graph = f\"\"\"{prefix}    \n",
    "    INSERT DATA {{\n",
    "        GRAPH <https://bibliokeia.com/authorities/{request.type}/{id}>\n",
    "        {{\n",
    "        <https://bibliokeia.com/authorities/{request.type}/{id}> a madsrdf:Authority, \n",
    "            madsrdf:{request.type} ;\n",
    "            {f'bf:subjectOf {\", \".join([ f\"<{i.value}>\" for i in request.subjectOf])} ;' if request.subjectOf else ''}\n",
    "            identifiers:local \"{id}\" ;\n",
    "            madsrdf:adminMetadata [ a ri:RecordInfo ; \n",
    "            ri:recordChangeDate \"{request.recordChangeDate}\"^^xsd:dateTime ;\n",
    "            ri:recordContentSource <http://id.loc.gov/vocabulary/organizations/brmninpa> ;\n",
    "            ri:recordStatus \"novo\"^^xsd:string ] ; \n",
    "            madsrdf:authoritativeLabel \"{request.authoritativeLabel.value}\"{f'@{request.authoritativeLabel.lang}' if request.authoritativeLabel.lang else ''} ;\n",
    "            madsrdf:elementList ( {MakeElement(request.elementList)} ) ;\n",
    "            {f'madsrdf:hasBroaderAuthority {\", \".join([ f\"<{i.value}>\" for i in request.hasBroaderAuthority])} ;' if request.hasBroaderAuthority else ''}\n",
    "            {f'madsrdf:hasCloseExternalAuthority {\", \".join([ f\"<{i.value}>\" for i in request.hasCloseExternalAuthority])} ;' if request.hasCloseExternalAuthority else ''}\n",
    "            { f'madsrdf:hasVariant { MakeVariant(request.hasVariant) } ;' if request.hasVariant else ''  }\n",
    "            madsrdf:isMemberOfMADSCollection <{request.isMemberOfMADSCollection}> .\n",
    "            \n",
    "        }} \n",
    "        }}\"\"\"\n",
    "print(graph)"
   ]
  },
  {
   "cell_type": "code",
   "execution_count": 203,
   "metadata": {},
   "outputs": [
    {
     "data": {
      "text/plain": [
       "{'statusCode': 200, 'message': 'Update succeeded'}"
      ]
     },
     "execution_count": 203,
     "metadata": {},
     "output_type": "execute_result"
    }
   ],
   "source": [
    "fuseki_update = FusekiUpdate('http://localhost:3030', 'authorities')\n",
    "\n",
    "response = fuseki_update.run_sparql(graph)\n",
    "response.convert()"
   ]
  },
  {
   "cell_type": "markdown",
   "metadata": {},
   "source": [
    "PersonalName"
   ]
  },
  {
   "cell_type": "code",
   "execution_count": 186,
   "metadata": {},
   "outputs": [
    {
     "data": {
      "text/plain": [
       "{'type': 'PersonalName',\n",
       " 'recordChangeDate': datetime.datetime(2023, 4, 20, 20, 45, 51, 110032),\n",
       " 'authoritativeLabel': {'value': 'Oliphant, Mrs. (Margaret), 1828-1897',\n",
       "  'lang': 'en'},\n",
       " 'elementList': [{'type': 'FullNameElement',\n",
       "   'elementValue': {'value': 'Oliphant', 'lang': None}},\n",
       "  {'type': 'TermsOfAddressNameElement',\n",
       "   'elementValue': {'value': 'Mrs.', 'lang': 'en'}},\n",
       "  {'type': 'FullNameElement',\n",
       "   'elementValue': {'value': '(Margaret),', 'lang': 'en'}},\n",
       "  {'type': 'DateNameElement',\n",
       "   'elementValue': {'value': '1828-1897', 'lang': None}}],\n",
       " 'isMemberOfMADSCollection': 'https://bibliokeia.com/authorities/PersonalName/',\n",
       " 'hasBroaderAuthority': None,\n",
       " 'subjectOf': None,\n",
       " 'hasCloseExternalAuthority': None,\n",
       " 'hasVariant': [{'type': 'PersonalName',\n",
       "   'variantLabel': 'Oliphant, M. O. W. (Margaret Oliphant Wilson), 1828-1897',\n",
       "   'elementList': [{'type': 'FullNameElement',\n",
       "     'elementValue': {'value': 'Oliphant, M. O. W.', 'lang': None}},\n",
       "    {'type': 'FullNameElement',\n",
       "     'elementValue': {'value': '(Margaret Oliphant Wilson),', 'lang': 'en'}},\n",
       "    {'type': 'DateNameElement',\n",
       "     'elementValue': {'value': '1828-1897', 'lang': None}}]}]}"
      ]
     },
     "execution_count": 186,
     "metadata": {},
     "output_type": "execute_result"
    }
   ],
   "source": [
    "with open('mads/PersonalName.json', encoding='utf-8') as file:\n",
    "    reader = file.read()\n",
    "    authority = json.loads(reader)\n",
    "    file.close()\n",
    "request = Authority(**authority)\n",
    "request.dict()"
   ]
  },
  {
   "cell_type": "code",
   "execution_count": 188,
   "metadata": {},
   "outputs": [
    {
     "name": "stdout",
     "output_type": "stream",
     "text": [
      "PREFIX rdf: <http://www.w3.org/1999/02/22-rdf-syntax-ns#> \n",
      "    PREFIX madsrdf: <http://www.loc.gov/mads/rdf/v1#> \n",
      "    PREFIX owl: <http://www.w3.org/2002/07/owl#> \n",
      "    PREFIX ri: <http://id.loc.gov/ontologies/RecordInfo#> \n",
      "    PREFIX name: <https://bibliokeia.com/authorities/name/> \n",
      "    PREFIX xsd: <http://www.w3.org/2001/XMLSchema#>\n",
      "    PREFIX rdfs: <http://www.w3.org/2000/01/rdf-schema#>\n",
      "    PREFIX identifiers: <http://id.loc.gov/vocabulary/identifiers/>\n",
      "    PREFIX bf: <http://id.loc.gov/ontologies/bibframe/>     \n",
      "    INSERT DATA {\n",
      "        GRAPH <https://bibliokeia.com/authorities/PersonalName/n50048460>\n",
      "        {\n",
      "        <https://bibliokeia.com/authorities/PersonalName/n50048460> a madsrdf:Authority, \n",
      "            madsrdf:PersonalName ;\n",
      "            identifiers:local \"n50048460\" ;\n",
      "            madsrdf:adminMetadata [ a ri:RecordInfo ; \n",
      "            ri:recordChangeDate \"2023-04-20 20:45:51.110032\"^^xsd:dateTime ;\n",
      "            ri:recordContentSource <http://id.loc.gov/vocabulary/organizations/brmninpa> ;\n",
      "            ri:recordStatus \"novo\"^^xsd:string ] ; \n",
      "            madsrdf:authoritativeLabel \"Oliphant, Mrs. (Margaret), 1828-1897\"@en ;\n",
      "            madsrdf:elementList ( [ a madsrdf:FullNameElement ;\n",
      "                madsrdf:elementValue \"Oliphant\" ] [ a madsrdf:TermsOfAddressNameElement ;\n",
      "                madsrdf:elementValue \"Mrs.\"@en ] [ a madsrdf:FullNameElement ;\n",
      "                madsrdf:elementValue \"(Margaret),\"@en ] [ a madsrdf:DateNameElement ;\n",
      "                madsrdf:elementValue \"1828-1897\" ] ) ;\n",
      "            \n",
      "            \n",
      "            madsrdf:hasVariant [ a madsrdf:PersonalName,\n",
      "                madsrdf:Variant ;\n",
      "            madsrdf:elementList ( [ a madsrdf:FullNameElement ;\n",
      "                madsrdf:elementValue \"Oliphant, M. O. W.\" ] [ a madsrdf:FullNameElement ;\n",
      "                madsrdf:elementValue \"(Margaret Oliphant Wilson),\"@en ] [ a madsrdf:DateNameElement ;\n",
      "                madsrdf:elementValue \"1828-1897\" ] ) ;\n",
      "            madsrdf:variantLabel \"Oliphant, M. O. W. (Margaret Oliphant Wilson), 1828-1897\" ] ;\n",
      "            madsrdf:isMemberOfMADSCollection <https://bibliokeia.com/authorities/PersonalName/> .\n",
      "            \n",
      "        } \n",
      "        }\n"
     ]
    }
   ],
   "source": [
    "id = 'n50048460'\n",
    "graph = f\"\"\"{prefix}    \n",
    "    INSERT DATA {{\n",
    "        GRAPH <https://bibliokeia.com/authorities/{request.type}/{id}>\n",
    "        {{\n",
    "        <https://bibliokeia.com/authorities/{request.type}/{id}> a madsrdf:Authority, \n",
    "            madsrdf:{request.type} ;\n",
    "            identifiers:local \"{id}\" ;\n",
    "            madsrdf:adminMetadata [ a ri:RecordInfo ; \n",
    "            ri:recordChangeDate \"{request.recordChangeDate}\"^^xsd:dateTime ;\n",
    "            ri:recordContentSource <http://id.loc.gov/vocabulary/organizations/brmninpa> ;\n",
    "            ri:recordStatus \"novo\"^^xsd:string ] ; \n",
    "            madsrdf:authoritativeLabel \"{request.authoritativeLabel.value}\"{f'@{request.authoritativeLabel.lang}' if request.authoritativeLabel.lang else ''} ;\n",
    "            madsrdf:elementList ( {MakeElement(request.elementList)} ) ;\n",
    "            {f'madsrdf:hasBroaderAuthority {\", \".join([ f\"<{i.value}>\" for i in request.hasBroaderAuthority])} ;' if request.hasBroaderAuthority else ''}\n",
    "            {f'madsrdf:hasCloseExternalAuthority {\", \".join([ f\"<{i.value}>\" for i in request.hasCloseExternalAuthority])} ;' if request.hasCloseExternalAuthority else ''}\n",
    "            { f'madsrdf:hasVariant { MakeVariant(request.hasVariant) } ;' if request.hasVariant else ''  }\n",
    "            madsrdf:isMemberOfMADSCollection <{request.isMemberOfMADSCollection}> .\n",
    "            \n",
    "        }} \n",
    "        }}\"\"\"\n",
    "print(graph)"
   ]
  },
  {
   "cell_type": "markdown",
   "metadata": {},
   "source": [
    "GenreForm"
   ]
  },
  {
   "cell_type": "code",
   "execution_count": 201,
   "metadata": {},
   "outputs": [
    {
     "data": {
      "text/plain": [
       "{'type': 'GenreForm',\n",
       " 'recordChangeDate': datetime.datetime(2023, 4, 20, 20, 59, 47, 910492),\n",
       " 'authoritativeLabel': {'value': 'Fiction', 'lang': 'en'},\n",
       " 'elementList': [{'type': 'GenreFormElement',\n",
       "   'elementValue': {'value': 'Fiction', 'lang': 'en'}}],\n",
       " 'isMemberOfMADSCollection': 'https://bibliokeia.com/authorities/GenreForm/',\n",
       " 'hasBroaderAuthority': [{'value': 'http://id.loc.gov/authorities/genreForms/gf2014026415',\n",
       "   'label': 'Literature'}],\n",
       " 'subjectOf': None,\n",
       " 'hasCloseExternalAuthority': [{'value': 'http://id.worldcat.org/fast/1423787',\n",
       "   'label': 'Literature'}],\n",
       " 'hasNarrowerAuthority': [{'value': 'http://id.loc.gov/authorities/genreForms/gf2014026217',\n",
       "   'label': 'Literature'},\n",
       "  {'value': 'http://id.loc.gov/authorities/genreForms/gf2014026220',\n",
       "   'label': 'Literature'}],\n",
       " 'hasVariant': [{'type': 'GenreForm',\n",
       "   'variantLabel': 'Stories',\n",
       "   'elementList': [{'type': 'GenreFormElement',\n",
       "     'elementValue': {'value': 'Stories', 'lang': None}}]}]}"
      ]
     },
     "execution_count": 201,
     "metadata": {},
     "output_type": "execute_result"
    }
   ],
   "source": [
    "with open('mads/GenreForm.json', encoding='utf-8') as file:\n",
    "    reader = file.read()\n",
    "    authority = json.loads(reader)\n",
    "    file.close()\n",
    "request = Authority(**authority)\n",
    "request.dict()"
   ]
  },
  {
   "cell_type": "code",
   "execution_count": 202,
   "metadata": {},
   "outputs": [
    {
     "name": "stdout",
     "output_type": "stream",
     "text": [
      "PREFIX rdf: <http://www.w3.org/1999/02/22-rdf-syntax-ns#> \n",
      "    PREFIX madsrdf: <http://www.loc.gov/mads/rdf/v1#> \n",
      "    PREFIX owl: <http://www.w3.org/2002/07/owl#> \n",
      "    PREFIX ri: <http://id.loc.gov/ontologies/RecordInfo#> \n",
      "    PREFIX name: <https://bibliokeia.com/authorities/name/> \n",
      "    PREFIX xsd: <http://www.w3.org/2001/XMLSchema#>\n",
      "    PREFIX rdfs: <http://www.w3.org/2000/01/rdf-schema#>\n",
      "    PREFIX identifiers: <http://id.loc.gov/vocabulary/identifiers/>\n",
      "    PREFIX bf: <http://id.loc.gov/ontologies/bibframe/>     \n",
      "    INSERT DATA {\n",
      "        GRAPH <https://bibliokeia.com/authorities/GenreForm/gf2014026339>\n",
      "        {\n",
      "        <https://bibliokeia.com/authorities/GenreForm/gf2014026339> a madsrdf:Authority, \n",
      "            madsrdf:GenreForm ;\n",
      "            identifiers:local \"gf2014026339\" ;\n",
      "            madsrdf:adminMetadata [ a ri:RecordInfo ; \n",
      "            ri:recordChangeDate \"2023-04-20 20:59:47.910492\"^^xsd:dateTime ;\n",
      "            ri:recordContentSource <http://id.loc.gov/vocabulary/organizations/brmninpa> ;\n",
      "            ri:recordStatus \"novo\"^^xsd:string ] ; \n",
      "            madsrdf:authoritativeLabel \"Fiction\"@en ;\n",
      "            madsrdf:elementList ( [ a madsrdf:GenreFormElement ;\n",
      "                madsrdf:elementValue \"Fiction\"@en ] ) ;\n",
      "            madsrdf:hasBroaderAuthority <http://id.loc.gov/authorities/genreForms/gf2014026415> ;\n",
      "            madsrdf:hasCloseExternalAuthority <http://id.worldcat.org/fast/1423787> ;\n",
      "             madsrdf:hasNarrowerAuthority <http://id.loc.gov/authorities/genreForms/gf2014026217>, <http://id.loc.gov/authorities/genreForms/gf2014026220> ;\n",
      "            madsrdf:hasVariant [ a madsrdf:GenreForm,\n",
      "                madsrdf:Variant ;\n",
      "            madsrdf:elementList ( [ a madsrdf:GenreFormElement ;\n",
      "                madsrdf:elementValue \"Stories\" ] ) ;\n",
      "            madsrdf:variantLabel \"Stories\" ] ;\n",
      "            madsrdf:isMemberOfMADSCollection <https://bibliokeia.com/authorities/GenreForm/> .\n",
      "            \n",
      "        } \n",
      "        }\n"
     ]
    }
   ],
   "source": [
    "id = 'gf2014026339'\n",
    "graph = f\"\"\"{prefix}    \n",
    "    INSERT DATA {{\n",
    "        GRAPH <https://bibliokeia.com/authorities/{request.type}/{id}>\n",
    "        {{\n",
    "        <https://bibliokeia.com/authorities/{request.type}/{id}> a madsrdf:Authority, \n",
    "            madsrdf:{request.type} ;\n",
    "            identifiers:local \"{id}\" ;\n",
    "            madsrdf:adminMetadata [ a ri:RecordInfo ; \n",
    "            ri:recordChangeDate \"{request.recordChangeDate}\"^^xsd:dateTime ;\n",
    "            ri:recordContentSource <http://id.loc.gov/vocabulary/organizations/brmninpa> ;\n",
    "            ri:recordStatus \"novo\"^^xsd:string ] ; \n",
    "            madsrdf:authoritativeLabel \"{request.authoritativeLabel.value}\"{f'@{request.authoritativeLabel.lang}' if request.authoritativeLabel.lang else ''} ;\n",
    "            madsrdf:elementList ( {MakeElement(request.elementList)} ) ;\n",
    "            {f'madsrdf:hasBroaderAuthority {\", \".join([ f\"<{i.value}>\" for i in request.hasBroaderAuthority])} ;' if request.hasBroaderAuthority else ''}\n",
    "            {f'madsrdf:hasCloseExternalAuthority {\", \".join([ f\"<{i.value}>\" for i in request.hasCloseExternalAuthority])} ;' if request.hasCloseExternalAuthority else ''}\n",
    "             {f'madsrdf:hasNarrowerAuthority {\", \".join([ f\"<{i.value}>\" for i in request.hasNarrowerAuthority])} ;' if request.hasNarrowerAuthority else ''}\n",
    "            { f'madsrdf:hasVariant { MakeVariant(request.hasVariant) } ;' if request.hasVariant else ''  }\n",
    "            madsrdf:isMemberOfMADSCollection <{request.isMemberOfMADSCollection}> .\n",
    "            \n",
    "        }} \n",
    "        }}\"\"\"\n",
    "print(graph)"
   ]
  }
 ],
 "metadata": {
  "kernelspec": {
   "display_name": "Python 3.11.0 ('venv': venv)",
   "language": "python",
   "name": "python3"
  },
  "language_info": {
   "codemirror_mode": {
    "name": "ipython",
    "version": 3
   },
   "file_extension": ".py",
   "mimetype": "text/x-python",
   "name": "python",
   "nbconvert_exporter": "python",
   "pygments_lexer": "ipython3",
   "version": "3.11.3"
  },
  "orig_nbformat": 4,
  "vscode": {
   "interpreter": {
    "hash": "5df21a170a08fe7c24b5b1091267edae5bad3984f1116f28e957af7dd8f192dc"
   }
  }
 },
 "nbformat": 4,
 "nbformat_minor": 2
}
