{
 "cells": [
  {
   "cell_type": "code",
   "execution_count": 5,
   "metadata": {},
   "outputs": [],
   "source": [
    "from pydantic import BaseModel, validator, Field\n",
    "from typing import Optional, Union\n",
    "from datetime import datetime\n",
    "\n",
    "import rdflib\n",
    "from rdflib import Graph\n",
    "from pyfuseki import FusekiUpdate, FusekiQuery\n",
    "from rdflib import Namespace\n",
    "from rdflib import URIRef"
   ]
  },
  {
   "cell_type": "code",
   "execution_count": 1,
   "metadata": {},
   "outputs": [],
   "source": [
    "import json\n",
    "from api.src.schemas.authorities.authority import Authority\n",
    "from api.src.function.authorities.makeGraph import MakeGraph"
   ]
  },
  {
   "cell_type": "code",
   "execution_count": 7,
   "metadata": {},
   "outputs": [],
   "source": [
    "from datetime import date"
   ]
  },
  {
   "cell_type": "code",
   "execution_count": 9,
   "metadata": {},
   "outputs": [
    {
     "data": {
      "text/plain": [
       "datetime.date(2023, 4, 26)"
      ]
     },
     "execution_count": 9,
     "metadata": {},
     "output_type": "execute_result"
    }
   ],
   "source": [
    "date.today()"
   ]
  },
  {
   "cell_type": "code",
   "execution_count": 6,
   "metadata": {},
   "outputs": [],
   "source": [
    "query = FusekiQuery('http://localhost:3030', 'authorities')"
   ]
  },
  {
   "cell_type": "code",
   "execution_count": 2,
   "metadata": {},
   "outputs": [
    {
     "data": {
      "text/plain": [
       "{'type': 'PersonalName',\n",
       " 'adminMetadata': {'encodingLevel': 'menclvl:f',\n",
       "  'assigner': 'http://id.loc.gov/vocabulary/organizations/brmninpa',\n",
       "  'creationDate': datetime.date(2023, 4, 26),\n",
       "  'descriptionConventions': 'http://id.loc.gov/vocabulary/descriptionConventions/isbd',\n",
       "  'descriptionLanguage': 'http://id.loc.gov/vocabulary/languages/por',\n",
       "  'generationProcess': None,\n",
       "  'status': {'value': 'mstatus:new', 'label': 'novo'}},\n",
       " 'recordChangeDate': datetime.datetime(2023, 4, 26, 10, 46, 3, 570651),\n",
       " 'elementList': [{'type': 'FullNameElement',\n",
       "   'elementValue': {'value': 'Machado de Assis', 'lang': None}},\n",
       "  {'type': 'DateNameElement',\n",
       "   'elementValue': {'value': '1839-1908', 'lang': None}}],\n",
       " 'fullerName': {'type': 'PersonalName',\n",
       "  'elementValue': {'value': 'Joaquim Maria Machado', 'lang': None}},\n",
       " 'birthDate': '1839-06-21',\n",
       " 'birthPlace': {'value': 'http://id.worldcat.org/fast/48407', 'lang': None},\n",
       " 'deathDate': '1908-09-29',\n",
       " 'occupation': [{'value': 'http://id.loc.gov/authorities/subjects/sh85034154',\n",
       "   'label': 'Escritor'},\n",
       "  {'value': 'http://id.loc.gov/authorities/subjects/sh85039342',\n",
       "   'label': 'Romancista'}],\n",
       " 'hasAffiliation': [{'organization': {'value': 'http://id.loc.gov/authorities/names/n82059239',\n",
       "    'label': 'Academia'},\n",
       "   'affiliationStart': '1908',\n",
       "   'affiliationEnd': '1897'}],\n",
       " 'hasBroaderAuthority': None,\n",
       " 'subjectOf': None,\n",
       " 'contributionOf': None,\n",
       " 'hasCloseExternalAuthority': [{'value': 'http://id.worldcat.org/fast/48407',\n",
       "   'label': 'Machado'},\n",
       "  {'value': 'http://www.wikidata.org/entity/Q311145', 'label': 'Machado'}],\n",
       " 'hasExactExternalAuthority': [{'value': 'http://viaf.org/viaf/sourceID/LC%7Cn++80002329#skos:Concept',\n",
       "   'label': 'Machado'}],\n",
       " 'hasNarrowerAuthority': None,\n",
       " 'hasVariant': [{'type': 'PersonalName',\n",
       "   'elementList': [{'type': 'FullNameElement',\n",
       "     'elementValue': {'value': 'Machado de Assis, Joaquín María',\n",
       "      'lang': None}},\n",
       "    {'type': 'DateNameElement',\n",
       "     'elementValue': {'value': '1839-1908', 'lang': None}}]}],\n",
       " 'isMemberOfMADSCollection': 'https://bibliokeia.com/authorities/PersonalName/'}"
      ]
     },
     "execution_count": 2,
     "metadata": {},
     "output_type": "execute_result"
    }
   ],
   "source": [
    "with open('mads/machado.json', encoding='utf-8') as file:\n",
    "    reader = file.read()\n",
    "    authority = json.loads(reader)\n",
    "    file.close()\n",
    "request = Authority(**authority)\n",
    "request.dict()"
   ]
  },
  {
   "cell_type": "code",
   "execution_count": 3,
   "metadata": {},
   "outputs": [
    {
     "name": "stdout",
     "output_type": "stream",
     "text": [
      "PREFIX rdf: <http://www.w3.org/1999/02/22-rdf-syntax-ns#> \n",
      "    PREFIX madsrdf: <http://www.loc.gov/mads/rdf/v1#> \n",
      "    PREFIX owl: <http://www.w3.org/2002/07/owl#> \n",
      "    PREFIX ri: <http://id.loc.gov/ontologies/RecordInfo#> \n",
      "    PREFIX name: <https://bibliokeia.com/authorities/name/> \n",
      "    PREFIX xsd: <http://www.w3.org/2001/XMLSchema#>\n",
      "    PREFIX rdfs: <http://www.w3.org/2000/01/rdf-schema#>\n",
      "    PREFIX identifiers: <http://id.loc.gov/vocabulary/identifiers/>\n",
      "    PREFIX bf: <http://id.loc.gov/ontologies/bibframe/>     \n",
      "    INSERT DATA {\n",
      "        GRAPH <https://bibliokeia.com/authorities/PersonalName/n80002329>\n",
      "        {\n",
      "        <https://bibliokeia.com/authorities/PersonalName/n80002329> a madsrdf:Authority, \n",
      "            madsrdf:PersonalName ;\n",
      "            identifiers:local \"n80002329\" ;\n",
      "            madsrdf:adminMetadata [ a ns1:AdminMetadata ;\n",
      "            ns2:encodingLevel <http://id.loc.gov/vocabulary/menclvl/f> ;\n",
      "            ns1:assigner <http://id.loc.gov/vocabulary/organizations/dlc> ;\n",
      "            ns1:changeDate \"2023-02-06T08:03:19\"^^xsd:dateTime ;\n",
      "            ns1:creationDate \"2023-04-26\"^^xsd:date ;\n",
      "            ns1:descriptionAuthentication <http://id.loc.gov/vocabulary/marcauthen/pcc> ;\n",
      "            ns1:descriptionConventions <http://id.loc.gov/vocabulary/descriptionConventions/isbd>,\n",
      "                <http://id.loc.gov/vocabulary/descriptionConventions/rda> ;\n",
      "            ns1:descriptionLanguage <http://id.loc.gov/vocabulary/languages/eng> ;\n",
      "            ns1:descriptionModifier <http://id.loc.gov/vocabulary/organizations/dlc> ; \n",
      "            ns1:generationProcess [ a ns1:GenerationProcess ;\n",
      "                    rdfs:label \"DLC marc2bibframe2 v2.2.1\" ;\n",
      "                    ns1:generationDate \"2023-02-07T01:58:10.983465-05:00\"^^xsd:dateTime ] ;\n",
      "            ns1:identifiedBy [ a ns1:Local ;\n",
      "                    ns1:assigner <http://id.loc.gov/vocabulary/organizations/dlc> ;\n",
      "                    rdf:value \"21313495\" ] ;\n",
      "            ns1:status <http://id.loc.gov/vocabulary/mstatus/c> ;] ; \n",
      "            madsrdf:authoritativeLabel \"Machado de Assis, 1839-1908\" ;\n",
      "            madsrdf:elementList ( [ a madsrdf:FullNameElement ;\n",
      "                madsrdf:elementValue \"Machado de Assis\" ] [ a madsrdf:DateNameElement ;\n",
      "                madsrdf:elementValue \"1839-1908\" ] ) ;\n",
      "            madsrdf:fullerName [ a madsrdf:PersonalName ; rdfs:label \"Joaquim Maria Machado\" ] ;            \n",
      "            madsrdf:birthDate \"1839-06-21\"     \n",
      "            madsrdf:birthPlace <http://id.worldcat.org/fast/48407>\n",
      "            madsrdf:deathDate \"1908-09-29\"   \n",
      "            \n",
      "            madsrdf:hasCloseExternalAuthority <http://id.worldcat.org/fast/48407>, <http://www.wikidata.org/entity/Q311145> ;\n",
      "            madsrdf:hasExactExternalAuthority <http://viaf.org/viaf/sourceID/LC%7Cn++80002329#skos:Concept> ;\n",
      "            madsrdf:hasVariant [ a madsrdf:PersonalName,\n",
      "                madsrdf:Variant ;\n",
      "            madsrdf:elementList ( [ a madsrdf:FullNameElement ;\n",
      "                madsrdf:elementValue \"Machado de Assis, Joaquín María\" ] [ a madsrdf:DateNameElement ;\n",
      "                madsrdf:elementValue \"1839-1908\" ] ) ;\n",
      "            madsrdf:variantLabel \"Machado de Assis, Joaquín María, 1839-1908\" ] ;\n",
      "            madsrdf:hasAffiliation [ a madsrdf:Affiliation ;\n",
      "            madsrdf:affiliationEnd \"1897\" ;\n",
      "            madsrdf:affiliationStart \"1908\" ;\n",
      "            madsrdf:organization <http://id.loc.gov/authorities/names/n82059239> ] ;\n",
      "            madsrdf:occupation <http://id.loc.gov/authorities/subjects/sh85034154>, <http://id.loc.gov/authorities/subjects/sh85039342> ;\n",
      "            madsrdf:isMemberOfMADSCollection <https://bibliokeia.com/authorities/PersonalName/> .          \n",
      "            } \n",
      "        }\n"
     ]
    }
   ],
   "source": [
    "id = 'n80002329'\n",
    "graph = MakeGraph(request,id)\n",
    "print(graph)"
   ]
  },
  {
   "cell_type": "code",
   "execution_count": 19,
   "metadata": {},
   "outputs": [
    {
     "data": {
      "text/plain": [
       "<Graph identifier=N52ddc3914ce34664b366746ac6e0f1ba (<class 'rdflib.graph.Graph'>)>"
      ]
     },
     "execution_count": 19,
     "metadata": {},
     "output_type": "execute_result"
    }
   ],
   "source": [
    "g = Graph()\n",
    "g.parse('http://id.loc.gov/authorities/names/n80002329.madsrdf.rdf', format='xml')\n",
    "g.serialize('mads/machado.ttl', format='ttl')"
   ]
  },
  {
   "cell_type": "code",
   "execution_count": 4,
   "metadata": {},
   "outputs": [],
   "source": [
    "class Uri(BaseModel):\n",
    "    value: str\n",
    "    label: str\n",
    "\n",
    "class Label(BaseModel):\n",
    "    value: str\n",
    "    lang: Optional[str]\n",
    "\n",
    "class Element(BaseModel):\n",
    "    type: str\n",
    "    elementValue: Label\n",
    "\n",
    "class Variant(BaseModel):\n",
    "    type: str\n",
    "    # variantLabel: str\n",
    "    elementList: list[Element]"
   ]
  },
  {
   "cell_type": "code",
   "execution_count": 18,
   "metadata": {},
   "outputs": [],
   "source": [
    "class Authority(BaseModel):\n",
    "    type: str\n",
    "    recordChangeDate: datetime = Field(default=datetime.now())\n",
    "    elementList: list[Element]\n",
    "    fullerName: Optional[Element]\n",
    "    birthDate: Optional[str]\n",
    "    birthPlace: Optional[Label]\n",
    "    deathDate: Optional[str]\n",
    "    hasBroaderAuthority: Optional[list[Uri]]\n",
    "    subjectOf: Optional[list[Uri]]\n",
    "    contributionOf: Optional[list[Uri]]\n",
    "    hasCloseExternalAuthority: Optional[list[Uri]]\n",
    "    hasExactExternalAuthority: Optional[list[Uri]]\n",
    "    hasNarrowerAuthority: Optional[list[Uri]]\n",
    "    hasVariant: Optional[list[Variant]]\n",
    "    isMemberOfMADSCollection: str\n",
    "\n"
   ]
  },
  {
   "cell_type": "markdown",
   "metadata": {},
   "source": [
    "subjects"
   ]
  },
  {
   "cell_type": "markdown",
   "metadata": {},
   "source": [
    "PersonalName"
   ]
  },
  {
   "cell_type": "code",
   "execution_count": 24,
   "metadata": {},
   "outputs": [
    {
     "name": "stdout",
     "output_type": "stream",
     "text": [
      "PREFIX rdf: <http://www.w3.org/1999/02/22-rdf-syntax-ns#> \n",
      "    PREFIX madsrdf: <http://www.loc.gov/mads/rdf/v1#> \n",
      "    PREFIX owl: <http://www.w3.org/2002/07/owl#> \n",
      "    PREFIX ri: <http://id.loc.gov/ontologies/RecordInfo#> \n",
      "    PREFIX name: <https://bibliokeia.com/authorities/name/> \n",
      "    PREFIX xsd: <http://www.w3.org/2001/XMLSchema#>\n",
      "    PREFIX rdfs: <http://www.w3.org/2000/01/rdf-schema#>\n",
      "    PREFIX identifiers: <http://id.loc.gov/vocabulary/identifiers/>\n",
      "    PREFIX bf: <http://id.loc.gov/ontologies/bibframe/>     \n",
      "    INSERT DATA {\n",
      "        GRAPH <https://bibliokeia.com/authorities/PersonalName/n50048460>\n",
      "        {\n",
      "        <https://bibliokeia.com/authorities/PersonalName/n50048460> a madsrdf:Authority, \n",
      "            madsrdf:PersonalName ;\n",
      "            identifiers:local \"n50048460\" ;\n",
      "            madsrdf:adminMetadata [ a ri:RecordInfo ; \n",
      "            ri:recordChangeDate \"2023-04-24 20:44:23.373511\"^^xsd:dateTime ;\n",
      "            ri:recordContentSource <http://id.loc.gov/vocabulary/organizations/brmninpa> ;\n",
      "            ri:recordStatus \"novo\"^^xsd:string ] ; \n",
      "            madsrdf:authoritativeLabel \"Machado de Assis, 1839-1908\" ;\n",
      "            madsrdf:elementList ( [ a madsrdf:FullNameElement ;\n",
      "                madsrdf:elementValue \"Machado de Assis\" ] [ a madsrdf:DateNameElement ;\n",
      "                madsrdf:elementValue \"1839-1908\" ] ) ;\n",
      "            madsrdf:fullerName [ a madsrdf:PersonalName ; rdfs:label \"Joaquim Maria Machado\" ] ;            \n",
      "            madsrdf:birthDate \"1839-06-21\"     \n",
      "            madsrdf:birthPlace <http://id.worldcat.org/fast/48407>\n",
      "            madsrdf:deathDate \"1908-09-29\"   \n",
      "            \n",
      "            madsrdf:hasCloseExternalAuthority <http://id.worldcat.org/fast/48407>, <http://www.wikidata.org/entity/Q311145> ;\n",
      "            madsrdf:hasExactExternalAuthority <http://viaf.org/viaf/sourceID/LC%7Cn++80002329#skos:Concept> ;\n",
      "\n",
      "            madsrdf:hasVariant [ a madsrdf:PersonalName,\n",
      "                madsrdf:Variant ;\n",
      "            madsrdf:elementList ( [ a madsrdf:FullNameElement ;\n",
      "                madsrdf:elementValue \"Machado de Assis, Joaquín María\" ] [ a madsrdf:DateNameElement ;\n",
      "                madsrdf:elementValue \"1839-1908\" ] ) ;\n",
      "            madsrdf:variantLabel \"Machado de Assis, Joaquín María, 1839-1908\" ] ;\n",
      "            madsrdf:isMemberOfMADSCollection <https://bibliokeia.com/authorities/PersonalName/> .\n",
      "            \n",
      "        } \n",
      "        }\n"
     ]
    }
   ],
   "source": [
    "id = 'n50048460'\n",
    "graph = f\"\"\"{prefix}    \n",
    "    INSERT DATA {{\n",
    "        GRAPH <https://bibliokeia.com/authorities/{request.type}/{id}>\n",
    "        {{\n",
    "        <https://bibliokeia.com/authorities/{request.type}/{id}> a madsrdf:Authority, \n",
    "            madsrdf:{request.type} ;\n",
    "            identifiers:local \"{id}\" ;\n",
    "            madsrdf:adminMetadata [ a ri:RecordInfo ; \n",
    "            ri:recordChangeDate \"{request.recordChangeDate}\"^^xsd:dateTime ;\n",
    "            ri:recordContentSource <http://id.loc.gov/vocabulary/organizations/brmninpa> ;\n",
    "            ri:recordStatus \"novo\"^^xsd:string ] ; \n",
    "            madsrdf:authoritativeLabel \"{MakeLabel(request.elementList)}\" ;\n",
    "            madsrdf:elementList ( {MakeElement(request.elementList)} ) ;\n",
    "            { f'madsrdf:fullerName [ a madsrdf:PersonalName ; rdfs:label \"{request.fullerName.elementValue.value}\" ] ;' if request.fullerName else ''}            \n",
    "            { f'madsrdf:birthDate \"{request.birthDate}\"' if request.birthDate else ''}     \n",
    "            { f'madsrdf:birthPlace <{request.birthPlace.value}>' if request.birthPlace else ''}\n",
    "            { f'madsrdf:deathDate \"{request.deathDate}\"' if request.deathDate else ''}   \n",
    "            {f'madsrdf:hasBroaderAuthority {\", \".join([ f\"<{i.value}>\" for i in request.hasBroaderAuthority])} ;' if request.hasBroaderAuthority else ''}\n",
    "            {f'madsrdf:hasCloseExternalAuthority {\", \".join([ f\"<{i.value}>\" for i in request.hasCloseExternalAuthority])} ;' if request.hasCloseExternalAuthority else ''}\n",
    "            {f'madsrdf:hasExactExternalAuthority {\", \".join([ f\"<{i.value}>\" for i in request.hasExactExternalAuthority])} ;' if request.hasExactExternalAuthority else ''}\n",
    "\n",
    "            { f'madsrdf:hasVariant { MakeVariant(request.hasVariant) } ;' if request.hasVariant else ''  }\n",
    "            madsrdf:isMemberOfMADSCollection <{request.isMemberOfMADSCollection}> .\n",
    "            \n",
    "        }} \n",
    "        }}\"\"\"\n",
    "print(graph)"
   ]
  },
  {
   "cell_type": "markdown",
   "metadata": {},
   "source": [
    "GenreForm"
   ]
  },
  {
   "cell_type": "code",
   "execution_count": 201,
   "metadata": {},
   "outputs": [
    {
     "data": {
      "text/plain": [
       "{'type': 'GenreForm',\n",
       " 'recordChangeDate': datetime.datetime(2023, 4, 20, 20, 59, 47, 910492),\n",
       " 'authoritativeLabel': {'value': 'Fiction', 'lang': 'en'},\n",
       " 'elementList': [{'type': 'GenreFormElement',\n",
       "   'elementValue': {'value': 'Fiction', 'lang': 'en'}}],\n",
       " 'isMemberOfMADSCollection': 'https://bibliokeia.com/authorities/GenreForm/',\n",
       " 'hasBroaderAuthority': [{'value': 'http://id.loc.gov/authorities/genreForms/gf2014026415',\n",
       "   'label': 'Literature'}],\n",
       " 'subjectOf': None,\n",
       " 'hasCloseExternalAuthority': [{'value': 'http://id.worldcat.org/fast/1423787',\n",
       "   'label': 'Literature'}],\n",
       " 'hasNarrowerAuthority': [{'value': 'http://id.loc.gov/authorities/genreForms/gf2014026217',\n",
       "   'label': 'Literature'},\n",
       "  {'value': 'http://id.loc.gov/authorities/genreForms/gf2014026220',\n",
       "   'label': 'Literature'}],\n",
       " 'hasVariant': [{'type': 'GenreForm',\n",
       "   'variantLabel': 'Stories',\n",
       "   'elementList': [{'type': 'GenreFormElement',\n",
       "     'elementValue': {'value': 'Stories', 'lang': None}}]}]}"
      ]
     },
     "execution_count": 201,
     "metadata": {},
     "output_type": "execute_result"
    }
   ],
   "source": [
    "with open('mads/GenreForm.json', encoding='utf-8') as file:\n",
    "    reader = file.read()\n",
    "    authority = json.loads(reader)\n",
    "    file.close()\n",
    "request = Authority(**authority)\n",
    "request.dict()"
   ]
  },
  {
   "cell_type": "code",
   "execution_count": 8,
   "metadata": {},
   "outputs": [
    {
     "ename": "NameError",
     "evalue": "name 'request' is not defined",
     "output_type": "error",
     "traceback": [
      "\u001b[1;31m---------------------------------------------------------------------------\u001b[0m",
      "\u001b[1;31mNameError\u001b[0m                                 Traceback (most recent call last)",
      "Cell \u001b[1;32mIn[8], line 4\u001b[0m\n\u001b[0;32m      1\u001b[0m \u001b[38;5;28mid\u001b[39m \u001b[38;5;241m=\u001b[39m \u001b[38;5;124m'\u001b[39m\u001b[38;5;124mgf2014026339\u001b[39m\u001b[38;5;124m'\u001b[39m\n\u001b[0;32m      2\u001b[0m graph \u001b[38;5;241m=\u001b[39m \u001b[38;5;124mf\u001b[39m\u001b[38;5;124m\"\"\"\u001b[39m\u001b[38;5;132;01m{\u001b[39;00mprefix\u001b[38;5;132;01m}\u001b[39;00m\u001b[38;5;124m    \u001b[39m\n\u001b[0;32m      3\u001b[0m \u001b[38;5;124m    INSERT DATA \u001b[39m\u001b[38;5;130;01m{{\u001b[39;00m\n\u001b[1;32m----> 4\u001b[0m \u001b[38;5;124m        GRAPH <https://bibliokeia.com/authorities/\u001b[39m\u001b[38;5;132;01m{\u001b[39;00m\u001b[43mrequest\u001b[49m\u001b[38;5;241m.\u001b[39mtype\u001b[38;5;132;01m}\u001b[39;00m\u001b[38;5;124m/\u001b[39m\u001b[38;5;132;01m{\u001b[39;00m\u001b[38;5;28mid\u001b[39m\u001b[38;5;132;01m}\u001b[39;00m\u001b[38;5;124m>\u001b[39m\n\u001b[0;32m      5\u001b[0m \u001b[38;5;124m        \u001b[39m\u001b[38;5;130;01m{{\u001b[39;00m\n\u001b[0;32m      6\u001b[0m \u001b[38;5;124m        <https://bibliokeia.com/authorities/\u001b[39m\u001b[38;5;132;01m{\u001b[39;00mrequest\u001b[38;5;241m.\u001b[39mtype\u001b[38;5;132;01m}\u001b[39;00m\u001b[38;5;124m/\u001b[39m\u001b[38;5;132;01m{\u001b[39;00m\u001b[38;5;28mid\u001b[39m\u001b[38;5;132;01m}\u001b[39;00m\u001b[38;5;124m> a madsrdf:Authority, \u001b[39m\n\u001b[0;32m      7\u001b[0m \u001b[38;5;124m            madsrdf:\u001b[39m\u001b[38;5;132;01m{\u001b[39;00mrequest\u001b[38;5;241m.\u001b[39mtype\u001b[38;5;132;01m}\u001b[39;00m\u001b[38;5;124m ;\u001b[39m\n\u001b[0;32m      8\u001b[0m \u001b[38;5;124m            identifiers:local \u001b[39m\u001b[38;5;124m\"\u001b[39m\u001b[38;5;132;01m{\u001b[39;00m\u001b[38;5;28mid\u001b[39m\u001b[38;5;132;01m}\u001b[39;00m\u001b[38;5;124m\"\u001b[39m\u001b[38;5;124m ;\u001b[39m\n\u001b[0;32m      9\u001b[0m \u001b[38;5;124m            madsrdf:adminMetadata [ a ri:RecordInfo ; \u001b[39m\n\u001b[0;32m     10\u001b[0m \u001b[38;5;124m            ri:recordChangeDate \u001b[39m\u001b[38;5;124m\"\u001b[39m\u001b[38;5;132;01m{\u001b[39;00mrequest\u001b[38;5;241m.\u001b[39mrecordChangeDate\u001b[38;5;132;01m}\u001b[39;00m\u001b[38;5;124m\"\u001b[39m\u001b[38;5;124m^^xsd:dateTime ;\u001b[39m\n\u001b[0;32m     11\u001b[0m \u001b[38;5;124m            ri:recordContentSource <http://id.loc.gov/vocabulary/organizations/brmninpa> ;\u001b[39m\n\u001b[0;32m     12\u001b[0m \u001b[38;5;124m            ri:recordStatus \u001b[39m\u001b[38;5;124m\"\u001b[39m\u001b[38;5;124mnovo\u001b[39m\u001b[38;5;124m\"\u001b[39m\u001b[38;5;124m^^xsd:string ] ; \u001b[39m\n\u001b[0;32m     13\u001b[0m \u001b[38;5;124m            madsrdf:elementList ( \u001b[39m\u001b[38;5;132;01m{\u001b[39;00mMakeElement(request\u001b[38;5;241m.\u001b[39melementList)\u001b[38;5;132;01m}\u001b[39;00m\u001b[38;5;124m ) ;\u001b[39m\n\u001b[0;32m     14\u001b[0m \u001b[38;5;124m            \u001b[39m\u001b[38;5;132;01m{\u001b[39;00m\u001b[38;5;124mf\u001b[39m\u001b[38;5;124m'\u001b[39m\u001b[38;5;124mmadsrdf:hasBroaderAuthority \u001b[39m\u001b[38;5;132;01m{\u001b[39;00m\u001b[38;5;124m\"\u001b[39m\u001b[38;5;124m, \u001b[39m\u001b[38;5;124m\"\u001b[39m\u001b[38;5;241m.\u001b[39mjoin([ \u001b[38;5;124mf\u001b[39m\u001b[38;5;124m\"\u001b[39m\u001b[38;5;124m<\u001b[39m\u001b[38;5;132;01m{\u001b[39;00mi\u001b[38;5;241m.\u001b[39mvalue\u001b[38;5;132;01m}\u001b[39;00m\u001b[38;5;124m>\u001b[39m\u001b[38;5;124m\"\u001b[39m \u001b[38;5;28;01mfor\u001b[39;00m i \u001b[38;5;129;01min\u001b[39;00m request\u001b[38;5;241m.\u001b[39mhasBroaderAuthority])\u001b[38;5;132;01m}\u001b[39;00m\u001b[38;5;124m ;\u001b[39m\u001b[38;5;124m'\u001b[39m \u001b[38;5;28;01mif\u001b[39;00m request\u001b[38;5;241m.\u001b[39mhasBroaderAuthority \u001b[38;5;28;01melse\u001b[39;00m \u001b[38;5;124m'\u001b[39m\u001b[38;5;124m'\u001b[39m\u001b[38;5;132;01m}\u001b[39;00m\n\u001b[0;32m     15\u001b[0m \u001b[38;5;124m            \u001b[39m\u001b[38;5;132;01m{\u001b[39;00m\u001b[38;5;124mf\u001b[39m\u001b[38;5;124m'\u001b[39m\u001b[38;5;124mmadsrdf:hasCloseExternalAuthority \u001b[39m\u001b[38;5;132;01m{\u001b[39;00m\u001b[38;5;124m\"\u001b[39m\u001b[38;5;124m, \u001b[39m\u001b[38;5;124m\"\u001b[39m\u001b[38;5;241m.\u001b[39mjoin([ \u001b[38;5;124mf\u001b[39m\u001b[38;5;124m\"\u001b[39m\u001b[38;5;124m<\u001b[39m\u001b[38;5;132;01m{\u001b[39;00mi\u001b[38;5;241m.\u001b[39mvalue\u001b[38;5;132;01m}\u001b[39;00m\u001b[38;5;124m>\u001b[39m\u001b[38;5;124m\"\u001b[39m \u001b[38;5;28;01mfor\u001b[39;00m i \u001b[38;5;129;01min\u001b[39;00m request\u001b[38;5;241m.\u001b[39mhasCloseExternalAuthority])\u001b[38;5;132;01m}\u001b[39;00m\u001b[38;5;124m ;\u001b[39m\u001b[38;5;124m'\u001b[39m \u001b[38;5;28;01mif\u001b[39;00m request\u001b[38;5;241m.\u001b[39mhasCloseExternalAuthority \u001b[38;5;28;01melse\u001b[39;00m \u001b[38;5;124m'\u001b[39m\u001b[38;5;124m'\u001b[39m\u001b[38;5;132;01m}\u001b[39;00m\n\u001b[0;32m     16\u001b[0m \u001b[38;5;124m             \u001b[39m\u001b[38;5;132;01m{\u001b[39;00m\u001b[38;5;124mf\u001b[39m\u001b[38;5;124m'\u001b[39m\u001b[38;5;124mmadsrdf:hasNarrowerAuthority \u001b[39m\u001b[38;5;132;01m{\u001b[39;00m\u001b[38;5;124m\"\u001b[39m\u001b[38;5;124m, \u001b[39m\u001b[38;5;124m\"\u001b[39m\u001b[38;5;241m.\u001b[39mjoin([ \u001b[38;5;124mf\u001b[39m\u001b[38;5;124m\"\u001b[39m\u001b[38;5;124m<\u001b[39m\u001b[38;5;132;01m{\u001b[39;00mi\u001b[38;5;241m.\u001b[39mvalue\u001b[38;5;132;01m}\u001b[39;00m\u001b[38;5;124m>\u001b[39m\u001b[38;5;124m\"\u001b[39m \u001b[38;5;28;01mfor\u001b[39;00m i \u001b[38;5;129;01min\u001b[39;00m request\u001b[38;5;241m.\u001b[39mhasNarrowerAuthority])\u001b[38;5;132;01m}\u001b[39;00m\u001b[38;5;124m ;\u001b[39m\u001b[38;5;124m'\u001b[39m \u001b[38;5;28;01mif\u001b[39;00m request\u001b[38;5;241m.\u001b[39mhasNarrowerAuthority \u001b[38;5;28;01melse\u001b[39;00m \u001b[38;5;124m'\u001b[39m\u001b[38;5;124m'\u001b[39m\u001b[38;5;132;01m}\u001b[39;00m\n\u001b[0;32m     17\u001b[0m \u001b[38;5;124m            \u001b[39m\u001b[38;5;132;01m{\u001b[39;00m \u001b[38;5;124mf\u001b[39m\u001b[38;5;124m'\u001b[39m\u001b[38;5;124mmadsrdf:hasVariant \u001b[39m\u001b[38;5;132;01m{\u001b[39;00m MakeVariant(request\u001b[38;5;241m.\u001b[39mhasVariant) \u001b[38;5;132;01m}\u001b[39;00m\u001b[38;5;124m ;\u001b[39m\u001b[38;5;124m'\u001b[39m \u001b[38;5;28;01mif\u001b[39;00m request\u001b[38;5;241m.\u001b[39mhasVariant \u001b[38;5;28;01melse\u001b[39;00m \u001b[38;5;124m'\u001b[39m\u001b[38;5;124m'\u001b[39m  \u001b[38;5;132;01m}\u001b[39;00m\n\u001b[0;32m     18\u001b[0m \u001b[38;5;124m            madsrdf:isMemberOfMADSCollection <\u001b[39m\u001b[38;5;132;01m{\u001b[39;00mrequest\u001b[38;5;241m.\u001b[39misMemberOfMADSCollection\u001b[38;5;132;01m}\u001b[39;00m\u001b[38;5;124m> .\u001b[39m\n\u001b[0;32m     19\u001b[0m \u001b[38;5;124m            \u001b[39m\n\u001b[0;32m     20\u001b[0m \u001b[38;5;124m        \u001b[39m\u001b[38;5;130;01m}}\u001b[39;00m\u001b[38;5;124m \u001b[39m\n\u001b[0;32m     21\u001b[0m \u001b[38;5;124m        \u001b[39m\u001b[38;5;130;01m}}\u001b[39;00m\u001b[38;5;124m\"\"\"\u001b[39m\n\u001b[0;32m     22\u001b[0m \u001b[38;5;28mprint\u001b[39m(graph)\n",
      "\u001b[1;31mNameError\u001b[0m: name 'request' is not defined"
     ]
    }
   ],
   "source": [
    "id = 'gf2014026339'\n",
    "graph = f\"\"\"{prefix}    \n",
    "    INSERT DATA {{\n",
    "        GRAPH <https://bibliokeia.com/authorities/{request.type}/{id}>\n",
    "        {{\n",
    "        <https://bibliokeia.com/authorities/{request.type}/{id}> a madsrdf:Authority, \n",
    "            madsrdf:{request.type} ;\n",
    "            identifiers:local \"{id}\" ;\n",
    "            madsrdf:adminMetadata [ a ri:RecordInfo ; \n",
    "            ri:recordChangeDate \"{request.recordChangeDate}\"^^xsd:dateTime ;\n",
    "            ri:recordContentSource <http://id.loc.gov/vocabulary/organizations/brmninpa> ;\n",
    "            ri:recordStatus \"novo\"^^xsd:string ] ; \n",
    "            madsrdf:elementList ( {MakeElement(request.elementList)} ) ;\n",
    "            {f'madsrdf:hasBroaderAuthority {\", \".join([ f\"<{i.value}>\" for i in request.hasBroaderAuthority])} ;' if request.hasBroaderAuthority else ''}\n",
    "            {f'madsrdf:hasCloseExternalAuthority {\", \".join([ f\"<{i.value}>\" for i in request.hasCloseExternalAuthority])} ;' if request.hasCloseExternalAuthority else ''}\n",
    "             {f'madsrdf:hasNarrowerAuthority {\", \".join([ f\"<{i.value}>\" for i in request.hasNarrowerAuthority])} ;' if request.hasNarrowerAuthority else ''}\n",
    "            { f'madsrdf:hasVariant { MakeVariant(request.hasVariant) } ;' if request.hasVariant else ''  }\n",
    "            madsrdf:isMemberOfMADSCollection <{request.isMemberOfMADSCollection}> .\n",
    "            \n",
    "        }} \n",
    "        }}\"\"\"\n",
    "print(graph)"
   ]
  }
 ],
 "metadata": {
  "kernelspec": {
   "display_name": "Python 3.11.0 ('venv': venv)",
   "language": "python",
   "name": "python3"
  },
  "language_info": {
   "codemirror_mode": {
    "name": "ipython",
    "version": 3
   },
   "file_extension": ".py",
   "mimetype": "text/x-python",
   "name": "python",
   "nbconvert_exporter": "python",
   "pygments_lexer": "ipython3",
   "version": "3.11.3"
  },
  "orig_nbformat": 4,
  "vscode": {
   "interpreter": {
    "hash": "5df21a170a08fe7c24b5b1091267edae5bad3984f1116f28e957af7dd8f192dc"
   }
  }
 },
 "nbformat": 4,
 "nbformat_minor": 2
}
