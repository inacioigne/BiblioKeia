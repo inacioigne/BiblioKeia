{
 "cells": [
  {
   "cell_type": "code",
   "execution_count": 1,
   "metadata": {},
   "outputs": [],
   "source": [
    "import httpx\n",
    "from pysolr import Solr"
   ]
  },
  {
   "attachments": {},
   "cell_type": "markdown",
   "metadata": {},
   "source": [
    "CREATE CORE"
   ]
  },
  {
   "cell_type": "code",
   "execution_count": 8,
   "metadata": {},
   "outputs": [
    {
     "data": {
      "text/plain": [
       "<Response [200 OK]>"
      ]
     },
     "execution_count": 8,
     "metadata": {},
     "output_type": "execute_result"
    }
   ],
   "source": [
    "headers = {\n",
    "    'Content-Type': 'application/json',\n",
    "}\n",
    "\n",
    "json_data = {\n",
    "    'create': {\n",
    "        'name': 'test1',\n",
    "        'configSet': 'bk',\n",
    "    },\n",
    "}\n",
    "\n",
    "response = httpx.post(\n",
    "    'http://localhost:8983/api/cores', \n",
    "    headers=headers, \n",
    "    json=json_data, \n",
    "    timeout=None)\n",
    "response"
   ]
  },
  {
   "cell_type": "code",
   "execution_count": 7,
   "metadata": {},
   "outputs": [
    {
     "data": {
      "text/plain": [
       "{'responseHeader': {'status': 400, 'QTime': 1},\n",
       " 'error': {'metadata': ['error-class',\n",
       "   'org.apache.solr.common.SolrException',\n",
       "   'root-error-class',\n",
       "   'org.apache.solr.common.SolrException'],\n",
       "  'msg': \"Error CREATEing SolrCore 'techproducts_v2': Unable to create core [techproducts_v2] Caused by: Could not load configuration from directory /var/solr/data/configsets/sample_techproducts_configs\",\n",
       "  'code': 400}}"
      ]
     },
     "execution_count": 7,
     "metadata": {},
     "output_type": "execute_result"
    }
   ],
   "source": [
    "response.json()"
   ]
  },
  {
   "cell_type": "code",
   "execution_count": 3,
   "metadata": {},
   "outputs": [
    {
     "data": {
      "text/plain": [
       "<Response [200 OK]>"
      ]
     },
     "execution_count": 3,
     "metadata": {},
     "output_type": "execute_result"
    }
   ],
   "source": [
    "headers = {\n",
    "    'Content-Type': 'application/json',\n",
    "}\n",
    "\n",
    "json_data = {\n",
    "    'create': {\n",
    "        'name': 'collection',\n",
    "        'configSet': '_default',\n",
    "    },\n",
    "}\n",
    "\n",
    "response = httpx.post(\n",
    "    'http://localhost:8983/api/cores', \n",
    "    headers=headers, \n",
    "    json=json_data, \n",
    "    timeout=None)\n",
    "response"
   ]
  },
  {
   "cell_type": "code",
   "execution_count": 3,
   "metadata": {},
   "outputs": [
    {
     "data": {
      "text/plain": [
       "<Response [200 OK]>"
      ]
     },
     "execution_count": 3,
     "metadata": {},
     "output_type": "execute_result"
    }
   ],
   "source": [
    "headers = {\n",
    "    'Content-Type': 'application/json',\n",
    "}\n",
    "\n",
    "json_data = {\n",
    "    'create': {\n",
    "        'name': 'acervo',\n",
    "        'configSet': '_default',\n",
    "    },\n",
    "}\n",
    "\n",
    "response = httpx.post(\n",
    "    'http://localhost:8983/api/cores', \n",
    "    headers=headers, \n",
    "    json=json_data, \n",
    "    timeout=None)\n",
    "response"
   ]
  },
  {
   "cell_type": "markdown",
   "metadata": {},
   "source": [
    "Authorities Schema"
   ]
  },
  {
   "cell_type": "code",
   "execution_count": 7,
   "metadata": {},
   "outputs": [],
   "source": [
    "url = \"http://localhost:8983/api/cores/authorities/schema\"\n",
    "\n",
    "headers = {\n",
    "    'Content-type': 'application/json',\n",
    "}"
   ]
  },
  {
   "cell_type": "markdown",
   "metadata": {},
   "source": [
    "CREATE FIELD"
   ]
  },
  {
   "cell_type": "code",
   "execution_count": 3,
   "metadata": {},
   "outputs": [
    {
     "data": {
      "text/plain": [
       "<Response [200 OK]>"
      ]
     },
     "execution_count": 3,
     "metadata": {},
     "output_type": "execute_result"
    }
   ],
   "source": [
    "headers = {\n",
    "    'Content-type': 'application/json',\n",
    "}\n",
    "\n",
    "json_data = {\n",
    "    'add-field': {\n",
    "        'name': 'general_search',\n",
    "        'type': 'text_general',\n",
    "        'stored': False,\n",
    "        'indexed': True\n",
    "    },\n",
    "}\n",
    "\n",
    "response = httpx.post(\n",
    "    'http://localhost:8983/api/cores/authority/schema', \n",
    "    headers=headers, \n",
    "    json=json_data,\n",
    "    timeout=None)\n",
    "\n",
    "response"
   ]
  },
  {
   "cell_type": "markdown",
   "metadata": {},
   "source": [
    "REMOVE FIELD"
   ]
  },
  {
   "cell_type": "code",
   "execution_count": 5,
   "metadata": {},
   "outputs": [
    {
     "data": {
      "text/plain": [
       "<Response [200 OK]>"
      ]
     },
     "execution_count": 5,
     "metadata": {},
     "output_type": "execute_result"
    }
   ],
   "source": [
    "\n",
    "\n",
    "headers = {\n",
    "    'Content-type': 'application/json',\n",
    "}\n",
    "\n",
    "json_data = {\n",
    "  \"delete-field\" : { \"name\":\"label\" }\n",
    "}\n",
    "\n",
    "response = httpx.post(\n",
    "    'http://localhost:8983/api/cores/authority/schema', \n",
    "    headers=headers, \n",
    "    json=json_data,\n",
    "    timeout=None)\n",
    "\n",
    "response\n"
   ]
  },
  {
   "attachments": {},
   "cell_type": "markdown",
   "metadata": {},
   "source": [
    "EDIT FIELD"
   ]
  },
  {
   "cell_type": "code",
   "execution_count": 3,
   "metadata": {},
   "outputs": [
    {
     "data": {
      "text/plain": [
       "<Response [400 Bad Request]>"
      ]
     },
     "execution_count": 3,
     "metadata": {},
     "output_type": "execute_result"
    }
   ],
   "source": [
    "json_data = {\n",
    "  \"replace-field\":{\n",
    "     \"name\":\"lable\",\n",
    "     \"multiValued\": \"true\"\n",
    "    }\n",
    "}\n",
    "\n",
    "headers = {\n",
    "    'Content-type': 'application/json',\n",
    "}\n",
    "\n",
    "response = httpx.post(\n",
    "    'http://localhost:8983/api/cores/authority/schema', \n",
    "    headers=headers, \n",
    "    json=json_data,\n",
    "    timeout=None)\n",
    "\n",
    "response"
   ]
  },
  {
   "cell_type": "code",
   "execution_count": 3,
   "metadata": {},
   "outputs": [
    {
     "data": {
      "text/plain": [
       "<Response [200 OK]>"
      ]
     },
     "execution_count": 3,
     "metadata": {},
     "output_type": "execute_result"
    }
   ],
   "source": [
    "json_data = {\n",
    "  \"replace-field\":{\n",
    "     \"name\":\"deathDate\",\n",
    "     \"type\":\"text_general\"\n",
    "    }\n",
    "}\n",
    "\n",
    "headers = {\n",
    "    'Content-type': 'application/json',\n",
    "}\n",
    "\n",
    "response = httpx.post(\n",
    "    'http://localhost:8983/api/cores/authority/schema', \n",
    "    headers=headers, \n",
    "    json=json_data,\n",
    "    timeout=None)\n",
    "\n",
    "response"
   ]
  },
  {
   "cell_type": "markdown",
   "metadata": {},
   "source": [
    "Add a New Copy Field Rule"
   ]
  },
  {
   "cell_type": "code",
   "execution_count": 4,
   "metadata": {},
   "outputs": [
    {
     "data": {
      "text/plain": [
       "<Response [200 OK]>"
      ]
     },
     "execution_count": 4,
     "metadata": {},
     "output_type": "execute_result"
    }
   ],
   "source": [
    "json_data = {\n",
    "    'add-copy-field': {\n",
    "        'source': 'organization',\n",
    "        'dest': [\n",
    "            'organization_str',\n",
    "        ],\n",
    "    },\n",
    "}\n",
    "headers = {\n",
    "    'Content-type': 'application/json',\n",
    "}\n",
    "\n",
    "response = httpx.post(\n",
    "    'http://localhost:8983/api/cores/authority/schema', \n",
    "    headers=headers, \n",
    "    json=json_data,\n",
    "    timeout=None)\n",
    "\n",
    "response"
   ]
  },
  {
   "cell_type": "code",
   "execution_count": 6,
   "metadata": {},
   "outputs": [
    {
     "data": {
      "text/plain": [
       "<Response [200 OK]>"
      ]
     },
     "execution_count": 6,
     "metadata": {},
     "output_type": "execute_result"
    }
   ],
   "source": [
    "json_data = {\n",
    "    'add-copy-field': {\n",
    "        'source': 'label',\n",
    "        'dest': [\n",
    "            'general_search',\n",
    "        ],\n",
    "    },\n",
    "}\n",
    "\n",
    "response = httpx.post(\n",
    "    'http://localhost:8983/api/cores/authority/schema', \n",
    "    headers=headers, \n",
    "    json=json_data,\n",
    "    timeout=None)\n",
    "\n",
    "response"
   ]
  },
  {
   "cell_type": "code",
   "execution_count": 10,
   "metadata": {},
   "outputs": [
    {
     "data": {
      "text/plain": [
       "<Response [200 OK]>"
      ]
     },
     "execution_count": 10,
     "metadata": {},
     "output_type": "execute_result"
    }
   ],
   "source": [
    "json_data = {\n",
    "    'add-copy-field': {\n",
    "        'source': 'fullerName',\n",
    "        'dest': [\n",
    "            'general_search',\n",
    "        ],\n",
    "    },\n",
    "}\n",
    "\n",
    "response = httpx.post(\n",
    "    'http://localhost:8983/api/cores/authority/schema', \n",
    "    headers=headers, \n",
    "    json=json_data,\n",
    "    timeout=None)\n",
    "\n",
    "response"
   ]
  },
  {
   "cell_type": "code",
   "execution_count": 12,
   "metadata": {},
   "outputs": [
    {
     "data": {
      "text/plain": [
       "<Response [400 Bad Request]>"
      ]
     },
     "execution_count": 12,
     "metadata": {},
     "output_type": "execute_result"
    }
   ],
   "source": [
    "url = \"http://localhost:8983/solr/admin/cores?action=REINDEXCOLLECTION&name=authorities\"\n",
    "r = httpx.post(url)\n",
    "r\n",
    "\n",
    "json_data = {\n",
    "    'action': {\n",
    "        'name': 'authorities',\n",
    "        'configSet': '_default',\n",
    "    },\n",
    "}\n",
    "r = \"http://localhost:8983/solr/admin/collections?action=REINDEXCOLLECTION&name=techproducts_v2\"\n"
   ]
  },
  {
   "attachments": {},
   "cell_type": "markdown",
   "metadata": {},
   "source": [
    "PYSOLR"
   ]
  },
  {
   "cell_type": "code",
   "execution_count": 9,
   "metadata": {},
   "outputs": [
    {
     "ename": "SolrError",
     "evalue": "Solr responded with an error (HTTP 404): [Reason: None]\n<p>  Searching for Solr?  You must type the correct path.  Solr will respond.</p>",
     "output_type": "error",
     "traceback": [
      "\u001b[1;31m---------------------------------------------------------------------------\u001b[0m",
      "\u001b[1;31mSolrError\u001b[0m                                 Traceback (most recent call last)",
      "Cell \u001b[1;32mIn[9], line 2\u001b[0m\n\u001b[0;32m      1\u001b[0m solr \u001b[39m=\u001b[39m Solr(\u001b[39m'\u001b[39m\u001b[39mhttp://localhost:8080/solr/authority/\u001b[39m\u001b[39m'\u001b[39m, timeout\u001b[39m=\u001b[39m\u001b[39m10\u001b[39m)\n\u001b[1;32m----> 2\u001b[0m solr\u001b[39m.\u001b[39;49mping()\n",
      "File \u001b[1;32mc:\\BiblioKeia\\venv\\Lib\\site-packages\\pysolr.py:1265\u001b[0m, in \u001b[0;36mSolr.ping\u001b[1;34m(self, handler, **kwargs)\u001b[0m\n\u001b[0;32m   1262\u001b[0m \u001b[39mif\u001b[39;00m \u001b[39mlen\u001b[39m(params_encoded) \u001b[39m<\u001b[39m \u001b[39m1024\u001b[39m:\n\u001b[0;32m   1263\u001b[0m     \u001b[39m# Typical case.\u001b[39;00m\n\u001b[0;32m   1264\u001b[0m     path \u001b[39m=\u001b[39m \u001b[39m\"\u001b[39m\u001b[39m%s\u001b[39;00m\u001b[39m/?\u001b[39m\u001b[39m%s\u001b[39;00m\u001b[39m\"\u001b[39m \u001b[39m%\u001b[39m (handler, params_encoded)\n\u001b[1;32m-> 1265\u001b[0m     \u001b[39mreturn\u001b[39;00m \u001b[39mself\u001b[39;49m\u001b[39m.\u001b[39;49m_send_request(\u001b[39m\"\u001b[39;49m\u001b[39mget\u001b[39;49m\u001b[39m\"\u001b[39;49m, path)\n\u001b[0;32m   1266\u001b[0m \u001b[39melse\u001b[39;00m:\n\u001b[0;32m   1267\u001b[0m     \u001b[39m# Handles very long queries by submitting as a POST.\u001b[39;00m\n\u001b[0;32m   1268\u001b[0m     path \u001b[39m=\u001b[39m \u001b[39m\"\u001b[39m\u001b[39m%s\u001b[39;00m\u001b[39m/\u001b[39m\u001b[39m\"\u001b[39m \u001b[39m%\u001b[39m handler\n",
      "File \u001b[1;32mc:\\BiblioKeia\\venv\\Lib\\site-packages\\pysolr.py:463\u001b[0m, in \u001b[0;36mSolr._send_request\u001b[1;34m(self, method, path, body, headers, files)\u001b[0m\n\u001b[0;32m    449\u001b[0m     solr_message \u001b[39m=\u001b[39m \u001b[39mself\u001b[39m\u001b[39m.\u001b[39m_extract_error(resp)\n\u001b[0;32m    450\u001b[0m     \u001b[39mself\u001b[39m\u001b[39m.\u001b[39mlog\u001b[39m.\u001b[39merror(\n\u001b[0;32m    451\u001b[0m         error_message,\n\u001b[0;32m    452\u001b[0m         resp\u001b[39m.\u001b[39mstatus_code,\n\u001b[1;32m   (...)\u001b[0m\n\u001b[0;32m    461\u001b[0m         },\n\u001b[0;32m    462\u001b[0m     )\n\u001b[1;32m--> 463\u001b[0m     \u001b[39mraise\u001b[39;00m SolrError(error_message \u001b[39m%\u001b[39m (resp\u001b[39m.\u001b[39mstatus_code, solr_message))\n\u001b[0;32m    465\u001b[0m \u001b[39mreturn\u001b[39;00m force_unicode(resp\u001b[39m.\u001b[39mcontent)\n",
      "\u001b[1;31mSolrError\u001b[0m: Solr responded with an error (HTTP 404): [Reason: None]\n<p>  Searching for Solr?  You must type the correct path.  Solr will respond.</p>"
     ]
    }
   ],
   "source": [
    "solr = Solr('http://localhost:8080/solr/authority/', timeout=10)\n",
    "solr.ping()"
   ]
  },
  {
   "cell_type": "code",
   "execution_count": 3,
   "metadata": {},
   "outputs": [],
   "source": [
    "r = solr.search(q=\"*:*\")"
   ]
  },
  {
   "attachments": {},
   "cell_type": "markdown",
   "metadata": {},
   "source": [
    "DELETE ALL"
   ]
  },
  {
   "cell_type": "code",
   "execution_count": 10,
   "metadata": {},
   "outputs": [
    {
     "data": {
      "text/plain": [
       "'<?xml version=\"1.0\" encoding=\"UTF-8\"?>\\n<response>\\n\\n<lst name=\"responseHeader\">\\n  <int name=\"status\">0</int>\\n  <int name=\"QTime\">37</int>\\n</lst>\\n</response>\\n'"
      ]
     },
     "execution_count": 10,
     "metadata": {},
     "output_type": "execute_result"
    }
   ],
   "source": [
    "solr.delete(q='*:*', commit=True)"
   ]
  },
  {
   "attachments": {},
   "cell_type": "markdown",
   "metadata": {},
   "source": [
    "ADD DOCS"
   ]
  },
  {
   "attachments": {},
   "cell_type": "markdown",
   "metadata": {},
   "source": [
    "Work"
   ]
  },
  {
   "cell_type": "code",
   "execution_count": 5,
   "metadata": {},
   "outputs": [
    {
     "data": {
      "text/plain": [
       "'{\\n  \"responseHeader\":{\\n    \"status\":0,\\n    \"QTime\":131}}\\n'"
      ]
     },
     "execution_count": 5,
     "metadata": {},
     "output_type": "execute_result"
    }
   ],
   "source": [
    "work = {\n",
    "        \"id\": \"bk-1\",\n",
    "        \"type\": \"work\",\n",
    "        \"content\": \"text\",\n",
    "        \"mainTitle\": \"Os donos da paisagem: estudos\",\n",
    "        \"language\": \"Portguês\",\n",
    "        \"cdd\": \"352.6\",\n",
    "        \"cutter\": \"O48d\",\n",
    "        \"subjects\": [{\"id\": \"bk-2\",\n",
    "                      \"type\": \"topic\", \n",
    "                      \"authority\": \"Geografia\",\n",
    "                      \"subjectOf\": [\"bk-1\"]\n",
    "                      }]\n",
    "    }\n",
    "\n",
    "solr.add([work], commit=True)"
   ]
  },
  {
   "attachments": {},
   "cell_type": "markdown",
   "metadata": {},
   "source": [
    "subjects"
   ]
  },
  {
   "cell_type": "code",
   "execution_count": 6,
   "metadata": {},
   "outputs": [
    {
     "data": {
      "text/plain": [
       "'{\\n  \"responseHeader\":{\\n    \"status\":0,\\n    \"QTime\":85}}\\n'"
      ]
     },
     "execution_count": 6,
     "metadata": {},
     "output_type": "execute_result"
    }
   ],
   "source": [
    "subjects = {\"id\": \"bk-3\",\n",
    "            \"type\": \"topic\", \n",
    "            \"authority\": \"Paisagem\" }\n",
    "solr.add([subjects], commit=True)"
   ]
  },
  {
   "attachments": {},
   "cell_type": "markdown",
   "metadata": {},
   "source": [
    "Adiciona subjects ao work"
   ]
  },
  {
   "cell_type": "code",
   "execution_count": 7,
   "metadata": {},
   "outputs": [
    {
     "data": {
      "text/plain": [
       "'{\\n  \"responseHeader\":{\\n    \"status\":0,\\n    \"QTime\":112}}\\n'"
      ]
     },
     "execution_count": 7,
     "metadata": {},
     "output_type": "execute_result"
    }
   ],
   "source": [
    "up = {\n",
    "  \"id\": \"bk-1\",\n",
    "  \"subjects\": { \"add\": { \"id\": \"bk-3\"} }\n",
    "}\n",
    "\n",
    "solr.add([up], commit=True)"
   ]
  },
  {
   "attachments": {},
   "cell_type": "markdown",
   "metadata": {},
   "source": [
    "Indexing Nested Documents"
   ]
  },
  {
   "cell_type": "code",
   "execution_count": 5,
   "metadata": {},
   "outputs": [
    {
     "data": {
      "text/plain": [
       "'{\\n  \"responseHeader\":{\\n    \"status\":0,\\n    \"QTime\":445}}\\n'"
      ]
     },
     "execution_count": 5,
     "metadata": {},
     "output_type": "execute_result"
    }
   ],
   "source": [
    "doc = [{ \"id\": \"bk-test\",\n",
    "   \"mainTitle\": \"Swingline Stapler\",\n",
    "   \"subjects\": [ { \"id\": \"bk-subject1\",\n",
    "               \"term_topic\": \"RED\"\n",
    "             },\n",
    "             { \"id\": \"bk-subject2\",\n",
    "               \"term_topic\": \"BLACK\"\n",
    "             } ]\n",
    " }]\n",
    "solr.add(doc, commit=True)"
   ]
  },
  {
   "cell_type": "code",
   "execution_count": 6,
   "metadata": {},
   "outputs": [
    {
     "data": {
      "text/plain": [
       "'{\\n  \"responseHeader\":{\\n    \"status\":0,\\n    \"QTime\":242}}\\n'"
      ]
     },
     "execution_count": 6,
     "metadata": {},
     "output_type": "execute_result"
    }
   ],
   "source": [
    "doc =  {\"id\":\"bk-2\",\n",
    "        \"bibrame\":\"work\",\n",
    "        \"contentType\":\"Texto\",\n",
    "        \"mainTitle\":\"Conjecturas e refutações\",\n",
    "        \"language\":\"Português\",\n",
    "        \"cdd\":\"548.2\",\n",
    "        \"cutter\":\"A587s\",\n",
    "        \"subjects\":[{\n",
    "    \"id\":\"sh85084414\",\n",
    "        \"type\":\"Topic\",\n",
    "        \"authority\":\"Metodologia\",\n",
    "        \"variants\":[\"Filosofia--Metodologia\"],\n",
    "        \"narrowers\":[\"Solução de problemas\",\n",
    "          \"Genealogia (Filosofia)\",\n",
    "          \"Formalização (Filosofia)\",\n",
    "          \"experimentos mentais\",\n",
    "          \"Análise (Filosofia)\",\n",
    "          \"Performativo (Filosofia)\",\n",
    "          \"Classificação das ciências\",\n",
    "          \"Abordagem interdisciplinar do conhecimento\",\n",
    "          \"Heurística\",\n",
    "          \"método longitudinal\"],\n",
    "        \"reciprocalAuthoritys\":[\"Pesquisa\"]\n",
    "        }]}\n",
    "\n",
    "solr.add([doc], commit=True)"
   ]
  },
  {
   "cell_type": "code",
   "execution_count": 7,
   "metadata": {},
   "outputs": [
    {
     "data": {
      "text/plain": [
       "'{\\n  \"responseHeader\":{\\n    \"status\":0,\\n    \"QTime\":681}}\\n'"
      ]
     },
     "execution_count": 7,
     "metadata": {},
     "output_type": "execute_result"
    }
   ],
   "source": [
    "up = {\n",
    "  \"id\": \"bk-2\",\n",
    "  \"subjects\": { \"add\": { \"id\": \"subject-TEST\",\n",
    "                        \"authority\": \"Staplers\"\n",
    "                      } }\n",
    "}\n",
    "\n",
    "solr.add([up], commit=True)"
   ]
  },
  {
   "attachments": {},
   "cell_type": "markdown",
   "metadata": {},
   "source": [
    "DSPACE 7 SOLR"
   ]
  },
  {
   "cell_type": "code",
   "execution_count": 8,
   "metadata": {},
   "outputs": [
    {
     "data": {
      "text/plain": [
       "'{\\n  \"responseHeader\":{\\n    \"zkConnected\":null,\\n    \"status\":0,\\n    \"QTime\":2,\\n    \"params\":{\\n      \"q\":\"{!lucene}*:*\",\\n      \"distrib\":\"false\",\\n      \"df\":\"search_text\",\\n      \"q.op\":\"AND\",\\n      \"rows\":\"10\",\\n      \"echoParams\":\"all\",\\n      \"rid\":\"-17076\"}},\\n  \"status\":\"OK\"}\\n'"
      ]
     },
     "execution_count": 8,
     "metadata": {},
     "output_type": "execute_result"
    }
   ],
   "source": [
    "ri = Solr('http://45.35.215.157:8983/solr/search', timeout=10)\n",
    "ri.ping()"
   ]
  },
  {
   "cell_type": "code",
   "execution_count": 9,
   "metadata": {},
   "outputs": [
    {
     "data": {
      "text/plain": [
       "<pysolr.Results at 0x1fd8a1d8820>"
      ]
     },
     "execution_count": 9,
     "metadata": {},
     "output_type": "execute_result"
    }
   ],
   "source": [
    "r = ri.search(\"*:*\")\n",
    "r"
   ]
  }
 ],
 "metadata": {
  "kernelspec": {
   "display_name": "Python 3.11.3 ('venv': venv)",
   "language": "python",
   "name": "python3"
  },
  "language_info": {
   "codemirror_mode": {
    "name": "ipython",
    "version": 3
   },
   "file_extension": ".py",
   "mimetype": "text/x-python",
   "name": "python",
   "nbconvert_exporter": "python",
   "pygments_lexer": "ipython3",
   "version": "3.11.5"
  },
  "orig_nbformat": 4,
  "vscode": {
   "interpreter": {
    "hash": "5df21a170a08fe7c24b5b1091267edae5bad3984f1116f28e957af7dd8f192dc"
   }
  }
 },
 "nbformat": 4,
 "nbformat_minor": 2
}
