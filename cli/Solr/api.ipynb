{
 "cells": [
  {
   "cell_type": "code",
   "execution_count": 1,
   "metadata": {},
   "outputs": [],
   "source": [
    "import httpx\n",
    "from pysolr import Solr"
   ]
  },
  {
   "attachments": {},
   "cell_type": "markdown",
   "metadata": {},
   "source": [
    "CREATE CORE"
   ]
  },
  {
   "cell_type": "code",
   "execution_count": 2,
   "metadata": {},
   "outputs": [
    {
     "data": {
      "text/plain": [
       "<Response [200 OK]>"
      ]
     },
     "execution_count": 2,
     "metadata": {},
     "output_type": "execute_result"
    }
   ],
   "source": [
    "headers = {\n",
    "    'Content-Type': 'application/json',\n",
    "}\n",
    "\n",
    "json_data = {\n",
    "    'create': {\n",
    "        'name': 'authorities',\n",
    "        'configSet': '_default',\n",
    "    },\n",
    "}\n",
    "\n",
    "response = httpx.post(\n",
    "    'http://localhost:8983/api/cores', \n",
    "    headers=headers, \n",
    "    json=json_data, \n",
    "    timeout=None)\n",
    "response"
   ]
  },
  {
   "cell_type": "code",
   "execution_count": 3,
   "metadata": {},
   "outputs": [
    {
     "data": {
      "text/plain": [
       "<Response [200 OK]>"
      ]
     },
     "execution_count": 3,
     "metadata": {},
     "output_type": "execute_result"
    }
   ],
   "source": [
    "headers = {\n",
    "    'Content-Type': 'application/json',\n",
    "}\n",
    "\n",
    "json_data = {\n",
    "    'create': {\n",
    "        'name': 'acervo',\n",
    "        'configSet': '_default',\n",
    "    },\n",
    "}\n",
    "\n",
    "response = httpx.post(\n",
    "    'http://localhost:8983/api/cores', \n",
    "    headers=headers, \n",
    "    json=json_data, \n",
    "    timeout=None)\n",
    "response"
   ]
  },
  {
   "cell_type": "markdown",
   "metadata": {},
   "source": [
    "Authorities Schema"
   ]
  },
  {
   "cell_type": "code",
   "execution_count": 7,
   "metadata": {},
   "outputs": [],
   "source": [
    "url = \"http://localhost:8983/api/cores/authorities/schema\"\n",
    "\n",
    "headers = {\n",
    "    'Content-type': 'application/json',\n",
    "}"
   ]
  },
  {
   "cell_type": "markdown",
   "metadata": {},
   "source": [
    "CREATE FIELD"
   ]
  },
  {
   "cell_type": "code",
   "execution_count": 4,
   "metadata": {},
   "outputs": [
    {
     "data": {
      "text/plain": [
       "<Response [200 OK]>"
      ]
     },
     "execution_count": 4,
     "metadata": {},
     "output_type": "execute_result"
    }
   ],
   "source": [
    "headers = {\n",
    "    'Content-type': 'application/json',\n",
    "}\n",
    "\n",
    "json_data = {\n",
    "    'add-field': {\n",
    "        'name': 'general_search',\n",
    "        'type': 'text_general',\n",
    "        'stored': False,\n",
    "    },\n",
    "}\n",
    "\n",
    "response = httpx.post(\n",
    "    'http://localhost:8983/api/cores/authorities/schema', \n",
    "    headers=headers, \n",
    "    json=json_data,\n",
    "    timeout=None)\n",
    "\n",
    "response"
   ]
  },
  {
   "cell_type": "code",
   "execution_count": 2,
   "metadata": {},
   "outputs": [
    {
     "data": {
      "text/plain": [
       "<Response [200 OK]>"
      ]
     },
     "execution_count": 2,
     "metadata": {},
     "output_type": "execute_result"
    }
   ],
   "source": [
    "json_data = {\n",
    "  \"replace-field\":{\n",
    "     \"name\":\"date\",\n",
    "     \"type\":\"text_general\"\n",
    "    }\n",
    "}\n",
    "\n",
    "headers = {\n",
    "    'Content-type': 'application/json',\n",
    "}\n",
    "\n",
    "response = httpx.post(\n",
    "    'http://localhost:8983/api/cores/authorities/schema', \n",
    "    headers=headers, \n",
    "    json=json_data,\n",
    "    timeout=None)\n",
    "\n",
    "response"
   ]
  },
  {
   "cell_type": "markdown",
   "metadata": {},
   "source": [
    "Add a New Copy Field Rule"
   ]
  },
  {
   "cell_type": "code",
   "execution_count": 6,
   "metadata": {},
   "outputs": [
    {
     "data": {
      "text/plain": [
       "<Response [200]>"
      ]
     },
     "execution_count": 6,
     "metadata": {},
     "output_type": "execute_result"
    }
   ],
   "source": [
    "json_data = {\n",
    "    'add-copy-field': {\n",
    "        'source': 'fullerName',\n",
    "        'dest': [\n",
    "            'general_search',\n",
    "        ],\n",
    "    },\n",
    "}\n",
    "\n",
    "response = httpx.post(\n",
    "    url, \n",
    "    headers=headers, \n",
    "    json=json_data,\n",
    "    timeout=None)\n",
    "\n",
    "response"
   ]
  },
  {
   "cell_type": "code",
   "execution_count": 8,
   "metadata": {},
   "outputs": [
    {
     "data": {
      "text/plain": [
       "<Response [200 OK]>"
      ]
     },
     "execution_count": 8,
     "metadata": {},
     "output_type": "execute_result"
    }
   ],
   "source": [
    "json_data = {\n",
    "    'add-copy-field': {\n",
    "        'source': 'name',\n",
    "        'dest': [\n",
    "            'general_search',\n",
    "        ],\n",
    "    },\n",
    "}\n",
    "\n",
    "response = httpx.post(\n",
    "    url, \n",
    "    headers=headers, \n",
    "    json=json_data,\n",
    "    timeout=None)\n",
    "\n",
    "response"
   ]
  },
  {
   "cell_type": "code",
   "execution_count": 9,
   "metadata": {},
   "outputs": [
    {
     "data": {
      "text/plain": [
       "<Response [200 OK]>"
      ]
     },
     "execution_count": 9,
     "metadata": {},
     "output_type": "execute_result"
    }
   ],
   "source": [
    "json_data = {\n",
    "    'add-copy-field': {\n",
    "        'source': 'variants',\n",
    "        'dest': [\n",
    "            'general_search',\n",
    "        ],\n",
    "    },\n",
    "}\n",
    "\n",
    "response = httpx.post(\n",
    "    url, \n",
    "    headers=headers, \n",
    "    json=json_data,\n",
    "    timeout=None)\n",
    "\n",
    "response"
   ]
  },
  {
   "cell_type": "code",
   "execution_count": 12,
   "metadata": {},
   "outputs": [
    {
     "data": {
      "text/plain": [
       "<Response [400 Bad Request]>"
      ]
     },
     "execution_count": 12,
     "metadata": {},
     "output_type": "execute_result"
    }
   ],
   "source": [
    "url = \"http://localhost:8983/solr/admin/cores?action=REINDEXCOLLECTION&name=authorities\"\n",
    "r = httpx.post(url)\n",
    "r\n",
    "\n",
    "json_data = {\n",
    "    'action': {\n",
    "        'name': 'authorities',\n",
    "        'configSet': '_default',\n",
    "    },\n",
    "}\n",
    "r = \"http://localhost:8983/solr/admin/collections?action=REINDEXCOLLECTION&name=techproducts_v2\"\n"
   ]
  },
  {
   "attachments": {},
   "cell_type": "markdown",
   "metadata": {},
   "source": [
    "PYSOLR"
   ]
  },
  {
   "cell_type": "code",
   "execution_count": 2,
   "metadata": {},
   "outputs": [
    {
     "data": {
      "text/plain": [
       "'{\\n  \"responseHeader\":{\\n    \"zkConnected\":null,\\n    \"status\":0,\\n    \"QTime\":24,\\n    \"params\":{\\n      \"q\":\"{!lucene}*:*\",\\n      \"distrib\":\"false\",\\n      \"df\":\"_text_\",\\n      \"rows\":\"10\",\\n      \"echoParams\":\"all\",\\n      \"rid\":\"localhost-1\"}},\\n  \"status\":\"OK\"}\\n'"
      ]
     },
     "execution_count": 2,
     "metadata": {},
     "output_type": "execute_result"
    }
   ],
   "source": [
    "solr = Solr('http://localhost:8983/solr/acervo/', timeout=10)\n",
    "solr.ping()"
   ]
  },
  {
   "cell_type": "code",
   "execution_count": 3,
   "metadata": {},
   "outputs": [],
   "source": [
    "r = solr.search(q=\"*:*\")"
   ]
  },
  {
   "attachments": {},
   "cell_type": "markdown",
   "metadata": {},
   "source": [
    "DELETE ALL"
   ]
  },
  {
   "cell_type": "code",
   "execution_count": 12,
   "metadata": {},
   "outputs": [
    {
     "data": {
      "text/plain": [
       "'<?xml version=\"1.0\" encoding=\"UTF-8\"?>\\n<response>\\n\\n<lst name=\"responseHeader\">\\n  <int name=\"status\">0</int>\\n  <int name=\"QTime\">528</int>\\n</lst>\\n</response>\\n'"
      ]
     },
     "execution_count": 12,
     "metadata": {},
     "output_type": "execute_result"
    }
   ],
   "source": [
    "solr.delete(q='*:*', commit=True)"
   ]
  },
  {
   "attachments": {},
   "cell_type": "markdown",
   "metadata": {},
   "source": [
    "ADD DOCS"
   ]
  },
  {
   "attachments": {},
   "cell_type": "markdown",
   "metadata": {},
   "source": [
    "Work"
   ]
  },
  {
   "cell_type": "code",
   "execution_count": 5,
   "metadata": {},
   "outputs": [
    {
     "data": {
      "text/plain": [
       "'{\\n  \"responseHeader\":{\\n    \"status\":0,\\n    \"QTime\":131}}\\n'"
      ]
     },
     "execution_count": 5,
     "metadata": {},
     "output_type": "execute_result"
    }
   ],
   "source": [
    "work = {\n",
    "        \"id\": \"bk-1\",\n",
    "        \"type\": \"work\",\n",
    "        \"content\": \"text\",\n",
    "        \"mainTitle\": \"Os donos da paisagem: estudos\",\n",
    "        \"language\": \"Portguês\",\n",
    "        \"cdd\": \"352.6\",\n",
    "        \"cutter\": \"O48d\",\n",
    "        \"subjects\": [{\"id\": \"bk-2\",\n",
    "                      \"type\": \"topic\", \n",
    "                      \"authority\": \"Geografia\",\n",
    "                      \"subjectOf\": [\"bk-1\"]\n",
    "                      }]\n",
    "    }\n",
    "\n",
    "solr.add([work], commit=True)"
   ]
  },
  {
   "attachments": {},
   "cell_type": "markdown",
   "metadata": {},
   "source": [
    "subjects"
   ]
  },
  {
   "cell_type": "code",
   "execution_count": 6,
   "metadata": {},
   "outputs": [
    {
     "data": {
      "text/plain": [
       "'{\\n  \"responseHeader\":{\\n    \"status\":0,\\n    \"QTime\":85}}\\n'"
      ]
     },
     "execution_count": 6,
     "metadata": {},
     "output_type": "execute_result"
    }
   ],
   "source": [
    "subjects = {\"id\": \"bk-3\",\n",
    "            \"type\": \"topic\", \n",
    "            \"authority\": \"Paisagem\" }\n",
    "solr.add([subjects], commit=True)"
   ]
  },
  {
   "attachments": {},
   "cell_type": "markdown",
   "metadata": {},
   "source": [
    "Adiciona subjects ao work"
   ]
  },
  {
   "cell_type": "code",
   "execution_count": 7,
   "metadata": {},
   "outputs": [
    {
     "data": {
      "text/plain": [
       "'{\\n  \"responseHeader\":{\\n    \"status\":0,\\n    \"QTime\":112}}\\n'"
      ]
     },
     "execution_count": 7,
     "metadata": {},
     "output_type": "execute_result"
    }
   ],
   "source": [
    "up = {\n",
    "  \"id\": \"bk-1\",\n",
    "  \"subjects\": { \"add\": { \"id\": \"bk-3\"} }\n",
    "}\n",
    "\n",
    "solr.add([up], commit=True)"
   ]
  },
  {
   "attachments": {},
   "cell_type": "markdown",
   "metadata": {},
   "source": [
    "Indexing Nested Documents"
   ]
  },
  {
   "cell_type": "code",
   "execution_count": 5,
   "metadata": {},
   "outputs": [
    {
     "data": {
      "text/plain": [
       "'{\\n  \"responseHeader\":{\\n    \"status\":0,\\n    \"QTime\":445}}\\n'"
      ]
     },
     "execution_count": 5,
     "metadata": {},
     "output_type": "execute_result"
    }
   ],
   "source": [
    "doc = [{ \"id\": \"bk-test\",\n",
    "   \"mainTitle\": \"Swingline Stapler\",\n",
    "   \"subjects\": [ { \"id\": \"bk-subject1\",\n",
    "               \"term_topic\": \"RED\"\n",
    "             },\n",
    "             { \"id\": \"bk-subject2\",\n",
    "               \"term_topic\": \"BLACK\"\n",
    "             } ]\n",
    " }]\n",
    "solr.add(doc, commit=True)"
   ]
  },
  {
   "cell_type": "code",
   "execution_count": 6,
   "metadata": {},
   "outputs": [
    {
     "data": {
      "text/plain": [
       "'{\\n  \"responseHeader\":{\\n    \"status\":0,\\n    \"QTime\":242}}\\n'"
      ]
     },
     "execution_count": 6,
     "metadata": {},
     "output_type": "execute_result"
    }
   ],
   "source": [
    "doc =  {\"id\":\"bk-2\",\n",
    "        \"bibrame\":\"work\",\n",
    "        \"contentType\":\"Texto\",\n",
    "        \"mainTitle\":\"Conjecturas e refutações\",\n",
    "        \"language\":\"Português\",\n",
    "        \"cdd\":\"548.2\",\n",
    "        \"cutter\":\"A587s\",\n",
    "        \"subjects\":[{\n",
    "    \"id\":\"sh85084414\",\n",
    "        \"type\":\"Topic\",\n",
    "        \"authority\":\"Metodologia\",\n",
    "        \"variants\":[\"Filosofia--Metodologia\"],\n",
    "        \"narrowers\":[\"Solução de problemas\",\n",
    "          \"Genealogia (Filosofia)\",\n",
    "          \"Formalização (Filosofia)\",\n",
    "          \"experimentos mentais\",\n",
    "          \"Análise (Filosofia)\",\n",
    "          \"Performativo (Filosofia)\",\n",
    "          \"Classificação das ciências\",\n",
    "          \"Abordagem interdisciplinar do conhecimento\",\n",
    "          \"Heurística\",\n",
    "          \"método longitudinal\"],\n",
    "        \"reciprocalAuthoritys\":[\"Pesquisa\"]\n",
    "        }]}\n",
    "\n",
    "solr.add([doc], commit=True)"
   ]
  },
  {
   "cell_type": "code",
   "execution_count": 7,
   "metadata": {},
   "outputs": [
    {
     "data": {
      "text/plain": [
       "'{\\n  \"responseHeader\":{\\n    \"status\":0,\\n    \"QTime\":681}}\\n'"
      ]
     },
     "execution_count": 7,
     "metadata": {},
     "output_type": "execute_result"
    }
   ],
   "source": [
    "up = {\n",
    "  \"id\": \"bk-2\",\n",
    "  \"subjects\": { \"add\": { \"id\": \"subject-TEST\",\n",
    "                        \"authority\": \"Staplers\"\n",
    "                      } }\n",
    "}\n",
    "\n",
    "solr.add([up], commit=True)"
   ]
  },
  {
   "attachments": {},
   "cell_type": "markdown",
   "metadata": {},
   "source": [
    "DSPACE 7 SOLR"
   ]
  },
  {
   "cell_type": "code",
   "execution_count": 8,
   "metadata": {},
   "outputs": [
    {
     "data": {
      "text/plain": [
       "'{\\n  \"responseHeader\":{\\n    \"zkConnected\":null,\\n    \"status\":0,\\n    \"QTime\":2,\\n    \"params\":{\\n      \"q\":\"{!lucene}*:*\",\\n      \"distrib\":\"false\",\\n      \"df\":\"search_text\",\\n      \"q.op\":\"AND\",\\n      \"rows\":\"10\",\\n      \"echoParams\":\"all\",\\n      \"rid\":\"-17076\"}},\\n  \"status\":\"OK\"}\\n'"
      ]
     },
     "execution_count": 8,
     "metadata": {},
     "output_type": "execute_result"
    }
   ],
   "source": [
    "ri = Solr('http://45.35.215.157:8983/solr/search', timeout=10)\n",
    "ri.ping()"
   ]
  },
  {
   "cell_type": "code",
   "execution_count": 9,
   "metadata": {},
   "outputs": [
    {
     "data": {
      "text/plain": [
       "<pysolr.Results at 0x1fd8a1d8820>"
      ]
     },
     "execution_count": 9,
     "metadata": {},
     "output_type": "execute_result"
    }
   ],
   "source": [
    "r = ri.search(\"*:*\")\n",
    "r"
   ]
  },
  {
   "cell_type": "code",
   "execution_count": 11,
   "metadata": {},
   "outputs": [
    {
     "data": {
      "text/plain": [
       "[{'SolrIndexer.lastIndexed': '2023-01-08T22:32:36.378Z',\n",
       "  'search.uniqueid': 'MetadataField-223',\n",
       "  'search.resourcetype': 'MetadataField',\n",
       "  'search.resourceid': '223',\n",
       "  'schema_filter': ['creativework\\n|||\\ncreativework###creativework'],\n",
       "  'schema_keyword': ['creativework'],\n",
       "  'schema_ac': ['creativework\\n|||\\ncreativework'],\n",
       "  'schema_acid': ['creativework\\n|||\\ncreativework###creativework'],\n",
       "  'schema_authority': ['creativework'],\n",
       "  'element_filter': ['datePublished\\n|||\\ndatePublished###datePublished'],\n",
       "  'element_keyword': ['datePublished'],\n",
       "  'element_ac': ['datepublished\\n|||\\ndatePublished'],\n",
       "  'element_acid': ['datepublished\\n|||\\ndatePublished###datePublished'],\n",
       "  'element_authority': ['datePublished'],\n",
       "  'fieldName_filter': ['creativework.datePublished\\n|||\\ncreativework.datePublished###creativework.datePublished',\n",
       "   'datePublished\\n|||\\ndatePublished###datePublished'],\n",
       "  'fieldName_keyword': ['creativework.datePublished', 'datePublished'],\n",
       "  'fieldName_ac': ['creativework.datepublished\\n|||\\ncreativework.datePublished',\n",
       "   'datepublished\\n|||\\ndatePublished'],\n",
       "  'fieldName_acid': ['creativework.datepublished\\n|||\\ncreativework.datePublished###creativework.datePublished',\n",
       "   'datepublished\\n|||\\ndatePublished###datePublished'],\n",
       "  'fieldName_authority': ['creativework.datePublished', 'datePublished'],\n",
       "  'namedresourcetype_filter': ['METADATAFIELD\\n|||\\nMETADATAFIELD###METADATAFIELD'],\n",
       "  'namedresourcetype_keyword': ['METADATAFIELD'],\n",
       "  'namedresourcetype_ac': ['metadatafield\\n|||\\nMETADATAFIELD'],\n",
       "  'namedresourcetype_acid': ['metadatafield\\n|||\\nMETADATAFIELD###METADATAFIELD'],\n",
       "  'namedresourcetype_authority': ['METADATAFIELD'],\n",
       "  'read': ['gbba87e3d-fa8f-4f40-8cae-256b8cf28710'],\n",
       "  '_version_': 1754495353095192576,\n",
       "  'latestVersion': True,\n",
       "  'lastModified': '2023-01-08T22:32:36.484Z'},\n",
       " {'SolrIndexer.lastIndexed': '2023-01-08T22:32:36.715Z',\n",
       "  'search.uniqueid': 'MetadataField-218',\n",
       "  'search.resourcetype': 'MetadataField',\n",
       "  'search.resourceid': '218',\n",
       "  'schema_filter': ['creativework\\n|||\\ncreativework###creativework'],\n",
       "  'schema_keyword': ['creativework'],\n",
       "  'schema_ac': ['creativework\\n|||\\ncreativework'],\n",
       "  'schema_acid': ['creativework\\n|||\\ncreativework###creativework'],\n",
       "  'schema_authority': ['creativework'],\n",
       "  'element_filter': ['editor\\n|||\\neditor###editor'],\n",
       "  'element_keyword': ['editor'],\n",
       "  'element_ac': ['editor\\n|||\\neditor'],\n",
       "  'element_acid': ['editor\\n|||\\neditor###editor'],\n",
       "  'element_authority': ['editor'],\n",
       "  'fieldName_filter': ['creativework.editor\\n|||\\ncreativework.editor###creativework.editor',\n",
       "   'editor\\n|||\\neditor###editor'],\n",
       "  'fieldName_keyword': ['creativework.editor', 'editor'],\n",
       "  'fieldName_ac': ['creativework.editor\\n|||\\ncreativework.editor',\n",
       "   'editor\\n|||\\neditor'],\n",
       "  'fieldName_acid': ['creativework.editor\\n|||\\ncreativework.editor###creativework.editor',\n",
       "   'editor\\n|||\\neditor###editor'],\n",
       "  'fieldName_authority': ['creativework.editor', 'editor'],\n",
       "  'namedresourcetype_filter': ['METADATAFIELD\\n|||\\nMETADATAFIELD###METADATAFIELD'],\n",
       "  'namedresourcetype_keyword': ['METADATAFIELD'],\n",
       "  'namedresourcetype_ac': ['metadatafield\\n|||\\nMETADATAFIELD'],\n",
       "  'namedresourcetype_acid': ['metadatafield\\n|||\\nMETADATAFIELD###METADATAFIELD'],\n",
       "  'namedresourcetype_authority': ['METADATAFIELD'],\n",
       "  'read': ['gbba87e3d-fa8f-4f40-8cae-256b8cf28710'],\n",
       "  '_version_': 1754495353345802240,\n",
       "  'latestVersion': True,\n",
       "  'lastModified': '2023-01-08T22:32:36.738Z'},\n",
       " {'SolrIndexer.lastIndexed': '2023-01-08T22:32:36.791Z',\n",
       "  'search.uniqueid': 'MetadataField-222',\n",
       "  'search.resourcetype': 'MetadataField',\n",
       "  'search.resourceid': '222',\n",
       "  'schema_filter': ['creativework\\n|||\\ncreativework###creativework'],\n",
       "  'schema_keyword': ['creativework'],\n",
       "  'schema_ac': ['creativework\\n|||\\ncreativework'],\n",
       "  'schema_acid': ['creativework\\n|||\\ncreativework###creativework'],\n",
       "  'schema_authority': ['creativework'],\n",
       "  'element_filter': ['keywords\\n|||\\nkeywords###keywords'],\n",
       "  'element_keyword': ['keywords'],\n",
       "  'element_ac': ['keywords\\n|||\\nkeywords'],\n",
       "  'element_acid': ['keywords\\n|||\\nkeywords###keywords'],\n",
       "  'element_authority': ['keywords'],\n",
       "  'fieldName_filter': ['creativework.keywords\\n|||\\ncreativework.keywords###creativework.keywords',\n",
       "   'keywords\\n|||\\nkeywords###keywords'],\n",
       "  'fieldName_keyword': ['creativework.keywords', 'keywords'],\n",
       "  'fieldName_ac': ['creativework.keywords\\n|||\\ncreativework.keywords',\n",
       "   'keywords\\n|||\\nkeywords'],\n",
       "  'fieldName_acid': ['creativework.keywords\\n|||\\ncreativework.keywords###creativework.keywords',\n",
       "   'keywords\\n|||\\nkeywords###keywords'],\n",
       "  'fieldName_authority': ['creativework.keywords', 'keywords'],\n",
       "  'namedresourcetype_filter': ['METADATAFIELD\\n|||\\nMETADATAFIELD###METADATAFIELD'],\n",
       "  'namedresourcetype_keyword': ['METADATAFIELD'],\n",
       "  'namedresourcetype_ac': ['metadatafield\\n|||\\nMETADATAFIELD'],\n",
       "  'namedresourcetype_acid': ['metadatafield\\n|||\\nMETADATAFIELD###METADATAFIELD'],\n",
       "  'namedresourcetype_authority': ['METADATAFIELD'],\n",
       "  'read': ['gbba87e3d-fa8f-4f40-8cae-256b8cf28710'],\n",
       "  '_version_': 1754495353418153984,\n",
       "  'latestVersion': True,\n",
       "  'lastModified': '2023-01-08T22:32:36.807Z'},\n",
       " {'SolrIndexer.lastIndexed': '2023-01-08T22:32:36.832Z',\n",
       "  'search.uniqueid': 'MetadataField-219',\n",
       "  'search.resourcetype': 'MetadataField',\n",
       "  'search.resourceid': '219',\n",
       "  'schema_filter': ['creativework\\n|||\\ncreativework###creativework'],\n",
       "  'schema_keyword': ['creativework'],\n",
       "  'schema_ac': ['creativework\\n|||\\ncreativework'],\n",
       "  'schema_acid': ['creativework\\n|||\\ncreativework###creativework'],\n",
       "  'schema_authority': ['creativework'],\n",
       "  'element_filter': ['publisher\\n|||\\npublisher###publisher'],\n",
       "  'element_keyword': ['publisher'],\n",
       "  'element_ac': ['publisher\\n|||\\npublisher'],\n",
       "  'element_acid': ['publisher\\n|||\\npublisher###publisher'],\n",
       "  'element_authority': ['publisher'],\n",
       "  'fieldName_filter': ['creativework.publisher\\n|||\\ncreativework.publisher###creativework.publisher',\n",
       "   'publisher\\n|||\\npublisher###publisher'],\n",
       "  'fieldName_keyword': ['creativework.publisher', 'publisher'],\n",
       "  'fieldName_ac': ['creativework.publisher\\n|||\\ncreativework.publisher',\n",
       "   'publisher\\n|||\\npublisher'],\n",
       "  'fieldName_acid': ['creativework.publisher\\n|||\\ncreativework.publisher###creativework.publisher',\n",
       "   'publisher\\n|||\\npublisher###publisher'],\n",
       "  'fieldName_authority': ['creativework.publisher', 'publisher'],\n",
       "  'namedresourcetype_filter': ['METADATAFIELD\\n|||\\nMETADATAFIELD###METADATAFIELD'],\n",
       "  'namedresourcetype_keyword': ['METADATAFIELD'],\n",
       "  'namedresourcetype_ac': ['metadatafield\\n|||\\nMETADATAFIELD'],\n",
       "  'namedresourcetype_acid': ['metadatafield\\n|||\\nMETADATAFIELD###METADATAFIELD'],\n",
       "  'namedresourcetype_authority': ['METADATAFIELD'],\n",
       "  'read': ['gbba87e3d-fa8f-4f40-8cae-256b8cf28710'],\n",
       "  '_version_': 1754495353451708416,\n",
       "  'latestVersion': True,\n",
       "  'lastModified': '2023-01-08T22:32:36.839Z'},\n",
       " {'SolrIndexer.lastIndexed': '2023-01-08T22:32:36.865Z',\n",
       "  'search.uniqueid': 'MetadataField-220',\n",
       "  'search.resourcetype': 'MetadataField',\n",
       "  'search.resourceid': '220',\n",
       "  'schema_filter': ['creativeworkseries\\n|||\\ncreativeworkseries###creativeworkseries'],\n",
       "  'schema_keyword': ['creativeworkseries'],\n",
       "  'schema_ac': ['creativeworkseries\\n|||\\ncreativeworkseries'],\n",
       "  'schema_acid': ['creativeworkseries\\n|||\\ncreativeworkseries###creativeworkseries'],\n",
       "  'schema_authority': ['creativeworkseries'],\n",
       "  'element_filter': ['issn\\n|||\\nissn###issn'],\n",
       "  'element_keyword': ['issn'],\n",
       "  'element_ac': ['issn\\n|||\\nissn'],\n",
       "  'element_acid': ['issn\\n|||\\nissn###issn'],\n",
       "  'element_authority': ['issn'],\n",
       "  'fieldName_filter': ['creativeworkseries.issn\\n|||\\ncreativeworkseries.issn###creativeworkseries.issn',\n",
       "   'issn\\n|||\\nissn###issn'],\n",
       "  'fieldName_keyword': ['creativeworkseries.issn', 'issn'],\n",
       "  'fieldName_ac': ['creativeworkseries.issn\\n|||\\ncreativeworkseries.issn',\n",
       "   'issn\\n|||\\nissn'],\n",
       "  'fieldName_acid': ['creativeworkseries.issn\\n|||\\ncreativeworkseries.issn###creativeworkseries.issn',\n",
       "   'issn\\n|||\\nissn###issn'],\n",
       "  'fieldName_authority': ['creativeworkseries.issn', 'issn'],\n",
       "  'namedresourcetype_filter': ['METADATAFIELD\\n|||\\nMETADATAFIELD###METADATAFIELD'],\n",
       "  'namedresourcetype_keyword': ['METADATAFIELD'],\n",
       "  'namedresourcetype_ac': ['metadatafield\\n|||\\nMETADATAFIELD'],\n",
       "  'namedresourcetype_acid': ['metadatafield\\n|||\\nMETADATAFIELD###METADATAFIELD'],\n",
       "  'namedresourcetype_authority': ['METADATAFIELD'],\n",
       "  'read': ['gbba87e3d-fa8f-4f40-8cae-256b8cf28710'],\n",
       "  '_version_': 1754495353488408576,\n",
       "  'latestVersion': True,\n",
       "  'lastModified': '2023-01-08T22:32:36.874Z'},\n",
       " {'SolrIndexer.lastIndexed': '2023-01-08T22:32:36.926Z',\n",
       "  'search.uniqueid': 'MetadataField-238',\n",
       "  'search.resourcetype': 'MetadataField',\n",
       "  'search.resourceid': '238',\n",
       "  'schema_filter': ['datacite\\n|||\\ndatacite###datacite'],\n",
       "  'schema_keyword': ['datacite'],\n",
       "  'schema_ac': ['datacite\\n|||\\ndatacite'],\n",
       "  'schema_acid': ['datacite\\n|||\\ndatacite###datacite'],\n",
       "  'schema_authority': ['datacite'],\n",
       "  'element_filter': ['geoLocation\\n|||\\ngeoLocation###geoLocation'],\n",
       "  'element_keyword': ['geoLocation'],\n",
       "  'element_ac': ['geolocation\\n|||\\ngeoLocation'],\n",
       "  'element_acid': ['geolocation\\n|||\\ngeoLocation###geoLocation'],\n",
       "  'element_authority': ['geoLocation'],\n",
       "  'fieldName_filter': ['datacite.geoLocation\\n|||\\ndatacite.geoLocation###datacite.geoLocation',\n",
       "   'geoLocation\\n|||\\ngeoLocation###geoLocation'],\n",
       "  'fieldName_keyword': ['datacite.geoLocation', 'geoLocation'],\n",
       "  'fieldName_ac': ['datacite.geolocation\\n|||\\ndatacite.geoLocation',\n",
       "   'geolocation\\n|||\\ngeoLocation'],\n",
       "  'fieldName_acid': ['datacite.geolocation\\n|||\\ndatacite.geoLocation###datacite.geoLocation',\n",
       "   'geolocation\\n|||\\ngeoLocation###geoLocation'],\n",
       "  'fieldName_authority': ['datacite.geoLocation', 'geoLocation'],\n",
       "  'namedresourcetype_filter': ['METADATAFIELD\\n|||\\nMETADATAFIELD###METADATAFIELD'],\n",
       "  'namedresourcetype_keyword': ['METADATAFIELD'],\n",
       "  'namedresourcetype_ac': ['metadatafield\\n|||\\nMETADATAFIELD'],\n",
       "  'namedresourcetype_acid': ['metadatafield\\n|||\\nMETADATAFIELD###METADATAFIELD'],\n",
       "  'namedresourcetype_authority': ['METADATAFIELD'],\n",
       "  'read': ['gbba87e3d-fa8f-4f40-8cae-256b8cf28710'],\n",
       "  '_version_': 1754495353556566016,\n",
       "  'latestVersion': True,\n",
       "  'lastModified': '2023-01-08T22:32:36.933Z'},\n",
       " {'SolrIndexer.lastIndexed': '2023-01-08T22:32:36.960Z',\n",
       "  'search.uniqueid': 'MetadataField-239',\n",
       "  'search.resourcetype': 'MetadataField',\n",
       "  'search.resourceid': '239',\n",
       "  'schema_filter': ['datacite\\n|||\\ndatacite###datacite'],\n",
       "  'schema_keyword': ['datacite'],\n",
       "  'schema_ac': ['datacite\\n|||\\ndatacite'],\n",
       "  'schema_acid': ['datacite\\n|||\\ndatacite###datacite'],\n",
       "  'schema_authority': ['datacite'],\n",
       "  'element_filter': ['subject\\n|||\\nsubject###subject'],\n",
       "  'element_keyword': ['subject'],\n",
       "  'element_ac': ['subject\\n|||\\nsubject'],\n",
       "  'element_acid': ['subject\\n|||\\nsubject###subject'],\n",
       "  'element_authority': ['subject'],\n",
       "  'fieldName_filter': ['datacite.subject.fos\\n|||\\ndatacite.subject.fos###datacite.subject.fos',\n",
       "   'subject.fos\\n|||\\nsubject.fos###datacite.subject.fos',\n",
       "   'fos\\n|||\\nfos###fos'],\n",
       "  'fieldName_keyword': ['datacite.subject.fos', 'subject.fos', 'fos'],\n",
       "  'fieldName_ac': ['datacite.subject.fos\\n|||\\ndatacite.subject.fos',\n",
       "   'subject.fos\\n|||\\nsubject.fos',\n",
       "   'fos\\n|||\\nfos'],\n",
       "  'fieldName_acid': ['datacite.subject.fos\\n|||\\ndatacite.subject.fos###datacite.subject.fos',\n",
       "   'subject.fos\\n|||\\nsubject.fos###datacite.subject.fos',\n",
       "   'fos\\n|||\\nfos###fos'],\n",
       "  'fieldName_authority': ['datacite.subject.fos',\n",
       "   'datacite.subject.fos',\n",
       "   'fos'],\n",
       "  'qualifier_filter': ['fos\\n|||\\nfos###fos'],\n",
       "  'qualifier_keyword': ['fos'],\n",
       "  'qualifier_ac': ['fos\\n|||\\nfos'],\n",
       "  'qualifier_acid': ['fos\\n|||\\nfos###fos'],\n",
       "  'qualifier_authority': ['fos'],\n",
       "  'namedresourcetype_filter': ['METADATAFIELD\\n|||\\nMETADATAFIELD###METADATAFIELD'],\n",
       "  'namedresourcetype_keyword': ['METADATAFIELD'],\n",
       "  'namedresourcetype_ac': ['metadatafield\\n|||\\nMETADATAFIELD'],\n",
       "  'namedresourcetype_acid': ['metadatafield\\n|||\\nMETADATAFIELD###METADATAFIELD'],\n",
       "  'namedresourcetype_authority': ['METADATAFIELD'],\n",
       "  'read': ['gbba87e3d-fa8f-4f40-8cae-256b8cf28710'],\n",
       "  '_version_': 1754495353605849088,\n",
       "  'latestVersion': True,\n",
       "  'lastModified': '2023-01-08T22:32:36.987Z'},\n",
       " {'SolrIndexer.lastIndexed': '2023-01-08T22:32:37.027Z',\n",
       "  'search.uniqueid': 'MetadataField-9',\n",
       "  'search.resourcetype': 'MetadataField',\n",
       "  'search.resourceid': '9',\n",
       "  'schema_filter': ['dc\\n|||\\ndc###dc'],\n",
       "  'schema_keyword': ['dc'],\n",
       "  'schema_ac': ['dc\\n|||\\ndc'],\n",
       "  'schema_acid': ['dc\\n|||\\ndc###dc'],\n",
       "  'schema_authority': ['dc'],\n",
       "  'element_filter': ['contributor\\n|||\\ncontributor###contributor'],\n",
       "  'element_keyword': ['contributor'],\n",
       "  'element_ac': ['contributor\\n|||\\ncontributor'],\n",
       "  'element_acid': ['contributor\\n|||\\ncontributor###contributor'],\n",
       "  'element_authority': ['contributor'],\n",
       "  'fieldName_filter': ['dc.contributor.advisor\\n|||\\ndc.contributor.advisor###dc.contributor.advisor',\n",
       "   'contributor.advisor\\n|||\\ncontributor.advisor###dc.contributor.advisor',\n",
       "   'advisor\\n|||\\nadvisor###advisor'],\n",
       "  'fieldName_keyword': ['dc.contributor.advisor',\n",
       "   'contributor.advisor',\n",
       "   'advisor'],\n",
       "  'fieldName_ac': ['dc.contributor.advisor\\n|||\\ndc.contributor.advisor',\n",
       "   'contributor.advisor\\n|||\\ncontributor.advisor',\n",
       "   'advisor\\n|||\\nadvisor'],\n",
       "  'fieldName_acid': ['dc.contributor.advisor\\n|||\\ndc.contributor.advisor###dc.contributor.advisor',\n",
       "   'contributor.advisor\\n|||\\ncontributor.advisor###dc.contributor.advisor',\n",
       "   'advisor\\n|||\\nadvisor###advisor'],\n",
       "  'fieldName_authority': ['dc.contributor.advisor',\n",
       "   'dc.contributor.advisor',\n",
       "   'advisor'],\n",
       "  'qualifier_filter': ['advisor\\n|||\\nadvisor###advisor'],\n",
       "  'qualifier_keyword': ['advisor'],\n",
       "  'qualifier_ac': ['advisor\\n|||\\nadvisor'],\n",
       "  'qualifier_acid': ['advisor\\n|||\\nadvisor###advisor'],\n",
       "  'qualifier_authority': ['advisor'],\n",
       "  'namedresourcetype_filter': ['METADATAFIELD\\n|||\\nMETADATAFIELD###METADATAFIELD'],\n",
       "  'namedresourcetype_keyword': ['METADATAFIELD'],\n",
       "  'namedresourcetype_ac': ['metadatafield\\n|||\\nMETADATAFIELD'],\n",
       "  'namedresourcetype_acid': ['metadatafield\\n|||\\nMETADATAFIELD###METADATAFIELD'],\n",
       "  'namedresourcetype_authority': ['METADATAFIELD'],\n",
       "  'read': ['gbba87e3d-fa8f-4f40-8cae-256b8cf28710'],\n",
       "  '_version_': 1754495353655132160,\n",
       "  'latestVersion': True,\n",
       "  'lastModified': '2023-01-08T22:32:37.033Z'},\n",
       " {'SolrIndexer.lastIndexed': '2023-01-08T22:32:37.069Z',\n",
       "  'search.uniqueid': 'MetadataField-10',\n",
       "  'search.resourcetype': 'MetadataField',\n",
       "  'search.resourceid': '10',\n",
       "  'schema_filter': ['dc\\n|||\\ndc###dc'],\n",
       "  'schema_keyword': ['dc'],\n",
       "  'schema_ac': ['dc\\n|||\\ndc'],\n",
       "  'schema_acid': ['dc\\n|||\\ndc###dc'],\n",
       "  'schema_authority': ['dc'],\n",
       "  'element_filter': ['contributor\\n|||\\ncontributor###contributor'],\n",
       "  'element_keyword': ['contributor'],\n",
       "  'element_ac': ['contributor\\n|||\\ncontributor'],\n",
       "  'element_acid': ['contributor\\n|||\\ncontributor###contributor'],\n",
       "  'element_authority': ['contributor'],\n",
       "  'fieldName_filter': ['dc.contributor.author\\n|||\\ndc.contributor.author###dc.contributor.author',\n",
       "   'contributor.author\\n|||\\ncontributor.author###dc.contributor.author',\n",
       "   'author\\n|||\\nauthor###author'],\n",
       "  'fieldName_keyword': ['dc.contributor.author',\n",
       "   'contributor.author',\n",
       "   'author'],\n",
       "  'fieldName_ac': ['dc.contributor.author\\n|||\\ndc.contributor.author',\n",
       "   'contributor.author\\n|||\\ncontributor.author',\n",
       "   'author\\n|||\\nauthor'],\n",
       "  'fieldName_acid': ['dc.contributor.author\\n|||\\ndc.contributor.author###dc.contributor.author',\n",
       "   'contributor.author\\n|||\\ncontributor.author###dc.contributor.author',\n",
       "   'author\\n|||\\nauthor###author'],\n",
       "  'fieldName_authority': ['dc.contributor.author',\n",
       "   'dc.contributor.author',\n",
       "   'author'],\n",
       "  'qualifier_filter': ['author\\n|||\\nauthor###author'],\n",
       "  'qualifier_keyword': ['author'],\n",
       "  'qualifier_ac': ['author\\n|||\\nauthor'],\n",
       "  'qualifier_acid': ['author\\n|||\\nauthor###author'],\n",
       "  'qualifier_authority': ['author'],\n",
       "  'namedresourcetype_filter': ['METADATAFIELD\\n|||\\nMETADATAFIELD###METADATAFIELD'],\n",
       "  'namedresourcetype_keyword': ['METADATAFIELD'],\n",
       "  'namedresourcetype_ac': ['metadatafield\\n|||\\nMETADATAFIELD'],\n",
       "  'namedresourcetype_acid': ['metadatafield\\n|||\\nMETADATAFIELD###METADATAFIELD'],\n",
       "  'namedresourcetype_authority': ['METADATAFIELD'],\n",
       "  'read': ['gbba87e3d-fa8f-4f40-8cae-256b8cf28710'],\n",
       "  '_version_': 1754495353699172352,\n",
       "  'latestVersion': True,\n",
       "  'lastModified': '2023-01-08T22:32:37.075Z'},\n",
       " {'SolrIndexer.lastIndexed': '2023-01-08T22:32:37.102Z',\n",
       "  'search.uniqueid': 'MetadataField-11',\n",
       "  'search.resourcetype': 'MetadataField',\n",
       "  'search.resourceid': '11',\n",
       "  'schema_filter': ['dc\\n|||\\ndc###dc'],\n",
       "  'schema_keyword': ['dc'],\n",
       "  'schema_ac': ['dc\\n|||\\ndc'],\n",
       "  'schema_acid': ['dc\\n|||\\ndc###dc'],\n",
       "  'schema_authority': ['dc'],\n",
       "  'element_filter': ['contributor\\n|||\\ncontributor###contributor'],\n",
       "  'element_keyword': ['contributor'],\n",
       "  'element_ac': ['contributor\\n|||\\ncontributor'],\n",
       "  'element_acid': ['contributor\\n|||\\ncontributor###contributor'],\n",
       "  'element_authority': ['contributor'],\n",
       "  'fieldName_filter': ['dc.contributor.editor\\n|||\\ndc.contributor.editor###dc.contributor.editor',\n",
       "   'contributor.editor\\n|||\\ncontributor.editor###dc.contributor.editor',\n",
       "   'editor\\n|||\\neditor###editor'],\n",
       "  'fieldName_keyword': ['dc.contributor.editor',\n",
       "   'contributor.editor',\n",
       "   'editor'],\n",
       "  'fieldName_ac': ['dc.contributor.editor\\n|||\\ndc.contributor.editor',\n",
       "   'contributor.editor\\n|||\\ncontributor.editor',\n",
       "   'editor\\n|||\\neditor'],\n",
       "  'fieldName_acid': ['dc.contributor.editor\\n|||\\ndc.contributor.editor###dc.contributor.editor',\n",
       "   'contributor.editor\\n|||\\ncontributor.editor###dc.contributor.editor',\n",
       "   'editor\\n|||\\neditor###editor'],\n",
       "  'fieldName_authority': ['dc.contributor.editor',\n",
       "   'dc.contributor.editor',\n",
       "   'editor'],\n",
       "  'qualifier_filter': ['editor\\n|||\\neditor###editor'],\n",
       "  'qualifier_keyword': ['editor'],\n",
       "  'qualifier_ac': ['editor\\n|||\\neditor'],\n",
       "  'qualifier_acid': ['editor\\n|||\\neditor###editor'],\n",
       "  'qualifier_authority': ['editor'],\n",
       "  'namedresourcetype_filter': ['METADATAFIELD\\n|||\\nMETADATAFIELD###METADATAFIELD'],\n",
       "  'namedresourcetype_keyword': ['METADATAFIELD'],\n",
       "  'namedresourcetype_ac': ['metadatafield\\n|||\\nMETADATAFIELD'],\n",
       "  'namedresourcetype_acid': ['metadatafield\\n|||\\nMETADATAFIELD###METADATAFIELD'],\n",
       "  'namedresourcetype_authority': ['METADATAFIELD'],\n",
       "  'read': ['gbba87e3d-fa8f-4f40-8cae-256b8cf28710'],\n",
       "  '_version_': 1754495353732726784,\n",
       "  'latestVersion': True,\n",
       "  'lastModified': '2023-01-08T22:32:37.108Z'}]"
      ]
     },
     "execution_count": 11,
     "metadata": {},
     "output_type": "execute_result"
    }
   ],
   "source": [
    "r.docs"
   ]
  }
 ],
 "metadata": {
  "kernelspec": {
   "display_name": "venv",
   "language": "python",
   "name": "python3"
  },
  "language_info": {
   "codemirror_mode": {
    "name": "ipython",
    "version": 3
   },
   "file_extension": ".py",
   "mimetype": "text/x-python",
   "name": "python",
   "nbconvert_exporter": "python",
   "pygments_lexer": "ipython3",
   "version": "3.10.4"
  },
  "orig_nbformat": 4,
  "vscode": {
   "interpreter": {
    "hash": "7c803f0ee3b2b2cd03f94fb28d6f360d094e6843888122798203f226e128b66e"
   }
  }
 },
 "nbformat": 4,
 "nbformat_minor": 2
}
