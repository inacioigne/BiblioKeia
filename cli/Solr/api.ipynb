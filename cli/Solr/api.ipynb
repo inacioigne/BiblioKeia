{
 "cells": [
  {
   "cell_type": "code",
   "execution_count": 1,
   "metadata": {},
   "outputs": [],
   "source": [
    "import httpx\n",
    "from pysolr import Solr"
   ]
  },
  {
   "attachments": {},
   "cell_type": "markdown",
   "metadata": {},
   "source": [
    "CREATE CORE"
   ]
  },
  {
   "cell_type": "code",
   "execution_count": 2,
   "metadata": {},
   "outputs": [
    {
     "data": {
      "text/plain": [
       "<Response [200 OK]>"
      ]
     },
     "execution_count": 2,
     "metadata": {},
     "output_type": "execute_result"
    }
   ],
   "source": [
    "headers = {\n",
    "    'Content-Type': 'application/json',\n",
    "}\n",
    "\n",
    "json_data = {\n",
    "    'create': {\n",
    "        'name': 'authorities',\n",
    "        'configSet': '_default',\n",
    "    },\n",
    "}\n",
    "\n",
    "response = httpx.post(\n",
    "    'http://localhost:8983/api/cores', \n",
    "    headers=headers, \n",
    "    json=json_data, \n",
    "    timeout=None)\n",
    "response"
   ]
  },
  {
   "cell_type": "code",
   "execution_count": 3,
   "metadata": {},
   "outputs": [
    {
     "data": {
      "text/plain": [
       "<Response [200 OK]>"
      ]
     },
     "execution_count": 3,
     "metadata": {},
     "output_type": "execute_result"
    }
   ],
   "source": [
    "headers = {\n",
    "    'Content-Type': 'application/json',\n",
    "}\n",
    "\n",
    "json_data = {\n",
    "    'create': {\n",
    "        'name': 'acervo',\n",
    "        'configSet': '_default',\n",
    "    },\n",
    "}\n",
    "\n",
    "response = httpx.post(\n",
    "    'http://localhost:8983/api/cores', \n",
    "    headers=headers, \n",
    "    json=json_data, \n",
    "    timeout=None)\n",
    "response"
   ]
  },
  {
   "cell_type": "markdown",
   "metadata": {},
   "source": [
    "Authorities Schema"
   ]
  },
  {
   "cell_type": "code",
   "execution_count": 7,
   "metadata": {},
   "outputs": [],
   "source": [
    "url = \"http://localhost:8983/api/cores/authorities/schema\"\n",
    "\n",
    "headers = {\n",
    "    'Content-type': 'application/json',\n",
    "}"
   ]
  },
  {
   "cell_type": "markdown",
   "metadata": {},
   "source": [
    "CREATE FIELD"
   ]
  },
  {
   "cell_type": "code",
   "execution_count": 8,
   "metadata": {},
   "outputs": [
    {
     "data": {
      "text/plain": [
       "<Response [200 OK]>"
      ]
     },
     "execution_count": 8,
     "metadata": {},
     "output_type": "execute_result"
    }
   ],
   "source": [
    "headers = {\n",
    "    'Content-type': 'application/json',\n",
    "}\n",
    "\n",
    "json_data = {\n",
    "    'add-field': {\n",
    "        'name': 'generationDate',\n",
    "        'type': 'text_general',\n",
    "        'stored': True,\n",
    "    },\n",
    "}\n",
    "\n",
    "response = httpx.post(\n",
    "    'http://localhost:8983/api/cores/authorities/schema', \n",
    "    headers=headers, \n",
    "    json=json_data,\n",
    "    timeout=None)\n",
    "\n",
    "response"
   ]
  },
  {
   "attachments": {},
   "cell_type": "markdown",
   "metadata": {},
   "source": [
    "EDIT FIELD"
   ]
  },
  {
   "cell_type": "code",
   "execution_count": 3,
   "metadata": {},
   "outputs": [
    {
     "data": {
      "text/plain": [
       "<Response [200 OK]>"
      ]
     },
     "execution_count": 3,
     "metadata": {},
     "output_type": "execute_result"
    }
   ],
   "source": [
    "json_data = {\n",
    "  \"replace-field\":{\n",
    "     \"name\":\"deathDate\",\n",
    "     \"type\":\"text_general\"\n",
    "    }\n",
    "}\n",
    "\n",
    "headers = {\n",
    "    'Content-type': 'application/json',\n",
    "}\n",
    "\n",
    "response = httpx.post(\n",
    "    'http://localhost:8983/api/cores/authorities/schema', \n",
    "    headers=headers, \n",
    "    json=json_data,\n",
    "    timeout=None)\n",
    "\n",
    "response"
   ]
  },
  {
   "cell_type": "markdown",
   "metadata": {},
   "source": [
    "Add a New Copy Field Rule"
   ]
  },
  {
   "cell_type": "code",
   "execution_count": 6,
   "metadata": {},
   "outputs": [
    {
     "data": {
      "text/plain": [
       "<Response [200]>"
      ]
     },
     "execution_count": 6,
     "metadata": {},
     "output_type": "execute_result"
    }
   ],
   "source": [
    "json_data = {\n",
    "    'add-copy-field': {\n",
    "        'source': 'fullerName',\n",
    "        'dest': [\n",
    "            'general_search',\n",
    "        ],\n",
    "    },\n",
    "}\n",
    "\n",
    "response = httpx.post(\n",
    "    url, \n",
    "    headers=headers, \n",
    "    json=json_data,\n",
    "    timeout=None)\n",
    "\n",
    "response"
   ]
  },
  {
   "cell_type": "code",
   "execution_count": 8,
   "metadata": {},
   "outputs": [
    {
     "data": {
      "text/plain": [
       "<Response [200 OK]>"
      ]
     },
     "execution_count": 8,
     "metadata": {},
     "output_type": "execute_result"
    }
   ],
   "source": [
    "json_data = {\n",
    "    'add-copy-field': {\n",
    "        'source': 'name',\n",
    "        'dest': [\n",
    "            'general_search',\n",
    "        ],\n",
    "    },\n",
    "}\n",
    "\n",
    "response = httpx.post(\n",
    "    url, \n",
    "    headers=headers, \n",
    "    json=json_data,\n",
    "    timeout=None)\n",
    "\n",
    "response"
   ]
  },
  {
   "cell_type": "code",
   "execution_count": 9,
   "metadata": {},
   "outputs": [
    {
     "data": {
      "text/plain": [
       "<Response [200 OK]>"
      ]
     },
     "execution_count": 9,
     "metadata": {},
     "output_type": "execute_result"
    }
   ],
   "source": [
    "json_data = {\n",
    "    'add-copy-field': {\n",
    "        'source': 'variants',\n",
    "        'dest': [\n",
    "            'general_search',\n",
    "        ],\n",
    "    },\n",
    "}\n",
    "\n",
    "response = httpx.post(\n",
    "    url, \n",
    "    headers=headers, \n",
    "    json=json_data,\n",
    "    timeout=None)\n",
    "\n",
    "response"
   ]
  },
  {
   "cell_type": "code",
   "execution_count": 12,
   "metadata": {},
   "outputs": [
    {
     "data": {
      "text/plain": [
       "<Response [400 Bad Request]>"
      ]
     },
     "execution_count": 12,
     "metadata": {},
     "output_type": "execute_result"
    }
   ],
   "source": [
    "url = \"http://localhost:8983/solr/admin/cores?action=REINDEXCOLLECTION&name=authorities\"\n",
    "r = httpx.post(url)\n",
    "r\n",
    "\n",
    "json_data = {\n",
    "    'action': {\n",
    "        'name': 'authorities',\n",
    "        'configSet': '_default',\n",
    "    },\n",
    "}\n",
    "r = \"http://localhost:8983/solr/admin/collections?action=REINDEXCOLLECTION&name=techproducts_v2\"\n"
   ]
  },
  {
   "attachments": {},
   "cell_type": "markdown",
   "metadata": {},
   "source": [
    "PYSOLR"
   ]
  },
  {
   "cell_type": "code",
   "execution_count": 3,
   "metadata": {},
   "outputs": [
    {
     "data": {
      "text/plain": [
       "'{\\n  \"responseHeader\":{\\n    \"zkConnected\":null,\\n    \"status\":0,\\n    \"QTime\":17,\\n    \"params\":{\\n      \"q\":\"{!lucene}*:*\",\\n      \"distrib\":\"false\",\\n      \"df\":\"_text_\",\\n      \"rows\":\"10\",\\n      \"echoParams\":\"all\",\\n      \"rid\":\"localhost-2\"}},\\n  \"status\":\"OK\"}\\n'"
      ]
     },
     "execution_count": 3,
     "metadata": {},
     "output_type": "execute_result"
    }
   ],
   "source": [
    "solr = Solr('http://localhost:8983/solr/authorities/', timeout=10)\n",
    "solr.ping()"
   ]
  },
  {
   "cell_type": "code",
   "execution_count": 3,
   "metadata": {},
   "outputs": [],
   "source": [
    "r = solr.search(q=\"*:*\")"
   ]
  },
  {
   "attachments": {},
   "cell_type": "markdown",
   "metadata": {},
   "source": [
    "DELETE ALL"
   ]
  },
  {
   "cell_type": "code",
   "execution_count": 10,
   "metadata": {},
   "outputs": [
    {
     "data": {
      "text/plain": [
       "'<?xml version=\"1.0\" encoding=\"UTF-8\"?>\\n<response>\\n\\n<lst name=\"responseHeader\">\\n  <int name=\"status\">0</int>\\n  <int name=\"QTime\">37</int>\\n</lst>\\n</response>\\n'"
      ]
     },
     "execution_count": 10,
     "metadata": {},
     "output_type": "execute_result"
    }
   ],
   "source": [
    "solr.delete(q='*:*', commit=True)"
   ]
  },
  {
   "attachments": {},
   "cell_type": "markdown",
   "metadata": {},
   "source": [
    "ADD DOCS"
   ]
  },
  {
   "attachments": {},
   "cell_type": "markdown",
   "metadata": {},
   "source": [
    "Work"
   ]
  },
  {
   "cell_type": "code",
   "execution_count": 5,
   "metadata": {},
   "outputs": [
    {
     "data": {
      "text/plain": [
       "'{\\n  \"responseHeader\":{\\n    \"status\":0,\\n    \"QTime\":131}}\\n'"
      ]
     },
     "execution_count": 5,
     "metadata": {},
     "output_type": "execute_result"
    }
   ],
   "source": [
    "work = {\n",
    "        \"id\": \"bk-1\",\n",
    "        \"type\": \"work\",\n",
    "        \"content\": \"text\",\n",
    "        \"mainTitle\": \"Os donos da paisagem: estudos\",\n",
    "        \"language\": \"Portguês\",\n",
    "        \"cdd\": \"352.6\",\n",
    "        \"cutter\": \"O48d\",\n",
    "        \"subjects\": [{\"id\": \"bk-2\",\n",
    "                      \"type\": \"topic\", \n",
    "                      \"authority\": \"Geografia\",\n",
    "                      \"subjectOf\": [\"bk-1\"]\n",
    "                      }]\n",
    "    }\n",
    "\n",
    "solr.add([work], commit=True)"
   ]
  },
  {
   "attachments": {},
   "cell_type": "markdown",
   "metadata": {},
   "source": [
    "subjects"
   ]
  },
  {
   "cell_type": "code",
   "execution_count": 6,
   "metadata": {},
   "outputs": [
    {
     "data": {
      "text/plain": [
       "'{\\n  \"responseHeader\":{\\n    \"status\":0,\\n    \"QTime\":85}}\\n'"
      ]
     },
     "execution_count": 6,
     "metadata": {},
     "output_type": "execute_result"
    }
   ],
   "source": [
    "subjects = {\"id\": \"bk-3\",\n",
    "            \"type\": \"topic\", \n",
    "            \"authority\": \"Paisagem\" }\n",
    "solr.add([subjects], commit=True)"
   ]
  },
  {
   "attachments": {},
   "cell_type": "markdown",
   "metadata": {},
   "source": [
    "Adiciona subjects ao work"
   ]
  },
  {
   "cell_type": "code",
   "execution_count": 7,
   "metadata": {},
   "outputs": [
    {
     "data": {
      "text/plain": [
       "'{\\n  \"responseHeader\":{\\n    \"status\":0,\\n    \"QTime\":112}}\\n'"
      ]
     },
     "execution_count": 7,
     "metadata": {},
     "output_type": "execute_result"
    }
   ],
   "source": [
    "up = {\n",
    "  \"id\": \"bk-1\",\n",
    "  \"subjects\": { \"add\": { \"id\": \"bk-3\"} }\n",
    "}\n",
    "\n",
    "solr.add([up], commit=True)"
   ]
  },
  {
   "attachments": {},
   "cell_type": "markdown",
   "metadata": {},
   "source": [
    "Indexing Nested Documents"
   ]
  },
  {
   "cell_type": "code",
   "execution_count": 5,
   "metadata": {},
   "outputs": [
    {
     "data": {
      "text/plain": [
       "'{\\n  \"responseHeader\":{\\n    \"status\":0,\\n    \"QTime\":445}}\\n'"
      ]
     },
     "execution_count": 5,
     "metadata": {},
     "output_type": "execute_result"
    }
   ],
   "source": [
    "doc = [{ \"id\": \"bk-test\",\n",
    "   \"mainTitle\": \"Swingline Stapler\",\n",
    "   \"subjects\": [ { \"id\": \"bk-subject1\",\n",
    "               \"term_topic\": \"RED\"\n",
    "             },\n",
    "             { \"id\": \"bk-subject2\",\n",
    "               \"term_topic\": \"BLACK\"\n",
    "             } ]\n",
    " }]\n",
    "solr.add(doc, commit=True)"
   ]
  },
  {
   "cell_type": "code",
   "execution_count": 6,
   "metadata": {},
   "outputs": [
    {
     "data": {
      "text/plain": [
       "'{\\n  \"responseHeader\":{\\n    \"status\":0,\\n    \"QTime\":242}}\\n'"
      ]
     },
     "execution_count": 6,
     "metadata": {},
     "output_type": "execute_result"
    }
   ],
   "source": [
    "doc =  {\"id\":\"bk-2\",\n",
    "        \"bibrame\":\"work\",\n",
    "        \"contentType\":\"Texto\",\n",
    "        \"mainTitle\":\"Conjecturas e refutações\",\n",
    "        \"language\":\"Português\",\n",
    "        \"cdd\":\"548.2\",\n",
    "        \"cutter\":\"A587s\",\n",
    "        \"subjects\":[{\n",
    "    \"id\":\"sh85084414\",\n",
    "        \"type\":\"Topic\",\n",
    "        \"authority\":\"Metodologia\",\n",
    "        \"variants\":[\"Filosofia--Metodologia\"],\n",
    "        \"narrowers\":[\"Solução de problemas\",\n",
    "          \"Genealogia (Filosofia)\",\n",
    "          \"Formalização (Filosofia)\",\n",
    "          \"experimentos mentais\",\n",
    "          \"Análise (Filosofia)\",\n",
    "          \"Performativo (Filosofia)\",\n",
    "          \"Classificação das ciências\",\n",
    "          \"Abordagem interdisciplinar do conhecimento\",\n",
    "          \"Heurística\",\n",
    "          \"método longitudinal\"],\n",
    "        \"reciprocalAuthoritys\":[\"Pesquisa\"]\n",
    "        }]}\n",
    "\n",
    "solr.add([doc], commit=True)"
   ]
  },
  {
   "cell_type": "code",
   "execution_count": 7,
   "metadata": {},
   "outputs": [
    {
     "data": {
      "text/plain": [
       "'{\\n  \"responseHeader\":{\\n    \"status\":0,\\n    \"QTime\":681}}\\n'"
      ]
     },
     "execution_count": 7,
     "metadata": {},
     "output_type": "execute_result"
    }
   ],
   "source": [
    "up = {\n",
    "  \"id\": \"bk-2\",\n",
    "  \"subjects\": { \"add\": { \"id\": \"subject-TEST\",\n",
    "                        \"authority\": \"Staplers\"\n",
    "                      } }\n",
    "}\n",
    "\n",
    "solr.add([up], commit=True)"
   ]
  },
  {
   "attachments": {},
   "cell_type": "markdown",
   "metadata": {},
   "source": [
    "DSPACE 7 SOLR"
   ]
  },
  {
   "cell_type": "code",
   "execution_count": 8,
   "metadata": {},
   "outputs": [
    {
     "data": {
      "text/plain": [
       "'{\\n  \"responseHeader\":{\\n    \"zkConnected\":null,\\n    \"status\":0,\\n    \"QTime\":2,\\n    \"params\":{\\n      \"q\":\"{!lucene}*:*\",\\n      \"distrib\":\"false\",\\n      \"df\":\"search_text\",\\n      \"q.op\":\"AND\",\\n      \"rows\":\"10\",\\n      \"echoParams\":\"all\",\\n      \"rid\":\"-17076\"}},\\n  \"status\":\"OK\"}\\n'"
      ]
     },
     "execution_count": 8,
     "metadata": {},
     "output_type": "execute_result"
    }
   ],
   "source": [
    "ri = Solr('http://45.35.215.157:8983/solr/search', timeout=10)\n",
    "ri.ping()"
   ]
  },
  {
   "cell_type": "code",
   "execution_count": 9,
   "metadata": {},
   "outputs": [
    {
     "data": {
      "text/plain": [
       "<pysolr.Results at 0x1fd8a1d8820>"
      ]
     },
     "execution_count": 9,
     "metadata": {},
     "output_type": "execute_result"
    }
   ],
   "source": [
    "r = ri.search(\"*:*\")\n",
    "r"
   ]
  }
 ],
 "metadata": {
  "kernelspec": {
   "display_name": "venv",
   "language": "python",
   "name": "python3"
  },
  "language_info": {
   "codemirror_mode": {
    "name": "ipython",
    "version": 3
   },
   "file_extension": ".py",
   "mimetype": "text/x-python",
   "name": "python",
   "nbconvert_exporter": "python",
   "pygments_lexer": "ipython3",
   "version": "3.10.4"
  },
  "orig_nbformat": 4,
  "vscode": {
   "interpreter": {
    "hash": "7c803f0ee3b2b2cd03f94fb28d6f360d094e6843888122798203f226e128b66e"
   }
  }
 },
 "nbformat": 4,
 "nbformat_minor": 2
}
