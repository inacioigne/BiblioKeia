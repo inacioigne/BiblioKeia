{
 "cells": [
  {
   "cell_type": "code",
   "execution_count": 1,
   "metadata": {},
   "outputs": [],
   "source": [
    "import httpx\n",
    "from pysolr import Solr"
   ]
  },
  {
   "attachments": {},
   "cell_type": "markdown",
   "metadata": {},
   "source": [
    "CREATE CORE"
   ]
  },
  {
   "cell_type": "code",
   "execution_count": 2,
   "metadata": {},
   "outputs": [
    {
     "data": {
      "text/plain": [
       "<Response [200 OK]>"
      ]
     },
     "execution_count": 2,
     "metadata": {},
     "output_type": "execute_result"
    }
   ],
   "source": [
    "headers = {\n",
    "    'Content-Type': 'application/json',\n",
    "}\n",
    "\n",
    "json_data = {\n",
    "    'create': {\n",
    "        'name': 'authorities',\n",
    "        'configSet': '_default',\n",
    "    },\n",
    "}\n",
    "\n",
    "response = httpx.post(\n",
    "    'http://localhost:8983/api/cores', \n",
    "    headers=headers, \n",
    "    json=json_data, \n",
    "    timeout=None)\n",
    "response"
   ]
  },
  {
   "cell_type": "code",
   "execution_count": 3,
   "metadata": {},
   "outputs": [
    {
     "data": {
      "text/plain": [
       "<Response [200 OK]>"
      ]
     },
     "execution_count": 3,
     "metadata": {},
     "output_type": "execute_result"
    }
   ],
   "source": [
    "headers = {\n",
    "    'Content-Type': 'application/json',\n",
    "}\n",
    "\n",
    "json_data = {\n",
    "    'create': {\n",
    "        'name': 'acervo',\n",
    "        'configSet': '_default',\n",
    "    },\n",
    "}\n",
    "\n",
    "response = httpx.post(\n",
    "    'http://localhost:8983/api/cores', \n",
    "    headers=headers, \n",
    "    json=json_data, \n",
    "    timeout=None)\n",
    "response"
   ]
  },
  {
   "cell_type": "markdown",
   "metadata": {},
   "source": [
    "Authorities Schema"
   ]
  },
  {
   "cell_type": "code",
   "execution_count": 7,
   "metadata": {},
   "outputs": [],
   "source": [
    "url = \"http://localhost:8983/api/cores/authorities/schema\"\n",
    "\n",
    "headers = {\n",
    "    'Content-type': 'application/json',\n",
    "}"
   ]
  },
  {
   "cell_type": "markdown",
   "metadata": {},
   "source": [
    "CREATE FIELD"
   ]
  },
  {
   "cell_type": "code",
   "execution_count": 4,
   "metadata": {},
   "outputs": [
    {
     "data": {
      "text/plain": [
       "<Response [200 OK]>"
      ]
     },
     "execution_count": 4,
     "metadata": {},
     "output_type": "execute_result"
    }
   ],
   "source": [
    "headers = {\n",
    "    'Content-type': 'application/json',\n",
    "}\n",
    "\n",
    "json_data = {\n",
    "    'add-field': {\n",
    "        'name': 'general_search',\n",
    "        'type': 'text_general',\n",
    "        'stored': False,\n",
    "    },\n",
    "}\n",
    "\n",
    "response = httpx.post(\n",
    "    'http://localhost:8983/api/cores/authorities/schema', \n",
    "    headers=headers, \n",
    "    json=json_data,\n",
    "    timeout=None)\n",
    "\n",
    "response"
   ]
  },
  {
   "cell_type": "markdown",
   "metadata": {},
   "source": [
    "Add a New Copy Field Rule"
   ]
  },
  {
   "cell_type": "code",
   "execution_count": 6,
   "metadata": {},
   "outputs": [
    {
     "data": {
      "text/plain": [
       "<Response [200]>"
      ]
     },
     "execution_count": 6,
     "metadata": {},
     "output_type": "execute_result"
    }
   ],
   "source": [
    "json_data = {\n",
    "    'add-copy-field': {\n",
    "        'source': 'fullerName',\n",
    "        'dest': [\n",
    "            'general_search',\n",
    "        ],\n",
    "    },\n",
    "}\n",
    "\n",
    "response = httpx.post(\n",
    "    url, \n",
    "    headers=headers, \n",
    "    json=json_data,\n",
    "    timeout=None)\n",
    "\n",
    "response"
   ]
  },
  {
   "cell_type": "code",
   "execution_count": 8,
   "metadata": {},
   "outputs": [
    {
     "data": {
      "text/plain": [
       "<Response [200 OK]>"
      ]
     },
     "execution_count": 8,
     "metadata": {},
     "output_type": "execute_result"
    }
   ],
   "source": [
    "json_data = {\n",
    "    'add-copy-field': {\n",
    "        'source': 'name',\n",
    "        'dest': [\n",
    "            'general_search',\n",
    "        ],\n",
    "    },\n",
    "}\n",
    "\n",
    "response = httpx.post(\n",
    "    url, \n",
    "    headers=headers, \n",
    "    json=json_data,\n",
    "    timeout=None)\n",
    "\n",
    "response"
   ]
  },
  {
   "cell_type": "code",
   "execution_count": 9,
   "metadata": {},
   "outputs": [
    {
     "data": {
      "text/plain": [
       "<Response [200 OK]>"
      ]
     },
     "execution_count": 9,
     "metadata": {},
     "output_type": "execute_result"
    }
   ],
   "source": [
    "json_data = {\n",
    "    'add-copy-field': {\n",
    "        'source': 'variants',\n",
    "        'dest': [\n",
    "            'general_search',\n",
    "        ],\n",
    "    },\n",
    "}\n",
    "\n",
    "response = httpx.post(\n",
    "    url, \n",
    "    headers=headers, \n",
    "    json=json_data,\n",
    "    timeout=None)\n",
    "\n",
    "response"
   ]
  },
  {
   "cell_type": "code",
   "execution_count": 12,
   "metadata": {},
   "outputs": [
    {
     "data": {
      "text/plain": [
       "<Response [400 Bad Request]>"
      ]
     },
     "execution_count": 12,
     "metadata": {},
     "output_type": "execute_result"
    }
   ],
   "source": [
    "url = \"http://localhost:8983/solr/admin/cores?action=REINDEXCOLLECTION&name=authorities\"\n",
    "r = httpx.post(url)\n",
    "r\n",
    "\n",
    "json_data = {\n",
    "    'action': {\n",
    "        'name': 'authorities',\n",
    "        'configSet': '_default',\n",
    "    },\n",
    "}\n",
    "r = \"http://localhost:8983/solr/admin/collections?action=REINDEXCOLLECTION&name=techproducts_v2\"\n"
   ]
  },
  {
   "cell_type": "code",
   "execution_count": 2,
   "metadata": {},
   "outputs": [
    {
     "data": {
      "text/plain": [
       "'{\\n  \"responseHeader\":{\\n    \"zkConnected\":null,\\n    \"status\":0,\\n    \"QTime\":5,\\n    \"params\":{\\n      \"q\":\"{!lucene}*:*\",\\n      \"distrib\":\"false\",\\n      \"df\":\"_text_\",\\n      \"rows\":\"10\",\\n      \"echoParams\":\"all\",\\n      \"rid\":\"localhost-2\"}},\\n  \"status\":\"OK\"}\\n'"
      ]
     },
     "execution_count": 2,
     "metadata": {},
     "output_type": "execute_result"
    }
   ],
   "source": [
    "solr = Solr('http://localhost:8983/solr/authorities/', timeout=10)\n",
    "solr.ping()"
   ]
  },
  {
   "cell_type": "code",
   "execution_count": 3,
   "metadata": {},
   "outputs": [],
   "source": [
    "r = solr.search(q=\"*:*\")"
   ]
  },
  {
   "cell_type": "code",
   "execution_count": 5,
   "metadata": {},
   "outputs": [
    {
     "data": {
      "text/plain": [
       "[{'id': 'sh85103704',\n",
       "  'type': ['Topic'],\n",
       "  'authority': ['Poesia'],\n",
       "  'variants': ['Poesia - Filosofia', 'Poemas', 'Versos (Poesia)'],\n",
       "  'broaders': ['Literatura'],\n",
       "  'narrowers': ['Estrofes',\n",
       "   'poesia natalina',\n",
       "   'poesia infantil',\n",
       "   'Triveni',\n",
       "   'Poesia macarrônica',\n",
       "   'poesia religiosa',\n",
       "   'Poesia dos lugares',\n",
       "   'Poesia política',\n",
       "   'Poesia de dialeto',\n",
       "   'poesia de rua',\n",
       "   'poesia visual',\n",
       "   'Poesia biográfica',\n",
       "   'Poesia patriótica',\n",
       "   'centavos',\n",
       "   'hinos',\n",
       "   'Verso livre',\n",
       "   'Poesia elegíaca',\n",
       "   'poesia imagista',\n",
       "   'poesia especulativa',\n",
       "   'Poesia encontrada',\n",
       "   'poesia experimental',\n",
       "   'Poesia, Moderna',\n",
       "   'baladas',\n",
       "   'Escaldões e poesia escaldante',\n",
       "   'verso autógrafo',\n",
       "   'Poesia da Nova Era',\n",
       "   'Abecedários',\n",
       "   'poesia de hipertexto',\n",
       "   'verso alexandrino',\n",
       "   'poesia de fadas',\n",
       "   'verso ocasional',\n",
       "   'poesia pastoral',\n",
       "   'lanternas',\n",
       "   'poesia narrativa',\n",
       "   'nazms',\n",
       "   'Sestinas',\n",
       "   'Sestetos',\n",
       "   'poesia dadaísta',\n",
       "   'Poesia anti-guerra',\n",
       "   'Lausavísur',\n",
       "   'posturas',\n",
       "   'Eddas',\n",
       "   'poesia do mar',\n",
       "   'licença poética',\n",
       "   'verso da faculdade',\n",
       "   'Poesia anapésica',\n",
       "   'Epigramas',\n",
       "   'Poesia didática',\n",
       "   'verso da sociedade',\n",
       "   'Bardos e bardismo',\n",
       "   'Poesia gótica (gênero literário)',\n",
       "   'verso escolar',\n",
       "   'Poesia batida',\n",
       "   'poesia noir',\n",
       "   'Refrão',\n",
       "   'literatura macarrônica',\n",
       "   'Poesia batética',\n",
       "   'liturgia e poesia',\n",
       "   'Poesia histórica',\n",
       "   'Odes',\n",
       "   'Poesia sonora',\n",
       "   'poesia de amor',\n",
       "   'Poesia laudatória',\n",
       "   'dáctilos duplos',\n",
       "   'Poesia documental',\n",
       "   'Poesia de terror',\n",
       "   'Rimur',\n",
       "   'Poesia lírica',\n",
       "   'verso de eco',\n",
       "   'Rondels',\n",
       "   'Poesia de protesto',\n",
       "   'Renshi (Poesia)',\n",
       "   'Ottava rimas',\n",
       "   'Poesia fantasiosa',\n",
       "   'Poesia épica',\n",
       "   'Monósticos',\n",
       "   'Poesia de ficção científica',\n",
       "   'madrigais',\n",
       "   'Poesia de computador',\n",
       "   'dísticos',\n",
       "   'Pastourelles',\n",
       "   'Verso sátira',\n",
       "   'Poemas em prosa',\n",
       "   'Doggerel',\n",
       "   'poesia iâmbica',\n",
       "   'Nazires',\n",
       "   'poesia jesuíta',\n",
       "   'Verso em branco',\n",
       "   'Magia e poesia',\n",
       "   'haicai',\n",
       "   'poesia feminista',\n",
       "   'Poesia autobiográfica',\n",
       "   'poesia de debate',\n",
       "   'poesia gnômica',\n",
       "   'Títulos de poemas',\n",
       "   'sáficos',\n",
       "   'poesia anacreôntica',\n",
       "   'misticismo e poesia',\n",
       "   'baladas',\n",
       "   'heroides',\n",
       "   'Quadras',\n",
       "   'rondeaus',\n",
       "   'Listar poesia',\n",
       "   'poesia de guerra',\n",
       "   'Poesia falada',\n",
       "   'coplas',\n",
       "   'poesia obscena',\n",
       "   'desesperado',\n",
       "   'Palinódia',\n",
       "   'poesia concreta',\n",
       "   'Poesia seriada',\n",
       "   'Poesia de reclamação',\n",
       "   'Rengay',\n",
       "   'diários poéticos',\n",
       "   'Vilanelas',\n",
       "   'Limericks',\n",
       "   'poesia erótica',\n",
       "   'Linguagem poesia',\n",
       "   'verso ropalico',\n",
       "   'Cinquains',\n",
       "   'Poesia humorística',\n",
       "   'Clerihews',\n",
       "   'poesia epistolar',\n",
       "   'Poesia para jovens adultos'],\n",
       "  '_version_': 1756362639049490432},\n",
       " {'id': 'n79029745',\n",
       "  'type': ['PersonalName'],\n",
       "  'name': ['Poe, Edgar Allan, 1809-1849'],\n",
       "  'variants': ['Po, Edgar, 1809-1849',\n",
       "   'Boy, Ētkar, 1809-1849',\n",
       "   'Poe, E. A. (Edgar Allan), 1809-1849',\n",
       "   'Poë, Edgard, 1809-1849',\n",
       "   'Pui, ʼAggā ʼAyʻlaṅʻ, 1809-1849',\n",
       "   'Pō, Eḍgār Ālen, 1809-1849',\n",
       "   'Po, Edhar, 1809-1849',\n",
       "   'Poe, Edgar Allen, 1809-1849',\n",
       "   'Perry, Edgar A., 1809-1849',\n",
       "   'По, Эдгар Аллан, 1809-1849',\n",
       "   'По, Эдгар, 1809-1849',\n",
       "   'פאו, עדגאר עלען',\n",
       "   'פאו, עדגאר עלען, 1809-1849',\n",
       "   'פא, אדגאר אלאן',\n",
       "   'פא, עדגאר',\n",
       "   'פא, עדגאר עלען, 1809־1849',\n",
       "   'פו, אדגר',\n",
       "   'פו, אדגר אלן',\n",
       "   'פו, אדגר אלן, 1809־1849',\n",
       "   'פו, אדגר אלן, 1849־1809',\n",
       "   'アランポオ, 1809-1849',\n",
       "   '愛倫坡, 1809-1849',\n",
       "   'Po, Ailun, 1809-1849',\n",
       "   'Quarles, 1809-1849'],\n",
       "  'contributorTo': ['https://bibliokeia.com/resources/work/bk-1'],\n",
       "  '_version_': 1756368606146330624}]"
      ]
     },
     "execution_count": 5,
     "metadata": {},
     "output_type": "execute_result"
    }
   ],
   "source": [
    "r.docs"
   ]
  },
  {
   "cell_type": "code",
   "execution_count": 4,
   "metadata": {},
   "outputs": [
    {
     "data": {
      "text/plain": [
       "'<?xml version=\"1.0\" encoding=\"UTF-8\"?>\\n<response>\\n\\n<lst name=\"responseHeader\">\\n  <int name=\"status\">0</int>\\n  <int name=\"QTime\">207</int>\\n</lst>\\n</response>\\n'"
      ]
     },
     "execution_count": 4,
     "metadata": {},
     "output_type": "execute_result"
    }
   ],
   "source": [
    "solr.delete(q='*:*')"
   ]
  },
  {
   "cell_type": "code",
   "execution_count": 5,
   "metadata": {},
   "outputs": [
    {
     "data": {
      "text/plain": [
       "'{\\n  \"responseHeader\":{\\n    \"status\":0,\\n    \"QTime\":110}}\\n'"
      ]
     },
     "execution_count": 5,
     "metadata": {},
     "output_type": "execute_result"
    }
   ],
   "source": [
    "work = {\n",
    "        \"id\": \"wk-bk-23-4\",\n",
    "        \"hasInstance\": {\"add\": [f\"in-bk-23-5\"]}, \n",
    "    }\n",
    "\n",
    "solr.add([work], commit=True)"
   ]
  }
 ],
 "metadata": {
  "kernelspec": {
   "display_name": "venv",
   "language": "python",
   "name": "python3"
  },
  "language_info": {
   "codemirror_mode": {
    "name": "ipython",
    "version": 3
   },
   "file_extension": ".py",
   "mimetype": "text/x-python",
   "name": "python",
   "nbconvert_exporter": "python",
   "pygments_lexer": "ipython3",
   "version": "3.10.4"
  },
  "orig_nbformat": 4,
  "vscode": {
   "interpreter": {
    "hash": "7c803f0ee3b2b2cd03f94fb28d6f360d094e6843888122798203f226e128b66e"
   }
  }
 },
 "nbformat": 4,
 "nbformat_minor": 2
}
