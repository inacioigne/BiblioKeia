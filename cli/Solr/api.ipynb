{
 "cells": [
  {
   "cell_type": "code",
   "execution_count": 1,
   "metadata": {},
   "outputs": [],
   "source": [
    "import httpx\n",
    "from pysolr import Solr"
   ]
  },
  {
   "attachments": {},
   "cell_type": "markdown",
   "metadata": {},
   "source": [
    "CREATE CORE"
   ]
  },
  {
   "cell_type": "code",
   "execution_count": 2,
   "metadata": {},
   "outputs": [
    {
     "data": {
      "text/plain": [
       "<Response [200 OK]>"
      ]
     },
     "execution_count": 2,
     "metadata": {},
     "output_type": "execute_result"
    }
   ],
   "source": [
    "headers = {\n",
    "    'Content-Type': 'application/json',\n",
    "}\n",
    "\n",
    "json_data = {\n",
    "    'create': {\n",
    "        'name': 'authorities',\n",
    "        'configSet': '_default',\n",
    "    },\n",
    "}\n",
    "\n",
    "response = httpx.post('http://localhost:8983/api/cores', headers=headers, json=json_data)\n",
    "response"
   ]
  },
  {
   "cell_type": "code",
   "execution_count": 6,
   "metadata": {},
   "outputs": [
    {
     "data": {
      "text/plain": [
       "<Response [200 OK]>"
      ]
     },
     "execution_count": 6,
     "metadata": {},
     "output_type": "execute_result"
    }
   ],
   "source": [
    "headers = {\n",
    "    'Content-Type': 'application/json',\n",
    "}\n",
    "\n",
    "json_data = {\n",
    "    'create': {\n",
    "        'name': 'subjects',\n",
    "        'configSet': '_default',\n",
    "    },\n",
    "}\n",
    "\n",
    "response = httpx.post('http://localhost:8983/api/cores', headers=headers, json=json_data, timeout=20)\n",
    "response"
   ]
  },
  {
   "cell_type": "code",
   "execution_count": 2,
   "metadata": {},
   "outputs": [
    {
     "data": {
      "text/plain": [
       "<Response [200 OK]>"
      ]
     },
     "execution_count": 2,
     "metadata": {},
     "output_type": "execute_result"
    }
   ],
   "source": [
    "headers = {\n",
    "    'Content-Type': 'application/json',\n",
    "}\n",
    "\n",
    "json_data = {\n",
    "    'create': {\n",
    "        'name': 'acervo',\n",
    "        'configSet': '_default',\n",
    "    },\n",
    "}\n",
    "\n",
    "response = httpx.post('http://localhost:8983/api/cores', headers=headers, json=json_data, timeout=20)\n",
    "response"
   ]
  },
  {
   "cell_type": "code",
   "execution_count": 3,
   "metadata": {},
   "outputs": [
    {
     "data": {
      "text/plain": [
       "'{\\n  \"responseHeader\":{\\n    \"zkConnected\":null,\\n    \"status\":0,\\n    \"QTime\":23,\\n    \"params\":{\\n      \"q\":\"{!lucene}*:*\",\\n      \"distrib\":\"false\",\\n      \"df\":\"_text_\",\\n      \"rows\":\"10\",\\n      \"echoParams\":\"all\",\\n      \"rid\":\"localhost-18\"}},\\n  \"status\":\"OK\"}\\n'"
      ]
     },
     "execution_count": 3,
     "metadata": {},
     "output_type": "execute_result"
    }
   ],
   "source": [
    "solr = Solr('http://localhost:8983/solr/acervo/', timeout=10)\n",
    "solr.ping()"
   ]
  },
  {
   "cell_type": "code",
   "execution_count": 3,
   "metadata": {},
   "outputs": [],
   "source": [
    "from rdflib import Graph"
   ]
  },
  {
   "cell_type": "code",
   "execution_count": 4,
   "metadata": {},
   "outputs": [
    {
     "data": {
      "text/plain": [
       "<Graph identifier=N6456db544e6b4fc6a5191c115dc43b2a (<class 'rdflib.graph.Graph'>)>"
      ]
     },
     "execution_count": 4,
     "metadata": {},
     "output_type": "execute_result"
    }
   ],
   "source": [
    "g = Graph()\n",
    "token = \"n80002329\"\n",
    "rdf = f'https://id.loc.gov/authorities/names/{token}.madsrdf.rdf'\n",
    "g.parse(rdf)  "
   ]
  },
  {
   "cell_type": "code",
   "execution_count": 12,
   "metadata": {},
   "outputs": [
    {
     "data": {
      "text/plain": [
       "<Graph identifier=N2d15a036cefb44b1a0ee7ad1835773e8 (<class 'rdflib.graph.Graph'>)>"
      ]
     },
     "execution_count": 12,
     "metadata": {},
     "output_type": "execute_result"
    }
   ],
   "source": [
    "g.serialize(\"machado.ttl\")"
   ]
  },
  {
   "cell_type": "code",
   "execution_count": 50,
   "metadata": {},
   "outputs": [
    {
     "name": "stdout",
     "output_type": "stream",
     "text": [
      "Assis, Joaquim Maria Machado de, 1839-1908\n",
      "Assis, Machado de, 1839-1908\n",
      "De Assis, Joaquim Maria Machado, 1839-1908\n",
      "De Assis, Machado, 1839-1908\n",
      "Machado de Assis, Joaquim Maria, 1839-1908\n",
      "Machado de Assis, Joaquín María, 1839-1908\n",
      "Mashado de Assiz, Zhoakin, 1839-1908\n"
     ]
    }
   ],
   "source": [
    "q = \"\"\"\n",
    "PREFIX lc: <http://id.loc.gov/authorities/names/>\n",
    "PREFIX madsrdf:  <http://www.loc.gov/mads/rdf/v1#> \n",
    "PREFIX rdfs: <http://www.w3.org/2000/01/rdf-schema#>\n",
    "SELECT  ?variantLabel\n",
    "WHERE { lc:\"\"\"+token+\" madsrdf:hasVariant ?o . \\\n",
    "?o madsrdf:variantLabel ?variantLabel . }\"\n",
    "\n",
    "r = g.query(q)\n",
    "for i in r:\n",
    "    print(i.variantLabel.value)"
   ]
  },
  {
   "cell_type": "code",
   "execution_count": 5,
   "metadata": {},
   "outputs": [
    {
     "data": {
      "text/plain": [
       "{'id': 'n80002329',\n",
       " 'type': 'PersonalName',\n",
       " 'name': 'Machado de Assis, 1839-1908',\n",
       " 'fullerName': 'Joaquim Maria Machado',\n",
       " 'variants': ['Assis, Joaquim Maria Machado de, 1839-1908',\n",
       "  'Assis, Machado de, 1839-1908',\n",
       "  'De Assis, Joaquim Maria Machado, 1839-1908',\n",
       "  'De Assis, Machado, 1839-1908',\n",
       "  'Machado de Assis, Joaquim Maria, 1839-1908',\n",
       "  'Machado de Assis, Joaquín María, 1839-1908',\n",
       "  'Mashado de Assiz, Zhoakin, 1839-1908']}"
      ]
     },
     "execution_count": 5,
     "metadata": {},
     "output_type": "execute_result"
    }
   ],
   "source": [
    "def DocName(g, token):\n",
    "\n",
    "    doc = {\"id\": token, \"type\": \"PersonalName\" }\n",
    "\n",
    "    qName = \"\"\"\n",
    "PREFIX lc: <http://id.loc.gov/authorities/names/>\n",
    "PREFIX madsrdf:  <http://www.loc.gov/mads/rdf/v1#> \n",
    "SELECT  ?o\n",
    "WHERE { lc:\"\"\"+token+\" madsrdf:authoritativeLabel ?o}\"\n",
    "\n",
    "    r = g.query(qName)\n",
    "\n",
    "    for i in r:\n",
    "        doc['name'] = i.o.value\n",
    "\n",
    "    qFullerName = \"\"\"\n",
    "PREFIX lc: <http://id.loc.gov/authorities/names/>\n",
    "PREFIX madsrdf:  <http://www.loc.gov/mads/rdf/v1#> \n",
    "PREFIX rdfs: <http://www.w3.org/2000/01/rdf-schema#>\n",
    "SELECT  ?fullerName\n",
    "WHERE { lc:\"\"\"+token+\" madsrdf:fullerName ?o . \\\n",
    "?o rdfs:label ?fullerName . }\"\n",
    "\n",
    "    r = g.query(qFullerName)\n",
    "\n",
    "    for i in r:\n",
    "        doc['fullerName'] = i.fullerName.value\n",
    "    \n",
    "    qVariantes = \"\"\"\n",
    "PREFIX lc: <http://id.loc.gov/authorities/names/>\n",
    "PREFIX madsrdf:  <http://www.loc.gov/mads/rdf/v1#> \n",
    "PREFIX rdfs: <http://www.w3.org/2000/01/rdf-schema#>\n",
    "SELECT  ?variantLabel\n",
    "WHERE { lc:\"\"\"+token+\" madsrdf:hasVariant ?o . \\\n",
    "?o madsrdf:variantLabel ?variantLabel . }\"\n",
    "\n",
    "    r = g.query(qVariantes)\n",
    "\n",
    "    variants = list()\n",
    "    for i in r:\n",
    "        variants.append(i.variantLabel.value)\n",
    "    doc[\"variants\"] = variants\n",
    "    \n",
    "    return doc\n",
    "\n",
    "doc = DocName(g, token)   \n",
    "doc\n"
   ]
  },
  {
   "cell_type": "code",
   "execution_count": 9,
   "metadata": {},
   "outputs": [
    {
     "data": {
      "text/plain": [
       "'{\\n  \"responseHeader\":{\\n    \"status\":0,\\n    \"QTime\":1418}}\\n'"
      ]
     },
     "execution_count": 9,
     "metadata": {},
     "output_type": "execute_result"
    }
   ],
   "source": [
    "solr.add([doc], commit=True)"
   ]
  },
  {
   "cell_type": "code",
   "execution_count": 3,
   "metadata": {},
   "outputs": [
    {
     "data": {
      "text/plain": [
       "'<?xml version=\"1.0\" encoding=\"UTF-8\"?>\\n<response>\\n\\n<lst name=\"responseHeader\">\\n  <int name=\"status\">0</int>\\n  <int name=\"QTime\">329</int>\\n</lst>\\n</response>\\n'"
      ]
     },
     "execution_count": 3,
     "metadata": {},
     "output_type": "execute_result"
    }
   ],
   "source": [
    "solr.delete(q='*:*')"
   ]
  },
  {
   "cell_type": "code",
   "execution_count": 5,
   "metadata": {},
   "outputs": [
    {
     "data": {
      "text/plain": [
       "'{\\n  \"responseHeader\":{\\n    \"status\":0,\\n    \"QTime\":110}}\\n'"
      ]
     },
     "execution_count": 5,
     "metadata": {},
     "output_type": "execute_result"
    }
   ],
   "source": [
    "work = {\n",
    "        \"id\": \"wk-bk-23-4\",\n",
    "        \"hasInstance\": {\"add\": [f\"in-bk-23-5\"]}, \n",
    "    }\n",
    "\n",
    "solr.add([work], commit=True)"
   ]
  }
 ],
 "metadata": {
  "kernelspec": {
   "display_name": "venv",
   "language": "python",
   "name": "python3"
  },
  "language_info": {
   "codemirror_mode": {
    "name": "ipython",
    "version": 3
   },
   "file_extension": ".py",
   "mimetype": "text/x-python",
   "name": "python",
   "nbconvert_exporter": "python",
   "pygments_lexer": "ipython3",
   "version": "3.10.4 (tags/v3.10.4:9d38120, Mar 23 2022, 23:13:41) [MSC v.1929 64 bit (AMD64)]"
  },
  "orig_nbformat": 4,
  "vscode": {
   "interpreter": {
    "hash": "7c803f0ee3b2b2cd03f94fb28d6f360d094e6843888122798203f226e128b66e"
   }
  }
 },
 "nbformat": 4,
 "nbformat_minor": 2
}
