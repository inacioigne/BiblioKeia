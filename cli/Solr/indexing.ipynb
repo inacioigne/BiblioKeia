{
 "cells": [
  {
   "cell_type": "code",
   "execution_count": 1,
   "metadata": {},
   "outputs": [],
   "source": [
    "import httpx\n",
    "import pysolr"
   ]
  },
  {
   "cell_type": "code",
   "execution_count": 2,
   "metadata": {},
   "outputs": [
    {
     "data": {
      "text/plain": [
       "'{\\n  \"responseHeader\":{\\n    \"zkConnected\":null,\\n    \"status\":0,\\n    \"QTime\":65,\\n    \"params\":{\\n      \"q\":\"{!lucene}*:*\",\\n      \"distrib\":\"false\",\\n      \"df\":\"_text_\",\\n      \"rows\":\"10\",\\n      \"echoParams\":\"all\",\\n      \"rid\":\"localhost-0\"}},\\n  \"status\":\"OK\"}\\n'"
      ]
     },
     "execution_count": 2,
     "metadata": {},
     "output_type": "execute_result"
    }
   ],
   "source": [
    "#SOLR\n",
    "solr = pysolr.Solr('http://localhost:8983/solr/search/', timeout=10)\n",
    "solr.ping()"
   ]
  },
  {
   "cell_type": "code",
   "execution_count": null,
   "metadata": {},
   "outputs": [],
   "source": [
    "d = {'*'}"
   ]
  },
  {
   "cell_type": "code",
   "execution_count": 5,
   "metadata": {},
   "outputs": [
    {
     "data": {
      "text/plain": [
       "[{'id': '1',\n",
       "  'call': ['001 P831c'],\n",
       "  'shelf': ['E1.P1'],\n",
       "  'title': ['Conjecturas e refutações'],\n",
       "  'responsibilities': ['Karl R. Popper; tradução de Sérgio Bath.'],\n",
       "  'place': ['Brasília'],\n",
       "  'publisher': ['Ed. Universidade de Brasília'],\n",
       "  'subject': ['Ciência--Metodologia', 'Teoria do conhecimento'],\n",
       "  'type': ['Livro'],\n",
       "  'items': ['01-0519'],\n",
       "  'author': ['Popper, Karl Raimund'],\n",
       "  'serie': ['Pensamento científico ; n. 1'],\n",
       "  'year': [1982],\n",
       "  '_version_': 1743433721568034816},\n",
       " {'id': '2',\n",
       "  'call': ['001.0141 D687'],\n",
       "  'shelf': ['E1.P1'],\n",
       "  'title': ['Os donos da paisagem : estudos sobre divulgação científica'],\n",
       "  'responsibilities': ['Glória Kreinz, Crodowaldo Pavan, organizadores.'],\n",
       "  'place': ['São Paulo'],\n",
       "  'publisher': ['NJR/ECA/USP'],\n",
       "  'subject': ['Divulgação científica'],\n",
       "  'type': ['Livro'],\n",
       "  'items': ['01-0478'],\n",
       "  'serie': ['Divulgação Científica ; v. 3'],\n",
       "  'year': [2000],\n",
       "  '_version_': 1743433721655066624},\n",
       " {'id': '3',\n",
       "  'call': ['001.14 C776'],\n",
       "  'shelf': ['E1.P1'],\n",
       "  'title': ['Cooperação Brasil-França : meio ambiente ='],\n",
       "  'responsibilities': ['Ministère des affaires Etrangères, Ambassade de France en Brésil.'],\n",
       "  'place': ['Paris'],\n",
       "  'publisher': ['Ministère des Affaires Etrangères, Ambassade de France en Brésil'],\n",
       "  'subject': ['Ciências ambientais--Cooperação internacional'],\n",
       "  'type': ['Livro'],\n",
       "  'items': ['95-0006'],\n",
       "  'year': [1994],\n",
       "  '_version_': 1743433721657163776},\n",
       " {'id': '4',\n",
       "  'call': ['001.4 B588p'],\n",
       "  'shelf': ['E1.P1'],\n",
       "  'title': ['<I=     1> Bienal de Pesquisa da Fundação Oswaldo Cruz, 7 a 11 de dezembro de 1998.'],\n",
       "  'responsibilities': ['false'],\n",
       "  'place': ['[Rio de Janeiro]'],\n",
       "  'publisher': ['FIOCRUZ'],\n",
       "  'subject': ['Pesquisa--Congressos',\n",
       "   'Pesquisa--Brasil',\n",
       "   'Saúde pública--Brasil'],\n",
       "  'type': ['Livro'],\n",
       "  'items': ['03-0107'],\n",
       "  'year': [1998],\n",
       "  '_version_': 1743433721659260928},\n",
       " {'id': '5',\n",
       "  'call': ['001.4 B823c'],\n",
       "  'shelf': ['E1.P1'],\n",
       "  'title': ['Contribuição da pós-graduação brasileira para o desenvolvimento sustentável : capes na rio+20'],\n",
       "  'responsibilities': ['Coordenadores Arlindo Philippi Jr,, Maria do Carmo Martins Sobral.'],\n",
       "  'place': ['Brasília'],\n",
       "  'publisher': ['Capes'],\n",
       "  'subject': ['Desenvolvimento sustentável', 'Pesquisa científica'],\n",
       "  'type': ['Livro'],\n",
       "  'items': ['13-0348', '13-0349', '13-0350', '13-0351'],\n",
       "  'year': [2012],\n",
       "  '_version_': 1743433721661358080},\n",
       " {'id': '6',\n",
       "  'call': ['001.4 F218h'],\n",
       "  'shelf': ['E1.P1'],\n",
       "  'title': ['FAPESP:  uma história de política científica e tecnológica'],\n",
       "  'responsibilities': ['Fundação de Amparo à Pesquisa do Estado de São Paulo. '],\n",
       "  'place': ['São Paulo'],\n",
       "  'publisher': ['FAPESP'],\n",
       "  'subject': ['Pesquisa e Subdesenvolvimento',\n",
       "   'FAPESP e globalização. ',\n",
       "   'Desafios institucionais'],\n",
       "  'type': ['Livro'],\n",
       "  'items': ['INPA.2014.137'],\n",
       "  'year': [1999],\n",
       "  '_version_': 1743433721662406656},\n",
       " {'id': '7',\n",
       "  'call': ['001.4 F218p'],\n",
       "  'shelf': ['E1.P1'],\n",
       "  'title': ['Para uma história da FAPESP:  marcos documentais'],\n",
       "  'responsibilities': ['(Org.) Shozo Motoyama, Amélia Império Hamburger, Marilda Nagamini.'],\n",
       "  'place': ['São Paulo'],\n",
       "  'publisher': ['FAPESP'],\n",
       "  'subject': ['Ciência e pesquisa--São Paulo. ',\n",
       "   'Política científica e tecnológica',\n",
       "   'Ciência e tecnologia. '],\n",
       "  'type': ['Livro'],\n",
       "  'items': ['INPA.2014.135'],\n",
       "  'year': [1999],\n",
       "  '_version_': 1743433721663455232},\n",
       " {'id': '8',\n",
       "  'call': ['001.4 F981'],\n",
       "  'shelf': ['E1.P1'],\n",
       "  'title': ['Relatório de atividades 2003-2008'],\n",
       "  'responsibilities': ['Fundação de Amparo à Pesquisa do Estado do Amazonas.'],\n",
       "  'place': ['Manaus'],\n",
       "  'publisher': ['Fapeam'],\n",
       "  'subject': ['Relatório de atividades--Fapeam--2003-2008'],\n",
       "  'type': ['Livro'],\n",
       "  'items': ['14-0355'],\n",
       "  'year': [2009],\n",
       "  '_version_': 1743433721664503808},\n",
       " {'id': '9',\n",
       "  'call': ['001.4 J82'],\n",
       "  'shelf': ['E1.P1'],\n",
       "  'title': ['V Jornada científica de pos-graduação da FIOCRUZ:  anais'],\n",
       "  'responsibilities': ['false'],\n",
       "  'place': ['Rio de Janeiro'],\n",
       "  'publisher': ['FIOCRUZ'],\n",
       "  'subject': ['Ciência--Congressos', 'Pesquisa--Congressos'],\n",
       "  'type': ['Livro'],\n",
       "  'items': ['08-0028'],\n",
       "  'year': [1999],\n",
       "  '_version_': 1743433721665552384},\n",
       " {'id': '10',\n",
       "  'call': ['001.4 J82a'],\n",
       "  'shelf': ['E1.P1'],\n",
       "  'title': ['Anais'],\n",
       "  'responsibilities': ['III Jornada científica da Fundação Oswaldo Cruz.'],\n",
       "  'place': ['[Rio de Janeiro]'],\n",
       "  'publisher': ['FIOCRUZ'],\n",
       "  'subject': ['Ciência--Congressos', 'Pesquisa--Congressos'],\n",
       "  'type': ['Livro'],\n",
       "  'items': ['02-1641'],\n",
       "  'year': [1985],\n",
       "  '_version_': 1743433721666600960}]"
      ]
     },
     "execution_count": 5,
     "metadata": {},
     "output_type": "execute_result"
    }
   ],
   "source": [
    "results = solr.search('*:*')\n",
    "results.docs"
   ]
  },
  {
   "cell_type": "code",
   "execution_count": 37,
   "metadata": {},
   "outputs": [],
   "source": [
    "url = 'http://localhost:8983/solr/search/select?indent=true&q.op=OR&q=*%3A*&wt=json'"
   ]
  },
  {
   "cell_type": "code",
   "execution_count": 38,
   "metadata": {},
   "outputs": [
    {
     "data": {
      "text/plain": [
       "<Response [200 OK]>"
      ]
     },
     "execution_count": 38,
     "metadata": {},
     "output_type": "execute_result"
    }
   ],
   "source": [
    "r = httpx.get(url)\n",
    "r"
   ]
  },
  {
   "cell_type": "code",
   "execution_count": 39,
   "metadata": {},
   "outputs": [
    {
     "data": {
      "text/plain": [
       "{'responseHeader': {'status': 0,\n",
       "  'QTime': 0,\n",
       "  'params': {'q': '*:*', 'indent': 'true', 'q.op': 'OR', 'wt': 'json'}},\n",
       " 'response': {'numFound': 18,\n",
       "  'start': 0,\n",
       "  'numFoundExact': True,\n",
       "  'docs': [{'id': '1',\n",
       "    'call': ['001 P831c'],\n",
       "    'shelf': ['E1.P1'],\n",
       "    'title': 'Conjecturas e refutações',\n",
       "    'responsibilities': ['Karl R. Popper; tradução de Sérgio Bath.'],\n",
       "    'place': ['Brasília'],\n",
       "    'publisher': ['Ed. Universidade de Brasília'],\n",
       "    'year': [1982],\n",
       "    'subject': ['Ciência--Metodologia', 'Teoria do conhecimento'],\n",
       "    'type': ['Livro'],\n",
       "    'items': ['01-0519'],\n",
       "    'author': 'Popper, Karl Raimund',\n",
       "    'serie': ['Pensamento científico ; n. 1'],\n",
       "    '_version_': 1741985716104069120},\n",
       "   {'id': '2',\n",
       "    'call': ['001.0141 D687'],\n",
       "    'shelf': ['E1.P1'],\n",
       "    'title': 'Os donos da paisagem : estudos sobre divulgação científica',\n",
       "    'responsibilities': ['Glória Kreinz, Crodowaldo Pavan, organizadores.'],\n",
       "    'place': ['São Paulo'],\n",
       "    'publisher': ['NJR/ECA/USP'],\n",
       "    'year': [2000],\n",
       "    'subject': ['Divulgação científica'],\n",
       "    'type': ['Livro'],\n",
       "    'items': ['01-0478'],\n",
       "    'serie': ['Divulgação Científica ; v. 3'],\n",
       "    '_version_': 1741985716331610112},\n",
       "   {'id': '3',\n",
       "    'call': ['001.14 C776'],\n",
       "    'shelf': ['E1.P1'],\n",
       "    'title': 'Cooperação Brasil-França : meio ambiente =',\n",
       "    'responsibilities': ['Ministère des affaires Etrangères, Ambassade de France en Brésil.'],\n",
       "    'place': ['Paris'],\n",
       "    'publisher': ['Ministère des Affaires Etrangères, Ambassade de France en Brésil'],\n",
       "    'year': [1994],\n",
       "    'subject': ['Ciências ambientais--Cooperação internacional'],\n",
       "    'type': ['Livro'],\n",
       "    'items': ['95-0006'],\n",
       "    '_version_': 1741985716524548096},\n",
       "   {'id': '4',\n",
       "    'call': ['001.4 B588p'],\n",
       "    'shelf': ['E1.P1'],\n",
       "    'title': '<I=     1> Bienal de Pesquisa da Fundação Oswaldo Cruz, 7 a 11 de dezembro de 1998.',\n",
       "    'responsibilities': ['false'],\n",
       "    'place': ['[Rio de Janeiro]'],\n",
       "    'publisher': ['FIOCRUZ'],\n",
       "    'year': [1998],\n",
       "    'subject': ['Pesquisa--Congressos',\n",
       "     'Pesquisa--Brasil',\n",
       "     'Saúde pública--Brasil'],\n",
       "    'type': ['Livro'],\n",
       "    'items': ['03-0107'],\n",
       "    '_version_': 1741985716730068992},\n",
       "   {'id': '5',\n",
       "    'call': ['001.4 B823c'],\n",
       "    'shelf': ['E1.P1'],\n",
       "    'title': 'Contribuição da pós-graduação brasileira para o desenvolvimento sustentável : capes na rio+20',\n",
       "    'responsibilities': ['Coordenadores Arlindo Philippi Jr,, Maria do Carmo Martins Sobral.'],\n",
       "    'place': ['Brasília'],\n",
       "    'publisher': ['Capes'],\n",
       "    'year': [2012],\n",
       "    'subject': ['Desenvolvimento sustentável', 'Pesquisa científica'],\n",
       "    'type': ['Livro'],\n",
       "    'items': ['13-0348', '13-0349', '13-0350', '13-0351'],\n",
       "    '_version_': 1741985717121187840},\n",
       "   {'id': '6',\n",
       "    'call': ['001.4 F218h'],\n",
       "    'shelf': ['E1.P1'],\n",
       "    'title': 'FAPESP:  uma história de política científica e tecnológica',\n",
       "    'responsibilities': ['Fundação de Amparo à Pesquisa do Estado de São Paulo. '],\n",
       "    'place': ['São Paulo'],\n",
       "    'publisher': ['FAPESP'],\n",
       "    'year': [1999],\n",
       "    'subject': ['Pesquisa e Subdesenvolvimento',\n",
       "     'FAPESP e globalização. ',\n",
       "     'Desafios institucionais'],\n",
       "    'type': ['Livro'],\n",
       "    'items': ['INPA.2014.137'],\n",
       "    '_version_': 1741985717326708736},\n",
       "   {'id': '7',\n",
       "    'call': ['001.4 F218p'],\n",
       "    'shelf': ['E1.P1'],\n",
       "    'title': 'Para uma história da FAPESP:  marcos documentais',\n",
       "    'responsibilities': ['(Org.) Shozo Motoyama, Amélia Império Hamburger, Marilda Nagamini.'],\n",
       "    'place': ['São Paulo'],\n",
       "    'publisher': ['FAPESP'],\n",
       "    'year': [1999],\n",
       "    'subject': ['Ciência e pesquisa--São Paulo. ',\n",
       "     'Política científica e tecnológica',\n",
       "     'Ciência e tecnologia. '],\n",
       "    'type': ['Livro'],\n",
       "    'items': ['INPA.2014.135'],\n",
       "    '_version_': 1741985717535375360},\n",
       "   {'id': '8',\n",
       "    'call': ['001.4 F981'],\n",
       "    'shelf': ['E1.P1'],\n",
       "    'title': 'Relatório de atividades 2003-2008',\n",
       "    'responsibilities': ['Fundação de Amparo à Pesquisa do Estado do Amazonas.'],\n",
       "    'place': ['Manaus'],\n",
       "    'publisher': ['Fapeam'],\n",
       "    'year': [2009],\n",
       "    'subject': ['Relatório de atividades--Fapeam--2003-2008'],\n",
       "    'type': ['Livro'],\n",
       "    'items': ['14-0355'],\n",
       "    '_version_': 1741985717716779008},\n",
       "   {'id': '9',\n",
       "    'call': ['001.4 J82'],\n",
       "    'shelf': ['E1.P1'],\n",
       "    'title': 'V Jornada científica de pos-graduação da FIOCRUZ:  anais',\n",
       "    'responsibilities': ['false'],\n",
       "    'place': ['Rio de Janeiro'],\n",
       "    'publisher': ['FIOCRUZ'],\n",
       "    'year': [1999],\n",
       "    'subject': ['Ciência--Congressos', 'Pesquisa--Congressos'],\n",
       "    'type': ['Livro'],\n",
       "    'items': ['08-0028'],\n",
       "    '_version_': 1741985717904474112},\n",
       "   {'id': '10',\n",
       "    'call': ['001.4 J82a'],\n",
       "    'shelf': ['E1.P1'],\n",
       "    'title': 'Anais',\n",
       "    'responsibilities': ['III Jornada científica da Fundação Oswaldo Cruz.'],\n",
       "    'place': ['[Rio de Janeiro]'],\n",
       "    'publisher': ['FIOCRUZ'],\n",
       "    'year': [1985],\n",
       "    'subject': ['Ciência--Congressos', 'Pesquisa--Congressos'],\n",
       "    'type': ['Livro'],\n",
       "    'items': ['02-1641'],\n",
       "    '_version_': 1741985718097412096}]}}"
      ]
     },
     "execution_count": 39,
     "metadata": {},
     "output_type": "execute_result"
    }
   ],
   "source": [
    "r.json()"
   ]
  },
  {
   "cell_type": "code",
   "execution_count": 8,
   "metadata": {},
   "outputs": [],
   "source": [
    "baseURL = \"http://localhost:8983/solr/search/query\""
   ]
  },
  {
   "cell_type": "code",
   "execution_count": 21,
   "metadata": {},
   "outputs": [
    {
     "data": {
      "text/plain": [
       "<Response [404 Not Found]>"
      ]
     },
     "execution_count": 21,
     "metadata": {},
     "output_type": "execute_result"
    }
   ],
   "source": [
    "data = 'json={\"q\":\"*:*\"}'\n",
    "r = httpx.post(baseURL, data=data)\n",
    "r"
   ]
  },
  {
   "cell_type": "code",
   "execution_count": 6,
   "metadata": {},
   "outputs": [
    {
     "data": {
      "text/plain": [
       "'<?xml version=\"1.0\" encoding=\"UTF-8\"?>\\n<response>\\n\\n<lst name=\"responseHeader\">\\n  <int name=\"status\">0</int>\\n  <int name=\"QTime\">129</int>\\n</lst>\\n</response>\\n'"
      ]
     },
     "execution_count": 6,
     "metadata": {},
     "output_type": "execute_result"
    }
   ],
   "source": [
    "solr.delete(q=\"*:*\", commit=True)"
   ]
  }
 ],
 "metadata": {
  "kernelspec": {
   "display_name": "Python 3.10.1 ('venv': venv)",
   "language": "python",
   "name": "python3"
  },
  "language_info": {
   "codemirror_mode": {
    "name": "ipython",
    "version": 3
   },
   "file_extension": ".py",
   "mimetype": "text/x-python",
   "name": "python",
   "nbconvert_exporter": "python",
   "pygments_lexer": "ipython3",
   "version": "3.10.1"
  },
  "orig_nbformat": 4,
  "vscode": {
   "interpreter": {
    "hash": "5df21a170a08fe7c24b5b1091267edae5bad3984f1116f28e957af7dd8f192dc"
   }
  }
 },
 "nbformat": 4,
 "nbformat_minor": 2
}
