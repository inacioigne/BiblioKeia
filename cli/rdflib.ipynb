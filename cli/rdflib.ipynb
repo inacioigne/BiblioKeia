{
 "cells": [
  {
   "cell_type": "code",
   "execution_count": 1,
   "metadata": {},
   "outputs": [],
   "source": [
    "from rdflib import Graph, URIRef"
   ]
  },
  {
   "cell_type": "code",
   "execution_count": 2,
   "metadata": {},
   "outputs": [],
   "source": [
    "g = Graph()"
   ]
  },
  {
   "cell_type": "code",
   "execution_count": 28,
   "metadata": {},
   "outputs": [
    {
     "data": {
      "text/plain": [
       "<Graph identifier=Nb246b1a4dff04df79068cf9a675bec74 (<class 'rdflib.graph.Graph'>)>"
      ]
     },
     "execution_count": 28,
     "metadata": {},
     "output_type": "execute_result"
    }
   ],
   "source": [
    "uri = 'http://localhost:3030/acervo'\n",
    "g.parse(uri)"
   ]
  },
  {
   "cell_type": "code",
   "execution_count": 30,
   "metadata": {},
   "outputs": [
    {
     "ename": "TypeError",
     "evalue": "'BNode' object is not callable",
     "output_type": "error",
     "traceback": [
      "\u001b[1;31m---------------------------------------------------------------------------\u001b[0m",
      "\u001b[1;31mTypeError\u001b[0m                                 Traceback (most recent call last)",
      "\u001b[1;32mc:\\Users\\Usuário\\Desktop\\BiblioKeia\\cli\\rdflib.ipynb Célula: 4\u001b[0m in \u001b[0;36m<cell line: 1>\u001b[1;34m()\u001b[0m\n\u001b[1;32m----> <a href='vscode-notebook-cell:/c%3A/Users/Usu%C3%A1rio/Desktop/BiblioKeia/cli/rdflib.ipynb#X10sZmlsZQ%3D%3D?line=0'>1</a>\u001b[0m g\u001b[39m.\u001b[39;49midentifier()\n",
      "\u001b[1;31mTypeError\u001b[0m: 'BNode' object is not callable"
     ]
    }
   ],
   "source": [
    "g.identifie"
   ]
  },
  {
   "cell_type": "code",
   "execution_count": 19,
   "metadata": {},
   "outputs": [],
   "source": [
    "query = \"\"\"PREFIX bf:<http://id.loc.gov/ontologies/bibframe/>\n",
    "            PREFIX dc: <http://purl.org/dc/elements/1.1/>\n",
    "            PREFIX rdf:<http://www.w3.org/1999/02/22-rdf-syntax-ns#>\n",
    "            SELECT *\n",
    "                WHERE { \n",
    "            <http://bibliokeia.com/work/1> ?p ?o .  \n",
    "            }\"\"\""
   ]
  },
  {
   "cell_type": "code",
   "execution_count": 23,
   "metadata": {},
   "outputs": [],
   "source": [
    "work = g.query(query)"
   ]
  },
  {
   "cell_type": "code",
   "execution_count": 26,
   "metadata": {},
   "outputs": [],
   "source": [
    "work.serialize('work.xml')"
   ]
  },
  {
   "cell_type": "code",
   "execution_count": null,
   "metadata": {},
   "outputs": [],
   "source": [
    "\n",
    "g.collection(identifier='http://bibliokeia.com/work/1')"
   ]
  },
  {
   "cell_type": "code",
   "execution_count": null,
   "metadata": {},
   "outputs": [],
   "source": [
    "query_endpoint = 'http://localhost:3030/address_act/query'\n",
    "update_endpoint = 'http://localhost:3030/address_act/update'\n",
    "store = sparqlstore.SPARQLUpdateStore()\n",
    "store.open((query_endpoint, update_endpoint))\n"
   ]
  },
  {
   "cell_type": "code",
   "execution_count": null,
   "metadata": {},
   "outputs": [],
   "source": [
    "g = Graph(identifier = URIRef('http://www.example.com'))"
   ]
  }
 ],
 "metadata": {
  "kernelspec": {
   "display_name": "Python 3.10.4 ('venv': venv)",
   "language": "python",
   "name": "python3"
  },
  "language_info": {
   "codemirror_mode": {
    "name": "ipython",
    "version": 3
   },
   "file_extension": ".py",
   "mimetype": "text/x-python",
   "name": "python",
   "nbconvert_exporter": "python",
   "pygments_lexer": "ipython3",
   "version": "3.10.4"
  },
  "orig_nbformat": 4,
  "vscode": {
   "interpreter": {
    "hash": "07e9a7747076dd9c6ca4900cebf2f1c383a3daca5ec697fd1a5967a0211e38b7"
   }
  }
 },
 "nbformat": 4,
 "nbformat_minor": 2
}
