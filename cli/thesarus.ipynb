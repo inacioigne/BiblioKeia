{
 "cells": [
  {
   "cell_type": "code",
   "execution_count": 1,
   "metadata": {},
   "outputs": [],
   "source": [
    "from rdflib.plugins.stores.sparqlstore import SPARQLUpdateStore"
   ]
  },
  {
   "cell_type": "code",
   "execution_count": 27,
   "metadata": {},
   "outputs": [],
   "source": [
    "store = SPARQLUpdateStore(update_endpoint='http://localhost:3030/thesaurus/update')\n",
    "query_endpoint = 'http://localhost:3030/thesaurus/query'\n",
    "update_endpoint = 'http://localhost:3030/thesaurus/update'\n",
    "store.open((query_endpoint, update_endpoint))"
   ]
  },
  {
   "cell_type": "code",
   "execution_count": 3,
   "metadata": {},
   "outputs": [],
   "source": [
    "from rdflib import Graph"
   ]
  },
  {
   "cell_type": "code",
   "execution_count": 46,
   "metadata": {},
   "outputs": [],
   "source": [
    "q = \"\"\"PREFIX madsrdf:  <http://www.loc.gov/mads/rdf/v1#> \n",
    "PREFIX rdf: <http://www.w3.org/1999/02/22-rdf-syntax-ns#>\n",
    "PREFIX bk: <https://bibliokeia.com/authorities/subjects/>\n",
    "SELECT *\n",
    "WHERE { GRAPH  bk:sh85084414\n",
    "  {?s ?p ?o }\n",
    "}\n",
    "LIMIT 10\"\"\"\n",
    "r = store.query(q)"
   ]
  },
  {
   "cell_type": "code",
   "execution_count": 38,
   "metadata": {},
   "outputs": [],
   "source": []
  },
  {
   "cell_type": "code",
   "execution_count": 47,
   "metadata": {},
   "outputs": [
    {
     "name": "stdout",
     "output_type": "stream",
     "text": [
      "(rdflib.term.URIRef('http://id.loc.gov/authorities/subjects/sh94000124'), rdflib.term.URIRef('http://www.w3.org/1999/02/22-rdf-syntax-ns#type'), rdflib.term.URIRef('http://www.loc.gov/mads/rdf/v1#Authority'))\n",
      "(rdflib.term.URIRef('http://id.loc.gov/authorities/subjects/sh94000124'), rdflib.term.URIRef('http://www.loc.gov/mads/rdf/v1#authoritativeLabel'), rdflib.term.Literal('Genealogia (Filosofia)', lang='pt'))\n",
      "(rdflib.term.URIRef('http://id.loc.gov/authorities/subjects/sh85113021'), rdflib.term.URIRef('http://www.w3.org/1999/02/22-rdf-syntax-ns#type'), rdflib.term.URIRef('http://www.loc.gov/mads/rdf/v1#Authority'))\n",
      "(rdflib.term.URIRef('http://id.loc.gov/authorities/subjects/sh85113021'), rdflib.term.URIRef('http://www.loc.gov/mads/rdf/v1#authoritativeLabel'), rdflib.term.Literal('Pesquisa', lang='pt'))\n",
      "(rdflib.term.URIRef('http://id.loc.gov/authorities/subjects/sh85050813'), rdflib.term.URIRef('http://www.w3.org/1999/02/22-rdf-syntax-ns#type'), rdflib.term.URIRef('http://www.loc.gov/mads/rdf/v1#Authority'))\n",
      "(rdflib.term.URIRef('http://id.loc.gov/authorities/subjects/sh85050813'), rdflib.term.URIRef('http://www.loc.gov/mads/rdf/v1#authoritativeLabel'), rdflib.term.Literal('Formalização (Filosofia)', lang='pt'))\n",
      "(rdflib.term.URIRef('http://id.loc.gov/authorities/subjects/sh85099817'), rdflib.term.URIRef('http://www.w3.org/1999/02/22-rdf-syntax-ns#type'), rdflib.term.URIRef('http://www.loc.gov/mads/rdf/v1#Authority'))\n",
      "(rdflib.term.URIRef('http://id.loc.gov/authorities/subjects/sh85099817'), rdflib.term.URIRef('http://www.loc.gov/mads/rdf/v1#authoritativeLabel'), rdflib.term.Literal('Performativo (Filosofia)', lang='pt'))\n",
      "(rdflib.term.URIRef('http://id.loc.gov/authorities/subjects/sh00002301'), rdflib.term.URIRef('http://www.w3.org/1999/02/22-rdf-syntax-ns#type'), rdflib.term.URIRef('http://www.loc.gov/mads/rdf/v1#Authority'))\n",
      "(rdflib.term.URIRef('http://id.loc.gov/authorities/subjects/sh00002301'), rdflib.term.URIRef('http://www.loc.gov/mads/rdf/v1#authoritativeLabel'), rdflib.term.Literal('experimentos mentais', lang='pt'))\n"
     ]
    }
   ],
   "source": [
    "for i in r:\n",
    "    print(i)"
   ]
  }
 ],
 "metadata": {
  "kernelspec": {
   "display_name": "Python 3.10.4 ('venv': venv)",
   "language": "python",
   "name": "python3"
  },
  "language_info": {
   "codemirror_mode": {
    "name": "ipython",
    "version": 3
   },
   "file_extension": ".py",
   "mimetype": "text/x-python",
   "name": "python",
   "nbconvert_exporter": "python",
   "pygments_lexer": "ipython3",
   "version": "3.10.4"
  },
  "orig_nbformat": 4,
  "vscode": {
   "interpreter": {
    "hash": "7c803f0ee3b2b2cd03f94fb28d6f360d094e6843888122798203f226e128b66e"
   }
  }
 },
 "nbformat": 4,
 "nbformat_minor": 2
}
