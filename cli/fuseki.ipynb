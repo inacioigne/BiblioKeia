{
 "cells": [
  {
   "cell_type": "code",
   "execution_count": 1,
   "metadata": {},
   "outputs": [],
   "source": [
    "from pyfuseki import FusekiQuery, FusekiUpdate"
   ]
  },
  {
   "cell_type": "code",
   "execution_count": 2,
   "metadata": {},
   "outputs": [],
   "source": [
    "#fuseki_query = FusekiQuery('http://localhost:3030', 'acervo')\n",
    "fuseki_update = FusekiUpdate('http://localhost:3030', 'acervo')"
   ]
  },
  {
   "cell_type": "code",
   "execution_count": 5,
   "metadata": {},
   "outputs": [],
   "source": [
    "sparql_str = \"\"\"\n",
    "    PREFIX bf:<http://id.loc.gov/ontologies/bibframe/>\n",
    "    PREFIX rdf:<http://www.w3.org/1999/02/22-rdf-syntax-ns#>\n",
    "    SELECT ?s ?title\n",
    "    WHERE { \n",
    "        ?s rdf:type bf:Work .\n",
    "        ?s bf:title ?o .\n",
    "        ?o bf:mainTitle ?title\n",
    "}\n",
    "\"\"\"\n",
    "\n",
    "query_result = fuseki_query.run_sparql(sparql_str)"
   ]
  },
  {
   "cell_type": "code",
   "execution_count": null,
   "metadata": {},
   "outputs": [],
   "source": [
    "query_result.print_results()"
   ]
  },
  {
   "cell_type": "code",
   "execution_count": 21,
   "metadata": {},
   "outputs": [],
   "source": [
    "#INSERT DATA\n",
    "sparql_str = \"\"\"\n",
    "PREFIX bf: <http://id.loc.gov/ontologies/bibframe/>\n",
    "INSERT DATA\n",
    "{ \n",
    "  <http://bibliokeia.com/work/1> bf:title [ a bf:Title ;\n",
    "            bf:mainTitle \"NOVO TITULO\" ] \n",
    "}\n",
    "        \"\"\"\n",
    "\n",
    "update_result = fuseki_update.run_sparql(sparql_str)"
   ]
  },
  {
   "cell_type": "code",
   "execution_count": 35,
   "metadata": {},
   "outputs": [],
   "source": [
    "#DELETE\n",
    "sparql_str = \"\"\"\n",
    "PREFIX bf: <http://id.loc.gov/ontologies/bibframe/>\n",
    "DELETE\n",
    "{ \n",
    "  ?o bf:mainTitle ?title\n",
    "}\n",
    "WHERE { \n",
    "   <http://bibliokeia.com/work/1> bf:title ?o .\n",
    "  ?o bf:mainTitle ?title .\n",
    "  FILTER (?title = \"NOVO TITULO\")\n",
    "             }\n",
    "    \"\"\"\n",
    "\n",
    "update_result = fuseki_update.run_sparql(sparql_str)"
   ]
  },
  {
   "cell_type": "code",
   "execution_count": 42,
   "metadata": {},
   "outputs": [],
   "source": [
    "sparql_str = \"\"\"PREFIX foaf: <http://xmlns.com/foaf/0.1/> \n",
    "\n",
    "INSERT DATA { <http://www.example.org/alice#me> foaf:knows [ foaf:name \"Dorothy\" ]. } ;\n",
    "DELETE { ?person foaf:name ?mbox } \n",
    "WHERE { <http://www.example.org/alice#me> foaf:knows ?person .\n",
    "        ?person foaf:name ?name FILTER ( lang(?name) = \"EN\" ) .}\"\"\"\n",
    "        \n",
    "query_result = fuseki.run_sparql(sparql_str)"
   ]
  },
  {
   "cell_type": "code",
   "execution_count": 32,
   "metadata": {},
   "outputs": [],
   "source": [
    "sparql_str = \"\"\"\n",
    "    SELECT *\n",
    "    WHERE { <http://bibliokeia.com/work/1> ?p ?o }\n",
    "\"\"\"\n",
    "\n",
    "query_result = fuseki_query.run_sparql(sparql_str)"
   ]
  },
  {
   "cell_type": "code",
   "execution_count": 33,
   "metadata": {},
   "outputs": [],
   "source": [
    "r = query_result.response\n"
   ]
  },
  {
   "cell_type": "code",
   "execution_count": 37,
   "metadata": {},
   "outputs": [],
   "source": [
    "import rdflib"
   ]
  },
  {
   "cell_type": "code",
   "execution_count": 41,
   "metadata": {},
   "outputs": [
    {
     "data": {
      "text/plain": [
       "<Graph identifier=N8a2883c7a17e42f98e108b705bf56938 (<class 'rdflib.graph.Graph'>)>"
      ]
     },
     "execution_count": 41,
     "metadata": {},
     "output_type": "execute_result"
    }
   ],
   "source": [
    "g = rdflib.Graph()\n",
    "g.parse(\"http://localhost:3030/catalogo\")"
   ]
  },
  {
   "cell_type": "code",
   "execution_count": 42,
   "metadata": {},
   "outputs": [],
   "source": [
    "qres = g.query(sparql_str)"
   ]
  },
  {
   "cell_type": "code",
   "execution_count": null,
   "metadata": {},
   "outputs": [],
   "source": [
    "for row in qres:\n",
    "    print(row)"
   ]
  },
  {
   "cell_type": "code",
   "execution_count": 3,
   "metadata": {},
   "outputs": [],
   "source": [
    "from rdflib import Graph, URIRef"
   ]
  },
  {
   "cell_type": "code",
   "execution_count": 8,
   "metadata": {},
   "outputs": [],
   "source": [
    "uri = URIRef('http://bibliokeia.com/work/1')\n",
    "fuseki = FusekiUpdate('http://localhost:3030', 'acervo')\n"
   ]
  },
  {
   "cell_type": "code",
   "execution_count": 6,
   "metadata": {},
   "outputs": [],
   "source": [
    "g = Graph(identifier= uri)"
   ]
  }
 ],
 "metadata": {
  "kernelspec": {
   "display_name": "Python 3.10.4 ('venv': venv)",
   "language": "python",
   "name": "python3"
  },
  "language_info": {
   "codemirror_mode": {
    "name": "ipython",
    "version": 3
   },
   "file_extension": ".py",
   "mimetype": "text/x-python",
   "name": "python",
   "nbconvert_exporter": "python",
   "pygments_lexer": "ipython3",
   "version": "3.10.4 (tags/v3.10.4:9d38120, Mar 23 2022, 23:13:41) [MSC v.1929 64 bit (AMD64)]"
  },
  "orig_nbformat": 4,
  "vscode": {
   "interpreter": {
    "hash": "7c803f0ee3b2b2cd03f94fb28d6f360d094e6843888122798203f226e128b66e"
   }
  }
 },
 "nbformat": 4,
 "nbformat_minor": 2
}
