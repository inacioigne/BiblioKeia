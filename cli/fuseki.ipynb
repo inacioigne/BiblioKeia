{
 "cells": [
  {
   "cell_type": "code",
   "execution_count": 1,
   "metadata": {},
   "outputs": [],
   "source": [
    "from pyfuseki import FusekiQuery, FusekiUpdate\n"
   ]
  },
  {
   "cell_type": "code",
   "execution_count": 11,
   "metadata": {},
   "outputs": [],
   "source": [
    "fuseki_query = FusekiQuery('http://localhost:3030', 'catalogo')\n",
    "#fuseki_update = FusekiUpdate('http://localhost:3030', 'Sedab')"
   ]
  },
  {
   "cell_type": "code",
   "execution_count": 5,
   "metadata": {},
   "outputs": [],
   "source": [
    "sparql_str = \"\"\"\n",
    "    PREFIX bf:<http://id.loc.gov/ontologies/bibframe/>\n",
    "    PREFIX rdf:<http://www.w3.org/1999/02/22-rdf-syntax-ns#>\n",
    "    SELECT ?s ?title\n",
    "    WHERE { \n",
    "        ?s rdf:type bf:Work .\n",
    "        ?s bf:title ?o .\n",
    "        ?o bf:mainTitle ?title\n",
    "}\n",
    "\"\"\"\n",
    "\n",
    "query_result = fuseki_query.run_sparql(sparql_str)"
   ]
  },
  {
   "cell_type": "code",
   "execution_count": null,
   "metadata": {},
   "outputs": [],
   "source": [
    "query_result.print_results()"
   ]
  },
  {
   "cell_type": "code",
   "execution_count": 21,
   "metadata": {},
   "outputs": [],
   "source": [
    "#INSERT DATA\n",
    "sparql_str = \"\"\"\n",
    "PREFIX bf: <http://id.loc.gov/ontologies/bibframe/>\n",
    "INSERT DATA\n",
    "{ \n",
    "  <http://bibliokeia.com/work/1> bf:title [ a bf:Title ;\n",
    "            bf:mainTitle \"NOVO TITULO\" ] \n",
    "}\n",
    "        \"\"\"\n",
    "\n",
    "update_result = fuseki_update.run_sparql(sparql_str)"
   ]
  },
  {
   "cell_type": "code",
   "execution_count": 35,
   "metadata": {},
   "outputs": [],
   "source": [
    "#DELETE\n",
    "sparql_str = \"\"\"\n",
    "PREFIX bf: <http://id.loc.gov/ontologies/bibframe/>\n",
    "DELETE\n",
    "{ \n",
    "  ?o bf:mainTitle ?title\n",
    "}\n",
    "WHERE { \n",
    "   <http://bibliokeia.com/work/1> bf:title ?o .\n",
    "  ?o bf:mainTitle ?title .\n",
    "  FILTER (?title = \"NOVO TITULO\")\n",
    "             }\n",
    "    \"\"\"\n",
    "\n",
    "update_result = fuseki_update.run_sparql(sparql_str)"
   ]
  },
  {
   "cell_type": "code",
   "execution_count": 42,
   "metadata": {},
   "outputs": [],
   "source": [
    "sparql_str = \"\"\"PREFIX foaf: <http://xmlns.com/foaf/0.1/> \n",
    "\n",
    "INSERT DATA { <http://www.example.org/alice#me> foaf:knows [ foaf:name \"Dorothy\" ]. } ;\n",
    "DELETE { ?person foaf:name ?mbox } \n",
    "WHERE { <http://www.example.org/alice#me> foaf:knows ?person .\n",
    "        ?person foaf:name ?name FILTER ( lang(?name) = \"EN\" ) .}\"\"\"\n",
    "        \n",
    "query_result = fuseki.run_sparql(sparql_str)"
   ]
  },
  {
   "cell_type": "code",
   "execution_count": 32,
   "metadata": {},
   "outputs": [],
   "source": [
    "sparql_str = \"\"\"\n",
    "    SELECT *\n",
    "    WHERE { <http://bibliokeia.com/work/1> ?p ?o }\n",
    "\"\"\"\n",
    "\n",
    "query_result = fuseki_query.run_sparql(sparql_str)"
   ]
  },
  {
   "cell_type": "code",
   "execution_count": 33,
   "metadata": {},
   "outputs": [],
   "source": [
    "r = query_result.response\n"
   ]
  },
  {
   "cell_type": "code",
   "execution_count": 35,
   "metadata": {},
   "outputs": [],
   "source": [
    "for i in r:\n",
    "    i"
   ]
  },
  {
   "cell_type": "code",
   "execution_count": 39,
   "metadata": {},
   "outputs": [
    {
     "data": {
      "text/plain": [
       "'http://localhost:3030/catalogo/query?query=%0A++++SELECT+%2A%0A++++WHERE+%7B+%3Chttp%3A//bibliokeia.com/work/1%3E+%3Fp+%3Fo+%7D%0A&format=json&output=json&results=json'"
      ]
     },
     "execution_count": 39,
     "metadata": {},
     "output_type": "execute_result"
    }
   ],
   "source": [
    "query_result.geturl()\n"
   ]
  },
  {
   "cell_type": "code",
   "execution_count": 37,
   "metadata": {},
   "outputs": [],
   "source": [
    "import rdflib"
   ]
  },
  {
   "cell_type": "code",
   "execution_count": 41,
   "metadata": {},
   "outputs": [
    {
     "data": {
      "text/plain": [
       "<Graph identifier=N8a2883c7a17e42f98e108b705bf56938 (<class 'rdflib.graph.Graph'>)>"
      ]
     },
     "execution_count": 41,
     "metadata": {},
     "output_type": "execute_result"
    }
   ],
   "source": [
    "g = rdflib.Graph()\n",
    "g.parse(\"http://localhost:3030/catalogo\")"
   ]
  },
  {
   "cell_type": "code",
   "execution_count": 42,
   "metadata": {},
   "outputs": [],
   "source": [
    "qres = g.query(sparql_str)"
   ]
  },
  {
   "cell_type": "code",
   "execution_count": 44,
   "metadata": {},
   "outputs": [
    {
     "data": {
      "text/plain": [
       "(rdflib.term.URIRef('http://id.loc.gov/ontologies/bibframe/title'),\n",
       " rdflib.term.BNode('n1611b34b94044d4fb648d2d9539f071fb8'))"
      ]
     },
     "execution_count": 44,
     "metadata": {},
     "output_type": "execute_result"
    }
   ],
   "source": [
    "row"
   ]
  },
  {
   "cell_type": "code",
   "execution_count": 43,
   "metadata": {},
   "outputs": [
    {
     "name": "stdout",
     "output_type": "stream",
     "text": [
      "(rdflib.term.URIRef('http://www.w3.org/1999/02/22-rdf-syntax-ns#type'), rdflib.term.URIRef('http://id.loc.gov/ontologies/bibframe/Work'))\n",
      "(rdflib.term.URIRef('http://www.w3.org/1999/02/22-rdf-syntax-ns#type'), rdflib.term.URIRef('http://id.loc.gov/ontologies/bibframe/Text'))\n",
      "(rdflib.term.URIRef('http://id.loc.gov/ontologies/bibframe/adminMetadata'), rdflib.term.BNode('n1611b34b94044d4fb648d2d9539f071fb1'))\n",
      "(rdflib.term.URIRef('http://id.loc.gov/ontologies/bibframe/classification'), rdflib.term.BNode('n1611b34b94044d4fb648d2d9539f071fb4'))\n",
      "(rdflib.term.URIRef('http://id.loc.gov/ontologies/bibframe/content'), rdflib.term.URIRef('http://id.loc.gov/vocabulary/contentTypes/txt'))\n",
      "(rdflib.term.URIRef('http://id.loc.gov/ontologies/bibframe/contribution'), rdflib.term.BNode('n1611b34b94044d4fb648d2d9539f071fb5'))\n",
      "(rdflib.term.URIRef('http://id.loc.gov/ontologies/bibframe/hasInstance'), rdflib.term.URIRef('http://bibliokeia.com/instance/1'))\n",
      "(rdflib.term.URIRef('http://id.loc.gov/ontologies/bibframe/identifiedBy'), rdflib.term.BNode('n1611b34b94044d4fb648d2d9539f071fb6'))\n",
      "(rdflib.term.URIRef('http://id.loc.gov/ontologies/bibframe/intendedAudience'), rdflib.term.BNode('n1611b34b94044d4fb648d2d9539f071fb7'))\n",
      "(rdflib.term.URIRef('http://id.loc.gov/ontologies/bibframe/language'), rdflib.term.URIRef('http://id.loc.gov/vocabulary/languages/por'))\n",
      "(rdflib.term.URIRef('http://id.loc.gov/ontologies/bibframe/subject'), rdflib.term.URIRef('http://http://bibliokeia.com//1/Topic650-1'))\n",
      "(rdflib.term.URIRef('http://id.loc.gov/ontologies/bibframe/subject'), rdflib.term.URIRef('http://http://bibliokeia.com//1/Topic650-2'))\n",
      "(rdflib.term.URIRef('http://id.loc.gov/ontologies/bibframe/title'), rdflib.term.BNode('n1611b34b94044d4fb648d2d9539f071fb8'))\n"
     ]
    }
   ],
   "source": [
    "for row in qres:\n",
    "    print(row)"
   ]
  },
  {
   "cell_type": "code",
   "execution_count": null,
   "metadata": {},
   "outputs": [],
   "source": []
  }
 ],
 "metadata": {
  "kernelspec": {
   "display_name": "Python 3.10.1 ('venv': venv)",
   "language": "python",
   "name": "python3"
  },
  "language_info": {
   "codemirror_mode": {
    "name": "ipython",
    "version": 3
   },
   "file_extension": ".py",
   "mimetype": "text/x-python",
   "name": "python",
   "nbconvert_exporter": "python",
   "pygments_lexer": "ipython3",
   "version": "3.10.1"
  },
  "orig_nbformat": 4,
  "vscode": {
   "interpreter": {
    "hash": "4982a2b54e7b315d4b00dd4ee0f4213c894fe0cdcd65911430992e7ed663e6c4"
   }
  }
 },
 "nbformat": 4,
 "nbformat_minor": 2
}
