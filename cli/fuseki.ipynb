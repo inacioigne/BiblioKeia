{
 "cells": [
  {
   "cell_type": "code",
   "execution_count": 1,
   "metadata": {},
   "outputs": [],
   "source": [
    "from pyfuseki import FusekiQuery, FusekiUpdate"
   ]
  },
  {
   "cell_type": "code",
   "execution_count": 11,
   "metadata": {},
   "outputs": [],
   "source": [
    "fuseki_query = FusekiQuery('http://localhost:3030', 'Sedab')\n",
    "fuseki_update = FusekiUpdate('http://localhost:3030', 'Sedab')"
   ]
  },
  {
   "cell_type": "code",
   "execution_count": 5,
   "metadata": {},
   "outputs": [],
   "source": [
    "sparql_str = \"\"\"\n",
    "    PREFIX bf:<http://id.loc.gov/ontologies/bibframe/>\n",
    "    PREFIX rdf:<http://www.w3.org/1999/02/22-rdf-syntax-ns#>\n",
    "    SELECT ?s ?title\n",
    "    WHERE { \n",
    "        ?s rdf:type bf:Work .\n",
    "        ?s bf:title ?o .\n",
    "        ?o bf:mainTitle ?title\n",
    "}\n",
    "\"\"\"\n",
    "\n",
    "query_result = fuseki_query.run_sparql(sparql_str)"
   ]
  },
  {
   "cell_type": "code",
   "execution_count": null,
   "metadata": {},
   "outputs": [],
   "source": [
    "query_result.print_results()"
   ]
  },
  {
   "cell_type": "code",
   "execution_count": 21,
   "metadata": {},
   "outputs": [],
   "source": [
    "#INSERT DATA\n",
    "sparql_str = \"\"\"\n",
    "PREFIX bf: <http://id.loc.gov/ontologies/bibframe/>\n",
    "INSERT DATA\n",
    "{ \n",
    "  <http://bibliokeia.com/work/1> bf:title [ a bf:Title ;\n",
    "            bf:mainTitle \"NOVO TITULO\" ] \n",
    "}\n",
    "        \"\"\"\n",
    "\n",
    "update_result = fuseki_update.run_sparql(sparql_str)"
   ]
  },
  {
   "cell_type": "code",
   "execution_count": 35,
   "metadata": {},
   "outputs": [],
   "source": [
    "#DELETE\n",
    "sparql_str = \"\"\"\n",
    "PREFIX bf: <http://id.loc.gov/ontologies/bibframe/>\n",
    "DELETE\n",
    "{ \n",
    "  ?o bf:mainTitle ?title\n",
    "}\n",
    "WHERE { \n",
    "   <http://bibliokeia.com/work/1> bf:title ?o .\n",
    "  ?o bf:mainTitle ?title .\n",
    "  FILTER (?title = \"NOVO TITULO\")\n",
    "             }\n",
    "    \"\"\"\n",
    "\n",
    "update_result = fuseki_update.run_sparql(sparql_str)"
   ]
  },
  {
   "cell_type": "code",
   "execution_count": 42,
   "metadata": {},
   "outputs": [],
   "source": [
    "sparql_str = \"\"\"PREFIX foaf: <http://xmlns.com/foaf/0.1/> \n",
    "\n",
    "INSERT DATA { <http://www.example.org/alice#me> foaf:knows [ foaf:name \"Dorothy\" ]. } ;\n",
    "DELETE { ?person foaf:name ?mbox } \n",
    "WHERE { <http://www.example.org/alice#me> foaf:knows ?person .\n",
    "        ?person foaf:name ?name FILTER ( lang(?name) = \"EN\" ) .}\"\"\"\n",
    "        \n",
    "query_result = fuseki.run_sparql(sparql_str)"
   ]
  }
 ],
 "metadata": {
  "kernelspec": {
   "display_name": "Python 3.10.4 ('venv': venv)",
   "language": "python",
   "name": "python3"
  },
  "language_info": {
   "codemirror_mode": {
    "name": "ipython",
    "version": 3
   },
   "file_extension": ".py",
   "mimetype": "text/x-python",
   "name": "python",
   "nbconvert_exporter": "python",
   "pygments_lexer": "ipython3",
   "version": "3.10.4"
  },
  "orig_nbformat": 4,
  "vscode": {
   "interpreter": {
    "hash": "07e9a7747076dd9c6ca4900cebf2f1c383a3daca5ec697fd1a5967a0211e38b7"
   }
  }
 },
 "nbformat": 4,
 "nbformat_minor": 2
}
