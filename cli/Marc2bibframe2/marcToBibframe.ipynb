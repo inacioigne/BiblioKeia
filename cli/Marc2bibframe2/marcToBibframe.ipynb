{
 "cells": [
  {
   "cell_type": "code",
   "execution_count": 16,
   "metadata": {},
   "outputs": [],
   "source": [
    "import lxml.etree as et\n",
    "import xml.etree.ElementTree as etTree\n",
    "from xml.dom.minidom import parse, parseString"
   ]
  },
  {
   "cell_type": "code",
   "execution_count": 33,
   "metadata": {},
   "outputs": [],
   "source": [
    "import lxml.etree as ET"
   ]
  },
  {
   "cell_type": "markdown",
   "metadata": {},
   "source": [
    "xsltproc xsl/marc2bibframe2.xsl test/data/marc.xml"
   ]
  },
  {
   "cell_type": "code",
   "execution_count": null,
   "metadata": {},
   "outputs": [],
   "source": [
    "dom = ET.parse(r'In/koha.xml')\n",
    "xslt = ET.parse('marc2bibframe2/xsl/marc2bibframe2.xsl')\n",
    "transform = ET.XSLT(xslt)\n",
    "newdom = transform(dom)\n",
    "print(ET.tostring(newdom, pretty_print=True))"
   ]
  },
  {
   "cell_type": "code",
   "execution_count": 41,
   "metadata": {},
   "outputs": [
    {
     "ename": "XSLTApplyError",
     "evalue": "Failed to evaluate the 'select' expression.",
     "output_type": "error",
     "traceback": [
      "\u001b[1;31m---------------------------------------------------------------------------\u001b[0m",
      "\u001b[1;31mXSLTApplyError\u001b[0m                            Traceback (most recent call last)",
      "\u001b[1;32mc:\\Users\\inaci\\Desktop\\BiblioKeia\\cli\\Marc2bibframe2\\marcToBibframe.ipynb Célula: 5\u001b[0m in \u001b[0;36m<cell line: 1>\u001b[1;34m()\u001b[0m\n\u001b[1;32m----> <a href='vscode-notebook-cell:/c%3A/Users/inaci/Desktop/BiblioKeia/cli/Marc2bibframe2/marcToBibframe.ipynb#X32sZmlsZQ%3D%3D?line=0'>1</a>\u001b[0m transform(dom)\n",
      "File \u001b[1;32msrc\\lxml\\xslt.pxi:602\u001b[0m, in \u001b[0;36mlxml.etree.XSLT.__call__\u001b[1;34m()\u001b[0m\n",
      "\u001b[1;31mXSLTApplyError\u001b[0m: Failed to evaluate the 'select' expression."
     ]
    }
   ],
   "source": [
    "transform(dom)"
   ]
  },
  {
   "cell_type": "code",
   "execution_count": 29,
   "metadata": {},
   "outputs": [
    {
     "ename": "XSLTApplyError",
     "evalue": "Failed to evaluate the 'select' expression.",
     "output_type": "error",
     "traceback": [
      "\u001b[1;31m---------------------------------------------------------------------------\u001b[0m",
      "\u001b[1;31mXSLTApplyError\u001b[0m                            Traceback (most recent call last)",
      "\u001b[1;32mc:\\Users\\inaci\\Desktop\\BiblioKeia\\cli\\Marc2bibframe2\\marcToBibframe.ipynb Célula: 3\u001b[0m in \u001b[0;36m<cell line: 4>\u001b[1;34m()\u001b[0m\n\u001b[0;32m      <a href='vscode-notebook-cell:/c%3A/Users/inaci/Desktop/BiblioKeia/cli/Marc2bibframe2/marcToBibframe.ipynb#W4sZmlsZQ%3D%3D?line=1'>2</a>\u001b[0m transform \u001b[39m=\u001b[39m et\u001b[39m.\u001b[39mXSLT(xslt)\n\u001b[0;32m      <a href='vscode-notebook-cell:/c%3A/Users/inaci/Desktop/BiblioKeia/cli/Marc2bibframe2/marcToBibframe.ipynb#W4sZmlsZQ%3D%3D?line=2'>3</a>\u001b[0m dom \u001b[39m=\u001b[39m et\u001b[39m.\u001b[39mparse(\u001b[39mr\u001b[39m\u001b[39m'\u001b[39m\u001b[39mmarc2bibframe2/test/data/marc.xml\u001b[39m\u001b[39m'\u001b[39m)\n\u001b[1;32m----> <a href='vscode-notebook-cell:/c%3A/Users/inaci/Desktop/BiblioKeia/cli/Marc2bibframe2/marcToBibframe.ipynb#W4sZmlsZQ%3D%3D?line=3'>4</a>\u001b[0m newdom \u001b[39m=\u001b[39m transform(dom)\n",
      "File \u001b[1;32msrc\\lxml\\xslt.pxi:602\u001b[0m, in \u001b[0;36mlxml.etree.XSLT.__call__\u001b[1;34m()\u001b[0m\n",
      "\u001b[1;31mXSLTApplyError\u001b[0m: Failed to evaluate the 'select' expression."
     ]
    }
   ],
   "source": [
    "xslt = et.parse('marc2bibframe2/xsl/marc2bibframe2.xsl')\n",
    "transform = et.XSLT(xslt)\n",
    "dom = et.parse(r'marc2bibframe2/test/data/marc.xml')\n",
    "newdom = transform(dom)"
   ]
  },
  {
   "cell_type": "code",
   "execution_count": 32,
   "metadata": {},
   "outputs": [
    {
     "ename": "TypeError",
     "evalue": "Invalid input object: Document",
     "output_type": "error",
     "traceback": [
      "\u001b[1;31m---------------------------------------------------------------------------\u001b[0m",
      "\u001b[1;31mTypeError\u001b[0m                                 Traceback (most recent call last)",
      "\u001b[1;32mc:\\Users\\inaci\\Desktop\\BiblioKeia\\cli\\Marc2bibframe2\\marcToBibframe.ipynb Célula: 4\u001b[0m in \u001b[0;36m<cell line: 2>\u001b[1;34m()\u001b[0m\n\u001b[0;32m      <a href='vscode-notebook-cell:/c%3A/Users/inaci/Desktop/BiblioKeia/cli/Marc2bibframe2/marcToBibframe.ipynb#X26sZmlsZQ%3D%3D?line=0'>1</a>\u001b[0m tree \u001b[39m=\u001b[39m parse(\u001b[39mr\u001b[39m\u001b[39m'\u001b[39m\u001b[39mmarc2bibframe2/test/data/marc.xml\u001b[39m\u001b[39m'\u001b[39m)\n\u001b[1;32m----> <a href='vscode-notebook-cell:/c%3A/Users/inaci/Desktop/BiblioKeia/cli/Marc2bibframe2/marcToBibframe.ipynb#X26sZmlsZQ%3D%3D?line=1'>2</a>\u001b[0m newdom \u001b[39m=\u001b[39m transform(tree)\n",
      "File \u001b[1;32msrc\\lxml\\xslt.pxi:515\u001b[0m, in \u001b[0;36mlxml.etree.XSLT.__call__\u001b[1;34m()\u001b[0m\n",
      "File \u001b[1;32msrc\\lxml\\apihelpers.pxi:41\u001b[0m, in \u001b[0;36mlxml.etree._documentOrRaise\u001b[1;34m()\u001b[0m\n",
      "\u001b[1;31mTypeError\u001b[0m: Invalid input object: Document"
     ]
    }
   ],
   "source": [
    "tree = parse(r'marc2bibframe2/test/data/marc.xml')\n",
    "newdom = transform(tree)"
   ]
  },
  {
   "cell_type": "code",
   "execution_count": 27,
   "metadata": {},
   "outputs": [
    {
     "name": "stdout",
     "output_type": "stream",
     "text": [
      "b'<rdf:RDF xmlns:rdf=\"http://www.w3.org/1999/02/22-rdf-syntax-ns#\" xmlns:rdfs=\"http://www.w3.org/2000/01/rdf-schema#\" xmlns:bf=\"http://id.loc.gov/ontologies/bibframe/\" xmlns:bflc=\"http://id.loc.gov/ontologies/bflc/\" xmlns:madsrdf=\"http://www.loc.gov/mads/rdf/v1#\">00547nam a22001811a 45003037130371BR-MnINPA20190213171641.0160321s1977    bl |||||||||||||| ||por d19001.5AM 001.5P4745790Superintend\\xc3\\xaancia do Desenvolvimento da Amaz\\xc3\\xb4niaPesquisas amaz\\xc3\\xb4nicas / Superintend\\xc3\\xaancia do Desenvolvimento da Amaz\\xc3\\xb4nia . -Bel\\xc3\\xa9m, Par\\xc3\\xa1 :[s.n]1977.49 p. 5791pesquisas na Amaz\\xc3\\xb4nia574Amaz\\xc3\\xb4niaL00ddc0AM_001_500000000000000_P4740AM38676sdinsdin2018-08-200AM 001.5 P4742018-17162018-08-202018-08-20L</rdf:RDF>\\n'\n"
     ]
    }
   ],
   "source": [
    "ET = et.tostring(newdom, encoding=\"utf-8\", pretty_print=True)\n",
    "print(ET)"
   ]
  },
  {
   "cell_type": "code",
   "execution_count": 20,
   "metadata": {},
   "outputs": [
    {
     "data": {
      "text/plain": [
       "<Graph identifier=N24bb00df8772489ea36adc5306fcb7bf (<class 'rdflib.graph.Graph'>)>"
      ]
     },
     "execution_count": 20,
     "metadata": {},
     "output_type": "execute_result"
    }
   ],
   "source": [
    "g = Graph()\n",
    "ET = et.tostring(newdom, encoding=\"utf-8\", pretty_print=True)\n",
    "g.parse(ET, format=\"xml\")"
   ]
  },
  {
   "cell_type": "code",
   "execution_count": 22,
   "metadata": {},
   "outputs": [
    {
     "data": {
      "text/plain": [
       "'<?xml version=\"1.0\" encoding=\"utf-8\"?>\\n<rdf:RDF\\n   xmlns:rdf=\"http://www.w3.org/1999/02/22-rdf-syntax-ns#\"\\n>\\n</rdf:RDF>\\n'"
      ]
     },
     "execution_count": 22,
     "metadata": {},
     "output_type": "execute_result"
    }
   ],
   "source": [
    "g.serialize(format='xml')"
   ]
  },
  {
   "cell_type": "code",
   "execution_count": 23,
   "metadata": {},
   "outputs": [],
   "source": [
    "with open('Out/bibframe.xml', 'wb') as file:\n",
    "    file.write(ET)"
   ]
  },
  {
   "cell_type": "markdown",
   "metadata": {},
   "source": [
    "Parser RDF"
   ]
  }
 ],
 "metadata": {
  "kernelspec": {
   "display_name": "Python 3.10.1 ('venv': venv)",
   "language": "python",
   "name": "python3"
  },
  "language_info": {
   "codemirror_mode": {
    "name": "ipython",
    "version": 3
   },
   "file_extension": ".py",
   "mimetype": "text/x-python",
   "name": "python",
   "nbconvert_exporter": "python",
   "pygments_lexer": "ipython3",
   "version": "3.10.1"
  },
  "orig_nbformat": 4,
  "vscode": {
   "interpreter": {
    "hash": "5df21a170a08fe7c24b5b1091267edae5bad3984f1116f28e957af7dd8f192dc"
   }
  }
 },
 "nbformat": 4,
 "nbformat_minor": 2
}
