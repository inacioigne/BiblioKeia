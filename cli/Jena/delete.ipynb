{
 "cells": [
  {
   "cell_type": "code",
   "execution_count": 30,
   "metadata": {},
   "outputs": [],
   "source": [
    "from rdflib.plugins.stores.sparqlstore import SPARQLUpdateStore\n",
    "from rdflib.plugins.stores import auditable\n",
    "from rdflib.store import Store"
   ]
  },
  {
   "cell_type": "code",
   "execution_count": 31,
   "metadata": {},
   "outputs": [],
   "source": [
    "store = SPARQLUpdateStore(update_endpoint='http://localhost:3030/bibframe/update')"
   ]
  },
  {
   "cell_type": "code",
   "execution_count": 36,
   "metadata": {},
   "outputs": [],
   "source": [
    "Q = \"\"\"SELECT *\n",
    "WHERE { ?s ?p ?o }\"\"\""
   ]
  },
  {
   "cell_type": "code",
   "execution_count": 38,
   "metadata": {},
   "outputs": [],
   "source": [
    "query_endpoint = 'http://localhost:3030/bibframe/query'\n",
    "update_endpoint = 'http://localhost:3030/bibframe/update'\n",
    "store.open((query_endpoint, update_endpoint))"
   ]
  },
  {
   "cell_type": "code",
   "execution_count": 40,
   "metadata": {},
   "outputs": [],
   "source": [
    "r = store.query(Q)"
   ]
  },
  {
   "cell_type": "code",
   "execution_count": 46,
   "metadata": {},
   "outputs": [],
   "source": [
    "D = \"\"\"DELETE DATA\n",
    "{\n",
    "  <http://id.loc.gov/resources/works/3582991> \t\n",
    "<http://www.w3.org/2000/01/rdf-schema#label> \"Fahrenheit 451;\"\n",
    "}\"\"\"\n",
    "store.update(D)"
   ]
  },
  {
   "cell_type": "code",
   "execution_count": 47,
   "metadata": {},
   "outputs": [],
   "source": [
    "#Exclui o Graph Default\n",
    "store.update(\"DROP DEFAULT\")"
   ]
  },
  {
   "cell_type": "code",
   "execution_count": 33,
   "metadata": {},
   "outputs": [
    {
     "data": {
      "text/plain": [
       "['BLOCK_END',\n",
       " 'BLOCK_FINDING_PATTERN',\n",
       " 'BLOCK_START',\n",
       " 'BlockContent',\n",
       " 'BlockFinding',\n",
       " 'COMMENT',\n",
       " 'ESCAPED',\n",
       " 'IRIREF',\n",
       " 'STRING_LITERAL1',\n",
       " 'STRING_LITERAL2',\n",
       " 'STRING_LITERAL_LONG1',\n",
       " 'STRING_LITERAL_LONG2',\n",
       " 'String',\n",
       " '__class__',\n",
       " '__delattr__',\n",
       " '__dict__',\n",
       " '__dir__',\n",
       " '__doc__',\n",
       " '__eq__',\n",
       " '__format__',\n",
       " '__ge__',\n",
       " '__getattribute__',\n",
       " '__gt__',\n",
       " '__hash__',\n",
       " '__init__',\n",
       " '__init_subclass__',\n",
       " '__le__',\n",
       " '__len__',\n",
       " '__lt__',\n",
       " '__module__',\n",
       " '__ne__',\n",
       " '__new__',\n",
       " '__reduce__',\n",
       " '__reduce_ex__',\n",
       " '__repr__',\n",
       " '__setattr__',\n",
       " '__sizeof__',\n",
       " '__str__',\n",
       " '__subclasshook__',\n",
       " '__weakref__',\n",
       " '_edits',\n",
       " '_inject_prefixes',\n",
       " '_insert_named_graph',\n",
       " '_is_contextual',\n",
       " '_method',\n",
       " '_queries',\n",
       " '_query',\n",
       " '_transaction',\n",
       " '_update',\n",
       " '_updates',\n",
       " 'add',\n",
       " 'addN',\n",
       " 'add_graph',\n",
       " 'autocommit',\n",
       " 'bind',\n",
       " 'close',\n",
       " 'commit',\n",
       " 'context_aware',\n",
       " 'contexts',\n",
       " 'create',\n",
       " 'destroy',\n",
       " 'dirty_reads',\n",
       " 'formula_aware',\n",
       " 'gc',\n",
       " 'graph_aware',\n",
       " 'kwargs',\n",
       " 'method',\n",
       " 'namespace',\n",
       " 'namespaces',\n",
       " 'node_pickler',\n",
       " 'node_to_sparql',\n",
       " 'nsBindings',\n",
       " 'objects',\n",
       " 'open',\n",
       " 'postAsEncoded',\n",
       " 'predicate_objects',\n",
       " 'predicates',\n",
       " 'prefix',\n",
       " 'query',\n",
       " 'query_endpoint',\n",
       " 'regex_matching',\n",
       " 'remove',\n",
       " 'remove_graph',\n",
       " 'returnFormat',\n",
       " 'rollback',\n",
       " 'setTimeout',\n",
       " 'sparql11',\n",
       " 'subject_objects',\n",
       " 'subject_predicates',\n",
       " 'subjects',\n",
       " 'transaction_aware',\n",
       " 'triples',\n",
       " 'triples_choices',\n",
       " 'update',\n",
       " 'update_endpoint',\n",
       " 'where_pattern']"
      ]
     },
     "execution_count": 33,
     "metadata": {},
     "output_type": "execute_result"
    }
   ],
   "source": [
    "dir(store)"
   ]
  },
  {
   "cell_type": "code",
   "execution_count": null,
   "metadata": {},
   "outputs": [],
   "source": [
    "D = \"\"\"\n",
    "rdf: <http://www.w3.org/1999/02/22-rdf-syntax-ns#> \n",
    "bf: <http://id.loc.gov/ontologies/bibframe/>\n",
    "\n",
    "DELETE DATA \n",
    "{\n",
    "    ?s rdf:type bf:Text \n",
    "}\n",
    "\"\"\"\n",
    "\n",
    "store.update(D)"
   ]
  }
 ],
 "metadata": {
  "kernelspec": {
   "display_name": "Python 3.10.4 ('venv': venv)",
   "language": "python",
   "name": "python3"
  },
  "language_info": {
   "codemirror_mode": {
    "name": "ipython",
    "version": 3
   },
   "file_extension": ".py",
   "mimetype": "text/x-python",
   "name": "python",
   "nbconvert_exporter": "python",
   "pygments_lexer": "ipython3",
   "version": "3.10.4"
  },
  "orig_nbformat": 4,
  "vscode": {
   "interpreter": {
    "hash": "07e9a7747076dd9c6ca4900cebf2f1c383a3daca5ec697fd1a5967a0211e38b7"
   }
  }
 },
 "nbformat": 4,
 "nbformat_minor": 2
}
