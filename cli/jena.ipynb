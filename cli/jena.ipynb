{
 "cells": [
  {
   "cell_type": "code",
   "execution_count": 6,
   "metadata": {},
   "outputs": [],
   "source": [
    "import rdflib\n",
    "from pyfuseki import FusekiUpdate\n",
    "from rdflib.plugins.stores import sparqlstore"
   ]
  },
  {
   "cell_type": "code",
   "execution_count": 12,
   "metadata": {},
   "outputs": [],
   "source": [
    "g = rdflib.Graph()\n",
    "G = rdflib.ConjunctiveGraph()"
   ]
  },
  {
   "cell_type": "code",
   "execution_count": 13,
   "metadata": {},
   "outputs": [
    {
     "data": {
      "text/plain": [
       "<Graph identifier=file:///c:/Users/Usu%C3%A1rio/Desktop/BiblioKeia/cli/named_graph.trig (<class 'rdflib.graph.Graph'>)>"
      ]
     },
     "execution_count": 13,
     "metadata": {},
     "output_type": "execute_result"
    }
   ],
   "source": [
    "G.parse('named_graph.trig')"
   ]
  },
  {
   "cell_type": "code",
   "execution_count": 15,
   "metadata": {},
   "outputs": [
    {
     "data": {
      "text/plain": [
       "'@prefix ex: <http://example.org/> .\\n@prefix foaf: <http://xmlns.com/foaf/0.1/> .\\n\\nex:graph2 {\\n    ex:martha a foaf:Person ;\\n        foaf:name \"Martha\" .\\n}\\n\\nex:graph1 {\\n    ex:alice a foaf:Person ;\\n        foaf:name \"Alice\" .\\n}\\n\\n'"
      ]
     },
     "execution_count": 15,
     "metadata": {},
     "output_type": "execute_result"
    }
   ],
   "source": [
    "G.serialize(format='trig')"
   ]
  },
  {
   "cell_type": "code",
   "execution_count": 17,
   "metadata": {},
   "outputs": [
    {
     "data": {
      "text/plain": [
       "<Graph identifier=Nd42c61b878874f4bad9b540129613595 (<class 'rdflib.graph.ConjunctiveGraph'>)>"
      ]
     },
     "execution_count": 17,
     "metadata": {},
     "output_type": "execute_result"
    }
   ],
   "source": []
  },
  {
   "cell_type": "code",
   "execution_count": 3,
   "metadata": {},
   "outputs": [],
   "source": [
    "fuseki = FusekiUpdate('http://localhost:3030', 'teste1')"
   ]
  },
  {
   "cell_type": "code",
   "execution_count": 40,
   "metadata": {},
   "outputs": [],
   "source": [
    "up = \"\"\"PREFIX ns: <http://mysparql.ai/ns#>\n",
    "INSERT DATA {\n",
    "    GRAPH ns:graph {\n",
    "        ns:book  ns:price  10 .\n",
    "    }\n",
    "}\"\"\""
   ]
  },
  {
   "cell_type": "code",
   "execution_count": 48,
   "metadata": {},
   "outputs": [],
   "source": [
    "w = \"\"\"PREFIX bf: <http://id.loc.gov/ontologies/bibframe/>\n",
    "PREFIX rdf: <http://www.w3.org/1999/02/22-rdf-syntax-ns#>\n",
    "PREFIX bk: <http://bibliokeia.com/>\n",
    "PREFIX xsd: <http://www.w3.org/2001/XMLSchema#>\n",
    "INSERT DATA {\n",
    "        GRAPH bk:work1 {\n",
    "                bk:work1 rdf:type bf:Work .\n",
    "                bk:work1 rdf:type bf:Text .\n",
    "        }\n",
    "    }\n",
    "    \"\"\"\n",
    "\n"
   ]
  },
  {
   "cell_type": "code",
   "execution_count": 49,
   "metadata": {},
   "outputs": [],
   "source": [
    "query_endpoint = 'http://localhost:3030/teste1/query'\n",
    "update_endpoint = 'http://localhost:3030/teste1/update'\n",
    "store = sparqlstore.SPARQLUpdateStore()\n",
    "store.open((query_endpoint, update_endpoint))\n",
    "store.update(w)"
   ]
  },
  {
   "cell_type": "code",
   "execution_count": 10,
   "metadata": {},
   "outputs": [],
   "source": [
    "bob = \"\"\"@prefix ex: <http://example.org/> .\n",
    "@prefix foaf: <http://xmlns.com/foaf/0.1/> .\n",
    "\n",
    "ex:bob a foaf:Person ;\n",
    "     foaf:name \"Bob\" .\"\"\""
   ]
  },
  {
   "cell_type": "code",
   "execution_count": null,
   "metadata": {},
   "outputs": [],
   "source": [
    "fuseki.insert_graph(work)"
   ]
  },
  {
   "cell_type": "code",
   "execution_count": 37,
   "metadata": {},
   "outputs": [],
   "source": []
  },
  {
   "cell_type": "code",
   "execution_count": 21,
   "metadata": {},
   "outputs": [],
   "source": [
    "from Marc_to_Bibframe.Work.work import Work\n",
    "from Marc_to_Bibframe.Marc.marcWork import MarcWork\n",
    "import xml.etree.ElementTree as etree\n",
    "from xml.dom.minidom import parse\n",
    "from rdflib import URIRef\n"
   ]
  },
  {
   "cell_type": "code",
   "execution_count": 19,
   "metadata": {},
   "outputs": [],
   "source": [
    "path_marc = r'Koha/E1P1.xml'\n",
    "marc_file = parse(path_marc)\n",
    "records = marc_file.getElementsByTagName('record')\n",
    "record = records[0]\n",
    "marcxml = etree.fromstring(record.toxml())\n",
    "workMarc = MarcWork(marcxml)\n"
   ]
  },
  {
   "cell_type": "code",
   "execution_count": 22,
   "metadata": {},
   "outputs": [],
   "source": [
    "count = 1\n",
    "uri = \"http://bibliokeia.com\"\n",
    "BFwork = URIRef(f\"{uri}/work/{count}\")\n",
    "BFinstance = URIRef(f\"{uri}/instance/{count}\")\n",
    "work = Work(count, workMarc, BFwork, BFinstance, uri)"
   ]
  },
  {
   "cell_type": "code",
   "execution_count": 34,
   "metadata": {},
   "outputs": [
    {
     "name": "stderr",
     "output_type": "stream",
     "text": [
      "c:\\Users\\Usuário\\Desktop\\BiblioKeia\\cli\\venv\\lib\\site-packages\\rdflib\\plugins\\serializers\\nt.py:35: UserWarning: NTSerializer always uses UTF-8 encoding. Given encoding was: None\n",
      "  warnings.warn(\n"
     ]
    },
    {
     "data": {
      "text/plain": [
       "<Graph identifier=N4f106db91c9c44429fcbc02d8b876427 (<class 'rdflib.graph.Graph'>)>"
      ]
     },
     "execution_count": 34,
     "metadata": {},
     "output_type": "execute_result"
    }
   ],
   "source": [
    "work.serialize('testeNT.nt', format='nt')"
   ]
  }
 ],
 "metadata": {
  "kernelspec": {
   "display_name": "Python 3.10.4 ('venv': venv)",
   "language": "python",
   "name": "python3"
  },
  "language_info": {
   "codemirror_mode": {
    "name": "ipython",
    "version": 3
   },
   "file_extension": ".py",
   "mimetype": "text/x-python",
   "name": "python",
   "nbconvert_exporter": "python",
   "pygments_lexer": "ipython3",
   "version": "3.10.4"
  },
  "orig_nbformat": 4,
  "vscode": {
   "interpreter": {
    "hash": "07e9a7747076dd9c6ca4900cebf2f1c383a3daca5ec697fd1a5967a0211e38b7"
   }
  }
 },
 "nbformat": 4,
 "nbformat_minor": 2
}
