{
 "cells": [
  {
   "cell_type": "code",
   "execution_count": 1,
   "metadata": {},
   "outputs": [],
   "source": [
    "from Marc_to_Bibframe.Work.work import Work\n",
    "from Marc_to_Bibframe.Marc.marcWork import MarcWork\n",
    "import xml.etree.ElementTree as etree\n",
    "from xml.dom.minidom import parse\n",
    "from pyfuseki import FusekiUpdate\n",
    "from rdflib import Graph, Namespace, URIRef\n",
    "from rdflib.plugins.stores import sparqlstore"
   ]
  },
  {
   "cell_type": "code",
   "execution_count": 2,
   "metadata": {},
   "outputs": [],
   "source": [
    "path_marc = r'Koha/E1P1.xml'\n",
    "marc_file = parse(path_marc)\n",
    "records = marc_file.getElementsByTagName('record')\n",
    "record = records[0]\n",
    "marcxml = etree.fromstring(record.toxml())\n",
    "workMarc = MarcWork(marcxml)"
   ]
  },
  {
   "cell_type": "code",
   "execution_count": 3,
   "metadata": {},
   "outputs": [],
   "source": [
    "G1 = \"\"\"\n",
    "PREFIX bk: <http://bibliokeia.com/>\n",
    "PREFIX bf: <http://id.loc.gov/ontologies/bibframe/> \n",
    "PREFIX rdf: <http://www.w3.org/1999/02/22-rdf-syntax-ns#>\n",
    "PREFIX bflc: <http://id.loc.gov/ontologies/bflc/>\n",
    "PREFIX madsrdf: <http://www.loc.gov/mads/rdf/v1#>\n",
    "PREFIX rdfs: <http://www.w3.org/2000/01/rdf-schema#> \n",
    "PREFIX xsd: <http://www.w3.org/2001/XMLSchema#>\n",
    "\n",
    "INSERT DATA {\n",
    "    GRAPH bk:work\"\"\"\n",
    "\n",
    "G2 = \" {\"\n",
    "\n",
    "G3 = \"\"\"}\n",
    "}\"\"\""
   ]
  },
  {
   "cell_type": "code",
   "execution_count": null,
   "metadata": {},
   "outputs": [],
   "source": [
    "update_endpoint = 'http://localhost:3030/acervo/update'\n",
    "query_endpoint = 'http://localhost:3030/acervo/query'\n",
    "store = sparqlstore.SPARQLUpdateStore()\n",
    "store.open((query_endpoint, update_endpoint))\n",
    "\n",
    "\n",
    "\n",
    "count = 0\n",
    "uri = \"http://bibliokeia.com\"\n",
    "for record in records:\n",
    "    count += 1\n",
    "    marcxml = etree.fromstring(record.toxml())\n",
    "    workMarc = MarcWork(marcxml)\n",
    "    print(workMarc.Title().get('title'))\n",
    "    BFwork = URIRef(f\"{uri}/work/{count}\") \n",
    "    BFinstance = URIRef(f\"{uri}/instance/{count}\")\n",
    "    work = Work(count, workMarc, BFwork, BFinstance, uri)\n",
    "    nt = work.serialize(format='nt')\n",
    "    W = G1+str(count)+G2+nt+G3\n",
    "    store.update(W)\n"
   ]
  },
  {
   "cell_type": "code",
   "execution_count": 9,
   "metadata": {},
   "outputs": [],
   "source": [
    "update_endpoint = 'http://localhost:3030/acervo/update'\n",
    "query_endpoint = 'http://localhost:3030/acervo/query'\n",
    "store = sparqlstore.SPARQLUpdateStore()\n",
    "store.open((query_endpoint, update_endpoint))\n",
    "store.update(W)"
   ]
  },
  {
   "cell_type": "code",
   "execution_count": 4,
   "metadata": {},
   "outputs": [],
   "source": [
    "from rdflib.graph import Graph, ConjunctiveGraph, Collection\n",
    "from rdflib import URIRef, BNode, Literal\n",
    "from rdflib.namespace import RDF, RDFS"
   ]
  },
  {
   "cell_type": "code",
   "execution_count": 31,
   "metadata": {},
   "outputs": [
    {
     "data": {
      "text/plain": [
       "<Graph identifier=http://bibliokeia.com/work/1 (<class 'rdflib.graph.Graph'>)>"
      ]
     },
     "execution_count": 31,
     "metadata": {},
     "output_type": "execute_result"
    }
   ],
   "source": [
    "identifier = URIRef('http://bibliokeia.com/work/1')\n",
    "\n",
    "g = Graph(identifier=identifier)\n",
    "g.bind('rdf', RDF)\n",
    "g.bind('rdfs', RDFS)\n",
    "BF = Namespace(\"http://id.loc.gov/ontologies/bibframe/\")\n",
    "g.bind('bf', BF)\n",
    "BFLC = Namespace(\"http://id.loc.gov/ontologies/bflc/\")\n",
    "g.bind('bflc', BFLC)\n",
    "MADSRDF = Namespace(\"http://www.loc.gov/mads/rdf/v1#\")\n",
    "g.bind('madsrdf', MADSRDF)\n",
    "BK = Namespace(\"http://bibliokeia.com/\")\n",
    "g.bind('bk', BK)\n",
    "\n",
    "BFwork = URIRef(f\"{uri}/work/{count}\") \n",
    "g.add((BK.work1, RDF.type, BF.Work)) \n",
    "g.add((BK.work1, RDF.type, BF.Text))\n",
    "adm = BNode()\n",
    "g.add((BK.work1, BF.adminMetadata, adm))"
   ]
  },
  {
   "cell_type": "code",
   "execution_count": 32,
   "metadata": {},
   "outputs": [
    {
     "data": {
      "text/plain": [
       "<Graph identifier=http://bibliokeia.com/work/1 (<class 'rdflib.graph.Graph'>)>"
      ]
     },
     "execution_count": 32,
     "metadata": {},
     "output_type": "execute_result"
    }
   ],
   "source": [
    "g.serialize('teste.ttl')"
   ]
  },
  {
   "cell_type": "code",
   "execution_count": 37,
   "metadata": {},
   "outputs": [
    {
     "data": {
      "text/plain": [
       "<SPARQLWrapper.Wrapper.QueryResult at 0x26596322140>"
      ]
     },
     "execution_count": 37,
     "metadata": {},
     "output_type": "execute_result"
    }
   ],
   "source": [
    "fuseki.insert_graph(g)"
   ]
  },
  {
   "cell_type": "code",
   "execution_count": 35,
   "metadata": {},
   "outputs": [
    {
     "data": {
      "text/plain": [
       "<Graph identifier=N962582fbf4f246129a47b6ca122ab333 (<class 'rdflib.graph.Graph'>)>"
      ]
     },
     "execution_count": 35,
     "metadata": {},
     "output_type": "execute_result"
    }
   ],
   "source": [
    "g = Graph()\n",
    "g.bind('rdf', RDF)\n",
    "TS = Namespace(\"http://teste.org/\")\n",
    "g.bind('ts', TS)\n",
    "FOAF = Namespace(\"http://xmlns.com/foaf/0.1/\")\n",
    "g.bind('foaf', FOAF)\n",
    "\n",
    "g.add((TS.eu, RDF.type, FOAF.Person)) \n",
    "g.add((TS.eu, FOAF.name, Literal('Inácio'))) "
   ]
  },
  {
   "cell_type": "code",
   "execution_count": 58,
   "metadata": {},
   "outputs": [
    {
     "data": {
      "text/plain": [
       "<Graph identifier=http://example.com (<class 'rdflib.graph.ConjunctiveGraph'>)>"
      ]
     },
     "execution_count": 58,
     "metadata": {},
     "output_type": "execute_result"
    }
   ],
   "source": [
    "from rdflib import Graph, ConjunctiveGraph, Literal, URIRef\n",
    "from rdflib.namespace import RDF, RDFS\n",
    "cj = ConjunctiveGraph(identifier=URIRef(\"http://example.com\"))\n",
    "cj.add(\n",
    "    (\n",
    "        URIRef(\"http://example.com\"), \n",
    "        RDFS.label, \n",
    "        Literal(\"example 1\"),\n",
    "URIRef(\"http://example.com/TESTE2\")\n",
    ")\n",
    ")\n"
   ]
  },
  {
   "cell_type": "code",
   "execution_count": 15,
   "metadata": {},
   "outputs": [],
   "source": [
    "\n",
    "update_endpoint = 'http://localhost:3030/acervo/update'\n",
    "query_endpoint = 'http://localhost:3030/acervo/query'\n",
    "store = sparqlstore.SPARQLUpdateStore()\n",
    "store.open((query_endpoint, update_endpoint))"
   ]
  },
  {
   "cell_type": "code",
   "execution_count": 37,
   "metadata": {},
   "outputs": [],
   "source": [
    "s = g.serialize( format='trig')"
   ]
  },
  {
   "cell_type": "code",
   "execution_count": 49,
   "metadata": {},
   "outputs": [],
   "source": [
    "from SPARQLWrapper import SPARQLWrapper"
   ]
  },
  {
   "cell_type": "code",
   "execution_count": 50,
   "metadata": {},
   "outputs": [],
   "source": [
    "client = SPARQLWrapper(update_endpoint)"
   ]
  },
  {
   "cell_type": "code",
   "execution_count": 37,
   "metadata": {},
   "outputs": [],
   "source": [
    "w = \"\"\"\n",
    "PREFIX bk: <http://bibliokeia.com/>\n",
    "PREFIX bf: <http://id.loc.gov/ontologies/bibframe/> \n",
    "PREFIX rdf: <http://www.w3.org/1999/02/22-rdf-syntax-ns#>\n",
    "PREFIX bflc: <http://id.loc.gov/ontologies/bflc/>\n",
    "INSERT DATA {\n",
    "    GRAPH bk:work1 {\n",
    "        bk:work1 rdf:type bf:Work ;\n",
    "            rdf:type bf:Text ;\n",
    "            bf:content <http://id.loc.gov/vocabulary/contentTypes/txt> ;\n",
    "            bf:classification _:b0 ;\n",
    "            bf:contribution _:b1 .\n",
    "        _:b0 rdf:type bf:ClassificationDdc ;\n",
    "            bf:classificationPortion '001' . \n",
    "        _:b1 rdf:type bflc:PrimaryContribution      \n",
    "    }\n",
    "}\"\"\""
   ]
  },
  {
   "cell_type": "code",
   "execution_count": 16,
   "metadata": {},
   "outputs": [],
   "source": [
    "w = \"\"\"\n",
    "PREFIX bk: <http://bibliokeia.com/>\n",
    "PREFIX bf: <http://id.loc.gov/ontologies/bibframe/> \n",
    "PREFIX rdf: <http://www.w3.org/1999/02/22-rdf-syntax-ns#>\n",
    "PREFIX bflc: <http://id.loc.gov/ontologies/bflc/>\n",
    "INSERT DATA {\n",
    "    GRAPH bk:work18 {\"\"\"+n18+\"\"\"}\n",
    "}\"\"\""
   ]
  },
  {
   "cell_type": "code",
   "execution_count": 17,
   "metadata": {},
   "outputs": [],
   "source": [
    "query_endpoint = 'http://localhost:3030/teste1/query'\n",
    "update_endpoint = 'http://localhost:3030/teste1/update'\n",
    "store = sparqlstore.SPARQLUpdateStore()\n",
    "store.open((query_endpoint, update_endpoint))\n",
    "store.update(w)"
   ]
  },
  {
   "cell_type": "code",
   "execution_count": 15,
   "metadata": {},
   "outputs": [],
   "source": [
    "g = Graph()\n",
    "g.parse('cli/out/works/18.ttl')\n",
    "n18 = g.serialize(format='nt')"
   ]
  },
  {
   "cell_type": "code",
   "execution_count": 67,
   "metadata": {},
   "outputs": [],
   "source": [
    "\n",
    "update_endpoint = 'http://localhost:3030/acervo/update'\n",
    "query_endpoint = 'http://localhost:3030/acervo/query'\n",
    "store = sparqlstore.SPARQLUpdateStore()\n",
    "store.open((query_endpoint, update_endpoint))\n",
    "store.update(n18)"
   ]
  },
  {
   "cell_type": "code",
   "execution_count": 3,
   "metadata": {},
   "outputs": [
    {
     "ename": "NameError",
     "evalue": "name 'RDF' is not defined",
     "output_type": "error",
     "traceback": [
      "\u001b[1;31m---------------------------------------------------------------------------\u001b[0m",
      "\u001b[1;31mNameError\u001b[0m                                 Traceback (most recent call last)",
      "\u001b[1;32mc:\\Users\\Usuário\\Desktop\\BiblioKeia\\cli\\jena.ipynb Célula: 21\u001b[0m in \u001b[0;36m<cell line: 3>\u001b[1;34m()\u001b[0m\n\u001b[0;32m      <a href='vscode-notebook-cell:/c%3A/Users/Usu%C3%A1rio/Desktop/BiblioKeia/cli/jena.ipynb#X26sZmlsZQ%3D%3D?line=0'>1</a>\u001b[0m g \u001b[39m=\u001b[39m Graph()\n\u001b[0;32m      <a href='vscode-notebook-cell:/c%3A/Users/Usu%C3%A1rio/Desktop/BiblioKeia/cli/jena.ipynb#X26sZmlsZQ%3D%3D?line=1'>2</a>\u001b[0m \u001b[39m#Prefix\u001b[39;00m\n\u001b[1;32m----> <a href='vscode-notebook-cell:/c%3A/Users/Usu%C3%A1rio/Desktop/BiblioKeia/cli/jena.ipynb#X26sZmlsZQ%3D%3D?line=2'>3</a>\u001b[0m g\u001b[39m.\u001b[39mbind(\u001b[39m'\u001b[39m\u001b[39mrdf\u001b[39m\u001b[39m'\u001b[39m, RDF)\n\u001b[0;32m      <a href='vscode-notebook-cell:/c%3A/Users/Usu%C3%A1rio/Desktop/BiblioKeia/cli/jena.ipynb#X26sZmlsZQ%3D%3D?line=3'>4</a>\u001b[0m g\u001b[39m.\u001b[39mbind(\u001b[39m'\u001b[39m\u001b[39mrdfs\u001b[39m\u001b[39m'\u001b[39m, RDFS)\n\u001b[0;32m      <a href='vscode-notebook-cell:/c%3A/Users/Usu%C3%A1rio/Desktop/BiblioKeia/cli/jena.ipynb#X26sZmlsZQ%3D%3D?line=4'>5</a>\u001b[0m BF \u001b[39m=\u001b[39m Namespace(\u001b[39m\"\u001b[39m\u001b[39mhttp://id.loc.gov/ontologies/bibframe/\u001b[39m\u001b[39m\"\u001b[39m)\n",
      "\u001b[1;31mNameError\u001b[0m: name 'RDF' is not defined"
     ]
    }
   ],
   "source": [
    "g = Graph()\n",
    "#Prefix\n",
    "g.bind('rdf', RDF)\n",
    "g.bind('rdfs', RDFS)\n",
    "BF = Namespace(\"http://id.loc.gov/ontologies/bibframe/\")\n",
    "g.bind('bf', BF)\n",
    "BFLC = Namespace(\"http://id.loc.gov/ontologies/bflc/\")\n",
    "g.bind('bflc', BFLC)\n",
    "MADSRDF = Namespace(\"http://www.loc.gov/mads/rdf/v1#\")\n",
    "g.bind('madsrdf', MADSRDF)"
   ]
  }
 ],
 "metadata": {
  "kernelspec": {
   "display_name": "Python 3.10.4 ('venv': venv)",
   "language": "python",
   "name": "python3"
  },
  "language_info": {
   "codemirror_mode": {
    "name": "ipython",
    "version": 3
   },
   "file_extension": ".py",
   "mimetype": "text/x-python",
   "name": "python",
   "nbconvert_exporter": "python",
   "pygments_lexer": "ipython3",
   "version": "3.10.4 (tags/v3.10.4:9d38120, Mar 23 2022, 23:13:41) [MSC v.1929 64 bit (AMD64)]"
  },
  "orig_nbformat": 4,
  "vscode": {
   "interpreter": {
    "hash": "7c803f0ee3b2b2cd03f94fb28d6f360d094e6843888122798203f226e128b66e"
   }
  }
 },
 "nbformat": 4,
 "nbformat_minor": 2
}
