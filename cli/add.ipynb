{
 "cells": [
  {
   "cell_type": "code",
   "execution_count": 1,
   "metadata": {},
   "outputs": [],
   "source": [
    "from rdflib.plugins.stores.sparqlstore import SPARQLUpdateStore\n",
    "from rdflib import Graph, Namespace, URIRef\n",
    "\n",
    "from xml.dom.minidom import parse\n",
    "import xml.etree.ElementTree as etree\n",
    "from Marc_to_Bibframe.Marc.marcWork import MarcWork\n",
    "from Marc_to_Bibframe.Marc.marcInstance import MarcInstance\n",
    "from Marc_to_Bibframe.Marc.marcItems import MarcItems\n",
    "from Marc_to_Bibframe.Work.work import Work\n",
    "from Marc_to_Bibframe.Instance.instance import Instance\n",
    "\n",
    "import pysolr\n",
    "from Solr.solr import create_doc\n"
   ]
  },
  {
   "cell_type": "code",
   "execution_count": 87,
   "metadata": {},
   "outputs": [],
   "source": [
    "#JENA\n",
    "store = SPARQLUpdateStore(update_endpoint='http://localhost:3030/bibframe/update')\n",
    "query_endpoint = 'http://localhost:3030/bibframe/query'\n",
    "update_endpoint = 'http://localhost:3030/bibframe/update'\n",
    "store.open((query_endpoint, update_endpoint))\n",
    "\n"
   ]
  },
  {
   "cell_type": "code",
   "execution_count": 2,
   "metadata": {},
   "outputs": [
    {
     "data": {
      "text/plain": [
       "'{\\n  \"responseHeader\":{\\n    \"zkConnected\":null,\\n    \"status\":0,\\n    \"QTime\":3,\\n    \"params\":{\\n      \"q\":\"{!lucene}*:*\",\\n      \"distrib\":\"false\",\\n      \"df\":\"_text_\",\\n      \"rows\":\"10\",\\n      \"echoParams\":\"all\",\\n      \"rid\":\"localhost-3\"}},\\n  \"status\":\"OK\"}\\n'"
      ]
     },
     "execution_count": 2,
     "metadata": {},
     "output_type": "execute_result"
    }
   ],
   "source": [
    "#SOLR\n",
    "solr = pysolr.Solr('http://localhost:8983/solr/search/', timeout=10)\n",
    "solr.ping()"
   ]
  },
  {
   "cell_type": "code",
   "execution_count": 3,
   "metadata": {},
   "outputs": [],
   "source": [
    "def Make_Graph(nt, bf, count ):\n",
    "    G1 = \"PREFIX bk: <http://bibliokeia.com/bibframe/\"+bf+\"\"\"/>\n",
    "    PREFIX bf: <http://id.loc.gov/ontologies/bibframe/> \n",
    "    PREFIX rdf: <http://www.w3.org/1999/02/22-rdf-syntax-ns#>\n",
    "    PREFIX bflc: <http://id.loc.gov/ontologies/bflc/>\n",
    "    PREFIX madsrdf: <http://www.loc.gov/mads/rdf/v1#>\n",
    "    PREFIX rdfs: <http://www.w3.org/2000/01/rdf-schema#> \n",
    "    PREFIX xsd: <http://www.w3.org/2001/XMLSchema#>\n",
    "\n",
    "    INSERT DATA {\n",
    "        GRAPH bk:\"\"\"\n",
    "\n",
    "    G2 = \" {\"\n",
    "\n",
    "    G3 = \"\"\"}\n",
    "    }\"\"\"\n",
    "\n",
    "    G = G1+str(count)+\" { \\n\"+nt+\"}}\"\n",
    "\n",
    "    return G"
   ]
  },
  {
   "cell_type": "code",
   "execution_count": 15,
   "metadata": {},
   "outputs": [
    {
     "name": "stdout",
     "output_type": "stream",
     "text": [
      "0\n",
      "Pesquisas amazônicas\n"
     ]
    },
    {
     "ename": "AssertionError",
     "evalue": "Subject None must be an rdflib term",
     "output_type": "error",
     "traceback": [
      "\u001b[1;31m---------------------------------------------------------------------------\u001b[0m",
      "\u001b[1;31mAssertionError\u001b[0m                            Traceback (most recent call last)",
      "\u001b[1;32mc:\\Users\\Usuário\\Desktop\\BiblioKeia\\cli\\add.ipynb Célula: 5\u001b[0m in \u001b[0;36m<cell line: 49>\u001b[1;34m()\u001b[0m\n\u001b[0;32m     <a href='vscode-notebook-cell:/c%3A/Users/Usu%C3%A1rio/Desktop/BiblioKeia/cli/add.ipynb#W4sZmlsZQ%3D%3D?line=46'>47</a>\u001b[0m path_marc \u001b[39m=\u001b[39m \u001b[39mr\u001b[39m\u001b[39m'\u001b[39m\u001b[39mInput/E1/P3/koha.xml\u001b[39m\u001b[39m'\u001b[39m\n\u001b[0;32m     <a href='vscode-notebook-cell:/c%3A/Users/Usu%C3%A1rio/Desktop/BiblioKeia/cli/add.ipynb#W4sZmlsZQ%3D%3D?line=47'>48</a>\u001b[0m count \u001b[39m=\u001b[39m \u001b[39m43\u001b[39m\n\u001b[1;32m---> <a href='vscode-notebook-cell:/c%3A/Users/Usu%C3%A1rio/Desktop/BiblioKeia/cli/add.ipynb#W4sZmlsZQ%3D%3D?line=48'>49</a>\u001b[0m Upadate(path_marc, count, \u001b[39m\"\u001b[39;49m\u001b[39mE1.P3\u001b[39;49m\u001b[39m\"\u001b[39;49m)\n",
      "\u001b[1;32mc:\\Users\\Usuário\\Desktop\\BiblioKeia\\cli\\add.ipynb Célula: 5\u001b[0m in \u001b[0;36mUpadate\u001b[1;34m(path_marc, count, shelf)\u001b[0m\n\u001b[0;32m     <a href='vscode-notebook-cell:/c%3A/Users/Usu%C3%A1rio/Desktop/BiblioKeia/cli/add.ipynb#W4sZmlsZQ%3D%3D?line=21'>22</a>\u001b[0m BFinstance \u001b[39m=\u001b[39m URIRef(\u001b[39mf\u001b[39m\u001b[39m\"\u001b[39m\u001b[39mhttp://bibliokeia.com/bibframe/instance/\u001b[39m\u001b[39m{\u001b[39;00mcount\u001b[39m}\u001b[39;00m\u001b[39m\"\u001b[39m)\n\u001b[0;32m     <a href='vscode-notebook-cell:/c%3A/Users/Usu%C3%A1rio/Desktop/BiblioKeia/cli/add.ipynb#W4sZmlsZQ%3D%3D?line=22'>23</a>\u001b[0m \u001b[39m#Work\u001b[39;00m\n\u001b[1;32m---> <a href='vscode-notebook-cell:/c%3A/Users/Usu%C3%A1rio/Desktop/BiblioKeia/cli/add.ipynb#W4sZmlsZQ%3D%3D?line=23'>24</a>\u001b[0m work \u001b[39m=\u001b[39m Work(count, workMarc, BFwork, BFinstance)\n\u001b[0;32m     <a href='vscode-notebook-cell:/c%3A/Users/Usu%C3%A1rio/Desktop/BiblioKeia/cli/add.ipynb#W4sZmlsZQ%3D%3D?line=24'>25</a>\u001b[0m work\u001b[39m.\u001b[39mserialize(\u001b[39mf\u001b[39m\u001b[39m'\u001b[39m\u001b[39mout/E1/P3/works/\u001b[39m\u001b[39m{\u001b[39;00mcount\u001b[39m}\u001b[39;00m\u001b[39m.ttl\u001b[39m\u001b[39m'\u001b[39m, \u001b[39mformat\u001b[39m\u001b[39m=\u001b[39m\u001b[39m'\u001b[39m\u001b[39mturtle\u001b[39m\u001b[39m'\u001b[39m)\n\u001b[0;32m     <a href='vscode-notebook-cell:/c%3A/Users/Usu%C3%A1rio/Desktop/BiblioKeia/cli/add.ipynb#W4sZmlsZQ%3D%3D?line=25'>26</a>\u001b[0m nt \u001b[39m=\u001b[39m work\u001b[39m.\u001b[39mserialize(\u001b[39mformat\u001b[39m\u001b[39m=\u001b[39m\u001b[39m'\u001b[39m\u001b[39mnt\u001b[39m\u001b[39m'\u001b[39m)\n",
      "File \u001b[1;32mc:\\Users\\Usuário\\Desktop\\BiblioKeia\\cli\\Marc_to_Bibframe\\Work\\work.py:53\u001b[0m, in \u001b[0;36mWork\u001b[1;34m(count, workMarc, BFwork, BFinstance)\u001b[0m\n\u001b[0;32m     51\u001b[0m \u001b[39m#Title\u001b[39;00m\n\u001b[0;32m     52\u001b[0m g \u001b[39m=\u001b[39m Title(g, BFwork, workMarc, BF)\n\u001b[1;32m---> 53\u001b[0m g \u001b[39m=\u001b[39m Subject(g, BFwork, uri, count, workMarc, BF, MADSRDF, RDFS)\n\u001b[0;32m     55\u001b[0m g \u001b[39m=\u001b[39m Type(g, BFwork, workMarc, BF)\n\u001b[0;32m     56\u001b[0m g\u001b[39m.\u001b[39madd((BFwork, BF\u001b[39m.\u001b[39mhasInstance, BFinstance))\n",
      "File \u001b[1;32mc:\\Users\\Usuário\\Desktop\\BiblioKeia\\cli\\Marc_to_Bibframe\\Work\\subject.py:34\u001b[0m, in \u001b[0;36mSubject\u001b[1;34m(g, work, uri, numberWork, workMarc, BF, MADSRDF, RDFS)\u001b[0m\n\u001b[0;32m     32\u001b[0m index \u001b[39m=\u001b[39m assuntos\u001b[39m.\u001b[39mindex(assunto)\u001b[39m+\u001b[39m\u001b[39m1\u001b[39m\n\u001b[0;32m     33\u001b[0m \u001b[39mif\u001b[39;00m index \u001b[39m!=\u001b[39m \u001b[39mlen\u001b[39m(assuntos):\n\u001b[1;32m---> 34\u001b[0m     g \u001b[39m=\u001b[39m FirstRest(g, node, assunto[\u001b[39m1\u001b[39;49m], assunto[\u001b[39m0\u001b[39;49m], assuntos[index][\u001b[39m0\u001b[39;49m])\n\u001b[0;32m     35\u001b[0m     \u001b[39m#print(assunto[0], assuntos[index][0])  \u001b[39;00m\n\u001b[0;32m     36\u001b[0m \u001b[39melse\u001b[39;00m:\n\u001b[0;32m     37\u001b[0m     lastTopic \u001b[39m=\u001b[39m BNode()\n",
      "File \u001b[1;32mc:\\Users\\Usuário\\Desktop\\BiblioKeia\\cli\\Marc_to_Bibframe\\Work\\subject.py:10\u001b[0m, in \u001b[0;36mSubject.<locals>.FirstRest\u001b[1;34m(g, node, assunto, first, rest)\u001b[0m\n\u001b[0;32m      8\u001b[0m \u001b[39mdef\u001b[39;00m \u001b[39mFirstRest\u001b[39m(g, node, assunto, first, rest):\n\u001b[0;32m      9\u001b[0m     topico \u001b[39m=\u001b[39m BNode()\n\u001b[1;32m---> 10\u001b[0m     g\u001b[39m.\u001b[39;49madd((node\u001b[39m.\u001b[39;49mget(first), RDF\u001b[39m.\u001b[39;49mfirst, topico))\n\u001b[0;32m     11\u001b[0m     g\u001b[39m.\u001b[39madd((topico, RDF\u001b[39m.\u001b[39mtype, MADSRDF\u001b[39m.\u001b[39mTopic))\n\u001b[0;32m     12\u001b[0m     g\u001b[39m.\u001b[39madd((topico, MADSRDF\u001b[39m.\u001b[39mauthoritativeLabel, Literal(assunto)))\n",
      "File \u001b[1;32mc:\\Users\\Usuário\\Desktop\\BiblioKeia\\cli\\venv\\lib\\site-packages\\rdflib\\graph.py:454\u001b[0m, in \u001b[0;36mGraph.add\u001b[1;34m(self, triple)\u001b[0m\n\u001b[0;32m    452\u001b[0m \u001b[39m\"\"\"Add a triple with self as context\"\"\"\u001b[39;00m\n\u001b[0;32m    453\u001b[0m s, p, o \u001b[39m=\u001b[39m triple\n\u001b[1;32m--> 454\u001b[0m \u001b[39massert\u001b[39;00m \u001b[39misinstance\u001b[39m(s, Node), \u001b[39m\"\u001b[39m\u001b[39mSubject \u001b[39m\u001b[39m%s\u001b[39;00m\u001b[39m must be an rdflib term\u001b[39m\u001b[39m\"\u001b[39m \u001b[39m%\u001b[39m (s,)\n\u001b[0;32m    455\u001b[0m \u001b[39massert\u001b[39;00m \u001b[39misinstance\u001b[39m(p, Node), \u001b[39m\"\u001b[39m\u001b[39mPredicate \u001b[39m\u001b[39m%s\u001b[39;00m\u001b[39m must be an rdflib term\u001b[39m\u001b[39m\"\u001b[39m \u001b[39m%\u001b[39m (p,)\n\u001b[0;32m    456\u001b[0m \u001b[39massert\u001b[39;00m \u001b[39misinstance\u001b[39m(o, Node), \u001b[39m\"\u001b[39m\u001b[39mObject \u001b[39m\u001b[39m%s\u001b[39;00m\u001b[39m must be an rdflib term\u001b[39m\u001b[39m\"\u001b[39m \u001b[39m%\u001b[39m (o,)\n",
      "\u001b[1;31mAssertionError\u001b[0m: Subject None must be an rdflib term"
     ]
    }
   ],
   "source": [
    "def Upadate(path_marc, count, shelf):\n",
    "    \n",
    "    marc_file = parse(path_marc)\n",
    "    records = marc_file.getElementsByTagName('record')\n",
    "\n",
    "    docs = list()\n",
    "    for record in records:\n",
    "        \n",
    "        marcxml = etree.fromstring(record.toxml())\n",
    "        workMarc = MarcWork(marcxml)\n",
    "        instanceMarc = MarcInstance(marcxml)\n",
    "        itemsMarc = MarcItems(marcxml)\n",
    "        print(records.index(record))\n",
    "        print(workMarc.Title().get('title'))\n",
    "\n",
    "        #SOLR\n",
    "        doc = create_doc(workMarc, instanceMarc, itemsMarc, 'Livro', shelf, count)\n",
    "        docs.append(doc)\n",
    "\n",
    "        #JENA\n",
    "        BFwork = URIRef(f\"http://bibliokeia.com/bibframe/work/{count}\") \n",
    "        BFinstance = URIRef(f\"http://bibliokeia.com/bibframe/instance/{count}\")\n",
    "        #Work\n",
    "        work = Work(count, workMarc, BFwork, BFinstance)\n",
    "        work.serialize(f'out/E1/P3/works/{count}.ttl', format='turtle')\n",
    "        nt = work.serialize(format='nt')\n",
    "        W = Make_Graph(nt, \"work\", count)\n",
    "        #store.update(W)\n",
    "        #Instance\n",
    "        instance = Instance(count, workMarc, instanceMarc, itemsMarc, BFwork, BFinstance, shelf)\n",
    "        i = instance.get('instance')\n",
    "        #i.serialize(f'out/E1/P2/instances/{count}.ttl', format='turtle')\n",
    "        i_nt = i.serialize(format='nt')\n",
    "        I = Make_Graph(i_nt, \"instance\", count)\n",
    "        #store.update(I)\n",
    "        #Items\n",
    "        items = instance.get('items')\n",
    "        for item, register in items:\n",
    "            item.serialize(f'out/E1/P2/items/{register}.ttl', format='turtle')\n",
    "            item_nt = item.serialize(format='nt')\n",
    "            Item = Make_Graph(item_nt, \"item\", register)\n",
    "            #store.update(Item)\n",
    "\n",
    "            \n",
    "        count += 1\n",
    "\n",
    "path_marc = r'Input/E1/P3/koha.xml'\n",
    "count = 43\n",
    "Upadate(path_marc, count, \"E1.P3\")"
   ]
  },
  {
   "cell_type": "code",
   "execution_count": 10,
   "metadata": {},
   "outputs": [
    {
     "data": {
      "text/plain": [
       "{'id': 19,\n",
       " 'call': '001.4 M916',\n",
       " 'shelf': 'E1.P2',\n",
       " 'title': 'Resumos',\n",
       " 'responsibilities': 'I Mostra Técnico-Científica da Universidade do Amazonas, Manaus, AM, 1999.',\n",
       " 'place': 'Manaus',\n",
       " 'publisher': 'UA',\n",
       " 'year': '1999',\n",
       " 'subject': ['Ciência--Amazonas--Congressos',\n",
       "  'Tecnologia--Amazonas--Congressos'],\n",
       " 'type': 'Livro',\n",
       " 'items': ['05-0436'],\n",
       " 'author': None}"
      ]
     },
     "execution_count": 10,
     "metadata": {},
     "output_type": "execute_result"
    }
   ],
   "source": [
    "docs[0]"
   ]
  },
  {
   "cell_type": "code",
   "execution_count": 10,
   "metadata": {},
   "outputs": [
    {
     "data": {
      "text/plain": [
       "'{\\n  \"responseHeader\":{\\n    \"status\":0,\\n    \"QTime\":379}}\\n'"
      ]
     },
     "execution_count": 10,
     "metadata": {},
     "output_type": "execute_result"
    }
   ],
   "source": [
    "solr.add(docs, commit=True)"
   ]
  },
  {
   "cell_type": "code",
   "execution_count": 9,
   "metadata": {},
   "outputs": [
    {
     "data": {
      "text/plain": [
       "{'id': 28,\n",
       " 'call': '001.4098115 F144f',\n",
       " 'shelf': 'E1.P2',\n",
       " 'title': 'FADESP, Fundação de Amaparo e Desenvolvimento da Pesquisa, Belém-Pará.',\n",
       " 'responsibilities': False,\n",
       " 'place': 'Belém',\n",
       " 'publisher': 'A Fundação',\n",
       " 'year': '1984',\n",
       " 'subject': ['Pesquisa--Pará'],\n",
       " 'type': 'Livro',\n",
       " 'items': ['84-0568'],\n",
       " 'author': None}"
      ]
     },
     "execution_count": 9,
     "metadata": {},
     "output_type": "execute_result"
    }
   ],
   "source": [
    "docs[9]"
   ]
  },
  {
   "cell_type": "code",
   "execution_count": 13,
   "metadata": {},
   "outputs": [],
   "source": [
    "path_marc = r'Koha/E1/P2/koha.xml'\n",
    "marc_file = parse(path_marc)\n",
    "records = marc_file.getElementsByTagName('record')\n",
    "\n",
    "count = 3\n",
    "record = records[count]\n",
    "marcxml = etree.fromstring(record.toxml())\n",
    "workMarc = MarcWork(marcxml)\n",
    "instanceMarc = MarcInstance(marcxml)\n",
    "itemsMarc = MarcItems(marcxml)\n",
    "BFwork = URIRef(f\"http://bibliokeia.com/bibframe/work/{count}\") \n",
    "BFinstance = URIRef(f\"http://bibliokeia.com/bibframe/instance/{count}\")\n",
    "work = Work(count, workMarc, BFwork, BFinstance)\n",
    "instance = Instance(count, workMarc, instanceMarc, itemsMarc, BFwork, BFinstance, 'E1.P2')"
   ]
  },
  {
   "cell_type": "code",
   "execution_count": 14,
   "metadata": {},
   "outputs": [
    {
     "data": {
      "text/plain": [
       "'1996'"
      ]
     },
     "execution_count": 14,
     "metadata": {},
     "output_type": "execute_result"
    }
   ],
   "source": [
    "year = instanceMarc.Publication().get('year')\n",
    "year"
   ]
  },
  {
   "cell_type": "code",
   "execution_count": 16,
   "metadata": {},
   "outputs": [
    {
     "data": {
      "text/plain": [
       "'[1984?].'"
      ]
     },
     "execution_count": 16,
     "metadata": {},
     "output_type": "execute_result"
    }
   ],
   "source": [
    "marcxml.find(\"datafield/[@tag='260']\"\\\n",
    "                                \"/subfield/[@code='c']\").text"
   ]
  },
  {
   "cell_type": "code",
   "execution_count": 22,
   "metadata": {},
   "outputs": [
    {
     "data": {
      "text/plain": [
       "'1984'"
      ]
     },
     "execution_count": 22,
     "metadata": {},
     "output_type": "execute_result"
    }
   ],
   "source": [
    "year.replace('[', '').replace('?]', '')"
   ]
  }
 ],
 "metadata": {
  "kernelspec": {
   "display_name": "Python 3.10.4 ('venv': venv)",
   "language": "python",
   "name": "python3"
  },
  "language_info": {
   "codemirror_mode": {
    "name": "ipython",
    "version": 3
   },
   "file_extension": ".py",
   "mimetype": "text/x-python",
   "name": "python",
   "nbconvert_exporter": "python",
   "pygments_lexer": "ipython3",
   "version": "3.10.4"
  },
  "orig_nbformat": 4,
  "vscode": {
   "interpreter": {
    "hash": "07e9a7747076dd9c6ca4900cebf2f1c383a3daca5ec697fd1a5967a0211e38b7"
   }
  }
 },
 "nbformat": 4,
 "nbformat_minor": 2
}
