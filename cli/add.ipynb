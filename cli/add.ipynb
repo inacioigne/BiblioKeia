{
 "cells": [
  {
   "cell_type": "code",
   "execution_count": 12,
   "metadata": {},
   "outputs": [],
   "source": [
    "from rdflib.plugins.stores.sparqlstore import SPARQLUpdateStore\n",
    "from rdflib import Graph, Namespace, URIRef\n",
    "\n",
    "from xml.dom.minidom import parse\n",
    "import xml.etree.ElementTree as etree\n",
    "from Marc_to_Bibframe.Marc.marcWork import MarcWork\n",
    "from Marc_to_Bibframe.Marc.marcInstance import MarcInstance\n",
    "from Marc_to_Bibframe.Marc.marcItems import MarcItems\n",
    "from Marc_to_Bibframe.Work.work import Work\n",
    "from Marc_to_Bibframe.Instance.instance import Instance\n",
    "\n",
    "import pysolr\n",
    "from Solr.solr import create_doc"
   ]
  },
  {
   "cell_type": "code",
   "execution_count": 13,
   "metadata": {},
   "outputs": [],
   "source": [
    "#JENA\n",
    "store = SPARQLUpdateStore(update_endpoint='http://localhost:3030/bibframe/update')\n",
    "query_endpoint = 'http://localhost:3030/bibframe/query'\n",
    "update_endpoint = 'http://localhost:3030/bibframe/update'\n",
    "store.open((query_endpoint, update_endpoint))"
   ]
  },
  {
   "cell_type": "code",
   "execution_count": 14,
   "metadata": {},
   "outputs": [
    {
     "data": {
      "text/plain": [
       "'{\\n  \"responseHeader\":{\\n    \"zkConnected\":null,\\n    \"status\":0,\\n    \"QTime\":12,\\n    \"params\":{\\n      \"q\":\"{!lucene}*:*\",\\n      \"distrib\":\"false\",\\n      \"df\":\"_text_\",\\n      \"rows\":\"10\",\\n      \"echoParams\":\"all\",\\n      \"rid\":\"localhost-18\"}},\\n  \"status\":\"OK\"}\\n'"
      ]
     },
     "execution_count": 14,
     "metadata": {},
     "output_type": "execute_result"
    }
   ],
   "source": [
    "#SOLR\n",
    "solr = pysolr.Solr('http://localhost:8983/solr/search/', timeout=10)\n",
    "solr.ping()"
   ]
  },
  {
   "cell_type": "code",
   "execution_count": 15,
   "metadata": {},
   "outputs": [],
   "source": [
    "def Make_Graph(nt, bf, count ):\n",
    "    G1 = \"PREFIX bk: <http://bibliokeia.com/bibframe/\"+bf+\"\"\"/>\n",
    "    PREFIX bf: <http://id.loc.gov/ontologies/bibframe/> \n",
    "    PREFIX rdf: <http://www.w3.org/1999/02/22-rdf-syntax-ns#>\n",
    "    PREFIX bflc: <http://id.loc.gov/ontologies/bflc/>\n",
    "    PREFIX madsrdf: <http://www.loc.gov/mads/rdf/v1#>\n",
    "    PREFIX rdfs: <http://www.w3.org/2000/01/rdf-schema#> \n",
    "    PREFIX xsd: <http://www.w3.org/2001/XMLSchema#>\n",
    "\n",
    "    INSERT DATA {\n",
    "        GRAPH bk:\"\"\"\n",
    "\n",
    "    G2 = \" {\"\n",
    "\n",
    "    G3 = \"\"\"}\n",
    "    }\"\"\"\n",
    "\n",
    "    G = G1+str(count)+\" { \\n\"+nt+\"}}\"\n",
    "\n",
    "    return G"
   ]
  },
  {
   "cell_type": "code",
   "execution_count": 16,
   "metadata": {},
   "outputs": [
    {
     "name": "stdout",
     "output_type": "stream",
     "text": [
      "0\n",
      "An introduction to RPG-RPG II programming\n"
     ]
    },
    {
     "name": "stderr",
     "output_type": "stream",
     "text": [
      "http://id.loc.gov/vocabulary/languages/ po does not look like a valid URI, trying to serialize this will break.\n"
     ]
    },
    {
     "name": "stdout",
     "output_type": "stream",
     "text": [
      "1\n",
      "Programacion con el lenguaje Cobol\n",
      "2\n",
      "Dominando o PostgreSQL\n"
     ]
    },
    {
     "ename": "Exception",
     "evalue": "\"http://id.loc.gov/vocabulary/languages/ po\" does not look like a valid URI, I cannot serialize this as N3/Turtle. Perhaps you wanted to urlencode it?",
     "output_type": "error",
     "traceback": [
      "\u001b[1;31m---------------------------------------------------------------------------\u001b[0m",
      "\u001b[1;31mException\u001b[0m                                 Traceback (most recent call last)",
      "\u001b[1;32mc:\\Users\\Usuário\\Desktop\\BiblioKeia\\cli\\add.ipynb Célula: 5\u001b[0m in \u001b[0;36m<cell line: 50>\u001b[1;34m()\u001b[0m\n\u001b[0;32m     <a href='vscode-notebook-cell:/c%3A/Users/Usu%C3%A1rio/Desktop/BiblioKeia/cli/add.ipynb#W4sZmlsZQ%3D%3D?line=47'>48</a>\u001b[0m path_marc \u001b[39m=\u001b[39m \u001b[39mf\u001b[39m\u001b[39m'\u001b[39m\u001b[39mInput/\u001b[39m\u001b[39m{\u001b[39;00mout\u001b[39m}\u001b[39;00m\u001b[39m/koha.xml\u001b[39m\u001b[39m'\u001b[39m\n\u001b[0;32m     <a href='vscode-notebook-cell:/c%3A/Users/Usu%C3%A1rio/Desktop/BiblioKeia/cli/add.ipynb#W4sZmlsZQ%3D%3D?line=48'>49</a>\u001b[0m count \u001b[39m=\u001b[39m \u001b[39m105\u001b[39m\n\u001b[1;32m---> <a href='vscode-notebook-cell:/c%3A/Users/Usu%C3%A1rio/Desktop/BiblioKeia/cli/add.ipynb#W4sZmlsZQ%3D%3D?line=49'>50</a>\u001b[0m Upadate(path_marc, count, \u001b[39m\"\u001b[39;49m\u001b[39mE2.P1\u001b[39;49m\u001b[39m\"\u001b[39;49m, out)\n",
      "\u001b[1;32mc:\\Users\\Usuário\\Desktop\\BiblioKeia\\cli\\add.ipynb Célula: 5\u001b[0m in \u001b[0;36mUpadate\u001b[1;34m(path_marc, count, shelf, out)\u001b[0m\n\u001b[0;32m     <a href='vscode-notebook-cell:/c%3A/Users/Usu%C3%A1rio/Desktop/BiblioKeia/cli/add.ipynb#W4sZmlsZQ%3D%3D?line=22'>23</a>\u001b[0m \u001b[39m#Work\u001b[39;00m\n\u001b[0;32m     <a href='vscode-notebook-cell:/c%3A/Users/Usu%C3%A1rio/Desktop/BiblioKeia/cli/add.ipynb#W4sZmlsZQ%3D%3D?line=23'>24</a>\u001b[0m work \u001b[39m=\u001b[39m Work(count, workMarc, BFwork, BFinstance)\n\u001b[1;32m---> <a href='vscode-notebook-cell:/c%3A/Users/Usu%C3%A1rio/Desktop/BiblioKeia/cli/add.ipynb#W4sZmlsZQ%3D%3D?line=24'>25</a>\u001b[0m work\u001b[39m.\u001b[39;49mserialize(\u001b[39mf\u001b[39;49m\u001b[39m'\u001b[39;49m\u001b[39mout/\u001b[39;49m\u001b[39m{\u001b[39;49;00mout\u001b[39m}\u001b[39;49;00m\u001b[39m/works/\u001b[39;49m\u001b[39m{\u001b[39;49;00mcount\u001b[39m}\u001b[39;49;00m\u001b[39m.ttl\u001b[39;49m\u001b[39m'\u001b[39;49m, \u001b[39mformat\u001b[39;49m\u001b[39m=\u001b[39;49m\u001b[39m'\u001b[39;49m\u001b[39mturtle\u001b[39;49m\u001b[39m'\u001b[39;49m)\n\u001b[0;32m     <a href='vscode-notebook-cell:/c%3A/Users/Usu%C3%A1rio/Desktop/BiblioKeia/cli/add.ipynb#W4sZmlsZQ%3D%3D?line=25'>26</a>\u001b[0m nt \u001b[39m=\u001b[39m work\u001b[39m.\u001b[39mserialize(\u001b[39mformat\u001b[39m\u001b[39m=\u001b[39m\u001b[39m'\u001b[39m\u001b[39mnt\u001b[39m\u001b[39m'\u001b[39m)\n\u001b[0;32m     <a href='vscode-notebook-cell:/c%3A/Users/Usu%C3%A1rio/Desktop/BiblioKeia/cli/add.ipynb#W4sZmlsZQ%3D%3D?line=26'>27</a>\u001b[0m W \u001b[39m=\u001b[39m Make_Graph(nt, \u001b[39m\"\u001b[39m\u001b[39mwork\u001b[39m\u001b[39m\"\u001b[39m, count)\n",
      "File \u001b[1;32mc:\\Users\\Usuário\\Desktop\\BiblioKeia\\venv\\lib\\site-packages\\rdflib\\graph.py:1206\u001b[0m, in \u001b[0;36mGraph.serialize\u001b[1;34m(self, destination, format, base, encoding, **args)\u001b[0m\n\u001b[0;32m   1204\u001b[0m fd, name \u001b[39m=\u001b[39m tempfile\u001b[39m.\u001b[39mmkstemp()\n\u001b[0;32m   1205\u001b[0m stream \u001b[39m=\u001b[39m os\u001b[39m.\u001b[39mfdopen(fd, \u001b[39m\"\u001b[39m\u001b[39mwb\u001b[39m\u001b[39m\"\u001b[39m)\n\u001b[1;32m-> 1206\u001b[0m serializer\u001b[39m.\u001b[39mserialize(stream, base\u001b[39m=\u001b[39mbase, encoding\u001b[39m=\u001b[39mencoding, \u001b[39m*\u001b[39m\u001b[39m*\u001b[39margs)\n\u001b[0;32m   1207\u001b[0m stream\u001b[39m.\u001b[39mclose()\n\u001b[0;32m   1208\u001b[0m dest \u001b[39m=\u001b[39m url2pathname(path) \u001b[39mif\u001b[39;00m scheme \u001b[39m==\u001b[39m \u001b[39m\"\u001b[39m\u001b[39mfile\u001b[39m\u001b[39m\"\u001b[39m \u001b[39melse\u001b[39;00m location\n",
      "File \u001b[1;32mc:\\Users\\Usuário\\Desktop\\BiblioKeia\\venv\\lib\\site-packages\\rdflib\\plugins\\serializers\\turtle.py:249\u001b[0m, in \u001b[0;36mTurtleSerializer.serialize\u001b[1;34m(self, stream, base, encoding, spacious, **args)\u001b[0m\n\u001b[0;32m    247\u001b[0m     \u001b[39mif\u001b[39;00m firstTime:\n\u001b[0;32m    248\u001b[0m         firstTime \u001b[39m=\u001b[39m \u001b[39mFalse\u001b[39;00m\n\u001b[1;32m--> 249\u001b[0m     \u001b[39mif\u001b[39;00m \u001b[39mself\u001b[39;49m\u001b[39m.\u001b[39;49mstatement(subject) \u001b[39mand\u001b[39;00m \u001b[39mnot\u001b[39;00m firstTime:\n\u001b[0;32m    250\u001b[0m         \u001b[39mself\u001b[39m\u001b[39m.\u001b[39mwrite(\u001b[39m\"\u001b[39m\u001b[39m\\n\u001b[39;00m\u001b[39m\"\u001b[39m)\n\u001b[0;32m    252\u001b[0m \u001b[39mself\u001b[39m\u001b[39m.\u001b[39mendDocument()\n",
      "File \u001b[1;32mc:\\Users\\Usuário\\Desktop\\BiblioKeia\\venv\\lib\\site-packages\\rdflib\\plugins\\serializers\\turtle.py:320\u001b[0m, in \u001b[0;36mTurtleSerializer.statement\u001b[1;34m(self, subject)\u001b[0m\n\u001b[0;32m    318\u001b[0m \u001b[39mdef\u001b[39;00m \u001b[39mstatement\u001b[39m(\u001b[39mself\u001b[39m, subject):\n\u001b[0;32m    319\u001b[0m     \u001b[39mself\u001b[39m\u001b[39m.\u001b[39msubjectDone(subject)\n\u001b[1;32m--> 320\u001b[0m     \u001b[39mreturn\u001b[39;00m \u001b[39mself\u001b[39m\u001b[39m.\u001b[39ms_squared(subject) \u001b[39mor\u001b[39;00m \u001b[39mself\u001b[39;49m\u001b[39m.\u001b[39;49ms_default(subject)\n",
      "File \u001b[1;32mc:\\Users\\Usuário\\Desktop\\BiblioKeia\\venv\\lib\\site-packages\\rdflib\\plugins\\serializers\\turtle.py:325\u001b[0m, in \u001b[0;36mTurtleSerializer.s_default\u001b[1;34m(self, subject)\u001b[0m\n\u001b[0;32m    323\u001b[0m \u001b[39mself\u001b[39m\u001b[39m.\u001b[39mwrite(\u001b[39m\"\u001b[39m\u001b[39m\\n\u001b[39;00m\u001b[39m\"\u001b[39m \u001b[39m+\u001b[39m \u001b[39mself\u001b[39m\u001b[39m.\u001b[39mindent())\n\u001b[0;32m    324\u001b[0m \u001b[39mself\u001b[39m\u001b[39m.\u001b[39mpath(subject, SUBJECT)\n\u001b[1;32m--> 325\u001b[0m \u001b[39mself\u001b[39;49m\u001b[39m.\u001b[39;49mpredicateList(subject)\n\u001b[0;32m    326\u001b[0m \u001b[39mself\u001b[39m\u001b[39m.\u001b[39mwrite(\u001b[39m\"\u001b[39m\u001b[39m .\u001b[39m\u001b[39m\"\u001b[39m)\n\u001b[0;32m    327\u001b[0m \u001b[39mreturn\u001b[39;00m \u001b[39mTrue\u001b[39;00m\n",
      "File \u001b[1;32mc:\\Users\\Usuário\\Desktop\\BiblioKeia\\venv\\lib\\site-packages\\rdflib\\plugins\\serializers\\turtle.py:431\u001b[0m, in \u001b[0;36mTurtleSerializer.predicateList\u001b[1;34m(self, subject, newline)\u001b[0m\n\u001b[0;32m    429\u001b[0m \u001b[39mself\u001b[39m\u001b[39m.\u001b[39mwrite(\u001b[39m\"\u001b[39m\u001b[39m ;\u001b[39m\u001b[39m\\n\u001b[39;00m\u001b[39m\"\u001b[39m \u001b[39m+\u001b[39m \u001b[39mself\u001b[39m\u001b[39m.\u001b[39mindent(\u001b[39m1\u001b[39m))\n\u001b[0;32m    430\u001b[0m \u001b[39mself\u001b[39m\u001b[39m.\u001b[39mverb(predicate, newline\u001b[39m=\u001b[39m\u001b[39mTrue\u001b[39;00m)\n\u001b[1;32m--> 431\u001b[0m \u001b[39mself\u001b[39;49m\u001b[39m.\u001b[39;49mobjectList(properties[predicate])\n",
      "File \u001b[1;32mc:\\Users\\Usuário\\Desktop\\BiblioKeia\\venv\\lib\\site-packages\\rdflib\\plugins\\serializers\\turtle.py:442\u001b[0m, in \u001b[0;36mTurtleSerializer.objectList\u001b[1;34m(self, objects)\u001b[0m\n\u001b[0;32m    440\u001b[0m depthmod \u001b[39m=\u001b[39m (count \u001b[39m==\u001b[39m \u001b[39m1\u001b[39m) \u001b[39mand\u001b[39;00m \u001b[39m0\u001b[39m \u001b[39mor\u001b[39;00m \u001b[39m1\u001b[39m\n\u001b[0;32m    441\u001b[0m \u001b[39mself\u001b[39m\u001b[39m.\u001b[39mdepth \u001b[39m+\u001b[39m\u001b[39m=\u001b[39m depthmod\n\u001b[1;32m--> 442\u001b[0m \u001b[39mself\u001b[39;49m\u001b[39m.\u001b[39;49mpath(objects[\u001b[39m0\u001b[39;49m], OBJECT)\n\u001b[0;32m    443\u001b[0m \u001b[39mfor\u001b[39;00m obj \u001b[39min\u001b[39;00m objects[\u001b[39m1\u001b[39m:]:\n\u001b[0;32m    444\u001b[0m     \u001b[39mself\u001b[39m\u001b[39m.\u001b[39mwrite(\u001b[39m\"\u001b[39m\u001b[39m,\u001b[39m\u001b[39m\\n\u001b[39;00m\u001b[39m\"\u001b[39m \u001b[39m+\u001b[39m \u001b[39mself\u001b[39m\u001b[39m.\u001b[39mindent(\u001b[39m1\u001b[39m))\n",
      "File \u001b[1;32mc:\\Users\\Usuário\\Desktop\\BiblioKeia\\venv\\lib\\site-packages\\rdflib\\plugins\\serializers\\turtle.py:340\u001b[0m, in \u001b[0;36mTurtleSerializer.path\u001b[1;34m(self, node, position, newline)\u001b[0m\n\u001b[0;32m    337\u001b[0m \u001b[39mdef\u001b[39;00m \u001b[39mpath\u001b[39m(\u001b[39mself\u001b[39m, node, position, newline\u001b[39m=\u001b[39m\u001b[39mFalse\u001b[39;00m):\n\u001b[0;32m    338\u001b[0m     \u001b[39mif\u001b[39;00m \u001b[39mnot\u001b[39;00m (\n\u001b[0;32m    339\u001b[0m         \u001b[39mself\u001b[39m\u001b[39m.\u001b[39mp_squared(node, position, newline)\n\u001b[1;32m--> 340\u001b[0m         \u001b[39mor\u001b[39;00m \u001b[39mself\u001b[39;49m\u001b[39m.\u001b[39;49mp_default(node, position, newline)\n\u001b[0;32m    341\u001b[0m     ):\n\u001b[0;32m    342\u001b[0m         \u001b[39mraise\u001b[39;00m Error(\u001b[39m\"\u001b[39m\u001b[39mCannot serialize node \u001b[39m\u001b[39m'\u001b[39m\u001b[39m%s\u001b[39;00m\u001b[39m'\u001b[39m\u001b[39m\"\u001b[39m \u001b[39m%\u001b[39m (node,))\n",
      "File \u001b[1;32mc:\\Users\\Usuário\\Desktop\\BiblioKeia\\venv\\lib\\site-packages\\rdflib\\plugins\\serializers\\turtle.py:347\u001b[0m, in \u001b[0;36mTurtleSerializer.p_default\u001b[1;34m(self, node, position, newline)\u001b[0m\n\u001b[0;32m    345\u001b[0m \u001b[39mif\u001b[39;00m position \u001b[39m!=\u001b[39m SUBJECT \u001b[39mand\u001b[39;00m \u001b[39mnot\u001b[39;00m newline:\n\u001b[0;32m    346\u001b[0m     \u001b[39mself\u001b[39m\u001b[39m.\u001b[39mwrite(\u001b[39m\"\u001b[39m\u001b[39m \u001b[39m\u001b[39m\"\u001b[39m)\n\u001b[1;32m--> 347\u001b[0m \u001b[39mself\u001b[39m\u001b[39m.\u001b[39mwrite(\u001b[39mself\u001b[39;49m\u001b[39m.\u001b[39;49mlabel(node, position))\n\u001b[0;32m    348\u001b[0m \u001b[39mreturn\u001b[39;00m \u001b[39mTrue\u001b[39;00m\n",
      "File \u001b[1;32mc:\\Users\\Usuário\\Desktop\\BiblioKeia\\venv\\lib\\site-packages\\rdflib\\plugins\\serializers\\turtle.py:363\u001b[0m, in \u001b[0;36mTurtleSerializer.label\u001b[1;34m(self, node, position)\u001b[0m\n\u001b[0;32m    360\u001b[0m \u001b[39melse\u001b[39;00m:\n\u001b[0;32m    361\u001b[0m     node \u001b[39m=\u001b[39m \u001b[39mself\u001b[39m\u001b[39m.\u001b[39mrelativize(node)\n\u001b[1;32m--> 363\u001b[0m     \u001b[39mreturn\u001b[39;00m \u001b[39mself\u001b[39m\u001b[39m.\u001b[39mgetQName(node, position \u001b[39m==\u001b[39m VERB) \u001b[39mor\u001b[39;00m node\u001b[39m.\u001b[39;49mn3()\n",
      "File \u001b[1;32mc:\\Users\\Usuário\\Desktop\\BiblioKeia\\venv\\lib\\site-packages\\rdflib\\term.py:300\u001b[0m, in \u001b[0;36mURIRef.n3\u001b[1;34m(self, namespace_manager)\u001b[0m\n\u001b[0;32m    290\u001b[0m \u001b[39m\"\"\"\u001b[39;00m\n\u001b[0;32m    291\u001b[0m \u001b[39mThis will do a limited check for valid URIs,\u001b[39;00m\n\u001b[0;32m    292\u001b[0m \u001b[39messentially just making sure that the string includes no illegal\u001b[39;00m\n\u001b[1;32m   (...)\u001b[0m\n\u001b[0;32m    296\u001b[0m \u001b[39m     a prefixed name\u001b[39;00m\n\u001b[0;32m    297\u001b[0m \u001b[39m\"\"\"\u001b[39;00m\n\u001b[0;32m    299\u001b[0m \u001b[39mif\u001b[39;00m \u001b[39mnot\u001b[39;00m _is_valid_uri(\u001b[39mself\u001b[39m):\n\u001b[1;32m--> 300\u001b[0m     \u001b[39mraise\u001b[39;00m \u001b[39mException\u001b[39;00m(\n\u001b[0;32m    301\u001b[0m         \u001b[39m'\u001b[39m\u001b[39m\"\u001b[39m\u001b[39m%s\u001b[39;00m\u001b[39m\"\u001b[39m\u001b[39m does not look like a valid URI, I cannot serialize this as N3/Turtle. Perhaps you wanted to urlencode it?\u001b[39m\u001b[39m'\u001b[39m\n\u001b[0;32m    302\u001b[0m         \u001b[39m%\u001b[39m \u001b[39mself\u001b[39m\n\u001b[0;32m    303\u001b[0m     )\n\u001b[0;32m    305\u001b[0m \u001b[39mif\u001b[39;00m namespace_manager:\n\u001b[0;32m    306\u001b[0m     \u001b[39mreturn\u001b[39;00m namespace_manager\u001b[39m.\u001b[39mnormalizeUri(\u001b[39mself\u001b[39m)\n",
      "\u001b[1;31mException\u001b[0m: \"http://id.loc.gov/vocabulary/languages/ po\" does not look like a valid URI, I cannot serialize this as N3/Turtle. Perhaps you wanted to urlencode it?"
     ]
    }
   ],
   "source": [
    "def Upadate(path_marc, count, shelf, out):\n",
    "    \n",
    "    marc_file = parse(path_marc)\n",
    "    records = marc_file.getElementsByTagName('record')\n",
    "\n",
    "    docs = list()\n",
    "    for record in records:\n",
    "        \n",
    "        marcxml = etree.fromstring(record.toxml())\n",
    "        workMarc = MarcWork(marcxml)\n",
    "        instanceMarc = MarcInstance(marcxml)\n",
    "        itemsMarc = MarcItems(marcxml)\n",
    "        print(records.index(record))\n",
    "        print(workMarc.Title().get('title'))\n",
    "\n",
    "        #SOLR\n",
    "        doc = create_doc(workMarc, instanceMarc, itemsMarc, 'Livro', shelf, count)\n",
    "        docs.append(doc)\n",
    "\n",
    "        #JENA\n",
    "        BFwork = URIRef(f\"http://bibliokeia.com/bibframe/work/{count}\") \n",
    "        BFinstance = URIRef(f\"http://bibliokeia.com/bibframe/instance/{count}\")\n",
    "        #Work\n",
    "        work = Work(count, workMarc, BFwork, BFinstance)\n",
    "        work.serialize(f'out/{out}/works/{count}.ttl', format='turtle')\n",
    "        nt = work.serialize(format='nt')\n",
    "        W = Make_Graph(nt, \"work\", count)\n",
    "        store.update(W)\n",
    "        #Instance\n",
    "        instance = Instance(count, workMarc, instanceMarc, itemsMarc, BFwork, BFinstance, shelf)\n",
    "        i = instance.get('instance')\n",
    "        i.serialize(f'out/{out}/instances/{count}.ttl', format='turtle')\n",
    "        i_nt = i.serialize(format='nt')\n",
    "        I = Make_Graph(i_nt, \"instance\", count)\n",
    "        store.update(I)\n",
    "        #Items\n",
    "        items = instance.get('items')\n",
    "        for item, register in items:\n",
    "            item.serialize(f'out/{out}/items/{register}.ttl', format='turtle')\n",
    "            item_nt = item.serialize(format='nt')\n",
    "            Item = Make_Graph(item_nt, \"item\", register)\n",
    "            store.update(Item)\n",
    "\n",
    "        count += 1\n",
    "    solr.add(docs, commit=True)\n",
    "\n",
    "out = 'E2/P1'\n",
    "path_marc = f'Input/{out}/koha.xml'\n",
    "count = 105\n",
    "Upadate(path_marc, count, \"E2.P1\", out)"
   ]
  },
  {
   "cell_type": "code",
   "execution_count": null,
   "metadata": {},
   "outputs": [],
   "source": [
    "def UpadateSolr(path_marc, count, shelf, out):\n",
    "    \n",
    "    marc_file = parse(path_marc)\n",
    "    records = marc_file.getElementsByTagName('record')\n",
    "\n",
    "    docs = list()\n",
    "    for record in records:\n",
    "        \n",
    "        marcxml = etree.fromstring(record.toxml())\n",
    "        workMarc = MarcWork(marcxml)\n",
    "        instanceMarc = MarcInstance(marcxml)\n",
    "        itemsMarc = MarcItems(marcxml)\n",
    "        print(records.index(record))\n",
    "        print(workMarc.Title().get('title'))\n",
    "\n",
    "        #SOLR\n",
    "        doc = create_doc(workMarc, instanceMarc, itemsMarc, 'Livro', shelf, count)\n",
    "        docs.append(doc)\n",
    "\n",
    "        count += 1\n",
    "    #solr.add(docs, commit=True)\n",
    "    return docs\n",
    "\n",
    "out = 'E1/P4'\n",
    "path_marc = f'Input/{out}/koha.xml'\n",
    "count = 66\n",
    "docs = UpadateSolr(path_marc, count, \"E1.P4\", out)"
   ]
  },
  {
   "cell_type": "code",
   "execution_count": 6,
   "metadata": {},
   "outputs": [
    {
     "data": {
      "text/plain": [
       "'{\\n  \"responseHeader\":{\\n    \"status\":0,\\n    \"QTime\":241}}\\n'"
      ]
     },
     "execution_count": 6,
     "metadata": {},
     "output_type": "execute_result"
    }
   ],
   "source": [
    "solr.add(docs, commit=True)"
   ]
  },
  {
   "cell_type": "code",
   "execution_count": 24,
   "metadata": {},
   "outputs": [
    {
     "name": "stderr",
     "output_type": "stream",
     "text": [
      "http://id.loc.gov/vocabulary/languages/ po does not look like a valid URI, trying to serialize this will break.\n",
      "http://bibliokeia.com/bibframe/item/10-0118 | R does not look like a valid URI, trying to serialize this will break.\n"
     ]
    }
   ],
   "source": [
    "path_marc = r'Input/E2/P1/koha.xml'\n",
    "marc_file = parse(path_marc)\n",
    "records = marc_file.getElementsByTagName('record')\n",
    "\n",
    "count = 2\n",
    "record = records[count]\n",
    "marcxml = etree.fromstring(record.toxml())\n",
    "workMarc = MarcWork(marcxml)\n",
    "instanceMarc = MarcInstance(marcxml)\n",
    "itemsMarc = MarcItems(marcxml)\n",
    "BFwork = URIRef(f\"http://bibliokeia.com/bibframe/work/{count}\") \n",
    "BFinstance = URIRef(f\"http://bibliokeia.com/bibframe/instance/{count}\")\n",
    "work = Work(count, workMarc, BFwork, BFinstance)\n",
    "instance = Instance(count, workMarc, instanceMarc, itemsMarc, BFwork, BFinstance, 'E2.P1')"
   ]
  },
  {
   "cell_type": "code",
   "execution_count": 26,
   "metadata": {},
   "outputs": [
    {
     "data": {
      "text/plain": [
       "' po'"
      ]
     },
     "execution_count": 26,
     "metadata": {},
     "output_type": "execute_result"
    }
   ],
   "source": [
    "workMarc.Language()"
   ]
  },
  {
   "cell_type": "code",
   "execution_count": 25,
   "metadata": {},
   "outputs": [
    {
     "name": "stdout",
     "output_type": "stream",
     "text": [
      "Dominando o PostgreSQL\n"
     ]
    }
   ],
   "source": [
    "print(workMarc.Title().get('title'))"
   ]
  },
  {
   "cell_type": "code",
   "execution_count": 4,
   "metadata": {},
   "outputs": [
    {
     "data": {
      "text/plain": [
       "<Graph identifier=Ne84daf5ad74a41efbade85675acd9138 (<class 'rdflib.graph.Graph'>)>"
      ]
     },
     "execution_count": 4,
     "metadata": {},
     "output_type": "execute_result"
    }
   ],
   "source": [
    "g = Graph()\n",
    "g.parse('cli/Out/works/14649397.bibframe.rdf')"
   ]
  }
 ],
 "metadata": {
  "kernelspec": {
   "display_name": "Python 3.10.1 ('venv': venv)",
   "language": "python",
   "name": "python3"
  },
  "language_info": {
   "codemirror_mode": {
    "name": "ipython",
    "version": 3
   },
   "file_extension": ".py",
   "mimetype": "text/x-python",
   "name": "python",
   "nbconvert_exporter": "python",
   "pygments_lexer": "ipython3",
   "version": "3.10.1"
  },
  "orig_nbformat": 4,
  "vscode": {
   "interpreter": {
    "hash": "5df21a170a08fe7c24b5b1091267edae5bad3984f1116f28e957af7dd8f192dc"
   }
  }
 },
 "nbformat": 4,
 "nbformat_minor": 2
}
