{
 "cells": [
  {
   "cell_type": "code",
   "execution_count": 1,
   "metadata": {},
   "outputs": [],
   "source": [
    "from rdflib.plugins.stores.sparqlstore import SPARQLUpdateStore\n",
    "from rdflib import Graph, Namespace, URIRef\n",
    "\n",
    "from xml.dom.minidom import parse\n",
    "import xml.etree.ElementTree as etree\n",
    "from Marc_to_Bibframe.Marc.marcWork import MarcWork\n",
    "from Marc_to_Bibframe.Marc.marcInstance import MarcInstance\n",
    "from Marc_to_Bibframe.Marc.marcItems import MarcItems\n",
    "from Marc_to_Bibframe.Work.work import Work\n",
    "from Marc_to_Bibframe.Instance.instance import Instance\n",
    "\n",
    "import pysolr\n",
    "from Solr.solr import create_doc\n"
   ]
  },
  {
   "cell_type": "code",
   "execution_count": 13,
   "metadata": {},
   "outputs": [],
   "source": [
    "#JENA\n",
    "store = SPARQLUpdateStore(update_endpoint='http://localhost:3030/bibframe/update')\n",
    "query_endpoint = 'http://localhost:3030/bibframe/query'\n",
    "update_endpoint = 'http://localhost:3030/bibframe/update'\n",
    "store.open((query_endpoint, update_endpoint))"
   ]
  },
  {
   "cell_type": "code",
   "execution_count": 2,
   "metadata": {},
   "outputs": [
    {
     "data": {
      "text/plain": [
       "'{\\n  \"responseHeader\":{\\n    \"zkConnected\":null,\\n    \"status\":0,\\n    \"QTime\":3,\\n    \"params\":{\\n      \"q\":\"{!lucene}*:*\",\\n      \"distrib\":\"false\",\\n      \"df\":\"_text_\",\\n      \"rows\":\"10\",\\n      \"echoParams\":\"all\",\\n      \"rid\":\"localhost-75\"}},\\n  \"status\":\"OK\"}\\n'"
      ]
     },
     "execution_count": 2,
     "metadata": {},
     "output_type": "execute_result"
    }
   ],
   "source": [
    "#SOLR\n",
    "solr = pysolr.Solr('http://localhost:8983/solr/search/', timeout=10)\n",
    "solr.ping()"
   ]
  },
  {
   "cell_type": "code",
   "execution_count": 15,
   "metadata": {},
   "outputs": [],
   "source": [
    "def Make_Graph(nt, bf, count ):\n",
    "    G1 = \"PREFIX bk: <http://bibliokeia.com/bibframe/\"+bf+\"\"\"/>\n",
    "    PREFIX bf: <http://id.loc.gov/ontologies/bibframe/> \n",
    "    PREFIX rdf: <http://www.w3.org/1999/02/22-rdf-syntax-ns#>\n",
    "    PREFIX bflc: <http://id.loc.gov/ontologies/bflc/>\n",
    "    PREFIX madsrdf: <http://www.loc.gov/mads/rdf/v1#>\n",
    "    PREFIX rdfs: <http://www.w3.org/2000/01/rdf-schema#> \n",
    "    PREFIX xsd: <http://www.w3.org/2001/XMLSchema#>\n",
    "\n",
    "    INSERT DATA {\n",
    "        GRAPH bk:\"\"\"\n",
    "\n",
    "    G2 = \" {\"\n",
    "\n",
    "    G3 = \"\"\"}\n",
    "    }\"\"\"\n",
    "\n",
    "    G = G1+str(count)+\" { \\n\"+nt+\"}}\"\n",
    "\n",
    "    return G"
   ]
  },
  {
   "cell_type": "code",
   "execution_count": null,
   "metadata": {},
   "outputs": [],
   "source": [
    "def Upadate(path_marc, count, shelf, out):\n",
    "    \n",
    "    marc_file = parse(path_marc)\n",
    "    records = marc_file.getElementsByTagName('record')\n",
    "\n",
    "    docs = list()\n",
    "    for record in records:\n",
    "        \n",
    "        marcxml = etree.fromstring(record.toxml())\n",
    "        workMarc = MarcWork(marcxml)\n",
    "        instanceMarc = MarcInstance(marcxml)\n",
    "        itemsMarc = MarcItems(marcxml)\n",
    "        print(records.index(record))\n",
    "        print(workMarc.Title().get('title'))\n",
    "\n",
    "        #SOLR\n",
    "        doc = create_doc(workMarc, instanceMarc, itemsMarc, 'Livro', shelf, count)\n",
    "        docs.append(doc)\n",
    "\n",
    "        # #JENA\n",
    "        # BFwork = URIRef(f\"http://bibliokeia.com/bibframe/work/{count}\") \n",
    "        # BFinstance = URIRef(f\"http://bibliokeia.com/bibframe/instance/{count}\")\n",
    "        # #Work\n",
    "        # work = Work(count, workMarc, BFwork, BFinstance)\n",
    "        # work.serialize(f'out/{out}/works/{count}.ttl', format='turtle')\n",
    "        # nt = work.serialize(format='nt')\n",
    "        # W = Make_Graph(nt, \"work\", count)\n",
    "        # store.update(W)\n",
    "        # #Instance\n",
    "        # instance = Instance(count, workMarc, instanceMarc, itemsMarc, BFwork, BFinstance, shelf)\n",
    "        # i = instance.get('instance')\n",
    "        # i.serialize(f'out/{out}/instances/{count}.ttl', format='turtle')\n",
    "        # i_nt = i.serialize(format='nt')\n",
    "        # I = Make_Graph(i_nt, \"instance\", count)\n",
    "        # store.update(I)\n",
    "        # #Items\n",
    "        # items = instance.get('items')\n",
    "        # for item, register in items:\n",
    "        #     item.serialize(f'out/{out}/items/{register}.ttl', format='turtle')\n",
    "        #     item_nt = item.serialize(format='nt')\n",
    "        #     Item = Make_Graph(item_nt, \"item\", register)\n",
    "        #     store.update(Item)\n",
    "\n",
    "        count += 1\n",
    "    solr.add(docs, commit=True)\n",
    "\n",
    "E = 'E1'\n",
    "P = 'P1'\n",
    "\n",
    "out = 'E2/P1'\n",
    "path_marc = f'Input/{out}/koha.xml'\n",
    "count = 105\n",
    "Upadate(path_marc, count, \"E2.P1\", out)"
   ]
  },
  {
   "cell_type": "code",
   "execution_count": 3,
   "metadata": {},
   "outputs": [],
   "source": [
    "def UpadateSolr(path_marc, count, shelf, out):\n",
    "    \n",
    "    marc_file = parse(path_marc)\n",
    "    records = marc_file.getElementsByTagName('record')\n",
    "\n",
    "    docs = list()\n",
    "    for record in records:\n",
    "        \n",
    "        marcxml = etree.fromstring(record.toxml())\n",
    "        workMarc = MarcWork(marcxml)\n",
    "        instanceMarc = MarcInstance(marcxml)\n",
    "        itemsMarc = MarcItems(marcxml)\n",
    "        print(records.index(record))\n",
    "        print(workMarc.Title().get('title'))\n",
    "\n",
    "        #SOLR\n",
    "        doc = create_doc(workMarc, instanceMarc, itemsMarc, 'Livro', shelf, count)\n",
    "        docs.append(doc)\n",
    "\n",
    "        count += 1\n",
    "\n",
    "    return docs"
   ]
  },
  {
   "cell_type": "code",
   "execution_count": 2,
   "metadata": {},
   "outputs": [],
   "source": [
    "count = 1\n",
    "e = '1'\n",
    "p = '1'\n",
    "out = f'E{e}/P{p}'\n",
    "path_marc = f'Input/{out}/koha.xml'\n",
    "\n",
    "#docs = UpadateSolr(path_marc, count, f\"E{e}.P{p}\", out)\n",
    "#solr.add(docs, commit=True)"
   ]
  },
  {
   "cell_type": "code",
   "execution_count": 3,
   "metadata": {},
   "outputs": [],
   "source": [
    "marc_file = parse(path_marc)\n",
    "records = marc_file.getElementsByTagName('record')\n",
    "record = records[12]\n",
    "marcxml = etree.fromstring(record.toxml())\n",
    "workMarc = MarcWork(marcxml)\n"
   ]
  },
  {
   "cell_type": "code",
   "execution_count": 4,
   "metadata": {},
   "outputs": [
    {
     "data": {
      "text/plain": [
       "[{'sub': {'a': 'Ciência', 'z': 'Amazonas', 'x': 'Congressos'},\n",
       "  'label': 'Ciência--Amazonas--Congressos'},\n",
       " {'sub': {'a': 'Pesquisa', 'z': 'Amazonas', 'x': 'Congressos'},\n",
       "  'label': 'Pesquisa--Amazonas--Congressos'}]"
      ]
     },
     "execution_count": 4,
     "metadata": {},
     "output_type": "execute_result"
    }
   ],
   "source": [
    "workMarc.Subjects()"
   ]
  },
  {
   "cell_type": "code",
   "execution_count": 13,
   "metadata": {},
   "outputs": [
    {
     "data": {
      "text/plain": [
       "<Element 'datafield' at 0x000001B3EB5E37E0>"
      ]
     },
     "execution_count": 13,
     "metadata": {},
     "output_type": "execute_result"
    }
   ],
   "source": [
    "subjects = marcxml.findall(f\"datafield/[@tag='650']\")\n",
    "subject = subjects[0]\n",
    "subject"
   ]
  },
  {
   "cell_type": "code",
   "execution_count": 9,
   "metadata": {},
   "outputs": [
    {
     "name": "stdout",
     "output_type": "stream",
     "text": [
      "Resumos\n"
     ]
    }
   ],
   "source": [
    "print(workMarc.Title().get('title'))"
   ]
  },
  {
   "cell_type": "code",
   "execution_count": 4,
   "metadata": {},
   "outputs": [
    {
     "data": {
      "text/plain": [
       "<Graph identifier=Ne84daf5ad74a41efbade85675acd9138 (<class 'rdflib.graph.Graph'>)>"
      ]
     },
     "execution_count": 4,
     "metadata": {},
     "output_type": "execute_result"
    }
   ],
   "source": [
    "g = Graph()\n",
    "g.parse('cli/Out/works/14649397.bibframe.rdf')"
   ]
  }
 ],
 "metadata": {
  "kernelspec": {
   "display_name": "Python 3.10.1 ('venv': venv)",
   "language": "python",
   "name": "python3"
  },
  "language_info": {
   "codemirror_mode": {
    "name": "ipython",
    "version": 3
   },
   "file_extension": ".py",
   "mimetype": "text/x-python",
   "name": "python",
   "nbconvert_exporter": "python",
   "pygments_lexer": "ipython3",
   "version": "3.10.1"
  },
  "orig_nbformat": 4,
  "vscode": {
   "interpreter": {
    "hash": "5df21a170a08fe7c24b5b1091267edae5bad3984f1116f28e957af7dd8f192dc"
   }
  }
 },
 "nbformat": 4,
 "nbformat_minor": 2
}
