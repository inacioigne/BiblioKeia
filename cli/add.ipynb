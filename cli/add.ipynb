{
 "cells": [
  {
   "cell_type": "code",
   "execution_count": 1,
   "metadata": {},
   "outputs": [],
   "source": [
    "from rdflib.plugins.stores.sparqlstore import SPARQLUpdateStore\n",
    "from rdflib import Graph, Namespace, URIRef\n",
    "\n",
    "from xml.dom.minidom import parse\n",
    "import xml.etree.ElementTree as etree\n",
    "from Marc_to_Bibframe.Marc.marcWork import MarcWork\n",
    "from Marc_to_Bibframe.Marc.marcInstance import MarcInstance\n",
    "from Marc_to_Bibframe.Marc.marcItems import MarcItems\n",
    "from Marc_to_Bibframe.Work.work import Work\n",
    "from Marc_to_Bibframe.Instance.instance import Instance\n"
   ]
  },
  {
   "cell_type": "code",
   "execution_count": 87,
   "metadata": {},
   "outputs": [],
   "source": [
    "store = SPARQLUpdateStore(update_endpoint='http://localhost:3030/bibframe/update')\n",
    "query_endpoint = 'http://localhost:3030/bibframe/query'\n",
    "update_endpoint = 'http://localhost:3030/bibframe/update'\n",
    "store.open((query_endpoint, update_endpoint))"
   ]
  },
  {
   "cell_type": "code",
   "execution_count": 88,
   "metadata": {},
   "outputs": [],
   "source": [
    "def Make_Graph(nt, bf, count ):\n",
    "    G1 = \"PREFIX bk: <http://bibliokeia.com/bibframe/\"+bf+\"\"\"/>\n",
    "    PREFIX bf: <http://id.loc.gov/ontologies/bibframe/> \n",
    "    PREFIX rdf: <http://www.w3.org/1999/02/22-rdf-syntax-ns#>\n",
    "    PREFIX bflc: <http://id.loc.gov/ontologies/bflc/>\n",
    "    PREFIX madsrdf: <http://www.loc.gov/mads/rdf/v1#>\n",
    "    PREFIX rdfs: <http://www.w3.org/2000/01/rdf-schema#> \n",
    "    PREFIX xsd: <http://www.w3.org/2001/XMLSchema#>\n",
    "\n",
    "    INSERT DATA {\n",
    "        GRAPH bk:\"\"\"\n",
    "\n",
    "    G2 = \" {\"\n",
    "\n",
    "    G3 = \"\"\"}\n",
    "    }\"\"\"\n",
    "\n",
    "    G = G1+str(count)+\" { \\n\"+nt+\"}}\"\n",
    "\n",
    "    return G"
   ]
  },
  {
   "cell_type": "code",
   "execution_count": 89,
   "metadata": {},
   "outputs": [],
   "source": [
    "path_marc = r'Koha/E1/P2/koha.xml'\n",
    "marc_file = parse(path_marc)\n",
    "records = marc_file.getElementsByTagName('record')\n"
   ]
  },
  {
   "cell_type": "code",
   "execution_count": 90,
   "metadata": {},
   "outputs": [
    {
     "name": "stdout",
     "output_type": "stream",
     "text": [
      "0\n",
      "Resumos\n",
      "1\n",
      "Resumos\n",
      "2\n",
      "Pesquisa científica e tecnológica em saúde\n",
      "3\n",
      "Pesquisas recentes em energia, meio ambiente e tecnologia\n",
      "4\n",
      "Iniciação à pesquisa científica\n",
      "5\n",
      "<1º >Seminário de Ciências da Fiube\n",
      "6\n",
      "Encontro sobre o programa de pesquisas para o trópico úmido.\n"
     ]
    },
    {
     "name": "stderr",
     "output_type": "stream",
     "text": [
      "Failed to convert Literal lexical form to value. Datatype=http://www.w3.org/2001/XMLSchema#date, Converter=<function parse_date at 0x000001375D4C24D0>\n",
      "Traceback (most recent call last):\n",
      "  File \"c:\\Users\\Usuário\\Desktop\\BiblioKeia\\cli\\venv\\lib\\site-packages\\rdflib\\term.py\", line 2084, in _castLexicalToPython\n",
      "    return conv_func(lexical)  # type: ignore[arg-type]\n",
      "  File \"c:\\Users\\Usuário\\Desktop\\BiblioKeia\\cli\\venv\\lib\\site-packages\\isodate\\isodates.py\", line 201, in parse_date\n",
      "    return date(sign * int(groups['year']),\n",
      "ValueError: year 0 is out of range\n",
      "Failed to convert Literal lexical form to value. Datatype=http://www.w3.org/2001/XMLSchema#date, Converter=<function parse_date at 0x000001375D4C24D0>\n",
      "Traceback (most recent call last):\n",
      "  File \"c:\\Users\\Usuário\\Desktop\\BiblioKeia\\cli\\venv\\lib\\site-packages\\rdflib\\term.py\", line 2084, in _castLexicalToPython\n",
      "    return conv_func(lexical)  # type: ignore[arg-type]\n",
      "  File \"c:\\Users\\Usuário\\Desktop\\BiblioKeia\\cli\\venv\\lib\\site-packages\\isodate\\isodates.py\", line 201, in parse_date\n",
      "    return date(sign * int(groups['year']),\n",
      "ValueError: year 0 is out of range\n",
      "Failed to convert Literal lexical form to value. Datatype=http://www.w3.org/2001/XMLSchema#date, Converter=<function parse_date at 0x000001375D4C24D0>\n",
      "Traceback (most recent call last):\n",
      "  File \"c:\\Users\\Usuário\\Desktop\\BiblioKeia\\cli\\venv\\lib\\site-packages\\rdflib\\term.py\", line 2084, in _castLexicalToPython\n",
      "    return conv_func(lexical)  # type: ignore[arg-type]\n",
      "  File \"c:\\Users\\Usuário\\Desktop\\BiblioKeia\\cli\\venv\\lib\\site-packages\\isodate\\isodates.py\", line 201, in parse_date\n",
      "    return date(sign * int(groups['year']),\n",
      "ValueError: year 0 is out of range\n"
     ]
    },
    {
     "name": "stdout",
     "output_type": "stream",
     "text": [
      "7\n",
      "A pesquisa no Brasil\n",
      "8\n",
      "Resumos do XVII Seminário de Iniciação Científica da UFPA\n",
      "9\n",
      "FADESP, Fundação de Amaparo e Desenvolvimento da Pesquisa, Belém-Pará.\n",
      "10\n",
      "Manual de normas para publicações técnico-científicas\n",
      "11\n",
      "Manual do autor\n",
      "12\n",
      "A estatística na pesquisa científica\n",
      "13\n",
      "Prioridades da pesquisa do CIFOR\n",
      "14\n",
      "Matemática e estatística na análise de experimentos e no melhoramento genético\n",
      "15\n",
      "Relatório de atividades 2011-2013\n",
      "16\n",
      "Seminário pesquisa tecnológica\n",
      "17\n",
      "Pesquisa científica\n",
      "18\n",
      "Pesquisa operacional\n",
      "19\n",
      "Ciência, tecnologia e inovação para um Brasil competitivo\n",
      "20\n",
      "Os 40 anos da fundação Ford no Brasil\n",
      "21\n",
      "Orçamento da União para ciência e tecnologia, 1980\n",
      "22\n",
      "Guia de fontes de financiamento à ciência & tecnologia\n",
      "23\n",
      "Guia de fontes de financiamento à ciência & tecnologia\n",
      "24\n",
      "Avaliação e fomento de C&T no Brasil\n",
      "25\n",
      "Recherches de I'RD au Brésil depuis 1998\n",
      "26\n",
      "Setor produtivo estatal\n",
      "27\n",
      "Metodos e tecnicas de pesquisa aplicados a administração\n"
     ]
    }
   ],
   "source": [
    "count = 19\n",
    "for record in records:\n",
    "    \n",
    "    marcxml = etree.fromstring(record.toxml())\n",
    "    workMarc = MarcWork(marcxml)\n",
    "    instanceMarc = MarcInstance(marcxml)\n",
    "    itemsMarc = MarcItems(marcxml)\n",
    "    print(records.index(record))\n",
    "    print(workMarc.Title().get('title'))\n",
    "    BFwork = URIRef(f\"http://bibliokeia.com/bibframe/work/{count}\") \n",
    "    BFinstance = URIRef(f\"http://bibliokeia.com/bibframe/instance/{count}\")\n",
    "    work = Work(count, workMarc, BFwork, BFinstance)\n",
    "    #work.serialize(f'out/E1/P2/works/{count}.ttl', format='turtle')\n",
    "    nt = work.serialize(format='nt')\n",
    "    W = Make_Graph(nt, \"work\", count)\n",
    "    store.update(W)\n",
    "\n",
    "    instance = Instance(count, workMarc, instanceMarc, itemsMarc, BFwork, BFinstance, 'E1.P2')\n",
    "    i = instance.get('instance')\n",
    "    i.serialize(f'out/E1/P2/instances/{count}.ttl', format='turtle')\n",
    "    i_nt = i.serialize(format='nt')\n",
    "    I = Make_Graph(i_nt, \"instance\", count)\n",
    "    store.update(I)\n",
    "    \n",
    "    items = instance.get('items')\n",
    "    for item, register in items:\n",
    "        item.serialize(f'out/E1/P2/items/{register}.ttl', format='turtle')\n",
    "        item_nt = item.serialize(format='nt')\n",
    "        Item = Make_Graph(item_nt, \"item\", register)\n",
    "        store.update(Item)\n",
    "        \n",
    "    count += 1"
   ]
  },
  {
   "cell_type": "code",
   "execution_count": 38,
   "metadata": {},
   "outputs": [
    {
     "data": {
      "text/plain": [
       "'2002'"
      ]
     },
     "execution_count": 38,
     "metadata": {},
     "output_type": "execute_result"
    }
   ],
   "source": [
    "instanceMarc.Publication().get('year')"
   ]
  },
  {
   "cell_type": "code",
   "execution_count": 80,
   "metadata": {},
   "outputs": [
    {
     "name": "stdout",
     "output_type": "stream",
     "text": [
      "A estatística na pesquisa científica\n"
     ]
    }
   ],
   "source": [
    "count = 12\n",
    "record = records[count]\n",
    "marcxml = etree.fromstring(record.toxml())\n",
    "workMarc = MarcWork(marcxml)\n",
    "instanceMarc = MarcInstance(marcxml)\n",
    "itemsMarc = MarcItems(marcxml)\n",
    "BFwork = URIRef(f\"http://bibliokeia.com/bibframe/work/{count}\") \n",
    "BFinstance = URIRef(f\"http://bibliokeia.com/bibframe/instance/{count}\")\n",
    "work = Work(count, workMarc, BFwork, BFinstance)\n",
    "#instance = Instance(count, workMarc, instanceMarc, itemsMarc, BFwork, BFinstance, 'E1.P2')\n",
    "print(workMarc.Title().get('title'))\n"
   ]
  },
  {
   "cell_type": "code",
   "execution_count": null,
   "metadata": {},
   "outputs": [],
   "source": []
  },
  {
   "cell_type": "code",
   "execution_count": 40,
   "metadata": {},
   "outputs": [
    {
     "name": "stderr",
     "output_type": "stream",
     "text": [
      "Failed to convert Literal lexical form to value. Datatype=http://www.w3.org/2001/XMLSchema#date, Converter=<function parse_date at 0x000001375D4C24D0>\n",
      "Traceback (most recent call last):\n",
      "  File \"c:\\Users\\Usuário\\Desktop\\BiblioKeia\\cli\\venv\\lib\\site-packages\\rdflib\\term.py\", line 2084, in _castLexicalToPython\n",
      "    return conv_func(lexical)  # type: ignore[arg-type]\n",
      "  File \"c:\\Users\\Usuário\\Desktop\\BiblioKeia\\cli\\venv\\lib\\site-packages\\isodate\\isodates.py\", line 201, in parse_date\n",
      "    return date(sign * int(groups['year']),\n",
      "ValueError: year 0 is out of range\n",
      "Failed to convert Literal lexical form to value. Datatype=http://www.w3.org/2001/XMLSchema#date, Converter=<function parse_date at 0x000001375D4C24D0>\n",
      "Traceback (most recent call last):\n",
      "  File \"c:\\Users\\Usuário\\Desktop\\BiblioKeia\\cli\\venv\\lib\\site-packages\\rdflib\\term.py\", line 2084, in _castLexicalToPython\n",
      "    return conv_func(lexical)  # type: ignore[arg-type]\n",
      "  File \"c:\\Users\\Usuário\\Desktop\\BiblioKeia\\cli\\venv\\lib\\site-packages\\isodate\\isodates.py\", line 201, in parse_date\n",
      "    return date(sign * int(groups['year']),\n",
      "ValueError: year 0 is out of range\n",
      "Failed to convert Literal lexical form to value. Datatype=http://www.w3.org/2001/XMLSchema#date, Converter=<function parse_date at 0x000001375D4C24D0>\n",
      "Traceback (most recent call last):\n",
      "  File \"c:\\Users\\Usuário\\Desktop\\BiblioKeia\\cli\\venv\\lib\\site-packages\\rdflib\\term.py\", line 2084, in _castLexicalToPython\n",
      "    return conv_func(lexical)  # type: ignore[arg-type]\n",
      "  File \"c:\\Users\\Usuário\\Desktop\\BiblioKeia\\cli\\venv\\lib\\site-packages\\isodate\\isodates.py\", line 201, in parse_date\n",
      "    return date(sign * int(groups['year']),\n",
      "ValueError: year 0 is out of range\n"
     ]
    }
   ],
   "source": [
    "instance = Instance(count, workMarc, instanceMarc, itemsMarc, BFwork, BFinstance, 'E1.P2')"
   ]
  },
  {
   "cell_type": "code",
   "execution_count": 37,
   "metadata": {},
   "outputs": [
    {
     "data": {
      "text/plain": [
       "{'instance': <Graph identifier=N090e04f78d644d3b946eb56e327fab56 (<class 'rdflib.graph.Graph'>)>,\n",
       " 'items': [(<Graph identifier=N05746b7c50d8430499170b34978f68ed (<class 'rdflib.graph.Graph'>)>,\n",
       "   '02-0378'),\n",
       "  (<Graph identifier=Ne9517ed3f0094910b169e6f314686af5 (<class 'rdflib.graph.Graph'>)>,\n",
       "   '02-0379'),\n",
       "  (<Graph identifier=N5e8de2dfab9d454ea9ca1cf266394068 (<class 'rdflib.graph.Graph'>)>,\n",
       "   '02-0380')]}"
      ]
     },
     "execution_count": 37,
     "metadata": {},
     "output_type": "execute_result"
    }
   ],
   "source": [
    "instance"
   ]
  },
  {
   "cell_type": "code",
   "execution_count": 3,
   "metadata": {},
   "outputs": [],
   "source": [
    "count = 1\n",
    "record = records[4]\n",
    "marcxml = etree.fromstring(record.toxml())\n",
    "workMarc = MarcWork(marcxml)\n",
    "instanceMarc = MarcInstance(marcxml)\n",
    "itemsMarc = MarcItems(marcxml)\n",
    "BFwork = URIRef(f\"http://bibliokeia.com/bibframe/work/{count}\") \n",
    "BFinstance = URIRef(f\"http://bibliokeia.com/bibframe/instance/{count}\")\n",
    "work = Work(count, workMarc, BFwork, BFinstance)"
   ]
  }
 ],
 "metadata": {
  "kernelspec": {
   "display_name": "Python 3.10.4 ('venv': venv)",
   "language": "python",
   "name": "python3"
  },
  "language_info": {
   "codemirror_mode": {
    "name": "ipython",
    "version": 3
   },
   "file_extension": ".py",
   "mimetype": "text/x-python",
   "name": "python",
   "nbconvert_exporter": "python",
   "pygments_lexer": "ipython3",
   "version": "3.10.4"
  },
  "orig_nbformat": 4,
  "vscode": {
   "interpreter": {
    "hash": "07e9a7747076dd9c6ca4900cebf2f1c383a3daca5ec697fd1a5967a0211e38b7"
   }
  }
 },
 "nbformat": 4,
 "nbformat_minor": 2
}
