{
 "cells": [
  {
   "cell_type": "code",
   "execution_count": 2,
   "metadata": {},
   "outputs": [],
   "source": [
    "from rdflib.plugins.stores.sparqlstore import SPARQLUpdateStore, SPARQLStore\n",
    "from rdflib import Graph, Namespace, URIRef\n",
    "\n",
    "from xml.dom.minidom import parse\n",
    "import xml.etree.ElementTree as etree\n",
    "from Marc_to_Bibframe.Marc.marcWork import MarcWork\n",
    "from Marc_to_Bibframe.Marc.marcInstance import MarcInstance\n",
    "from Marc_to_Bibframe.Marc.marcItems import MarcItems\n",
    "from Marc_to_Bibframe.Work.work import Work\n",
    "from Marc_to_Bibframe.Instance.instance import Instance\n",
    "\n",
    "import pysolr\n",
    "from Solr.solr import create_doc\n",
    "#from Jena.jena import create_graph"
   ]
  },
  {
   "cell_type": "markdown",
   "metadata": {},
   "source": [
    "JENA"
   ]
  },
  {
   "cell_type": "code",
   "execution_count": 6,
   "metadata": {},
   "outputs": [],
   "source": [
    "#JENA\n",
    "store = SPARQLUpdateStore(update_endpoint='http://localhost:3030/bibframe/update')\n",
    "query_endpoint = 'http://localhost:3030/bibframe/query'\n",
    "update_endpoint = 'http://localhost:3030/bibframe/update'\n",
    "store.open((query_endpoint, update_endpoint))"
   ]
  },
  {
   "cell_type": "markdown",
   "metadata": {},
   "source": [
    "DELETE ALL GRAPHS"
   ]
  },
  {
   "cell_type": "code",
   "execution_count": 7,
   "metadata": {},
   "outputs": [],
   "source": [
    "#Delete all Named Graph\n",
    "\n",
    "d = \"\"\"DELETE { graph ?g { ?s ?p ?o } } \n",
    "\n",
    "WHERE {\n",
    "\n",
    "graph ?g {?s ?p ?o.}\n",
    "\n",
    "}\"\"\"\n",
    "\n",
    "store.update(d)"
   ]
  },
  {
   "cell_type": "markdown",
   "metadata": {},
   "source": [
    "SOLR"
   ]
  },
  {
   "cell_type": "code",
   "execution_count": 3,
   "metadata": {},
   "outputs": [
    {
     "data": {
      "text/plain": [
       "'{\\n  \"responseHeader\":{\\n    \"zkConnected\":null,\\n    \"status\":0,\\n    \"QTime\":201,\\n    \"params\":{\\n      \"q\":\"{!lucene}*:*\",\\n      \"distrib\":\"false\",\\n      \"df\":\"_text_\",\\n      \"rows\":\"10\",\\n      \"echoParams\":\"all\",\\n      \"rid\":\"localhost-3\"}},\\n  \"status\":\"OK\"}\\n'"
      ]
     },
     "execution_count": 3,
     "metadata": {},
     "output_type": "execute_result"
    }
   ],
   "source": [
    "#SOLR\n",
    "solr = pysolr.Solr('http://localhost:8983/solr/search/', timeout=10)\n",
    "solr.ping()"
   ]
  },
  {
   "cell_type": "code",
   "execution_count": 8,
   "metadata": {},
   "outputs": [],
   "source": [
    "def Make_Graph(nt, bf, count ):\n",
    "    G1 = \"PREFIX bk: <http://bibliokeia.com/bibframe/\"+bf+\"\"\"/>\n",
    "    PREFIX bf: <http://id.loc.gov/ontologies/bibframe/> \n",
    "    PREFIX rdf: <http://www.w3.org/1999/02/22-rdf-syntax-ns#>\n",
    "    PREFIX bflc: <http://id.loc.gov/ontologies/bflc/>\n",
    "    PREFIX madsrdf: <http://www.loc.gov/mads/rdf/v1#>\n",
    "    PREFIX rdfs: <http://www.w3.org/2000/01/rdf-schema#> \n",
    "    PREFIX xsd: <http://www.w3.org/2001/XMLSchema#>\n",
    "\n",
    "    INSERT DATA {\n",
    "        GRAPH bk:\"\"\"\n",
    "\n",
    "    G2 = \" {\"\n",
    "\n",
    "    G3 = \"\"\"}\n",
    "    }\"\"\"\n",
    "\n",
    "    G = G1+str(count)+\" { \\n\"+nt+\"}}\"\n",
    "\n",
    "    return G"
   ]
  },
  {
   "cell_type": "code",
   "execution_count": 6,
   "metadata": {},
   "outputs": [],
   "source": [
    "def Upadate(path_marc, count, shelf, out):\n",
    "    \n",
    "    marc_file = parse(path_marc)\n",
    "    records = marc_file.getElementsByTagName('record')\n",
    "\n",
    "    docs = list()\n",
    "    for record in records:\n",
    "        \n",
    "        marcxml = etree.fromstring(record.toxml())\n",
    "        workMarc = MarcWork(marcxml)\n",
    "        instanceMarc = MarcInstance(marcxml)\n",
    "        itemsMarc = MarcItems(marcxml)\n",
    "        print(count)\n",
    "        print(workMarc.Title().get('title'))\n",
    "\n",
    "        #SOLR\n",
    "        doc = create_doc(workMarc, instanceMarc, itemsMarc, 'Livro', shelf, count)\n",
    "        docs.append(doc)\n",
    "\n",
    "        #JENA\n",
    "        #create_graph(count, workMarc, instanceMarc, itemsMarc, shelf)\n",
    " \n",
    "\n",
    "        count += 1\n",
    "    solr.add(docs, commit=True)"
   ]
  },
  {
   "cell_type": "code",
   "execution_count": 3,
   "metadata": {},
   "outputs": [],
   "source": [
    "def UpadateSolr(path_marc, count, shelf, out):\n",
    "\n",
    "    #SOLR\n",
    "    #solr = pysolr.Solr('http://localhost:8983/solr/search/', timeout=10)\n",
    "    #solr.ping()\n",
    "    \n",
    "    marc_file = parse(path_marc)\n",
    "    records = marc_file.getElementsByTagName('record')\n",
    "\n",
    "    docs = list()\n",
    "    for record in records:\n",
    "        \n",
    "        marcxml = etree.fromstring(record.toxml())\n",
    "        workMarc = MarcWork(marcxml)\n",
    "        instanceMarc = MarcInstance(marcxml)\n",
    "        itemsMarc = MarcItems(marcxml)\n",
    "        print(count)\n",
    "        print(workMarc.Title().get('title'))\n",
    "\n",
    "        #SOLR\n",
    "        doc = create_doc(workMarc, instanceMarc, itemsMarc, 'Livro', shelf, count)\n",
    "        docs.append(doc)\n",
    "        \n",
    "        count += 1\n",
    "    return docs\n",
    "\n",
    "    #solr.add(docs, commit=True)"
   ]
  },
  {
   "cell_type": "code",
   "execution_count": 18,
   "metadata": {},
   "outputs": [],
   "source": [
    "count = 241\n",
    "marc_file = parse(path_marc)\n",
    "records = marc_file.getElementsByTagName('record')\n",
    "for record in records:\n",
    "    count += 1\n",
    "    if count == 244 :\n",
    "        break\n",
    "    "
   ]
  },
  {
   "cell_type": "code",
   "execution_count": 19,
   "metadata": {},
   "outputs": [
    {
     "name": "stdout",
     "output_type": "stream",
     "text": [
      "Cadastro de pesquisas sobre a Amazônia brasileira\n"
     ]
    }
   ],
   "source": [
    "marcxml = etree.fromstring(record.toxml())\n",
    "workMarc = MarcWork(marcxml)\n",
    "instanceMarc = MarcInstance(marcxml)\n",
    "itemsMarc = MarcItems(marcxml)\n",
    "print(workMarc.Title().get('title'))\n"
   ]
  },
  {
   "cell_type": "code",
   "execution_count": 20,
   "metadata": {},
   "outputs": [
    {
     "ename": "AttributeError",
     "evalue": "'NoneType' object has no attribute 'text'",
     "output_type": "error",
     "traceback": [
      "\u001b[1;31m---------------------------------------------------------------------------\u001b[0m",
      "\u001b[1;31mAttributeError\u001b[0m                            Traceback (most recent call last)",
      "\u001b[1;32mc:\\Users\\Usuário\\Desktop\\BiblioKeia\\cli\\add.ipynb Célula: 13\u001b[0m in \u001b[0;36m<cell line: 1>\u001b[1;34m()\u001b[0m\n\u001b[1;32m----> <a href='vscode-notebook-cell:/c%3A/Users/Usu%C3%A1rio/Desktop/BiblioKeia/cli/add.ipynb#X22sZmlsZQ%3D%3D?line=0'>1</a>\u001b[0m doc \u001b[39m=\u001b[39m create_doc(workMarc, instanceMarc, itemsMarc, \u001b[39m'\u001b[39;49m\u001b[39mLivro\u001b[39;49m\u001b[39m'\u001b[39;49m, \u001b[39mf\u001b[39;49m\u001b[39m\"\u001b[39;49m\u001b[39mE\u001b[39;49m\u001b[39m{\u001b[39;49;00me\u001b[39m}\u001b[39;49;00m\u001b[39m.P\u001b[39;49m\u001b[39m{\u001b[39;49;00mp\u001b[39m}\u001b[39;49;00m\u001b[39m\"\u001b[39;49m, count)\n",
      "File \u001b[1;32mc:\\Users\\Usuário\\Desktop\\BiblioKeia\\cli\\Solr\\solr.py:14\u001b[0m, in \u001b[0;36mcreate_doc\u001b[1;34m(workMarc, instanceMarc, itemsMarc, type, shelf, count)\u001b[0m\n\u001b[0;32m      2\u001b[0m \u001b[39mdef\u001b[39;00m \u001b[39mcreate_doc\u001b[39m(workMarc, instanceMarc, itemsMarc, \u001b[39mtype\u001b[39m, shelf, count):\n\u001b[0;32m      4\u001b[0m     doc \u001b[39m=\u001b[39m {\n\u001b[0;32m      5\u001b[0m         \u001b[39m'\u001b[39m\u001b[39mid\u001b[39m\u001b[39m'\u001b[39m: count,\n\u001b[0;32m      6\u001b[0m         \u001b[39m'\u001b[39m\u001b[39mcall\u001b[39m\u001b[39m'\u001b[39m: workMarc\u001b[39m.\u001b[39mClassification()\u001b[39m+\u001b[39m\u001b[39m\"\u001b[39m\u001b[39m \u001b[39m\u001b[39m\"\u001b[39m\u001b[39m+\u001b[39mworkMarc\u001b[39m.\u001b[39mCutter(),\n\u001b[0;32m      7\u001b[0m         \u001b[39m'\u001b[39m\u001b[39mshelf\u001b[39m\u001b[39m'\u001b[39m: shelf,\n\u001b[0;32m      8\u001b[0m         \u001b[39m'\u001b[39m\u001b[39mtitle\u001b[39m\u001b[39m'\u001b[39m: workMarc\u001b[39m.\u001b[39mTitle()\u001b[39m.\u001b[39mget(\u001b[39m'\u001b[39m\u001b[39mlabel\u001b[39m\u001b[39m'\u001b[39m)\u001b[39m.\u001b[39mrstrip()\u001b[39m.\u001b[39mremovesuffix(\u001b[39m'\u001b[39m\u001b[39m/\u001b[39m\u001b[39m'\u001b[39m)\u001b[39m.\u001b[39mrstrip(),\n\u001b[0;32m      9\u001b[0m         \u001b[39m'\u001b[39m\u001b[39mresponsibilities\u001b[39m\u001b[39m'\u001b[39m: instanceMarc\u001b[39m.\u001b[39mResponsibilityStatement(),\n\u001b[0;32m     10\u001b[0m         \u001b[39m'\u001b[39m\u001b[39mplace\u001b[39m\u001b[39m'\u001b[39m: instanceMarc\u001b[39m.\u001b[39mPublication()\u001b[39m.\u001b[39mget(\u001b[39m'\u001b[39m\u001b[39mplace\u001b[39m\u001b[39m'\u001b[39m),\n\u001b[0;32m     11\u001b[0m         \u001b[39m'\u001b[39m\u001b[39mpublisher\u001b[39m\u001b[39m'\u001b[39m: instanceMarc\u001b[39m.\u001b[39mPublication()\u001b[39m.\u001b[39mget(\u001b[39m'\u001b[39m\u001b[39mpublisher\u001b[39m\u001b[39m'\u001b[39m),\n\u001b[0;32m     12\u001b[0m         \u001b[39m'\u001b[39m\u001b[39msubject\u001b[39m\u001b[39m'\u001b[39m: [subject\u001b[39m.\u001b[39mget(\u001b[39m'\u001b[39m\u001b[39mlabel\u001b[39m\u001b[39m'\u001b[39m)\u001b[39m.\u001b[39mremovesuffix(\u001b[39m'\u001b[39m\u001b[39m.\u001b[39m\u001b[39m'\u001b[39m) \u001b[39mfor\u001b[39;00m subject \u001b[39min\u001b[39;00m workMarc\u001b[39m.\u001b[39mSubjects()],\n\u001b[0;32m     13\u001b[0m         \u001b[39m'\u001b[39m\u001b[39mtype\u001b[39m\u001b[39m'\u001b[39m: \u001b[39mtype\u001b[39m,\n\u001b[1;32m---> 14\u001b[0m         \u001b[39m'\u001b[39m\u001b[39mitems\u001b[39m\u001b[39m'\u001b[39m: [item\u001b[39m.\u001b[39mget(\u001b[39m'\u001b[39m\u001b[39mregister\u001b[39m\u001b[39m'\u001b[39m) \u001b[39mfor\u001b[39;00m item \u001b[39min\u001b[39;00m itemsMarc\u001b[39m.\u001b[39;49mItems()]\n\u001b[0;32m     15\u001b[0m     }\n\u001b[0;32m     16\u001b[0m     \u001b[39mif\u001b[39;00m workMarc\u001b[39m.\u001b[39mPrimaryContribution():\n\u001b[0;32m     17\u001b[0m         doc\u001b[39m.\u001b[39mupdate(author\u001b[39m=\u001b[39mworkMarc\u001b[39m.\u001b[39mPrimaryContribution()\u001b[39m.\u001b[39mget(\u001b[39m'\u001b[39m\u001b[39mperson\u001b[39m\u001b[39m'\u001b[39m))\n",
      "File \u001b[1;32mc:\\Users\\Usuário\\Desktop\\BiblioKeia\\cli\\Marc_to_Bibframe\\Marc\\marcItems.py:8\u001b[0m, in \u001b[0;36mMarcItems.Items\u001b[1;34m(self)\u001b[0m\n\u001b[0;32m      7\u001b[0m \u001b[39mdef\u001b[39;00m \u001b[39mItems\u001b[39m(\u001b[39mself\u001b[39m):\n\u001b[1;32m----> 8\u001b[0m     items \u001b[39m=\u001b[39m [\n\u001b[0;32m      9\u001b[0m         {\n\u001b[0;32m     10\u001b[0m             \u001b[39m'\u001b[39m\u001b[39mregister\u001b[39m\u001b[39m'\u001b[39m: item\u001b[39m.\u001b[39mfind(\u001b[39m\"\u001b[39m\u001b[39msubfield/[@code=\u001b[39m\u001b[39m'\u001b[39m\u001b[39mp\u001b[39m\u001b[39m'\u001b[39m\u001b[39m]\u001b[39m\u001b[39m\"\u001b[39m)\u001b[39m.\u001b[39mtext\u001b[39m.\u001b[39mrstrip(),\n\u001b[0;32m     11\u001b[0m             \u001b[39m'\u001b[39m\u001b[39mcreationDate\u001b[39m\u001b[39m'\u001b[39m: item\u001b[39m.\u001b[39mfind(\u001b[39m\"\u001b[39m\u001b[39msubfield/[@code=\u001b[39m\u001b[39m'\u001b[39m\u001b[39md\u001b[39m\u001b[39m'\u001b[39m\u001b[39m]\u001b[39m\u001b[39m\"\u001b[39m)\u001b[39m.\u001b[39mtext,\n\u001b[0;32m     12\u001b[0m             \u001b[39m'\u001b[39m\u001b[39mcallnumber\u001b[39m\u001b[39m'\u001b[39m: item\u001b[39m.\u001b[39mfind(\u001b[39m\"\u001b[39m\u001b[39msubfield/[@code=\u001b[39m\u001b[39m'\u001b[39m\u001b[39mo\u001b[39m\u001b[39m'\u001b[39m\u001b[39m]\u001b[39m\u001b[39m\"\u001b[39m)\u001b[39m.\u001b[39mtext\n\u001b[0;32m     13\u001b[0m         }\n\u001b[0;32m     14\u001b[0m          \u001b[39mfor\u001b[39;00m item \u001b[39min\u001b[39;00m \u001b[39mself\u001b[39m\u001b[39m.\u001b[39mitems]\n\u001b[0;32m     15\u001b[0m     \u001b[39mreturn\u001b[39;00m items\n",
      "File \u001b[1;32mc:\\Users\\Usuário\\Desktop\\BiblioKeia\\cli\\Marc_to_Bibframe\\Marc\\marcItems.py:11\u001b[0m, in \u001b[0;36m<listcomp>\u001b[1;34m(.0)\u001b[0m\n\u001b[0;32m      7\u001b[0m \u001b[39mdef\u001b[39;00m \u001b[39mItems\u001b[39m(\u001b[39mself\u001b[39m):\n\u001b[0;32m      8\u001b[0m     items \u001b[39m=\u001b[39m [\n\u001b[0;32m      9\u001b[0m         {\n\u001b[0;32m     10\u001b[0m             \u001b[39m'\u001b[39m\u001b[39mregister\u001b[39m\u001b[39m'\u001b[39m: item\u001b[39m.\u001b[39mfind(\u001b[39m\"\u001b[39m\u001b[39msubfield/[@code=\u001b[39m\u001b[39m'\u001b[39m\u001b[39mp\u001b[39m\u001b[39m'\u001b[39m\u001b[39m]\u001b[39m\u001b[39m\"\u001b[39m)\u001b[39m.\u001b[39mtext\u001b[39m.\u001b[39mrstrip(),\n\u001b[1;32m---> 11\u001b[0m             \u001b[39m'\u001b[39m\u001b[39mcreationDate\u001b[39m\u001b[39m'\u001b[39m: item\u001b[39m.\u001b[39;49mfind(\u001b[39m\"\u001b[39;49m\u001b[39msubfield/[@code=\u001b[39;49m\u001b[39m'\u001b[39;49m\u001b[39md\u001b[39;49m\u001b[39m'\u001b[39;49m\u001b[39m]\u001b[39;49m\u001b[39m\"\u001b[39;49m)\u001b[39m.\u001b[39;49mtext,\n\u001b[0;32m     12\u001b[0m             \u001b[39m'\u001b[39m\u001b[39mcallnumber\u001b[39m\u001b[39m'\u001b[39m: item\u001b[39m.\u001b[39mfind(\u001b[39m\"\u001b[39m\u001b[39msubfield/[@code=\u001b[39m\u001b[39m'\u001b[39m\u001b[39mo\u001b[39m\u001b[39m'\u001b[39m\u001b[39m]\u001b[39m\u001b[39m\"\u001b[39m)\u001b[39m.\u001b[39mtext\n\u001b[0;32m     13\u001b[0m         }\n\u001b[0;32m     14\u001b[0m          \u001b[39mfor\u001b[39;00m item \u001b[39min\u001b[39;00m \u001b[39mself\u001b[39m\u001b[39m.\u001b[39mitems]\n\u001b[0;32m     15\u001b[0m     \u001b[39mreturn\u001b[39;00m items\n",
      "\u001b[1;31mAttributeError\u001b[0m: 'NoneType' object has no attribute 'text'"
     ]
    }
   ],
   "source": [
    "doc = create_doc(workMarc, instanceMarc, itemsMarc, 'Livro', f\"E{e}.P{p}\", count)"
   ]
  },
  {
   "cell_type": "code",
   "execution_count": 21,
   "metadata": {},
   "outputs": [
    {
     "ename": "AttributeError",
     "evalue": "'NoneType' object has no attribute 'text'",
     "output_type": "error",
     "traceback": [
      "\u001b[1;31m---------------------------------------------------------------------------\u001b[0m",
      "\u001b[1;31mAttributeError\u001b[0m                            Traceback (most recent call last)",
      "\u001b[1;32mc:\\Users\\Usuário\\Desktop\\BiblioKeia\\cli\\add.ipynb Célula: 14\u001b[0m in \u001b[0;36m<cell line: 1>\u001b[1;34m()\u001b[0m\n\u001b[1;32m----> <a href='vscode-notebook-cell:/c%3A/Users/Usu%C3%A1rio/Desktop/BiblioKeia/cli/add.ipynb#X23sZmlsZQ%3D%3D?line=0'>1</a>\u001b[0m itemsMarc\u001b[39m.\u001b[39;49mItems()\n",
      "File \u001b[1;32mc:\\Users\\Usuário\\Desktop\\BiblioKeia\\cli\\Marc_to_Bibframe\\Marc\\marcItems.py:8\u001b[0m, in \u001b[0;36mMarcItems.Items\u001b[1;34m(self)\u001b[0m\n\u001b[0;32m      7\u001b[0m \u001b[39mdef\u001b[39;00m \u001b[39mItems\u001b[39m(\u001b[39mself\u001b[39m):\n\u001b[1;32m----> 8\u001b[0m     items \u001b[39m=\u001b[39m [\n\u001b[0;32m      9\u001b[0m         {\n\u001b[0;32m     10\u001b[0m             \u001b[39m'\u001b[39m\u001b[39mregister\u001b[39m\u001b[39m'\u001b[39m: item\u001b[39m.\u001b[39mfind(\u001b[39m\"\u001b[39m\u001b[39msubfield/[@code=\u001b[39m\u001b[39m'\u001b[39m\u001b[39mp\u001b[39m\u001b[39m'\u001b[39m\u001b[39m]\u001b[39m\u001b[39m\"\u001b[39m)\u001b[39m.\u001b[39mtext\u001b[39m.\u001b[39mrstrip(),\n\u001b[0;32m     11\u001b[0m             \u001b[39m'\u001b[39m\u001b[39mcreationDate\u001b[39m\u001b[39m'\u001b[39m: item\u001b[39m.\u001b[39mfind(\u001b[39m\"\u001b[39m\u001b[39msubfield/[@code=\u001b[39m\u001b[39m'\u001b[39m\u001b[39md\u001b[39m\u001b[39m'\u001b[39m\u001b[39m]\u001b[39m\u001b[39m\"\u001b[39m)\u001b[39m.\u001b[39mtext,\n\u001b[0;32m     12\u001b[0m             \u001b[39m'\u001b[39m\u001b[39mcallnumber\u001b[39m\u001b[39m'\u001b[39m: item\u001b[39m.\u001b[39mfind(\u001b[39m\"\u001b[39m\u001b[39msubfield/[@code=\u001b[39m\u001b[39m'\u001b[39m\u001b[39mo\u001b[39m\u001b[39m'\u001b[39m\u001b[39m]\u001b[39m\u001b[39m\"\u001b[39m)\u001b[39m.\u001b[39mtext\n\u001b[0;32m     13\u001b[0m         }\n\u001b[0;32m     14\u001b[0m          \u001b[39mfor\u001b[39;00m item \u001b[39min\u001b[39;00m \u001b[39mself\u001b[39m\u001b[39m.\u001b[39mitems]\n\u001b[0;32m     15\u001b[0m     \u001b[39mreturn\u001b[39;00m items\n",
      "File \u001b[1;32mc:\\Users\\Usuário\\Desktop\\BiblioKeia\\cli\\Marc_to_Bibframe\\Marc\\marcItems.py:11\u001b[0m, in \u001b[0;36m<listcomp>\u001b[1;34m(.0)\u001b[0m\n\u001b[0;32m      7\u001b[0m \u001b[39mdef\u001b[39;00m \u001b[39mItems\u001b[39m(\u001b[39mself\u001b[39m):\n\u001b[0;32m      8\u001b[0m     items \u001b[39m=\u001b[39m [\n\u001b[0;32m      9\u001b[0m         {\n\u001b[0;32m     10\u001b[0m             \u001b[39m'\u001b[39m\u001b[39mregister\u001b[39m\u001b[39m'\u001b[39m: item\u001b[39m.\u001b[39mfind(\u001b[39m\"\u001b[39m\u001b[39msubfield/[@code=\u001b[39m\u001b[39m'\u001b[39m\u001b[39mp\u001b[39m\u001b[39m'\u001b[39m\u001b[39m]\u001b[39m\u001b[39m\"\u001b[39m)\u001b[39m.\u001b[39mtext\u001b[39m.\u001b[39mrstrip(),\n\u001b[1;32m---> 11\u001b[0m             \u001b[39m'\u001b[39m\u001b[39mcreationDate\u001b[39m\u001b[39m'\u001b[39m: item\u001b[39m.\u001b[39;49mfind(\u001b[39m\"\u001b[39;49m\u001b[39msubfield/[@code=\u001b[39;49m\u001b[39m'\u001b[39;49m\u001b[39md\u001b[39;49m\u001b[39m'\u001b[39;49m\u001b[39m]\u001b[39;49m\u001b[39m\"\u001b[39;49m)\u001b[39m.\u001b[39;49mtext,\n\u001b[0;32m     12\u001b[0m             \u001b[39m'\u001b[39m\u001b[39mcallnumber\u001b[39m\u001b[39m'\u001b[39m: item\u001b[39m.\u001b[39mfind(\u001b[39m\"\u001b[39m\u001b[39msubfield/[@code=\u001b[39m\u001b[39m'\u001b[39m\u001b[39mo\u001b[39m\u001b[39m'\u001b[39m\u001b[39m]\u001b[39m\u001b[39m\"\u001b[39m)\u001b[39m.\u001b[39mtext\n\u001b[0;32m     13\u001b[0m         }\n\u001b[0;32m     14\u001b[0m          \u001b[39mfor\u001b[39;00m item \u001b[39min\u001b[39;00m \u001b[39mself\u001b[39m\u001b[39m.\u001b[39mitems]\n\u001b[0;32m     15\u001b[0m     \u001b[39mreturn\u001b[39;00m items\n",
      "\u001b[1;31mAttributeError\u001b[0m: 'NoneType' object has no attribute 'text'"
     ]
    }
   ],
   "source": [
    "itemsMarc.Items()"
   ]
  },
  {
   "cell_type": "code",
   "execution_count": 16,
   "metadata": {},
   "outputs": [
    {
     "ename": "AttributeError",
     "evalue": "'NoneType' object has no attribute 'text'",
     "output_type": "error",
     "traceback": [
      "\u001b[1;31m---------------------------------------------------------------------------\u001b[0m",
      "\u001b[1;31mAttributeError\u001b[0m                            Traceback (most recent call last)",
      "\u001b[1;32mc:\\Users\\Usuário\\Desktop\\BiblioKeia\\cli\\add.ipynb Célula: 15\u001b[0m in \u001b[0;36m<cell line: 3>\u001b[1;34m()\u001b[0m\n\u001b[0;32m      <a href='vscode-notebook-cell:/c%3A/Users/Usu%C3%A1rio/Desktop/BiblioKeia/cli/add.ipynb#X24sZmlsZQ%3D%3D?line=0'>1</a>\u001b[0m items \u001b[39m=\u001b[39m marcxml\u001b[39m.\u001b[39mfindall(\n\u001b[0;32m      <a href='vscode-notebook-cell:/c%3A/Users/Usu%C3%A1rio/Desktop/BiblioKeia/cli/add.ipynb#X24sZmlsZQ%3D%3D?line=1'>2</a>\u001b[0m             \u001b[39m\"\u001b[39m\u001b[39mdatafield/[@tag=\u001b[39m\u001b[39m'\u001b[39m\u001b[39m952\u001b[39m\u001b[39m'\u001b[39m\u001b[39m]\u001b[39m\u001b[39m\"\u001b[39m)\n\u001b[1;32m----> <a href='vscode-notebook-cell:/c%3A/Users/Usu%C3%A1rio/Desktop/BiblioKeia/cli/add.ipynb#X24sZmlsZQ%3D%3D?line=2'>3</a>\u001b[0m items[\u001b[39m0\u001b[39;49m]\u001b[39m.\u001b[39;49mfind(\u001b[39m\"\u001b[39;49m\u001b[39msubfield/[@code=\u001b[39;49m\u001b[39m'\u001b[39;49m\u001b[39md\u001b[39;49m\u001b[39m'\u001b[39;49m\u001b[39m]\u001b[39;49m\u001b[39m\"\u001b[39;49m)\u001b[39m.\u001b[39;49mtext\n",
      "\u001b[1;31mAttributeError\u001b[0m: 'NoneType' object has no attribute 'text'"
     ]
    }
   ],
   "source": [
    "items = marcxml.findall(\n",
    "            \"datafield/[@tag='952']\")\n",
    "items[0].find(\"subfield/[@code='d']\").text"
   ]
  },
  {
   "cell_type": "code",
   "execution_count": 8,
   "metadata": {},
   "outputs": [
    {
     "name": "stdout",
     "output_type": "stream",
     "text": [
      "241\n",
      "Arte indígena da Amazonia\n",
      "242\n",
      "Trópicos úmidos\n",
      "243\n",
      "Cadastro de pesquisas sobre a Amazônia brasileira\n",
      "244\n",
      "Catálogo arquivo de Mateus\n",
      "245\n",
      "Georgrafia da Amazônia\n",
      "246\n",
      "Mensajeros del tropico amazonico\n",
      "247\n",
      "Bibliografia de la Amazonia colombiana y areas fronterizas amazónicas\n",
      "248\n",
      "Bibliografia do Acre\n",
      "249\n",
      "Inventário analítico do fundo Rudolf Schuller.\n",
      "250\n",
      "Amazônia\n",
      "251\n",
      "Carajás, informações documentais\n",
      "252\n",
      "Documentação amazônica\n",
      "253\n",
      "Catálogo da Biblioteca de Rui Barbosa\n",
      "254\n",
      "Alfabetização digital e acesso ao conhecimento\n",
      "255\n",
      "Planejamento bibliotecário\n",
      "256\n",
      "Planejamento bibliotecário no Brasil\n",
      "257\n",
      "O Ensino de biblioteconomia no Brasil\n"
     ]
    }
   ],
   "source": [
    "count = 241\n",
    "e = '2'\n",
    "p = '5'\n",
    "out = f'E{e}/P{p}'\n",
    "path_marc = f'Input/{out}/koha.xml'\n",
    "\n",
    "docs = UpadateSolr(path_marc, count, f\"E{e}.P{p}\", out)"
   ]
  },
  {
   "cell_type": "code",
   "execution_count": 9,
   "metadata": {},
   "outputs": [
    {
     "data": {
      "text/plain": [
       "'{\\n  \"responseHeader\":{\\n    \"status\":0,\\n    \"QTime\":367}}\\n'"
      ]
     },
     "execution_count": 9,
     "metadata": {},
     "output_type": "execute_result"
    }
   ],
   "source": [
    "solr = pysolr.Solr('http://localhost:8983/solr/search/', timeout=10)\n",
    "solr.add(docs, commit=True)"
   ]
  },
  {
   "cell_type": "code",
   "execution_count": 12,
   "metadata": {},
   "outputs": [],
   "source": [
    "def UpadateJena(path_marc, count, shelf, out):\n",
    "    \n",
    "    marc_file = parse(path_marc)\n",
    "    records = marc_file.getElementsByTagName('record')\n",
    "\n",
    "    docs = list()\n",
    "    for record in records:\n",
    "        \n",
    "        marcxml = etree.fromstring(record.toxml())\n",
    "        workMarc = MarcWork(marcxml)\n",
    "        instanceMarc = MarcInstance(marcxml)\n",
    "        itemsMarc = MarcItems(marcxml)\n",
    "        print(count)\n",
    "        print(workMarc.Title().get('title'))\n",
    "\n",
    "        #JENA\n",
    "        create_graph(count, workMarc, instanceMarc, itemsMarc, shelf)\n",
    "        count += 1"
   ]
  },
  {
   "cell_type": "code",
   "execution_count": 13,
   "metadata": {},
   "outputs": [
    {
     "name": "stdout",
     "output_type": "stream",
     "text": [
      "20\n",
      "Resumos\n",
      "21\n",
      "Resumos\n",
      "22\n",
      "Pesquisa científica e tecnológica em saúde\n",
      "23\n",
      "Pesquisas recentes em energia, meio ambiente e tecnologia\n",
      "24\n",
      "Iniciação à pesquisa científica\n",
      "25\n",
      "<1º >Seminário de Ciências da Fiube\n",
      "26\n",
      "Encontro sobre o programa de pesquisas para o trópico úmido.\n",
      "27\n",
      "A pesquisa no Brasil\n"
     ]
    },
    {
     "name": "stderr",
     "output_type": "stream",
     "text": [
      "Failed to convert Literal lexical form to value. Datatype=http://www.w3.org/2001/XMLSchema#date, Converter=<function parse_date at 0x0000025BF6578790>\n",
      "Traceback (most recent call last):\n",
      "  File \"c:\\Users\\Usuário\\Desktop\\BiblioKeia\\venv\\lib\\site-packages\\rdflib\\term.py\", line 2084, in _castLexicalToPython\n",
      "    return conv_func(lexical)  # type: ignore[arg-type]\n",
      "  File \"c:\\Users\\Usuário\\Desktop\\BiblioKeia\\venv\\lib\\site-packages\\isodate\\isodates.py\", line 201, in parse_date\n",
      "    return date(sign * int(groups['year']),\n",
      "ValueError: year 0 is out of range\n",
      "Failed to convert Literal lexical form to value. Datatype=http://www.w3.org/2001/XMLSchema#date, Converter=<function parse_date at 0x0000025BF6578790>\n",
      "Traceback (most recent call last):\n",
      "  File \"c:\\Users\\Usuário\\Desktop\\BiblioKeia\\venv\\lib\\site-packages\\rdflib\\term.py\", line 2084, in _castLexicalToPython\n",
      "    return conv_func(lexical)  # type: ignore[arg-type]\n",
      "  File \"c:\\Users\\Usuário\\Desktop\\BiblioKeia\\venv\\lib\\site-packages\\isodate\\isodates.py\", line 201, in parse_date\n",
      "    return date(sign * int(groups['year']),\n",
      "ValueError: year 0 is out of range\n",
      "Failed to convert Literal lexical form to value. Datatype=http://www.w3.org/2001/XMLSchema#date, Converter=<function parse_date at 0x0000025BF6578790>\n",
      "Traceback (most recent call last):\n",
      "  File \"c:\\Users\\Usuário\\Desktop\\BiblioKeia\\venv\\lib\\site-packages\\rdflib\\term.py\", line 2084, in _castLexicalToPython\n",
      "    return conv_func(lexical)  # type: ignore[arg-type]\n",
      "  File \"c:\\Users\\Usuário\\Desktop\\BiblioKeia\\venv\\lib\\site-packages\\isodate\\isodates.py\", line 201, in parse_date\n",
      "    return date(sign * int(groups['year']),\n",
      "ValueError: year 0 is out of range\n"
     ]
    },
    {
     "name": "stdout",
     "output_type": "stream",
     "text": [
      "28\n",
      "Resumos do XVII Seminário de Iniciação Científica da UFPA\n",
      "29\n",
      "FADESP, Fundação de Amaparo e Desenvolvimento da Pesquisa, Belém-Pará.\n",
      "30\n",
      "Manual de normas para publicações técnico-científicas\n",
      "31\n",
      "Manual do autor\n",
      "32\n",
      "Metodos e tecnicas de pesquisa aplicados a administração\n",
      "33\n",
      "A estatística na pesquisa científica\n",
      "34\n",
      "Prioridades da pesquisa do CIFOR\n",
      "35\n",
      "Matemática e estatística na análise de experimentos e no melhoramento genético\n",
      "36\n",
      "Relatório de atividades 2011-2013\n",
      "37\n",
      "Seminário pesquisa tecnológica\n",
      "38\n",
      "Pesquisa científica\n",
      "39\n",
      "Pesquisa operacional\n",
      "40\n",
      "Ciência, tecnologia e inovação para um Brasil competitivo\n",
      "41\n",
      "Os 40 anos da fundação Ford no Brasil\n",
      "42\n",
      "Orçamento da União para ciência e tecnologia, 1980\n",
      "43\n",
      "Guia de fontes de financiamento à ciência & tecnologia\n",
      "44\n",
      "Guia de fontes de financiamento à ciência & tecnologia\n",
      "45\n",
      "Avaliação e fomento de C&T no Brasil\n",
      "46\n",
      "Recherches de I'RD au Brésil depuis 1998\n",
      "47\n",
      "Setor produtivo estatal\n"
     ]
    }
   ],
   "source": [
    "count = 20\n",
    "e = '1'\n",
    "p = '2'\n",
    "out = f'E{e}/P{p}'\n",
    "path_marc = f'Input/{out}/koha.xml'\n",
    "\n",
    "UpadateJena(path_marc, count, f\"E{e}.P{p}\", out)"
   ]
  }
 ],
 "metadata": {
  "kernelspec": {
   "display_name": "Python 3.10.4 ('venv': venv)",
   "language": "python",
   "name": "python3"
  },
  "language_info": {
   "codemirror_mode": {
    "name": "ipython",
    "version": 3
   },
   "file_extension": ".py",
   "mimetype": "text/x-python",
   "name": "python",
   "nbconvert_exporter": "python",
   "pygments_lexer": "ipython3",
   "version": "3.10.4"
  },
  "orig_nbformat": 4,
  "vscode": {
   "interpreter": {
    "hash": "7c803f0ee3b2b2cd03f94fb28d6f360d094e6843888122798203f226e128b66e"
   }
  }
 },
 "nbformat": 4,
 "nbformat_minor": 2
}
