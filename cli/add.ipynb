{
 "cells": [
  {
   "cell_type": "code",
   "execution_count": 1,
   "metadata": {},
   "outputs": [],
   "source": [
    "from rdflib.plugins.stores.sparqlstore import SPARQLUpdateStore, SPARQLStore\n",
    "from rdflib import Graph, Namespace, URIRef\n",
    "\n",
    "from xml.dom.minidom import parse\n",
    "import xml.etree.ElementTree as etree\n",
    "from Marc_to_Bibframe.Marc.marcWork import MarcWork\n",
    "from Marc_to_Bibframe.Marc.marcInstance import MarcInstance\n",
    "from Marc_to_Bibframe.Marc.marcItems import MarcItems\n",
    "from Marc_to_Bibframe.Work.work import Work\n",
    "from Marc_to_Bibframe.Instance.instance import Instance\n",
    "\n",
    "import pysolr\n",
    "from Solr.solr import create_doc\n",
    "from Jena_cli.jena import UpadateJena"
   ]
  },
  {
   "cell_type": "markdown",
   "metadata": {},
   "source": [
    "DELETE ALL GRAPHS"
   ]
  },
  {
   "cell_type": "code",
   "execution_count": 2,
   "metadata": {},
   "outputs": [],
   "source": [
    "store = SPARQLUpdateStore(update_endpoint='http://localhost:3030/bibframe/update')\n",
    "query_endpoint = 'http://localhost:3030/bibframe/query'\n",
    "update_endpoint = 'http://localhost:3030/bibframe/update'\n",
    "store.open((query_endpoint, update_endpoint))"
   ]
  },
  {
   "cell_type": "code",
   "execution_count": 5,
   "metadata": {},
   "outputs": [],
   "source": [
    "#Delete all Named Graph\n",
    "\n",
    "d = \"\"\"DELETE { graph ?g { ?s ?p ?o } } \n",
    "\n",
    "WHERE {\n",
    "\n",
    "graph ?g {?s ?p ?o.}\n",
    "\n",
    "}\"\"\"\n",
    "\n",
    "store.update(d)"
   ]
  },
  {
   "cell_type": "markdown",
   "metadata": {},
   "source": [
    "SOLR"
   ]
  },
  {
   "cell_type": "code",
   "execution_count": 10,
   "metadata": {},
   "outputs": [
    {
     "data": {
      "text/plain": [
       "'{\\n  \"responseHeader\":{\\n    \"zkConnected\":null,\\n    \"status\":0,\\n    \"QTime\":6,\\n    \"params\":{\\n      \"q\":\"{!lucene}*:*\",\\n      \"distrib\":\"false\",\\n      \"df\":\"_text_\",\\n      \"rows\":\"10\",\\n      \"echoParams\":\"all\",\\n      \"rid\":\"localhost-1\"}},\\n  \"status\":\"OK\"}\\n'"
      ]
     },
     "execution_count": 10,
     "metadata": {},
     "output_type": "execute_result"
    }
   ],
   "source": [
    "#SOLR\n",
    "solr = pysolr.Solr('http://localhost:8983/solr/search/', timeout=10)\n",
    "solr.ping()"
   ]
  },
  {
   "cell_type": "code",
   "execution_count": 2,
   "metadata": {},
   "outputs": [],
   "source": [
    "def UpadateSolr(path_marc, count, shelf):\n",
    "    \n",
    "    marc_file = parse(path_marc)\n",
    "    records = marc_file.getElementsByTagName('record')\n",
    "\n",
    "    docs = list()\n",
    "    for record in records:\n",
    "        \n",
    "        marcxml = etree.fromstring(record.toxml())\n",
    "        workMarc = MarcWork(marcxml)\n",
    "        instanceMarc = MarcInstance(marcxml)\n",
    "        itemsMarc = MarcItems(marcxml)\n",
    "        print(count)\n",
    "        print(workMarc.Title().get('title'))\n",
    "\n",
    "        #SOLR\n",
    "        doc = create_doc(workMarc, instanceMarc, itemsMarc, 'Livro', shelf, count)\n",
    "        docs.append(doc)\n",
    "        \n",
    "        count += 1\n",
    "    return docs, count"
   ]
  },
  {
   "cell_type": "code",
   "execution_count": null,
   "metadata": {},
   "outputs": [],
   "source": [
    "count = 378\n",
    "e = '3'\n",
    "p = '5'\n",
    "out = f'E{e}/P{p}'\n",
    "path_marc = f'Input/{out}/koha.xml'\n",
    "\n",
    "docs, _ = UpadateSolr(path_marc, count, f\"E{e}.P{p}\")"
   ]
  },
  {
   "cell_type": "code",
   "execution_count": 49,
   "metadata": {},
   "outputs": [
    {
     "data": {
      "text/plain": [
       "'{\\n  \"responseHeader\":{\\n    \"status\":0,\\n    \"QTime\":348}}\\n'"
      ]
     },
     "execution_count": 49,
     "metadata": {},
     "output_type": "execute_result"
    }
   ],
   "source": [
    "#solr = pysolr.Solr('http://localhost:8983/solr/search/', timeout=10)\n",
    "solr.add(docs, commit=True)"
   ]
  },
  {
   "cell_type": "markdown",
   "metadata": {},
   "source": [
    "IMPORT LOTE"
   ]
  },
  {
   "cell_type": "code",
   "execution_count": null,
   "metadata": {},
   "outputs": [],
   "source": [
    "count = 1\n",
    "solr_docs = list()\n",
    "for e in range(1, 3):\n",
    "    for p in range(1,6):\n",
    "        path_marc = f'Input/E{e}/P{p}/koha.xml'\n",
    "        docs, count  = UpadateSolr(path_marc, count, f\"E{e}.P{p}\")\n",
    "        #solr_docs.append(docs)\n",
    "        solr_docs = solr_docs + docs\n",
    "        #count += 1\n",
    "        #print(count)"
   ]
  },
  {
   "cell_type": "code",
   "execution_count": 35,
   "metadata": {},
   "outputs": [
    {
     "data": {
      "text/plain": [
       "'{\\n  \"responseHeader\":{\\n    \"status\":0,\\n    \"QTime\":1736}}\\n'"
      ]
     },
     "execution_count": 35,
     "metadata": {},
     "output_type": "execute_result"
    }
   ],
   "source": [
    "solr = pysolr.Solr('http://localhost:8983/solr/search/', timeout=10)\n",
    "solr.add(solr_docs, commit=True)"
   ]
  },
  {
   "cell_type": "markdown",
   "metadata": {},
   "source": [
    "JENA"
   ]
  },
  {
   "cell_type": "code",
   "execution_count": null,
   "metadata": {},
   "outputs": [],
   "source": [
    "count = 1\n",
    "for i in range(1,3):\n",
    "    e = i\n",
    "    for p in range(1,6):\n",
    "        out = f'E{e}/P{p}'\n",
    "        path_marc = f'Input/{out}/koha.xml'\n",
    "        shelf = f\"E{e}.P{p}\"\n",
    "        count = UpadateJena(path_marc, count, shelf, out)\n"
   ]
  },
  {
   "cell_type": "code",
   "execution_count": 16,
   "metadata": {},
   "outputs": [
    {
     "name": "stdout",
     "output_type": "stream",
     "text": [
      "106\n",
      "An introduction to RPG-RPG II programming\n",
      "107\n",
      "Programacion con el lenguaje Cobol\n",
      "108\n",
      "Dominando o PostgreSQL\n",
      "109\n",
      "Study notes in system dynamics.\n",
      "110\n",
      "TURBO PASCAL\n",
      "111\n",
      "FORTH, guia do usuário\n",
      "112\n",
      "Princípios em projetos de programas\n",
      "113\n",
      "Lenguajes de diagramas de flujo\n",
      "114\n",
      "Linguagem PASCAL\n",
      "115\n",
      "A simplified guide to FORTRAN programming\n",
      "116\n",
      "Lingugem C\n",
      "117\n",
      "Biblioteca do programador Clipper 5.01\n",
      "118\n",
      "Delphi 2\n",
      "119\n",
      "Manipulando bancos de dados com Delphi 2\n",
      "120\n",
      "SQL para Delphi 2\n",
      "121\n",
      "Cobol y sus aplicaciones en los negocios\n",
      "122\n",
      "Clipper\n",
      "123\n",
      "Pascal e técnicas de programação\n",
      "124\n",
      "I simpósio brasileiro de linguagens de programação\n",
      "125\n",
      "MUMPS: uma nova abordagem\n",
      "126\n",
      "turbo Pascal\n",
      "127\n",
      "Supercalc\n",
      "128\n",
      "Fortran\n",
      "129\n",
      "Fortran - Monitor\n",
      "130\n",
      "Quattro Pro 2\n",
      "131\n",
      "Desktop publishing com pagemaker IBM PC AT, PS.2 e compatíveis\n",
      "132\n",
      "Macro processors and techniques for portable software\n",
      "133\n",
      "TURBO BASIC\n",
      "134\n",
      "Princípios de sistemas de gerência de bancos de dados distribuídos\n",
      "135\n",
      "Sistemas de gerência de bancos de dados distribuídos\n",
      "136\n",
      "DR DOS 6.0\n",
      "137\n",
      "DR Dos 6.0\n",
      "138\n",
      "Wordstar 4.2\n",
      "139\n",
      "WORDSTAR 5.0 professional\n",
      "140\n",
      "The Microsoft guide to managing memory with DOS 5\n"
     ]
    },
    {
     "name": "stderr",
     "output_type": "stream",
     "text": [
      "http://id.loc.gov/vocabulary/languages/0 p does not look like a valid URI, trying to serialize this will break.\n"
     ]
    },
    {
     "name": "stdout",
     "output_type": "stream",
     "text": [
      "141\n",
      "Dbase III plus\n"
     ]
    },
    {
     "ename": "Exception",
     "evalue": "\"http://id.loc.gov/vocabulary/languages/0 p\" does not look like a valid URI, I cannot serialize this as N3/Turtle. Perhaps you wanted to urlencode it?",
     "output_type": "error",
     "traceback": [
      "\u001b[1;31m---------------------------------------------------------------------------\u001b[0m",
      "\u001b[1;31mException\u001b[0m                                 Traceback (most recent call last)",
      "\u001b[1;32mc:\\Users\\inaci\\Desktop\\BiblioKeia\\cli\\add.ipynb Célula: 12\u001b[0m in \u001b[0;36m<cell line: 3>\u001b[1;34m()\u001b[0m\n\u001b[0;32m      <a href='vscode-notebook-cell:/c%3A/Users/inaci/Desktop/BiblioKeia/cli/add.ipynb#X24sZmlsZQ%3D%3D?line=3'>4</a>\u001b[0m out \u001b[39m=\u001b[39m \u001b[39mf\u001b[39m\u001b[39m'\u001b[39m\u001b[39mE\u001b[39m\u001b[39m{\u001b[39;00me\u001b[39m}\u001b[39;00m\u001b[39m/P\u001b[39m\u001b[39m{\u001b[39;00mp\u001b[39m}\u001b[39;00m\u001b[39m'\u001b[39m\n\u001b[0;32m      <a href='vscode-notebook-cell:/c%3A/Users/inaci/Desktop/BiblioKeia/cli/add.ipynb#X24sZmlsZQ%3D%3D?line=4'>5</a>\u001b[0m path_marc \u001b[39m=\u001b[39m \u001b[39mf\u001b[39m\u001b[39m'\u001b[39m\u001b[39mInput/\u001b[39m\u001b[39m{\u001b[39;00mout\u001b[39m}\u001b[39;00m\u001b[39m/koha.xml\u001b[39m\u001b[39m'\u001b[39m\n\u001b[1;32m----> <a href='vscode-notebook-cell:/c%3A/Users/inaci/Desktop/BiblioKeia/cli/add.ipynb#X24sZmlsZQ%3D%3D?line=5'>6</a>\u001b[0m count \u001b[39m=\u001b[39m UpadateJena(path_marc, count, shelf, out)\n",
      "File \u001b[1;32mc:\\Users\\inaci\\Desktop\\BiblioKeia\\cli\\Jena_cli\\jena.py:58\u001b[0m, in \u001b[0;36mUpadateJena\u001b[1;34m(path_marc, count, shelf, out)\u001b[0m\n\u001b[0;32m     56\u001b[0m work \u001b[39m=\u001b[39m Work(count, workMarc, BFwork, BFinstance)\n\u001b[0;32m     57\u001b[0m \u001b[39m#work.serialize(f'out/{out}/works/{count}.ttl', format='turtle')\u001b[39;00m\n\u001b[1;32m---> 58\u001b[0m nt \u001b[39m=\u001b[39m work\u001b[39m.\u001b[39;49mserialize(\u001b[39mformat\u001b[39;49m\u001b[39m=\u001b[39;49m\u001b[39m'\u001b[39;49m\u001b[39mnt\u001b[39;49m\u001b[39m'\u001b[39;49m)\n\u001b[0;32m     59\u001b[0m W \u001b[39m=\u001b[39m Make_Graph(nt, \u001b[39m\"\u001b[39m\u001b[39mwork\u001b[39m\u001b[39m\"\u001b[39m, count)\n\u001b[0;32m     60\u001b[0m store\u001b[39m.\u001b[39mupdate(W)\n",
      "File \u001b[1;32mc:\\Users\\inaci\\Desktop\\BiblioKeia\\venv\\lib\\site-packages\\rdflib\\graph.py:1186\u001b[0m, in \u001b[0;36mGraph.serialize\u001b[1;34m(self, destination, format, base, encoding, **args)\u001b[0m\n\u001b[0;32m   1184\u001b[0m stream \u001b[39m=\u001b[39m BytesIO()\n\u001b[0;32m   1185\u001b[0m \u001b[39mif\u001b[39;00m encoding \u001b[39mis\u001b[39;00m \u001b[39mNone\u001b[39;00m:\n\u001b[1;32m-> 1186\u001b[0m     serializer\u001b[39m.\u001b[39mserialize(stream, base\u001b[39m=\u001b[39mbase, encoding\u001b[39m=\u001b[39m\u001b[39m\"\u001b[39m\u001b[39mutf-8\u001b[39m\u001b[39m\"\u001b[39m, \u001b[39m*\u001b[39m\u001b[39m*\u001b[39margs)\n\u001b[0;32m   1187\u001b[0m     \u001b[39mreturn\u001b[39;00m stream\u001b[39m.\u001b[39mgetvalue()\u001b[39m.\u001b[39mdecode(\u001b[39m\"\u001b[39m\u001b[39mutf-8\u001b[39m\u001b[39m\"\u001b[39m)\n\u001b[0;32m   1188\u001b[0m \u001b[39melse\u001b[39;00m:\n",
      "File \u001b[1;32mc:\\Users\\inaci\\Desktop\\BiblioKeia\\venv\\lib\\site-packages\\rdflib\\plugins\\serializers\\nt.py:41\u001b[0m, in \u001b[0;36mNTSerializer.serialize\u001b[1;34m(self, stream, base, encoding, **args)\u001b[0m\n\u001b[0;32m     35\u001b[0m     warnings\u001b[39m.\u001b[39mwarn(\n\u001b[0;32m     36\u001b[0m         \u001b[39m\"\u001b[39m\u001b[39mNTSerializer always uses UTF-8 encoding. \u001b[39m\u001b[39m\"\u001b[39m\n\u001b[0;32m     37\u001b[0m         \u001b[39mf\u001b[39m\u001b[39m\"\u001b[39m\u001b[39mGiven encoding was: \u001b[39m\u001b[39m{\u001b[39;00mencoding\u001b[39m}\u001b[39;00m\u001b[39m\"\u001b[39m\n\u001b[0;32m     38\u001b[0m     )\n\u001b[0;32m     40\u001b[0m \u001b[39mfor\u001b[39;00m triple \u001b[39min\u001b[39;00m \u001b[39mself\u001b[39m\u001b[39m.\u001b[39mstore:\n\u001b[1;32m---> 41\u001b[0m     stream\u001b[39m.\u001b[39mwrite(_nt_row(triple)\u001b[39m.\u001b[39mencode())\n",
      "File \u001b[1;32mc:\\Users\\inaci\\Desktop\\BiblioKeia\\venv\\lib\\site-packages\\rdflib\\plugins\\serializers\\nt.py:63\u001b[0m, in \u001b[0;36m_nt_row\u001b[1;34m(triple)\u001b[0m\n\u001b[0;32m     57\u001b[0m     \u001b[39mreturn\u001b[39;00m \u001b[39m\"\u001b[39m\u001b[39m%s\u001b[39;00m\u001b[39m \u001b[39m\u001b[39m%s\u001b[39;00m\u001b[39m \u001b[39m\u001b[39m%s\u001b[39;00m\u001b[39m .\u001b[39m\u001b[39m\\n\u001b[39;00m\u001b[39m\"\u001b[39m \u001b[39m%\u001b[39m (\n\u001b[0;32m     58\u001b[0m         triple[\u001b[39m0\u001b[39m]\u001b[39m.\u001b[39mn3(),\n\u001b[0;32m     59\u001b[0m         triple[\u001b[39m1\u001b[39m]\u001b[39m.\u001b[39mn3(),\n\u001b[0;32m     60\u001b[0m         _quoteLiteral(triple[\u001b[39m2\u001b[39m]),\n\u001b[0;32m     61\u001b[0m     )\n\u001b[0;32m     62\u001b[0m \u001b[39melse\u001b[39;00m:\n\u001b[1;32m---> 63\u001b[0m     \u001b[39mreturn\u001b[39;00m \u001b[39m\"\u001b[39m\u001b[39m%s\u001b[39;00m\u001b[39m \u001b[39m\u001b[39m%s\u001b[39;00m\u001b[39m \u001b[39m\u001b[39m%s\u001b[39;00m\u001b[39m .\u001b[39m\u001b[39m\\n\u001b[39;00m\u001b[39m\"\u001b[39m \u001b[39m%\u001b[39m (triple[\u001b[39m0\u001b[39m]\u001b[39m.\u001b[39mn3(), triple[\u001b[39m1\u001b[39m]\u001b[39m.\u001b[39mn3(), triple[\u001b[39m2\u001b[39;49m]\u001b[39m.\u001b[39;49mn3())\n",
      "File \u001b[1;32mc:\\Users\\inaci\\Desktop\\BiblioKeia\\venv\\lib\\site-packages\\rdflib\\term.py:300\u001b[0m, in \u001b[0;36mURIRef.n3\u001b[1;34m(self, namespace_manager)\u001b[0m\n\u001b[0;32m    290\u001b[0m \u001b[39m\"\"\"\u001b[39;00m\n\u001b[0;32m    291\u001b[0m \u001b[39mThis will do a limited check for valid URIs,\u001b[39;00m\n\u001b[0;32m    292\u001b[0m \u001b[39messentially just making sure that the string includes no illegal\u001b[39;00m\n\u001b[1;32m   (...)\u001b[0m\n\u001b[0;32m    296\u001b[0m \u001b[39m     a prefixed name\u001b[39;00m\n\u001b[0;32m    297\u001b[0m \u001b[39m\"\"\"\u001b[39;00m\n\u001b[0;32m    299\u001b[0m \u001b[39mif\u001b[39;00m \u001b[39mnot\u001b[39;00m _is_valid_uri(\u001b[39mself\u001b[39m):\n\u001b[1;32m--> 300\u001b[0m     \u001b[39mraise\u001b[39;00m \u001b[39mException\u001b[39;00m(\n\u001b[0;32m    301\u001b[0m         \u001b[39m'\u001b[39m\u001b[39m\"\u001b[39m\u001b[39m%s\u001b[39;00m\u001b[39m\"\u001b[39m\u001b[39m does not look like a valid URI, I cannot serialize this as N3/Turtle. Perhaps you wanted to urlencode it?\u001b[39m\u001b[39m'\u001b[39m\n\u001b[0;32m    302\u001b[0m         \u001b[39m%\u001b[39m \u001b[39mself\u001b[39m\n\u001b[0;32m    303\u001b[0m     )\n\u001b[0;32m    305\u001b[0m \u001b[39mif\u001b[39;00m namespace_manager:\n\u001b[0;32m    306\u001b[0m     \u001b[39mreturn\u001b[39;00m namespace_manager\u001b[39m.\u001b[39mnormalizeUri(\u001b[39mself\u001b[39m)\n",
      "\u001b[1;31mException\u001b[0m: \"http://id.loc.gov/vocabulary/languages/0 p\" does not look like a valid URI, I cannot serialize this as N3/Turtle. Perhaps you wanted to urlencode it?"
     ]
    }
   ],
   "source": [
    "e = 2\n",
    "count = 106\n",
    "for p in range(1,6):\n",
    "    out = f'E{e}/P{p}'\n",
    "    path_marc = f'Input/{out}/koha.xml'\n",
    "    count = UpadateJena(path_marc, count, shelf, out)"
   ]
  },
  {
   "cell_type": "code",
   "execution_count": 15,
   "metadata": {},
   "outputs": [
    {
     "data": {
      "text/plain": [
       "106"
      ]
     },
     "execution_count": 15,
     "metadata": {},
     "output_type": "execute_result"
    }
   ],
   "source": [
    "count"
   ]
  }
 ],
 "metadata": {
  "kernelspec": {
   "display_name": "Python 3.10.4 ('venv': venv)",
   "language": "python",
   "name": "python3"
  },
  "language_info": {
   "codemirror_mode": {
    "name": "ipython",
    "version": 3
   },
   "file_extension": ".py",
   "mimetype": "text/x-python",
   "name": "python",
   "nbconvert_exporter": "python",
   "pygments_lexer": "ipython3",
   "version": "3.10.4"
  },
  "orig_nbformat": 4,
  "vscode": {
   "interpreter": {
    "hash": "7c803f0ee3b2b2cd03f94fb28d6f360d094e6843888122798203f226e128b66e"
   }
  }
 },
 "nbformat": 4,
 "nbformat_minor": 2
}
