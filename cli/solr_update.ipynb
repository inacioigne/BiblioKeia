{
 "cells": [
  {
   "cell_type": "code",
   "execution_count": 1,
   "metadata": {},
   "outputs": [],
   "source": [
    "import pysolr\n",
    "from Solr.create_doc import Create_doc\n",
    "from xml.dom.minidom import parse\n",
    "import xml.etree.ElementTree as etree\n",
    "from Marc_to_Bibframe.Marc.marcWork import MarcWork\n",
    "from Marc_to_Bibframe.Marc.marcInstance import MarcInstance\n",
    "from Marc_to_Bibframe.Marc.marcItems import MarcItems"
   ]
  },
  {
   "cell_type": "code",
   "execution_count": 6,
   "metadata": {},
   "outputs": [
    {
     "data": {
      "text/plain": [
       "'{\\n  \"responseHeader\":{\\n    \"zkConnected\":null,\\n    \"status\":0,\\n    \"QTime\":32,\\n    \"params\":{\\n      \"q\":\"{!lucene}*:*\",\\n      \"distrib\":\"false\",\\n      \"df\":\"_text_\",\\n      \"rows\":\"10\",\\n      \"echoParams\":\"all\",\\n      \"rid\":\"localhost-103\"}},\\n  \"status\":\"OK\"}\\n'"
      ]
     },
     "execution_count": 6,
     "metadata": {},
     "output_type": "execute_result"
    }
   ],
   "source": [
    "solr = pysolr.Solr('http://localhost:8983/solr/search/', timeout=10)\n",
    "solr.ping()"
   ]
  },
  {
   "cell_type": "code",
   "execution_count": 7,
   "metadata": {},
   "outputs": [],
   "source": [
    "def UpadateSolr(path_marc, count, shelf):\n",
    "    \n",
    "    marc_file = parse(path_marc)\n",
    "    records = marc_file.getElementsByTagName('record')\n",
    "\n",
    "    docs = list()\n",
    "    for record in records:\n",
    "        \n",
    "        marcxml = etree.fromstring(record.toxml())\n",
    "        workMarc = MarcWork(marcxml)\n",
    "        instanceMarc = MarcInstance(marcxml)\n",
    "        itemsMarc = MarcItems(marcxml)\n",
    "        print(count)\n",
    "        print(workMarc.Title().get('title'))\n",
    "\n",
    "        #SOLR\n",
    "        doc = Create_doc(workMarc, instanceMarc, itemsMarc, 'Livro', shelf, count)\n",
    "        docs.append(doc)\n",
    "        \n",
    "        count += 1\n",
    "    return docs, count"
   ]
  },
  {
   "cell_type": "code",
   "execution_count": null,
   "metadata": {},
   "outputs": [],
   "source": [
    "count = 686\n",
    "e = '5'\n",
    "p = '5'\n",
    "out = f'E{e}/P{p}'\n",
    "path_marc = f'Input/{out}/koha.xml'\n",
    "\n",
    "docs, _ = UpadateSolr(path_marc, count, f\"E{e}.P{p}\")"
   ]
  },
  {
   "cell_type": "code",
   "execution_count": 14,
   "metadata": {},
   "outputs": [
    {
     "data": {
      "text/plain": [
       "'{\\n  \"responseHeader\":{\\n    \"status\":0,\\n    \"QTime\":175}}\\n'"
      ]
     },
     "execution_count": 14,
     "metadata": {},
     "output_type": "execute_result"
    }
   ],
   "source": [
    "solr.add(docs, commit=True)"
   ]
  },
  {
   "cell_type": "code",
   "execution_count": null,
   "metadata": {},
   "outputs": [],
   "source": [
    "count = 1\n",
    "solr_doc = list()\n",
    "for e in range(1, 6):\n",
    "    for p in range(1,6):\n",
    "        out = f'E{e}/P{p}'\n",
    "        path_marc = f'Input/{out}/koha.xml'\n",
    "        docs, count = UpadateSolr(path_marc, count, f\"E{e}.P{p}\")\n",
    "        solr_doc = solr_doc+docs\n",
    "\n",
    "\n"
   ]
  },
  {
   "cell_type": "code",
   "execution_count": 10,
   "metadata": {},
   "outputs": [
    {
     "data": {
      "text/plain": [
       "'{\\n  \"responseHeader\":{\\n    \"status\":0,\\n    \"QTime\":3676}}\\n'"
      ]
     },
     "execution_count": 10,
     "metadata": {},
     "output_type": "execute_result"
    }
   ],
   "source": [
    "solr.add(solr_doc, commit=True)"
   ]
  },
  {
   "cell_type": "code",
   "execution_count": 2,
   "metadata": {},
   "outputs": [],
   "source": [
    "out = f'E1/P1'\n",
    "count = 1\n",
    "path_marc = f'Input/{out}/koha.xml'\n",
    "marc_file = parse(path_marc)\n",
    "records = marc_file.getElementsByTagName('record')\n",
    "record = records[0]\n",
    "marcxml = etree.fromstring(record.toxml())\n",
    "workMarc = MarcWork(marcxml)\n",
    "instanceMarc = MarcInstance(marcxml)\n",
    "itemsMarc = MarcItems(marcxml)\n",
    "shelf = 'E1.P1'\n"
   ]
  },
  {
   "cell_type": "code",
   "execution_count": 3,
   "metadata": {},
   "outputs": [
    {
     "data": {
      "text/plain": [
       "{'serie': 'Pensamento científico', 'volume': 'n. 1'}"
      ]
     },
     "execution_count": 3,
     "metadata": {},
     "output_type": "execute_result"
    }
   ],
   "source": [
    "serie = instanceMarc.Serie()\n",
    "serie"
   ]
  },
  {
   "cell_type": "code",
   "execution_count": 4,
   "metadata": {},
   "outputs": [],
   "source": [
    "doc = Create_doc(workMarc, instanceMarc, itemsMarc, 'Livro', shelf, count)"
   ]
  },
  {
   "cell_type": "code",
   "execution_count": 5,
   "metadata": {},
   "outputs": [
    {
     "data": {
      "text/plain": [
       "{'id': 1,\n",
       " 'call': '001 P831c',\n",
       " 'shelf': 'E1.P1',\n",
       " 'title': 'Conjecturas e refutações',\n",
       " 'responsibilities': 'Karl R. Popper; tradução de Sérgio Bath.',\n",
       " 'place': 'Brasília',\n",
       " 'publisher': 'Ed. Universidade de Brasília',\n",
       " 'subject': ['Ciência--Metodologia', 'Teoria do conhecimento'],\n",
       " 'type': 'Livro',\n",
       " 'language': 'por',\n",
       " 'items': ['01-0519'],\n",
       " 'author': 'Popper, Karl Raimund',\n",
       " 'serie': 'Pensamento científico',\n",
       " 'numSerie': 'n. 1',\n",
       " 'year': '1982',\n",
       " 'notes': ['Título original: Conjectures and refutations, 4th ed. rev, 1972.'],\n",
       " 'pages': '449 páginas'}"
      ]
     },
     "execution_count": 5,
     "metadata": {},
     "output_type": "execute_result"
    }
   ],
   "source": [
    "doc"
   ]
  }
 ],
 "metadata": {
  "kernelspec": {
   "display_name": "venv",
   "language": "python",
   "name": "python3"
  },
  "language_info": {
   "codemirror_mode": {
    "name": "ipython",
    "version": 3
   },
   "file_extension": ".py",
   "mimetype": "text/x-python",
   "name": "python",
   "nbconvert_exporter": "python",
   "pygments_lexer": "ipython3",
   "version": "3.10.4 (tags/v3.10.4:9d38120, Mar 23 2022, 23:13:41) [MSC v.1929 64 bit (AMD64)]"
  },
  "orig_nbformat": 4,
  "vscode": {
   "interpreter": {
    "hash": "7c803f0ee3b2b2cd03f94fb28d6f360d094e6843888122798203f226e128b66e"
   }
  }
 },
 "nbformat": 4,
 "nbformat_minor": 2
}
