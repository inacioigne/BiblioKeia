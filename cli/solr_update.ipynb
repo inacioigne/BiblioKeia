{
 "cells": [
  {
   "cell_type": "code",
   "execution_count": 1,
   "metadata": {},
   "outputs": [],
   "source": [
    "import pysolr\n",
    "from Solr.create_doc import Create_doc\n",
    "from xml.dom.minidom import parse\n",
    "import xml.etree.ElementTree as etree\n",
    "from Marc_to_Bibframe.Marc.marcWork import MarcWork\n",
    "from Marc_to_Bibframe.Marc.marcInstance import MarcInstance\n",
    "from Marc_to_Bibframe.Marc.marcItems import MarcItems"
   ]
  },
  {
   "cell_type": "code",
   "execution_count": 2,
   "metadata": {},
   "outputs": [
    {
     "data": {
      "text/plain": [
       "'{\\n  \"responseHeader\":{\\n    \"zkConnected\":null,\\n    \"status\":0,\\n    \"QTime\":96,\\n    \"params\":{\\n      \"q\":\"{!lucene}*:*\",\\n      \"distrib\":\"false\",\\n      \"df\":\"_text_\",\\n      \"rows\":\"10\",\\n      \"echoParams\":\"all\",\\n      \"rid\":\"localhost-7\"}},\\n  \"status\":\"OK\"}\\n'"
      ]
     },
     "execution_count": 2,
     "metadata": {},
     "output_type": "execute_result"
    }
   ],
   "source": [
    "solr = pysolr.Solr('http://localhost:8983/solr/search/', timeout=10)\n",
    "solr.ping()"
   ]
  },
  {
   "cell_type": "code",
   "execution_count": 4,
   "metadata": {},
   "outputs": [],
   "source": [
    "def UpadateSolr(path_marc, count, shelf):\n",
    "    \n",
    "    marc_file = parse(path_marc)\n",
    "    records = marc_file.getElementsByTagName('record')\n",
    "\n",
    "    docs = list()\n",
    "    for record in records:\n",
    "        \n",
    "        marcxml = etree.fromstring(record.toxml())\n",
    "        workMarc = MarcWork(marcxml)\n",
    "        instanceMarc = MarcInstance(marcxml)\n",
    "        itemsMarc = MarcItems(marcxml)\n",
    "        print(count)\n",
    "        print(workMarc.Title().get('title'))\n",
    "\n",
    "        #SOLR\n",
    "        doc = Create_doc(workMarc, instanceMarc, itemsMarc, 'Livro', shelf, count)\n",
    "        docs.append(doc)\n",
    "        \n",
    "        count += 1\n",
    "    return docs, count"
   ]
  },
  {
   "cell_type": "code",
   "execution_count": 13,
   "metadata": {},
   "outputs": [
    {
     "name": "stdout",
     "output_type": "stream",
     "text": [
      "686\n",
      "O Brasil na CNUMAD - 92\n",
      "687\n",
      "Geopolítica da fome\n",
      "688\n",
      "Espírito e nervo do mundo latino\n",
      "689\n",
      "Ecosystems, energy, population\n",
      "690\n",
      "Manifesto regionalista\n",
      "691\n",
      "A selva amazônica\n",
      "692\n",
      "The chemistry and microbiology of pollution\n",
      "693\n",
      "A luta alimentos X população\n",
      "694\n",
      "O homem e  a serra\n",
      "695\n",
      "Terra um planeta inabitável?\n",
      "696\n",
      "Industrialization and under-developed countries\n",
      "697\n",
      "Marriage\n",
      "698\n",
      "Genetics and social structure\n",
      "699\n",
      "On the Preshistory of Marriage\n",
      "700\n",
      "Revolução mundial e padrões de família\n",
      "701\n",
      "Children in the world\n",
      "702\n",
      "Cadernos de Estudos Sociais\n",
      "703\n",
      "The populations crisis and the use of world resources\n",
      "704\n",
      "The Genesis Strategy\n",
      "705\n",
      "A degradação do meio ambiente\n",
      "706\n",
      "The inheritance of Economic Status\n",
      "707\n",
      "Food, man, and society\n",
      "708\n",
      "Tratado de sociologia do trabalho\n",
      "709\n",
      "Les damnés de la terre\n"
     ]
    }
   ],
   "source": [
    "count = 686\n",
    "e = '5'\n",
    "p = '5'\n",
    "out = f'E{e}/P{p}'\n",
    "path_marc = f'Input/{out}/koha.xml'\n",
    "\n",
    "docs, _ = UpadateSolr(path_marc, count, f\"E{e}.P{p}\")"
   ]
  },
  {
   "cell_type": "code",
   "execution_count": 14,
   "metadata": {},
   "outputs": [
    {
     "data": {
      "text/plain": [
       "'{\\n  \"responseHeader\":{\\n    \"status\":0,\\n    \"QTime\":175}}\\n'"
      ]
     },
     "execution_count": 14,
     "metadata": {},
     "output_type": "execute_result"
    }
   ],
   "source": [
    "solr.add(docs, commit=True)"
   ]
  },
  {
   "cell_type": "code",
   "execution_count": null,
   "metadata": {},
   "outputs": [],
   "source": [
    "count = 1\n",
    "solr_doc = list()\n",
    "for e in range(1, 5):\n",
    "    for p in range(1,6):\n",
    "        out = f'E{e}/P{p}'\n",
    "        path_marc = f'Input/{out}/koha.xml'\n",
    "        docs, count = UpadateSolr(path_marc, count, f\"E{e}.P{p}\")\n",
    "        solr_doc = solr_doc+docs\n",
    "\n",
    "\n"
   ]
  },
  {
   "cell_type": "code",
   "execution_count": 10,
   "metadata": {},
   "outputs": [
    {
     "data": {
      "text/plain": [
       "'{\\n  \"responseHeader\":{\\n    \"status\":0,\\n    \"QTime\":836}}\\n'"
      ]
     },
     "execution_count": 10,
     "metadata": {},
     "output_type": "execute_result"
    }
   ],
   "source": [
    "solr.add(solr_doc, commit=True)"
   ]
  },
  {
   "cell_type": "code",
   "execution_count": 1,
   "metadata": {},
   "outputs": [
    {
     "ename": "NameError",
     "evalue": "name 'parse' is not defined",
     "output_type": "error",
     "traceback": [
      "\u001b[1;31m---------------------------------------------------------------------------\u001b[0m",
      "\u001b[1;31mNameError\u001b[0m                                 Traceback (most recent call last)",
      "\u001b[1;32mc:\\Users\\Usuário\\Desktop\\BiblioKeia\\cli\\solr_update.ipynb Célula: 7\u001b[0m in \u001b[0;36m<cell line: 3>\u001b[1;34m()\u001b[0m\n\u001b[0;32m      <a href='vscode-notebook-cell:/c%3A/Users/Usu%C3%A1rio/Desktop/BiblioKeia/cli/solr_update.ipynb#W6sZmlsZQ%3D%3D?line=0'>1</a>\u001b[0m out \u001b[39m=\u001b[39m \u001b[39mf\u001b[39m\u001b[39m'\u001b[39m\u001b[39mE1/P1\u001b[39m\u001b[39m'\u001b[39m\n\u001b[0;32m      <a href='vscode-notebook-cell:/c%3A/Users/Usu%C3%A1rio/Desktop/BiblioKeia/cli/solr_update.ipynb#W6sZmlsZQ%3D%3D?line=1'>2</a>\u001b[0m path_marc \u001b[39m=\u001b[39m \u001b[39mf\u001b[39m\u001b[39m'\u001b[39m\u001b[39mInput/\u001b[39m\u001b[39m{\u001b[39;00mout\u001b[39m}\u001b[39;00m\u001b[39m/koha.xml\u001b[39m\u001b[39m'\u001b[39m\n\u001b[1;32m----> <a href='vscode-notebook-cell:/c%3A/Users/Usu%C3%A1rio/Desktop/BiblioKeia/cli/solr_update.ipynb#W6sZmlsZQ%3D%3D?line=2'>3</a>\u001b[0m marc_file \u001b[39m=\u001b[39m parse(path_marc)\n\u001b[0;32m      <a href='vscode-notebook-cell:/c%3A/Users/Usu%C3%A1rio/Desktop/BiblioKeia/cli/solr_update.ipynb#W6sZmlsZQ%3D%3D?line=3'>4</a>\u001b[0m records \u001b[39m=\u001b[39m marc_file\u001b[39m.\u001b[39mgetElementsByTagName(\u001b[39m'\u001b[39m\u001b[39mrecord\u001b[39m\u001b[39m'\u001b[39m)\n\u001b[0;32m      <a href='vscode-notebook-cell:/c%3A/Users/Usu%C3%A1rio/Desktop/BiblioKeia/cli/solr_update.ipynb#W6sZmlsZQ%3D%3D?line=4'>5</a>\u001b[0m record \u001b[39m=\u001b[39m records[\u001b[39m0\u001b[39m]\n",
      "\u001b[1;31mNameError\u001b[0m: name 'parse' is not defined"
     ]
    }
   ],
   "source": [
    "out = f'E1/P1'\n",
    "path_marc = f'Input/{out}/koha.xml'\n",
    "marc_file = parse(path_marc)\n",
    "records = marc_file.getElementsByTagName('record')\n",
    "record = records[0]\n",
    "marcxml = etree.fromstring(record.toxml())\n",
    "workMarc = MarcWork(marcxml)\n"
   ]
  },
  {
   "cell_type": "code",
   "execution_count": null,
   "metadata": {},
   "outputs": [],
   "source": [
    "doc = Create_doc(workMarc, instanceMarc, itemsMarc, 'Livro', shelf, count)"
   ]
  },
  {
   "cell_type": "code",
   "execution_count": 5,
   "metadata": {},
   "outputs": [
    {
     "data": {
      "text/plain": [
       "{'id': 1,\n",
       " 'call': '001 P831c',\n",
       " 'shelf': 'E1.P1',\n",
       " 'title': 'Conjecturas e refutações',\n",
       " 'responsibilities': 'Karl R. Popper; tradução de Sérgio Bath.',\n",
       " 'place': 'Brasília',\n",
       " 'publisher': 'Ed. Universidade de Brasília',\n",
       " 'subject': ['Ciência--Metodologia', 'Teoria do conhecimento'],\n",
       " 'type': 'Livro',\n",
       " 'language': 'por',\n",
       " 'items': ['01-0519'],\n",
       " 'author': 'Popper, Karl Raimund',\n",
       " 'serie': 'Pensamento científico ; n. 1',\n",
       " 'year': '1982',\n",
       " 'notes': ['Título original: Conjectures and refutations, 4th ed. rev, 1972.']}"
      ]
     },
     "execution_count": 5,
     "metadata": {},
     "output_type": "execute_result"
    }
   ],
   "source": [
    "solr_doc[0]"
   ]
  }
 ],
 "metadata": {
  "kernelspec": {
   "display_name": "Python 3.10.4 ('venv': venv)",
   "language": "python",
   "name": "python3"
  },
  "language_info": {
   "codemirror_mode": {
    "name": "ipython",
    "version": 3
   },
   "file_extension": ".py",
   "mimetype": "text/x-python",
   "name": "python",
   "nbconvert_exporter": "python",
   "pygments_lexer": "ipython3",
   "version": "3.10.4"
  },
  "orig_nbformat": 4,
  "vscode": {
   "interpreter": {
    "hash": "7c803f0ee3b2b2cd03f94fb28d6f360d094e6843888122798203f226e128b66e"
   }
  }
 },
 "nbformat": 4,
 "nbformat_minor": 2
}
