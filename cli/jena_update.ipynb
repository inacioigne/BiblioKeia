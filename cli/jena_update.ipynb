{
 "cells": [
  {
   "cell_type": "code",
   "execution_count": 1,
   "metadata": {},
   "outputs": [],
   "source": [
    "from rdflib.plugins.stores.sparqlstore import SPARQLUpdateStore"
   ]
  },
  {
   "cell_type": "code",
   "execution_count": 6,
   "metadata": {},
   "outputs": [],
   "source": [
    "def UpdateThesarus(graph, metadata, token):\n",
    "\n",
    "    store = SPARQLUpdateStore(update_endpoint='http://localhost:3030/thesaurus/update')\n",
    "    query_endpoint = 'http://localhost:3030/thesaurus/query'\n",
    "    update_endpoint = 'http://localhost:3030/thesaurus/update'\n",
    "    store.open((query_endpoint, update_endpoint))\n",
    "\n",
    "    prefix = \"PREFIX madsrdf:  <http://www.loc.gov/mads/rdf/v1#>\\n \\\n",
    "        PREFIX bk: <https://bibliokeia.com/authorities/subjects/>\\n \\\n",
    "        PREFIX lc: <http://id.loc.gov/authorities/subjects/>\\n\"\n",
    "\n",
    "    q1 = prefix + \"WITH bk:\" + graph + \"\\n \\\n",
    "        DELETE {?s madsrdf:\" + metadata + \" lc:\" + token + \"}\\n \\\n",
    "        INSERT { ?s madsrdf:\" + metadata + \" bk:\" + token + \"}\\n \\\n",
    "        WHERE { ?s madsrdf:\" + metadata + \" lc:\" + token + \"}\\n\"\n",
    "    store.update(q1)\n",
    "\n",
    "    q2 = prefix + \"WITH bk:\" + graph + \"\\n \\\n",
    "                DELETE { lc:\" + token + \" ?p ?o }\\n \\\n",
    "                    INSERT { bk:\" + token + \" ?p ?o }\\n \\\n",
    "                        WHERE { lc:\" + token + \"?p ?o }\"\n",
    "    store.update(q2)\n",
    "\n",
    "    q3 = prefix + \"WITH bk:\" + graph + \"\\n \\\n",
    "            DELETE { bk:\" + token + \" ?p lc:collection_LCSH_General }\\n \\\n",
    "                INSERT { bk:\" + token + \" ?p bk:collection_BKSH_General}\\n \\\n",
    "                    WHERE { bk:\" + token + \" ?p lc:collection_LCSH_General  }\"\n",
    "    store.update(q3)"
   ]
  },
  {
   "cell_type": "code",
   "execution_count": null,
   "metadata": {},
   "outputs": [],
   "source": [
    "UpdateThesarus(graph, metadata, token)"
   ]
  },
  {
   "cell_type": "code",
   "execution_count": null,
   "metadata": {},
   "outputs": [],
   "source": [
    "UpdateThesarus(token, \"hasReciprocalAuthority\", request.tokenLSCH)"
   ]
  },
  {
   "cell_type": "markdown",
   "metadata": {},
   "source": [
    "Delete all Named Graph"
   ]
  },
  {
   "cell_type": "code",
   "execution_count": 2,
   "metadata": {},
   "outputs": [],
   "source": [
    "store = SPARQLUpdateStore(update_endpoint='http://localhost:3030/thesaurus/update')\n",
    "query_endpoint = 'http://localhost:3030/thesaurus/query'\n",
    "update_endpoint = 'http://localhost:3030/thesaurus/update'\n",
    "store.open((query_endpoint, update_endpoint))"
   ]
  },
  {
   "cell_type": "code",
   "execution_count": 1,
   "metadata": {},
   "outputs": [
    {
     "name": "stdout",
     "output_type": "stream",
     "text": [
      "Stored variables and their in-db values:\n"
     ]
    }
   ],
   "source": [
    "store.open()"
   ]
  },
  {
   "cell_type": "code",
   "execution_count": 4,
   "metadata": {},
   "outputs": [],
   "source": [
    "store.update(\"DROP DEFAULT\")"
   ]
  },
  {
   "cell_type": "code",
   "execution_count": null,
   "metadata": {},
   "outputs": [],
   "source": [
    "d = \"\"\"DELETE { ?s ?p ?o  }\n",
    "WHERE {\n",
    "  { ?s ?p ?o . }\n",
    "\n",
    "}\"\"\"\n",
    "\n",
    "store.update(d)"
   ]
  },
  {
   "cell_type": "code",
   "execution_count": 3,
   "metadata": {},
   "outputs": [],
   "source": [
    "d = \"\"\"DELETE { graph ?g { ?s ?p ?o } } \n",
    "\n",
    "        WHERE {\n",
    "\n",
    "        graph ?g {?s ?p ?o.}\n",
    "\n",
    "        }\"\"\"\n",
    "\n",
    "store.update(d)"
   ]
  },
  {
   "cell_type": "code",
   "execution_count": 37,
   "metadata": {},
   "outputs": [],
   "source": [
    "q = \"\"\"SELECT ?g  \n",
    "{graph ?g {?s ?p ?o}} \n",
    "group by ?g \n",
    "ORDER BY DESC(?g)\n",
    "LIMIT 1\"\"\"\n",
    "r = store.query(q)"
   ]
  },
  {
   "attachments": {},
   "cell_type": "markdown",
   "metadata": {},
   "source": [
    "DELETE/INSERT"
   ]
  },
  {
   "cell_type": "code",
   "execution_count": 7,
   "metadata": {},
   "outputs": [],
   "source": [
    "q = \"\"\"PREFIX madsrdf:  <http://www.loc.gov/mads/rdf/v1#> \n",
    "PREFIX bk: <https://bibliokeia.com/authorities/subjects/>\n",
    "PREFIX lc: <http://id.loc.gov/authorities/subjects/>\n",
    "\n",
    "WITH bk:sh85084414\n",
    "DELETE {?s madsrdf:hasReciprocalAuthority lc:sh85113021 }\n",
    "INSERT { ?s madsrdf:hasReciprocalAuthority bk:sh85113021 }\n",
    "WHERE\n",
    "  { ?s madsrdf:hasReciprocalAuthority lc:sh85113021\n",
    "  } \"\"\"\n",
    "\n",
    "store.update(q)"
   ]
  },
  {
   "cell_type": "code",
   "execution_count": 9,
   "metadata": {},
   "outputs": [],
   "source": [
    "q = \"\"\"PREFIX madsrdf:  <http://www.loc.gov/mads/rdf/v1#> \n",
    "PREFIX bk: <https://bibliokeia.com/authorities/subjects/>\n",
    "PREFIX lc: <http://id.loc.gov/authorities/subjects/>\n",
    "\n",
    "WITH bk:sh85084414\n",
    "DELETE { lc:sh85113021 ?p ?o }\n",
    "INSERT { bk:sh85113021 ?p ?o }\n",
    "WHERE\n",
    "  { lc:sh85113021 ?p ?o\n",
    "  } \"\"\"\n",
    "\n",
    "store.update(q)"
   ]
  },
  {
   "cell_type": "code",
   "execution_count": 11,
   "metadata": {},
   "outputs": [],
   "source": [
    "q = \"\"\"PREFIX madsrdf:  <http://www.loc.gov/mads/rdf/v1#> \n",
    "PREFIX bk: <https://bibliokeia.com/authorities/subjects/>\n",
    "PREFIX lc: <http://id.loc.gov/authorities/subjects/>\n",
    "\n",
    "WITH bk:sh85084414\n",
    "DELETE { lc:sh85113021 madsrdf:isMemberOfMADSCollection ?o }\n",
    "INSERT { bk:sh85113021 madsrdf:isMemberOfMADSCollection bk:collection_BKSH_General }\n",
    "WHERE\n",
    "  { lc:sh85113021 madsrdf:isMemberOfMADSCollection ?o\n",
    "  } \"\"\"\n",
    "\n",
    "store.update(q)\n"
   ]
  }
 ],
 "metadata": {
  "kernelspec": {
   "display_name": "Python 3.11.0 ('venv': venv)",
   "language": "python",
   "name": "python3"
  },
  "language_info": {
   "codemirror_mode": {
    "name": "ipython",
    "version": 3
   },
   "file_extension": ".py",
   "mimetype": "text/x-python",
   "name": "python",
   "nbconvert_exporter": "python",
   "pygments_lexer": "ipython3",
   "version": "3.11.0"
  },
  "orig_nbformat": 4,
  "vscode": {
   "interpreter": {
    "hash": "5df21a170a08fe7c24b5b1091267edae5bad3984f1116f28e957af7dd8f192dc"
   }
  }
 },
 "nbformat": 4,
 "nbformat_minor": 2
}
