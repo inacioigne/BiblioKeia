{
 "cells": [
  {
   "cell_type": "code",
   "execution_count": 1,
   "metadata": {},
   "outputs": [],
   "source": [
    "import httpx\n",
    "import pysolr\n",
    "\n",
    "from xml.dom.minidom import parse\n",
    "import xml.etree.ElementTree as etree\n",
    "from Marc_to_Bibframe.Marc.marcWork import MarcWork\n",
    "from Marc_to_Bibframe.Marc.marcInstance import MarcInstance\n",
    "from Marc_to_Bibframe.Marc.marcItems import MarcItems\n",
    "from Solr.solr import create_doc"
   ]
  },
  {
   "cell_type": "code",
   "execution_count": 2,
   "metadata": {},
   "outputs": [
    {
     "data": {
      "text/plain": [
       "'{\\n  \"responseHeader\":{\\n    \"zkConnected\":null,\\n    \"status\":0,\\n    \"QTime\":17,\\n    \"params\":{\\n      \"q\":\"{!lucene}*:*\",\\n      \"distrib\":\"false\",\\n      \"df\":\"_text_\",\\n      \"rows\":\"10\",\\n      \"echoParams\":\"all\",\\n      \"rid\":\"localhost-78\"}},\\n  \"status\":\"OK\"}\\n'"
      ]
     },
     "execution_count": 2,
     "metadata": {},
     "output_type": "execute_result"
    }
   ],
   "source": [
    "#SOLR\n",
    "solr = pysolr.Solr('http://localhost:8983/solr/search/', timeout=10)\n",
    "solr.ping()"
   ]
  },
  {
   "cell_type": "markdown",
   "metadata": {},
   "source": [
    "DELETE ALL DOCS"
   ]
  },
  {
   "cell_type": "code",
   "execution_count": 3,
   "metadata": {},
   "outputs": [
    {
     "data": {
      "text/plain": [
       "'<?xml version=\"1.0\" encoding=\"UTF-8\"?>\\n<response>\\n\\n<lst name=\"responseHeader\">\\n  <int name=\"status\">0</int>\\n  <int name=\"QTime\">1343</int>\\n</lst>\\n</response>\\n'"
      ]
     },
     "execution_count": 3,
     "metadata": {},
     "output_type": "execute_result"
    }
   ],
   "source": [
    "solr.delete(q=\"*:*\", commit=True)"
   ]
  },
  {
   "cell_type": "markdown",
   "metadata": {},
   "source": [
    "ADD DOCS"
   ]
  },
  {
   "cell_type": "code",
   "execution_count": 3,
   "metadata": {},
   "outputs": [],
   "source": [
    "def UpadateSolr(path_marc, count, shelf, out):\n",
    "    \n",
    "    marc_file = parse(path_marc)\n",
    "    records = marc_file.getElementsByTagName('record')\n",
    "\n",
    "    docs = list()\n",
    "    for record in records:\n",
    "        \n",
    "        marcxml = etree.fromstring(record.toxml())\n",
    "        workMarc = MarcWork(marcxml)\n",
    "        instanceMarc = MarcInstance(marcxml)\n",
    "        itemsMarc = MarcItems(marcxml)\n",
    "        print(records.index(record))\n",
    "        print(workMarc.Title().get('title'))\n",
    "\n",
    "        #SOLR\n",
    "        doc = create_doc(workMarc, instanceMarc, itemsMarc, 'Livro', shelf, count)\n",
    "        docs.append(doc)\n",
    "\n",
    "        count += 1\n",
    "\n",
    "    return docs"
   ]
  },
  {
   "cell_type": "code",
   "execution_count": 8,
   "metadata": {},
   "outputs": [
    {
     "name": "stdout",
     "output_type": "stream",
     "text": [
      "0\n",
      "Resumos\n",
      "1\n",
      "Resumos\n",
      "2\n",
      "Pesquisa científica e tecnológica em saúde\n",
      "3\n",
      "Pesquisas recentes em energia, meio ambiente e tecnologia\n",
      "4\n",
      "Iniciação à pesquisa científica\n",
      "5\n",
      "<1º >Seminário de Ciências da Fiube\n",
      "6\n",
      "Encontro sobre o programa de pesquisas para o trópico úmido.\n",
      "7\n",
      "A pesquisa no Brasil\n",
      "8\n",
      "Resumos do XVII Seminário de Iniciação Científica da UFPA\n",
      "9\n",
      "FADESP, Fundação de Amaparo e Desenvolvimento da Pesquisa, Belém-Pará.\n",
      "10\n",
      "Manual de normas para publicações técnico-científicas\n",
      "11\n",
      "Manual do autor\n",
      "12\n",
      "A estatística na pesquisa científica\n",
      "13\n",
      "Prioridades da pesquisa do CIFOR\n",
      "14\n",
      "Matemática e estatística na análise de experimentos e no melhoramento genético\n",
      "15\n",
      "Relatório de atividades 2011-2013\n",
      "16\n",
      "Seminário pesquisa tecnológica\n",
      "17\n",
      "Pesquisa científica\n",
      "18\n",
      "Pesquisa operacional\n",
      "19\n",
      "Ciência, tecnologia e inovação para um Brasil competitivo\n",
      "20\n",
      "Os 40 anos da fundação Ford no Brasil\n",
      "21\n",
      "Orçamento da União para ciência e tecnologia, 1980\n",
      "22\n",
      "Guia de fontes de financiamento à ciência & tecnologia\n",
      "23\n",
      "Guia de fontes de financiamento à ciência & tecnologia\n",
      "24\n",
      "Avaliação e fomento de C&T no Brasil\n",
      "25\n",
      "Recherches de I'RD au Brésil depuis 1998\n",
      "26\n",
      "Setor produtivo estatal\n",
      "27\n",
      "Metodos e tecnicas de pesquisa aplicados a administração\n"
     ]
    }
   ],
   "source": [
    "count = 20\n",
    "e = '1'\n",
    "p = '2'\n",
    "out = f'E{e}/P{p}'\n",
    "path_marc = f'Input/{out}/koha.xml'\n",
    "\n",
    "docs = UpadateSolr(path_marc, count, f\"E{e}.P{p}\", out)"
   ]
  },
  {
   "cell_type": "code",
   "execution_count": 7,
   "metadata": {},
   "outputs": [
    {
     "data": {
      "text/plain": [
       "{'id': 19,\n",
       " 'call': '001.4 M916',\n",
       " 'shelf': 'E1.P2',\n",
       " 'title': 'Resumos',\n",
       " 'responsibilities': 'I Mostra Técnico-Científica da Universidade do Amazonas, Manaus, AM, 1999.',\n",
       " 'place': 'Manaus',\n",
       " 'publisher': 'UA',\n",
       " 'subject': ['Ciência--Amazonas--Congressos',\n",
       "  'Tecnologia--Amazonas--Congressos'],\n",
       " 'type': 'Livro',\n",
       " 'items': ['05-0436'],\n",
       " 'author': None,\n",
       " 'year': '1999'}"
      ]
     },
     "execution_count": 7,
     "metadata": {},
     "output_type": "execute_result"
    }
   ],
   "source": [
    "docs[0]"
   ]
  },
  {
   "cell_type": "code",
   "execution_count": 9,
   "metadata": {},
   "outputs": [
    {
     "data": {
      "text/plain": [
       "'{\\n  \"responseHeader\":{\\n    \"status\":0,\\n    \"QTime\":699}}\\n'"
      ]
     },
     "execution_count": 9,
     "metadata": {},
     "output_type": "execute_result"
    }
   ],
   "source": [
    "solr.add(docs, commit=True)"
   ]
  }
 ],
 "metadata": {
  "kernelspec": {
   "display_name": "Python 3.10.1 ('venv': venv)",
   "language": "python",
   "name": "python3"
  },
  "language_info": {
   "codemirror_mode": {
    "name": "ipython",
    "version": 3
   },
   "file_extension": ".py",
   "mimetype": "text/x-python",
   "name": "python",
   "nbconvert_exporter": "python",
   "pygments_lexer": "ipython3",
   "version": "3.10.1"
  },
  "orig_nbformat": 4,
  "vscode": {
   "interpreter": {
    "hash": "5df21a170a08fe7c24b5b1091267edae5bad3984f1116f28e957af7dd8f192dc"
   }
  }
 },
 "nbformat": 4,
 "nbformat_minor": 2
}
