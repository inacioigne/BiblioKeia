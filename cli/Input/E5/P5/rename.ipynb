{
 "cells": [
  {
   "cell_type": "code",
   "execution_count": 2,
   "metadata": {},
   "outputs": [],
   "source": [
    "from os import rename, listdir"
   ]
  },
  {
   "cell_type": "code",
   "execution_count": 3,
   "metadata": {},
   "outputs": [
    {
     "name": "stdout",
     "output_type": "stream",
     "text": [
      "P5/1.jpg 686\n",
      "P5/2.jpg 687\n",
      "P5/3.jpg 688\n",
      "P5/4.jpg 689\n",
      "P5/5.jpg 690\n",
      "P5/6.jpg 691\n",
      "P5/7.jpg 692\n",
      "P5/8.jpg 693\n",
      "P5/9.jpg 694\n",
      "P5/10.jpg 695\n",
      "P5/11.jpg 696\n",
      "P5/12.jpg 697\n",
      "P5/13.jpg 698\n",
      "P5/14.jpg 699\n",
      "P5/15.jpg 700\n",
      "P5/16.jpg 701\n",
      "P5/17.jpg 702\n",
      "P5/18.jpg 703\n",
      "P5/19.jpg 704\n",
      "P5/20.jpg 705\n",
      "P5/21.jpg 706\n",
      "P5/22.jpg 707\n",
      "P5/23.jpg 708\n",
      "P5/24.jpg 709\n"
     ]
    }
   ],
   "source": [
    "count = 686\n",
    "imgs = [f'P5/{i}.jpg' for i in range(1, 25)]\n",
    "for i in imgs:\n",
    "    rename(i, f'P5/{count}.jpg')\n",
    "    print(i, count)\n",
    "    count += 1"
   ]
  },
  {
   "cell_type": "code",
   "execution_count": 76,
   "metadata": {},
   "outputs": [],
   "source": [
    "from xml.dom.minidom import parse, Document\n",
    "from xml.dom.minidom import getDOMImplementation"
   ]
  },
  {
   "cell_type": "code",
   "execution_count": 60,
   "metadata": {},
   "outputs": [],
   "source": [
    "path_marc = 'E5\\P1\\koha.xml'\n",
    "marc_file = parse('koha.xml')"
   ]
  },
  {
   "cell_type": "code",
   "execution_count": 55,
   "metadata": {},
   "outputs": [],
   "source": [
    "records = marc_file.getElementsByTagName('record')"
   ]
  },
  {
   "cell_type": "code",
   "execution_count": 77,
   "metadata": {},
   "outputs": [],
   "source": [
    "count = 1\n",
    "records = marc_file.getElementsByTagName('record')\n",
    "document = Document()\n",
    "collection = document.createElement('collection')\n",
    "for record in records:\n",
    "    c = marc_file.createComment(f'{count}')\n",
    "    leader = record.getElementsByTagName('leader')[0]\n",
    "    #record.appendChild(c)\n",
    "    record.insertBefore(c, record.childNodes[0])\n",
    "    collection.appendChild(record)\n",
    "    count += 1\n",
    "\n"
   ]
  },
  {
   "cell_type": "code",
   "execution_count": 80,
   "metadata": {},
   "outputs": [],
   "source": [
    "document.appendChild(collection)\n",
    "with open('test_minidom.xml', 'w') as out:\n",
    "    document.writexml(out, encoding='utf-8')"
   ]
  }
 ],
 "metadata": {
  "kernelspec": {
   "display_name": "Python 3.10.4 ('venv': venv)",
   "language": "python",
   "name": "python3"
  },
  "language_info": {
   "codemirror_mode": {
    "name": "ipython",
    "version": 3
   },
   "file_extension": ".py",
   "mimetype": "text/x-python",
   "name": "python",
   "nbconvert_exporter": "python",
   "pygments_lexer": "ipython3",
   "version": "3.10.4"
  },
  "orig_nbformat": 4,
  "vscode": {
   "interpreter": {
    "hash": "7c803f0ee3b2b2cd03f94fb28d6f360d094e6843888122798203f226e128b66e"
   }
  }
 },
 "nbformat": 4,
 "nbformat_minor": 2
}
