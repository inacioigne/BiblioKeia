{
 "cells": [
  {
   "cell_type": "code",
   "execution_count": 1,
   "metadata": {},
   "outputs": [],
   "source": [
    "import pysolr\n",
    "from xml.dom.minidom import parse\n",
    "import xml.etree.ElementTree as etree\n",
    "from Marc_to_Bibframe.Marc.marcWork import MarcWork\n",
    "from Marc_to_Bibframe.Marc.marcInstance import MarcInstance\n",
    "from Marc_to_Bibframe.Marc.marcItems import MarcItems\n",
    "from Solr.solr import Add_doc"
   ]
  },
  {
   "cell_type": "code",
   "execution_count": 2,
   "metadata": {},
   "outputs": [],
   "source": [
    "solr = pysolr.Solr('http://localhost:8983/solr/search/', timeout=10)"
   ]
  },
  {
   "cell_type": "code",
   "execution_count": 2,
   "metadata": {},
   "outputs": [],
   "source": [
    "path_marc = r'Koha/E1P1.xml'\n",
    "marc_file = parse(path_marc)\n",
    "records = marc_file.getElementsByTagName('record')\n",
    "record = records[0]\n",
    "marcxml = etree.fromstring(record.toxml())\n",
    "workMarc = MarcWork(marcxml)\n",
    "instanceMarc = MarcInstance(marcxml)\n",
    "marcItems = MarcItems(marcxml)"
   ]
  },
  {
   "cell_type": "code",
   "execution_count": 3,
   "metadata": {},
   "outputs": [
    {
     "data": {
      "text/plain": [
       "'Pensamento científico ; n. 1'"
      ]
     },
     "execution_count": 3,
     "metadata": {},
     "output_type": "execute_result"
    }
   ],
   "source": [
    "instanceMarc.Serie()"
   ]
  },
  {
   "cell_type": "code",
   "execution_count": 8,
   "metadata": {},
   "outputs": [
    {
     "ename": "AttributeError",
     "evalue": "'MarcWork' object has no attribute 'ResponsibilityStatement'",
     "output_type": "error",
     "traceback": [
      "\u001b[1;31m---------------------------------------------------------------------------\u001b[0m",
      "\u001b[1;31mAttributeError\u001b[0m                            Traceback (most recent call last)",
      "\u001b[1;32mc:\\Users\\Usuário\\Desktop\\BiblioKeia\\cli\\solr.ipynb Célula: 5\u001b[0m in \u001b[0;36m<cell line: 1>\u001b[1;34m()\u001b[0m\n\u001b[1;32m----> <a href='vscode-notebook-cell:/c%3A/Users/Usu%C3%A1rio/Desktop/BiblioKeia/cli/solr.ipynb#X10sZmlsZQ%3D%3D?line=0'>1</a>\u001b[0m workMarc\u001b[39m.\u001b[39;49mResponsibilityStatement()\n",
      "\u001b[1;31mAttributeError\u001b[0m: 'MarcWork' object has no attribute 'ResponsibilityStatement'"
     ]
    }
   ],
   "source": [
    "workMarc.ResponsibilityStatement()"
   ]
  },
  {
   "cell_type": "code",
   "execution_count": 4,
   "metadata": {},
   "outputs": [
    {
     "data": {
      "text/plain": [
       "{'id': 1,\n",
       " 'title': 'Conjecturas e refutações',\n",
       " 'author': 'Popper, Karl Raimund',\n",
       " 'responsibilities': 'Karl R. Popper; tradução de Sérgio Bath.',\n",
       " 'place': 'Brasília',\n",
       " 'publisher': 'Ed. Universidade de Brasília',\n",
       " 'serie': 'Pensamento científico ; n. 1'}"
      ]
     },
     "execution_count": 4,
     "metadata": {},
     "output_type": "execute_result"
    }
   ],
   "source": [
    "count = 1\n",
    "doc = Add_doc(workMarc, instanceMarc, marcItems, count)\n",
    "doc"
   ]
  },
  {
   "cell_type": "code",
   "execution_count": 14,
   "metadata": {},
   "outputs": [],
   "source": [
    "doc.update(serie='1')"
   ]
  },
  {
   "cell_type": "code",
   "execution_count": 15,
   "metadata": {},
   "outputs": [
    {
     "data": {
      "text/plain": [
       "{'id': 1, 'title': 'Conjecturas e refutações', 'serie': '1'}"
      ]
     },
     "execution_count": 15,
     "metadata": {},
     "output_type": "execute_result"
    }
   ],
   "source": [
    "doc"
   ]
  }
 ],
 "metadata": {
  "kernelspec": {
   "display_name": "Python 3.10.4 ('venv': venv)",
   "language": "python",
   "name": "python3"
  },
  "language_info": {
   "codemirror_mode": {
    "name": "ipython",
    "version": 3
   },
   "file_extension": ".py",
   "mimetype": "text/x-python",
   "name": "python",
   "nbconvert_exporter": "python",
   "pygments_lexer": "ipython3",
   "version": "3.10.4"
  },
  "orig_nbformat": 4,
  "vscode": {
   "interpreter": {
    "hash": "07e9a7747076dd9c6ca4900cebf2f1c383a3daca5ec697fd1a5967a0211e38b7"
   }
  }
 },
 "nbformat": 4,
 "nbformat_minor": 2
}
