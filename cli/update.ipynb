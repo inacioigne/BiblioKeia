{
 "cells": [
  {
   "cell_type": "code",
   "execution_count": 1,
   "metadata": {},
   "outputs": [],
   "source": [
    "from Marc_to_Bibframe.Work.work import Work\n",
    "from Marc_to_Bibframe.Marc.marcWork import MarcWork\n",
    "import xml.etree.ElementTree as etree\n",
    "from xml.dom.minidom import parse\n",
    "from pyfuseki import FusekiUpdate\n",
    "from rdflib import Graph, Namespace, URIRef\n",
    "from rdflib.plugins.stores import sparqlstore\n",
    "from rdflib.namespace import RDF, RDFS\n",
    "\n",
    "from Marc_to_Bibframe.Work.workAdmin import WorkAdmin\n",
    "from Marc_to_Bibframe.Work.language import Language\n",
    "from Marc_to_Bibframe.Work.audience import Audience\n",
    "from Marc_to_Bibframe.Work.classification import Classification\n",
    "from Marc_to_Bibframe.Work.chamada import Chamada\n",
    "from Marc_to_Bibframe.Work.primaryContribution import PrimaryContribution\n",
    "from Marc_to_Bibframe.Work.contribution import Contributions\n",
    "from Marc_to_Bibframe.Work.title import Title\n",
    "from Marc_to_Bibframe.Work.subject import Subject\n",
    "from Marc_to_Bibframe.Work.type import Type\n",
    "from Marc_to_Bibframe.Work.work import Work\n"
   ]
  },
  {
   "cell_type": "code",
   "execution_count": 2,
   "metadata": {},
   "outputs": [],
   "source": [
    "path_marc = r'Koha/E1P1.xml'\n",
    "marc_file = parse(path_marc)\n",
    "records = marc_file.getElementsByTagName('record')\n",
    "record = records[0]\n",
    "marcxml = etree.fromstring(record.toxml())\n",
    "workMarc = MarcWork(marcxml)"
   ]
  },
  {
   "cell_type": "code",
   "execution_count": null,
   "metadata": {},
   "outputs": [],
   "source": [
    "count = 1\n",
    "uri = f\"http://bibliokeia.com/bibframe/work\"\n",
    "BFwork = URIRef(f\"http://bibliokeia.com/bibframe/work/{count}\") \n",
    "BFinstance = URIRef(f\"http://bibliokeia.com/bibframe/instance/{count}\")\n",
    "g = Graph(identifier=BFwork)\n",
    "#Prefix\n",
    "g.bind('rdf', RDF)\n",
    "g.bind('rdfs', RDFS)\n",
    "BF = Namespace(\"http://id.loc.gov/ontologies/bibframe/\")\n",
    "g.bind('bf', BF)\n",
    "BFLC = Namespace(\"http://id.loc.gov/ontologies/bflc/\")\n",
    "g.bind('bflc', BFLC)\n",
    "MADSRDF = Namespace(\"http://www.loc.gov/mads/rdf/v1#\")\n",
    "g.bind('madsrdf', MADSRDF)\n",
    "# BK = Namespace(\"http://bibliokeia.com/bibframe/work/\")\n",
    "# g.bind('bk', BK)\n",
    "\n",
    "BFwork = URIRef(f\"http://bibliokeia.com/bibframe/work/{count}\") \n",
    "g.add((BFwork, RDF.type, BF.Work))\n",
    "g.add((BFwork, RDF.type, BF.Text))\n",
    "\n",
    "g = WorkAdmin(g, BFwork, count, workMarc, BF)\n",
    "g = Language(g, BFwork, workMarc, BF)\n",
    "if workMarc.Audience():\n",
    "    g = Audience(g, BFwork, workMarc, BF)\n",
    "g = Classification(g, BFwork, workMarc, BF)\n",
    "g = Chamada(g, BFwork, workMarc, BF)\n",
    "g = PrimaryContribution(g, BFwork, workMarc, count, BF, BFLC)\n",
    "if workMarc.Contributions():\n",
    "    g = Contributions(g, BFwork, workMarc, count, uri, BF, BFLC)\n",
    "g = Title(g, BFwork, workMarc, BF)\n",
    "g = Subject(g, BFwork, uri, count, workMarc, BF, MADSRDF, RDFS)\n",
    "g = Type(g, BFwork, workMarc, BF)\n",
    "g.add((BFwork, BF.hasInstance, BFinstance))\n",
    "nt = g.serialize(format='nt')\n",
    "print(nt)"
   ]
  },
  {
   "cell_type": "code",
   "execution_count": null,
   "metadata": {},
   "outputs": [],
   "source": [
    "count = 2\n",
    "path_marc = r'Koha/E1P1.xml'\n",
    "marc_file = parse(path_marc)\n",
    "records = marc_file.getElementsByTagName('record')\n",
    "record = records[1]\n",
    "marcxml = etree.fromstring(record.toxml())\n",
    "workMarc = MarcWork(marcxml)\n",
    "BFwork = URIRef(f\"http://bibliokeia.com/bibframe/work/{count}\") \n",
    "BFinstance = URIRef(f\"http://bibliokeia.com/bibframe/instance/{count}\")\n",
    "g = Work(count, workMarc, BFwork, BFinstance)\n",
    "nt = g.serialize(format='nt')\n",
    "print(nt)"
   ]
  },
  {
   "cell_type": "code",
   "execution_count": 18,
   "metadata": {},
   "outputs": [],
   "source": [
    "def Make_Graph(nt):\n",
    "    G1 = \"\"\"\n",
    "    PREFIX bk: <http://bibliokeia.com/bibframe/work/>\n",
    "    PREFIX bf: <http://id.loc.gov/ontologies/bibframe/> \n",
    "    PREFIX rdf: <http://www.w3.org/1999/02/22-rdf-syntax-ns#>\n",
    "    PREFIX bflc: <http://id.loc.gov/ontologies/bflc/>\n",
    "    PREFIX madsrdf: <http://www.loc.gov/mads/rdf/v1#>\n",
    "    PREFIX rdfs: <http://www.w3.org/2000/01/rdf-schema#> \n",
    "    PREFIX xsd: <http://www.w3.org/2001/XMLSchema#>\n",
    "\n",
    "    INSERT DATA {\n",
    "        GRAPH bk:\"\"\"\n",
    "\n",
    "    G2 = \" {\"\n",
    "\n",
    "    G3 = \"\"\"}\n",
    "    }\"\"\"\n",
    "\n",
    "    G = G1+str(count)+\" { \\n\"+nt+\"}}\"\n",
    "\n",
    "    return G"
   ]
  },
  {
   "cell_type": "code",
   "execution_count": 21,
   "metadata": {},
   "outputs": [
    {
     "name": "stdout",
     "output_type": "stream",
     "text": [
      "Cooperação Brasil-França\n",
      "<I=     1> Bienal de Pesquisa da Fundação Oswaldo Cruz, 7 a 11 de dezembro de 1998.\n",
      "Contribuição da pós-graduação brasileira para o desenvolvimento sustentável\n",
      "FAPESP\n",
      "Para uma história da FAPESP\n",
      "Relatório de atividades 2003-2008\n",
      "V Jornada científica de pos-graduação da FIOCRUZ\n",
      "Anais\n",
      "Anais\n",
      "Relatório de atividades 2007\n",
      "Resumos\n",
      "Resumos\n",
      "Resumos\n",
      "Resumos\n",
      "Resumos\n",
      "Relatório de atividades 2010\n"
     ]
    }
   ],
   "source": [
    "update_endpoint = 'http://localhost:3030/teste2/update'\n",
    "query_endpoint = 'http://localhost:3030/teste2/query'\n",
    "store = sparqlstore.SPARQLUpdateStore()\n",
    "store.open((query_endpoint, update_endpoint))\n",
    "\n",
    "\n",
    "count = 2\n",
    "for record in records[2:]:\n",
    "    count += 1\n",
    "    marcxml = etree.fromstring(record.toxml())\n",
    "    workMarc = MarcWork(marcxml)\n",
    "    print(workMarc.Title().get('title'))\n",
    "    BFwork = URIRef(f\"http://bibliokeia.com/bibframe/work/{count}\") \n",
    "    BFinstance = URIRef(f\"http://bibliokeia.com/bibframe/instance/{count}\")\n",
    "    g = Work(count, workMarc, BFwork, BFinstance)\n",
    "    nt = g.serialize(format='nt')\n",
    "    G = Make_Graph(nt)\n",
    "    store.update(G)\n"
   ]
  },
  {
   "cell_type": "code",
   "execution_count": 10,
   "metadata": {},
   "outputs": [],
   "source": [
    "update_endpoint = 'http://localhost:3030/teste2/update'\n",
    "query_endpoint = 'http://localhost:3030/teste2/query'\n",
    "store = sparqlstore.SPARQLUpdateStore()\n",
    "store.open((query_endpoint, update_endpoint))\n",
    "\n",
    "store.update(G)"
   ]
  },
  {
   "cell_type": "code",
   "execution_count": 5,
   "metadata": {},
   "outputs": [],
   "source": [
    "D = \"\"\"\n",
    "PREFIX bk: <http://bibliokeia.com/bibframe/work/>\n",
    "\n",
    "DELETE { GRAPH bk:1 { ?s ?p ?o } } WHERE { GRAPH bk:1 { ?s ?p ?o } }\n",
    "\"\"\"\n",
    "\n",
    "update_endpoint = 'http://localhost:3030/teste2/update'\n",
    "query_endpoint = 'http://localhost:3030/teste2/query'\n",
    "store = sparqlstore.SPARQLUpdateStore()\n",
    "store.open((query_endpoint, update_endpoint))\n",
    "\n",
    "store.update(D)"
   ]
  },
  {
   "cell_type": "code",
   "execution_count": 5,
   "metadata": {},
   "outputs": [],
   "source": [
    "update_endpoint = 'http://localhost:3030/teste2/update'\n",
    "query_endpoint = 'http://localhost:3030/teste2/query'\n",
    "store = sparqlstore.SPARQLUpdateStore()\n",
    "store.open((query_endpoint, update_endpoint))\n",
    "\n",
    "store.update(D)"
   ]
  },
  {
   "cell_type": "code",
   "execution_count": 8,
   "metadata": {},
   "outputs": [
    {
     "data": {
      "text/plain": [
       "'<http://bibliokeia.com/bibframe/work/1> <http://www.w3.org/1999/02/22-rdf-syntax-ns#type> <http://id.loc.gov/ontologies/bibframe/Work> .\\n'"
      ]
     },
     "execution_count": 8,
     "metadata": {},
     "output_type": "execute_result"
    }
   ],
   "source": [
    "g.serialize(format='nt')"
   ]
  }
 ],
 "metadata": {
  "kernelspec": {
   "display_name": "Python 3.10.4 ('venv': venv)",
   "language": "python",
   "name": "python3"
  },
  "language_info": {
   "codemirror_mode": {
    "name": "ipython",
    "version": 3
   },
   "file_extension": ".py",
   "mimetype": "text/x-python",
   "name": "python",
   "nbconvert_exporter": "python",
   "pygments_lexer": "ipython3",
   "version": "3.10.4"
  },
  "orig_nbformat": 4,
  "vscode": {
   "interpreter": {
    "hash": "07e9a7747076dd9c6ca4900cebf2f1c383a3daca5ec697fd1a5967a0211e38b7"
   }
  }
 },
 "nbformat": 4,
 "nbformat_minor": 2
}
