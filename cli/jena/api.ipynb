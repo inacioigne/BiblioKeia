{
 "cells": [
  {
   "cell_type": "code",
   "execution_count": 1,
   "metadata": {},
   "outputs": [],
   "source": [
    "from rdflib.plugins.stores.sparqlstore import SPARQLUpdateStore"
   ]
  },
  {
   "attachments": {},
   "cell_type": "markdown",
   "metadata": {},
   "source": [
    "AUTHORITIES"
   ]
  },
  {
   "cell_type": "code",
   "execution_count": 2,
   "metadata": {},
   "outputs": [],
   "source": [
    "store = SPARQLUpdateStore(update_endpoint='http://localhost:3030/authority/update')\n",
    "query_endpoint = 'http://localhost:3030/authority/query'\n",
    "update_endpoint = 'http://localhost:3030/authority/update'\n",
    "store.open((query_endpoint, update_endpoint))"
   ]
  },
  {
   "attachments": {},
   "cell_type": "markdown",
   "metadata": {},
   "source": [
    "Acervo"
   ]
  },
  {
   "cell_type": "code",
   "execution_count": 2,
   "metadata": {},
   "outputs": [],
   "source": [
    "store = SPARQLUpdateStore(update_endpoint='http://localhost:3030/acervo/update')\n",
    "query_endpoint = 'http://localhost:3030/acervo/query'\n",
    "update_endpoint = 'http://localhost:3030/acervo/update'\n",
    "store.open((query_endpoint, update_endpoint))"
   ]
  },
  {
   "cell_type": "code",
   "execution_count": 13,
   "metadata": {},
   "outputs": [],
   "source": [
    "q = \"\"\"SELECT ?g  \n",
    "        {graph ?g {?s ?p ?o}} \n",
    "        group by ?g \n",
    "        ORDER BY DESC(?g)\n",
    "        LIMIT 1\"\"\"\n",
    "\n",
    "r = store.query(q)"
   ]
  },
  {
   "cell_type": "code",
   "execution_count": 28,
   "metadata": {},
   "outputs": [],
   "source": [
    "for i in r:\n",
    "        uri = i[0].toPython()\n"
   ]
  },
  {
   "cell_type": "code",
   "execution_count": 30,
   "metadata": {},
   "outputs": [],
   "source": [
    "bk = uri.split('/')[-1]"
   ]
  },
  {
   "cell_type": "code",
   "execution_count": 31,
   "metadata": {},
   "outputs": [
    {
     "data": {
      "text/plain": [
       "'bk231'"
      ]
     },
     "execution_count": 31,
     "metadata": {},
     "output_type": "execute_result"
    }
   ],
   "source": [
    "bk"
   ]
  },
  {
   "attachments": {},
   "cell_type": "markdown",
   "metadata": {},
   "source": [
    "DELETE GRAPHS"
   ]
  },
  {
   "cell_type": "code",
   "execution_count": 4,
   "metadata": {},
   "outputs": [],
   "source": [
    "store.update(\"DROP DEFAULT\")"
   ]
  },
  {
   "attachments": {},
   "cell_type": "markdown",
   "metadata": {},
   "source": [
    "DELETE NAMED GRAPHS"
   ]
  },
  {
   "cell_type": "code",
   "execution_count": 3,
   "metadata": {},
   "outputs": [],
   "source": [
    "d = \"\"\"DELETE { graph ?g { ?s ?p ?o } } \n",
    "        WHERE {\n",
    "        graph ?g {?s ?p ?o.}\n",
    "        }\"\"\"\n",
    "\n",
    "store.update(d)"
   ]
  },
  {
   "attachments": {},
   "cell_type": "markdown",
   "metadata": {},
   "source": [
    "POST WORK"
   ]
  },
  {
   "cell_type": "code",
   "execution_count": 21,
   "metadata": {},
   "outputs": [],
   "source": [
    "work = {\n",
    "  \"ID\": \"bk-1\",\n",
    "  \"content\": \"Texto\",\n",
    "  \"mainTitle\": \"Conjectures and refutations\",\n",
    "  \"subtitle\": \"the growth of scientific knowledge\",\n",
    "  \"primaryContributionAgent\": \"MACHADÃO de Assis\",\n",
    "  \"primaryContributionUri\": \"https://bibliokeia.com/authorities/names/n79143148\",\n",
    "  \"primaryContributionRole\": \"aut\",\n",
    "  \"subjects\": [\n",
    "    {\n",
    "      \"label\": \"Ciência\",\n",
    "      \"uri\": \"https://bibliokeia.com/authorities/subjects/sh85084414\"\n",
    "    }\n",
    "  ],\n",
    "  \"language\": \"Português\",\n",
    "  \"languageCode\": \"por\",\n",
    "  \"cdd\": \"540.2\",\n",
    "  \"cutter\": \"O47p\"\n",
    "}"
   ]
  },
  {
   "attachments": {},
   "cell_type": "markdown",
   "metadata": {},
   "source": [
    "UPDATE WORK"
   ]
  },
  {
   "cell_type": "code",
   "execution_count": 7,
   "metadata": {},
   "outputs": [],
   "source": [
    "from pyfuseki import FusekiUpdate, FusekiQuery\n",
    "from pydantic import BaseModel\n",
    "from typing import Optional"
   ]
  },
  {
   "cell_type": "code",
   "execution_count": 10,
   "metadata": {},
   "outputs": [],
   "source": [
    "class Subject(BaseModel):\n",
    "    label: str\n",
    "    uri: str\n",
    "    \n",
    "class Work_Schema(BaseModel):\n",
    "    ID: Optional[str]\n",
    "    content: str\n",
    "    mainTitle: str\n",
    "    subtitle: Optional[str]\n",
    "    variantTitle: Optional[str]\n",
    "    primaryContributionAgent: str\n",
    "    primaryContributionUri: str\n",
    "    primaryContributionRole: str\n",
    "    subjects: list[Subject]\n",
    "    language: str\n",
    "    languageCode: str \n",
    "    cdd: str\n",
    "    cutter: str\n",
    "    serie: Optional[str]\n",
    "    serieURI: Optional[str]"
   ]
  },
  {
   "cell_type": "code",
   "execution_count": 22,
   "metadata": {},
   "outputs": [],
   "source": [
    "request = Work_Schema(**work)"
   ]
  },
  {
   "cell_type": "code",
   "execution_count": 27,
   "metadata": {},
   "outputs": [],
   "source": [
    "acervoUpdate = FusekiUpdate('http://localhost:3030', 'acervo')\n",
    "acervoQuery = FusekiQuery('http://localhost:3030', 'acervo')"
   ]
  },
  {
   "cell_type": "code",
   "execution_count": 38,
   "metadata": {},
   "outputs": [
    {
     "name": "stdout",
     "output_type": "stream",
     "text": [
      "label='Ciência' uri='https://bibliokeia.com/authorities/subjects/sh85084414'\n"
     ]
    }
   ],
   "source": [
    "for subject in request.subjects:\n",
    "    print(subject)"
   ]
  },
  {
   "cell_type": "code",
   "execution_count": 42,
   "metadata": {},
   "outputs": [
    {
     "data": {
      "text/plain": [
       "{'head': {}, 'boolean': True}"
      ]
     },
     "execution_count": 42,
     "metadata": {},
     "output_type": "execute_result"
    }
   ],
   "source": [
    "bkID = 'bk-1'\n",
    "prefix = \"\"\"PREFIX work: <https://bibliokeia.com/resources/work/>\n",
    "    PREFIX rdf: <http://www.w3.org/1999/02/22-rdf-syntax-ns#>\n",
    "    PREFIX bf: <http://id.loc.gov/ontologies/bibframe/>\n",
    "    PREFIX rdfs: <http://www.w3.org/2000/01/rdf-schema#>\"\"\"\n",
    "\n",
    "askAgent = prefix+\"ASK { graph work:\"+bkID+\"\"\"\n",
    "                    {work:\"\"\"+bkID+\"\"\" bf:subject <\"\"\"+subject.uri+\"> . }}\"\n",
    "\n",
    "response = acervoQuery.run_sparql(askAgent)\n",
    "response = response.convert()\n",
    "response"
   ]
  },
  {
   "cell_type": "code",
   "execution_count": 35,
   "metadata": {},
   "outputs": [
    {
     "name": "stdout",
     "output_type": "stream",
     "text": [
      "label='Ciência' uri='https://bibliokeia.com/authorities/subjects/sh85084414'\n"
     ]
    }
   ],
   "source": [
    "for subject in request.subjects:\n",
    "    print(subject)"
   ]
  },
  {
   "cell_type": "code",
   "execution_count": 30,
   "metadata": {},
   "outputs": [],
   "source": [
    "\n",
    "if not response['boolean']:\n",
    "        up = prefix+\"WITH work:\"+bkID+\"\"\"\n",
    "                DELETE {work:\"\"\"+bkID+\"\"\" bf:contribution ?o .\n",
    "                        ?o ?p ?agent }\n",
    "                INSERT {work:\"\"\"+bkID+\"\"\" bf:contribution ?o .\n",
    "                ?o rdf:type bf:Contribution .\n",
    "                ?o rdfs:label '\"\"\"+request.primaryContributionAgent+\"\"\"' .\n",
    "                ?o bf:role <http://id.loc.gov/vocabulary/relators/\"\"\"+request.primaryContributionRole+\"\"\"> .\n",
    "                ?o bf:agent <\"\"\"+request.primaryContributionUri+\"\"\"> }\n",
    "                WHERE {work:\"\"\"+bkID+\"\"\" bf:contribution ?o .\n",
    "                        ?o ?p ?agent }\"\"\"\n",
    "        acervoUpdate.run_sparql(up)"
   ]
  },
  {
   "cell_type": "code",
   "execution_count": null,
   "metadata": {},
   "outputs": [],
   "source": []
  }
 ],
 "metadata": {
  "kernelspec": {
   "display_name": "venv",
   "language": "python",
   "name": "python3"
  },
  "language_info": {
   "codemirror_mode": {
    "name": "ipython",
    "version": 3
   },
   "file_extension": ".py",
   "mimetype": "text/x-python",
   "name": "python",
   "nbconvert_exporter": "python",
   "pygments_lexer": "ipython3",
   "version": "3.10.4"
  },
  "orig_nbformat": 4,
  "vscode": {
   "interpreter": {
    "hash": "7c803f0ee3b2b2cd03f94fb28d6f360d094e6843888122798203f226e128b66e"
   }
  }
 },
 "nbformat": 4,
 "nbformat_minor": 2
}
