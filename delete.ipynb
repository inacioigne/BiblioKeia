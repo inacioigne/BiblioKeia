{
 "cells": [
  {
   "cell_type": "code",
   "execution_count": 12,
   "metadata": {},
   "outputs": [],
   "source": [
    "from pyfuseki import FusekiUpdate\n",
    "from pysolr import Solr\n",
    "import rdflib"
   ]
  },
  {
   "cell_type": "code",
   "execution_count": 7,
   "metadata": {},
   "outputs": [],
   "source": [
    "collectionUpdate = FusekiUpdate('http://localhost:3030', 'collection')"
   ]
  },
  {
   "cell_type": "code",
   "execution_count": 8,
   "metadata": {},
   "outputs": [
    {
     "data": {
      "text/plain": [
       "<SPARQLWrapper.Wrapper.QueryResult at 0x1824e1638b0>"
      ]
     },
     "execution_count": 8,
     "metadata": {},
     "output_type": "execute_result"
    }
   ],
   "source": [
    "id = 'bkc-3'\n",
    "instance = 'https://bibliokeia.com/resources/instance/bkc-3'\n",
    "\n",
    "\n",
    "deleteInstance = f\"\"\"DELETE {{ graph <https://bibliokeia.com/resources/instance/bkc-3> \n",
    "        {{ ?s ?p ?o }} }} \n",
    "        WHERE {{\n",
    "        graph ?g {{ ?s ?p ?o. }}\n",
    "        }}\"\"\"\n",
    "r = collectionUpdate.run_sparql(deleteInstance)\n",
    "r"
   ]
  },
  {
   "cell_type": "code",
   "execution_count": 9,
   "metadata": {},
   "outputs": [
    {
     "data": {
      "text/plain": [
       "{'statusCode': 200, 'message': 'Update succeeded'}"
      ]
     },
     "execution_count": 9,
     "metadata": {},
     "output_type": "execute_result"
    }
   ],
   "source": [
    "upWork = f\"\"\"PREFIX bf: <http://id.loc.gov/ontologies/bibframe/> \n",
    "        DELETE {{ graph ?g\n",
    "        {{ ?s  bf:hasInstance <{instance}>  }} }} \n",
    "        WHERE {{\n",
    "        graph ?g {{ ?s  bf:hasInstance <{instance}>  }}\n",
    "        }}\"\"\"\n",
    "\n",
    "r = collectionUpdate.run_sparql(upWork)\n",
    "r.convert()"
   ]
  },
  {
   "cell_type": "code",
   "execution_count": 11,
   "metadata": {},
   "outputs": [
    {
     "data": {
      "text/plain": [
       "'<?xml version=\"1.0\" encoding=\"UTF-8\"?>\\n<response>\\n\\n<lst name=\"responseHeader\">\\n  <int name=\"status\">0</int>\\n  <int name=\"QTime\">229</int>\\n</lst>\\n</response>\\n'"
      ]
     },
     "execution_count": 11,
     "metadata": {},
     "output_type": "execute_result"
    }
   ],
   "source": [
    "solrAcervo = Solr('http://localhost:8983/solr/acervo/', timeout=10)\n",
    "solrAcervo.delete(q=\"id:bkc-3\",  commit=True)"
   ]
  }
 ],
 "metadata": {
  "kernelspec": {
   "display_name": "venv",
   "language": "python",
   "name": "python3"
  },
  "language_info": {
   "codemirror_mode": {
    "name": "ipython",
    "version": 3
   },
   "file_extension": ".py",
   "mimetype": "text/x-python",
   "name": "python",
   "nbconvert_exporter": "python",
   "pygments_lexer": "ipython3",
   "version": "3.10.4"
  },
  "orig_nbformat": 4
 },
 "nbformat": 4,
 "nbformat_minor": 2
}
