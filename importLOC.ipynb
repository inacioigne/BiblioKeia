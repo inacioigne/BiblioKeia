{
 "cells": [
  {
   "cell_type": "code",
   "execution_count": 4,
   "metadata": {},
   "outputs": [],
   "source": [
    "from rdflib import Graph, URIRef, Namespace\n",
    "from api.src.schemas.authorities.authority import Authority\n",
    "from api.src.function.authorities.makeGraph import MakeGraph\n",
    "from api.src.function.authorities.generateID import GenerateId\n",
    "from pyfuseki import FusekiUpdate"
   ]
  },
  {
   "cell_type": "code",
   "execution_count": 7,
   "metadata": {},
   "outputs": [],
   "source": [
    "from api.src.function.authorities.getUri import GetUri\n",
    "from api.src.schemas.authorities.authority import Uri, Variant, AdminMetadata, Element\n",
    "from typing import Optional\n",
    "from pydantic import BaseModel\n",
    "\n",
    "class Subject(BaseModel):\n",
    "    type: str \n",
    "    adminMetadata: AdminMetadata \n",
    "    elementList: list[Element]\n",
    "    note: Optional[str]\n",
    "    hasBroaderAuthority: Optional[list[Uri]]\n",
    "    hasCloseExternalAuthority: Optional[list[Uri]]\n",
    "    hasExactExternalAuthority: Optional[list[Uri]]\n",
    "    hasNarrowerAuthority: Optional[list[Uri]]\n",
    "    hasNarrowerExternalAuthority: Optional[list[Uri]]\n",
    "    hasVariant: Optional[list[Variant]]\n",
    "    subjectOf: Optional[list[Uri]]\n",
    "    isMemberOfMADSCollection: str\n",
    "\n",
    "def ParserSubject(graph, authority):\n",
    "      \n",
    "  prefix = \"\"\"PREFIX identifiers: <http://id.loc.gov/vocabulary/identifiers/>\n",
    "  PREFIX rdf: <http://www.w3.org/1999/02/22-rdf-syntax-ns#>\n",
    "  PREFIX madsrdf: <http://www.loc.gov/mads/rdf/v1#>\"\"\"\n",
    "\n",
    "  # Type\n",
    "  qtype = f\"\"\"{prefix}\n",
    "  SELECT ?type WHERE {{ \n",
    "      <{authority}> rdf:type ?type .\n",
    "      FILTER ( ?type != madsrdf:Authority ) \n",
    "      FILTER ( ?type != skos:Concept )\n",
    "       }}\"\"\"\n",
    "  r = graph.query(qtype)\n",
    "  tipo = r.bindings[0].get('type').split(\"#\")[1]\n",
    "  \n",
    "\n",
    "  # adminMetadata\n",
    "  adminMetadata = {\n",
    "      \"assigner\": \"http://id.loc.gov/vocabulary/organizations/dlc\",\n",
    "      \"identifiedBy\": [ {\n",
    "          \"assigner\": \"http://id.loc.gov/vocabulary/organizations/dlc\",\n",
    "          \"value\": authority.split('/')[-1]        \n",
    "      }],\n",
    "      \n",
    "      \n",
    "  }\n",
    "  # ElementList\n",
    "  qElementList = f\"\"\"{prefix}\n",
    "  SELECT ?elementValue ?type WHERE  {{\n",
    "    <{authority}> madsrdf:elementList ?o .\n",
    "    ?o rdf:rest* ?node .\n",
    "    ?node rdf:first ?e .\n",
    "    ?e madsrdf:elementValue ?elementValue .\n",
    "    ?e rdf:type ?type\n",
    "    }}\"\"\"\n",
    "  r = graph.query(qElementList)\n",
    "  elementList = list()\n",
    "  for i in r.bindings:\n",
    "      element = {\n",
    "            \"type\": i.get('type').split(\"#\")[1],\n",
    "          \"elementValue\": {\n",
    "            \"value\":  i.get('elementValue').value,\n",
    "            \"lang\": i.get('elementValue').language\n",
    "          }\n",
    "        }\n",
    "      elementList.append(element)\n",
    "\n",
    "  obj = {\n",
    "     \"type\": tipo,\n",
    "      \"adminMetadata\": adminMetadata,\n",
    "      \"elementList\": elementList,\n",
    "      \"isMemberOfMADSCollection\": f'http://bibliokeia.com/authorities/{tipo}/'\n",
    "  }\n",
    "\n",
    "  # Note \n",
    "  qNote = f\"\"\"{prefix}\n",
    "  SELECT ?note WHERE {{ \n",
    "      <{authority}> madsrdf:note ?note .\n",
    "       }}\"\"\"\n",
    "  r = graph.query(qNote)\n",
    "  if len(r.bindings) > 0:\n",
    "     obj['note'] = r.bindings[0].get('note').value\n",
    "\n",
    "# hasVariant\n",
    "  qVariant = f\"\"\"{prefix}\n",
    "  SELECT ?typeVariant ?typeElement ?elementValue WHERE  {{\n",
    "\t<{authority}> madsrdf:hasVariant ?variant .\n",
    "  ?variant rdf:type ?typeVariant .\n",
    "  ?variant madsrdf:elementList ?elementList .\n",
    "  ?elementList rdf:rest* ?node .\n",
    "    ?node rdf:first ?e .\n",
    "    ?e madsrdf:elementValue ?elementValue .\n",
    "\t?e rdf:type ?typeElement .\n",
    "  FILTER ( ?typeVariant != madsrdf:Variant )\n",
    "  }}\"\"\"\n",
    "  r = graph.query(qVariant)\n",
    "  if len(r.bindings) > 0:\n",
    "    variants = list()\n",
    "    for i in r.bindings:\n",
    "      variant = {\n",
    "          'type': i.get('typeVariant').split(\"#\")[1],\n",
    "          'elementList': [{\n",
    "              'type': i.get('typeElement').split(\"#\")[1],\n",
    "              'elementValue': {\n",
    "                  'value': i.get('elementValue').value,\n",
    "                  'lang': i.get('elementValue').language\n",
    "              }\n",
    "          }]\n",
    "      }\n",
    "      variants.append(variant)\n",
    "    obj['hasVariant'] = variants\n",
    "\n",
    "  # URIS\n",
    "  metadados = ['hasBroaderAuthority', \n",
    "               'hasCloseExternalAuthority',\n",
    "    'hasExactExternalAuthority',\n",
    "    'hasNarrowerAuthority',\n",
    "    'hasNarrowerExternalAuthority']\n",
    "  for metadado in metadados:\n",
    "     obj = GetUri(obj, metadado, authority, graph)\n",
    "  \n",
    "  response = Subject(**obj)\n",
    "  return response"
   ]
  },
  {
   "cell_type": "code",
   "execution_count": null,
   "metadata": {},
   "outputs": [],
   "source": [
    "def MakeGraph(request, id):\n",
    "    graph = f\"\"\"{prefix}    \n",
    "    INSERT DATA {{\n",
    "        GRAPH <https://bibliokeia.com/authorities/{request.type}/{id}>\n",
    "        {{\n",
    "        <https://bibliokeia.com/authorities/{request.type}/{id}> a madsrdf:Authority, \n",
    "            madsrdf:{request.type} ;\n",
    "            identifiers:local \"{id}\" ;\n",
    "            madsrdf:adminMetadata [ a bf:AdminMetadata ;\n",
    "            bf:assigner <{request.adminMetadata.assigner}> ;\n",
    "            bf:creationDate \"{request.adminMetadata.creationDate}\"^^xsd:date ;\n",
    "            bf:descriptionLanguage <http://id.loc.gov/vocabulary/languages/eng> ;\n",
    "            bf:descriptionModifier <{request.adminMetadata.assigner}> ; \n",
    "            bf:generationProcess [ a bf:GenerationProcess ;\n",
    "                    rdfs:label \"{request.adminMetadata.generationProcess.label}\" ;\n",
    "                    bf:generationDate \"{request.adminMetadata.generationProcess.generationDate}\"^^xsd:dateTime ] ;\n",
    "            bf:identifiedBy [ a bf:Local ;\n",
    "                    bf:assigner <{request.adminMetadata.identifiedBy.assigner}> ;\n",
    "                    rdf:value \"{request.adminMetadata.identifiedBy.value}\" ] ; \n",
    "            bf:status {request.adminMetadata.status.value} ] ; \n",
    "            { f'madsrdf:authoritativeLabel \"{MakeLabel(request.elementList)}\" ; ' if request.elementList else  f'madsrdf:authoritativeLabel \"{ComponentLabel(request.componentList)}\" ; '} \n",
    "            { f'madsrdf:elementList ( {MakeElement(request.elementList)} ) ; ' if request.elementList else ''} \n",
    "            { f'madsrdf:componentList ( { MakeComponentList(request.componentList) } ) ; ' if request.componentList else '' } \n",
    "            { f'madsrdf:fullerName [ a madsrdf:PersonalName ; rdfs:label \"{request.fullerName.elementValue.value}\" ] ;' if request.fullerName else ''}            \n",
    "            { f'madsrdf:birthDate \"{request.birthDate}\" ; ' if request.birthDate else ''}     \n",
    "            { f'madsrdf:birthPlace <{request.birthPlace.value}> ; ' if request.birthPlace else ''}\n",
    "            { f'madsrdf:deathDate \"{request.deathDate}\" ; ' if request.deathDate else ''}   \n",
    "            { f'madsrdf:hasBroaderAuthority {\", \".join([ f\"<{i.value}>\" for i in request.hasBroaderAuthority])} ;' if request.hasBroaderAuthority else ''}\n",
    "            { f'madsrdf:hasCloseExternalAuthority {\", \".join([ f\"<{i.value}>\" for i in request.hasCloseExternalAuthority])} ;' if request.hasCloseExternalAuthority else ''}\n",
    "            { f'madsrdf:hasExactExternalAuthority {\", \".join([ f\"<{i.value}>\" for i in request.hasExactExternalAuthority])} ;' if request.hasExactExternalAuthority else ''}\n",
    "            { f'madsrdf:hasVariant { MakeVariant(request.hasVariant) } ;' if request.hasVariant else ''  }\n",
    "            { f'madsrdf:hasAffiliation { MakeAfilliation(request.hasAffiliation) } ;' if request.hasAffiliation else ''  }\n",
    "            { f'madsrdf:occupation { \", \".join([ f\"<{i.value}>\" for i in request.occupation])} ;' if request.occupation else ''  }\n",
    "            madsrdf:isMemberOfMADSCollection <{request.isMemberOfMADSCollection}> .          \n",
    "            }} \n",
    "        }}\"\"\"\n",
    "    return graph"
   ]
  },
  {
   "attachments": {},
   "cell_type": "markdown",
   "metadata": {},
   "source": [
    "COMPLEX TYPE"
   ]
  },
  {
   "cell_type": "code",
   "execution_count": 9,
   "metadata": {},
   "outputs": [
    {
     "data": {
      "text/plain": [
       "<Graph identifier=Ncf11f230b59a4ca2acb2ec2dfae29ed8 (<class 'rdflib.graph.Graph'>)>"
      ]
     },
     "execution_count": 9,
     "metadata": {},
     "output_type": "execute_result"
    }
   ],
   "source": [
    "graph = Graph()\n",
    "authority = 'http://id.loc.gov/authorities/subjects/sh2010112128'\n",
    "graph.parse(authority)\n",
    "graph.serialize('exemples/complexType.ttl')"
   ]
  },
  {
   "cell_type": "code",
   "execution_count": 10,
   "metadata": {},
   "outputs": [
    {
     "data": {
      "text/plain": [
       "Subject(type='ComplexSubject', adminMetadata=AdminMetadata(assigner='http://id.loc.gov/vocabulary/organizations/dlc', descriptionModifier='http://id.loc.gov/vocabulary/organizations/brmninpa', creationDate=datetime.date(2023, 5, 8), descriptionLanguage='http://id.loc.gov/vocabulary/languages/por', generationProcess='BiblioKeia v.1', generationDate='2023-05-08T16:07:33', identifiedBy=[IdentifiedBy(assigner='http://id.loc.gov/vocabulary/organizations/dlc', value='sh2010112128')], status=Status(value='mstatus:new', label='novo')), elementList=[], note=None, hasBroaderAuthority=None, hasCloseExternalAuthority=None, hasExactExternalAuthority=None, hasNarrowerAuthority=None, hasNarrowerExternalAuthority=None, hasVariant=None, subjectOf=None, isMemberOfMADSCollection='http://bibliokeia.com/authorities/ComplexSubject/')"
      ]
     },
     "execution_count": 10,
     "metadata": {},
     "output_type": "execute_result"
    }
   ],
   "source": [
    "response = ParserSubject(graph, authority)\n",
    "response"
   ]
  },
  {
   "cell_type": "code",
   "execution_count": 11,
   "metadata": {},
   "outputs": [
    {
     "data": {
      "text/plain": [
       "{'type': 'ComplexSubject',\n",
       " 'adminMetadata': {'assigner': 'http://id.loc.gov/vocabulary/organizations/dlc',\n",
       "  'descriptionModifier': 'http://id.loc.gov/vocabulary/organizations/brmninpa',\n",
       "  'creationDate': datetime.date(2023, 5, 8),\n",
       "  'descriptionLanguage': 'http://id.loc.gov/vocabulary/languages/por',\n",
       "  'generationProcess': 'BiblioKeia v.1',\n",
       "  'generationDate': '2023-05-08T16:07:33',\n",
       "  'identifiedBy': [{'assigner': 'http://id.loc.gov/vocabulary/organizations/dlc',\n",
       "    'value': 'sh2010112128'}],\n",
       "  'status': {'value': 'mstatus:new', 'label': 'novo'}},\n",
       " 'elementList': [],\n",
       " 'note': None,\n",
       " 'hasBroaderAuthority': None,\n",
       " 'hasCloseExternalAuthority': None,\n",
       " 'hasExactExternalAuthority': None,\n",
       " 'hasNarrowerAuthority': None,\n",
       " 'hasNarrowerExternalAuthority': None,\n",
       " 'hasVariant': None,\n",
       " 'subjectOf': None,\n",
       " 'isMemberOfMADSCollection': 'http://bibliokeia.com/authorities/ComplexSubject/'}"
      ]
     },
     "execution_count": 11,
     "metadata": {},
     "output_type": "execute_result"
    }
   ],
   "source": [
    "response.dict()"
   ]
  },
  {
   "attachments": {},
   "cell_type": "markdown",
   "metadata": {},
   "source": [
    "SIMPLE TYPE"
   ]
  },
  {
   "cell_type": "code",
   "execution_count": 3,
   "metadata": {},
   "outputs": [],
   "source": [
    "uri = URIRef('http://id.loc.gov/authorities/subjects/sh85076502')"
   ]
  },
  {
   "cell_type": "code",
   "execution_count": 6,
   "metadata": {},
   "outputs": [],
   "source": [
    "uri = 'http://id.loc.gov/authorities/subjects/sh85076502'\n",
    "prefix = \"\"\"PREFIX identifiers: <http://id.loc.gov/vocabulary/identifiers/>\n",
    "PREFIX rdf: <http://www.w3.org/1999/02/22-rdf-syntax-ns#>\n",
    "PREFIX madsrdf: <http://www.loc.gov/mads/rdf/v1#>\"\"\"\n",
    "qlccn = f\"\"\"{prefix}\n",
    "SELECT ?o WHERE {{ \n",
    "    <{uri}> identifiers:lccn ?o }}\"\"\"\n",
    "\n",
    "qType = f\"\"\"{prefix}\n",
    "SELECT ?o WHERE {{ \n",
    "    <{uri}> rdf:type ?o }}\"\"\"\n",
    "\n",
    "qElementList = f\"\"\"{prefix}\n",
    "SELECT ?elementValue ?type WHERE  {{\n",
    "\t<{uri}> madsrdf:elementList ?o .\n",
    "  ?o rdf:rest* ?node .\n",
    "  ?node rdf:first ?e .\n",
    "  ?e madsrdf:elementValue ?elementValue .\n",
    "  ?e rdf:type ?type\n",
    "  }}\"\"\"\n",
    "\n",
    "qComponentList = f\"\"\"{prefix}\n",
    "SELECT * WHERE  {{\n",
    "\t<{uri}> madsrdf:componentList ?componentList .\n",
    "  }}\"\"\"\n",
    "\n",
    "qFullerName = f\"\"\"{prefix}\n",
    "SELECT * WHERE  {{\n",
    "\t<{uri}> madsrdf:fullerName ?fullerName .\n",
    "  }}\"\"\"\n",
    "\n",
    "qBroader = f\"\"\"{prefix}\n",
    "SELECT * WHERE  {{\n",
    "\t<{uri}> madsrdf:hasBroaderAuthority ?value .\n",
    "  ?value madsrdf:authoritativeLabel ?label\n",
    "  }}\"\"\"\n",
    "\n",
    "qCloseExternal = f\"\"\"{prefix}\n",
    "SELECT * WHERE  {{\n",
    "\t<{uri}> madsrdf:hasCloseExternalAuthority ?value .\n",
    "  ?value madsrdf:authoritativeLabel ?label\n",
    "  }}\"\"\"\n",
    "\n",
    "qExactExternal = f\"\"\"{prefix}\n",
    "SELECT * WHERE  {{\n",
    "\t<{uri}> madsrdf:hasExactExternalAuthority ?value .\n",
    "  ?value madsrdf:authoritativeLabel ?label\n",
    "  }}\"\"\"\n",
    "\n",
    "qNarrower = f\"\"\"{prefix}\n",
    "SELECT * WHERE  {{\n",
    "\t<{uri}> madsrdf:hasNarrowerAuthority ?value .\n",
    "  ?value madsrdf:authoritativeLabel ?label\n",
    "  }}\"\"\"\n",
    "\n",
    "\n",
    "\n"
   ]
  },
  {
   "cell_type": "code",
   "execution_count": 4,
   "metadata": {},
   "outputs": [
    {
     "data": {
      "text/plain": [
       "{'hasBroaderAuthority': [{'value': 'http://id.loc.gov/authorities/subjects/sh85038731',\n",
       "   'label': {'value': 'Documentation', 'lang': 'en'}},\n",
       "  {'value': 'http://id.loc.gov/authorities/subjects/sh85108685',\n",
       "   'label': {'value': 'Public institutions', 'lang': 'en'}}]}"
      ]
     },
     "execution_count": 4,
     "metadata": {},
     "output_type": "execute_result"
    }
   ],
   "source": [
    "def getUri(obj, metadado, authority, graph):\n",
    "    query = f\"\"\"PREFIX madsrdf: <http://www.loc.gov/mads/rdf/v1#>\n",
    "            SELECT * WHERE  {{\n",
    "              <{authority}> madsrdf:{metadado} ?value .\n",
    "              ?value madsrdf:authoritativeLabel ?label\n",
    "              }}\"\"\"\n",
    "    response = graph.query(query)\n",
    "    if len(response.bindings) > 0:\n",
    "        uris = list()\n",
    "        for i in response.bindings:\n",
    "          uri = {\n",
    "                  \"value\": i.get('value').n3().replace('<','').replace('>',''),\n",
    "              \"label\": {\n",
    "                \"value\": i.get('label').value,\n",
    "                \"lang\": i.get('label').language\n",
    "              } }\n",
    "          uris.append(uri)\n",
    "        obj[metadado] = uris\n",
    "    return obj\n",
    "\n",
    "obj = {}\n",
    "uri = 'http://id.loc.gov/authorities/subjects/sh85076502'\n",
    "obj = getUri(obj, \"hasBroaderAuthority\", uri, g)\n",
    "obj\n"
   ]
  },
  {
   "cell_type": "code",
   "execution_count": 15,
   "metadata": {},
   "outputs": [
    {
     "data": {
      "text/plain": [
       "Authority(type='Topic', identifiers=None, adminMetadata=AdminMetadata(assigner='http://id.loc.gov/vocabulary/organizations/brmninpa', descriptionModifier='http://id.loc.gov/vocabulary/organizations/brmninpa', creationDate=datetime.date(2023, 5, 2), descriptionLanguage='http://id.loc.gov/vocabulary/languages/por', generationProcess=GenerationProcess(label='BiblioKeia Beta', generationDate='2023-05-02T19:56:44'), identifiedBy=IdentifiedBy(assigner='http://id.loc.gov/vocabulary/organizations/brmninpa', value='bkau-1'), status=Status(value='mstatus:new', label='novo')), elementList=[Element(type='TopicElement', elementValue=Label(value='Libraries', lang='en'))], componentList=None, fullerName=None, birthDate=None, birthPlace=None, deathDate=None, occupation=None, hasAffiliation=None, hasBroaderAuthority=[Uri(value='http://id.loc.gov/authorities/subjects/sh85038731', label=Label(value='Documentation', lang='en')), Uri(value='http://id.loc.gov/authorities/subjects/sh85108685', label=Label(value='Public institutions', lang='en'))], subjectOf=None, contributionOf=None, hasCloseExternalAuthority=[Uri(value='http://www.yso.fi/onto/yso/p2787', label=Label(value='kirjastot', lang='fi')), Uri(value='http://id.worldcat.org/fast/997341', label=Label(value='Libraries', lang=None)), Uri(value='http://d-nb.info/gnd/4006439-6', label=Label(value='Bibliothek', lang='de')), Uri(value='http://www.wikidata.org/entity/Q7075', label=Label(value='library', lang=None)), Uri(value='http://data.bnf.fr/ark:/12148/cb13318325d', label=Label(value='Bibliothèques', lang='fr'))], hasExactExternalAuthority=[Uri(value='http://lod.nal.usda.gov/nalt/47259', label=Label(value='libraries', lang='en'))], hasNarrowerAuthority=None, hasVariant=None, isMemberOfMADSCollection='http://id.loc.gov/authorities/subjects/')"
      ]
     },
     "execution_count": 15,
     "metadata": {},
     "output_type": "execute_result"
    }
   ],
   "source": [
    "obj = {\n",
    "    'type': [i.split(\"#\")[1] for [i] in g.query(qType) ][0],\n",
    "    \"adminMetadata\": {\n",
    "    \"generationProcess\": {\n",
    "      \"label\": \"BiblioKeia Beta\"\n",
    "    },\n",
    "    \"identifiedBy\": {\n",
    "      \"assigner\": \"http://id.loc.gov/vocabulary/organizations/brmninpa\",\n",
    "      \"value\": id\n",
    "    }\n",
    "  }, \n",
    "  \"isMemberOfMADSCollection\": \"http://id.loc.gov/authorities/subjects/\"\n",
    "    }\n",
    "\n",
    "[obj['lccn']] = [i[0].value for i in g.query(qlccn) ]\n",
    "\n",
    "# elementList\n",
    "response = g.query(qElementList)\n",
    "if len(response.bindings) > 0:\n",
    "    elementList = list()\n",
    "    for i in response.bindings:\n",
    "      element = {\n",
    "          \"type\": i.get('type').split(\"#\")[1],\n",
    "        \"elementValue\": {\n",
    "          \"value\":  i.get('elementValue').value,\n",
    "          \"lang\": i.get('elementValue').language\n",
    "        }\n",
    "      }\n",
    "      elementList.append(element)\n",
    "    obj['elementList'] = elementList\n",
    "  \n",
    "# ComponentList\n",
    "response = g.query(qComponentList)\n",
    "if len(response.bindings) > 0:\n",
    "    print(\"qComponentList\")\n",
    "\n",
    "# fullerName\n",
    "response = g.query(qComponentList)\n",
    "if len(response.bindings) > 0:\n",
    "    print(\"fullerName\")\n",
    "\n",
    "# birthDate: Optional[str]\n",
    "#     birthPlace: Optional[Uri]\n",
    "#     deathDate: Optional[str]\n",
    "#     occupation: Optional[list[Uri]]\n",
    "#     hasAffiliation: Optional[list[Affiliation]]\n",
    "\n",
    "# hasBroaderAuthority\n",
    "obj = getUri(obj, \"hasBroaderAuthority\", uri, g)\n",
    "\n",
    "# hasCloseExternalAuthority\n",
    "obj = getUri(obj, \"hasCloseExternalAuthority\", uri, g)\n",
    "\n",
    "# hasExactExternalAuthority\n",
    "obj = getUri(obj, \"hasExactExternalAuthority\", uri, g)\n",
    "\n",
    "# hasNarrowerAuthority\n",
    "obj = getUri(obj, \"hasExactExternalAuthority\", uri, g)\n",
    "\n",
    "# hasVariant: \n",
    "\n",
    "\n",
    "\n",
    "\n",
    "request = Authority(**obj)\n",
    "request\n",
    "# obj"
   ]
  },
  {
   "cell_type": "code",
   "execution_count": 16,
   "metadata": {},
   "outputs": [
    {
     "name": "stdout",
     "output_type": "stream",
     "text": [
      "PREFIX rdf: <http://www.w3.org/1999/02/22-rdf-syntax-ns#> \n",
      "    PREFIX madsrdf: <http://www.loc.gov/mads/rdf/v1#> \n",
      "    PREFIX owl: <http://www.w3.org/2002/07/owl#> \n",
      "    PREFIX ri: <http://id.loc.gov/ontologies/RecordInfo#> \n",
      "    PREFIX xsd: <http://www.w3.org/2001/XMLSchema#>\n",
      "    PREFIX rdfs: <http://www.w3.org/2000/01/rdf-schema#>\n",
      "    PREFIX identifiers: <http://id.loc.gov/vocabulary/identifiers/>\n",
      "    PREFIX bf: <http://id.loc.gov/ontologies/bibframe/> \n",
      "    PREFIX bflc: <http://id.loc.gov/ontologies/bflc/> \n",
      "    PREFIX bkw: <https://bibliokeia.com/resources/work/> \n",
      "    PREFIX menclvl: <http://id.loc.gov/vocabulary/menclvl/>\n",
      "    PREFIX mstatus: <http://id.loc.gov/vocabulary/mstatus/>\n",
      "    PREFIX contentTypes: <http://id.loc.gov/vocabulary/contentTypes/>\n",
      "    PREFIX relators: <http://id.loc.gov/vocabulary/relators/>\n",
      "    PREFIX genreForms: <http://id.loc.gov/authorities/genreForms/>\n",
      "    PREFIX msupplcont: <http://id.loc.gov/vocabulary/msupplcont/>\n",
      "    PREFIX millus: <http://id.loc.gov/vocabulary/millus/>        \n",
      "    INSERT DATA {\n",
      "        GRAPH <https://bibliokeia.com/authorities/Topic/bkau-1>\n",
      "        {\n",
      "        <https://bibliokeia.com/authorities/Topic/bkau-1> a madsrdf:Authority, \n",
      "            madsrdf:Topic ;\n",
      "            identifiers:local \"bkau-1\" ;\n",
      "            madsrdf:adminMetadata [ a bf:AdminMetadata ;\n",
      "            bf:assigner <http://id.loc.gov/vocabulary/organizations/brmninpa> ;\n",
      "            bf:creationDate \"2023-05-02\"^^xsd:date ;\n",
      "            bf:descriptionLanguage <http://id.loc.gov/vocabulary/languages/eng> ;\n",
      "            bf:descriptionModifier <http://id.loc.gov/vocabulary/organizations/brmninpa> ; \n",
      "            bf:generationProcess [ a bf:GenerationProcess ;\n",
      "                    rdfs:label \"BiblioKeia Beta\" ;\n",
      "                    bf:generationDate \"2023-05-02T19:56:44\"^^xsd:dateTime ] ;\n",
      "            bf:identifiedBy [ a bf:Local ;\n",
      "                    bf:assigner <http://id.loc.gov/vocabulary/organizations/brmninpa> ;\n",
      "                    rdf:value \"bkau-1\" ] ; \n",
      "            bf:status mstatus:new ] ; \n",
      "            madsrdf:authoritativeLabel \"Libraries\" ;  \n",
      "            madsrdf:elementList ( [ a madsrdf:TopicElement ;\n",
      "                madsrdf:elementValue \"Libraries\"@en ] ) ;  \n",
      "             \n",
      "                        \n",
      "                 \n",
      "            \n",
      "               \n",
      "            madsrdf:hasBroaderAuthority <http://id.loc.gov/authorities/subjects/sh85038731>, <http://id.loc.gov/authorities/subjects/sh85108685> ;\n",
      "            madsrdf:hasCloseExternalAuthority <http://www.yso.fi/onto/yso/p2787>, <http://id.worldcat.org/fast/997341>, <http://d-nb.info/gnd/4006439-6>, <http://www.wikidata.org/entity/Q7075>, <http://data.bnf.fr/ark:/12148/cb13318325d> ;\n",
      "            madsrdf:hasExactExternalAuthority <http://lod.nal.usda.gov/nalt/47259> ;\n",
      "            \n",
      "            \n",
      "            \n",
      "            madsrdf:isMemberOfMADSCollection <http://id.loc.gov/authorities/subjects/> .          \n",
      "            } \n",
      "        }\n"
     ]
    }
   ],
   "source": [
    "graph = MakeGraph(request, id)\n",
    "print(graph)"
   ]
  },
  {
   "cell_type": "code",
   "execution_count": 18,
   "metadata": {},
   "outputs": [
    {
     "data": {
      "text/plain": [
       "<SPARQLWrapper.Wrapper.QueryResult at 0x21a1032d150>"
      ]
     },
     "execution_count": 18,
     "metadata": {},
     "output_type": "execute_result"
    }
   ],
   "source": [
    "fuseki_update = FusekiUpdate('http://localhost:3030', 'authorities')\n",
    "response = fuseki_update.run_sparql(graph)\n",
    "response"
   ]
  },
  {
   "cell_type": "code",
   "execution_count": 20,
   "metadata": {},
   "outputs": [
    {
     "data": {
      "text/plain": [
       "{'statusCode': 200, 'message': 'Update succeeded'}"
      ]
     },
     "execution_count": 20,
     "metadata": {},
     "output_type": "execute_result"
    }
   ],
   "source": [
    "response.convert()"
   ]
  },
  {
   "cell_type": "code",
   "execution_count": 126,
   "metadata": {},
   "outputs": [
    {
     "name": "stdout",
     "output_type": "stream",
     "text": [
      "{'type': 'TopicElement', 'elementValue': {'value': 'Libraries', 'lang': 'en'}}\n"
     ]
    }
   ],
   "source": [
    "response = g.query(qElementList)\n",
    "for i in response.bindings:\n",
    "    element = {\n",
    "         \"type\": i.get('type').split(\"#\")[1],\n",
    "      \"elementValue\": {\n",
    "        \"value\":  i.get('elementValue').value,\n",
    "        \"lang\": i.get('elementValue').language\n",
    "      }\n",
    "    }\n",
    "    print(element)"
   ]
  },
  {
   "cell_type": "code",
   "execution_count": 125,
   "metadata": {},
   "outputs": [
    {
     "data": {
      "text/plain": [
       "'TopicElement'"
      ]
     },
     "execution_count": 125,
     "metadata": {},
     "output_type": "execute_result"
    }
   ],
   "source": [
    "x = i.get('type').split(\"#\")[1]\n",
    "x"
   ]
  },
  {
   "cell_type": "code",
   "execution_count": 84,
   "metadata": {},
   "outputs": [
    {
     "name": "stdout",
     "output_type": "stream",
     "text": [
      "PREFIX rdf: <http://www.w3.org/1999/02/22-rdf-syntax-ns#> \n",
      "    PREFIX madsrdf: <http://www.loc.gov/mads/rdf/v1#> \n",
      "    PREFIX owl: <http://www.w3.org/2002/07/owl#> \n",
      "    PREFIX ri: <http://id.loc.gov/ontologies/RecordInfo#> \n",
      "    PREFIX xsd: <http://www.w3.org/2001/XMLSchema#>\n",
      "    PREFIX rdfs: <http://www.w3.org/2000/01/rdf-schema#>\n",
      "    PREFIX identifiers: <http://id.loc.gov/vocabulary/identifiers/>\n",
      "    PREFIX bf: <http://id.loc.gov/ontologies/bibframe/> \n",
      "    PREFIX bflc: <http://id.loc.gov/ontologies/bflc/> \n",
      "    PREFIX bkw: <https://bibliokeia.com/resources/work/> \n",
      "    PREFIX menclvl: <http://id.loc.gov/vocabulary/menclvl/>\n",
      "    PREFIX mstatus: <http://id.loc.gov/vocabulary/mstatus/>\n",
      "    PREFIX contentTypes: <http://id.loc.gov/vocabulary/contentTypes/>\n",
      "    PREFIX relators: <http://id.loc.gov/vocabulary/relators/>\n",
      "    PREFIX genreForms: <http://id.loc.gov/authorities/genreForms/>\n",
      "    PREFIX msupplcont: <http://id.loc.gov/vocabulary/msupplcont/>\n",
      "    PREFIX millus: <http://id.loc.gov/vocabulary/millus/>        \n",
      "    INSERT DATA {\n",
      "        GRAPH <https://bibliokeia.com/authorities/Topic/bk-TESTE>\n",
      "        {\n",
      "        <https://bibliokeia.com/authorities/Topic/bk-TESTE> a madsrdf:Authority, \n",
      "            madsrdf:Topic ;\n",
      "            identifiers:local \"bk-TESTE\" ;\n",
      "            madsrdf:adminMetadata [ a bf:AdminMetadata ;\n",
      "            bf:assigner <http://id.loc.gov/vocabulary/organizations/brmninpa> ;\n",
      "            bf:creationDate \"2023-05-02\"^^xsd:date ;\n",
      "            bf:descriptionLanguage <http://id.loc.gov/vocabulary/languages/eng> ;\n",
      "            bf:descriptionModifier <http://id.loc.gov/vocabulary/organizations/brmninpa> ; \n",
      "            bf:generationProcess [ a bf:GenerationProcess ;\n",
      "                    rdfs:label \"BiblioKeia Beta\" ;\n",
      "                    bf:generationDate \"2023-05-02T14:08:06\"^^xsd:dateTime ] ;\n",
      "            bf:identifiedBy [ a bf:Local ;\n",
      "                    bf:assigner <http://id.loc.gov/vocabulary/organizations/brmninpa> ;\n",
      "                    rdf:value \"bk-1\" ] ;\n",
      "            bf:status mstatus:new ] ; \n",
      "            madsrdf:authoritativeLabel \"Libraries\" ;  \n",
      "            madsrdf:elementList ( [ a madsrdf:TopicElement ;\n",
      "                madsrdf:elementValue \"Libraries\"@en ] ) ;  \n",
      "             \n",
      "                        \n",
      "                 \n",
      "            \n",
      "               \n",
      "            \n",
      "            \n",
      "            \n",
      "            \n",
      "            \n",
      "            \n",
      "            madsrdf:isMemberOfMADSCollection <http://id.loc.gov/authorities/subjects/> .          \n",
      "            } \n",
      "        }\n"
     ]
    }
   ],
   "source": [
    "graph = MakeGraph(request, 'bk-TESTE')\n",
    "print(graph)"
   ]
  },
  {
   "cell_type": "code",
   "execution_count": 5,
   "metadata": {},
   "outputs": [
    {
     "data": {
      "text/plain": [
       "<Graph identifier=N8c2571aa3f5546fdbfcdb568212cd7fa (<class 'rdflib.graph.Graph'>)>"
      ]
     },
     "execution_count": 5,
     "metadata": {},
     "output_type": "execute_result"
    }
   ],
   "source": [
    "g.serialize('libraries.ttl', format='ttl')"
   ]
  }
 ],
 "metadata": {
  "kernelspec": {
   "display_name": "Python 3.11.3 ('venv': venv)",
   "language": "python",
   "name": "python3"
  },
  "language_info": {
   "codemirror_mode": {
    "name": "ipython",
    "version": 3
   },
   "file_extension": ".py",
   "mimetype": "text/x-python",
   "name": "python",
   "nbconvert_exporter": "python",
   "pygments_lexer": "ipython3",
   "version": "3.10.4"
  },
  "orig_nbformat": 4,
  "vscode": {
   "interpreter": {
    "hash": "5df21a170a08fe7c24b5b1091267edae5bad3984f1116f28e957af7dd8f192dc"
   }
  }
 },
 "nbformat": 4,
 "nbformat_minor": 2
}
