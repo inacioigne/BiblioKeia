{
 "cells": [
  {
   "cell_type": "code",
   "execution_count": 63,
   "metadata": {},
   "outputs": [],
   "source": [
    "from pydantic import BaseModel, Field, validator\n",
    "from typing import List, Optional\n",
    "from datetime import datetime, date\n",
    "\n",
    "class Element(BaseModel):\n",
    "    label: str\n",
    "    lang: Optional[str]\n",
    "    uri: str\n",
    "    type: list[str]\n",
    "\n",
    "class Status(BaseModel):\n",
    "    value: str = Field(default=\"mstatus:new\")\n",
    "    label: str = Field(default=\"novo\")\n",
    "\n",
    "class IdentifiedBy(BaseModel):\n",
    "    type: str = Field(default='Local')\n",
    "    assigner: str = Field(default=\"http://id.loc.gov/vocabulary/organizations/brmninpa\")\n",
    "    value: str  \n",
    "\n",
    "class GenerationProcess(BaseModel):\n",
    "    label: str = Field(default=\"BiblioKeia v.1\")\n",
    "    generationDate: datetime = Field(default=datetime.now())\n",
    "\n",
    "class AdminMetadata(BaseModel):\n",
    "    encodingLevel: str = Field(default=\"menclvl:f\")\n",
    "    assigner: str = Field(default=\"http://id.loc.gov/vocabulary/organizations/brmninpa\")\n",
    "    creationDate: Optional[str]\n",
    "    descriptionConventions: str = Field(default=\"http://id.loc.gov/vocabulary/descriptionConventions/isbd\")\n",
    "    descriptionModifier: str = Field(default=\"http://id.loc.gov/vocabulary/organizations/brmninpa\")\n",
    "    descriptionLanguage: str = Field(default=\"http://id.loc.gov/vocabulary/languages/por\")\n",
    "    generationProcess: str = Field(default=\"BiblioKeia v.1\")\n",
    "    generationDate: datetime = Field(default=datetime.now())\n",
    "    identifiedBy: list[IdentifiedBy]\n",
    "    status: Status = Field(default=Status(value=\"mstatus:new\", label=\"novo\"))\n",
    "\n",
    "    @validator('creationDate', pre=True, always=True)\n",
    "    def set_date_today(cls, v):\n",
    "        today = date.today().strftime(\"%Y-%m-%d\")\n",
    "        \n",
    "        return today\n",
    "\n",
    "class Item(BaseModel):\n",
    "    adminMetadata: AdminMetadata\n",
    "    call: str\n",
    "    shelf: str\n",
    "    barcode: str\n",
    "\n",
    "class Items_Schema(BaseModel):\n",
    "  itemOf: Element\n",
    "  items: List[Item]"
   ]
  },
  {
   "cell_type": "code",
   "execution_count": 50,
   "metadata": {},
   "outputs": [],
   "source": [
    "from pyfuseki import FusekiUpdate"
   ]
  },
  {
   "cell_type": "code",
   "execution_count": 65,
   "metadata": {},
   "outputs": [
    {
     "data": {
      "text/plain": [
       "[Item(adminMetadata=AdminMetadata(encodingLevel='menclvl:f', assigner='http://id.loc.gov/vocabulary/organizations/brmninpa', creationDate='2023-06-27', descriptionConventions='http://id.loc.gov/vocabulary/descriptionConventions/isbd', descriptionModifier='http://id.loc.gov/vocabulary/organizations/brmninpa', descriptionLanguage='http://id.loc.gov/vocabulary/languages/por', generationProcess='BiblioKeia v.1', generationDate=datetime.datetime(2023, 6, 27, 16, 0, 52, 826753), identifiedBy=[IdentifiedBy(type='Local', assigner='http://id.loc.gov/vocabulary/organizations/brmninpa', value='23-8486')], status=Status(value='mstatus:new', label='novo')), call='582.56 O48p 2023', shelf='E11-P05', barcode='23-8486')]"
      ]
     },
     "execution_count": 65,
     "metadata": {},
     "output_type": "execute_result"
    }
   ],
   "source": [
    "items = {\n",
    "  \"itemOf\": {\n",
    "      \"label\": \"TITULO INSTNACE\",\n",
    "      'uri': \"https://bibliokeia.com/resources/instance/bkc-2\",\n",
    "      'type': ['Instance']\n",
    "  },\n",
    "  \"items\": [\n",
    "    {\n",
    "      \"adminMetadata\": {\"identifiedBy\": [{\"value\": \"23-8486\"}]},\n",
    "      \n",
    "      \"call\": \"582.56 O48p 2023\",\n",
    "      \"shelf\": \"E11-P05\",\n",
    "      \"barcode\": \"23-8486\"\n",
    "    }\n",
    "  ]\n",
    "}\n",
    "request = Items_Schema(**items)\n",
    "request.items"
   ]
  },
  {
   "cell_type": "code",
   "execution_count": 55,
   "metadata": {},
   "outputs": [
    {
     "data": {
      "text/plain": [
       "'https://bibliokeia.com/resources/instance/bkc-2'"
      ]
     },
     "execution_count": 55,
     "metadata": {},
     "output_type": "execute_result"
    }
   ],
   "source": [
    "request.itemOf"
   ]
  },
  {
   "cell_type": "code",
   "execution_count": 21,
   "metadata": {},
   "outputs": [
    {
     "name": "stdout",
     "output_type": "stream",
     "text": [
      "582.56 O48p 2023\n"
     ]
    }
   ],
   "source": [
    "for item in request.items:\n",
    "    print(item.call)"
   ]
  },
  {
   "cell_type": "code",
   "execution_count": 46,
   "metadata": {},
   "outputs": [],
   "source": [
    "prefix = \"\"\"\n",
    "PREFIX bki: <https://bibliokeia.com/resources/instance/> \n",
    "PREFIX rdf: <http://www.w3.org/1999/02/22-rdf-syntax-ns#>\n",
    "    PREFIX xsd: <http://www.w3.org/2001/XMLSchema#>\n",
    "    PREFIX rdfs: <http://www.w3.org/2000/01/rdf-schema#>\n",
    "    PREFIX bf: <http://id.loc.gov/ontologies/bibframe/>\n",
    "    PREFIX madsrdf: <http://www.loc.gov/mads/rdf/v1#>\n",
    "    PREFIX bflc: <http://id.loc.gov/ontologies/bflc/>  \n",
    "    PREFIX menclvl: <http://id.loc.gov/vocabulary/menclvl/>\n",
    "    PREFIX mstatus: <http://id.loc.gov/vocabulary/mstatus/>\n",
    "    PREFIX contentTypes: <http://id.loc.gov/vocabulary/contentTypes/>\n",
    "    PREFIX relators: <http://id.loc.gov/vocabulary/relators/>\n",
    "    PREFIX genreForms: <http://id.loc.gov/authorities/genreForms/>\n",
    "    PREFIX msupplcont: <http://id.loc.gov/vocabulary/msupplcont/>\n",
    "    PREFIX millus: <http://id.loc.gov/vocabulary/millus/>    \n",
    "    \"\"\"\n",
    "\n",
    "def MakeGraphItems(item, itemOf):\n",
    "    graph = f\"\"\"{prefix}    \n",
    "    INSERT DATA {{\n",
    "        GRAPH <https://bibliokeia.com/resources/item/{item.barcode}>\n",
    "        {{\n",
    "        <https://bibliokeia.com/resources/item/{item.barcode}> a bf:Item ;\n",
    "        bf:adminMetadata [ a bf:AdminMetadata ;\n",
    "            bflc:encodingLevel {item.adminMetadata.encodingLevel} ;\n",
    "            bf:assigner <{item.adminMetadata.assigner}> ;\n",
    "            bf:creationDate \"{item.adminMetadata.creationDate}\"^^xsd:date ;  \n",
    "            bf:descriptionConventions <{item.adminMetadata.descriptionConventions}> ;\n",
    "            bf:descriptionLanguage <{item.adminMetadata.descriptionLanguage}> ;\n",
    "            bf:generationProcess [ a bf:GenerationProcess ;\n",
    "                    rdfs:label \"{item.adminMetadata.generationProcess}\" ;\n",
    "                    bf:generationDate \"{item.adminMetadata.generationDate}\"^^xsd:dateTime ] ;\n",
    "            bf:identifiedBy [ a bf:Local ;\n",
    "                    bf:assigner <{item.adminMetadata.assigner}> ;\n",
    "                    rdf:value \"{item.barcode}\" ] ;\n",
    "            bf:status {item.adminMetadata.status.value} ] ;   \n",
    "        bf:heldBy <{item.adminMetadata.assigner}> ;\n",
    "        bf:itemOf <{itemOf}> ;\n",
    "        bf:shelfMark [ a bf:ShelfMarkDdc ;\n",
    "            rdfs:label \"{item.call}\" ;\n",
    "            bf:assigner <{item.adminMetadata.assigner}> ] ;\n",
    "        bf:sublocation [ a bf:Sublocation ;\n",
    "            rdfs:label \"{item.call}\" ] ;   \n",
    "        }} }}\n",
    "        \"\"\"\n",
    "    return graph"
   ]
  },
  {
   "cell_type": "code",
   "execution_count": 53,
   "metadata": {},
   "outputs": [],
   "source": [
    "collectionUpdate = FusekiUpdate('http://localhost:3030', 'collection')"
   ]
  },
  {
   "cell_type": "code",
   "execution_count": 54,
   "metadata": {},
   "outputs": [
    {
     "data": {
      "text/plain": [
       "{'statusCode': 200, 'message': 'Update succeeded'}"
      ]
     },
     "execution_count": 54,
     "metadata": {},
     "output_type": "execute_result"
    }
   ],
   "source": [
    "item = request.items[0]\n",
    "graph = MakeGraphItems(item, \"https://bibliokeia.com/resources/instance/bkc-2\")\n",
    "\n",
    "responseDelete = collectionUpdate.run_sparql(graph)\n",
    "responseDelete.convert()\n"
   ]
  },
  {
   "cell_type": "code",
   "execution_count": 56,
   "metadata": {},
   "outputs": [
    {
     "data": {
      "text/plain": [
       "'https://bibliokeia.com/resources/instance/bkc-2'"
      ]
     },
     "execution_count": 56,
     "metadata": {},
     "output_type": "execute_result"
    }
   ],
   "source": [
    "request.itemOf"
   ]
  },
  {
   "cell_type": "code",
   "execution_count": 57,
   "metadata": {},
   "outputs": [
    {
     "data": {
      "text/plain": [
       "{'statusCode': 200, 'message': 'Update succeeded'}"
      ]
     },
     "execution_count": 57,
     "metadata": {},
     "output_type": "execute_result"
    }
   ],
   "source": [
    "upInstance = f\"\"\"PREFIX bf: <http://id.loc.gov/ontologies/bibframe/>\n",
    "        INSERT DATA\n",
    "        {{ GRAPH <{request.itemOf}> {{ <{request.itemOf}>  bf:hasItem  <https://bibliokeia.com/resources/item/23-8486> }} }}\"\"\"\n",
    "\n",
    "responseDelete = collectionUpdate.run_sparql(upInstance)\n",
    "responseDelete.convert()"
   ]
  },
  {
   "cell_type": "code",
   "execution_count": 58,
   "metadata": {},
   "outputs": [],
   "source": [
    "from pysolr import Solr"
   ]
  },
  {
   "cell_type": "code",
   "execution_count": 77,
   "metadata": {},
   "outputs": [],
   "source": [
    "solr = Solr('http://localhost:8983/solr/acervo/', timeout=10)"
   ]
  },
  {
   "cell_type": "code",
   "execution_count": 67,
   "metadata": {},
   "outputs": [],
   "source": [
    "item = request.items[0]"
   ]
  },
  {
   "cell_type": "code",
   "execution_count": 80,
   "metadata": {},
   "outputs": [
    {
     "data": {
      "text/plain": [
       "'{\\n  \"responseHeader\":{\\n    \"status\":0,\\n    \"QTime\":147}}\\n'"
      ]
     },
     "execution_count": 80,
     "metadata": {},
     "output_type": "execute_result"
    }
   ],
   "source": [
    "instanceID = request.itemOf.uri.split(\"/\")[-1]\n",
    "doc = {\n",
    "        \"id\": \"1\",\n",
    "        \"type\": \"Item\",\n",
    "        \"heldBy\": \"Biblioteca do INPA\",\n",
    "        \"call\": item.call,\n",
    "        \"shelf\": item.shelf, \n",
    "        \"barcode\": item.barcode,\n",
    "        \"itemOf\": {'id': f\"1/itemOf/{instanceID}\",\n",
    "                   'mainTitle': request.itemOf.label,\n",
    "                   'uri': request.itemOf.uri}\n",
    "        }\n",
    "solr.add([doc], commit=True)"
   ]
  },
  {
   "cell_type": "code",
   "execution_count": null,
   "metadata": {},
   "outputs": [],
   "source": [
    "{\n",
    "  \"id\": \"P11!S21\",\n",
    "  \"_root_\": \"P11!prod\",\n",
    "  \"manuals\": { \"add\": { \"id\": \"P11!D99\",\n",
    "                        \"name_s\": \"Why Red Staplers Are the Best\",\n",
    "                        \"content_t\": \"Once upon a time, Mike Judge ...\",\n",
    "                      } }\n",
    "} "
   ]
  },
  {
   "cell_type": "code",
   "execution_count": 82,
   "metadata": {},
   "outputs": [
    {
     "data": {
      "text/plain": [
       "'{\\n  \"responseHeader\":{\\n    \"status\":0,\\n    \"QTime\":106}}\\n'"
      ]
     },
     "execution_count": 82,
     "metadata": {},
     "output_type": "execute_result"
    }
   ],
   "source": [
    "instance = {\n",
    "    'id': 'bkc-2',\n",
    "    'hasItem': {  \"add\": { 'id': f\"bkc-2/hasItem/i\",\n",
    "                          'uri': \"url\",\n",
    "                          'barcode': \"barcode\"    }\n",
    "    }\n",
    "}\n",
    "solr.add([instance], commit=True)"
   ]
  },
  {
   "cell_type": "code",
   "execution_count": 85,
   "metadata": {},
   "outputs": [
    {
     "data": {
      "text/plain": [
       "Item(adminMetadata=AdminMetadata(encodingLevel='menclvl:f', assigner='http://id.loc.gov/vocabulary/organizations/brmninpa', creationDate='2023-06-27', descriptionConventions='http://id.loc.gov/vocabulary/descriptionConventions/isbd', descriptionModifier='http://id.loc.gov/vocabulary/organizations/brmninpa', descriptionLanguage='http://id.loc.gov/vocabulary/languages/por', generationProcess='BiblioKeia v.1', generationDate=datetime.datetime(2023, 6, 27, 16, 0, 52, 826753), identifiedBy=[IdentifiedBy(type='Local', assigner='http://id.loc.gov/vocabulary/organizations/brmninpa', value='23-8486')], status=Status(value='mstatus:new', label='novo')), call='582.56 O48p 2023', shelf='E11-P05', barcode='23-8486')"
      ]
     },
     "execution_count": 85,
     "metadata": {},
     "output_type": "execute_result"
    }
   ],
   "source": [
    "request.items[0]"
   ]
  }
 ],
 "metadata": {
  "kernelspec": {
   "display_name": "venv",
   "language": "python",
   "name": "python3"
  },
  "language_info": {
   "codemirror_mode": {
    "name": "ipython",
    "version": 3
   },
   "file_extension": ".py",
   "mimetype": "text/x-python",
   "name": "python",
   "nbconvert_exporter": "python",
   "pygments_lexer": "ipython3",
   "version": "3.10.4"
  },
  "orig_nbformat": 4
 },
 "nbformat": 4,
 "nbformat_minor": 2
}
