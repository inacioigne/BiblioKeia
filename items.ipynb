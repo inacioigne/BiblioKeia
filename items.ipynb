{
 "cells": [
  {
   "cell_type": "code",
   "execution_count": 45,
   "metadata": {},
   "outputs": [],
   "source": [
    "from pydantic import BaseModel, Field, field_validator  \n",
    "from typing import List\n",
    "from api.src.schemas.metadata.bibframe.adminMetadata import AdminMetadata\n",
    "from api.src.schemas.metadata.bibframe.element import Element\n",
    "\n",
    "class Item(BaseModel):\n",
    "    adminMetadata: AdminMetadata\n",
    "    cdd: str\n",
    "    cutter: str\n",
    "    year: str\n",
    "    shelf: str\n",
    "    barcode: str\n",
    "\n",
    "class Items_Schema(BaseModel):\n",
    "  itemOf: Element\n",
    "  items: List[Item]"
   ]
  },
  {
   "cell_type": "code",
   "execution_count": 65,
   "metadata": {},
   "outputs": [],
   "source": [
    "import pysolr \n",
    "\n",
    "#SOLR\n",
    "solr = pysolr.Solr('http://localhost:8983/solr/collection/', timeout=10)"
   ]
  },
  {
   "cell_type": "code",
   "execution_count": 43,
   "metadata": {},
   "outputs": [],
   "source": [
    "from datetime import datetime"
   ]
  },
  {
   "cell_type": "code",
   "execution_count": 44,
   "metadata": {},
   "outputs": [
    {
     "data": {
      "text/plain": [
       "datetime.datetime(2023, 7, 24, 14, 33, 44, 793986)"
      ]
     },
     "execution_count": 44,
     "metadata": {},
     "output_type": "execute_result"
    }
   ],
   "source": [
    "datetime.now()"
   ]
  },
  {
   "cell_type": "code",
   "execution_count": 27,
   "metadata": {},
   "outputs": [
    {
     "data": {
      "text/plain": [
       "datetime.datetime(2023, 7, 24, 14, 7, 43, 747808)"
      ]
     },
     "execution_count": 27,
     "metadata": {},
     "output_type": "execute_result"
    }
   ],
   "source": [
    "class AdminMetadata(BaseModel):\n",
    "    encodingLevel: str = Field(default=\"menclvl:f\")\n",
    "    assigner: str = Field(default=\"http://id.loc.gov/vocabulary/organizations/brmninpa\")\n",
    "    # creationDate: date = Field(default=date.today())\n",
    "    descriptionConventions: str = Field(default=\"http://id.loc.gov/vocabulary/descriptionConventions/isbd\")\n",
    "    descriptionModifier: str = Field(default=\"http://id.loc.gov/vocabulary/organizations/brmninpa\")\n",
    "    descriptionLanguage: str = Field(default=\"http://id.loc.gov/vocabulary/languages/por\")\n",
    "    generationProcess: str = Field(default=\"BiblioKeia v.1\")\n",
    "    generationDate: datetime = Field(default=datetime.now())\n",
    "    # identifiedBy: list[IdentifiedBy] \n",
    "    # status: Status = Field(default=Status(value=\"mstatus:new\", label=\"novo\"))\n",
    "\n",
    "    # @validator('generationDate', pre=True, always=True)\n",
    "    # def set_date_today(cls, v):\n",
    "    #     # today = date.today().strftime(\"%Y-%m-%d\")\n",
    "        \n",
    "    #     return datetime.now()\n",
    "\n",
    "    # @field_validator('generationDate')\n",
    "    # def val_x(cls, v: datetime) -> datetime:\n",
    "    #     return datetime.now()\n",
    "    \n",
    "adm = {\n",
    "        \"generationProcess\": \"BiblioKeia v.1\",\n",
    "        \"status\": {\n",
    "          \"label\": \"novo\",\n",
    "          \"value\": \"mstatus:new\"\n",
    "        }}\n",
    "adm = AdminMetadata(**adm)\n",
    "adm.generationDate"
   ]
  },
  {
   "cell_type": "code",
   "execution_count": 63,
   "metadata": {},
   "outputs": [
    {
     "name": "stdout",
     "output_type": "stream",
     "text": [
      "2023-07-24 14:40:57.281608\n"
     ]
    }
   ],
   "source": [
    "obj = {\n",
    "  \"itemOf\": {\n",
    "    \"label\": \"Physiological plant ecology\",\n",
    "    \"lang\": \"pt-BR\",\n",
    "    \"uri\": \"https://bibliokeia.com/resources/instance/bkc-2\",\n",
    "    \"type\": [\n",
    "      \"Instance\"\n",
    "    ]\n",
    "  },\n",
    "  \"items\": [\n",
    "    {\n",
    "      \"adminMetadata\": {\n",
    "        \"generationProcess\": \"BiblioKeia v.1\",\n",
    "        \"status\": {\n",
    "          \"label\": \"novo\",\n",
    "          \"value\": \"mstatus:new\"\n",
    "        }\n",
    "      },\n",
    "      \"cdd\": \"546.5\",\n",
    "      \"cutter\": \"O48a\",\n",
    "      \"year\": \"2023\",\n",
    "      \"shelf\": \"E1-P1\",\n",
    "      \"barcode\": \"23-0002\"\n",
    "    }\n",
    "  ]\n",
    "}\n",
    "\n",
    "request = Items_Schema(**obj)\n",
    "for item in request.items: \n",
    "    item.adminMetadata.generationDate = datetime.now()\n",
    "    print(item.adminMetadata.generationDate)"
   ]
  },
  {
   "cell_type": "code",
   "execution_count": 39,
   "metadata": {},
   "outputs": [
    {
     "name": "stdout",
     "output_type": "stream",
     "text": [
      "2023-07-24 13:45:50.098303\n"
     ]
    }
   ],
   "source": [
    "for item in request.items: \n",
    "    print(item.adminMetadata.generationDate)"
   ]
  },
  {
   "cell_type": "code",
   "execution_count": 35,
   "metadata": {},
   "outputs": [
    {
     "data": {
      "text/plain": [
       "datetime.datetime(2023, 7, 24, 13, 45, 50, 98303)"
      ]
     },
     "execution_count": 35,
     "metadata": {},
     "output_type": "execute_result"
    }
   ],
   "source": [
    "request.items[0].adminMetadata.generationDate"
   ]
  },
  {
   "cell_type": "code",
   "execution_count": 37,
   "metadata": {},
   "outputs": [
    {
     "data": {
      "text/plain": [
       "datetime.datetime(2023, 7, 24, 13, 45, 50, 98303)"
      ]
     },
     "execution_count": 37,
     "metadata": {},
     "output_type": "execute_result"
    }
   ],
   "source": [
    "x = Items_Schema(**obj)\n",
    "x.items[0].adminMetadata.generationDate"
   ]
  },
  {
   "cell_type": "code",
   "execution_count": 3,
   "metadata": {},
   "outputs": [],
   "source": [
    "from pyfuseki import FusekiQuery\n",
    "\n",
    "from api.src.schemas.settings import Settings\n",
    "\n",
    "settings = Settings()\n",
    "\n",
    "def GenerateId():\n",
    "\n",
    "    collection = FusekiQuery(f'{settings.url}:3030', 'collection')\n",
    "\n",
    "    sparql = \"\"\"PREFIX bf: <http://id.loc.gov/ontologies/bibframe/>\n",
    "            SELECT ?g\n",
    "            {graph ?g {?s bf:generationDate ?o}} \n",
    "            ORDER BY DESC(?o)\n",
    "            LIMIT 1\"\"\"\n",
    "    \n",
    "    response = collection.run_sparql(sparql)\n",
    "    response = response.convert()\n",
    "    bindings = response['results']['bindings']\n",
    "\n",
    "    if len(bindings) == 0:\n",
    "        return { 'id': \"bkc-1\" }\n",
    "    else:\n",
    "        value = bindings[0]['g']['value']\n",
    "        bk = int(value.split(\"-\")[1]) + 1\n",
    "        return { 'id': \"bkc-\"+str(bk) } "
   ]
  },
  {
   "cell_type": "code",
   "execution_count": 20,
   "metadata": {},
   "outputs": [
    {
     "data": {
      "text/plain": [
       "'bkc-4'"
      ]
     },
     "execution_count": 20,
     "metadata": {},
     "output_type": "execute_result"
    }
   ],
   "source": [
    "response = GenerateId()\n",
    "id = response['id']\n",
    "id"
   ]
  },
  {
   "cell_type": "code",
   "execution_count": null,
   "metadata": {},
   "outputs": [],
   "source": []
  },
  {
   "cell_type": "code",
   "execution_count": 10,
   "metadata": {},
   "outputs": [
    {
     "name": "stdout",
     "output_type": "stream",
     "text": [
      "<SPARQLWrapper.Wrapper.QueryResult object at 0x000001EC00669D10>\n",
      "{\"requestedFormat\" : 'json',\n",
      "\"response (a file-like object, as return by the urllib2.urlopen library call)\" : {\n",
      "\t\"url\" : \"http://localhost:3030/collection/update\",\n",
      "\t\"code\" : \"200\",\n",
      "\t\"headers\" : Date: Tue, 18 Jul 2023 19:57:20 GMT\n",
      "Connection: close\n",
      "Fuseki-Request-Id: 168\n",
      "Content-Type: application/json;charset=utf-8\n",
      "Vary: Accept-Encoding\n",
      "\n",
      "}}\n"
     ]
    }
   ],
   "source": [
    "from api.src.function.bibframe.Item.graphItem import MakeGraphItems\n",
    "from pyfuseki import FusekiUpdate\n",
    "\n",
    "collection = FusekiUpdate(f'{settings.url}:3030', 'collection')\n",
    "\n",
    "\n",
    "for item in request.items: \n",
    "    response = GenerateId()\n",
    "    id = response['id']\n",
    "    graph = MakeGraphItems(item, request.itemOf, id)\n",
    "    responseItem = collection.run_sparql(graph)\n",
    "    print(responseItem)"
   ]
  },
  {
   "cell_type": "code",
   "execution_count": 11,
   "metadata": {},
   "outputs": [
    {
     "data": {
      "text/plain": [
       "'PREFIX bf: <http://id.loc.gov/ontologies/bibframe/>\\n        INSERT DATA\\n        { GRAPH <https://bibliokeia.com/resources/instance/bkc-2> \\n        { <https://bibliokeia.com/resources/instance/bkc-2>  bf:hasItem  <https://bibliokeia.com/resources/item/bkc-3> } }'"
      ]
     },
     "execution_count": 11,
     "metadata": {},
     "output_type": "execute_result"
    }
   ],
   "source": [
    "from api.src.function.bibframe.Instance.hasItem import HasItem\n",
    "\n",
    "\n",
    "upInstance = HasItem(request.itemOf.uri, id)\n",
    "upInstance"
   ]
  },
  {
   "cell_type": "code",
   "execution_count": 13,
   "metadata": {},
   "outputs": [
    {
     "data": {
      "text/plain": [
       "<SPARQLWrapper.Wrapper.QueryResult at 0x1ec028a28d0>"
      ]
     },
     "execution_count": 13,
     "metadata": {},
     "output_type": "execute_result"
    }
   ],
   "source": [
    "responseInstance = collection.run_sparql(upInstance)\n",
    "responseInstance"
   ]
  },
  {
   "cell_type": "code",
   "execution_count": null,
   "metadata": {},
   "outputs": [],
   "source": [
    "from api.src.function.solr.docItem import DocItem\n",
    "\n",
    "\n",
    "DocItem(item, request.itemOf, id)"
   ]
  },
  {
   "cell_type": "code",
   "execution_count": 53,
   "metadata": {},
   "outputs": [],
   "source": [
    "collectionUpdate = FusekiUpdate('http://localhost:3030', 'collection')"
   ]
  },
  {
   "cell_type": "code",
   "execution_count": 54,
   "metadata": {},
   "outputs": [
    {
     "data": {
      "text/plain": [
       "{'statusCode': 200, 'message': 'Update succeeded'}"
      ]
     },
     "execution_count": 54,
     "metadata": {},
     "output_type": "execute_result"
    }
   ],
   "source": [
    "item = request.items[0]\n",
    "graph = MakeGraphItems(item, \"https://bibliokeia.com/resources/instance/bkc-2\")\n",
    "\n",
    "responseDelete = collectionUpdate.run_sparql(graph)\n",
    "responseDelete.convert()\n"
   ]
  },
  {
   "cell_type": "code",
   "execution_count": 14,
   "metadata": {},
   "outputs": [],
   "source": [
    "\n",
    "\n",
    "def DocItem(item, itemOf, id):\n",
    "\n",
    "    instanceID = itemOf.uri.split(\"/\")[-1]\n",
    "\n",
    "    doc = {\n",
    "        \"id\": id,\n",
    "        \"type\": \"Item\",\n",
    "        \"heldBy\": \"Biblioteca do INPA\",\n",
    "        \"cdd\": item.cdd,\n",
    "        \"cutter\": item.cutter,\n",
    "        \"year\": item.year,\n",
    "        \"shelf\": item.shelf, \n",
    "        \"barcode\": item.barcode,\n",
    "        \"itemOf\": {'id': f\"{id}/itemOf/{instanceID}\",\n",
    "                   'mainTitle': itemOf.label,\n",
    "                   'uri': itemOf.uri}\n",
    "        }\n",
    "    \n",
    "    instance = {\n",
    "    'id': instanceID,\n",
    "    'hasItem': {  \"add\": { 'id': f\"{instanceID}/hasItem/{id}\",\n",
    "                          'uri': f\"https://bibliokeia.com/resources/item/{id}\",\n",
    "                          'barcode': item.barcode }\n",
    "    } }\n",
    "\n",
    "    responseSolr = solr.add([doc, instance], commit=True)\n",
    "    return responseSolr"
   ]
  },
  {
   "cell_type": "code",
   "execution_count": 16,
   "metadata": {},
   "outputs": [
    {
     "data": {
      "text/plain": [
       "'{\\n  \"responseHeader\":{\\n    \"status\":0,\\n    \"QTime\":287}}\\n'"
      ]
     },
     "execution_count": 16,
     "metadata": {},
     "output_type": "execute_result"
    }
   ],
   "source": [
    "responseSolr = DocItem(item, request.itemOf, id)\n",
    "responseSolr"
   ]
  },
  {
   "cell_type": "code",
   "execution_count": null,
   "metadata": {},
   "outputs": [],
   "source": [
    "{\n",
    "  \"id\": \"P11!S21\",\n",
    "  \"_root_\": \"P11!prod\",\n",
    "  \"manuals\": { \"add\": { \"id\": \"P11!D99\",\n",
    "                        \"name_s\": \"Why Red Staplers Are the Best\",\n",
    "                        \"content_t\": \"Once upon a time, Mike Judge ...\",\n",
    "                      } }\n",
    "} "
   ]
  },
  {
   "cell_type": "code",
   "execution_count": 82,
   "metadata": {},
   "outputs": [
    {
     "data": {
      "text/plain": [
       "'{\\n  \"responseHeader\":{\\n    \"status\":0,\\n    \"QTime\":106}}\\n'"
      ]
     },
     "execution_count": 82,
     "metadata": {},
     "output_type": "execute_result"
    }
   ],
   "source": [
    "instance = {\n",
    "    'id': 'bkc-2',\n",
    "    'hasItem': {  \"add\": { 'id': f\"bkc-2/hasItem/i\",\n",
    "                          'uri': \"url\",\n",
    "                          'barcode': \"barcode\"    }\n",
    "    }\n",
    "}\n",
    "solr.add([instance], commit=True)"
   ]
  },
  {
   "cell_type": "code",
   "execution_count": 70,
   "metadata": {},
   "outputs": [],
   "source": [
    "r = solr.search(q=\"id:bkc-7\", fl=\"*,[child]\")\n",
    "[doc] = r.docs"
   ]
  },
  {
   "cell_type": "code",
   "execution_count": 74,
   "metadata": {},
   "outputs": [],
   "source": [
    "itemOf = doc['itemOf']['id']"
   ]
  },
  {
   "cell_type": "code",
   "execution_count": 75,
   "metadata": {},
   "outputs": [
    {
     "data": {
      "text/plain": [
       "'<?xml version=\"1.0\" encoding=\"UTF-8\"?>\\n<response>\\n\\n<lst name=\"responseHeader\">\\n  <int name=\"status\">0</int>\\n  <int name=\"QTime\">142</int>\\n</lst>\\n</response>\\n'"
      ]
     },
     "execution_count": 75,
     "metadata": {},
     "output_type": "execute_result"
    }
   ],
   "source": [
    "x = solr.delete(id=['bkc-7', itemOf], commit=True)\n",
    "x"
   ]
  }
 ],
 "metadata": {
  "kernelspec": {
   "display_name": "venv",
   "language": "python",
   "name": "python3"
  },
  "language_info": {
   "codemirror_mode": {
    "name": "ipython",
    "version": 3
   },
   "file_extension": ".py",
   "mimetype": "text/x-python",
   "name": "python",
   "nbconvert_exporter": "python",
   "pygments_lexer": "ipython3",
   "version": "3.11.4"
  },
  "orig_nbformat": 4
 },
 "nbformat": 4,
 "nbformat_minor": 2
}
