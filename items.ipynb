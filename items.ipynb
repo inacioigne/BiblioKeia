{
 "cells": [
  {
   "cell_type": "code",
   "execution_count": 1,
   "metadata": {},
   "outputs": [],
   "source": [
    "import pysolr \n",
    "\n",
    "#SOLR\n",
    "solr = pysolr.Solr('http://localhost:8983/solr/collection/', timeout=10)"
   ]
  },
  {
   "cell_type": "code",
   "execution_count": 3,
   "metadata": {},
   "outputs": [
    {
     "data": {
      "text/plain": [
       "{'id': 'bkc-6',\n",
       " 'type': ['Item'],\n",
       " 'heldBy': ['Biblioteca do INPA'],\n",
       " 'cdd': [546.5],\n",
       " 'cutter': ['O48a'],\n",
       " 'year': [2023],\n",
       " 'shelf': ['E1-P1'],\n",
       " 'barcode': ['23-0004'],\n",
       " '_version_': 1772331636282621952,\n",
       " 'itemOf': {'id': 'bkc-6/itemOf/bkc-2',\n",
       "  'mainTitle': ['Physiological plant ecology'],\n",
       "  'uri': ['https://bibliokeia.com/resources/instance/bkc-2'],\n",
       "  '_version_': 1772331636282621952}}"
      ]
     },
     "execution_count": 3,
     "metadata": {},
     "output_type": "execute_result"
    }
   ],
   "source": [
    "r = solr.search(q=\"id:bkc-6\", fl=\"*,[child]\")\n",
    "[doc] = r.docs\n",
    "doc"
   ]
  },
  {
   "cell_type": "code",
   "execution_count": 4,
   "metadata": {},
   "outputs": [
    {
     "data": {
      "text/plain": [
       "'bkc-6/itemOf/bkc-2'"
      ]
     },
     "execution_count": 4,
     "metadata": {},
     "output_type": "execute_result"
    }
   ],
   "source": [
    "itemOf = doc['itemOf']['id']\n",
    "itemOf"
   ]
  },
  {
   "cell_type": "code",
   "execution_count": 10,
   "metadata": {},
   "outputs": [
    {
     "data": {
      "text/plain": [
       "'<?xml version=\"1.0\" encoding=\"UTF-8\"?>\\n<response>\\n\\n<lst name=\"responseHeader\">\\n  <int name=\"status\">0</int>\\n  <int name=\"QTime\">1</int>\\n</lst>\\n</response>\\n'"
      ]
     },
     "execution_count": 10,
     "metadata": {},
     "output_type": "execute_result"
    }
   ],
   "source": [
    "solr.delete(id='bkc-2/hasItem/bkc-6')"
   ]
  },
  {
   "cell_type": "code",
   "execution_count": 6,
   "metadata": {},
   "outputs": [
    {
     "data": {
      "text/plain": [
       "'<?xml version=\"1.0\" encoding=\"UTF-8\"?>\\n<response>\\n\\n<lst name=\"responseHeader\">\\n  <int name=\"status\">0</int>\\n  <int name=\"QTime\">65</int>\\n</lst>\\n</response>\\n'"
      ]
     },
     "execution_count": 6,
     "metadata": {},
     "output_type": "execute_result"
    }
   ],
   "source": [
    "x = solr.delete(id=['bkc-6', \"bkc-2/hasItem/bkc-6\", itemOf], commit=True)\n",
    "\n",
    "x"
   ]
  }
 ],
 "metadata": {
  "kernelspec": {
   "display_name": "venv",
   "language": "python",
   "name": "python3"
  },
  "language_info": {
   "codemirror_mode": {
    "name": "ipython",
    "version": 3
   },
   "file_extension": ".py",
   "mimetype": "text/x-python",
   "name": "python",
   "nbconvert_exporter": "python",
   "pygments_lexer": "ipython3",
   "version": "3.11.4"
  },
  "orig_nbformat": 4
 },
 "nbformat": 4,
 "nbformat_minor": 2
}
