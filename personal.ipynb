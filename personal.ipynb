{
 "cells": [
  {
   "cell_type": "code",
   "execution_count": 6,
   "metadata": {},
   "outputs": [],
   "source": [
    "from pyfuseki import FusekiUpdate, FusekiQuery\n",
    "import httpx\n",
    "import json\n",
    "from rdflib import Graph\n",
    "from pysolr import Solr\n",
    "from api.src.schemas.authorities.personalName import PersonalName\n",
    "from api.src.function.authorities.personalName.create_graph import MakePersonalGraph\n",
    "from api.src.schemas.authorities.mads import Authority, EditVariant\n",
    "from api.src.function.authorities.personalName.editPersonalName import EditAuthorityPersonalName\n",
    "from api.src.function.authorities.personalName.variantPersonalName import editVariantPersonalName, addVariantPersonalName\n",
    "from api.src.function.authorities.edit_uri import DelMads, PostMads\n",
    "from api.src.function.authorities.personalName.editPersonalName import EditAuthorityPersonalName, EditFullerName, DeleteFullerName, PostFullerName\n",
    "from SPARQLWrapper import SPARQLWrapper, JSON\n",
    "from rdflib.plugins.sparql import prepareQuery\n",
    "from urllib.error import HTTPError\n",
    "from api.src.function.authorities.personalName.docPersonalName import MakeDocPersonalName\n",
    "from api.src.schemas.authorities.mads import Uri"
   ]
  },
  {
   "cell_type": "code",
   "execution_count": 7,
   "metadata": {},
   "outputs": [
    {
     "data": {
      "text/plain": [
       "Uri(id='n80002329', uri='http://id.worldcat.org/fast/48407', mads='hasCloseExternalAuthority', collection='name')"
      ]
     },
     "execution_count": 7,
     "metadata": {},
     "output_type": "execute_result"
    }
   ],
   "source": [
    "obj = {\n",
    "  \"id\": \"n80002329\",\n",
    "  \"uri\": \"http://id.worldcat.org/fast/48407\",\n",
    "  \"mads\": \"hasCloseExternalAuthority\",\n",
    "  \"collection\": \"name\"\n",
    "}\n",
    "request = Uri(**obj)\n",
    "request"
   ]
  },
  {
   "cell_type": "code",
   "execution_count": 8,
   "metadata": {},
   "outputs": [
    {
     "data": {
      "text/plain": [
       "'48407'"
      ]
     },
     "execution_count": 8,
     "metadata": {},
     "output_type": "execute_result"
    }
   ],
   "source": [
    "child = request.uri.split(\"/\")[-1]\n",
    "child"
   ]
  },
  {
   "cell_type": "code",
   "execution_count": 2,
   "metadata": {},
   "outputs": [
    {
     "data": {
      "text/plain": [
       "PersonalName(recordChangeDate='2023-04-13T15:29:52', id='n80002329', label='Machado de Assis', date='1839-1908', birthDate='1839-06-21', birthPlace='Rio de Janeiro (Brazil)', deathDate='1908-09-29', fullerName='Joaquim Maria Machado', hasCloseExternalAuthority=['http://id.worldcat.org/fast/48407', 'http://www.wikidata.org/entity/Q311145'], hasExactExternalAuthority=['http://viaf.org/viaf/sourceID/LC%7Cn++80002329#skos:Concept'], hasVariant=[Authority(value='Machado de Assis, Joaquín María', lang=None, date='1839-1908', type='PersonalName'), Authority(value='Mashado de Assiz, Zhoakin', lang=None, date='1839-1908', type='PersonalName'), Authority(value='Assis, Machado de', lang=None, date='1839-1908', type='PersonalName')], hasAffiliation=[Affiliation(organization='http://id.loc.gov/authorities/names/n82059239', affiliationStart='1897', affiliationEnd='1908')], occupation=['http://id.loc.gov/authorities/subjects/sh85034154', 'http://id.loc.gov/authorities/subjects/sh85092863'], contributorTo=None, subjectOf=None, type='PersonalName')"
      ]
     },
     "execution_count": 2,
     "metadata": {},
     "output_type": "execute_result"
    }
   ],
   "source": [
    "obj = {\n",
    "  \"id\": \"n80002329\",\n",
    "  \"label\": \"Machado de Assis\",\n",
    "  \"date\": \"1839-1908\",\n",
    "  \"birthDate\": \"1839-06-21\",\n",
    "  \"birthPlace\": \"Rio de Janeiro (Brazil)\",\n",
    "  \"deathDate\": \"1908-09-29\",\n",
    "  \"fullerName\": \"Joaquim Maria Machado\",\n",
    "  \"hasCloseExternalAuthority\": [\"http://id.worldcat.org/fast/48407\", \"http://www.wikidata.org/entity/Q311145\"],\n",
    "  \"hasExactExternalAuthority\": [\"http://viaf.org/viaf/sourceID/LC%7Cn++80002329#skos:Concept\"],\n",
    "  \"hasVariant\": [\n",
    "    {\n",
    "      \"value\": \"Machado de Assis, Joaquín María\",\n",
    "      \"type\": \"PersonalName\",\n",
    "      \"date\": \"1839-1908\"\n",
    "    },\n",
    "    {\n",
    "      \"value\": \"Mashado de Assiz, Zhoakin\",\n",
    "      \"type\": \"PersonalName\",\n",
    "      \"date\": \"1839-1908\"\n",
    "    },\n",
    "    {\n",
    "      \"value\": \"Assis, Machado de\",\n",
    "      \"type\": \"PersonalName\",\n",
    "      \"date\": \"1839-1908\"\n",
    "    }\n",
    "  ],\n",
    "  \"hasAffiliation\": [\n",
    "    {\n",
    "    \"organization\": \"http://id.loc.gov/authorities/names/n82059239\",\n",
    "    \"affiliationStart\": \"1897\",\n",
    "    \"affiliationEnd\": \"1908\"\n",
    "    }\n",
    "  ],\n",
    "  \"occupation\": [\n",
    "    \"http://id.loc.gov/authorities/subjects/sh85034154\",\n",
    "    \"http://id.loc.gov/authorities/subjects/sh85092863\"\n",
    "  ]\n",
    "}\n",
    "\n",
    "request = PersonalName(**obj)\n",
    "request"
   ]
  },
  {
   "cell_type": "code",
   "execution_count": 3,
   "metadata": {},
   "outputs": [
    {
     "data": {
      "text/plain": [
       "{'recordChangeDate': '2023-04-13T15:29:52',\n",
       " 'id': 'n80002329',\n",
       " 'label': 'Machado de Assis',\n",
       " 'date': '1839-1908',\n",
       " 'birthDate': '1839-06-21',\n",
       " 'birthPlace': 'Rio de Janeiro (Brazil)',\n",
       " 'deathDate': '1908-09-29',\n",
       " 'fullerName': 'Joaquim Maria Machado',\n",
       " 'hasCloseExternalAuthority': [{'id': 'n80002329!48407',\n",
       "   'collection': 'worldcat',\n",
       "   'label': 'Machado de Assis, 1839-1908',\n",
       "   'uri': 'http://id.worldcat.org/fast/48407'},\n",
       "  {'id': 'n80002329!Q311145',\n",
       "   'collection': 'wikidata',\n",
       "   'label': 'Machado de Assis',\n",
       "   'uri': 'http://www.wikidata.org/entity/Q311145',\n",
       "   'image': 'http://commons.wikimedia.org/wiki/Special:FilePath/Machado_de_Assis_aos_57_anos.jpg'}],\n",
       " 'hasExactExternalAuthority': ['http://viaf.org/viaf/sourceID/LC%7Cn++80002329#skos:Concept'],\n",
       " 'hasVariant': ['Machado de Assis, Joaquín María',\n",
       "  'Mashado de Assiz, Zhoakin',\n",
       "  'Assis, Machado de'],\n",
       " 'hasAffiliation': [{'id': 'n80002329!n82059239',\n",
       "   'uri': 'http://id.loc.gov/authorities/names/n82059239',\n",
       "   'label': 'Academia Brasileira de Letras',\n",
       "   'start': '1897',\n",
       "   'end': '1908'}],\n",
       " 'occupation': [{'id': 'n80002329!sh85034154',\n",
       "   'uri': 'http://id.loc.gov/authorities/subjects/sh85034154',\n",
       "   'label': 'Critics'},\n",
       "  {'id': 'n80002329!sh85092863',\n",
       "   'uri': 'http://id.loc.gov/authorities/subjects/sh85092863',\n",
       "   'label': 'Novelists'}],\n",
       " 'contributorTo': None,\n",
       " 'subjectOf': None,\n",
       " 'type': 'PersonalName',\n",
       " 'uri': 'https://bibliokeia.com/authorities/name/n80002329'}"
      ]
     },
     "execution_count": 3,
     "metadata": {},
     "output_type": "execute_result"
    }
   ],
   "source": [
    "doc = MakeDocPersonalName(request)\n",
    "doc"
   ]
  },
  {
   "cell_type": "code",
   "execution_count": null,
   "metadata": {},
   "outputs": [],
   "source": [
    "uri = {'id': 'n80002329!48407',\n",
    "   'collection': 'worldcat',\n",
    "   'label': 'Machado de Assis, 1839-1908',\n",
    "   'uri': 'http://id.worldcat.org/fast/48407'}\n",
    "\n",
    "doc = {'id': request.id,\n",
    "        f'{request.mads}': {\"add\": uri}  }"
   ]
  },
  {
   "cell_type": "code",
   "execution_count": 10,
   "metadata": {},
   "outputs": [
    {
     "data": {
      "text/plain": [
       "'{\\n  \"responseHeader\":{\\n    \"status\":0,\\n    \"QTime\":146}}\\n'"
      ]
     },
     "execution_count": 10,
     "metadata": {},
     "output_type": "execute_result"
    }
   ],
   "source": [
    "solr = Solr('http://localhost:8983/solr/authorities/', timeout=10)\n",
    "responseSolr = solr.add([doc], commit=True)\n",
    "responseSolr"
   ]
  },
  {
   "cell_type": "code",
   "execution_count": 5,
   "metadata": {},
   "outputs": [],
   "source": [
    "def GetLabelLoc(uri):\n",
    "    url = uri.replace('http', 'https')\n",
    "    g = Graph()\n",
    "    try:\n",
    "        g.parse(f'{url}.madsrdf.nt', format='nt')\n",
    "    except HTTPError as e:\n",
    "        return uri\n",
    "\n",
    "    q = f\"\"\"\n",
    "    SELECT ?label WHERE {{\n",
    "        <{uri}> madsrdf:authoritativeLabel ?label }}\"\"\"\n",
    "    query = prepareQuery(q, initNs={\"madsrdf\": \"http://www.loc.gov/mads/rdf/v1#\"})\n",
    "    [label] = [result.label.value for result in g.query(query)]\n",
    "    return label"
   ]
  },
  {
   "cell_type": "code",
   "execution_count": 6,
   "metadata": {},
   "outputs": [
    {
     "data": {
      "text/plain": [
       "'Critics'"
      ]
     },
     "execution_count": 6,
     "metadata": {},
     "output_type": "execute_result"
    }
   ],
   "source": [
    "label = GetLabelLoc('http://id.loc.gov/authorities/subjects/sh85034154')\n",
    "label"
   ]
  },
  {
   "cell_type": "code",
   "execution_count": 8,
   "metadata": {},
   "outputs": [
    {
     "name": "stdout",
     "output_type": "stream",
     "text": [
      "Critics\n",
      "Novelists\n"
     ]
    }
   ],
   "source": [
    "if request.occupation:\n",
    "    for i in request.occupation:\n",
    "        label = GetLabelLoc(i)\n",
    "        print(label)"
   ]
  },
  {
   "cell_type": "code",
   "execution_count": 28,
   "metadata": {},
   "outputs": [
    {
     "name": "stdout",
     "output_type": "stream",
     "text": [
      "Academia Brasileira de Letras\n"
     ]
    }
   ],
   "source": [
    "if request.hasAffiliation:\n",
    "    affilations = list()\n",
    "    for i in request.hasAffiliation:\n",
    "        label = GetLabelLoc(i.organization)\n",
    "        affilation = {\n",
    "            'uri': i.organization,\n",
    "            'organization': label,\n",
    "            'start': i.affiliationStart,\n",
    "            'end': i.affiliationEnd            \n",
    "        }\n",
    "        affilations.append(affilation)\n",
    "\n",
    "        print(label)"
   ]
  },
  {
   "cell_type": "code",
   "execution_count": 4,
   "metadata": {},
   "outputs": [
    {
     "ename": "NameError",
     "evalue": "name 'GetLabelLoc' is not defined",
     "output_type": "error",
     "traceback": [
      "\u001b[1;31m---------------------------------------------------------------------------\u001b[0m",
      "\u001b[1;31mNameError\u001b[0m                                 Traceback (most recent call last)",
      "\u001b[1;32mc:\\Users\\Usuário\\Desktop\\BiblioKeia\\personal.ipynb Cell 5\u001b[0m in \u001b[0;36m<cell line: 1>\u001b[1;34m()\u001b[0m\n\u001b[1;32m----> <a href='vscode-notebook-cell:/c%3A/Users/Usu%C3%A1rio/Desktop/BiblioKeia/personal.ipynb#Y125sZmlsZQ%3D%3D?line=0'>1</a>\u001b[0m label \u001b[39m=\u001b[39m GetLabelLoc(\u001b[39m'\u001b[39m\u001b[39mhttp://id.loc.gov/authorities/subjects/sh85034154\u001b[39m\u001b[39m'\u001b[39m)\n\u001b[0;32m      <a href='vscode-notebook-cell:/c%3A/Users/Usu%C3%A1rio/Desktop/BiblioKeia/personal.ipynb#Y125sZmlsZQ%3D%3D?line=1'>2</a>\u001b[0m label\n",
      "\u001b[1;31mNameError\u001b[0m: name 'GetLabelLoc' is not defined"
     ]
    }
   ],
   "source": []
  },
  {
   "cell_type": "code",
   "execution_count": 31,
   "metadata": {},
   "outputs": [],
   "source": [
    "if request.hasAffiliation:\n",
    "    affilations = list()\n",
    "    for i in request.hasAffiliation:\n",
    "        i"
   ]
  },
  {
   "cell_type": "code",
   "execution_count": 5,
   "metadata": {},
   "outputs": [
    {
     "data": {
      "text/plain": [
       "'{\\n  \"responseHeader\":{\\n    \"status\":0,\\n    \"QTime\":117}}\\n'"
      ]
     },
     "execution_count": 5,
     "metadata": {},
     "output_type": "execute_result"
    }
   ],
   "source": [
    "solr = Solr('http://localhost:8983/solr/authorities/', timeout=10)\n",
    "solr.add([doc], commit=True)"
   ]
  },
  {
   "cell_type": "code",
   "execution_count": 22,
   "metadata": {},
   "outputs": [
    {
     "data": {
      "text/plain": [
       "<Graph identifier=Na9078afd6aa346978127758dc620eb91 (<class 'rdflib.graph.Graph'>)>"
      ]
     },
     "execution_count": 22,
     "metadata": {},
     "output_type": "execute_result"
    }
   ],
   "source": [
    "url = 'http://id.loc.gov/authorities/names/n82059239.json'\n",
    "g = Graph()\n",
    "g.parse('https://id.loc.gov/authorities/names/n82059239.madsrdf.nt', format='nt')\n",
    "\n"
   ]
  },
  {
   "cell_type": "code",
   "execution_count": 23,
   "metadata": {},
   "outputs": [
    {
     "data": {
      "text/plain": [
       "<Graph identifier=Na9078afd6aa346978127758dc620eb91 (<class 'rdflib.graph.Graph'>)>"
      ]
     },
     "execution_count": 23,
     "metadata": {},
     "output_type": "execute_result"
    }
   ],
   "source": [
    "g.serialize('institution.ttl', format='ttl')"
   ]
  },
  {
   "cell_type": "code",
   "execution_count": 25,
   "metadata": {},
   "outputs": [
    {
     "data": {
      "text/plain": [
       "'Academia Brasileira de Letras'"
      ]
     },
     "execution_count": 25,
     "metadata": {},
     "output_type": "execute_result"
    }
   ],
   "source": [
    "id = 'n82059239'\n",
    "\n",
    "q = f\"\"\"\n",
    "    SELECT ?label WHERE {{\n",
    "        <http://id.loc.gov/authorities/names/{id}> madsrdf:authoritativeLabel ?label }}\"\"\"\n",
    "\n",
    "query = prepareQuery(q, initNs={\"madsrdf\": \"http://www.loc.gov/mads/rdf/v1#\"})\n",
    "[label] = [result.label.value for result in g.query(query)]\n",
    "label"
   ]
  }
 ],
 "metadata": {
  "kernelspec": {
   "display_name": "Python 3.11.0 ('venv': venv)",
   "language": "python",
   "name": "python3"
  },
  "language_info": {
   "codemirror_mode": {
    "name": "ipython",
    "version": 3
   },
   "file_extension": ".py",
   "mimetype": "text/x-python",
   "name": "python",
   "nbconvert_exporter": "python",
   "pygments_lexer": "ipython3",
   "version": "3.10.4"
  },
  "orig_nbformat": 4,
  "vscode": {
   "interpreter": {
    "hash": "5df21a170a08fe7c24b5b1091267edae5bad3984f1116f28e957af7dd8f192dc"
   }
  }
 },
 "nbformat": 4,
 "nbformat_minor": 2
}
