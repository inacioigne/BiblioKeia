{
 "cells": [
  {
   "cell_type": "code",
   "execution_count": 1,
   "metadata": {},
   "outputs": [],
   "source": [
    "from pyfuseki import FusekiUpdate, FusekiQuery\n",
    "import httpx\n",
    "from rdflib import Graph\n",
    "from pysolr import Solr\n",
    "from api.src.schemas.authorities.personalName import PersonalName"
   ]
  },
  {
   "cell_type": "code",
   "execution_count": 2,
   "metadata": {},
   "outputs": [
    {
     "data": {
      "text/plain": [
       "PersonalName(recordChangeDate='2023-04-06T22:39:01', id='n80002329', label='Machado de Assis', date='1839-1908', birthDate='1839-06-21', birthPlace='Rio de Janeiro (Brazil)', deathDate='1908-09-29', fullerName='Joaquim Maria Machado', hasCloseExternalAuthority=['http://id.worldcat.org/fast/48407', 'http://www.wikidata.org/entity/Q311145'], hasExactExternalAuthority=['http://viaf.org/viaf/sourceID/LC%7Cn++80002329#skos:Concept'], hasVariant=[Authority(value='Machado de Assis, Joaquín María', lang=None, date='1839-1908', type='PersonalName'), Authority(value='Mashado de Assiz, Zhoakin', lang=None, date='1839-1908', type='PersonalName'), Authority(value='Assis, Machado de', lang=None, date='1839-1908', type='PersonalName')], type='PersonalName')"
      ]
     },
     "execution_count": 2,
     "metadata": {},
     "output_type": "execute_result"
    }
   ],
   "source": [
    "obj = {\n",
    "  \"id\": \"n80002329\",\n",
    "  \"label\": \"Machado de Assis\",\n",
    "  \"date\": \"1839-1908\",\n",
    "  \"birthDate\": \"1839-06-21\",\n",
    "  \"birthPlace\": \"Rio de Janeiro (Brazil)\",\n",
    "  \"deathDate\": \"1908-09-29\",\n",
    "  \"fullerName\": \"Joaquim Maria Machado\",\n",
    "  \"hasCloseExternalAuthority\": [\"http://id.worldcat.org/fast/48407\", \"http://www.wikidata.org/entity/Q311145\"],\n",
    "  \"hasExactExternalAuthority\": [\"http://viaf.org/viaf/sourceID/LC%7Cn++80002329#skos:Concept\"],\n",
    "  \"hasVariant\": [\n",
    "    {\n",
    "      \"value\": \"Machado de Assis, Joaquín María\",\n",
    "      \"type\": \"PersonalName\",\n",
    "      \"date\": \"1839-1908\"\n",
    "    },\n",
    "    {\n",
    "      \"value\": \"Mashado de Assiz, Zhoakin\",\n",
    "      \"type\": \"PersonalName\",\n",
    "      \"date\": \"1839-1908\"\n",
    "    },\n",
    "    {\n",
    "      \"value\": \"Assis, Machado de\",\n",
    "      \"type\": \"PersonalName\",\n",
    "      \"date\": \"1839-1908\"\n",
    "    }\n",
    "  ],\n",
    "}\n",
    "\n",
    "request = PersonalName(**obj)\n",
    "request"
   ]
  },
  {
   "cell_type": "code",
   "execution_count": 7,
   "metadata": {},
   "outputs": [
    {
     "data": {
      "text/plain": [
       "'1839-1908'"
      ]
     },
     "execution_count": 7,
     "metadata": {},
     "output_type": "execute_result"
    }
   ],
   "source": [
    "[hasVariant] = request.hasVariant\n",
    "hasVariant.date\n",
    "\n"
   ]
  },
  {
   "cell_type": "code",
   "execution_count": 4,
   "metadata": {},
   "outputs": [
    {
     "name": "stdout",
     "output_type": "stream",
     "text": [
      "['[ a madsrdf:PersonalName,\\n                madsrdf:Variant ;\\n            madsrdf:elementList ( [ a madsrdf:FullNameElement ;\\n                        madsrdf:elementValue \"Machado de Assis, Joaquín María\" ] \\n                         [ a madsrdf:DateNameElement ; madsrdf:elementValue \"1839-1908\" ] ) ;           \\n             madsrdf:variantLabel \"Machado de Assis, Joaquín María, 1839-1908\" ]', '[ a madsrdf:PersonalName,\\n                madsrdf:Variant ;\\n            madsrdf:elementList ( [ a madsrdf:FullNameElement ;\\n                        madsrdf:elementValue \"Mashado de Assiz, Zhoakin\" ] \\n                         [ a madsrdf:DateNameElement ; madsrdf:elementValue \"1839-1908\" ] ) ;           \\n             madsrdf:variantLabel \"Mashado de Assiz, Zhoakin, 1839-1908\" ]', '[ a madsrdf:PersonalName,\\n                madsrdf:Variant ;\\n            madsrdf:elementList ( [ a madsrdf:FullNameElement ;\\n                        madsrdf:elementValue \"Assis, Machado de\" ] \\n                         [ a madsrdf:DateNameElement ; madsrdf:elementValue \"1839-1908\" ] ) ;           \\n             madsrdf:variantLabel \"Assis, Machado de, 1839-1908\" ]']\n"
     ]
    }
   ],
   "source": [
    "def MakeVariant(hasVariant):\n",
    "    \n",
    "    variants = list()\n",
    "    for i in hasVariant:\n",
    "        variant = f\"\"\"[ a madsrdf:PersonalName,\n",
    "                madsrdf:Variant ;\n",
    "            madsrdf:elementList ( [ a madsrdf:FullNameElement ;\n",
    "                        madsrdf:elementValue \"{i.value}\" ] \n",
    "                         { '[ a madsrdf:DateNameElement ; madsrdf:elementValue \"{}\" ] ) ;'.format(i.date) if i.date else ') ;' }           \n",
    "            { ' madsrdf:variantLabel \"{}, {}\" ]'.format(i.value, i.date) if i.date else 'madsrdf:variantLabel \"{i.value}\" ]' }\"\"\"\n",
    "        variants.append(variant)\n",
    "    return variants\n",
    "\n",
    "variants = MakeVariant(request.hasVariant)\n"
   ]
  },
  {
   "cell_type": "code",
   "execution_count": 11,
   "metadata": {},
   "outputs": [
    {
     "data": {
      "text/plain": [
       "{'statusCode': 200, 'message': 'Update succeeded'}"
      ]
     },
     "execution_count": 11,
     "metadata": {},
     "output_type": "execute_result"
    }
   ],
   "source": [
    "closeExternal = \"madsrdf:hasCloseExternalAuthority {} ; \\n\"\n",
    "exactExternal = \"madsrdf:hasExactExternalAuthority {} ; \\n\"\n",
    "hasVariant = \"madsrdf:hasVariant  {}  ; \\n\"\n",
    "birthPlace = \"\"\"madsrdf:birthPlace [ a madsrdf:Geographic ;\n",
    "            rdfs:label \"{}\" ] ;\"\"\"\n",
    "\n",
    "if request.hasVariant:\n",
    "        variants = MakeVariant(request.hasVariant)\n",
    "\n",
    "template = f\"\"\"PREFIX rdf: <http://www.w3.org/1999/02/22-rdf-syntax-ns#> \n",
    "PREFIX madsrdf: <http://www.loc.gov/mads/rdf/v1#> \n",
    "PREFIX owl: <http://www.w3.org/2002/07/owl#> \n",
    "PREFIX ri: <http://id.loc.gov/ontologies/RecordInfo#> \n",
    "PREFIX name: <https://bibliokeia.com/authorities/name/> \n",
    "PREFIX xsd: <http://www.w3.org/2001/XMLSchema#>\n",
    "PREFIX rdfs: <http://www.w3.org/2000/01/rdf-schema#>\n",
    "\n",
    "INSERT DATA {{\n",
    "GRAPH name:{request.id} {{\n",
    " name:{request.id} a madsrdf:Authority, madsrdf:PersonalName ;\n",
    "        madsrdf:adminMetadata [ a ri:RecordInfo ; \n",
    "        ri:recordChangeDate \"{request.recordChangeDate}\"^^xsd:dateTime ;\n",
    "        ri:recordContentSource <http://id.loc.gov/vocabulary/organizations/brmninpa> ;\n",
    "        ri:recordStatus \"new\"^^xsd:string\n",
    "        ] ; \n",
    "        madsrdf:authoritativeLabel \"{request.label}\" ;\n",
    "        madsrdf:elementList ( [ a madsrdf:FullNameElement ;\n",
    "                madsrdf:elementValue \"{request.label}\" ] \n",
    "                { '[ a madsrdf:DateNameElement ; madsrdf:elementValue \"{}\" ]'.format(request.date) if request.date else '' } ) ;\n",
    "        madsrdf:fullerName [ a madsrdf:PersonalName ;\n",
    "            rdfs:label \"{request.fullerName}\" ] ;\n",
    "        { closeExternal.format(', '.join([ f'<{i}>' for i in request.hasCloseExternalAuthority])) if request.hasCloseExternalAuthority else '' }\n",
    "        { exactExternal.format(', '.join([ f'<{i}>' for i in request.hasExactExternalAuthority])) if request.hasExactExternalAuthority else '' } \n",
    "        { hasVariant.format(', '.join(variants)) if request.hasVariant else '' } \n",
    "        { f'madsrdf:birthDate \"{request.birthDate}\" ;' if request.birthDate else '' } \n",
    "        { birthPlace.format(request.birthPlace) if request.birthPlace else '' } \n",
    "        { f'madsrdf:deathDate \"{request.deathDate}\" ;' if request.deathDate else '' } \n",
    "}} }}\n",
    "\"\"\"\n",
    "fuseki_update = FusekiUpdate('http://localhost:3030', 'authorities')\n",
    "response = fuseki_update.run_sparql(template)\n",
    "response.convert()"
   ]
  },
  {
   "cell_type": "code",
   "execution_count": 9,
   "metadata": {},
   "outputs": [
    {
     "ename": "QueryBadFormed",
     "evalue": "QueryBadFormed: A bad request has been sent to the endpoint: probably the SPARQL query is badly formed. \n\nResponse:\nb'Line 21, column 13: Unresolved prefixed name: rdfs:label\\n'",
     "output_type": "error",
     "traceback": [
      "\u001b[1;31m---------------------------------------------------------------------------\u001b[0m",
      "\u001b[1;31mHTTPError\u001b[0m                                 Traceback (most recent call last)",
      "File \u001b[1;32mc:\\Users\\inaci\\Desktop\\BiblioKeia\\venv\\Lib\\site-packages\\SPARQLWrapper\\Wrapper.py:926\u001b[0m, in \u001b[0;36mSPARQLWrapper._query\u001b[1;34m(self)\u001b[0m\n\u001b[0;32m    925\u001b[0m \u001b[39melse\u001b[39;00m:\n\u001b[1;32m--> 926\u001b[0m     response \u001b[39m=\u001b[39m urlopener(request)\n\u001b[0;32m    927\u001b[0m \u001b[39mreturn\u001b[39;00m response, \u001b[39mself\u001b[39m\u001b[39m.\u001b[39mreturnFormat\n",
      "File \u001b[1;32m~\\AppData\\Local\\Programs\\Python\\Python311\\Lib\\urllib\\request.py:216\u001b[0m, in \u001b[0;36murlopen\u001b[1;34m(url, data, timeout, cafile, capath, cadefault, context)\u001b[0m\n\u001b[0;32m    215\u001b[0m     opener \u001b[39m=\u001b[39m _opener\n\u001b[1;32m--> 216\u001b[0m \u001b[39mreturn\u001b[39;00m opener\u001b[39m.\u001b[39;49mopen(url, data, timeout)\n",
      "File \u001b[1;32m~\\AppData\\Local\\Programs\\Python\\Python311\\Lib\\urllib\\request.py:525\u001b[0m, in \u001b[0;36mOpenerDirector.open\u001b[1;34m(self, fullurl, data, timeout)\u001b[0m\n\u001b[0;32m    524\u001b[0m     meth \u001b[39m=\u001b[39m \u001b[39mgetattr\u001b[39m(processor, meth_name)\n\u001b[1;32m--> 525\u001b[0m     response \u001b[39m=\u001b[39m meth(req, response)\n\u001b[0;32m    527\u001b[0m \u001b[39mreturn\u001b[39;00m response\n",
      "File \u001b[1;32m~\\AppData\\Local\\Programs\\Python\\Python311\\Lib\\urllib\\request.py:634\u001b[0m, in \u001b[0;36mHTTPErrorProcessor.http_response\u001b[1;34m(self, request, response)\u001b[0m\n\u001b[0;32m    633\u001b[0m \u001b[39mif\u001b[39;00m \u001b[39mnot\u001b[39;00m (\u001b[39m200\u001b[39m \u001b[39m<\u001b[39m\u001b[39m=\u001b[39m code \u001b[39m<\u001b[39m \u001b[39m300\u001b[39m):\n\u001b[1;32m--> 634\u001b[0m     response \u001b[39m=\u001b[39m \u001b[39mself\u001b[39;49m\u001b[39m.\u001b[39;49mparent\u001b[39m.\u001b[39;49merror(\n\u001b[0;32m    635\u001b[0m         \u001b[39m'\u001b[39;49m\u001b[39mhttp\u001b[39;49m\u001b[39m'\u001b[39;49m, request, response, code, msg, hdrs)\n\u001b[0;32m    637\u001b[0m \u001b[39mreturn\u001b[39;00m response\n",
      "File \u001b[1;32m~\\AppData\\Local\\Programs\\Python\\Python311\\Lib\\urllib\\request.py:563\u001b[0m, in \u001b[0;36mOpenerDirector.error\u001b[1;34m(self, proto, *args)\u001b[0m\n\u001b[0;32m    562\u001b[0m args \u001b[39m=\u001b[39m (\u001b[39mdict\u001b[39m, \u001b[39m'\u001b[39m\u001b[39mdefault\u001b[39m\u001b[39m'\u001b[39m, \u001b[39m'\u001b[39m\u001b[39mhttp_error_default\u001b[39m\u001b[39m'\u001b[39m) \u001b[39m+\u001b[39m orig_args\n\u001b[1;32m--> 563\u001b[0m \u001b[39mreturn\u001b[39;00m \u001b[39mself\u001b[39;49m\u001b[39m.\u001b[39;49m_call_chain(\u001b[39m*\u001b[39;49margs)\n",
      "File \u001b[1;32m~\\AppData\\Local\\Programs\\Python\\Python311\\Lib\\urllib\\request.py:496\u001b[0m, in \u001b[0;36mOpenerDirector._call_chain\u001b[1;34m(self, chain, kind, meth_name, *args)\u001b[0m\n\u001b[0;32m    495\u001b[0m func \u001b[39m=\u001b[39m \u001b[39mgetattr\u001b[39m(handler, meth_name)\n\u001b[1;32m--> 496\u001b[0m result \u001b[39m=\u001b[39m func(\u001b[39m*\u001b[39;49margs)\n\u001b[0;32m    497\u001b[0m \u001b[39mif\u001b[39;00m result \u001b[39mis\u001b[39;00m \u001b[39mnot\u001b[39;00m \u001b[39mNone\u001b[39;00m:\n",
      "File \u001b[1;32m~\\AppData\\Local\\Programs\\Python\\Python311\\Lib\\urllib\\request.py:643\u001b[0m, in \u001b[0;36mHTTPDefaultErrorHandler.http_error_default\u001b[1;34m(self, req, fp, code, msg, hdrs)\u001b[0m\n\u001b[0;32m    642\u001b[0m \u001b[39mdef\u001b[39;00m \u001b[39mhttp_error_default\u001b[39m(\u001b[39mself\u001b[39m, req, fp, code, msg, hdrs):\n\u001b[1;32m--> 643\u001b[0m     \u001b[39mraise\u001b[39;00m HTTPError(req\u001b[39m.\u001b[39mfull_url, code, msg, hdrs, fp)\n",
      "\u001b[1;31mHTTPError\u001b[0m: HTTP Error 400: Bad Request",
      "\nDuring handling of the above exception, another exception occurred:\n",
      "\u001b[1;31mQueryBadFormed\u001b[0m                            Traceback (most recent call last)",
      "Cell \u001b[1;32mIn[9], line 2\u001b[0m\n\u001b[0;32m      1\u001b[0m fuseki_update \u001b[38;5;241m=\u001b[39m FusekiUpdate(\u001b[38;5;124m'\u001b[39m\u001b[38;5;124mhttp://localhost:3030\u001b[39m\u001b[38;5;124m'\u001b[39m, \u001b[38;5;124m'\u001b[39m\u001b[38;5;124mauthorities\u001b[39m\u001b[38;5;124m'\u001b[39m)\n\u001b[1;32m----> 2\u001b[0m response \u001b[38;5;241m=\u001b[39m \u001b[43mfuseki_update\u001b[49m\u001b[38;5;241;43m.\u001b[39;49m\u001b[43mrun_sparql\u001b[49m\u001b[43m(\u001b[49m\u001b[43mtemplate\u001b[49m\u001b[43m)\u001b[49m\n\u001b[0;32m      3\u001b[0m response\u001b[38;5;241m.\u001b[39mconvert()\n",
      "File \u001b[1;32mc:\\Users\\inaci\\Desktop\\BiblioKeia\\venv\\Lib\\site-packages\\pyfuseki\\syncFuseki\\fuseki.py:37\u001b[0m, in \u001b[0;36mBaseFuseki.run_sparql\u001b[1;34m(self, sparql_str, return_format)\u001b[0m\n\u001b[0;32m     35\u001b[0m \u001b[39mself\u001b[39m\u001b[39m.\u001b[39msparql_conn\u001b[39m.\u001b[39msetQuery(sparql_str)\n\u001b[0;32m     36\u001b[0m \u001b[39mself\u001b[39m\u001b[39m.\u001b[39msparql_conn\u001b[39m.\u001b[39msetReturnFormat(return_format)\n\u001b[1;32m---> 37\u001b[0m \u001b[39mreturn\u001b[39;00m \u001b[39mself\u001b[39;49m\u001b[39m.\u001b[39;49msparql_conn\u001b[39m.\u001b[39;49mquery()\n",
      "File \u001b[1;32mc:\\Users\\inaci\\Desktop\\BiblioKeia\\venv\\Lib\\site-packages\\SPARQLWrapper\\Wrapper.py:960\u001b[0m, in \u001b[0;36mSPARQLWrapper.query\u001b[1;34m(self)\u001b[0m\n\u001b[0;32m    942\u001b[0m \u001b[39mdef\u001b[39;00m \u001b[39mquery\u001b[39m(\u001b[39mself\u001b[39m) \u001b[39m-\u001b[39m\u001b[39m>\u001b[39m \u001b[39m\"\u001b[39m\u001b[39mQueryResult\u001b[39m\u001b[39m\"\u001b[39m:\n\u001b[0;32m    943\u001b[0m     \u001b[39m\"\"\"\u001b[39;00m\n\u001b[0;32m    944\u001b[0m \u001b[39m    Execute the query.\u001b[39;00m\n\u001b[0;32m    945\u001b[0m \u001b[39m    Exceptions can be raised if either the URI is wrong or the HTTP sends back an error (this is also the\u001b[39;00m\n\u001b[1;32m   (...)\u001b[0m\n\u001b[0;32m    958\u001b[0m \u001b[39m    :rtype: :class:`QueryResult` instance\u001b[39;00m\n\u001b[0;32m    959\u001b[0m \u001b[39m    \"\"\"\u001b[39;00m\n\u001b[1;32m--> 960\u001b[0m     \u001b[39mreturn\u001b[39;00m QueryResult(\u001b[39mself\u001b[39;49m\u001b[39m.\u001b[39;49m_query())\n",
      "File \u001b[1;32mc:\\Users\\inaci\\Desktop\\BiblioKeia\\venv\\Lib\\site-packages\\SPARQLWrapper\\Wrapper.py:930\u001b[0m, in \u001b[0;36mSPARQLWrapper._query\u001b[1;34m(self)\u001b[0m\n\u001b[0;32m    928\u001b[0m \u001b[39mexcept\u001b[39;00m urllib\u001b[39m.\u001b[39merror\u001b[39m.\u001b[39mHTTPError \u001b[39mas\u001b[39;00m e:\n\u001b[0;32m    929\u001b[0m     \u001b[39mif\u001b[39;00m e\u001b[39m.\u001b[39mcode \u001b[39m==\u001b[39m \u001b[39m400\u001b[39m:\n\u001b[1;32m--> 930\u001b[0m         \u001b[39mraise\u001b[39;00m QueryBadFormed(e\u001b[39m.\u001b[39mread())\n\u001b[0;32m    931\u001b[0m     \u001b[39melif\u001b[39;00m e\u001b[39m.\u001b[39mcode \u001b[39m==\u001b[39m \u001b[39m404\u001b[39m:\n\u001b[0;32m    932\u001b[0m         \u001b[39mraise\u001b[39;00m EndPointNotFound(e\u001b[39m.\u001b[39mread())\n",
      "\u001b[1;31mQueryBadFormed\u001b[0m: QueryBadFormed: A bad request has been sent to the endpoint: probably the SPARQL query is badly formed. \n\nResponse:\nb'Line 21, column 13: Unresolved prefixed name: rdfs:label\\n'"
     ]
    }
   ],
   "source": [
    "fuseki_update = FusekiUpdate('http://localhost:3030', 'authorities')\n",
    "response = fuseki_update.run_sparql(template)\n",
    "response.convert()"
   ]
  },
  {
   "cell_type": "code",
   "execution_count": 2,
   "metadata": {},
   "outputs": [
    {
     "data": {
      "text/plain": [
       "<Graph identifier=Na0e645c62e64409daecc9f5efa8537a0 (<class 'rdflib.graph.Graph'>)>"
      ]
     },
     "execution_count": 2,
     "metadata": {},
     "output_type": "execute_result"
    }
   ],
   "source": [
    "g = Graph()\n",
    "g.parse(\"http://id.loc.gov/authorities/names/n80002329.madsrdf.rdf\")\n",
    "g.serialize('machado.nt')"
   ]
  },
  {
   "cell_type": "code",
   "execution_count": 5,
   "metadata": {},
   "outputs": [
    {
     "data": {
      "text/plain": [
       "<Graph identifier=N54510621a4ab41878d82b0362c98c28b (<class 'rdflib.graph.Graph'>)>"
      ]
     },
     "execution_count": 5,
     "metadata": {},
     "output_type": "execute_result"
    }
   ],
   "source": [
    "g = Graph()\n",
    "r = httpx.get('http://localhost:3030/authorities?graph=https://bibliokeia.com/authorities/topic/sh85017405')\n",
    "g.parse(r.content)\n",
    "g.serialize(\"subject.nt\")"
   ]
  }
 ],
 "metadata": {
  "kernelspec": {
   "display_name": "Python 3.11.0 ('venv': venv)",
   "language": "python",
   "name": "python3"
  },
  "language_info": {
   "codemirror_mode": {
    "name": "ipython",
    "version": 3
   },
   "file_extension": ".py",
   "mimetype": "text/x-python",
   "name": "python",
   "nbconvert_exporter": "python",
   "pygments_lexer": "ipython3",
   "version": "3.11.0"
  },
  "orig_nbformat": 4,
  "vscode": {
   "interpreter": {
    "hash": "5df21a170a08fe7c24b5b1091267edae5bad3984f1116f28e957af7dd8f192dc"
   }
  }
 },
 "nbformat": 4,
 "nbformat_minor": 2
}
