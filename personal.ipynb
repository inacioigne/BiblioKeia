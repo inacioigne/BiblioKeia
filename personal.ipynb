{
 "cells": [
  {
   "cell_type": "code",
   "execution_count": 1,
   "metadata": {},
   "outputs": [],
   "source": [
    "from pyfuseki import FusekiUpdate, FusekiQuery\n",
    "import httpx\n",
    "from rdflib import Graph\n",
    "from pysolr import Solr\n",
    "from api.src.schemas.authorities.personalName import PersonalName"
   ]
  },
  {
   "cell_type": "code",
   "execution_count": 3,
   "metadata": {},
   "outputs": [
    {
     "data": {
      "text/plain": [
       "PersonalName(recordChangeDate='2023-04-06T16:31:04', id='n80002329', label='Machado de Assis', date='1839-1908', fullerName='Joaquim Maria Machado', hasCloseExternalAuthority=['http://id.worldcat.org/fast/48407', 'http://www.wikidata.org/entity/Q311145'], hasExactExternalAuthority=['http://viaf.org/viaf/sourceID/LC%7Cn++80002329#skos:Concept'], hasVariant=[Authority(value='Machado de Assis, Joaquín María', lang=None, date='1839-1908', type='PersonalName')], type='PersonalName')"
      ]
     },
     "execution_count": 3,
     "metadata": {},
     "output_type": "execute_result"
    }
   ],
   "source": [
    "obj = {\n",
    "  \"id\": \"n80002329\",\n",
    "  \"label\": \"Machado de Assis\",\n",
    "  \"date\": \"1839-1908\",\n",
    "  \"fullerName\": \"Joaquim Maria Machado\",\n",
    "  \"hasCloseExternalAuthority\": [\"http://id.worldcat.org/fast/48407\", \"http://www.wikidata.org/entity/Q311145\"],\n",
    "  \"hasExactExternalAuthority\": [\"http://viaf.org/viaf/sourceID/LC%7Cn++80002329#skos:Concept\"],\n",
    "  \"hasVariant\": [\n",
    "    {\n",
    "      \"value\": \"Machado de Assis, Joaquín María\",\n",
    "      \"type\": \"PersonalName\",\n",
    "      \"date\": \"1839-1908\"\n",
    "    }\n",
    "  ],\n",
    "}\n",
    "\n",
    "request = PersonalName(**obj)\n",
    "request"
   ]
  },
  {
   "cell_type": "code",
   "execution_count": 4,
   "metadata": {},
   "outputs": [],
   "source": [
    "def MakeVariant(hasVariant):\n",
    "    variantTopic = \"\"\" a madsrdf:PersonalName,\n",
    "                madsrdf:Variant ;\n",
    "            madsrdf:elementList ( [ a madsrdf:FullNameElement ;\n",
    "                        madsrdf:elementValue \"Machado de Assis, Joaquín María,\" ] [ a madsrdf:DateNameElement ;\n",
    "                        madsrdf:elementValue \"1839-1908\" ] )\"\"\"\n",
    "    variants = list()\n",
    "    for i in hasVariant:\n",
    "        if i.type == 'Topic':\n",
    "            v = variantTopic.format(**i.dict())\n",
    "            variants.append(v)\n",
    "        elif i.type == 'ComplexSubject':\n",
    "            [term1, term2] = i.value\n",
    "            d = {\"term1\": term1, \"term2\":term2, \"lang\": i.lang}\n",
    "            v = variantComplex.format(**d)\n",
    "            variants.append(v)\n",
    "    return variants"
   ]
  },
  {
   "cell_type": "code",
   "execution_count": 9,
   "metadata": {},
   "outputs": [
    {
     "name": "stdout",
     "output_type": "stream",
     "text": [
      "PREFIX rdf: <http://www.w3.org/1999/02/22-rdf-syntax-ns#> \n",
      "PREFIX madsrdf: <http://www.loc.gov/mads/rdf/v1#> \n",
      "PREFIX owl: <http://www.w3.org/2002/07/owl#> \n",
      "PREFIX ri: <http://id.loc.gov/ontologies/RecordInfo#> \n",
      "PREFIX name: <https://bibliokeia.com/authorities/name/> \n",
      "PREFIX xsd: <http://www.w3.org/2001/XMLSchema#>\n",
      "\n",
      "INSERT DATA {\n",
      "GRAPH name:n80002329 {\n",
      " name:n80002329 a madsrdf:Authority, madsrdf:PersonalName ;\n",
      "        madsrdf:adminMetadata [ a ri:RecordInfo ; \n",
      "        ri:recordChangeDate \"2023-04-06T16:24:06\"^^xsd:dateTime ;\n",
      "        ri:recordContentSource <http://id.loc.gov/vocabulary/organizations/brmninpa> ;\n",
      "        ri:recordStatus \"new\"^^xsd:string\n",
      "        ] ; \n",
      "        madsrdf:authoritativeLabel \"Machado de Assis\" ;\n",
      "        madsrdf:elementList ( [ a madsrdf:FullNameElement ;\n",
      "                madsrdf:elementValue \"Machado de Assis\" ] \n",
      "                [ a madsrdf:DateNameElement ; madsrdf:elementValue \"1839-1908\" ] ) ;\n",
      "        madsrdf:fullerName [ a madsrdf:PersonalName ;\n",
      "            rdfs:label \"Joaquim Maria Machado\" ] ;\n",
      "        madsrdf:hasCloseExternalAuthority <http://id.worldcat.org/fast/48407>, <http://www.wikidata.org/entity/Q311145> ; \n",
      "\n",
      "        madsrdf:hasExactExternalAuthority <http://viaf.org/viaf/sourceID/LC%7Cn++80002329#skos:Concept> ; \n",
      " }\n",
      "\n",
      "}\n",
      "\n"
     ]
    }
   ],
   "source": [
    "closeExternal = \"madsrdf:hasCloseExternalAuthority {} ; \\n\"\n",
    "exactExternal = \"madsrdf:hasExactExternalAuthority {} ; \\n\"\n",
    "\n",
    "template = f\"\"\"PREFIX rdf: <http://www.w3.org/1999/02/22-rdf-syntax-ns#> \n",
    "PREFIX madsrdf: <http://www.loc.gov/mads/rdf/v1#> \n",
    "PREFIX owl: <http://www.w3.org/2002/07/owl#> \n",
    "PREFIX ri: <http://id.loc.gov/ontologies/RecordInfo#> \n",
    "PREFIX name: <https://bibliokeia.com/authorities/name/> \n",
    "PREFIX xsd: <http://www.w3.org/2001/XMLSchema#>\n",
    "\n",
    "INSERT DATA {{\n",
    "GRAPH name:{request.id} {{\n",
    " name:{request.id} a madsrdf:Authority, madsrdf:PersonalName ;\n",
    "        madsrdf:adminMetadata [ a ri:RecordInfo ; \n",
    "        ri:recordChangeDate \"{request.recordChangeDate}\"^^xsd:dateTime ;\n",
    "        ri:recordContentSource <http://id.loc.gov/vocabulary/organizations/brmninpa> ;\n",
    "        ri:recordStatus \"new\"^^xsd:string\n",
    "        ] ; \n",
    "        madsrdf:authoritativeLabel \"{request.label}\" ;\n",
    "        madsrdf:elementList ( [ a madsrdf:FullNameElement ;\n",
    "                madsrdf:elementValue \"{request.label}\" ] \n",
    "                { '[ a madsrdf:DateNameElement ; madsrdf:elementValue \"{}\" ]'.format(request.date) if request.date else '' } ) ;\n",
    "        madsrdf:fullerName [ a madsrdf:PersonalName ;\n",
    "            rdfs:label \"{request.fullerName}\" ] ;\n",
    "        { closeExternal.format(', '.join([ f'<{i}>' for i in request.hasCloseExternalAuthority])) if request.hasCloseExternalAuthority else '' }\n",
    "        { exactExternal.format(', '.join([ f'<{i}>' for i in request.hasExactExternalAuthority])) if request.hasExactExternalAuthority else '' } \\\n",
    "}}\n",
    "\n",
    "}}\n",
    "\"\"\"\n",
    "print(template)"
   ]
  },
  {
   "cell_type": "code",
   "execution_count": 2,
   "metadata": {},
   "outputs": [
    {
     "data": {
      "text/plain": [
       "<Graph identifier=Na0e645c62e64409daecc9f5efa8537a0 (<class 'rdflib.graph.Graph'>)>"
      ]
     },
     "execution_count": 2,
     "metadata": {},
     "output_type": "execute_result"
    }
   ],
   "source": [
    "g = Graph()\n",
    "g.parse(\"http://id.loc.gov/authorities/names/n80002329.madsrdf.rdf\")\n",
    "g.serialize('machado.nt')"
   ]
  },
  {
   "cell_type": "code",
   "execution_count": 5,
   "metadata": {},
   "outputs": [
    {
     "data": {
      "text/plain": [
       "<Graph identifier=N54510621a4ab41878d82b0362c98c28b (<class 'rdflib.graph.Graph'>)>"
      ]
     },
     "execution_count": 5,
     "metadata": {},
     "output_type": "execute_result"
    }
   ],
   "source": [
    "g = Graph()\n",
    "r = httpx.get('http://localhost:3030/authorities?graph=https://bibliokeia.com/authorities/topic/sh85017405')\n",
    "g.parse(r.content)\n",
    "g.serialize(\"subject.nt\")"
   ]
  }
 ],
 "metadata": {
  "kernelspec": {
   "display_name": "venv",
   "language": "python",
   "name": "python3"
  },
  "language_info": {
   "codemirror_mode": {
    "name": "ipython",
    "version": 3
   },
   "file_extension": ".py",
   "mimetype": "text/x-python",
   "name": "python",
   "nbconvert_exporter": "python",
   "pygments_lexer": "ipython3",
   "version": "3.10.4"
  },
  "orig_nbformat": 4
 },
 "nbformat": 4,
 "nbformat_minor": 2
}
