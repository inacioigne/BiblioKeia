{
 "cells": [
  {
   "cell_type": "code",
   "execution_count": 1,
   "metadata": {},
   "outputs": [],
   "source": [
    "from pyfuseki import FusekiUpdate, FusekiQuery\n",
    "import httpx\n",
    "from rdflib import Graph\n",
    "from pysolr import Solr\n",
    "from api.src.schemas.authorities.personalName import PersonalName\n",
    "from api.src.function.authorities.personalName.create_graph import MakePersonalGraph\n",
    "from api.src.schemas.authorities.mads import Authority, EditVariant\n",
    "from api.src.function.authorities.personalName.editPersonalName import EditAuthorityPersonalName\n",
    "from api.src.function.authorities.personalName.variantPersonalName import editVariantPersonalName, addVariantPersonalName\n",
    "from api.src.function.authorities.edit_uri import DelMads, PostMads\n",
    "from api.src.function.authorities.personalName.editPersonalName import EditAuthorityPersonalName, EditFullerName, DeleteFullerName, PostFullerName\n"
   ]
  },
  {
   "cell_type": "code",
   "execution_count": 5,
   "metadata": {},
   "outputs": [
    {
     "ename": "AttributeError",
     "evalue": "'Solr' object has no attribute 'query'",
     "output_type": "error",
     "traceback": [
      "\u001b[1;31m---------------------------------------------------------------------------\u001b[0m",
      "\u001b[1;31mAttributeError\u001b[0m                            Traceback (most recent call last)",
      "\u001b[1;32mc:\\Users\\Usuário\\Desktop\\BiblioKeia\\personal.ipynb Cell 2\u001b[0m in \u001b[0;36m<cell line: 2>\u001b[1;34m()\u001b[0m\n\u001b[0;32m      <a href='vscode-notebook-cell:/c%3A/Users/Usu%C3%A1rio/Desktop/BiblioKeia/personal.ipynb#X30sZmlsZQ%3D%3D?line=0'>1</a>\u001b[0m solr \u001b[39m=\u001b[39m Solr(\u001b[39m'\u001b[39m\u001b[39mhttp://localhost:8983/solr/authorities/\u001b[39m\u001b[39m'\u001b[39m, timeout\u001b[39m=\u001b[39m\u001b[39m10\u001b[39m)\n\u001b[1;32m----> <a href='vscode-notebook-cell:/c%3A/Users/Usu%C3%A1rio/Desktop/BiblioKeia/personal.ipynb#X30sZmlsZQ%3D%3D?line=1'>2</a>\u001b[0m response \u001b[39m=\u001b[39m solr\u001b[39m.\u001b[39;49mquery(q\u001b[39m=\u001b[39m\u001b[39m\"\u001b[39m\u001b[39mid:n80002329\u001b[39m\u001b[39m\"\u001b[39m,  commit\u001b[39m=\u001b[39m\u001b[39mTrue\u001b[39;00m)\n\u001b[0;32m      <a href='vscode-notebook-cell:/c%3A/Users/Usu%C3%A1rio/Desktop/BiblioKeia/personal.ipynb#X30sZmlsZQ%3D%3D?line=2'>3</a>\u001b[0m response\n",
      "\u001b[1;31mAttributeError\u001b[0m: 'Solr' object has no attribute 'query'"
     ]
    }
   ],
   "source": [
    "solr = Solr('http://localhost:8983/solr/authorities/', timeout=10)\n",
    "response = solr.query(q=\"id:n80002329\",  commit=True)\n",
    "response"
   ]
  },
  {
   "cell_type": "code",
   "execution_count": 6,
   "metadata": {},
   "outputs": [
    {
     "data": {
      "text/plain": [
       "<pysolr.Results at 0x232d36f6920>"
      ]
     },
     "execution_count": 6,
     "metadata": {},
     "output_type": "execute_result"
    }
   ],
   "source": [
    "response = solr.search(q=\"id:n80002329\")\n"
   ]
  },
  {
   "cell_type": "code",
   "execution_count": 7,
   "metadata": {},
   "outputs": [
    {
     "data": {
      "text/plain": [
       "[{'recordChangeDate': ['2023-04-12T16:25:08Z'],\n",
       "  'id': 'n80002329',\n",
       "  'label': ['Machado de Assis'],\n",
       "  'date': ['1839-1908'],\n",
       "  'birthDate': ['1839-06-21'],\n",
       "  'birthPlace': ['Rio de Janeiro (Brazil)'],\n",
       "  'deathDate': ['1908-09-29'],\n",
       "  'fullerName': ['Joaquim Maria Machado'],\n",
       "  'hasCloseExternalAuthority': ['http://id.worldcat.org/fast/48407',\n",
       "   'http://www.wikidata.org/entity/Q311145'],\n",
       "  'hasExactExternalAuthority': ['http://viaf.org/viaf/sourceID/LC%7Cn++80002329#skos:Concept'],\n",
       "  'hasVariant': ['Machado de Assis, Joaquín María',\n",
       "   'Mashado de Assiz, Zhoakin',\n",
       "   'Assis, Machado de'],\n",
       "  'hasAffiliation': ['http://id.loc.gov/authorities/names/n82059239'],\n",
       "  'occupation': ['http://id.loc.gov/authorities/subjects/sh85034154',\n",
       "   'http://id.loc.gov/authorities/subjects/sh85092863'],\n",
       "  'type': ['PersonalName'],\n",
       "  'uri': ['https://bibliokeia.com/authorities/name/n80002329'],\n",
       "  '_version_': 1763003451047936000}]"
      ]
     },
     "execution_count": 7,
     "metadata": {},
     "output_type": "execute_result"
    }
   ],
   "source": [
    "response.docs"
   ]
  },
  {
   "cell_type": "code",
   "execution_count": 11,
   "metadata": {},
   "outputs": [],
   "source": [
    "[doc] = response.docs\n",
    "hasCloseExternalAuthority = doc.get('hasCloseExternalAuthority')"
   ]
  },
  {
   "cell_type": "code",
   "execution_count": 15,
   "metadata": {},
   "outputs": [
    {
     "data": {
      "text/plain": [
       "{'worldcat': 'http://id.worldcat.org/fast/48407',\n",
       " 'wikidata': 'http://www.wikidata.org/entity/Q311145'}"
      ]
     },
     "execution_count": 15,
     "metadata": {},
     "output_type": "execute_result"
    }
   ],
   "source": [
    "d = {}\n",
    "for i in hasCloseExternalAuthority:\n",
    "    d[f'{i.split(\".\")[1]}'] = i\n",
    "\n",
    "d"
   ]
  },
  {
   "cell_type": "code",
   "execution_count": 2,
   "metadata": {},
   "outputs": [
    {
     "name": "stdout",
     "output_type": "stream",
     "text": [
      "PREFIX name: <https://bibliokeia.com/authorities/name/>\n",
      "            PREFIX madsrdf: <http://www.loc.gov/mads/rdf/v1#>\n",
      "            PREFIX rdf: <http://www.w3.org/1999/02/22-rdf-syntax-ns#>\n",
      "            PREFIX rdfs: <http://www.w3.org/2000/01/rdf-schema#>\n",
      "        INSERT DATA { \n",
      "        GRAPH name:n80002329 {\n",
      "        madsrdf:fullerName [ a madsrdf:PersonalName ;\n",
      "            rdfs:label \"MACHADÃO de ASSIS\" ] ;\n",
      "                }\n",
      "        }\n"
     ]
    }
   ],
   "source": [
    "id = 'n80002329'\n",
    "obj = {\n",
    "  \"value\": \"MACHADÃO de ASSIS\",\n",
    "  \"type\": \"PersonalName\"\n",
    "}\n",
    "\n",
    "request = Authority(**obj)\n",
    "variant = PostFullerName(id, request)\n",
    "print(variant)"
   ]
  },
  {
   "cell_type": "code",
   "execution_count": 3,
   "metadata": {},
   "outputs": [
    {
     "ename": "QueryBadFormed",
     "evalue": "QueryBadFormed: A bad request has been sent to the endpoint: probably the SPARQL query is badly formed. \n\nResponse:\nb'Encountered \" \"[\" \"[ \"\" at line 7, column 28.\\r\\nWas expecting one of:\\r\\n    <IRIref> ...\\r\\n    <PNAME_NS> ...\\r\\n    <PNAME_LN> ...\\r\\n    <VAR1> ...\\r\\n    <VAR2> ...\\r\\n    \"a\" ...\\r\\n    \\n'",
     "output_type": "error",
     "traceback": [
      "\u001b[1;31m---------------------------------------------------------------------------\u001b[0m",
      "\u001b[1;31mHTTPError\u001b[0m                                 Traceback (most recent call last)",
      "File \u001b[1;32mc:\\Users\\Usuário\\Desktop\\BiblioKeia\\venv\\lib\\site-packages\\SPARQLWrapper\\Wrapper.py:926\u001b[0m, in \u001b[0;36mSPARQLWrapper._query\u001b[1;34m(self)\u001b[0m\n\u001b[0;32m    925\u001b[0m \u001b[39melse\u001b[39;00m:\n\u001b[1;32m--> 926\u001b[0m     response \u001b[39m=\u001b[39m urlopener(request)\n\u001b[0;32m    927\u001b[0m \u001b[39mreturn\u001b[39;00m response, \u001b[39mself\u001b[39m\u001b[39m.\u001b[39mreturnFormat\n",
      "File \u001b[1;32m~\\AppData\\Local\\Programs\\Python\\Python310\\lib\\urllib\\request.py:216\u001b[0m, in \u001b[0;36murlopen\u001b[1;34m(url, data, timeout, cafile, capath, cadefault, context)\u001b[0m\n\u001b[0;32m    215\u001b[0m     opener \u001b[39m=\u001b[39m _opener\n\u001b[1;32m--> 216\u001b[0m \u001b[39mreturn\u001b[39;00m opener\u001b[39m.\u001b[39;49mopen(url, data, timeout)\n",
      "File \u001b[1;32m~\\AppData\\Local\\Programs\\Python\\Python310\\lib\\urllib\\request.py:525\u001b[0m, in \u001b[0;36mOpenerDirector.open\u001b[1;34m(self, fullurl, data, timeout)\u001b[0m\n\u001b[0;32m    524\u001b[0m     meth \u001b[39m=\u001b[39m \u001b[39mgetattr\u001b[39m(processor, meth_name)\n\u001b[1;32m--> 525\u001b[0m     response \u001b[39m=\u001b[39m meth(req, response)\n\u001b[0;32m    527\u001b[0m \u001b[39mreturn\u001b[39;00m response\n",
      "File \u001b[1;32m~\\AppData\\Local\\Programs\\Python\\Python310\\lib\\urllib\\request.py:634\u001b[0m, in \u001b[0;36mHTTPErrorProcessor.http_response\u001b[1;34m(self, request, response)\u001b[0m\n\u001b[0;32m    633\u001b[0m \u001b[39mif\u001b[39;00m \u001b[39mnot\u001b[39;00m (\u001b[39m200\u001b[39m \u001b[39m<\u001b[39m\u001b[39m=\u001b[39m code \u001b[39m<\u001b[39m \u001b[39m300\u001b[39m):\n\u001b[1;32m--> 634\u001b[0m     response \u001b[39m=\u001b[39m \u001b[39mself\u001b[39;49m\u001b[39m.\u001b[39;49mparent\u001b[39m.\u001b[39;49merror(\n\u001b[0;32m    635\u001b[0m         \u001b[39m'\u001b[39;49m\u001b[39mhttp\u001b[39;49m\u001b[39m'\u001b[39;49m, request, response, code, msg, hdrs)\n\u001b[0;32m    637\u001b[0m \u001b[39mreturn\u001b[39;00m response\n",
      "File \u001b[1;32m~\\AppData\\Local\\Programs\\Python\\Python310\\lib\\urllib\\request.py:563\u001b[0m, in \u001b[0;36mOpenerDirector.error\u001b[1;34m(self, proto, *args)\u001b[0m\n\u001b[0;32m    562\u001b[0m args \u001b[39m=\u001b[39m (\u001b[39mdict\u001b[39m, \u001b[39m'\u001b[39m\u001b[39mdefault\u001b[39m\u001b[39m'\u001b[39m, \u001b[39m'\u001b[39m\u001b[39mhttp_error_default\u001b[39m\u001b[39m'\u001b[39m) \u001b[39m+\u001b[39m orig_args\n\u001b[1;32m--> 563\u001b[0m \u001b[39mreturn\u001b[39;00m \u001b[39mself\u001b[39;49m\u001b[39m.\u001b[39;49m_call_chain(\u001b[39m*\u001b[39;49margs)\n",
      "File \u001b[1;32m~\\AppData\\Local\\Programs\\Python\\Python310\\lib\\urllib\\request.py:496\u001b[0m, in \u001b[0;36mOpenerDirector._call_chain\u001b[1;34m(self, chain, kind, meth_name, *args)\u001b[0m\n\u001b[0;32m    495\u001b[0m func \u001b[39m=\u001b[39m \u001b[39mgetattr\u001b[39m(handler, meth_name)\n\u001b[1;32m--> 496\u001b[0m result \u001b[39m=\u001b[39m func(\u001b[39m*\u001b[39;49margs)\n\u001b[0;32m    497\u001b[0m \u001b[39mif\u001b[39;00m result \u001b[39mis\u001b[39;00m \u001b[39mnot\u001b[39;00m \u001b[39mNone\u001b[39;00m:\n",
      "File \u001b[1;32m~\\AppData\\Local\\Programs\\Python\\Python310\\lib\\urllib\\request.py:643\u001b[0m, in \u001b[0;36mHTTPDefaultErrorHandler.http_error_default\u001b[1;34m(self, req, fp, code, msg, hdrs)\u001b[0m\n\u001b[0;32m    642\u001b[0m \u001b[39mdef\u001b[39;00m \u001b[39mhttp_error_default\u001b[39m(\u001b[39mself\u001b[39m, req, fp, code, msg, hdrs):\n\u001b[1;32m--> 643\u001b[0m     \u001b[39mraise\u001b[39;00m HTTPError(req\u001b[39m.\u001b[39mfull_url, code, msg, hdrs, fp)\n",
      "\u001b[1;31mHTTPError\u001b[0m: HTTP Error 400: Bad Request",
      "\nDuring handling of the above exception, another exception occurred:\n",
      "\u001b[1;31mQueryBadFormed\u001b[0m                            Traceback (most recent call last)",
      "\u001b[1;32mc:\\Users\\Usuário\\Desktop\\BiblioKeia\\personal.ipynb Cell 3\u001b[0m in \u001b[0;36m<cell line: 2>\u001b[1;34m()\u001b[0m\n\u001b[0;32m      <a href='vscode-notebook-cell:/c%3A/Users/Usu%C3%A1rio/Desktop/BiblioKeia/personal.ipynb#X26sZmlsZQ%3D%3D?line=0'>1</a>\u001b[0m fuseki_update \u001b[39m=\u001b[39m FusekiUpdate(\u001b[39m'\u001b[39m\u001b[39mhttp://localhost:3030\u001b[39m\u001b[39m'\u001b[39m, \u001b[39m'\u001b[39m\u001b[39mauthorities\u001b[39m\u001b[39m'\u001b[39m)\n\u001b[1;32m----> <a href='vscode-notebook-cell:/c%3A/Users/Usu%C3%A1rio/Desktop/BiblioKeia/personal.ipynb#X26sZmlsZQ%3D%3D?line=1'>2</a>\u001b[0m response \u001b[39m=\u001b[39m fuseki_update\u001b[39m.\u001b[39;49mrun_sparql(variant)\n\u001b[0;32m      <a href='vscode-notebook-cell:/c%3A/Users/Usu%C3%A1rio/Desktop/BiblioKeia/personal.ipynb#X26sZmlsZQ%3D%3D?line=2'>3</a>\u001b[0m response\u001b[39m.\u001b[39mconvert()\n",
      "File \u001b[1;32mc:\\Users\\Usuário\\Desktop\\BiblioKeia\\venv\\lib\\site-packages\\pyfuseki\\syncFuseki\\fuseki.py:37\u001b[0m, in \u001b[0;36mBaseFuseki.run_sparql\u001b[1;34m(self, sparql_str, return_format)\u001b[0m\n\u001b[0;32m     35\u001b[0m \u001b[39mself\u001b[39m\u001b[39m.\u001b[39msparql_conn\u001b[39m.\u001b[39msetQuery(sparql_str)\n\u001b[0;32m     36\u001b[0m \u001b[39mself\u001b[39m\u001b[39m.\u001b[39msparql_conn\u001b[39m.\u001b[39msetReturnFormat(return_format)\n\u001b[1;32m---> 37\u001b[0m \u001b[39mreturn\u001b[39;00m \u001b[39mself\u001b[39;49m\u001b[39m.\u001b[39;49msparql_conn\u001b[39m.\u001b[39;49mquery()\n",
      "File \u001b[1;32mc:\\Users\\Usuário\\Desktop\\BiblioKeia\\venv\\lib\\site-packages\\SPARQLWrapper\\Wrapper.py:960\u001b[0m, in \u001b[0;36mSPARQLWrapper.query\u001b[1;34m(self)\u001b[0m\n\u001b[0;32m    942\u001b[0m \u001b[39mdef\u001b[39;00m \u001b[39mquery\u001b[39m(\u001b[39mself\u001b[39m) \u001b[39m-\u001b[39m\u001b[39m>\u001b[39m \u001b[39m\"\u001b[39m\u001b[39mQueryResult\u001b[39m\u001b[39m\"\u001b[39m:\n\u001b[0;32m    943\u001b[0m     \u001b[39m\"\"\"\u001b[39;00m\n\u001b[0;32m    944\u001b[0m \u001b[39m    Execute the query.\u001b[39;00m\n\u001b[0;32m    945\u001b[0m \u001b[39m    Exceptions can be raised if either the URI is wrong or the HTTP sends back an error (this is also the\u001b[39;00m\n\u001b[1;32m   (...)\u001b[0m\n\u001b[0;32m    958\u001b[0m \u001b[39m    :rtype: :class:`QueryResult` instance\u001b[39;00m\n\u001b[0;32m    959\u001b[0m \u001b[39m    \"\"\"\u001b[39;00m\n\u001b[1;32m--> 960\u001b[0m     \u001b[39mreturn\u001b[39;00m QueryResult(\u001b[39mself\u001b[39;49m\u001b[39m.\u001b[39;49m_query())\n",
      "File \u001b[1;32mc:\\Users\\Usuário\\Desktop\\BiblioKeia\\venv\\lib\\site-packages\\SPARQLWrapper\\Wrapper.py:930\u001b[0m, in \u001b[0;36mSPARQLWrapper._query\u001b[1;34m(self)\u001b[0m\n\u001b[0;32m    928\u001b[0m \u001b[39mexcept\u001b[39;00m urllib\u001b[39m.\u001b[39merror\u001b[39m.\u001b[39mHTTPError \u001b[39mas\u001b[39;00m e:\n\u001b[0;32m    929\u001b[0m     \u001b[39mif\u001b[39;00m e\u001b[39m.\u001b[39mcode \u001b[39m==\u001b[39m \u001b[39m400\u001b[39m:\n\u001b[1;32m--> 930\u001b[0m         \u001b[39mraise\u001b[39;00m QueryBadFormed(e\u001b[39m.\u001b[39mread())\n\u001b[0;32m    931\u001b[0m     \u001b[39melif\u001b[39;00m e\u001b[39m.\u001b[39mcode \u001b[39m==\u001b[39m \u001b[39m404\u001b[39m:\n\u001b[0;32m    932\u001b[0m         \u001b[39mraise\u001b[39;00m EndPointNotFound(e\u001b[39m.\u001b[39mread())\n",
      "\u001b[1;31mQueryBadFormed\u001b[0m: QueryBadFormed: A bad request has been sent to the endpoint: probably the SPARQL query is badly formed. \n\nResponse:\nb'Encountered \" \"[\" \"[ \"\" at line 7, column 28.\\r\\nWas expecting one of:\\r\\n    <IRIref> ...\\r\\n    <PNAME_NS> ...\\r\\n    <PNAME_LN> ...\\r\\n    <VAR1> ...\\r\\n    <VAR2> ...\\r\\n    \"a\" ...\\r\\n    \\n'"
     ]
    }
   ],
   "source": [
    "fuseki_update = FusekiUpdate('http://localhost:3030', 'authorities')\n",
    "response = fuseki_update.run_sparql(variant)\n",
    "response.convert()"
   ]
  },
  {
   "cell_type": "code",
   "execution_count": 4,
   "metadata": {},
   "outputs": [
    {
     "ename": "NameError",
     "evalue": "name 'addVariantPersonalName' is not defined",
     "output_type": "error",
     "traceback": [
      "\u001b[1;31m---------------------------------------------------------------------------\u001b[0m",
      "\u001b[1;31mNameError\u001b[0m                                 Traceback (most recent call last)",
      "\u001b[1;32mc:\\Users\\Usuário\\Desktop\\BiblioKeia\\personal.ipynb Cell 2\u001b[0m in \u001b[0;36m<cell line: 15>\u001b[1;34m()\u001b[0m\n\u001b[0;32m     <a href='vscode-notebook-cell:/c%3A/Users/Usu%C3%A1rio/Desktop/BiblioKeia/personal.ipynb#W1sZmlsZQ%3D%3D?line=12'>13</a>\u001b[0m request \u001b[39m=\u001b[39m EditVariant(\u001b[39m*\u001b[39m\u001b[39m*\u001b[39mobj)\n\u001b[0;32m     <a href='vscode-notebook-cell:/c%3A/Users/Usu%C3%A1rio/Desktop/BiblioKeia/personal.ipynb#W1sZmlsZQ%3D%3D?line=13'>14</a>\u001b[0m \u001b[39mid\u001b[39m \u001b[39m=\u001b[39m \u001b[39m'\u001b[39m\u001b[39mn80002329\u001b[39m\u001b[39m'\u001b[39m\n\u001b[1;32m---> <a href='vscode-notebook-cell:/c%3A/Users/Usu%C3%A1rio/Desktop/BiblioKeia/personal.ipynb#W1sZmlsZQ%3D%3D?line=14'>15</a>\u001b[0m variant \u001b[39m=\u001b[39m addVariantPersonalName(\u001b[39mid\u001b[39m, request)\n\u001b[0;32m     <a href='vscode-notebook-cell:/c%3A/Users/Usu%C3%A1rio/Desktop/BiblioKeia/personal.ipynb#W1sZmlsZQ%3D%3D?line=15'>16</a>\u001b[0m \u001b[39mprint\u001b[39m(variant)\n",
      "\u001b[1;31mNameError\u001b[0m: name 'addVariantPersonalName' is not defined"
     ]
    }
   ],
   "source": [
    "obj = {\n",
    "  \"oldVariant\": {\n",
    "    \"value\": \"Machado de Assis, Joaquín María\",\n",
    "    \"date\": \"1839-1908\",\n",
    "    \"type\": \"PersonalName\"\n",
    "  },\n",
    "  \"newVariant\": {\n",
    "\"value\": \"MACHADÃO\",\n",
    "    \"type\": \"PersonalName\"\n",
    "  }\n",
    "}\n",
    "\n",
    "request = EditVariant(**obj)\n",
    "id = 'n80002329'\n",
    "variant = addVariantPersonalName(id, request)\n",
    "print(variant)"
   ]
  },
  {
   "cell_type": "code",
   "execution_count": 3,
   "metadata": {},
   "outputs": [
    {
     "data": {
      "text/plain": [
       "{'statusCode': 200, 'message': 'Update succeeded'}"
      ]
     },
     "execution_count": 3,
     "metadata": {},
     "output_type": "execute_result"
    }
   ],
   "source": [
    "fuseki_update = FusekiUpdate('http://localhost:3030', 'authorities')\n",
    "response = fuseki_update.run_sparql(variant)\n",
    "response.convert()"
   ]
  },
  {
   "cell_type": "code",
   "execution_count": null,
   "metadata": {},
   "outputs": [],
   "source": [
    "id = 'n80002329'\n",
    "variant = f\"\"\"PREFIX name: <https://bibliokeia.com/authorities/name/>\n",
    "        PREFIX madsrdf: <http://www.loc.gov/mads/rdf/v1#>\n",
    "        PREFIX rdf: <http://www.w3.org/1999/02/22-rdf-syntax-ns#>\n",
    "\n",
    "        WITH name:{id}\n",
    "\n",
    "            DELETE {{\n",
    "            name:{id} madsrdf:hasVariant ?hasVariant .\n",
    "    ?hasVariant madsrdf:variantLabel \"{request.oldVariant.value}, {request.oldVariant.date}\" .\n",
    "    ?hasVariant madsrdf:elementList ?elementList .\n",
    "    ?elementList rdf:first ?first .\n",
    "    ?first madsrdf:elementValue \"{request.oldVariant.value}\" .\n",
    "    ?elementList rdf:rest ?rest .\n",
    "    ?rest rdf:first ?date .\n",
    "    ?date madsrdf:elementValue \"{request.oldVariant.date}\"\n",
    "             }}\n",
    "\n",
    "        INSERT {{ \n",
    "         name:{id} madsrdf:hasVariant ?hasVariant .\n",
    "    ?hasVariant madsrdf:variantLabel \"{request.newVariant.value}, {request.newVariant.date}\" .\n",
    "    ?hasVariant madsrdf:elementList ?elementList .\n",
    "    ?elementList rdf:first ?first .\n",
    "    ?first madsrdf:elementValue \"{request.newVariant.value}\" .\n",
    "    ?elementList rdf:rest ?rest .\n",
    "    ?rest rdf:first ?date .\n",
    "    ?date madsrdf:elementValue \"{request.newVariant.date}\"\n",
    "        }}\n",
    "\n",
    "        WHERE {{ \n",
    "        name:{id} madsrdf:hasVariant ?hasVariant .\n",
    "    ?hasVariant madsrdf:variantLabel \"{request.oldVariant.value}, {request.oldVariant.date}\" .\n",
    "    ?hasVariant madsrdf:elementList ?elementList .\n",
    "    ?elementList rdf:first ?first .\n",
    "    ?first madsrdf:elementValue \"{request.oldVariant.value}\" .\n",
    "    ?elementList rdf:rest ?rest .\n",
    "    ?rest rdf:first ?date .\n",
    "    ?date madsrdf:elementValue \"{request.oldVariant.date}\"\n",
    "        \n",
    "         }}\"\"\"\n",
    "\n",
    "fuseki_update = FusekiUpdate('http://localhost:3030', 'authorities')\n",
    "response = fuseki_update.run_sparql(variant)\n",
    "response.convert()\n",
    "# print(variant)\n",
    "        "
   ]
  },
  {
   "cell_type": "code",
   "execution_count": null,
   "metadata": {},
   "outputs": [],
   "source": [
    "obj = {\n",
    "  \"id\": \"n80002329\",\n",
    "  \"label\": \"Machado de Assis\",\n",
    "  \"date\": \"1839-1908\",\n",
    "  \"birthDate\": \"1839-06-21\",\n",
    "  \"birthPlace\": \"Rio de Janeiro (Brazil)\",\n",
    "  \"deathDate\": \"1908-09-29\",\n",
    "  \"fullerName\": \"Joaquim Maria Machado\",\n",
    "  \"hasCloseExternalAuthority\": [\"http://id.worldcat.org/fast/48407\", \"http://www.wikidata.org/entity/Q311145\"],\n",
    "  \"hasExactExternalAuthority\": [\"http://viaf.org/viaf/sourceID/LC%7Cn++80002329#skos:Concept\"],\n",
    "  \"hasVariant\": [\n",
    "    {\n",
    "      \"value\": \"Machado de Assis, Joaquín María\",\n",
    "      \"type\": \"PersonalName\",\n",
    "      \"date\": \"1839-1908\"\n",
    "    },\n",
    "    {\n",
    "      \"value\": \"Mashado de Assiz, Zhoakin\",\n",
    "      \"type\": \"PersonalName\",\n",
    "      \"date\": \"1839-1908\"\n",
    "    },\n",
    "    {\n",
    "      \"value\": \"Assis, Machado de\",\n",
    "      \"type\": \"PersonalName\",\n",
    "      \"date\": \"1839-1908\"\n",
    "    }\n",
    "  ],\n",
    "  \"hasAffiliation\": [\n",
    "    {\n",
    "    \"organization\": \"http://id.loc.gov/authorities/names/n82059239\",\n",
    "    \"affiliationStart\": \"1897\",\n",
    "    \"affiliationEnd\": \"1908\"\n",
    "    }\n",
    "  ],\n",
    "  \"occupation\": [\n",
    "    \"http://id.loc.gov/authorities/subjects/sh85034154\",\n",
    "    \"http://id.loc.gov/authorities/subjects/sh85092863\"\n",
    "\n",
    "  ]\n",
    "}\n",
    "\n",
    "request = PersonalName(**obj)\n",
    "request"
   ]
  },
  {
   "cell_type": "code",
   "execution_count": null,
   "metadata": {},
   "outputs": [],
   "source": [
    "AUT = {\n",
    "    \"value\": \"Joaquim Maria Machado de Assis\",\n",
    "    \"type\": \"PersonalName\"\n",
    "}\n",
    "request = Authority(**AUT)\n",
    "request"
   ]
  },
  {
   "cell_type": "code",
   "execution_count": null,
   "metadata": {},
   "outputs": [],
   "source": [
    "id = \"n80002329\"\n",
    "updates = EditAuthorityPersonalName(id, request)\n",
    "print(updates)"
   ]
  },
  {
   "cell_type": "code",
   "execution_count": null,
   "metadata": {},
   "outputs": [],
   "source": [
    "fuseki_update = FusekiUpdate('http://localhost:3030', 'authorities')\n",
    "for i in updates:\n",
    "    response = fuseki_update.run_sparql(i)\n",
    "    print(response.convert())"
   ]
  },
  {
   "cell_type": "code",
   "execution_count": null,
   "metadata": {},
   "outputs": [],
   "source": [
    "elementValue = f\"\"\"PREFIX name: <https://bibliokeia.com/authorities/name/>\n",
    "            PREFIX madsrdf: <http://www.loc.gov/mads/rdf/v1#>\n",
    "            PREFIX rdf: <http://www.w3.org/1999/02/22-rdf-syntax-ns#>\n",
    "            \n",
    "            WITH name:{id}\n",
    "            DELETE {{ name:{id} madsrdf:elementList ?elementList .\n",
    "    ?elementList rdf:first ?o .\n",
    "    ?o madsrdf:elementValue ?elementValue  }}\n",
    "            INSERT {{  name:{id} madsrdf:elementList ?elementList .\n",
    "    ?elementList rdf:first ?o .\n",
    "    ?o madsrdf:elementValue \"{request.value}\" . }}\n",
    "            WHERE {{ name:{id} madsrdf:elementList ?elementList .\n",
    "    ?elementList rdf:first ?o .\n",
    "    ?o madsrdf:elementValue ?elementValue }}\"\"\"\n",
    "\n",
    "fuseki_update = FusekiUpdate('http://localhost:3030', 'authorities')\n",
    "response = fuseki_update.run_sparql(elementValue)\n",
    "response.convert()"
   ]
  },
  {
   "cell_type": "code",
   "execution_count": null,
   "metadata": {},
   "outputs": [],
   "source": [
    "id = 'n80002329'\n",
    "name = f\"\"\"PREFIX name: <https://bibliokeia.com/authorities/name/>\n",
    "            PREFIX madsrdf: <http://www.loc.gov/mads/rdf/v1#>\n",
    "            \n",
    "            WITH name:{id}\n",
    "            DELETE {{ name:{id} madsrdf:authoritativeLabel ?o }}\n",
    "            INSERT {{ name:{id} madsrdf:authoritativeLabel { f'\"{request.value}, {request.date}\" ; ' if request.date else f'\"{request.label}\" ;' } }}\n",
    "            WHERE {{ name:{id} madsrdf:authoritativeLabel ?o }}\"\"\"\n",
    "print(name)\n",
    "fuseki_update = FusekiUpdate('http://localhost:3030', 'authorities')\n",
    "response = fuseki_update.run_sparql(name)\n",
    "response.convert()"
   ]
  },
  {
   "cell_type": "code",
   "execution_count": null,
   "metadata": {},
   "outputs": [],
   "source": [
    "solr = Solr('http://localhost:8983/solr/authorities/', timeout=10)\n",
    "responseSolr = solr.add([doc], commit=True)\n",
    "responseSolr"
   ]
  },
  {
   "cell_type": "code",
   "execution_count": null,
   "metadata": {},
   "outputs": [],
   "source": [
    "personalGraph = MakePersonalGraph(request)\n",
    "print(personalGraph)"
   ]
  },
  {
   "cell_type": "code",
   "execution_count": null,
   "metadata": {},
   "outputs": [],
   "source": [
    "fuseki_update = FusekiUpdate('http://localhost:3030', 'authorities')\n",
    "response = fuseki_update.run_sparql(personalGraph)\n",
    "response.convert()"
   ]
  },
  {
   "cell_type": "code",
   "execution_count": null,
   "metadata": {},
   "outputs": [],
   "source": [
    "def MakeVariant(hasVariant):\n",
    "    \n",
    "    variants = list()\n",
    "    for i in hasVariant:\n",
    "        variant = f\"\"\"[ a madsrdf:PersonalName,\n",
    "                madsrdf:Variant ;\n",
    "            madsrdf:elementList ( [ a madsrdf:FullNameElement ;\n",
    "                        madsrdf:elementValue \"{i.value}\" ] \n",
    "                         { '[ a madsrdf:DateNameElement ; madsrdf:elementValue \"{}\" ] ) ;'.format(i.date) if i.date else ') ;' }           \n",
    "            { ' madsrdf:variantLabel \"{}, {}\" ]'.format(i.value, i.date) if i.date else 'madsrdf:variantLabel \"{i.value}\" ]' }\"\"\"\n",
    "        variants.append(variant)\n",
    "    return variants\n",
    "\n",
    "variants = MakeVariant(request.hasVariant)\n"
   ]
  },
  {
   "cell_type": "code",
   "execution_count": null,
   "metadata": {},
   "outputs": [],
   "source": [
    "def MakeAffiliation(hasAffiliation):\n",
    "\n",
    "    affiliations = list()\n",
    "    for i in hasAffiliation:\n",
    "        affiliation = f\"\"\"[ a madsrdf:Affiliation;\n",
    "            { f'madsrdf:affiliationEnd \"{i.affiliationEnd}\" ;' if i.affiliationEnd else \"\" }\n",
    "            { f'madsrdf:affiliationStart \"{i.affiliationStart}\" ;' if i.affiliationStart else \"\" }\n",
    "            madsrdf:organization <{i.organization}> ] \"\"\"\n",
    "        affiliations.append(affiliation)\n",
    "\n",
    "    return affiliations\n",
    "\n"
   ]
  },
  {
   "cell_type": "code",
   "execution_count": null,
   "metadata": {},
   "outputs": [],
   "source": [
    "closeExternal = \"madsrdf:hasCloseExternalAuthority {} ; \\n\"\n",
    "exactExternal = \"madsrdf:hasExactExternalAuthority {} ; \\n\"\n",
    "hasVariant = \"madsrdf:hasVariant  {}  ; \\n\"\n",
    "birthPlace = \"\"\"madsrdf:birthPlace [ a madsrdf:Geographic ;\n",
    "            rdfs:label \"{}\" ] ;\"\"\"\n",
    "hasAffiliation = \"madsrdf:hasAffiliation {} ;\"\n",
    "occupation = \"madsrdf:occupation {} ; \\n\"\n",
    "\n",
    "if request.hasVariant:\n",
    "        variants = MakeVariant(request.hasVariant)\n",
    "if request.hasAffiliation:\n",
    "        affiliations = MakeAffiliation(request.hasAffiliation)\n",
    "\n",
    "\n",
    "template = f\"\"\"PREFIX rdf: <http://www.w3.org/1999/02/22-rdf-syntax-ns#> \n",
    "PREFIX madsrdf: <http://www.loc.gov/mads/rdf/v1#> \n",
    "PREFIX owl: <http://www.w3.org/2002/07/owl#> \n",
    "PREFIX ri: <http://id.loc.gov/ontologies/RecordInfo#> \n",
    "PREFIX name: <https://bibliokeia.com/authorities/name/> \n",
    "PREFIX xsd: <http://www.w3.org/2001/XMLSchema#>\n",
    "PREFIX rdfs: <http://www.w3.org/2000/01/rdf-schema#>\n",
    "\n",
    "INSERT DATA {{\n",
    "GRAPH name:{request.id} {{\n",
    " name:{request.id} a madsrdf:Authority, madsrdf:PersonalName ;\n",
    "        madsrdf:adminMetadata [ a ri:RecordInfo ; \n",
    "        ri:recordChangeDate \"{request.recordChangeDate}\"^^xsd:dateTime ;\n",
    "        ri:recordContentSource <http://id.loc.gov/vocabulary/organizations/brmninpa> ;\n",
    "        ri:recordStatus \"new\"^^xsd:string\n",
    "        ] ; \n",
    "        madsrdf:authoritativeLabel \"{request.label}\" ;\n",
    "        madsrdf:elementList ( [ a madsrdf:FullNameElement ;\n",
    "                madsrdf:elementValue \"{request.label}\" ] \n",
    "                { '[ a madsrdf:DateNameElement ; madsrdf:elementValue \"{}\" ]'.format(request.date) if request.date else '' } ) ;\n",
    "        madsrdf:fullerName [ a madsrdf:PersonalName ;\n",
    "            rdfs:label \"{request.fullerName}\" ] ;\n",
    "        { closeExternal.format(', '.join([ f'<{i}>' for i in request.hasCloseExternalAuthority])) if request.hasCloseExternalAuthority else '' }\n",
    "        { exactExternal.format(', '.join([ f'<{i}>' for i in request.hasExactExternalAuthority])) if request.hasExactExternalAuthority else '' } \n",
    "        { hasVariant.format(', '.join(variants)) if request.hasVariant else '' } \n",
    "        { f'madsrdf:birthDate \"{request.birthDate}\" ;' if request.birthDate else '' } \n",
    "        { birthPlace.format(request.birthPlace) if request.birthPlace else '' } \n",
    "        { f'madsrdf:deathDate \"{request.deathDate}\" ;' if request.deathDate else '' } \n",
    "        { hasAffiliation.format(', '.join(affiliations)) if request.hasAffiliation else '' } \n",
    "        { occupation.format(', '.join([ f'<{i}>' for i in request.occupation])) if request.occupation else '' } \n",
    "}} }}\n",
    "\"\"\"\n",
    "print(template)"
   ]
  },
  {
   "cell_type": "code",
   "execution_count": null,
   "metadata": {},
   "outputs": [],
   "source": [
    "fuseki_update = FusekiUpdate('http://localhost:3030', 'authorities')\n",
    "response = fuseki_update.run_sparql(template)\n",
    "response.convert()"
   ]
  },
  {
   "cell_type": "code",
   "execution_count": null,
   "metadata": {},
   "outputs": [],
   "source": [
    "g = Graph()\n",
    "g.parse(\"http://id.loc.gov/authorities/names/n80002329.madsrdf.rdf\")\n",
    "g.serialize('machado.nt')"
   ]
  },
  {
   "cell_type": "code",
   "execution_count": null,
   "metadata": {},
   "outputs": [],
   "source": [
    "g = Graph()\n",
    "r = httpx.get('http://localhost:3030/authorities?graph=https://bibliokeia.com/authorities/topic/sh85017405')\n",
    "g.parse(r.content)\n",
    "g.serialize(\"subject.nt\")"
   ]
  }
 ],
 "metadata": {
  "kernelspec": {
   "display_name": "Python 3.11.0 ('venv': venv)",
   "language": "python",
   "name": "python3"
  },
  "language_info": {
   "codemirror_mode": {
    "name": "ipython",
    "version": 3
   },
   "file_extension": ".py",
   "mimetype": "text/x-python",
   "name": "python",
   "nbconvert_exporter": "python",
   "pygments_lexer": "ipython3",
   "version": "3.10.4"
  },
  "orig_nbformat": 4,
  "vscode": {
   "interpreter": {
    "hash": "5df21a170a08fe7c24b5b1091267edae5bad3984f1116f28e957af7dd8f192dc"
   }
  }
 },
 "nbformat": 4,
 "nbformat_minor": 2
}
