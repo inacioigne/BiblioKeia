{
 "cells": [
  {
   "cell_type": "code",
   "execution_count": 12,
   "metadata": {},
   "outputs": [],
   "source": [
    "from pyfuseki import FusekiUpdate, FusekiQuery\n",
    "import httpx\n",
    "from rdflib import Graph\n",
    "from pysolr import Solr\n",
    "from api.src.schemas.authorities.topic import Topic, Authority\n",
    "from datetime import datetime\n",
    "from api.src.function.authorities.topic import template\n",
    "from enum import Enum\n",
    "from pydantic import BaseModel, validator"
   ]
  },
  {
   "cell_type": "code",
   "execution_count": 17,
   "metadata": {},
   "outputs": [],
   "source": [
    "fuseki_update = FusekiUpdate('http://localhost:3030', 'authorities')"
   ]
  },
  {
   "cell_type": "code",
   "execution_count": 13,
   "metadata": {},
   "outputs": [
    {
     "data": {
      "text/plain": [
       "Authority(value='Metodo', lang='pt', type='Topic')"
      ]
     },
     "execution_count": 13,
     "metadata": {},
     "output_type": "execute_result"
    }
   ],
   "source": [
    "obj = {\n",
    "  \"value\":\n",
    "    \"Metodo\",\n",
    "  \"lang\": \"pt\",\n",
    "  \"type\": \"Topic\"\n",
    "}\n",
    "request = Authority(**obj)\n",
    "request"
   ]
  },
  {
   "cell_type": "code",
   "execution_count": 18,
   "metadata": {},
   "outputs": [
    {
     "name": "stdout",
     "output_type": "stream",
     "text": [
      "{'statusCode': 200, 'message': 'Update succeeded'}\n"
     ]
    }
   ],
   "source": [
    "label = \"\"\"PREFIX topic: <https://bibliokeia.com/authorities/topic/>\n",
    "                PREFIX madsrdf: <http://www.loc.gov/mads/rdf/v1#>\n",
    "                \n",
    "                WITH topic:{id}\n",
    "                DELETE {{ topic:{id} madsrdf:authoritativeLabel ?o  }}\n",
    "                INSERT {{ topic:{id} madsrdf:authoritativeLabel '{value}'@{lang} }}\n",
    "                WHERE {{ topic:{id} madsrdf:authoritativeLabel ?o }}\"\"\"\n",
    "\n",
    "d = request.dict()\n",
    "d['id'] = 'sh85017405'\n",
    "upLabel = label.format(**d)\n",
    "responde = fuseki_update.run_sparql(upLabel)\n",
    "print(responde.convert())"
   ]
  },
  {
   "cell_type": "code",
   "execution_count": 19,
   "metadata": {},
   "outputs": [
    {
     "data": {
      "text/plain": [
       "{'value': 'Metodo', 'lang': 'pt', 'type': 'Topic', 'id': 'sh85017405'}"
      ]
     },
     "execution_count": 19,
     "metadata": {},
     "output_type": "execute_result"
    }
   ],
   "source": [
    "d"
   ]
  },
  {
   "cell_type": "code",
   "execution_count": null,
   "metadata": {},
   "outputs": [],
   "source": [
    "doc = {\n",
    "    'id': 'sh85017405',\n",
    "    'label': {\"set\": 'Metodo'},\n",
    "    'lang': {\"set\": 'pt'}\n",
    "}"
   ]
  },
  {
   "cell_type": "markdown",
   "metadata": {},
   "source": [
    "SOLR"
   ]
  },
  {
   "cell_type": "code",
   "execution_count": 5,
   "metadata": {},
   "outputs": [
    {
     "data": {
      "text/plain": [
       "{'recordChangeDate': '2023-04-02T19:03:19',\n",
       " 'identifier': 'sh85017405',\n",
       " 'label': 'Methodology',\n",
       " 'lang': 'en',\n",
       " 'hasReciprocalAuthority': ['http://id.loc.gov/authorities/subjects/sh85113021'],\n",
       " 'hasBroaderAuthority': ['http://id.loc.gov/authorities/subjects/sh85017404'],\n",
       " 'hasNarrowerAuthority': ['http://id.loc.gov/authorities/subjects/sh00005679',\n",
       "  'http://id.loc.gov/authorities/subjects/sh00005984',\n",
       "  'http://id.loc.gov/authorities/subjects/sh2001008679'],\n",
       " 'hasCloseExternalAuthority': ['http://d-nb.info/gnd/4061488-8',\n",
       "  'http://data.bnf.fr/ark:/12148/cb12345685v',\n",
       "  'http://id.worldcat.org/fast/839960',\n",
       "  'http://www.wikidata.org/entity/Q130933',\n",
       "  'http://www.yso.fi/onto/yso/p21203'],\n",
       " 'hasExactExternalAuthority': ['http://id.loc.gov/authorities/classification/BD240-BD241'],\n",
       " 'hasVariant': [{'value': 'Northern eagle owl', 'lang': 'en', 'type': 'Topic'},\n",
       "  {'value': 'Great eagle owl', 'lang': 'en', 'type': 'Topic'},\n",
       "  {'value': ['Philosophy', 'Methodology'],\n",
       "   'lang': 'en',\n",
       "   'type': 'ComplexSubject'}],\n",
       " 'subjectOf': None,\n",
       " 'type': 'Topic'}"
      ]
     },
     "execution_count": 5,
     "metadata": {},
     "output_type": "execute_result"
    }
   ],
   "source": [
    "obj = {\n",
    "  \"identifier\": \"sh85017405\",\n",
    "  \"label\": \"Methodology\",\n",
    "  \"lang\": \"en\",\n",
    "  \"hasReciprocalAuthority\": [\"http://id.loc.gov/authorities/subjects/sh85113021\"],\n",
    "  \"hasBroaderAuthority\" : [\"http://id.loc.gov/authorities/subjects/sh85017404\"],\n",
    " \"hasExactExternalAuthority\": [\"http://id.loc.gov/authorities/classification/BD240-BD241\"],\n",
    " \"hasCloseExternalAuthority\" : [\n",
    "    \"http://d-nb.info/gnd/4061488-8\",\n",
    "        \"http://data.bnf.fr/ark:/12148/cb12345685v\",\n",
    "        \"http://id.worldcat.org/fast/839960\",\n",
    "        \"http://www.wikidata.org/entity/Q130933\",\n",
    "        \"http://www.yso.fi/onto/yso/p21203\" \n",
    "  ],\n",
    "  \"hasNarrowerAuthority\": [\n",
    "    \"http://id.loc.gov/authorities/subjects/sh00005679\",\n",
    "    \"http://id.loc.gov/authorities/subjects/sh00005984\",\n",
    "    \"http://id.loc.gov/authorities/subjects/sh2001008679\"\n",
    "  ],\n",
    "  \"hasVariant\": [\n",
    "    { \"value\": \"Northern eagle owl\",\n",
    "    \"type\": \"Topic\",\n",
    "    \"lang\": \"en\" },\n",
    "    { \"value\": \"Great eagle owl\",\n",
    "    \"type\": \"Topic\",\n",
    "    \"lang\": \"en\" },\n",
    "    { \"value\": [\"Philosophy\",\"Methodology\"],\n",
    "    \"type\": \"ComplexSubject\",\n",
    "    \"lang\": \"en\" }\n",
    "  ]\n",
    "    }\n",
    "\n",
    "request = Topic(**obj)\n",
    "d = request.dict()\n",
    "d"
   ]
  },
  {
   "cell_type": "code",
   "execution_count": 8,
   "metadata": {},
   "outputs": [
    {
     "data": {
      "text/plain": [
       "{'statusCode': 200, 'message': 'Update succeeded'}"
      ]
     },
     "execution_count": 8,
     "metadata": {},
     "output_type": "execute_result"
    }
   ],
   "source": [
    "fuseki_update = FusekiUpdate('http://localhost:3030', 'authorities')\n",
    "\n",
    "prefix = \"\"\"PREFIX topic: <https://bibliokeia.com/authorities/topic/>\n",
    "PREFIX madsrdf: <http://www.loc.gov/mads/rdf/v1#>\"\"\"\n",
    "bkID = \"sh85017405\"\n",
    "up = prefix+\"WITH topic:\"+bkID+\"\"\"\n",
    "            DELETE { topic:sh85017405 madsrdf:authoritativeLabel ?o  }\n",
    "            INSERT { topic:sh85017405 madsrdf:authoritativeLabel 'Metodologia'@pt }\n",
    "            WHERE { topic:sh85017405 madsrdf:authoritativeLabel ?o }\"\"\"\n",
    "\n",
    "response = fuseki_update.run_sparql(up)\n",
    "response.convert()"
   ]
  },
  {
   "cell_type": "code",
   "execution_count": 10,
   "metadata": {},
   "outputs": [
    {
     "data": {
      "text/plain": [
       "{'statusCode': 200, 'message': 'Update succeeded'}"
      ]
     },
     "execution_count": 10,
     "metadata": {},
     "output_type": "execute_result"
    }
   ],
   "source": [
    "prefix = \"\"\"PREFIX topic: <https://bibliokeia.com/authorities/topic/>\n",
    "            PREFIX madsrdf: <http://www.loc.gov/mads/rdf/v1#>\n",
    "            PREFIX rdf: <http://www.w3.org/1999/02/22-rdf-syntax-ns#>\"\"\"\n",
    "bkID = \"sh85017405\"\n",
    "up = prefix+\"WITH topic:\"+bkID+\"\"\"\n",
    "            DELETE { topic:sh85017405 madsrdf:elementList ?elementList .\n",
    "        ?elementList rdf:rest rdf:nil .\n",
    "        ?elementList rdf:first ?element .\n",
    "        ?element rdf:type madsrdf:TopicElement .\n",
    "        ?element madsrdf:elementValue ?value  }\n",
    "            INSERT { topic:sh85017405 madsrdf:elementList ?elementList .\n",
    "        ?elementList rdf:rest rdf:nil .\n",
    "        ?elementList rdf:first ?element .\n",
    "        ?element rdf:type madsrdf:TopicElement .\n",
    "        ?element madsrdf:elementValue 'Metodologia'@pt }\n",
    "            WHERE { topic:sh85017405 madsrdf:elementList ?elementList .\n",
    "        ?elementList rdf:rest rdf:nil .\n",
    "        ?elementList rdf:first ?element .\n",
    "        ?element rdf:type madsrdf:TopicElement .\n",
    "        ?element madsrdf:elementValue ?value }\"\"\"\n",
    "\n",
    "response = fuseki_update.run_sparql(up)\n",
    "response.convert()"
   ]
  },
  {
   "cell_type": "code",
   "execution_count": 16,
   "metadata": {},
   "outputs": [],
   "source": [
    "solr = Solr('http://localhost:8983/solr/authorities/', timeout=10)"
   ]
  },
  {
   "cell_type": "code",
   "execution_count": null,
   "metadata": {},
   "outputs": [],
   "source": [
    "doc = {\n",
    "    'id': request.identifier,\n",
    "    'uri': f'https://bibliokeia.com/authorities/topic/{request.identifier}'\n",
    "}\n",
    "\n",
    "for k, v in request:\n",
    "    if v:\n",
    "        if k == 'hasVariant':\n",
    "            variant = [i['value'] for i in v]\n",
    "            doc['variant'] = variant\n",
    "        else:\n",
    "            print(v)\n",
    "doc"
   ]
  },
  {
   "cell_type": "code",
   "execution_count": 15,
   "metadata": {},
   "outputs": [
    {
     "name": "stdout",
     "output_type": "stream",
     "text": [
      "['Northern eagle owl', 'Great eagle owl', 'Philosophy--Methodology']\n",
      "['Northern eagle owl', 'Great eagle owl', 'Philosophy--Methodology']\n",
      "['Northern eagle owl', 'Great eagle owl', 'Philosophy--Methodology']\n"
     ]
    }
   ],
   "source": [
    "for i in request.hasVariant:\n",
    "    variant = [\"--\".join(i.value) if i.type == 'ComplexSubject' else i.value for i in request.hasVariant]\n",
    "    print(variant)"
   ]
  },
  {
   "cell_type": "code",
   "execution_count": 7,
   "metadata": {},
   "outputs": [
    {
     "name": "stdout",
     "output_type": "stream",
     "text": [
      "PREFIX rdf: <http://www.w3.org/1999/02/22-rdf-syntax-ns#> \n",
      "PREFIX madsrdf: <http://www.loc.gov/mads/rdf/v1#> \n",
      "PREFIX owl: <http://www.w3.org/2002/07/owl#> \n",
      "PREFIX ri: <http://id.loc.gov/ontologies/RecordInfo#> \n",
      "PREFIX topic: <https://bibliokeia.com/authorities/topic/> \n",
      "PREFIX xsd: <http://www.w3.org/2001/XMLSchema#>\n",
      "\n",
      "INSERT DATA {\n",
      "    GRAPH topic:sh2018002121 {\n",
      "        topic:sh2018002121 a madsrdf:Authority, madsrdf:Topic ;\n",
      "        madsrdf:adminMetadata [ a ri:RecordInfo ; \n",
      "        ri:recordChangeDate \"2023-04-02T09:56:28\"^^xsd:dateTime ;\n",
      "        ri:recordContentSource <http://id.loc.gov/vocabulary/organizations/brmninpa> ;\n",
      "        ri:recordStatus \"new\"^^xsd:string\n",
      "        ] ; \n",
      "        madsrdf:authoritativeLabel \"Dark Web\"@en ;\n",
      "        madsrdf:elementList ( [ a madsrdf:TopicElement ;\n",
      "                madsrdf:elementValue \"Dark Web\"@en ] ) ;    \n",
      " madsrdf:hasBroaderAuthority <http://id.loc.gov/authorities/subjects/sh2008009697> ; \n",
      " madsrdf:hasCloseExternalAuthority <http://id.worldcat.org/fast/2003430> ; \n",
      "         madsrdf:hasExactExternalAuthority <http://id.loc.gov/authorities/subjects/sh2018002121> ; \n",
      "     madsrdf:hasVariant [ a madsrdf:Topic,\n",
      "                madsrdf:Variant ;\n",
      "            madsrdf:elementList ( [ a madsrdf:TopicElement ;\n",
      "                        madsrdf:elementValue \"Internet escura\"@en ] ) ;\n",
      "            madsrdf:variantLabel \"Internet escura\"@en ], [ a madsrdf:Topic,\n",
      "                madsrdf:Variant ;\n",
      "            madsrdf:elementList ( [ a madsrdf:TopicElement ;\n",
      "                        madsrdf:elementValue \"Darknet\"@en ] ) ;\n",
      "            madsrdf:variantLabel \"Darknet\"@en ] ; \n",
      " } }\n"
     ]
    }
   ],
   "source": [
    "graph = template.format(**request.dict())\n",
    "broader = \"madsrdf:hasBroaderAuthority {} ; \\n\"\n",
    "closeExternal = \"madsrdf:hasCloseExternalAuthority {} ; \\n\"\n",
    "exactExternal = \"madsrdf:hasExactExternalAuthority {} ; \\n\"\n",
    "hasVariant = \"madsrdf:hasVariant {} ; \\n\"\n",
    "\n",
    "variant = \"\"\"[ a madsrdf:Topic,\n",
    "                madsrdf:Variant ;\n",
    "            madsrdf:elementList ( [ a madsrdf:TopicElement ;\n",
    "                        madsrdf:elementValue \"{value}\"@{lang} ] ) ;\n",
    "            madsrdf:variantLabel \"{value}\"@{lang} ]\"\"\"\n",
    "\n",
    "variants = list()\n",
    "for i in request.hasVariant:\n",
    "    v = variant.format(**i)\n",
    "    variants.append(v)\n",
    "\n",
    "x = f\"{graph} \\\n",
    "{ broader.format(', '.join([ f'<{i}>' for i in request.hasBroaderAuthority])) if request.hasBroaderAuthority else '' } \\\n",
    "{ closeExternal.format(', '.join([ f'<{i}>' for i in request.hasCloseExternalAuthority])) if request.hasCloseExternalAuthority else '' } \\\n",
    "        { exactExternal.format(', '.join([ f'<{i}>' for i in request.hasExactExternalAuthority])) if request.hasExactExternalAuthority else '' } \\\n",
    "    { hasVariant.format(', '.join(variants)) if request.hasVariant else '' } }} }}\"\n",
    "print(x)"
   ]
  },
  {
   "cell_type": "code",
   "execution_count": 8,
   "metadata": {},
   "outputs": [],
   "source": [
    "fuseki_update = FusekiUpdate('http://localhost:3030', 'authorities')"
   ]
  },
  {
   "cell_type": "code",
   "execution_count": 18,
   "metadata": {},
   "outputs": [
    {
     "data": {
      "text/plain": [
       "{'statusCode': 200, 'message': 'Update succeeded'}"
      ]
     },
     "execution_count": 18,
     "metadata": {},
     "output_type": "execute_result"
    }
   ],
   "source": [
    "response = fuseki_update.run_sparql(x)\n",
    "response.convert()"
   ]
  },
  {
   "cell_type": "code",
   "execution_count": 6,
   "metadata": {},
   "outputs": [
    {
     "data": {
      "text/plain": [
       "{'statusCode': 200, 'message': 'Update succeeded'}"
      ]
     },
     "execution_count": 6,
     "metadata": {},
     "output_type": "execute_result"
    }
   ],
   "source": [
    "fuseki_update = FusekiUpdate('http://localhost:3030', 'authorities')\n",
    "\n",
    "d = \"\"\"DELETE { graph ?g { ?s ?p ?o } } \n",
    "        WHERE {\n",
    "        graph ?g {?s ?p ?o.}\n",
    "        }\"\"\"\n",
    "\n",
    "response = fuseki_update.run_sparql(d)\n",
    "response.convert()"
   ]
  },
  {
   "cell_type": "code",
   "execution_count": 23,
   "metadata": {},
   "outputs": [
    {
     "data": {
      "text/plain": [
       "<Graph identifier=N5177ed9befcc4810871e74518a3d960a (<class 'rdflib.graph.Graph'>)>"
      ]
     },
     "execution_count": 23,
     "metadata": {},
     "output_type": "execute_result"
    }
   ],
   "source": [
    "g.parse('https://www.loc.gov/standards/mads/rdf/v1/examples/sh85017405.ttl', format='ttl')"
   ]
  },
  {
   "cell_type": "code",
   "execution_count": 9,
   "metadata": {},
   "outputs": [
    {
     "ename": "HTTPError",
     "evalue": "HTTP Error 503: Service Unavailable",
     "output_type": "error",
     "traceback": [
      "\u001b[1;31m---------------------------------------------------------------------------\u001b[0m",
      "\u001b[1;31mHTTPError\u001b[0m                                 Traceback (most recent call last)",
      "Cell \u001b[1;32mIn[9], line 2\u001b[0m\n\u001b[0;32m      1\u001b[0m g \u001b[38;5;241m=\u001b[39m Graph()\n\u001b[1;32m----> 2\u001b[0m \u001b[43mg\u001b[49m\u001b[38;5;241;43m.\u001b[39;49m\u001b[43mparse\u001b[49m\u001b[43m(\u001b[49m\u001b[38;5;124;43m'\u001b[39;49m\u001b[38;5;124;43mhttp://id.loc.gov/authorities/subjects/sh85084414.madsrdf.nt\u001b[39;49m\u001b[38;5;124;43m'\u001b[39;49m\u001b[43m)\u001b[49m\n",
      "File \u001b[1;32mc:\\Users\\inaci\\Desktop\\BiblioKeia\\venv\\Lib\\site-packages\\rdflib\\graph.py:1306\u001b[0m, in \u001b[0;36mGraph.parse\u001b[1;34m(self, source, publicID, format, location, file, data, **args)\u001b[0m\n\u001b[0;32m   1223\u001b[0m \u001b[39mdef\u001b[39;00m \u001b[39mparse\u001b[39m(\n\u001b[0;32m   1224\u001b[0m     \u001b[39mself\u001b[39m,\n\u001b[0;32m   1225\u001b[0m     source: Optional[\n\u001b[1;32m   (...)\u001b[0m\n\u001b[0;32m   1233\u001b[0m     \u001b[39m*\u001b[39m\u001b[39m*\u001b[39margs,\n\u001b[0;32m   1234\u001b[0m ):\n\u001b[0;32m   1235\u001b[0m     \u001b[39m\"\"\"\u001b[39;00m\n\u001b[0;32m   1236\u001b[0m \u001b[39m    Parse an RDF source adding the resulting triples to the Graph.\u001b[39;00m\n\u001b[0;32m   1237\u001b[0m \n\u001b[1;32m   (...)\u001b[0m\n\u001b[0;32m   1303\u001b[0m \n\u001b[0;32m   1304\u001b[0m \u001b[39m    \"\"\"\u001b[39;00m\n\u001b[1;32m-> 1306\u001b[0m     source \u001b[39m=\u001b[39m create_input_source(\n\u001b[0;32m   1307\u001b[0m         source\u001b[39m=\u001b[39;49msource,\n\u001b[0;32m   1308\u001b[0m         publicID\u001b[39m=\u001b[39;49mpublicID,\n\u001b[0;32m   1309\u001b[0m         location\u001b[39m=\u001b[39;49mlocation,\n\u001b[0;32m   1310\u001b[0m         file\u001b[39m=\u001b[39;49mfile,\n\u001b[0;32m   1311\u001b[0m         data\u001b[39m=\u001b[39;49mdata,\n\u001b[0;32m   1312\u001b[0m         \u001b[39mformat\u001b[39;49m\u001b[39m=\u001b[39;49m\u001b[39mformat\u001b[39;49m,\n\u001b[0;32m   1313\u001b[0m     )\n\u001b[0;32m   1314\u001b[0m     \u001b[39mif\u001b[39;00m \u001b[39mformat\u001b[39m \u001b[39mis\u001b[39;00m \u001b[39mNone\u001b[39;00m:\n\u001b[0;32m   1315\u001b[0m         \u001b[39mformat\u001b[39m \u001b[39m=\u001b[39m source\u001b[39m.\u001b[39mcontent_type\n",
      "File \u001b[1;32mc:\\Users\\inaci\\Desktop\\BiblioKeia\\venv\\Lib\\site-packages\\rdflib\\parser.py:404\u001b[0m, in \u001b[0;36mcreate_input_source\u001b[1;34m(source, publicID, location, file, data, format)\u001b[0m\n\u001b[0;32m    396\u001b[0m auto_close \u001b[39m=\u001b[39m \u001b[39mFalse\u001b[39;00m  \u001b[39m# make sure we close all file handles we open\u001b[39;00m\n\u001b[0;32m    398\u001b[0m \u001b[39mif\u001b[39;00m location \u001b[39mis\u001b[39;00m \u001b[39mnot\u001b[39;00m \u001b[39mNone\u001b[39;00m:\n\u001b[0;32m    399\u001b[0m     (\n\u001b[0;32m    400\u001b[0m         absolute_location,\n\u001b[0;32m    401\u001b[0m         auto_close,\n\u001b[0;32m    402\u001b[0m         file,\n\u001b[0;32m    403\u001b[0m         input_source,\n\u001b[1;32m--> 404\u001b[0m     ) \u001b[39m=\u001b[39m _create_input_source_from_location(\n\u001b[0;32m    405\u001b[0m         file\u001b[39m=\u001b[39;49mfile,\n\u001b[0;32m    406\u001b[0m         \u001b[39mformat\u001b[39;49m\u001b[39m=\u001b[39;49m\u001b[39mformat\u001b[39;49m,\n\u001b[0;32m    407\u001b[0m         input_source\u001b[39m=\u001b[39;49minput_source,\n\u001b[0;32m    408\u001b[0m         location\u001b[39m=\u001b[39;49mlocation,\n\u001b[0;32m    409\u001b[0m     )\n\u001b[0;32m    411\u001b[0m \u001b[39mif\u001b[39;00m file \u001b[39mis\u001b[39;00m \u001b[39mnot\u001b[39;00m \u001b[39mNone\u001b[39;00m:\n\u001b[0;32m    412\u001b[0m     input_source \u001b[39m=\u001b[39m FileInputSource(file)\n",
      "File \u001b[1;32mc:\\Users\\inaci\\Desktop\\BiblioKeia\\venv\\Lib\\site-packages\\rdflib\\parser.py:458\u001b[0m, in \u001b[0;36m_create_input_source_from_location\u001b[1;34m(file, format, input_source, location)\u001b[0m\n\u001b[0;32m    456\u001b[0m     file \u001b[39m=\u001b[39m \u001b[39mopen\u001b[39m(filename, \u001b[39m\"\u001b[39m\u001b[39mrb\u001b[39m\u001b[39m\"\u001b[39m)\n\u001b[0;32m    457\u001b[0m \u001b[39melse\u001b[39;00m:\n\u001b[1;32m--> 458\u001b[0m     input_source \u001b[39m=\u001b[39m URLInputSource(absolute_location, \u001b[39mformat\u001b[39;49m)\n\u001b[0;32m    460\u001b[0m auto_close \u001b[39m=\u001b[39m \u001b[39mTrue\u001b[39;00m\n\u001b[0;32m    461\u001b[0m \u001b[39m# publicID = publicID or absolute_location  # Further to fix\u001b[39;00m\n\u001b[0;32m    462\u001b[0m \u001b[39m# for issue 130\u001b[39;00m\n",
      "File \u001b[1;32mc:\\Users\\inaci\\Desktop\\BiblioKeia\\venv\\Lib\\site-packages\\rdflib\\parser.py:282\u001b[0m, in \u001b[0;36mURLInputSource.__init__\u001b[1;34m(self, system_id, format)\u001b[0m\n\u001b[0;32m    279\u001b[0m         \u001b[39melse\u001b[39;00m:\n\u001b[0;32m    280\u001b[0m             \u001b[39mraise\u001b[39;00m\n\u001b[1;32m--> 282\u001b[0m response: HTTPResponse \u001b[39m=\u001b[39m _urlopen(req)\n\u001b[0;32m    283\u001b[0m \u001b[39mself\u001b[39m\u001b[39m.\u001b[39murl \u001b[39m=\u001b[39m response\u001b[39m.\u001b[39mgeturl()  \u001b[39m# in case redirections took place\u001b[39;00m\n\u001b[0;32m    284\u001b[0m \u001b[39mself\u001b[39m\u001b[39m.\u001b[39mlinks \u001b[39m=\u001b[39m \u001b[39mself\u001b[39m\u001b[39m.\u001b[39mget_links(response)\n",
      "File \u001b[1;32mc:\\Users\\inaci\\Desktop\\BiblioKeia\\venv\\Lib\\site-packages\\rdflib\\parser.py:270\u001b[0m, in \u001b[0;36mURLInputSource.__init__.<locals>._urlopen\u001b[1;34m(req)\u001b[0m\n\u001b[0;32m    268\u001b[0m \u001b[39mdef\u001b[39;00m \u001b[39m_urlopen\u001b[39m(req: Request) \u001b[39m-\u001b[39m\u001b[39m>\u001b[39m Any:\n\u001b[0;32m    269\u001b[0m     \u001b[39mtry\u001b[39;00m:\n\u001b[1;32m--> 270\u001b[0m         \u001b[39mreturn\u001b[39;00m urlopen(req)\n\u001b[0;32m    271\u001b[0m     \u001b[39mexcept\u001b[39;00m HTTPError \u001b[39mas\u001b[39;00m ex:\n\u001b[0;32m    272\u001b[0m         \u001b[39m# 308 (Permanent Redirect) is not supported by current python version(s)\u001b[39;00m\n\u001b[0;32m    273\u001b[0m         \u001b[39m# See https://bugs.python.org/issue40321\u001b[39;00m\n\u001b[0;32m    274\u001b[0m         \u001b[39m# This custom error handling should be removed once all\u001b[39;00m\n\u001b[0;32m    275\u001b[0m         \u001b[39m# supported versions of python support 308.\u001b[39;00m\n\u001b[0;32m    276\u001b[0m         \u001b[39mif\u001b[39;00m ex\u001b[39m.\u001b[39mcode \u001b[39m==\u001b[39m \u001b[39m308\u001b[39m:\n",
      "File \u001b[1;32m~\\AppData\\Local\\Programs\\Python\\Python311\\Lib\\urllib\\request.py:216\u001b[0m, in \u001b[0;36murlopen\u001b[1;34m(url, data, timeout, cafile, capath, cadefault, context)\u001b[0m\n\u001b[0;32m    214\u001b[0m \u001b[39melse\u001b[39;00m:\n\u001b[0;32m    215\u001b[0m     opener \u001b[39m=\u001b[39m _opener\n\u001b[1;32m--> 216\u001b[0m \u001b[39mreturn\u001b[39;00m opener\u001b[39m.\u001b[39;49mopen(url, data, timeout)\n",
      "File \u001b[1;32m~\\AppData\\Local\\Programs\\Python\\Python311\\Lib\\urllib\\request.py:525\u001b[0m, in \u001b[0;36mOpenerDirector.open\u001b[1;34m(self, fullurl, data, timeout)\u001b[0m\n\u001b[0;32m    523\u001b[0m \u001b[39mfor\u001b[39;00m processor \u001b[39min\u001b[39;00m \u001b[39mself\u001b[39m\u001b[39m.\u001b[39mprocess_response\u001b[39m.\u001b[39mget(protocol, []):\n\u001b[0;32m    524\u001b[0m     meth \u001b[39m=\u001b[39m \u001b[39mgetattr\u001b[39m(processor, meth_name)\n\u001b[1;32m--> 525\u001b[0m     response \u001b[39m=\u001b[39m meth(req, response)\n\u001b[0;32m    527\u001b[0m \u001b[39mreturn\u001b[39;00m response\n",
      "File \u001b[1;32m~\\AppData\\Local\\Programs\\Python\\Python311\\Lib\\urllib\\request.py:634\u001b[0m, in \u001b[0;36mHTTPErrorProcessor.http_response\u001b[1;34m(self, request, response)\u001b[0m\n\u001b[0;32m    631\u001b[0m \u001b[39m# According to RFC 2616, \"2xx\" code indicates that the client's\u001b[39;00m\n\u001b[0;32m    632\u001b[0m \u001b[39m# request was successfully received, understood, and accepted.\u001b[39;00m\n\u001b[0;32m    633\u001b[0m \u001b[39mif\u001b[39;00m \u001b[39mnot\u001b[39;00m (\u001b[39m200\u001b[39m \u001b[39m<\u001b[39m\u001b[39m=\u001b[39m code \u001b[39m<\u001b[39m \u001b[39m300\u001b[39m):\n\u001b[1;32m--> 634\u001b[0m     response \u001b[39m=\u001b[39m \u001b[39mself\u001b[39;49m\u001b[39m.\u001b[39;49mparent\u001b[39m.\u001b[39;49merror(\n\u001b[0;32m    635\u001b[0m         \u001b[39m'\u001b[39;49m\u001b[39mhttp\u001b[39;49m\u001b[39m'\u001b[39;49m, request, response, code, msg, hdrs)\n\u001b[0;32m    637\u001b[0m \u001b[39mreturn\u001b[39;00m response\n",
      "File \u001b[1;32m~\\AppData\\Local\\Programs\\Python\\Python311\\Lib\\urllib\\request.py:557\u001b[0m, in \u001b[0;36mOpenerDirector.error\u001b[1;34m(self, proto, *args)\u001b[0m\n\u001b[0;32m    555\u001b[0m     http_err \u001b[39m=\u001b[39m \u001b[39m0\u001b[39m\n\u001b[0;32m    556\u001b[0m args \u001b[39m=\u001b[39m (\u001b[39mdict\u001b[39m, proto, meth_name) \u001b[39m+\u001b[39m args\n\u001b[1;32m--> 557\u001b[0m result \u001b[39m=\u001b[39m \u001b[39mself\u001b[39;49m\u001b[39m.\u001b[39;49m_call_chain(\u001b[39m*\u001b[39;49margs)\n\u001b[0;32m    558\u001b[0m \u001b[39mif\u001b[39;00m result:\n\u001b[0;32m    559\u001b[0m     \u001b[39mreturn\u001b[39;00m result\n",
      "File \u001b[1;32m~\\AppData\\Local\\Programs\\Python\\Python311\\Lib\\urllib\\request.py:496\u001b[0m, in \u001b[0;36mOpenerDirector._call_chain\u001b[1;34m(self, chain, kind, meth_name, *args)\u001b[0m\n\u001b[0;32m    494\u001b[0m \u001b[39mfor\u001b[39;00m handler \u001b[39min\u001b[39;00m handlers:\n\u001b[0;32m    495\u001b[0m     func \u001b[39m=\u001b[39m \u001b[39mgetattr\u001b[39m(handler, meth_name)\n\u001b[1;32m--> 496\u001b[0m     result \u001b[39m=\u001b[39m func(\u001b[39m*\u001b[39;49margs)\n\u001b[0;32m    497\u001b[0m     \u001b[39mif\u001b[39;00m result \u001b[39mis\u001b[39;00m \u001b[39mnot\u001b[39;00m \u001b[39mNone\u001b[39;00m:\n\u001b[0;32m    498\u001b[0m         \u001b[39mreturn\u001b[39;00m result\n",
      "File \u001b[1;32m~\\AppData\\Local\\Programs\\Python\\Python311\\Lib\\urllib\\request.py:749\u001b[0m, in \u001b[0;36mHTTPRedirectHandler.http_error_302\u001b[1;34m(self, req, fp, code, msg, headers)\u001b[0m\n\u001b[0;32m    746\u001b[0m fp\u001b[39m.\u001b[39mread()\n\u001b[0;32m    747\u001b[0m fp\u001b[39m.\u001b[39mclose()\n\u001b[1;32m--> 749\u001b[0m \u001b[39mreturn\u001b[39;00m \u001b[39mself\u001b[39;49m\u001b[39m.\u001b[39;49mparent\u001b[39m.\u001b[39;49mopen(new, timeout\u001b[39m=\u001b[39;49mreq\u001b[39m.\u001b[39;49mtimeout)\n",
      "File \u001b[1;32m~\\AppData\\Local\\Programs\\Python\\Python311\\Lib\\urllib\\request.py:525\u001b[0m, in \u001b[0;36mOpenerDirector.open\u001b[1;34m(self, fullurl, data, timeout)\u001b[0m\n\u001b[0;32m    523\u001b[0m \u001b[39mfor\u001b[39;00m processor \u001b[39min\u001b[39;00m \u001b[39mself\u001b[39m\u001b[39m.\u001b[39mprocess_response\u001b[39m.\u001b[39mget(protocol, []):\n\u001b[0;32m    524\u001b[0m     meth \u001b[39m=\u001b[39m \u001b[39mgetattr\u001b[39m(processor, meth_name)\n\u001b[1;32m--> 525\u001b[0m     response \u001b[39m=\u001b[39m meth(req, response)\n\u001b[0;32m    527\u001b[0m \u001b[39mreturn\u001b[39;00m response\n",
      "File \u001b[1;32m~\\AppData\\Local\\Programs\\Python\\Python311\\Lib\\urllib\\request.py:634\u001b[0m, in \u001b[0;36mHTTPErrorProcessor.http_response\u001b[1;34m(self, request, response)\u001b[0m\n\u001b[0;32m    631\u001b[0m \u001b[39m# According to RFC 2616, \"2xx\" code indicates that the client's\u001b[39;00m\n\u001b[0;32m    632\u001b[0m \u001b[39m# request was successfully received, understood, and accepted.\u001b[39;00m\n\u001b[0;32m    633\u001b[0m \u001b[39mif\u001b[39;00m \u001b[39mnot\u001b[39;00m (\u001b[39m200\u001b[39m \u001b[39m<\u001b[39m\u001b[39m=\u001b[39m code \u001b[39m<\u001b[39m \u001b[39m300\u001b[39m):\n\u001b[1;32m--> 634\u001b[0m     response \u001b[39m=\u001b[39m \u001b[39mself\u001b[39;49m\u001b[39m.\u001b[39;49mparent\u001b[39m.\u001b[39;49merror(\n\u001b[0;32m    635\u001b[0m         \u001b[39m'\u001b[39;49m\u001b[39mhttp\u001b[39;49m\u001b[39m'\u001b[39;49m, request, response, code, msg, hdrs)\n\u001b[0;32m    637\u001b[0m \u001b[39mreturn\u001b[39;00m response\n",
      "File \u001b[1;32m~\\AppData\\Local\\Programs\\Python\\Python311\\Lib\\urllib\\request.py:563\u001b[0m, in \u001b[0;36mOpenerDirector.error\u001b[1;34m(self, proto, *args)\u001b[0m\n\u001b[0;32m    561\u001b[0m \u001b[39mif\u001b[39;00m http_err:\n\u001b[0;32m    562\u001b[0m     args \u001b[39m=\u001b[39m (\u001b[39mdict\u001b[39m, \u001b[39m'\u001b[39m\u001b[39mdefault\u001b[39m\u001b[39m'\u001b[39m, \u001b[39m'\u001b[39m\u001b[39mhttp_error_default\u001b[39m\u001b[39m'\u001b[39m) \u001b[39m+\u001b[39m orig_args\n\u001b[1;32m--> 563\u001b[0m     \u001b[39mreturn\u001b[39;00m \u001b[39mself\u001b[39;49m\u001b[39m.\u001b[39;49m_call_chain(\u001b[39m*\u001b[39;49margs)\n",
      "File \u001b[1;32m~\\AppData\\Local\\Programs\\Python\\Python311\\Lib\\urllib\\request.py:496\u001b[0m, in \u001b[0;36mOpenerDirector._call_chain\u001b[1;34m(self, chain, kind, meth_name, *args)\u001b[0m\n\u001b[0;32m    494\u001b[0m \u001b[39mfor\u001b[39;00m handler \u001b[39min\u001b[39;00m handlers:\n\u001b[0;32m    495\u001b[0m     func \u001b[39m=\u001b[39m \u001b[39mgetattr\u001b[39m(handler, meth_name)\n\u001b[1;32m--> 496\u001b[0m     result \u001b[39m=\u001b[39m func(\u001b[39m*\u001b[39;49margs)\n\u001b[0;32m    497\u001b[0m     \u001b[39mif\u001b[39;00m result \u001b[39mis\u001b[39;00m \u001b[39mnot\u001b[39;00m \u001b[39mNone\u001b[39;00m:\n\u001b[0;32m    498\u001b[0m         \u001b[39mreturn\u001b[39;00m result\n",
      "File \u001b[1;32m~\\AppData\\Local\\Programs\\Python\\Python311\\Lib\\urllib\\request.py:643\u001b[0m, in \u001b[0;36mHTTPDefaultErrorHandler.http_error_default\u001b[1;34m(self, req, fp, code, msg, hdrs)\u001b[0m\n\u001b[0;32m    642\u001b[0m \u001b[39mdef\u001b[39;00m \u001b[39mhttp_error_default\u001b[39m(\u001b[39mself\u001b[39m, req, fp, code, msg, hdrs):\n\u001b[1;32m--> 643\u001b[0m     \u001b[39mraise\u001b[39;00m HTTPError(req\u001b[39m.\u001b[39mfull_url, code, msg, hdrs, fp)\n",
      "\u001b[1;31mHTTPError\u001b[0m: HTTP Error 503: Service Unavailable"
     ]
    }
   ],
   "source": [
    "g = Graph()\n",
    "g.parse('http://id.loc.gov/authorities/subjects/sh85084414.madsrdf.nt')"
   ]
  },
  {
   "cell_type": "code",
   "execution_count": 31,
   "metadata": {},
   "outputs": [
    {
     "data": {
      "text/plain": [
       "<Graph identifier=Nde9974b3e3f24e3db4ab813f596d48e9 (<class 'rdflib.graph.Graph'>)>"
      ]
     },
     "execution_count": 31,
     "metadata": {},
     "output_type": "execute_result"
    }
   ],
   "source": [
    "g.serialize('topic.ttl', format='ttl')"
   ]
  },
  {
   "attachments": {},
   "cell_type": "markdown",
   "metadata": {},
   "source": [
    "POST TOPIC"
   ]
  },
  {
   "cell_type": "code",
   "execution_count": 32,
   "metadata": {},
   "outputs": [],
   "source": [
    "prefix = \"\"\"PREFIX rdf: <http://www.w3.org/1999/02/22-rdf-syntax-ns#> \n",
    "PREFIX madsrdf: <http://www.loc.gov/mads/rdf/v1#> \n",
    "PREFIX owl: <http://www.w3.org/2002/07/owl#> \n",
    "PREFIX ri: <http://id.loc.gov/ontologies/RecordInfo#> \n",
    "PREFIX subjects: <https://bibliokeia.com/authorities/subjects/> \n",
    "PREFIX ri: <http://id.loc.gov/ontologies/RecordInfo#> \"\"\""
   ]
  },
  {
   "cell_type": "code",
   "execution_count": 11,
   "metadata": {},
   "outputs": [],
   "source": [
    "topic =\"\"\"PREFIX rdf: <http://www.w3.org/1999/02/22-rdf-syntax-ns#> \n",
    "PREFIX madsrdf: <http://www.loc.gov/mads/rdf/v1#> \n",
    "PREFIX owl: <http://www.w3.org/2002/07/owl#> \n",
    "PREFIX ri: <http://id.loc.gov/ontologies/RecordInfo#> \n",
    "PREFIX bk: <https://bibliokeia.com/authorities/subjects/> \n",
    "\n",
    "INSERT DATA {\n",
    "    GRAPH bk:sh85017405 {\n",
    "    bk:sh85017405\n",
    "    madsrdf:adminMetadata [\n",
    "        ri:recordChangeDate \"1986-02-11T00:00:00\"^^<http://www.w3.org/2001/XMLSchema#dateTime> ;\n",
    "        ri:recordContentSource <http://id.loc.gov/vocabulary/organizations/dlc> ;\n",
    "        ri:recordStatus \"new\"^^<http://www.w3.org/2001/XMLSchema#string> ;\n",
    "        a ri:RecordInfo\n",
    "    ] ;\n",
    "    madsrdf:authoritativeLabel \"Bubo bubo\"@en ;\n",
    "    madsrdf:classification \"QL696.S83\" ;\n",
    "    madsrdf:elementList ([\n",
    "            madsrdf:elementValue \"Bubo bubo\" ;\n",
    "            a madsrdf:TopicElement\n",
    "        ]\n",
    "    ) ;\n",
    "    madsrdf:hasBroaderAuthority <http://id.loc.gov/authorities/sh85017404> ;\n",
    "    madsrdf:hasEarlierEstablishedForm <http://id.loc.gov/authorities/sh85017405> ;\n",
    "    madsrdf:hasSource [\n",
    "        madsrdf:citation-note \"(for Genus bubo)\"@en ;\n",
    "        madsrdf:citation-source \"Web. 3\" ;\n",
    "        madsrdf:citation-status \"found\" ;\n",
    "        a madsrdf:Source\n",
    "    ], [\n",
    "        madsrdf:citation-note \"(Bubo bubo)\"@en ;\n",
    "        madsrdf:citation-source \"Howard birds world\" ;\n",
    "        madsrdf:citation-status \"found\" ;\n",
    "        a madsrdf:Source\n",
    "    ] ;\n",
    "    madsrdf:hasVariant [\n",
    "        madsrdf:elementList ([\n",
    "                madsrdf:elementValue \"Eagle owl\" ;\n",
    "                a madsrdf:TopicElement\n",
    "            ]\n",
    "        ) ;\n",
    "        madsrdf:variantLabel \"Eagle owl\"@en ;\n",
    "        a madsrdf:Topic, madsrdf:Variant\n",
    "    ], [\n",
    "        madsrdf:elementList ([\n",
    "                madsrdf:elementValue \"Great eagle owl\" ;\n",
    "                a madsrdf:TopicElement\n",
    "            ]\n",
    "        ) ;\n",
    "        madsrdf:variantLabel \"Great eagle owl\"@en ;\n",
    "        a madsrdf:Topic, madsrdf:Variant\n",
    "    ], [\n",
    "        madsrdf:elementList ([\n",
    "                madsrdf:elementValue \"Northern eagle owl\" ;\n",
    "                a madsrdf:TopicElement\n",
    "            ]\n",
    "        ) ;\n",
    "        madsrdf:variantLabel \"Northern eagle owl\"@en ;\n",
    "        a madsrdf:Topic, madsrdf:Variant\n",
    "    ] ;\n",
    "    madsrdf:isMemberOfMADSCollection <http://id.loc.gov/authorities/collection_AuthorizedHeadings>, <http://id.loc.gov/authorities/collection_LCSH_General>, <http://id.loc.gov/authorities/collection_SubdivideGeographicalIndirect> ;\n",
    "    madsrdf:isMemberOfMADSScheme <http://id.loc.gov/authorities/lcsh> ;\n",
    "    a madsrdf:Authority, madsrdf:Topic ;\n",
    "    owl:sameAs <http://id.loc.gov/authorities/sh85017405#concept>, <info:lc/authorities/sh85017405> .\n",
    "    \n",
    "    }\n",
    "}\"\"\""
   ]
  },
  {
   "cell_type": "code",
   "execution_count": 12,
   "metadata": {},
   "outputs": [
    {
     "data": {
      "text/plain": [
       "{'statusCode': 200, 'message': 'Update succeeded'}"
      ]
     },
     "execution_count": 12,
     "metadata": {},
     "output_type": "execute_result"
    }
   ],
   "source": [
    "response = fuseki_update.run_sparql(topic)\n",
    "response.convert()"
   ]
  },
  {
   "cell_type": "code",
   "execution_count": 13,
   "metadata": {},
   "outputs": [
    {
     "data": {
      "text/plain": [
       "<Graph identifier=Nccdedf49a77545199c0cfbcd222f62de (<class 'rdflib.graph.Graph'>)>"
      ]
     },
     "execution_count": 13,
     "metadata": {},
     "output_type": "execute_result"
    }
   ],
   "source": [
    "uri = f'http://localhost:3030/authorities?graph=https://bibliokeia.com/authorities/subjects/sh85017405'\n",
    "r = httpx.get(uri)\n",
    "g = Graph()\n",
    "g.parse(r.content)\n",
    "g.serialize('subjects.nt')"
   ]
  },
  {
   "attachments": {},
   "cell_type": "markdown",
   "metadata": {},
   "source": [
    "Edit Authority\n",
    "ENDPOINT: \n",
    "@put\n",
    "mads/authority \n",
    "\n",
    "REQUEST:\n",
    "{ 'oldValue' : string,\n",
    "    'oldLang': string,\n",
    "    'newValue': string,\n",
    "    'newLang: string\n",
    "}"
   ]
  },
  {
   "cell_type": "code",
   "execution_count": 16,
   "metadata": {},
   "outputs": [],
   "source": [
    "subject_id = \"sh85017405\""
   ]
  },
  {
   "cell_type": "code",
   "execution_count": 23,
   "metadata": {},
   "outputs": [
    {
     "data": {
      "text/plain": [
       "{'statusCode': 200, 'message': 'Update succeeded'}"
      ]
     },
     "execution_count": 23,
     "metadata": {},
     "output_type": "execute_result"
    }
   ],
   "source": [
    "\n",
    "\n",
    "upLabel = prefix+\"WITH subjects:\"+subject_id+\"\"\"\n",
    "                DELETE { subjects:\"\"\"+subject_id+\"\"\" madsrdf:authoritativeLabel ?o }\n",
    "                INSERT { subjects:\"\"\"+subject_id+\"\"\" madsrdf:authoritativeLabel \"Bubo\"@en }\n",
    "                WHERE { subjects:\"\"\"+subject_id+\"\"\" madsrdf:authoritativeLabel ?o }\"\"\"\n",
    "\n",
    "response = fuseki_update.run_sparql(upLabel)\n",
    "response.convert()"
   ]
  },
  {
   "cell_type": "code",
   "execution_count": 22,
   "metadata": {},
   "outputs": [
    {
     "data": {
      "text/plain": [
       "{'statusCode': 200, 'message': 'Update succeeded'}"
      ]
     },
     "execution_count": 22,
     "metadata": {},
     "output_type": "execute_result"
    }
   ],
   "source": [
    "upValue = prefix+\"WITH subjects:\"+subject_id+\"\"\"\n",
    "            DELETE { subjects:sh85017405 madsrdf:elementList ?elementList .\n",
    "    ?elementList rdf:first ?element .\n",
    "    ?element madsrdf:elementValue \"Bubo bubo\" }\n",
    "            INSERT { subjects:sh85017405 madsrdf:elementList ?elementList .\n",
    "    ?elementList rdf:first ?element .\n",
    "    ?element madsrdf:elementValue \"Bubo\" }\n",
    "            WHERE { subjects:sh85017405 madsrdf:elementList ?elementList .\n",
    "    ?elementList rdf:first ?element .\n",
    "    ?element madsrdf:elementValue \"Bubo bubo\" }\"\"\"\n",
    "\n",
    "response = fuseki_update.run_sparql(upValue)\n",
    "response.convert()"
   ]
  },
  {
   "attachments": {},
   "cell_type": "markdown",
   "metadata": {},
   "source": [
    "EDIT VARIANT"
   ]
  },
  {
   "attachments": {},
   "cell_type": "markdown",
   "metadata": {},
   "source": [
    "Acrescenta uma variant: <br>\n",
    "@post<br>\n",
    "ENDPOINT:<br>\n",
    "mads/variant<br>\n"
   ]
  },
  {
   "cell_type": "code",
   "execution_count": 24,
   "metadata": {},
   "outputs": [
    {
     "data": {
      "text/plain": [
       "{'statusCode': 200, 'message': 'Update succeeded'}"
      ]
     },
     "execution_count": 24,
     "metadata": {},
     "output_type": "execute_result"
    }
   ],
   "source": [
    "insert = prefix+\"\"\"INSERT DATA\n",
    "{ GRAPH subjects:\"\"\"+subject_id+\"\"\" { \n",
    "    subjects:\"\"\"+subject_id+\"\"\" madsrdf:hasVariant [\n",
    "    rdf:type madsrdf:Topic;\n",
    "    rdf:type madsrdf:Variant ;\n",
    "    madsrdf:elementList ( [\n",
    "    rdf:type madsrdf:TopicElement;\n",
    "    madsrdf:elementValue 'NOVA VARIANTE'\n",
    "    ]);\n",
    "    madsrdf:variantLabel 'NOVA VARIANTE'\n",
    "    ] \n",
    " } }\"\"\"\n",
    "\n",
    "response = fuseki_update.run_sparql(insert)\n",
    "response.convert()"
   ]
  },
  {
   "attachments": {},
   "cell_type": "markdown",
   "metadata": {},
   "source": [
    "Exclui uma variant: <br>\n",
    "@del<br>\n",
    "ENDPOINT:<br>\n",
    "mads/variant<br>"
   ]
  },
  {
   "cell_type": "code",
   "execution_count": 28,
   "metadata": {},
   "outputs": [
    {
     "data": {
      "text/plain": [
       "{'statusCode': 200, 'message': 'Update succeeded'}"
      ]
     },
     "execution_count": 28,
     "metadata": {},
     "output_type": "execute_result"
    }
   ],
   "source": [
    "up = prefix+\"WITH subjects:\"+subject_id+\"\"\"\n",
    "\n",
    "        DELETE {  subjects:sh85017405 madsrdf:hasVariant ?hasVariant .\n",
    "    ?hasVariant ?p1  \"Eagle owl\"@en .\n",
    "    ?hasVariant rdf:type madsrdf:Variant  .\n",
    "    ?hasVariant rdf:type madsrdf:Topic  .\n",
    "     ?hasVariant madsrdf:elementList ?elementList .\n",
    "    ?elementList rdf:first ?element . \n",
    "    ?elementList rdf:rest rdf:nil . \n",
    "    ?element ?p3 \"Eagle owl\" .\n",
    "    ?element rdf:type madsrdf:TopicElement \n",
    "      }  \n",
    "      WHERE {\n",
    "     subjects:sh85017405 madsrdf:hasVariant ?hasVariant .\n",
    "    ?hasVariant ?p1  \"Eagle owl\"@en .\n",
    "    ?hasVariant rdf:type madsrdf:Variant  .\n",
    "    ?hasVariant rdf:type madsrdf:Topic  .\n",
    "     ?hasVariant madsrdf:elementList ?elementList .\n",
    "    ?elementList rdf:first ?element . \n",
    "    ?elementList rdf:rest rdf:nil . \n",
    "    ?element ?p3 \"Eagle owl\" .\n",
    "    ?element rdf:type madsrdf:TopicElement \n",
    "      \n",
    "      }           \n",
    "      \"\"\"\n",
    "response = fuseki_update.run_sparql(up)\n",
    "response.convert()"
   ]
  },
  {
   "attachments": {},
   "cell_type": "markdown",
   "metadata": {},
   "source": [
    "Editar uma variant: <br>\n",
    "@put<br>\n",
    "ENDPOINT:<br>\n",
    "mads/variant<br>"
   ]
  },
  {
   "cell_type": "code",
   "execution_count": 29,
   "metadata": {},
   "outputs": [
    {
     "data": {
      "text/plain": [
       "{'statusCode': 200, 'message': 'Update succeeded'}"
      ]
     },
     "execution_count": 29,
     "metadata": {},
     "output_type": "execute_result"
    }
   ],
   "source": [
    "up = prefix+\"WITH subjects:\"+subject_id+\"\"\"\n",
    "        DELETE {  subjects:sh85017405 madsrdf:hasVariant ?hasVariant .\n",
    "    ?hasVariant ?p1  \"Great eagle owl\"@en .\n",
    "    ?hasVariant rdf:type madsrdf:Variant  .\n",
    "    ?hasVariant rdf:type madsrdf:Topic  .\n",
    "     ?hasVariant madsrdf:elementList ?elementList .\n",
    "    ?elementList rdf:first ?element . \n",
    "    ?elementList rdf:rest rdf:nil . \n",
    "    ?element ?p3 \"Great eagle owl\" .\n",
    "    ?element rdf:type madsrdf:TopicElement \n",
    "      }  \n",
    "      INSERT {\n",
    "      subjects:sh85017405 madsrdf:hasVariant ?hasVariant .\n",
    "    ?hasVariant ?p1  \"GRANDE AGUIA\"@pt .\n",
    "    ?hasVariant rdf:type madsrdf:Variant  .\n",
    "    ?hasVariant rdf:type madsrdf:Topic  .\n",
    "     ?hasVariant madsrdf:elementList ?elementList .\n",
    "    ?elementList rdf:first ?element . \n",
    "    ?elementList rdf:rest rdf:nil . \n",
    "    ?element ?p3 \"GRANDE AGUIA\" .\n",
    "    ?element rdf:type madsrdf:TopicElement \n",
    "      }\n",
    "      WHERE {\n",
    "     subjects:sh85017405 madsrdf:hasVariant ?hasVariant .\n",
    "    ?hasVariant ?p1  \"Great eagle owl\"@en .\n",
    "    ?hasVariant rdf:type madsrdf:Variant  .\n",
    "    ?hasVariant rdf:type madsrdf:Topic  .\n",
    "     ?hasVariant madsrdf:elementList ?elementList .\n",
    "    ?elementList rdf:first ?element . \n",
    "    ?elementList rdf:rest rdf:nil . \n",
    "    ?element ?p3 \"Great eagle owl\" .\n",
    "    ?element rdf:type madsrdf:TopicElement \n",
    "      }           \n",
    "      \"\"\"\n",
    "response = fuseki_update.run_sparql(up)\n",
    "response.convert()"
   ]
  },
  {
   "attachments": {},
   "cell_type": "markdown",
   "metadata": {},
   "source": [
    "\n",
    "\n",
    "Adiciona um termo restrito: <br>\n",
    "@post<br>\n",
    "ENDPOINT:<br>\n",
    "mads/hasBroaderAuthority<br>\n"
   ]
  },
  {
   "cell_type": "code",
   "execution_count": 30,
   "metadata": {},
   "outputs": [
    {
     "data": {
      "text/plain": [
       "{'statusCode': 200, 'message': 'Update succeeded'}"
      ]
     },
     "execution_count": 30,
     "metadata": {},
     "output_type": "execute_result"
    }
   ],
   "source": [
    "insert = prefix+\"\"\"INSERT DATA\n",
    "{ GRAPH subjects:\"\"\"+subject_id+\"\"\" { \n",
    "    subjects:\"\"\"+subject_id+\"\"\" madsrdf:hasBroaderAuthority <http://id.loc.gov/authorities/TESTE>\n",
    " } }\"\"\"\n",
    "\n",
    "response = fuseki_update.run_sparql(insert)\n",
    "response.convert()"
   ]
  },
  {
   "attachments": {},
   "cell_type": "markdown",
   "metadata": {},
   "source": [
    "DELETE"
   ]
  },
  {
   "cell_type": "code",
   "execution_count": 31,
   "metadata": {},
   "outputs": [
    {
     "data": {
      "text/plain": [
       "{'statusCode': 200, 'message': 'Update succeeded'}"
      ]
     },
     "execution_count": 31,
     "metadata": {},
     "output_type": "execute_result"
    }
   ],
   "source": [
    "up = prefix+\"WITH subjects:\"+subject_id+\"\"\"\n",
    "\n",
    "        DELETE {  subjects:\"\"\"+subject_id+\"\"\" madsrdf:hasBroaderAuthority <http://id.loc.gov/authorities/TESTE>\n",
    "      }  \n",
    "      WHERE {\n",
    "     subjects:\"\"\"+subject_id+\"\"\" madsrdf:hasBroaderAuthority <http://id.loc.gov/authorities/TESTE>\n",
    "      \n",
    "      }           \n",
    "      \"\"\"\n",
    "response = fuseki_update.run_sparql(up)\n",
    "response.convert()"
   ]
  },
  {
   "cell_type": "code",
   "execution_count": null,
   "metadata": {},
   "outputs": [],
   "source": [
    "up = prefix+\"WITH subjects:\"+subject_id+\"\"\"\n",
    "        DELETE {  subjects:sh85017405 madsrdf:adminMetadata ?adminMetadata .\n",
    "    ?adminMetadata ri:recordChangeDate ?o  \n",
    "      }  \n",
    "      INSERT {\n",
    "      subjects:sh85017405 madsrdf:adminMetadata ?adminMetadata .\n",
    "    ?adminMetadata ri:recordChangeDate ?o  \n",
    "      }\n",
    "      WHERE {\n",
    "    subjects:sh85017405 madsrdf:adminMetadata ?adminMetadata .\n",
    "    ?adminMetadata ri:recordChangeDate ?o  \n",
    "      }           \n",
    "      \"\"\"\n",
    "response = fuseki_update.run_sparql(up)\n",
    "response.convert()"
   ]
  },
  {
   "cell_type": "markdown",
   "metadata": {},
   "source": [
    "SCHEMA"
   ]
  },
  {
   "cell_type": "code",
   "execution_count": 3,
   "metadata": {},
   "outputs": [
    {
     "data": {
      "text/plain": [
       "<Graph identifier=N320154073f3c45bf8ab2e6f4b7be491b (<class 'rdflib.graph.Graph'>)>"
      ]
     },
     "execution_count": 3,
     "metadata": {},
     "output_type": "execute_result"
    }
   ],
   "source": [
    "uri = \"http://localhost:3030/authorities?graph=https:%2F%2Fbibliokeia.com%2Fauthorities%2Ftopic%2Fsh85017405\"\n",
    "r = httpx.get(uri)\n",
    "g = Graph()\n",
    "g.parse(r.content)\n",
    "g.serialize('bk-1.ttl')"
   ]
  }
 ],
 "metadata": {
  "kernelspec": {
   "display_name": "Python 3.11.0 ('venv': venv)",
   "language": "python",
   "name": "python3"
  },
  "language_info": {
   "codemirror_mode": {
    "name": "ipython",
    "version": 3
   },
   "file_extension": ".py",
   "mimetype": "text/x-python",
   "name": "python",
   "nbconvert_exporter": "python",
   "pygments_lexer": "ipython3",
   "version": "3.11.0"
  },
  "orig_nbformat": 4,
  "vscode": {
   "interpreter": {
    "hash": "5df21a170a08fe7c24b5b1091267edae5bad3984f1116f28e957af7dd8f192dc"
   }
  }
 },
 "nbformat": 4,
 "nbformat_minor": 2
}
