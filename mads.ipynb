{
 "cells": [
  {
   "cell_type": "code",
   "execution_count": 1,
   "metadata": {},
   "outputs": [],
   "source": [
    "from pyfuseki import FusekiUpdate, FusekiQuery\n",
    "import httpx\n",
    "from rdflib import Graph\n",
    "from pysolr import Solr\n",
    "from api.src.schemas.thesaurus.subject import Subject_Edit"
   ]
  },
  {
   "cell_type": "code",
   "execution_count": 7,
   "metadata": {},
   "outputs": [],
   "source": [
    "fuseki_update = FusekiUpdate('http://localhost:3030', 'authorities')"
   ]
  },
  {
   "cell_type": "code",
   "execution_count": 2,
   "metadata": {},
   "outputs": [],
   "source": [
    "g = Graph()"
   ]
  },
  {
   "cell_type": "code",
   "execution_count": 4,
   "metadata": {},
   "outputs": [
    {
     "data": {
      "text/plain": [
       "<Graph identifier=N262c2ebd556a4f01adfc9fc373715611 (<class 'rdflib.graph.Graph'>)>"
      ]
     },
     "execution_count": 4,
     "metadata": {},
     "output_type": "execute_result"
    }
   ],
   "source": [
    "g.parse('https://www.loc.gov/standards/mads/rdf/v1/examples/sh85017405.ttl', format='ttl')"
   ]
  },
  {
   "cell_type": "code",
   "execution_count": 5,
   "metadata": {},
   "outputs": [
    {
     "data": {
      "text/plain": [
       "<Graph identifier=N262c2ebd556a4f01adfc9fc373715611 (<class 'rdflib.graph.Graph'>)>"
      ]
     },
     "execution_count": 5,
     "metadata": {},
     "output_type": "execute_result"
    }
   ],
   "source": [
    "g.serialize('topic.ttl')"
   ]
  },
  {
   "attachments": {},
   "cell_type": "markdown",
   "metadata": {},
   "source": [
    "POST TOPIC"
   ]
  },
  {
   "cell_type": "code",
   "execution_count": 32,
   "metadata": {},
   "outputs": [],
   "source": [
    "prefix = \"\"\"PREFIX rdf: <http://www.w3.org/1999/02/22-rdf-syntax-ns#> \n",
    "PREFIX madsrdf: <http://www.loc.gov/mads/rdf/v1#> \n",
    "PREFIX owl: <http://www.w3.org/2002/07/owl#> \n",
    "PREFIX ri: <http://id.loc.gov/ontologies/RecordInfo#> \n",
    "PREFIX subjects: <https://bibliokeia.com/authorities/subjects/> \n",
    "PREFIX ri: <http://id.loc.gov/ontologies/RecordInfo#> \"\"\""
   ]
  },
  {
   "cell_type": "code",
   "execution_count": 11,
   "metadata": {},
   "outputs": [],
   "source": [
    "topic =\"\"\"PREFIX rdf: <http://www.w3.org/1999/02/22-rdf-syntax-ns#> \n",
    "PREFIX madsrdf: <http://www.loc.gov/mads/rdf/v1#> \n",
    "PREFIX owl: <http://www.w3.org/2002/07/owl#> \n",
    "PREFIX ri: <http://id.loc.gov/ontologies/RecordInfo#> \n",
    "PREFIX bk: <https://bibliokeia.com/authorities/subjects/> \n",
    "\n",
    "INSERT DATA {\n",
    "    GRAPH bk:sh85017405 {\n",
    "    bk:sh85017405\n",
    "    madsrdf:adminMetadata [\n",
    "        ri:recordChangeDate \"1986-02-11T00:00:00\"^^<http://www.w3.org/2001/XMLSchema#dateTime> ;\n",
    "        ri:recordContentSource <http://id.loc.gov/vocabulary/organizations/dlc> ;\n",
    "        ri:recordStatus \"new\"^^<http://www.w3.org/2001/XMLSchema#string> ;\n",
    "        a ri:RecordInfo\n",
    "    ] ;\n",
    "    madsrdf:authoritativeLabel \"Bubo bubo\"@en ;\n",
    "    madsrdf:classification \"QL696.S83\" ;\n",
    "    madsrdf:elementList ([\n",
    "            madsrdf:elementValue \"Bubo bubo\" ;\n",
    "            a madsrdf:TopicElement\n",
    "        ]\n",
    "    ) ;\n",
    "    madsrdf:hasBroaderAuthority <http://id.loc.gov/authorities/sh85017404> ;\n",
    "    madsrdf:hasEarlierEstablishedForm <http://id.loc.gov/authorities/sh85017405> ;\n",
    "    madsrdf:hasSource [\n",
    "        madsrdf:citation-note \"(for Genus bubo)\"@en ;\n",
    "        madsrdf:citation-source \"Web. 3\" ;\n",
    "        madsrdf:citation-status \"found\" ;\n",
    "        a madsrdf:Source\n",
    "    ], [\n",
    "        madsrdf:citation-note \"(Bubo bubo)\"@en ;\n",
    "        madsrdf:citation-source \"Howard birds world\" ;\n",
    "        madsrdf:citation-status \"found\" ;\n",
    "        a madsrdf:Source\n",
    "    ] ;\n",
    "    madsrdf:hasVariant [\n",
    "        madsrdf:elementList ([\n",
    "                madsrdf:elementValue \"Eagle owl\" ;\n",
    "                a madsrdf:TopicElement\n",
    "            ]\n",
    "        ) ;\n",
    "        madsrdf:variantLabel \"Eagle owl\"@en ;\n",
    "        a madsrdf:Topic, madsrdf:Variant\n",
    "    ], [\n",
    "        madsrdf:elementList ([\n",
    "                madsrdf:elementValue \"Great eagle owl\" ;\n",
    "                a madsrdf:TopicElement\n",
    "            ]\n",
    "        ) ;\n",
    "        madsrdf:variantLabel \"Great eagle owl\"@en ;\n",
    "        a madsrdf:Topic, madsrdf:Variant\n",
    "    ], [\n",
    "        madsrdf:elementList ([\n",
    "                madsrdf:elementValue \"Northern eagle owl\" ;\n",
    "                a madsrdf:TopicElement\n",
    "            ]\n",
    "        ) ;\n",
    "        madsrdf:variantLabel \"Northern eagle owl\"@en ;\n",
    "        a madsrdf:Topic, madsrdf:Variant\n",
    "    ] ;\n",
    "    madsrdf:isMemberOfMADSCollection <http://id.loc.gov/authorities/collection_AuthorizedHeadings>, <http://id.loc.gov/authorities/collection_LCSH_General>, <http://id.loc.gov/authorities/collection_SubdivideGeographicalIndirect> ;\n",
    "    madsrdf:isMemberOfMADSScheme <http://id.loc.gov/authorities/lcsh> ;\n",
    "    a madsrdf:Authority, madsrdf:Topic ;\n",
    "    owl:sameAs <http://id.loc.gov/authorities/sh85017405#concept>, <info:lc/authorities/sh85017405> .\n",
    "    \n",
    "    }\n",
    "}\"\"\""
   ]
  },
  {
   "cell_type": "code",
   "execution_count": 12,
   "metadata": {},
   "outputs": [
    {
     "data": {
      "text/plain": [
       "{'statusCode': 200, 'message': 'Update succeeded'}"
      ]
     },
     "execution_count": 12,
     "metadata": {},
     "output_type": "execute_result"
    }
   ],
   "source": [
    "response = fuseki_update.run_sparql(topic)\n",
    "response.convert()"
   ]
  },
  {
   "cell_type": "code",
   "execution_count": 13,
   "metadata": {},
   "outputs": [
    {
     "data": {
      "text/plain": [
       "<Graph identifier=Nccdedf49a77545199c0cfbcd222f62de (<class 'rdflib.graph.Graph'>)>"
      ]
     },
     "execution_count": 13,
     "metadata": {},
     "output_type": "execute_result"
    }
   ],
   "source": [
    "uri = f'http://localhost:3030/authorities?graph=https://bibliokeia.com/authorities/subjects/sh85017405'\n",
    "r = httpx.get(uri)\n",
    "g = Graph()\n",
    "g.parse(r.content)\n",
    "g.serialize('subjects.nt')"
   ]
  },
  {
   "attachments": {},
   "cell_type": "markdown",
   "metadata": {},
   "source": [
    "Edit Authority\n",
    "ENDPOINT: \n",
    "@put\n",
    "mads/authority \n",
    "\n",
    "REQUEST:\n",
    "{ 'oldValue' : string,\n",
    "    'oldLang': string,\n",
    "    'newValue': string,\n",
    "    'newLang: string\n",
    "}"
   ]
  },
  {
   "cell_type": "code",
   "execution_count": 16,
   "metadata": {},
   "outputs": [],
   "source": [
    "subject_id = \"sh85017405\""
   ]
  },
  {
   "cell_type": "code",
   "execution_count": 23,
   "metadata": {},
   "outputs": [
    {
     "data": {
      "text/plain": [
       "{'statusCode': 200, 'message': 'Update succeeded'}"
      ]
     },
     "execution_count": 23,
     "metadata": {},
     "output_type": "execute_result"
    }
   ],
   "source": [
    "\n",
    "\n",
    "upLabel = prefix+\"WITH subjects:\"+subject_id+\"\"\"\n",
    "                DELETE { subjects:\"\"\"+subject_id+\"\"\" madsrdf:authoritativeLabel ?o }\n",
    "                INSERT { subjects:\"\"\"+subject_id+\"\"\" madsrdf:authoritativeLabel \"Bubo\"@en }\n",
    "                WHERE { subjects:\"\"\"+subject_id+\"\"\" madsrdf:authoritativeLabel ?o }\"\"\"\n",
    "\n",
    "response = fuseki_update.run_sparql(upLabel)\n",
    "response.convert()"
   ]
  },
  {
   "cell_type": "code",
   "execution_count": 22,
   "metadata": {},
   "outputs": [
    {
     "data": {
      "text/plain": [
       "{'statusCode': 200, 'message': 'Update succeeded'}"
      ]
     },
     "execution_count": 22,
     "metadata": {},
     "output_type": "execute_result"
    }
   ],
   "source": [
    "upValue = prefix+\"WITH subjects:\"+subject_id+\"\"\"\n",
    "            DELETE { subjects:sh85017405 madsrdf:elementList ?elementList .\n",
    "    ?elementList rdf:first ?element .\n",
    "    ?element madsrdf:elementValue \"Bubo bubo\" }\n",
    "            INSERT { subjects:sh85017405 madsrdf:elementList ?elementList .\n",
    "    ?elementList rdf:first ?element .\n",
    "    ?element madsrdf:elementValue \"Bubo\" }\n",
    "            WHERE { subjects:sh85017405 madsrdf:elementList ?elementList .\n",
    "    ?elementList rdf:first ?element .\n",
    "    ?element madsrdf:elementValue \"Bubo bubo\" }\"\"\"\n",
    "\n",
    "response = fuseki_update.run_sparql(upValue)\n",
    "response.convert()"
   ]
  },
  {
   "attachments": {},
   "cell_type": "markdown",
   "metadata": {},
   "source": [
    "EDIT VARIANT"
   ]
  },
  {
   "attachments": {},
   "cell_type": "markdown",
   "metadata": {},
   "source": [
    "Acrescenta uma variant: <br>\n",
    "@post<br>\n",
    "ENDPOINT:<br>\n",
    "mads/variant<br>\n"
   ]
  },
  {
   "cell_type": "code",
   "execution_count": 24,
   "metadata": {},
   "outputs": [
    {
     "data": {
      "text/plain": [
       "{'statusCode': 200, 'message': 'Update succeeded'}"
      ]
     },
     "execution_count": 24,
     "metadata": {},
     "output_type": "execute_result"
    }
   ],
   "source": [
    "insert = prefix+\"\"\"INSERT DATA\n",
    "{ GRAPH subjects:\"\"\"+subject_id+\"\"\" { \n",
    "    subjects:\"\"\"+subject_id+\"\"\" madsrdf:hasVariant [\n",
    "    rdf:type madsrdf:Topic;\n",
    "    rdf:type madsrdf:Variant ;\n",
    "    madsrdf:elementList ( [\n",
    "    rdf:type madsrdf:TopicElement;\n",
    "    madsrdf:elementValue 'NOVA VARIANTE'\n",
    "    ]);\n",
    "    madsrdf:variantLabel 'NOVA VARIANTE'\n",
    "    ] \n",
    " } }\"\"\"\n",
    "\n",
    "response = fuseki_update.run_sparql(insert)\n",
    "response.convert()"
   ]
  },
  {
   "attachments": {},
   "cell_type": "markdown",
   "metadata": {},
   "source": [
    "Exclui uma variant: <br>\n",
    "@del<br>\n",
    "ENDPOINT:<br>\n",
    "mads/variant<br>"
   ]
  },
  {
   "cell_type": "code",
   "execution_count": 28,
   "metadata": {},
   "outputs": [
    {
     "data": {
      "text/plain": [
       "{'statusCode': 200, 'message': 'Update succeeded'}"
      ]
     },
     "execution_count": 28,
     "metadata": {},
     "output_type": "execute_result"
    }
   ],
   "source": [
    "up = prefix+\"WITH subjects:\"+subject_id+\"\"\"\n",
    "\n",
    "        DELETE {  subjects:sh85017405 madsrdf:hasVariant ?hasVariant .\n",
    "    ?hasVariant ?p1  \"Eagle owl\"@en .\n",
    "    ?hasVariant rdf:type madsrdf:Variant  .\n",
    "    ?hasVariant rdf:type madsrdf:Topic  .\n",
    "     ?hasVariant madsrdf:elementList ?elementList .\n",
    "    ?elementList rdf:first ?element . \n",
    "    ?elementList rdf:rest rdf:nil . \n",
    "    ?element ?p3 \"Eagle owl\" .\n",
    "    ?element rdf:type madsrdf:TopicElement \n",
    "      }  \n",
    "      WHERE {\n",
    "     subjects:sh85017405 madsrdf:hasVariant ?hasVariant .\n",
    "    ?hasVariant ?p1  \"Eagle owl\"@en .\n",
    "    ?hasVariant rdf:type madsrdf:Variant  .\n",
    "    ?hasVariant rdf:type madsrdf:Topic  .\n",
    "     ?hasVariant madsrdf:elementList ?elementList .\n",
    "    ?elementList rdf:first ?element . \n",
    "    ?elementList rdf:rest rdf:nil . \n",
    "    ?element ?p3 \"Eagle owl\" .\n",
    "    ?element rdf:type madsrdf:TopicElement \n",
    "      \n",
    "      }           \n",
    "      \"\"\"\n",
    "response = fuseki_update.run_sparql(up)\n",
    "response.convert()"
   ]
  },
  {
   "attachments": {},
   "cell_type": "markdown",
   "metadata": {},
   "source": [
    "Editar uma variant: <br>\n",
    "@put<br>\n",
    "ENDPOINT:<br>\n",
    "mads/variant<br>"
   ]
  },
  {
   "cell_type": "code",
   "execution_count": 29,
   "metadata": {},
   "outputs": [
    {
     "data": {
      "text/plain": [
       "{'statusCode': 200, 'message': 'Update succeeded'}"
      ]
     },
     "execution_count": 29,
     "metadata": {},
     "output_type": "execute_result"
    }
   ],
   "source": [
    "up = prefix+\"WITH subjects:\"+subject_id+\"\"\"\n",
    "        DELETE {  subjects:sh85017405 madsrdf:hasVariant ?hasVariant .\n",
    "    ?hasVariant ?p1  \"Great eagle owl\"@en .\n",
    "    ?hasVariant rdf:type madsrdf:Variant  .\n",
    "    ?hasVariant rdf:type madsrdf:Topic  .\n",
    "     ?hasVariant madsrdf:elementList ?elementList .\n",
    "    ?elementList rdf:first ?element . \n",
    "    ?elementList rdf:rest rdf:nil . \n",
    "    ?element ?p3 \"Great eagle owl\" .\n",
    "    ?element rdf:type madsrdf:TopicElement \n",
    "      }  \n",
    "      INSERT {\n",
    "      subjects:sh85017405 madsrdf:hasVariant ?hasVariant .\n",
    "    ?hasVariant ?p1  \"GRANDE AGUIA\"@pt .\n",
    "    ?hasVariant rdf:type madsrdf:Variant  .\n",
    "    ?hasVariant rdf:type madsrdf:Topic  .\n",
    "     ?hasVariant madsrdf:elementList ?elementList .\n",
    "    ?elementList rdf:first ?element . \n",
    "    ?elementList rdf:rest rdf:nil . \n",
    "    ?element ?p3 \"GRANDE AGUIA\" .\n",
    "    ?element rdf:type madsrdf:TopicElement \n",
    "      }\n",
    "      WHERE {\n",
    "     subjects:sh85017405 madsrdf:hasVariant ?hasVariant .\n",
    "    ?hasVariant ?p1  \"Great eagle owl\"@en .\n",
    "    ?hasVariant rdf:type madsrdf:Variant  .\n",
    "    ?hasVariant rdf:type madsrdf:Topic  .\n",
    "     ?hasVariant madsrdf:elementList ?elementList .\n",
    "    ?elementList rdf:first ?element . \n",
    "    ?elementList rdf:rest rdf:nil . \n",
    "    ?element ?p3 \"Great eagle owl\" .\n",
    "    ?element rdf:type madsrdf:TopicElement \n",
    "      }           \n",
    "      \"\"\"\n",
    "response = fuseki_update.run_sparql(up)\n",
    "response.convert()"
   ]
  },
  {
   "attachments": {},
   "cell_type": "markdown",
   "metadata": {},
   "source": [
    "\n",
    "\n",
    "Adiciona um termo restrito: <br>\n",
    "@post<br>\n",
    "ENDPOINT:<br>\n",
    "mads/hasBroaderAuthority<br>\n"
   ]
  },
  {
   "cell_type": "code",
   "execution_count": 30,
   "metadata": {},
   "outputs": [
    {
     "data": {
      "text/plain": [
       "{'statusCode': 200, 'message': 'Update succeeded'}"
      ]
     },
     "execution_count": 30,
     "metadata": {},
     "output_type": "execute_result"
    }
   ],
   "source": [
    "insert = prefix+\"\"\"INSERT DATA\n",
    "{ GRAPH subjects:\"\"\"+subject_id+\"\"\" { \n",
    "    subjects:\"\"\"+subject_id+\"\"\" madsrdf:hasBroaderAuthority <http://id.loc.gov/authorities/TESTE>\n",
    " } }\"\"\"\n",
    "\n",
    "response = fuseki_update.run_sparql(insert)\n",
    "response.convert()"
   ]
  },
  {
   "attachments": {},
   "cell_type": "markdown",
   "metadata": {},
   "source": [
    "DELETE"
   ]
  },
  {
   "cell_type": "code",
   "execution_count": 31,
   "metadata": {},
   "outputs": [
    {
     "data": {
      "text/plain": [
       "{'statusCode': 200, 'message': 'Update succeeded'}"
      ]
     },
     "execution_count": 31,
     "metadata": {},
     "output_type": "execute_result"
    }
   ],
   "source": [
    "up = prefix+\"WITH subjects:\"+subject_id+\"\"\"\n",
    "\n",
    "        DELETE {  subjects:\"\"\"+subject_id+\"\"\" madsrdf:hasBroaderAuthority <http://id.loc.gov/authorities/TESTE>\n",
    "      }  \n",
    "      WHERE {\n",
    "     subjects:\"\"\"+subject_id+\"\"\" madsrdf:hasBroaderAuthority <http://id.loc.gov/authorities/TESTE>\n",
    "      \n",
    "      }           \n",
    "      \"\"\"\n",
    "response = fuseki_update.run_sparql(up)\n",
    "response.convert()"
   ]
  },
  {
   "cell_type": "code",
   "execution_count": null,
   "metadata": {},
   "outputs": [],
   "source": [
    "up = prefix+\"WITH subjects:\"+subject_id+\"\"\"\n",
    "        DELETE {  subjects:sh85017405 madsrdf:adminMetadata ?adminMetadata .\n",
    "    ?adminMetadata ri:recordChangeDate ?o  \n",
    "      }  \n",
    "      INSERT {\n",
    "      subjects:sh85017405 madsrdf:adminMetadata ?adminMetadata .\n",
    "    ?adminMetadata ri:recordChangeDate ?o  \n",
    "      }\n",
    "      WHERE {\n",
    "    subjects:sh85017405 madsrdf:adminMetadata ?adminMetadata .\n",
    "    ?adminMetadata ri:recordChangeDate ?o  \n",
    "      }           \n",
    "      \"\"\"\n",
    "response = fuseki_update.run_sparql(up)\n",
    "response.convert()"
   ]
  }
 ],
 "metadata": {
  "kernelspec": {
   "display_name": "venv",
   "language": "python",
   "name": "python3"
  },
  "language_info": {
   "codemirror_mode": {
    "name": "ipython",
    "version": 3
   },
   "file_extension": ".py",
   "mimetype": "text/x-python",
   "name": "python",
   "nbconvert_exporter": "python",
   "pygments_lexer": "ipython3",
   "version": "3.10.4"
  },
  "orig_nbformat": 4,
  "vscode": {
   "interpreter": {
    "hash": "7c803f0ee3b2b2cd03f94fb28d6f360d094e6843888122798203f226e128b66e"
   }
  }
 },
 "nbformat": 4,
 "nbformat_minor": 2
}
