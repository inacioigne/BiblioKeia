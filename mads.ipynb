{
 "cells": [
  {
   "cell_type": "code",
   "execution_count": 1,
   "metadata": {},
   "outputs": [],
   "source": [
    "from pyfuseki import FusekiUpdate, FusekiQuery\n",
    "import httpx\n",
    "from rdflib import Graph\n",
    "from pysolr import Solr\n",
    "from api.src.schemas.authorities.topic import Topic, Authority, Uri, EditVariant\n",
    "from datetime import datetime\n",
    "from api.src.function.authorities.topic.create_topic import template\n",
    "from enum import Enum\n",
    "from pydantic import BaseModel, validator\n",
    "from api.src.function.authorities.topic.edit_variant import editVariant, deleteVariant"
   ]
  },
  {
   "cell_type": "code",
   "execution_count": 16,
   "metadata": {},
   "outputs": [],
   "source": [
    "solr = Solr('http://localhost:8983/solr/authorities/', timeout=10)"
   ]
  },
  {
   "cell_type": "code",
   "execution_count": null,
   "metadata": {},
   "outputs": [],
   "source": [
    "solr.delete(q=\"*:*\",  commit=True)"
   ]
  },
  {
   "cell_type": "code",
   "execution_count": 17,
   "metadata": {},
   "outputs": [
    {
     "data": {
      "text/plain": [
       "'<?xml version=\"1.0\" encoding=\"UTF-8\"?>\\n<response>\\n\\n<lst name=\"responseHeader\">\\n  <int name=\"status\">0</int>\\n  <int name=\"QTime\">438</int>\\n</lst>\\n</response>\\n'"
      ]
     },
     "execution_count": 17,
     "metadata": {},
     "output_type": "execute_result"
    }
   ],
   "source": [
    "r = solr.delete(q=\"id:sh85017405\",  commit=True)\n",
    "r"
   ]
  },
  {
   "cell_type": "code",
   "execution_count": 2,
   "metadata": {},
   "outputs": [
    {
     "data": {
      "text/plain": [
       "Authority(value='metodo', lang='pt', type='Topic')"
      ]
     },
     "execution_count": 2,
     "metadata": {},
     "output_type": "execute_result"
    }
   ],
   "source": [
    "obj = {\n",
    "  \"value\": \"Metodo\",\n",
    "  \"lang\": \"pt\",\n",
    "  \"type\": \"Topic\"\n",
    "}\n",
    "\n",
    "request = Authority(**obj)\n",
    "request"
   ]
  },
  {
   "cell_type": "code",
   "execution_count": 13,
   "metadata": {},
   "outputs": [
    {
     "data": {
      "text/plain": [
       "{'statusCode': 200, 'message': 'Update succeeded'}"
      ]
     },
     "execution_count": 13,
     "metadata": {},
     "output_type": "execute_result"
    }
   ],
   "source": [
    "obj = {\n",
    "  \"value\": [\"Metodo\", \"METENDO\"],\n",
    "  \"lang\": \"pt\",\n",
    "  \"type\": \"Topic\"\n",
    "}\n",
    "\n",
    "request = Authority(**obj)\n",
    "\n",
    "variantTopic = f\"\"\"\n",
    "PREFIX topic: <https://bibliokeia.com/authorities/topic/>\n",
    "PREFIX madsrdf: <http://www.loc.gov/mads/rdf/v1#>\n",
    "PREFIX rdf: <http://www.w3.org/1999/02/22-rdf-syntax-ns#>\n",
    "\n",
    "        INSERT DATA {{ \n",
    "        GRAPH topic:sh85017405 {{\n",
    "        topic:sh85017405 madsrdf:hasVariant [ a madsrdf:ComplexSubject,\n",
    "        madsrdf:Variant ;\n",
    "    madsrdf:componentList ( [ a madsrdf:Topic,\n",
    "        madsrdf:Variant ;\n",
    "    madsrdf:elementList ( \n",
    "        [ a madsrdf:TopicElement ;\n",
    "            madsrdf:elementValue \"{request.value[0]}\"@{request.lang} ] ) ;\n",
    "            madsrdf:variantLabel \"{request.value[0]}\"@{request.lang} ] \n",
    "        [ a madsrdf:Topic,\n",
    "            madsrdf:Variant ;\n",
    "        madsrdf:elementList ( \n",
    "            [ a madsrdf:TopicElement ;\n",
    "                madsrdf:elementValue \"{request.value[1]}\"@{request.lang} ] ) ;\n",
    "                madsrdf:variantLabel \"{request.value[1]}\"@{request.lang} ] ) ;\n",
    "        madsrdf:variantLabel \"{request.value[0]}--{request.value[1]}\"@{request.lang} ]\n",
    " }} }}\"\"\"\n",
    "fuseki_update = FusekiUpdate('http://localhost:3030', 'authorities')\n",
    "response = fuseki_update.run_sparql(variantTopic)\n",
    "response.convert()"
   ]
  },
  {
   "cell_type": "code",
   "execution_count": 15,
   "metadata": {},
   "outputs": [
    {
     "data": {
      "text/plain": [
       "'Metodo--METENDO'"
      ]
     },
     "execution_count": 15,
     "metadata": {},
     "output_type": "execute_result"
    }
   ],
   "source": [
    "label = \"--\".join(request.value)"
   ]
  },
  {
   "cell_type": "code",
   "execution_count": 30,
   "metadata": {},
   "outputs": [
    {
     "data": {
      "text/plain": [
       "{'statusCode': 200, 'message': 'Update succeeded'}"
      ]
     },
     "execution_count": 30,
     "metadata": {},
     "output_type": "execute_result"
    }
   ],
   "source": [
    "d = \"\"\"DELETE { graph ?g { ?s ?p ?o } } \n",
    "        WHERE {\n",
    "        graph ?g {?s ?p ?o.}\n",
    "        }\"\"\"\n",
    "\n",
    "response = fuseki_update.run_sparql(d)\n",
    "response.convert()"
   ]
  },
  {
   "cell_type": "code",
   "execution_count": null,
   "metadata": {},
   "outputs": [],
   "source": [
    "doc = {\n",
    "    'id': 'sh85017405',\n",
    "    'label': {\"set\": 'Metodo'},\n",
    "    'lang': {\"set\": 'pt'}\n",
    "}"
   ]
  },
  {
   "cell_type": "code",
   "execution_count": 37,
   "metadata": {},
   "outputs": [
    {
     "data": {
      "text/plain": [
       "'{\\n  \"responseHeader\":{\\n    \"status\":0,\\n    \"QTime\":149}}\\n'"
      ]
     },
     "execution_count": 37,
     "metadata": {},
     "output_type": "execute_result"
    }
   ],
   "source": [
    "doc = {\n",
    "    'id': 'sh85017405',\n",
    "    'hasVariant': {\"set\": [\"velhos\", \"novo\"]}}\n",
    "responseSolr = solr.add([doc], commit=True)\n",
    "responseSolr"
   ]
  },
  {
   "cell_type": "markdown",
   "metadata": {},
   "source": [
    "SOLR"
   ]
  },
  {
   "cell_type": "code",
   "execution_count": 15,
   "metadata": {},
   "outputs": [
    {
     "data": {
      "text/plain": [
       "{'recordChangeDate': '2023-04-05T10:46:43',\n",
       " 'identifier': 'sh85017405',\n",
       " 'label': 'Methodology',\n",
       " 'lang': 'en',\n",
       " 'hasReciprocalAuthority': ['http://id.loc.gov/authorities/subjects/sh85113021'],\n",
       " 'hasBroaderAuthority': ['http://id.loc.gov/authorities/subjects/sh85017404'],\n",
       " 'hasNarrowerAuthority': ['http://id.loc.gov/authorities/subjects/sh00005679',\n",
       "  'http://id.loc.gov/authorities/subjects/sh00005984',\n",
       "  'http://id.loc.gov/authorities/subjects/sh2001008679'],\n",
       " 'hasCloseExternalAuthority': ['http://d-nb.info/gnd/4061488-8',\n",
       "  'http://data.bnf.fr/ark:/12148/cb12345685v',\n",
       "  'http://id.worldcat.org/fast/839960',\n",
       "  'http://www.wikidata.org/entity/Q130933',\n",
       "  'http://www.yso.fi/onto/yso/p21203'],\n",
       " 'hasExactExternalAuthority': ['http://id.loc.gov/authorities/classification/BD240-BD241'],\n",
       " 'hasVariant': [{'value': ['Philosophy', 'Methodology'],\n",
       "   'lang': 'en',\n",
       "   'type': 'ComplexSubject'},\n",
       "  {'value': 'metodo', 'lang': 'pt', 'type': 'Topic'}],\n",
       " 'subjectOf': None,\n",
       " 'type': 'Topic'}"
      ]
     },
     "execution_count": 15,
     "metadata": {},
     "output_type": "execute_result"
    }
   ],
   "source": [
    "obj = {\n",
    "  \"identifier\": \"sh85017405\",\n",
    "  \"label\": \"Methodology\",\n",
    "  \"lang\": \"en\",\n",
    "  \"hasReciprocalAuthority\": [\"http://id.loc.gov/authorities/subjects/sh85113021\"],\n",
    "  \"hasBroaderAuthority\" : [\"http://id.loc.gov/authorities/subjects/sh85017404\"],\n",
    " \"hasExactExternalAuthority\": [\"http://id.loc.gov/authorities/classification/BD240-BD241\"],\n",
    " \"hasCloseExternalAuthority\" : [\n",
    "    \"http://d-nb.info/gnd/4061488-8\",\n",
    "        \"http://data.bnf.fr/ark:/12148/cb12345685v\",\n",
    "        \"http://id.worldcat.org/fast/839960\",\n",
    "        \"http://www.wikidata.org/entity/Q130933\",\n",
    "        \"http://www.yso.fi/onto/yso/p21203\" \n",
    "  ],\n",
    "  \"hasNarrowerAuthority\": [\n",
    "    \"http://id.loc.gov/authorities/subjects/sh00005679\",\n",
    "    \"http://id.loc.gov/authorities/subjects/sh00005984\",\n",
    "    \"http://id.loc.gov/authorities/subjects/sh2001008679\"\n",
    "  ],\n",
    "  \"hasVariant\": [\n",
    "    { \"value\": [\"Philosophy\",\"Methodology\"],\n",
    "    \"type\": \"ComplexSubject\",\n",
    "    \"lang\": \"en\" },\n",
    "    { \"value\": \"metodo\",\n",
    "    \"type\": \"Topic\",\n",
    "    \"lang\": \"pt\" }\n",
    "  ]\n",
    "    }\n",
    "\n",
    "request = Topic(**obj)\n",
    "d = request.dict()\n",
    "d"
   ]
  },
  {
   "attachments": {},
   "cell_type": "markdown",
   "metadata": {},
   "source": [
    "Variants"
   ]
  },
  {
   "cell_type": "code",
   "execution_count": 24,
   "metadata": {},
   "outputs": [
    {
     "data": {
      "text/plain": [
       "EditVariant(oldVariant=Authority(value='Metodo', lang='pt', type='Topic'), newVariant=Authority(value='Método', lang='pt', type='Topic'))"
      ]
     },
     "execution_count": 24,
     "metadata": {},
     "output_type": "execute_result"
    }
   ],
   "source": [
    "obj = {\"oldVariant\" : {\n",
    "      \"value\": \"Metodo\",\n",
    "      \"lang\": \"pt\",\n",
    "      \"type\": \"Topic\"\n",
    "    },\n",
    "\"newVariant\": {\n",
    "       \"value\": \"Método\",\n",
    "      \"lang\": \"pt\",\n",
    "      \"type\": \"Topic\"\n",
    "    }}\n",
    "\n",
    "request = EditVariant(**obj)\n",
    "request"
   ]
  },
  {
   "cell_type": "code",
   "execution_count": 23,
   "metadata": {},
   "outputs": [
    {
     "data": {
      "text/plain": [
       "{'statusCode': 200, 'message': 'Update succeeded'}"
      ]
     },
     "execution_count": 23,
     "metadata": {},
     "output_type": "execute_result"
    }
   ],
   "source": [
    "id = \"sh85017405\"\n",
    "variant = editVariant(id, request)\n",
    "response = fuseki_update.run_sparql(variant)\n",
    "response.convert()"
   ]
  },
  {
   "cell_type": "code",
   "execution_count": 26,
   "metadata": {},
   "outputs": [
    {
     "data": {
      "text/plain": [
       "'pt'"
      ]
     },
     "execution_count": 26,
     "metadata": {},
     "output_type": "execute_result"
    }
   ],
   "source": [
    "request.oldVariant.lang"
   ]
  },
  {
   "cell_type": "code",
   "execution_count": 29,
   "metadata": {},
   "outputs": [
    {
     "data": {
      "text/plain": [
       "{'statusCode': 200, 'message': 'Update succeeded'}"
      ]
     },
     "execution_count": 29,
     "metadata": {},
     "output_type": "execute_result"
    }
   ],
   "source": [
    "fuseki_update = FusekiUpdate('http://localhost:3030', 'authorities')\n",
    "\n",
    "\n",
    "variant = f\"\"\"PREFIX topic: <https://bibliokeia.com/authorities/topic/>\n",
    "PREFIX madsrdf: <http://www.loc.gov/mads/rdf/v1#>\n",
    "PREFIX rdf: <http://www.w3.org/1999/02/22-rdf-syntax-ns#>\n",
    "\n",
    "        WITH topic:{id}\n",
    "\n",
    "            DELETE {{ topic:sh85017405 madsrdf:hasVariant ?hasVariant .\n",
    "    ?hasVariant rdf:type madsrdf:Variant, madsrdf:Topic .\n",
    "    ?hasVariant madsrdf:variantLabel \"metodo\"@pt .\n",
    "    ?hasVariant madsrdf:elementList ?elementList .\n",
    "    ?elementList rdf:rest rdf:nil .\n",
    "    ?elementList rdf:first ?first .\n",
    "    ?first rdf:type madsrdf:TopicElement .\n",
    "    ?first madsrdf:elementValue \"metodo\"@pt }}\n",
    "\n",
    "        WHERE {{ topic:sh85017405 madsrdf:hasVariant ?hasVariant .\n",
    "    ?hasVariant rdf:type madsrdf:Variant, madsrdf:Topic .\n",
    "    ?hasVariant madsrdf:variantLabel \"metodo\"@pt .\n",
    "    ?hasVariant madsrdf:elementList ?elementList .\n",
    "    ?elementList rdf:rest rdf:nil .\n",
    "    ?elementList rdf:first ?first .\n",
    "    ?first rdf:type madsrdf:TopicElement .\n",
    "    ?first madsrdf:elementValue \"metodo\"@pt }}\"\"\"\n",
    "\n",
    "response = fuseki_update.run_sparql(variant)\n",
    "response.convert()"
   ]
  },
  {
   "cell_type": "code",
   "execution_count": 12,
   "metadata": {},
   "outputs": [
    {
     "data": {
      "text/plain": [
       "{'statusCode': 200, 'message': 'Update succeeded'}"
      ]
     },
     "execution_count": 12,
     "metadata": {},
     "output_type": "execute_result"
    }
   ],
   "source": []
  },
  {
   "cell_type": "code",
   "execution_count": 10,
   "metadata": {},
   "outputs": [
    {
     "data": {
      "text/plain": [
       "{'statusCode': 200, 'message': 'Update succeeded'}"
      ]
     },
     "execution_count": 10,
     "metadata": {},
     "output_type": "execute_result"
    }
   ],
   "source": [
    "prefix = \"\"\"PREFIX topic: <https://bibliokeia.com/authorities/topic/>\n",
    "            PREFIX madsrdf: <http://www.loc.gov/mads/rdf/v1#>\n",
    "            PREFIX rdf: <http://www.w3.org/1999/02/22-rdf-syntax-ns#>\"\"\"\n",
    "bkID = \"sh85017405\"\n",
    "up = prefix+\"WITH topic:\"+bkID+\"\"\"\n",
    "            DELETE { topic:sh85017405 madsrdf:elementList ?elementList .\n",
    "        ?elementList rdf:rest rdf:nil .\n",
    "        ?elementList rdf:first ?element .\n",
    "        ?element rdf:type madsrdf:TopicElement .\n",
    "        ?element madsrdf:elementValue ?value  }\n",
    "            INSERT { topic:sh85017405 madsrdf:elementList ?elementList .\n",
    "        ?elementList rdf:rest rdf:nil .\n",
    "        ?elementList rdf:first ?element .\n",
    "        ?element rdf:type madsrdf:TopicElement .\n",
    "        ?element madsrdf:elementValue 'Metodologia'@pt }\n",
    "            WHERE { topic:sh85017405 madsrdf:elementList ?elementList .\n",
    "        ?elementList rdf:rest rdf:nil .\n",
    "        ?elementList rdf:first ?element .\n",
    "        ?element rdf:type madsrdf:TopicElement .\n",
    "        ?element madsrdf:elementValue ?value }\"\"\"\n",
    "\n",
    "response = fuseki_update.run_sparql(up)\n",
    "response.convert()"
   ]
  },
  {
   "cell_type": "code",
   "execution_count": 16,
   "metadata": {},
   "outputs": [],
   "source": [
    "solr = Solr('http://localhost:8983/solr/authorities/', timeout=10)"
   ]
  },
  {
   "cell_type": "code",
   "execution_count": null,
   "metadata": {},
   "outputs": [],
   "source": [
    "doc = {\n",
    "    'id': request.identifier,\n",
    "    'uri': f'https://bibliokeia.com/authorities/topic/{request.identifier}'\n",
    "}\n",
    "\n",
    "for k, v in request:\n",
    "    if v:\n",
    "        if k == 'hasVariant':\n",
    "            variant = [i['value'] for i in v]\n",
    "            doc['variant'] = variant\n",
    "        else:\n",
    "            print(v)\n",
    "doc"
   ]
  },
  {
   "cell_type": "code",
   "execution_count": 15,
   "metadata": {},
   "outputs": [
    {
     "name": "stdout",
     "output_type": "stream",
     "text": [
      "['Northern eagle owl', 'Great eagle owl', 'Philosophy--Methodology']\n",
      "['Northern eagle owl', 'Great eagle owl', 'Philosophy--Methodology']\n",
      "['Northern eagle owl', 'Great eagle owl', 'Philosophy--Methodology']\n"
     ]
    }
   ],
   "source": [
    "for i in request.hasVariant:\n",
    "    variant = [\"--\".join(i.value) if i.type == 'ComplexSubject' else i.value for i in request.hasVariant]\n",
    "    print(variant)"
   ]
  },
  {
   "cell_type": "code",
   "execution_count": 7,
   "metadata": {},
   "outputs": [
    {
     "name": "stdout",
     "output_type": "stream",
     "text": [
      "PREFIX rdf: <http://www.w3.org/1999/02/22-rdf-syntax-ns#> \n",
      "PREFIX madsrdf: <http://www.loc.gov/mads/rdf/v1#> \n",
      "PREFIX owl: <http://www.w3.org/2002/07/owl#> \n",
      "PREFIX ri: <http://id.loc.gov/ontologies/RecordInfo#> \n",
      "PREFIX topic: <https://bibliokeia.com/authorities/topic/> \n",
      "PREFIX xsd: <http://www.w3.org/2001/XMLSchema#>\n",
      "\n",
      "INSERT DATA {\n",
      "    GRAPH topic:sh2018002121 {\n",
      "        topic:sh2018002121 a madsrdf:Authority, madsrdf:Topic ;\n",
      "        madsrdf:adminMetadata [ a ri:RecordInfo ; \n",
      "        ri:recordChangeDate \"2023-04-02T09:56:28\"^^xsd:dateTime ;\n",
      "        ri:recordContentSource <http://id.loc.gov/vocabulary/organizations/brmninpa> ;\n",
      "        ri:recordStatus \"new\"^^xsd:string\n",
      "        ] ; \n",
      "        madsrdf:authoritativeLabel \"Dark Web\"@en ;\n",
      "        madsrdf:elementList ( [ a madsrdf:TopicElement ;\n",
      "                madsrdf:elementValue \"Dark Web\"@en ] ) ;    \n",
      " madsrdf:hasBroaderAuthority <http://id.loc.gov/authorities/subjects/sh2008009697> ; \n",
      " madsrdf:hasCloseExternalAuthority <http://id.worldcat.org/fast/2003430> ; \n",
      "         madsrdf:hasExactExternalAuthority <http://id.loc.gov/authorities/subjects/sh2018002121> ; \n",
      "     madsrdf:hasVariant [ a madsrdf:Topic,\n",
      "                madsrdf:Variant ;\n",
      "            madsrdf:elementList ( [ a madsrdf:TopicElement ;\n",
      "                        madsrdf:elementValue \"Internet escura\"@en ] ) ;\n",
      "            madsrdf:variantLabel \"Internet escura\"@en ], [ a madsrdf:Topic,\n",
      "                madsrdf:Variant ;\n",
      "            madsrdf:elementList ( [ a madsrdf:TopicElement ;\n",
      "                        madsrdf:elementValue \"Darknet\"@en ] ) ;\n",
      "            madsrdf:variantLabel \"Darknet\"@en ] ; \n",
      " } }\n"
     ]
    }
   ],
   "source": [
    "graph = template.format(**request.dict())\n",
    "broader = \"madsrdf:hasBroaderAuthority {} ; \\n\"\n",
    "closeExternal = \"madsrdf:hasCloseExternalAuthority {} ; \\n\"\n",
    "exactExternal = \"madsrdf:hasExactExternalAuthority {} ; \\n\"\n",
    "hasVariant = \"madsrdf:hasVariant {} ; \\n\"\n",
    "\n",
    "variant = \"\"\"[ a madsrdf:Topic,\n",
    "                madsrdf:Variant ;\n",
    "            madsrdf:elementList ( [ a madsrdf:TopicElement ;\n",
    "                        madsrdf:elementValue \"{value}\"@{lang} ] ) ;\n",
    "            madsrdf:variantLabel \"{value}\"@{lang} ]\"\"\"\n",
    "\n",
    "variants = list()\n",
    "for i in request.hasVariant:\n",
    "    v = variant.format(**i)\n",
    "    variants.append(v)\n",
    "\n",
    "x = f\"{graph} \\\n",
    "{ broader.format(', '.join([ f'<{i}>' for i in request.hasBroaderAuthority])) if request.hasBroaderAuthority else '' } \\\n",
    "{ closeExternal.format(', '.join([ f'<{i}>' for i in request.hasCloseExternalAuthority])) if request.hasCloseExternalAuthority else '' } \\\n",
    "        { exactExternal.format(', '.join([ f'<{i}>' for i in request.hasExactExternalAuthority])) if request.hasExactExternalAuthority else '' } \\\n",
    "    { hasVariant.format(', '.join(variants)) if request.hasVariant else '' } }} }}\"\n",
    "print(x)"
   ]
  },
  {
   "cell_type": "code",
   "execution_count": 8,
   "metadata": {},
   "outputs": [],
   "source": [
    "fuseki_update = FusekiUpdate('http://localhost:3030', 'authorities')"
   ]
  },
  {
   "cell_type": "code",
   "execution_count": 18,
   "metadata": {},
   "outputs": [
    {
     "data": {
      "text/plain": [
       "{'statusCode': 200, 'message': 'Update succeeded'}"
      ]
     },
     "execution_count": 18,
     "metadata": {},
     "output_type": "execute_result"
    }
   ],
   "source": [
    "response = fuseki_update.run_sparql(x)\n",
    "response.convert()"
   ]
  },
  {
   "cell_type": "code",
   "execution_count": 2,
   "metadata": {},
   "outputs": [
    {
     "data": {
      "text/plain": [
       "{'statusCode': 200, 'message': 'Update succeeded'}"
      ]
     },
     "execution_count": 2,
     "metadata": {},
     "output_type": "execute_result"
    }
   ],
   "source": [
    "fuseki_update = FusekiUpdate('http://localhost:3030', 'authorities')\n",
    "\n",
    "d = \"\"\"DELETE { graph ?g { ?s ?p ?o } } \n",
    "        WHERE {\n",
    "        graph ?g {?s ?p ?o.}\n",
    "        }\"\"\"\n",
    "\n",
    "response = fuseki_update.run_sparql(d)\n",
    "response.convert()"
   ]
  },
  {
   "cell_type": "code",
   "execution_count": 23,
   "metadata": {},
   "outputs": [
    {
     "data": {
      "text/plain": [
       "<Graph identifier=N5177ed9befcc4810871e74518a3d960a (<class 'rdflib.graph.Graph'>)>"
      ]
     },
     "execution_count": 23,
     "metadata": {},
     "output_type": "execute_result"
    }
   ],
   "source": [
    "g.parse('https://www.loc.gov/standards/mads/rdf/v1/examples/sh85017405.ttl', format='ttl')"
   ]
  },
  {
   "cell_type": "code",
   "execution_count": 31,
   "metadata": {},
   "outputs": [
    {
     "data": {
      "text/plain": [
       "<Graph identifier=Nde9974b3e3f24e3db4ab813f596d48e9 (<class 'rdflib.graph.Graph'>)>"
      ]
     },
     "execution_count": 31,
     "metadata": {},
     "output_type": "execute_result"
    }
   ],
   "source": [
    "g.serialize('topic.ttl', format='ttl')"
   ]
  },
  {
   "attachments": {},
   "cell_type": "markdown",
   "metadata": {},
   "source": [
    "POST TOPIC"
   ]
  },
  {
   "cell_type": "code",
   "execution_count": 32,
   "metadata": {},
   "outputs": [],
   "source": [
    "prefix = \"\"\"PREFIX rdf: <http://www.w3.org/1999/02/22-rdf-syntax-ns#> \n",
    "PREFIX madsrdf: <http://www.loc.gov/mads/rdf/v1#> \n",
    "PREFIX owl: <http://www.w3.org/2002/07/owl#> \n",
    "PREFIX ri: <http://id.loc.gov/ontologies/RecordInfo#> \n",
    "PREFIX subjects: <https://bibliokeia.com/authorities/subjects/> \n",
    "PREFIX ri: <http://id.loc.gov/ontologies/RecordInfo#> \"\"\""
   ]
  },
  {
   "cell_type": "code",
   "execution_count": 11,
   "metadata": {},
   "outputs": [],
   "source": [
    "topic =\"\"\"PREFIX rdf: <http://www.w3.org/1999/02/22-rdf-syntax-ns#> \n",
    "PREFIX madsrdf: <http://www.loc.gov/mads/rdf/v1#> \n",
    "PREFIX owl: <http://www.w3.org/2002/07/owl#> \n",
    "PREFIX ri: <http://id.loc.gov/ontologies/RecordInfo#> \n",
    "PREFIX bk: <https://bibliokeia.com/authorities/subjects/> \n",
    "\n",
    "INSERT DATA {\n",
    "    GRAPH bk:sh85017405 {\n",
    "    bk:sh85017405\n",
    "    madsrdf:adminMetadata [\n",
    "        ri:recordChangeDate \"1986-02-11T00:00:00\"^^<http://www.w3.org/2001/XMLSchema#dateTime> ;\n",
    "        ri:recordContentSource <http://id.loc.gov/vocabulary/organizations/dlc> ;\n",
    "        ri:recordStatus \"new\"^^<http://www.w3.org/2001/XMLSchema#string> ;\n",
    "        a ri:RecordInfo\n",
    "    ] ;\n",
    "    madsrdf:authoritativeLabel \"Bubo bubo\"@en ;\n",
    "    madsrdf:classification \"QL696.S83\" ;\n",
    "    madsrdf:elementList ([\n",
    "            madsrdf:elementValue \"Bubo bubo\" ;\n",
    "            a madsrdf:TopicElement\n",
    "        ]\n",
    "    ) ;\n",
    "    madsrdf:hasBroaderAuthority <http://id.loc.gov/authorities/sh85017404> ;\n",
    "    madsrdf:hasEarlierEstablishedForm <http://id.loc.gov/authorities/sh85017405> ;\n",
    "    madsrdf:hasSource [\n",
    "        madsrdf:citation-note \"(for Genus bubo)\"@en ;\n",
    "        madsrdf:citation-source \"Web. 3\" ;\n",
    "        madsrdf:citation-status \"found\" ;\n",
    "        a madsrdf:Source\n",
    "    ], [\n",
    "        madsrdf:citation-note \"(Bubo bubo)\"@en ;\n",
    "        madsrdf:citation-source \"Howard birds world\" ;\n",
    "        madsrdf:citation-status \"found\" ;\n",
    "        a madsrdf:Source\n",
    "    ] ;\n",
    "    madsrdf:hasVariant [\n",
    "        madsrdf:elementList ([\n",
    "                madsrdf:elementValue \"Eagle owl\" ;\n",
    "                a madsrdf:TopicElement\n",
    "            ]\n",
    "        ) ;\n",
    "        madsrdf:variantLabel \"Eagle owl\"@en ;\n",
    "        a madsrdf:Topic, madsrdf:Variant\n",
    "    ], [\n",
    "        madsrdf:elementList ([\n",
    "                madsrdf:elementValue \"Great eagle owl\" ;\n",
    "                a madsrdf:TopicElement\n",
    "            ]\n",
    "        ) ;\n",
    "        madsrdf:variantLabel \"Great eagle owl\"@en ;\n",
    "        a madsrdf:Topic, madsrdf:Variant\n",
    "    ], [\n",
    "        madsrdf:elementList ([\n",
    "                madsrdf:elementValue \"Northern eagle owl\" ;\n",
    "                a madsrdf:TopicElement\n",
    "            ]\n",
    "        ) ;\n",
    "        madsrdf:variantLabel \"Northern eagle owl\"@en ;\n",
    "        a madsrdf:Topic, madsrdf:Variant\n",
    "    ] ;\n",
    "    madsrdf:isMemberOfMADSCollection <http://id.loc.gov/authorities/collection_AuthorizedHeadings>, <http://id.loc.gov/authorities/collection_LCSH_General>, <http://id.loc.gov/authorities/collection_SubdivideGeographicalIndirect> ;\n",
    "    madsrdf:isMemberOfMADSScheme <http://id.loc.gov/authorities/lcsh> ;\n",
    "    a madsrdf:Authority, madsrdf:Topic ;\n",
    "    owl:sameAs <http://id.loc.gov/authorities/sh85017405#concept>, <info:lc/authorities/sh85017405> .\n",
    "    \n",
    "    }\n",
    "}\"\"\""
   ]
  },
  {
   "cell_type": "code",
   "execution_count": 12,
   "metadata": {},
   "outputs": [
    {
     "data": {
      "text/plain": [
       "{'statusCode': 200, 'message': 'Update succeeded'}"
      ]
     },
     "execution_count": 12,
     "metadata": {},
     "output_type": "execute_result"
    }
   ],
   "source": [
    "response = fuseki_update.run_sparql(topic)\n",
    "response.convert()"
   ]
  },
  {
   "cell_type": "code",
   "execution_count": 13,
   "metadata": {},
   "outputs": [
    {
     "data": {
      "text/plain": [
       "<Graph identifier=Nccdedf49a77545199c0cfbcd222f62de (<class 'rdflib.graph.Graph'>)>"
      ]
     },
     "execution_count": 13,
     "metadata": {},
     "output_type": "execute_result"
    }
   ],
   "source": [
    "uri = f'http://localhost:3030/authorities?graph=https://bibliokeia.com/authorities/subjects/sh85017405'\n",
    "r = httpx.get(uri)\n",
    "g = Graph()\n",
    "g.parse(r.content)\n",
    "g.serialize('subjects.nt')"
   ]
  },
  {
   "attachments": {},
   "cell_type": "markdown",
   "metadata": {},
   "source": [
    "Edit Authority\n",
    "ENDPOINT: \n",
    "@put\n",
    "mads/authority \n",
    "\n",
    "REQUEST:\n",
    "{ 'oldValue' : string,\n",
    "    'oldLang': string,\n",
    "    'newValue': string,\n",
    "    'newLang: string\n",
    "}"
   ]
  },
  {
   "cell_type": "code",
   "execution_count": 16,
   "metadata": {},
   "outputs": [],
   "source": [
    "subject_id = \"sh85017405\""
   ]
  },
  {
   "cell_type": "code",
   "execution_count": 23,
   "metadata": {},
   "outputs": [
    {
     "data": {
      "text/plain": [
       "{'statusCode': 200, 'message': 'Update succeeded'}"
      ]
     },
     "execution_count": 23,
     "metadata": {},
     "output_type": "execute_result"
    }
   ],
   "source": [
    "\n",
    "\n",
    "upLabel = prefix+\"WITH subjects:\"+subject_id+\"\"\"\n",
    "                DELETE { subjects:\"\"\"+subject_id+\"\"\" madsrdf:authoritativeLabel ?o }\n",
    "                INSERT { subjects:\"\"\"+subject_id+\"\"\" madsrdf:authoritativeLabel \"Bubo\"@en }\n",
    "                WHERE { subjects:\"\"\"+subject_id+\"\"\" madsrdf:authoritativeLabel ?o }\"\"\"\n",
    "\n",
    "response = fuseki_update.run_sparql(upLabel)\n",
    "response.convert()"
   ]
  },
  {
   "cell_type": "code",
   "execution_count": 22,
   "metadata": {},
   "outputs": [
    {
     "data": {
      "text/plain": [
       "{'statusCode': 200, 'message': 'Update succeeded'}"
      ]
     },
     "execution_count": 22,
     "metadata": {},
     "output_type": "execute_result"
    }
   ],
   "source": [
    "upValue = prefix+\"WITH subjects:\"+subject_id+\"\"\"\n",
    "            DELETE { subjects:sh85017405 madsrdf:elementList ?elementList .\n",
    "    ?elementList rdf:first ?element .\n",
    "    ?element madsrdf:elementValue \"Bubo bubo\" }\n",
    "            INSERT { subjects:sh85017405 madsrdf:elementList ?elementList .\n",
    "    ?elementList rdf:first ?element .\n",
    "    ?element madsrdf:elementValue \"Bubo\" }\n",
    "            WHERE { subjects:sh85017405 madsrdf:elementList ?elementList .\n",
    "    ?elementList rdf:first ?element .\n",
    "    ?element madsrdf:elementValue \"Bubo bubo\" }\"\"\"\n",
    "\n",
    "response = fuseki_update.run_sparql(upValue)\n",
    "response.convert()"
   ]
  },
  {
   "attachments": {},
   "cell_type": "markdown",
   "metadata": {},
   "source": [
    "EDIT VARIANT"
   ]
  },
  {
   "attachments": {},
   "cell_type": "markdown",
   "metadata": {},
   "source": [
    "Acrescenta uma variant: <br>\n",
    "@post<br>\n",
    "ENDPOINT:<br>\n",
    "mads/variant<br>\n"
   ]
  },
  {
   "cell_type": "code",
   "execution_count": 24,
   "metadata": {},
   "outputs": [
    {
     "data": {
      "text/plain": [
       "{'statusCode': 200, 'message': 'Update succeeded'}"
      ]
     },
     "execution_count": 24,
     "metadata": {},
     "output_type": "execute_result"
    }
   ],
   "source": [
    "insert = prefix+\"\"\"INSERT DATA\n",
    "{ GRAPH subjects:\"\"\"+subject_id+\"\"\" { \n",
    "    subjects:\"\"\"+subject_id+\"\"\" madsrdf:hasVariant [\n",
    "    rdf:type madsrdf:Topic;\n",
    "    rdf:type madsrdf:Variant ;\n",
    "    madsrdf:elementList ( [\n",
    "    rdf:type madsrdf:TopicElement;\n",
    "    madsrdf:elementValue 'NOVA VARIANTE'\n",
    "    ]);\n",
    "    madsrdf:variantLabel 'NOVA VARIANTE'\n",
    "    ] \n",
    " } }\"\"\"\n",
    "\n",
    "response = fuseki_update.run_sparql(insert)\n",
    "response.convert()"
   ]
  },
  {
   "attachments": {},
   "cell_type": "markdown",
   "metadata": {},
   "source": [
    "Exclui uma variant: <br>\n",
    "@del<br>\n",
    "ENDPOINT:<br>\n",
    "mads/variant<br>"
   ]
  },
  {
   "cell_type": "code",
   "execution_count": 28,
   "metadata": {},
   "outputs": [
    {
     "data": {
      "text/plain": [
       "{'statusCode': 200, 'message': 'Update succeeded'}"
      ]
     },
     "execution_count": 28,
     "metadata": {},
     "output_type": "execute_result"
    }
   ],
   "source": [
    "up = prefix+\"WITH subjects:\"+subject_id+\"\"\"\n",
    "\n",
    "        DELETE {  subjects:sh85017405 madsrdf:hasVariant ?hasVariant .\n",
    "    ?hasVariant ?p1  \"Eagle owl\"@en .\n",
    "    ?hasVariant rdf:type madsrdf:Variant  .\n",
    "    ?hasVariant rdf:type madsrdf:Topic  .\n",
    "     ?hasVariant madsrdf:elementList ?elementList .\n",
    "    ?elementList rdf:first ?element . \n",
    "    ?elementList rdf:rest rdf:nil . \n",
    "    ?element ?p3 \"Eagle owl\" .\n",
    "    ?element rdf:type madsrdf:TopicElement \n",
    "      }  \n",
    "      WHERE {\n",
    "     subjects:sh85017405 madsrdf:hasVariant ?hasVariant .\n",
    "    ?hasVariant ?p1  \"Eagle owl\"@en .\n",
    "    ?hasVariant rdf:type madsrdf:Variant  .\n",
    "    ?hasVariant rdf:type madsrdf:Topic  .\n",
    "     ?hasVariant madsrdf:elementList ?elementList .\n",
    "    ?elementList rdf:first ?element . \n",
    "    ?elementList rdf:rest rdf:nil . \n",
    "    ?element ?p3 \"Eagle owl\" .\n",
    "    ?element rdf:type madsrdf:TopicElement \n",
    "      \n",
    "      }           \n",
    "      \"\"\"\n",
    "response = fuseki_update.run_sparql(up)\n",
    "response.convert()"
   ]
  },
  {
   "attachments": {},
   "cell_type": "markdown",
   "metadata": {},
   "source": [
    "Editar uma variant: <br>\n",
    "@put<br>\n",
    "ENDPOINT:<br>\n",
    "mads/variant<br>"
   ]
  },
  {
   "cell_type": "code",
   "execution_count": 29,
   "metadata": {},
   "outputs": [
    {
     "data": {
      "text/plain": [
       "{'statusCode': 200, 'message': 'Update succeeded'}"
      ]
     },
     "execution_count": 29,
     "metadata": {},
     "output_type": "execute_result"
    }
   ],
   "source": [
    "up = prefix+\"WITH subjects:\"+subject_id+\"\"\"\n",
    "        DELETE {  subjects:sh85017405 madsrdf:hasVariant ?hasVariant .\n",
    "    ?hasVariant ?p1  \"Great eagle owl\"@en .\n",
    "    ?hasVariant rdf:type madsrdf:Variant  .\n",
    "    ?hasVariant rdf:type madsrdf:Topic  .\n",
    "     ?hasVariant madsrdf:elementList ?elementList .\n",
    "    ?elementList rdf:first ?element . \n",
    "    ?elementList rdf:rest rdf:nil . \n",
    "    ?element ?p3 \"Great eagle owl\" .\n",
    "    ?element rdf:type madsrdf:TopicElement \n",
    "      }  \n",
    "      INSERT {\n",
    "      subjects:sh85017405 madsrdf:hasVariant ?hasVariant .\n",
    "    ?hasVariant ?p1  \"GRANDE AGUIA\"@pt .\n",
    "    ?hasVariant rdf:type madsrdf:Variant  .\n",
    "    ?hasVariant rdf:type madsrdf:Topic  .\n",
    "     ?hasVariant madsrdf:elementList ?elementList .\n",
    "    ?elementList rdf:first ?element . \n",
    "    ?elementList rdf:rest rdf:nil . \n",
    "    ?element ?p3 \"GRANDE AGUIA\" .\n",
    "    ?element rdf:type madsrdf:TopicElement \n",
    "      }\n",
    "      WHERE {\n",
    "     subjects:sh85017405 madsrdf:hasVariant ?hasVariant .\n",
    "    ?hasVariant ?p1  \"Great eagle owl\"@en .\n",
    "    ?hasVariant rdf:type madsrdf:Variant  .\n",
    "    ?hasVariant rdf:type madsrdf:Topic  .\n",
    "     ?hasVariant madsrdf:elementList ?elementList .\n",
    "    ?elementList rdf:first ?element . \n",
    "    ?elementList rdf:rest rdf:nil . \n",
    "    ?element ?p3 \"Great eagle owl\" .\n",
    "    ?element rdf:type madsrdf:TopicElement \n",
    "      }           \n",
    "      \"\"\"\n",
    "response = fuseki_update.run_sparql(up)\n",
    "response.convert()"
   ]
  },
  {
   "attachments": {},
   "cell_type": "markdown",
   "metadata": {},
   "source": [
    "\n",
    "\n",
    "Adiciona um termo restrito: <br>\n",
    "@post<br>\n",
    "ENDPOINT:<br>\n",
    "mads/hasBroaderAuthority<br>\n"
   ]
  },
  {
   "cell_type": "code",
   "execution_count": 30,
   "metadata": {},
   "outputs": [
    {
     "data": {
      "text/plain": [
       "{'statusCode': 200, 'message': 'Update succeeded'}"
      ]
     },
     "execution_count": 30,
     "metadata": {},
     "output_type": "execute_result"
    }
   ],
   "source": [
    "insert = prefix+\"\"\"INSERT DATA\n",
    "{ GRAPH subjects:\"\"\"+subject_id+\"\"\" { \n",
    "    subjects:\"\"\"+subject_id+\"\"\" madsrdf:hasBroaderAuthority <http://id.loc.gov/authorities/TESTE>\n",
    " } }\"\"\"\n",
    "\n",
    "response = fuseki_update.run_sparql(insert)\n",
    "response.convert()"
   ]
  },
  {
   "attachments": {},
   "cell_type": "markdown",
   "metadata": {},
   "source": [
    "DELETE"
   ]
  },
  {
   "cell_type": "code",
   "execution_count": 31,
   "metadata": {},
   "outputs": [
    {
     "data": {
      "text/plain": [
       "{'statusCode': 200, 'message': 'Update succeeded'}"
      ]
     },
     "execution_count": 31,
     "metadata": {},
     "output_type": "execute_result"
    }
   ],
   "source": [
    "up = prefix+\"WITH subjects:\"+subject_id+\"\"\"\n",
    "\n",
    "        DELETE {  subjects:\"\"\"+subject_id+\"\"\" madsrdf:hasBroaderAuthority <http://id.loc.gov/authorities/TESTE>\n",
    "      }  \n",
    "      WHERE {\n",
    "     subjects:\"\"\"+subject_id+\"\"\" madsrdf:hasBroaderAuthority <http://id.loc.gov/authorities/TESTE>\n",
    "      \n",
    "      }           \n",
    "      \"\"\"\n",
    "response = fuseki_update.run_sparql(up)\n",
    "response.convert()"
   ]
  },
  {
   "cell_type": "code",
   "execution_count": null,
   "metadata": {},
   "outputs": [],
   "source": [
    "up = prefix+\"WITH subjects:\"+subject_id+\"\"\"\n",
    "        DELETE {  subjects:sh85017405 madsrdf:adminMetadata ?adminMetadata .\n",
    "    ?adminMetadata ri:recordChangeDate ?o  \n",
    "      }  \n",
    "      INSERT {\n",
    "      subjects:sh85017405 madsrdf:adminMetadata ?adminMetadata .\n",
    "    ?adminMetadata ri:recordChangeDate ?o  \n",
    "      }\n",
    "      WHERE {\n",
    "    subjects:sh85017405 madsrdf:adminMetadata ?adminMetadata .\n",
    "    ?adminMetadata ri:recordChangeDate ?o  \n",
    "      }           \n",
    "      \"\"\"\n",
    "response = fuseki_update.run_sparql(up)\n",
    "response.convert()"
   ]
  },
  {
   "cell_type": "markdown",
   "metadata": {},
   "source": [
    "SCHEMA"
   ]
  },
  {
   "cell_type": "code",
   "execution_count": 3,
   "metadata": {},
   "outputs": [
    {
     "data": {
      "text/plain": [
       "<Graph identifier=N320154073f3c45bf8ab2e6f4b7be491b (<class 'rdflib.graph.Graph'>)>"
      ]
     },
     "execution_count": 3,
     "metadata": {},
     "output_type": "execute_result"
    }
   ],
   "source": [
    "uri = \"http://localhost:3030/authorities?graph=https:%2F%2Fbibliokeia.com%2Fauthorities%2Ftopic%2Fsh85017405\"\n",
    "r = httpx.get(uri)\n",
    "g = Graph()\n",
    "g.parse(r.content)\n",
    "g.serialize('bk-1.ttl')"
   ]
  }
 ],
 "metadata": {
  "kernelspec": {
   "display_name": "Python 3.11.0 ('venv': venv)",
   "language": "python",
   "name": "python3"
  },
  "language_info": {
   "codemirror_mode": {
    "name": "ipython",
    "version": 3
   },
   "file_extension": ".py",
   "mimetype": "text/x-python",
   "name": "python",
   "nbconvert_exporter": "python",
   "pygments_lexer": "ipython3",
   "version": "3.10.4"
  },
  "orig_nbformat": 4,
  "vscode": {
   "interpreter": {
    "hash": "5df21a170a08fe7c24b5b1091267edae5bad3984f1116f28e957af7dd8f192dc"
   }
  }
 },
 "nbformat": 4,
 "nbformat_minor": 2
}
